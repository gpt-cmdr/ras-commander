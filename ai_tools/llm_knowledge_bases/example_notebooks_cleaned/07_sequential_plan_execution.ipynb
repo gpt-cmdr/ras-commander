{
  "cells": [
    {
      "cell_type": "markdown",
      "metadata": {},
      "source": [
        "# RAS Commander: Sequential Plan Execution\n",
        "\n",
        "This notebook demonstrates how to sequentially execute multiple HEC-RAS plans using the RAS Commander library. Sequential execution is useful for batch processing plans that need to be run in a specific order or when you want to ensure consistent resource usage across multiple runs.\n",
        "\n",
        "## Operations Covered\n",
        "\n",
        "1. **Project Initialization**: Initialize a HEC-RAS project by specifying the project path and version\n",
        "2. **Sequential Execution of All Plans**: Run all plans in a project sequentially in a test folder\n",
        "3. **Selective Plan Execution**: Run only specific plans in sequence\n",
        "4. **Geometry Preprocessor Management**: Clear geometry preprocessor files before execution\n",
        "5. **Execution Result Analysis**: Track and analyze the results of sequential executions\n",
        "6. **Performance Monitoring**: Monitor and compare execution times across different runs\n",
        "\n",
        "Let's begin by importing the necessary libraries and setting up our environment."
      ]
    },
    {
      "cell_type": "markdown",
      "metadata": {},
      "source": [
        "## Package Installation and Environment Setup\n",
        "Uncomment and run package installation commands if needed"
      ]
    },
    {
      "cell_type": "code",
      "execution_count": 1,
      "metadata": {},
      "outputs": [],
      "source": [
        "# Install ras-commander from pip (uncomment to install if needed)\n",
        "#!pip install ras-commander\n",
        "# This installs ras-commander and all dependencies"
      ]
    },
    {
      "cell_type": "code",
      "execution_count": 2,
      "metadata": {},
      "outputs": [],
      "source": [
        "# Import all required modules\n",
        "\n",
        "# Import all ras-commander modules\n",
        "from ras_commander import *\n",
        "\n",
        "# Import the required libraries for this notebook\n",
        "import numpy as np\n",
        "import pandas as pd\n",
        "from IPython import display\n",
        "from pathlib import Path\n",
        "import matplotlib.pyplot as plt\n",
        "import psutil  # For getting system CPU info\n",
        "from concurrent.futures import ThreadPoolExecutor, as_completed\n",
        "import time\n",
        "import subprocess\n",
        "import sys\n",
        "import os\n",
        "import shutil"
      ]
    },
    {
      "cell_type": "code",
      "execution_count": 3,
      "metadata": {},
      "outputs": [
        {
          "name": "stderr",
          "output_type": "stream",
          "text": [
            "2025-03-19 11:57:21 - ras_commander.RasExamples - INFO - Found zip file: c:\\GH\\ras-commander\\examples\\Example_Projects_6_6.zip\n",
            "2025-03-19 11:57:21 - ras_commander.RasExamples - INFO - Loading project data from CSV...\n",
            "2025-03-19 11:57:21 - ras_commander.RasExamples - INFO - Loaded 68 projects from CSV.\n",
            "2025-03-19 11:57:21 - ras_commander.RasExamples - INFO - ----- RasExamples Extracting Project -----\n",
            "2025-03-19 11:57:21 - ras_commander.RasExamples - INFO - Extracting project 'Balde Eagle Creek'\n",
            "2025-03-19 11:57:21 - ras_commander.RasExamples - INFO - Project 'Balde Eagle Creek' already exists. Deleting existing folder...\n",
            "2025-03-19 11:57:21 - ras_commander.RasExamples - INFO - Existing folder for project 'Balde Eagle Creek' has been deleted.\n",
            "2025-03-19 11:57:21 - ras_commander.RasExamples - INFO - Successfully extracted project 'Balde Eagle Creek' to c:\\GH\\ras-commander\\examples\\example_projects\\Balde Eagle Creek\n"
          ]
        },
        {
          "name": "stdout",
          "output_type": "stream",
          "text": [
            "Extracted project to: c:\\GH\\ras-commander\\examples\\example_projects\\Balde Eagle Creek\n",
            "Bald Eagle Creek project exists: True\n"
          ]
        }
      ],
      "source": [
        "# Extract the Bald Eagle Creek example project\n",
        "# The extract_project method downloads the project from GitHub if not already present,\n",
        "# and extracts it to the example_projects folder\n",
        "bald_eagle_path = RasExamples.extract_project(\"Balde Eagle Creek\")\n",
        "print(f\"Extracted project to: {bald_eagle_path}\")  \n",
        "\n",
        "\n",
        "# Verify the path exists\n",
        "print(f\"Bald Eagle Creek project exists: {bald_eagle_path.exists()}\")"
      ]
    },
    {
      "cell_type": "code",
      "execution_count": 4,
      "metadata": {},
      "outputs": [
        {
          "name": "stdout",
          "output_type": "stream",
          "text": [
            "Examples directory set to: c:\\GH\\ras-commander\\examples\\example_projects\n",
            "Removing existing test folder: c:\\GH\\ras-commander\\examples\\example_projects\\Balde Eagle Creek [SpecificSequential]\n"
          ]
        }
      ],
      "source": [
        "# define examples_dir as parent of bald_eagle_path\n",
        "examples_dir = bald_eagle_path.parent\n",
        "print(f\"Examples directory set to: {examples_dir}\")\n",
        "\n",
        "    \n",
        "# Remove any compute test folders from previous runs\n",
        "for folder in examples_dir.glob(\"*[[]AllSequential[]]*\"):\n",
        "    if folder.is_dir():\n",
        "        print(f\"Removing existing test folder: {folder}\")\n",
        "        shutil.rmtree(folder)\n",
        "        \n",
        "for folder in examples_dir.glob(\"*[[]SpecificSequential*[]]*\"):\n",
        "    if folder.is_dir():\n",
        "        print(f\"Removing existing test folder: {folder}\")\n",
        "        shutil.rmtree(folder)\n"
      ]
    },
    {
      "cell_type": "markdown",
      "metadata": {},
      "source": [
        "## Understanding Sequential Execution in HEC-RAS\n",
        "\n",
        "HEC-RAS simulations can be executed in several ways:\n",
        "\n",
        "1. **Single Plan Execution**: Run one plan at a time using `RasCmdr.compute_plan()`\n",
        "2. **Sequential Execution**: Run multiple plans one after another using `RasCmdr.compute_test_mode()`\n",
        "3. **Parallel Execution**: Run multiple plans simultaneously using `RasCmdr.compute_parallel()`\n",
        "\n",
        "This notebook focuses on the second approach: **Sequential Execution**. Here are the key benefits of sequential execution:\n",
        "\n",
        "- **Controlled Resource Usage**: By running plans one at a time, you ensure consistent resource usage\n",
        "- **Dependency Management**: When later plans depend on results from earlier plans\n",
        "- **Simplified Debugging**: Easier to identify which plan is causing an issue when they run sequentially\n",
        "- **Consistent Test Environment**: All plans run in the same isolated folder\n",
        "\n",
        "The `compute_test_mode()` function from `RasCmdr` is specifically designed for this purpose. It creates a separate test folder, copies the project there, and executes the specified plans in sequential order."
      ]
    },
    {
      "cell_type": "markdown",
      "metadata": {},
      "source": [
        "## Downloading and Extracting Example HEC-RAS Project\n",
        "\n",
        "Let's use the `RasExamples` class to download and extract the \"Balde Eagle Creek\" example project."
      ]
    },
    {
      "cell_type": "markdown",
      "metadata": {},
      "source": [
        "## Step 1: Project Initialization\n",
        "\n",
        "Let's initialize the HEC-RAS project using the `init_ras_project()` function."
      ]
    },
    {
      "cell_type": "code",
      "execution_count": 5,
      "metadata": {},
      "outputs": [
        {
          "name": "stderr",
          "output_type": "stream",
          "text": [
            "2025-03-19 11:57:21 - ras_commander.RasPrj - INFO - Initializing global 'ras' object via init_ras_project function.\n",
            "2025-03-19 11:57:21 - ras_commander.RasPrj - INFO - Project initialized. ras_object project folder: c:\\GH\\ras-commander\\examples\\example_projects\\Balde Eagle Creek\n"
          ]
        },
        {
          "name": "stdout",
          "output_type": "stream",
          "text": [
            "Initialized HEC-RAS project: BaldEagle\n",
            "\n",
            "HEC-RAS Project Plan Data:\n"
          ]
        },
        {
          "data": {
            "text/html": "<div>\n<style scoped>\\n', '    .dataframe tbody tr th:only-of-type {\\n', '        vertical-align: middle;\\n', '    }\\n', '\\n', '    .dataframe tbody tr th {\\n', '        vertical-align: top;\\n', '    }\\n', '\\n', '    .dataframe thead th {\\n', '        text-align: right;\\n', '    }\\n', '</style>\n<table border=\"1\" class=\"dataframe\">\n  <thead>\\n', '    <tr style=\"text-align: right;\">\\n', '      <th></th>\\n', '      <th>plan_number</th>\\n', '      <th>unsteady_number</th>\\n', '      <th>geometry_number</th>\\n', '      <th>Plan Title</th>\\n', '      <th>Program Version</th>\\n', '      <th>Short Identifier</th>\\n', '      <th>Simulation Date</th>\\n', '      <th>Computation Interval</th>\\n', '      <th>Mapping Interval</th>\\n', '      <th>Run HTab</th>\\n', '      <th>...</th>\\n', '      <th>UNET D1 Cores</th>\\n', '      <th>UNET D2 Cores</th>\\n', '      <th>PS Cores</th>\\n', '      <th>DSS File</th>\\n', '      <th>Friction Slope Method</th>\\n', '      <th>Geom File</th>\\n', '      <th>Geom Path</th>\\n', '      <th>Flow File</th>\\n', '      <th>Flow Path</th>\\n', '      <th>full_path</th>\\n', '    </tr>\\n', '  </thead>\n  <tbody>\n    <tr>\\n', '      <th>0</th>\\n', '      <td>01</td>\\n', '      <td>02</td>\\n', '      <td>01</td>\\n', '      <td>Unsteady with Bridges and Dam</td>\\n', '      <td>5.00</td>\\n', '      <td>UnsteadyFlow</td>\\n', '      <td>18FEB1999,0000,24FEB1999,0500</td>\\n', '      <td>2MIN</td>\\n', '      <td>1HOUR</td>\\n', '      <td>1</td>\\n', '      <td>...</td>\\n', '      <td>0.0</td>\\n', '      <td>0.0</td>\\n', '      <td>None</td>\\n', '      <td>dss</td>\\n', '      <td>2</td>\\n', '      <td>01</td>\\n', '      <td>c:\\\\GH\\\\ras-commander\\\\examples\\\\example_projects\\\\...</td>\\n', '      <td>02</td>\\n', '      <td>c:\\\\GH\\\\ras-commander\\\\examples\\\\example_projects\\\\...</td>\\n', '      <td>c:\\\\GH\\\\ras-commander\\\\examples\\\\example_projects\\\\...</td>\\n', '    </tr><tr>\\n', '      <th>1</th>\\n', '      <td>02</td>\\n', '      <td>None</td>\\n', '      <td>01</td>\\n', '      <td>Steady Flow Run</td>\\n', '      <td>NaN</td>\\n', '      <td>SteadyRun</td>\\n', '      <td>02/18/1999,0000,02/24/1999,0500</td>\\n', '      <td>2MIN</td>\\n', '      <td>NaN</td>\\n', '      <td>1</td>\\n', '      <td>...</td>\\n', '      <td>NaN</td>\\n', '      <td>NaN</td>\\n', '      <td>None</td>\\n', '      <td>dss</td>\\n', '      <td>1</td>\\n', '      <td>01</td>\\n', '      <td>c:\\\\GH\\\\ras-commander\\\\examples\\\\example_projects\\\\...</td>\\n', '      <td>02</td>\\n', '      <td>c:\\\\GH\\\\ras-commander\\\\examples\\\\example_projects\\\\...</td>\\n', '      <td>c:\\\\GH\\\\ras-commander\\\\examples\\\\example_projects\\\\...</td>\\n', '    </tr>\n    <tr><td colspan=\"100%\" style=\"text-align:center\">[... additional rows truncated ...]</td></tr>\n  </tbody>\n</table>\n</div>",
            "text/plain": [
              "  plan_number unsteady_number geometry_number                     Plan Title  \\\n",
              "0          01              02              01  Unsteady with Bridges and Dam   \n",
              "1          02            None              01                Steady Flow Run   \n",
              "\n",
              "  Program Version Short Identifier                  Simulation Date  \\\n",
              "0            5.00     UnsteadyFlow    18FEB1999,0000,24FEB1999,0500   \n",
              "1             NaN        SteadyRun  02/18/1999,0000,02/24/1999,0500   \n",
              "\n",
              "  Computation Interval Mapping Interval Run HTab  ... UNET D1 Cores  \\\n",
              "0                 2MIN            1HOUR        1  ...           0.0   \n",
              "1                 2MIN              NaN        1  ...           NaN   \n",
              "\n",
              "  UNET D2 Cores PS Cores DSS File Friction Slope Method Geom File  \\\n",
              "0           0.0     None      dss                     2        01   \n",
              "1           NaN     None      dss                     1        01   \n",
              "\n",
              "                                           Geom Path  Flow File  \\\n",
              "0  c:\\GH\\ras-commander\\examples\\example_projects\\...         02   \n",
              "1  c:\\GH\\ras-commander\\examples\\example_projects\\...         02   \n",
              "\n",
              "                                           Flow Path  \\\n",
              "0  c:\\GH\\ras-commander\\examples\\example_projects\\...   \n",
              "1  c:\\GH\\ras-commander\\examples\\example_projects\\...   \n",
              "\n",
              "                                           full_path  \n",
              "0  c:\\GH\\ras-commander\\examples\\example_projects\\...  \n",
              "1  c:\\GH\\ras-commander\\examples\\example_projects\\...  \n",
              "\n",
              "[2 rows x 26 columns]"
            ]
          },
          "metadata": {},
          "output_type": "display_data"
        },
        {
          "name": "stdout",
          "output_type": "stream",
          "text": [
            "Found 2 plans in the project\n"
          ]
        }
      ],
      "source": [
        "# Initialize the HEC-RAS project\n",
        "init_ras_project(bald_eagle_path, \"6.6\")\n",
        "print(f\"Initialized HEC-RAS project: {ras.project_name}\")\n",
        "\n",
        "# Display the current plan files in the project\n",
        "print(\"\\nHEC-RAS Project Plan Data:\")\n",
        "display.display(ras.plan_df)\n",
        "\n",
        "# Check how many plans we have\n",
        "plan_count = len(ras.plan_df)\n",
        "print(f\"Found {plan_count} plans in the project\")"
      ]
    },
    {
      "cell_type": "markdown",
      "metadata": {},
      "source": [
        "## Understanding the RasCmdr.compute_test_mode Method\n",
        "\n",
        "Before we start executing plans, let's understand the `compute_test_mode()` method from the `RasCmdr` class, which we'll use for sequential execution.\n",
        "\n",
        "### Key Parameters\n",
        "\n",
        "- `plan_number` (str, list[str], optional): Plan number or list of plan numbers to execute. If None, all plans will be executed.\n",
        "- `dest_folder_suffix` (str, optional): Suffix to append to the test folder name. Defaults to \"[Test]\".\n",
        "- `clear_geompre` (bool, optional): Whether to clear geometry preprocessor files. Defaults to False.\n",
        "- `num_cores` (int, optional): Maximum number of cores to use for each plan. If None, the current setting is not changed.\n",
        "- `ras_object` (RasPrj, optional): Specific RAS object to use. If None, uses the global ras object.\n",
        "- `overwrite_dest` (bool, optional): Whether to overwrite the destination folder if it exists. Defaults to False.\n",
        "\n",
        "### Return Value\n",
        "- `Dict[str, bool]`: Dictionary of plan numbers and their execution success status.\n",
        "\n",
        "### Key Concepts\n",
        "\n",
        "1. **Test Folder**: The function creates a separate folder with the specified suffix, copying the project there for execution.\n",
        "2. **Sequential Execution**: Plans are executed one after another in the specified order.\n",
        "3. **Geometry Preprocessor Files**: These files store precomputed hydraulic properties. Clearing them forces HEC-RAS to recompute these properties.\n",
        "4. **Destination Folder Option**: The suffix determines the name of the test folder. Unlike `compute_plan()`, you can't specify an arbitrary destination folder.\n",
        "5. **Overwrite Option**: Controls whether an existing test folder should be overwritten.\n",
        "\n",
        "Now, let's see how this works in practice."
      ]
    },
    {
      "cell_type": "markdown",
      "metadata": {},
      "source": [
        "## Step 2: Sequential Execution of All Plans\n",
        "\n",
        "Let's execute all plans in the project sequentially. This will create a test folder with the suffix \"[AllSequential]\" and run all plans one after another."
      ]
    },
    {
      "cell_type": "code",
      "execution_count": 6,
      "metadata": {},
      "outputs": [
        {
          "name": "stderr",
          "output_type": "stream",
          "text": [
            "2025-03-19 11:57:21 - ras_commander.RasCmdr - INFO - Starting the compute_test_mode...\n",
            "2025-03-19 11:57:21 - ras_commander.RasCmdr - INFO - Creating the test folder: c:\\GH\\ras-commander\\examples\\example_projects\\Balde Eagle Creek [AllSequential]...\n",
            "2025-03-19 11:57:21 - ras_commander.RasCmdr - INFO - Copied project folder to compute folder: c:\\GH\\ras-commander\\examples\\example_projects\\Balde Eagle Creek [AllSequential]\n",
            "2025-03-19 11:57:21 - ras_commander.RasCmdr - INFO - Initialized RAS project in compute folder: C:\\GH\\ras-commander\\examples\\example_projects\\Balde Eagle Creek [AllSequential]\\BaldEagle.prj\n"
          ]
        },
        {
          "name": "stdout",
          "output_type": "stream",
          "text": [
            "Executing all plans sequentially...\n",
            "This may take several minutes...\n"
          ]
        },
        {
          "name": "stderr",
          "output_type": "stream",
          "text": [
            "2025-03-19 11:57:21 - ras_commander.RasCmdr - INFO - Getting plan entries...\n",
            "2025-03-19 11:57:21 - ras_commander.RasCmdr - INFO - Retrieved plan entries successfully.\n",
            "2025-03-19 11:57:21 - ras_commander.RasCmdr - INFO - Running selected plans sequentially...\n",
            "2025-03-19 11:57:21 - ras_commander.RasCmdr - INFO - Using ras_object with project folder: c:\\GH\\ras-commander\\examples\\example_projects\\Balde Eagle Creek [AllSequential]\n",
            "2025-03-19 11:57:21 - ras_commander.RasCmdr - INFO - Running HEC-RAS from the Command Line:\n",
            "2025-03-19 11:57:21 - ras_commander.RasCmdr - INFO - Running command: \"C:\\Program Files (x86)\\HEC\\HEC-RAS\\6.6\\Ras.exe\" -c \"C:\\GH\\ras-commander\\examples\\example_projects\\Balde Eagle Creek [AllSequential]\\BaldEagle.prj\" \"c:\\GH\\ras-commander\\examples\\example_projects\\Balde Eagle Creek [AllSequential]\\BaldEagle.p01\"\n",
            "2025-03-19 12:00:02 - ras_commander.RasCmdr - INFO - HEC-RAS execution completed for plan: 01\n",
            "2025-03-19 12:00:02 - ras_commander.RasCmdr - INFO - Total run time for plan 01: 161.12 seconds\n",
            "2025-03-19 12:00:02 - ras_commander.RasCmdr - INFO - Successfully computed plan 01\n",
            "2025-03-19 12:00:02 - ras_commander.RasCmdr - INFO - Total run time for plan 01: 161.18 seconds\n",
            "2025-03-19 12:00:02 - ras_commander.RasCmdr - INFO - Using ras_object with project folder: c:\\GH\\ras-commander\\examples\\example_projects\\Balde Eagle Creek [AllSequential]\n",
            "2025-03-19 12:00:02 - ras_commander.RasCmdr - INFO - Running HEC-RAS from the Command Line:\n",
            "2025-03-19 12:00:02 - ras_commander.RasCmdr - INFO - Running command: \"C:\\Program Files (x86)\\HEC\\HEC-RAS\\6.6\\Ras.exe\" -c \"C:\\GH\\ras-commander\\examples\\example_projects\\Balde Eagle Creek [AllSequential]\\BaldEagle.prj\" \"c:\\GH\\ras-commander\\examples\\example_projects\\Balde Eagle Creek [AllSequential]\\BaldEagle.p02\"\n",
            "2025-03-19 12:00:11 - ras_commander.RasCmdr - INFO - HEC-RAS execution completed for plan: 02\n",
            "2025-03-19 12:00:11 - ras_commander.RasCmdr - INFO - Total run time for plan 02: 8.89 seconds\n",
            "2025-03-19 12:00:11 - ras_commander.RasCmdr - INFO - Successfully computed plan 02\n",
            "2025-03-19 12:00:11 - ras_commander.RasCmdr - INFO - Total run time for plan 02: 8.96 seconds\n",
            "2025-03-19 12:00:11 - ras_commander.RasCmdr - INFO - All selected plans have been executed.\n",
            "2025-03-19 12:00:11 - ras_commander.RasCmdr - INFO - compute_test_mode completed.\n",
            "2025-03-19 12:00:11 - ras_commander.RasCmdr - INFO - \n",
            "Execution Results:\n",
            "2025-03-19 12:00:11 - ras_commander.RasCmdr - INFO - Plan 01: Successful\n",
            "2025-03-19 12:00:11 - ras_commander.RasCmdr - INFO - Plan 02: Successful\n"
          ]
        },
        {
          "name": "stdout",
          "output_type": "stream",
          "text": [
            "Sequential execution of all plans completed in 170.26 seconds\n",
            "\n",
            "Execution Results:\n"
          ]
        },
        {
          "data": {
            "text/html": "<div>\n<style scoped>\\n', '    .dataframe tbody tr th:only-of-type {\\n', '        vertical-align: middle;\\n', '    }\\n', '\\n', '    .dataframe tbody tr th {\\n', '        vertical-align: top;\\n', '    }\\n', '\\n', '    .dataframe thead th {\\n', '        text-align: right;\\n', '    }\\n', '</style>\n<table border=\"1\" class=\"dataframe\">\n  <thead>\\n', '    <tr style=\"text-align: right;\">\\n', '      <th></th>\\n', '      <th>Plan</th>\\n', '      <th>Success</th>\\n', '    </tr>\\n', '  </thead>\n  <tbody>\n    <tr>\\n', '      <th>0</th>\\n', '      <td>01</td>\\n', '      <td>True</td>\\n', '    </tr><tr>\\n', '      <th>1</th>\\n', '      <td>02</td>\\n', '      <td>True</td>\\n', '    </tr>\n    <tr><td colspan=\"100%\" style=\"text-align:center\">[... additional rows truncated ...]</td></tr>\n  </tbody>\n</table>\n</div>",
            "text/plain": [
              "  Plan  Success\n",
              "0   01     True\n",
              "1   02     True"
            ]
          },
          "metadata": {},
          "output_type": "display_data"
        }
      ],
      "source": [
        "print(\"Executing all plans sequentially...\")\n",
        "print(\"This may take several minutes...\")\n",
        "\n",
        "# Record start time for performance measurement\n",
        "start_time = time.time()\n",
        "\n",
        "# Execute all plans sequentially\n",
        "# - dest_folder_suffix: Suffix to append to the test folder name\n",
        "# - overwrite_dest: Overwrite the destination folder if it exists\n",
        "# - no ras object is specified, it will use the default \"ras\" object\n",
        "execution_results = RasCmdr.compute_test_mode(\n",
        "    dest_folder_suffix=\"[AllSequential]\",\n",
        "    overwrite_dest=True\n",
        ")\n",
        "\n",
        "# Record end time and calculate duration\n",
        "end_time = time.time()\n",
        "total_duration = end_time - start_time\n",
        "\n",
        "print(f\"Sequential execution of all plans completed in {total_duration:.2f} seconds\")\n",
        "\n",
        "# Create a DataFrame from the execution results for better visualization\n",
        "results_df = pd.DataFrame([\n",
        "    {\"Plan\": plan, \"Success\": success}\n",
        "    for plan, success in execution_results.items()\n",
        "])\n",
        "\n",
        "# Display the results\n",
        "print(\"\\nExecution Results:\")\n",
        "display.display(results_df)"
      ]
    },
    {
      "cell_type": "markdown",
      "metadata": {},
      "source": [
        "## Step 3: Examining the Test Folder\n",
        "\n",
        "Let's examine the test folder created by `compute_test_mode()` to better understand what happened during sequential execution."
      ]
    },
    {
      "cell_type": "code",
      "execution_count": 7,
      "metadata": {},
      "outputs": [
        {
          "data": {
            "text/plain": "[\"WindowsPath('c:/GH/ras-commander/examples/example_projects/Balde Eagle Creek [AllSequential]')\"]"
          },
          "execution_count": 7,
          "metadata": {},
          "output_type": "execute_result"
        }
      ],
      "source": [
        "# Define the test folder path\n",
        "test_folder = bald_eagle_path.parent / f\"Balde Eagle Creek [AllSequential]\"\n",
        "test_folder"
      ]
    },
    {
      "cell_type": "code",
      "execution_count": 8,
      "metadata": {},
      "outputs": [
        {
          "name": "stderr",
          "output_type": "stream",
          "text": [
            "2025-03-19 12:00:11 - ras_commander.RasPrj - INFO - Global 'ras' object also updated to match the new project.\n",
            "2025-03-19 12:00:11 - ras_commander.RasPrj - INFO - Project initialized. ras_object project folder: c:\\GH\\ras-commander\\examples\\example_projects\\Balde Eagle Creek [AllSequential]\n"
          ]
        },
        {
          "name": "stdout",
          "output_type": "stream",
          "text": [
            "Test folder exists: c:\\GH\\ras-commander\\examples\\example_projects\\Balde Eagle Creek [AllSequential]\n",
            "\n",
            "Key files in test folder:\n",
            "Project file: BaldEagle.prj\n",
            "Plan files:\n",
            "  BaldEagle.p01: 15.6 KB\n",
            "  BaldEagle.p01.comp_msgs.txt: 1.2 KB\n",
            "  BaldEagle.p01.hdf: 7592.7 KB\n",
            "  BaldEagle.p02: 12.5 KB\n",
            "  BaldEagle.p02.hdf: 4368.0 KB\n",
            "  BaldEagle.prj: 0.9 KB\n",
            "\n",
            "HDF files:\n",
            "  BaldEagle.g01.hdf: 3.8 MB\n",
            "  BaldEagle.p01.hdf: 7.4 MB\n",
            "  BaldEagle.p02.hdf: 4.3 MB\n",
            "  BaldEagle.u02.hdf: 0.0 MB\n",
            "\n",
            "Geometry preprocessor files:\n",
            "  BaldEagle.c01: 522.1 KB\n",
            "  BaldEagle.p01.comp_msgs.txt: 1.2 KB\n",
            "\n",
            "Plans with results in the test folder:\n"
          ]
        },
        {
          "data": {
            "text/html": "<div>\n<style scoped>\\n', '    .dataframe tbody tr th:only-of-type {\\n', '        vertical-align: middle;\\n', '    }\\n', '\\n', '    .dataframe tbody tr th {\\n', '        vertical-align: top;\\n', '    }\\n', '\\n', '    .dataframe thead th {\\n', '        text-align: right;\\n', '    }\\n', '</style>\n<table border=\"1\" class=\"dataframe\">\n  <thead>\\n', '    <tr style=\"text-align: right;\">\\n', '      <th></th>\\n', '      <th>plan_number</th>\\n', '      <th>HDF_Results_Path</th>\\n', '    </tr>\\n', '  </thead>\n  <tbody>\n    <tr>\\n', '      <th>0</th>\\n', '      <td>01</td>\\n', '      <td>c:\\\\GH\\\\ras-commander\\\\examples\\\\example_projects\\\\...</td>\\n', '    </tr><tr>\\n', '      <th>1</th>\\n', '      <td>02</td>\\n', '      <td>c:\\\\GH\\\\ras-commander\\\\examples\\\\example_projects\\\\...</td>\\n', '    </tr>\n    <tr><td colspan=\"100%\" style=\"text-align:center\">[... additional rows truncated ...]</td></tr>\n  </tbody>\n</table>\n</div>",
            "text/plain": [
              "  plan_number                                   HDF_Results_Path\n",
              "0          01  c:\\GH\\ras-commander\\examples\\example_projects\\...\n",
              "1          02  c:\\GH\\ras-commander\\examples\\example_projects\\..."
            ]
          },
          "metadata": {},
          "output_type": "display_data"
        }
      ],
      "source": [
        "# Create test folder if it doesn't exist using pathlib\n",
        "if not test_folder.exists():\n",
        "    test_folder.mkdir(parents=True, exist_ok=True)\n",
        "\n",
        "\n",
        "if test_folder.exists():\n",
        "    print(f\"Test folder exists: {test_folder}\")\n",
        "    \n",
        "    # List the key files in the test folder\n",
        "    print(\"\\nKey files in test folder:\")\n",
        "    \n",
        "    # First, list the project file and all plan files\n",
        "    prj_files = list(test_folder.glob(\"*.prj\"))\n",
        "    plan_files = list(test_folder.glob(\"*.p*\"))\n",
        "    plan_files.sort()\n",
        "    \n",
        "    if prj_files:\n",
        "        print(f\"Project file: {prj_files[0].name}\")\n",
        "    \n",
        "    print(\"Plan files:\")\n",
        "    for plan_file in plan_files:\n",
        "        file_size = plan_file.stat().st_size / 1024  # Size in KB\n",
        "        print(f\"  {plan_file.name}: {file_size:.1f} KB\")\n",
        "    \n",
        "    # Look for HDF result files\n",
        "    hdf_files = list(test_folder.glob(\"*.hdf\"))\n",
        "    hdf_files.sort()\n",
        "    \n",
        "    print(\"\\nHDF files:\")\n",
        "    for hdf_file in hdf_files:\n",
        "        file_size = hdf_file.stat().st_size / (1024 * 1024)  # Size in MB\n",
        "        print(f\"  {hdf_file.name}: {file_size:.1f} MB\")\n",
        "    \n",
        "    # Geometry preprocessor files (if any)\n",
        "    geompre_files = list(test_folder.glob(\"*.c*\"))\n",
        "    geompre_files.sort()\n",
        "    \n",
        "    if geompre_files:\n",
        "        print(\"\\nGeometry preprocessor files:\")\n",
        "        for geompre_file in geompre_files:\n",
        "            file_size = geompre_file.stat().st_size / 1024  # Size in KB\n",
        "            print(f\"  {geompre_file.name}: {file_size:.1f} KB\")\n",
        "    else:\n",
        "        print(\"\\nNo geometry preprocessor files found\")\n",
        "        \n",
        "    # Initialize a RAS project in the test folder to inspect results\n",
        "    try:\n",
        "        test_ras = RasPrj()\n",
        "        init_ras_project(test_folder, ras.ras_exe_path, ras_object=test_ras)\n",
        "        print(\"\\nPlans with results in the test folder:\")\n",
        "        test_plans_with_results = test_ras.plan_df[test_ras.plan_df['HDF_Results_Path'].notna()]\n",
        "        display.display(test_plans_with_results[['plan_number', 'HDF_Results_Path']])\n",
        "    except Exception as e:\n",
        "        print(f\"Error initializing test folder as a RAS project: {e}\")\n",
        "else:\n",
        "    print(f\"Test folder not found: {test_folder}\")"
      ]
    },
    {
      "cell_type": "markdown",
      "metadata": {},
      "source": [
        "## Step 4: Sequential Execution of Specific Plans\n",
        "\n",
        "Now, let's execute only specific plans in the project. We'll select plans \"01\" and \"02\" and run them sequentially with the `clear_geompre` option set to True."
      ]
    },
    {
      "cell_type": "code",
      "execution_count": 9,
      "metadata": {},
      "outputs": [
        {
          "name": "stderr",
          "output_type": "stream",
          "text": [
            "2025-03-19 12:00:11 - ras_commander.RasCmdr - INFO - Starting the compute_test_mode...\n"
          ]
        },
        {
          "name": "stdout",
          "output_type": "stream",
          "text": [
            "Executing specific plans sequentially with clearing geometry preprocessor files...\n",
            "This may take several minutes...\n",
            "Selected plans: 01, 02\n"
          ]
        },
        {
          "name": "stderr",
          "output_type": "stream",
          "text": [
            "2025-03-19 12:00:11 - ras_commander.RasCmdr - INFO - Creating the test folder: c:\\GH\\ras-commander\\examples\\example_projects\\Balde Eagle Creek [AllSequential] [SpecificSequentialClearGeompre]...\n",
            "2025-03-19 12:00:12 - ras_commander.RasCmdr - INFO - Copied project folder to compute folder: c:\\GH\\ras-commander\\examples\\example_projects\\Balde Eagle Creek [AllSequential] [SpecificSequentialClearGeompre]\n",
            "2025-03-19 12:00:12 - ras_commander.RasCmdr - INFO - Initialized RAS project in compute folder: C:\\GH\\ras-commander\\examples\\example_projects\\Balde Eagle Creek [AllSequential] [SpecificSequentialClearGeompre]\\BaldEagle.prj\n",
            "2025-03-19 12:00:12 - ras_commander.RasCmdr - INFO - Getting plan entries...\n",
            "2025-03-19 12:00:12 - ras_commander.RasCmdr - INFO - Retrieved plan entries successfully.\n",
            "2025-03-19 12:00:12 - ras_commander.RasCmdr - INFO - Filtered plans to execute: ['01', '02']\n",
            "2025-03-19 12:00:12 - ras_commander.RasCmdr - INFO - Running selected plans sequentially...\n",
            "2025-03-19 12:00:12 - ras_commander.RasCmdr - INFO - Using ras_object with project folder: c:\\GH\\ras-commander\\examples\\example_projects\\Balde Eagle Creek [AllSequential] [SpecificSequentialClearGeompre]\n",
            "2025-03-19 12:00:12 - ras_commander.RasGeo - INFO - Clearing geometry preprocessor file for single plan: c:\\GH\\ras-commander\\examples\\example_projects\\Balde Eagle Creek [AllSequential] [SpecificSequentialClearGeompre]\\BaldEagle.p01\n",
            "2025-03-19 12:00:12 - ras_commander.RasGeo - WARNING - No geometry preprocessor file found for: c:\\GH\\ras-commander\\examples\\example_projects\\Balde Eagle Creek [AllSequential] [SpecificSequentialClearGeompre]\\BaldEagle.p01\n",
            "2025-03-19 12:00:12 - ras_commander.RasGeo - INFO - Geometry dataframe updated successfully.\n",
            "2025-03-19 12:00:12 - ras_commander.RasCmdr - INFO - Cleared geometry preprocessor files for plan: 01\n",
            "2025-03-19 12:00:12 - ras_commander.RasCmdr - INFO - Running HEC-RAS from the Command Line:\n",
            "2025-03-19 12:00:12 - ras_commander.RasCmdr - INFO - Running command: \"C:\\Program Files (x86)\\HEC\\HEC-RAS\\6.6\\Ras.exe\" -c \"C:\\GH\\ras-commander\\examples\\example_projects\\Balde Eagle Creek [AllSequential] [SpecificSequentialClearGeompre]\\BaldEagle.prj\" \"c:\\GH\\ras-commander\\examples\\example_projects\\Balde Eagle Creek [AllSequential] [SpecificSequentialClearGeompre]\\BaldEagle.p01\"\n",
            "2025-03-19 12:00:44 - ras_commander.RasCmdr - INFO - HEC-RAS execution completed for plan: 01\n",
            "2025-03-19 12:00:44 - ras_commander.RasCmdr - INFO - Total run time for plan 01: 32.44 seconds\n",
            "2025-03-19 12:00:44 - ras_commander.RasCmdr - INFO - Successfully computed plan 01\n",
            "2025-03-19 12:00:44 - ras_commander.RasCmdr - INFO - Total run time for plan 01: 32.49 seconds\n",
            "2025-03-19 12:00:44 - ras_commander.RasCmdr - INFO - Using ras_object with project folder: c:\\GH\\ras-commander\\examples\\example_projects\\Balde Eagle Creek [AllSequential] [SpecificSequentialClearGeompre]\n",
            "2025-03-19 12:00:44 - ras_commander.RasGeo - INFO - Clearing geometry preprocessor file for single plan: c:\\GH\\ras-commander\\examples\\example_projects\\Balde Eagle Creek [AllSequential] [SpecificSequentialClearGeompre]\\BaldEagle.p02\n",
            "2025-03-19 12:00:44 - ras_commander.RasGeo - WARNING - No geometry preprocessor file found for: c:\\GH\\ras-commander\\examples\\example_projects\\Balde Eagle Creek [AllSequential] [SpecificSequentialClearGeompre]\\BaldEagle.p02\n",
            "2025-03-19 12:00:44 - ras_commander.RasGeo - INFO - Geometry dataframe updated successfully.\n",
            "2025-03-19 12:00:44 - ras_commander.RasCmdr - INFO - Cleared geometry preprocessor files for plan: 02\n",
            "2025-03-19 12:00:44 - ras_commander.RasCmdr - INFO - Running HEC-RAS from the Command Line:\n",
            "2025-03-19 12:00:44 - ras_commander.RasCmdr - INFO - Running command: \"C:\\Program Files (x86)\\HEC\\HEC-RAS\\6.6\\Ras.exe\" -c \"C:\\GH\\ras-commander\\examples\\example_projects\\Balde Eagle Creek [AllSequential] [SpecificSequentialClearGeompre]\\BaldEagle.prj\" \"c:\\GH\\ras-commander\\examples\\example_projects\\Balde Eagle Creek [AllSequential] [SpecificSequentialClearGeompre]\\BaldEagle.p02\"\n",
            "2025-03-19 12:00:53 - ras_commander.RasCmdr - INFO - HEC-RAS execution completed for plan: 02\n",
            "2025-03-19 12:00:53 - ras_commander.RasCmdr - INFO - Total run time for plan 02: 8.53 seconds\n",
            "2025-03-19 12:00:53 - ras_commander.RasCmdr - INFO - Successfully computed plan 02\n",
            "2025-03-19 12:00:53 - ras_commander.RasCmdr - INFO - Total run time for plan 02: 8.60 seconds\n",
            "2025-03-19 12:00:53 - ras_commander.RasCmdr - INFO - All selected plans have been executed.\n",
            "2025-03-19 12:00:53 - ras_commander.RasCmdr - INFO - compute_test_mode completed.\n",
            "2025-03-19 12:00:53 - ras_commander.RasCmdr - INFO - \n",
            "Execution Results:\n",
            "2025-03-19 12:00:53 - ras_commander.RasCmdr - INFO - Plan 01: Successful\n",
            "2025-03-19 12:00:53 - ras_commander.RasCmdr - INFO - Plan 02: Successful\n"
          ]
        },
        {
          "name": "stdout",
          "output_type": "stream",
          "text": [
            "Sequential execution of specific plans completed in 41.25 seconds\n",
            "\n",
            "Execution Results:\n"
          ]
        },
        {
          "data": {
            "text/html": "<div>\n<style scoped>\\n', '    .dataframe tbody tr th:only-of-type {\\n', '        vertical-align: middle;\\n', '    }\\n', '\\n', '    .dataframe tbody tr th {\\n', '        vertical-align: top;\\n', '    }\\n', '\\n', '    .dataframe thead th {\\n', '        text-align: right;\\n', '    }\\n', '</style>\n<table border=\"1\" class=\"dataframe\">\n  <thead>\\n', '    <tr style=\"text-align: right;\">\\n', '      <th></th>\\n', '      <th>Plan</th>\\n', '      <th>Success</th>\\n', '    </tr>\\n', '  </thead>\n  <tbody>\n    <tr>\\n', '      <th>0</th>\\n', '      <td>01</td>\\n', '      <td>True</td>\\n', '    </tr><tr>\\n', '      <th>1</th>\\n', '      <td>02</td>\\n', '      <td>True</td>\\n', '    </tr>\n    <tr><td colspan=\"100%\" style=\"text-align:center\">[... additional rows truncated ...]</td></tr>\n  </tbody>\n</table>\n</div>",
            "text/plain": [
              "  Plan  Success\n",
              "0   01     True\n",
              "1   02     True"
            ]
          },
          "metadata": {},
          "output_type": "display_data"
        }
      ],
      "source": [
        "print(\"Executing specific plans sequentially with clearing geometry preprocessor files...\")\n",
        "print(\"This may take several minutes...\")\n",
        "\n",
        "# Define the plans to execute\n",
        "selected_plans = [\"01\", \"02\"]\n",
        "print(f\"Selected plans: {', '.join(selected_plans)}\")\n",
        "\n",
        "# Record start time for performance measurement\n",
        "start_time = time.time()\n",
        "\n",
        "# Execute specific plans sequentially\n",
        "# - plan_number: List of plan numbers to execute\n",
        "# - dest_folder_suffix: Suffix to append to the test folder name\n",
        "# - clear_geompre: Clear geometry preprocessor files before execution\n",
        "# - overwrite_dest: Overwrite the destination folder if it exists\n",
        "execution_results = RasCmdr.compute_test_mode(\n",
        "    plan_number=selected_plans,\n",
        "    dest_folder_suffix=\"[SpecificSequentialClearGeompre]\",\n",
        "    clear_geompre=True,\n",
        "    overwrite_dest=True\n",
        ")\n",
        "\n",
        "# Record end time and calculate duration\n",
        "end_time = time.time()\n",
        "total_duration = end_time - start_time\n",
        "\n",
        "print(f\"Sequential execution of specific plans completed in {total_duration:.2f} seconds\")\n",
        "\n",
        "# Create a DataFrame from the execution results for better visualization\n",
        "results_df = pd.DataFrame([\n",
        "    {\"Plan\": plan, \"Success\": success}\n",
        "    for plan, success in execution_results.items()\n",
        "])\n",
        "\n",
        "# Display the results\n",
        "print(\"\\nExecution Results:\")\n",
        "display.display(results_df)"
      ]
    },
    {
      "cell_type": "markdown",
      "metadata": {},
      "source": [
        "## Summary of Sequential Plan Execution\n",
        "\n",
        "In this notebook, we've explored how to execute HEC-RAS plans sequentially using the RAS Commander library. Here's a summary of the key techniques we've covered:\n",
        "\n",
        "1. **Project Setup and Initialization**: Setting up the environment and initializing a HEC-RAS project\n",
        "2. **Example Project Management**: Using `RasExamples` to download and extract sample projects\n",
        "3. **Basic Sequential Execution**: Using `RasCmdr.compute_test_mode()` to run all plans in a project\n",
        "4. **Test Folder Analysis**: Examining the contents and results of sequential execution\n",
        "5. **Selective Plan Execution**: Running specific plans with geometry preprocessor clearing\n",
        "\n",
        "### Key Functions Used\n",
        "\n",
        "- `init_ras_project()`: Initialize a HEC-RAS project\n",
        "- `RasExamples.extract_project()`: Extract example projects for testing\n",
        "- `RasCmdr.compute_test_mode()`: Run plans sequentially in a test folder\n",
        "- `Path.glob()`: Examine test folder contents and results\n",
        "- `RasCmdr.compute_test_mode(clear_geompre=True)`: Execute plans with preprocessor clearing\n",
        "\n",
        "### Best Practices for Sequential Execution\n",
        "\n",
        "1. **Environment Setup**: Ensure all required libraries are installed and properly imported\n",
        "2. **Project Organization**: Clean up existing test folders before new executions\n",
        "3. **Resource Management**: Monitor system resources (CPU cores, memory) for optimal performance\n",
        "4. **Test Folder Naming**: Use meaningful suffixes to distinguish different execution runs\n",
        "5. **Performance Tracking**: Monitor execution times for each sequential run\n",
        "6. **Results Verification**: Check test folders for successful plan execution and result files\n",
        "7. **Selective Execution**: Use plan filtering when only specific plans need to be run\n",
        "\n",
        "With these techniques, you can effectively manage and execute HEC-RAS simulations sequentially, whether running all plans or a selected subset with specific configurations."
      ]
    }
  ],
  "metadata": {
    "kernelspec": {
      "display_name": "cmdrpip5",
      "language": "python",
      "name": "python3"
    },
    "language_info": {
      "codemirror_mode": {
        "name": "ipython",
        "version": 3
      },
      "file_extension": ".py",
      "mimetype": "text/x-python",
      "name": "python",
      "nbconvert_exporter": "python",
      "pygments_lexer": "ipython3",
      "version": "3.12.9"
    }
  },
  "nbformat": 4,
  "nbformat_minor": 4
}