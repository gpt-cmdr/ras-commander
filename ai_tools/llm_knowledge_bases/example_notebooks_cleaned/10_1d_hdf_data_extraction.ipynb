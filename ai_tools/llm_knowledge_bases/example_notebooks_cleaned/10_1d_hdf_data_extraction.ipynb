{
  "cells": [
    {
      "cell_type": "markdown",
      "metadata": {},
      "source": [
        "# HEC-RAS 1D HDF Data Analysis Notebook\n",
        "\n",
        "This notebook demonstrates how to manipulate and analyze HEC-RAS 2D HDF data using the ras-commander library. It leverages the HdfBase, HdfUtils, HdfStruc, HdfMesh, HdfXsec, HdfBndry, HdfPlan, HdfResultsPlan, HdfResultsMesh, and HdfResultsXsec classes to streamline data extraction, processing, and visualization.\n"
      ]
    },
    {
      "cell_type": "markdown",
      "metadata": {},
      "source": [
        "## Package Installation and Environment Setup\n",
        "Uncomment and run package installation commands if needed"
      ]
    },
    {
      "cell_type": "code",
      "execution_count": 1,
      "metadata": {},
      "outputs": [
        {
          "name": "stdout",
          "output_type": "stream",
          "text": [
            "Requirement already satisfied: ras-commander in c:\\users\\bill\\anaconda3\\envs\\rascmdr\\lib\\site-packages (0.74.0)\n",
            "Requirement already satisfied: h5py in c:\\users\\bill\\anaconda3\\envs\\rascmdr\\lib\\site-packages (from ras-commander) (3.13.0)\n",
            "Requirement already satisfied: numpy in c:\\users\\bill\\anaconda3\\envs\\rascmdr\\lib\\site-packages (from ras-commander) (2.2.4)\n",
            "Requirement already satisfied: pandas in c:\\users\\bill\\anaconda3\\envs\\rascmdr\\lib\\site-packages (from ras-commander) (2.2.3)\n",
            "Requirement already satisfied: requests in c:\\users\\bill\\anaconda3\\envs\\rascmdr\\lib\\site-packages (from ras-commander) (2.32.3)\n",
            "Requirement already satisfied: tqdm in c:\\users\\bill\\anaconda3\\envs\\rascmdr\\lib\\site-packages (from ras-commander) (4.67.1)\n",
            "Requirement already satisfied: scipy in c:\\users\\bill\\anaconda3\\envs\\rascmdr\\lib\\site-packages (from ras-commander) (1.15.2)\n",
            "Requirement already satisfied: xarray in c:\\users\\bill\\anaconda3\\envs\\rascmdr\\lib\\site-packages (from ras-commander) (2025.1.2)\n",
            "Requirement already satisfied: geopandas in c:\\users\\bill\\anaconda3\\envs\\rascmdr\\lib\\site-packages (from ras-commander) (1.0.1)\n",
            "Requirement already satisfied: matplotlib in c:\\users\\bill\\anaconda3\\envs\\rascmdr\\lib\\site-packages (from ras-commander) (3.10.1)\n",
            "Requirement already satisfied: shapely in c:\\users\\bill\\anaconda3\\envs\\rascmdr\\lib\\site-packages (from ras-commander) (2.0.7)\n",
            "Requirement already satisfied: pathlib in c:\\users\\bill\\anaconda3\\envs\\rascmdr\\lib\\site-packages (from ras-commander) (1.0.1)\n",
            "Requirement already satisfied: rasterstats in c:\\users\\bill\\anaconda3\\envs\\rascmdr\\lib\\site-packages (from ras-commander) (0.20.0)\n",
            "Requirement already satisfied: rtree in c:\\users\\bill\\anaconda3\\envs\\rascmdr\\lib\\site-packages (from ras-commander) (1.4.0)\n",
            "Requirement already satisfied: pyogrio>=0.7.2 in c:\\users\\bill\\anaconda3\\envs\\rascmdr\\lib\\site-packages (from geopandas->ras-commander) (0.10.0)\n",
            "Requirement already satisfied: packaging in c:\\users\\bill\\anaconda3\\envs\\rascmdr\\lib\\site-packages (from geopandas->ras-commander) (24.2)\n",
            "Requirement already satisfied: pyproj>=3.3.0 in c:\\users\\bill\\anaconda3\\envs\\rascmdr\\lib\\site-packages (from geopandas->ras-commander) (3.7.1)\n",
            "Requirement already satisfied: python-dateutil>=2.8.2 in c:\\users\\bill\\anaconda3\\envs\\rascmdr\\lib\\site-packages (from pandas->ras-commander) (2.9.0.post0)\n",
            "Requirement already satisfied: pytz>=2020.1 in c:\\users\\bill\\anaconda3\\envs\\rascmdr\\lib\\site-packages (from pandas->ras-commander) (2025.1)\n",
            "Requirement already satisfied: tzdata>=2022.7 in c:\\users\\bill\\anaconda3\\envs\\rascmdr\\lib\\site-packages (from pandas->ras-commander) (2025.1)\n",
            "Requirement already satisfied: contourpy>=1.0.1 in c:\\users\\bill\\anaconda3\\envs\\rascmdr\\lib\\site-packages (from matplotlib->ras-commander) (1.3.1)\n",
            "Requirement already satisfied: cycler>=0.10 in c:\\users\\bill\\anaconda3\\envs\\rascmdr\\lib\\site-packages (from matplotlib->ras-commander) (0.12.1)\n",
            "Requirement already satisfied: fonttools>=4.22.0 in c:\\users\\bill\\anaconda3\\envs\\rascmdr\\lib\\site-packages (from matplotlib->ras-commander) (4.56.0)\n",
            "Requirement already satisfied: kiwisolver>=1.3.1 in c:\\users\\bill\\anaconda3\\envs\\rascmdr\\lib\\site-packages (from matplotlib->ras-commander) (1.4.8)\n",
            "Requirement already satisfied: pillow>=8 in c:\\users\\bill\\anaconda3\\envs\\rascmdr\\lib\\site-packages (from matplotlib->ras-commander) (11.1.0)\n",
            "Requirement already satisfied: pyparsing>=2.3.1 in c:\\users\\bill\\anaconda3\\envs\\rascmdr\\lib\\site-packages (from matplotlib->ras-commander) (3.2.1)\n",
            "Requirement already satisfied: affine in c:\\users\\bill\\anaconda3\\envs\\rascmdr\\lib\\site-packages (from rasterstats->ras-commander) (2.4.0)\n",
            "Requirement already satisfied: click>7.1 in c:\\users\\bill\\anaconda3\\envs\\rascmdr\\lib\\site-packages (from rasterstats->ras-commander) (8.1.8)\n",
            "Requirement already satisfied: cligj>=0.4 in c:\\users\\bill\\anaconda3\\envs\\rascmdr\\lib\\site-packages (from rasterstats->ras-commander) (0.7.2)\n",
            "Requirement already satisfied: fiona in c:\\users\\bill\\anaconda3\\envs\\rascmdr\\lib\\site-packages (from rasterstats->ras-commander) (1.10.1)\n",
            "Requirement already satisfied: rasterio>=1.0 in c:\\users\\bill\\anaconda3\\envs\\rascmdr\\lib\\site-packages (from rasterstats->ras-commander) (1.4.3)\n",
            "Requirement already satisfied: simplejson in c:\\users\\bill\\anaconda3\\envs\\rascmdr\\lib\\site-packages (from rasterstats->ras-commander) (3.20.1)\n",
            "Requirement already satisfied: charset-normalizer<4,>=2 in c:\\users\\bill\\anaconda3\\envs\\rascmdr\\lib\\site-packages (from requests->ras-commander) (3.4.1)\n",
            "Requirement already satisfied: idna<4,>=2.5 in c:\\users\\bill\\anaconda3\\envs\\rascmdr\\lib\\site-packages (from requests->ras-commander) (3.10)\n",
            "Requirement already satisfied: urllib3<3,>=1.21.1 in c:\\users\\bill\\anaconda3\\envs\\rascmdr\\lib\\site-packages (from requests->ras-commander) (2.3.0)\n",
            "Requirement already satisfied: certifi>=2017.4.17 in c:\\users\\bill\\anaconda3\\envs\\rascmdr\\lib\\site-packages (from requests->ras-commander) (2025.1.31)\n",
            "Requirement already satisfied: colorama in c:\\users\\bill\\anaconda3\\envs\\rascmdr\\lib\\site-packages (from tqdm->ras-commander) (0.4.6)\n",
            "Requirement already satisfied: six>=1.5 in c:\\users\\bill\\anaconda3\\envs\\rascmdr\\lib\\site-packages (from python-dateutil>=2.8.2->pandas->ras-commander) (1.17.0)\n",
            "Requirement already satisfied: attrs in c:\\users\\bill\\anaconda3\\envs\\rascmdr\\lib\\site-packages (from rasterio>=1.0->rasterstats->ras-commander) (25.3.0)\n",
            "Requirement already satisfied: click-plugins in c:\\users\\bill\\anaconda3\\envs\\rascmdr\\lib\\site-packages (from rasterio>=1.0->rasterstats->ras-commander) (1.1.1)\n"
          ]
        }
      ],
      "source": [
        "# Install ras-commander from pip (uncomment to install if needed)\n",
        "!pip install --upgrade ras-commander\n",
        "# This installs ras-commander and all dependencies\n",
        "\n",
        "# Set to false to disable plot generation for llm-friendly outputs\n",
        "generate_plots = True"
      ]
    },
    {
      "cell_type": "code",
      "execution_count": 2,
      "metadata": {},
      "outputs": [],
      "source": [
        "# Import all required modules\n",
        "from ras_commander import *  # Import all ras-commander modules\n",
        "\n",
        "# Import the required libraries for this notebook\n",
        "import h5py\n",
        "import numpy as np\n",
        "import pandas as pd\n",
        "import requests\n",
        "from tqdm import tqdm\n",
        "import scipy\n",
        "import xarray as xr\n",
        "import geopandas as gpd\n",
        "import matplotlib.pyplot as plt\n",
        "from IPython import display\n",
        "import psutil  # For getting system CPU info\n",
        "from concurrent.futures import ThreadPoolExecutor, as_completed\n",
        "import time\n",
        "import subprocess\n",
        "import sys\n",
        "import os\n",
        "import shutil\n",
        "from datetime import datetime, timedelta\n",
        "from pathlib import Path  # Ensure pathlib is imported for file operations\n",
        "from shapely.geometry import LineString\n",
        "\n",
        "\n",
        "# Set pandas display options to show only 7 rows by default\n",
        "pd.set_option('display.max_rows', 7)"
      ]
    },
    {
      "cell_type": "markdown",
      "metadata": {},
      "source": [
        "# Use Example Project or Load Your Own Project"
      ]
    },
    {
      "cell_type": "code",
      "execution_count": 3,
      "metadata": {},
      "outputs": [
        {
          "name": "stderr",
          "output_type": "stream",
          "text": [
            "2025-04-09 07:24:48 - ras_commander.RasPrj - INFO - Initializing global 'ras' object via init_ras_project function.\n",
            "2025-04-09 07:24:48 - ras_commander.RasMap - INFO - Successfully parsed RASMapper file: d:\\GitHub\\ras-commander\\examples\\example_projects\\Balde Eagle Creek\\BaldEagle.rasmap\n",
            "2025-04-09 07:24:48 - ras_commander.RasPrj - INFO - Project initialized. ras_object project folder: d:\\GitHub\\ras-commander\\examples\\example_projects\\Balde Eagle Creek\n"
          ]
        },
        {
          "name": "stdout",
          "output_type": "stream",
          "text": [
            "BaldEagle.p01.hdf already exists. Skipping project extraction and plan execution.\n"
          ]
        }
      ],
      "source": [
        "# Download the Balde Eagle Creek 1D Example project from HEC and run plan 01\n",
        "\n",
        "# Define the path to the 1D Balde Eagle Creek project\n",
        "current_dir = Path.cwd()  # Adjust if your notebook is in a different directory\n",
        "bald_eagle_path = current_dir / \"example_projects\" / \"Balde Eagle Creek\"\n",
        "import logging\n",
        "\n",
        "# Check if BaldEagle.p01.hdf exists (so we don't have to re-run the simulation when re-running or debugging)\n",
        "hdf_file = bald_eagle_path / \"BaldEagle.p01.hdf\"\n",
        "\n",
        "if not hdf_file.exists():\n",
        "    # Initialize RasExamples and extract the BaldEagleCrkMulti2D project\n",
        "    RasExamples.extract_project(\"Balde Eagle Creek\")\n",
        "\n",
        "    # Initialize the RAS project using the custom ras object\n",
        "    init_ras_project(bald_eagle_path, \"6.6\")\n",
        "    logging.info(f\"Balde Eagle project initialized with folder: {ras.project_folder}\")\n",
        "    \n",
        "    logging.info(f\"Balde Eagle object id: {id(ras)}\")\n",
        "    \n",
        "    # Define the plan number to execute\n",
        "    plan_number = \"01\"\n",
        "\n",
        "    # Execute Plan 01 using RasCmdr for Bald Eagle\n",
        "    print(f\"Executing Plan {plan_number} for the Bald Eagle Creek project...\")\n",
        "    success_bald_eagle = RasCmdr.compute_plan(plan_number)\n",
        "    if success_bald_eagle:\n",
        "        print(f\"Plan {plan_number} executed successfully for Bald Eagle.\\n\")\n",
        "    else:\n",
        "        print(f\"Plan {plan_number} execution failed for Bald Eagle.\\n\")\n",
        "else:\n",
        "    print(\"BaldEagle.p01.hdf already exists. Skipping project extraction and plan execution.\")\n",
        "    # Initialize the RAS project using the custom ras object\n",
        "    init_ras_project(bald_eagle_path, \"6.6\")\n",
        "    plan_number = \"01\""
      ]
    },
    {
      "cell_type": "markdown",
      "metadata": {},
      "source": [
        "###  OPTIONAL: Use your own project instead\n",
        "\n",
        "your_project_path = Path(r\"D:\\yourprojectpath\")\n",
        "\n",
        "init_ras_project(your_project_path, \"6.6\")\n",
        "plan_number = \"01\"  # Plan number to use for this notebook \n",
        "\n",
        "\n",
        "\n",
        "### If you use this code cell, don't run the previous cell or change to markdown\n",
        "### NOTE: Ensure the HDF Results file was generated by HEC-RAS Version 6.x or above"
      ]
    },
    {
      "cell_type": "markdown",
      "metadata": {},
      "source": [
        "------"
      ]
    },
    {
      "cell_type": "markdown",
      "metadata": {},
      "source": [
        "# Explore Project Dataframes using 'ras' Object"
      ]
    },
    {
      "cell_type": "code",
      "execution_count": 4,
      "metadata": {},
      "outputs": [
        {
          "name": "stdout",
          "output_type": "stream",
          "text": [
            "Plan DataFrame for the project:\n"
          ]
        },
        {
          "data": {
            "text/html": "<div>\n<style scoped>\\n', '    .dataframe tbody tr th:only-of-type {\\n', '        vertical-align: middle;\\n', '    }\\n', '\\n', '    .dataframe tbody tr th {\\n', '        vertical-align: top;\\n', '    }\\n', '\\n', '    .dataframe thead th {\\n', '        text-align: right;\\n', '    }\\n', '</style>\n<table border=\"1\" class=\"dataframe\">\n  <thead>\\n', '    <tr style=\"text-align: right;\">\\n', '      <th></th>\\n', '      <th>plan_number</th>\\n', '      <th>unsteady_number</th>\\n', '      <th>geometry_number</th>\\n', '      <th>Plan Title</th>\\n', '      <th>Program Version</th>\\n', '      <th>Short Identifier</th>\\n', '      <th>Simulation Date</th>\\n', '      <th>Computation Interval</th>\\n', '      <th>Mapping Interval</th>\\n', '      <th>Run HTab</th>\\n', '      <th>...</th>\\n', '      <th>UNET D2 Cores</th>\\n', '      <th>PS Cores</th>\\n', '      <th>DSS File</th>\\n', '      <th>Friction Slope Method</th>\\n', '      <th>HDF_Results_Path</th>\\n', '      <th>Geom File</th>\\n', '      <th>Geom Path</th>\\n', '      <th>Flow File</th>\\n', '      <th>Flow Path</th>\\n', '      <th>full_path</th>\\n', '    </tr>\\n', '  </thead>\n  <tbody>\n    <tr>\\n', '      <th>0</th>\\n', '      <td>01</td>\\n', '      <td>02</td>\\n', '      <td>01</td>\\n', '      <td>Unsteady with Bridges and Dam</td>\\n', '      <td>5.00</td>\\n', '      <td>UnsteadyFlow</td>\\n', '      <td>18FEB1999,0000,24FEB1999,0500</td>\\n', '      <td>2MIN</td>\\n', '      <td>1HOUR</td>\\n', '      <td>1</td>\\n', '      <td>...</td>\\n', '      <td>0.0</td>\\n', '      <td>None</td>\\n', '      <td>dss</td>\\n', '      <td>2</td>\\n', '      <td>d:\\\\GitHub\\\\ras-commander\\\\examples\\\\example_proje...</td>\\n', '      <td>01</td>\\n', '      <td>d:\\\\GitHub\\\\ras-commander\\\\examples\\\\example_proje...</td>\\n', '      <td>02</td>\\n', '      <td>d:\\\\GitHub\\\\ras-commander\\\\examples\\\\example_proje...</td>\\n', '      <td>d:\\\\GitHub\\\\ras-commander\\\\examples\\\\example_proje...</td>\\n', '    </tr><tr>\\n', '      <th>1</th>\\n', '      <td>02</td>\\n', '      <td>None</td>\\n', '      <td>01</td>\\n', '      <td>Steady Flow Run</td>\\n', '      <td>NaN</td>\\n', '      <td>SteadyRun</td>\\n', '      <td>02/18/1999,0000,02/24/1999,0500</td>\\n', '      <td>2MIN</td>\\n', '      <td>NaN</td>\\n', '      <td>1</td>\\n', '      <td>...</td>\\n', '      <td>NaN</td>\\n', '      <td>None</td>\\n', '      <td>dss</td>\\n', '      <td>1</td>\\n', '      <td>None</td>\\n', '      <td>01</td>\\n', '      <td>d:\\\\GitHub\\\\ras-commander\\\\examples\\\\example_proje...</td>\\n', '      <td>02</td>\\n', '      <td>d:\\\\GitHub\\\\ras-commander\\\\examples\\\\example_proje...</td>\\n', '      <td>d:\\\\GitHub\\\\ras-commander\\\\examples\\\\example_proje...</td>\\n', '    </tr>\n    <tr><td colspan=\"100%\" style=\"text-align:center\">[... additional rows truncated ...]</td></tr>\n  </tbody>\n</table>\n</div>",
            "text/plain": "['  plan_number unsteady_number geometry_number                     Plan Title  \\\\\\n', '0          01              02              01  Unsteady with Bridges and Dam   \\n', '1          02            None              01                Steady Flow Run   \\n', '\\n', '  Program Version Short Identifier                  Simulation Date  \\\\\\n', '0            5.00     UnsteadyFlow    18FEB1999,0000,24FEB1999,0500   \\n', '1             NaN        SteadyRun  02/18/1999,0000,02/24/1999,0500   \\n', '\\n', '  Computation Interval Mapping Interval Run HTab  ... UNET D2 Cores PS Cores  \\\\\\n', '0                 2MIN            1HOUR        1  ...           0.0     None   \\n', '1                 2MIN              NaN        1  ...           NaN     None   \\n', '\\n', '  DSS File Friction Slope Method  \\\\\\n', '0      dss                     2   \\n', '1      dss                     1   \\n', '\\n', '                                    HDF_Results_Path  Geom File  \\\\\\n', '0  d:\\\\GitHub\\\\ras-commander\\\\examples\\\\example_proje...         01   \\n', '1                                               None         01   \\n', '\\n', '                                           Geom Path Flow File  \\\\\\n', '0  d:\\\\GitHub\\\\ras-commander\\\\examples\\\\example_proje...        02   \\n', '1  d:\\\\GitHub\\\\ras-commander\\\\examples\\\\example_proje...        02   \\n', '\\n', '                                           Flow Path  \\\\\\n', '0  d:\\\\GitHub\\\\ras-commander\\\\examples\\\\example_proje...   \\n', '1  d:\\\\GitHub\\\\ras-commander\\\\examples\\\\example_proje...   \\n', '\\n', '                                           full_path  \\n', '0  d:\\\\GitHub\\\\ras-commander\\\\examples\\\\example_proje...  \\n', '1  d:\\\\GitHub\\\\ras-commander\\\\examples\\\\example_proje...  \\n', '\\n', '[2 rows x 26 columns]']"
          },
          "execution_count": 4,
          "metadata": {},
          "output_type": "execute_result"
        }
      ],
      "source": [
        "print(\"Plan DataFrame for the project:\")\n",
        "ras.plan_df"
      ]
    },
    {
      "cell_type": "code",
      "execution_count": 5,
      "metadata": {},
      "outputs": [
        {
          "name": "stdout",
          "output_type": "stream",
          "text": [
            "\n",
            "Geometry DataFrame for the project:\n"
          ]
        },
        {
          "data": {
            "text/html": "<div>\n<style scoped>\\n', '    .dataframe tbody tr th:only-of-type {\\n', '        vertical-align: middle;\\n', '    }\\n', '\\n', '    .dataframe tbody tr th {\\n', '        vertical-align: top;\\n', '    }\\n', '\\n', '    .dataframe thead th {\\n', '        text-align: right;\\n', '    }\\n', '</style>\n<table border=\"1\" class=\"dataframe\">\n  <thead>\\n', '    <tr style=\"text-align: right;\">\\n', '      <th></th>\\n', '      <th>geom_file</th>\\n', '      <th>geom_number</th>\\n', '      <th>full_path</th>\\n', '      <th>hdf_path</th>\\n', '    </tr>\\n', '  </thead>\n  <tbody>\n    <tr>\\n', '      <th>0</th>\\n', '      <td>g01</td>\\n', '      <td>01</td>\\n', '      <td>d:\\\\GitHub\\\\ras-commander\\\\examples\\\\example_proje...</td>\\n', '      <td>d:\\\\GitHub\\\\ras-commander\\\\examples\\\\example_proje...</td>\\n', '    </tr>\n    <tr><td colspan=\"100%\" style=\"text-align:center\">[... additional rows truncated ...]</td></tr>\n  </tbody>\n</table>\n</div>",
            "text/plain": "['  geom_file geom_number                                          full_path  \\\\\\n', '0       g01          01  d:\\\\GitHub\\\\ras-commander\\\\examples\\\\example_proje...   \\n', '\\n', '                                            hdf_path  \\n', '0  d:\\\\GitHub\\\\ras-commander\\\\examples\\\\example_proje...  ']"
          },
          "execution_count": 5,
          "metadata": {},
          "output_type": "execute_result"
        }
      ],
      "source": [
        "print(\"\\nGeometry DataFrame for the project:\")\n",
        "ras.geom_df"
      ]
    },
    {
      "cell_type": "code",
      "execution_count": 6,
      "metadata": {},
      "outputs": [
        {
          "name": "stdout",
          "output_type": "stream",
          "text": [
            "\n",
            "Unsteady DataFrame for the project:\n"
          ]
        },
        {
          "data": {
            "text/html": "<div>\n<style scoped>\\n', '    .dataframe tbody tr th:only-of-type {\\n', '        vertical-align: middle;\\n', '    }\\n', '\\n', '    .dataframe tbody tr th {\\n', '        vertical-align: top;\\n', '    }\\n', '\\n', '    .dataframe thead th {\\n', '        text-align: right;\\n', '    }\\n', '</style>\n<table border=\"1\" class=\"dataframe\">\n  <thead>\\n', '    <tr style=\"text-align: right;\">\\n', '      <th></th>\\n', '      <th>unsteady_number</th>\\n', '      <th>full_path</th>\\n', '      <th>geometry_number</th>\\n', '      <th>Flow Title</th>\\n', '      <th>Program Version</th>\\n', '      <th>Use Restart</th>\\n', '      <th>Precipitation Mode</th>\\n', '      <th>Wind Mode</th>\\n', '      <th>Met BC=Precipitation|Mode</th>\\n', '      <th>Met BC=Evapotranspiration|Mode</th>\\n', '      <th>Met BC=Precipitation|Expanded View</th>\\n', '      <th>Met BC=Precipitation|Constant Units</th>\\n', '      <th>Met BC=Precipitation|Gridded Source</th>\\n', '    </tr>\\n', '  </thead>\n  <tbody>\n    <tr>\\n', '      <th>0</th>\\n', '      <td>02</td>\\n', '      <td>d:\\\\GitHub\\\\ras-commander\\\\examples\\\\example_proje...</td>\\n', '      <td>None</td>\\n', '      <td>Flow Hydrograph 2</td>\\n', '      <td>6.30</td>\\n', '      <td>0</td>\\n', '      <td>Disable</td>\\n', '      <td>No Wind Forces</td>\\n', '      <td>None</td>\\n', '      <td>None</td>\\n', '      <td>0</td>\\n', '      <td>mm/hr</td>\\n', '      <td>DSS</td>\\n', '    </tr>\n    <tr><td colspan=\"100%\" style=\"text-align:center\">[... additional rows truncated ...]</td></tr>\n  </tbody>\n</table>\n</div>",
            "text/plain": "['  unsteady_number                                          full_path  \\\\\\n', '0              02  d:\\\\GitHub\\\\ras-commander\\\\examples\\\\example_proje...   \\n', '\\n', '  geometry_number         Flow Title Program Version Use Restart  \\\\\\n', '0            None  Flow Hydrograph 2            6.30           0   \\n', '\\n', '  Precipitation Mode       Wind Mode Met BC=Precipitation|Mode  \\\\\\n', '0            Disable  No Wind Forces                      None   \\n', '\\n', '  Met BC=Evapotranspiration|Mode Met BC=Precipitation|Expanded View  \\\\\\n', '0                           None                                  0   \\n', '\\n', '  Met BC=Precipitation|Constant Units Met BC=Precipitation|Gridded Source  \\n', '0                               mm/hr                                 DSS  ']"
          },
          "execution_count": 6,
          "metadata": {},
          "output_type": "execute_result"
        }
      ],
      "source": [
        "print(\"\\nUnsteady DataFrame for the project:\")\n",
        "ras.unsteady_df"
      ]
    },
    {
      "cell_type": "code",
      "execution_count": 7,
      "metadata": {},
      "outputs": [
        {
          "name": "stdout",
          "output_type": "stream",
          "text": [
            "\n",
            "Boundary Conditions DataFrame for the project:\n"
          ]
        },
        {
          "data": {
            "text/html": "<div>\n<style scoped>\\n', '    .dataframe tbody tr th:only-of-type {\\n', '        vertical-align: middle;\\n', '    }\\n', '\\n', '    .dataframe tbody tr th {\\n', '        vertical-align: top;\\n', '    }\\n', '\\n', '    .dataframe thead th {\\n', '        text-align: right;\\n', '    }\\n', '</style>\n<table border=\"1\" class=\"dataframe\">\n  <thead>\\n', '    <tr style=\"text-align: right;\">\\n', '      <th></th>\\n', '      <th>unsteady_number</th>\\n', '      <th>boundary_condition_number</th>\\n', '      <th>river_reach_name</th>\\n', '      <th>river_station</th>\\n', '      <th>storage_area_name</th>\\n', '      <th>pump_station_name</th>\\n', '      <th>bc_type</th>\\n', '      <th>hydrograph_type</th>\\n', '      <th>Interval</th>\\n', '      <th>DSS Path</th>\\n', '      <th>...</th>\\n', '      <th>Flow Title</th>\\n', '      <th>Program Version</th>\\n', '      <th>Use Restart</th>\\n', '      <th>Precipitation Mode</th>\\n', '      <th>Wind Mode</th>\\n', '      <th>Met BC=Precipitation|Mode</th>\\n', '      <th>Met BC=Evapotranspiration|Mode</th>\\n', '      <th>Met BC=Precipitation|Expanded View</th>\\n', '      <th>Met BC=Precipitation|Constant Units</th>\\n', '      <th>Met BC=Precipitation|Gridded Source</th>\\n', '    </tr>\\n', '  </thead>\n  <tbody>\n    <tr>\\n', '      <th>0</th>\\n', '      <td>02</td>\\n', '      <td>1</td>\\n', '      <td>Bald Eagle</td>\\n', '      <td>Loc Hav</td>\\n', '      <td>138154.4</td>\\n', '      <td></td>\\n', '      <td>Flow Hydrograph</td>\\n', '      <td>Flow Hydrograph</td>\\n', '      <td>1HOUR</td>\\n', '      <td></td>\\n', '      <td>...</td>\\n', '      <td>Flow Hydrograph 2</td>\\n', '      <td>6.30</td>\\n', '      <td>0</td>\\n', '      <td>Disable</td>\\n', '      <td>No Wind Forces</td>\\n', '      <td>None</td>\\n', '      <td>None</td>\\n', '      <td>0</td>\\n', '      <td>mm/hr</td>\\n', '      <td>DSS</td>\\n', '    </tr><tr>\\n', '      <th>1</th>\\n', '      <td>02</td>\\n', '      <td>2</td>\\n', '      <td>Bald Eagle</td>\\n', '      <td>Loc Hav</td>\\n', '      <td>81500</td>\\n', '      <td></td>\\n', '      <td>Gate Opening</td>\\n', '      <td>None</td>\\n', '      <td>NaN</td>\\n', '      <td>NaN</td>\\n', '      <td>...</td>\\n', '      <td>Flow Hydrograph 2</td>\\n', '      <td>6.30</td>\\n', '      <td>0</td>\\n', '      <td>Disable</td>\\n', '      <td>No Wind Forces</td>\\n', '      <td>None</td>\\n', '      <td>None</td>\\n', '      <td>0</td>\\n', '      <td>mm/hr</td>\\n', '      <td>DSS</td>\\n', '    </tr><tr>\\n', '      <th>2</th>\\n', '      <td>02</td>\\n', '      <td>3</td>\\n', '      <td>Bald Eagle</td>\\n', '      <td>Loc Hav</td>\\n', '      <td>659.942</td>\\n', '      <td></td>\\n', '      <td>Unknown</td>\\n', '      <td>None</td>\\n', '      <td>NaN</td>\\n', '      <td></td>\\n', '      <td>...</td>\\n', '      <td>Flow Hydrograph 2</td>\\n', '      <td>6.30</td>\\n', '      <td>0</td>\\n', '      <td>Disable</td>\\n', '      <td>No Wind Forces</td>\\n', '      <td>None</td>\\n', '      <td>None</td>\\n', '      <td>0</td>\\n', '      <td>mm/hr</td>\\n', '      <td>DSS</td>\\n', '    </tr>\n    <tr><td colspan=\"100%\" style=\"text-align:center\">[... additional rows truncated ...]</td></tr>\n  </tbody>\n</table>\n</div>",
            "text/plain": "['  unsteady_number  boundary_condition_number river_reach_name river_station  \\\\\\n', '0              02                          1       Bald Eagle       Loc Hav   \\n', '1              02                          2       Bald Eagle       Loc Hav   \\n', '2              02                          3       Bald Eagle       Loc Hav   \\n', '\\n', '  storage_area_name pump_station_name          bc_type  hydrograph_type  \\\\\\n', '0          138154.4                    Flow Hydrograph  Flow Hydrograph   \\n', '1             81500                       Gate Opening             None   \\n', '2           659.942                            Unknown             None   \\n', '\\n', '  Interval DSS Path  ...         Flow Title Program Version Use Restart  \\\\\\n', '0    1HOUR           ...  Flow Hydrograph 2            6.30           0   \\n', '1      NaN      NaN  ...  Flow Hydrograph 2            6.30           0   \\n', '2      NaN           ...  Flow Hydrograph 2            6.30           0   \\n', '\\n', '  Precipitation Mode       Wind Mode  Met BC=Precipitation|Mode  \\\\\\n', '0            Disable  No Wind Forces                       None   \\n', '1            Disable  No Wind Forces                       None   \\n', '2            Disable  No Wind Forces                       None   \\n', '\\n', '  Met BC=Evapotranspiration|Mode Met BC=Precipitation|Expanded View  \\\\\\n', '0                           None                                  0   \\n', '1                           None                                  0   \\n', '2                           None                                  0   \\n', '\\n', '  Met BC=Precipitation|Constant Units Met BC=Precipitation|Gridded Source  \\n', '0                               mm/hr                                 DSS  \\n', '1                               mm/hr                                 DSS  \\n', '2                               mm/hr                                 DSS  \\n', '\\n', '[3 rows x 29 columns]']"
          },
          "execution_count": 7,
          "metadata": {},
          "output_type": "execute_result"
        }
      ],
      "source": [
        "print(\"\\nBoundary Conditions DataFrame for the project:\")\n",
        "ras.boundaries_df "
      ]
    },
    {
      "cell_type": "code",
      "execution_count": 8,
      "metadata": {},
      "outputs": [
        {
          "data": {
            "text/html": "<div>\n<style scoped>\\n', '    .dataframe tbody tr th:only-of-type {\\n', '        vertical-align: middle;\\n', '    }\\n', '\\n', '    .dataframe tbody tr th {\\n', '        vertical-align: top;\\n', '    }\\n', '\\n', '    .dataframe thead th {\\n', '        text-align: right;\\n', '    }\\n', '</style>\n<table border=\"1\" class=\"dataframe\">\n  <thead>\\n', '    <tr style=\"text-align: right;\">\\n', '      <th></th>\\n', '      <th>plan_number</th>\\n', '      <th>unsteady_number</th>\\n', '      <th>geometry_number</th>\\n', '      <th>Plan Title</th>\\n', '      <th>Program Version</th>\\n', '      <th>Short Identifier</th>\\n', '      <th>Simulation Date</th>\\n', '      <th>Computation Interval</th>\\n', '      <th>Mapping Interval</th>\\n', '      <th>Run HTab</th>\\n', '      <th>...</th>\\n', '      <th>UNET D2 Cores</th>\\n', '      <th>PS Cores</th>\\n', '      <th>DSS File</th>\\n', '      <th>Friction Slope Method</th>\\n', '      <th>HDF_Results_Path</th>\\n', '      <th>Geom File</th>\\n', '      <th>Geom Path</th>\\n', '      <th>Flow File</th>\\n', '      <th>Flow Path</th>\\n', '      <th>full_path</th>\\n', '    </tr>\\n', '  </thead>\n  <tbody>\n    <tr>\\n', '      <th>0</th>\\n', '      <td>01</td>\\n', '      <td>02</td>\\n', '      <td>01</td>\\n', '      <td>Unsteady with Bridges and Dam</td>\\n', '      <td>5.00</td>\\n', '      <td>UnsteadyFlow</td>\\n', '      <td>18FEB1999,0000,24FEB1999,0500</td>\\n', '      <td>2MIN</td>\\n', '      <td>1HOUR</td>\\n', '      <td>1</td>\\n', '      <td>...</td>\\n', '      <td>0.0</td>\\n', '      <td>None</td>\\n', '      <td>dss</td>\\n', '      <td>2</td>\\n', '      <td>d:\\\\GitHub\\\\ras-commander\\\\examples\\\\example_proje...</td>\\n', '      <td>01</td>\\n', '      <td>d:\\\\GitHub\\\\ras-commander\\\\examples\\\\example_proje...</td>\\n', '      <td>02</td>\\n', '      <td>d:\\\\GitHub\\\\ras-commander\\\\examples\\\\example_proje...</td>\\n', '      <td>d:\\\\GitHub\\\\ras-commander\\\\examples\\\\example_proje...</td>\\n', '    </tr>\n    <tr><td colspan=\"100%\" style=\"text-align:center\">[... additional rows truncated ...]</td></tr>\n  </tbody>\n</table>\n</div>",
            "text/plain": "['  plan_number unsteady_number geometry_number                     Plan Title  \\\\\\n', '0          01              02              01  Unsteady with Bridges and Dam   \\n', '\\n', '  Program Version Short Identifier                Simulation Date  \\\\\\n', '0            5.00     UnsteadyFlow  18FEB1999,0000,24FEB1999,0500   \\n', '\\n', '  Computation Interval Mapping Interval Run HTab  ... UNET D2 Cores PS Cores  \\\\\\n', '0                 2MIN            1HOUR        1  ...           0.0     None   \\n', '\\n', '  DSS File Friction Slope Method  \\\\\\n', '0      dss                     2   \\n', '\\n', '                                    HDF_Results_Path  Geom File  \\\\\\n', '0  d:\\\\GitHub\\\\ras-commander\\\\examples\\\\example_proje...         01   \\n', '\\n', '                                           Geom Path Flow File  \\\\\\n', '0  d:\\\\GitHub\\\\ras-commander\\\\examples\\\\example_proje...        02   \\n', '\\n', '                                           Flow Path  \\\\\\n', '0  d:\\\\GitHub\\\\ras-commander\\\\examples\\\\example_proje...   \\n', '\\n', '                                           full_path  \\n', '0  d:\\\\GitHub\\\\ras-commander\\\\examples\\\\example_proje...  \\n', '\\n', '[1 rows x 26 columns]']"
          },
          "execution_count": 8,
          "metadata": {},
          "output_type": "execute_result"
        }
      ],
      "source": [
        "# Get HDF Results Entries (only present when results are present)\n",
        "ras.get_hdf_entries()"
      ]
    },
    {
      "cell_type": "markdown",
      "metadata": {},
      "source": [
        "# Find Paths for Results and Geometry HDF's"
      ]
    },
    {
      "cell_type": "code",
      "execution_count": 9,
      "metadata": {},
      "outputs": [],
      "source": [
        "# Get the plan HDF path for the plan_number defined above\n",
        "plan_hdf_path = ras.plan_df.loc[ras.plan_df['plan_number'] == plan_number, 'HDF_Results_Path'].values[0]"
      ]
    },
    {
      "cell_type": "code",
      "execution_count": 10,
      "metadata": {},
      "outputs": [
        {
          "data": {
            "text/plain": "[\"'d:\\\\\\\\GitHub\\\\\\\\ras-commander\\\\\\\\examples\\\\\\\\example_projects\\\\\\\\Balde Eagle Creek\\\\\\\\BaldEagle.p01.hdf'\"]"
          },
          "execution_count": 10,
          "metadata": {},
          "output_type": "execute_result"
        }
      ],
      "source": [
        "plan_hdf_path"
      ]
    },
    {
      "cell_type": "code",
      "execution_count": 11,
      "metadata": {},
      "outputs": [],
      "source": [
        "# Get the geometry HDF path\n",
        "geom_hdf_path = ras.plan_df.loc[ras.plan_df['plan_number'] == plan_number, 'Geom Path'].values[0] + '.hdf'"
      ]
    },
    {
      "cell_type": "code",
      "execution_count": 12,
      "metadata": {},
      "outputs": [
        {
          "data": {
            "text/plain": "[\"'d:\\\\\\\\GitHub\\\\\\\\ras-commander\\\\\\\\examples\\\\\\\\example_projects\\\\\\\\Balde Eagle Creek\\\\\\\\BaldEagle.g01.hdf'\"]"
          },
          "execution_count": 12,
          "metadata": {},
          "output_type": "execute_result"
        }
      ],
      "source": [
        "geom_hdf_path"
      ]
    },
    {
      "cell_type": "code",
      "execution_count": 13,
      "metadata": {},
      "outputs": [
        {
          "name": "stdout",
          "output_type": "stream",
          "text": [
            "\n",
            "Plan HDF path for Plan 01: d:\\GitHub\\ras-commander\\examples\\example_projects\\Balde Eagle Creek\\BaldEagle.p01.hdf\n",
            "Geometry HDF path for Plan 01: d:\\GitHub\\ras-commander\\examples\\example_projects\\Balde Eagle Creek\\BaldEagle.g01.hdf\n"
          ]
        }
      ],
      "source": [
        "print(f\"\\nPlan HDF path for Plan {plan_number}: {plan_hdf_path}\")\n",
        "print(f\"Geometry HDF path for Plan {plan_number}: {geom_hdf_path}\")"
      ]
    },
    {
      "cell_type": "markdown",
      "metadata": {},
      "source": [
        "## RAS-Commander's Decorators Allow for Flexible Function Calling\n",
        "You can call most of the functions in the HDF* Classes using any of the following:\n",
        "1. Plan/Geometry Number (with or without leading zeros):\n",
        "   - \"01\", \"1\" - Plan/geometry number as string\n",
        "   - 1 - Plan/geometry number as integer\n",
        "   - \"p01\", \"p1\" - Plan number with 'p' prefix\n",
        "2. Direct File Paths:\n",
        "   - pathlib.Path object pointing to HDF file\n",
        "   - String path to HDF file\n",
        "\n",
        "3. h5py.File Objects:\n",
        "   - Already opened HDF file object\n",
        "\n",
        "The @standardize_input decorator handles all these input types consistently:\n",
        "   - Validates the input exists and is accessible\n",
        "   - Converts to proper pathlib.Path object\n",
        "   - Handles RAS object references\n",
        "   - Provides logging and error handling\n",
        "\n",
        "This flexibility makes it easier to work with HDF files in different contexts while maintaining consistent behavior \n",
        "across the codebase, and helps prevent strict typing from introducing unnecessary friction for LLM Coding.\n"
      ]
    },
    {
      "cell_type": "markdown",
      "metadata": {},
      "source": [
        "-----"
      ]
    },
    {
      "cell_type": "markdown",
      "metadata": {},
      "source": [
        "# 1D HDF Data Extraction Examples"
      ]
    },
    {
      "cell_type": "code",
      "execution_count": 14,
      "metadata": {},
      "outputs": [
        {
          "name": "stderr",
          "output_type": "stream",
          "text": [
            "2025-04-09 07:24:49 - ras_commander.HdfResultsPlan - INFO - Final validated HDF file path: d:\\GitHub\\ras-commander\\examples\\example_projects\\Balde Eagle Creek\\BaldEagle.p01.hdf\n",
            "2025-04-09 07:24:49 - ras_commander.HdfResultsPlan - INFO - Extracting Plan Information from: BaldEagle.p01.hdf\n",
            "2025-04-09 07:24:49 - ras_commander.HdfResultsPlan - INFO - Plan Name: Unsteady with Bridges and Dam\n",
            "2025-04-09 07:24:49 - ras_commander.HdfResultsPlan - INFO - Simulation Duration (hours): 149.0\n"
          ]
        },
        {
          "name": "stdout",
          "output_type": "stream",
          "text": [
            "\n",
            "Extracting runtime and compute time data\n"
          ]
        }
      ],
      "source": [
        "# Extract runtime and compute time data as dataframe\n",
        "print(\"\\nExtracting runtime and compute time data\")\n",
        "runtime_df = HdfResultsPlan.get_runtime_data(hdf_path=plan_number)"
      ]
    },
    {
      "cell_type": "code",
      "execution_count": 15,
      "metadata": {},
      "outputs": [
        {
          "data": {
            "text/html": "<div>\n<style scoped>\\n', '    .dataframe tbody tr th:only-of-type {\\n', '        vertical-align: middle;\\n', '    }\\n', '\\n', '    .dataframe tbody tr th {\\n', '        vertical-align: top;\\n', '    }\\n', '\\n', '    .dataframe thead th {\\n', '        text-align: right;\\n', '    }\\n', '</style>\n<table border=\"1\" class=\"dataframe\">\n  <thead>\\n', '    <tr style=\"text-align: right;\">\\n', '      <th></th>\\n', '      <th>Plan Name</th>\\n', '      <th>File Name</th>\\n', '      <th>Simulation Start Time</th>\\n', '      <th>Simulation End Time</th>\\n', '      <th>Simulation Duration (s)</th>\\n', '      <th>Simulation Time (hr)</th>\\n', '      <th>Completing Geometry (hr)</th>\\n', '      <th>Preprocessing Geometry (hr)</th>\\n', '      <th>Completing Event Conditions (hr)</th>\\n', '      <th>Unsteady Flow Computations (hr)</th>\\n', '      <th>Complete Process (hr)</th>\\n', '      <th>Unsteady Flow Speed (hr/hr)</th>\\n', '      <th>Complete Process Speed (hr/hr)</th>\\n', '    </tr>\\n', '  </thead>\n  <tbody>\n    <tr>\\n', '      <th>0</th>\\n', '      <td>Unsteady with Bridges and Dam</td>\\n', '      <td>BaldEagle.p01.hdf</td>\\n', '      <td>1999-02-18</td>\\n', '      <td>1999-02-24 05:00:00</td>\\n', '      <td>536400.0</td>\\n', '      <td>149.0</td>\\n', '      <td>N/A</td>\\n', '      <td>0.042926</td>\\n', '      <td>N/A</td>\\n', '      <td>0.001098</td>\\n', '      <td>0.049271</td>\\n', '      <td>135694.409309</td>\\n', '      <td>3024.10148</td>\\n', '    </tr>\n    <tr><td colspan=\"100%\" style=\"text-align:center\">[... additional rows truncated ...]</td></tr>\n  </tbody>\n</table>\n</div>",
            "text/plain": "['                       Plan Name          File Name Simulation Start Time  \\\\\\n', '0  Unsteady with Bridges and Dam  BaldEagle.p01.hdf            1999-02-18   \\n', '\\n', '  Simulation End Time  Simulation Duration (s)  Simulation Time (hr)  \\\\\\n', '0 1999-02-24 05:00:00                 536400.0                 149.0   \\n', '\\n', '  Completing Geometry (hr)  Preprocessing Geometry (hr)  \\\\\\n', '0                      N/A                     0.042926   \\n', '\\n', '  Completing Event Conditions (hr)  Unsteady Flow Computations (hr)  \\\\\\n', '0                              N/A                         0.001098   \\n', '\\n', '   Complete Process (hr)  Unsteady Flow Speed (hr/hr)  \\\\\\n', '0               0.049271                135694.409309   \\n', '\\n', '   Complete Process Speed (hr/hr)  \\n', '0                      3024.10148  ']"
          },
          "execution_count": 15,
          "metadata": {},
          "output_type": "execute_result"
        }
      ],
      "source": [
        "runtime_df"
      ]
    },
    {
      "cell_type": "code",
      "execution_count": 16,
      "metadata": {},
      "outputs": [
        {
          "name": "stderr",
          "output_type": "stream",
          "text": [
            "2025-04-09 07:24:49 - ras_commander.HdfBase - INFO - Using HDF file from direct string path: d:\\GitHub\\ras-commander\\examples\\example_projects\\Balde Eagle Creek\\BaldEagle.g01.hdf\n",
            "2025-04-09 07:24:49 - ras_commander.HdfBase - INFO - Final validated HDF file path: d:\\GitHub\\ras-commander\\examples\\example_projects\\Balde Eagle Creek\\BaldEagle.g01.hdf\n",
            "2025-04-09 07:24:49 - ras_commander.HdfBase - CRITICAL - No valid projection found. Checked:\n",
            "1. HDF file projection attribute: d:\\GitHub\\ras-commander\\examples\\example_projects\\Balde Eagle Creek\\BaldEagle.g01.hdf\n",
            " was checked and no projection attribute found2. No RASMapper projection file found\n",
            "To fix this:\n",
            "1. Open RASMapper\n",
            "2. Click Map > Set Projection\n",
            "3. Select an appropriate projection file or coordinate system\n",
            "4. Save the RASMapper project\n"
          ]
        },
        {
          "name": "stdout",
          "output_type": "stream",
          "text": [
            "\n",
            "Extracting Projection from HDF\n"
          ]
        }
      ],
      "source": [
        "# Use HdfUtils for extracting projection\n",
        "# This returns a string with the projection as EPSG code (e.g. \"EPSG:6556\"), or None if not found.\n",
        "print(\"\\nExtracting Projection from HDF\")\n",
        "projection = HdfBase.get_projection(hdf_path=geom_hdf_path)  \n",
        "# This projection is returned as EPSG to improve compatibility with geopandas"
      ]
    },
    {
      "cell_type": "code",
      "execution_count": 17,
      "metadata": {},
      "outputs": [],
      "source": [
        "projection\n",
        "### The example project we are using does not have a projection  "
      ]
    },
    {
      "cell_type": "code",
      "execution_count": 18,
      "metadata": {},
      "outputs": [
        {
          "name": "stderr",
          "output_type": "stream",
          "text": [
            "2025-04-09 07:24:49 - ras_commander.RasPlan - INFO - Found geometry path: d:\\GitHub\\ras-commander\\examples\\example_projects\\Balde Eagle Creek\\BaldEagle.g01\n",
            "2025-04-09 07:24:49 - ras_commander.HdfPlan - INFO - Found geometry HDF file for plan 1: d:\\GitHub\\ras-commander\\examples\\example_projects\\Balde Eagle Creek\\BaldEagle.g01.hdf\n",
            "2025-04-09 07:24:49 - ras_commander.HdfPlan - INFO - Final validated HDF file path: d:\\GitHub\\ras-commander\\examples\\example_projects\\Balde Eagle Creek\\BaldEagle.g01.hdf\n",
            "2025-04-09 07:24:49 - ras_commander.HdfPlan - INFO - Getting geometry attributes from d:\\GitHub\\ras-commander\\examples\\example_projects\\Balde Eagle Creek\\BaldEagle.g01.hdf\n",
            "2025-04-09 07:24:49 - ras_commander.HdfPlan - INFO - Checking for Geometry group in d:\\GitHub\\ras-commander\\examples\\example_projects\\Balde Eagle Creek\\BaldEagle.g01.hdf\n",
            "2025-04-09 07:24:49 - ras_commander.HdfPlan - INFO - Getting root level geometry attributes\n",
            "2025-04-09 07:24:49 - ras_commander.HdfPlan - INFO - Successfully extracted 5 root level geometry attributes\n"
          ]
        },
        {
          "name": "stdout",
          "output_type": "stream",
          "text": [
            "\n",
            "Extracting Base Geometry Attributes\n"
          ]
        }
      ],
      "source": [
        "# Use HdfPlan to Get Geometry Information (Base Geometry Attributes) as dataframes\n",
        "print(\"\\nExtracting Base Geometry Attributes\")\n",
        "geom_attrs_df = HdfPlan.get_geometry_information(\"01\")  \n",
        "# NOTE: Here we call the function using the plan number instead of the hdf path to demonstrate that the decorator will work with the plan number\n"
      ]
    },
    {
      "cell_type": "code",
      "execution_count": 19,
      "metadata": {},
      "outputs": [
        {
          "data": {
            "text/html": "<div>\n<style scoped>\\n', '    .dataframe tbody tr th:only-of-type {\\n', '        vertical-align: middle;\\n', '    }\\n', '\\n', '    .dataframe tbody tr th {\\n', '        vertical-align: top;\\n', '    }\\n', '\\n', '    .dataframe thead th {\\n', '        text-align: right;\\n', '    }\\n', '</style>\n<table border=\"1\" class=\"dataframe\">\n  <thead>\\n', '    <tr style=\"text-align: right;\">\\n', '      <th></th>\\n', '      <th>Value</th>\\n', '    </tr>\\n', '  </thead>\n  <tbody>\n    <tr>\\n', '      <th>Complete Geometry</th>\\n', '      <td>True</td>\\n', '    </tr><tr>\\n', '      <th>Extents</th>\\n', '      <td>[1966632.2513, 2066299.3787, 287473.1387, 3540...</td>\\n', '    </tr><tr>\\n', '      <th>Geometry Time</th>\\n', '      <td>2025-04-09 07:13:45</td>\\n', '    </tr><tr>\\n', '      <th>Title</th>\\n', '      <td>Existing Conditions - GIS Data</td>\\n', '    </tr><tr>\\n', '      <th>Version</th>\\n', '      <td>1.0.20 (20Sep2024)</td>\\n', '    </tr>\n    <tr><td colspan=\"100%\" style=\"text-align:center\">[... additional rows truncated ...]</td></tr>\n  </tbody>\n</table>\n</div>",
            "text/plain": "['                                                               Value\\n', 'Complete Geometry                                               True\\n', 'Extents            [1966632.2513, 2066299.3787, 287473.1387, 3540...\\n', 'Geometry Time                                    2025-04-09 07:13:45\\n', 'Title                                 Existing Conditions - GIS Data\\n', 'Version                                           1.0.20 (20Sep2024)']"
          },
          "execution_count": 19,
          "metadata": {},
          "output_type": "execute_result"
        }
      ],
      "source": [
        "geom_attrs_df"
      ]
    },
    {
      "cell_type": "code",
      "execution_count": 20,
      "metadata": {},
      "outputs": [
        {
          "name": "stderr",
          "output_type": "stream",
          "text": [
            "2025-04-09 07:24:49 - ras_commander.HdfStruc - INFO - Using HDF file from direct string path: d:\\GitHub\\ras-commander\\examples\\example_projects\\Balde Eagle Creek\\BaldEagle.g01.hdf\n",
            "2025-04-09 07:24:49 - ras_commander.HdfStruc - INFO - Final validated HDF file path: d:\\GitHub\\ras-commander\\examples\\example_projects\\Balde Eagle Creek\\BaldEagle.g01.hdf\n"
          ]
        },
        {
          "name": "stdout",
          "output_type": "stream",
          "text": [
            "\n",
            "Getting geometry structures attributes\n"
          ]
        }
      ],
      "source": [
        "# Get geometry structures attributes as dataframe\n",
        "print(\"\\nGetting geometry structures attributes\")\n",
        "geom_structures_attrs_df = HdfStruc.get_geom_structures_attrs(geom_hdf_path)"
      ]
    },
    {
      "cell_type": "code",
      "execution_count": 21,
      "metadata": {},
      "outputs": [
        {
          "data": {
            "text/html": "<div>\n<style scoped>\\n', '    .dataframe tbody tr th:only-of-type {\\n', '        vertical-align: middle;\\n', '    }\\n', '\\n', '    .dataframe tbody tr th {\\n', '        vertical-align: top;\\n', '    }\\n', '\\n', '    .dataframe thead th {\\n', '        text-align: right;\\n', '    }\\n', '</style>\n<table border=\"1\" class=\"dataframe\">\n  <thead>\\n', '    <tr style=\"text-align: right;\">\\n', '      <th></th>\\n', '      <th>Bridge/Culvert Count</th>\\n', '      <th>Connection Count</th>\\n', '      <th>Has Bridge Opening (2D)</th>\\n', '      <th>Inline Structure Count</th>\\n', '      <th>Lateral Structure Count</th>\\n', '    </tr>\\n', '  </thead>\n  <tbody>\n    <tr>\\n', '      <th>0</th>\\n', '      <td>10</td>\\n', '      <td>0</td>\\n', '      <td>0</td>\\n', '      <td>1</td>\\n', '      <td>0</td>\\n', '    </tr>\n    <tr><td colspan=\"100%\" style=\"text-align:center\">[... additional rows truncated ...]</td></tr>\n  </tbody>\n</table>\n</div>",
            "text/plain": "['   Bridge/Culvert Count  Connection Count  Has Bridge Opening (2D)  \\\\\\n', '0                    10                 0                        0   \\n', '\\n', '   Inline Structure Count  Lateral Structure Count  \\n', '0                       1                        0  ']"
          },
          "execution_count": 21,
          "metadata": {},
          "output_type": "execute_result"
        }
      ],
      "source": [
        "geom_structures_attrs_df"
      ]
    },
    {
      "cell_type": "code",
      "execution_count": 22,
      "metadata": {},
      "outputs": [],
      "source": [
        "# Instead of hdf_input, USE plan_hdf_path or geom_hdf_path, or the plan number as \"8\" or \"08\" \n",
        "# Input decorators allow for flexible inputs "
      ]
    },
    {
      "cell_type": "code",
      "execution_count": 23,
      "metadata": {},
      "outputs": [
        {
          "name": "stderr",
          "output_type": "stream",
          "text": [
            "2025-04-09 07:24:49 - ras_commander.HdfStruc - INFO - Using HDF file from direct string path: d:\\GitHub\\ras-commander\\examples\\example_projects\\Balde Eagle Creek\\BaldEagle.g01.hdf\n",
            "2025-04-09 07:24:49 - ras_commander.HdfStruc - INFO - Final validated HDF file path: d:\\GitHub\\ras-commander\\examples\\example_projects\\Balde Eagle Creek\\BaldEagle.g01.hdf\n",
            "2025-04-09 07:24:49 - ras_commander.HdfBase - INFO - Using existing Path object HDF file: d:\\GitHub\\ras-commander\\examples\\example_projects\\Balde Eagle Creek\\BaldEagle.g01.hdf\n",
            "2025-04-09 07:24:49 - ras_commander.HdfBase - INFO - Final validated HDF file path: d:\\GitHub\\ras-commander\\examples\\example_projects\\Balde Eagle Creek\\BaldEagle.g01.hdf\n",
            "2025-04-09 07:24:49 - ras_commander.HdfBase - CRITICAL - No valid projection found. Checked:\n",
            "1. HDF file projection attribute: d:\\GitHub\\ras-commander\\examples\\example_projects\\Balde Eagle Creek\\BaldEagle.g01.hdf\n",
            " was checked and no projection attribute found2. No RASMapper projection file found\n",
            "To fix this:\n",
            "1. Open RASMapper\n",
            "2. Click Map > Set Projection\n",
            "3. Select an appropriate projection file or coordinate system\n",
            "4. Save the RASMapper project\n",
            "2025-04-09 07:24:49 - ras_commander.HdfStruc - INFO - Successfully extracted structures GeoDataFrame.\n",
            "2025-04-09 07:24:49 - ras_commander.HdfStruc - INFO - Successfully extracted structures GeoDataFrame with attributes.\n"
          ]
        }
      ],
      "source": [
        "# Get structures as geodataframe\n",
        "structures_gdf = HdfStruc.get_structures(geom_hdf_path)"
      ]
    },
    {
      "cell_type": "code",
      "execution_count": 24,
      "metadata": {},
      "outputs": [
        {
          "data": {
            "text/html": "<div>\n<style scoped>\\n', '    .dataframe tbody tr th:only-of-type {\\n', '        vertical-align: middle;\\n', '    }\\n', '\\n', '    .dataframe tbody tr th {\\n', '        vertical-align: top;\\n', '    }\\n', '\\n', '    .dataframe thead th {\\n', '        text-align: right;\\n', '    }\\n', '</style>\n<table border=\"1\" class=\"dataframe\">\n  <thead>\\n', '    <tr style=\"text-align: right;\">\\n', '      <th></th>\\n', '      <th>Type</th>\\n', '      <th>Mode</th>\\n', '      <th>River</th>\\n', '      <th>Reach</th>\\n', '      <th>RS</th>\\n', '      <th>Connection</th>\\n', '      <th>Groupname</th>\\n', '      <th>US Type</th>\\n', '      <th>US River</th>\\n', '      <th>US Reach</th>\\n', '      <th>...</th>\\n', '      <th>US XS Mann (Count)</th>\\n', '      <th>US BR Mann (Index)</th>\\n', '      <th>US BR Mann (Count)</th>\\n', '      <th>DS XS Mann (Index)</th>\\n', '      <th>DS XS Mann (Count)</th>\\n', '      <th>DS BR Mann (Index)</th>\\n', '      <th>DS BR Mann (Count)</th>\\n', '      <th>RC (Index)</th>\\n', '      <th>RC (Count)</th>\\n', '      <th>Profile_Data</th>\\n', '    </tr>\\n', '  </thead>\n  <tbody>\n    <tr>\\n', '      <th>0</th>\\n', '      <td>Bridge</td>\\n', '      <td></td>\\n', '      <td>Bald Eagle</td>\\n', '      <td>Loc Hav</td>\\n', '      <td>103245</td>\\n', '      <td></td>\\n', '      <td>Bald Eagle, Loc Hav (103245)</td>\\n', '      <td>XS</td>\\n', '      <td>Bald Eagle</td>\\n', '      <td>Loc Hav</td>\\n', '      <td>...</td>\\n', '      <td>0</td>\\n', '      <td>0</td>\\n', '      <td>0</td>\\n', '      <td>0</td>\\n', '      <td>0</td>\\n', '      <td>0</td>\\n', '      <td>0</td>\\n', '      <td>0</td>\\n', '      <td>0</td>\\n', '      <td>[]</td>\\n', '    </tr><tr>\\n', '      <th>1</th>\\n', '      <td>Inline</td>\\n', '      <td></td>\\n', '      <td>Bald Eagle</td>\\n', '      <td>Loc Hav</td>\\n', '      <td>81500</td>\\n', '      <td></td>\\n', '      <td>Bald Eagle, Loc Hav (81500)</td>\\n', '      <td>XS</td>\\n', '      <td>Bald Eagle</td>\\n', '      <td>Loc Hav</td>\\n', '      <td>...</td>\\n', '      <td>0</td>\\n', '      <td>0</td>\\n', '      <td>0</td>\\n', '      <td>0</td>\\n', '      <td>0</td>\\n', '      <td>0</td>\\n', '      <td>0</td>\\n', '      <td>0</td>\\n', '      <td>0</td>\\n', \"      <td>[{'Station': 0.0, 'Elevation': 683.0}, {'Stati...</td>\\n\", '    </tr><tr>\\n', '      <th>2</th>\\n', '      <td>Bridge</td>\\n', '      <td></td>\\n', '      <td>Bald Eagle</td>\\n', '      <td>Loc Hav</td>\\n', '      <td>75960</td>\\n', '      <td></td>\\n', '      <td>Bald Eagle, Loc Hav (75960)</td>\\n', '      <td>XS</td>\\n', '      <td>Bald Eagle</td>\\n', '      <td>Loc Hav</td>\\n', '      <td>...</td>\\n', '      <td>0</td>\\n', '      <td>0</td>\\n', '      <td>0</td>\\n', '      <td>0</td>\\n', '      <td>0</td>\\n', '      <td>0</td>\\n', '      <td>0</td>\\n', '      <td>0</td>\\n', '      <td>0</td>\\n', '      <td>[]</td>\\n', '    </tr><tr>\\n', '      <th>...</th>\\n', '      <td>...</td>\\n', '      <td>...</td>\\n', '      <td>...</td>\\n', '      <td>...</td>\\n', '      <td>...</td>\\n', '      <td>...</td>\\n', '      <td>...</td>\\n', '      <td>...</td>\\n', '      <td>...</td>\\n', '      <td>...</td>\\n', '      <td>...</td>\\n', '      <td>...</td>\\n', '      <td>...</td>\\n', '      <td>...</td>\\n', '      <td>...</td>\\n', '      <td>...</td>\\n', '      <td>...</td>\\n', '      <td>...</td>\\n', '      <td>...</td>\\n', '      <td>...</td>\\n', '      <td>...</td>\\n', '    </tr><tr>\\n', '      <th>8</th>\\n', '      <td>Bridge</td>\\n', '      <td></td>\\n', '      <td>Bald Eagle</td>\\n', '      <td>Loc Hav</td>\\n', '      <td>11985</td>\\n', '      <td></td>\\n', '      <td>Bald Eagle, Loc Hav (11985)</td>\\n', '      <td>XS</td>\\n', '      <td>Bald Eagle</td>\\n', '      <td>Loc Hav</td>\\n', '      <td>...</td>\\n', '      <td>0</td>\\n', '      <td>0</td>\\n', '      <td>0</td>\\n', '      <td>0</td>\\n', '      <td>0</td>\\n', '      <td>0</td>\\n', '      <td>0</td>\\n', '      <td>0</td>\\n', '      <td>0</td>\\n', '      <td>[]</td>\\n', '    </tr>\n    <tr><td colspan=\"100%\" style=\"text-align:center\">[... additional rows truncated ...]</td></tr>\n  </tbody>\n</table>\n</div>",
            "text/plain": "['      Type Mode       River    Reach      RS Connection  \\\\\\n', '0   Bridge       Bald Eagle  Loc Hav  103245              \\n', '1   Inline       Bald Eagle  Loc Hav   81500              \\n', '2   Bridge       Bald Eagle  Loc Hav   75960              \\n', '..     ...  ...         ...      ...     ...        ...   \\n', '8   Bridge       Bald Eagle  Loc Hav   11985              \\n', '9   Bridge       Bald Eagle  Loc Hav    2920              \\n', '10  Bridge       Bald Eagle  Loc Hav    2436              \\n', '\\n', '                       Groupname US Type    US River US Reach  ...  \\\\\\n', '0   Bald Eagle, Loc Hav (103245)      XS  Bald Eagle  Loc Hav  ...   \\n', '1    Bald Eagle, Loc Hav (81500)      XS  Bald Eagle  Loc Hav  ...   \\n', '2    Bald Eagle, Loc Hav (75960)      XS  Bald Eagle  Loc Hav  ...   \\n', '..                           ...     ...         ...      ...  ...   \\n', '8    Bald Eagle, Loc Hav (11985)      XS  Bald Eagle  Loc Hav  ...   \\n', '9     Bald Eagle, Loc Hav (2\n...\n[Output truncated, 3172 characters total]"
          },
          "execution_count": 24,
          "metadata": {},
          "output_type": "execute_result"
        }
      ],
      "source": [
        "structures_gdf"
      ]
    },
    {
      "cell_type": "code",
      "execution_count": 25,
      "metadata": {},
      "outputs": [
        {
          "name": "stderr",
          "output_type": "stream",
          "text": [
            "2025-04-09 07:24:49 - ras_commander.HdfBndry - INFO - Using HDF file from direct string path: d:\\GitHub\\ras-commander\\examples\\example_projects\\Balde Eagle Creek\\BaldEagle.g01.hdf\n",
            "2025-04-09 07:24:49 - ras_commander.HdfBndry - INFO - Final validated HDF file path: d:\\GitHub\\ras-commander\\examples\\example_projects\\Balde Eagle Creek\\BaldEagle.g01.hdf\n"
          ]
        }
      ],
      "source": [
        "# Get reference lines as geodataframe\n",
        "ref_lines_gdf = HdfBndry.get_reference_lines(geom_hdf_path)"
      ]
    },
    {
      "cell_type": "code",
      "execution_count": 26,
      "metadata": {},
      "outputs": [
        {
          "data": {
            "text/html": "<div>\n<style scoped>\\n', '    .dataframe tbody tr th:only-of-type {\\n', '        vertical-align: middle;\\n', '    }\\n', '\\n', '    .dataframe tbody tr th {\\n', '        vertical-align: top;\\n', '    }\\n', '\\n', '    .dataframe thead th {\\n', '        text-align: right;\\n', '    }\\n', '</style>\n<table border=\"1\" class=\"dataframe\">\n  <thead>\\n', '    <tr style=\"text-align: right;\">\\n', '      <th></th>\\n', '    </tr>\\n', '  </thead>\n  <tbody>\n    \n    <tr><td colspan=\"100%\" style=\"text-align:center\">[... additional rows truncated ...]</td></tr>\n  </tbody>\n</table>\n</div>",
            "text/plain": "['Empty GeoDataFrame\\n', 'Columns: []\\n', 'Index: []']"
          },
          "execution_count": 26,
          "metadata": {},
          "output_type": "execute_result"
        }
      ],
      "source": [
        "ref_lines_gdf"
      ]
    },
    {
      "cell_type": "code",
      "execution_count": 27,
      "metadata": {},
      "outputs": [
        {
          "name": "stderr",
          "output_type": "stream",
          "text": [
            "2025-04-09 07:24:49 - ras_commander.HdfBndry - INFO - Using HDF file from direct string path: d:\\GitHub\\ras-commander\\examples\\example_projects\\Balde Eagle Creek\\BaldEagle.g01.hdf\n",
            "2025-04-09 07:24:49 - ras_commander.HdfBndry - INFO - Final validated HDF file path: d:\\GitHub\\ras-commander\\examples\\example_projects\\Balde Eagle Creek\\BaldEagle.g01.hdf\n"
          ]
        }
      ],
      "source": [
        "# Get reference points as geodataframe\n",
        "ref_points_gdf = HdfBndry.get_reference_points(geom_hdf_path)"
      ]
    },
    {
      "cell_type": "code",
      "execution_count": 28,
      "metadata": {},
      "outputs": [
        {
          "data": {
            "text/html": "<div>\n<style scoped>\\n', '    .dataframe tbody tr th:only-of-type {\\n', '        vertical-align: middle;\\n', '    }\\n', '\\n', '    .dataframe tbody tr th {\\n', '        vertical-align: top;\\n', '    }\\n', '\\n', '    .dataframe thead th {\\n', '        text-align: right;\\n', '    }\\n', '</style>\n<table border=\"1\" class=\"dataframe\">\n  <thead>\\n', '    <tr style=\"text-align: right;\">\\n', '      <th></th>\\n', '    </tr>\\n', '  </thead>\n  <tbody>\n    \n    <tr><td colspan=\"100%\" style=\"text-align:center\">[... additional rows truncated ...]</td></tr>\n  </tbody>\n</table>\n</div>",
            "text/plain": "['Empty GeoDataFrame\\n', 'Columns: []\\n', 'Index: []']"
          },
          "execution_count": 28,
          "metadata": {},
          "output_type": "execute_result"
        }
      ],
      "source": [
        "ref_points_gdf"
      ]
    },
    {
      "cell_type": "code",
      "execution_count": 29,
      "metadata": {},
      "outputs": [],
      "source": [
        "# Get cross sections as geodataframe\n",
        "cross_sections_gdf = HdfXsec.get_cross_sections(geom_hdf_path)\n",
        "    "
      ]
    },
    {
      "cell_type": "code",
      "execution_count": 30,
      "metadata": {},
      "outputs": [
        {
          "data": {
            "text/html": "<div>\n<style scoped>\\n', '    .dataframe tbody tr th:only-of-type {\\n', '        vertical-align: middle;\\n', '    }\\n', '\\n', '    .dataframe tbody tr th {\\n', '        vertical-align: top;\\n', '    }\\n', '\\n', '    .dataframe thead th {\\n', '        text-align: right;\\n', '    }\\n', '</style>\n<table border=\"1\" class=\"dataframe\">\n  <thead>\\n', '    <tr style=\"text-align: right;\">\\n', '      <th></th>\\n', '      <th>geometry</th>\\n', '      <th>station_elevation</th>\\n', '      <th>mannings_n</th>\\n', '      <th>ineffective_blocks</th>\\n', '      <th>River</th>\\n', '      <th>Reach</th>\\n', '      <th>RS</th>\\n', '      <th>Name</th>\\n', '      <th>Description</th>\\n', '      <th>Len Left</th>\\n', '      <th>...</th>\\n', '      <th>HP Count</th>\\n', '      <th>HP Start Elev</th>\\n', '      <th>HP Vert Incr</th>\\n', '      <th>HP LOB Slices</th>\\n', '      <th>HP Chan Slices</th>\\n', '      <th>HP ROB Slices</th>\\n', '      <th>Ineff Block Mode</th>\\n', '      <th>Obstr Block Mode</th>\\n', '      <th>Default Centerline</th>\\n', '      <th>Last Edited</th>\\n', '    </tr>\\n', '  </thead>\n  <tbody>\n    <tr>\\n', '      <th>0</th>\\n', '      <td>LINESTRING (1968668.17 290166.79, 1969067.87 2...</td>\\n', '      <td>[[0.0, 660.41], [5.0, 660.61], [40.0, 659.85],...</td>\\n', \"      <td>{'Station': [0.0, 190.0, 375.0], 'Mann n': [0....</td>\\n\", '      <td>[]</td>\\n', '      <td>Bald Eagle</td>\\n', '      <td>Loc Hav</td>\\n', '      <td>138154.4</td>\\n', '      <td></td>\\n', '      <td></td>\\n', '      <td>358.429993</td>\\n', '      <td>...</td>\\n', '      <td>49</td>\\n', '      <td>656.799988</td>\\n', '      <td>1.0</td>\\n', '      <td>5</td>\\n', '      <td>5</td>\\n', '      <td>5</td>\\n', '      <td>0</td>\\n', '      <td>0</td>\\n', '      <td>0</td>\\n', '      <td>18Sep2000 09:10:52</td>\\n', '    </tr><tr>\\n', '      <th>1</th>\\n', '      <td>LINESTRING (1968627.02 290584.12, 1969009.09 2...</td>\\n', '      <td>[[0.0, 664.28], [50.0, 661.73], [55.0, 661.54]...</td>\\n', \"      <td>{'Station': [0.0, 535.0, 672.5599975585938], '...</td>\\n\", '      <td>[]</td>\\n', '      <td>Bald Eagle</td>\\n', '      <td>Loc Hav</td>\\n', '      <td>137690.8</td>\\n', '      <td></td>\\n', '      <td></td>\\n', '      <td>305.709991</td>\\n', '      <td>...</td>\\n', '      <td>65</td>\\n', '      <td>654.229980</td>\\n', '      <td>1.0</td>\\n', '      <td>5</td>\\n', '      <td>5</td>\\n', '      <td>5</td>\\n', '      <td>0</td>\\n', '      <td>0</td>\\n', '      <td>0</td>\\n', '      <td>18Sep2000 09:10:52</td>\\n', '    </tr><tr>\\n', '      <th>2</th>\\n', '      <td>LINESTRING (1968585.88 290854.5, 1968868.02 29...</td>\\n', '      <td>[[0.0, 662.72], [20.0, 665.5], [25.0, 666.48],...</td>\\n', \"      <td>{'Station': [0.0, 580.0, 717.239990234375], 'M...</td>\\n\", '      <td>[]</td>\\n', '      <td>Bald Eagle</td>\\n', '      <td>Loc Hav</td>\\n', '      <td>137327.0</td>\\n', '      <td></td>\\n', '      <td></td>\\n', '      <td>732.929993</td>\\n', '      <td>...</td>\\n', '      <td>66</td>\\n', '      <td>653.900024</td>\\n', '      <td>1.0</td>\\n', '      <td>5</td>\\n', '      <td>5</td>\\n', '      <td>5</td>\\n', '      <td>0</td>\\n', '      <td>0</td>\\n', '      <td>0</td>\\n', '      <td>18Sep2000 09:10:52</td>\\n', '    </tr><tr>\\n', '      <th>...</th>\\n', '      <td>...</td>\\n', '      <td>...</td>\\n', '      <td>...</td>\\n', '      <td>...</td>\\n', '      <td>...</td>\\n', '      <td>...</td>\\n', '      <td>...</td>\\n', '      <td>...</td>\\n', '      <td>...</td>\\n', '      <td>...</td>\\n', '      <td>...</td>\\n', '      <td>...</td>\\n', '      <td>...</td>\\n', '      <td>...</td>\\n', '      <td>...</td>\\n', '      <td>...</td>\\n', '      <td>...</td>\\n', '      <td>...</td>\\n', '      <td>...</td>\\n', '      <td>...</td>\\n', '      <td>...</td>\\n', '    </tr><tr>\\n', '      <th>175</th>\\n', '      <td>LINESTRING (2063077.13 352972.51, 2063714.94 3...</td>\\n', '      <td>[[0.0, 548.4], [130.0, 547.37], [215.0, 546.24...</td>\\n', \"      <td>{'Station': [0.0, 750.0, 1060.010009765625], '...</td>\\n\", '      <td>[]</td>\\n', '      <td>Bald Eagle</td>\\n', '      <td>Loc Hav</td>\\n', '      <td>1692.633</td>\\n', '      <td></td>\\n', '      <td></td>\\n', '      <td>576.940002</td>\\n', '      <td>...</td>\\n', '      <td>58</td>\\n', '      <td>528.669983</td>\\n', '      <td>1.0</td>\\n', '      <td>5</td>\\n', '      <td>5</td>\\n', '      <td>5</td>\\n', '      <td>0</td>\\n', '      <td>0</td>\\n', '      <td>0</td>\\n', '      <td>18Sep2000 09:10:52</td>\\n', '    </tr>\n    <tr><td colspan=\"100%\" style=\"text-align:center\">[... additional rows truncated ...]</td></tr>\n  </tbody>\n</table>\n</div>",
            "text/plain": "['                                              geometry  \\\\\\n', '0    LINESTRING (1968668.17 290166.79, 1969067.87 2...   \\n', '1    LINESTRING (1968627.02 290584.12, 1969009.09 2...   \\n', '2    LINESTRING (1968585.88 290854.5, 1968868.02 29...   \\n', '..                                                 ...   \\n', '175  LINESTRING (2063077.13 352972.51, 2063714.94 3...   \\n', '176  LINESTRING (2063956.46 353190.59, 2064617.71 3...   \\n', '177  LINESTRING (2064505.16 353331.28, 2065091.38 3...   \\n', '\\n', '                                     station_elevation  \\\\\\n', '0    [[0.0, 660.41], [5.0, 660.61], [40.0, 659.85],...   \\n', '1    [[0.0, 664.28], [50.0, 661.73], [55.0, 661.54]...   \\n', '2    [[0.0, 662.72], [20.0, 665.5], [25.0, 666.48],...   \\n', '..                                                 ...   \\n', '175  [[0.0, 548.4], [130.0, 547.37], [215.0, 546.24...   \\n', '176  [[0.0, 547.93], [75.0, 547.5], [145.01, 547.76...   \\n', '177  [[0.0, 539.78], [5.0, 539.74], [40.0, 53\n...\n[Output truncated, 3915 characters total]"
          },
          "execution_count": 30,
          "metadata": {},
          "output_type": "execute_result"
        }
      ],
      "source": [
        "cross_sections_gdf"
      ]
    },
    {
      "cell_type": "code",
      "execution_count": 31,
      "metadata": {},
      "outputs": [
        {
          "name": "stdout",
          "output_type": "stream",
          "text": [
            "\n",
            "Cross Sections with Ineffective Flow Areas:\n"
          ]
        }
      ],
      "source": [
        "# Showing only cross sections with ineffective flow areas\n",
        "\n",
        "# Filter rows where ineffective_blocks is not empty\n",
        "ineffective_xs_gdf = cross_sections_gdf[cross_sections_gdf['ineffective_blocks'].apply(len) > 0]\n",
        "print(\"\\nCross Sections with Ineffective Flow Areas:\")"
      ]
    },
    {
      "cell_type": "code",
      "execution_count": 32,
      "metadata": {},
      "outputs": [
        {
          "data": {
            "text/html": "<div>\n<style scoped>\\n', '    .dataframe tbody tr th:only-of-type {\\n', '        vertical-align: middle;\\n', '    }\\n', '\\n', '    .dataframe tbody tr th {\\n', '        vertical-align: top;\\n', '    }\\n', '\\n', '    .dataframe thead th {\\n', '        text-align: right;\\n', '    }\\n', '</style>\n<table border=\"1\" class=\"dataframe\">\n  <thead>\\n', '    <tr style=\"text-align: right;\">\\n', '      <th></th>\\n', '      <th>geometry</th>\\n', '      <th>station_elevation</th>\\n', '      <th>mannings_n</th>\\n', '      <th>ineffective_blocks</th>\\n', '      <th>River</th>\\n', '      <th>Reach</th>\\n', '      <th>RS</th>\\n', '      <th>Name</th>\\n', '      <th>Description</th>\\n', '      <th>Len Left</th>\\n', '      <th>...</th>\\n', '      <th>HP Count</th>\\n', '      <th>HP Start Elev</th>\\n', '      <th>HP Vert Incr</th>\\n', '      <th>HP LOB Slices</th>\\n', '      <th>HP Chan Slices</th>\\n', '      <th>HP ROB Slices</th>\\n', '      <th>Ineff Block Mode</th>\\n', '      <th>Obstr Block Mode</th>\\n', '      <th>Default Centerline</th>\\n', '      <th>Last Edited</th>\\n', '    </tr>\\n', '  </thead>\n  <tbody>\n    <tr>\\n', '      <th>81</th>\\n', '      <td>LINESTRING (2009787.46 325935.78, 2010709.8 32...</td>\\n', '      <td>[[0.0, 603.79], [2.0, 603.17], [4.0, 602.65], ...</td>\\n', \"      <td>{'Station': [0.0, 1434.0, 1680.0], 'Mann n': [...</td>\\n\", \"      <td>[{'Left Sta': 0.0, 'Right Sta': 1400.0, 'Eleva...</td>\\n\", '      <td>Bald Eagle</td>\\n', '      <td>Loc Hav</td>\\n', '      <td>76002.96</td>\\n', '      <td></td>\\n', '      <td></td>\\n', '      <td>76.320000</td>\\n', '      <td>...</td>\\n', '      <td>24</td>\\n', '      <td>579.500000</td>\\n', '      <td>1.0</td>\\n', '      <td>5</td>\\n', '      <td>5</td>\\n', '      <td>5</td>\\n', '      <td>0</td>\\n', '      <td>0</td>\\n', '      <td>0</td>\\n', '      <td>18Sep2000 09:10:52</td>\\n', '    </tr><tr>\\n', '      <th>82</th>\\n', '      <td>LINESTRING (2009989.76 325990.64, 2010493.79 3...</td>\\n', '      <td>[[0.0, 611.14], [6.0, 611.11], [8.0, 611.06], ...</td>\\n', \"      <td>{'Station': [0.0, 1302.0, 1554.0], 'Mann n': [...</td>\\n\", \"      <td>[{'Left Sta': 0.0, 'Right Sta': 1280.0, 'Eleva...</td>\\n\", '      <td>Bald Eagle</td>\\n', '      <td>Loc Hav</td>\\n', '      <td>75917.82</td>\\n', '      <td></td>\\n', '      <td></td>\\n', '      <td>335.799988</td>\\n', '      <td>...</td>\\n', '      <td>32</td>\\n', '      <td>579.179993</td>\\n', '      <td>1.0</td>\\n', '      <td>5</td>\\n', '      <td>5</td>\\n', '      <td>5</td>\\n', '      <td>0</td>\\n', '      <td>0</td>\\n', '      <td>0</td>\\n', '      <td>18Sep2000 09:10:52</td>\\n', '    </tr><tr>\\n', '      <th>100</th>\\n', '      <td>LINESTRING (2022341.9 333784.25, 2023231.41 33...</td>\\n', '      <td>[[0.0, 600.93], [5.0, 601.88], [35.0, 601.2], ...</td>\\n', \"      <td>{'Station': [0.0, 1390.0, 1600.0], 'Mann n': [...</td>\\n\", \"      <td>[{'Left Sta': 0.0, 'Right Sta': 1340.0, 'Eleva...</td>\\n\", '      <td>Bald Eagle</td>\\n', '      <td>Loc Hav</td>\\n', '      <td>58836.23</td>\\n', '      <td></td>\\n', '      <td></td>\\n', '      <td>147.380005</td>\\n', '      <td>...</td>\\n', '      <td>63</td>\\n', '      <td>563.330017</td>\\n', '      <td>1.0</td>\\n', '      <td>5</td>\\n', '      <td>5</td>\\n', '      <td>5</td>\\n', '      <td>0</td>\\n', '      <td>0</td>\\n', '      <td>0</td>\\n', '      <td>18Sep2000 09:10:52</td>\\n', '    </tr><tr>\\n', '      <th>...</th>\\n', '      <td>...</td>\\n', '      <td>...</td>\\n', '      <td>...</td>\\n', '      <td>...</td>\\n', '      <td>...</td>\\n', '      <td>...</td>\\n', '      <td>...</td>\\n', '      <td>...</td>\\n', '      <td>...</td>\\n', '      <td>...</td>\\n', '      <td>...</td>\\n', '      <td>...</td>\\n', '      <td>...</td>\\n', '      <td>...</td>\\n', '      <td>...</td>\\n', '      <td>...</td>\\n', '      <td>...</td>\\n', '      <td>...</td>\\n', '      <td>...</td>\\n', '      <td>...</td>\\n', '      <td>...</td>\\n', '    </tr><tr>\\n', '      <th>160</th>\\n', '      <td>LINESTRING (2054283.09 350389.32, 2055114.51 3...</td>\\n', '      <td>[[0.0, 574.48], [40.0, 574.08], [45.0, 574.31]...</td>\\n', \"      <td>{'Station': [0.0, 1210.0, 1694.0], 'Mann n': [...</td>\\n\", \"      <td>[{'Left Sta': 0.0, 'Right Sta': 1160.0, 'Eleva...</td>\\n\", '      <td>Bald Eagle</td>\\n', '      <td>Loc Hav</td>\\n', '      <td>11865.80</td>\\n', '      <td></td>\\n', '      <td></td>\\n', '      <td>812.440002</td>\\n', '      <td>...</td>\\n', '      <td>97</td>\\n', '      <td>535.000000</td>\\n', '      <td>1.0</td>\\n', '      <td>5</td>\\n', '      <td>5</td>\\n', '      <td>5</td>\\n', '      <td>0</td>\\n', '      <td>0</td>\\n', '      <td>0</td>\\n', '      <td>18Sep2000 09:10:52</td>\\n', '    </tr>\n    <tr><td colspan=\"100%\" style=\"text-align:center\">[... additional rows truncated ...]</td></tr>\n  </tbody>\n</table>\n</div>",
            "text/plain": "['                                              geometry  \\\\\\n', '81   LINESTRING (2009787.46 325935.78, 2010709.8 32...   \\n', '82   LINESTRING (2009989.76 325990.64, 2010493.79 3...   \\n', '100  LINESTRING (2022341.9 333784.25, 2023231.41 33...   \\n', '..                                                 ...   \\n', '160  LINESTRING (2054283.09 350389.32, 2055114.51 3...   \\n', '173  LINESTRING (2061688.97 352001.74, 2063053.69 3...   \\n', '174  LINESTRING (2061670.21 352090.84, 2063025.55 3...   \\n', '\\n', '                                     station_elevation  \\\\\\n', '81   [[0.0, 603.79], [2.0, 603.17], [4.0, 602.65], ...   \\n', '82   [[0.0, 611.14], [6.0, 611.11], [8.0, 611.06], ...   \\n', '100  [[0.0, 600.93], [5.0, 601.88], [35.0, 601.2], ...   \\n', '..                                                 ...   \\n', '160  [[0.0, 574.48], [40.0, 574.08], [45.0, 574.31]...   \\n', '173  [[90.0, 556.52], [100.5, 557.67], [107.5, 557....   \\n', '174  [[0.0, 551.6], [91.0, 551.38], [129.51, \n...\n[Output truncated, 4273 characters total]"
          },
          "execution_count": 32,
          "metadata": {},
          "output_type": "execute_result"
        }
      ],
      "source": [
        "ineffective_xs_gdf"
      ]
    },
    {
      "cell_type": "code",
      "execution_count": 33,
      "metadata": {},
      "outputs": [
        {
          "name": "stdout",
          "output_type": "stream",
          "text": [
            "\n",
            "Cross Section Information:\n",
            "\n",
            "Cross Section 1:\n",
            "River: Bald Eagle\n",
            "Reach: Loc Hav\n",
            "\n",
            "Geometry:\n",
            "LINESTRING (1968668.17 290166.79, 1969067.87 289778.85)\n",
            "\n",
            "Station-Elevation Points:\n",
            "     #      Station   Elevation        #      Station   Elevation        #      Station   Elevation        #      Station   Elevation        #      Station   Elevation\n",
            "------------------------------------------------------------------------------------------------------------------------------------------------------\n",
            "     1       0.00     660.41         9     190.00     660.21        17     330.00     660.95        25     410.00     671.32        33     480.00     695.50    \n",
            "     2       5.00     660.61        10     195.00     658.98        18     340.00     659.56        26     415.00     672.91        34     485.00     696.55    \n",
            "     3      40.00     659.85        11     197.96     657.39        19     345.00     658.84        27     430.00     678.12        35     514.99     701.46    \n",
            "     4      55.00     659.39        12     200.00     656.30        20     350.00     658.28        28     440.00     683.19        36     520.00     702.14    \n",
            "     5      60.00     659.21        13     305.00     657.15        21     361.39     662.03        29     445.00     685.60        37     525.00     702.64    \n",
            "     6      90.00     658.45        14     310.00     657.68        22     375.00     666.52        30     455.00     688.70        38     530.00     703.31    \n",
            "     7      95.00     658.48        15     320.00     660.58        23     380.00     667.51        31     460.00     689.95        39     535.00     703.91    \n",
            "     8     130.00     659.60        16     324.99     661.39        24     385.00     668.12        32     475.00     694.17        40     557.01     706.27    \n",
            "------------------------------------------------------------------------------------------------------------------------------------------------------\n",
            "\n",
            "Cross Section 2:\n",
            "River: Bald Eagle\n",
            "Reach: Loc Hav\n",
            "\n",
            "Geometry:\n",
            "LINESTRING (1968627.02 290584.12, 1969009.09 290343.13, 1969273.59 290290.23, 1969408.78 290290.23)\n",
            "\n",
            "Station-Elevation Points:\n",
            "     #      Station   Elevation        #      Station   Elevation        #      Station   Elevation        #      Station   Elevation        #      Station   Elevation\n",
            "------------------------------------------------------------------------------------------------------------------------------------------------------\n",
            "     1       0.00     664.28         9     295.00     659.39        17     460.01     660.06        25     565.00     654.38        33     735.00     694.24    \n",
            "     2      50.00     661.73        10     305.00     659.09        18     465.00     660.27        26     570.00     653.73        34     765.00     700.36    \n",
            "     3      55.00     661.54        11     310.00     659.11        19     510.00     659.64        27     650.00     655.99        35     770.00     701.23    \n",
            "     4     160.00     658.65        12     330.01     659.32        20     520.00     659.96        28     655.00     656.16        36     785.00     703.53    \n",
            "     5     165.00     658.65        13     335.00     659.33        21     525.01     660.29        29     660.00     658.06        37     790.00     704.42    \n",
            "     6     180.01     658.79        14     395.00     659.03        22     530.00     660.72        30     672.56     664.59        38     856.65     719.10    \n",
            "     7     250.00     658.98        15     450.00     659.45        23     535.00     660.79        31     705.00     681.46    \n",
            "     8     290.01     659.45        16     451.72     659.56        24     539.95     659.73        32     721.46     689.01    \n",
            "------------------------------------------------------------------------------------------------------------------------------------------------------\n",
            "\n",
            "Cross Section 3:\n",
            "River: Bald Eagle\n",
            "Reach: Loc Hav\n",
            "\n",
            "Geometry:\n",
            "LINESTRING (1968585.88 290854.5, 1968868.02 290736.95, 1969085.5 290672.29, 1969391.15 290672.29)\n",
            "\n",
            "Station-Elevation Points:\n",
            "     #      Station   Elevation        #      Station   Elevation        #      Station   Elevation        #      Station   Elevation        #      Station   Elevation\n",
            "------------------------------------------------------------------------------------------------------------------------------------------------------\n",
            "     1       0.00     662.72         9     305.65     659.33        17     515.00     659.58        25     584.22     658.51        33     745.00     681.14    \n",
            "     2      20.00     665.50        10     385.00     659.68        18     520.00     659.38        26     585.00     658.36        34     750.00     684.43    \n",
            "     3      25.00     666.48        11     390.00     659.67        19     524.99     658.80        27     590.00     656.91        35     770.00     697.71    \n",
            "     4      59.99     664.56        12     420.00     659.08        20     530.00     658.50        28     600.00     653.66        36     795.00     711.50    \n",
            "     5      65.00     664.33        13     455.00     659.67        21     532.54     658.45        29     605.00     653.40        37     800.00     714.13    \n",
            "     6     250.00     659.04        14     460.00     659.72        22     550.00     658.12        30     705.00     656.01        38     815.00     716.88    \n",
            "     7     254.99     658.93        15     465.00     659.69        23     555.00     658.23        31     710.00     659.27        39     820.00     717.76    \n",
            "     8     295.00     659.31        16     485.00     659.78        24     580.00     659.30        32     717.24     663.79        40     838.19     719.88    \n",
            "------------------------------------------------------------------------------------------------------------------------------------------------------\n",
            "\n",
            "Cross Section 4:\n",
            "River: Bald Eagle\n",
            "Reach: Loc Hav\n",
            "\n",
            "Geometry:\n",
            "LINESTRING (1968521.22 291524.58, 1968903.29 291424.66, 1969291.23 291430.54)\n",
            "\n",
            "Station-Elevation Points:\n",
            "     #      Station   Elevation        #      Station   Elevation        #      Station   Elevation        #      Station   Elevation        #      Station   Elevation\n",
            "------------------------------------------------------------------------------------------------------------------------------------------------------\n",
            "     1       0.00     663.72         8     215.01     666.57        15     465.00     658.84        22     680.00     657.03        29     745.00     687.30    \n",
            "     2      40.00     669.65         9     265.00     663.38        16     500.00     659.32        23     685.00     659.22        30     755.00     688.84    \n",
            "     3      45.00     670.46        10     270.00     662.78        17     530.01     659.56        24     700.00     667.37        31     760.00     689.50    \n",
            "     4      50.01     671.71        11     340.00     659.16        18     534.80     657.07        25     700.46     667.61        32     765.00     690.11    \n",
            "     5      55.00     671.42        12     390.00     658.75        19     535.01     656.96        26     715.00     675.36        33     775.00     691.22    \n",
            "     6      60.00     671.18        13     394.92     658.68        20     540.00     653.42        27     720.00     677.43        34     780.00     691.60    \n",
            "     7     210.00     666.85        14     420.00     658.46        21     675.00     655.83        28     735.00     683.26        35     782.90     691.71    \n",
            "------------------------------------------------------------------------------------------------------------------------------------------------------\n",
            "\n",
            "Cross Section 5:\n",
            "River: Bald Eagle\n",
            "Reach: Loc Hav\n",
            "\n",
            "Geometry:\n",
            "LINESTRING (1968468.32 291918.4, 1968715.19 291753.82, 1969255.96 291800.84)\n",
            "\n",
            "Station-Elevation Points:\n",
            "     #      Station   Elevation        #      Station   Elevation        #      Station   Elevation        #      Station   Elevation        #      Station   Elevation\n",
            "------------------------------------------------------------------------------------------------------------------------------------------------------\n",
            "     1       0.00     657.88        15     165.00     667.24        29     360.00     655.61        43     525.00     656.70        57     714.84     663.86    \n",
            "     2      10.00     657.64        16     200.00     656.24        30     365.00     656.53        44     530.00     656.78        58     765.00     684.05    \n",
            "     3      20.00     657.23        17     205.00     655.79        31     390.00     657.64        45     535.00     656.89        59     770.00     685.79    \n",
            "     4      30.00     658.54        18     240.00     657.03        32     395.00     657.76        46     539.89     657.03        60     775.00     686.34    \n",
            "     5      35.00     659.00        19     245.00     657.12        33     410.00     657.39        47     540.01     657.03        61     780.00     686.92    \n",
            "     6      50.00     659.66        20     255.00     657.01        34     415.01     657.42        48     545.00     656.56        62     810.00     690.98    \n",
            "     7      90.00     657.38        21     280.00     656.52        35     430.00     658.08        49     550.00     654.30        63     825.00     692.86    \n",
            "     8      95.00     657.17        22     285.01     656.50        36     435.00     658.10        50     555.00     653.47        64     830.01     692.34    \n",
            "     9     125.00     665.26        23     296.70     656.66        37     445.00     657.95        51     670.00     654.48        65     835.00     691.78    \n",
            "    10     130.00     666.37        24     330.01     657.03        38     480.00     657.92        52     690.00     654.75        66     839.51     691.35    \n",
            "    11     140.00     668.18        25     335.01     656.85        39     485.00     657.80        53     695.00     655.55    \n",
            "    12     145.00     669.24        26     340.00     656.28        40     505.00     656.92        54     700.00     657.67    \n",
            "    13     150.00     671.49        27     350.00     655.05        41     510.00     656.77        55     705.01     659.87    \n",
            "    14     155.00     671.14        28     355.00     654.61        42     515.00     656.69        56     710.00     661.91    \n",
            "------------------------------------------------------------------------------------------------------------------------------------------------------\n"
          ]
        }
      ],
      "source": [
        "# Print first 5 cross sections data\n",
        "print(\"\\nCross Section Information:\")\n",
        "\n",
        "for idx, row in cross_sections_gdf.head(5).iterrows():\n",
        "    print(f\"\\nCross Section {idx + 1}:\")\n",
        "    print(f\"River: {row['River']}\")\n",
        "    print(f\"Reach: {row['Reach']}\")\n",
        "    print(\"\\nGeometry:\")\n",
        "    print(row['geometry'])\n",
        "    print(\"\\nStation-Elevation Points:\")\n",
        "    \n",
        "    # Print header\n",
        "    print(\"     #      Station   Elevation        #      Station   Elevation        #      Station   Elevation        #      Station   Elevation        #      Station   Elevation\")\n",
        "    print(\"-\" * 150)\n",
        "    \n",
        "    # Calculate number of rows needed\n",
        "    points = row['station_elevation']\n",
        "    num_rows = (len(points) + 4) // 5  # Round up division\n",
        "    \n",
        "    # Print points in 5 columns\n",
        "    for i in range(num_rows):\n",
        "        line = \"\"\n",
        "        for j in range(5):\n",
        "            point_idx = i + j * num_rows\n",
        "            if point_idx < len(points):\n",
        "                station, elevation = points[point_idx]\n",
        "                line += f\"{point_idx+1:6d} {station:10.2f} {elevation:10.2f}    \"\n",
        "        print(line)\n",
        "    print(\"-\" * 150)\n"
      ]
    },
    {
      "cell_type": "code",
      "execution_count": 34,
      "metadata": {},
      "outputs": [
        {
          "data": {
            "text/plain": [
              "<Figure size 1500x1000 with 1 Axes>"
            ]
          },
          "metadata": {},
          "output_type": "display_data"
        }
      ],
      "source": [
        "# Plot cross sections on map with matplotlib\n",
        "\n",
        "if generate_plots:\n",
        "    # Create figure and axis\n",
        "    fig, ax = plt.subplots(figsize=(15,10))\n",
        "    \n",
        "    # Plot cross sections\n",
        "    cross_sections_gdf.plot(ax=ax, color='red', linewidth=1, label='Cross Sections')\n",
        "    \n",
        "    # Add river name and reach labels\n",
        "    #for idx, row in cross_sections_gdf.iterrows():\n",
        "    #    # Get midpoint of cross section line for label placement\n",
        "    #    midpoint = row.geometry.centroid\n",
        "    #    label = f\"{row['River']}\\n{row['Reach']}\\nRS: {row['RS']}\"\n",
        "    #    ax.annotate(label, (midpoint.x, midpoint.y), \n",
        "    #               xytext=(5, 5), textcoords='offset points',\n",
        "    #               fontsize=8, bbox=dict(facecolor='white', alpha=0.7))\n",
        "    \n",
        "    # Customize plot\n",
        "    ax.set_title('Cross Sections Location Map')\n",
        "    ax.grid(True)\n",
        "    ax.legend()\n",
        "    \n",
        "    # Equal aspect ratio to preserve shape\n",
        "    ax.set_aspect('equal')\n",
        "    \n",
        "    plt.tight_layout()\n",
        "    plt.show()"
      ]
    },
    {
      "cell_type": "code",
      "execution_count": 35,
      "metadata": {},
      "outputs": [
        {
          "data": {
            "text/plain": [
              "<Figure size 2000x1000 with 2 Axes>"
            ]
          },
          "metadata": {},
          "output_type": "display_data"
        }
      ],
      "source": [
        "# Plot cross sections with Manning's n values colored by value\n",
        "\n",
        "if generate_plots:\n",
        "    # Create figure\n",
        "    fig, ax1 = plt.subplots(figsize=(20,10))\n",
        "\n",
        "    # Create colormap\n",
        "    cmap = plt.cm.viridis\n",
        "    norm = plt.Normalize(vmin=0.02, vmax=0.08)  # Typical Manning's n range\n",
        "\n",
        "    # Plot cross sections colored by Manning's n\n",
        "    for idx, row in cross_sections_gdf.iterrows():\n",
        "        # Extract Manning's n values and stations\n",
        "        mannings = row['mannings_n']\n",
        "        n_values = mannings['Mann n']\n",
        "        stations = mannings['Station']\n",
        "        \n",
        "        # Get the full linestring coordinates\n",
        "        line_coords = list(row.geometry.coords)\n",
        "        \n",
        "        # Calculate total length of the cross section\n",
        "        total_length = row.geometry.length\n",
        "        \n",
        "        # For each Manning's n segment\n",
        "        for i in range(len(n_values)-1):\n",
        "            # Calculate the start and end proportions along the line\n",
        "            start_prop = stations[i] / stations[-1]\n",
        "            end_prop = stations[i+1] / stations[-1]\n",
        "            \n",
        "            # Get the start and end points for this segment\n",
        "            start_idx = int(start_prop * (len(line_coords)-1))\n",
        "            end_idx = int(end_prop * (len(line_coords)-1))\n",
        "            \n",
        "            # Extract the segment coordinates\n",
        "            segment_coords = line_coords[start_idx:end_idx+1]\n",
        "            \n",
        "            if len(segment_coords) >= 2:\n",
        "                # Create a line segment\n",
        "                segment = LineString(segment_coords)\n",
        "                \n",
        "                # Get color from colormap for this n value\n",
        "                color = cmap(norm(n_values[i]))\n",
        "                \n",
        "                # Plot the segment\n",
        "                ax1.plot(*segment.xy, color=color, linewidth=2)\n",
        "\n",
        "    # Add colorbar\n",
        "    sm = plt.cm.ScalarMappable(cmap=cmap, norm=norm)\n",
        "    sm.set_array([])\n",
        "    plt.colorbar(sm, ax=ax1, label=\"Manning's n Value\")\n",
        "\n",
        "    ax1.set_title(\"Cross Sections Colored by Manning's n Values\")\n",
        "    ax1.grid(True)\n",
        "    ax1.set_aspect('equal')\n",
        "\n",
        "    plt.tight_layout()\n",
        "    plt.show()"
      ]
    },
    {
      "cell_type": "code",
      "execution_count": 36,
      "metadata": {},
      "outputs": [
        {
          "data": {
            "text/plain": [
              "<Figure size 2000x1000 with 1 Axes>"
            ]
          },
          "metadata": {},
          "output_type": "display_data"
        }
      ],
      "source": [
        "# Plot cross sections with ineffective flow areas\n",
        "\n",
        "if generate_plots:\n",
        "    # Create figure\n",
        "    fig, ax2 = plt.subplots(figsize=(20,10))\n",
        "\n",
        "    # Plot all cross sections first\n",
        "    cross_sections_gdf.plot(ax=ax2, color='lightgray', linewidth=1, label='Cross Sections')\n",
        "\n",
        "    # Plot ineffective flow areas with thicker lines\n",
        "    ineffective_sections = cross_sections_gdf[cross_sections_gdf['ineffective_blocks'].apply(lambda x: len(x) > 0)]\n",
        "    ineffective_sections.plot(ax=ax2, color='red', linewidth=3, label='Ineffective Flow Areas')\n",
        "\n",
        "    # Add ineffective flow area labels with offset to lower right\n",
        "    for idx, row in cross_sections_gdf.iterrows():\n",
        "        # Get midpoint of cross section line\n",
        "        midpoint = row.geometry.centroid\n",
        "        \n",
        "        # Extract ineffective flow blocks\n",
        "        ineff_blocks = row['ineffective_blocks']\n",
        "        \n",
        "        if ineff_blocks:  # Only label if there are ineffective blocks\n",
        "            label_parts = []\n",
        "            # Add RS to first line of label\n",
        "            label_parts.append(f\"RS: {row['RS']}\")\n",
        "            for block in ineff_blocks:\n",
        "                label_parts.append(\n",
        "                    f\"L:{block['Left Sta']:.0f}-R:{block['Right Sta']:.0f}\\n\"\n",
        "                    f\"Elev: {block['Elevation']:.2f}\\n\"\n",
        "                    f\"Permanent: {block['Permanent']}\"\n",
        "                )\n",
        "            \n",
        "            label = '\\n'.join(label_parts)\n",
        "            \n",
        "            ax2.annotate(label, (midpoint.x, midpoint.y),\n",
        "                        xytext=(15, -15),  # Offset to lower right\n",
        "                        textcoords='offset points',\n",
        "                        fontsize=8, \n",
        "                        bbox=dict(facecolor='white', alpha=0.7),\n",
        "                        arrowprops=dict(arrowstyle='->'),\n",
        "                        horizontalalignment='left',\n",
        "                        verticalalignment='top')\n",
        "\n",
        "    ax2.set_title('Cross Sections with Ineffective Flow Areas')\n",
        "    ax2.grid(True)\n",
        "    ax2.legend()\n",
        "    ax2.set_aspect('equal')\n",
        "\n",
        "    plt.tight_layout()\n",
        "    plt.show()"
      ]
    },
    {
      "cell_type": "code",
      "execution_count": 37,
      "metadata": {},
      "outputs": [
        {
          "data": {
            "text/plain": [
              "<Figure size 1200x800 with 1 Axes>"
            ]
          },
          "metadata": {},
          "output_type": "display_data"
        }
      ],
      "source": [
        "# Plot cross section elevation for cross section 42\n",
        "if generate_plots:\n",
        "    # Get cross sections data\n",
        "    cross_sections_gdf = HdfXsec.get_cross_sections(geom_hdf_path)\n",
        "\n",
        "    if not cross_sections_gdf.empty:\n",
        "        # Get station-elevation data for cross section 42\n",
        "        station_elevation = cross_sections_gdf.iloc[42]['station_elevation']\n",
        "        \n",
        "        # Convert list of lists to numpy arrays for plotting\n",
        "        stations = np.array([point[0] for point in station_elevation])\n",
        "        elevations = np.array([point[1] for point in station_elevation])\n",
        "        \n",
        "        # Create figure and axis\n",
        "        fig, ax = plt.subplots(figsize=(12,8))\n",
        "        \n",
        "        # Plot cross section\n",
        "        ax.plot(stations, elevations, 'b-', linewidth=2)\n",
        "        \n",
        "        # Add labels and title\n",
        "        river = cross_sections_gdf.iloc[42]['River']\n",
        "        reach = cross_sections_gdf.iloc[42]['Reach'] \n",
        "        rs = cross_sections_gdf.iloc[42]['RS']\n",
        "        \n",
        "        # Show bank stations as dots\n",
        "        left_bank_station = cross_sections_gdf.iloc[42]['Left Bank']\n",
        "        right_bank_station = cross_sections_gdf.iloc[42]['Right Bank']\n",
        "        \n",
        "        # Get elevations at bank stations\n",
        "        left_bank_elev = elevations[np.searchsorted(stations, left_bank_station)]\n",
        "        right_bank_elev = elevations[np.searchsorted(stations, right_bank_station)]\n",
        "        \n",
        "        # Plot bank stations with dots\n",
        "        ax.plot(left_bank_station, left_bank_elev, 'ro')\n",
        "        ax.plot(right_bank_station, right_bank_elev, 'ro')\n",
        "        \n",
        "        # Add bank station labels with station and elevation\n",
        "        ax.annotate(f'Left Bank\\nStation: {left_bank_station:.1f}\\nElevation: {left_bank_elev:.1f}',\n",
        "                   (left_bank_station, left_bank_elev),\n",
        "                   xytext=(-50, 30),\n",
        "                   textcoords='offset points',\n",
        "                   bbox=dict(facecolor='white', alpha=0.8),\n",
        "                   arrowprops=dict(arrowstyle='->'))\n",
        "                   \n",
        "        ax.annotate(f'Right Bank\\nStation: {right_bank_station:.1f}\\nElevation: {right_bank_elev:.1f}',\n",
        "                   (right_bank_station, right_bank_elev), \n",
        "                   xytext=(50, 30),\n",
        "                   textcoords='offset points',\n",
        "                   bbox=dict(facecolor='white', alpha=0.8),\n",
        "                   arrowprops=dict(arrowstyle='->'))\n",
        "        \n",
        "        ax.set_title(f'Cross Section Profile\\nRiver: {river}, Reach: {reach}, RS: {rs}')\n",
        "        ax.set_xlabel('Station (ft)')\n",
        "        ax.set_ylabel('Elevation (ft)')\n",
        "        \n",
        "        # Add grid\n",
        "        ax.grid(True)\n",
        "        \n",
        "        plt.tight_layout()\n",
        "        plt.show()\n"
      ]
    },
    {
      "cell_type": "code",
      "execution_count": 38,
      "metadata": {},
      "outputs": [
        {
          "name": "stderr",
          "output_type": "stream",
          "text": [
            "2025-04-09 07:24:52 - ras_commander.HdfXsec - INFO - Using HDF file from direct string path: d:\\GitHub\\ras-commander\\examples\\example_projects\\Balde Eagle Creek\\BaldEagle.g01.hdf\n",
            "2025-04-09 07:24:52 - ras_commander.HdfXsec - INFO - Final validated HDF file path: d:\\GitHub\\ras-commander\\examples\\example_projects\\Balde Eagle Creek\\BaldEagle.g01.hdf\n",
            "2025-04-09 07:24:52 - ras_commander.HdfBase - INFO - Using existing Path object HDF file: d:\\GitHub\\ras-commander\\examples\\example_projects\\Balde Eagle Creek\\BaldEagle.g01.hdf\n",
            "2025-04-09 07:24:52 - ras_commander.HdfBase - INFO - Final validated HDF file path: d:\\GitHub\\ras-commander\\examples\\example_projects\\Balde Eagle Creek\\BaldEagle.g01.hdf\n",
            "2025-04-09 07:24:52 - ras_commander.HdfBase - INFO - Using existing Path object HDF file: d:\\GitHub\\ras-commander\\examples\\example_projects\\Balde Eagle Creek\\BaldEagle.g01.hdf\n",
            "2025-04-09 07:24:52 - ras_commander.HdfBase - INFO - Final validated HDF file path: d:\\GitHub\\ras-commander\\examples\\example_projects\\Balde Eagle Creek\\BaldEagle.g01.hdf\n",
            "2025-04-09 07:24:52 - ras_commander.HdfBase - CRITICAL - No valid projection found. Checked:\n",
            "1. HDF file projection attribute: d:\\GitHub\\ras-commander\\examples\\example_projects\\Balde Eagle Creek\\BaldEagle.g01.hdf\n",
            " was checked and no projection attribute found2. No RASMapper projection file found\n",
            "To fix this:\n",
            "1. Open RASMapper\n",
            "2. Click Map > Set Projection\n",
            "3. Select an appropriate projection file or coordinate system\n",
            "4. Save the RASMapper project\n",
            "2025-04-09 07:24:52 - ras_commander.HdfXsec - INFO - Extracted 1 river centerlines\n"
          ]
        }
      ],
      "source": [
        "# Get river centerlines as geodataframe\n",
        "centerlines_gdf = HdfXsec.get_river_centerlines(geom_hdf_path)"
      ]
    },
    {
      "cell_type": "code",
      "execution_count": 39,
      "metadata": {},
      "outputs": [
        {
          "name": "stdout",
          "output_type": "stream",
          "text": [
            "\n",
            "River Centerlines:\n"
          ]
        },
        {
          "data": {
            "text/html": "<div>\n<style scoped>\\n', '    .dataframe tbody tr th:only-of-type {\\n', '        vertical-align: middle;\\n', '    }\\n', '\\n', '    .dataframe tbody tr th {\\n', '        vertical-align: top;\\n', '    }\\n', '\\n', '    .dataframe thead th {\\n', '        text-align: right;\\n', '    }\\n', '</style>\n<table border=\"1\" class=\"dataframe\">\n  <thead>\\n', '    <tr style=\"text-align: right;\">\\n', '      <th></th>\\n', '      <th>River Name</th>\\n', '      <th>Reach Name</th>\\n', '      <th>US Type</th>\\n', '      <th>US Name</th>\\n', '      <th>DS Type</th>\\n', '      <th>DS Name</th>\\n', '      <th>Junction to US XS</th>\\n', '      <th>DS XS to Junction</th>\\n', '      <th>geometry</th>\\n', '      <th>length</th>\\n', '    </tr>\\n', '  </thead>\n  <tbody>\n    <tr>\\n', '      <th>0</th>\\n', '      <td>Bald Eagle</td>\\n', '      <td>Loc Hav</td>\\n', '      <td>External</td>\\n', '      <td></td>\\n', '      <td>External</td>\\n', '      <td></td>\\n', '      <td>NaN</td>\\n', '      <td>NaN</td>\\n', '      <td>LINESTRING (1967609.38 288126.34, 1967754.63 2...</td>\\n', '      <td>140451.729879</td>\\n', '    </tr>\n    <tr><td colspan=\"100%\" style=\"text-align:center\">[... additional rows truncated ...]</td></tr>\n  </tbody>\n</table>\n</div>",
            "text/plain": "['   River Name Reach Name   US Type US Name   DS Type DS Name  \\\\\\n', '0  Bald Eagle    Loc Hav  External          External           \\n', '\\n', '   Junction to US XS  DS XS to Junction  \\\\\\n', '0                NaN                NaN   \\n', '\\n', '                                            geometry         length  \\n', '0  LINESTRING (1967609.38 288126.34, 1967754.63 2...  140451.729879  ']"
          },
          "execution_count": 39,
          "metadata": {},
          "output_type": "execute_result"
        }
      ],
      "source": [
        "print(\"\\nRiver Centerlines:\")\n",
        "centerlines_gdf"
      ]
    },
    {
      "cell_type": "code",
      "execution_count": 40,
      "metadata": {},
      "outputs": [
        {
          "data": {
            "text/plain": [
              "<Figure size 1500x1000 with 1 Axes>"
            ]
          },
          "metadata": {},
          "output_type": "display_data"
        }
      ],
      "source": [
        "# Plot river centerlines with labels\n",
        "if generate_plots:\n",
        "    # Create figure and axis\n",
        "    fig, ax = plt.subplots(figsize=(15, 10))\n",
        "\n",
        "    # Plot centerlines\n",
        "    centerlines_gdf.plot(ax=ax, color='blue', linewidth=2, label='River Centerline')\n",
        "\n",
        "    # Add river/reach labels\n",
        "    for idx, row in centerlines_gdf.iterrows():\n",
        "        # Get midpoint of the line for label placement\n",
        "        midpoint = row.geometry.interpolate(0.5, normalized=True)\n",
        "        \n",
        "        # Create label text combining river and reach names\n",
        "        label = f\"{row['River Name']}\\n{row['Reach Name']}\"\n",
        "        \n",
        "        # Add text annotation\n",
        "        ax.annotate(label, \n",
        "                    xy=(midpoint.x, midpoint.y),\n",
        "                    xytext=(10, 10), # Offset text slightly\n",
        "                    textcoords='offset points',\n",
        "                    fontsize=10,\n",
        "                    bbox=dict(facecolor='white', edgecolor='none', alpha=0.7))\n",
        "\n",
        "    # Add labels and title\n",
        "    ax.set_title('River Centerlines', fontsize=14)\n",
        "    ax.set_xlabel('Easting', fontsize=12)\n",
        "    ax.set_ylabel('Northing', fontsize=12)\n",
        "\n",
        "    # Add legend\n",
        "    ax.legend(fontsize=12)\n",
        "\n",
        "    # Add grid\n",
        "    ax.grid(True)\n",
        "\n",
        "    # Adjust layout\n",
        "    plt.tight_layout()\n",
        "\n",
        "    # Show plot\n",
        "    plt.show()\n",
        "\n"
      ]
    },
    {
      "cell_type": "code",
      "execution_count": 41,
      "metadata": {},
      "outputs": [
        {
          "name": "stderr",
          "output_type": "stream",
          "text": [
            "2025-04-09 07:24:52 - ras_commander.HdfXsec - INFO - Using HDF file from direct string path: d:\\GitHub\\ras-commander\\examples\\example_projects\\Balde Eagle Creek\\BaldEagle.g01.hdf\n",
            "2025-04-09 07:24:52 - ras_commander.HdfXsec - INFO - Final validated HDF file path: d:\\GitHub\\ras-commander\\examples\\example_projects\\Balde Eagle Creek\\BaldEagle.g01.hdf\n",
            "2025-04-09 07:24:52 - ras_commander.HdfBase - INFO - Using existing Path object HDF file: d:\\GitHub\\ras-commander\\examples\\example_projects\\Balde Eagle Creek\\BaldEagle.g01.hdf\n",
            "2025-04-09 07:24:52 - ras_commander.HdfBase - INFO - Final validated HDF file path: d:\\GitHub\\ras-commander\\examples\\example_projects\\Balde Eagle Creek\\BaldEagle.g01.hdf\n",
            "2025-04-09 07:24:52 - ras_commander.HdfBase - INFO - Using existing Path object HDF file: d:\\GitHub\\ras-commander\\examples\\example_projects\\Balde Eagle Creek\\BaldEagle.g01.hdf\n",
            "2025-04-09 07:24:52 - ras_commander.HdfBase - INFO - Final validated HDF file path: d:\\GitHub\\ras-commander\\examples\\example_projects\\Balde Eagle Creek\\BaldEagle.g01.hdf\n",
            "2025-04-09 07:24:52 - ras_commander.HdfBase - CRITICAL - No valid projection found. Checked:\n",
            "1. HDF file projection attribute: d:\\GitHub\\ras-commander\\examples\\example_projects\\Balde Eagle Creek\\BaldEagle.g01.hdf\n",
            " was checked and no projection attribute found2. No RASMapper projection file found\n",
            "To fix this:\n",
            "1. Open RASMapper\n",
            "2. Click Map > Set Projection\n",
            "3. Select an appropriate projection file or coordinate system\n",
            "4. Save the RASMapper project\n"
          ]
        }
      ],
      "source": [
        "# Get river edge lines as geodataframe\n",
        "edge_lines_gdf = HdfXsec.get_river_edge_lines(geom_hdf_path)\n"
      ]
    },
    {
      "cell_type": "code",
      "execution_count": 42,
      "metadata": {},
      "outputs": [
        {
          "name": "stdout",
          "output_type": "stream",
          "text": [
            "\n",
            "River Edge Lines:\n"
          ]
        },
        {
          "data": {
            "text/html": "<div>\n<style scoped>\\n', '    .dataframe tbody tr th:only-of-type {\\n', '        vertical-align: middle;\\n', '    }\\n', '\\n', '    .dataframe tbody tr th {\\n', '        vertical-align: top;\\n', '    }\\n', '\\n', '    .dataframe thead th {\\n', '        text-align: right;\\n', '    }\\n', '</style>\n<table border=\"1\" class=\"dataframe\">\n  <thead>\\n', '    <tr style=\"text-align: right;\">\\n', '      <th></th>\\n', '      <th>edge_id</th>\\n', '      <th>bank_side</th>\\n', '      <th>geometry</th>\\n', '      <th>length</th>\\n', '    </tr>\\n', '  </thead>\n  <tbody>\n    <tr>\\n', '      <th>0</th>\\n', '      <td>NaN</td>\\n', '      <td>NaN</td>\\n', '      <td>LINESTRING (1968668.17 290166.79, 1968673.632 ...</td>\\n', '      <td>141615.154108</td>\\n', '    </tr><tr>\\n', '      <th>1</th>\\n', '      <td>NaN</td>\\n', '      <td>NaN</td>\\n', '      <td>LINESTRING (1969067.87 289778.85, 1969194.669 ...</td>\\n', '      <td>130396.337697</td>\\n', '    </tr>\n    <tr><td colspan=\"100%\" style=\"text-align:center\">[... additional rows truncated ...]</td></tr>\n  </tbody>\n</table>\n</div>",
            "text/plain": "['   edge_id  bank_side                                           geometry  \\\\\\n', '0      NaN        NaN  LINESTRING (1968668.17 290166.79, 1968673.632 ...   \\n', '1      NaN        NaN  LINESTRING (1969067.87 289778.85, 1969194.669 ...   \\n', '\\n', '          length  \\n', '0  141615.154108  \\n', '1  130396.337697  ']"
          },
          "execution_count": 42,
          "metadata": {},
          "output_type": "execute_result"
        }
      ],
      "source": [
        "print(\"\\nRiver Edge Lines:\")\n",
        "edge_lines_gdf"
      ]
    },
    {
      "cell_type": "code",
      "execution_count": 43,
      "metadata": {},
      "outputs": [
        {
          "name": "stderr",
          "output_type": "stream",
          "text": [
            "2025-04-09 07:24:52 - ras_commander.HdfXsec - INFO - Using HDF file from direct string path: d:\\GitHub\\ras-commander\\examples\\example_projects\\Balde Eagle Creek\\BaldEagle.g01.hdf\n",
            "2025-04-09 07:24:52 - ras_commander.HdfXsec - INFO - Final validated HDF file path: d:\\GitHub\\ras-commander\\examples\\example_projects\\Balde Eagle Creek\\BaldEagle.g01.hdf\n",
            "2025-04-09 07:24:52 - ras_commander.HdfBase - INFO - Using existing Path object HDF file: d:\\GitHub\\ras-commander\\examples\\example_projects\\Balde Eagle Creek\\BaldEagle.g01.hdf\n",
            "2025-04-09 07:24:52 - ras_commander.HdfBase - INFO - Final validated HDF file path: d:\\GitHub\\ras-commander\\examples\\example_projects\\Balde Eagle Creek\\BaldEagle.g01.hdf\n",
            "2025-04-09 07:24:52 - ras_commander.HdfBase - INFO - Using existing Path object HDF file: d:\\GitHub\\ras-commander\\examples\\example_projects\\Balde Eagle Creek\\BaldEagle.g01.hdf\n",
            "2025-04-09 07:24:52 - ras_commander.HdfBase - INFO - Final validated HDF file path: d:\\GitHub\\ras-commander\\examples\\example_projects\\Balde Eagle Creek\\BaldEagle.g01.hdf\n",
            "2025-04-09 07:24:52 - ras_commander.HdfBase - CRITICAL - No valid projection found. Checked:\n",
            "1. HDF file projection attribute: d:\\GitHub\\ras-commander\\examples\\example_projects\\Balde Eagle Creek\\BaldEagle.g01.hdf\n",
            " was checked and no projection attribute found2. No RASMapper projection file found\n",
            "To fix this:\n",
            "1. Open RASMapper\n",
            "2. Click Map > Set Projection\n",
            "3. Select an appropriate projection file or coordinate system\n",
            "4. Save the RASMapper project\n"
          ]
        }
      ],
      "source": [
        "# Get bank lines as geodataframe\n",
        "bank_lines_gdf = HdfXsec.get_river_bank_lines(geom_hdf_path)\n"
      ]
    },
    {
      "cell_type": "code",
      "execution_count": 44,
      "metadata": {},
      "outputs": [
        {
          "name": "stdout",
          "output_type": "stream",
          "text": [
            "\n",
            "River Bank Lines:\n"
          ]
        },
        {
          "data": {
            "text/html": "<div>\n<style scoped>\\n', '    .dataframe tbody tr th:only-of-type {\\n', '        vertical-align: middle;\\n', '    }\\n', '\\n', '    .dataframe tbody tr th {\\n', '        vertical-align: top;\\n', '    }\\n', '\\n', '    .dataframe thead th {\\n', '        text-align: right;\\n', '    }\\n', '</style>\n<table border=\"1\" class=\"dataframe\">\n  <thead>\\n', '    <tr style=\"text-align: right;\">\\n', '      <th></th>\\n', '      <th>bank_id</th>\\n', '      <th>bank_side</th>\\n', '      <th>geometry</th>\\n', '      <th>length</th>\\n', '    </tr>\\n', '  </thead>\n  <tbody>\n    <tr>\\n', '      <th>0</th>\\n', '      <td>0</td>\\n', '      <td>Left</td>\\n', '      <td>LINESTRING (1968804.51 290034.461, 1968930.093...</td>\\n', '      <td>139546.829503</td>\\n', '    </tr><tr>\\n', '      <th>1</th>\\n', '      <td>1</td>\\n', '      <td>Right</td>\\n', '      <td>LINESTRING (1968937.263 289905.614, 1969101.06...</td>\\n', '      <td>139349.187666</td>\\n', '    </tr>\n    <tr><td colspan=\"100%\" style=\"text-align:center\">[... additional rows truncated ...]</td></tr>\n  </tbody>\n</table>\n</div>",
            "text/plain": "['   bank_id bank_side                                           geometry  \\\\\\n', '0        0      Left  LINESTRING (1968804.51 290034.461, 1968930.093...   \\n', '1        1     Right  LINESTRING (1968937.263 289905.614, 1969101.06...   \\n', '\\n', '          length  \\n', '0  139546.829503  \\n', '1  139349.187666  ']"
          },
          "execution_count": 44,
          "metadata": {},
          "output_type": "execute_result"
        }
      ],
      "source": [
        "print(\"\\nRiver Bank Lines:\")\n",
        "bank_lines_gdf"
      ]
    },
    {
      "cell_type": "code",
      "execution_count": 45,
      "metadata": {},
      "outputs": [
        {
          "data": {
            "text/plain": [
              "<Figure size 1500x1000 with 1 Axes>"
            ]
          },
          "metadata": {},
          "output_type": "display_data"
        }
      ],
      "source": [
        "# Create figure and axis\n",
        "\n",
        "if generate_plots:\n",
        "    fig, ax = plt.subplots(figsize=(15, 10))\n",
        "\n",
        "    # Plot river edge lines\n",
        "    edge_lines_gdf.plot(ax=ax, color='blue', linewidth=2, label='River Edge Lines')\n",
        "\n",
        "    # Plot centerlines for reference\n",
        "    centerlines_gdf.plot(ax=ax, color='red', linewidth=2, linestyle='--', label='River Centerline')\n",
        "\n",
        "    # Plot river bank lines\n",
        "    bank_lines_gdf.plot(ax=ax, color='green', linewidth=2, label='River Bank Lines')\n",
        "\n",
        "    # Add title and labels\n",
        "    ax.set_title('River Edge Lines, Centerline, and Bank Lines', fontsize=14)\n",
        "    ax.set_xlabel('Easting', fontsize=12)\n",
        "    ax.set_ylabel('Northing', fontsize=12)\n",
        "\n",
        "    # Add legend\n",
        "    ax.legend(fontsize=12)\n",
        "\n",
        "    # Add grid\n",
        "    ax.grid(True)\n",
        "\n",
        "    # Adjust layout\n",
        "    plt.tight_layout()\n",
        "\n",
        "    # Show plot\n",
        "    plt.show()"
      ]
    },
    {
      "cell_type": "code",
      "execution_count": 46,
      "metadata": {},
      "outputs": [
        {
          "name": "stdout",
          "output_type": "stream",
          "text": [
            "\n",
            "Structures Summary:\n",
            "Number of structures found: 11\n",
            "\n",
            "Structure Details:\n",
            "   Structure ID\n",
            "0             1\n",
            "1             2\n",
            "2             3\n",
            "3             4\n",
            "4             5\n"
          ]
        },
        {
          "data": {
            "text/plain": [
              "<Figure size 1500x1000 with 1 Axes>"
            ]
          },
          "metadata": {},
          "output_type": "display_data"
        },
        {
          "name": "stdout",
          "output_type": "stream",
          "text": [
            "\n",
            "Cross Sections Summary:\n",
            "Number of cross sections found: 178\n",
            "\n",
            "Cross Section Details:\n",
            "        River    Reach\n",
            "0  Bald Eagle  Loc Hav\n",
            "1  Bald Eagle  Loc Hav\n",
            "2  Bald Eagle  Loc Hav\n",
            "3  Bald Eagle  Loc Hav\n",
            "4  Bald Eagle  Loc Hav\n"
          ]
        }
      ],
      "source": [
        "# Extract 1D Structures Geodataframe\n",
        "\n",
        "\n",
        "\n",
        "# Display basic information about the structures\n",
        "print(\"\\nStructures Summary:\")\n",
        "print(f\"Number of structures found: {len(structures_gdf)}\")\n",
        "structures_gdf\n",
        "\n",
        "# Display first few rows of key attributes\n",
        "print(\"\\nStructure Details:\")\n",
        "display_cols = ['Structure ID', 'Structure Type', 'River Name', 'Reach Name', 'Station']\n",
        "display_cols = [col for col in display_cols if col in structures_gdf.columns]\n",
        "if display_cols:\n",
        "    print(structures_gdf[display_cols].head())\n",
        "\n",
        "\n",
        "if generate_plots:\n",
        "\n",
        "    # Create visualization\n",
        "    fig, ax = plt.subplots(figsize=(15, 10))\n",
        "\n",
        "    # Plot river centerlines\n",
        "    if not centerlines_gdf.empty:\n",
        "        centerlines_gdf.plot(ax=ax, color='blue', linewidth=2, label='River Centerlines')\n",
        "\n",
        "    # Plot cross sections\n",
        "    if not cross_sections_gdf.empty:\n",
        "        cross_sections_gdf.plot(ax=ax, color='green', linewidth=1, label='Cross Sections')\n",
        "\n",
        "    # Plot structures\n",
        "    if not structures_gdf.empty:\n",
        "        structures_gdf.plot(ax=ax, color='red', marker='s', markersize=100, label='Structures')\n",
        "\n",
        "    # Add title and labels\n",
        "    ax.set_title('HEC-RAS Model Components', fontsize=14)\n",
        "    ax.set_xlabel('Easting', fontsize=12)\n",
        "    ax.set_ylabel('Northing', fontsize=12)\n",
        "\n",
        "    # Add legend\n",
        "    ax.legend(fontsize=12)\n",
        "\n",
        "    # Add grid\n",
        "    ax.grid(True)\n",
        "\n",
        "    # Adjust layout\n",
        "    plt.tight_layout()\n",
        "\n",
        "    # Show plot\n",
        "    plt.show()\n",
        "\n",
        "# Print summary of cross sections\n",
        "print(\"\\nCross Sections Summary:\")\n",
        "print(f\"Number of cross sections found: {len(cross_sections_gdf)}\")\n",
        "if not cross_sections_gdf.empty:\n",
        "    print(\"\\nCross Section Details:\")\n",
        "    xs_display_cols = ['River', 'Reach', 'Station']\n",
        "    xs_display_cols = [col for col in xs_display_cols if col in cross_sections_gdf.columns]\n",
        "    if xs_display_cols:\n",
        "        print(cross_sections_gdf[xs_display_cols].head())\n"
      ]
    },
    {
      "cell_type": "code",
      "execution_count": 47,
      "metadata": {},
      "outputs": [
        {
          "name": "stderr",
          "output_type": "stream",
          "text": [
            "2025-04-09 07:24:53 - ras_commander.HdfPlan - INFO - Using HDF file from direct string path: d:\\GitHub\\ras-commander\\examples\\example_projects\\Balde Eagle Creek\\BaldEagle.p01.hdf\n",
            "2025-04-09 07:24:53 - ras_commander.HdfPlan - INFO - Final validated HDF file path: d:\\GitHub\\ras-commander\\examples\\example_projects\\Balde Eagle Creek\\BaldEagle.p01.hdf\n"
          ]
        },
        {
          "name": "stdout",
          "output_type": "stream",
          "text": [
            "\n",
            "Example 12: Extracting Plan Parameters and Volume Accounting Data\n"
          ]
        }
      ],
      "source": [
        "# Extract Plan Parameters\n",
        "print(\"\\nExample 12: Extracting Plan Parameters and Volume Accounting Data\")\n",
        "\n",
        "plan_parameters_df = HdfPlan.get_plan_parameters(hdf_path=plan_hdf_path)"
      ]
    },
    {
      "cell_type": "code",
      "execution_count": 48,
      "metadata": {},
      "outputs": [
        {
          "name": "stdout",
          "output_type": "stream",
          "text": [
            "\n",
            "Plan Parameters DataFrame:\n"
          ]
        },
        {
          "data": {
            "text/html": "<div>\n<style scoped>\\n', '    .dataframe tbody tr th:only-of-type {\\n', '        vertical-align: middle;\\n', '    }\\n', '\\n', '    .dataframe tbody tr th {\\n', '        vertical-align: top;\\n', '    }\\n', '\\n', '    .dataframe thead th {\\n', '        text-align: right;\\n', '    }\\n', '</style>\n<table border=\"1\" class=\"dataframe\">\n  <thead>\\n', '    <tr style=\"text-align: right;\">\\n', '      <th></th>\\n', '      <th>Plan</th>\\n', '      <th>Parameter</th>\\n', '      <th>Value</th>\\n', '    </tr>\\n', '  </thead>\n  <tbody>\n    <tr>\\n', '      <th>0</th>\\n', '      <td>01</td>\\n', '      <td>1D Cores</td>\\n', '      <td>0</td>\\n', '    </tr><tr>\\n', '      <th>1</th>\\n', '      <td>01</td>\\n', '      <td>1D Flow Tolerance</td>\\n', '      <td>NaN</td>\\n', '    </tr><tr>\\n', '      <th>2</th>\\n', '      <td>01</td>\\n', '      <td>1D Maximum Iterations</td>\\n', '      <td>20</td>\\n', '    </tr><tr>\\n', '      <th>...</th>\\n', '      <td>...</td>\\n', '      <td>...</td>\\n', '      <td>...</td>\\n', '    </tr><tr>\\n', '      <th>29</th>\\n', '      <td>01</td>\\n', '      <td>HDF Write Time Slices</td>\\n', '      <td>False</td>\\n', '    </tr>\n    <tr><td colspan=\"100%\" style=\"text-align:center\">[... additional rows truncated ...]</td></tr>\n  </tbody>\n</table>\n</div>",
            "text/plain": "['   Plan              Parameter  Value\\n', '0    01               1D Cores      0\\n', '1    01      1D Flow Tolerance    NaN\\n', '2    01  1D Maximum Iterations     20\\n', '..  ...                    ...    ...\\n', '29   01  HDF Write Time Slices  False\\n', '30   01       HDF Write Warmup  False\\n', '31   01         Pardiso Solver  False\\n', '\\n', '[32 rows x 3 columns]']"
          },
          "execution_count": 48,
          "metadata": {},
          "output_type": "execute_result"
        }
      ],
      "source": [
        "print(\"\\nPlan Parameters DataFrame:\")\n",
        "plan_parameters_df"
      ]
    },
    {
      "cell_type": "code",
      "execution_count": 49,
      "metadata": {},
      "outputs": [
        {
          "name": "stderr",
          "output_type": "stream",
          "text": [
            "2025-04-09 07:24:53 - ras_commander.HdfResultsPlan - INFO - Using HDF file from direct string path: d:\\GitHub\\ras-commander\\examples\\example_projects\\Balde Eagle Creek\\BaldEagle.p01.hdf\n",
            "2025-04-09 07:24:53 - ras_commander.HdfResultsPlan - INFO - Final validated HDF file path: d:\\GitHub\\ras-commander\\examples\\example_projects\\Balde Eagle Creek\\BaldEagle.p01.hdf\n"
          ]
        }
      ],
      "source": [
        "# Extract volume accounting data\n",
        "volume_accounting_df = HdfResultsPlan.get_volume_accounting(hdf_path=plan_hdf_path)"
      ]
    },
    {
      "cell_type": "code",
      "execution_count": 50,
      "metadata": {},
      "outputs": [
        {
          "name": "stdout",
          "output_type": "stream",
          "text": [
            "\n",
            "Volume Accounting DataFrame:\n"
          ]
        },
        {
          "data": {
            "text/html": "<div>\n<style scoped>\\n', '    .dataframe tbody tr th:only-of-type {\\n', '        vertical-align: middle;\\n', '    }\\n', '\\n', '    .dataframe tbody tr th {\\n', '        vertical-align: top;\\n', '    }\\n', '\\n', '    .dataframe thead th {\\n', '        text-align: right;\\n', '    }\\n', '</style>\n<table border=\"1\" class=\"dataframe\">\n  <thead>\\n', '    <tr style=\"text-align: right;\">\\n', '      <th></th>\\n', '      <th>Error</th>\\n', '      <th>Error Percent</th>\\n', '      <th>Total Boundary Flux of Water In</th>\\n', '      <th>Total Boundary Flux of Water Out</th>\\n', '      <th>Vol Accounting in</th>\\n', '      <th>Volume Ending</th>\\n', '      <th>Volume Starting</th>\\n', '    </tr>\\n', '  </thead>\n  <tbody>\n    <tr>\\n', '      <th>0</th>\\n', '      <td>-29.546846</td>\\n', '      <td>0.014071</td>\\n', '      <td>200682.453125</td>\\n', '      <td>112574.828125</td>\\n', '      <td>Acre Feet</td>\\n', '      <td>97384.882812</td>\\n', '      <td>9306.797852</td>\\n', '    </tr>\n    <tr><td colspan=\"100%\" style=\"text-align:center\">[... additional rows truncated ...]</td></tr>\n  </tbody>\n</table>\n</div>",
            "text/plain": "['       Error  Error Percent  Total Boundary Flux of Water In  \\\\\\n', '0 -29.546846       0.014071                    200682.453125   \\n', '\\n', '   Total Boundary Flux of Water Out Vol Accounting in  Volume Ending  \\\\\\n', '0                     112574.828125         Acre Feet   97384.882812   \\n', '\\n', '   Volume Starting  \\n', '0      9306.797852  ']"
          },
          "execution_count": 50,
          "metadata": {},
          "output_type": "execute_result"
        }
      ],
      "source": [
        "print(\"\\nVolume Accounting DataFrame:\")\n",
        "volume_accounting_df"
      ]
    },
    {
      "cell_type": "code",
      "execution_count": 51,
      "metadata": {},
      "outputs": [
        {
          "name": "stderr",
          "output_type": "stream",
          "text": [
            "2025-04-09 07:24:53 - ras_commander.HdfPlan - INFO - Using HDF file from direct string path: d:\\GitHub\\ras-commander\\examples\\example_projects\\Balde Eagle Creek\\BaldEagle.p01.hdf\n",
            "2025-04-09 07:24:53 - ras_commander.HdfPlan - INFO - Final validated HDF file path: d:\\GitHub\\ras-commander\\examples\\example_projects\\Balde Eagle Creek\\BaldEagle.p01.hdf\n"
          ]
        },
        {
          "name": "stdout",
          "output_type": "stream",
          "text": [
            "Simulation start time: 1999-02-18 00:00:00\n"
          ]
        }
      ],
      "source": [
        "# Get simulation start time\n",
        "start_time = HdfPlan.get_plan_start_time(plan_hdf_path)\n",
        "print(f\"Simulation start time: {start_time}\")"
      ]
    },
    {
      "cell_type": "code",
      "execution_count": 52,
      "metadata": {},
      "outputs": [
        {
          "name": "stderr",
          "output_type": "stream",
          "text": [
            "2025-04-09 07:24:53 - ras_commander.HdfPlan - INFO - Using HDF file from direct string path: d:\\GitHub\\ras-commander\\examples\\example_projects\\Balde Eagle Creek\\BaldEagle.p01.hdf\n",
            "2025-04-09 07:24:53 - ras_commander.HdfPlan - INFO - Final validated HDF file path: d:\\GitHub\\ras-commander\\examples\\example_projects\\Balde Eagle Creek\\BaldEagle.p01.hdf\n"
          ]
        },
        {
          "name": "stdout",
          "output_type": "stream",
          "text": [
            "Simulation end time: 1999-02-24 05:00:00\n"
          ]
        }
      ],
      "source": [
        "# Get plan end time\n",
        "end_time = HdfPlan.get_plan_end_time(plan_hdf_path)\n",
        "print(f\"Simulation end time: {end_time}\")"
      ]
    },
    {
      "cell_type": "code",
      "execution_count": 53,
      "metadata": {},
      "outputs": [
        {
          "name": "stderr",
          "output_type": "stream",
          "text": [
            "2025-04-09 07:24:53 - ras_commander.HdfResultsXsec - INFO - Using HDF file from direct string path: d:\\GitHub\\ras-commander\\examples\\example_projects\\Balde Eagle Creek\\BaldEagle.p01.hdf\n",
            "2025-04-09 07:24:53 - ras_commander.HdfResultsXsec - INFO - Final validated HDF file path: d:\\GitHub\\ras-commander\\examples\\example_projects\\Balde Eagle Creek\\BaldEagle.p01.hdf\n"
          ]
        },
        {
          "name": "stdout",
          "output_type": "stream",
          "text": [
            "\n",
            "Cross Section Results Shape: (150, 178)\n",
            "\n",
            "Number of cross sections in geometry: 178\n",
            "\n",
            "First few cross section names:\n",
            "['Bald Eagle       Loc Hav          138154.4'\n",
            " 'Bald Eagle       Loc Hav          137690.8'\n",
            " 'Bald Eagle       Loc Hav          137327.0'\n",
            " 'Bald Eagle       Loc Hav          136564.9'\n",
            " 'Bald Eagle       Loc Hav          136202.3']\n",
            "\n",
            "Number of cross sections processed: 178\n",
            "\n",
            "Columns in xs_df: ['xs_name', 'x', 'y', 'max_wsel', 'time_of_max']\n",
            "\n",
            "First row of xs_df:\n",
            "xs_name        Bald Eagle       Loc Hav          138154.4\n",
            "x                                              1968668.17\n",
            "y                                               290166.79\n",
            "max_wsel                                       672.808289\n",
            "time_of_max                           1999-02-19 15:00:00\n",
            "Name: 0, dtype: object\n"
          ]
        },
        {
          "data": {
            "text/plain": [
              "<Figure size 1200x800 with 2 Axes>"
            ]
          },
          "metadata": {},
          "output_type": "display_data"
        },
        {
          "name": "stdout",
          "output_type": "stream",
          "text": [
            "\n",
            "Overall Maximum WSEL: 672.81 ft\n",
            "Time of Overall Maximum WSEL: 1999-02-19 15:00:00\n",
            "Hours since simulation start: 0.00 hours\n",
            "Location of Overall Maximum WSEL: X=1968668.17, Y=290166.79\n",
            "Cross Section: Bald Eagle       Loc Hav          138154.4\n"
          ]
        }
      ],
      "source": [
        "# Plot the time of maximum water surface elevation (WSEL) for cross sections\n",
        "\n",
        "# Get cross section results timeseries\n",
        "xsec_results_xr = HdfResultsXsec.get_xsec_timeseries(plan_hdf_path)\n",
        "print(\"\\nCross Section Results Shape:\", xsec_results_xr['Water_Surface'].shape)\n",
        "\n",
        "# Get cross section geometry data\n",
        "xsec_geom = HdfXsec.get_cross_sections(plan_hdf_path)\n",
        "print(\"\\nNumber of cross sections in geometry:\", len(xsec_geom))\n",
        "\n",
        "# Create dataframe with cross section locations and max WSEL times\n",
        "xs_data = []\n",
        "\n",
        "# Extract water surface data from xarray Dataset\n",
        "water_surface = xsec_results_xr['Water_Surface'].values\n",
        "times = pd.to_datetime(xsec_results_xr.time.values)\n",
        "\n",
        "# Debug print\n",
        "print(\"\\nFirst few cross section names:\")\n",
        "print(xsec_results_xr.cross_section.values[:5])\n",
        "\n",
        "# Iterate through cross sections\n",
        "for xs_idx in range(len(xsec_results_xr.cross_section)):\n",
        "    # Get WSEL timeseries for this cross section\n",
        "    wsel_series = water_surface[:, xs_idx]\n",
        "    \n",
        "    # Get cross section name and parse components\n",
        "    xs_name = xsec_results_xr.cross_section.values[xs_idx]\n",
        "    \n",
        "    # Split the string and remove empty strings\n",
        "    xs_parts = [part for part in xs_name.split() if part]\n",
        "    \n",
        "    if len(xs_parts) >= 3:\n",
        "        river = \"Bald Eagle\"  # Combine first two words\n",
        "        reach = \"Loc Hav\"     # Next two words\n",
        "        rs = xs_parts[-1]     # Last part is the station\n",
        "        \n",
        "        # Get geometry for this cross section\n",
        "        xs_match = xsec_geom[\n",
        "            (xsec_geom['River'] == river) & \n",
        "            (xsec_geom['Reach'] == reach) & \n",
        "            (xsec_geom['RS'] == rs)\n",
        "        ]\n",
        "        \n",
        "        if not xs_match.empty:\n",
        "            geom = xs_match.iloc[0]\n",
        "            # Use first point of cross section line for plotting\n",
        "            x = geom.geometry.coords[0][0]\n",
        "            y = geom.geometry.coords[0][1]\n",
        "            \n",
        "            # Find time of max WSEL\n",
        "            max_wsel_idx = np.argmax(wsel_series)\n",
        "            max_wsel = np.max(wsel_series)\n",
        "            max_time = times[max_wsel_idx]\n",
        "            \n",
        "            xs_data.append({\n",
        "                'xs_name': xs_name,\n",
        "                'x': x,\n",
        "                'y': y,\n",
        "                'max_wsel': max_wsel,\n",
        "                'time_of_max': max_time\n",
        "            })\n",
        "        else:\n",
        "            print(f\"\\nWarning: No geometry match found for {xs_name}\")\n",
        "            print(f\"River: {river}, Reach: {reach}, RS: {rs}\")\n",
        "    else:\n",
        "        print(f\"\\nWarning: Could not parse cross section name: {xs_name}\")\n",
        "\n",
        "# Create dataframe\n",
        "xs_df = pd.DataFrame(xs_data)\n",
        "\n",
        "# Debug print\n",
        "print(\"\\nNumber of cross sections processed:\", len(xs_df))\n",
        "\n",
        "\n",
        "\n",
        "\n",
        "if generate_plots:\n",
        "    print(\"\\nColumns in xs_df:\", xs_df.columns.tolist())\n",
        "    print(\"\\nFirst row of xs_df:\")\n",
        "    print(xs_df.iloc[0])\n",
        "\n",
        "    # Create the plot\n",
        "    fig, ax = plt.subplots(figsize=(12, 8))\n",
        "\n",
        "    # Convert datetime to hours since start for colormap\n",
        "    min_time = min(xs_df['time_of_max'])\n",
        "    color_values = [(t - min_time).total_seconds() / 3600 for t in xs_df['time_of_max']]\n",
        "\n",
        "    # Plot cross section points\n",
        "    scatter = ax.scatter(xs_df['x'], xs_df['y'],\n",
        "                        c=color_values,\n",
        "                        cmap='viridis',\n",
        "                        s=50)\n",
        "\n",
        "    # Customize plot\n",
        "    ax.set_title('Time of Maximum Water Surface Elevation at Cross Sections')\n",
        "    ax.set_xlabel('X Coordinate')\n",
        "    ax.set_ylabel('Y Coordinate')\n",
        "\n",
        "    # Add colorbar\n",
        "    cbar = plt.colorbar(scatter)\n",
        "    cbar.set_label('Hours since simulation start')\n",
        "\n",
        "    # Format colorbar ticks\n",
        "    max_hours = int(max(color_values))\n",
        "    tick_interval = max(1, max_hours // 6)  # Show ~6 ticks\n",
        "    cbar.set_ticks(range(0, max_hours + 1, tick_interval))\n",
        "    cbar.set_ticklabels([f'{h}h' for h in range(0, max_hours + 1, tick_interval)])\n",
        "\n",
        "    # Add grid and adjust styling\n",
        "    ax.grid(True, linestyle='--', alpha=0.7)\n",
        "    plt.rcParams.update({'font.size': 12})\n",
        "    plt.tight_layout()\n",
        "\n",
        "    # Show plot\n",
        "    plt.show()\n",
        "\n",
        "    # Print summary statistics\n",
        "    max_wsel_xs = xs_df.loc[xs_df['max_wsel'].idxmax()]\n",
        "    hours_since_start = (max_wsel_xs['time_of_max'] - min_time).total_seconds() / 3600\n",
        "\n",
        "    print(f\"\\nOverall Maximum WSEL: {max_wsel_xs['max_wsel']:.2f} ft\")\n",
        "    print(f\"Time of Overall Maximum WSEL: {max_wsel_xs['time_of_max']}\")\n",
        "    print(f\"Hours since simulation start: {hours_since_start:.2f} hours\")\n",
        "    print(f\"Location of Overall Maximum WSEL: X={max_wsel_xs['x']:.2f}, Y={max_wsel_xs['y']:.2f}\")\n",
        "    print(f\"Cross Section: {max_wsel_xs['xs_name']}\")\n"
      ]
    },
    {
      "cell_type": "code",
      "execution_count": 54,
      "metadata": {},
      "outputs": [
        {
          "name": "stderr",
          "output_type": "stream",
          "text": [
            "2025-04-09 07:24:54 - ras_commander.HdfResultsPlan - INFO - Using HDF file from direct string path: d:\\GitHub\\ras-commander\\examples\\example_projects\\Balde Eagle Creek\\BaldEagle.p01.hdf\n",
            "2025-04-09 07:24:54 - ras_commander.HdfResultsPlan - INFO - Final validated HDF file path: d:\\GitHub\\ras-commander\\examples\\example_projects\\Balde Eagle Creek\\BaldEagle.p01.hdf\n"
          ]
        }
      ],
      "source": [
        "# Get unsteady attributes as dataframe\n",
        "results_unsteady_attrs = HdfResultsPlan.get_unsteady_info(plan_hdf_path)"
      ]
    },
    {
      "cell_type": "code",
      "execution_count": 55,
      "metadata": {},
      "outputs": [
        {
          "data": {
            "text/html": "<div>\n<style scoped>\\n', '    .dataframe tbody tr th:only-of-type {\\n', '        vertical-align: middle;\\n', '    }\\n', '\\n', '    .dataframe tbody tr th {\\n', '        vertical-align: top;\\n', '    }\\n', '\\n', '    .dataframe thead th {\\n', '        text-align: right;\\n', '    }\\n', '</style>\n<table border=\"1\" class=\"dataframe\">\n  <thead>\\n', '    <tr style=\"text-align: right;\">\\n', '      <th></th>\\n', '      <th>Plan Title</th>\\n', '      <th>Program Name</th>\\n', '      <th>Program Version</th>\\n', '      <th>Project File Name</th>\\n', '      <th>Project Title</th>\\n', '      <th>Short ID</th>\\n', '      <th>Simulation Time Window</th>\\n', '      <th>Type of Run</th>\\n', '    </tr>\\n', '  </thead>\n  <tbody>\n    <tr>\\n', '      <th>0</th>\\n', '      <td>Unsteady with Bridges and Dam</td>\\n', '      <td>HEC-RAS - River Analysis System</td>\\n', '      <td>HEC-RAS 6.6 September 2024</td>\\n', '      <td>d:\\\\GitHub\\\\ras-commander\\\\examples\\\\example_proje...</td>\\n', '      <td>Bald Eagle Cr. for the WCDS Project</td>\\n', '      <td>UnsteadyFlow</td>\\n', '      <td>17Feb1999 2400 to 24Feb1999 0500</td>\\n', '      <td>Unsteady Flow Analysis</td>\\n', '    </tr>\n    <tr><td colspan=\"100%\" style=\"text-align:center\">[... additional rows truncated ...]</td></tr>\n  </tbody>\n</table>\n</div>",
            "text/plain": "['                      Plan Title                     Program Name  \\\\\\n', '0  Unsteady with Bridges and Dam  HEC-RAS - River Analysis System   \\n', '\\n', '              Program Version  \\\\\\n', '0  HEC-RAS 6.6 September 2024   \\n', '\\n', '                                   Project File Name  \\\\\\n', '0  d:\\\\GitHub\\\\ras-commander\\\\examples\\\\example_proje...   \\n', '\\n', '                         Project Title      Short ID  \\\\\\n', '0  Bald Eagle Cr. for the WCDS Project  UnsteadyFlow   \\n', '\\n', '             Simulation Time Window             Type of Run  \\n', '0  17Feb1999 2400 to 24Feb1999 0500  Unsteady Flow Analysis  ']"
          },
          "execution_count": 55,
          "metadata": {},
          "output_type": "execute_result"
        }
      ],
      "source": [
        "results_unsteady_attrs"
      ]
    },
    {
      "cell_type": "code",
      "execution_count": 56,
      "metadata": {},
      "outputs": [
        {
          "name": "stderr",
          "output_type": "stream",
          "text": [
            "2025-04-09 07:24:54 - ras_commander.HdfResultsPlan - INFO - Using HDF file from direct string path: d:\\GitHub\\ras-commander\\examples\\example_projects\\Balde Eagle Creek\\BaldEagle.p01.hdf\n",
            "2025-04-09 07:24:54 - ras_commander.HdfResultsPlan - INFO - Final validated HDF file path: d:\\GitHub\\ras-commander\\examples\\example_projects\\Balde Eagle Creek\\BaldEagle.p01.hdf\n"
          ]
        }
      ],
      "source": [
        "# Get unsteady summary attributes as dataframe\n",
        "results_unsteady_summary_attrs = HdfResultsPlan.get_unsteady_summary(plan_hdf_path)"
      ]
    },
    {
      "cell_type": "code",
      "execution_count": 57,
      "metadata": {},
      "outputs": [
        {
          "data": {
            "text/html": "<div>\n<style scoped>\\n', '    .dataframe tbody tr th:only-of-type {\\n', '        vertical-align: middle;\\n', '    }\\n', '\\n', '    .dataframe tbody tr th {\\n', '        vertical-align: top;\\n', '    }\\n', '\\n', '    .dataframe thead th {\\n', '        text-align: right;\\n', '    }\\n', '</style>\n<table border=\"1\" class=\"dataframe\">\n  <thead>\\n', '    <tr style=\"text-align: right;\">\\n', '      <th></th>\\n', '      <th>Computation Time DSS</th>\\n', '      <th>Computation Time Total</th>\\n', '      <th>Maximum WSEL Error</th>\\n', '      <th>Maximum number of cores</th>\\n', '      <th>Run Time Window</th>\\n', '      <th>Solution</th>\\n', '      <th>Time Solution Went Unstable</th>\\n', '      <th>Time Stamp Solution Went Unstable</th>\\n', '    </tr>\\n', '  </thead>\n  <tbody>\n    <tr>\\n', '      <th>0</th>\\n', '      <td>00:00:00</td>\\n', '      <td>00:00:03</td>\\n', '      <td>0.009995</td>\\n', '      <td>1</td>\\n', '      <td>09APR2025 07:16:26 to 09APR2025 07:16:29</td>\\n', '      <td>Unsteady Finished Successfully</td>\\n', '      <td>NaN</td>\\n', '      <td>Not Applicable</td>\\n', '    </tr>\n    <tr><td colspan=\"100%\" style=\"text-align:center\">[... additional rows truncated ...]</td></tr>\n  </tbody>\n</table>\n</div>",
            "text/plain": "['  Computation Time DSS Computation Time Total  Maximum WSEL Error  \\\\\\n', '0             00:00:00               00:00:03            0.009995   \\n', '\\n', '   Maximum number of cores                           Run Time Window  \\\\\\n', '0                        1  09APR2025 07:16:26 to 09APR2025 07:16:29   \\n', '\\n', '                         Solution  Time Solution Went Unstable  \\\\\\n', '0  Unsteady Finished Successfully                          NaN   \\n', '\\n', '  Time Stamp Solution Went Unstable  \\n', '0                    Not Applicable  ']"
          },
          "execution_count": 57,
          "metadata": {},
          "output_type": "execute_result"
        }
      ],
      "source": [
        "results_unsteady_summary_attrs"
      ]
    },
    {
      "cell_type": "code",
      "execution_count": null,
      "metadata": {},
      "outputs": [],
      "source": []
    },
    {
      "cell_type": "markdown",
      "metadata": {},
      "source": [
        "# 1D Cross Section Results as Xarray"
      ]
    },
    {
      "cell_type": "code",
      "execution_count": 58,
      "metadata": {},
      "outputs": [
        {
          "name": "stderr",
          "output_type": "stream",
          "text": [
            "2025-04-09 07:24:54 - ras_commander.HdfResultsXsec - INFO - Using HDF file from direct string path: d:\\GitHub\\ras-commander\\examples\\example_projects\\Balde Eagle Creek\\BaldEagle.p01.hdf\n",
            "2025-04-09 07:24:54 - ras_commander.HdfResultsXsec - INFO - Final validated HDF file path: d:\\GitHub\\ras-commander\\examples\\example_projects\\Balde Eagle Creek\\BaldEagle.p01.hdf\n"
          ]
        }
      ],
      "source": [
        "# Get cross section results timeseries as xarray dataset\n",
        "xsec_results_xr = HdfResultsXsec.get_xsec_timeseries(plan_hdf_path)"
      ]
    },
    {
      "cell_type": "code",
      "execution_count": 59,
      "metadata": {},
      "outputs": [
        {
          "data": {
            "text/html": "<div><pre>xarray.Dataset with (time: 150, cross_section: 178)\\n', 'Coordinates:\\n', '  * time                      (time) datetime64[ns] 1kB 1999-02-18 ... 1999-0...\\n', '  * cross_section             (cross_section) &lt;U42 30kB &#x27;Bald Eagle       Loc...\\n', '    River                     (cross_section) &lt;U10 7kB &#x27;Bald Eagle&#x27; ... &#x27;Bald...\\n', '    Reach                     (cross_section) &lt;U7 5kB &#x27;Loc Hav&#x27; ... &#x27;Loc Hav&#x27;\\n', '    Station                   (cross_section) &lt;U8 6kB &#x27;138154.4&#x27; ... &#x27;659.942&#x27;\\n', '    Name                      (cross_section) &lt;U1 712B &#x27;&#x27; &#x27;&#x27; &#x27;&#x27; &#x27;&#x27; ... &#x27;&#x27; &#x27;&#x27; &#x27;&#x27;\\n', '    Maximum_Water_Surface     (cross_section) float32 712B 672.8 672.8 ... 561.4\\n', '    Maximum_Flow              (cross_section) float32 712B 5e+04 ... 2.543e+04\\n', '    Maximum_Channel_Velocity  (cross_section) float32 712B 11.81 8.031 ... 2.028\\n', '    Maximum_Velocity_Total    (cross_section) float32 712B 9.371 5.379 ... 1.632\\n', '    Maximum_Flow_Lateral      (cross_section) float32 712B 0.0 0.0 ... 0.0 0.0\\n', 'Data variables:\\n', '    Water_Surface             (time, cross_section) float32 107kB 660.7 ... 5...\\n', '    Velocity_Total            (time, cross_section) float32 107kB 0.0 ... 1.227\\n', '    Velocity_Channel          (time, cross_section) float32 107kB 0.0 ... 1.286\\n', '    Flow_Lateral              (time, cross_section) float32 107kB 0.0 ... 0.0\\n', '    Flow                      (time, cross_section) float32 107kB 2e+03 ... 2...\\n', 'Attributes:\\n', '    description:  Cross-section results extracted from HEC-RAS HDF file\\n', \"    source_file:  d:\\\\GitHub\\\\ras-commander\\\\examples\\\\example_projects\\\\Balde Eag...\n[Full xarray output truncated during preprocessing]</pre></div>",
            "text/plain": "xarray.Dataset with Unknown dimensions\n[Full xarray output truncated during preprocessing]"
          },
          "execution_count": 59,
          "metadata": {},
          "output_type": "execute_result"
        }
      ],
      "source": [
        "xsec_results_xr"
      ]
    },
    {
      "cell_type": "code",
      "execution_count": 60,
      "metadata": {},
      "outputs": [
        {
          "name": "stdout",
          "output_type": "stream",
          "text": [
            "\n",
            "Time Series Data for Cross Section: Bald Eagle       Loc Hav          136202.3\n",
            "\n",
            "Water_Surface:\n",
            "[657.4173  656.7111  657.02997 657.44073 657.88824]\n",
            "\n",
            "Velocity_Total:\n",
            "[0.        2.7810786 2.9612713 2.9395368 3.0228102]\n",
            "\n",
            "Velocity_Channel:\n",
            "[0.        3.132834  3.4508243 3.7217746 4.083391 ]\n",
            "\n",
            "Flow_Lateral:\n",
            "[0. 0. 0. 0. 0.]\n",
            "\n",
            "Flow:\n",
            "[2000.     1273.8193 1607.1132 2109.992  2746.2964]\n"
          ]
        },
        {
          "data": {
            "text/plain": [
              "<Figure size 1000x500 with 1 Axes>"
            ]
          },
          "metadata": {},
          "output_type": "display_data"
        },
        {
          "data": {
            "text/plain": [
              "<Figure size 1000x500 with 1 Axes>"
            ]
          },
          "metadata": {},
          "output_type": "display_data"
        },
        {
          "data": {
            "text/plain": [
              "<Figure size 1000x500 with 1 Axes>"
            ]
          },
          "metadata": {},
          "output_type": "display_data"
        },
        {
          "data": {
            "text/plain": [
              "<Figure size 1000x500 with 1 Axes>"
            ]
          },
          "metadata": {},
          "output_type": "display_data"
        },
        {
          "data": {
            "text/plain": [
              "<Figure size 1000x500 with 1 Axes>"
            ]
          },
          "metadata": {},
          "output_type": "display_data"
        }
      ],
      "source": [
        "# Print time series for specific cross section\n",
        "target_xs = \"Bald Eagle       Loc Hav          136202.3\"\n",
        "\n",
        "print(\"\\nTime Series Data for Cross Section:\", target_xs)\n",
        "for var in ['Water_Surface', 'Velocity_Total', 'Velocity_Channel', 'Flow_Lateral', 'Flow']:\n",
        "    print(f\"\\n{var}:\")\n",
        "    print(xsec_results_xr[var].sel(cross_section=target_xs).values[:5])  # Show first 5 values\n",
        "\n",
        "# Create time series plots\n",
        "\n",
        "if generate_plots:\n",
        "\n",
        "    # Create a figure for each variable\n",
        "    variables = ['Water_Surface', 'Velocity_Total', 'Velocity_Channel', 'Flow_Lateral', 'Flow']\n",
        "\n",
        "    for var in variables:\n",
        "        plt.figure(figsize=(10, 5))\n",
        "        # Convert time values to datetime if needed\n",
        "        time_values = pd.to_datetime(xsec_results_xr.time.values)\n",
        "        values = xsec_results_xr[var].sel(cross_section=target_xs).values\n",
        "        \n",
        "        # Plot with explicit x and y values\n",
        "        plt.plot(time_values, values, '-', linewidth=2)\n",
        "        \n",
        "        plt.title(f'{var} at {target_xs}')\n",
        "        plt.xlabel('Time')\n",
        "        plt.ylabel(var.replace('_', ' '))\n",
        "        plt.grid(True)\n",
        "        plt.xticks(rotation=45)\n",
        "        plt.tight_layout()\n",
        "        \n",
        "        # Force display\n",
        "        plt.draw()\n",
        "        plt.pause(0.1)\n",
        "        plt.show()\n"
      ]
    },
    {
      "cell_type": "markdown",
      "metadata": {},
      "source": [
        "-----"
      ]
    },
    {
      "cell_type": "markdown",
      "metadata": {},
      "source": [
        "# Advanced HDF Data Extraction\n",
        "This section focuses on directly accessing the HDF file from a jupyter notebook for use cases not directly supported by the RAS-Commander libary:"
      ]
    },
    {
      "cell_type": "code",
      "execution_count": 61,
      "metadata": {},
      "outputs": [
        {
          "name": "stdout",
          "output_type": "stream",
          "text": [
            "Extracting Compute Messages\n",
            "Compute Messages:\n",
            "Plan                                     : 'Unsteady with Bridges and Dam' (BaldEagle.p01)\n",
            "Simulation started at                    : 09Apr2025 07:13:47 AM\n",
            "\n",
            "Writing Plan GIS Data...\n",
            "\n",
            "Completed Writing Plan GIS Data\n",
            "\n",
            "Writing Geometry...\n",
            "\n",
            "Computing Bank Lines\n",
            "\n",
            "Bank lines generated in 210 ms\n",
            "\n",
            "Computing Edge Lines\n",
            "\n",
            "Edge Lines generated in 91 ms\n",
            "\n",
            "Computing XS Interpolation Surface\n",
            "\n",
            "XS Interpolation Surface generated in 244 ms\n",
            "\n",
            "Completed Writing Geometry\n",
            "\n",
            "Writing Event Conditions ...\n",
            "\n",
            "Completed Writing Event Condition Data\n",
            "\n",
            "Geometric Preprocessor HEC-RAS 6.6 September 2024\n",
            "\n",
            "Finished Processing Geometry\n",
            "\n",
            "Performing Unsteady Flow Simulation  HEC-RAS 6.6 September 2024\n",
            "Unsteady Input Summary                   : \n",
            "\n",
            "1D Unsteady Finite Difference Numerical Solution\n",
            "Overall Volume Accounting Error in Acre Feet : -29.5468461514\n",
            "Overall Volume Accounting Error as percentage : 0.01407\n",
            "\n",
            "Please review \"Computational Log File\" output for volume accounting details\n",
            "\n",
            "Writing Results to DSS\n",
            "\n",
            "Finished Unsteady Flow Simulation\n",
            "\n",
            "Reading Unsteady Data for Post Process...\n",
            "\n",
            "Completed Reading Unsteady Data for Post Process\n",
            "\n",
            "Running Post Processor  HEC-RAS 6.6 September 2024\n",
            "\n",
            "Finished Post Processing\n",
            "\n",
            "Generating Time Series Post Process File ...\n",
            "Writing 1D Data                          : Water-Surface\n",
            "Writing 1D Data                          : Flow\n",
            "\n",
            "Time Series Post Process file generated [179 ms]\n",
            "\n",
            "Computations Summary\n",
            "Computation Task\tTime(hh                 : mm:ss)\n",
            "\n",
            "Completing Geometry, Flow and Plan\t       3\n",
            "Preprocessing Geometry\t    2             : 34\n",
            "\n",
            "Unsteady Flow Computations\t       3\n",
            "\n",
            "Post-Processing\t      14\n",
            "\n",
            "Generating Time Series Post Process\t<1\n",
            "Complete Process\t    2                   : 57\n",
            "\n",
            "Computation Speed\tSimulation/Runtime\n",
            "\n",
            "Unsteady Flow Computations\t135694x\n",
            "\n",
            "Complete Process\t3021x\n",
            "\n",
            "Computation Summary:\n",
            "--------------------------------------------------\n",
            "Computation Task               Time                \n",
            "--------------------------------------------------\n",
            "Computation Task               Time(hh:mm:ss)      \n",
            "\n",
            "Computation Speed:\n",
            "--------------------------------------------------\n",
            "Task                           Simulation/Runtime  \n",
            "--------------------------------------------------\n",
            "Computation Speed              Simulation/Runtime  \n"
          ]
        }
      ],
      "source": [
        "# Extract Compute Messages as String\n",
        "print(\"Extracting Compute Messages\")\n",
        "\n",
        "import h5py\n",
        "import numpy as np\n",
        "\n",
        "def extract_string_from_hdf(results_hdf_filename: str, hdf_path: str) -> str:\n",
        "    \"\"\"\n",
        "    Extract string from HDF object at a given path\n",
        "\n",
        "    Parameters\n",
        "    ----------\n",
        "    results_hdf_filename : str\n",
        "        Name of the HDF file\n",
        "    hdf_path : str\n",
        "        Path of the object in the HDF file\n",
        "\n",
        "    Returns\n",
        "    -------\n",
        "    str\n",
        "        Extracted string from the specified HDF object\n",
        "    \"\"\"\n",
        "    with h5py.File(results_hdf_filename, 'r') as hdf_file:\n",
        "        try:\n",
        "            hdf_object = hdf_file[hdf_path]\n",
        "            if isinstance(hdf_object, h5py.Group):\n",
        "                return f\"Group: {hdf_path}\\nContents: {list(hdf_object.keys())}\"\n",
        "            elif isinstance(hdf_object, h5py.Dataset):\n",
        "                data = hdf_object[()]\n",
        "                if isinstance(data, bytes):\n",
        "                    return data.decode('utf-8')\n",
        "                elif isinstance(data, np.ndarray) and data.dtype.kind == 'S':\n",
        "                    return [v.decode('utf-8') for v in data]\n",
        "                else:\n",
        "                    return str(data)\n",
        "            else:\n",
        "                return f\"Unsupported object type: {type(hdf_object)}\"\n",
        "        except KeyError:\n",
        "            return f\"Path not found: {hdf_path}\"\n",
        "\n",
        "try:\n",
        "    results_summary_string = extract_string_from_hdf(plan_hdf_path, '/Results/Summary/Compute Messages (text)')\n",
        "    print(\"Compute Messages:\")\n",
        "    \n",
        "    # Parse and print the compute messages in a more visually friendly way\n",
        "    messages = results_summary_string[0].split('\\r\\n')\n",
        "    \n",
        "    for message in messages:\n",
        "        if message.strip():  # Skip empty lines\n",
        "            if ':' in message:\n",
        "                key, value = message.split(':', 1)\n",
        "                print(f\"{key.strip():40} : {value.strip()}\")\n",
        "            else:\n",
        "                print(f\"\\n{message.strip()}\")\n",
        "    \n",
        "    # Print computation summary in a table format\n",
        "    print(\"\\nComputation Summary:\")\n",
        "    print(\"-\" * 50)\n",
        "    print(f\"{'Computation Task':<30} {'Time':<20}\")\n",
        "    print(\"-\" * 50)\n",
        "    for line in messages:\n",
        "        if 'Computation Task' in line:\n",
        "            task, time = line.split('\\t')\n",
        "            print(f\"{task:<30} {time:<20}\")\n",
        "    \n",
        "    print(\"\\nComputation Speed:\")\n",
        "    print(\"-\" * 50)\n",
        "    print(f\"{'Task':<30} {'Simulation/Runtime':<20}\")\n",
        "    print(\"-\" * 50)\n",
        "    for line in messages:\n",
        "        if 'Computation Speed' in line:\n",
        "            task, speed = line.split('\\t')\n",
        "            print(f\"{task:<30} {speed:<20}\")\n",
        "\n",
        "except Exception as e:\n",
        "    print(f\"Error extracting compute messages: {str(e)}\")\n",
        "    print(\"\\nNote: If 'Results/Summary Output' is not in the file structure, it might indicate that the simulation didn't complete successfully or the results weren't saved properly.\")"
      ]
    },
    {
      "cell_type": "markdown",
      "metadata": {},
      "source": [
        "## Exploring HDF Datasets with HdfBase.get_dataset_info\n",
        "This allows users to find HDF information that is not included in the ras-commander library.  Find the path in HDFView and set the group_path below to explore the HDF datasets and attributes.  Then, use the output to write your own function to extract the data.  "
      ]
    },
    {
      "cell_type": "markdown",
      "metadata": {},
      "source": [
        "# Get HDF Paths with Properties (For Exploring HDF Files)\n",
        "HdfBase.get_dataset_info(plan_number, group_path=\"/Geometry\")"
      ]
    },
    {
      "cell_type": "markdown",
      "metadata": {},
      "source": [
        "#### Use get_hdf5_dataset_info function to get dataset structure:\n",
        "HdfBase.get_dataset_info(plan_hdf_path, \"/Geometry/River Bank Lines/\")"
      ]
    },
    {
      "cell_type": "markdown",
      "metadata": {},
      "source": [
        "#### Use get_hdf5_dataset_info function to get Pipe Conduits data:\n",
        "HdfBase.get_dataset_info(plan_hdf_path, \"/Geometry/Structures\")\n"
      ]
    },
    {
      "cell_type": "markdown",
      "metadata": {},
      "source": [
        "#### Use get_hdf5_dataset_info function to get Pipe Conduits data:\n",
        "HdfBase.get_dataset_info(plan_hdf_path, \"/Results/Unsteady/Output/Output Blocks/Computation Block/Global/\")"
      ]
    },
    {
      "cell_type": "markdown",
      "metadata": {},
      "source": [
        "#### Use the get_hdf5_dataset_info function from HdfUtils to explore the Cross Sections structure in the geometry HDF file\n",
        "\n",
        "print(\"\\nExploring Cross Sections structure in geometry file:\")\n",
        "print(\"HDF Base Path: /Geometry/Cross Sections \")\n",
        "HdfBase.get_dataset_info(geom_hdf_path, group_path='/Geometry/Cross Sections')"
      ]
    },
    {
      "cell_type": "markdown",
      "metadata": {},
      "source": [
        "print(\"\\n=== HDF5 File Structure ===\\n\")\n",
        "print(plan_hdf_path)\n",
        "HdfBase.get_dataset_info(plan_hdf_path, group_path='/Results/Unsteady/Output/Output Blocks/Base Output/Unsteady Time Series/Cross Sections')"
      ]
    },
    {
      "cell_type": "markdown",
      "metadata": {},
      "source": [
        "For HDF datasets that are not supported by the RAS-Commadner library, provide the dataset path to HdfBase.get_dataset_info and provide the output to an LLM along with a relevent HDF* class(es) to generate new functions that extend the library's coverage.   "
      ]
    }
  ],
  "metadata": {
    "kernelspec": {
      "display_name": "rascmdr",
      "language": "python",
      "name": "python3"
    },
    "language_info": {
      "codemirror_mode": {
        "name": "ipython",
        "version": 3
      },
      "file_extension": ".py",
      "mimetype": "text/x-python",
      "name": "python",
      "nbconvert_exporter": "python",
      "pygments_lexer": "ipython3",
      "version": "3.12.9"
    }
  },
  "nbformat": 4,
  "nbformat_minor": 2
}