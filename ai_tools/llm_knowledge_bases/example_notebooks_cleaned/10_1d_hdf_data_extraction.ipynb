{
  "cells": [
    {
      "cell_type": "markdown",
      "metadata": {},
      "source": [
        "# HEC-RAS 1D HDF Data Analysis Notebook\n",
        "\n",
        "This notebook demonstrates how to manipulate and analyze HEC-RAS 2D HDF data using the ras-commander library. It leverages the HdfBase, HdfUtils, HdfStruc, HdfMesh, HdfXsec, HdfBndry, HdfPlan, HdfResultsPlan, HdfResultsMesh, and HdfResultsXsec classes to streamline data extraction, processing, and visualization.\n"
      ]
    },
    {
      "cell_type": "markdown",
      "metadata": {},
      "source": [
        "## Package Installation and Environment Setup\n",
        "Uncomment and run package installation commands if needed"
      ]
    },
    {
      "cell_type": "code",
      "execution_count": null,
      "metadata": {},
      "outputs": [],
      "source": [
        "# Install ras-commander from pip (uncomment to install if needed)\n",
        "!pip install --upgrade ras-commander\n",
        "# This installs ras-commander and all dependencies\n",
        "\n",
        "# Set to false to disable plot generation for llm-friendly outputs\n",
        "generate_plots = True"
      ]
    },
    {
      "cell_type": "code",
      "execution_count": null,
      "metadata": {},
      "outputs": [],
      "source": [
        "# Import all required modules\n",
        "from ras_commander import *  # Import all ras-commander modules\n",
        "\n",
        "# Import the required libraries for this notebook\n",
        "import h5py\n",
        "import numpy as np\n",
        "import pandas as pd\n",
        "import requests\n",
        "from tqdm import tqdm\n",
        "import scipy\n",
        "import xarray as xr\n",
        "import geopandas as gpd\n",
        "import matplotlib.pyplot as plt\n",
        "from IPython import display\n",
        "import psutil  # For getting system CPU info\n",
        "from concurrent.futures import ThreadPoolExecutor, as_completed\n",
        "import time\n",
        "import subprocess\n",
        "import sys\n",
        "import os\n",
        "import shutil\n",
        "from datetime import datetime, timedelta\n",
        "from pathlib import Path  # Ensure pathlib is imported for file operations\n",
        "from shapely.geometry import LineString\n",
        "\n",
        "\n",
        "# Set pandas display options to show only 7 rows by default\n",
        "pd.set_option('display.max_rows', 7)"
      ]
    },
    {
      "cell_type": "markdown",
      "metadata": {},
      "source": [
        "# Use Example Project or Load Your Own Project"
      ]
    },
    {
      "cell_type": "code",
      "execution_count": null,
      "metadata": {},
      "outputs": [],
      "source": [
        "# Download the Balde Eagle Creek 1D Example project from HEC and run plan 01\n",
        "\n",
        "# Define the path to the 1D Balde Eagle Creek project\n",
        "current_dir = Path.cwd()  # Adjust if your notebook is in a different directory\n",
        "bald_eagle_path = current_dir / \"example_projects\" / \"Balde Eagle Creek\"\n",
        "import logging\n",
        "\n",
        "# Check if BaldEagle.p01.hdf exists (so we don't have to re-run the simulation when re-running or debugging)\n",
        "hdf_file = bald_eagle_path / \"BaldEagle.p01.hdf\"\n",
        "\n",
        "if not hdf_file.exists():\n",
        "    # Initialize RasExamples and extract the BaldEagleCrkMulti2D project\n",
        "    RasExamples.extract_project(\"Balde Eagle Creek\")\n",
        "\n",
        "    # Initialize the RAS project using the custom ras object\n",
        "    init_ras_project(bald_eagle_path, \"6.6\")\n",
        "    logging.info(f\"Balde Eagle project initialized with folder: {ras.project_folder}\")\n",
        "    \n",
        "    logging.info(f\"Balde Eagle object id: {id(ras)}\")\n",
        "    \n",
        "    # Define the plan number to execute\n",
        "    plan_number = \"01\"\n",
        "\n",
        "    # Execute Plan 01 using RasCmdr for Bald Eagle\n",
        "    print(f\"Executing Plan {plan_number} for the Bald Eagle Creek project...\")\n",
        "    success_bald_eagle = RasCmdr.compute_plan(plan_number)\n",
        "    if success_bald_eagle:\n",
        "        print(f\"Plan {plan_number} executed successfully for Bald Eagle.\\n\")\n",
        "    else:\n",
        "        print(f\"Plan {plan_number} execution failed for Bald Eagle.\\n\")\n",
        "else:\n",
        "    print(\"BaldEagle.p01.hdf already exists. Skipping project extraction and plan execution.\")\n",
        "    # Initialize the RAS project using the custom ras object\n",
        "    init_ras_project(bald_eagle_path, \"6.6\")\n",
        "    plan_number = \"01\""
      ]
    },
    {
      "cell_type": "markdown",
      "metadata": {},
      "source": [
        "###  OPTIONAL: Use your own project instead\n",
        "\n",
        "your_project_path = Path(r\"D:\\yourprojectpath\")\n",
        "\n",
        "init_ras_project(your_project_path, \"6.6\")\n",
        "plan_number = \"01\"  # Plan number to use for this notebook \n",
        "\n",
        "\n",
        "\n",
        "### If you use this code cell, don't run the previous cell or change to markdown\n",
        "### NOTE: Ensure the HDF Results file was generated by HEC-RAS Version 6.x or above"
      ]
    },
    {
      "cell_type": "markdown",
      "metadata": {},
      "source": [
        "------"
      ]
    },
    {
      "cell_type": "markdown",
      "metadata": {},
      "source": [
        "# Explore Project Dataframes using 'ras' Object"
      ]
    },
    {
      "cell_type": "code",
      "execution_count": null,
      "metadata": {},
      "outputs": [],
      "source": [
        "print(\"Plan DataFrame for the project:\")\n",
        "ras.plan_df"
      ]
    },
    {
      "cell_type": "code",
      "execution_count": null,
      "metadata": {},
      "outputs": [],
      "source": [
        "print(\"\\nGeometry DataFrame for the project:\")\n",
        "ras.geom_df"
      ]
    },
    {
      "cell_type": "code",
      "execution_count": null,
      "metadata": {},
      "outputs": [],
      "source": [
        "print(\"\\nUnsteady DataFrame for the project:\")\n",
        "ras.unsteady_df"
      ]
    },
    {
      "cell_type": "code",
      "execution_count": null,
      "metadata": {},
      "outputs": [],
      "source": [
        "print(\"\\nBoundary Conditions DataFrame for the project:\")\n",
        "ras.boundaries_df "
      ]
    },
    {
      "cell_type": "code",
      "execution_count": null,
      "metadata": {},
      "outputs": [],
      "source": [
        "# Get HDF Results Entries (only present when results are present)\n",
        "ras.get_hdf_entries()"
      ]
    },
    {
      "cell_type": "markdown",
      "metadata": {},
      "source": [
        "# Find Paths for Results and Geometry HDF's"
      ]
    },
    {
      "cell_type": "code",
      "execution_count": null,
      "metadata": {},
      "outputs": [],
      "source": [
        "# Get the plan HDF path for the plan_number defined above\n",
        "plan_hdf_path = ras.plan_df.loc[ras.plan_df['plan_number'] == plan_number, 'HDF_Results_Path'].values[0]"
      ]
    },
    {
      "cell_type": "code",
      "execution_count": null,
      "metadata": {},
      "outputs": [],
      "source": [
        "plan_hdf_path"
      ]
    },
    {
      "cell_type": "code",
      "execution_count": null,
      "metadata": {},
      "outputs": [],
      "source": [
        "# Get the geometry HDF path\n",
        "geom_hdf_path = ras.plan_df.loc[ras.plan_df['plan_number'] == plan_number, 'Geom Path'].values[0] + '.hdf'"
      ]
    },
    {
      "cell_type": "code",
      "execution_count": null,
      "metadata": {},
      "outputs": [],
      "source": [
        "geom_hdf_path"
      ]
    },
    {
      "cell_type": "code",
      "execution_count": null,
      "metadata": {},
      "outputs": [],
      "source": [
        "print(f\"\\nPlan HDF path for Plan {plan_number}: {plan_hdf_path}\")\n",
        "print(f\"Geometry HDF path for Plan {plan_number}: {geom_hdf_path}\")"
      ]
    },
    {
      "cell_type": "markdown",
      "metadata": {},
      "source": [
        "## RAS-Commander's Decorators Allow for Flexible Function Calling\n",
        "You can call most of the functions in the HDF* Classes using any of the following:\n",
        "1. Plan/Geometry Number (with or without leading zeros):\n",
        "   - \"01\", \"1\" - Plan/geometry number as string\n",
        "   - 1 - Plan/geometry number as integer\n",
        "   - \"p01\", \"p1\" - Plan number with 'p' prefix\n",
        "2. Direct File Paths:\n",
        "   - pathlib.Path object pointing to HDF file\n",
        "   - String path to HDF file\n",
        "\n",
        "3. h5py.File Objects:\n",
        "   - Already opened HDF file object\n",
        "\n",
        "The @standardize_input decorator handles all these input types consistently:\n",
        "   - Validates the input exists and is accessible\n",
        "   - Converts to proper pathlib.Path object\n",
        "   - Handles RAS object references\n",
        "   - Provides logging and error handling\n",
        "\n",
        "This flexibility makes it easier to work with HDF files in different contexts while maintaining consistent behavior \n",
        "across the codebase, and helps prevent strict typing from introducing unnecessary friction for LLM Coding.\n"
      ]
    },
    {
      "cell_type": "markdown",
      "metadata": {},
      "source": [
        "-----"
      ]
    },
    {
      "cell_type": "markdown",
      "metadata": {},
      "source": [
        "# 1D HDF Data Extraction Examples"
      ]
    },
    {
      "cell_type": "code",
      "execution_count": null,
      "metadata": {},
      "outputs": [],
      "source": [
        "# Extract runtime and compute time data as dataframe\n",
        "print(\"\\nExtracting runtime and compute time data\")\n",
        "runtime_df = HdfResultsPlan.get_runtime_data(hdf_path=plan_number)"
      ]
    },
    {
      "cell_type": "code",
      "execution_count": null,
      "metadata": {},
      "outputs": [],
      "source": [
        "runtime_df"
      ]
    },
    {
      "cell_type": "code",
      "execution_count": null,
      "metadata": {},
      "outputs": [],
      "source": [
        "# Use HdfUtils for extracting projection\n",
        "# This returns a string with the projection as EPSG code (e.g. \"EPSG:6556\"), or None if not found.\n",
        "print(\"\\nExtracting Projection from HDF\")\n",
        "projection = HdfBase.get_projection(hdf_path=geom_hdf_path)  \n",
        "# This projection is returned as EPSG to improve compatibility with geopandas"
      ]
    },
    {
      "cell_type": "code",
      "execution_count": null,
      "metadata": {},
      "outputs": [],
      "source": [
        "projection\n",
        "### The example project we are using does not have a projection  "
      ]
    },
    {
      "cell_type": "code",
      "execution_count": null,
      "metadata": {},
      "outputs": [],
      "source": [
        "# Use HdfPlan to Get Geometry Information (Base Geometry Attributes) as dataframes\n",
        "print(\"\\nExtracting Base Geometry Attributes\")\n",
        "geom_attrs_df = HdfPlan.get_geometry_information(\"01\")  \n",
        "# NOTE: Here we call the function using the plan number instead of the hdf path to demonstrate that the decorator will work with the plan number\n"
      ]
    },
    {
      "cell_type": "code",
      "execution_count": null,
      "metadata": {},
      "outputs": [],
      "source": [
        "geom_attrs_df"
      ]
    },
    {
      "cell_type": "code",
      "execution_count": null,
      "metadata": {},
      "outputs": [],
      "source": [
        "# Get geometry structures attributes as dataframe\n",
        "print(\"\\nGetting geometry structures attributes\")\n",
        "geom_structures_attrs_df = HdfStruc.get_geom_structures_attrs(geom_hdf_path)"
      ]
    },
    {
      "cell_type": "code",
      "execution_count": null,
      "metadata": {},
      "outputs": [],
      "source": [
        "geom_structures_attrs_df"
      ]
    },
    {
      "cell_type": "code",
      "execution_count": null,
      "metadata": {},
      "outputs": [],
      "source": [
        "# Instead of hdf_input, USE plan_hdf_path or geom_hdf_path, or the plan number as \"8\" or \"08\" \n",
        "# Input decorators allow for flexible inputs "
      ]
    },
    {
      "cell_type": "code",
      "execution_count": null,
      "metadata": {},
      "outputs": [],
      "source": [
        "# Get structures as geodataframe\n",
        "structures_gdf = HdfStruc.get_structures(geom_hdf_path)"
      ]
    },
    {
      "cell_type": "code",
      "execution_count": null,
      "metadata": {},
      "outputs": [],
      "source": [
        "structures_gdf"
      ]
    },
    {
      "cell_type": "code",
      "execution_count": null,
      "metadata": {},
      "outputs": [],
      "source": [
        "# Get reference lines as geodataframe\n",
        "ref_lines_gdf = HdfBndry.get_reference_lines(geom_hdf_path)"
      ]
    },
    {
      "cell_type": "code",
      "execution_count": null,
      "metadata": {},
      "outputs": [],
      "source": [
        "ref_lines_gdf"
      ]
    },
    {
      "cell_type": "code",
      "execution_count": null,
      "metadata": {},
      "outputs": [],
      "source": [
        "# Get reference points as geodataframe\n",
        "ref_points_gdf = HdfBndry.get_reference_points(geom_hdf_path)"
      ]
    },
    {
      "cell_type": "code",
      "execution_count": null,
      "metadata": {},
      "outputs": [],
      "source": [
        "ref_points_gdf"
      ]
    },
    {
      "cell_type": "code",
      "execution_count": null,
      "metadata": {},
      "outputs": [],
      "source": [
        "# Get cross sections as geodataframe\n",
        "cross_sections_gdf = HdfXsec.get_cross_sections(geom_hdf_path)\n",
        "    "
      ]
    },
    {
      "cell_type": "code",
      "execution_count": null,
      "metadata": {},
      "outputs": [],
      "source": [
        "cross_sections_gdf"
      ]
    },
    {
      "cell_type": "code",
      "execution_count": null,
      "metadata": {},
      "outputs": [],
      "source": [
        "# Showing only cross sections with ineffective flow areas\n",
        "\n",
        "# Filter rows where ineffective_blocks is not empty\n",
        "ineffective_xs_gdf = cross_sections_gdf[cross_sections_gdf['ineffective_blocks'].apply(len) > 0]\n",
        "print(\"\\nCross Sections with Ineffective Flow Areas:\")"
      ]
    },
    {
      "cell_type": "code",
      "execution_count": null,
      "metadata": {},
      "outputs": [],
      "source": [
        "ineffective_xs_gdf"
      ]
    },
    {
      "cell_type": "code",
      "execution_count": null,
      "metadata": {},
      "outputs": [],
      "source": [
        "# Print first 5 cross sections data\n",
        "print(\"\\nCross Section Information:\")\n",
        "\n",
        "for idx, row in cross_sections_gdf.head(5).iterrows():\n",
        "    print(f\"\\nCross Section {idx + 1}:\")\n",
        "    print(f\"River: {row['River']}\")\n",
        "    print(f\"Reach: {row['Reach']}\")\n",
        "    print(\"\\nGeometry:\")\n",
        "    print(row['geometry'])\n",
        "    print(\"\\nStation-Elevation Points:\")\n",
        "    \n",
        "    # Print header\n",
        "    print(\"     #      Station   Elevation        #      Station   Elevation        #      Station   Elevation        #      Station   Elevation        #      Station   Elevation\")\n",
        "    print(\"-\" * 150)\n",
        "    \n",
        "    # Calculate number of rows needed\n",
        "    points = row['station_elevation']\n",
        "    num_rows = (len(points) + 4) // 5  # Round up division\n",
        "    \n",
        "    # Print points in 5 columns\n",
        "    for i in range(num_rows):\n",
        "        line = \"\"\n",
        "        for j in range(5):\n",
        "            point_idx = i + j * num_rows\n",
        "            if point_idx < len(points):\n",
        "                station, elevation = points[point_idx]\n",
        "                line += f\"{point_idx+1:6d} {station:10.2f} {elevation:10.2f}    \"\n",
        "        print(line)\n",
        "    print(\"-\" * 150)\n"
      ]
    },
    {
      "cell_type": "code",
      "execution_count": null,
      "metadata": {},
      "outputs": [],
      "source": [
        "# Plot cross sections on map with matplotlib\n",
        "\n",
        "if generate_plots:\n",
        "    # Create figure and axis\n",
        "    fig, ax = plt.subplots(figsize=(15,10))\n",
        "    \n",
        "    # Plot cross sections\n",
        "    cross_sections_gdf.plot(ax=ax, color='red', linewidth=1, label='Cross Sections')\n",
        "    \n",
        "    # Add river name and reach labels\n",
        "    #for idx, row in cross_sections_gdf.iterrows():\n",
        "    #    # Get midpoint of cross section line for label placement\n",
        "    #    midpoint = row.geometry.centroid\n",
        "    #    label = f\"{row['River']}\\n{row['Reach']}\\nRS: {row['RS']}\"\n",
        "    #    ax.annotate(label, (midpoint.x, midpoint.y), \n",
        "    #               xytext=(5, 5), textcoords='offset points',\n",
        "    #               fontsize=8, bbox=dict(facecolor='white', alpha=0.7))\n",
        "    \n",
        "    # Customize plot\n",
        "    ax.set_title('Cross Sections Location Map')\n",
        "    ax.grid(True)\n",
        "    ax.legend()\n",
        "    \n",
        "    # Equal aspect ratio to preserve shape\n",
        "    ax.set_aspect('equal')\n",
        "    \n",
        "    plt.tight_layout()\n",
        "    plt.show()"
      ]
    },
    {
      "cell_type": "code",
      "execution_count": null,
      "metadata": {},
      "outputs": [],
      "source": [
        "# Plot cross sections with Manning's n values colored by value\n",
        "\n",
        "if generate_plots:\n",
        "    # Create figure\n",
        "    fig, ax1 = plt.subplots(figsize=(20,10))\n",
        "\n",
        "    # Create colormap\n",
        "    cmap = plt.cm.viridis\n",
        "    norm = plt.Normalize(vmin=0.02, vmax=0.08)  # Typical Manning's n range\n",
        "\n",
        "    # Plot cross sections colored by Manning's n\n",
        "    for idx, row in cross_sections_gdf.iterrows():\n",
        "        # Extract Manning's n values and stations\n",
        "        mannings = row['mannings_n']\n",
        "        n_values = mannings['Mann n']\n",
        "        stations = mannings['Station']\n",
        "        \n",
        "        # Get the full linestring coordinates\n",
        "        line_coords = list(row.geometry.coords)\n",
        "        \n",
        "        # Calculate total length of the cross section\n",
        "        total_length = row.geometry.length\n",
        "        \n",
        "        # For each Manning's n segment\n",
        "        for i in range(len(n_values)-1):\n",
        "            # Calculate the start and end proportions along the line\n",
        "            start_prop = stations[i] / stations[-1]\n",
        "            end_prop = stations[i+1] / stations[-1]\n",
        "            \n",
        "            # Get the start and end points for this segment\n",
        "            start_idx = int(start_prop * (len(line_coords)-1))\n",
        "            end_idx = int(end_prop * (len(line_coords)-1))\n",
        "            \n",
        "            # Extract the segment coordinates\n",
        "            segment_coords = line_coords[start_idx:end_idx+1]\n",
        "            \n",
        "            if len(segment_coords) >= 2:\n",
        "                # Create a line segment\n",
        "                segment = LineString(segment_coords)\n",
        "                \n",
        "                # Get color from colormap for this n value\n",
        "                color = cmap(norm(n_values[i]))\n",
        "                \n",
        "                # Plot the segment\n",
        "                ax1.plot(*segment.xy, color=color, linewidth=2)\n",
        "\n",
        "    # Add colorbar\n",
        "    sm = plt.cm.ScalarMappable(cmap=cmap, norm=norm)\n",
        "    sm.set_array([])\n",
        "    plt.colorbar(sm, ax=ax1, label=\"Manning's n Value\")\n",
        "\n",
        "    ax1.set_title(\"Cross Sections Colored by Manning's n Values\")\n",
        "    ax1.grid(True)\n",
        "    ax1.set_aspect('equal')\n",
        "\n",
        "    plt.tight_layout()\n",
        "    plt.show()"
      ]
    },
    {
      "cell_type": "code",
      "execution_count": null,
      "metadata": {},
      "outputs": [],
      "source": [
        "# Plot cross sections with ineffective flow areas\n",
        "\n",
        "if generate_plots:\n",
        "    # Create figure\n",
        "    fig, ax2 = plt.subplots(figsize=(20,10))\n",
        "\n",
        "    # Plot all cross sections first\n",
        "    cross_sections_gdf.plot(ax=ax2, color='lightgray', linewidth=1, label='Cross Sections')\n",
        "\n",
        "    # Plot ineffective flow areas with thicker lines\n",
        "    ineffective_sections = cross_sections_gdf[cross_sections_gdf['ineffective_blocks'].apply(lambda x: len(x) > 0)]\n",
        "    ineffective_sections.plot(ax=ax2, color='red', linewidth=3, label='Ineffective Flow Areas')\n",
        "\n",
        "    # Add ineffective flow area labels with offset to lower right\n",
        "    for idx, row in cross_sections_gdf.iterrows():\n",
        "        # Get midpoint of cross section line\n",
        "        midpoint = row.geometry.centroid\n",
        "        \n",
        "        # Extract ineffective flow blocks\n",
        "        ineff_blocks = row['ineffective_blocks']\n",
        "        \n",
        "        if ineff_blocks:  # Only label if there are ineffective blocks\n",
        "            label_parts = []\n",
        "            # Add RS to first line of label\n",
        "            label_parts.append(f\"RS: {row['RS']}\")\n",
        "            for block in ineff_blocks:\n",
        "                label_parts.append(\n",
        "                    f\"L:{block['Left Sta']:.0f}-R:{block['Right Sta']:.0f}\\n\"\n",
        "                    f\"Elev: {block['Elevation']:.2f}\\n\"\n",
        "                    f\"Permanent: {block['Permanent']}\"\n",
        "                )\n",
        "            \n",
        "            label = '\\n'.join(label_parts)\n",
        "            \n",
        "            ax2.annotate(label, (midpoint.x, midpoint.y),\n",
        "                        xytext=(15, -15),  # Offset to lower right\n",
        "                        textcoords='offset points',\n",
        "                        fontsize=8, \n",
        "                        bbox=dict(facecolor='white', alpha=0.7),\n",
        "                        arrowprops=dict(arrowstyle='->'),\n",
        "                        horizontalalignment='left',\n",
        "                        verticalalignment='top')\n",
        "\n",
        "    ax2.set_title('Cross Sections with Ineffective Flow Areas')\n",
        "    ax2.grid(True)\n",
        "    ax2.legend()\n",
        "    ax2.set_aspect('equal')\n",
        "\n",
        "    plt.tight_layout()\n",
        "    plt.show()"
      ]
    },
    {
      "cell_type": "code",
      "execution_count": null,
      "metadata": {},
      "outputs": [],
      "source": [
        "# Plot cross section elevation for cross section 42\n",
        "if generate_plots:\n",
        "    # Get cross sections data\n",
        "    cross_sections_gdf = HdfXsec.get_cross_sections(geom_hdf_path)\n",
        "\n",
        "    if not cross_sections_gdf.empty:\n",
        "        # Get station-elevation data for cross section 42\n",
        "        station_elevation = cross_sections_gdf.iloc[42]['station_elevation']\n",
        "        \n",
        "        # Convert list of lists to numpy arrays for plotting\n",
        "        stations = np.array([point[0] for point in station_elevation])\n",
        "        elevations = np.array([point[1] for point in station_elevation])\n",
        "        \n",
        "        # Create figure and axis\n",
        "        fig, ax = plt.subplots(figsize=(12,8))\n",
        "        \n",
        "        # Plot cross section\n",
        "        ax.plot(stations, elevations, 'b-', linewidth=2)\n",
        "        \n",
        "        # Add labels and title\n",
        "        river = cross_sections_gdf.iloc[42]['River']\n",
        "        reach = cross_sections_gdf.iloc[42]['Reach'] \n",
        "        rs = cross_sections_gdf.iloc[42]['RS']\n",
        "        \n",
        "        # Show bank stations as dots\n",
        "        left_bank_station = cross_sections_gdf.iloc[42]['Left Bank']\n",
        "        right_bank_station = cross_sections_gdf.iloc[42]['Right Bank']\n",
        "        \n",
        "        # Get elevations at bank stations\n",
        "        left_bank_elev = elevations[np.searchsorted(stations, left_bank_station)]\n",
        "        right_bank_elev = elevations[np.searchsorted(stations, right_bank_station)]\n",
        "        \n",
        "        # Plot bank stations with dots\n",
        "        ax.plot(left_bank_station, left_bank_elev, 'ro')\n",
        "        ax.plot(right_bank_station, right_bank_elev, 'ro')\n",
        "        \n",
        "        # Add bank station labels with station and elevation\n",
        "        ax.annotate(f'Left Bank\\nStation: {left_bank_station:.1f}\\nElevation: {left_bank_elev:.1f}',\n",
        "                   (left_bank_station, left_bank_elev),\n",
        "                   xytext=(-50, 30),\n",
        "                   textcoords='offset points',\n",
        "                   bbox=dict(facecolor='white', alpha=0.8),\n",
        "                   arrowprops=dict(arrowstyle='->'))\n",
        "                   \n",
        "        ax.annotate(f'Right Bank\\nStation: {right_bank_station:.1f}\\nElevation: {right_bank_elev:.1f}',\n",
        "                   (right_bank_station, right_bank_elev), \n",
        "                   xytext=(50, 30),\n",
        "                   textcoords='offset points',\n",
        "                   bbox=dict(facecolor='white', alpha=0.8),\n",
        "                   arrowprops=dict(arrowstyle='->'))\n",
        "        \n",
        "        ax.set_title(f'Cross Section Profile\\nRiver: {river}, Reach: {reach}, RS: {rs}')\n",
        "        ax.set_xlabel('Station (ft)')\n",
        "        ax.set_ylabel('Elevation (ft)')\n",
        "        \n",
        "        # Add grid\n",
        "        ax.grid(True)\n",
        "        \n",
        "        plt.tight_layout()\n",
        "        plt.show()\n"
      ]
    },
    {
      "cell_type": "code",
      "execution_count": null,
      "metadata": {},
      "outputs": [],
      "source": [
        "# Get river centerlines as geodataframe\n",
        "centerlines_gdf = HdfXsec.get_river_centerlines(geom_hdf_path)"
      ]
    },
    {
      "cell_type": "code",
      "execution_count": null,
      "metadata": {},
      "outputs": [],
      "source": [
        "print(\"\\nRiver Centerlines:\")\n",
        "centerlines_gdf"
      ]
    },
    {
      "cell_type": "code",
      "execution_count": null,
      "metadata": {},
      "outputs": [],
      "source": [
        "# Plot river centerlines with labels\n",
        "if generate_plots:\n",
        "    # Create figure and axis\n",
        "    fig, ax = plt.subplots(figsize=(15, 10))\n",
        "\n",
        "    # Plot centerlines\n",
        "    centerlines_gdf.plot(ax=ax, color='blue', linewidth=2, label='River Centerline')\n",
        "\n",
        "    # Add river/reach labels\n",
        "    for idx, row in centerlines_gdf.iterrows():\n",
        "        # Get midpoint of the line for label placement\n",
        "        midpoint = row.geometry.interpolate(0.5, normalized=True)\n",
        "        \n",
        "        # Create label text combining river and reach names\n",
        "        label = f\"{row['River Name']}\\n{row['Reach Name']}\"\n",
        "        \n",
        "        # Add text annotation\n",
        "        ax.annotate(label, \n",
        "                    xy=(midpoint.x, midpoint.y),\n",
        "                    xytext=(10, 10), # Offset text slightly\n",
        "                    textcoords='offset points',\n",
        "                    fontsize=10,\n",
        "                    bbox=dict(facecolor='white', edgecolor='none', alpha=0.7))\n",
        "\n",
        "    # Add labels and title\n",
        "    ax.set_title('River Centerlines', fontsize=14)\n",
        "    ax.set_xlabel('Easting', fontsize=12)\n",
        "    ax.set_ylabel('Northing', fontsize=12)\n",
        "\n",
        "    # Add legend\n",
        "    ax.legend(fontsize=12)\n",
        "\n",
        "    # Add grid\n",
        "    ax.grid(True)\n",
        "\n",
        "    # Adjust layout\n",
        "    plt.tight_layout()\n",
        "\n",
        "    # Show plot\n",
        "    plt.show()\n",
        "\n"
      ]
    },
    {
      "cell_type": "code",
      "execution_count": null,
      "metadata": {},
      "outputs": [],
      "source": [
        "# Get river edge lines as geodataframe\n",
        "edge_lines_gdf = HdfXsec.get_river_edge_lines(geom_hdf_path)\n"
      ]
    },
    {
      "cell_type": "code",
      "execution_count": null,
      "metadata": {},
      "outputs": [],
      "source": [
        "print(\"\\nRiver Edge Lines:\")\n",
        "edge_lines_gdf"
      ]
    },
    {
      "cell_type": "code",
      "execution_count": null,
      "metadata": {},
      "outputs": [],
      "source": [
        "# Get bank lines as geodataframe\n",
        "bank_lines_gdf = HdfXsec.get_river_bank_lines(geom_hdf_path)\n"
      ]
    },
    {
      "cell_type": "code",
      "execution_count": null,
      "metadata": {},
      "outputs": [],
      "source": [
        "print(\"\\nRiver Bank Lines:\")\n",
        "bank_lines_gdf"
      ]
    },
    {
      "cell_type": "code",
      "execution_count": null,
      "metadata": {},
      "outputs": [],
      "source": [
        "# Create figure and axis\n",
        "\n",
        "if generate_plots:\n",
        "    fig, ax = plt.subplots(figsize=(15, 10))\n",
        "\n",
        "    # Plot river edge lines\n",
        "    edge_lines_gdf.plot(ax=ax, color='blue', linewidth=2, label='River Edge Lines')\n",
        "\n",
        "    # Plot centerlines for reference\n",
        "    centerlines_gdf.plot(ax=ax, color='red', linewidth=2, linestyle='--', label='River Centerline')\n",
        "\n",
        "    # Plot river bank lines\n",
        "    bank_lines_gdf.plot(ax=ax, color='green', linewidth=2, label='River Bank Lines')\n",
        "\n",
        "    # Add title and labels\n",
        "    ax.set_title('River Edge Lines, Centerline, and Bank Lines', fontsize=14)\n",
        "    ax.set_xlabel('Easting', fontsize=12)\n",
        "    ax.set_ylabel('Northing', fontsize=12)\n",
        "\n",
        "    # Add legend\n",
        "    ax.legend(fontsize=12)\n",
        "\n",
        "    # Add grid\n",
        "    ax.grid(True)\n",
        "\n",
        "    # Adjust layout\n",
        "    plt.tight_layout()\n",
        "\n",
        "    # Show plot\n",
        "    plt.show()"
      ]
    },
    {
      "cell_type": "code",
      "execution_count": null,
      "metadata": {},
      "outputs": [],
      "source": [
        "# Extract 1D Structures Geodataframe\n",
        "\n",
        "\n",
        "\n",
        "# Display basic information about the structures\n",
        "print(\"\\nStructures Summary:\")\n",
        "print(f\"Number of structures found: {len(structures_gdf)}\")\n",
        "structures_gdf\n",
        "\n",
        "# Display first few rows of key attributes\n",
        "print(\"\\nStructure Details:\")\n",
        "display_cols = ['Structure ID', 'Structure Type', 'River Name', 'Reach Name', 'Station']\n",
        "display_cols = [col for col in display_cols if col in structures_gdf.columns]\n",
        "if display_cols:\n",
        "    print(structures_gdf[display_cols].head())\n",
        "\n",
        "\n",
        "if generate_plots:\n",
        "\n",
        "    # Create visualization\n",
        "    fig, ax = plt.subplots(figsize=(15, 10))\n",
        "\n",
        "    # Plot river centerlines\n",
        "    if not centerlines_gdf.empty:\n",
        "        centerlines_gdf.plot(ax=ax, color='blue', linewidth=2, label='River Centerlines')\n",
        "\n",
        "    # Plot cross sections\n",
        "    if not cross_sections_gdf.empty:\n",
        "        cross_sections_gdf.plot(ax=ax, color='green', linewidth=1, label='Cross Sections')\n",
        "\n",
        "    # Plot structures\n",
        "    if not structures_gdf.empty:\n",
        "        structures_gdf.plot(ax=ax, color='red', marker='s', markersize=100, label='Structures')\n",
        "\n",
        "    # Add title and labels\n",
        "    ax.set_title('HEC-RAS Model Components', fontsize=14)\n",
        "    ax.set_xlabel('Easting', fontsize=12)\n",
        "    ax.set_ylabel('Northing', fontsize=12)\n",
        "\n",
        "    # Add legend\n",
        "    ax.legend(fontsize=12)\n",
        "\n",
        "    # Add grid\n",
        "    ax.grid(True)\n",
        "\n",
        "    # Adjust layout\n",
        "    plt.tight_layout()\n",
        "\n",
        "    # Show plot\n",
        "    plt.show()\n",
        "\n",
        "# Print summary of cross sections\n",
        "print(\"\\nCross Sections Summary:\")\n",
        "print(f\"Number of cross sections found: {len(cross_sections_gdf)}\")\n",
        "if not cross_sections_gdf.empty:\n",
        "    print(\"\\nCross Section Details:\")\n",
        "    xs_display_cols = ['River', 'Reach', 'Station']\n",
        "    xs_display_cols = [col for col in xs_display_cols if col in cross_sections_gdf.columns]\n",
        "    if xs_display_cols:\n",
        "        print(cross_sections_gdf[xs_display_cols].head())\n"
      ]
    },
    {
      "cell_type": "code",
      "execution_count": null,
      "metadata": {},
      "outputs": [],
      "source": [
        "# Extract Plan Parameters\n",
        "print(\"\\nExample 12: Extracting Plan Parameters and Volume Accounting Data\")\n",
        "\n",
        "plan_parameters_df = HdfPlan.get_plan_parameters(hdf_path=plan_hdf_path)"
      ]
    },
    {
      "cell_type": "code",
      "execution_count": null,
      "metadata": {},
      "outputs": [],
      "source": [
        "print(\"\\nPlan Parameters DataFrame:\")\n",
        "plan_parameters_df"
      ]
    },
    {
      "cell_type": "code",
      "execution_count": null,
      "metadata": {},
      "outputs": [],
      "source": [
        "# Extract volume accounting data\n",
        "volume_accounting_df = HdfResultsPlan.get_volume_accounting(hdf_path=plan_hdf_path)"
      ]
    },
    {
      "cell_type": "code",
      "execution_count": null,
      "metadata": {},
      "outputs": [],
      "source": [
        "print(\"\\nVolume Accounting DataFrame:\")\n",
        "volume_accounting_df"
      ]
    },
    {
      "cell_type": "code",
      "execution_count": null,
      "metadata": {},
      "outputs": [],
      "source": [
        "# Get simulation start time\n",
        "start_time = HdfPlan.get_plan_start_time(plan_hdf_path)\n",
        "print(f\"Simulation start time: {start_time}\")"
      ]
    },
    {
      "cell_type": "code",
      "execution_count": null,
      "metadata": {},
      "outputs": [],
      "source": [
        "# Get plan end time\n",
        "end_time = HdfPlan.get_plan_end_time(plan_hdf_path)\n",
        "print(f\"Simulation end time: {end_time}\")"
      ]
    },
    {
      "cell_type": "code",
      "execution_count": null,
      "metadata": {},
      "outputs": [],
      "source": [
        "# Plot the time of maximum water surface elevation (WSEL) for cross sections\n",
        "\n",
        "# Get cross section results timeseries\n",
        "xsec_results_xr = HdfResultsXsec.get_xsec_timeseries(plan_hdf_path)\n",
        "print(\"\\nCross Section Results Shape:\", xsec_results_xr['Water_Surface'].shape)\n",
        "\n",
        "# Get cross section geometry data\n",
        "xsec_geom = HdfXsec.get_cross_sections(plan_hdf_path)\n",
        "print(\"\\nNumber of cross sections in geometry:\", len(xsec_geom))\n",
        "\n",
        "# Create dataframe with cross section locations and max WSEL times\n",
        "xs_data = []\n",
        "\n",
        "# Extract water surface data from xarray Dataset\n",
        "water_surface = xsec_results_xr['Water_Surface'].values\n",
        "times = pd.to_datetime(xsec_results_xr.time.values)\n",
        "\n",
        "# Debug print\n",
        "print(\"\\nFirst few cross section names:\")\n",
        "print(xsec_results_xr.cross_section.values[:5])\n",
        "\n",
        "# Iterate through cross sections\n",
        "for xs_idx in range(len(xsec_results_xr.cross_section)):\n",
        "    # Get WSEL timeseries for this cross section\n",
        "    wsel_series = water_surface[:, xs_idx]\n",
        "    \n",
        "    # Get cross section name and parse components\n",
        "    xs_name = xsec_results_xr.cross_section.values[xs_idx]\n",
        "    \n",
        "    # Split the string and remove empty strings\n",
        "    xs_parts = [part for part in xs_name.split() if part]\n",
        "    \n",
        "    if len(xs_parts) >= 3:\n",
        "        river = \"Bald Eagle\"  # Combine first two words\n",
        "        reach = \"Loc Hav\"     # Next two words\n",
        "        rs = xs_parts[-1]     # Last part is the station\n",
        "        \n",
        "        # Get geometry for this cross section\n",
        "        xs_match = xsec_geom[\n",
        "            (xsec_geom['River'] == river) & \n",
        "            (xsec_geom['Reach'] == reach) & \n",
        "            (xsec_geom['RS'] == rs)\n",
        "        ]\n",
        "        \n",
        "        if not xs_match.empty:\n",
        "            geom = xs_match.iloc[0]\n",
        "            # Use first point of cross section line for plotting\n",
        "            x = geom.geometry.coords[0][0]\n",
        "            y = geom.geometry.coords[0][1]\n",
        "            \n",
        "            # Find time of max WSEL\n",
        "            max_wsel_idx = np.argmax(wsel_series)\n",
        "            max_wsel = np.max(wsel_series)\n",
        "            max_time = times[max_wsel_idx]\n",
        "            \n",
        "            xs_data.append({\n",
        "                'xs_name': xs_name,\n",
        "                'x': x,\n",
        "                'y': y,\n",
        "                'max_wsel': max_wsel,\n",
        "                'time_of_max': max_time\n",
        "            })\n",
        "        else:\n",
        "            print(f\"\\nWarning: No geometry match found for {xs_name}\")\n",
        "            print(f\"River: {river}, Reach: {reach}, RS: {rs}\")\n",
        "    else:\n",
        "        print(f\"\\nWarning: Could not parse cross section name: {xs_name}\")\n",
        "\n",
        "# Create dataframe\n",
        "xs_df = pd.DataFrame(xs_data)\n",
        "\n",
        "# Debug print\n",
        "print(\"\\nNumber of cross sections processed:\", len(xs_df))\n",
        "\n",
        "\n",
        "\n",
        "\n",
        "if generate_plots:\n",
        "    print(\"\\nColumns in xs_df:\", xs_df.columns.tolist())\n",
        "    print(\"\\nFirst row of xs_df:\")\n",
        "    print(xs_df.iloc[0])\n",
        "\n",
        "    # Create the plot\n",
        "    fig, ax = plt.subplots(figsize=(12, 8))\n",
        "\n",
        "    # Convert datetime to hours since start for colormap\n",
        "    min_time = min(xs_df['time_of_max'])\n",
        "    color_values = [(t - min_time).total_seconds() / 3600 for t in xs_df['time_of_max']]\n",
        "\n",
        "    # Plot cross section points\n",
        "    scatter = ax.scatter(xs_df['x'], xs_df['y'],\n",
        "                        c=color_values,\n",
        "                        cmap='viridis',\n",
        "                        s=50)\n",
        "\n",
        "    # Customize plot\n",
        "    ax.set_title('Time of Maximum Water Surface Elevation at Cross Sections')\n",
        "    ax.set_xlabel('X Coordinate')\n",
        "    ax.set_ylabel('Y Coordinate')\n",
        "\n",
        "    # Add colorbar\n",
        "    cbar = plt.colorbar(scatter)\n",
        "    cbar.set_label('Hours since simulation start')\n",
        "\n",
        "    # Format colorbar ticks\n",
        "    max_hours = int(max(color_values))\n",
        "    tick_interval = max(1, max_hours // 6)  # Show ~6 ticks\n",
        "    cbar.set_ticks(range(0, max_hours + 1, tick_interval))\n",
        "    cbar.set_ticklabels([f'{h}h' for h in range(0, max_hours + 1, tick_interval)])\n",
        "\n",
        "    # Add grid and adjust styling\n",
        "    ax.grid(True, linestyle='--', alpha=0.7)\n",
        "    plt.rcParams.update({'font.size': 12})\n",
        "    plt.tight_layout()\n",
        "\n",
        "    # Show plot\n",
        "    plt.show()\n",
        "\n",
        "    # Print summary statistics\n",
        "    max_wsel_xs = xs_df.loc[xs_df['max_wsel'].idxmax()]\n",
        "    hours_since_start = (max_wsel_xs['time_of_max'] - min_time).total_seconds() / 3600\n",
        "\n",
        "    print(f\"\\nOverall Maximum WSEL: {max_wsel_xs['max_wsel']:.2f} ft\")\n",
        "    print(f\"Time of Overall Maximum WSEL: {max_wsel_xs['time_of_max']}\")\n",
        "    print(f\"Hours since simulation start: {hours_since_start:.2f} hours\")\n",
        "    print(f\"Location of Overall Maximum WSEL: X={max_wsel_xs['x']:.2f}, Y={max_wsel_xs['y']:.2f}\")\n",
        "    print(f\"Cross Section: {max_wsel_xs['xs_name']}\")\n"
      ]
    },
    {
      "cell_type": "code",
      "execution_count": null,
      "metadata": {},
      "outputs": [],
      "source": [
        "# Get unsteady attributes as dataframe\n",
        "results_unsteady_attrs = HdfResultsPlan.get_unsteady_info(plan_hdf_path)"
      ]
    },
    {
      "cell_type": "code",
      "execution_count": null,
      "metadata": {},
      "outputs": [],
      "source": [
        "results_unsteady_attrs"
      ]
    },
    {
      "cell_type": "code",
      "execution_count": null,
      "metadata": {},
      "outputs": [],
      "source": [
        "# Get unsteady summary attributes as dataframe\n",
        "results_unsteady_summary_attrs = HdfResultsPlan.get_unsteady_summary(plan_hdf_path)"
      ]
    },
    {
      "cell_type": "code",
      "execution_count": null,
      "metadata": {},
      "outputs": [],
      "source": [
        "results_unsteady_summary_attrs"
      ]
    },
    {
      "cell_type": "code",
      "execution_count": null,
      "metadata": {},
      "outputs": [],
      "source": []
    },
    {
      "cell_type": "markdown",
      "metadata": {},
      "source": [
        "# 1D Cross Section Results as Xarray"
      ]
    },
    {
      "cell_type": "code",
      "execution_count": null,
      "metadata": {},
      "outputs": [],
      "source": [
        "# Get cross section results timeseries as xarray dataset\n",
        "xsec_results_xr = HdfResultsXsec.get_xsec_timeseries(plan_hdf_path)"
      ]
    },
    {
      "cell_type": "code",
      "execution_count": null,
      "metadata": {},
      "outputs": [],
      "source": [
        "xsec_results_xr"
      ]
    },
    {
      "cell_type": "code",
      "execution_count": null,
      "metadata": {},
      "outputs": [],
      "source": [
        "# Print time series for specific cross section\n",
        "target_xs = \"Bald Eagle       Loc Hav          136202.3\"\n",
        "\n",
        "print(\"\\nTime Series Data for Cross Section:\", target_xs)\n",
        "for var in ['Water_Surface', 'Velocity_Total', 'Velocity_Channel', 'Flow_Lateral', 'Flow']:\n",
        "    print(f\"\\n{var}:\")\n",
        "    print(xsec_results_xr[var].sel(cross_section=target_xs).values[:5])  # Show first 5 values\n",
        "\n",
        "# Create time series plots\n",
        "\n",
        "if generate_plots:\n",
        "\n",
        "    # Create a figure for each variable\n",
        "    variables = ['Water_Surface', 'Velocity_Total', 'Velocity_Channel', 'Flow_Lateral', 'Flow']\n",
        "\n",
        "    for var in variables:\n",
        "        plt.figure(figsize=(10, 5))\n",
        "        # Convert time values to datetime if needed\n",
        "        time_values = pd.to_datetime(xsec_results_xr.time.values)\n",
        "        values = xsec_results_xr[var].sel(cross_section=target_xs).values\n",
        "        \n",
        "        # Plot with explicit x and y values\n",
        "        plt.plot(time_values, values, '-', linewidth=2)\n",
        "        \n",
        "        plt.title(f'{var} at {target_xs}')\n",
        "        plt.xlabel('Time')\n",
        "        plt.ylabel(var.replace('_', ' '))\n",
        "        plt.grid(True)\n",
        "        plt.xticks(rotation=45)\n",
        "        plt.tight_layout()\n",
        "        \n",
        "        # Force display\n",
        "        plt.draw()\n",
        "        plt.pause(0.1)\n",
        "        plt.show()\n"
      ]
    },
    {
      "cell_type": "markdown",
      "metadata": {},
      "source": [
        "-----"
      ]
    },
    {
      "cell_type": "markdown",
      "metadata": {},
      "source": [
        "# Advanced HDF Data Extraction\n",
        "This section focuses on directly accessing the HDF file from a jupyter notebook for use cases not directly supported by the RAS-Commander libary:"
      ]
    },
    {
      "cell_type": "code",
      "execution_count": null,
      "metadata": {},
      "outputs": [],
      "source": [
        "# Extract Compute Messages as String\n",
        "print(\"Extracting Compute Messages\")\n",
        "\n",
        "import h5py\n",
        "import numpy as np\n",
        "\n",
        "def extract_string_from_hdf(results_hdf_filename: str, hdf_path: str) -> str:\n",
        "    \"\"\"\n",
        "    Extract string from HDF object at a given path\n",
        "\n",
        "    Parameters\n",
        "    ----------\n",
        "    results_hdf_filename : str\n",
        "        Name of the HDF file\n",
        "    hdf_path : str\n",
        "        Path of the object in the HDF file\n",
        "\n",
        "    Returns\n",
        "    -------\n",
        "    str\n",
        "        Extracted string from the specified HDF object\n",
        "    \"\"\"\n",
        "    with h5py.File(results_hdf_filename, 'r') as hdf_file:\n",
        "        try:\n",
        "            hdf_object = hdf_file[hdf_path]\n",
        "            if isinstance(hdf_object, h5py.Group):\n",
        "                return f\"Group: {hdf_path}\\nContents: {list(hdf_object.keys())}\"\n",
        "            elif isinstance(hdf_object, h5py.Dataset):\n",
        "                data = hdf_object[()]\n",
        "                if isinstance(data, bytes):\n",
        "                    return data.decode('utf-8')\n",
        "                elif isinstance(data, np.ndarray) and data.dtype.kind == 'S':\n",
        "                    return [v.decode('utf-8') for v in data]\n",
        "                else:\n",
        "                    return str(data)\n",
        "            else:\n",
        "                return f\"Unsupported object type: {type(hdf_object)}\"\n",
        "        except KeyError:\n",
        "            return f\"Path not found: {hdf_path}\"\n",
        "\n",
        "try:\n",
        "    results_summary_string = extract_string_from_hdf(plan_hdf_path, '/Results/Summary/Compute Messages (text)')\n",
        "    print(\"Compute Messages:\")\n",
        "    \n",
        "    # Parse and print the compute messages in a more visually friendly way\n",
        "    messages = results_summary_string[0].split('\\r\\n')\n",
        "    \n",
        "    for message in messages:\n",
        "        if message.strip():  # Skip empty lines\n",
        "            if ':' in message:\n",
        "                key, value = message.split(':', 1)\n",
        "                print(f\"{key.strip():40} : {value.strip()}\")\n",
        "            else:\n",
        "                print(f\"\\n{message.strip()}\")\n",
        "    \n",
        "    # Print computation summary in a table format\n",
        "    print(\"\\nComputation Summary:\")\n",
        "    print(\"-\" * 50)\n",
        "    print(f\"{'Computation Task':<30} {'Time':<20}\")\n",
        "    print(\"-\" * 50)\n",
        "    for line in messages:\n",
        "        if 'Computation Task' in line:\n",
        "            task, time = line.split('\\t')\n",
        "            print(f\"{task:<30} {time:<20}\")\n",
        "    \n",
        "    print(\"\\nComputation Speed:\")\n",
        "    print(\"-\" * 50)\n",
        "    print(f\"{'Task':<30} {'Simulation/Runtime':<20}\")\n",
        "    print(\"-\" * 50)\n",
        "    for line in messages:\n",
        "        if 'Computation Speed' in line:\n",
        "            task, speed = line.split('\\t')\n",
        "            print(f\"{task:<30} {speed:<20}\")\n",
        "\n",
        "except Exception as e:\n",
        "    print(f\"Error extracting compute messages: {str(e)}\")\n",
        "    print(\"\\nNote: If 'Results/Summary Output' is not in the file structure, it might indicate that the simulation didn't complete successfully or the results weren't saved properly.\")"
      ]
    },
    {
      "cell_type": "markdown",
      "metadata": {},
      "source": [
        "## Exploring HDF Datasets with HdfBase.get_dataset_info\n",
        "This allows users to find HDF information that is not included in the ras-commander library.  Find the path in HDFView and set the group_path below to explore the HDF datasets and attributes.  Then, use the output to write your own function to extract the data.  "
      ]
    },
    {
      "cell_type": "markdown",
      "metadata": {},
      "source": [
        "# Get HDF Paths with Properties (For Exploring HDF Files)\n",
        "HdfBase.get_dataset_info(plan_number, group_path=\"/Geometry\")"
      ]
    },
    {
      "cell_type": "markdown",
      "metadata": {},
      "source": [
        "#### Use get_hdf5_dataset_info function to get dataset structure:\n",
        "HdfBase.get_dataset_info(plan_hdf_path, \"/Geometry/River Bank Lines/\")"
      ]
    },
    {
      "cell_type": "markdown",
      "metadata": {},
      "source": [
        "#### Use get_hdf5_dataset_info function to get Pipe Conduits data:\n",
        "HdfBase.get_dataset_info(plan_hdf_path, \"/Geometry/Structures\")\n"
      ]
    },
    {
      "cell_type": "markdown",
      "metadata": {},
      "source": [
        "#### Use get_hdf5_dataset_info function to get Pipe Conduits data:\n",
        "HdfBase.get_dataset_info(plan_hdf_path, \"/Results/Unsteady/Output/Output Blocks/Computation Block/Global/\")"
      ]
    },
    {
      "cell_type": "markdown",
      "metadata": {},
      "source": [
        "#### Use the get_hdf5_dataset_info function from HdfUtils to explore the Cross Sections structure in the geometry HDF file\n",
        "\n",
        "print(\"\\nExploring Cross Sections structure in geometry file:\")\n",
        "print(\"HDF Base Path: /Geometry/Cross Sections \")\n",
        "HdfBase.get_dataset_info(geom_hdf_path, group_path='/Geometry/Cross Sections')"
      ]
    },
    {
      "cell_type": "markdown",
      "metadata": {},
      "source": [
        "print(\"\\n=== HDF5 File Structure ===\\n\")\n",
        "print(plan_hdf_path)\n",
        "HdfBase.get_dataset_info(plan_hdf_path, group_path='/Results/Unsteady/Output/Output Blocks/Base Output/Unsteady Time Series/Cross Sections')"
      ]
    },
    {
      "cell_type": "markdown",
      "metadata": {},
      "source": [
        "For HDF datasets that are not supported by the RAS-Commadner library, provide the dataset path to HdfBase.get_dataset_info and provide the output to an LLM along with a relevent HDF* class(es) to generate new functions that extend the library's coverage.   "
      ]
    }
  ],
  "metadata": {
    "kernelspec": {
      "display_name": "rascmdr_pip312",
      "language": "python",
      "name": "python3"
    },
    "language_info": {
      "codemirror_mode": {
        "name": "ipython",
        "version": 3
      },
      "file_extension": ".py",
      "mimetype": "text/x-python",
      "name": "python",
      "nbconvert_exporter": "python",
      "pygments_lexer": "ipython3",
      "version": "3.12.9"
    }
  },
  "nbformat": 4,
  "nbformat_minor": 2
}