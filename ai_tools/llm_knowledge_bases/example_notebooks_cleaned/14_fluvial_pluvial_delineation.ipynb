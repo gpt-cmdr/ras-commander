{
  "cells": [
    {
      "cell_type": "markdown",
      "metadata": {},
      "source": [
        "# Delineate Fluvial and Pluvial Areas using RAS-Commander\n",
        "\n",
        "We will leverage the HEC RAS Summary Outputs to delineate the Fluvial and Pluvial Areas\n",
        "\n",
        "Maximum Water Surface Elevation (WSEL) for each cell is recorded, along with the timestamps of when the maximum WSEL occurs.\n",
        "\n",
        "By locating adjacent cells with dissimilar timestamps, we can delineate the Fluvial and Pluvial Areas.\n",
        "\n",
        "\n"
      ]
    },
    {
      "cell_type": "markdown",
      "metadata": {},
      "source": [
        "A note about datframe types: \n",
        "\n",
        "Information from the HEC-RAS plan files are generally dataframes.  The text file interface is for the 32-bit side of HEC-RAS and all spatial data is most easily accessed in the HDF files.  This includes plan_df, geom_df, hdf_paths_df\n",
        "\n",
        "Geometry elements (Mesh Faces and Nodes) are provided as Geodataframes (cell_polygons_gdf, boundary_gdf)\n"
      ]
    },
    {
      "cell_type": "markdown",
      "metadata": {},
      "source": [
        "## Package Installation and Environment Setup\n",
        "Uncomment and run package installation commands if needed"
      ]
    },
    {
      "cell_type": "code",
      "execution_count": 1,
      "metadata": {},
      "outputs": [],
      "source": [
        "# Install ras-commander from pip (uncomment to install if needed)\n",
        "#!pip install ras-commander\n",
        "# This installs ras-commander and all dependencies"
      ]
    },
    {
      "cell_type": "code",
      "execution_count": 2,
      "metadata": {},
      "outputs": [
        {
          "name": "stdout",
          "output_type": "stream",
          "text": [
            "Loading ras-commander from local dev copy\n",
            "ras_commander imported successfully\n"
          ]
        }
      ],
      "source": [
        "# Flexible imports to allow for development without installation \n",
        "#  ** Use this version with Jupyter Notebooks **\n",
        "try:\n",
        "    # Try to import from the installed package\n",
        "    from ras_commander import *\n",
        "except ImportError:\n",
        "    # If the import fails, add the parent directory to the Python path\n",
        "    import os\n",
        "    import sys\n",
        "    from pathlib import Path\n",
        "    current_file = Path(os.getcwd()).resolve()\n",
        "    rascmdr_directory = current_file.parent\n",
        "    sys.path.append(str(rascmdr_directory))\n",
        "    print(\"Loading ras-commander from local dev copy\")\n",
        "    # Now try to import again\n",
        "    from ras_commander import *\n",
        "print(\"ras_commander imported successfully\")"
      ]
    },
    {
      "cell_type": "code",
      "execution_count": 3,
      "metadata": {},
      "outputs": [],
      "source": [
        "# Import all required modules\n",
        "#from ras_commander import *  # Import all ras-commander modules\n",
        "\n",
        "# Import the required libraries for this notebook\n",
        "import h5py\n",
        "import numpy as np\n",
        "import requests\n",
        "import pandas as pd\n",
        "import geopandas as gpd\n",
        "import matplotlib.pyplot as plt\n",
        "import pyproj\n",
        "from shapely.geometry import Point, LineString, Polygon\n",
        "import xarray as xr\n",
        "from pathlib import Path"
      ]
    },
    {
      "cell_type": "code",
      "execution_count": 4,
      "metadata": {},
      "outputs": [
        {
          "name": "stderr",
          "output_type": "stream",
          "text": [
            "2025-07-03 09:47:53 - ras_commander.RasMap - INFO - Successfully parsed RASMapper file: C:\\GH\\ras-commander\\examples\\example_projects\\BaldEagleCrkMulti2D\\BaldEagleDamBrk.rasmap\n"
          ]
        },
        {
          "name": "stdout",
          "output_type": "stream",
          "text": [
            "BaldEagleCrkMulti2D.p06.hdf already exists. Skipping project extraction and plan execution.\n"
          ]
        }
      ],
      "source": [
        "# Download the BaldEagleCrkMulti2D project from HEC and run plan 06\n",
        "\n",
        "# Define the path to the BaldEagleCrkMulti2D project\n",
        "current_dir = Path.cwd()  # Adjust if your notebook is in a different directory\n",
        "bald_eagle_path = current_dir / \"example_projects\" / \"BaldEagleCrkMulti2D\"\n",
        "import logging\n",
        "\n",
        "# Check if BaldEagleCrkMulti2D.p06.hdf exists (so we don't have to re-run the simulation when re-running or debugging)\n",
        "hdf_file = bald_eagle_path / \"BaldEagleDamBrk.p06.hdf\"\n",
        "\n",
        "if not hdf_file.exists():\n",
        "    # Initialize RasExamples and extract the BaldEagleCrkMulti2D project\n",
        "    RasExamples.extract_project([\"BaldEagleCrkMulti2D\"])\n",
        "\n",
        "\n",
        "    # Initialize the RAS project using the default global ras object\n",
        "    init_ras_project(bald_eagle_path, \"6.6\")\n",
        "    logging.info(f\"Bald Eagle project initialized with folder: {ras.project_folder}\")\n",
        "    \n",
        "    logging.info(f\"Bald Eagle object id: {id(ras)}\")\n",
        "    \n",
        "    # Define the plan number to execute\n",
        "    plan_number = \"06\"\n",
        "\n",
        "    # Update the run flags in the plan file\n",
        "    RasPlan.update_run_flags(\n",
        "        plan_number,\n",
        "        geometry_preprocessor=True,  # Run HTab\n",
        "        unsteady_flow_simulation=True,  # Run UNet\n",
        "        post_processor=True,  # Run PostProcess\n",
        "        floodplain_mapping=False,  # Run RASMapper\n",
        "    )\n",
        "\n",
        "    # Execute Plan 06 using RasCmdr for Bald Eagle\n",
        "    print(f\"Executing Plan {plan_number} for the Bald Eagle Creek project...\")\n",
        "    success_bald_eagle = RasCmdr.compute_plan(plan_number)\n",
        "    if success_bald_eagle:\n",
        "        print(f\"Plan {plan_number} executed successfully for Bald Eagle.\\n\")\n",
        "    else:\n",
        "        print(f\"Plan {plan_number} execution failed for Bald Eagle.\\n\")\n",
        "else:\n",
        "    print(\"BaldEagleCrkMulti2D.p06.hdf already exists. Skipping project extraction and plan execution.\")\n",
        "    # Initialize the RAS project using the default global ras object\n",
        "    init_ras_project(bald_eagle_path, \"6.6\")\n",
        "    plan_number = \"06\"\n",
        "your_project_path = bald_eagle_path"
      ]
    },
    {
      "cell_type": "markdown",
      "metadata": {},
      "source": [
        "###  OPTIONAL: Use your own project instead\n",
        "\n",
        "your_project_path = Path(r\"D:\\yourprojectpath\")\n",
        "\n",
        "init_ras_project(your_project_path, \"6.6\")\n",
        "plan_number = \"01\"  # Plan number to use for this notebook \n",
        "\n",
        "\n",
        "\n",
        "### If you use this code cell, don't run the previous cell or change to markdown\n",
        "### NOTE: Ensure the HDF Results file was generated by HEC-RAS Version 6.x or above"
      ]
    },
    {
      "cell_type": "markdown",
      "metadata": {},
      "source": [
        "# Explore Project Dataframes using 'ras' Object"
      ]
    },
    {
      "cell_type": "code",
      "execution_count": 5,
      "metadata": {},
      "outputs": [
        {
          "name": "stdout",
          "output_type": "stream",
          "text": [
            "Plan DataFrame for bald_eagle project:\n"
          ]
        },
        {
          "data": {
            "text/html": "<div>\n<style scoped>\\n', '    .dataframe tbody tr th:only-of-type {\\n', '        vertical-align: middle;\\n', '    }\\n', '\\n', '    .dataframe tbody tr th {\\n', '        vertical-align: top;\\n', '    }\\n', '\\n', '    .dataframe thead th {\\n', '        text-align: right;\\n', '    }\\n', '</style>\n<table border=\"1\" class=\"dataframe\">\n  <thead>\\n', '    <tr style=\"text-align: right;\">\\n', '      <th></th>\\n', '      <th>plan_number</th>\\n', '      <th>unsteady_number</th>\\n', '      <th>geometry_number</th>\\n', '      <th>Plan Title</th>\\n', '      <th>Program Version</th>\\n', '      <th>Short Identifier</th>\\n', '      <th>Simulation Date</th>\\n', '      <th>Computation Interval</th>\\n', '      <th>Mapping Interval</th>\\n', '      <th>Run HTab</th>\\n', '      <th>...</th>\\n', '      <th>DSS File</th>\\n', '      <th>Friction Slope Method</th>\\n', '      <th>UNET D2 SolverType</th>\\n', '      <th>UNET D2 Name</th>\\n', '      <th>HDF_Results_Path</th>\\n', '      <th>Geom File</th>\\n', '      <th>Geom Path</th>\\n', '      <th>Flow File</th>\\n', '      <th>Flow Path</th>\\n', '      <th>full_path</th>\\n', '    </tr>\\n', '  </thead>\n  <tbody>\n    <tr>\\n', '      <th>0</th>\\n', '      <td>13</td>\\n', '      <td>07</td>\\n', '      <td>06</td>\\n', '      <td>PMF with Multi 2D Areas</td>\\n', '      <td>5.10</td>\\n', '      <td>PMF Multi 2D</td>\\n', '      <td>01JAN1999,1200,04JAN1999,1200</td>\\n', '      <td>30SEC</td>\\n', '      <td>30MIN</td>\\n', '      <td>1</td>\\n', '      <td>...</td>\\n', '      <td>dss</td>\\n', '      <td>1</td>\\n', '      <td>Pardiso (Direct)</td>\\n', '      <td>193</td>\\n', '      <td>None</td>\\n', '      <td>06</td>\\n', '      <td>C:\\\\GH\\\\ras-commander\\\\examples\\\\example_projects\\\\...</td>\\n', '      <td>07</td>\\n', '      <td>C:\\\\GH\\\\ras-commander\\\\examples\\\\example_projects\\\\...</td>\\n', '      <td>C:\\\\GH\\\\ras-commander\\\\examples\\\\example_projects\\\\...</td>\\n', '    </tr><tr>\\n', '      <th>1</th>\\n', '      <td>15</td>\\n', '      <td>12</td>\\n', '      <td>08</td>\\n', '      <td>1d-2D Dambreak Refined Grid</td>\\n', '      <td>5.10</td>\\n', '      <td>1D-2D Refined Grid</td>\\n', '      <td>01JAN1999,1200,04JAN1999,1200</td>\\n', '      <td>20SEC</td>\\n', '      <td>5MIN</td>\\n', '      <td>1</td>\\n', '      <td>...</td>\\n', '      <td>dss</td>\\n', '      <td>1</td>\\n', '      <td>NaN</td>\\n', '      <td>BaldEagleCr</td>\\n', '      <td>None</td>\\n', '      <td>08</td>\\n', '      <td>C:\\\\GH\\\\ras-commander\\\\examples\\\\example_projects\\\\...</td>\\n', '      <td>12</td>\\n', '      <td>C:\\\\GH\\\\ras-commander\\\\examples\\\\example_projects\\\\...</td>\\n', '      <td>C:\\\\GH\\\\ras-commander\\\\examples\\\\example_projects\\\\...</td>\\n', '    </tr><tr>\\n', '      <th>2</th>\\n', '      <td>17</td>\\n', '      <td>09</td>\\n', '      <td>10</td>\\n', '      <td>2D to 1D No Dam</td>\\n', '      <td>5.00</td>\\n', '      <td>2D to 1D No Dam</td>\\n', '      <td>01JAN1999,1200,06JAN1999,1200</td>\\n', '      <td>1MIN</td>\\n', '      <td>5MIN</td>\\n', '      <td>1</td>\\n', '      <td>...</td>\\n', '      <td>dss</td>\\n', '      <td>1</td>\\n', '      <td>NaN</td>\\n', '      <td>Upstream2D</td>\\n', '      <td>None</td>\\n', '      <td>10</td>\\n', '      <td>C:\\\\GH\\\\ras-commander\\\\examples\\\\example_projects\\\\...</td>\\n', '      <td>09</td>\\n', '      <td>C:\\\\GH\\\\ras-commander\\\\examples\\\\example_projects\\\\...</td>\\n', '      <td>C:\\\\GH\\\\ras-commander\\\\examples\\\\example_projects\\\\...</td>\\n', '    </tr><tr>\\n', '      <th>3</th>\\n', '      <td>18</td>\\n', '      <td>10</td>\\n', '      <td>11</td>\\n', '      <td>2D to 2D Run</td>\\n', '      <td>5.00</td>\\n', '      <td>2D to 2D Run</td>\\n', '      <td>01JAN1999,1200,04JAN1999,1200</td>\\n', '      <td>20SEC</td>\\n', '      <td>5MIN</td>\\n', '      <td>1</td>\\n', '      <td>...</td>\\n', '      <td>dss</td>\\n', '      <td>1</td>\\n', '      <td>NaN</td>\\n', '      <td>BaldEagleCr</td>\\n', '      <td>None</td>\\n', '      <td>11</td>\\n', '      <td>C:\\\\GH\\\\ras-commander\\\\examples\\\\example_projects\\\\...</td>\\n', '      <td>10</td>\\n', '      <td>C:\\\\GH\\\\ras-commander\\\\examples\\\\example_projects\\\\...</td>\\n', '      <td>C:\\\\GH\\\\ras-commander\\\\examples\\\\example_projects\\\\...</td>\\n', '    </tr><tr>\\n', '      <th>4</th>\\n', '      <td>19</td>\\n', '      <td>11</td>\\n', '      <td>12</td>\\n', '      <td>SA to 2D Dam Break Run</td>\\n', '      <td>5.00</td>\\n', '      <td>SA to 2D Dam Break</td>\\n', '      <td>01JAN1999,1200,04JAN1999,1200</td>\\n', '      <td>20SEC</td>\\n', '      <td>10MIN</td>\\n', '      <td>1</td>\\n', '      <td>...</td>\\n', '      <td>dss</td>\\n', '      <td>1</td>\\n', '      <td>NaN</td>\\n', '      <td>BaldEagleCr</td>\\n', '      <td>None</td>\\n', '      <td>12</td>\\n', '      <td>C:\\\\GH\\\\ras-commander\\\\examples\\\\example_projects\\\\...</td>\\n', '      <td>11</td>\\n', '      <td>C:\\\\GH\\\\ras-commander\\\\examples\\\\example_projects\\\\...</td>\\n', '      <td>C:\\\\GH\\\\ras-commander\\\\examples\\\\example_projects\\\\...</td>\\n', '    </tr>\n    <tr><td colspan=\"100%\" style=\"text-align:center\">[... additional rows truncated ...]</td></tr>\n  </tbody>\n</table>\n</div>",
            "text/plain": "['   plan_number unsteady_number geometry_number  \\\\\\n', '0           13              07              06   \\n', '1           15              12              08   \\n', '2           17              09              10   \\n', '3           18              10              11   \\n', '4           19              11              12   \\n', '5           03              13              09   \\n', '6           04              01              13   \\n', '7           02              01              01   \\n', '8           01              01              01   \\n', '9           05              02              03   \\n', '10          06              03              09   \\n', '\\n', '                                 Plan Title Program Version  \\\\\\n', '0                   PMF with Multi 2D Areas            5.10   \\n', '1               1d-2D Dambreak Refined Grid            5.10   \\n', '2                           2D to 1D No Dam            5.00   \\n', '3                              2D to 2D Run            5.0\n...\n[Output truncated, 7410 characters total]"
          },
          "execution_count": 5,
          "metadata": {},
          "output_type": "execute_result"
        }
      ],
      "source": [
        "# Load Plan and Geometry Dataframes and find Plan and Geometry HDF Paths\n",
        "\n",
        "# Display plan_df for bald_eagle project\n",
        "print(\"Plan DataFrame for bald_eagle project:\")\n",
        "ras.plan_df"
      ]
    },
    {
      "cell_type": "code",
      "execution_count": 6,
      "metadata": {},
      "outputs": [
        {
          "name": "stdout",
          "output_type": "stream",
          "text": [
            "\n",
            "Geometry DataFrame for the project:\n"
          ]
        },
        {
          "data": {
            "text/html": "<div>\n<style scoped>\\n', '    .dataframe tbody tr th:only-of-type {\\n', '        vertical-align: middle;\\n', '    }\\n', '\\n', '    .dataframe tbody tr th {\\n', '        vertical-align: top;\\n', '    }\\n', '\\n', '    .dataframe thead th {\\n', '        text-align: right;\\n', '    }\\n', '</style>\n<table border=\"1\" class=\"dataframe\">\n  <thead>\\n', '    <tr style=\"text-align: right;\">\\n', '      <th></th>\\n', '      <th>geom_file</th>\\n', '      <th>geom_number</th>\\n', '      <th>full_path</th>\\n', '      <th>hdf_path</th>\\n', '    </tr>\\n', '  </thead>\n  <tbody>\n    <tr>\\n', '      <th>0</th>\\n', '      <td>g06</td>\\n', '      <td>06</td>\\n', '      <td>C:\\\\GH\\\\ras-commander\\\\examples\\\\example_projects\\\\...</td>\\n', '      <td>C:\\\\GH\\\\ras-commander\\\\examples\\\\example_projects\\\\...</td>\\n', '    </tr><tr>\\n', '      <th>1</th>\\n', '      <td>g08</td>\\n', '      <td>08</td>\\n', '      <td>C:\\\\GH\\\\ras-commander\\\\examples\\\\example_projects\\\\...</td>\\n', '      <td>C:\\\\GH\\\\ras-commander\\\\examples\\\\example_projects\\\\...</td>\\n', '    </tr><tr>\\n', '      <th>2</th>\\n', '      <td>g10</td>\\n', '      <td>10</td>\\n', '      <td>C:\\\\GH\\\\ras-commander\\\\examples\\\\example_projects\\\\...</td>\\n', '      <td>C:\\\\GH\\\\ras-commander\\\\examples\\\\example_projects\\\\...</td>\\n', '    </tr><tr>\\n', '      <th>3</th>\\n', '      <td>g11</td>\\n', '      <td>11</td>\\n', '      <td>C:\\\\GH\\\\ras-commander\\\\examples\\\\example_projects\\\\...</td>\\n', '      <td>C:\\\\GH\\\\ras-commander\\\\examples\\\\example_projects\\\\...</td>\\n', '    </tr><tr>\\n', '      <th>4</th>\\n', '      <td>g12</td>\\n', '      <td>12</td>\\n', '      <td>C:\\\\GH\\\\ras-commander\\\\examples\\\\example_projects\\\\...</td>\\n', '      <td>C:\\\\GH\\\\ras-commander\\\\examples\\\\example_projects\\\\...</td>\\n', '    </tr>\n    <tr><td colspan=\"100%\" style=\"text-align:center\">[... additional rows truncated ...]</td></tr>\n  </tbody>\n</table>\n</div>",
            "text/plain": "['  geom_file geom_number                                          full_path  \\\\\\n', '0       g06          06  C:\\\\GH\\\\ras-commander\\\\examples\\\\example_projects\\\\...   \\n', '1       g08          08  C:\\\\GH\\\\ras-commander\\\\examples\\\\example_projects\\\\...   \\n', '2       g10          10  C:\\\\GH\\\\ras-commander\\\\examples\\\\example_projects\\\\...   \\n', '3       g11          11  C:\\\\GH\\\\ras-commander\\\\examples\\\\example_projects\\\\...   \\n', '4       g12          12  C:\\\\GH\\\\ras-commander\\\\examples\\\\example_projects\\\\...   \\n', '5       g09          09  C:\\\\GH\\\\ras-commander\\\\examples\\\\example_projects\\\\...   \\n', '6       g13          13  C:\\\\GH\\\\ras-commander\\\\examples\\\\example_projects\\\\...   \\n', '7       g01          01  C:\\\\GH\\\\ras-commander\\\\examples\\\\example_projects\\\\...   \\n', '8       g03          03  C:\\\\GH\\\\ras-commander\\\\examples\\\\example_projects\\\\...   \\n', '9       g02          02  C:\\\\GH\\\\ras-commander\\\\examples\\\\example_projects\\\\...   \\n', '\\n', '                                            hdf_path  \\n', '0  C:\\\\GH\\\\ras-commander\\\\examples\\\\example_projects\\\\...  \\n', '1  C:\\\\GH\\\\ras-commander\\\\examples\\\\example_projects\\\\...  \\n', '2  C:\\\\GH\\\\ras-commander\\\\examples\\\\example_projects\\\\...  \\n', '3  C:\\\\GH\\\\ras-commander\\\\examples\\\\example_projects\\\\...  \\n', '4  C:\\\\GH\\\\ras-commander\\\\examples\\\\example_projects\\\\...  \\n', '5  C:\\\\GH\\\\ras-commander\\\\examples\\\\example_projects\\\\...  \\n', '6  C:\\\\GH\\\\ras-commander\\\\examples\\\\example_projects\\\\...  \\n', '7  C:\\\\GH\\\\ras-commander\\\\examples\\\\example_projects\\\\...  \\n', '8  C:\\\\GH\\\\ras-commander\\\\examples\\\\example_projects\\\\...  \\n', '9  C:\\\\GH\\\\ras-commander\\\\examples\\\\example_projects\\\\...  ']"
          },
          "execution_count": 6,
          "metadata": {},
          "output_type": "execute_result"
        }
      ],
      "source": [
        "print(\"\\nGeometry DataFrame for the project:\")\n",
        "ras.geom_df"
      ]
    },
    {
      "cell_type": "code",
      "execution_count": 7,
      "metadata": {},
      "outputs": [
        {
          "name": "stdout",
          "output_type": "stream",
          "text": [
            "\n",
            "Unsteady DataFrame for the project:\n"
          ]
        },
        {
          "data": {
            "text/html": "<div>\n<style scoped>\\n', '    .dataframe tbody tr th:only-of-type {\\n', '        vertical-align: middle;\\n', '    }\\n', '\\n', '    .dataframe tbody tr th {\\n', '        vertical-align: top;\\n', '    }\\n', '\\n', '    .dataframe thead th {\\n', '        text-align: right;\\n', '    }\\n', '</style>\n<table border=\"1\" class=\"dataframe\">\n  <thead>\\n', '    <tr style=\"text-align: right;\">\\n', '      <th></th>\\n', '      <th>unsteady_number</th>\\n', '      <th>full_path</th>\\n', '      <th>geometry_number</th>\\n', '      <th>Flow Title</th>\\n', '      <th>Program Version</th>\\n', '      <th>Use Restart</th>\\n', '      <th>Precipitation Mode</th>\\n', '      <th>Wind Mode</th>\\n', '      <th>Met BC=Precipitation|Mode</th>\\n', '      <th>Met BC=Evapotranspiration|Mode</th>\\n', '      <th>Met BC=Precipitation|Expanded View</th>\\n', '      <th>Met BC=Precipitation|Constant Units</th>\\n', '      <th>Met BC=Precipitation|Gridded Source</th>\\n', '    </tr>\\n', '  </thead>\n  <tbody>\n    <tr>\\n', '      <th>0</th>\\n', '      <td>07</td>\\n', '      <td>C:\\\\GH\\\\ras-commander\\\\examples\\\\example_projects\\\\...</td>\\n', '      <td>None</td>\\n', '      <td>PMF with Multi 2D Areas</td>\\n', '      <td>5.00</td>\\n', '      <td>0</td>\\n', '      <td>NaN</td>\\n', '      <td>NaN</td>\\n', '      <td>NaN</td>\\n', '      <td>NaN</td>\\n', '      <td>NaN</td>\\n', '      <td>NaN</td>\\n', '      <td>NaN</td>\\n', '    </tr><tr>\\n', '      <th>1</th>\\n', '      <td>08</td>\\n', '      <td>C:\\\\GH\\\\ras-commander\\\\examples\\\\example_projects\\\\...</td>\\n', '      <td>None</td>\\n', '      <td>PMF for Upstream 2D</td>\\n', '      <td>4.20</td>\\n', '      <td>0</td>\\n', '      <td>NaN</td>\\n', '      <td>NaN</td>\\n', '      <td>NaN</td>\\n', '      <td>NaN</td>\\n', '      <td>NaN</td>\\n', '      <td>NaN</td>\\n', '      <td>NaN</td>\\n', '    </tr><tr>\\n', '      <th>2</th>\\n', '      <td>09</td>\\n', '      <td>C:\\\\GH\\\\ras-commander\\\\examples\\\\example_projects\\\\...</td>\\n', '      <td>None</td>\\n', '      <td>Upstream 2D</td>\\n', '      <td>5.00</td>\\n', '      <td>0</td>\\n', '      <td>NaN</td>\\n', '      <td>NaN</td>\\n', '      <td>NaN</td>\\n', '      <td>NaN</td>\\n', '      <td>NaN</td>\\n', '      <td>NaN</td>\\n', '      <td>NaN</td>\\n', '    </tr><tr>\\n', '      <th>3</th>\\n', '      <td>10</td>\\n', '      <td>C:\\\\GH\\\\ras-commander\\\\examples\\\\example_projects\\\\...</td>\\n', '      <td>None</td>\\n', '      <td>1972 Flood Event - 2D to 2D Run</td>\\n', '      <td>5.00</td>\\n', '      <td>0</td>\\n', '      <td>NaN</td>\\n', '      <td>NaN</td>\\n', '      <td>NaN</td>\\n', '      <td>NaN</td>\\n', '      <td>NaN</td>\\n', '      <td>NaN</td>\\n', '      <td>NaN</td>\\n', '    </tr><tr>\\n', '      <th>4</th>\\n', '      <td>11</td>\\n', '      <td>C:\\\\GH\\\\ras-commander\\\\examples\\\\example_projects\\\\...</td>\\n', '      <td>None</td>\\n', '      <td>1972 Flood Event - SA to 2D Run</td>\\n', '      <td>5.00</td>\\n', '      <td>0</td>\\n', '      <td>NaN</td>\\n', '      <td>NaN</td>\\n', '      <td>NaN</td>\\n', '      <td>NaN</td>\\n', '      <td>NaN</td>\\n', '      <td>NaN</td>\\n', '      <td>NaN</td>\\n', '    </tr>\n    <tr><td colspan=\"100%\" style=\"text-align:center\">[... additional rows truncated ...]</td></tr>\n  </tbody>\n</table>\n</div>",
            "text/plain": "['  unsteady_number                                          full_path  \\\\\\n', '0              07  C:\\\\GH\\\\ras-commander\\\\examples\\\\example_projects\\\\...   \\n', '1              08  C:\\\\GH\\\\ras-commander\\\\examples\\\\example_projects\\\\...   \\n', '2              09  C:\\\\GH\\\\ras-commander\\\\examples\\\\example_projects\\\\...   \\n', '3              10  C:\\\\GH\\\\ras-commander\\\\examples\\\\example_projects\\\\...   \\n', '4              11  C:\\\\GH\\\\ras-commander\\\\examples\\\\example_projects\\\\...   \\n', '5              12  C:\\\\GH\\\\ras-commander\\\\examples\\\\example_projects\\\\...   \\n', '6              13  C:\\\\GH\\\\ras-commander\\\\examples\\\\example_projects\\\\...   \\n', '7              01  C:\\\\GH\\\\ras-commander\\\\examples\\\\example_projects\\\\...   \\n', '8              02  C:\\\\GH\\\\ras-commander\\\\examples\\\\example_projects\\\\...   \\n', '9              03  C:\\\\GH\\\\ras-commander\\\\examples\\\\example_projects\\\\...   \\n', '\\n', '  geometry_number                            Flow Title Program Version  \\\\\\n', '0            \n...\n[Output truncated, 4443 characters total]"
          },
          "execution_count": 7,
          "metadata": {},
          "output_type": "execute_result"
        }
      ],
      "source": [
        "print(\"\\nUnsteady DataFrame for the project:\")\n",
        "ras.unsteady_df"
      ]
    },
    {
      "cell_type": "code",
      "execution_count": 8,
      "metadata": {},
      "outputs": [
        {
          "name": "stdout",
          "output_type": "stream",
          "text": [
            "\n",
            "Boundary Conditions DataFrame for the project:\n"
          ]
        },
        {
          "data": {
            "text/html": "<div>\n<style scoped>\\n', '    .dataframe tbody tr th:only-of-type {\\n', '        vertical-align: middle;\\n', '    }\\n', '\\n', '    .dataframe tbody tr th {\\n', '        vertical-align: top;\\n', '    }\\n', '\\n', '    .dataframe thead th {\\n', '        text-align: right;\\n', '    }\\n', '</style>\n<table border=\"1\" class=\"dataframe\">\n  <thead>\\n', '    <tr style=\"text-align: right;\">\\n', '      <th></th>\\n', '      <th>unsteady_number</th>\\n', '      <th>boundary_condition_number</th>\\n', '      <th>river_reach_name</th>\\n', '      <th>river_station</th>\\n', '      <th>storage_area_name</th>\\n', '      <th>pump_station_name</th>\\n', '      <th>bc_type</th>\\n', '      <th>hydrograph_type</th>\\n', '      <th>Interval</th>\\n', '      <th>DSS File</th>\\n', '      <th>...</th>\\n', '      <th>Flow Title</th>\\n', '      <th>Program Version</th>\\n', '      <th>Use Restart</th>\\n', '      <th>Precipitation Mode</th>\\n', '      <th>Wind Mode</th>\\n', '      <th>Met BC=Precipitation|Mode</th>\\n', '      <th>Met BC=Evapotranspiration|Mode</th>\\n', '      <th>Met BC=Precipitation|Expanded View</th>\\n', '      <th>Met BC=Precipitation|Constant Units</th>\\n', '      <th>Met BC=Precipitation|Gridded Source</th>\\n', '    </tr>\\n', '  </thead>\n  <tbody>\n    <tr>\\n', '      <th>0</th>\\n', '      <td>07</td>\\n', '      <td>1</td>\\n', '      <td>Bald Eagle Cr.</td>\\n', '      <td>Lock Haven</td>\\n', '      <td>137520</td>\\n', '      <td></td>\\n', '      <td>Flow Hydrograph</td>\\n', '      <td>Flow Hydrograph</td>\\n', '      <td>1HOUR</td>\\n', '      <td>Bald_Eagle_Creek.dss</td>\\n', '      <td>...</td>\\n', '      <td>PMF with Multi 2D Areas</td>\\n', '      <td>5.00</td>\\n', '      <td>0</td>\\n', '      <td>NaN</td>\\n', '      <td>NaN</td>\\n', '      <td>NaN</td>\\n', '      <td>NaN</td>\\n', '      <td>NaN</td>\\n', '      <td>NaN</td>\\n', '      <td>NaN</td>\\n', '    </tr><tr>\\n', '      <th>1</th>\\n', '      <td>07</td>\\n', '      <td>2</td>\\n', '      <td>Bald Eagle Cr.</td>\\n', '      <td>Lock Haven</td>\\n', '      <td>81454</td>\\n', '      <td></td>\\n', '      <td>Gate Opening</td>\\n', '      <td>None</td>\\n', '      <td>NaN</td>\\n', '      <td>NaN</td>\\n', '      <td>...</td>\\n', '      <td>PMF with Multi 2D Areas</td>\\n', '      <td>5.00</td>\\n', '      <td>0</td>\\n', '      <td>NaN</td>\\n', '      <td>NaN</td>\\n', '      <td>NaN</td>\\n', '      <td>NaN</td>\\n', '      <td>NaN</td>\\n', '      <td>NaN</td>\\n', '      <td>NaN</td>\\n', '    </tr><tr>\\n', '      <th>2</th>\\n', '      <td>07</td>\\n', '      <td>3</td>\\n', '      <td>Bald Eagle Cr.</td>\\n', '      <td>Lock Haven</td>\\n', '      <td>28519</td>\\n', '      <td></td>\\n', '      <td>Lateral Inflow Hydrograph</td>\\n', '      <td>Lateral Inflow Hydrograph</td>\\n', '      <td>1HOUR</td>\\n', '      <td>Bald_Eagle_Creek.dss</td>\\n', '      <td>...</td>\\n', '      <td>PMF with Multi 2D Areas</td>\\n', '      <td>5.00</td>\\n', '      <td>0</td>\\n', '      <td>NaN</td>\\n', '      <td>NaN</td>\\n', '      <td>NaN</td>\\n', '      <td>NaN</td>\\n', '      <td>NaN</td>\\n', '      <td>NaN</td>\\n', '      <td>NaN</td>\\n', '    </tr><tr>\\n', '      <th>3</th>\\n', '      <td>07</td>\\n', '      <td>4</td>\\n', '      <td>Bald Eagle Cr.</td>\\n', '      <td>Lock Haven</td>\\n', '      <td>1</td>\\n', '      <td></td>\\n', '      <td>Lateral Inflow Hydrograph</td>\\n', '      <td>Lateral Inflow Hydrograph</td>\\n', '      <td>1HOUR</td>\\n', '      <td>NaN</td>\\n', '      <td>...</td>\\n', '      <td>PMF with Multi 2D Areas</td>\\n', '      <td>5.00</td>\\n', '      <td>0</td>\\n', '      <td>NaN</td>\\n', '      <td>NaN</td>\\n', '      <td>NaN</td>\\n', '      <td>NaN</td>\\n', '      <td>NaN</td>\\n', '      <td>NaN</td>\\n', '      <td>NaN</td>\\n', '    </tr><tr>\\n', '      <th>4</th>\\n', '      <td>07</td>\\n', '      <td>5</td>\\n', '      <td>Bald Eagle Cr.</td>\\n', '      <td>Lock Haven</td>\\n', '      <td>136948</td>\\n', '      <td>82303</td>\\n', '      <td>Uniform Lateral Inflow Hydrograph</td>\\n', '      <td>Uniform Lateral Inflow Hydrograph</td>\\n', '      <td>1HOUR</td>\\n', '      <td>Bald_Eagle_Creek.dss</td>\\n', '      <td>...</td>\\n', '      <td>PMF with Multi 2D Areas</td>\\n', '      <td>5.00</td>\\n', '      <td>0</td>\\n', '      <td>NaN</td>\\n', '      <td>NaN</td>\\n', '      <td>NaN</td>\\n', '      <td>NaN</td>\\n', '      <td>NaN</td>\\n', '      <td>NaN</td>\\n', '      <td>NaN</td>\\n', '    </tr>\n    <tr><td colspan=\"100%\" style=\"text-align:center\">[... additional rows truncated ...]</td></tr>\n  </tbody>\n</table>\n</div>",
            "text/plain": "['   unsteady_number  boundary_condition_number river_reach_name river_station  \\\\\\n', '0               07                          1   Bald Eagle Cr.    Lock Haven   \\n', '1               07                          2   Bald Eagle Cr.    Lock Haven   \\n', '2               07                          3   Bald Eagle Cr.    Lock Haven   \\n', '3               07                          4   Bald Eagle Cr.    Lock Haven   \\n', '4               07                          5   Bald Eagle Cr.    Lock Haven   \\n', '5               07                          6   Bald Eagle Cr.    Lock Haven   \\n', '6               07                          7   Bald Eagle Cr.    Lock Haven   \\n', '7               07                          8   Bald Eagle Cr.    Lock Haven   \\n', '8               07                          9   Bald Eagle Cr.    Lock Haven   \\n', '9               07                         10   Bald Eagle Cr.    Lock Haven   \\n', '10              08                          1   Bald Eagle Cr.\n...\n[Output truncated, 29090 characters total]"
          },
          "execution_count": 8,
          "metadata": {},
          "output_type": "execute_result"
        }
      ],
      "source": [
        "print(\"\\nBoundary Conditions DataFrame for the project:\")\n",
        "ras.boundaries_df "
      ]
    },
    {
      "cell_type": "markdown",
      "metadata": {},
      "source": [
        "# Find Paths for Results and Geometry HDF's"
      ]
    },
    {
      "cell_type": "code",
      "execution_count": 9,
      "metadata": {},
      "outputs": [],
      "source": [
        "# Get the plan HDF path for the plan_number defined above\n",
        "plan_hdf_path = ras.plan_df.loc[ras.plan_df['plan_number'] == plan_number, 'HDF_Results_Path'].values[0]"
      ]
    },
    {
      "cell_type": "code",
      "execution_count": 10,
      "metadata": {},
      "outputs": [
        {
          "data": {
            "text/plain": "[\"'C:\\\\\\\\GH\\\\\\\\ras-commander\\\\\\\\examples\\\\\\\\example_projects\\\\\\\\BaldEagleCrkMulti2D\\\\\\\\BaldEagleDamBrk.p06.hdf'\"]"
          },
          "execution_count": 10,
          "metadata": {},
          "output_type": "execute_result"
        }
      ],
      "source": [
        "plan_hdf_path"
      ]
    },
    {
      "cell_type": "code",
      "execution_count": 11,
      "metadata": {},
      "outputs": [],
      "source": [
        "# Get the geometry HDF path\n",
        "geom_hdf_path = ras.plan_df.loc[ras.plan_df['plan_number'] == plan_number, 'Geom Path'].values[0] + '.hdf'"
      ]
    },
    {
      "cell_type": "code",
      "execution_count": 12,
      "metadata": {},
      "outputs": [
        {
          "data": {
            "text/plain": "[\"'C:\\\\\\\\GH\\\\\\\\ras-commander\\\\\\\\examples\\\\\\\\example_projects\\\\\\\\BaldEagleCrkMulti2D\\\\\\\\BaldEagleDamBrk.g09.hdf'\"]"
          },
          "execution_count": 12,
          "metadata": {},
          "output_type": "execute_result"
        }
      ],
      "source": [
        "geom_hdf_path\n"
      ]
    },
    {
      "cell_type": "code",
      "execution_count": 13,
      "metadata": {},
      "outputs": [
        {
          "name": "stdout",
          "output_type": "stream",
          "text": [
            "\n",
            "Plan HDF path for Plan 06: C:\\GH\\ras-commander\\examples\\example_projects\\BaldEagleCrkMulti2D\\BaldEagleDamBrk.p06.hdf\n",
            "Geometry HDF path for Plan 06: C:\\GH\\ras-commander\\examples\\example_projects\\BaldEagleCrkMulti2D\\BaldEagleDamBrk.g09.hdf\n"
          ]
        }
      ],
      "source": [
        "print(f\"\\nPlan HDF path for Plan {plan_number}: {plan_hdf_path}\")\n",
        "print(f\"Geometry HDF path for Plan {plan_number}: {geom_hdf_path}\")"
      ]
    },
    {
      "cell_type": "markdown",
      "metadata": {},
      "source": [
        "# Fluvial Pluvial Delineation using RAS-Commander \n",
        "\n",
        "Using the Maximum WSE Results layer, which contains the maximum water surface and time stamp of the maximum water surface, mesh cell faces are categorized.  If the difference in time (delta_t) in hours is greater than the (user defined, default 12) duration specified, that mesh cell face is added to the fluvial-pluvial boundary dataset. \n",
        "\n",
        "This is meant to provide a draft fluvial-pluvial boundary for floodplain analysis, to the extent it can be derived directly from the HEC-RAS results files. \n",
        "\n",
        "The function attempts to combine adjacent line segments to simplify the resulting geometry, but GIS cleanup and manual interpolation will be required to create a closed polygon boundary that could be used for further processing steps.  However, this approach does provide an efficient method for providing a draft boundary that is based on HEC-RAS's direct computations and mesh cell faces. "
      ]
    },
    {
      "cell_type": "code",
      "execution_count": 14,
      "metadata": {},
      "outputs": [
        {
          "name": "stderr",
          "output_type": "stream",
          "text": [
            "2025-07-03 09:47:54 - ras_commander.HdfResultsMesh - INFO - Using HDF file from direct string path: C:\\GH\\ras-commander\\examples\\example_projects\\BaldEagleCrkMulti2D\\BaldEagleDamBrk.p06.hdf\n",
            "2025-07-03 09:47:54 - ras_commander.HdfResultsMesh - INFO - Final validated HDF file path: C:\\GH\\ras-commander\\examples\\example_projects\\BaldEagleCrkMulti2D\\BaldEagleDamBrk.p06.hdf\n",
            "2025-07-03 09:47:54 - ras_commander.HdfResultsMesh - INFO - Processing summary output for variable: Maximum Water Surface\n",
            "2025-07-03 09:47:54 - ras_commander.HdfMesh - INFO - Using HDF file from h5py.File object: C:\\GH\\ras-commander\\examples\\example_projects\\BaldEagleCrkMulti2D\\BaldEagleDamBrk.p06.hdf\n",
            "2025-07-03 09:47:54 - ras_commander.HdfMesh - INFO - Final validated HDF file path: C:\\GH\\ras-commander\\examples\\example_projects\\BaldEagleCrkMulti2D\\BaldEagleDamBrk.p06.hdf\n",
            "2025-07-03 09:47:54 - ras_commander.HdfMesh - INFO - Using existing Path object HDF file: C:\\GH\\ras-commander\\examples\\example_projects\\BaldEagleCrkMulti2D\\BaldEagleDamBrk.p06.hdf\n",
            "2025-07-03 09:47:54 - ras_commander.HdfMesh - INFO - Final validated HDF file path: C:\\GH\\ras-commander\\examples\\example_projects\\BaldEagleCrkMulti2D\\BaldEagleDamBrk.p06.hdf\n",
            "2025-07-03 09:47:54 - ras_commander.HdfBase - INFO - Using HDF file from h5py.File object: C:\\GH\\ras-commander\\examples\\example_projects\\BaldEagleCrkMulti2D\\BaldEagleDamBrk.p06.hdf\n",
            "2025-07-03 09:47:54 - ras_commander.HdfBase - INFO - Final validated HDF file path: C:\\GH\\ras-commander\\examples\\example_projects\\BaldEagleCrkMulti2D\\BaldEagleDamBrk.p06.hdf\n",
            "2025-07-03 09:47:54 - ras_commander.HdfBase - INFO - Found projection in HDF file: C:\\GH\\ras-commander\\examples\\example_projects\\BaldEagleCrkMulti2D\\BaldEagleDamBrk.p06.hdf\n",
            "2025-07-03 09:47:54 - ras_commander.HdfBase - INFO - Using HDF file from h5py.File object: C:\\GH\\ras-commander\\examples\\example_projects\\BaldEagleCrkMulti2D\\BaldEagleDamBrk.p06.hdf\n",
            "2025-07-03 09:47:54 - ras_commander.HdfBase - INFO - Final validated HDF file path: C:\\GH\\ras-commander\\examples\\example_projects\\BaldEagleCrkMulti2D\\BaldEagleDamBrk.p06.hdf\n",
            "2025-07-03 09:47:54 - ras_commander.HdfBase - INFO - Found projection in HDF file: C:\\GH\\ras-commander\\examples\\example_projects\\BaldEagleCrkMulti2D\\BaldEagleDamBrk.p06.hdf\n",
            "2025-07-03 09:47:54 - ras_commander.HdfResultsMesh - INFO - Processed 19597 rows of summary output data\n"
          ]
        },
        {
          "name": "stdout",
          "output_type": "stream",
          "text": [
            "max_ws_df\n",
            "         mesh_name  cell_id  maximum_water_surface maximum_water_surface_time  \\\n",
            "0      BaldEagleCr        0             704.054443        2018-09-10 18:00:00   \n",
            "1      BaldEagleCr        1             692.377991        2018-09-10 18:04:00   \n",
            "2      BaldEagleCr        2             671.183472        2018-09-10 18:13:20   \n",
            "3      BaldEagleCr        3             660.605469        2018-09-10 18:54:40   \n",
            "4      BaldEagleCr        4             660.586243        2018-09-10 18:55:20   \n",
            "...            ...      ...                    ...                        ...   \n",
            "19592  BaldEagleCr    19592               0.000000        2018-09-09 00:00:00   \n",
            "19593  BaldEagleCr    19593               0.000000        2018-09-09 00:00:00   \n",
            "19594  BaldEagleCr    19594               0.000000        2018-09-09 00:00:00   \n",
            "19595  BaldEagleCr    19595               0.000000        2018-09-09 00:00:00   \n",
            "19596  BaldEagleCr    19596               0.000000        2018-09-09 00:00:00   \n",
            "\n",
            "                             geometry  \n",
            "0              POINT (2083000 370750)  \n",
            "1              POINT (2083250 370750)  \n",
            "2              POINT (2083500 370750)  \n",
            "3              POINT (2083750 370750)  \n",
            "4              POINT (2084000 370750)  \n",
            "...                               ...  \n",
            "19592  POINT (1978423.032 300718.897)  \n",
            "19593  POINT (1973389.375 297311.928)  \n",
            "19594   POINT (1968834.79 295808.861)  \n",
            "19595  POINT (1966130.942 291879.395)  \n",
            "19596   POINT (1969660.046 289673.23)  \n",
            "\n",
            "[19597 rows x 5 columns]\n"
          ]
        }
      ],
      "source": [
        "# Using mesh_max_ws, get the cell coordinates and plot the max water surface as a map\n",
        "import matplotlib.pyplot as plt\n",
        "from ras_commander.HdfMesh import HdfMesh\n",
        "from ras_commander.HdfResultsMesh import HdfResultsMesh\n",
        "from shapely.geometry import Point\n",
        "\n",
        "# Get mesh max water surface\n",
        "max_ws_df = HdfResultsMesh.get_mesh_max_ws(plan_hdf_path)\n",
        "\n",
        "print(\"max_ws_df\")\n",
        "print(max_ws_df)\n",
        "\n",
        "# If you get an error here, you may have a pre-6.0 HDF.  Re-run in 6.x to generate a new results file"
      ]
    },
    {
      "cell_type": "code",
      "execution_count": 15,
      "metadata": {},
      "outputs": [
        {
          "data": {
            "text/plain": [
              "<Figure size 1200x800 with 2 Axes>"
            ]
          },
          "metadata": {},
          "output_type": "display_data"
        },
        {
          "data": {
            "text/plain": [
              "<Figure size 1200x800 with 2 Axes>"
            ]
          },
          "metadata": {},
          "output_type": "display_data"
        },
        {
          "name": "stdout",
          "output_type": "stream",
          "text": [
            "\n",
            "Simulation Start Time: 2018-09-09 00:00:00\n",
            "Time Range: 120.0 hours\n",
            "\n",
            "Timing Statistics (hours since start):\n",
            "count    19597.000000\n",
            "mean        63.225571\n",
            "std         40.179625\n",
            "min          0.000000\n",
            "25%         34.000000\n",
            "50%         42.700000\n",
            "75%        115.677778\n",
            "max        120.000000\n",
            "Name: max_wsel_time, dtype: float64\n",
            "\n",
            "First few rows of the merged dataframe:\n"
          ]
        },
        {
          "data": {
            "text/html": "<div>\n<style scoped>\\n', '    .dataframe tbody tr th:only-of-type {\\n', '        vertical-align: middle;\\n', '    }\\n', '\\n', '    .dataframe tbody tr th {\\n', '        vertical-align: top;\\n', '    }\\n', '\\n', '    .dataframe thead th {\\n', '        text-align: right;\\n', '    }\\n', '</style>\n<table border=\"1\" class=\"dataframe\">\n  <thead>\\n', '    <tr style=\"text-align: right;\">\\n', '      <th></th>\\n', '      <th>mesh_name</th>\\n', '      <th>cell_id</th>\\n', '      <th>maximum_water_surface</th>\\n', '      <th>maximum_water_surface_time</th>\\n', '      <th>geometry</th>\\n', '      <th>x</th>\\n', '      <th>y</th>\\n', '      <th>max_wsel_time</th>\\n', '    </tr>\\n', '  </thead>\n  <tbody>\n    <tr>\\n', '      <th>0</th>\\n', '      <td>BaldEagleCr</td>\\n', '      <td>0</td>\\n', '      <td>704.054443</td>\\n', '      <td>2018-09-10 18:00:00</td>\\n', '      <td>POINT (2083000 370750)</td>\\n', '      <td>2.083000e+06</td>\\n', '      <td>370750.000000</td>\\n', '      <td>2018-09-10 18:00:00</td>\\n', '    </tr><tr>\\n', '      <th>1</th>\\n', '      <td>BaldEagleCr</td>\\n', '      <td>1</td>\\n', '      <td>692.377991</td>\\n', '      <td>2018-09-10 18:04:00</td>\\n', '      <td>POINT (2083250 370750)</td>\\n', '      <td>2.083250e+06</td>\\n', '      <td>370750.000000</td>\\n', '      <td>2018-09-10 18:04:00</td>\\n', '    </tr><tr>\\n', '      <th>2</th>\\n', '      <td>BaldEagleCr</td>\\n', '      <td>2</td>\\n', '      <td>671.183472</td>\\n', '      <td>2018-09-10 18:13:20</td>\\n', '      <td>POINT (2083500 370750)</td>\\n', '      <td>2.083500e+06</td>\\n', '      <td>370750.000000</td>\\n', '      <td>2018-09-10 18:13:20</td>\\n', '    </tr><tr>\\n', '      <th>3</th>\\n', '      <td>BaldEagleCr</td>\\n', '      <td>3</td>\\n', '      <td>660.605469</td>\\n', '      <td>2018-09-10 18:54:40</td>\\n', '      <td>POINT (2083750 370750)</td>\\n', '      <td>2.083750e+06</td>\\n', '      <td>370750.000000</td>\\n', '      <td>2018-09-10 18:54:40</td>\\n', '    </tr><tr>\\n', '      <th>4</th>\\n', '      <td>BaldEagleCr</td>\\n', '      <td>4</td>\\n', '      <td>660.586243</td>\\n', '      <td>2018-09-10 18:55:20</td>\\n', '      <td>POINT (2084000 370750)</td>\\n', '      <td>2.084000e+06</td>\\n', '      <td>370750.000000</td>\\n', '      <td>2018-09-10 18:55:20</td>\\n', '    </tr>\n    <tr><td colspan=\"100%\" style=\"text-align:center\">[... additional rows truncated ...]</td></tr>\n  </tbody>\n</table>\n</div>",
            "text/plain": "['         mesh_name  cell_id  maximum_water_surface maximum_water_surface_time  \\\\\\n', '0      BaldEagleCr        0             704.054443        2018-09-10 18:00:00   \\n', '1      BaldEagleCr        1             692.377991        2018-09-10 18:04:00   \\n', '2      BaldEagleCr        2             671.183472        2018-09-10 18:13:20   \\n', '3      BaldEagleCr        3             660.605469        2018-09-10 18:54:40   \\n', '4      BaldEagleCr        4             660.586243        2018-09-10 18:55:20   \\n', '...            ...      ...                    ...                        ...   \\n', '19592  BaldEagleCr    19592               0.000000        2018-09-09 00:00:00   \\n', '19593  BaldEagleCr    19593               0.000000        2018-09-09 00:00:00   \\n', '19594  BaldEagleCr    19594               0.000000        2018-09-09 00:00:00   \\n', '19595  BaldEagleCr    19595               0.000000        2018-09-09 00:00:00   \\n', '19596  BaldEagleCr    19596               0.000000 \n...\n[Output truncated, 2376 characters total]"
          },
          "execution_count": 15,
          "metadata": {},
          "output_type": "execute_result"
        }
      ],
      "source": [
        "# Call the function to plot\n",
        "HdfResultsPlot.plot_results_max_wsel(max_ws_df)\n",
        "\n",
        "# Plot the time of maximum water surface elevation\n",
        "HdfResultsPlot.plot_results_max_wsel_time(max_ws_df)\n",
        "\n",
        "# Print the first few rows of the merged dataframe for verification\n",
        "print(\"\\nFirst few rows of the merged dataframe:\")\n",
        "max_ws_df\n"
      ]
    },
    {
      "cell_type": "code",
      "execution_count": 16,
      "metadata": {},
      "outputs": [
        {
          "name": "stderr",
          "output_type": "stream",
          "text": [
            "2025-07-03 09:47:58 - ras_commander.HdfBase - INFO - Using HDF file from direct string path: C:\\GH\\ras-commander\\examples\\example_projects\\BaldEagleCrkMulti2D\\BaldEagleDamBrk.g09.hdf\n",
            "2025-07-03 09:47:58 - ras_commander.HdfBase - INFO - Final validated HDF file path: C:\\GH\\ras-commander\\examples\\example_projects\\BaldEagleCrkMulti2D\\BaldEagleDamBrk.g09.hdf\n",
            "2025-07-03 09:47:58 - ras_commander.HdfBase - INFO - Found projection in HDF file: C:\\GH\\ras-commander\\examples\\example_projects\\BaldEagleCrkMulti2D\\BaldEagleDamBrk.g09.hdf\n"
          ]
        },
        {
          "name": "stdout",
          "output_type": "stream",
          "text": [
            "\n",
            "Extracting Projection from HDF\n",
            "Projection: PROJCS[\"NAD_1983_StatePlane_Pennsylvania_North_FIPS_3701_Feet\",GEOGCS[\"GCS_North_American_1983\",DATUM[\"D_North_American_1983\",SPHEROID[\"GRS_1980\",6378137.0,298.257222101]],PRIMEM[\"Greenwich\",0.0],UNIT[\"Degree\",0.0174532925199433]],PROJECTION[\"Lambert_Conformal_Conic\"],PARAMETER[\"False_Easting\",1968500.0],PARAMETER[\"False_Northing\",0.0],PARAMETER[\"Central_Meridian\",-77.75],PARAMETER[\"Standard_Parallel_1\",40.88333333333333],PARAMETER[\"Standard_Parallel_2\",41.95],PARAMETER[\"Latitude_Of_Origin\",40.16666666666666],UNIT[\"Foot_US\",0.3048006096012192]]\n"
          ]
        }
      ],
      "source": [
        "# Use HdfUtils for extracting projection\n",
        "print(\"\\nExtracting Projection from HDF\")\n",
        "projection = HdfBase.get_projection(hdf_path=geom_hdf_path)\n",
        "if projection:\n",
        "    print(f\"Projection: {projection}\")\n",
        "else:\n",
        "    print(\"No projection information found.\")"
      ]
    },
    {
      "cell_type": "code",
      "execution_count": 17,
      "metadata": {},
      "outputs": [
        {
          "name": "stderr",
          "output_type": "stream",
          "text": [
            "2025-07-03 09:47:58 - ras_commander.HdfMesh - INFO - Using HDF file from direct string path: C:\\GH\\ras-commander\\examples\\example_projects\\BaldEagleCrkMulti2D\\BaldEagleDamBrk.g09.hdf\n",
            "2025-07-03 09:47:58 - ras_commander.HdfMesh - INFO - Final validated HDF file path: C:\\GH\\ras-commander\\examples\\example_projects\\BaldEagleCrkMulti2D\\BaldEagleDamBrk.g09.hdf\n",
            "2025-07-03 09:47:58 - ras_commander.HdfMesh - INFO - Using existing Path object HDF file: C:\\GH\\ras-commander\\examples\\example_projects\\BaldEagleCrkMulti2D\\BaldEagleDamBrk.g09.hdf\n",
            "2025-07-03 09:47:58 - ras_commander.HdfMesh - INFO - Final validated HDF file path: C:\\GH\\ras-commander\\examples\\example_projects\\BaldEagleCrkMulti2D\\BaldEagleDamBrk.g09.hdf\n",
            "2025-07-03 09:47:58 - ras_commander.HdfMesh - INFO - Using existing Path object HDF file: C:\\GH\\ras-commander\\examples\\example_projects\\BaldEagleCrkMulti2D\\BaldEagleDamBrk.g09.hdf\n",
            "2025-07-03 09:47:58 - ras_commander.HdfMesh - INFO - Final validated HDF file path: C:\\GH\\ras-commander\\examples\\example_projects\\BaldEagleCrkMulti2D\\BaldEagleDamBrk.g09.hdf\n",
            "2025-07-03 09:47:58 - ras_commander.HdfMesh - INFO - Using existing Path object HDF file: C:\\GH\\ras-commander\\examples\\example_projects\\BaldEagleCrkMulti2D\\BaldEagleDamBrk.g09.hdf\n",
            "2025-07-03 09:47:58 - ras_commander.HdfMesh - INFO - Final validated HDF file path: C:\\GH\\ras-commander\\examples\\example_projects\\BaldEagleCrkMulti2D\\BaldEagleDamBrk.g09.hdf\n"
          ]
        },
        {
          "name": "stdout",
          "output_type": "stream",
          "text": [
            "\n",
            "Example 6: Extracting Cell Polygons\n"
          ]
        },
        {
          "name": "stderr",
          "output_type": "stream",
          "text": [
            "2025-07-03 09:48:00 - ras_commander.HdfBase - INFO - Using HDF file from h5py.File object: C:\\GH\\ras-commander\\examples\\example_projects\\BaldEagleCrkMulti2D\\BaldEagleDamBrk.g09.hdf\n",
            "2025-07-03 09:48:00 - ras_commander.HdfBase - INFO - Final validated HDF file path: C:\\GH\\ras-commander\\examples\\example_projects\\BaldEagleCrkMulti2D\\BaldEagleDamBrk.g09.hdf\n",
            "2025-07-03 09:48:00 - ras_commander.HdfBase - INFO - Found projection in HDF file: C:\\GH\\ras-commander\\examples\\example_projects\\BaldEagleCrkMulti2D\\BaldEagleDamBrk.g09.hdf\n",
            "2025-07-03 09:48:03 - ras_commander.HdfBase - INFO - Using HDF file from h5py.File object: C:\\GH\\ras-commander\\examples\\example_projects\\BaldEagleCrkMulti2D\\BaldEagleDamBrk.g09.hdf\n",
            "2025-07-03 09:48:03 - ras_commander.HdfBase - INFO - Final validated HDF file path: C:\\GH\\ras-commander\\examples\\example_projects\\BaldEagleCrkMulti2D\\BaldEagleDamBrk.g09.hdf\n",
            "2025-07-03 09:48:03 - ras_commander.HdfBase - INFO - Found projection in HDF file: C:\\GH\\ras-commander\\examples\\example_projects\\BaldEagleCrkMulti2D\\BaldEagleDamBrk.g09.hdf\n"
          ]
        }
      ],
      "source": [
        "# Example: Extract Cell Polygons\n",
        "print(\"\\nExample 6: Extracting Cell Polygons\")\n",
        "cell_polygons_gdf = HdfMesh.get_mesh_cell_polygons(geom_hdf_path)\n",
        "\n",
        "\n",
        "# Call the function to plot cell polygons\n",
        "#cell_polygons_gdf = HdfFluvialPluvial.plot_cell_polygons(cell_polygons_gdf, projection)\n"
      ]
    },
    {
      "cell_type": "code",
      "execution_count": 18,
      "metadata": {},
      "outputs": [
        {
          "name": "stderr",
          "output_type": "stream",
          "text": [
            "2025-07-03 09:48:04 - ras_commander.HdfFluvialPluvial - INFO - Using HDF file from direct string path: C:\\GH\\ras-commander\\examples\\example_projects\\BaldEagleCrkMulti2D\\BaldEagleDamBrk.p06.hdf\n",
            "2025-07-03 09:48:04 - ras_commander.HdfFluvialPluvial - INFO - Final validated HDF file path: C:\\GH\\ras-commander\\examples\\example_projects\\BaldEagleCrkMulti2D\\BaldEagleDamBrk.p06.hdf\n",
            "2025-07-03 09:48:04 - ras_commander.HdfFluvialPluvial - INFO - Getting cell polygons from HDF file...\n",
            "2025-07-03 09:48:04 - ras_commander.HdfMesh - INFO - Using existing Path object HDF file: C:\\GH\\ras-commander\\examples\\example_projects\\BaldEagleCrkMulti2D\\BaldEagleDamBrk.p06.hdf\n",
            "2025-07-03 09:48:04 - ras_commander.HdfMesh - INFO - Final validated HDF file path: C:\\GH\\ras-commander\\examples\\example_projects\\BaldEagleCrkMulti2D\\BaldEagleDamBrk.p06.hdf\n",
            "2025-07-03 09:48:04 - ras_commander.HdfMesh - INFO - Using existing Path object HDF file: C:\\GH\\ras-commander\\examples\\example_projects\\BaldEagleCrkMulti2D\\BaldEagleDamBrk.p06.hdf\n",
            "2025-07-03 09:48:04 - ras_commander.HdfMesh - INFO - Final validated HDF file path: C:\\GH\\ras-commander\\examples\\example_projects\\BaldEagleCrkMulti2D\\BaldEagleDamBrk.p06.hdf\n",
            "2025-07-03 09:48:04 - ras_commander.HdfMesh - INFO - Using existing Path object HDF file: C:\\GH\\ras-commander\\examples\\example_projects\\BaldEagleCrkMulti2D\\BaldEagleDamBrk.p06.hdf\n",
            "2025-07-03 09:48:04 - ras_commander.HdfMesh - INFO - Final validated HDF file path: C:\\GH\\ras-commander\\examples\\example_projects\\BaldEagleCrkMulti2D\\BaldEagleDamBrk.p06.hdf\n",
            "2025-07-03 09:48:04 - ras_commander.HdfMesh - INFO - Using existing Path object HDF file: C:\\GH\\ras-commander\\examples\\example_projects\\BaldEagleCrkMulti2D\\BaldEagleDamBrk.p06.hdf\n",
            "2025-07-03 09:48:04 - ras_commander.HdfMesh - INFO - Final validated HDF file path: C:\\GH\\ras-commander\\examples\\example_projects\\BaldEagleCrkMulti2D\\BaldEagleDamBrk.p06.hdf\n",
            "2025-07-03 09:48:05 - ras_commander.HdfBase - INFO - Using HDF file from h5py.File object: C:\\GH\\ras-commander\\examples\\example_projects\\BaldEagleCrkMulti2D\\BaldEagleDamBrk.p06.hdf\n",
            "2025-07-03 09:48:05 - ras_commander.HdfBase - INFO - Final validated HDF file path: C:\\GH\\ras-commander\\examples\\example_projects\\BaldEagleCrkMulti2D\\BaldEagleDamBrk.p06.hdf\n",
            "2025-07-03 09:48:05 - ras_commander.HdfBase - INFO - Found projection in HDF file: C:\\GH\\ras-commander\\examples\\example_projects\\BaldEagleCrkMulti2D\\BaldEagleDamBrk.p06.hdf\n",
            "2025-07-03 09:48:09 - ras_commander.HdfBase - INFO - Using HDF file from h5py.File object: C:\\GH\\ras-commander\\examples\\example_projects\\BaldEagleCrkMulti2D\\BaldEagleDamBrk.p06.hdf\n",
            "2025-07-03 09:48:09 - ras_commander.HdfBase - INFO - Final validated HDF file path: C:\\GH\\ras-commander\\examples\\example_projects\\BaldEagleCrkMulti2D\\BaldEagleDamBrk.p06.hdf\n",
            "2025-07-03 09:48:09 - ras_commander.HdfBase - INFO - Found projection in HDF file: C:\\GH\\ras-commander\\examples\\example_projects\\BaldEagleCrkMulti2D\\BaldEagleDamBrk.p06.hdf\n",
            "2025-07-03 09:48:09 - ras_commander.HdfFluvialPluvial - INFO - Getting maximum water surface data from HDF file...\n",
            "2025-07-03 09:48:09 - ras_commander.HdfResultsMesh - INFO - Using existing Path object HDF file: C:\\GH\\ras-commander\\examples\\example_projects\\BaldEagleCrkMulti2D\\BaldEagleDamBrk.p06.hdf\n",
            "2025-07-03 09:48:09 - ras_commander.HdfResultsMesh - INFO - Final validated HDF file path: C:\\GH\\ras-commander\\examples\\example_projects\\BaldEagleCrkMulti2D\\BaldEagleDamBrk.p06.hdf\n",
            "2025-07-03 09:48:09 - ras_commander.HdfResultsMesh - INFO - Processing summary output for variable: Maximum Water Surface\n",
            "2025-07-03 09:48:09 - ras_commander.HdfMesh - INFO - Using HDF file from h5py.File object: C:\\GH\\ras-commander\\examples\\example_projects\\BaldEagleCrkMulti2D\\BaldEagleDamBrk.p06.hdf\n",
            "2025-07-03 09:48:09 - ras_commander.HdfMesh - INFO - Final validated HDF file path: C:\\GH\\ras-commander\\examples\\example_projects\\BaldEagleCrkMulti2D\\BaldEagleDamBrk.p06.hdf\n",
            "2025-07-03 09:48:09 - ras_commander.HdfMesh - INFO - Using existing Path object HDF file: C:\\GH\\ras-commander\\examples\\example_projects\\BaldEagleCrkMulti2D\\BaldEagleDamBrk.p06.hdf\n",
            "2025-07-03 09:48:09 - ras_commander.HdfMesh - INFO - Final validated HDF file path: C:\\GH\\ras-commander\\examples\\example_projects\\BaldEagleCrkMulti2D\\BaldEagleDamBrk.p06.hdf\n",
            "2025-07-03 09:48:09 - ras_commander.HdfBase - INFO - Using HDF file from h5py.File object: C:\\GH\\ras-commander\\examples\\example_projects\\BaldEagleCrkMulti2D\\BaldEagleDamBrk.p06.hdf\n",
            "2025-07-03 09:48:09 - ras_commander.HdfBase - INFO - Final validated HDF file path: C:\\GH\\ras-commander\\examples\\example_projects\\BaldEagleCrkMulti2D\\BaldEagleDamBrk.p06.hdf\n",
            "2025-07-03 09:48:09 - ras_commander.HdfBase - INFO - Found projection in HDF file: C:\\GH\\ras-commander\\examples\\example_projects\\BaldEagleCrkMulti2D\\BaldEagleDamBrk.p06.hdf\n",
            "2025-07-03 09:48:10 - ras_commander.HdfBase - INFO - Using HDF file from h5py.File object: C:\\GH\\ras-commander\\examples\\example_projects\\BaldEagleCrkMulti2D\\BaldEagleDamBrk.p06.hdf\n",
            "2025-07-03 09:48:10 - ras_commander.HdfBase - INFO - Final validated HDF file path: C:\\GH\\ras-commander\\examples\\example_projects\\BaldEagleCrkMulti2D\\BaldEagleDamBrk.p06.hdf\n",
            "2025-07-03 09:48:10 - ras_commander.HdfBase - INFO - Found projection in HDF file: C:\\GH\\ras-commander\\examples\\example_projects\\BaldEagleCrkMulti2D\\BaldEagleDamBrk.p06.hdf\n",
            "2025-07-03 09:48:10 - ras_commander.HdfResultsMesh - INFO - Processed 19597 rows of summary output data\n",
            "2025-07-03 09:48:10 - ras_commander.HdfFluvialPluvial - INFO - Converting maximum water surface timestamps...\n",
            "2025-07-03 09:48:10 - ras_commander.HdfFluvialPluvial - INFO - Processing cell adjacencies...\n",
            "2025-07-03 09:48:16 - ras_commander.HdfFluvialPluvial - INFO - Extracting cell times from maximum water surface data...\n",
            "2025-07-03 09:48:16 - ras_commander.HdfFluvialPluvial - INFO - Identifying boundary edges...\n",
            "2025-07-03 09:48:17 - ras_commander.HdfFluvialPluvial - INFO - Identified 3201 boundary edges using delta_t of 72 hours.\n",
            "2025-07-03 09:48:17 - ras_commander.HdfFluvialPluvial - INFO - Creating final GeoDataFrame for boundaries...\n",
            "2025-07-03 09:48:17 - ras_commander.HdfFluvialPluvial - INFO - Boundary line calculation completed successfully.\n"
          ]
        }
      ],
      "source": [
        "import geopandas as gpd\n",
        "import pandas as pd\n",
        "from shapely.geometry import LineString, Polygon, MultiLineString\n",
        "from collections import defaultdict\n",
        "from tqdm import tqdm\n",
        "from rtree import index\n",
        "\n",
        "\n",
        "# Example usage:\n",
        "boundary_gdf = HdfFluvialPluvial.calculate_fluvial_pluvial_boundary(plan_hdf_path, delta_t=72)"
      ]
    },
    {
      "cell_type": "code",
      "execution_count": 19,
      "metadata": {},
      "outputs": [
        {
          "name": "stdout",
          "output_type": "stream",
          "text": [
            "Boundary line length statistics:\n",
            "Max length: 441.63\n",
            "Min length: 1.57\n",
            "Average length: 242.54\n",
            "Median length: 250.00\n",
            "\n",
            "Boundary GeoDataFrame info:\n",
            "<class 'geopandas.geodataframe.GeoDataFrame'>\n",
            "RangeIndex: 3201 entries, 0 to 3200\n",
            "Data columns (total 1 columns):\n",
            " #   Column    Non-Null Count  Dtype   \n",
            "---  ------    --------------  -----   \n",
            " 0   geometry  3201 non-null   geometry\n",
            "dtypes: geometry(1)\n",
            "memory usage: 25.1 KB\n",
            "None\n"
          ]
        }
      ],
      "source": [
        "# Calculate statistics about the boundary line lengths\n",
        "boundary_lengths = boundary_gdf.geometry.length\n",
        "\n",
        "print(\"Boundary line length statistics:\")\n",
        "print(f\"Max length: {boundary_lengths.max():.2f}\")\n",
        "print(f\"Min length: {boundary_lengths.min():.2f}\")\n",
        "print(f\"Average length: {boundary_lengths.mean():.2f}\")\n",
        "print(f\"Median length: {boundary_lengths.median():.2f}\")\n",
        "\n",
        "# Print general information about the boundary GeoDataFrame\n",
        "print(\"\\nBoundary GeoDataFrame info:\")\n",
        "print(boundary_gdf.info())"
      ]
    },
    {
      "cell_type": "code",
      "execution_count": 20,
      "metadata": {},
      "outputs": [
        {
          "data": {
            "text/plain": [
              "<Figure size 1200x800 with 1 Axes>"
            ]
          },
          "metadata": {},
          "output_type": "display_data"
        }
      ],
      "source": [
        "# Visualize the results\n",
        "fig, ax = plt.subplots(figsize=(12, 8))\n",
        "cell_polygons_gdf.plot(ax=ax, edgecolor='gray', facecolor='none', alpha=0.5)\n",
        "boundary_gdf.plot(ax=ax, color='red', linewidth=2)\n",
        "plt.title('Fluvial-Pluvial Boundary')\n",
        "plt.xlabel('X Coordinate')\n",
        "plt.ylabel('Y Coordinate')\n",
        "plt.show()"
      ]
    },
    {
      "cell_type": "code",
      "execution_count": 21,
      "metadata": {},
      "outputs": [
        {
          "name": "stderr",
          "output_type": "stream",
          "text": [
            "C:\\Users\\billk\\AppData\\Local\\Temp\\ipykernel_30664\\1399630256.py:10: UserWarning: The GeoDataFrame you are attempting to plot is empty. Nothing has been displayed.\n",
            "  filtered_boundary_gdf.plot(ax=ax, color='red', linewidth=2, label='Valid Boundaries')\n"
          ]
        },
        {
          "data": {
            "text/plain": [
              "<Figure size 1200x800 with 1 Axes>"
            ]
          },
          "metadata": {},
          "output_type": "display_data"
        }
      ],
      "source": [
        "length_threshold = 3000 #in same units as X and Y coordinates\n",
        "\n",
        "# Filter out boundary lines below the length threshold\n",
        "filtered_boundary_gdf = boundary_gdf[boundary_lengths >= length_threshold]\n",
        "highlighted_boundary_gdf = boundary_gdf[boundary_lengths < length_threshold]\n",
        "\n",
        "# Visualize the results with highlighted boundaries below the threshold\n",
        "fig, ax = plt.subplots(figsize=(12, 8))\n",
        "cell_polygons_gdf.plot(ax=ax, edgecolor='gray', facecolor='none', alpha=0.5)\n",
        "filtered_boundary_gdf.plot(ax=ax, color='red', linewidth=2, label='Valid Boundaries')\n",
        "highlighted_boundary_gdf.plot(ax=ax, color='blue', linewidth=2, linestyle='--', label='Highlighted Boundaries Below Threshold')\n",
        "plt.title('Fluvial-Pluvial Boundary with Length Threshold')\n",
        "plt.xlabel('X Coordinate')\n",
        "plt.ylabel('Y Coordinate')\n",
        "plt.legend()\n",
        "plt.show()\n"
      ]
    },
    {
      "cell_type": "code",
      "execution_count": 22,
      "metadata": {},
      "outputs": [
        {
          "name": "stderr",
          "output_type": "stream",
          "text": [
            "2025-07-03 09:48:29 - ras_commander.HdfFluvialPluvial - INFO - Using HDF file from direct string path: C:\\GH\\ras-commander\\examples\\example_projects\\BaldEagleCrkMulti2D\\BaldEagleDamBrk.p06.hdf\n",
            "2025-07-03 09:48:29 - ras_commander.HdfFluvialPluvial - INFO - Final validated HDF file path: C:\\GH\\ras-commander\\examples\\example_projects\\BaldEagleCrkMulti2D\\BaldEagleDamBrk.p06.hdf\n",
            "2025-07-03 09:48:29 - ras_commander.HdfFluvialPluvial - INFO - Getting cell polygons from HDF file...\n",
            "2025-07-03 09:48:29 - ras_commander.HdfMesh - INFO - Using existing Path object HDF file: C:\\GH\\ras-commander\\examples\\example_projects\\BaldEagleCrkMulti2D\\BaldEagleDamBrk.p06.hdf\n",
            "2025-07-03 09:48:30 - ras_commander.HdfMesh - INFO - Final validated HDF file path: C:\\GH\\ras-commander\\examples\\example_projects\\BaldEagleCrkMulti2D\\BaldEagleDamBrk.p06.hdf\n",
            "2025-07-03 09:48:30 - ras_commander.HdfMesh - INFO - Using existing Path object HDF file: C:\\GH\\ras-commander\\examples\\example_projects\\BaldEagleCrkMulti2D\\BaldEagleDamBrk.p06.hdf\n",
            "2025-07-03 09:48:30 - ras_commander.HdfMesh - INFO - Final validated HDF file path: C:\\GH\\ras-commander\\examples\\example_projects\\BaldEagleCrkMulti2D\\BaldEagleDamBrk.p06.hdf\n",
            "2025-07-03 09:48:30 - ras_commander.HdfMesh - INFO - Using existing Path object HDF file: C:\\GH\\ras-commander\\examples\\example_projects\\BaldEagleCrkMulti2D\\BaldEagleDamBrk.p06.hdf\n",
            "2025-07-03 09:48:30 - ras_commander.HdfMesh - INFO - Final validated HDF file path: C:\\GH\\ras-commander\\examples\\example_projects\\BaldEagleCrkMulti2D\\BaldEagleDamBrk.p06.hdf\n",
            "2025-07-03 09:48:30 - ras_commander.HdfMesh - INFO - Using existing Path object HDF file: C:\\GH\\ras-commander\\examples\\example_projects\\BaldEagleCrkMulti2D\\BaldEagleDamBrk.p06.hdf\n",
            "2025-07-03 09:48:30 - ras_commander.HdfMesh - INFO - Final validated HDF file path: C:\\GH\\ras-commander\\examples\\example_projects\\BaldEagleCrkMulti2D\\BaldEagleDamBrk.p06.hdf\n",
            "2025-07-03 09:48:31 - ras_commander.HdfBase - INFO - Using HDF file from h5py.File object: C:\\GH\\ras-commander\\examples\\example_projects\\BaldEagleCrkMulti2D\\BaldEagleDamBrk.p06.hdf\n",
            "2025-07-03 09:48:31 - ras_commander.HdfBase - INFO - Final validated HDF file path: C:\\GH\\ras-commander\\examples\\example_projects\\BaldEagleCrkMulti2D\\BaldEagleDamBrk.p06.hdf\n",
            "2025-07-03 09:48:31 - ras_commander.HdfBase - INFO - Found projection in HDF file: C:\\GH\\ras-commander\\examples\\example_projects\\BaldEagleCrkMulti2D\\BaldEagleDamBrk.p06.hdf\n",
            "2025-07-03 09:48:34 - ras_commander.HdfBase - INFO - Using HDF file from h5py.File object: C:\\GH\\ras-commander\\examples\\example_projects\\BaldEagleCrkMulti2D\\BaldEagleDamBrk.p06.hdf\n",
            "2025-07-03 09:48:34 - ras_commander.HdfBase - INFO - Final validated HDF file path: C:\\GH\\ras-commander\\examples\\example_projects\\BaldEagleCrkMulti2D\\BaldEagleDamBrk.p06.hdf\n",
            "2025-07-03 09:48:34 - ras_commander.HdfBase - INFO - Found projection in HDF file: C:\\GH\\ras-commander\\examples\\example_projects\\BaldEagleCrkMulti2D\\BaldEagleDamBrk.p06.hdf\n",
            "2025-07-03 09:48:34 - ras_commander.HdfFluvialPluvial - INFO - Getting maximum water surface data from HDF file...\n",
            "2025-07-03 09:48:34 - ras_commander.HdfResultsMesh - INFO - Using existing Path object HDF file: C:\\GH\\ras-commander\\examples\\example_projects\\BaldEagleCrkMulti2D\\BaldEagleDamBrk.p06.hdf\n",
            "2025-07-03 09:48:34 - ras_commander.HdfResultsMesh - INFO - Final validated HDF file path: C:\\GH\\ras-commander\\examples\\example_projects\\BaldEagleCrkMulti2D\\BaldEagleDamBrk.p06.hdf\n",
            "2025-07-03 09:48:34 - ras_commander.HdfResultsMesh - INFO - Processing summary output for variable: Maximum Water Surface\n",
            "2025-07-03 09:48:34 - ras_commander.HdfMesh - INFO - Using HDF file from h5py.File object: C:\\GH\\ras-commander\\examples\\example_projects\\BaldEagleCrkMulti2D\\BaldEagleDamBrk.p06.hdf\n",
            "2025-07-03 09:48:34 - ras_commander.HdfMesh - INFO - Final validated HDF file path: C:\\GH\\ras-commander\\examples\\example_projects\\BaldEagleCrkMulti2D\\BaldEagleDamBrk.p06.hdf\n",
            "2025-07-03 09:48:34 - ras_commander.HdfMesh - INFO - Using existing Path object HDF file: C:\\GH\\ras-commander\\examples\\example_projects\\BaldEagleCrkMulti2D\\BaldEagleDamBrk.p06.hdf\n",
            "2025-07-03 09:48:34 - ras_commander.HdfMesh - INFO - Final validated HDF file path: C:\\GH\\ras-commander\\examples\\example_projects\\BaldEagleCrkMulti2D\\BaldEagleDamBrk.p06.hdf\n",
            "2025-07-03 09:48:34 - ras_commander.HdfBase - INFO - Using HDF file from h5py.File object: C:\\GH\\ras-commander\\examples\\example_projects\\BaldEagleCrkMulti2D\\BaldEagleDamBrk.p06.hdf\n",
            "2025-07-03 09:48:34 - ras_commander.HdfBase - INFO - Final validated HDF file path: C:\\GH\\ras-commander\\examples\\example_projects\\BaldEagleCrkMulti2D\\BaldEagleDamBrk.p06.hdf\n",
            "2025-07-03 09:48:34 - ras_commander.HdfBase - INFO - Found projection in HDF file: C:\\GH\\ras-commander\\examples\\example_projects\\BaldEagleCrkMulti2D\\BaldEagleDamBrk.p06.hdf\n",
            "2025-07-03 09:48:34 - ras_commander.HdfBase - INFO - Using HDF file from h5py.File object: C:\\GH\\ras-commander\\examples\\example_projects\\BaldEagleCrkMulti2D\\BaldEagleDamBrk.p06.hdf\n",
            "2025-07-03 09:48:34 - ras_commander.HdfBase - INFO - Final validated HDF file path: C:\\GH\\ras-commander\\examples\\example_projects\\BaldEagleCrkMulti2D\\BaldEagleDamBrk.p06.hdf\n",
            "2025-07-03 09:48:34 - ras_commander.HdfBase - INFO - Found projection in HDF file: C:\\GH\\ras-commander\\examples\\example_projects\\BaldEagleCrkMulti2D\\BaldEagleDamBrk.p06.hdf\n",
            "2025-07-03 09:48:34 - ras_commander.HdfResultsMesh - INFO - Processed 19597 rows of summary output data\n",
            "2025-07-03 09:48:34 - ras_commander.HdfFluvialPluvial - INFO - Converting maximum water surface timestamps...\n",
            "2025-07-03 09:48:34 - ras_commander.HdfFluvialPluvial - INFO - Processing cell adjacencies...\n",
            "2025-07-03 09:48:41 - ras_commander.HdfFluvialPluvial - INFO - Extracting cell times from maximum water surface data...\n",
            "2025-07-03 09:48:41 - ras_commander.HdfFluvialPluvial - INFO - Identifying boundary edges...\n",
            "2025-07-03 09:48:41 - ras_commander.HdfFluvialPluvial - INFO - Identified 3201 boundary edges using delta_t of 72 hours.\n",
            "2025-07-03 09:48:41 - ras_commander.HdfFluvialPluvial - INFO - 3201 boundary line(s) shorter than 3000 units were dropped after filtering.\n",
            "2025-07-03 09:48:41 - ras_commander.HdfFluvialPluvial - INFO - Creating final GeoDataFrame for boundaries...\n",
            "2025-07-03 09:48:41 - ras_commander.HdfFluvialPluvial - INFO - Boundary line calculation completed successfully.\n"
          ]
        }
      ],
      "source": [
        "# Example usage using Optional min_line_length argument:\n",
        "boundary_gdf = HdfFluvialPluvial.calculate_fluvial_pluvial_boundary(plan_hdf_path, delta_t=72, min_line_length=3000)"
      ]
    },
    {
      "cell_type": "code",
      "execution_count": 37,
      "metadata": {},
      "outputs": [
        {
          "name": "stderr",
          "output_type": "stream",
          "text": [
            "2025-07-03 09:54:52 - ras_commander.HdfFluvialPluvial - INFO - Using HDF file from direct string path: C:\\GH\\ras-commander\\examples\\example_projects\\BaldEagleCrkMulti2D\\BaldEagleDamBrk.p06.hdf\n",
            "2025-07-03 09:54:52 - ras_commander.HdfFluvialPluvial - INFO - Final validated HDF file path: C:\\GH\\ras-commander\\examples\\example_projects\\BaldEagleCrkMulti2D\\BaldEagleDamBrk.p06.hdf\n",
            "2025-07-03 09:54:52 - ras_commander.HdfFluvialPluvial - INFO - Loading mesh and results data...\n",
            "2025-07-03 09:54:52 - ras_commander.HdfMesh - INFO - Using existing Path object HDF file: C:\\GH\\ras-commander\\examples\\example_projects\\BaldEagleCrkMulti2D\\BaldEagleDamBrk.p06.hdf\n",
            "2025-07-03 09:54:52 - ras_commander.HdfMesh - INFO - Final validated HDF file path: C:\\GH\\ras-commander\\examples\\example_projects\\BaldEagleCrkMulti2D\\BaldEagleDamBrk.p06.hdf\n",
            "2025-07-03 09:54:52 - ras_commander.HdfMesh - INFO - Using existing Path object HDF file: C:\\GH\\ras-commander\\examples\\example_projects\\BaldEagleCrkMulti2D\\BaldEagleDamBrk.p06.hdf\n",
            "2025-07-03 09:54:52 - ras_commander.HdfMesh - INFO - Final validated HDF file path: C:\\GH\\ras-commander\\examples\\example_projects\\BaldEagleCrkMulti2D\\BaldEagleDamBrk.p06.hdf\n",
            "2025-07-03 09:54:52 - ras_commander.HdfMesh - INFO - Using existing Path object HDF file: C:\\GH\\ras-commander\\examples\\example_projects\\BaldEagleCrkMulti2D\\BaldEagleDamBrk.p06.hdf\n",
            "2025-07-03 09:54:52 - ras_commander.HdfMesh - INFO - Final validated HDF file path: C:\\GH\\ras-commander\\examples\\example_projects\\BaldEagleCrkMulti2D\\BaldEagleDamBrk.p06.hdf\n",
            "2025-07-03 09:54:52 - ras_commander.HdfMesh - INFO - Using existing Path object HDF file: C:\\GH\\ras-commander\\examples\\example_projects\\BaldEagleCrkMulti2D\\BaldEagleDamBrk.p06.hdf\n",
            "2025-07-03 09:54:52 - ras_commander.HdfMesh - INFO - Final validated HDF file path: C:\\GH\\ras-commander\\examples\\example_projects\\BaldEagleCrkMulti2D\\BaldEagleDamBrk.p06.hdf\n",
            "2025-07-03 09:54:53 - ras_commander.HdfBase - INFO - Using HDF file from h5py.File object: C:\\GH\\ras-commander\\examples\\example_projects\\BaldEagleCrkMulti2D\\BaldEagleDamBrk.p06.hdf\n",
            "2025-07-03 09:54:53 - ras_commander.HdfBase - INFO - Final validated HDF file path: C:\\GH\\ras-commander\\examples\\example_projects\\BaldEagleCrkMulti2D\\BaldEagleDamBrk.p06.hdf\n",
            "2025-07-03 09:54:53 - ras_commander.HdfBase - INFO - Found projection in HDF file: C:\\GH\\ras-commander\\examples\\example_projects\\BaldEagleCrkMulti2D\\BaldEagleDamBrk.p06.hdf\n",
            "2025-07-03 09:54:55 - ras_commander.HdfBase - INFO - Using HDF file from h5py.File object: C:\\GH\\ras-commander\\examples\\example_projects\\BaldEagleCrkMulti2D\\BaldEagleDamBrk.p06.hdf\n",
            "2025-07-03 09:54:55 - ras_commander.HdfBase - INFO - Final validated HDF file path: C:\\GH\\ras-commander\\examples\\example_projects\\BaldEagleCrkMulti2D\\BaldEagleDamBrk.p06.hdf\n",
            "2025-07-03 09:54:55 - ras_commander.HdfBase - INFO - Found projection in HDF file: C:\\GH\\ras-commander\\examples\\example_projects\\BaldEagleCrkMulti2D\\BaldEagleDamBrk.p06.hdf\n",
            "2025-07-03 09:54:56 - ras_commander.HdfResultsMesh - INFO - Using existing Path object HDF file: C:\\GH\\ras-commander\\examples\\example_projects\\BaldEagleCrkMulti2D\\BaldEagleDamBrk.p06.hdf\n",
            "2025-07-03 09:54:56 - ras_commander.HdfResultsMesh - INFO - Final validated HDF file path: C:\\GH\\ras-commander\\examples\\example_projects\\BaldEagleCrkMulti2D\\BaldEagleDamBrk.p06.hdf\n",
            "2025-07-03 09:54:56 - ras_commander.HdfResultsMesh - INFO - Processing summary output for variable: Maximum Water Surface\n",
            "2025-07-03 09:54:56 - ras_commander.HdfMesh - INFO - Using HDF file from h5py.File object: C:\\GH\\ras-commander\\examples\\example_projects\\BaldEagleCrkMulti2D\\BaldEagleDamBrk.p06.hdf\n",
            "2025-07-03 09:54:56 - ras_commander.HdfMesh - INFO - Final validated HDF file path: C:\\GH\\ras-commander\\examples\\example_projects\\BaldEagleCrkMulti2D\\BaldEagleDamBrk.p06.hdf\n",
            "2025-07-03 09:54:56 - ras_commander.HdfMesh - INFO - Using existing Path object HDF file: C:\\GH\\ras-commander\\examples\\example_projects\\BaldEagleCrkMulti2D\\BaldEagleDamBrk.p06.hdf\n",
            "2025-07-03 09:54:56 - ras_commander.HdfMesh - INFO - Final validated HDF file path: C:\\GH\\ras-commander\\examples\\example_projects\\BaldEagleCrkMulti2D\\BaldEagleDamBrk.p06.hdf\n",
            "2025-07-03 09:54:56 - ras_commander.HdfBase - INFO - Using HDF file from h5py.File object: C:\\GH\\ras-commander\\examples\\example_projects\\BaldEagleCrkMulti2D\\BaldEagleDamBrk.p06.hdf\n",
            "2025-07-03 09:54:56 - ras_commander.HdfBase - INFO - Final validated HDF file path: C:\\GH\\ras-commander\\examples\\example_projects\\BaldEagleCrkMulti2D\\BaldEagleDamBrk.p06.hdf\n",
            "2025-07-03 09:54:56 - ras_commander.HdfBase - INFO - Found projection in HDF file: C:\\GH\\ras-commander\\examples\\example_projects\\BaldEagleCrkMulti2D\\BaldEagleDamBrk.p06.hdf\n",
            "2025-07-03 09:54:56 - ras_commander.HdfBase - INFO - Using HDF file from h5py.File object: C:\\GH\\ras-commander\\examples\\example_projects\\BaldEagleCrkMulti2D\\BaldEagleDamBrk.p06.hdf\n",
            "2025-07-03 09:54:56 - ras_commander.HdfBase - INFO - Final validated HDF file path: C:\\GH\\ras-commander\\examples\\example_projects\\BaldEagleCrkMulti2D\\BaldEagleDamBrk.p06.hdf\n",
            "2025-07-03 09:54:56 - ras_commander.HdfBase - INFO - Found projection in HDF file: C:\\GH\\ras-commander\\examples\\example_projects\\BaldEagleCrkMulti2D\\BaldEagleDamBrk.p06.hdf\n",
            "2025-07-03 09:54:56 - ras_commander.HdfResultsMesh - INFO - Processed 19597 rows of summary output data\n",
            "2025-07-03 09:54:56 - ras_commander.HdfFluvialPluvial - INFO - Processing cell adjacencies...\n",
            "2025-07-03 09:55:02 - ras_commander.HdfFluvialPluvial - INFO - Identifying initial boundary seeds with delta_t = 10 hours...\n",
            "2025-07-03 09:55:02 - ras_commander.HdfFluvialPluvial - INFO - Starting iterative region growth with tolerance = 1.0 hours...\n",
            "Region Growing: 33iter [00:01, 29.89iter/s, Fluvial=0, Pluvial=0, Ambiguous=0]      \n",
            "2025-07-03 09:55:04 - ras_commander.HdfFluvialPluvial - INFO - Region growing completed in 33 iterations.\n",
            "2025-07-03 09:55:04 - ras_commander.HdfFluvialPluvial - INFO - Merging classifications with cell polygons...\n",
            "2025-07-03 09:55:04 - ras_commander.HdfFluvialPluvial - INFO - Dissolving polygons by classification...\n",
            "2025-07-03 09:55:05 - ras_commander.HdfFluvialPluvial - INFO - Applying minimum polygon area filter: 1000 acres\n",
            "2025-07-03 09:55:05 - ras_commander.HdfFluvialPluvial - INFO - Found 235 small fluvial and 140 small pluvial polygons to reclassify.\n",
            "2025-07-03 09:55:05 - ras_commander.HdfFluvialPluvial - INFO - Redissolved polygons after reclassification of small areas.\n",
            "2025-07-03 09:55:05 - ras_commander.HdfFluvialPluvial - INFO - Polygon generation completed successfully.\n"
          ]
        },
        {
          "data": {
            "text/plain": [
              "<Figure size 1200x800 with 1 Axes>"
            ]
          },
          "metadata": {},
          "output_type": "display_data"
        }
      ],
      "source": [
        "# To get the classified flood zones as polygons:\n",
        "flood_polygons_gdf = HdfFluvialPluvial.generate_fluvial_pluvial_polygons(\n",
        "    plan_hdf_path, \n",
        "    delta_t=10, \n",
        "    temporal_tolerance_hours=1.0,\n",
        "    min_polygon_area_acres=1000\n",
        ")\n",
        "\n",
        "flood_polygons_gdf\n",
        "\n",
        "# Plot the classified flood zones as polygons, colored by classification\n",
        "fig, ax = plt.subplots(figsize=(12, 8))\n",
        "flood_polygons_gdf.plot(\n",
        "    ax=ax,\n",
        "    column=\"classification\",\n",
        "    categorical=True,\n",
        "    legend=True,\n",
        "    edgecolor=\"black\",\n",
        "    alpha=0.7\n",
        ")\n",
        "plt.title(\"Fluvial-Pluvial Classified Flood Zones\")\n",
        "plt.xlabel(\"X Coordinate\")\n",
        "plt.ylabel(\"Y Coordinate\")\n",
        "plt.show()\n"
      ]
    },
    {
      "cell_type": "code",
      "execution_count": 38,
      "metadata": {},
      "outputs": [
        {
          "name": "stderr",
          "output_type": "stream",
          "text": [
            "2025-07-03 09:55:36 - ras_commander.HdfFluvialPluvial - INFO - Using HDF file from direct string path: C:\\GH\\ras-commander\\examples\\example_projects\\BaldEagleCrkMulti2D\\BaldEagleDamBrk.p06.hdf\n",
            "2025-07-03 09:55:36 - ras_commander.HdfFluvialPluvial - INFO - Final validated HDF file path: C:\\GH\\ras-commander\\examples\\example_projects\\BaldEagleCrkMulti2D\\BaldEagleDamBrk.p06.hdf\n",
            "2025-07-03 09:55:36 - ras_commander.HdfFluvialPluvial - INFO - Loading mesh and results data...\n",
            "2025-07-03 09:55:36 - ras_commander.HdfMesh - INFO - Using existing Path object HDF file: C:\\GH\\ras-commander\\examples\\example_projects\\BaldEagleCrkMulti2D\\BaldEagleDamBrk.p06.hdf\n",
            "2025-07-03 09:55:36 - ras_commander.HdfMesh - INFO - Final validated HDF file path: C:\\GH\\ras-commander\\examples\\example_projects\\BaldEagleCrkMulti2D\\BaldEagleDamBrk.p06.hdf\n",
            "2025-07-03 09:55:36 - ras_commander.HdfMesh - INFO - Using existing Path object HDF file: C:\\GH\\ras-commander\\examples\\example_projects\\BaldEagleCrkMulti2D\\BaldEagleDamBrk.p06.hdf\n",
            "2025-07-03 09:55:36 - ras_commander.HdfMesh - INFO - Final validated HDF file path: C:\\GH\\ras-commander\\examples\\example_projects\\BaldEagleCrkMulti2D\\BaldEagleDamBrk.p06.hdf\n",
            "2025-07-03 09:55:36 - ras_commander.HdfMesh - INFO - Using existing Path object HDF file: C:\\GH\\ras-commander\\examples\\example_projects\\BaldEagleCrkMulti2D\\BaldEagleDamBrk.p06.hdf\n",
            "2025-07-03 09:55:36 - ras_commander.HdfMesh - INFO - Final validated HDF file path: C:\\GH\\ras-commander\\examples\\example_projects\\BaldEagleCrkMulti2D\\BaldEagleDamBrk.p06.hdf\n",
            "2025-07-03 09:55:36 - ras_commander.HdfMesh - INFO - Using existing Path object HDF file: C:\\GH\\ras-commander\\examples\\example_projects\\BaldEagleCrkMulti2D\\BaldEagleDamBrk.p06.hdf\n",
            "2025-07-03 09:55:36 - ras_commander.HdfMesh - INFO - Final validated HDF file path: C:\\GH\\ras-commander\\examples\\example_projects\\BaldEagleCrkMulti2D\\BaldEagleDamBrk.p06.hdf\n",
            "2025-07-03 09:55:38 - ras_commander.HdfBase - INFO - Using HDF file from h5py.File object: C:\\GH\\ras-commander\\examples\\example_projects\\BaldEagleCrkMulti2D\\BaldEagleDamBrk.p06.hdf\n",
            "2025-07-03 09:55:38 - ras_commander.HdfBase - INFO - Final validated HDF file path: C:\\GH\\ras-commander\\examples\\example_projects\\BaldEagleCrkMulti2D\\BaldEagleDamBrk.p06.hdf\n",
            "2025-07-03 09:55:38 - ras_commander.HdfBase - INFO - Found projection in HDF file: C:\\GH\\ras-commander\\examples\\example_projects\\BaldEagleCrkMulti2D\\BaldEagleDamBrk.p06.hdf\n",
            "2025-07-03 09:55:40 - ras_commander.HdfBase - INFO - Using HDF file from h5py.File object: C:\\GH\\ras-commander\\examples\\example_projects\\BaldEagleCrkMulti2D\\BaldEagleDamBrk.p06.hdf\n",
            "2025-07-03 09:55:40 - ras_commander.HdfBase - INFO - Final validated HDF file path: C:\\GH\\ras-commander\\examples\\example_projects\\BaldEagleCrkMulti2D\\BaldEagleDamBrk.p06.hdf\n",
            "2025-07-03 09:55:40 - ras_commander.HdfBase - INFO - Found projection in HDF file: C:\\GH\\ras-commander\\examples\\example_projects\\BaldEagleCrkMulti2D\\BaldEagleDamBrk.p06.hdf\n",
            "2025-07-03 09:55:40 - ras_commander.HdfResultsMesh - INFO - Using existing Path object HDF file: C:\\GH\\ras-commander\\examples\\example_projects\\BaldEagleCrkMulti2D\\BaldEagleDamBrk.p06.hdf\n",
            "2025-07-03 09:55:40 - ras_commander.HdfResultsMesh - INFO - Final validated HDF file path: C:\\GH\\ras-commander\\examples\\example_projects\\BaldEagleCrkMulti2D\\BaldEagleDamBrk.p06.hdf\n",
            "2025-07-03 09:55:40 - ras_commander.HdfResultsMesh - INFO - Processing summary output for variable: Maximum Water Surface\n",
            "2025-07-03 09:55:40 - ras_commander.HdfMesh - INFO - Using HDF file from h5py.File object: C:\\GH\\ras-commander\\examples\\example_projects\\BaldEagleCrkMulti2D\\BaldEagleDamBrk.p06.hdf\n",
            "2025-07-03 09:55:40 - ras_commander.HdfMesh - INFO - Final validated HDF file path: C:\\GH\\ras-commander\\examples\\example_projects\\BaldEagleCrkMulti2D\\BaldEagleDamBrk.p06.hdf\n",
            "2025-07-03 09:55:40 - ras_commander.HdfMesh - INFO - Using existing Path object HDF file: C:\\GH\\ras-commander\\examples\\example_projects\\BaldEagleCrkMulti2D\\BaldEagleDamBrk.p06.hdf\n",
            "2025-07-03 09:55:40 - ras_commander.HdfMesh - INFO - Final validated HDF file path: C:\\GH\\ras-commander\\examples\\example_projects\\BaldEagleCrkMulti2D\\BaldEagleDamBrk.p06.hdf\n",
            "2025-07-03 09:55:41 - ras_commander.HdfBase - INFO - Using HDF file from h5py.File object: C:\\GH\\ras-commander\\examples\\example_projects\\BaldEagleCrkMulti2D\\BaldEagleDamBrk.p06.hdf\n",
            "2025-07-03 09:55:41 - ras_commander.HdfBase - INFO - Final validated HDF file path: C:\\GH\\ras-commander\\examples\\example_projects\\BaldEagleCrkMulti2D\\BaldEagleDamBrk.p06.hdf\n",
            "2025-07-03 09:55:41 - ras_commander.HdfBase - INFO - Found projection in HDF file: C:\\GH\\ras-commander\\examples\\example_projects\\BaldEagleCrkMulti2D\\BaldEagleDamBrk.p06.hdf\n",
            "2025-07-03 09:55:41 - ras_commander.HdfBase - INFO - Using HDF file from h5py.File object: C:\\GH\\ras-commander\\examples\\example_projects\\BaldEagleCrkMulti2D\\BaldEagleDamBrk.p06.hdf\n",
            "2025-07-03 09:55:41 - ras_commander.HdfBase - INFO - Final validated HDF file path: C:\\GH\\ras-commander\\examples\\example_projects\\BaldEagleCrkMulti2D\\BaldEagleDamBrk.p06.hdf\n",
            "2025-07-03 09:55:41 - ras_commander.HdfBase - INFO - Found projection in HDF file: C:\\GH\\ras-commander\\examples\\example_projects\\BaldEagleCrkMulti2D\\BaldEagleDamBrk.p06.hdf\n",
            "2025-07-03 09:55:41 - ras_commander.HdfResultsMesh - INFO - Processed 19597 rows of summary output data\n",
            "2025-07-03 09:55:41 - ras_commander.HdfFluvialPluvial - INFO - Processing cell adjacencies...\n",
            "2025-07-03 09:55:47 - ras_commander.HdfFluvialPluvial - INFO - Identifying initial boundary seeds with delta_t = 12 hours...\n",
            "2025-07-03 09:55:48 - ras_commander.HdfFluvialPluvial - INFO - Starting iterative region growth with tolerance = 1.0 hours...\n",
            "Region Growing: 37iter [00:01, 33.64iter/s, Fluvial=0, Pluvial=0, Ambiguous=0]      \n",
            "2025-07-03 09:55:49 - ras_commander.HdfFluvialPluvial - INFO - Region growing completed in 37 iterations.\n",
            "2025-07-03 09:55:49 - ras_commander.HdfFluvialPluvial - INFO - Merging classifications with cell polygons...\n",
            "2025-07-03 09:55:49 - ras_commander.HdfFluvialPluvial - INFO - Dissolving polygons by classification...\n",
            "2025-07-03 09:55:50 - ras_commander.HdfFluvialPluvial - INFO - Applying minimum polygon area filter: 200 acres\n",
            "2025-07-03 09:55:50 - ras_commander.HdfFluvialPluvial - INFO - Found 214 small fluvial and 96 small pluvial polygons to reclassify.\n",
            "2025-07-03 09:55:51 - ras_commander.HdfFluvialPluvial - INFO - Redissolved polygons after reclassification of small areas.\n",
            "2025-07-03 09:55:51 - ras_commander.HdfFluvialPluvial - INFO - Polygon generation completed successfully.\n"
          ]
        },
        {
          "data": {
            "text/plain": [
              "<Figure size 1200x800 with 1 Axes>"
            ]
          },
          "metadata": {},
          "output_type": "display_data"
        }
      ],
      "source": [
        "# To get the classified flood zones as polygons:\n",
        "flood_polygons_gdf = HdfFluvialPluvial.generate_fluvial_pluvial_polygons(\n",
        "    plan_hdf_path, \n",
        "    delta_t=12, \n",
        "    temporal_tolerance_hours=1.0,\n",
        "    min_polygon_area_acres=200\n",
        ")\n",
        "\n",
        "flood_polygons_gdf\n",
        "\n",
        "# Plot the classified flood zones as polygons, colored by classification\n",
        "fig, ax = plt.subplots(figsize=(12, 8))\n",
        "flood_polygons_gdf.plot(\n",
        "    ax=ax,\n",
        "    column=\"classification\",\n",
        "    categorical=True,\n",
        "    legend=True,\n",
        "    edgecolor=\"black\",\n",
        "    alpha=0.7\n",
        ")\n",
        "plt.title(\"Fluvial-Pluvial Classified Flood Zones\")\n",
        "plt.xlabel(\"X Coordinate\")\n",
        "plt.ylabel(\"Y Coordinate\")\n",
        "plt.show()\n"
      ]
    },
    {
      "cell_type": "code",
      "execution_count": 40,
      "metadata": {},
      "outputs": [
        {
          "name": "stderr",
          "output_type": "stream",
          "text": [
            "2025-07-03 09:59:58 - ras_commander.HdfFluvialPluvial - INFO - Using HDF file from direct string path: C:\\GH\\ras-commander\\examples\\example_projects\\BaldEagleCrkMulti2D\\BaldEagleDamBrk.p06.hdf\n",
            "2025-07-03 09:59:58 - ras_commander.HdfFluvialPluvial - INFO - Final validated HDF file path: C:\\GH\\ras-commander\\examples\\example_projects\\BaldEagleCrkMulti2D\\BaldEagleDamBrk.p06.hdf\n",
            "2025-07-03 09:59:58 - ras_commander.HdfFluvialPluvial - INFO - Loading mesh and results data...\n",
            "2025-07-03 09:59:58 - ras_commander.HdfMesh - INFO - Using existing Path object HDF file: C:\\GH\\ras-commander\\examples\\example_projects\\BaldEagleCrkMulti2D\\BaldEagleDamBrk.p06.hdf\n",
            "2025-07-03 09:59:58 - ras_commander.HdfMesh - INFO - Final validated HDF file path: C:\\GH\\ras-commander\\examples\\example_projects\\BaldEagleCrkMulti2D\\BaldEagleDamBrk.p06.hdf\n",
            "2025-07-03 09:59:58 - ras_commander.HdfMesh - INFO - Using existing Path object HDF file: C:\\GH\\ras-commander\\examples\\example_projects\\BaldEagleCrkMulti2D\\BaldEagleDamBrk.p06.hdf\n",
            "2025-07-03 09:59:58 - ras_commander.HdfMesh - INFO - Final validated HDF file path: C:\\GH\\ras-commander\\examples\\example_projects\\BaldEagleCrkMulti2D\\BaldEagleDamBrk.p06.hdf\n",
            "2025-07-03 09:59:58 - ras_commander.HdfMesh - INFO - Using existing Path object HDF file: C:\\GH\\ras-commander\\examples\\example_projects\\BaldEagleCrkMulti2D\\BaldEagleDamBrk.p06.hdf\n",
            "2025-07-03 09:59:58 - ras_commander.HdfMesh - INFO - Final validated HDF file path: C:\\GH\\ras-commander\\examples\\example_projects\\BaldEagleCrkMulti2D\\BaldEagleDamBrk.p06.hdf\n",
            "2025-07-03 09:59:58 - ras_commander.HdfMesh - INFO - Using existing Path object HDF file: C:\\GH\\ras-commander\\examples\\example_projects\\BaldEagleCrkMulti2D\\BaldEagleDamBrk.p06.hdf\n",
            "2025-07-03 09:59:58 - ras_commander.HdfMesh - INFO - Final validated HDF file path: C:\\GH\\ras-commander\\examples\\example_projects\\BaldEagleCrkMulti2D\\BaldEagleDamBrk.p06.hdf\n",
            "2025-07-03 10:00:00 - ras_commander.HdfBase - INFO - Using HDF file from h5py.File object: C:\\GH\\ras-commander\\examples\\example_projects\\BaldEagleCrkMulti2D\\BaldEagleDamBrk.p06.hdf\n",
            "2025-07-03 10:00:00 - ras_commander.HdfBase - INFO - Final validated HDF file path: C:\\GH\\ras-commander\\examples\\example_projects\\BaldEagleCrkMulti2D\\BaldEagleDamBrk.p06.hdf\n",
            "2025-07-03 10:00:00 - ras_commander.HdfBase - INFO - Found projection in HDF file: C:\\GH\\ras-commander\\examples\\example_projects\\BaldEagleCrkMulti2D\\BaldEagleDamBrk.p06.hdf\n",
            "2025-07-03 10:00:03 - ras_commander.HdfBase - INFO - Using HDF file from h5py.File object: C:\\GH\\ras-commander\\examples\\example_projects\\BaldEagleCrkMulti2D\\BaldEagleDamBrk.p06.hdf\n",
            "2025-07-03 10:00:03 - ras_commander.HdfBase - INFO - Final validated HDF file path: C:\\GH\\ras-commander\\examples\\example_projects\\BaldEagleCrkMulti2D\\BaldEagleDamBrk.p06.hdf\n",
            "2025-07-03 10:00:03 - ras_commander.HdfBase - INFO - Found projection in HDF file: C:\\GH\\ras-commander\\examples\\example_projects\\BaldEagleCrkMulti2D\\BaldEagleDamBrk.p06.hdf\n",
            "2025-07-03 10:00:03 - ras_commander.HdfResultsMesh - INFO - Using existing Path object HDF file: C:\\GH\\ras-commander\\examples\\example_projects\\BaldEagleCrkMulti2D\\BaldEagleDamBrk.p06.hdf\n",
            "2025-07-03 10:00:03 - ras_commander.HdfResultsMesh - INFO - Final validated HDF file path: C:\\GH\\ras-commander\\examples\\example_projects\\BaldEagleCrkMulti2D\\BaldEagleDamBrk.p06.hdf\n",
            "2025-07-03 10:00:03 - ras_commander.HdfResultsMesh - INFO - Processing summary output for variable: Maximum Water Surface\n",
            "2025-07-03 10:00:03 - ras_commander.HdfMesh - INFO - Using HDF file from h5py.File object: C:\\GH\\ras-commander\\examples\\example_projects\\BaldEagleCrkMulti2D\\BaldEagleDamBrk.p06.hdf\n",
            "2025-07-03 10:00:03 - ras_commander.HdfMesh - INFO - Final validated HDF file path: C:\\GH\\ras-commander\\examples\\example_projects\\BaldEagleCrkMulti2D\\BaldEagleDamBrk.p06.hdf\n",
            "2025-07-03 10:00:03 - ras_commander.HdfMesh - INFO - Using existing Path object HDF file: C:\\GH\\ras-commander\\examples\\example_projects\\BaldEagleCrkMulti2D\\BaldEagleDamBrk.p06.hdf\n",
            "2025-07-03 10:00:03 - ras_commander.HdfMesh - INFO - Final validated HDF file path: C:\\GH\\ras-commander\\examples\\example_projects\\BaldEagleCrkMulti2D\\BaldEagleDamBrk.p06.hdf\n",
            "2025-07-03 10:00:03 - ras_commander.HdfBase - INFO - Using HDF file from h5py.File object: C:\\GH\\ras-commander\\examples\\example_projects\\BaldEagleCrkMulti2D\\BaldEagleDamBrk.p06.hdf\n",
            "2025-07-03 10:00:03 - ras_commander.HdfBase - INFO - Final validated HDF file path: C:\\GH\\ras-commander\\examples\\example_projects\\BaldEagleCrkMulti2D\\BaldEagleDamBrk.p06.hdf\n",
            "2025-07-03 10:00:03 - ras_commander.HdfBase - INFO - Found projection in HDF file: C:\\GH\\ras-commander\\examples\\example_projects\\BaldEagleCrkMulti2D\\BaldEagleDamBrk.p06.hdf\n",
            "2025-07-03 10:00:04 - ras_commander.HdfBase - INFO - Using HDF file from h5py.File object: C:\\GH\\ras-commander\\examples\\example_projects\\BaldEagleCrkMulti2D\\BaldEagleDamBrk.p06.hdf\n",
            "2025-07-03 10:00:04 - ras_commander.HdfBase - INFO - Final validated HDF file path: C:\\GH\\ras-commander\\examples\\example_projects\\BaldEagleCrkMulti2D\\BaldEagleDamBrk.p06.hdf\n",
            "2025-07-03 10:00:04 - ras_commander.HdfBase - INFO - Found projection in HDF file: C:\\GH\\ras-commander\\examples\\example_projects\\BaldEagleCrkMulti2D\\BaldEagleDamBrk.p06.hdf\n",
            "2025-07-03 10:00:04 - ras_commander.HdfResultsMesh - INFO - Processed 19597 rows of summary output data\n",
            "2025-07-03 10:00:04 - ras_commander.HdfFluvialPluvial - INFO - Processing cell adjacencies...\n",
            "2025-07-03 10:00:09 - ras_commander.HdfFluvialPluvial - INFO - Identifying initial boundary seeds with delta_t = 14 hours...\n",
            "2025-07-03 10:00:10 - ras_commander.HdfFluvialPluvial - INFO - Starting iterative region growth with tolerance = 1.0 hours...\n",
            "Region Growing: 42iter [00:01, 39.92iter/s, Fluvial=0, Pluvial=0, Ambiguous=0]      \n",
            "2025-07-03 10:00:11 - ras_commander.HdfFluvialPluvial - INFO - Region growing completed in 42 iterations.\n",
            "2025-07-03 10:00:11 - ras_commander.HdfFluvialPluvial - INFO - Merging classifications with cell polygons...\n",
            "2025-07-03 10:00:11 - ras_commander.HdfFluvialPluvial - INFO - Dissolving polygons by classification...\n",
            "2025-07-03 10:00:12 - ras_commander.HdfFluvialPluvial - INFO - Applying minimum polygon area filter: 1000 acres\n",
            "2025-07-03 10:00:12 - ras_commander.HdfFluvialPluvial - INFO - Found 182 small fluvial and 69 small pluvial polygons to reclassify.\n",
            "2025-07-03 10:00:12 - ras_commander.HdfFluvialPluvial - INFO - Redissolved polygons after reclassification of small areas.\n",
            "2025-07-03 10:00:12 - ras_commander.HdfFluvialPluvial - INFO - Polygon generation completed successfully.\n"
          ]
        },
        {
          "data": {
            "text/plain": [
              "<Figure size 1200x800 with 1 Axes>"
            ]
          },
          "metadata": {},
          "output_type": "display_data"
        }
      ],
      "source": [
        "# To get the classified flood zones as polygons:\n",
        "flood_polygons_gdf = HdfFluvialPluvial.generate_fluvial_pluvial_polygons(\n",
        "    plan_hdf_path, \n",
        "    delta_t=14, \n",
        "    temporal_tolerance_hours=1.0,\n",
        "    min_polygon_area_acres=1000\n",
        ")\n",
        "\n",
        "flood_polygons_gdf\n",
        "\n",
        "# Plot the classified flood zones as polygons, colored by classification\n",
        "fig, ax = plt.subplots(figsize=(12, 8))\n",
        "flood_polygons_gdf.plot(\n",
        "    ax=ax,\n",
        "    column=\"classification\",\n",
        "    categorical=True,\n",
        "    legend=True,\n",
        "    edgecolor=\"black\",\n",
        "    alpha=0.7\n",
        ")\n",
        "plt.title(\"Fluvial-Pluvial Classified Flood Zones\")\n",
        "plt.xlabel(\"X Coordinate\")\n",
        "plt.ylabel(\"Y Coordinate\")\n",
        "plt.show()\n"
      ]
    },
    {
      "cell_type": "code",
      "execution_count": 26,
      "metadata": {},
      "outputs": [
        {
          "name": "stderr",
          "output_type": "stream",
          "text": [
            "2025-07-03 09:48:58 - pyogrio._io - INFO - Created 3 records\n"
          ]
        }
      ],
      "source": [
        "flood_polygons_gdf.to_file(driver='GeoJSON', filename='flood_polygons.geojson')"
      ]
    },
    {
      "cell_type": "code",
      "execution_count": 27,
      "metadata": {},
      "outputs": [
        {
          "name": "stderr",
          "output_type": "stream",
          "text": [
            "2025-07-03 09:48:58 - pyogrio._io - INFO - Created 0 records\n"
          ]
        },
        {
          "name": "stdout",
          "output_type": "stream",
          "text": [
            "Output directory created/verified at: c:\\GH\\ras-commander\\examples\\example_projects\\BaldEagleCrkMulti2D\\fluvial_pluvial_boundary\n"
          ]
        }
      ],
      "source": [
        "# Create fluvial_pluvial_boundary subfolder\n",
        "output_dir = your_project_path / \"fluvial_pluvial_boundary\"\n",
        "output_dir.mkdir(exist_ok=True)\n",
        "print(f\"Output directory created/verified at: {output_dir}\")\n",
        "\n",
        "# Save to GeoJSON in output directory\n",
        "boundary_gdf.to_file(output_dir / 'fluvial_pluvial_boundary.geojson', driver='GeoJSON')"
      ]
    }
  ],
  "metadata": {
    "kernelspec": {
      "display_name": "rascmdr_local_2025-06",
      "language": "python",
      "name": "python3"
    },
    "language_info": {
      "codemirror_mode": {
        "name": "ipython",
        "version": 3
      },
      "file_extension": ".py",
      "mimetype": "text/x-python",
      "name": "python",
      "nbconvert_exporter": "python",
      "pygments_lexer": "ipython3",
      "version": "3.12.11"
    }
  },
  "nbformat": 4,
  "nbformat_minor": 2
}