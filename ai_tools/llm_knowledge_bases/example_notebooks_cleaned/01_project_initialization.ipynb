{
  "cells": [
    {
      "cell_type": "markdown",
      "metadata": {},
      "source": [
        "# RAS Commander Project Initialization\n",
        "\n",
        "This notebook demonstrates how to initialize and work with HEC-RAS projects using the `ras-commander` library. You'll learn how to:\n",
        "\n",
        "1. Set up and configure the RAS Commander environment\n",
        "2. Download and extract example HEC-RAS projects\n",
        "3. Initialize HEC-RAS projects using the global `ras` object\n",
        "4. Initialize multiple HEC-RAS projects using custom RAS objects\n",
        "5. Access various project components (plans, geometries, flows, boundaries)\n",
        "\n",
        "## Key Concepts\n",
        "\n",
        "- **RasPrj Objects**: Represent HEC-RAS projects with access to plans, geometries, flows, etc.\n",
        "- **Global `ras` object**: A singleton instance for simple, single-project scripts\n",
        "- **Custom RAS Objects**: Independent instances for multi-project workflows\n",
        "- **Project Initialization**: Process of connecting to HEC-RAS projects\n",
        "- **Project Components**: Structured access to plans, geometries, and flow files\n",
        "\n",
        "Let's start by importing the necessary libraries."
      ]
    },
    {
      "cell_type": "markdown",
      "metadata": {},
      "source": [
        "## Package Installation and Environment Setup\n",
        "Uncomment and run package installation commands if needed"
      ]
    },
    {
      "cell_type": "code",
      "execution_count": 1,
      "metadata": {},
      "outputs": [
        {
          "name": "stdout",
          "output_type": "stream",
          "text": [
            "Requirement already satisfied: ras-commander in c:\\users\\bill\\anaconda3\\envs\\rascmdr\\lib\\site-packages (0.74.0)\n",
            "Requirement already satisfied: h5py in c:\\users\\bill\\anaconda3\\envs\\rascmdr\\lib\\site-packages (from ras-commander) (3.13.0)\n",
            "Requirement already satisfied: numpy in c:\\users\\bill\\anaconda3\\envs\\rascmdr\\lib\\site-packages (from ras-commander) (2.2.4)\n",
            "Requirement already satisfied: pandas in c:\\users\\bill\\anaconda3\\envs\\rascmdr\\lib\\site-packages (from ras-commander) (2.2.3)\n",
            "Requirement already satisfied: requests in c:\\users\\bill\\anaconda3\\envs\\rascmdr\\lib\\site-packages (from ras-commander) (2.32.3)\n",
            "Requirement already satisfied: tqdm in c:\\users\\bill\\anaconda3\\envs\\rascmdr\\lib\\site-packages (from ras-commander) (4.67.1)\n",
            "Requirement already satisfied: scipy in c:\\users\\bill\\anaconda3\\envs\\rascmdr\\lib\\site-packages (from ras-commander) (1.15.2)\n",
            "Requirement already satisfied: xarray in c:\\users\\bill\\anaconda3\\envs\\rascmdr\\lib\\site-packages (from ras-commander) (2025.1.2)\n",
            "Requirement already satisfied: geopandas in c:\\users\\bill\\anaconda3\\envs\\rascmdr\\lib\\site-packages (from ras-commander) (1.0.1)\n",
            "Requirement already satisfied: matplotlib in c:\\users\\bill\\anaconda3\\envs\\rascmdr\\lib\\site-packages (from ras-commander) (3.10.1)\n",
            "Requirement already satisfied: shapely in c:\\users\\bill\\anaconda3\\envs\\rascmdr\\lib\\site-packages (from ras-commander) (2.0.7)\n",
            "Requirement already satisfied: pathlib in c:\\users\\bill\\anaconda3\\envs\\rascmdr\\lib\\site-packages (from ras-commander) (1.0.1)\n",
            "Requirement already satisfied: rasterstats in c:\\users\\bill\\anaconda3\\envs\\rascmdr\\lib\\site-packages (from ras-commander) (0.20.0)\n",
            "Requirement already satisfied: rtree in c:\\users\\bill\\anaconda3\\envs\\rascmdr\\lib\\site-packages (from ras-commander) (1.4.0)\n",
            "Requirement already satisfied: pyogrio>=0.7.2 in c:\\users\\bill\\anaconda3\\envs\\rascmdr\\lib\\site-packages (from geopandas->ras-commander) (0.10.0)\n",
            "Requirement already satisfied: packaging in c:\\users\\bill\\anaconda3\\envs\\rascmdr\\lib\\site-packages (from geopandas->ras-commander) (24.2)\n",
            "Requirement already satisfied: pyproj>=3.3.0 in c:\\users\\bill\\anaconda3\\envs\\rascmdr\\lib\\site-packages (from geopandas->ras-commander) (3.7.1)\n",
            "Requirement already satisfied: python-dateutil>=2.8.2 in c:\\users\\bill\\anaconda3\\envs\\rascmdr\\lib\\site-packages (from pandas->ras-commander) (2.9.0.post0)\n",
            "Requirement already satisfied: pytz>=2020.1 in c:\\users\\bill\\anaconda3\\envs\\rascmdr\\lib\\site-packages (from pandas->ras-commander) (2025.1)\n",
            "Requirement already satisfied: tzdata>=2022.7 in c:\\users\\bill\\anaconda3\\envs\\rascmdr\\lib\\site-packages (from pandas->ras-commander) (2025.1)\n",
            "Requirement already satisfied: contourpy>=1.0.1 in c:\\users\\bill\\anaconda3\\envs\\rascmdr\\lib\\site-packages (from matplotlib->ras-commander) (1.3.1)\n",
            "Requirement already satisfied: cycler>=0.10 in c:\\users\\bill\\anaconda3\\envs\\rascmdr\\lib\\site-packages (from matplotlib->ras-commander) (0.12.1)\n",
            "Requirement already satisfied: fonttools>=4.22.0 in c:\\users\\bill\\anaconda3\\envs\\rascmdr\\lib\\site-packages (from matplotlib->ras-commander) (4.56.0)\n",
            "Requirement already satisfied: kiwisolver>=1.3.1 in c:\\users\\bill\\anaconda3\\envs\\rascmdr\\lib\\site-packages (from matplotlib->ras-commander) (1.4.8)\n",
            "Requirement already satisfied: pillow>=8 in c:\\users\\bill\\anaconda3\\envs\\rascmdr\\lib\\site-packages (from matplotlib->ras-commander) (11.1.0)\n",
            "Requirement already satisfied: pyparsing>=2.3.1 in c:\\users\\bill\\anaconda3\\envs\\rascmdr\\lib\\site-packages (from matplotlib->ras-commander) (3.2.1)\n",
            "Requirement already satisfied: affine in c:\\users\\bill\\anaconda3\\envs\\rascmdr\\lib\\site-packages (from rasterstats->ras-commander) (2.4.0)\n",
            "Requirement already satisfied: click>7.1 in c:\\users\\bill\\anaconda3\\envs\\rascmdr\\lib\\site-packages (from rasterstats->ras-commander) (8.1.8)\n",
            "Requirement already satisfied: cligj>=0.4 in c:\\users\\bill\\anaconda3\\envs\\rascmdr\\lib\\site-packages (from rasterstats->ras-commander) (0.7.2)\n",
            "Requirement already satisfied: fiona in c:\\users\\bill\\anaconda3\\envs\\rascmdr\\lib\\site-packages (from rasterstats->ras-commander) (1.10.1)\n",
            "Requirement already satisfied: rasterio>=1.0 in c:\\users\\bill\\anaconda3\\envs\\rascmdr\\lib\\site-packages (from rasterstats->ras-commander) (1.4.3)\n",
            "Requirement already satisfied: simplejson in c:\\users\\bill\\anaconda3\\envs\\rascmdr\\lib\\site-packages (from rasterstats->ras-commander) (3.20.1)\n",
            "Requirement already satisfied: charset-normalizer<4,>=2 in c:\\users\\bill\\anaconda3\\envs\\rascmdr\\lib\\site-packages (from requests->ras-commander) (3.4.1)\n",
            "Requirement already satisfied: idna<4,>=2.5 in c:\\users\\bill\\anaconda3\\envs\\rascmdr\\lib\\site-packages (from requests->ras-commander) (3.10)\n",
            "Requirement already satisfied: urllib3<3,>=1.21.1 in c:\\users\\bill\\anaconda3\\envs\\rascmdr\\lib\\site-packages (from requests->ras-commander) (2.3.0)\n",
            "Requirement already satisfied: certifi>=2017.4.17 in c:\\users\\bill\\anaconda3\\envs\\rascmdr\\lib\\site-packages (from requests->ras-commander) (2025.1.31)\n",
            "Requirement already satisfied: colorama in c:\\users\\bill\\anaconda3\\envs\\rascmdr\\lib\\site-packages (from tqdm->ras-commander) (0.4.6)\n",
            "Requirement already satisfied: six>=1.5 in c:\\users\\bill\\anaconda3\\envs\\rascmdr\\lib\\site-packages (from python-dateutil>=2.8.2->pandas->ras-commander) (1.17.0)\n",
            "Requirement already satisfied: attrs in c:\\users\\bill\\anaconda3\\envs\\rascmdr\\lib\\site-packages (from rasterio>=1.0->rasterstats->ras-commander) (25.3.0)\n",
            "Requirement already satisfied: click-plugins in c:\\users\\bill\\anaconda3\\envs\\rascmdr\\lib\\site-packages (from rasterio>=1.0->rasterstats->ras-commander) (1.1.1)\n"
          ]
        }
      ],
      "source": [
        "# 1. Install ras-commander from pip (uncomment to install if needed)\n",
        "!pip install ras-commander\n",
        "# This installs ras-commander and all dependencies"
      ]
    },
    {
      "cell_type": "code",
      "execution_count": 2,
      "metadata": {},
      "outputs": [],
      "source": [
        "# 2. Import all required modules\n",
        "\n",
        "# Import all ras-commander modules\n",
        "from ras_commander import *\n",
        "\n",
        "# Import the required libraries for this notebook\n",
        "import os\n",
        "from pathlib import Path\n",
        "import pandas as pd\n",
        "from IPython import display"
      ]
    },
    {
      "cell_type": "markdown",
      "metadata": {},
      "source": [
        "## RAS Commander: Core Concepts\n",
        "\n",
        "RAS Commander is a Python library that provides tools for automating HEC-RAS tasks. It's built with several key design principles:\n",
        "\n",
        "1. **Project-Centric Architecture**: Everything revolves around HEC-RAS projects\n",
        "2. **Two RAS Object Approaches**:\n",
        "   - **Global `ras` Object**: A singleton for simple scripts\n",
        "   - **Custom RAS Objects**: Multiple ras project instances for complex workflows\n",
        "3. **Comprehensive Project Representation**: Each RAS object includes DataFrames for plans, geometries, flows, and boundaries\n",
        "4. **Logging**: Built-in logging to track operations and debug issues\n",
        "5. **HDF Support**: Specialized functions for HDF file access (plan results, geometry, etc.)\n",
        "\n",
        "Let's explore these concepts in practice."
      ]
    },
    {
      "cell_type": "markdown",
      "metadata": {},
      "source": [
        "## Downloading Example HEC-RAS Projects\n",
        "\n",
        "RAS Commander includes a utility to download and extract example HEC-RAS projects. These are useful for learning and testing:"
      ]
    },
    {
      "cell_type": "code",
      "execution_count": 3,
      "metadata": {},
      "outputs": [
        {
          "name": "stderr",
          "output_type": "stream",
          "text": [
            "2025-04-08 11:33:03 - ras_commander.RasExamples - INFO - Found zip file: d:\\GitHub\\ras-commander\\examples\\Example_Projects_6_6.zip\n",
            "2025-04-08 11:33:03 - ras_commander.RasExamples - INFO - Loading project data from CSV...\n",
            "2025-04-08 11:33:03 - ras_commander.RasExamples - INFO - Loaded 68 projects from CSV.\n",
            "2025-04-08 11:33:03 - ras_commander.RasExamples - INFO - ----- RasExamples Extracting Project -----\n",
            "2025-04-08 11:33:03 - ras_commander.RasExamples - INFO - Extracting project 'Balde Eagle Creek'\n",
            "2025-04-08 11:33:03 - ras_commander.RasExamples - INFO - Project 'Balde Eagle Creek' already exists. Deleting existing folder...\n",
            "2025-04-08 11:33:03 - ras_commander.RasExamples - INFO - Existing folder for project 'Balde Eagle Creek' has been deleted.\n",
            "2025-04-08 11:33:03 - ras_commander.RasExamples - INFO - Successfully extracted project 'Balde Eagle Creek' to d:\\GitHub\\ras-commander\\examples\\example_projects\\Balde Eagle Creek\n",
            "2025-04-08 11:33:03 - ras_commander.RasExamples - INFO - ----- RasExamples Extracting Project -----\n",
            "2025-04-08 11:33:03 - ras_commander.RasExamples - INFO - Extracting project 'BaldEagleCrkMulti2D'\n",
            "2025-04-08 11:33:07 - ras_commander.RasExamples - INFO - Successfully extracted project 'BaldEagleCrkMulti2D' to d:\\GitHub\\ras-commander\\examples\\example_projects\\BaldEagleCrkMulti2D\n",
            "2025-04-08 11:33:07 - ras_commander.RasExamples - INFO - ----- RasExamples Extracting Project -----\n",
            "2025-04-08 11:33:07 - ras_commander.RasExamples - INFO - Extracting project 'Muncie'\n",
            "2025-04-08 11:33:08 - ras_commander.RasExamples - INFO - Successfully extracted project 'Muncie' to d:\\GitHub\\ras-commander\\examples\\example_projects\\Muncie\n"
          ]
        },
        {
          "name": "stdout",
          "output_type": "stream",
          "text": [
            "[WindowsPath('d:/GitHub/ras-commander/examples/example_projects/Balde Eagle Creek'), WindowsPath('d:/GitHub/ras-commander/examples/example_projects/BaldEagleCrkMulti2D'), WindowsPath('d:/GitHub/ras-commander/examples/example_projects/Muncie')]\n"
          ]
        }
      ],
      "source": [
        "# Extract specific projects we'll use in this tutorial\n",
        "# This will download them if not present and extract them to the example_projects folder\n",
        "extracted_paths = RasExamples.extract_project([\"Balde Eagle Creek\", \"BaldEagleCrkMulti2D\", \"Muncie\"])\n",
        "print(extracted_paths)"
      ]
    },
    {
      "cell_type": "markdown",
      "metadata": {},
      "source": [
        "# Get Paths for Extracted Example Projects"
      ]
    },
    {
      "cell_type": "code",
      "execution_count": 4,
      "metadata": {},
      "outputs": [
        {
          "name": "stdout",
          "output_type": "stream",
          "text": [
            "Examples directory: d:\\GitHub\\ras-commander\\examples\\example_projects\n",
            "Path d:\\GitHub\\ras-commander\\examples\\example_projects\\Balde Eagle Creek exists: True\n",
            "Path d:\\GitHub\\ras-commander\\examples\\example_projects\\BaldEagleCrkMulti2D exists: True\n",
            "Path d:\\GitHub\\ras-commander\\examples\\example_projects\\Muncie exists: True\n"
          ]
        }
      ],
      "source": [
        "# Get the parent directory of the first extracted path as our examples directory\n",
        "examples_dir = extracted_paths[0].parent\n",
        "print(f\"Examples directory: {examples_dir}\")\n",
        "\n",
        "\n",
        "# Define paths to the extracted projects\n",
        "bald_eagle_path = examples_dir / \"Balde Eagle Creek\"\n",
        "multi_2d_path = examples_dir / \"BaldEagleCrkMulti2D\"\n",
        "muncie_path = examples_dir / \"Muncie\"\n",
        "\n",
        "# Verify the paths exist\n",
        "for path in [bald_eagle_path, multi_2d_path, muncie_path]:\n",
        "    print(f\"Path {path} exists: {path.exists()}\")"
      ]
    },
    {
      "cell_type": "markdown",
      "metadata": {},
      "source": [
        "## Utility Function to Print RAS Object Data\n",
        "\n",
        "Let's create a utility function to help us explore the contents of RAS objects:"
      ]
    },
    {
      "cell_type": "code",
      "execution_count": 5,
      "metadata": {},
      "outputs": [],
      "source": [
        "def print_ras_object_data(ras_obj, project_name):\n",
        "    \"\"\"Prints comprehensive information about a RAS object\"\"\"\n",
        "    print(f\"\\n{project_name} Data:\")\n",
        "    print(\"=\" * 50)\n",
        "    print(f\"Project Name: {ras_obj.get_project_name()}\")\n",
        "    print(f\"Project Folder: {ras_obj.project_folder}\")\n",
        "    print(f\"PRJ File: {ras_obj.prj_file}\")\n",
        "    print(f\"HEC-RAS Executable Path: {ras_obj.ras_exe_path}\")\n",
        "    \n",
        "    print(\"\\nPlan Files DataFrame (ras.plan_df):\")\n",
        "    with pd.option_context('display.max_columns', None):\n",
        "        display.display(ras_obj.plan_df)\n",
        "    \n",
        "    print(\"\\nFlow Files DataFrame:\")\n",
        "    display.display(ras_obj.flow_df)\n",
        "    \n",
        "    print(\"\\nUnsteady Flow Files DataFrame (ras.unsteady_df):\")\n",
        "    display.display(ras_obj.unsteady_df)\n",
        "    \n",
        "    print(\"\\nGeometry Files DataFrame (ras.geom_df):\")\n",
        "    display.display(ras_obj.geom_df)\n",
        "    \n",
        "    print(\"\\nHDF Entries DataFrame (ras.get_hdf_entries()):\")\n",
        "    display.display(ras_obj.get_hdf_entries())\n",
        "    \n",
        "    print(\"\\nBoundary Conditions DataFrame (ras.boundaries_df):\")\n",
        "    display.display(ras_obj.boundaries_df)"
      ]
    },
    {
      "cell_type": "markdown",
      "metadata": {},
      "source": [
        "## Approach 1: Using the Global `ras` Object\n",
        "\n",
        "The global `ras` object is a singleton instance that persists throughout your script. It's ideal for simple scripts working with a single project.\n",
        "\n",
        "Key characteristics:\n",
        "- It's available as `ras` immediately after import\n",
        "- It's initialized via `init_ras_project()` without saving the return value\n",
        "- It provides access to all project data through the global `ras` variable\n",
        "- It's simple to use but can be problematic in complex scenarios\n",
        "\n",
        "Let's initialize it with the Bald Eagle Creek project:"
      ]
    },
    {
      "cell_type": "code",
      "execution_count": 6,
      "metadata": {},
      "outputs": [
        {
          "name": "stderr",
          "output_type": "stream",
          "text": [
            "2025-04-08 11:33:08 - ras_commander.RasPrj - INFO - Initializing global 'ras' object via init_ras_project function.\n",
            "2025-04-08 11:33:08 - ras_commander.RasMap - INFO - Successfully parsed RASMapper file: d:\\GitHub\\ras-commander\\examples\\example_projects\\Balde Eagle Creek\\BaldEagle.rasmap\n",
            "2025-04-08 11:33:08 - ras_commander.RasPrj - INFO - Project initialized. ras_object project folder: d:\\GitHub\\ras-commander\\examples\\example_projects\\Balde Eagle Creek\n"
          ]
        },
        {
          "name": "stdout",
          "output_type": "stream",
          "text": [
            "The global 'ras' object is now initialized with the BaldEagle project\n"
          ]
        }
      ],
      "source": [
        "# Initialize the global ras object with Bald Eagle Creek project\n",
        "# Note: This updates the global 'ras' object visible throughout the script\n",
        "# Parameters:\n",
        "#   - project_folder: Path to the HEC-RAS project folder (required)\n",
        "#   - ras_version: HEC-RAS version (e.g. \"6.5\") or path to Ras.exe (required first time)\n",
        "\n",
        "init_ras_project(bald_eagle_path, \"6.5\")\n",
        "print(f\"The global 'ras' object is now initialized with the {ras.project_name} project\")"
      ]
    },
    {
      "cell_type": "code",
      "execution_count": 7,
      "metadata": {},
      "outputs": [
        {
          "name": "stdout",
          "output_type": "stream",
          "text": [
            "\n",
            "Global RAS Object (Bald Eagle Creek) Data:\n",
            "==================================================\n",
            "Project Name: BaldEagle\n",
            "Project Folder: d:\\GitHub\\ras-commander\\examples\\example_projects\\Balde Eagle Creek\n",
            "PRJ File: D:\\GitHub\\ras-commander\\examples\\example_projects\\Balde Eagle Creek\\BaldEagle.prj\n",
            "HEC-RAS Executable Path: C:\\Program Files (x86)\\HEC\\HEC-RAS\\6.5\\Ras.exe\n",
            "\n",
            "Plan Files DataFrame (ras.plan_df):\n"
          ]
        },
        {
          "data": {
            "text/html": "<div>\n<style scoped>\\n', '    .dataframe tbody tr th:only-of-type {\\n', '        vertical-align: middle;\\n', '    }\\n', '\\n', '    .dataframe tbody tr th {\\n', '        vertical-align: top;\\n', '    }\\n', '\\n', '    .dataframe thead th {\\n', '        text-align: right;\\n', '    }\\n', '</style>\n<table border=\"1\" class=\"dataframe\">\n  <thead>\\n', '    <tr style=\"text-align: right;\">\\n', '      <th></th>\\n', '      <th>plan_number</th>\\n', '      <th>unsteady_number</th>\\n', '      <th>geometry_number</th>\\n', '      <th>Plan Title</th>\\n', '      <th>Program Version</th>\\n', '      <th>Short Identifier</th>\\n', '      <th>Simulation Date</th>\\n', '      <th>Computation Interval</th>\\n', '      <th>Mapping Interval</th>\\n', '      <th>Run HTab</th>\\n', '      <th>Run UNet</th>\\n', '      <th>Run Sediment</th>\\n', '      <th>Run PostProcess</th>\\n', '      <th>Run WQNet</th>\\n', '      <th>UNET Use Existing IB Tables</th>\\n', '      <th>UNET D1 Cores</th>\\n', '      <th>UNET D2 Cores</th>\\n', '      <th>PS Cores</th>\\n', '      <th>DSS File</th>\\n', '      <th>Friction Slope Method</th>\\n', '      <th>HDF_Results_Path</th>\\n', '      <th>Geom File</th>\\n', '      <th>Geom Path</th>\\n', '      <th>Flow File</th>\\n', '      <th>Flow Path</th>\\n', '      <th>full_path</th>\\n', '    </tr>\\n', '  </thead>\n  <tbody>\n    <tr>\\n', '      <th>0</th>\\n', '      <td>01</td>\\n', '      <td>02</td>\\n', '      <td>01</td>\\n', '      <td>Unsteady with Bridges and Dam</td>\\n', '      <td>5.00</td>\\n', '      <td>UnsteadyFlow</td>\\n', '      <td>18FEB1999,0000,24FEB1999,0500</td>\\n', '      <td>2MIN</td>\\n', '      <td>1HOUR</td>\\n', '      <td>1</td>\\n', '      <td>1</td>\\n', '      <td>0</td>\\n', '      <td>1</td>\\n', '      <td>0</td>\\n', '      <td>-1</td>\\n', '      <td>0.0</td>\\n', '      <td>0.0</td>\\n', '      <td>None</td>\\n', '      <td>dss</td>\\n', '      <td>2</td>\\n', '      <td>None</td>\\n', '      <td>01</td>\\n', '      <td>d:\\\\GitHub\\\\ras-commander\\\\examples\\\\example_proje...</td>\\n', '      <td>02</td>\\n', '      <td>d:\\\\GitHub\\\\ras-commander\\\\examples\\\\example_proje...</td>\\n', '      <td>d:\\\\GitHub\\\\ras-commander\\\\examples\\\\example_proje...</td>\\n', '    </tr><tr>\\n', '      <th>1</th>\\n', '      <td>02</td>\\n', '      <td>None</td>\\n', '      <td>01</td>\\n', '      <td>Steady Flow Run</td>\\n', '      <td>NaN</td>\\n', '      <td>SteadyRun</td>\\n', '      <td>02/18/1999,0000,02/24/1999,0500</td>\\n', '      <td>2MIN</td>\\n', '      <td>NaN</td>\\n', '      <td>1</td>\\n', '      <td>1</td>\\n', '      <td>NaN</td>\\n', '      <td>1</td>\\n', '      <td>NaN</td>\\n', '      <td>NaN</td>\\n', '      <td>NaN</td>\\n', '      <td>NaN</td>\\n', '      <td>None</td>\\n', '      <td>dss</td>\\n', '      <td>1</td>\\n', '      <td>None</td>\\n', '      <td>01</td>\\n', '      <td>d:\\\\GitHub\\\\ras-commander\\\\examples\\\\example_proje...</td>\\n', '      <td>02</td>\\n', '      <td>d:\\\\GitHub\\\\ras-commander\\\\examples\\\\example_proje...</td>\\n', '      <td>d:\\\\GitHub\\\\ras-commander\\\\examples\\\\example_proje...</td>\\n', '    </tr>\n    <tr><td colspan=\"100%\" style=\"text-align:center\">[... additional rows truncated ...]</td></tr>\n  </tbody>\n</table>\n</div>",
            "text/plain": [
              "  plan_number unsteady_number geometry_number                     Plan Title  \\\n",
              "0          01              02              01  Unsteady with Bridges and Dam   \n",
              "1          02            None              01                Steady Flow Run   \n",
              "\n",
              "  Program Version Short Identifier                  Simulation Date  \\\n",
              "0            5.00     UnsteadyFlow    18FEB1999,0000,24FEB1999,0500   \n",
              "1             NaN        SteadyRun  02/18/1999,0000,02/24/1999,0500   \n",
              "\n",
              "  Computation Interval Mapping Interval Run HTab Run UNet Run Sediment  \\\n",
              "0                 2MIN            1HOUR        1        1            0   \n",
              "1                 2MIN              NaN        1        1          NaN   \n",
              "\n",
              "  Run PostProcess Run WQNet UNET Use Existing IB Tables  UNET D1 Cores  \\\n",
              "0               1         0                          -1            0.0   \n",
              "1               1       NaN                         NaN            NaN   \n",
              "\n",
              "   UNET D2 Cores PS Cores DSS File Friction Slope Method HDF_Results_Path  \\\n",
              "0            0.0     None      dss                     2             None   \n",
              "1            NaN     None      dss                     1             None   \n",
              "\n",
              "  Geom File                                          Geom Path Flow File  \\\n",
              "0        01  d:\\GitHub\\ras-commander\\examples\\example_proje...        02   \n",
              "1        01  d:\\GitHub\\ras-commander\\examples\\example_proje...        02   \n",
              "\n",
              "                                           Flow Path  \\\n",
              "0  d:\\GitHub\\ras-commander\\examples\\example_proje...   \n",
              "1  d:\\GitHub\\ras-commander\\examples\\example_proje...   \n",
              "\n",
              "                                           full_path  \n",
              "0  d:\\GitHub\\ras-commander\\examples\\example_proje...  \n",
              "1  d:\\GitHub\\ras-commander\\examples\\example_proje...  "
            ]
          },
          "metadata": {},
          "output_type": "display_data"
        },
        {
          "name": "stdout",
          "output_type": "stream",
          "text": [
            "\n",
            "Flow Files DataFrame:\n"
          ]
        },
        {
          "data": {
            "text/html": "<div>\n<style scoped>\\n', '    .dataframe tbody tr th:only-of-type {\\n', '        vertical-align: middle;\\n', '    }\\n', '\\n', '    .dataframe tbody tr th {\\n', '        vertical-align: top;\\n', '    }\\n', '\\n', '    .dataframe thead th {\\n', '        text-align: right;\\n', '    }\\n', '</style>\n<table border=\"1\" class=\"dataframe\">\n  <thead>\\n', '    <tr style=\"text-align: right;\">\\n', '      <th></th>\\n', '      <th>flow_number</th>\\n', '      <th>full_path</th>\\n', '      <th>unsteady_number</th>\\n', '      <th>geometry_number</th>\\n', '    </tr>\\n', '  </thead>\n  <tbody>\n    <tr>\\n', '      <th>0</th>\\n', '      <td>02</td>\\n', '      <td>d:\\\\GitHub\\\\ras-commander\\\\examples\\\\example_proje...</td>\\n', '      <td>None</td>\\n', '      <td>None</td>\\n', '    </tr><tr>\\n', '      <th>1</th>\\n', '      <td>01</td>\\n', '      <td>d:\\\\GitHub\\\\ras-commander\\\\examples\\\\example_proje...</td>\\n', '      <td>None</td>\\n', '      <td>None</td>\\n', '    </tr>\n    <tr><td colspan=\"100%\" style=\"text-align:center\">[... additional rows truncated ...]</td></tr>\n  </tbody>\n</table>\n</div>",
            "text/plain": [
              "  flow_number                                          full_path  \\\n",
              "0          02  d:\\GitHub\\ras-commander\\examples\\example_proje...   \n",
              "1          01  d:\\GitHub\\ras-commander\\examples\\example_proje...   \n",
              "\n",
              "  unsteady_number geometry_number  \n",
              "0            None            None  \n",
              "1            None            None  "
            ]
          },
          "metadata": {},
          "output_type": "display_data"
        },
        {
          "name": "stdout",
          "output_type": "stream",
          "text": [
            "\n",
            "Unsteady Flow Files DataFrame (ras.unsteady_df):\n"
          ]
        },
        {
          "data": {
            "text/html": "<div>\n<style scoped>\\n', '    .dataframe tbody tr th:only-of-type {\\n', '        vertical-align: middle;\\n', '    }\\n', '\\n', '    .dataframe tbody tr th {\\n', '        vertical-align: top;\\n', '    }\\n', '\\n', '    .dataframe thead th {\\n', '        text-align: right;\\n', '    }\\n', '</style>\n<table border=\"1\" class=\"dataframe\">\n  <thead>\\n', '    <tr style=\"text-align: right;\">\\n', '      <th></th>\\n', '      <th>unsteady_number</th>\\n', '      <th>full_path</th>\\n', '      <th>geometry_number</th>\\n', '      <th>Flow Title</th>\\n', '      <th>Program Version</th>\\n', '      <th>Use Restart</th>\\n', '      <th>Precipitation Mode</th>\\n', '      <th>Wind Mode</th>\\n', '      <th>Met BC=Precipitation|Mode</th>\\n', '      <th>Met BC=Evapotranspiration|Mode</th>\\n', '      <th>Met BC=Precipitation|Expanded View</th>\\n', '      <th>Met BC=Precipitation|Constant Units</th>\\n', '      <th>Met BC=Precipitation|Gridded Source</th>\\n', '    </tr>\\n', '  </thead>\n  <tbody>\n    <tr>\\n', '      <th>0</th>\\n', '      <td>02</td>\\n', '      <td>d:\\\\GitHub\\\\ras-commander\\\\examples\\\\example_proje...</td>\\n', '      <td>None</td>\\n', '      <td>Flow Hydrograph 2</td>\\n', '      <td>6.30</td>\\n', '      <td>0</td>\\n', '      <td>Disable</td>\\n', '      <td>No Wind Forces</td>\\n', '      <td>None</td>\\n', '      <td>None</td>\\n', '      <td>0</td>\\n', '      <td>mm/hr</td>\\n', '      <td>DSS</td>\\n', '    </tr>\n    <tr><td colspan=\"100%\" style=\"text-align:center\">[... additional rows truncated ...]</td></tr>\n  </tbody>\n</table>\n</div>",
            "text/plain": [
              "  unsteady_number                                          full_path  \\\n",
              "0              02  d:\\GitHub\\ras-commander\\examples\\example_proje...   \n",
              "\n",
              "  geometry_number         Flow Title Program Version Use Restart  \\\n",
              "0            None  Flow Hydrograph 2            6.30           0   \n",
              "\n",
              "  Precipitation Mode       Wind Mode Met BC=Precipitation|Mode  \\\n",
              "0            Disable  No Wind Forces                      None   \n",
              "\n",
              "  Met BC=Evapotranspiration|Mode Met BC=Precipitation|Expanded View  \\\n",
              "0                           None                                  0   \n",
              "\n",
              "  Met BC=Precipitation|Constant Units Met BC=Precipitation|Gridded Source  \n",
              "0                               mm/hr                                 DSS  "
            ]
          },
          "metadata": {},
          "output_type": "display_data"
        },
        {
          "name": "stdout",
          "output_type": "stream",
          "text": [
            "\n",
            "Geometry Files DataFrame (ras.geom_df):\n"
          ]
        },
        {
          "data": {
            "text/html": "<div>\n<style scoped>\\n', '    .dataframe tbody tr th:only-of-type {\\n', '        vertical-align: middle;\\n', '    }\\n', '\\n', '    .dataframe tbody tr th {\\n', '        vertical-align: top;\\n', '    }\\n', '\\n', '    .dataframe thead th {\\n', '        text-align: right;\\n', '    }\\n', '</style>\n<table border=\"1\" class=\"dataframe\">\n  <thead>\\n', '    <tr style=\"text-align: right;\">\\n', '      <th></th>\\n', '      <th>geom_file</th>\\n', '      <th>geom_number</th>\\n', '      <th>full_path</th>\\n', '      <th>hdf_path</th>\\n', '    </tr>\\n', '  </thead>\n  <tbody>\n    <tr>\\n', '      <th>0</th>\\n', '      <td>g01</td>\\n', '      <td>01</td>\\n', '      <td>d:\\\\GitHub\\\\ras-commander\\\\examples\\\\example_proje...</td>\\n', '      <td>d:\\\\GitHub\\\\ras-commander\\\\examples\\\\example_proje...</td>\\n', '    </tr>\n    <tr><td colspan=\"100%\" style=\"text-align:center\">[... additional rows truncated ...]</td></tr>\n  </tbody>\n</table>\n</div>",
            "text/plain": [
              "  geom_file geom_number                                          full_path  \\\n",
              "0       g01          01  d:\\GitHub\\ras-commander\\examples\\example_proje...   \n",
              "\n",
              "                                            hdf_path  \n",
              "0  d:\\GitHub\\ras-commander\\examples\\example_proje...  "
            ]
          },
          "metadata": {},
          "output_type": "display_data"
        },
        {
          "name": "stdout",
          "output_type": "stream",
          "text": [
            "\n",
            "HDF Entries DataFrame (ras.get_hdf_entries()):\n"
          ]
        },
        {
          "data": {
            "text/html": "<div>\n<style scoped>\\n', '    .dataframe tbody tr th:only-of-type {\\n', '        vertical-align: middle;\\n', '    }\\n', '\\n', '    .dataframe tbody tr th {\\n', '        vertical-align: top;\\n', '    }\\n', '\\n', '    .dataframe thead th {\\n', '        text-align: right;\\n', '    }\\n', '</style>\n<table border=\"1\" class=\"dataframe\">\n  <thead>\\n', '    <tr style=\"text-align: right;\">\\n', '      <th></th>\\n', '      <th>plan_number</th>\\n', '      <th>unsteady_number</th>\\n', '      <th>geometry_number</th>\\n', '      <th>Plan Title</th>\\n', '      <th>Program Version</th>\\n', '      <th>Short Identifier</th>\\n', '      <th>Simulation Date</th>\\n', '      <th>Computation Interval</th>\\n', '      <th>Mapping Interval</th>\\n', '      <th>Run HTab</th>\\n', '      <th>...</th>\\n', '      <th>UNET D2 Cores</th>\\n', '      <th>PS Cores</th>\\n', '      <th>DSS File</th>\\n', '      <th>Friction Slope Method</th>\\n', '      <th>HDF_Results_Path</th>\\n', '      <th>Geom File</th>\\n', '      <th>Geom Path</th>\\n', '      <th>Flow File</th>\\n', '      <th>Flow Path</th>\\n', '      <th>full_path</th>\\n', '    </tr>\\n', '  </thead>\n  <tbody>\n    \n    <tr><td colspan=\"100%\" style=\"text-align:center\">[... additional rows truncated ...]</td></tr>\n  </tbody>\n</table>\n</div>",
            "text/plain": [
              "Empty DataFrame\n",
              "Columns: [plan_number, unsteady_number, geometry_number, Plan Title, Program Version, Short Identifier, Simulation Date, Computation Interval, Mapping Interval, Run HTab, Run UNet, Run Sediment, Run PostProcess, Run WQNet, UNET Use Existing IB Tables, UNET D1 Cores, UNET D2 Cores, PS Cores, DSS File, Friction Slope Method, HDF_Results_Path, Geom File, Geom Path, Flow File, Flow Path, full_path]\n",
              "Index: []\n",
              "\n",
              "[0 rows x 26 columns]"
            ]
          },
          "metadata": {},
          "output_type": "display_data"
        },
        {
          "name": "stdout",
          "output_type": "stream",
          "text": [
            "\n",
            "Boundary Conditions DataFrame (ras.boundaries_df):\n"
          ]
        },
        {
          "data": {
            "text/html": "<div>\n<style scoped>\\n', '    .dataframe tbody tr th:only-of-type {\\n', '        vertical-align: middle;\\n', '    }\\n', '\\n', '    .dataframe tbody tr th {\\n', '        vertical-align: top;\\n', '    }\\n', '\\n', '    .dataframe thead th {\\n', '        text-align: right;\\n', '    }\\n', '</style>\n<table border=\"1\" class=\"dataframe\">\n  <thead>\\n', '    <tr style=\"text-align: right;\">\\n', '      <th></th>\\n', '      <th>unsteady_number</th>\\n', '      <th>boundary_condition_number</th>\\n', '      <th>river_reach_name</th>\\n', '      <th>river_station</th>\\n', '      <th>storage_area_name</th>\\n', '      <th>pump_station_name</th>\\n', '      <th>bc_type</th>\\n', '      <th>hydrograph_type</th>\\n', '      <th>Interval</th>\\n', '      <th>DSS Path</th>\\n', '      <th>...</th>\\n', '      <th>Flow Title</th>\\n', '      <th>Program Version</th>\\n', '      <th>Use Restart</th>\\n', '      <th>Precipitation Mode</th>\\n', '      <th>Wind Mode</th>\\n', '      <th>Met BC=Precipitation|Mode</th>\\n', '      <th>Met BC=Evapotranspiration|Mode</th>\\n', '      <th>Met BC=Precipitation|Expanded View</th>\\n', '      <th>Met BC=Precipitation|Constant Units</th>\\n', '      <th>Met BC=Precipitation|Gridded Source</th>\\n', '    </tr>\\n', '  </thead>\n  <tbody>\n    <tr>\\n', '      <th>0</th>\\n', '      <td>02</td>\\n', '      <td>1</td>\\n', '      <td>Bald Eagle</td>\\n', '      <td>Loc Hav</td>\\n', '      <td>138154.4</td>\\n', '      <td></td>\\n', '      <td>Flow Hydrograph</td>\\n', '      <td>Flow Hydrograph</td>\\n', '      <td>1HOUR</td>\\n', '      <td></td>\\n', '      <td>...</td>\\n', '      <td>Flow Hydrograph 2</td>\\n', '      <td>6.30</td>\\n', '      <td>0</td>\\n', '      <td>Disable</td>\\n', '      <td>No Wind Forces</td>\\n', '      <td>None</td>\\n', '      <td>None</td>\\n', '      <td>0</td>\\n', '      <td>mm/hr</td>\\n', '      <td>DSS</td>\\n', '    </tr><tr>\\n', '      <th>1</th>\\n', '      <td>02</td>\\n', '      <td>2</td>\\n', '      <td>Bald Eagle</td>\\n', '      <td>Loc Hav</td>\\n', '      <td>81500</td>\\n', '      <td></td>\\n', '      <td>Gate Opening</td>\\n', '      <td>None</td>\\n', '      <td>NaN</td>\\n', '      <td>NaN</td>\\n', '      <td>...</td>\\n', '      <td>Flow Hydrograph 2</td>\\n', '      <td>6.30</td>\\n', '      <td>0</td>\\n', '      <td>Disable</td>\\n', '      <td>No Wind Forces</td>\\n', '      <td>None</td>\\n', '      <td>None</td>\\n', '      <td>0</td>\\n', '      <td>mm/hr</td>\\n', '      <td>DSS</td>\\n', '    </tr><tr>\\n', '      <th>2</th>\\n', '      <td>02</td>\\n', '      <td>3</td>\\n', '      <td>Bald Eagle</td>\\n', '      <td>Loc Hav</td>\\n', '      <td>659.942</td>\\n', '      <td></td>\\n', '      <td>Unknown</td>\\n', '      <td>None</td>\\n', '      <td>NaN</td>\\n', '      <td></td>\\n', '      <td>...</td>\\n', '      <td>Flow Hydrograph 2</td>\\n', '      <td>6.30</td>\\n', '      <td>0</td>\\n', '      <td>Disable</td>\\n', '      <td>No Wind Forces</td>\\n', '      <td>None</td>\\n', '      <td>None</td>\\n', '      <td>0</td>\\n', '      <td>mm/hr</td>\\n', '      <td>DSS</td>\\n', '    </tr>\n    <tr><td colspan=\"100%\" style=\"text-align:center\">[... additional rows truncated ...]</td></tr>\n  </tbody>\n</table>\n</div>",
            "text/plain": [
              "  unsteady_number  boundary_condition_number river_reach_name river_station  \\\n",
              "0              02                          1       Bald Eagle       Loc Hav   \n",
              "1              02                          2       Bald Eagle       Loc Hav   \n",
              "2              02                          3       Bald Eagle       Loc Hav   \n",
              "\n",
              "  storage_area_name pump_station_name          bc_type  hydrograph_type  \\\n",
              "0          138154.4                    Flow Hydrograph  Flow Hydrograph   \n",
              "1             81500                       Gate Opening             None   \n",
              "2           659.942                            Unknown             None   \n",
              "\n",
              "  Interval DSS Path  ...         Flow Title Program Version Use Restart  \\\n",
              "0    1HOUR           ...  Flow Hydrograph 2            6.30           0   \n",
              "1      NaN      NaN  ...  Flow Hydrograph 2            6.30           0   \n",
              "2      NaN           ...  Flow Hydrograph 2            6.30           0   \n",
              "\n",
              "  Precipitation Mode       Wind Mode  Met BC=Precipitation|Mode  \\\n",
              "0            Disable  No Wind Forces                       None   \n",
              "1            Disable  No Wind Forces                       None   \n",
              "2            Disable  No Wind Forces                       None   \n",
              "\n",
              "  Met BC=Evapotranspiration|Mode Met BC=Precipitation|Expanded View  \\\n",
              "0                           None                                  0   \n",
              "1                           None                                  0   \n",
              "2                           None                                  0   \n",
              "\n",
              "  Met BC=Precipitation|Constant Units Met BC=Precipitation|Gridded Source  \n",
              "0                               mm/hr                                 DSS  \n",
              "1                               mm/hr                                 DSS  \n",
              "2                               mm/hr                                 DSS  \n",
              "\n",
              "[3 rows x 29 columns]"
            ]
          },
          "metadata": {},
          "output_type": "display_data"
        }
      ],
      "source": [
        "# Explore the global ras object with our utility function\n",
        "print_ras_object_data(ras, \"Global RAS Object (Bald Eagle Creek)\")"
      ]
    },
    {
      "cell_type": "markdown",
      "metadata": {},
      "source": [
        "### Understanding the RAS Object Structure\n",
        "\n",
        "Each RAS object contains several important components:\n",
        "\n",
        "1. **Project Metadata**:\n",
        "   - `project_name`: Name of the HEC-RAS project\n",
        "   - `project_folder`: Directory containing project files\n",
        "   - `prj_file`: Path to the main .prj file\n",
        "   - `ras_exe_path`: Path to the HEC-RAS executable\n",
        "\n",
        "2. **Project DataFrames**:\n",
        "   - `plan_df`: Information about all plan files (.p*)\n",
        "   - `flow_df`: Information about all steady flow files (.f*)\n",
        "   - `unsteady_df`: Information about all unsteady flow files (.u*)\n",
        "   - `geom_df`: Information about all geometry files (.g*)\n",
        "   - `boundaries_df`: Information about all boundary conditions\n",
        "\n",
        "3. **Methods for Data Access**:\n",
        "   - `get_plan_entries()`: Get plan file information\n",
        "   - `get_flow_entries()`: Get flow file information\n",
        "   - `get_unsteady_entries()`: Get unsteady flow file information \n",
        "   - `get_geom_entries()`: Get geometry file information\n",
        "   - `get_hdf_entries()`: Get HDF file paths for result files\n",
        "   - `get_boundary_conditions()`: Get boundary condition details\n",
        "\n",
        "Let's see how to access specific information from these components:"
      ]
    },
    {
      "cell_type": "code",
      "execution_count": 8,
      "metadata": {},
      "outputs": [
        {
          "name": "stdout",
          "output_type": "stream",
          "text": [
            "First plan number: 01\n",
            "Plan path: d:\\GitHub\\ras-commander\\examples\\example_projects\\Balde Eagle Creek\\BaldEagle.p01\n",
            "Geometry file: d:\\GitHub\\ras-commander\\examples\\example_projects\\Balde Eagle Creek\\BaldEagle.g01\n"
          ]
        }
      ],
      "source": [
        "# Get the first plan's details\n",
        "if not ras.plan_df.empty:\n",
        "    first_plan = ras.plan_df.iloc[0]\n",
        "    print(f\"First plan number: {first_plan['plan_number']}\")\n",
        "    print(f\"Plan path: {first_plan['full_path']}\")\n",
        "    \n",
        "    # Get the geometry file for this plan\n",
        "    geom_id = first_plan.get('Geom File', '').replace('g', '')\n",
        "    if geom_id:\n",
        "        geom_info = ras.geom_df[ras.geom_df['geom_number'] == geom_id]\n",
        "        if not geom_info.empty:\n",
        "            print(f\"Geometry file: {geom_info.iloc[0]['full_path']}\")\n",
        "    \n",
        "    # Get the HDF results file for this plan (if exists)\n",
        "    if 'HDF_Results_Path' in first_plan and first_plan['HDF_Results_Path']:\n",
        "        print(f\"Results file: {first_plan['HDF_Results_Path']}\")\n",
        "else:\n",
        "    print(\"No plans found in the project.\")"
      ]
    },
    {
      "cell_type": "markdown",
      "metadata": {},
      "source": [
        "### Working with Boundary Conditions\n",
        "\n",
        "Boundary conditions define the inputs and outputs of your model. Let's see how to access boundary condition information:"
      ]
    },
    {
      "cell_type": "code",
      "execution_count": 9,
      "metadata": {},
      "outputs": [
        {
          "data": {
            "text/html": "<div>\n<style scoped>\\n', '    .dataframe tbody tr th:only-of-type {\\n', '        vertical-align: middle;\\n', '    }\\n', '\\n', '    .dataframe tbody tr th {\\n', '        vertical-align: top;\\n', '    }\\n', '\\n', '    .dataframe thead th {\\n', '        text-align: right;\\n', '    }\\n', '</style>\n<table border=\"1\" class=\"dataframe\">\n  <thead>\\n', '    <tr style=\"text-align: right;\">\\n', '      <th></th>\\n', '      <th>unsteady_number</th>\\n', '      <th>boundary_condition_number</th>\\n', '      <th>river_reach_name</th>\\n', '      <th>river_station</th>\\n', '      <th>storage_area_name</th>\\n', '      <th>pump_station_name</th>\\n', '      <th>bc_type</th>\\n', '      <th>hydrograph_type</th>\\n', '      <th>Interval</th>\\n', '      <th>DSS Path</th>\\n', '      <th>...</th>\\n', '      <th>Flow Title</th>\\n', '      <th>Program Version</th>\\n', '      <th>Use Restart</th>\\n', '      <th>Precipitation Mode</th>\\n', '      <th>Wind Mode</th>\\n', '      <th>Met BC=Precipitation|Mode</th>\\n', '      <th>Met BC=Evapotranspiration|Mode</th>\\n', '      <th>Met BC=Precipitation|Expanded View</th>\\n', '      <th>Met BC=Precipitation|Constant Units</th>\\n', '      <th>Met BC=Precipitation|Gridded Source</th>\\n', '    </tr>\\n', '  </thead>\n  <tbody>\n    <tr>\\n', '      <th>0</th>\\n', '      <td>02</td>\\n', '      <td>1</td>\\n', '      <td>Bald Eagle</td>\\n', '      <td>Loc Hav</td>\\n', '      <td>138154.4</td>\\n', '      <td></td>\\n', '      <td>Flow Hydrograph</td>\\n', '      <td>Flow Hydrograph</td>\\n', '      <td>1HOUR</td>\\n', '      <td></td>\\n', '      <td>...</td>\\n', '      <td>Flow Hydrograph 2</td>\\n', '      <td>6.30</td>\\n', '      <td>0</td>\\n', '      <td>Disable</td>\\n', '      <td>No Wind Forces</td>\\n', '      <td>None</td>\\n', '      <td>None</td>\\n', '      <td>0</td>\\n', '      <td>mm/hr</td>\\n', '      <td>DSS</td>\\n', '    </tr><tr>\\n', '      <th>1</th>\\n', '      <td>02</td>\\n', '      <td>2</td>\\n', '      <td>Bald Eagle</td>\\n', '      <td>Loc Hav</td>\\n', '      <td>81500</td>\\n', '      <td></td>\\n', '      <td>Gate Opening</td>\\n', '      <td>None</td>\\n', '      <td>NaN</td>\\n', '      <td>NaN</td>\\n', '      <td>...</td>\\n', '      <td>Flow Hydrograph 2</td>\\n', '      <td>6.30</td>\\n', '      <td>0</td>\\n', '      <td>Disable</td>\\n', '      <td>No Wind Forces</td>\\n', '      <td>None</td>\\n', '      <td>None</td>\\n', '      <td>0</td>\\n', '      <td>mm/hr</td>\\n', '      <td>DSS</td>\\n', '    </tr><tr>\\n', '      <th>2</th>\\n', '      <td>02</td>\\n', '      <td>3</td>\\n', '      <td>Bald Eagle</td>\\n', '      <td>Loc Hav</td>\\n', '      <td>659.942</td>\\n', '      <td></td>\\n', '      <td>Unknown</td>\\n', '      <td>None</td>\\n', '      <td>NaN</td>\\n', '      <td></td>\\n', '      <td>...</td>\\n', '      <td>Flow Hydrograph 2</td>\\n', '      <td>6.30</td>\\n', '      <td>0</td>\\n', '      <td>Disable</td>\\n', '      <td>No Wind Forces</td>\\n', '      <td>None</td>\\n', '      <td>None</td>\\n', '      <td>0</td>\\n', '      <td>mm/hr</td>\\n', '      <td>DSS</td>\\n', '    </tr>\n    <tr><td colspan=\"100%\" style=\"text-align:center\">[... additional rows truncated ...]</td></tr>\n  </tbody>\n</table>\n</div>",
            "text/plain": "['  unsteady_number  boundary_condition_number river_reach_name river_station  \\\\\\n', '0              02                          1       Bald Eagle       Loc Hav   \\n', '1              02                          2       Bald Eagle       Loc Hav   \\n', '2              02                          3       Bald Eagle       Loc Hav   \\n', '\\n', '  storage_area_name pump_station_name          bc_type  hydrograph_type  \\\\\\n', '0          138154.4                    Flow Hydrograph  Flow Hydrograph   \\n', '1             81500                       Gate Opening             None   \\n', '2           659.942                            Unknown             None   \\n', '\\n', '  Interval DSS Path  ...         Flow Title Program Version Use Restart  \\\\\\n', '0    1HOUR           ...  Flow Hydrograph 2            6.30           0   \\n', '1      NaN      NaN  ...  Flow Hydrograph 2            6.30           0   \\n', '2      NaN           ...  Flow Hydrograph 2            6.30           0   \\n', '\\n', '  Precipitation Mode       Wind Mode  Met BC=Precipitation|Mode  \\\\\\n', '0            Disable  No Wind Forces                       None   \\n', '1            Disable  No Wind Forces                       None   \\n', '2            Disable  No Wind Forces                       None   \\n', '\\n', '  Met BC=Evapotranspiration|Mode Met BC=Precipitation|Expanded View  \\\\\\n', '0                           None                                  0   \\n', '1                           None                                  0   \\n', '2                           None                                  0   \\n', '\\n', '  Met BC=Precipitation|Constant Units Met BC=Precipitation|Gridded Source  \\n', '0                               mm/hr                                 DSS  \\n', '1                               mm/hr                                 DSS  \\n', '2                               mm/hr                                 DSS  \\n', '\\n', '[3 rows x 29 columns]']"
          },
          "execution_count": 9,
          "metadata": {},
          "output_type": "execute_result"
        }
      ],
      "source": [
        "# View the boundary conditions DataFrame\n",
        "ras.boundaries_df "
      ]
    },
    {
      "cell_type": "markdown",
      "metadata": {},
      "source": [
        "## Approach 2: Using Custom RAS Objects\n",
        "\n",
        "For more complex scripts or when working with multiple projects, it's better to create and use separate RAS objects. This approach:\n",
        "\n",
        "- Creates independent RAS objects for each project\n",
        "- Avoids overwriting the global `ras` object\n",
        "- Provides clearer separation between projects\n",
        "- Allows working with multiple projects simultaneously\n",
        "- Requires saving the return value from `init_ras_project()`\n",
        "\n",
        "Let's initialize multiple projects with custom RAS objects:"
      ]
    },
    {
      "cell_type": "code",
      "execution_count": 10,
      "metadata": {},
      "outputs": [
        {
          "name": "stderr",
          "output_type": "stream",
          "text": [
            "2025-04-08 11:33:08 - ras_commander.RasMap - INFO - Successfully parsed RASMapper file: d:\\GitHub\\ras-commander\\examples\\example_projects\\BaldEagleCrkMulti2D\\BaldEagleDamBrk.rasmap\n",
            "2025-04-08 11:33:08 - ras_commander.RasMap - INFO - Successfully parsed RASMapper file: d:\\GitHub\\ras-commander\\examples\\example_projects\\BaldEagleCrkMulti2D\\BaldEagleDamBrk.rasmap\n",
            "2025-04-08 11:33:08 - ras_commander.RasPrj - INFO - Global 'ras' object also updated to match the new project.\n",
            "2025-04-08 11:33:08 - ras_commander.RasPrj - INFO - Project initialized. ras_object project folder: d:\\GitHub\\ras-commander\\examples\\example_projects\\BaldEagleCrkMulti2D\n",
            "2025-04-08 11:33:09 - ras_commander.RasMap - INFO - Successfully parsed RASMapper file: d:\\GitHub\\ras-commander\\examples\\example_projects\\Muncie\\Muncie.rasmap\n",
            "2025-04-08 11:33:09 - ras_commander.RasMap - INFO - Successfully parsed RASMapper file: d:\\GitHub\\ras-commander\\examples\\example_projects\\Muncie\\Muncie.rasmap\n",
            "2025-04-08 11:33:09 - ras_commander.RasPrj - INFO - Global 'ras' object also updated to match the new project.\n",
            "2025-04-08 11:33:09 - ras_commander.RasPrj - INFO - Project initialized. ras_object project folder: d:\\GitHub\\ras-commander\\examples\\example_projects\\Muncie\n"
          ]
        },
        {
          "name": "stdout",
          "output_type": "stream",
          "text": [
            "\n",
            "Multi2D project initialized with its own RAS object\n",
            "\n",
            "Muncie project initialized with its own RAS object\n",
            "\n",
            "Global 'ras' object now points to: Muncie since it was the last one initialized.  Avoid the global object when using multiple projects.\n"
          ]
        }
      ],
      "source": [
        "# Initialize multiple project instances with custom RAS objects\n",
        "# Note: This also updates the global 'ras' object each time, but we'll use the custom instances\n",
        "# Parameters remain the same as before\n",
        "multi_2d_project = RasPrj()\n",
        "init_ras_project(multi_2d_path, \"6.5\", ras_object=multi_2d_project)\n",
        "print(f\"\\nMulti2D project initialized with its own RAS object\")\n",
        "\n",
        "muncie_project = RasPrj()\n",
        "init_ras_project(muncie_path, \"6.5\", ras_object=muncie_project)\n",
        "print(f\"\\nMuncie project initialized with its own RAS object\")\n",
        "\n",
        "# Note that the global 'ras' object now points to the Muncie project\n",
        "# The global 'ras' object gets overwritten every time a project is initialized ,\n",
        "print(f\"\\nGlobal 'ras' object now points to: {ras.project_name} since it was the last one initialized.  Avoid the global object when using multiple projects.\")"
      ]
    },
    {
      "cell_type": "markdown",
      "metadata": {},
      "source": [
        "### Exploring Multiple Projects\n",
        "\n",
        "Now we have three RAS objects:\n",
        "- `multi_2d_project`: Our custom object for the Multi2D project\n",
        "- `muncie_project`: Our custom object for the Muncie project\n",
        "- `ras`: The global object (which now points to Muncie)\n",
        "\n",
        "Let's examine the Multi2D project:"
      ]
    },
    {
      "cell_type": "code",
      "execution_count": 11,
      "metadata": {},
      "outputs": [
        {
          "data": {
            "text/html": "<div>\n<style scoped>\\n', '    .dataframe tbody tr th:only-of-type {\\n', '        vertical-align: middle;\\n', '    }\\n', '\\n', '    .dataframe tbody tr th {\\n', '        vertical-align: top;\\n', '    }\\n', '\\n', '    .dataframe thead th {\\n', '        text-align: right;\\n', '    }\\n', '</style>\n<table border=\"1\" class=\"dataframe\">\n  <thead>\\n', '    <tr style=\"text-align: right;\">\\n', '      <th></th>\\n', '      <th>plan_number</th>\\n', '      <th>unsteady_number</th>\\n', '      <th>geometry_number</th>\\n', '      <th>Plan Title</th>\\n', '      <th>Program Version</th>\\n', '      <th>Short Identifier</th>\\n', '      <th>Simulation Date</th>\\n', '      <th>Computation Interval</th>\\n', '      <th>Mapping Interval</th>\\n', '      <th>Run HTab</th>\\n', '      <th>...</th>\\n', '      <th>DSS File</th>\\n', '      <th>Friction Slope Method</th>\\n', '      <th>UNET D2 SolverType</th>\\n', '      <th>UNET D2 Name</th>\\n', '      <th>HDF_Results_Path</th>\\n', '      <th>Geom File</th>\\n', '      <th>Geom Path</th>\\n', '      <th>Flow File</th>\\n', '      <th>Flow Path</th>\\n', '      <th>full_path</th>\\n', '    </tr>\\n', '  </thead>\n  <tbody>\n    <tr>\\n', '      <th>0</th>\\n', '      <td>13</td>\\n', '      <td>07</td>\\n', '      <td>06</td>\\n', '      <td>PMF with Multi 2D Areas</td>\\n', '      <td>5.10</td>\\n', '      <td>PMF Multi 2D</td>\\n', '      <td>01JAN1999,1200,04JAN1999,1200</td>\\n', '      <td>30SEC</td>\\n', '      <td>30MIN</td>\\n', '      <td>1</td>\\n', '      <td>...</td>\\n', '      <td>dss</td>\\n', '      <td>1</td>\\n', '      <td>Pardiso (Direct)</td>\\n', '      <td>193</td>\\n', '      <td>None</td>\\n', '      <td>06</td>\\n', '      <td>d:\\\\GitHub\\\\ras-commander\\\\examples\\\\example_proje...</td>\\n', '      <td>07</td>\\n', '      <td>d:\\\\GitHub\\\\ras-commander\\\\examples\\\\example_proje...</td>\\n', '      <td>d:\\\\GitHub\\\\ras-commander\\\\examples\\\\example_proje...</td>\\n', '    </tr><tr>\\n', '      <th>1</th>\\n', '      <td>15</td>\\n', '      <td>12</td>\\n', '      <td>08</td>\\n', '      <td>1d-2D Dambreak Refined Grid</td>\\n', '      <td>5.10</td>\\n', '      <td>1D-2D Refined Grid</td>\\n', '      <td>01JAN1999,1200,04JAN1999,1200</td>\\n', '      <td>20SEC</td>\\n', '      <td>5MIN</td>\\n', '      <td>1</td>\\n', '      <td>...</td>\\n', '      <td>dss</td>\\n', '      <td>1</td>\\n', '      <td>NaN</td>\\n', '      <td>BaldEagleCr</td>\\n', '      <td>None</td>\\n', '      <td>08</td>\\n', '      <td>d:\\\\GitHub\\\\ras-commander\\\\examples\\\\example_proje...</td>\\n', '      <td>12</td>\\n', '      <td>d:\\\\GitHub\\\\ras-commander\\\\examples\\\\example_proje...</td>\\n', '      <td>d:\\\\GitHub\\\\ras-commander\\\\examples\\\\example_proje...</td>\\n', '    </tr><tr>\\n', '      <th>2</th>\\n', '      <td>17</td>\\n', '      <td>09</td>\\n', '      <td>10</td>\\n', '      <td>2D to 1D No Dam</td>\\n', '      <td>5.00</td>\\n', '      <td>2D to 1D No Dam</td>\\n', '      <td>01JAN1999,1200,06JAN1999,1200</td>\\n', '      <td>1MIN</td>\\n', '      <td>5MIN</td>\\n', '      <td>1</td>\\n', '      <td>...</td>\\n', '      <td>dss</td>\\n', '      <td>1</td>\\n', '      <td>NaN</td>\\n', '      <td>Upstream2D</td>\\n', '      <td>None</td>\\n', '      <td>10</td>\\n', '      <td>d:\\\\GitHub\\\\ras-commander\\\\examples\\\\example_proje...</td>\\n', '      <td>09</td>\\n', '      <td>d:\\\\GitHub\\\\ras-commander\\\\examples\\\\example_proje...</td>\\n', '      <td>d:\\\\GitHub\\\\ras-commander\\\\examples\\\\example_proje...</td>\\n', '    </tr><tr>\\n', '      <th>3</th>\\n', '      <td>18</td>\\n', '      <td>10</td>\\n', '      <td>11</td>\\n', '      <td>2D to 2D Run</td>\\n', '      <td>5.00</td>\\n', '      <td>2D to 2D Run</td>\\n', '      <td>01JAN1999,1200,04JAN1999,1200</td>\\n', '      <td>20SEC</td>\\n', '      <td>5MIN</td>\\n', '      <td>1</td>\\n', '      <td>...</td>\\n', '      <td>dss</td>\\n', '      <td>1</td>\\n', '      <td>NaN</td>\\n', '      <td>BaldEagleCr</td>\\n', '      <td>None</td>\\n', '      <td>11</td>\\n', '      <td>d:\\\\GitHub\\\\ras-commander\\\\examples\\\\example_proje...</td>\\n', '      <td>10</td>\\n', '      <td>d:\\\\GitHub\\\\ras-commander\\\\examples\\\\example_proje...</td>\\n', '      <td>d:\\\\GitHub\\\\ras-commander\\\\examples\\\\example_proje...</td>\\n', '    </tr><tr>\\n', '      <th>4</th>\\n', '      <td>19</td>\\n', '      <td>11</td>\\n', '      <td>12</td>\\n', '      <td>SA to 2D Dam Break Run</td>\\n', '      <td>5.00</td>\\n', '      <td>SA to 2D Dam Break</td>\\n', '      <td>01JAN1999,1200,04JAN1999,1200</td>\\n', '      <td>20SEC</td>\\n', '      <td>10MIN</td>\\n', '      <td>1</td>\\n', '      <td>...</td>\\n', '      <td>dss</td>\\n', '      <td>1</td>\\n', '      <td>NaN</td>\\n', '      <td>BaldEagleCr</td>\\n', '      <td>None</td>\\n', '      <td>12</td>\\n', '      <td>d:\\\\GitHub\\\\ras-commander\\\\examples\\\\example_proje...</td>\\n', '      <td>11</td>\\n', '      <td>d:\\\\GitHub\\\\ras-commander\\\\examples\\\\example_proje...</td>\\n', '      <td>d:\\\\GitHub\\\\ras-commander\\\\examples\\\\example_proje...</td>\\n', '    </tr>\n    <tr><td colspan=\"100%\" style=\"text-align:center\">[... additional rows truncated ...]</td></tr>\n  </tbody>\n</table>\n</div>",
            "text/plain": [
              "   plan_number unsteady_number geometry_number  \\\n",
              "0           13              07              06   \n",
              "1           15              12              08   \n",
              "2           17              09              10   \n",
              "3           18              10              11   \n",
              "4           19              11              12   \n",
              "5           03              13              09   \n",
              "6           04              01              13   \n",
              "7           02              01              01   \n",
              "8           01              01              01   \n",
              "9           05              02              03   \n",
              "10          06              03              09   \n",
              "\n",
              "                                 Plan Title Program Version  \\\n",
              "0                   PMF with Multi 2D Areas            5.10   \n",
              "1               1d-2D Dambreak Refined Grid            5.10   \n",
              "2                           2D to 1D No Dam            5.00   \n",
              "3                              2D to 2D Run            5.00   \n",
              "4                    SA to 2D Dam Break Run            5.00   \n",
              "5   Single 2D Area - Internal Dam Structure            5.04   \n",
              "6   SA to 2D Area Conn - 2D Levee Structure            5.00   \n",
              "7                  SA to Detailed 2D Breach            5.10   \n",
              "8              SA to Detailed 2D Breach FEQ            5.03   \n",
              "9           Single 2D area with Bridges FEQ            5.10   \n",
              "10            Gridded Precip - Infiltration            6.00   \n",
              "\n",
              "            Short Identifier                Simulation Date  \\\n",
              "0               PMF Multi 2D  01JAN1999,1200,04JAN1999,1200   \n",
              "1         1D-2D Refined Grid  01JAN1999,1200,04JAN1999,1200   \n",
              "2            2D to 1D No Dam  01JAN1999,1200,06JAN1999,1200   \n",
              "3               2D to 2D Run  01JAN1999,1200,04JAN1999,1200   \n",
              "4         SA to 2D Dam Break  01JAN1999,1200,04JAN1999,1200   \n",
              "5                  Single 2D  01JAN1999,1200,04JAN1999,1200   \n",
              "6             2D Levee Struc  01JAN1999,1200,04JAN1999,1200   \n",
              "7             SA-2D Det Brch  01JAN1999,1200,04JAN1999,1200   \n",
              "8              SA-2D Det FEQ  01JAN1999,1200,04JAN1999,1200   \n",
              "9      Single 2D Bridges FEQ  01JAN1999,1200,04JAN1999,1200   \n",
              "10  Grid Precip Infiltration  09SEP2018,0000,14SEP2018,0000   \n",
              "\n",
              "   Computation Interval Mapping Interval Run HTab  ... DSS File  \\\n",
              "0                 30SEC            30MIN        1  ...      dss   \n",
              "1                 20SEC             5MIN        1  ...      dss   \n",
              "2                  1MIN             5MIN        1  ...      dss   \n",
              "3                 20SEC             5MIN        1  ...      dss   \n",
              "4                 20SEC            10MIN        1  ...      dss   \n",
              "5                 30SEC            10MIN        1  ...      dss   \n",
              "6                 20SEC             5MIN        1  ...      dss   \n",
              "7                 10SEC             5MIN        1  ...      dss   \n",
              "8                  5SEC             5MIN        1  ...      dss   \n",
              "9                  5SEC            10MIN       -1  ...      dss   \n",
              "10                20SEC            10MIN       -1  ...      dss   \n",
              "\n",
              "   Friction Slope Method UNET D2 SolverType UNET D2 Name HDF_Results_Path  \\\n",
              "0                      1   Pardiso (Direct)          193             None   \n",
              "1                      1                NaN  BaldEagleCr             None   \n",
              "2                      1                NaN   Upstream2D             None   \n",
              "3                      1                NaN  BaldEagleCr             None   \n",
              "4                      1                NaN  BaldEagleCr             None   \n",
              "5                      1                NaN  BaldEagleCr             None   \n",
              "6                      1                NaN  BaldEagleCr             None   \n",
              "7                      1   Pardiso (Direct)  BaldEagleCr             None   \n",
              "8                      1                NaN  BaldEagleCr             None   \n",
              "9                      1   PARDISO (Direct)  BaldEagleCr             None   \n",
              "10                     1   Pardiso (Direct)  BaldEagleCr             None   \n",
              "\n",
              "   Geom File                                          Geom Path  Flow File  \\\n",
              "0         06  d:\\GitHub\\ras-commander\\examples\\example_proje...         07   \n",
              "1         08  d:\\GitHub\\ras-commander\\examples\\example_proje...         12   \n",
              "2         10  d:\\GitHub\\ras-commander\\examples\\example_proje...         09   \n",
              "3         11  d:\\GitHub\\ras-commander\\examples\\example_proje...         10   \n",
              "4         12  d:\\GitHub\\ras-commander\\examples\\example_proje...         11   \n",
              "5         09  d:\\GitHub\\ras-commander\\examples\\example_proje...         13   \n",
              "6         13  d:\\GitHub\\ras-commander\\examples\\example_proje...         01   \n",
              "7         01  d:\\GitHub\\ras-commander\\examples\\example_proje...         01   \n",
              "8         01  d:\\GitHub\\ras-commander\\examples\\example_proje...         01   \n",
              "9         03  d:\\GitHub\\ras-commander\\examples\\example_proje...         02   \n",
              "10        09  d:\\GitHub\\ras-commander\\examples\\example_proje...         03   \n",
              "\n",
              "                                            Flow Path  \\\n",
              "0   d:\\GitHub\\ras-commander\\examples\\example_proje...   \n",
              "1   d:\\GitHub\\ras-commander\\examples\\example_proje...   \n",
              "2   d:\\GitHub\\ras-commander\\examples\\example_proje...   \n",
              "3   d:\\GitHub\\ras-commander\\examples\\example_proje...   \n",
              "4   d:\\GitHub\\ras-commander\\examples\\example_proje...   \n",
              "5   d:\\GitHub\\ras-commander\\examples\\example_proje...   \n",
              "6   d:\\GitHub\\ras-commander\\examples\\example_proje...   \n",
              "7   d:\\GitHub\\ras-commander\\examples\\example_proje...   \n",
              "8   d:\\GitHub\\ras-commander\\examples\\example_proje...   \n",
              "9   d:\\GitHub\\ras-commander\\examples\\example_proje...   \n",
              "10  d:\\GitHub\\ras-commander\\examples\\example_proje...   \n",
              "\n",
              "                                            full_path  \n",
              "0   d:\\GitHub\\ras-commander\\examples\\example_proje...  \n",
              "1   d:\\GitHub\\ras-commander\\examples\\example_proje...  \n",
              "2   d:\\GitHub\\ras-commander\\examples\\example_proje...  \n",
              "3   d:\\GitHub\\ras-commander\\examples\\example_proje...  \n",
              "4   d:\\GitHub\\ras-commander\\examples\\example_proje...  \n",
              "5   d:\\GitHub\\ras-commander\\examples\\example_proje...  \n",
              "6   d:\\GitHub\\ras-commander\\examples\\example_proje...  \n",
              "7   d:\\GitHub\\ras-commander\\examples\\example_proje...  \n",
              "8   d:\\GitHub\\ras-commander\\examples\\example_proje...  \n",
              "9   d:\\GitHub\\ras-commander\\examples\\example_proje...  \n",
              "10  d:\\GitHub\\ras-commander\\examples\\example_proje...  \n",
              "\n",
              "[11 rows x 29 columns]"
            ]
          },
          "metadata": {},
          "output_type": "display_data"
        }
      ],
      "source": [
        "display.display(multi_2d_project.plan_df)"
      ]
    },
    {
      "cell_type": "code",
      "execution_count": 12,
      "metadata": {},
      "outputs": [
        {
          "name": "stdout",
          "output_type": "stream",
          "text": [
            "\n",
            "Multi2D Project Data:\n",
            "==================================================\n",
            "Project Name: BaldEagleDamBrk\n",
            "Project Folder: d:\\GitHub\\ras-commander\\examples\\example_projects\\BaldEagleCrkMulti2D\n",
            "PRJ File: D:\\GitHub\\ras-commander\\examples\\example_projects\\BaldEagleCrkMulti2D\\BaldEagleDamBrk.prj\n",
            "HEC-RAS Executable Path: C:\\Program Files (x86)\\HEC\\HEC-RAS\\6.5\\Ras.exe\n",
            "\n",
            "Plan Files DataFrame (ras.plan_df):\n"
          ]
        },
        {
          "data": {
            "text/html": "<div>\n<style scoped>\\n', '    .dataframe tbody tr th:only-of-type {\\n', '        vertical-align: middle;\\n', '    }\\n', '\\n', '    .dataframe tbody tr th {\\n', '        vertical-align: top;\\n', '    }\\n', '\\n', '    .dataframe thead th {\\n', '        text-align: right;\\n', '    }\\n', '</style>\n<table border=\"1\" class=\"dataframe\">\n  <thead>\\n', '    <tr style=\"text-align: right;\">\\n', '      <th></th>\\n', '      <th>plan_number</th>\\n', '      <th>unsteady_number</th>\\n', '      <th>geometry_number</th>\\n', '      <th>Plan Title</th>\\n', '      <th>Program Version</th>\\n', '      <th>Short Identifier</th>\\n', '      <th>Simulation Date</th>\\n', '      <th>Computation Interval</th>\\n', '      <th>Mapping Interval</th>\\n', '      <th>Run HTab</th>\\n', '      <th>Run UNet</th>\\n', '      <th>Run Sediment</th>\\n', '      <th>Run PostProcess</th>\\n', '      <th>Run WQNet</th>\\n', '      <th>UNET Use Existing IB Tables</th>\\n', '      <th>UNET 1D Methodology</th>\\n', '      <th>UNET D1 Cores</th>\\n', '      <th>UNET D2 Cores</th>\\n', '      <th>PS Cores</th>\\n', '      <th>DSS File</th>\\n', '      <th>Friction Slope Method</th>\\n', '      <th>UNET D2 SolverType</th>\\n', '      <th>UNET D2 Name</th>\\n', '      <th>HDF_Results_Path</th>\\n', '      <th>Geom File</th>\\n', '      <th>Geom Path</th>\\n', '      <th>Flow File</th>\\n', '      <th>Flow Path</th>\\n', '      <th>full_path</th>\\n', '    </tr>\\n', '  </thead>\n  <tbody>\n    <tr>\\n', '      <th>0</th>\\n', '      <td>13</td>\\n', '      <td>07</td>\\n', '      <td>06</td>\\n', '      <td>PMF with Multi 2D Areas</td>\\n', '      <td>5.10</td>\\n', '      <td>PMF Multi 2D</td>\\n', '      <td>01JAN1999,1200,04JAN1999,1200</td>\\n', '      <td>30SEC</td>\\n', '      <td>30MIN</td>\\n', '      <td>1</td>\\n', '      <td>1</td>\\n', '      <td>0</td>\\n', '      <td>1</td>\\n', '      <td>0</td>\\n', '      <td>-1</td>\\n', '      <td>Finite Difference</td>\\n', '      <td>0</td>\\n', '      <td>8</td>\\n', '      <td>None</td>\\n', '      <td>dss</td>\\n', '      <td>1</td>\\n', '      <td>Pardiso (Direct)</td>\\n', '      <td>193</td>\\n', '      <td>None</td>\\n', '      <td>06</td>\\n', '      <td>d:\\\\GitHub\\\\ras-commander\\\\examples\\\\example_proje...</td>\\n', '      <td>07</td>\\n', '      <td>d:\\\\GitHub\\\\ras-commander\\\\examples\\\\example_proje...</td>\\n', '      <td>d:\\\\GitHub\\\\ras-commander\\\\examples\\\\example_proje...</td>\\n', '    </tr><tr>\\n', '      <th>1</th>\\n', '      <td>15</td>\\n', '      <td>12</td>\\n', '      <td>08</td>\\n', '      <td>1d-2D Dambreak Refined Grid</td>\\n', '      <td>5.10</td>\\n', '      <td>1D-2D Refined Grid</td>\\n', '      <td>01JAN1999,1200,04JAN1999,1200</td>\\n', '      <td>20SEC</td>\\n', '      <td>5MIN</td>\\n', '      <td>1</td>\\n', '      <td>1</td>\\n', '      <td>0</td>\\n', '      <td>1</td>\\n', '      <td>0</td>\\n', '      <td>-1</td>\\n', '      <td>Finite Difference</td>\\n', '      <td>0</td>\\n', '      <td>6</td>\\n', '      <td>None</td>\\n', '      <td>dss</td>\\n', '      <td>1</td>\\n', '      <td>NaN</td>\\n', '      <td>BaldEagleCr</td>\\n', '      <td>None</td>\\n', '      <td>08</td>\\n', '      <td>d:\\\\GitHub\\\\ras-commander\\\\examples\\\\example_proje...</td>\\n', '      <td>12</td>\\n', '      <td>d:\\\\GitHub\\\\ras-commander\\\\examples\\\\example_proje...</td>\\n', '      <td>d:\\\\GitHub\\\\ras-commander\\\\examples\\\\example_proje...</td>\\n', '    </tr><tr>\\n', '      <th>2</th>\\n', '      <td>17</td>\\n', '      <td>09</td>\\n', '      <td>10</td>\\n', '      <td>2D to 1D No Dam</td>\\n', '      <td>5.00</td>\\n', '      <td>2D to 1D No Dam</td>\\n', '      <td>01JAN1999,1200,06JAN1999,1200</td>\\n', '      <td>1MIN</td>\\n', '      <td>5MIN</td>\\n', '      <td>1</td>\\n', '      <td>1</td>\\n', '      <td>0</td>\\n', '      <td>1</td>\\n', '      <td>0</td>\\n', '      <td>-1</td>\\n', '      <td>NaN</td>\\n', '      <td>0</td>\\n', '      <td>0</td>\\n', '      <td>None</td>\\n', '      <td>dss</td>\\n', '      <td>1</td>\\n', '      <td>NaN</td>\\n', '      <td>Upstream2D</td>\\n', '      <td>None</td>\\n', '      <td>10</td>\\n', '      <td>d:\\\\GitHub\\\\ras-commander\\\\examples\\\\example_proje...</td>\\n', '      <td>09</td>\\n', '      <td>d:\\\\GitHub\\\\ras-commander\\\\examples\\\\example_proje...</td>\\n', '      <td>d:\\\\GitHub\\\\ras-commander\\\\examples\\\\example_proje...</td>\\n', '    </tr><tr>\\n', '      <th>3</th>\\n', '      <td>18</td>\\n', '      <td>10</td>\\n', '      <td>11</td>\\n', '      <td>2D to 2D Run</td>\\n', '      <td>5.00</td>\\n', '      <td>2D to 2D Run</td>\\n', '      <td>01JAN1999,1200,04JAN1999,1200</td>\\n', '      <td>20SEC</td>\\n', '      <td>5MIN</td>\\n', '      <td>1</td>\\n', '      <td>1</td>\\n', '      <td>0</td>\\n', '      <td>1</td>\\n', '      <td>0</td>\\n', '      <td>-1</td>\\n', '      <td>NaN</td>\\n', '      <td>0</td>\\n', '      <td>8</td>\\n', '      <td>None</td>\\n', '      <td>dss</td>\\n', '      <td>1</td>\\n', '      <td>NaN</td>\\n', '      <td>BaldEagleCr</td>\\n', '      <td>None</td>\\n', '      <td>11</td>\\n', '      <td>d:\\\\GitHub\\\\ras-commander\\\\examples\\\\example_proje...</td>\\n', '      <td>10</td>\\n', '      <td>d:\\\\GitHub\\\\ras-commander\\\\examples\\\\example_proje...</td>\\n', '      <td>d:\\\\GitHub\\\\ras-commander\\\\examples\\\\example_proje...</td>\\n', '    </tr><tr>\\n', '      <th>4</th>\\n', '      <td>19</td>\\n', '      <td>11</td>\\n', '      <td>12</td>\\n', '      <td>SA to 2D Dam Break Run</td>\\n', '      <td>5.00</td>\\n', '      <td>SA to 2D Dam Break</td>\\n', '      <td>01JAN1999,1200,04JAN1999,1200</td>\\n', '      <td>20SEC</td>\\n', '      <td>10MIN</td>\\n', '      <td>1</td>\\n', '      <td>1</td>\\n', '      <td>0</td>\\n', '      <td>1</td>\\n', '      <td>0</td>\\n', '      <td>-1</td>\\n', '      <td>NaN</td>\\n', '      <td>0</td>\\n', '      <td>0</td>\\n', '      <td>None</td>\\n', '      <td>dss</td>\\n', '      <td>1</td>\\n', '      <td>NaN</td>\\n', '      <td>BaldEagleCr</td>\\n', '      <td>None</td>\\n', '      <td>12</td>\\n', '      <td>d:\\\\GitHub\\\\ras-commander\\\\examples\\\\example_proje...</td>\\n', '      <td>11</td>\\n', '      <td>d:\\\\GitHub\\\\ras-commander\\\\examples\\\\example_proje...</td>\\n', '      <td>d:\\\\GitHub\\\\ras-commander\\\\examples\\\\example_proje...</td>\\n', '    </tr>\n    <tr><td colspan=\"100%\" style=\"text-align:center\">[... additional rows truncated ...]</td></tr>\n  </tbody>\n</table>\n</div>",
            "text/plain": [
              "   plan_number unsteady_number geometry_number  \\\n",
              "0           13              07              06   \n",
              "1           15              12              08   \n",
              "2           17              09              10   \n",
              "3           18              10              11   \n",
              "4           19              11              12   \n",
              "5           03              13              09   \n",
              "6           04              01              13   \n",
              "7           02              01              01   \n",
              "8           01              01              01   \n",
              "9           05              02              03   \n",
              "10          06              03              09   \n",
              "\n",
              "                                 Plan Title Program Version  \\\n",
              "0                   PMF with Multi 2D Areas            5.10   \n",
              "1               1d-2D Dambreak Refined Grid            5.10   \n",
              "2                           2D to 1D No Dam            5.00   \n",
              "3                              2D to 2D Run            5.00   \n",
              "4                    SA to 2D Dam Break Run            5.00   \n",
              "5   Single 2D Area - Internal Dam Structure            5.04   \n",
              "6   SA to 2D Area Conn - 2D Levee Structure            5.00   \n",
              "7                  SA to Detailed 2D Breach            5.10   \n",
              "8              SA to Detailed 2D Breach FEQ            5.03   \n",
              "9           Single 2D area with Bridges FEQ            5.10   \n",
              "10            Gridded Precip - Infiltration            6.00   \n",
              "\n",
              "            Short Identifier                Simulation Date  \\\n",
              "0               PMF Multi 2D  01JAN1999,1200,04JAN1999,1200   \n",
              "1         1D-2D Refined Grid  01JAN1999,1200,04JAN1999,1200   \n",
              "2            2D to 1D No Dam  01JAN1999,1200,06JAN1999,1200   \n",
              "3               2D to 2D Run  01JAN1999,1200,04JAN1999,1200   \n",
              "4         SA to 2D Dam Break  01JAN1999,1200,04JAN1999,1200   \n",
              "5                  Single 2D  01JAN1999,1200,04JAN1999,1200   \n",
              "6             2D Levee Struc  01JAN1999,1200,04JAN1999,1200   \n",
              "7             SA-2D Det Brch  01JAN1999,1200,04JAN1999,1200   \n",
              "8              SA-2D Det FEQ  01JAN1999,1200,04JAN1999,1200   \n",
              "9      Single 2D Bridges FEQ  01JAN1999,1200,04JAN1999,1200   \n",
              "10  Grid Precip Infiltration  09SEP2018,0000,14SEP2018,0000   \n",
              "\n",
              "   Computation Interval Mapping Interval Run HTab Run UNet Run Sediment  \\\n",
              "0                 30SEC            30MIN        1        1            0   \n",
              "1                 20SEC             5MIN        1        1            0   \n",
              "2                  1MIN             5MIN        1        1            0   \n",
              "3                 20SEC             5MIN        1        1            0   \n",
              "4                 20SEC            10MIN        1        1            0   \n",
              "5                 30SEC            10MIN        1        1            0   \n",
              "6                 20SEC             5MIN        1        1            0   \n",
              "7                 10SEC             5MIN        1        1            0   \n",
              "8                  5SEC             5MIN        1        1            0   \n",
              "9                  5SEC            10MIN       -1       -1            0   \n",
              "10                20SEC            10MIN       -1       -1            0   \n",
              "\n",
              "   Run PostProcess Run WQNet UNET Use Existing IB Tables UNET 1D Methodology  \\\n",
              "0                1         0                          -1   Finite Difference   \n",
              "1                1         0                          -1   Finite Difference   \n",
              "2                1         0                          -1                 NaN   \n",
              "3                1         0                          -1                 NaN   \n",
              "4                1         0                          -1                 NaN   \n",
              "5                1         0                          -1   Finite Difference   \n",
              "6                1         0                          -1                 NaN   \n",
              "7                1         0                          -1   Finite Difference   \n",
              "8                1         0                          -1                 NaN   \n",
              "9               -1         0                          -1   Finite Difference   \n",
              "10              -1         0                          -1   Finite Difference   \n",
              "\n",
              "    UNET D1 Cores  UNET D2 Cores PS Cores DSS File Friction Slope Method  \\\n",
              "0               0              8     None      dss                     1   \n",
              "1               0              6     None      dss                     1   \n",
              "2               0              0     None      dss                     1   \n",
              "3               0              8     None      dss                     1   \n",
              "4               0              0     None      dss                     1   \n",
              "5               0             10     None      dss                     1   \n",
              "6               0              6     None      dss                     1   \n",
              "7               0              0     None      dss                     1   \n",
              "8               0              0     None      dss                     1   \n",
              "9               0             10     None      dss                     1   \n",
              "10              0              0     None      dss                     1   \n",
              "\n",
              "   UNET D2 SolverType UNET D2 Name HDF_Results_Path Geom File  \\\n",
              "0    Pardiso (Direct)          193             None        06   \n",
              "1                 NaN  BaldEagleCr             None        08   \n",
              "2                 NaN   Upstream2D             None        10   \n",
              "3                 NaN  BaldEagleCr             None        11   \n",
              "4                 NaN  BaldEagleCr             None        12   \n",
              "5                 NaN  BaldEagleCr             None        09   \n",
              "6                 NaN  BaldEagleCr             None        13   \n",
              "7    Pardiso (Direct)  BaldEagleCr             None        01   \n",
              "8                 NaN  BaldEagleCr             None        01   \n",
              "9    PARDISO (Direct)  BaldEagleCr             None        03   \n",
              "10   Pardiso (Direct)  BaldEagleCr             None        09   \n",
              "\n",
              "                                            Geom Path Flow File  \\\n",
              "0   d:\\GitHub\\ras-commander\\examples\\example_proje...        07   \n",
              "1   d:\\GitHub\\ras-commander\\examples\\example_proje...        12   \n",
              "2   d:\\GitHub\\ras-commander\\examples\\example_proje...        09   \n",
              "3   d:\\GitHub\\ras-commander\\examples\\example_proje...        10   \n",
              "4   d:\\GitHub\\ras-commander\\examples\\example_proje...        11   \n",
              "5   d:\\GitHub\\ras-commander\\examples\\example_proje...        13   \n",
              "6   d:\\GitHub\\ras-commander\\examples\\example_proje...        01   \n",
              "7   d:\\GitHub\\ras-commander\\examples\\example_proje...        01   \n",
              "8   d:\\GitHub\\ras-commander\\examples\\example_proje...        01   \n",
              "9   d:\\GitHub\\ras-commander\\examples\\example_proje...        02   \n",
              "10  d:\\GitHub\\ras-commander\\examples\\example_proje...        03   \n",
              "\n",
              "                                            Flow Path  \\\n",
              "0   d:\\GitHub\\ras-commander\\examples\\example_proje...   \n",
              "1   d:\\GitHub\\ras-commander\\examples\\example_proje...   \n",
              "2   d:\\GitHub\\ras-commander\\examples\\example_proje...   \n",
              "3   d:\\GitHub\\ras-commander\\examples\\example_proje...   \n",
              "4   d:\\GitHub\\ras-commander\\examples\\example_proje...   \n",
              "5   d:\\GitHub\\ras-commander\\examples\\example_proje...   \n",
              "6   d:\\GitHub\\ras-commander\\examples\\example_proje...   \n",
              "7   d:\\GitHub\\ras-commander\\examples\\example_proje...   \n",
              "8   d:\\GitHub\\ras-commander\\examples\\example_proje...   \n",
              "9   d:\\GitHub\\ras-commander\\examples\\example_proje...   \n",
              "10  d:\\GitHub\\ras-commander\\examples\\example_proje...   \n",
              "\n",
              "                                            full_path  \n",
              "0   d:\\GitHub\\ras-commander\\examples\\example_proje...  \n",
              "1   d:\\GitHub\\ras-commander\\examples\\example_proje...  \n",
              "2   d:\\GitHub\\ras-commander\\examples\\example_proje...  \n",
              "3   d:\\GitHub\\ras-commander\\examples\\example_proje...  \n",
              "4   d:\\GitHub\\ras-commander\\examples\\example_proje...  \n",
              "5   d:\\GitHub\\ras-commander\\examples\\example_proje...  \n",
              "6   d:\\GitHub\\ras-commander\\examples\\example_proje...  \n",
              "7   d:\\GitHub\\ras-commander\\examples\\example_proje...  \n",
              "8   d:\\GitHub\\ras-commander\\examples\\example_proje...  \n",
              "9   d:\\GitHub\\ras-commander\\examples\\example_proje...  \n",
              "10  d:\\GitHub\\ras-commander\\examples\\example_proje...  "
            ]
          },
          "metadata": {},
          "output_type": "display_data"
        },
        {
          "name": "stdout",
          "output_type": "stream",
          "text": [
            "\n",
            "Flow Files DataFrame:\n"
          ]
        },
        {
          "data": {
            "text/html": "<div>\n<style scoped>\\n', '    .dataframe tbody tr th:only-of-type {\\n', '        vertical-align: middle;\\n', '    }\\n', '\\n', '    .dataframe tbody tr th {\\n', '        vertical-align: top;\\n', '    }\\n', '\\n', '    .dataframe thead th {\\n', '        text-align: right;\\n', '    }\\n', '</style>\n<table border=\"1\" class=\"dataframe\">\n  <thead>\\n', '    <tr style=\"text-align: right;\">\\n', '      <th></th>\\n', '    </tr>\\n', '  </thead>\n  <tbody>\n    \n    <tr><td colspan=\"100%\" style=\"text-align:center\">[... additional rows truncated ...]</td></tr>\n  </tbody>\n</table>\n</div>",
            "text/plain": [
              "Empty DataFrame\n",
              "Columns: []\n",
              "Index: []"
            ]
          },
          "metadata": {},
          "output_type": "display_data"
        },
        {
          "name": "stdout",
          "output_type": "stream",
          "text": [
            "\n",
            "Unsteady Flow Files DataFrame (ras.unsteady_df):\n"
          ]
        },
        {
          "data": {
            "text/html": "<div>\n<style scoped>\\n', '    .dataframe tbody tr th:only-of-type {\\n', '        vertical-align: middle;\\n', '    }\\n', '\\n', '    .dataframe tbody tr th {\\n', '        vertical-align: top;\\n', '    }\\n', '\\n', '    .dataframe thead th {\\n', '        text-align: right;\\n', '    }\\n', '</style>\n<table border=\"1\" class=\"dataframe\">\n  <thead>\\n', '    <tr style=\"text-align: right;\">\\n', '      <th></th>\\n', '      <th>unsteady_number</th>\\n', '      <th>full_path</th>\\n', '      <th>geometry_number</th>\\n', '      <th>Flow Title</th>\\n', '      <th>Program Version</th>\\n', '      <th>Use Restart</th>\\n', '      <th>Precipitation Mode</th>\\n', '      <th>Wind Mode</th>\\n', '      <th>Met BC=Precipitation|Mode</th>\\n', '      <th>Met BC=Evapotranspiration|Mode</th>\\n', '      <th>Met BC=Precipitation|Expanded View</th>\\n', '      <th>Met BC=Precipitation|Constant Units</th>\\n', '      <th>Met BC=Precipitation|Gridded Source</th>\\n', '    </tr>\\n', '  </thead>\n  <tbody>\n    <tr>\\n', '      <th>0</th>\\n', '      <td>07</td>\\n', '      <td>d:\\\\GitHub\\\\ras-commander\\\\examples\\\\example_proje...</td>\\n', '      <td>None</td>\\n', '      <td>PMF with Multi 2D Areas</td>\\n', '      <td>5.00</td>\\n', '      <td>0</td>\\n', '      <td>NaN</td>\\n', '      <td>NaN</td>\\n', '      <td>NaN</td>\\n', '      <td>NaN</td>\\n', '      <td>NaN</td>\\n', '      <td>NaN</td>\\n', '      <td>NaN</td>\\n', '    </tr><tr>\\n', '      <th>1</th>\\n', '      <td>08</td>\\n', '      <td>d:\\\\GitHub\\\\ras-commander\\\\examples\\\\example_proje...</td>\\n', '      <td>None</td>\\n', '      <td>PMF for Upstream 2D</td>\\n', '      <td>4.20</td>\\n', '      <td>0</td>\\n', '      <td>NaN</td>\\n', '      <td>NaN</td>\\n', '      <td>NaN</td>\\n', '      <td>NaN</td>\\n', '      <td>NaN</td>\\n', '      <td>NaN</td>\\n', '      <td>NaN</td>\\n', '    </tr><tr>\\n', '      <th>2</th>\\n', '      <td>09</td>\\n', '      <td>d:\\\\GitHub\\\\ras-commander\\\\examples\\\\example_proje...</td>\\n', '      <td>None</td>\\n', '      <td>Upstream 2D</td>\\n', '      <td>5.00</td>\\n', '      <td>0</td>\\n', '      <td>NaN</td>\\n', '      <td>NaN</td>\\n', '      <td>NaN</td>\\n', '      <td>NaN</td>\\n', '      <td>NaN</td>\\n', '      <td>NaN</td>\\n', '      <td>NaN</td>\\n', '    </tr><tr>\\n', '      <th>3</th>\\n', '      <td>10</td>\\n', '      <td>d:\\\\GitHub\\\\ras-commander\\\\examples\\\\example_proje...</td>\\n', '      <td>None</td>\\n', '      <td>1972 Flood Event - 2D to 2D Run</td>\\n', '      <td>5.00</td>\\n', '      <td>0</td>\\n', '      <td>NaN</td>\\n', '      <td>NaN</td>\\n', '      <td>NaN</td>\\n', '      <td>NaN</td>\\n', '      <td>NaN</td>\\n', '      <td>NaN</td>\\n', '      <td>NaN</td>\\n', '    </tr><tr>\\n', '      <th>4</th>\\n', '      <td>11</td>\\n', '      <td>d:\\\\GitHub\\\\ras-commander\\\\examples\\\\example_proje...</td>\\n', '      <td>None</td>\\n', '      <td>1972 Flood Event - SA to 2D Run</td>\\n', '      <td>5.00</td>\\n', '      <td>0</td>\\n', '      <td>NaN</td>\\n', '      <td>NaN</td>\\n', '      <td>NaN</td>\\n', '      <td>NaN</td>\\n', '      <td>NaN</td>\\n', '      <td>NaN</td>\\n', '      <td>NaN</td>\\n', '    </tr>\n    <tr><td colspan=\"100%\" style=\"text-align:center\">[... additional rows truncated ...]</td></tr>\n  </tbody>\n</table>\n</div>",
            "text/plain": [
              "  unsteady_number                                          full_path  \\\n",
              "0              07  d:\\GitHub\\ras-commander\\examples\\example_proje...   \n",
              "1              08  d:\\GitHub\\ras-commander\\examples\\example_proje...   \n",
              "2              09  d:\\GitHub\\ras-commander\\examples\\example_proje...   \n",
              "3              10  d:\\GitHub\\ras-commander\\examples\\example_proje...   \n",
              "4              11  d:\\GitHub\\ras-commander\\examples\\example_proje...   \n",
              "5              12  d:\\GitHub\\ras-commander\\examples\\example_proje...   \n",
              "6              13  d:\\GitHub\\ras-commander\\examples\\example_proje...   \n",
              "7              01  d:\\GitHub\\ras-commander\\examples\\example_proje...   \n",
              "8              02  d:\\GitHub\\ras-commander\\examples\\example_proje...   \n",
              "9              03  d:\\GitHub\\ras-commander\\examples\\example_proje...   \n",
              "\n",
              "  geometry_number                            Flow Title Program Version  \\\n",
              "0            None               PMF with Multi 2D Areas            5.00   \n",
              "1            None                   PMF for Upstream 2D            4.20   \n",
              "2            None                           Upstream 2D            5.00   \n",
              "3            None       1972 Flood Event - 2D to 2D Run            5.00   \n",
              "4            None       1972 Flood Event - SA to 2D Run            5.00   \n",
              "5            None                       PMF for 1D - 2D            5.00   \n",
              "6            None                        Single 2D Area            5.00   \n",
              "7            None  1972 Flood Event - 2D Leve Structure            5.10   \n",
              "8            None           Single 2D Area with Bridges            5.10   \n",
              "9            None                 Gridded Precipitation            6.00   \n",
              "\n",
              "  Use Restart Precipitation Mode       Wind Mode Met BC=Precipitation|Mode  \\\n",
              "0           0                NaN             NaN                       NaN   \n",
              "1           0                NaN             NaN                       NaN   \n",
              "2           0                NaN             NaN                       NaN   \n",
              "3           0                NaN             NaN                       NaN   \n",
              "4           0                NaN             NaN                       NaN   \n",
              "5           0                NaN             NaN                       NaN   \n",
              "6           0                NaN             NaN                       NaN   \n",
              "7           0                NaN             NaN                       NaN   \n",
              "8           0                NaN             NaN                       NaN   \n",
              "9           0             Enable  No Wind Forces                   Gridded   \n",
              "\n",
              "  Met BC=Evapotranspiration|Mode Met BC=Precipitation|Expanded View  \\\n",
              "0                            NaN                                NaN   \n",
              "1                            NaN                                NaN   \n",
              "2                            NaN                                NaN   \n",
              "3                            NaN                                NaN   \n",
              "4                            NaN                                NaN   \n",
              "5                            NaN                                NaN   \n",
              "6                            NaN                                NaN   \n",
              "7                            NaN                                NaN   \n",
              "8                            NaN                                NaN   \n",
              "9                           None                                 -1   \n",
              "\n",
              "  Met BC=Precipitation|Constant Units Met BC=Precipitation|Gridded Source  \n",
              "0                                 NaN                                 NaN  \n",
              "1                                 NaN                                 NaN  \n",
              "2                                 NaN                                 NaN  \n",
              "3                                 NaN                                 NaN  \n",
              "4                                 NaN                                 NaN  \n",
              "5                                 NaN                                 NaN  \n",
              "6                                 NaN                                 NaN  \n",
              "7                                 NaN                                 NaN  \n",
              "8                                 NaN                                 NaN  \n",
              "9                               mm/hr                                 DSS  "
            ]
          },
          "metadata": {},
          "output_type": "display_data"
        },
        {
          "name": "stdout",
          "output_type": "stream",
          "text": [
            "\n",
            "Geometry Files DataFrame (ras.geom_df):\n"
          ]
        },
        {
          "data": {
            "text/html": "<div>\n<style scoped>\\n', '    .dataframe tbody tr th:only-of-type {\\n', '        vertical-align: middle;\\n', '    }\\n', '\\n', '    .dataframe tbody tr th {\\n', '        vertical-align: top;\\n', '    }\\n', '\\n', '    .dataframe thead th {\\n', '        text-align: right;\\n', '    }\\n', '</style>\n<table border=\"1\" class=\"dataframe\">\n  <thead>\\n', '    <tr style=\"text-align: right;\">\\n', '      <th></th>\\n', '      <th>geom_file</th>\\n', '      <th>geom_number</th>\\n', '      <th>full_path</th>\\n', '      <th>hdf_path</th>\\n', '    </tr>\\n', '  </thead>\n  <tbody>\n    <tr>\\n', '      <th>0</th>\\n', '      <td>g06</td>\\n', '      <td>06</td>\\n', '      <td>d:\\\\GitHub\\\\ras-commander\\\\examples\\\\example_proje...</td>\\n', '      <td>d:\\\\GitHub\\\\ras-commander\\\\examples\\\\example_proje...</td>\\n', '    </tr><tr>\\n', '      <th>1</th>\\n', '      <td>g08</td>\\n', '      <td>08</td>\\n', '      <td>d:\\\\GitHub\\\\ras-commander\\\\examples\\\\example_proje...</td>\\n', '      <td>d:\\\\GitHub\\\\ras-commander\\\\examples\\\\example_proje...</td>\\n', '    </tr><tr>\\n', '      <th>2</th>\\n', '      <td>g10</td>\\n', '      <td>10</td>\\n', '      <td>d:\\\\GitHub\\\\ras-commander\\\\examples\\\\example_proje...</td>\\n', '      <td>d:\\\\GitHub\\\\ras-commander\\\\examples\\\\example_proje...</td>\\n', '    </tr><tr>\\n', '      <th>3</th>\\n', '      <td>g11</td>\\n', '      <td>11</td>\\n', '      <td>d:\\\\GitHub\\\\ras-commander\\\\examples\\\\example_proje...</td>\\n', '      <td>d:\\\\GitHub\\\\ras-commander\\\\examples\\\\example_proje...</td>\\n', '    </tr><tr>\\n', '      <th>4</th>\\n', '      <td>g12</td>\\n', '      <td>12</td>\\n', '      <td>d:\\\\GitHub\\\\ras-commander\\\\examples\\\\example_proje...</td>\\n', '      <td>d:\\\\GitHub\\\\ras-commander\\\\examples\\\\example_proje...</td>\\n', '    </tr>\n    <tr><td colspan=\"100%\" style=\"text-align:center\">[... additional rows truncated ...]</td></tr>\n  </tbody>\n</table>\n</div>",
            "text/plain": [
              "  geom_file geom_number                                          full_path  \\\n",
              "0       g06          06  d:\\GitHub\\ras-commander\\examples\\example_proje...   \n",
              "1       g08          08  d:\\GitHub\\ras-commander\\examples\\example_proje...   \n",
              "2       g10          10  d:\\GitHub\\ras-commander\\examples\\example_proje...   \n",
              "3       g11          11  d:\\GitHub\\ras-commander\\examples\\example_proje...   \n",
              "4       g12          12  d:\\GitHub\\ras-commander\\examples\\example_proje...   \n",
              "5       g09          09  d:\\GitHub\\ras-commander\\examples\\example_proje...   \n",
              "6       g13          13  d:\\GitHub\\ras-commander\\examples\\example_proje...   \n",
              "7       g01          01  d:\\GitHub\\ras-commander\\examples\\example_proje...   \n",
              "8       g03          03  d:\\GitHub\\ras-commander\\examples\\example_proje...   \n",
              "9       g02          02  d:\\GitHub\\ras-commander\\examples\\example_proje...   \n",
              "\n",
              "                                            hdf_path  \n",
              "0  d:\\GitHub\\ras-commander\\examples\\example_proje...  \n",
              "1  d:\\GitHub\\ras-commander\\examples\\example_proje...  \n",
              "2  d:\\GitHub\\ras-commander\\examples\\example_proje...  \n",
              "3  d:\\GitHub\\ras-commander\\examples\\example_proje...  \n",
              "4  d:\\GitHub\\ras-commander\\examples\\example_proje...  \n",
              "5  d:\\GitHub\\ras-commander\\examples\\example_proje...  \n",
              "6  d:\\GitHub\\ras-commander\\examples\\example_proje...  \n",
              "7  d:\\GitHub\\ras-commander\\examples\\example_proje...  \n",
              "8  d:\\GitHub\\ras-commander\\examples\\example_proje...  \n",
              "9  d:\\GitHub\\ras-commander\\examples\\example_proje...  "
            ]
          },
          "metadata": {},
          "output_type": "display_data"
        },
        {
          "name": "stdout",
          "output_type": "stream",
          "text": [
            "\n",
            "HDF Entries DataFrame (ras.get_hdf_entries()):\n"
          ]
        },
        {
          "data": {
            "text/html": "<div>\n<style scoped>\\n', '    .dataframe tbody tr th:only-of-type {\\n', '        vertical-align: middle;\\n', '    }\\n', '\\n', '    .dataframe tbody tr th {\\n', '        vertical-align: top;\\n', '    }\\n', '\\n', '    .dataframe thead th {\\n', '        text-align: right;\\n', '    }\\n', '</style>\n<table border=\"1\" class=\"dataframe\">\n  <thead>\\n', '    <tr style=\"text-align: right;\">\\n', '      <th></th>\\n', '      <th>plan_number</th>\\n', '      <th>unsteady_number</th>\\n', '      <th>geometry_number</th>\\n', '      <th>Plan Title</th>\\n', '      <th>Program Version</th>\\n', '      <th>Short Identifier</th>\\n', '      <th>Simulation Date</th>\\n', '      <th>Computation Interval</th>\\n', '      <th>Mapping Interval</th>\\n', '      <th>Run HTab</th>\\n', '      <th>...</th>\\n', '      <th>DSS File</th>\\n', '      <th>Friction Slope Method</th>\\n', '      <th>UNET D2 SolverType</th>\\n', '      <th>UNET D2 Name</th>\\n', '      <th>HDF_Results_Path</th>\\n', '      <th>Geom File</th>\\n', '      <th>Geom Path</th>\\n', '      <th>Flow File</th>\\n', '      <th>Flow Path</th>\\n', '      <th>full_path</th>\\n', '    </tr>\\n', '  </thead>\n  <tbody>\n    \n    <tr><td colspan=\"100%\" style=\"text-align:center\">[... additional rows truncated ...]</td></tr>\n  </tbody>\n</table>\n</div>",
            "text/plain": [
              "Empty DataFrame\n",
              "Columns: [plan_number, unsteady_number, geometry_number, Plan Title, Program Version, Short Identifier, Simulation Date, Computation Interval, Mapping Interval, Run HTab, Run UNet, Run Sediment, Run PostProcess, Run WQNet, UNET Use Existing IB Tables, UNET 1D Methodology, UNET D1 Cores, UNET D2 Cores, PS Cores, DSS File, Friction Slope Method, UNET D2 SolverType, UNET D2 Name, HDF_Results_Path, Geom File, Geom Path, Flow File, Flow Path, full_path]\n",
              "Index: []\n",
              "\n",
              "[0 rows x 29 columns]"
            ]
          },
          "metadata": {},
          "output_type": "display_data"
        },
        {
          "name": "stdout",
          "output_type": "stream",
          "text": [
            "\n",
            "Boundary Conditions DataFrame (ras.boundaries_df):\n"
          ]
        },
        {
          "data": {
            "text/html": "<div>\n<style scoped>\\n', '    .dataframe tbody tr th:only-of-type {\\n', '        vertical-align: middle;\\n', '    }\\n', '\\n', '    .dataframe tbody tr th {\\n', '        vertical-align: top;\\n', '    }\\n', '\\n', '    .dataframe thead th {\\n', '        text-align: right;\\n', '    }\\n', '</style>\n<table border=\"1\" class=\"dataframe\">\n  <thead>\\n', '    <tr style=\"text-align: right;\">\\n', '      <th></th>\\n', '      <th>unsteady_number</th>\\n', '      <th>boundary_condition_number</th>\\n', '      <th>river_reach_name</th>\\n', '      <th>river_station</th>\\n', '      <th>storage_area_name</th>\\n', '      <th>pump_station_name</th>\\n', '      <th>bc_type</th>\\n', '      <th>hydrograph_type</th>\\n', '      <th>Interval</th>\\n', '      <th>DSS File</th>\\n', '      <th>...</th>\\n', '      <th>Flow Title</th>\\n', '      <th>Program Version</th>\\n', '      <th>Use Restart</th>\\n', '      <th>Precipitation Mode</th>\\n', '      <th>Wind Mode</th>\\n', '      <th>Met BC=Precipitation|Mode</th>\\n', '      <th>Met BC=Evapotranspiration|Mode</th>\\n', '      <th>Met BC=Precipitation|Expanded View</th>\\n', '      <th>Met BC=Precipitation|Constant Units</th>\\n', '      <th>Met BC=Precipitation|Gridded Source</th>\\n', '    </tr>\\n', '  </thead>\n  <tbody>\n    <tr>\\n', '      <th>0</th>\\n', '      <td>07</td>\\n', '      <td>1</td>\\n', '      <td>Bald Eagle Cr.</td>\\n', '      <td>Lock Haven</td>\\n', '      <td>137520</td>\\n', '      <td></td>\\n', '      <td>Flow Hydrograph</td>\\n', '      <td>Flow Hydrograph</td>\\n', '      <td>1HOUR</td>\\n', '      <td>Bald_Eagle_Creek.dss</td>\\n', '      <td>...</td>\\n', '      <td>PMF with Multi 2D Areas</td>\\n', '      <td>5.00</td>\\n', '      <td>0</td>\\n', '      <td>NaN</td>\\n', '      <td>NaN</td>\\n', '      <td>NaN</td>\\n', '      <td>NaN</td>\\n', '      <td>NaN</td>\\n', '      <td>NaN</td>\\n', '      <td>NaN</td>\\n', '    </tr><tr>\\n', '      <th>1</th>\\n', '      <td>07</td>\\n', '      <td>2</td>\\n', '      <td>Bald Eagle Cr.</td>\\n', '      <td>Lock Haven</td>\\n', '      <td>81454</td>\\n', '      <td></td>\\n', '      <td>Gate Opening</td>\\n', '      <td>None</td>\\n', '      <td>NaN</td>\\n', '      <td>NaN</td>\\n', '      <td>...</td>\\n', '      <td>PMF with Multi 2D Areas</td>\\n', '      <td>5.00</td>\\n', '      <td>0</td>\\n', '      <td>NaN</td>\\n', '      <td>NaN</td>\\n', '      <td>NaN</td>\\n', '      <td>NaN</td>\\n', '      <td>NaN</td>\\n', '      <td>NaN</td>\\n', '      <td>NaN</td>\\n', '    </tr><tr>\\n', '      <th>2</th>\\n', '      <td>07</td>\\n', '      <td>3</td>\\n', '      <td>Bald Eagle Cr.</td>\\n', '      <td>Lock Haven</td>\\n', '      <td>28519</td>\\n', '      <td></td>\\n', '      <td>Lateral Inflow Hydrograph</td>\\n', '      <td>Lateral Inflow Hydrograph</td>\\n', '      <td>1HOUR</td>\\n', '      <td>Bald_Eagle_Creek.dss</td>\\n', '      <td>...</td>\\n', '      <td>PMF with Multi 2D Areas</td>\\n', '      <td>5.00</td>\\n', '      <td>0</td>\\n', '      <td>NaN</td>\\n', '      <td>NaN</td>\\n', '      <td>NaN</td>\\n', '      <td>NaN</td>\\n', '      <td>NaN</td>\\n', '      <td>NaN</td>\\n', '      <td>NaN</td>\\n', '    </tr><tr>\\n', '      <th>3</th>\\n', '      <td>07</td>\\n', '      <td>4</td>\\n', '      <td>Bald Eagle Cr.</td>\\n', '      <td>Lock Haven</td>\\n', '      <td>1</td>\\n', '      <td></td>\\n', '      <td>Lateral Inflow Hydrograph</td>\\n', '      <td>Lateral Inflow Hydrograph</td>\\n', '      <td>1HOUR</td>\\n', '      <td>NaN</td>\\n', '      <td>...</td>\\n', '      <td>PMF with Multi 2D Areas</td>\\n', '      <td>5.00</td>\\n', '      <td>0</td>\\n', '      <td>NaN</td>\\n', '      <td>NaN</td>\\n', '      <td>NaN</td>\\n', '      <td>NaN</td>\\n', '      <td>NaN</td>\\n', '      <td>NaN</td>\\n', '      <td>NaN</td>\\n', '    </tr><tr>\\n', '      <th>4</th>\\n', '      <td>07</td>\\n', '      <td>5</td>\\n', '      <td>Bald Eagle Cr.</td>\\n', '      <td>Lock Haven</td>\\n', '      <td>136948</td>\\n', '      <td>82303</td>\\n', '      <td>Uniform Lateral Inflow Hydrograph</td>\\n', '      <td>Uniform Lateral Inflow Hydrograph</td>\\n', '      <td>1HOUR</td>\\n', '      <td>Bald_Eagle_Creek.dss</td>\\n', '      <td>...</td>\\n', '      <td>PMF with Multi 2D Areas</td>\\n', '      <td>5.00</td>\\n', '      <td>0</td>\\n', '      <td>NaN</td>\\n', '      <td>NaN</td>\\n', '      <td>NaN</td>\\n', '      <td>NaN</td>\\n', '      <td>NaN</td>\\n', '      <td>NaN</td>\\n', '      <td>NaN</td>\\n', '    </tr>\n    <tr><td colspan=\"100%\" style=\"text-align:center\">[... additional rows truncated ...]</td></tr>\n  </tbody>\n</table>\n</div>",
            "text/plain": [
              "   unsteady_number  boundary_condition_number river_reach_name river_station  \\\n",
              "0               07                          1   Bald Eagle Cr.    Lock Haven   \n",
              "1               07                          2   Bald Eagle Cr.    Lock Haven   \n",
              "2               07                          3   Bald Eagle Cr.    Lock Haven   \n",
              "3               07                          4   Bald Eagle Cr.    Lock Haven   \n",
              "4               07                          5   Bald Eagle Cr.    Lock Haven   \n",
              "5               07                          6   Bald Eagle Cr.    Lock Haven   \n",
              "6               07                          7   Bald Eagle Cr.    Lock Haven   \n",
              "7               07                          8   Bald Eagle Cr.    Lock Haven   \n",
              "8               07                          9   Bald Eagle Cr.    Lock Haven   \n",
              "9               07                         10   Bald Eagle Cr.    Lock Haven   \n",
              "10              08                          1   Bald Eagle Cr.    Lock Haven   \n",
              "11              08                          2   Bald Eagle Cr.    Lock Haven   \n",
              "12              08                          3   Bald Eagle Cr.    Lock Haven   \n",
              "13              08                          4   Bald Eagle Cr.    Lock Haven   \n",
              "14              08                          5   Bald Eagle Cr.    Lock Haven   \n",
              "15              08                          6   Bald Eagle Cr.    Lock Haven   \n",
              "16              08                          7   Bald Eagle Cr.    Lock Haven   \n",
              "17              08                          8                                  \n",
              "18              08                          9   Bald Eagle Cr.    Lock Haven   \n",
              "19              09                          1   Bald Eagle Cr.    Lock Haven   \n",
              "20              09                          2   Bald Eagle Cr.    Lock Haven   \n",
              "21              09                          3                                  \n",
              "22              10                          1                                  \n",
              "23              10                          2                                  \n",
              "24              10                          3                                  \n",
              "25              10                          4                                  \n",
              "26              11                          1                                  \n",
              "27              11                          2                                  \n",
              "28              11                          3                                  \n",
              "29              11                          4                                  \n",
              "30              12                          1   Bald Eagle Cr.    Lock Haven   \n",
              "31              12                          2   Bald Eagle Cr.    Lock Haven   \n",
              "32              12                          3                                  \n",
              "33              12                          4                                  \n",
              "34              13                          1                                  \n",
              "35              13                          2                                  \n",
              "36              13                          3                                  \n",
              "37              13                          4                                  \n",
              "38              01                          1                                  \n",
              "39              01                          2                                  \n",
              "40              01                          3                                  \n",
              "41              01                          4                                  \n",
              "42              02                          1                                  \n",
              "43              02                          2                                  \n",
              "44              02                          3                                  \n",
              "45              02                          4                                  \n",
              "46              02                          5                                  \n",
              "47              03                          1                                  \n",
              "48              03                          2                                  \n",
              "49              03                          3                                  \n",
              "50              03                          4                                  \n",
              "\n",
              "   storage_area_name pump_station_name                            bc_type  \\\n",
              "0             137520                                      Flow Hydrograph   \n",
              "1              81454                                         Gate Opening   \n",
              "2              28519                            Lateral Inflow Hydrograph   \n",
              "3                  1                            Lateral Inflow Hydrograph   \n",
              "4             136948             82303  Uniform Lateral Inflow Hydrograph   \n",
              "5              80720             67130  Uniform Lateral Inflow Hydrograph   \n",
              "6              76865                            Lateral Inflow Hydrograph   \n",
              "7              67130                            Lateral Inflow Hydrograph   \n",
              "8              66041                 1  Uniform Lateral Inflow Hydrograph   \n",
              "9              -1867                                         Normal Depth   \n",
              "10             28519                            Lateral Inflow Hydrograph   \n",
              "11                 1                            Lateral Inflow Hydrograph   \n",
              "12             80720             67130  Uniform Lateral Inflow Hydrograph   \n",
              "13             76865                            Lateral Inflow Hydrograph   \n",
              "14             67130                            Lateral Inflow Hydrograph   \n",
              "15             66041                 1  Uniform Lateral Inflow Hydrograph   \n",
              "16             -1867                                         Normal Depth   \n",
              "17                                                        Flow Hydrograph   \n",
              "18             81454                                         Gate Opening   \n",
              "19             28519                            Lateral Inflow Hydrograph   \n",
              "20             -1867                                         Normal Depth   \n",
              "21                                                        Flow Hydrograph   \n",
              "22                                                           Normal Depth   \n",
              "23                                                           Normal Depth   \n",
              "24                                                           Gate Opening   \n",
              "25                                                        Flow Hydrograph   \n",
              "26                                                           Gate Opening   \n",
              "27                                              Lateral Inflow Hydrograph   \n",
              "28                                                           Normal Depth   \n",
              "29                                                           Normal Depth   \n",
              "30            137520                                      Flow Hydrograph   \n",
              "31             81454                                         Gate Opening   \n",
              "32                                                           Normal Depth   \n",
              "33                                                           Normal Depth   \n",
              "34                                                           Normal Depth   \n",
              "35                                                           Normal Depth   \n",
              "36                                                        Flow Hydrograph   \n",
              "37                                                           Gate Opening   \n",
              "38                                                           Gate Opening   \n",
              "39                                              Lateral Inflow Hydrograph   \n",
              "40                                                           Normal Depth   \n",
              "41                                                           Normal Depth   \n",
              "42                                                           Normal Depth   \n",
              "43                                                           Normal Depth   \n",
              "44                                                        Flow Hydrograph   \n",
              "45                                                           Gate Opening   \n",
              "46                                                           Normal Depth   \n",
              "47                                                           Normal Depth   \n",
              "48                                                        Flow Hydrograph   \n",
              "49                                                           Normal Depth   \n",
              "50                                                           Gate Opening   \n",
              "\n",
              "                      hydrograph_type Interval              DSS File  ...  \\\n",
              "0                     Flow Hydrograph    1HOUR  Bald_Eagle_Creek.dss  ...   \n",
              "1                                None      NaN                   NaN  ...   \n",
              "2           Lateral Inflow Hydrograph    1HOUR  Bald_Eagle_Creek.dss  ...   \n",
              "3           Lateral Inflow Hydrograph    1HOUR                   NaN  ...   \n",
              "4   Uniform Lateral Inflow Hydrograph    1HOUR  Bald_Eagle_Creek.dss  ...   \n",
              "5   Uniform Lateral Inflow Hydrograph    1HOUR  Bald_Eagle_Creek.dss  ...   \n",
              "6           Lateral Inflow Hydrograph    1HOUR  Bald_Eagle_Creek.dss  ...   \n",
              "7           Lateral Inflow Hydrograph    1HOUR  Bald_Eagle_Creek.dss  ...   \n",
              "8   Uniform Lateral Inflow Hydrograph    1HOUR  Bald_Eagle_Creek.dss  ...   \n",
              "9                                None      NaN                   NaN  ...   \n",
              "10          Lateral Inflow Hydrograph    1HOUR  Bald_Eagle_Creek.dss  ...   \n",
              "11          Lateral Inflow Hydrograph    1HOUR                   NaN  ...   \n",
              "12  Uniform Lateral Inflow Hydrograph    1HOUR  Bald_Eagle_Creek.dss  ...   \n",
              "13          Lateral Inflow Hydrograph    1HOUR  Bald_Eagle_Creek.dss  ...   \n",
              "14          Lateral Inflow Hydrograph    1HOUR  Bald_Eagle_Creek.dss  ...   \n",
              "15  Uniform Lateral Inflow Hydrograph    1HOUR  Bald_Eagle_Creek.dss  ...   \n",
              "16                               None      NaN                   NaN  ...   \n",
              "17                    Flow Hydrograph    1HOUR                   NaN  ...   \n",
              "18                               None      NaN                   NaN  ...   \n",
              "19          Lateral Inflow Hydrograph    1HOUR  Bald_Eagle_Creek.dss  ...   \n",
              "20                               None      NaN                   NaN  ...   \n",
              "21                    Flow Hydrograph    1HOUR                   NaN  ...   \n",
              "22                               None      NaN                   NaN  ...   \n",
              "23                               None      NaN                   NaN  ...   \n",
              "24                               None      NaN                   NaN  ...   \n",
              "25                    Flow Hydrograph    1HOUR                   NaN  ...   \n",
              "26                               None      NaN                   NaN  ...   \n",
              "27          Lateral Inflow Hydrograph    1HOUR                   NaN  ...   \n",
              "28                               None      NaN                   NaN  ...   \n",
              "29                               None      NaN                   NaN  ...   \n",
              "30                    Flow Hydrograph    15MIN  Bald_Eagle_Creek.dss  ...   \n",
              "31                               None      NaN                   NaN  ...   \n",
              "32                               None      NaN                   NaN  ...   \n",
              "33                               None      NaN                   NaN  ...   \n",
              "34                               None      NaN                   NaN  ...   \n",
              "35                               None      NaN                   NaN  ...   \n",
              "36                    Flow Hydrograph    1HOUR                   NaN  ...   \n",
              "37                               None      NaN                   NaN  ...   \n",
              "38                               None      NaN                   NaN  ...   \n",
              "39          Lateral Inflow Hydrograph    1HOUR                   NaN  ...   \n",
              "40                               None      NaN                   NaN  ...   \n",
              "41                               None      NaN                   NaN  ...   \n",
              "42                               None      NaN                   NaN  ...   \n",
              "43                               None      NaN                   NaN  ...   \n",
              "44                    Flow Hydrograph    1HOUR                   NaN  ...   \n",
              "45                               None      NaN                   NaN  ...   \n",
              "46                               None      NaN                   NaN  ...   \n",
              "47                               None      NaN                   NaN  ...   \n",
              "48                    Flow Hydrograph    1HOUR                   NaN  ...   \n",
              "49                               None      NaN                   NaN  ...   \n",
              "50                               None      NaN                   NaN  ...   \n",
              "\n",
              "                              Flow Title Program Version Use Restart  \\\n",
              "0                PMF with Multi 2D Areas            5.00           0   \n",
              "1                PMF with Multi 2D Areas            5.00           0   \n",
              "2                PMF with Multi 2D Areas            5.00           0   \n",
              "3                PMF with Multi 2D Areas            5.00           0   \n",
              "4                PMF with Multi 2D Areas            5.00           0   \n",
              "5                PMF with Multi 2D Areas            5.00           0   \n",
              "6                PMF with Multi 2D Areas            5.00           0   \n",
              "7                PMF with Multi 2D Areas            5.00           0   \n",
              "8                PMF with Multi 2D Areas            5.00           0   \n",
              "9                PMF with Multi 2D Areas            5.00           0   \n",
              "10                   PMF for Upstream 2D            4.20           0   \n",
              "11                   PMF for Upstream 2D            4.20           0   \n",
              "12                   PMF for Upstream 2D            4.20           0   \n",
              "13                   PMF for Upstream 2D            4.20           0   \n",
              "14                   PMF for Upstream 2D            4.20           0   \n",
              "15                   PMF for Upstream 2D            4.20           0   \n",
              "16                   PMF for Upstream 2D            4.20           0   \n",
              "17                   PMF for Upstream 2D            4.20           0   \n",
              "18                   PMF for Upstream 2D            4.20           0   \n",
              "19                           Upstream 2D            5.00           0   \n",
              "20                           Upstream 2D            5.00           0   \n",
              "21                           Upstream 2D            5.00           0   \n",
              "22       1972 Flood Event - 2D to 2D Run            5.00           0   \n",
              "23       1972 Flood Event - 2D to 2D Run            5.00           0   \n",
              "24       1972 Flood Event - 2D to 2D Run            5.00           0   \n",
              "25       1972 Flood Event - 2D to 2D Run            5.00           0   \n",
              "26       1972 Flood Event - SA to 2D Run            5.00           0   \n",
              "27       1972 Flood Event - SA to 2D Run            5.00           0   \n",
              "28       1972 Flood Event - SA to 2D Run            5.00           0   \n",
              "29       1972 Flood Event - SA to 2D Run            5.00           0   \n",
              "30                       PMF for 1D - 2D            5.00           0   \n",
              "31                       PMF for 1D - 2D            5.00           0   \n",
              "32                       PMF for 1D - 2D            5.00           0   \n",
              "33                       PMF for 1D - 2D            5.00           0   \n",
              "34                        Single 2D Area            5.00           0   \n",
              "35                        Single 2D Area            5.00           0   \n",
              "36                        Single 2D Area            5.00           0   \n",
              "37                        Single 2D Area            5.00           0   \n",
              "38  1972 Flood Event - 2D Leve Structure            5.10           0   \n",
              "39  1972 Flood Event - 2D Leve Structure            5.10           0   \n",
              "40  1972 Flood Event - 2D Leve Structure            5.10           0   \n",
              "41  1972 Flood Event - 2D Leve Structure            5.10           0   \n",
              "42           Single 2D Area with Bridges            5.10           0   \n",
              "43           Single 2D Area with Bridges            5.10           0   \n",
              "44           Single 2D Area with Bridges            5.10           0   \n",
              "45           Single 2D Area with Bridges            5.10           0   \n",
              "46           Single 2D Area with Bridges            5.10           0   \n",
              "47                 Gridded Precipitation            6.00           0   \n",
              "48                 Gridded Precipitation            6.00           0   \n",
              "49                 Gridded Precipitation            6.00           0   \n",
              "50                 Gridded Precipitation            6.00           0   \n",
              "\n",
              "   Precipitation Mode       Wind Mode Met BC=Precipitation|Mode  \\\n",
              "0                 NaN             NaN                       NaN   \n",
              "1                 NaN             NaN                       NaN   \n",
              "2                 NaN             NaN                       NaN   \n",
              "3                 NaN             NaN                       NaN   \n",
              "4                 NaN             NaN                       NaN   \n",
              "5                 NaN             NaN                       NaN   \n",
              "6                 NaN             NaN                       NaN   \n",
              "7                 NaN             NaN                       NaN   \n",
              "8                 NaN             NaN                       NaN   \n",
              "9                 NaN             NaN                       NaN   \n",
              "10                NaN             NaN                       NaN   \n",
              "11                NaN             NaN                       NaN   \n",
              "12                NaN             NaN                       NaN   \n",
              "13                NaN             NaN                       NaN   \n",
              "14                NaN             NaN                       NaN   \n",
              "15                NaN             NaN                       NaN   \n",
              "16                NaN             NaN                       NaN   \n",
              "17                NaN             NaN                       NaN   \n",
              "18                NaN             NaN                       NaN   \n",
              "19                NaN             NaN                       NaN   \n",
              "20                NaN             NaN                       NaN   \n",
              "21                NaN             NaN                       NaN   \n",
              "22                NaN             NaN                       NaN   \n",
              "23                NaN             NaN                       NaN   \n",
              "24                NaN             NaN                       NaN   \n",
              "25                NaN             NaN                       NaN   \n",
              "26                NaN             NaN                       NaN   \n",
              "27                NaN             NaN                       NaN   \n",
              "28                NaN             NaN                       NaN   \n",
              "29                NaN             NaN                       NaN   \n",
              "30                NaN             NaN                       NaN   \n",
              "31                NaN             NaN                       NaN   \n",
              "32                NaN             NaN                       NaN   \n",
              "33                NaN             NaN                       NaN   \n",
              "34                NaN             NaN                       NaN   \n",
              "35                NaN             NaN                       NaN   \n",
              "36                NaN             NaN                       NaN   \n",
              "37                NaN             NaN                       NaN   \n",
              "38                NaN             NaN                       NaN   \n",
              "39                NaN             NaN                       NaN   \n",
              "40                NaN             NaN                       NaN   \n",
              "41                NaN             NaN                       NaN   \n",
              "42                NaN             NaN                       NaN   \n",
              "43                NaN             NaN                       NaN   \n",
              "44                NaN             NaN                       NaN   \n",
              "45                NaN             NaN                       NaN   \n",
              "46                NaN             NaN                       NaN   \n",
              "47             Enable  No Wind Forces                   Gridded   \n",
              "48             Enable  No Wind Forces                   Gridded   \n",
              "49             Enable  No Wind Forces                   Gridded   \n",
              "50             Enable  No Wind Forces                   Gridded   \n",
              "\n",
              "    Met BC=Evapotranspiration|Mode Met BC=Precipitation|Expanded View  \\\n",
              "0                              NaN                                NaN   \n",
              "1                              NaN                                NaN   \n",
              "2                              NaN                                NaN   \n",
              "3                              NaN                                NaN   \n",
              "4                              NaN                                NaN   \n",
              "5                              NaN                                NaN   \n",
              "6                              NaN                                NaN   \n",
              "7                              NaN                                NaN   \n",
              "8                              NaN                                NaN   \n",
              "9                              NaN                                NaN   \n",
              "10                             NaN                                NaN   \n",
              "11                             NaN                                NaN   \n",
              "12                             NaN                                NaN   \n",
              "13                             NaN                                NaN   \n",
              "14                             NaN                                NaN   \n",
              "15                             NaN                                NaN   \n",
              "16                             NaN                                NaN   \n",
              "17                             NaN                                NaN   \n",
              "18                             NaN                                NaN   \n",
              "19                             NaN                                NaN   \n",
              "20                             NaN                                NaN   \n",
              "21                             NaN                                NaN   \n",
              "22                             NaN                                NaN   \n",
              "23                             NaN                                NaN   \n",
              "24                             NaN                                NaN   \n",
              "25                             NaN                                NaN   \n",
              "26                             NaN                                NaN   \n",
              "27                             NaN                                NaN   \n",
              "28                             NaN                                NaN   \n",
              "29                             NaN                                NaN   \n",
              "30                             NaN                                NaN   \n",
              "31                             NaN                                NaN   \n",
              "32                             NaN                                NaN   \n",
              "33                             NaN                                NaN   \n",
              "34                             NaN                                NaN   \n",
              "35                             NaN                                NaN   \n",
              "36                             NaN                                NaN   \n",
              "37                             NaN                                NaN   \n",
              "38                             NaN                                NaN   \n",
              "39                             NaN                                NaN   \n",
              "40                             NaN                                NaN   \n",
              "41                             NaN                                NaN   \n",
              "42                             NaN                                NaN   \n",
              "43                             NaN                                NaN   \n",
              "44                             NaN                                NaN   \n",
              "45                             NaN                                NaN   \n",
              "46                             NaN                                NaN   \n",
              "47                            None                                 -1   \n",
              "48                            None                                 -1   \n",
              "49                            None                                 -1   \n",
              "50                            None                                 -1   \n",
              "\n",
              "   Met BC=Precipitation|Constant Units Met BC=Precipitation|Gridded Source  \n",
              "0                                  NaN                                 NaN  \n",
              "1                                  NaN                                 NaN  \n",
              "2                                  NaN                                 NaN  \n",
              "3                                  NaN                                 NaN  \n",
              "4                                  NaN                                 NaN  \n",
              "5                                  NaN                                 NaN  \n",
              "6                                  NaN                                 NaN  \n",
              "7                                  NaN                                 NaN  \n",
              "8                                  NaN                                 NaN  \n",
              "9                                  NaN                                 NaN  \n",
              "10                                 NaN                                 NaN  \n",
              "11                                 NaN                                 NaN  \n",
              "12                                 NaN                                 NaN  \n",
              "13                                 NaN                                 NaN  \n",
              "14                                 NaN                                 NaN  \n",
              "15                                 NaN                                 NaN  \n",
              "16                                 NaN                                 NaN  \n",
              "17                                 NaN                                 NaN  \n",
              "18                                 NaN                                 NaN  \n",
              "19                                 NaN                                 NaN  \n",
              "20                                 NaN                                 NaN  \n",
              "21                                 NaN                                 NaN  \n",
              "22                                 NaN                                 NaN  \n",
              "23                                 NaN                                 NaN  \n",
              "24                                 NaN                                 NaN  \n",
              "25                                 NaN                                 NaN  \n",
              "26                                 NaN                                 NaN  \n",
              "27                                 NaN                                 NaN  \n",
              "28                                 NaN                                 NaN  \n",
              "29                                 NaN                                 NaN  \n",
              "30                                 NaN                                 NaN  \n",
              "31                                 NaN                                 NaN  \n",
              "32                                 NaN                                 NaN  \n",
              "33                                 NaN                                 NaN  \n",
              "34                                 NaN                                 NaN  \n",
              "35                                 NaN                                 NaN  \n",
              "36                                 NaN                                 NaN  \n",
              "37                                 NaN                                 NaN  \n",
              "38                                 NaN                                 NaN  \n",
              "39                                 NaN                                 NaN  \n",
              "40                                 NaN                                 NaN  \n",
              "41                                 NaN                                 NaN  \n",
              "42                                 NaN                                 NaN  \n",
              "43                                 NaN                                 NaN  \n",
              "44                                 NaN                                 NaN  \n",
              "45                                 NaN                                 NaN  \n",
              "46                                 NaN                                 NaN  \n",
              "47                               mm/hr                                 DSS  \n",
              "48                               mm/hr                                 DSS  \n",
              "49                               mm/hr                                 DSS  \n",
              "50                               mm/hr                                 DSS  \n",
              "\n",
              "[51 rows x 30 columns]"
            ]
          },
          "metadata": {},
          "output_type": "display_data"
        }
      ],
      "source": [
        "# Examine the Multi2D project\n",
        "print_ras_object_data(multi_2d_project, \"Multi2D Project\")"
      ]
    },
    {
      "cell_type": "code",
      "execution_count": 13,
      "metadata": {},
      "outputs": [
        {
          "name": "stdout",
          "output_type": "stream",
          "text": [
            "\n",
            "Muncie Project Data:\n",
            "==================================================\n",
            "Project Name: Muncie\n",
            "Project Folder: d:\\GitHub\\ras-commander\\examples\\example_projects\\Muncie\n",
            "PRJ File: D:\\GitHub\\ras-commander\\examples\\example_projects\\Muncie\\Muncie.prj\n",
            "HEC-RAS Executable Path: C:\\Program Files (x86)\\HEC\\HEC-RAS\\6.5\\Ras.exe\n",
            "\n",
            "Plan Files DataFrame (ras.plan_df):\n"
          ]
        },
        {
          "data": {
            "text/html": "<div>\n<style scoped>\\n', '    .dataframe tbody tr th:only-of-type {\\n', '        vertical-align: middle;\\n', '    }\\n', '\\n', '    .dataframe tbody tr th {\\n', '        vertical-align: top;\\n', '    }\\n', '\\n', '    .dataframe thead th {\\n', '        text-align: right;\\n', '    }\\n', '</style>\n<table border=\"1\" class=\"dataframe\">\n  <thead>\\n', '    <tr style=\"text-align: right;\">\\n', '      <th></th>\\n', '      <th>plan_number</th>\\n', '      <th>unsteady_number</th>\\n', '      <th>geometry_number</th>\\n', '      <th>Plan Title</th>\\n', '      <th>Program Version</th>\\n', '      <th>Short Identifier</th>\\n', '      <th>Simulation Date</th>\\n', '      <th>Computation Interval</th>\\n', '      <th>Mapping Interval</th>\\n', '      <th>Run HTab</th>\\n', '      <th>Run UNet</th>\\n', '      <th>Run Sediment</th>\\n', '      <th>Run PostProcess</th>\\n', '      <th>Run WQNet</th>\\n', '      <th>UNET Use Existing IB Tables</th>\\n', '      <th>UNET 1D Methodology</th>\\n', '      <th>UNET D1 Cores</th>\\n', '      <th>UNET D2 Cores</th>\\n', '      <th>PS Cores</th>\\n', '      <th>DSS File</th>\\n', '      <th>Friction Slope Method</th>\\n', '      <th>UNET D2 SolverType</th>\\n', '      <th>UNET D2 Name</th>\\n', '      <th>HDF_Results_Path</th>\\n', '      <th>Geom File</th>\\n', '      <th>Geom Path</th>\\n', '      <th>Flow File</th>\\n', '      <th>Flow Path</th>\\n', '      <th>full_path</th>\\n', '    </tr>\\n', '  </thead>\n  <tbody>\n    <tr>\\n', '      <th>0</th>\\n', '      <td>01</td>\\n', '      <td>01</td>\\n', '      <td>01</td>\\n', '      <td>Unsteady Multi  9-SA run</td>\\n', '      <td>5.00</td>\\n', '      <td>9-SAs</td>\\n', '      <td>02JAN1900,0000,02JAN1900,2400</td>\\n', '      <td>15SEC</td>\\n', '      <td>5MIN</td>\\n', '      <td>1</td>\\n', '      <td>1</td>\\n', '      <td>0</td>\\n', '      <td>1</td>\\n', '      <td>0</td>\\n', '      <td>-1</td>\\n', '      <td>NaN</td>\\n', '      <td>0</td>\\n', '      <td>0</td>\\n', '      <td>None</td>\\n', '      <td>dss</td>\\n', '      <td>1</td>\\n', '      <td>NaN</td>\\n', '      <td>NaN</td>\\n', '      <td>None</td>\\n', '      <td>01</td>\\n', '      <td>d:\\\\GitHub\\\\ras-commander\\\\examples\\\\example_proje...</td>\\n', '      <td>01</td>\\n', '      <td>d:\\\\GitHub\\\\ras-commander\\\\examples\\\\example_proje...</td>\\n', '      <td>d:\\\\GitHub\\\\ras-commander\\\\examples\\\\example_proje...</td>\\n', '    </tr><tr>\\n', '      <th>1</th>\\n', '      <td>03</td>\\n', '      <td>01</td>\\n', '      <td>02</td>\\n', '      <td>Unsteady Run with 2D 50ft Grid</td>\\n', '      <td>5.10</td>\\n', '      <td>2D 50ft Grid</td>\\n', '      <td>02JAN1900,0000,02JAN1900,2400</td>\\n', '      <td>10SEC</td>\\n', '      <td>5MIN</td>\\n', '      <td>-1</td>\\n', '      <td>-1</td>\\n', '      <td>0</td>\\n', '      <td>-1</td>\\n', '      <td>0</td>\\n', '      <td>-1</td>\\n', '      <td>Finite Difference</td>\\n', '      <td>0</td>\\n', '      <td>4</td>\\n', '      <td>None</td>\\n', '      <td>dss</td>\\n', '      <td>1</td>\\n', '      <td>Pardiso (Direct)</td>\\n', '      <td>2D Interior Area</td>\\n', '      <td>None</td>\\n', '      <td>02</td>\\n', '      <td>d:\\\\GitHub\\\\ras-commander\\\\examples\\\\example_proje...</td>\\n', '      <td>01</td>\\n', '      <td>d:\\\\GitHub\\\\ras-commander\\\\examples\\\\example_proje...</td>\\n', '      <td>d:\\\\GitHub\\\\ras-commander\\\\examples\\\\example_proje...</td>\\n', '    </tr><tr>\\n', '      <th>2</th>\\n', '      <td>04</td>\\n', '      <td>01</td>\\n', '      <td>04</td>\\n', '      <td>Unsteady Run with 2D 50ft User n Value R</td>\\n', '      <td>5.10</td>\\n', '      <td>50ft User n Regions</td>\\n', '      <td>02JAN1900,0000,02JAN1900,2400</td>\\n', '      <td>10SEC</td>\\n', '      <td>5MIN</td>\\n', '      <td>1</td>\\n', '      <td>1</td>\\n', '      <td>0</td>\\n', '      <td>1</td>\\n', '      <td>0</td>\\n', '      <td>-1</td>\\n', '      <td>Finite Difference</td>\\n', '      <td>0</td>\\n', '      <td>6</td>\\n', '      <td>None</td>\\n', '      <td>dss</td>\\n', '      <td>1</td>\\n', '      <td>Pardiso (Direct)</td>\\n', '      <td>2D Interior Area</td>\\n', '      <td>None</td>\\n', '      <td>04</td>\\n', '      <td>d:\\\\GitHub\\\\ras-commander\\\\examples\\\\example_proje...</td>\\n', '      <td>01</td>\\n', '      <td>d:\\\\GitHub\\\\ras-commander\\\\examples\\\\example_proje...</td>\\n', '      <td>d:\\\\GitHub\\\\ras-commander\\\\examples\\\\example_proje...</td>\\n', '    </tr>\n    <tr><td colspan=\"100%\" style=\"text-align:center\">[... additional rows truncated ...]</td></tr>\n  </tbody>\n</table>\n</div>",
            "text/plain": [
              "  plan_number unsteady_number geometry_number  \\\n",
              "0          01              01              01   \n",
              "1          03              01              02   \n",
              "2          04              01              04   \n",
              "\n",
              "                                 Plan Title Program Version  \\\n",
              "0                  Unsteady Multi  9-SA run            5.00   \n",
              "1            Unsteady Run with 2D 50ft Grid            5.10   \n",
              "2  Unsteady Run with 2D 50ft User n Value R            5.10   \n",
              "\n",
              "      Short Identifier                Simulation Date Computation Interval  \\\n",
              "0                9-SAs  02JAN1900,0000,02JAN1900,2400                15SEC   \n",
              "1         2D 50ft Grid  02JAN1900,0000,02JAN1900,2400                10SEC   \n",
              "2  50ft User n Regions  02JAN1900,0000,02JAN1900,2400                10SEC   \n",
              "\n",
              "  Mapping Interval Run HTab Run UNet Run Sediment Run PostProcess Run WQNet  \\\n",
              "0             5MIN        1        1            0               1         0   \n",
              "1             5MIN       -1       -1            0              -1         0   \n",
              "2             5MIN        1        1            0               1         0   \n",
              "\n",
              "  UNET Use Existing IB Tables UNET 1D Methodology  UNET D1 Cores  \\\n",
              "0                          -1                 NaN              0   \n",
              "1                          -1   Finite Difference              0   \n",
              "2                          -1   Finite Difference              0   \n",
              "\n",
              "   UNET D2 Cores PS Cores DSS File Friction Slope Method UNET D2 SolverType  \\\n",
              "0              0     None      dss                     1                NaN   \n",
              "1              4     None      dss                     1   Pardiso (Direct)   \n",
              "2              6     None      dss                     1   Pardiso (Direct)   \n",
              "\n",
              "       UNET D2 Name HDF_Results_Path Geom File  \\\n",
              "0               NaN             None        01   \n",
              "1  2D Interior Area             None        02   \n",
              "2  2D Interior Area             None        04   \n",
              "\n",
              "                                           Geom Path Flow File  \\\n",
              "0  d:\\GitHub\\ras-commander\\examples\\example_proje...        01   \n",
              "1  d:\\GitHub\\ras-commander\\examples\\example_proje...        01   \n",
              "2  d:\\GitHub\\ras-commander\\examples\\example_proje...        01   \n",
              "\n",
              "                                           Flow Path  \\\n",
              "0  d:\\GitHub\\ras-commander\\examples\\example_proje...   \n",
              "1  d:\\GitHub\\ras-commander\\examples\\example_proje...   \n",
              "2  d:\\GitHub\\ras-commander\\examples\\example_proje...   \n",
              "\n",
              "                                           full_path  \n",
              "0  d:\\GitHub\\ras-commander\\examples\\example_proje...  \n",
              "1  d:\\GitHub\\ras-commander\\examples\\example_proje...  \n",
              "2  d:\\GitHub\\ras-commander\\examples\\example_proje...  "
            ]
          },
          "metadata": {},
          "output_type": "display_data"
        },
        {
          "name": "stdout",
          "output_type": "stream",
          "text": [
            "\n",
            "Flow Files DataFrame:\n"
          ]
        },
        {
          "data": {
            "text/html": "<div>\n<style scoped>\\n', '    .dataframe tbody tr th:only-of-type {\\n', '        vertical-align: middle;\\n', '    }\\n', '\\n', '    .dataframe tbody tr th {\\n', '        vertical-align: top;\\n', '    }\\n', '\\n', '    .dataframe thead th {\\n', '        text-align: right;\\n', '    }\\n', '</style>\n<table border=\"1\" class=\"dataframe\">\n  <thead>\\n', '    <tr style=\"text-align: right;\">\\n', '      <th></th>\\n', '      <th>flow_number</th>\\n', '      <th>full_path</th>\\n', '      <th>unsteady_number</th>\\n', '      <th>geometry_number</th>\\n', '    </tr>\\n', '  </thead>\n  <tbody>\n    <tr>\\n', '      <th>0</th>\\n', '      <td>01</td>\\n', '      <td>d:\\\\GitHub\\\\ras-commander\\\\examples\\\\example_proje...</td>\\n', '      <td>None</td>\\n', '      <td>None</td>\\n', '    </tr>\n    <tr><td colspan=\"100%\" style=\"text-align:center\">[... additional rows truncated ...]</td></tr>\n  </tbody>\n</table>\n</div>",
            "text/plain": [
              "  flow_number                                          full_path  \\\n",
              "0          01  d:\\GitHub\\ras-commander\\examples\\example_proje...   \n",
              "\n",
              "  unsteady_number geometry_number  \n",
              "0            None            None  "
            ]
          },
          "metadata": {},
          "output_type": "display_data"
        },
        {
          "name": "stdout",
          "output_type": "stream",
          "text": [
            "\n",
            "Unsteady Flow Files DataFrame (ras.unsteady_df):\n"
          ]
        },
        {
          "data": {
            "text/html": "<div>\n<style scoped>\\n', '    .dataframe tbody tr th:only-of-type {\\n', '        vertical-align: middle;\\n', '    }\\n', '\\n', '    .dataframe tbody tr th {\\n', '        vertical-align: top;\\n', '    }\\n', '\\n', '    .dataframe thead th {\\n', '        text-align: right;\\n', '    }\\n', '</style>\n<table border=\"1\" class=\"dataframe\">\n  <thead>\\n', '    <tr style=\"text-align: right;\">\\n', '      <th></th>\\n', '      <th>unsteady_number</th>\\n', '      <th>full_path</th>\\n', '      <th>geometry_number</th>\\n', '      <th>Flow Title</th>\\n', '      <th>Program Version</th>\\n', '      <th>Use Restart</th>\\n', '      <th>Precipitation Mode</th>\\n', '      <th>Wind Mode</th>\\n', '      <th>Met BC=Precipitation|Expanded View</th>\\n', '      <th>Met BC=Precipitation|Gridded Source</th>\\n', '    </tr>\\n', '  </thead>\n  <tbody>\n    <tr>\\n', '      <th>0</th>\\n', '      <td>01</td>\\n', '      <td>d:\\\\GitHub\\\\ras-commander\\\\examples\\\\example_proje...</td>\\n', '      <td>None</td>\\n', '      <td>Flow Boundary Conditions</td>\\n', '      <td>6.30</td>\\n', '      <td>0</td>\\n', '      <td>Disable</td>\\n', '      <td>No Wind Forces</td>\\n', '      <td>0</td>\\n', '      <td>DSS</td>\\n', '    </tr>\n    <tr><td colspan=\"100%\" style=\"text-align:center\">[... additional rows truncated ...]</td></tr>\n  </tbody>\n</table>\n</div>",
            "text/plain": [
              "  unsteady_number                                          full_path  \\\n",
              "0              01  d:\\GitHub\\ras-commander\\examples\\example_proje...   \n",
              "\n",
              "  geometry_number                Flow Title Program Version Use Restart  \\\n",
              "0            None  Flow Boundary Conditions            6.30           0   \n",
              "\n",
              "  Precipitation Mode       Wind Mode Met BC=Precipitation|Expanded View  \\\n",
              "0            Disable  No Wind Forces                                  0   \n",
              "\n",
              "  Met BC=Precipitation|Gridded Source  \n",
              "0                                 DSS  "
            ]
          },
          "metadata": {},
          "output_type": "display_data"
        },
        {
          "name": "stdout",
          "output_type": "stream",
          "text": [
            "\n",
            "Geometry Files DataFrame (ras.geom_df):\n"
          ]
        },
        {
          "data": {
            "text/html": "<div>\n<style scoped>\\n', '    .dataframe tbody tr th:only-of-type {\\n', '        vertical-align: middle;\\n', '    }\\n', '\\n', '    .dataframe tbody tr th {\\n', '        vertical-align: top;\\n', '    }\\n', '\\n', '    .dataframe thead th {\\n', '        text-align: right;\\n', '    }\\n', '</style>\n<table border=\"1\" class=\"dataframe\">\n  <thead>\\n', '    <tr style=\"text-align: right;\">\\n', '      <th></th>\\n', '      <th>geom_file</th>\\n', '      <th>geom_number</th>\\n', '      <th>full_path</th>\\n', '      <th>hdf_path</th>\\n', '    </tr>\\n', '  </thead>\n  <tbody>\n    <tr>\\n', '      <th>0</th>\\n', '      <td>g01</td>\\n', '      <td>01</td>\\n', '      <td>d:\\\\GitHub\\\\ras-commander\\\\examples\\\\example_proje...</td>\\n', '      <td>d:\\\\GitHub\\\\ras-commander\\\\examples\\\\example_proje...</td>\\n', '    </tr><tr>\\n', '      <th>1</th>\\n', '      <td>g02</td>\\n', '      <td>02</td>\\n', '      <td>d:\\\\GitHub\\\\ras-commander\\\\examples\\\\example_proje...</td>\\n', '      <td>d:\\\\GitHub\\\\ras-commander\\\\examples\\\\example_proje...</td>\\n', '    </tr><tr>\\n', '      <th>2</th>\\n', '      <td>g04</td>\\n', '      <td>04</td>\\n', '      <td>d:\\\\GitHub\\\\ras-commander\\\\examples\\\\example_proje...</td>\\n', '      <td>d:\\\\GitHub\\\\ras-commander\\\\examples\\\\example_proje...</td>\\n', '    </tr>\n    <tr><td colspan=\"100%\" style=\"text-align:center\">[... additional rows truncated ...]</td></tr>\n  </tbody>\n</table>\n</div>",
            "text/plain": [
              "  geom_file geom_number                                          full_path  \\\n",
              "0       g01          01  d:\\GitHub\\ras-commander\\examples\\example_proje...   \n",
              "1       g02          02  d:\\GitHub\\ras-commander\\examples\\example_proje...   \n",
              "2       g04          04  d:\\GitHub\\ras-commander\\examples\\example_proje...   \n",
              "\n",
              "                                            hdf_path  \n",
              "0  d:\\GitHub\\ras-commander\\examples\\example_proje...  \n",
              "1  d:\\GitHub\\ras-commander\\examples\\example_proje...  \n",
              "2  d:\\GitHub\\ras-commander\\examples\\example_proje...  "
            ]
          },
          "metadata": {},
          "output_type": "display_data"
        },
        {
          "name": "stdout",
          "output_type": "stream",
          "text": [
            "\n",
            "HDF Entries DataFrame (ras.get_hdf_entries()):\n"
          ]
        },
        {
          "data": {
            "text/html": "<div>\n<style scoped>\\n', '    .dataframe tbody tr th:only-of-type {\\n', '        vertical-align: middle;\\n', '    }\\n', '\\n', '    .dataframe tbody tr th {\\n', '        vertical-align: top;\\n', '    }\\n', '\\n', '    .dataframe thead th {\\n', '        text-align: right;\\n', '    }\\n', '</style>\n<table border=\"1\" class=\"dataframe\">\n  <thead>\\n', '    <tr style=\"text-align: right;\">\\n', '      <th></th>\\n', '      <th>plan_number</th>\\n', '      <th>unsteady_number</th>\\n', '      <th>geometry_number</th>\\n', '      <th>Plan Title</th>\\n', '      <th>Program Version</th>\\n', '      <th>Short Identifier</th>\\n', '      <th>Simulation Date</th>\\n', '      <th>Computation Interval</th>\\n', '      <th>Mapping Interval</th>\\n', '      <th>Run HTab</th>\\n', '      <th>...</th>\\n', '      <th>DSS File</th>\\n', '      <th>Friction Slope Method</th>\\n', '      <th>UNET D2 SolverType</th>\\n', '      <th>UNET D2 Name</th>\\n', '      <th>HDF_Results_Path</th>\\n', '      <th>Geom File</th>\\n', '      <th>Geom Path</th>\\n', '      <th>Flow File</th>\\n', '      <th>Flow Path</th>\\n', '      <th>full_path</th>\\n', '    </tr>\\n', '  </thead>\n  <tbody>\n    \n    <tr><td colspan=\"100%\" style=\"text-align:center\">[... additional rows truncated ...]</td></tr>\n  </tbody>\n</table>\n</div>",
            "text/plain": [
              "Empty DataFrame\n",
              "Columns: [plan_number, unsteady_number, geometry_number, Plan Title, Program Version, Short Identifier, Simulation Date, Computation Interval, Mapping Interval, Run HTab, Run UNet, Run Sediment, Run PostProcess, Run WQNet, UNET Use Existing IB Tables, UNET 1D Methodology, UNET D1 Cores, UNET D2 Cores, PS Cores, DSS File, Friction Slope Method, UNET D2 SolverType, UNET D2 Name, HDF_Results_Path, Geom File, Geom Path, Flow File, Flow Path, full_path]\n",
              "Index: []\n",
              "\n",
              "[0 rows x 29 columns]"
            ]
          },
          "metadata": {},
          "output_type": "display_data"
        },
        {
          "name": "stdout",
          "output_type": "stream",
          "text": [
            "\n",
            "Boundary Conditions DataFrame (ras.boundaries_df):\n"
          ]
        },
        {
          "data": {
            "text/html": "<div>\n<style scoped>\\n', '    .dataframe tbody tr th:only-of-type {\\n', '        vertical-align: middle;\\n', '    }\\n', '\\n', '    .dataframe tbody tr th {\\n', '        vertical-align: top;\\n', '    }\\n', '\\n', '    .dataframe thead th {\\n', '        text-align: right;\\n', '    }\\n', '</style>\n<table border=\"1\" class=\"dataframe\">\n  <thead>\\n', '    <tr style=\"text-align: right;\">\\n', '      <th></th>\\n', '      <th>unsteady_number</th>\\n', '      <th>boundary_condition_number</th>\\n', '      <th>river_reach_name</th>\\n', '      <th>river_station</th>\\n', '      <th>storage_area_name</th>\\n', '      <th>pump_station_name</th>\\n', '      <th>bc_type</th>\\n', '      <th>hydrograph_type</th>\\n', '      <th>Interval</th>\\n', '      <th>DSS Path</th>\\n', '      <th>...</th>\\n', '      <th>hydrograph_values</th>\\n', '      <th>full_path</th>\\n', '      <th>geometry_number</th>\\n', '      <th>Flow Title</th>\\n', '      <th>Program Version</th>\\n', '      <th>Use Restart</th>\\n', '      <th>Precipitation Mode</th>\\n', '      <th>Wind Mode</th>\\n', '      <th>Met BC=Precipitation|Expanded View</th>\\n', '      <th>Met BC=Precipitation|Gridded Source</th>\\n', '    </tr>\\n', '  </thead>\n  <tbody>\n    <tr>\\n', '      <th>0</th>\\n', '      <td>01</td>\\n', '      <td>1</td>\\n', '      <td>White</td>\\n', '      <td>Muncie</td>\\n', '      <td>15696.24</td>\\n', '      <td></td>\\n', '      <td>Flow Hydrograph</td>\\n', '      <td>Flow Hydrograph</td>\\n', '      <td>1HOUR</td>\\n', '      <td></td>\\n', '      <td>...</td>\\n', '      <td>[13500, 14000, 14500, 15000, 15500, 16000, 165...</td>\\n', '      <td>d:\\\\GitHub\\\\ras-commander\\\\examples\\\\example_proje...</td>\\n', '      <td>None</td>\\n', '      <td>Flow Boundary Conditions</td>\\n', '      <td>6.30</td>\\n', '      <td>0</td>\\n', '      <td>Disable</td>\\n', '      <td>No Wind Forces</td>\\n', '      <td>0</td>\\n', '      <td>DSS</td>\\n', '    </tr><tr>\\n', '      <th>1</th>\\n', '      <td>01</td>\\n', '      <td>2</td>\\n', '      <td>White</td>\\n', '      <td>Muncie</td>\\n', '      <td>237.6455</td>\\n', '      <td></td>\\n', '      <td>Normal Depth</td>\\n', '      <td>None</td>\\n', '      <td>NaN</td>\\n', '      <td>NaN</td>\\n', '      <td>...</td>\\n', '      <td>NaN</td>\\n', '      <td>d:\\\\GitHub\\\\ras-commander\\\\examples\\\\example_proje...</td>\\n', '      <td>None</td>\\n', '      <td>Flow Boundary Conditions</td>\\n', '      <td>6.30</td>\\n', '      <td>0</td>\\n', '      <td>Disable</td>\\n', '      <td>No Wind Forces</td>\\n', '      <td>0</td>\\n', '      <td>DSS</td>\\n', '    </tr>\n    <tr><td colspan=\"100%\" style=\"text-align:center\">[... additional rows truncated ...]</td></tr>\n  </tbody>\n</table>\n</div>",
            "text/plain": [
              "  unsteady_number  boundary_condition_number river_reach_name river_station  \\\n",
              "0              01                          1            White        Muncie   \n",
              "1              01                          2            White        Muncie   \n",
              "\n",
              "  storage_area_name pump_station_name          bc_type  hydrograph_type  \\\n",
              "0          15696.24                    Flow Hydrograph  Flow Hydrograph   \n",
              "1          237.6455                       Normal Depth             None   \n",
              "\n",
              "  Interval DSS Path  ...                                  hydrograph_values  \\\n",
              "0    1HOUR           ...  [13500, 14000, 14500, 15000, 15500, 16000, 165...   \n",
              "1      NaN      NaN  ...                                                NaN   \n",
              "\n",
              "                                           full_path geometry_number  \\\n",
              "0  d:\\GitHub\\ras-commander\\examples\\example_proje...            None   \n",
              "1  d:\\GitHub\\ras-commander\\examples\\example_proje...            None   \n",
              "\n",
              "                 Flow Title Program Version  Use Restart Precipitation Mode  \\\n",
              "0  Flow Boundary Conditions            6.30            0            Disable   \n",
              "1  Flow Boundary Conditions            6.30            0            Disable   \n",
              "\n",
              "        Wind Mode Met BC=Precipitation|Expanded View  \\\n",
              "0  No Wind Forces                                  0   \n",
              "1  No Wind Forces                                  0   \n",
              "\n",
              "  Met BC=Precipitation|Gridded Source  \n",
              "0                                 DSS  \n",
              "1                                 DSS  \n",
              "\n",
              "[2 rows x 26 columns]"
            ]
          },
          "metadata": {},
          "output_type": "display_data"
        }
      ],
      "source": [
        "# Examine the Muncie project\n",
        "print_ras_object_data(muncie_project, \"Muncie Project\")"
      ]
    },
    {
      "cell_type": "markdown",
      "metadata": {},
      "source": [
        "### Comparing Projects\n",
        "\n",
        "Let's compare some key metrics of the two projects:"
      ]
    },
    {
      "cell_type": "code",
      "execution_count": 14,
      "metadata": {},
      "outputs": [
        {
          "data": {
            "text/html": "<div>\n<style scoped>\\n', '    .dataframe tbody tr th:only-of-type {\\n', '        vertical-align: middle;\\n', '    }\\n', '\\n', '    .dataframe tbody tr th {\\n', '        vertical-align: top;\\n', '    }\\n', '\\n', '    .dataframe thead th {\\n', '        text-align: right;\\n', '    }\\n', '</style>\n<table border=\"1\" class=\"dataframe\">\n  <thead>\\n', '    <tr style=\"text-align: right;\">\\n', '      <th></th>\\n', '      <th>Project Name</th>\\n', '      <th>Number of Plans</th>\\n', '      <th>Number of Geometries</th>\\n', '      <th>Number of Flow Files</th>\\n', '      <th>Number of Unsteady Files</th>\\n', '      <th>Number of Boundary Conditions</th>\\n', '      <th>HDF Results Available</th>\\n', '    </tr>\\n', '  </thead>\n  <tbody>\n    <tr>\\n', '      <th>0</th>\\n', '      <td>BaldEagleDamBrk</td>\\n', '      <td>11</td>\\n', '      <td>10</td>\\n', '      <td>0</td>\\n', '      <td>10</td>\\n', '      <td>51</td>\\n', '      <td>False</td>\\n', '    </tr><tr>\\n', '      <th>1</th>\\n', '      <td>Muncie</td>\\n', '      <td>3</td>\\n', '      <td>3</td>\\n', '      <td>1</td>\\n', '      <td>1</td>\\n', '      <td>2</td>\\n', '      <td>False</td>\\n', '    </tr>\n    <tr><td colspan=\"100%\" style=\"text-align:center\">[... additional rows truncated ...]</td></tr>\n  </tbody>\n</table>\n</div>",
            "text/plain": [
              "      Project Name  Number of Plans  Number of Geometries  \\\n",
              "0  BaldEagleDamBrk               11                    10   \n",
              "1           Muncie                3                     3   \n",
              "\n",
              "   Number of Flow Files  Number of Unsteady Files  \\\n",
              "0                     0                        10   \n",
              "1                     1                         1   \n",
              "\n",
              "   Number of Boundary Conditions  HDF Results Available  \n",
              "0                             51                  False  \n",
              "1                              2                  False  "
            ]
          },
          "metadata": {},
          "output_type": "display_data"
        }
      ],
      "source": [
        "# Create a comparison table of the two projects\n",
        "comparison_data = {\n",
        "    'Project Name': [multi_2d_project.project_name, muncie_project.project_name],\n",
        "    'Number of Plans': [len(multi_2d_project.plan_df), len(muncie_project.plan_df)],\n",
        "    'Number of Geometries': [len(multi_2d_project.geom_df), len(muncie_project.geom_df)],\n",
        "    'Number of Flow Files': [len(multi_2d_project.flow_df), len(muncie_project.flow_df)],\n",
        "    'Number of Unsteady Files': [len(multi_2d_project.unsteady_df), len(muncie_project.unsteady_df)],\n",
        "    'Number of Boundary Conditions': [len(multi_2d_project.boundaries_df) if hasattr(multi_2d_project, 'boundaries_df') else 0, \n",
        "                                     len(muncie_project.boundaries_df) if hasattr(muncie_project, 'boundaries_df') else 0],\n",
        "    'HDF Results Available': [len(multi_2d_project.get_hdf_entries()) > 0, len(muncie_project.get_hdf_entries()) > 0]\n",
        "}\n",
        "\n",
        "comparison_df = pd.DataFrame(comparison_data)\n",
        "display.display(comparison_df)"
      ]
    },
    {
      "cell_type": "markdown",
      "metadata": {},
      "source": [
        "## RAS Commander: Best Practices\n",
        "\n",
        "After exploring both approaches, here are some best practices for using RAS Commander:\n",
        "\n",
        "1. **Choose Your Approach Based on Complexity**:\n",
        "   - **Simple Scripts** (one project): Use the global `ras` object\n",
        "   - **Complex Scripts** (multiple projects): Use custom RAS objects\n",
        "\n",
        "2. **Be Consistent**:\n",
        "   - Don't mix global and custom approaches in the same script\n",
        "   - Use descriptive names for custom RAS objects\n",
        "\n",
        "3. **Working with Project Files**:\n",
        "   - Access project files through the RAS object's DataFrames\n",
        "   - Use helper functions like `get_plan_path()` to resolve paths\n",
        "\n",
        "4. **Error Handling**:\n",
        "   - Always check for empty DataFrames before accessing their contents\n",
        "   - Use the built-in logging to track operations\n",
        "\n",
        "5. **Performance Considerations**:\n",
        "   - For large projects, consider using the HDF classes directly\n",
        "   - Cache results of expensive operations when possible\n",
        "\n",
        "## Summary of Key Functions\n",
        "\n",
        "- `init_ras_project(project_folder, ras_version)`: Initialize a RAS project\n",
        "- `RasExamples().extract_project(project_name)`: Extract example projects\n",
        "- `RasPrj.get_project_name()`: Get the name of the project\n",
        "- `RasPrj.get_plan_entries()`: Get plan file information\n",
        "- `RasPrj.get_flow_entries()`: Get flow file information\n",
        "- `RasPrj.get_unsteady_entries()`: Get unsteady flow file information\n",
        "- `RasPrj.get_geom_entries()`: Get geometry file information\n",
        "- `RasPrj.get_hdf_entries()`: Get HDF result file information\n",
        "- `RasPrj.get_boundary_conditions()`: Get boundary condition details\n",
        "- `RasPlan.get_plan_path(plan_number)`: Get the path to a plan file\n",
        "- `RasPlan.get_geom_path(geom_number)`: Get the path to a geometry file\n",
        "- `RasPlan.get_flow_path(flow_number)`: Get the path to a flow file\n",
        "- `RasPlan.get_unsteady_path(unsteady_number)`: Get the path to an unsteady flow file"
      ]
    },
    {
      "cell_type": "markdown",
      "metadata": {},
      "source": [
        "## Next Steps\n",
        "\n",
        "Now that you understand the basics of project initialization in RAS Commander, you can explore more advanced topics:\n",
        "\n",
        "1. Working with HDF files for result analysis\n",
        "2. Modifying plan, geometry, and flow files\n",
        "3. Running HEC-RAS simulations\n",
        "4. Extracting and visualizing results\n",
        "5. Automating model calibration\n",
        "\n",
        "These topics are covered in other examples and notebooks in the RAS Commander documentation."
      ]
    }
  ],
  "metadata": {
    "kernelspec": {
      "display_name": "rascmdr",
      "language": "python",
      "name": "python3"
    },
    "language_info": {
      "codemirror_mode": {
        "name": "ipython",
        "version": 3
      },
      "file_extension": ".py",
      "mimetype": "text/x-python",
      "name": "python",
      "nbconvert_exporter": "python",
      "pygments_lexer": "ipython3",
      "version": "3.12.9"
    }
  },
  "nbformat": 4,
  "nbformat_minor": 4
}