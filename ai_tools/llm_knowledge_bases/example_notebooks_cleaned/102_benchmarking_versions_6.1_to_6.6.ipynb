{
  "cells": [
    {
      "cell_type": "markdown",
      "metadata": {},
      "source": [
        "# RAS-Commander standard code cells 1-3: Install Packages and Prepare the Environment"
      ]
    },
    {
      "cell_type": "code",
      "execution_count": 1,
      "metadata": {},
      "outputs": [],
      "source": [
        "# Install ras-commander from pip (uncomment to install if needed)\n",
        "#!pip install ras-commander\n",
        "# This installs ras-commander and all dependencies"
      ]
    },
    {
      "cell_type": "code",
      "execution_count": 2,
      "metadata": {},
      "outputs": [],
      "source": [
        "# Import all required modules\n",
        "from ras_commander import *  # Import all ras-commander modules\n",
        "\n",
        "# Import the required libraries for this notebook\n",
        "import h5py\n",
        "import numpy as np\n",
        "import requests\n",
        "import pandas as pd\n",
        "import geopandas as gpd\n",
        "import matplotlib.pyplot as plt\n",
        "import pyproj\n",
        "from shapely.geometry import Point, LineString, Polygon\n",
        "import xarray as xr\n",
        "from pathlib import Path\n",
        "import sys\n",
        "from pathlib import Path\n",
        "from concurrent.futures import ThreadPoolExecutor, as_completed"
      ]
    },
    {
      "cell_type": "code",
      "execution_count": 16,
      "metadata": {},
      "outputs": [
        {
          "name": "stdout",
          "output_type": "stream",
          "text": [
            "Collecting py-cpuinfo\n",
            "  Downloading py_cpuinfo-9.0.0-py3-none-any.whl.metadata (794 bytes)\n",
            "Downloading py_cpuinfo-9.0.0-py3-none-any.whl (22 kB)\n",
            "Installing collected packages: py-cpuinfo\n",
            "Successfully installed py-cpuinfo-9.0.0\n",
            "\n",
            "CPU Information:\n",
            "Processor: Intel(R) Core(TM) i3-4150 CPU @ 3.50GHz\n",
            "Architecture: AMD64\n",
            "Physical cores: 2\n",
            "Logical cores: 4\n",
            "Max frequency: 3500.00 MHz\n",
            "Current frequency: 3500.00 MHz\n",
            "\n",
            "Memory Information:\n",
            "Total RAM: 7.92 GB\n",
            "Available RAM: 2.66 GB\n",
            "RAM Usage: 66.4%\n",
            "\n",
            "Operating System:\n",
            "OS: Windows 10\n",
            "Version: 10.0.19045\n"
          ]
        }
      ],
      "source": [
        "# System Information: Print CPU information, number of logical cores and real cores, speed in GHZ, RAM, etc.\n",
        "# Get CPU information\n",
        "\n",
        "# Uncomment and run this line if you don't have py-cpuinfo installed\n",
        "# !pip install py-cpuinfo  \n",
        "\n",
        "import psutil\n",
        "import platform\n",
        "import cpuinfo  \n",
        "\n",
        "# CPU Info\n",
        "cpu_info = cpuinfo.get_cpu_info()\n",
        "print(\"\\nCPU Information:\")\n",
        "print(f\"Processor: {cpu_info['brand_raw']}\")\n",
        "print(f\"Architecture: {platform.machine()}\")\n",
        "print(f\"Physical cores: {psutil.cpu_count(logical=False)}\")\n",
        "print(f\"Logical cores: {psutil.cpu_count(logical=True)}\")\n",
        "print(f\"Max frequency: {psutil.cpu_freq().max:.2f} MHz\")\n",
        "print(f\"Current frequency: {psutil.cpu_freq().current:.2f} MHz\")\n",
        "\n",
        "# Memory Info\n",
        "memory = psutil.virtual_memory()\n",
        "print(\"\\nMemory Information:\")\n",
        "print(f\"Total RAM: {memory.total / (1024**3):.2f} GB\")\n",
        "print(f\"Available RAM: {memory.available / (1024**3):.2f} GB\")\n",
        "print(f\"RAM Usage: {memory.percent}%\")\n",
        "\n",
        "# Operating System\n",
        "print(\"\\nOperating System:\")\n",
        "print(f\"OS: {platform.system()} {platform.release()}\")\n",
        "print(f\"Version: {platform.version()}\")"
      ]
    },
    {
      "cell_type": "code",
      "execution_count": 13,
      "metadata": {},
      "outputs": [],
      "source": [
        "# Define versions to compare\n",
        "versions = ['6.6', '6.5', '6.4.1', '6.3.1', '6.3', '6.2', \"6.1\", \"6.0\"] # NOTE: ras-commander does not support versions prior to 6.2 due to HDF5 file format changes"
      ]
    },
    {
      "cell_type": "code",
      "execution_count": 4,
      "metadata": {},
      "outputs": [
        {
          "name": "stderr",
          "output_type": "stream",
          "text": [
            "2025-04-10 08:27:27 - ras_commander.RasExamples - INFO - Found zip file: d:\\GitHub\\ras-commander\\examples\\Example_Projects_6_6.zip\n",
            "2025-04-10 08:27:27 - ras_commander.RasExamples - INFO - Loading project data from CSV...\n",
            "2025-04-10 08:27:27 - ras_commander.RasExamples - INFO - Loaded 68 projects from CSV.\n",
            "2025-04-10 08:27:27 - ras_commander.RasExamples - INFO - ----- RasExamples Extracting Project -----\n",
            "2025-04-10 08:27:27 - ras_commander.RasExamples - INFO - Extracting project 'BaldEagleCrkMulti2D'\n",
            "2025-04-10 08:27:27 - ras_commander.RasExamples - INFO - Project 'BaldEagleCrkMulti2D' already exists. Deleting existing folder...\n",
            "2025-04-10 08:27:28 - ras_commander.RasExamples - INFO - Existing folder for project 'BaldEagleCrkMulti2D' has been deleted.\n",
            "2025-04-10 08:27:30 - ras_commander.RasExamples - INFO - Successfully extracted project 'BaldEagleCrkMulti2D' to d:\\GitHub\\ras-commander\\examples\\example_projects\\BaldEagleCrkMulti2D\n"
          ]
        }
      ],
      "source": [
        "# Extract BaldEagleCrkMulti2D project\n",
        "project_path = RasExamples.extract_project([\"BaldEagleCrkMulti2D\"])"
      ]
    },
    {
      "cell_type": "code",
      "execution_count": 5,
      "metadata": {},
      "outputs": [
        {
          "name": "stderr",
          "output_type": "stream",
          "text": [
            "2025-04-10 08:27:30 - ras_commander.RasPrj - INFO - Initializing global 'ras' object via init_ras_project function.\n",
            "2025-04-10 08:27:30 - ras_commander.RasMap - INFO - Successfully parsed RASMapper file: d:\\GitHub\\ras-commander\\examples\\example_projects\\BaldEagleCrkMulti2D\\BaldEagleDamBrk.rasmap\n",
            "2025-04-10 08:27:30 - ras_commander.RasPrj - INFO - Project initialized. ras_object project folder: d:\\GitHub\\ras-commander\\examples\\example_projects\\BaldEagleCrkMulti2D\n"
          ]
        },
        {
          "name": "stdout",
          "output_type": "stream",
          "text": [
            "<ras_commander.RasPrj.RasPrj object at 0x00000286C0156F90>\n"
          ]
        },
        {
          "data": {
            "text/html": "<div>\n<style scoped>\\n', '    .dataframe tbody tr th:only-of-type {\\n', '        vertical-align: middle;\\n', '    }\\n', '\\n', '    .dataframe tbody tr th {\\n', '        vertical-align: top;\\n', '    }\\n', '\\n', '    .dataframe thead th {\\n', '        text-align: right;\\n', '    }\\n', '</style>\n<table border=\"1\" class=\"dataframe\">\n  <thead>\\n', '    <tr style=\"text-align: right;\">\\n', '      <th></th>\\n', '      <th>plan_number</th>\\n', '      <th>unsteady_number</th>\\n', '      <th>geometry_number</th>\\n', '      <th>Plan Title</th>\\n', '      <th>Program Version</th>\\n', '      <th>Short Identifier</th>\\n', '      <th>Simulation Date</th>\\n', '      <th>Computation Interval</th>\\n', '      <th>Mapping Interval</th>\\n', '      <th>Run HTab</th>\\n', '      <th>...</th>\\n', '      <th>DSS File</th>\\n', '      <th>Friction Slope Method</th>\\n', '      <th>UNET D2 SolverType</th>\\n', '      <th>UNET D2 Name</th>\\n', '      <th>HDF_Results_Path</th>\\n', '      <th>Geom File</th>\\n', '      <th>Geom Path</th>\\n', '      <th>Flow File</th>\\n', '      <th>Flow Path</th>\\n', '      <th>full_path</th>\\n', '    </tr>\\n', '  </thead>\n  <tbody>\n    <tr>\\n', '      <th>0</th>\\n', '      <td>13</td>\\n', '      <td>07</td>\\n', '      <td>06</td>\\n', '      <td>PMF with Multi 2D Areas</td>\\n', '      <td>5.10</td>\\n', '      <td>PMF Multi 2D</td>\\n', '      <td>01JAN1999,1200,04JAN1999,1200</td>\\n', '      <td>30SEC</td>\\n', '      <td>30MIN</td>\\n', '      <td>1</td>\\n', '      <td>...</td>\\n', '      <td>dss</td>\\n', '      <td>1</td>\\n', '      <td>Pardiso (Direct)</td>\\n', '      <td>193</td>\\n', '      <td>None</td>\\n', '      <td>06</td>\\n', '      <td>d:\\\\GitHub\\\\ras-commander\\\\examples\\\\example_proje...</td>\\n', '      <td>07</td>\\n', '      <td>d:\\\\GitHub\\\\ras-commander\\\\examples\\\\example_proje...</td>\\n', '      <td>d:\\\\GitHub\\\\ras-commander\\\\examples\\\\example_proje...</td>\\n', '    </tr><tr>\\n', '      <th>1</th>\\n', '      <td>15</td>\\n', '      <td>12</td>\\n', '      <td>08</td>\\n', '      <td>1d-2D Dambreak Refined Grid</td>\\n', '      <td>5.10</td>\\n', '      <td>1D-2D Refined Grid</td>\\n', '      <td>01JAN1999,1200,04JAN1999,1200</td>\\n', '      <td>20SEC</td>\\n', '      <td>5MIN</td>\\n', '      <td>1</td>\\n', '      <td>...</td>\\n', '      <td>dss</td>\\n', '      <td>1</td>\\n', '      <td>NaN</td>\\n', '      <td>BaldEagleCr</td>\\n', '      <td>None</td>\\n', '      <td>08</td>\\n', '      <td>d:\\\\GitHub\\\\ras-commander\\\\examples\\\\example_proje...</td>\\n', '      <td>12</td>\\n', '      <td>d:\\\\GitHub\\\\ras-commander\\\\examples\\\\example_proje...</td>\\n', '      <td>d:\\\\GitHub\\\\ras-commander\\\\examples\\\\example_proje...</td>\\n', '    </tr><tr>\\n', '      <th>2</th>\\n', '      <td>17</td>\\n', '      <td>09</td>\\n', '      <td>10</td>\\n', '      <td>2D to 1D No Dam</td>\\n', '      <td>5.00</td>\\n', '      <td>2D to 1D No Dam</td>\\n', '      <td>01JAN1999,1200,06JAN1999,1200</td>\\n', '      <td>1MIN</td>\\n', '      <td>5MIN</td>\\n', '      <td>1</td>\\n', '      <td>...</td>\\n', '      <td>dss</td>\\n', '      <td>1</td>\\n', '      <td>NaN</td>\\n', '      <td>Upstream2D</td>\\n', '      <td>None</td>\\n', '      <td>10</td>\\n', '      <td>d:\\\\GitHub\\\\ras-commander\\\\examples\\\\example_proje...</td>\\n', '      <td>09</td>\\n', '      <td>d:\\\\GitHub\\\\ras-commander\\\\examples\\\\example_proje...</td>\\n', '      <td>d:\\\\GitHub\\\\ras-commander\\\\examples\\\\example_proje...</td>\\n', '    </tr><tr>\\n', '      <th>3</th>\\n', '      <td>18</td>\\n', '      <td>10</td>\\n', '      <td>11</td>\\n', '      <td>2D to 2D Run</td>\\n', '      <td>5.00</td>\\n', '      <td>2D to 2D Run</td>\\n', '      <td>01JAN1999,1200,04JAN1999,1200</td>\\n', '      <td>20SEC</td>\\n', '      <td>5MIN</td>\\n', '      <td>1</td>\\n', '      <td>...</td>\\n', '      <td>dss</td>\\n', '      <td>1</td>\\n', '      <td>NaN</td>\\n', '      <td>BaldEagleCr</td>\\n', '      <td>None</td>\\n', '      <td>11</td>\\n', '      <td>d:\\\\GitHub\\\\ras-commander\\\\examples\\\\example_proje...</td>\\n', '      <td>10</td>\\n', '      <td>d:\\\\GitHub\\\\ras-commander\\\\examples\\\\example_proje...</td>\\n', '      <td>d:\\\\GitHub\\\\ras-commander\\\\examples\\\\example_proje...</td>\\n', '    </tr><tr>\\n', '      <th>4</th>\\n', '      <td>19</td>\\n', '      <td>11</td>\\n', '      <td>12</td>\\n', '      <td>SA to 2D Dam Break Run</td>\\n', '      <td>5.00</td>\\n', '      <td>SA to 2D Dam Break</td>\\n', '      <td>01JAN1999,1200,04JAN1999,1200</td>\\n', '      <td>20SEC</td>\\n', '      <td>10MIN</td>\\n', '      <td>1</td>\\n', '      <td>...</td>\\n', '      <td>dss</td>\\n', '      <td>1</td>\\n', '      <td>NaN</td>\\n', '      <td>BaldEagleCr</td>\\n', '      <td>None</td>\\n', '      <td>12</td>\\n', '      <td>d:\\\\GitHub\\\\ras-commander\\\\examples\\\\example_proje...</td>\\n', '      <td>11</td>\\n', '      <td>d:\\\\GitHub\\\\ras-commander\\\\examples\\\\example_proje...</td>\\n', '      <td>d:\\\\GitHub\\\\ras-commander\\\\examples\\\\example_proje...</td>\\n', '    </tr>\n    <tr><td colspan=\"100%\" style=\"text-align:center\">[... additional rows truncated ...]</td></tr>\n  </tbody>\n</table>\n</div>",
            "text/plain": "['   plan_number unsteady_number geometry_number  \\\\\\n', '0           13              07              06   \\n', '1           15              12              08   \\n', '2           17              09              10   \\n', '3           18              10              11   \\n', '4           19              11              12   \\n', '5           03              13              09   \\n', '6           04              01              13   \\n', '7           02              01              01   \\n', '8           01              01              01   \\n', '9           05              02              03   \\n', '10          06              03              09   \\n', '\\n', '                                 Plan Title Program Version  \\\\\\n', '0                   PMF with Multi 2D Areas            5.10   \\n', '1               1d-2D Dambreak Refined Grid            5.10   \\n', '2                           2D to 1D No Dam            5.00   \\n', '3                              2D to 2D Run            5.0\n...\n[Output truncated, 6825 characters total]"
          },
          "execution_count": 5,
          "metadata": {},
          "output_type": "execute_result"
        }
      ],
      "source": [
        "# Init the ras_project with ras-commander to read all HEC-RAS project information \n",
        "init_ras_project(project_path, \"6.5\")\n",
        "print(ras)\n",
        "# If no ras object is defined in init_ras_project, it defaults to \"ras\" (useful for single project scripts)\n",
        "# Display plan dataframe\n",
        "ras.plan_df"
      ]
    },
    {
      "cell_type": "code",
      "execution_count": 6,
      "metadata": {},
      "outputs": [
        {
          "name": "stdout",
          "output_type": "stream",
          "text": [
            "['13', '15', '17', '18', '19', '03', '04', '02', '01', '05', '06']\n"
          ]
        }
      ],
      "source": [
        "# Export Plan Numbers to List and Print\n",
        "plan_numbers = ras.plan_df['plan_number'].tolist()\n",
        "print(plan_numbers)\n"
      ]
    },
    {
      "cell_type": "code",
      "execution_count": 7,
      "metadata": {},
      "outputs": [],
      "source": [
        "# Define run_simulation function for\n",
        "import time\n",
        "from ras_commander import RasGeo\n",
        "\n",
        "def run_simulation(version, plan_number):\n",
        "    # Initialize project for the specific version\n",
        "    ras_project = init_ras_project(project_path, str(version))\n",
        "    \n",
        "    # Clear geometry preprocessor files for the plan\n",
        "    plan_path = RasPlan.get_plan_path(plan_number, ras_object=ras_project)\n",
        "    RasGeo.clear_geompre_files(plan_path, ras_object=ras_project)\n",
        "    \n",
        "    # Set the number of cores to 4\n",
        "    RasPlan.set_num_cores(plan_number, \"4\", ras_object=ras_project)\n",
        "    \n",
        "    # Update plan run flags \u2013 setting \"Run HTab\" flag to 1 to force geometry preprocessing\n",
        "    RasPlan.update_run_flags(plan_number, {\"Run HTab\": 1}, ras_object=ras_project)\n",
        "    \n",
        "    # Compute the plan\n",
        "    start_time = time.time()\n",
        "    success = RasCmdr.compute_plan(plan_number, ras_object=ras_project)\n",
        "    total_time = time.time() - start_time\n",
        "    \n",
        "    if success:\n",
        "        # Get the HDF file path for the plan results\n",
        "        hdf_path = RasPlan.get_results_path(plan_number, ras_object=ras_project)\n",
        "        \n",
        "        # Extract runtime data from the HDF file\n",
        "        runtime_data = HdfResultsPlan.get_runtime_data(hdf_path)\n",
        "        \n",
        "        # Extract required information from the runtime data\n",
        "        preprocessor_time = runtime_data['Preprocessing Geometry (hr)'].values[0]\n",
        "        unsteady_compute_time = runtime_data['Unsteady Flow Computations (hr)'].values[0]\n",
        "        \n",
        "        # Get volume accounting data from the HDF file\n",
        "        volume_accounting = HdfResultsPlan.get_volume_accounting(hdf_path)\n",
        "        # Extract Error Percent from the DataFrame\n",
        "        volume_error = volume_accounting['Error Percent'].values[0] if not volume_accounting.empty else None\n",
        "        \n",
        "        # Print the extracted data\n",
        "        print(f\"\\nExtracted Data for Plan {plan_number} in Version {version}:\")\n",
        "        print(f\"Preprocessor Time: {preprocessor_time:.3f} hr\")\n",
        "        print(f\"Unsteady Compute Time: {unsteady_compute_time:.3f} hr\") \n",
        "        print(f\"Volume Error: {volume_error:.3f}%\" if volume_error is not None else \"Volume Error: None\")\n",
        "        print(f\"Total Time: {total_time/3600:.3f} hr\\n\")\n",
        "        \n",
        "        return {\n",
        "            'Version': version,\n",
        "            'Plan': plan_number,\n",
        "            'Preprocessor Time (hr)': preprocessor_time,\n",
        "            'Unsteady Compute Time (hr)': unsteady_compute_time,\n",
        "            'Volume Error (%)': volume_error,\n",
        "            'Total Time (hr)': total_time / 3600  # convert seconds to hours\n",
        "        }\n",
        "    else:\n",
        "        return None"
      ]
    },
    {
      "cell_type": "code",
      "execution_count": 8,
      "metadata": {},
      "outputs": [],
      "source": [
        "# Select the plan number you want to run across all versions\n",
        "plan_number = '02'  # Make sure this is a string and include the leading zero\n"
      ]
    },
    {
      "cell_type": "code",
      "execution_count": 10,
      "metadata": {},
      "outputs": [
        {
          "name": "stderr",
          "output_type": "stream",
          "text": [
            "2025-04-11 08:55:43 - ras_commander.RasPrj - INFO - Initializing global 'ras' object via init_ras_project function.\n"
          ]
        },
        {
          "name": "stdout",
          "output_type": "stream",
          "text": [
            "Running simulation for Version 6.6, Plan 02\n"
          ]
        },
        {
          "name": "stderr",
          "output_type": "stream",
          "text": [
            "2025-04-11 08:55:44 - ras_commander.RasMap - INFO - Successfully parsed RASMapper file: d:\\GitHub\\ras-commander\\examples\\example_projects\\BaldEagleCrkMulti2D\\BaldEagleDamBrk.rasmap\n",
            "2025-04-11 08:55:44 - ras_commander.RasPrj - INFO - Project initialized. ras_object project folder: d:\\GitHub\\ras-commander\\examples\\example_projects\\BaldEagleCrkMulti2D\n",
            "2025-04-11 08:55:44 - ras_commander.RasGeo - INFO - Clearing geometry preprocessor file for single plan: d:\\GitHub\\ras-commander\\examples\\example_projects\\BaldEagleCrkMulti2D\\BaldEagleDamBrk.p02\n",
            "2025-04-11 08:55:44 - ras_commander.RasGeo - WARNING - No geometry preprocessor file found for: d:\\GitHub\\ras-commander\\examples\\example_projects\\BaldEagleCrkMulti2D\\BaldEagleDamBrk.p02\n",
            "2025-04-11 08:55:44 - ras_commander.RasGeo - INFO - Geometry dataframe updated successfully.\n",
            "2025-04-11 08:55:44 - ras_commander.RasUtils - INFO - Constructed plan file path: d:\\GitHub\\ras-commander\\examples\\example_projects\\BaldEagleCrkMulti2D\\BaldEagleDamBrk.p02\n",
            "2025-04-11 08:55:44 - ras_commander.RasUtils - INFO - Successfully updated file: d:\\GitHub\\ras-commander\\examples\\example_projects\\BaldEagleCrkMulti2D\\BaldEagleDamBrk.p02\n",
            "2025-04-11 08:55:44 - ras_commander.RasPlan - INFO - Successfully updated run flags in plan file: d:\\GitHub\\ras-commander\\examples\\example_projects\\BaldEagleCrkMulti2D\\BaldEagleDamBrk.p02\n",
            "2025-04-11 08:55:44 - ras_commander.RasCmdr - INFO - Using ras_object with project folder: d:\\GitHub\\ras-commander\\examples\\example_projects\\BaldEagleCrkMulti2D\n",
            "2025-04-11 08:55:44 - ras_commander.RasCmdr - INFO - Running HEC-RAS from the Command Line:\n",
            "2025-04-11 08:55:44 - ras_commander.RasCmdr - INFO - Running command: \"C:\\Program Files (x86)\\HEC\\HEC-RAS\\6.6\\Ras.exe\" -c \"D:\\GitHub\\ras-commander\\examples\\example_projects\\BaldEagleCrkMulti2D\\BaldEagleDamBrk.prj\" \"d:\\GitHub\\ras-commander\\examples\\example_projects\\BaldEagleCrkMulti2D\\BaldEagleDamBrk.p02\"\n",
            "2025-04-11 09:39:23 - ras_commander.RasCmdr - INFO - HEC-RAS execution completed for plan: 02\n",
            "2025-04-11 09:39:23 - ras_commander.RasCmdr - INFO - Total run time for plan 02: 2619.15 seconds\n",
            "2025-04-11 09:39:23 - ras_commander.HdfResultsPlan - INFO - Using HDF file from direct string path: d:\\GitHub\\ras-commander\\examples\\example_projects\\BaldEagleCrkMulti2D\\BaldEagleDamBrk.p02.hdf\n",
            "2025-04-11 09:39:23 - ras_commander.HdfResultsPlan - INFO - Final validated HDF file path: d:\\GitHub\\ras-commander\\examples\\example_projects\\BaldEagleCrkMulti2D\\BaldEagleDamBrk.p02.hdf\n",
            "2025-04-11 09:39:23 - ras_commander.HdfResultsPlan - INFO - Extracting Plan Information from: BaldEagleDamBrk.p02.hdf\n",
            "2025-04-11 09:39:23 - ras_commander.HdfResultsPlan - INFO - Plan Name: SA to Detailed 2D Breach\n",
            "2025-04-11 09:39:23 - ras_commander.HdfResultsPlan - INFO - Simulation Duration (hours): 72.0\n",
            "2025-04-11 09:39:23 - ras_commander.HdfResultsPlan - INFO - Using HDF file from direct string path: d:\\GitHub\\ras-commander\\examples\\example_projects\\BaldEagleCrkMulti2D\\BaldEagleDamBrk.p02.hdf\n",
            "2025-04-11 09:39:23 - ras_commander.HdfResultsPlan - INFO - Final validated HDF file path: d:\\GitHub\\ras-commander\\examples\\example_projects\\BaldEagleCrkMulti2D\\BaldEagleDamBrk.p02.hdf\n",
            "2025-04-11 09:39:23 - ras_commander.RasPrj - INFO - Initializing global 'ras' object via init_ras_project function.\n",
            "2025-04-11 09:39:23 - ras_commander.RasMap - INFO - Successfully parsed RASMapper file: d:\\GitHub\\ras-commander\\examples\\example_projects\\BaldEagleCrkMulti2D\\BaldEagleDamBrk.rasmap\n",
            "2025-04-11 09:39:23 - ras_commander.RasPrj - INFO - Project initialized. ras_object project folder: d:\\GitHub\\ras-commander\\examples\\example_projects\\BaldEagleCrkMulti2D\n",
            "2025-04-11 09:39:23 - ras_commander.RasGeo - INFO - Clearing geometry preprocessor file for single plan: d:\\GitHub\\ras-commander\\examples\\example_projects\\BaldEagleCrkMulti2D\\BaldEagleDamBrk.p02\n",
            "2025-04-11 09:39:23 - ras_commander.RasGeo - WARNING - No geometry preprocessor file found for: d:\\GitHub\\ras-commander\\examples\\example_projects\\BaldEagleCrkMulti2D\\BaldEagleDamBrk.p02\n",
            "2025-04-11 09:39:23 - ras_commander.RasGeo - INFO - Geometry dataframe updated successfully.\n",
            "2025-04-11 09:39:23 - ras_commander.RasUtils - INFO - Constructed plan file path: d:\\GitHub\\ras-commander\\examples\\example_projects\\BaldEagleCrkMulti2D\\BaldEagleDamBrk.p02\n",
            "2025-04-11 09:39:23 - ras_commander.RasUtils - INFO - Successfully updated file: d:\\GitHub\\ras-commander\\examples\\example_projects\\BaldEagleCrkMulti2D\\BaldEagleDamBrk.p02\n"
          ]
        },
        {
          "name": "stdout",
          "output_type": "stream",
          "text": [
            "\n",
            "Extracted Data for Plan 02 in Version 6.6:\n",
            "Preprocessor Time: 0.000 hr\n",
            "Unsteady Compute Time: 0.697 hr\n",
            "Volume Error: 0.007%\n",
            "Total Time: 0.728 hr\n",
            "\n",
            "Completed: Version 6.6, Plan 02\n",
            "Running simulation for Version 6.5, Plan 02\n"
          ]
        },
        {
          "name": "stderr",
          "output_type": "stream",
          "text": [
            "2025-04-11 09:39:23 - ras_commander.RasPlan - INFO - Successfully updated run flags in plan file: d:\\GitHub\\ras-commander\\examples\\example_projects\\BaldEagleCrkMulti2D\\BaldEagleDamBrk.p02\n",
            "2025-04-11 09:39:24 - ras_commander.RasCmdr - INFO - Using ras_object with project folder: d:\\GitHub\\ras-commander\\examples\\example_projects\\BaldEagleCrkMulti2D\n",
            "2025-04-11 09:39:24 - ras_commander.RasCmdr - INFO - Running HEC-RAS from the Command Line:\n",
            "2025-04-11 09:39:24 - ras_commander.RasCmdr - INFO - Running command: \"C:\\Program Files (x86)\\HEC\\HEC-RAS\\6.5\\Ras.exe\" -c \"D:\\GitHub\\ras-commander\\examples\\example_projects\\BaldEagleCrkMulti2D\\BaldEagleDamBrk.prj\" \"d:\\GitHub\\ras-commander\\examples\\example_projects\\BaldEagleCrkMulti2D\\BaldEagleDamBrk.p02\"\n",
            "2025-04-11 10:19:24 - ras_commander.RasCmdr - INFO - HEC-RAS execution completed for plan: 02\n",
            "2025-04-11 10:19:24 - ras_commander.RasCmdr - INFO - Total run time for plan 02: 2400.73 seconds\n",
            "2025-04-11 10:19:25 - ras_commander.HdfResultsPlan - INFO - Using HDF file from direct string path: d:\\GitHub\\ras-commander\\examples\\example_projects\\BaldEagleCrkMulti2D\\BaldEagleDamBrk.p02.hdf\n",
            "2025-04-11 10:19:25 - ras_commander.HdfResultsPlan - INFO - Final validated HDF file path: d:\\GitHub\\ras-commander\\examples\\example_projects\\BaldEagleCrkMulti2D\\BaldEagleDamBrk.p02.hdf\n",
            "2025-04-11 10:19:25 - ras_commander.HdfResultsPlan - INFO - Extracting Plan Information from: BaldEagleDamBrk.p02.hdf\n",
            "2025-04-11 10:19:25 - ras_commander.HdfResultsPlan - INFO - Plan Name: SA to Detailed 2D Breach\n",
            "2025-04-11 10:19:25 - ras_commander.HdfResultsPlan - INFO - Simulation Duration (hours): 72.0\n",
            "2025-04-11 10:19:25 - ras_commander.HdfResultsPlan - INFO - Using HDF file from direct string path: d:\\GitHub\\ras-commander\\examples\\example_projects\\BaldEagleCrkMulti2D\\BaldEagleDamBrk.p02.hdf\n",
            "2025-04-11 10:19:25 - ras_commander.HdfResultsPlan - INFO - Final validated HDF file path: d:\\GitHub\\ras-commander\\examples\\example_projects\\BaldEagleCrkMulti2D\\BaldEagleDamBrk.p02.hdf\n",
            "2025-04-11 10:19:25 - ras_commander.RasPrj - INFO - Initializing global 'ras' object via init_ras_project function.\n",
            "2025-04-11 10:19:25 - ras_commander.RasMap - INFO - Successfully parsed RASMapper file: d:\\GitHub\\ras-commander\\examples\\example_projects\\BaldEagleCrkMulti2D\\BaldEagleDamBrk.rasmap\n",
            "2025-04-11 10:19:25 - ras_commander.RasPrj - INFO - Project initialized. ras_object project folder: d:\\GitHub\\ras-commander\\examples\\example_projects\\BaldEagleCrkMulti2D\n",
            "2025-04-11 10:19:25 - ras_commander.RasGeo - INFO - Clearing geometry preprocessor file for single plan: d:\\GitHub\\ras-commander\\examples\\example_projects\\BaldEagleCrkMulti2D\\BaldEagleDamBrk.p02\n",
            "2025-04-11 10:19:25 - ras_commander.RasGeo - WARNING - No geometry preprocessor file found for: d:\\GitHub\\ras-commander\\examples\\example_projects\\BaldEagleCrkMulti2D\\BaldEagleDamBrk.p02\n",
            "2025-04-11 10:19:25 - ras_commander.RasGeo - INFO - Geometry dataframe updated successfully.\n",
            "2025-04-11 10:19:25 - ras_commander.RasUtils - INFO - Constructed plan file path: d:\\GitHub\\ras-commander\\examples\\example_projects\\BaldEagleCrkMulti2D\\BaldEagleDamBrk.p02\n",
            "2025-04-11 10:19:25 - ras_commander.RasUtils - INFO - Successfully updated file: d:\\GitHub\\ras-commander\\examples\\example_projects\\BaldEagleCrkMulti2D\\BaldEagleDamBrk.p02\n"
          ]
        },
        {
          "name": "stdout",
          "output_type": "stream",
          "text": [
            "\n",
            "Extracted Data for Plan 02 in Version 6.5:\n",
            "Preprocessor Time: 0.000 hr\n",
            "Unsteady Compute Time: 0.644 hr\n",
            "Volume Error: 0.005%\n",
            "Total Time: 0.667 hr\n",
            "\n",
            "Completed: Version 6.5, Plan 02\n",
            "Running simulation for Version 6.4.1, Plan 02\n"
          ]
        },
        {
          "name": "stderr",
          "output_type": "stream",
          "text": [
            "2025-04-11 10:19:25 - ras_commander.RasPlan - INFO - Successfully updated run flags in plan file: d:\\GitHub\\ras-commander\\examples\\example_projects\\BaldEagleCrkMulti2D\\BaldEagleDamBrk.p02\n",
            "2025-04-11 10:19:25 - ras_commander.RasCmdr - INFO - Using ras_object with project folder: d:\\GitHub\\ras-commander\\examples\\example_projects\\BaldEagleCrkMulti2D\n",
            "2025-04-11 10:19:25 - ras_commander.RasCmdr - INFO - Running HEC-RAS from the Command Line:\n",
            "2025-04-11 10:19:25 - ras_commander.RasCmdr - INFO - Running command: \"C:\\Program Files (x86)\\HEC\\HEC-RAS\\6.4.1\\Ras.exe\" -c \"D:\\GitHub\\ras-commander\\examples\\example_projects\\BaldEagleCrkMulti2D\\BaldEagleDamBrk.prj\" \"d:\\GitHub\\ras-commander\\examples\\example_projects\\BaldEagleCrkMulti2D\\BaldEagleDamBrk.p02\"\n",
            "2025-04-11 10:55:45 - ras_commander.RasCmdr - INFO - HEC-RAS execution completed for plan: 02\n",
            "2025-04-11 10:55:45 - ras_commander.RasCmdr - INFO - Total run time for plan 02: 2180.50 seconds\n",
            "2025-04-11 10:55:45 - ras_commander.HdfResultsPlan - INFO - Using HDF file from direct string path: d:\\GitHub\\ras-commander\\examples\\example_projects\\BaldEagleCrkMulti2D\\BaldEagleDamBrk.p02.hdf\n",
            "2025-04-11 10:55:45 - ras_commander.HdfResultsPlan - INFO - Final validated HDF file path: d:\\GitHub\\ras-commander\\examples\\example_projects\\BaldEagleCrkMulti2D\\BaldEagleDamBrk.p02.hdf\n",
            "2025-04-11 10:55:45 - ras_commander.HdfResultsPlan - INFO - Extracting Plan Information from: BaldEagleDamBrk.p02.hdf\n",
            "2025-04-11 10:55:45 - ras_commander.HdfResultsPlan - INFO - Plan Name: SA to Detailed 2D Breach\n",
            "2025-04-11 10:55:45 - ras_commander.HdfResultsPlan - INFO - Simulation Duration (hours): 72.0\n",
            "2025-04-11 10:55:45 - ras_commander.HdfResultsPlan - INFO - Using HDF file from direct string path: d:\\GitHub\\ras-commander\\examples\\example_projects\\BaldEagleCrkMulti2D\\BaldEagleDamBrk.p02.hdf\n",
            "2025-04-11 10:55:45 - ras_commander.HdfResultsPlan - INFO - Final validated HDF file path: d:\\GitHub\\ras-commander\\examples\\example_projects\\BaldEagleCrkMulti2D\\BaldEagleDamBrk.p02.hdf\n",
            "2025-04-11 10:55:45 - ras_commander.RasPrj - INFO - Initializing global 'ras' object via init_ras_project function.\n",
            "2025-04-11 10:55:45 - ras_commander.RasMap - INFO - Successfully parsed RASMapper file: d:\\GitHub\\ras-commander\\examples\\example_projects\\BaldEagleCrkMulti2D\\BaldEagleDamBrk.rasmap\n",
            "2025-04-11 10:55:45 - ras_commander.RasPrj - INFO - Project initialized. ras_object project folder: d:\\GitHub\\ras-commander\\examples\\example_projects\\BaldEagleCrkMulti2D\n",
            "2025-04-11 10:55:45 - ras_commander.RasGeo - INFO - Clearing geometry preprocessor file for single plan: d:\\GitHub\\ras-commander\\examples\\example_projects\\BaldEagleCrkMulti2D\\BaldEagleDamBrk.p02\n",
            "2025-04-11 10:55:45 - ras_commander.RasGeo - WARNING - No geometry preprocessor file found for: d:\\GitHub\\ras-commander\\examples\\example_projects\\BaldEagleCrkMulti2D\\BaldEagleDamBrk.p02\n",
            "2025-04-11 10:55:45 - ras_commander.RasGeo - INFO - Geometry dataframe updated successfully.\n",
            "2025-04-11 10:55:45 - ras_commander.RasUtils - INFO - Constructed plan file path: d:\\GitHub\\ras-commander\\examples\\example_projects\\BaldEagleCrkMulti2D\\BaldEagleDamBrk.p02\n",
            "2025-04-11 10:55:45 - ras_commander.RasUtils - INFO - Successfully updated file: d:\\GitHub\\ras-commander\\examples\\example_projects\\BaldEagleCrkMulti2D\\BaldEagleDamBrk.p02\n",
            "2025-04-11 10:55:45 - ras_commander.RasPlan - INFO - Successfully updated run flags in plan file: d:\\GitHub\\ras-commander\\examples\\example_projects\\BaldEagleCrkMulti2D\\BaldEagleDamBrk.p02\n",
            "2025-04-11 10:55:45 - ras_commander.RasCmdr - INFO - Using ras_object with project folder: d:\\GitHub\\ras-commander\\examples\\example_projects\\BaldEagleCrkMulti2D\n",
            "2025-04-11 10:55:46 - ras_commander.RasCmdr - INFO - Running HEC-RAS from the Command Line:\n",
            "2025-04-11 10:55:46 - ras_commander.RasCmdr - INFO - Running command: \"C:\\Program Files (x86)\\HEC\\HEC-RAS\\6.3.1\\Ras.exe\" -c \"D:\\GitHub\\ras-commander\\examples\\example_projects\\BaldEagleCrkMulti2D\\BaldEagleDamBrk.prj\" \"d:\\GitHub\\ras-commander\\examples\\example_projects\\BaldEagleCrkMulti2D\\BaldEagleDamBrk.p02\"\n"
          ]
        },
        {
          "name": "stdout",
          "output_type": "stream",
          "text": [
            "\n",
            "Extracted Data for Plan 02 in Version 6.4.1:\n",
            "Preprocessor Time: 0.000 hr\n",
            "Unsteady Compute Time: 0.585 hr\n",
            "Volume Error: 0.006%\n",
            "Total Time: 0.606 hr\n",
            "\n",
            "Completed: Version 6.4.1, Plan 02\n",
            "Running simulation for Version 6.3.1, Plan 02\n"
          ]
        },
        {
          "name": "stderr",
          "output_type": "stream",
          "text": [
            "2025-04-11 11:33:29 - ras_commander.RasCmdr - INFO - HEC-RAS execution completed for plan: 02\n",
            "2025-04-11 11:33:29 - ras_commander.RasCmdr - INFO - Total run time for plan 02: 2263.88 seconds\n",
            "2025-04-11 11:33:29 - ras_commander.HdfResultsPlan - INFO - Using HDF file from direct string path: d:\\GitHub\\ras-commander\\examples\\example_projects\\BaldEagleCrkMulti2D\\BaldEagleDamBrk.p02.hdf\n",
            "2025-04-11 11:33:29 - ras_commander.HdfResultsPlan - INFO - Final validated HDF file path: d:\\GitHub\\ras-commander\\examples\\example_projects\\BaldEagleCrkMulti2D\\BaldEagleDamBrk.p02.hdf\n",
            "2025-04-11 11:33:29 - ras_commander.HdfResultsPlan - INFO - Extracting Plan Information from: BaldEagleDamBrk.p02.hdf\n",
            "2025-04-11 11:33:29 - ras_commander.HdfResultsPlan - INFO - Plan Name: SA to Detailed 2D Breach\n",
            "2025-04-11 11:33:29 - ras_commander.HdfResultsPlan - INFO - Simulation Duration (hours): 72.0\n",
            "2025-04-11 11:33:29 - ras_commander.HdfResultsPlan - INFO - Using HDF file from direct string path: d:\\GitHub\\ras-commander\\examples\\example_projects\\BaldEagleCrkMulti2D\\BaldEagleDamBrk.p02.hdf\n",
            "2025-04-11 11:33:29 - ras_commander.HdfResultsPlan - INFO - Final validated HDF file path: d:\\GitHub\\ras-commander\\examples\\example_projects\\BaldEagleCrkMulti2D\\BaldEagleDamBrk.p02.hdf\n",
            "2025-04-11 11:33:29 - ras_commander.RasPrj - CRITICAL - HEC-RAS executable not found at the expected path: C:\\Program Files (x86)\\HEC\\HEC-RAS\\6.3\\Ras.exe\n",
            "2025-04-11 11:33:29 - ras_commander.RasPrj - ERROR - Invalid HEC-RAS version or path: 6.3, returning default path: C:\\Program Files (x86)\\HEC\\HEC-RAS\\6.3\\Ras.exe\n",
            "2025-04-11 11:33:29 - ras_commander.RasPrj - INFO - Initializing global 'ras' object via init_ras_project function.\n",
            "2025-04-11 11:33:30 - ras_commander.RasMap - INFO - Successfully parsed RASMapper file: d:\\GitHub\\ras-commander\\examples\\example_projects\\BaldEagleCrkMulti2D\\BaldEagleDamBrk.rasmap\n",
            "2025-04-11 11:33:30 - ras_commander.RasPrj - INFO - Project initialized. ras_object project folder: d:\\GitHub\\ras-commander\\examples\\example_projects\\BaldEagleCrkMulti2D\n",
            "2025-04-11 11:33:30 - ras_commander.RasGeo - INFO - Clearing geometry preprocessor file for single plan: d:\\GitHub\\ras-commander\\examples\\example_projects\\BaldEagleCrkMulti2D\\BaldEagleDamBrk.p02\n",
            "2025-04-11 11:33:30 - ras_commander.RasGeo - WARNING - No geometry preprocessor file found for: d:\\GitHub\\ras-commander\\examples\\example_projects\\BaldEagleCrkMulti2D\\BaldEagleDamBrk.p02\n",
            "2025-04-11 11:33:30 - ras_commander.RasGeo - INFO - Geometry dataframe updated successfully.\n",
            "2025-04-11 11:33:30 - ras_commander.RasUtils - INFO - Constructed plan file path: d:\\GitHub\\ras-commander\\examples\\example_projects\\BaldEagleCrkMulti2D\\BaldEagleDamBrk.p02\n",
            "2025-04-11 11:33:30 - ras_commander.RasUtils - INFO - Successfully updated file: d:\\GitHub\\ras-commander\\examples\\example_projects\\BaldEagleCrkMulti2D\\BaldEagleDamBrk.p02\n",
            "2025-04-11 11:33:30 - ras_commander.RasPlan - INFO - Successfully updated run flags in plan file: d:\\GitHub\\ras-commander\\examples\\example_projects\\BaldEagleCrkMulti2D\\BaldEagleDamBrk.p02\n",
            "2025-04-11 11:33:30 - ras_commander.RasCmdr - INFO - Using ras_object with project folder: d:\\GitHub\\ras-commander\\examples\\example_projects\\BaldEagleCrkMulti2D\n",
            "2025-04-11 11:33:30 - ras_commander.RasCmdr - INFO - Running HEC-RAS from the Command Line:\n",
            "2025-04-11 11:33:30 - ras_commander.RasCmdr - INFO - Running command: \"C:\\Program Files (x86)\\HEC\\HEC-RAS\\6.3\\Ras.exe\" -c \"D:\\GitHub\\ras-commander\\examples\\example_projects\\BaldEagleCrkMulti2D\\BaldEagleDamBrk.prj\" \"d:\\GitHub\\ras-commander\\examples\\example_projects\\BaldEagleCrkMulti2D\\BaldEagleDamBrk.p02\"\n",
            "2025-04-11 11:33:30 - ras_commander.RasCmdr - ERROR - Error running plan: 02\n"
          ]
        },
        {
          "name": "stdout",
          "output_type": "stream",
          "text": [
            "\n",
            "Extracted Data for Plan 02 in Version 6.3.1:\n",
            "Preprocessor Time: 0.000 hr\n",
            "Unsteady Compute Time: 0.608 hr\n",
            "Volume Error: 0.006%\n",
            "Total Time: 0.629 hr\n",
            "\n",
            "Completed: Version 6.3.1, Plan 02\n",
            "Running simulation for Version 6.3, Plan 02\n"
          ]
        },
        {
          "name": "stderr",
          "output_type": "stream",
          "text": [
            "2025-04-11 11:33:30 - ras_commander.RasCmdr - ERROR - Error message: \n",
            "2025-04-11 11:33:30 - ras_commander.RasCmdr - INFO - Total run time for plan 02: 0.03 seconds\n",
            "2025-04-11 11:33:30 - ras_commander.RasPrj - INFO - Initializing global 'ras' object via init_ras_project function.\n",
            "2025-04-11 11:33:30 - ras_commander.RasMap - INFO - Successfully parsed RASMapper file: d:\\GitHub\\ras-commander\\examples\\example_projects\\BaldEagleCrkMulti2D\\BaldEagleDamBrk.rasmap\n",
            "2025-04-11 11:33:30 - ras_commander.RasPrj - INFO - Project initialized. ras_object project folder: d:\\GitHub\\ras-commander\\examples\\example_projects\\BaldEagleCrkMulti2D\n",
            "2025-04-11 11:33:30 - ras_commander.RasGeo - INFO - Clearing geometry preprocessor file for single plan: d:\\GitHub\\ras-commander\\examples\\example_projects\\BaldEagleCrkMulti2D\\BaldEagleDamBrk.p02\n",
            "2025-04-11 11:33:30 - ras_commander.RasGeo - WARNING - No geometry preprocessor file found for: d:\\GitHub\\ras-commander\\examples\\example_projects\\BaldEagleCrkMulti2D\\BaldEagleDamBrk.p02\n",
            "2025-04-11 11:33:30 - ras_commander.RasGeo - INFO - Geometry dataframe updated successfully.\n",
            "2025-04-11 11:33:30 - ras_commander.RasUtils - INFO - Constructed plan file path: d:\\GitHub\\ras-commander\\examples\\example_projects\\BaldEagleCrkMulti2D\\BaldEagleDamBrk.p02\n",
            "2025-04-11 11:33:30 - ras_commander.RasUtils - INFO - Successfully updated file: d:\\GitHub\\ras-commander\\examples\\example_projects\\BaldEagleCrkMulti2D\\BaldEagleDamBrk.p02\n",
            "2025-04-11 11:33:30 - ras_commander.RasPlan - INFO - Successfully updated run flags in plan file: d:\\GitHub\\ras-commander\\examples\\example_projects\\BaldEagleCrkMulti2D\\BaldEagleDamBrk.p02\n",
            "2025-04-11 11:33:30 - ras_commander.RasCmdr - INFO - Using ras_object with project folder: d:\\GitHub\\ras-commander\\examples\\example_projects\\BaldEagleCrkMulti2D\n",
            "2025-04-11 11:33:30 - ras_commander.RasCmdr - INFO - Running HEC-RAS from the Command Line:\n",
            "2025-04-11 11:33:30 - ras_commander.RasCmdr - INFO - Running command: \"C:\\Program Files (x86)\\HEC\\HEC-RAS\\6.2\\Ras.exe\" -c \"D:\\GitHub\\ras-commander\\examples\\example_projects\\BaldEagleCrkMulti2D\\BaldEagleDamBrk.prj\" \"d:\\GitHub\\ras-commander\\examples\\example_projects\\BaldEagleCrkMulti2D\\BaldEagleDamBrk.p02\"\n"
          ]
        },
        {
          "name": "stdout",
          "output_type": "stream",
          "text": [
            "Failed: Version 6.3, Plan 02\n",
            "Running simulation for Version 6.2, Plan 02\n"
          ]
        },
        {
          "name": "stderr",
          "output_type": "stream",
          "text": [
            "2025-04-11 12:07:43 - ras_commander.RasCmdr - INFO - HEC-RAS execution completed for plan: 02\n",
            "2025-04-11 12:07:43 - ras_commander.RasCmdr - INFO - Total run time for plan 02: 2052.68 seconds\n",
            "2025-04-11 12:07:43 - ras_commander.HdfResultsPlan - INFO - Using HDF file from direct string path: d:\\GitHub\\ras-commander\\examples\\example_projects\\BaldEagleCrkMulti2D\\BaldEagleDamBrk.p02.hdf\n",
            "2025-04-11 12:07:43 - ras_commander.HdfResultsPlan - INFO - Final validated HDF file path: d:\\GitHub\\ras-commander\\examples\\example_projects\\BaldEagleCrkMulti2D\\BaldEagleDamBrk.p02.hdf\n",
            "2025-04-11 12:07:43 - ras_commander.HdfResultsPlan - INFO - Extracting Plan Information from: BaldEagleDamBrk.p02.hdf\n",
            "2025-04-11 12:07:43 - ras_commander.HdfResultsPlan - INFO - Plan Name: SA to Detailed 2D Breach\n",
            "2025-04-11 12:07:43 - ras_commander.HdfResultsPlan - INFO - Simulation Duration (hours): 72.0\n",
            "2025-04-11 12:07:43 - ras_commander.HdfResultsPlan - INFO - Using HDF file from direct string path: d:\\GitHub\\ras-commander\\examples\\example_projects\\BaldEagleCrkMulti2D\\BaldEagleDamBrk.p02.hdf\n",
            "2025-04-11 12:07:43 - ras_commander.HdfResultsPlan - INFO - Final validated HDF file path: d:\\GitHub\\ras-commander\\examples\\example_projects\\BaldEagleCrkMulti2D\\BaldEagleDamBrk.p02.hdf\n",
            "2025-04-11 12:07:43 - ras_commander.RasPrj - INFO - Initializing global 'ras' object via init_ras_project function.\n",
            "2025-04-11 12:07:43 - ras_commander.RasMap - INFO - Successfully parsed RASMapper file: d:\\GitHub\\ras-commander\\examples\\example_projects\\BaldEagleCrkMulti2D\\BaldEagleDamBrk.rasmap\n",
            "2025-04-11 12:07:43 - ras_commander.RasPrj - INFO - Project initialized. ras_object project folder: d:\\GitHub\\ras-commander\\examples\\example_projects\\BaldEagleCrkMulti2D\n",
            "2025-04-11 12:07:43 - ras_commander.RasGeo - INFO - Clearing geometry preprocessor file for single plan: d:\\GitHub\\ras-commander\\examples\\example_projects\\BaldEagleCrkMulti2D\\BaldEagleDamBrk.p02\n",
            "2025-04-11 12:07:43 - ras_commander.RasGeo - WARNING - No geometry preprocessor file found for: d:\\GitHub\\ras-commander\\examples\\example_projects\\BaldEagleCrkMulti2D\\BaldEagleDamBrk.p02\n",
            "2025-04-11 12:07:43 - ras_commander.RasGeo - INFO - Geometry dataframe updated successfully.\n",
            "2025-04-11 12:07:43 - ras_commander.RasUtils - INFO - Constructed plan file path: d:\\GitHub\\ras-commander\\examples\\example_projects\\BaldEagleCrkMulti2D\\BaldEagleDamBrk.p02\n",
            "2025-04-11 12:07:43 - ras_commander.RasUtils - INFO - Successfully updated file: d:\\GitHub\\ras-commander\\examples\\example_projects\\BaldEagleCrkMulti2D\\BaldEagleDamBrk.p02\n",
            "2025-04-11 12:07:43 - ras_commander.RasPlan - INFO - Successfully updated run flags in plan file: d:\\GitHub\\ras-commander\\examples\\example_projects\\BaldEagleCrkMulti2D\\BaldEagleDamBrk.p02\n",
            "2025-04-11 12:07:43 - ras_commander.RasCmdr - INFO - Using ras_object with project folder: d:\\GitHub\\ras-commander\\examples\\example_projects\\BaldEagleCrkMulti2D\n",
            "2025-04-11 12:07:43 - ras_commander.RasCmdr - INFO - Running HEC-RAS from the Command Line:\n",
            "2025-04-11 12:07:43 - ras_commander.RasCmdr - INFO - Running command: \"C:\\Program Files (x86)\\HEC\\HEC-RAS\\6.1\\Ras.exe\" -c \"D:\\GitHub\\ras-commander\\examples\\example_projects\\BaldEagleCrkMulti2D\\BaldEagleDamBrk.prj\" \"d:\\GitHub\\ras-commander\\examples\\example_projects\\BaldEagleCrkMulti2D\\BaldEagleDamBrk.p02\"\n"
          ]
        },
        {
          "name": "stdout",
          "output_type": "stream",
          "text": [
            "\n",
            "Extracted Data for Plan 02 in Version 6.2:\n",
            "Preprocessor Time: 0.000 hr\n",
            "Unsteady Compute Time: 0.549 hr\n",
            "Volume Error: 0.006%\n",
            "Total Time: 0.570 hr\n",
            "\n",
            "Completed: Version 6.2, Plan 02\n",
            "Running simulation for Version 6.1, Plan 02\n"
          ]
        },
        {
          "name": "stderr",
          "output_type": "stream",
          "text": [
            "2025-04-11 12:54:41 - ras_commander.RasCmdr - INFO - HEC-RAS execution completed for plan: 02\n",
            "2025-04-11 12:54:41 - ras_commander.RasCmdr - INFO - Total run time for plan 02: 2818.52 seconds\n",
            "2025-04-11 12:54:41 - ras_commander.HdfResultsPlan - INFO - Using HDF file from direct string path: d:\\GitHub\\ras-commander\\examples\\example_projects\\BaldEagleCrkMulti2D\\BaldEagleDamBrk.p02.hdf\n",
            "2025-04-11 12:54:41 - ras_commander.HdfResultsPlan - INFO - Final validated HDF file path: d:\\GitHub\\ras-commander\\examples\\example_projects\\BaldEagleCrkMulti2D\\BaldEagleDamBrk.p02.hdf\n",
            "2025-04-11 12:54:41 - ras_commander.HdfResultsPlan - INFO - Extracting Plan Information from: BaldEagleDamBrk.p02.hdf\n",
            "2025-04-11 12:54:41 - ras_commander.HdfResultsPlan - INFO - Plan Name: SA to Detailed 2D Breach\n",
            "2025-04-11 12:54:41 - ras_commander.HdfResultsPlan - INFO - Simulation Duration (hours): 72.0\n",
            "2025-04-11 12:54:41 - ras_commander.HdfResultsPlan - INFO - Using HDF file from direct string path: d:\\GitHub\\ras-commander\\examples\\example_projects\\BaldEagleCrkMulti2D\\BaldEagleDamBrk.p02.hdf\n",
            "2025-04-11 12:54:41 - ras_commander.HdfResultsPlan - INFO - Final validated HDF file path: d:\\GitHub\\ras-commander\\examples\\example_projects\\BaldEagleCrkMulti2D\\BaldEagleDamBrk.p02.hdf\n",
            "2025-04-11 12:54:41 - ras_commander.RasPrj - INFO - Initializing global 'ras' object via init_ras_project function.\n",
            "2025-04-11 12:54:41 - ras_commander.RasMap - INFO - Successfully parsed RASMapper file: d:\\GitHub\\ras-commander\\examples\\example_projects\\BaldEagleCrkMulti2D\\BaldEagleDamBrk.rasmap\n",
            "2025-04-11 12:54:41 - ras_commander.RasPrj - INFO - Project initialized. ras_object project folder: d:\\GitHub\\ras-commander\\examples\\example_projects\\BaldEagleCrkMulti2D\n",
            "2025-04-11 12:54:42 - ras_commander.RasGeo - INFO - Clearing geometry preprocessor file for single plan: d:\\GitHub\\ras-commander\\examples\\example_projects\\BaldEagleCrkMulti2D\\BaldEagleDamBrk.p02\n",
            "2025-04-11 12:54:42 - ras_commander.RasGeo - WARNING - No geometry preprocessor file found for: d:\\GitHub\\ras-commander\\examples\\example_projects\\BaldEagleCrkMulti2D\\BaldEagleDamBrk.p02\n",
            "2025-04-11 12:54:42 - ras_commander.RasGeo - INFO - Geometry dataframe updated successfully.\n",
            "2025-04-11 12:54:42 - ras_commander.RasUtils - INFO - Constructed plan file path: d:\\GitHub\\ras-commander\\examples\\example_projects\\BaldEagleCrkMulti2D\\BaldEagleDamBrk.p02\n",
            "2025-04-11 12:54:42 - ras_commander.RasUtils - INFO - Successfully updated file: d:\\GitHub\\ras-commander\\examples\\example_projects\\BaldEagleCrkMulti2D\\BaldEagleDamBrk.p02\n"
          ]
        },
        {
          "name": "stdout",
          "output_type": "stream",
          "text": [
            "\n",
            "Extracted Data for Plan 02 in Version 6.1:\n",
            "Preprocessor Time: 0.000 hr\n",
            "Unsteady Compute Time: 0.763 hr\n",
            "Volume Error: 0.006%\n",
            "Total Time: 0.783 hr\n",
            "\n",
            "Completed: Version 6.1, Plan 02\n",
            "Running simulation for Version 6.0, Plan 02\n"
          ]
        },
        {
          "name": "stderr",
          "output_type": "stream",
          "text": [
            "2025-04-11 12:54:42 - ras_commander.RasPlan - INFO - Successfully updated run flags in plan file: d:\\GitHub\\ras-commander\\examples\\example_projects\\BaldEagleCrkMulti2D\\BaldEagleDamBrk.p02\n",
            "2025-04-11 12:54:42 - ras_commander.RasCmdr - INFO - Using ras_object with project folder: d:\\GitHub\\ras-commander\\examples\\example_projects\\BaldEagleCrkMulti2D\n",
            "2025-04-11 12:54:42 - ras_commander.RasCmdr - INFO - Running HEC-RAS from the Command Line:\n",
            "2025-04-11 12:54:42 - ras_commander.RasCmdr - INFO - Running command: \"C:\\Program Files (x86)\\HEC\\HEC-RAS\\6.0\\Ras.exe\" -c \"D:\\GitHub\\ras-commander\\examples\\example_projects\\BaldEagleCrkMulti2D\\BaldEagleDamBrk.prj\" \"d:\\GitHub\\ras-commander\\examples\\example_projects\\BaldEagleCrkMulti2D\\BaldEagleDamBrk.p02\"\n",
            "2025-04-11 13:40:33 - ras_commander.RasCmdr - INFO - HEC-RAS execution completed for plan: 02\n",
            "2025-04-11 13:40:33 - ras_commander.RasCmdr - INFO - Total run time for plan 02: 2750.95 seconds\n",
            "2025-04-11 13:40:33 - ras_commander.HdfResultsPlan - INFO - Using HDF file from direct string path: d:\\GitHub\\ras-commander\\examples\\example_projects\\BaldEagleCrkMulti2D\\BaldEagleDamBrk.p02.hdf\n",
            "2025-04-11 13:40:33 - ras_commander.HdfResultsPlan - INFO - Final validated HDF file path: d:\\GitHub\\ras-commander\\examples\\example_projects\\BaldEagleCrkMulti2D\\BaldEagleDamBrk.p02.hdf\n",
            "2025-04-11 13:40:33 - ras_commander.HdfResultsPlan - INFO - Extracting Plan Information from: BaldEagleDamBrk.p02.hdf\n",
            "2025-04-11 13:40:33 - ras_commander.HdfResultsPlan - INFO - Plan Name: SA to Detailed 2D Breach\n",
            "2025-04-11 13:40:33 - ras_commander.HdfResultsPlan - INFO - Simulation Duration (hours): 72.0\n",
            "2025-04-11 13:40:33 - ras_commander.HdfResultsPlan - INFO - Using HDF file from direct string path: d:\\GitHub\\ras-commander\\examples\\example_projects\\BaldEagleCrkMulti2D\\BaldEagleDamBrk.p02.hdf\n",
            "2025-04-11 13:40:33 - ras_commander.HdfResultsPlan - INFO - Final validated HDF file path: d:\\GitHub\\ras-commander\\examples\\example_projects\\BaldEagleCrkMulti2D\\BaldEagleDamBrk.p02.hdf\n"
          ]
        },
        {
          "name": "stdout",
          "output_type": "stream",
          "text": [
            "\n",
            "Extracted Data for Plan 02 in Version 6.0:\n",
            "Preprocessor Time: 0.000 hr\n",
            "Unsteady Compute Time: 0.758 hr\n",
            "Volume Error: 0.006%\n",
            "Total Time: 0.764 hr\n",
            "\n",
            "Completed: Version 6.0, Plan 02\n",
            "Initial results saved to 'save_initial_results.csv'\n"
          ]
        }
      ],
      "source": [
        "# Run simulations for all versions with plan_number defined by user\n",
        "results = []\n",
        "for version in versions:\n",
        "    print(f\"Running simulation for Version {version}, Plan {plan_number}\")\n",
        "    result = run_simulation(version, plan_number) \n",
        "    if result is not None:  # Check if result is not None\n",
        "        results.append(result)\n",
        "        print(f\"Completed: Version {version}, Plan {plan_number}\")\n",
        "    else:\n",
        "        print(f\"Failed: Version {version}, Plan {plan_number}\")\n",
        "\n",
        "# Create DataFrame from results\n",
        "df = pd.DataFrame(results)\n",
        "\n",
        "# Save initial results to CSV\n",
        "df.to_csv('save_initial_results.csv', index=False)\n",
        "\n",
        "print(\"Initial results saved to 'save_initial_results.csv'\")\n"
      ]
    },
    {
      "cell_type": "code",
      "execution_count": 11,
      "metadata": {},
      "outputs": [
        {
          "name": "stderr",
          "output_type": "stream",
          "text": [
            "2025-04-11 13:40:33 - matplotlib.category - INFO - Using categorical units to plot a list of strings that are all parsable as floats or dates. If these strings should be plotted as numbers, cast to the appropriate data type before plotting.\n",
            "2025-04-11 13:40:33 - matplotlib.category - INFO - Using categorical units to plot a list of strings that are all parsable as floats or dates. If these strings should be plotted as numbers, cast to the appropriate data type before plotting.\n",
            "2025-04-11 13:40:33 - matplotlib.category - INFO - Using categorical units to plot a list of strings that are all parsable as floats or dates. If these strings should be plotted as numbers, cast to the appropriate data type before plotting.\n",
            "2025-04-11 13:40:33 - matplotlib.category - INFO - Using categorical units to plot a list of strings that are all parsable as floats or dates. If these strings should be plotted as numbers, cast to the appropriate data type before plotting.\n"
          ]
        },
        {
          "data": {
            "text/plain": [
              "<Figure size 1200x600 with 2 Axes>"
            ]
          },
          "metadata": {},
          "output_type": "display_data"
        }
      ],
      "source": [
        "# Create line graphs\n",
        "plt.figure(figsize=(12, 6))\n",
        "\n",
        "# Unsteady Runtime vs Version\n",
        "plt.subplot(1, 2, 1)\n",
        "# Convert Version to categorical type to handle string versions properly\n",
        "plt.plot(pd.Categorical(df['Version']), df['Unsteady Compute Time (hr)'], marker='o')\n",
        "plt.title(f'Unsteady Runtime vs HEC-RAS Version (Plan {plan_number})')\n",
        "plt.xlabel('HEC-RAS Version')\n",
        "plt.ylabel('Unsteady Runtime (hours)')\n",
        "plt.grid(True, linestyle='--', alpha=0.7)\n",
        "\n",
        "# Volume Error vs Version\n",
        "plt.subplot(1, 2, 2)\n",
        "plt.plot(pd.Categorical(df['Version']), df['Volume Error (%)'], marker='o')\n",
        "plt.title(f'Volume Error vs HEC-RAS Version (Plan {plan_number})')\n",
        "plt.xlabel('HEC-RAS Version')\n",
        "plt.ylabel('Volume Error (%)')\n",
        "plt.grid(True, linestyle='--', alpha=0.7)\n",
        "\n",
        "plt.tight_layout()\n",
        "plt.show()"
      ]
    },
    {
      "cell_type": "code",
      "execution_count": 9,
      "metadata": {},
      "outputs": [
        {
          "name": "stderr",
          "output_type": "stream",
          "text": [
            "2025-04-10 08:27:31 - ras_commander.RasPrj - INFO - Initializing global 'ras' object via init_ras_project function.\n",
            "2025-04-10 08:27:31 - ras_commander.RasMap - INFO - Successfully parsed RASMapper file: d:\\GitHub\\ras-commander\\examples\\example_projects\\BaldEagleCrkMulti2D\\BaldEagleDamBrk.rasmap\n",
            "2025-04-10 08:27:31 - ras_commander.RasPrj - INFO - Project initialized. ras_object project folder: d:\\GitHub\\ras-commander\\examples\\example_projects\\BaldEagleCrkMulti2D\n",
            "2025-04-10 08:27:31 - ras_commander.RasGeo - INFO - Clearing geometry preprocessor file for single plan: d:\\GitHub\\ras-commander\\examples\\example_projects\\BaldEagleCrkMulti2D\\BaldEagleDamBrk.p13\n",
            "2025-04-10 08:27:31 - ras_commander.RasGeo - WARNING - No geometry preprocessor file found for: d:\\GitHub\\ras-commander\\examples\\example_projects\\BaldEagleCrkMulti2D\\BaldEagleDamBrk.p13\n",
            "2025-04-10 08:27:31 - ras_commander.RasGeo - INFO - Geometry dataframe updated successfully.\n",
            "2025-04-10 08:27:31 - ras_commander.RasUtils - INFO - Constructed plan file path: d:\\GitHub\\ras-commander\\examples\\example_projects\\BaldEagleCrkMulti2D\\BaldEagleDamBrk.p13\n",
            "2025-04-10 08:27:31 - ras_commander.RasUtils - INFO - Successfully updated file: d:\\GitHub\\ras-commander\\examples\\example_projects\\BaldEagleCrkMulti2D\\BaldEagleDamBrk.p13\n"
          ]
        },
        {
          "name": "stdout",
          "output_type": "stream",
          "text": [
            "Running simulation for Version 6.6, Plan 13 with 2 cores\n"
          ]
        },
        {
          "name": "stderr",
          "output_type": "stream",
          "text": [
            "2025-04-10 08:27:31 - ras_commander.RasPlan - INFO - Successfully updated run flags in plan file: d:\\GitHub\\ras-commander\\examples\\example_projects\\BaldEagleCrkMulti2D\\BaldEagleDamBrk.p13\n",
            "2025-04-10 08:27:31 - ras_commander.RasCmdr - INFO - Using ras_object with project folder: d:\\GitHub\\ras-commander\\examples\\example_projects\\BaldEagleCrkMulti2D\n",
            "2025-04-10 08:27:31 - ras_commander.RasCmdr - INFO - Running HEC-RAS from the Command Line:\n",
            "2025-04-10 08:27:31 - ras_commander.RasCmdr - INFO - Running command: \"C:\\Program Files (x86)\\HEC\\HEC-RAS\\6.6\\Ras.exe\" -c \"D:\\GitHub\\ras-commander\\examples\\example_projects\\BaldEagleCrkMulti2D\\BaldEagleDamBrk.prj\" \"d:\\GitHub\\ras-commander\\examples\\example_projects\\BaldEagleCrkMulti2D\\BaldEagleDamBrk.p13\"\n",
            "2025-04-10 08:31:42 - ras_commander.RasCmdr - INFO - HEC-RAS execution completed for plan: 13\n",
            "2025-04-10 08:31:42 - ras_commander.RasCmdr - INFO - Total run time for plan 13: 251.69 seconds\n",
            "2025-04-10 08:31:42 - ras_commander.HdfResultsPlan - INFO - Using HDF file from direct string path: d:\\GitHub\\ras-commander\\examples\\example_projects\\BaldEagleCrkMulti2D\\BaldEagleDamBrk.p13.hdf\n",
            "2025-04-10 08:31:42 - ras_commander.HdfResultsPlan - INFO - Final validated HDF file path: d:\\GitHub\\ras-commander\\examples\\example_projects\\BaldEagleCrkMulti2D\\BaldEagleDamBrk.p13.hdf\n",
            "2025-04-10 08:31:42 - ras_commander.HdfResultsPlan - INFO - Extracting Plan Information from: BaldEagleDamBrk.p13.hdf\n",
            "2025-04-10 08:31:42 - ras_commander.HdfResultsPlan - INFO - Plan Name: PMF with Multi 2D Areas\n",
            "2025-04-10 08:31:42 - ras_commander.HdfResultsPlan - INFO - Simulation Duration (hours): 72.0\n",
            "2025-04-10 08:31:42 - ras_commander.HdfResultsPlan - INFO - Using HDF file from direct string path: d:\\GitHub\\ras-commander\\examples\\example_projects\\BaldEagleCrkMulti2D\\BaldEagleDamBrk.p13.hdf\n",
            "2025-04-10 08:31:42 - ras_commander.HdfResultsPlan - INFO - Final validated HDF file path: d:\\GitHub\\ras-commander\\examples\\example_projects\\BaldEagleCrkMulti2D\\BaldEagleDamBrk.p13.hdf\n",
            "2025-04-10 08:31:42 - ras_commander.RasPrj - INFO - Initializing global 'ras' object via init_ras_project function.\n",
            "2025-04-10 08:31:43 - ras_commander.RasMap - INFO - Successfully parsed RASMapper file: d:\\GitHub\\ras-commander\\examples\\example_projects\\BaldEagleCrkMulti2D\\BaldEagleDamBrk.rasmap\n",
            "2025-04-10 08:31:43 - ras_commander.RasPrj - INFO - Project initialized. ras_object project folder: d:\\GitHub\\ras-commander\\examples\\example_projects\\BaldEagleCrkMulti2D\n",
            "2025-04-10 08:31:43 - ras_commander.RasGeo - INFO - Clearing geometry preprocessor file for single plan: d:\\GitHub\\ras-commander\\examples\\example_projects\\BaldEagleCrkMulti2D\\BaldEagleDamBrk.p15\n",
            "2025-04-10 08:31:43 - ras_commander.RasGeo - WARNING - No geometry preprocessor file found for: d:\\GitHub\\ras-commander\\examples\\example_projects\\BaldEagleCrkMulti2D\\BaldEagleDamBrk.p15\n",
            "2025-04-10 08:31:43 - ras_commander.RasGeo - INFO - Geometry dataframe updated successfully.\n",
            "2025-04-10 08:31:43 - ras_commander.RasUtils - INFO - Constructed plan file path: d:\\GitHub\\ras-commander\\examples\\example_projects\\BaldEagleCrkMulti2D\\BaldEagleDamBrk.p15\n",
            "2025-04-10 08:31:43 - ras_commander.RasUtils - INFO - Successfully updated file: d:\\GitHub\\ras-commander\\examples\\example_projects\\BaldEagleCrkMulti2D\\BaldEagleDamBrk.p15\n",
            "2025-04-10 08:31:43 - ras_commander.RasPlan - INFO - Successfully updated run flags in plan file: d:\\GitHub\\ras-commander\\examples\\example_projects\\BaldEagleCrkMulti2D\\BaldEagleDamBrk.p15\n",
            "2025-04-10 08:31:43 - ras_commander.RasCmdr - INFO - Using ras_object with project folder: d:\\GitHub\\ras-commander\\examples\\example_projects\\BaldEagleCrkMulti2D\n",
            "2025-04-10 08:31:43 - ras_commander.RasCmdr - INFO - Running HEC-RAS from the Command Line:\n",
            "2025-04-10 08:31:43 - ras_commander.RasCmdr - INFO - Running command: \"C:\\Program Files (x86)\\HEC\\HEC-RAS\\6.6\\Ras.exe\" -c \"D:\\GitHub\\ras-commander\\examples\\example_projects\\BaldEagleCrkMulti2D\\BaldEagleDamBrk.prj\" \"d:\\GitHub\\ras-commander\\examples\\example_projects\\BaldEagleCrkMulti2D\\BaldEagleDamBrk.p15\"\n"
          ]
        },
        {
          "name": "stdout",
          "output_type": "stream",
          "text": [
            "Completed: Plan 13 with 2 cores\n",
            "Running simulation for Version 6.6, Plan 15 with 2 cores\n"
          ]
        },
        {
          "name": "stderr",
          "output_type": "stream",
          "text": [
            "2025-04-10 08:36:06 - ras_commander.RasCmdr - INFO - HEC-RAS execution completed for plan: 15\n",
            "2025-04-10 08:36:06 - ras_commander.RasCmdr - INFO - Total run time for plan 15: 263.55 seconds\n",
            "2025-04-10 08:36:06 - ras_commander.HdfResultsPlan - INFO - Using HDF file from direct string path: d:\\GitHub\\ras-commander\\examples\\example_projects\\BaldEagleCrkMulti2D\\BaldEagleDamBrk.p15.hdf\n",
            "2025-04-10 08:36:06 - ras_commander.HdfResultsPlan - INFO - Final validated HDF file path: d:\\GitHub\\ras-commander\\examples\\example_projects\\BaldEagleCrkMulti2D\\BaldEagleDamBrk.p15.hdf\n",
            "2025-04-10 08:36:06 - ras_commander.HdfResultsPlan - INFO - Extracting Plan Information from: BaldEagleDamBrk.p15.hdf\n",
            "2025-04-10 08:36:06 - ras_commander.HdfResultsPlan - INFO - Plan Name: 1d-2D Dambreak Refined Grid\n",
            "2025-04-10 08:36:06 - ras_commander.HdfResultsPlan - INFO - Simulation Duration (hours): 72.0\n",
            "2025-04-10 08:36:06 - ras_commander.HdfResultsPlan - INFO - Using HDF file from direct string path: d:\\GitHub\\ras-commander\\examples\\example_projects\\BaldEagleCrkMulti2D\\BaldEagleDamBrk.p15.hdf\n",
            "2025-04-10 08:36:06 - ras_commander.HdfResultsPlan - INFO - Final validated HDF file path: d:\\GitHub\\ras-commander\\examples\\example_projects\\BaldEagleCrkMulti2D\\BaldEagleDamBrk.p15.hdf\n",
            "2025-04-10 08:36:06 - ras_commander.RasPrj - INFO - Initializing global 'ras' object via init_ras_project function.\n",
            "2025-04-10 08:36:06 - ras_commander.RasMap - INFO - Successfully parsed RASMapper file: d:\\GitHub\\ras-commander\\examples\\example_projects\\BaldEagleCrkMulti2D\\BaldEagleDamBrk.rasmap\n",
            "2025-04-10 08:36:06 - ras_commander.RasPrj - INFO - Project initialized. ras_object project folder: d:\\GitHub\\ras-commander\\examples\\example_projects\\BaldEagleCrkMulti2D\n",
            "2025-04-10 08:36:06 - ras_commander.RasGeo - INFO - Clearing geometry preprocessor file for single plan: d:\\GitHub\\ras-commander\\examples\\example_projects\\BaldEagleCrkMulti2D\\BaldEagleDamBrk.p17\n",
            "2025-04-10 08:36:06 - ras_commander.RasGeo - WARNING - No geometry preprocessor file found for: d:\\GitHub\\ras-commander\\examples\\example_projects\\BaldEagleCrkMulti2D\\BaldEagleDamBrk.p17\n",
            "2025-04-10 08:36:06 - ras_commander.RasGeo - INFO - Geometry dataframe updated successfully.\n",
            "2025-04-10 08:36:06 - ras_commander.RasUtils - INFO - Constructed plan file path: d:\\GitHub\\ras-commander\\examples\\example_projects\\BaldEagleCrkMulti2D\\BaldEagleDamBrk.p17\n",
            "2025-04-10 08:36:06 - ras_commander.RasUtils - INFO - Successfully updated file: d:\\GitHub\\ras-commander\\examples\\example_projects\\BaldEagleCrkMulti2D\\BaldEagleDamBrk.p17\n",
            "2025-04-10 08:36:06 - ras_commander.RasPlan - INFO - Successfully updated run flags in plan file: d:\\GitHub\\ras-commander\\examples\\example_projects\\BaldEagleCrkMulti2D\\BaldEagleDamBrk.p17\n",
            "2025-04-10 08:36:06 - ras_commander.RasCmdr - INFO - Using ras_object with project folder: d:\\GitHub\\ras-commander\\examples\\example_projects\\BaldEagleCrkMulti2D\n",
            "2025-04-10 08:36:06 - ras_commander.RasCmdr - INFO - Running HEC-RAS from the Command Line:\n"
          ]
        },
        {
          "name": "stdout",
          "output_type": "stream",
          "text": [
            "Completed: Plan 15 with 2 cores\n",
            "Running simulation for Version 6.6, Plan 17 with 2 cores\n"
          ]
        },
        {
          "name": "stderr",
          "output_type": "stream",
          "text": [
            "2025-04-10 08:36:06 - ras_commander.RasCmdr - INFO - Running command: \"C:\\Program Files (x86)\\HEC\\HEC-RAS\\6.6\\Ras.exe\" -c \"D:\\GitHub\\ras-commander\\examples\\example_projects\\BaldEagleCrkMulti2D\\BaldEagleDamBrk.prj\" \"d:\\GitHub\\ras-commander\\examples\\example_projects\\BaldEagleCrkMulti2D\\BaldEagleDamBrk.p17\"\n",
            "2025-04-10 08:40:04 - ras_commander.RasCmdr - INFO - HEC-RAS execution completed for plan: 17\n",
            "2025-04-10 08:40:04 - ras_commander.RasCmdr - INFO - Total run time for plan 17: 237.88 seconds\n",
            "2025-04-10 08:40:04 - ras_commander.HdfResultsPlan - INFO - Using HDF file from direct string path: d:\\GitHub\\ras-commander\\examples\\example_projects\\BaldEagleCrkMulti2D\\BaldEagleDamBrk.p17.hdf\n",
            "2025-04-10 08:40:04 - ras_commander.HdfResultsPlan - INFO - Final validated HDF file path: d:\\GitHub\\ras-commander\\examples\\example_projects\\BaldEagleCrkMulti2D\\BaldEagleDamBrk.p17.hdf\n",
            "2025-04-10 08:40:04 - ras_commander.HdfResultsPlan - INFO - Extracting Plan Information from: BaldEagleDamBrk.p17.hdf\n",
            "2025-04-10 08:40:04 - ras_commander.HdfResultsPlan - INFO - Plan Name: 2D to 1D No Dam\n",
            "2025-04-10 08:40:04 - ras_commander.HdfResultsPlan - INFO - Simulation Duration (hours): 120.0\n",
            "2025-04-10 08:40:04 - ras_commander.HdfResultsPlan - INFO - Using HDF file from direct string path: d:\\GitHub\\ras-commander\\examples\\example_projects\\BaldEagleCrkMulti2D\\BaldEagleDamBrk.p17.hdf\n",
            "2025-04-10 08:40:04 - ras_commander.HdfResultsPlan - INFO - Final validated HDF file path: d:\\GitHub\\ras-commander\\examples\\example_projects\\BaldEagleCrkMulti2D\\BaldEagleDamBrk.p17.hdf\n",
            "2025-04-10 08:40:04 - ras_commander.RasPrj - INFO - Initializing global 'ras' object via init_ras_project function.\n",
            "2025-04-10 08:40:04 - ras_commander.RasMap - INFO - Successfully parsed RASMapper file: d:\\GitHub\\ras-commander\\examples\\example_projects\\BaldEagleCrkMulti2D\\BaldEagleDamBrk.rasmap\n",
            "2025-04-10 08:40:04 - ras_commander.RasPrj - INFO - Project initialized. ras_object project folder: d:\\GitHub\\ras-commander\\examples\\example_projects\\BaldEagleCrkMulti2D\n",
            "2025-04-10 08:40:04 - ras_commander.RasGeo - INFO - Clearing geometry preprocessor file for single plan: d:\\GitHub\\ras-commander\\examples\\example_projects\\BaldEagleCrkMulti2D\\BaldEagleDamBrk.p18\n",
            "2025-04-10 08:40:04 - ras_commander.RasGeo - WARNING - No geometry preprocessor file found for: d:\\GitHub\\ras-commander\\examples\\example_projects\\BaldEagleCrkMulti2D\\BaldEagleDamBrk.p18\n",
            "2025-04-10 08:40:04 - ras_commander.RasGeo - INFO - Geometry dataframe updated successfully.\n",
            "2025-04-10 08:40:04 - ras_commander.RasUtils - INFO - Constructed plan file path: d:\\GitHub\\ras-commander\\examples\\example_projects\\BaldEagleCrkMulti2D\\BaldEagleDamBrk.p18\n",
            "2025-04-10 08:40:04 - ras_commander.RasUtils - INFO - Successfully updated file: d:\\GitHub\\ras-commander\\examples\\example_projects\\BaldEagleCrkMulti2D\\BaldEagleDamBrk.p18\n",
            "2025-04-10 08:40:04 - ras_commander.RasPlan - INFO - Successfully updated run flags in plan file: d:\\GitHub\\ras-commander\\examples\\example_projects\\BaldEagleCrkMulti2D\\BaldEagleDamBrk.p18\n",
            "2025-04-10 08:40:04 - ras_commander.RasCmdr - INFO - Using ras_object with project folder: d:\\GitHub\\ras-commander\\examples\\example_projects\\BaldEagleCrkMulti2D\n",
            "2025-04-10 08:40:04 - ras_commander.RasCmdr - INFO - Running HEC-RAS from the Command Line:\n",
            "2025-04-10 08:40:04 - ras_commander.RasCmdr - INFO - Running command: \"C:\\Program Files (x86)\\HEC\\HEC-RAS\\6.6\\Ras.exe\" -c \"D:\\GitHub\\ras-commander\\examples\\example_projects\\BaldEagleCrkMulti2D\\BaldEagleDamBrk.prj\" \"d:\\GitHub\\ras-commander\\examples\\example_projects\\BaldEagleCrkMulti2D\\BaldEagleDamBrk.p18\"\n"
          ]
        },
        {
          "name": "stdout",
          "output_type": "stream",
          "text": [
            "Completed: Plan 17 with 2 cores\n",
            "Running simulation for Version 6.6, Plan 18 with 2 cores\n"
          ]
        },
        {
          "name": "stderr",
          "output_type": "stream",
          "text": [
            "2025-04-10 08:41:20 - ras_commander.RasCmdr - INFO - HEC-RAS execution completed for plan: 18\n",
            "2025-04-10 08:41:20 - ras_commander.RasCmdr - INFO - Total run time for plan 18: 75.89 seconds\n",
            "2025-04-10 08:41:20 - ras_commander.HdfResultsPlan - INFO - Using HDF file from direct string path: d:\\GitHub\\ras-commander\\examples\\example_projects\\BaldEagleCrkMulti2D\\BaldEagleDamBrk.p18.hdf\n",
            "2025-04-10 08:41:20 - ras_commander.HdfResultsPlan - INFO - Final validated HDF file path: d:\\GitHub\\ras-commander\\examples\\example_projects\\BaldEagleCrkMulti2D\\BaldEagleDamBrk.p18.hdf\n",
            "2025-04-10 08:41:20 - ras_commander.HdfResultsPlan - INFO - Extracting Plan Information from: BaldEagleDamBrk.p18.hdf\n",
            "2025-04-10 08:41:20 - ras_commander.HdfResultsPlan - INFO - Plan Name: 2D to 2D Run\n",
            "2025-04-10 08:41:20 - ras_commander.HdfResultsPlan - INFO - Simulation Duration (hours): 72.0\n",
            "2025-04-10 08:41:20 - ras_commander.HdfResultsPlan - INFO - Using HDF file from direct string path: d:\\GitHub\\ras-commander\\examples\\example_projects\\BaldEagleCrkMulti2D\\BaldEagleDamBrk.p18.hdf\n",
            "2025-04-10 08:41:20 - ras_commander.HdfResultsPlan - INFO - Final validated HDF file path: d:\\GitHub\\ras-commander\\examples\\example_projects\\BaldEagleCrkMulti2D\\BaldEagleDamBrk.p18.hdf\n",
            "2025-04-10 08:41:20 - ras_commander.RasPrj - INFO - Initializing global 'ras' object via init_ras_project function.\n",
            "2025-04-10 08:41:20 - ras_commander.RasMap - INFO - Successfully parsed RASMapper file: d:\\GitHub\\ras-commander\\examples\\example_projects\\BaldEagleCrkMulti2D\\BaldEagleDamBrk.rasmap\n",
            "2025-04-10 08:41:20 - ras_commander.RasPrj - INFO - Project initialized. ras_object project folder: d:\\GitHub\\ras-commander\\examples\\example_projects\\BaldEagleCrkMulti2D\n",
            "2025-04-10 08:41:21 - ras_commander.RasGeo - INFO - Clearing geometry preprocessor file for single plan: d:\\GitHub\\ras-commander\\examples\\example_projects\\BaldEagleCrkMulti2D\\BaldEagleDamBrk.p19\n",
            "2025-04-10 08:41:21 - ras_commander.RasGeo - WARNING - No geometry preprocessor file found for: d:\\GitHub\\ras-commander\\examples\\example_projects\\BaldEagleCrkMulti2D\\BaldEagleDamBrk.p19\n",
            "2025-04-10 08:41:21 - ras_commander.RasGeo - INFO - Geometry dataframe updated successfully.\n",
            "2025-04-10 08:41:21 - ras_commander.RasUtils - INFO - Constructed plan file path: d:\\GitHub\\ras-commander\\examples\\example_projects\\BaldEagleCrkMulti2D\\BaldEagleDamBrk.p19\n",
            "2025-04-10 08:41:21 - ras_commander.RasUtils - INFO - Successfully updated file: d:\\GitHub\\ras-commander\\examples\\example_projects\\BaldEagleCrkMulti2D\\BaldEagleDamBrk.p19\n",
            "2025-04-10 08:41:21 - ras_commander.RasPlan - INFO - Successfully updated run flags in plan file: d:\\GitHub\\ras-commander\\examples\\example_projects\\BaldEagleCrkMulti2D\\BaldEagleDamBrk.p19\n",
            "2025-04-10 08:41:21 - ras_commander.RasCmdr - INFO - Using ras_object with project folder: d:\\GitHub\\ras-commander\\examples\\example_projects\\BaldEagleCrkMulti2D\n",
            "2025-04-10 08:41:21 - ras_commander.RasCmdr - INFO - Running HEC-RAS from the Command Line:\n",
            "2025-04-10 08:41:21 - ras_commander.RasCmdr - INFO - Running command: \"C:\\Program Files (x86)\\HEC\\HEC-RAS\\6.6\\Ras.exe\" -c \"D:\\GitHub\\ras-commander\\examples\\example_projects\\BaldEagleCrkMulti2D\\BaldEagleDamBrk.prj\" \"d:\\GitHub\\ras-commander\\examples\\example_projects\\BaldEagleCrkMulti2D\\BaldEagleDamBrk.p19\"\n"
          ]
        },
        {
          "name": "stdout",
          "output_type": "stream",
          "text": [
            "Completed: Plan 18 with 2 cores\n",
            "Running simulation for Version 6.6, Plan 19 with 2 cores\n"
          ]
        },
        {
          "name": "stderr",
          "output_type": "stream",
          "text": [
            "2025-04-10 08:42:23 - ras_commander.RasCmdr - INFO - HEC-RAS execution completed for plan: 19\n",
            "2025-04-10 08:42:23 - ras_commander.RasCmdr - INFO - Total run time for plan 19: 62.23 seconds\n",
            "2025-04-10 08:42:23 - ras_commander.HdfResultsPlan - INFO - Using HDF file from direct string path: d:\\GitHub\\ras-commander\\examples\\example_projects\\BaldEagleCrkMulti2D\\BaldEagleDamBrk.p19.hdf\n",
            "2025-04-10 08:42:23 - ras_commander.HdfResultsPlan - INFO - Final validated HDF file path: d:\\GitHub\\ras-commander\\examples\\example_projects\\BaldEagleCrkMulti2D\\BaldEagleDamBrk.p19.hdf\n",
            "2025-04-10 08:42:23 - ras_commander.HdfResultsPlan - INFO - Extracting Plan Information from: BaldEagleDamBrk.p19.hdf\n",
            "2025-04-10 08:42:23 - ras_commander.HdfResultsPlan - INFO - Plan Name: SA to 2D Dam Break Run\n",
            "2025-04-10 08:42:23 - ras_commander.HdfResultsPlan - INFO - Simulation Duration (hours): 72.0\n",
            "2025-04-10 08:42:23 - ras_commander.HdfResultsPlan - INFO - Using HDF file from direct string path: d:\\GitHub\\ras-commander\\examples\\example_projects\\BaldEagleCrkMulti2D\\BaldEagleDamBrk.p19.hdf\n",
            "2025-04-10 08:42:23 - ras_commander.HdfResultsPlan - INFO - Final validated HDF file path: d:\\GitHub\\ras-commander\\examples\\example_projects\\BaldEagleCrkMulti2D\\BaldEagleDamBrk.p19.hdf\n",
            "2025-04-10 08:42:23 - ras_commander.RasPrj - INFO - Initializing global 'ras' object via init_ras_project function.\n",
            "2025-04-10 08:42:23 - ras_commander.RasMap - INFO - Successfully parsed RASMapper file: d:\\GitHub\\ras-commander\\examples\\example_projects\\BaldEagleCrkMulti2D\\BaldEagleDamBrk.rasmap\n",
            "2025-04-10 08:42:23 - ras_commander.RasPrj - INFO - Project initialized. ras_object project folder: d:\\GitHub\\ras-commander\\examples\\example_projects\\BaldEagleCrkMulti2D\n",
            "2025-04-10 08:42:23 - ras_commander.RasGeo - INFO - Clearing geometry preprocessor file for single plan: d:\\GitHub\\ras-commander\\examples\\example_projects\\BaldEagleCrkMulti2D\\BaldEagleDamBrk.p03\n",
            "2025-04-10 08:42:23 - ras_commander.RasGeo - WARNING - No geometry preprocessor file found for: d:\\GitHub\\ras-commander\\examples\\example_projects\\BaldEagleCrkMulti2D\\BaldEagleDamBrk.p03\n",
            "2025-04-10 08:42:23 - ras_commander.RasGeo - INFO - Geometry dataframe updated successfully.\n",
            "2025-04-10 08:42:23 - ras_commander.RasUtils - INFO - Constructed plan file path: d:\\GitHub\\ras-commander\\examples\\example_projects\\BaldEagleCrkMulti2D\\BaldEagleDamBrk.p03\n",
            "2025-04-10 08:42:23 - ras_commander.RasUtils - INFO - Successfully updated file: d:\\GitHub\\ras-commander\\examples\\example_projects\\BaldEagleCrkMulti2D\\BaldEagleDamBrk.p03\n",
            "2025-04-10 08:42:23 - ras_commander.RasPlan - INFO - Successfully updated run flags in plan file: d:\\GitHub\\ras-commander\\examples\\example_projects\\BaldEagleCrkMulti2D\\BaldEagleDamBrk.p03\n",
            "2025-04-10 08:42:23 - ras_commander.RasCmdr - INFO - Using ras_object with project folder: d:\\GitHub\\ras-commander\\examples\\example_projects\\BaldEagleCrkMulti2D\n",
            "2025-04-10 08:42:23 - ras_commander.RasCmdr - INFO - Running HEC-RAS from the Command Line:\n",
            "2025-04-10 08:42:23 - ras_commander.RasCmdr - INFO - Running command: \"C:\\Program Files (x86)\\HEC\\HEC-RAS\\6.6\\Ras.exe\" -c \"D:\\GitHub\\ras-commander\\examples\\example_projects\\BaldEagleCrkMulti2D\\BaldEagleDamBrk.prj\" \"d:\\GitHub\\ras-commander\\examples\\example_projects\\BaldEagleCrkMulti2D\\BaldEagleDamBrk.p03\"\n"
          ]
        },
        {
          "name": "stdout",
          "output_type": "stream",
          "text": [
            "Completed: Plan 19 with 2 cores\n",
            "Running simulation for Version 6.6, Plan 03 with 2 cores\n"
          ]
        },
        {
          "name": "stderr",
          "output_type": "stream",
          "text": [
            "2025-04-10 08:47:06 - ras_commander.RasCmdr - INFO - HEC-RAS execution completed for plan: 03\n",
            "2025-04-10 08:47:06 - ras_commander.RasCmdr - INFO - Total run time for plan 03: 283.12 seconds\n",
            "2025-04-10 08:47:06 - ras_commander.HdfResultsPlan - INFO - Using HDF file from direct string path: d:\\GitHub\\ras-commander\\examples\\example_projects\\BaldEagleCrkMulti2D\\BaldEagleDamBrk.p03.hdf\n",
            "2025-04-10 08:47:06 - ras_commander.HdfResultsPlan - INFO - Final validated HDF file path: d:\\GitHub\\ras-commander\\examples\\example_projects\\BaldEagleCrkMulti2D\\BaldEagleDamBrk.p03.hdf\n",
            "2025-04-10 08:47:06 - ras_commander.HdfResultsPlan - INFO - Extracting Plan Information from: BaldEagleDamBrk.p03.hdf\n",
            "2025-04-10 08:47:06 - ras_commander.HdfResultsPlan - INFO - Plan Name: Single 2D Area - Internal Dam Structure\n",
            "2025-04-10 08:47:06 - ras_commander.HdfResultsPlan - INFO - Simulation Duration (hours): 72.0\n",
            "2025-04-10 08:47:06 - ras_commander.HdfResultsPlan - INFO - Using HDF file from direct string path: d:\\GitHub\\ras-commander\\examples\\example_projects\\BaldEagleCrkMulti2D\\BaldEagleDamBrk.p03.hdf\n",
            "2025-04-10 08:47:06 - ras_commander.HdfResultsPlan - INFO - Final validated HDF file path: d:\\GitHub\\ras-commander\\examples\\example_projects\\BaldEagleCrkMulti2D\\BaldEagleDamBrk.p03.hdf\n",
            "2025-04-10 08:47:06 - ras_commander.RasPrj - INFO - Initializing global 'ras' object via init_ras_project function.\n",
            "2025-04-10 08:47:06 - ras_commander.RasMap - INFO - Successfully parsed RASMapper file: d:\\GitHub\\ras-commander\\examples\\example_projects\\BaldEagleCrkMulti2D\\BaldEagleDamBrk.rasmap\n",
            "2025-04-10 08:47:06 - ras_commander.RasPrj - INFO - Project initialized. ras_object project folder: d:\\GitHub\\ras-commander\\examples\\example_projects\\BaldEagleCrkMulti2D\n",
            "2025-04-10 08:47:06 - ras_commander.RasGeo - INFO - Clearing geometry preprocessor file for single plan: d:\\GitHub\\ras-commander\\examples\\example_projects\\BaldEagleCrkMulti2D\\BaldEagleDamBrk.p04\n",
            "2025-04-10 08:47:06 - ras_commander.RasGeo - WARNING - No geometry preprocessor file found for: d:\\GitHub\\ras-commander\\examples\\example_projects\\BaldEagleCrkMulti2D\\BaldEagleDamBrk.p04\n",
            "2025-04-10 08:47:06 - ras_commander.RasGeo - INFO - Geometry dataframe updated successfully.\n",
            "2025-04-10 08:47:06 - ras_commander.RasUtils - INFO - Constructed plan file path: d:\\GitHub\\ras-commander\\examples\\example_projects\\BaldEagleCrkMulti2D\\BaldEagleDamBrk.p04\n",
            "2025-04-10 08:47:06 - ras_commander.RasUtils - INFO - Successfully updated file: d:\\GitHub\\ras-commander\\examples\\example_projects\\BaldEagleCrkMulti2D\\BaldEagleDamBrk.p04\n",
            "2025-04-10 08:47:06 - ras_commander.RasPlan - INFO - Successfully updated run flags in plan file: d:\\GitHub\\ras-commander\\examples\\example_projects\\BaldEagleCrkMulti2D\\BaldEagleDamBrk.p04\n",
            "2025-04-10 08:47:06 - ras_commander.RasCmdr - INFO - Using ras_object with project folder: d:\\GitHub\\ras-commander\\examples\\example_projects\\BaldEagleCrkMulti2D\n",
            "2025-04-10 08:47:06 - ras_commander.RasCmdr - INFO - Running HEC-RAS from the Command Line:\n",
            "2025-04-10 08:47:06 - ras_commander.RasCmdr - INFO - Running command: \"C:\\Program Files (x86)\\HEC\\HEC-RAS\\6.6\\Ras.exe\" -c \"D:\\GitHub\\ras-commander\\examples\\example_projects\\BaldEagleCrkMulti2D\\BaldEagleDamBrk.prj\" \"d:\\GitHub\\ras-commander\\examples\\example_projects\\BaldEagleCrkMulti2D\\BaldEagleDamBrk.p04\"\n"
          ]
        },
        {
          "name": "stdout",
          "output_type": "stream",
          "text": [
            "Completed: Plan 03 with 2 cores\n",
            "Running simulation for Version 6.6, Plan 04 with 2 cores\n"
          ]
        },
        {
          "name": "stderr",
          "output_type": "stream",
          "text": [
            "2025-04-10 08:52:56 - ras_commander.RasCmdr - INFO - HEC-RAS execution completed for plan: 04\n",
            "2025-04-10 08:52:56 - ras_commander.RasCmdr - INFO - Total run time for plan 04: 349.75 seconds\n",
            "2025-04-10 08:52:56 - ras_commander.HdfResultsPlan - INFO - Using HDF file from direct string path: d:\\GitHub\\ras-commander\\examples\\example_projects\\BaldEagleCrkMulti2D\\BaldEagleDamBrk.p04.hdf\n",
            "2025-04-10 08:52:56 - ras_commander.HdfResultsPlan - INFO - Final validated HDF file path: d:\\GitHub\\ras-commander\\examples\\example_projects\\BaldEagleCrkMulti2D\\BaldEagleDamBrk.p04.hdf\n",
            "2025-04-10 08:52:56 - ras_commander.HdfResultsPlan - INFO - Extracting Plan Information from: BaldEagleDamBrk.p04.hdf\n",
            "2025-04-10 08:52:56 - ras_commander.HdfResultsPlan - INFO - Plan Name: SA to 2D Area Conn - 2D Levee Structure\n",
            "2025-04-10 08:52:56 - ras_commander.HdfResultsPlan - INFO - Simulation Duration (hours): 72.0\n",
            "2025-04-10 08:52:56 - ras_commander.HdfResultsPlan - INFO - Using HDF file from direct string path: d:\\GitHub\\ras-commander\\examples\\example_projects\\BaldEagleCrkMulti2D\\BaldEagleDamBrk.p04.hdf\n",
            "2025-04-10 08:52:56 - ras_commander.HdfResultsPlan - INFO - Final validated HDF file path: d:\\GitHub\\ras-commander\\examples\\example_projects\\BaldEagleCrkMulti2D\\BaldEagleDamBrk.p04.hdf\n",
            "2025-04-10 08:52:56 - ras_commander.RasPrj - INFO - Initializing global 'ras' object via init_ras_project function.\n",
            "2025-04-10 08:52:56 - ras_commander.RasMap - INFO - Successfully parsed RASMapper file: d:\\GitHub\\ras-commander\\examples\\example_projects\\BaldEagleCrkMulti2D\\BaldEagleDamBrk.rasmap\n",
            "2025-04-10 08:52:56 - ras_commander.RasPrj - INFO - Project initialized. ras_object project folder: d:\\GitHub\\ras-commander\\examples\\example_projects\\BaldEagleCrkMulti2D\n",
            "2025-04-10 08:52:56 - ras_commander.RasGeo - INFO - Clearing geometry preprocessor file for single plan: d:\\GitHub\\ras-commander\\examples\\example_projects\\BaldEagleCrkMulti2D\\BaldEagleDamBrk.p02\n",
            "2025-04-10 08:52:56 - ras_commander.RasGeo - WARNING - No geometry preprocessor file found for: d:\\GitHub\\ras-commander\\examples\\example_projects\\BaldEagleCrkMulti2D\\BaldEagleDamBrk.p02\n",
            "2025-04-10 08:52:56 - ras_commander.RasGeo - INFO - Geometry dataframe updated successfully.\n",
            "2025-04-10 08:52:56 - ras_commander.RasUtils - INFO - Constructed plan file path: d:\\GitHub\\ras-commander\\examples\\example_projects\\BaldEagleCrkMulti2D\\BaldEagleDamBrk.p02\n",
            "2025-04-10 08:52:56 - ras_commander.RasUtils - INFO - Successfully updated file: d:\\GitHub\\ras-commander\\examples\\example_projects\\BaldEagleCrkMulti2D\\BaldEagleDamBrk.p02\n",
            "2025-04-10 08:52:56 - ras_commander.RasPlan - INFO - Successfully updated run flags in plan file: d:\\GitHub\\ras-commander\\examples\\example_projects\\BaldEagleCrkMulti2D\\BaldEagleDamBrk.p02\n",
            "2025-04-10 08:52:56 - ras_commander.RasCmdr - INFO - Using ras_object with project folder: d:\\GitHub\\ras-commander\\examples\\example_projects\\BaldEagleCrkMulti2D\n",
            "2025-04-10 08:52:56 - ras_commander.RasCmdr - INFO - Running HEC-RAS from the Command Line:\n",
            "2025-04-10 08:52:56 - ras_commander.RasCmdr - INFO - Running command: \"C:\\Program Files (x86)\\HEC\\HEC-RAS\\6.6\\Ras.exe\" -c \"D:\\GitHub\\ras-commander\\examples\\example_projects\\BaldEagleCrkMulti2D\\BaldEagleDamBrk.prj\" \"d:\\GitHub\\ras-commander\\examples\\example_projects\\BaldEagleCrkMulti2D\\BaldEagleDamBrk.p02\"\n"
          ]
        },
        {
          "name": "stdout",
          "output_type": "stream",
          "text": [
            "Completed: Plan 04 with 2 cores\n",
            "Running simulation for Version 6.6, Plan 02 with 2 cores\n"
          ]
        },
        {
          "name": "stderr",
          "output_type": "stream",
          "text": [
            "2025-04-10 09:35:01 - ras_commander.RasCmdr - INFO - HEC-RAS execution completed for plan: 02\n",
            "2025-04-10 09:35:01 - ras_commander.RasCmdr - INFO - Total run time for plan 02: 2525.09 seconds\n",
            "2025-04-10 09:35:01 - ras_commander.HdfResultsPlan - INFO - Using HDF file from direct string path: d:\\GitHub\\ras-commander\\examples\\example_projects\\BaldEagleCrkMulti2D\\BaldEagleDamBrk.p02.hdf\n",
            "2025-04-10 09:35:01 - ras_commander.HdfResultsPlan - INFO - Final validated HDF file path: d:\\GitHub\\ras-commander\\examples\\example_projects\\BaldEagleCrkMulti2D\\BaldEagleDamBrk.p02.hdf\n",
            "2025-04-10 09:35:01 - ras_commander.HdfResultsPlan - INFO - Extracting Plan Information from: BaldEagleDamBrk.p02.hdf\n",
            "2025-04-10 09:35:01 - ras_commander.HdfResultsPlan - INFO - Plan Name: SA to Detailed 2D Breach\n",
            "2025-04-10 09:35:01 - ras_commander.HdfResultsPlan - INFO - Simulation Duration (hours): 72.0\n",
            "2025-04-10 09:35:01 - ras_commander.HdfResultsPlan - INFO - Using HDF file from direct string path: d:\\GitHub\\ras-commander\\examples\\example_projects\\BaldEagleCrkMulti2D\\BaldEagleDamBrk.p02.hdf\n",
            "2025-04-10 09:35:02 - ras_commander.HdfResultsPlan - INFO - Final validated HDF file path: d:\\GitHub\\ras-commander\\examples\\example_projects\\BaldEagleCrkMulti2D\\BaldEagleDamBrk.p02.hdf\n",
            "2025-04-10 09:35:02 - ras_commander.RasPrj - INFO - Initializing global 'ras' object via init_ras_project function.\n",
            "2025-04-10 09:35:02 - ras_commander.RasMap - INFO - Successfully parsed RASMapper file: d:\\GitHub\\ras-commander\\examples\\example_projects\\BaldEagleCrkMulti2D\\BaldEagleDamBrk.rasmap\n",
            "2025-04-10 09:35:02 - ras_commander.RasPrj - INFO - Project initialized. ras_object project folder: d:\\GitHub\\ras-commander\\examples\\example_projects\\BaldEagleCrkMulti2D\n",
            "2025-04-10 09:35:02 - ras_commander.RasGeo - INFO - Clearing geometry preprocessor file for single plan: d:\\GitHub\\ras-commander\\examples\\example_projects\\BaldEagleCrkMulti2D\\BaldEagleDamBrk.p01\n",
            "2025-04-10 09:35:02 - ras_commander.RasGeo - WARNING - No geometry preprocessor file found for: d:\\GitHub\\ras-commander\\examples\\example_projects\\BaldEagleCrkMulti2D\\BaldEagleDamBrk.p01\n",
            "2025-04-10 09:35:02 - ras_commander.RasGeo - INFO - Geometry dataframe updated successfully.\n",
            "2025-04-10 09:35:02 - ras_commander.RasUtils - INFO - Constructed plan file path: d:\\GitHub\\ras-commander\\examples\\example_projects\\BaldEagleCrkMulti2D\\BaldEagleDamBrk.p01\n",
            "2025-04-10 09:35:02 - ras_commander.RasUtils - INFO - Successfully updated file: d:\\GitHub\\ras-commander\\examples\\example_projects\\BaldEagleCrkMulti2D\\BaldEagleDamBrk.p01\n",
            "2025-04-10 09:35:02 - ras_commander.RasPlan - INFO - Successfully updated run flags in plan file: d:\\GitHub\\ras-commander\\examples\\example_projects\\BaldEagleCrkMulti2D\\BaldEagleDamBrk.p01\n",
            "2025-04-10 09:35:02 - ras_commander.RasCmdr - INFO - Using ras_object with project folder: d:\\GitHub\\ras-commander\\examples\\example_projects\\BaldEagleCrkMulti2D\n",
            "2025-04-10 09:35:02 - ras_commander.RasCmdr - INFO - Running HEC-RAS from the Command Line:\n",
            "2025-04-10 09:35:02 - ras_commander.RasCmdr - INFO - Running command: \"C:\\Program Files (x86)\\HEC\\HEC-RAS\\6.6\\Ras.exe\" -c \"D:\\GitHub\\ras-commander\\examples\\example_projects\\BaldEagleCrkMulti2D\\BaldEagleDamBrk.prj\" \"d:\\GitHub\\ras-commander\\examples\\example_projects\\BaldEagleCrkMulti2D\\BaldEagleDamBrk.p01\"\n"
          ]
        },
        {
          "name": "stdout",
          "output_type": "stream",
          "text": [
            "Completed: Plan 02 with 2 cores\n",
            "Running simulation for Version 6.6, Plan 01 with 2 cores\n"
          ]
        },
        {
          "name": "stderr",
          "output_type": "stream",
          "text": [
            "2025-04-10 11:50:02 - ras_commander.RasCmdr - INFO - HEC-RAS execution completed for plan: 01\n",
            "2025-04-10 11:50:02 - ras_commander.RasCmdr - INFO - Total run time for plan 01: 8100.80 seconds\n",
            "2025-04-10 11:50:02 - ras_commander.HdfResultsPlan - INFO - Using HDF file from direct string path: d:\\GitHub\\ras-commander\\examples\\example_projects\\BaldEagleCrkMulti2D\\BaldEagleDamBrk.p01.hdf\n",
            "2025-04-10 11:50:03 - ras_commander.HdfResultsPlan - INFO - Final validated HDF file path: d:\\GitHub\\ras-commander\\examples\\example_projects\\BaldEagleCrkMulti2D\\BaldEagleDamBrk.p01.hdf\n",
            "2025-04-10 11:50:03 - ras_commander.HdfResultsPlan - INFO - Extracting Plan Information from: BaldEagleDamBrk.p01.hdf\n",
            "2025-04-10 11:50:03 - ras_commander.HdfResultsPlan - INFO - Plan Name: SA to Detailed 2D Breach FEQ\n",
            "2025-04-10 11:50:03 - ras_commander.HdfResultsPlan - INFO - Simulation Duration (hours): 72.0\n",
            "2025-04-10 11:50:03 - ras_commander.HdfResultsPlan - INFO - Using HDF file from direct string path: d:\\GitHub\\ras-commander\\examples\\example_projects\\BaldEagleCrkMulti2D\\BaldEagleDamBrk.p01.hdf\n",
            "2025-04-10 11:50:03 - ras_commander.HdfResultsPlan - INFO - Final validated HDF file path: d:\\GitHub\\ras-commander\\examples\\example_projects\\BaldEagleCrkMulti2D\\BaldEagleDamBrk.p01.hdf\n",
            "2025-04-10 11:50:03 - ras_commander.RasPrj - INFO - Initializing global 'ras' object via init_ras_project function.\n",
            "2025-04-10 11:50:03 - ras_commander.RasMap - INFO - Successfully parsed RASMapper file: d:\\GitHub\\ras-commander\\examples\\example_projects\\BaldEagleCrkMulti2D\\BaldEagleDamBrk.rasmap\n",
            "2025-04-10 11:50:03 - ras_commander.RasPrj - INFO - Project initialized. ras_object project folder: d:\\GitHub\\ras-commander\\examples\\example_projects\\BaldEagleCrkMulti2D\n",
            "2025-04-10 11:50:03 - ras_commander.RasGeo - INFO - Clearing geometry preprocessor file for single plan: d:\\GitHub\\ras-commander\\examples\\example_projects\\BaldEagleCrkMulti2D\\BaldEagleDamBrk.p05\n",
            "2025-04-10 11:50:03 - ras_commander.RasGeo - WARNING - No geometry preprocessor file found for: d:\\GitHub\\ras-commander\\examples\\example_projects\\BaldEagleCrkMulti2D\\BaldEagleDamBrk.p05\n",
            "2025-04-10 11:50:03 - ras_commander.RasGeo - INFO - Geometry dataframe updated successfully.\n",
            "2025-04-10 11:50:03 - ras_commander.RasUtils - INFO - Constructed plan file path: d:\\GitHub\\ras-commander\\examples\\example_projects\\BaldEagleCrkMulti2D\\BaldEagleDamBrk.p05\n",
            "2025-04-10 11:50:03 - ras_commander.RasUtils - INFO - Successfully updated file: d:\\GitHub\\ras-commander\\examples\\example_projects\\BaldEagleCrkMulti2D\\BaldEagleDamBrk.p05\n",
            "2025-04-10 11:50:03 - ras_commander.RasPlan - INFO - Successfully updated run flags in plan file: d:\\GitHub\\ras-commander\\examples\\example_projects\\BaldEagleCrkMulti2D\\BaldEagleDamBrk.p05\n",
            "2025-04-10 11:50:03 - ras_commander.RasCmdr - INFO - Using ras_object with project folder: d:\\GitHub\\ras-commander\\examples\\example_projects\\BaldEagleCrkMulti2D\n",
            "2025-04-10 11:50:03 - ras_commander.RasCmdr - INFO - Running HEC-RAS from the Command Line:\n"
          ]
        },
        {
          "name": "stdout",
          "output_type": "stream",
          "text": [
            "Completed: Plan 01 with 2 cores\n",
            "Running simulation for Version 6.6, Plan 05 with 2 cores\n"
          ]
        },
        {
          "name": "stderr",
          "output_type": "stream",
          "text": [
            "2025-04-10 11:50:03 - ras_commander.RasCmdr - INFO - Running command: \"C:\\Program Files (x86)\\HEC\\HEC-RAS\\6.6\\Ras.exe\" -c \"D:\\GitHub\\ras-commander\\examples\\example_projects\\BaldEagleCrkMulti2D\\BaldEagleDamBrk.prj\" \"d:\\GitHub\\ras-commander\\examples\\example_projects\\BaldEagleCrkMulti2D\\BaldEagleDamBrk.p05\"\n",
            "2025-04-10 12:45:53 - ras_commander.RasCmdr - INFO - HEC-RAS execution completed for plan: 05\n",
            "2025-04-10 12:45:53 - ras_commander.RasCmdr - INFO - Total run time for plan 05: 3350.66 seconds\n",
            "2025-04-10 12:45:53 - ras_commander.HdfResultsPlan - INFO - Using HDF file from direct string path: d:\\GitHub\\ras-commander\\examples\\example_projects\\BaldEagleCrkMulti2D\\BaldEagleDamBrk.p05.hdf\n",
            "2025-04-10 12:45:53 - ras_commander.HdfResultsPlan - INFO - Final validated HDF file path: d:\\GitHub\\ras-commander\\examples\\example_projects\\BaldEagleCrkMulti2D\\BaldEagleDamBrk.p05.hdf\n",
            "2025-04-10 12:45:53 - ras_commander.HdfResultsPlan - INFO - Extracting Plan Information from: BaldEagleDamBrk.p05.hdf\n",
            "2025-04-10 12:45:53 - ras_commander.HdfResultsPlan - INFO - Plan Name: Single 2D area with Bridges FEQ\n",
            "2025-04-10 12:45:53 - ras_commander.HdfResultsPlan - INFO - Simulation Duration (hours): 72.0\n",
            "2025-04-10 12:45:53 - ras_commander.HdfResultsPlan - INFO - Using HDF file from direct string path: d:\\GitHub\\ras-commander\\examples\\example_projects\\BaldEagleCrkMulti2D\\BaldEagleDamBrk.p05.hdf\n",
            "2025-04-10 12:45:53 - ras_commander.HdfResultsPlan - INFO - Final validated HDF file path: d:\\GitHub\\ras-commander\\examples\\example_projects\\BaldEagleCrkMulti2D\\BaldEagleDamBrk.p05.hdf\n",
            "2025-04-10 12:45:53 - ras_commander.RasPrj - INFO - Initializing global 'ras' object via init_ras_project function.\n",
            "2025-04-10 12:45:53 - ras_commander.RasMap - INFO - Successfully parsed RASMapper file: d:\\GitHub\\ras-commander\\examples\\example_projects\\BaldEagleCrkMulti2D\\BaldEagleDamBrk.rasmap\n",
            "2025-04-10 12:45:53 - ras_commander.RasPrj - INFO - Project initialized. ras_object project folder: d:\\GitHub\\ras-commander\\examples\\example_projects\\BaldEagleCrkMulti2D\n",
            "2025-04-10 12:45:53 - ras_commander.RasGeo - INFO - Clearing geometry preprocessor file for single plan: d:\\GitHub\\ras-commander\\examples\\example_projects\\BaldEagleCrkMulti2D\\BaldEagleDamBrk.p06\n",
            "2025-04-10 12:45:53 - ras_commander.RasGeo - WARNING - No geometry preprocessor file found for: d:\\GitHub\\ras-commander\\examples\\example_projects\\BaldEagleCrkMulti2D\\BaldEagleDamBrk.p06\n",
            "2025-04-10 12:45:53 - ras_commander.RasGeo - INFO - Geometry dataframe updated successfully.\n",
            "2025-04-10 12:45:53 - ras_commander.RasUtils - INFO - Constructed plan file path: d:\\GitHub\\ras-commander\\examples\\example_projects\\BaldEagleCrkMulti2D\\BaldEagleDamBrk.p06\n",
            "2025-04-10 12:45:53 - ras_commander.RasUtils - INFO - Successfully updated file: d:\\GitHub\\ras-commander\\examples\\example_projects\\BaldEagleCrkMulti2D\\BaldEagleDamBrk.p06\n",
            "2025-04-10 12:45:54 - ras_commander.RasPlan - INFO - Successfully updated run flags in plan file: d:\\GitHub\\ras-commander\\examples\\example_projects\\BaldEagleCrkMulti2D\\BaldEagleDamBrk.p06\n",
            "2025-04-10 12:45:54 - ras_commander.RasCmdr - INFO - Using ras_object with project folder: d:\\GitHub\\ras-commander\\examples\\example_projects\\BaldEagleCrkMulti2D\n",
            "2025-04-10 12:45:54 - ras_commander.RasCmdr - INFO - Running HEC-RAS from the Command Line:\n",
            "2025-04-10 12:45:54 - ras_commander.RasCmdr - INFO - Running command: \"C:\\Program Files (x86)\\HEC\\HEC-RAS\\6.6\\Ras.exe\" -c \"D:\\GitHub\\ras-commander\\examples\\example_projects\\BaldEagleCrkMulti2D\\BaldEagleDamBrk.prj\" \"d:\\GitHub\\ras-commander\\examples\\example_projects\\BaldEagleCrkMulti2D\\BaldEagleDamBrk.p06\"\n"
          ]
        },
        {
          "name": "stdout",
          "output_type": "stream",
          "text": [
            "Completed: Plan 05 with 2 cores\n",
            "Running simulation for Version 6.6, Plan 06 with 2 cores\n"
          ]
        },
        {
          "name": "stderr",
          "output_type": "stream",
          "text": [
            "2025-04-10 12:52:53 - ras_commander.RasCmdr - INFO - HEC-RAS execution completed for plan: 06\n",
            "2025-04-10 12:52:53 - ras_commander.RasCmdr - INFO - Total run time for plan 06: 419.02 seconds\n",
            "2025-04-10 12:52:53 - ras_commander.HdfResultsPlan - INFO - Using HDF file from direct string path: d:\\GitHub\\ras-commander\\examples\\example_projects\\BaldEagleCrkMulti2D\\BaldEagleDamBrk.p06.hdf\n",
            "2025-04-10 12:52:53 - ras_commander.HdfResultsPlan - INFO - Final validated HDF file path: d:\\GitHub\\ras-commander\\examples\\example_projects\\BaldEagleCrkMulti2D\\BaldEagleDamBrk.p06.hdf\n",
            "2025-04-10 12:52:53 - ras_commander.HdfResultsPlan - INFO - Extracting Plan Information from: BaldEagleDamBrk.p06.hdf\n",
            "2025-04-10 12:52:53 - ras_commander.HdfResultsPlan - INFO - Plan Name: Gridded Precip - Infiltration\n",
            "2025-04-10 12:52:53 - ras_commander.HdfResultsPlan - INFO - Simulation Duration (hours): 120.0\n",
            "2025-04-10 12:52:53 - ras_commander.HdfResultsPlan - INFO - Using HDF file from direct string path: d:\\GitHub\\ras-commander\\examples\\example_projects\\BaldEagleCrkMulti2D\\BaldEagleDamBrk.p06.hdf\n",
            "2025-04-10 12:52:53 - ras_commander.HdfResultsPlan - INFO - Final validated HDF file path: d:\\GitHub\\ras-commander\\examples\\example_projects\\BaldEagleCrkMulti2D\\BaldEagleDamBrk.p06.hdf\n"
          ]
        },
        {
          "name": "stdout",
          "output_type": "stream",
          "text": [
            "Completed: Plan 06 with 2 cores\n"
          ]
        },
        {
          "data": {
            "text/plain": [
              "<Figure size 1500x1000 with 4 Axes>"
            ]
          },
          "metadata": {},
          "output_type": "display_data"
        },
        {
          "name": "stdout",
          "output_type": "stream",
          "text": [
            "Results saved to 'hecras_plan_comparison_2core.csv'\n",
            "\n",
            "Summary Statistics (2 Cores):\n",
            "       Preprocessor Time (hr)  Unsteady Compute Time (hr)  Volume Error (%)  \\\n",
            "count               11.000000                   11.000000         11.000000   \n",
            "mean                 0.013817                    0.378679          0.033688   \n",
            "std                  0.025619                    0.677487          0.082888   \n",
            "min                  0.000026                    0.014466          0.000331   \n",
            "25%                  0.000030                    0.025326          0.001145   \n",
            "50%                  0.000031                    0.071667          0.001792   \n",
            "75%                  0.017129                    0.393609          0.017761   \n",
            "max                  0.079262                    2.228099          0.280763   \n",
            "\n",
            "       Total Time (hr)  \n",
            "count        11.000000  \n",
            "mean          0.402026  \n",
            "std           0.684730  \n",
            "min           0.017300  \n",
            "25%           0.068008  \n",
            "50%           0.078656  \n",
            "75%           0.408916  \n",
            "max           2.250239  \n"
          ]
        }
      ],
      "source": [
        "# Benchmark all plans with 2 cores in HEC-RAS 6.6\n",
        "results_2core = []\n",
        "\n",
        "# Loop through each plan number\n",
        "for plan in plan_numbers:\n",
        "    print(f\"Running simulation for Version 6.6, Plan {plan} with 2 cores\")\n",
        "    \n",
        "    # Initialize project for 6.6\n",
        "    ras_project = init_ras_project(project_path, \"6.6\")\n",
        "    \n",
        "    # Clear geometry preprocessor files\n",
        "    plan_path = RasPlan.get_plan_path(plan, ras_object=ras_project)\n",
        "    RasGeo.clear_geompre_files(plan_path, ras_object=ras_project)\n",
        "    \n",
        "    # Set number of cores to 2\n",
        "    RasPlan.set_num_cores(plan, \"2\", ras_object=ras_project)\n",
        "    \n",
        "    # Update plan run flags\n",
        "    RasPlan.update_run_flags(plan, {\"Run HTab\": 1}, ras_object=ras_project)\n",
        "    \n",
        "    # Compute the plan\n",
        "    start_time = time.time()\n",
        "    success = RasCmdr.compute_plan(plan, ras_object=ras_project)\n",
        "    total_time = time.time() - start_time\n",
        "    \n",
        "    if success:\n",
        "        # Get HDF file path\n",
        "        hdf_path = RasPlan.get_results_path(plan, ras_object=ras_project)\n",
        "        \n",
        "        # Extract runtime data\n",
        "        runtime_data = HdfResultsPlan.get_runtime_data(hdf_path)\n",
        "        preprocessor_time = runtime_data['Preprocessing Geometry (hr)'].values[0]\n",
        "        unsteady_compute_time = runtime_data['Unsteady Flow Computations (hr)'].values[0]\n",
        "        \n",
        "        # Get volume accounting\n",
        "        volume_accounting = HdfResultsPlan.get_volume_accounting(hdf_path)\n",
        "        volume_error = volume_accounting['Error Percent'].values[0] if not volume_accounting.empty else None\n",
        "        \n",
        "        result = {\n",
        "            'Plan': plan,\n",
        "            'Preprocessor Time (hr)': preprocessor_time,\n",
        "            'Unsteady Compute Time (hr)': unsteady_compute_time,\n",
        "            'Volume Error (%)': volume_error,\n",
        "            'Total Time (hr)': total_time / 3600\n",
        "        }\n",
        "        results_2core.append(result)\n",
        "        print(f\"Completed: Plan {plan} with 2 cores\")\n",
        "    else:\n",
        "        print(f\"Failed: Plan {plan} with 2 cores\")\n",
        "\n",
        "# Convert results to DataFrame\n",
        "df_2core = pd.DataFrame(results_2core)\n",
        "\n",
        "# Get plan titles from ras.plan_df and merge with results\n",
        "plan_titles = pd.DataFrame({\n",
        "    'Plan': ras.plan_df['plan_number'].str.zfill(2),\n",
        "    'Short Identifier': ras.plan_df['Short Identifier']\n",
        "})\n",
        "df_2core['Plan'] = df_2core['Plan'].astype(str).str.zfill(2)\n",
        "df_2core = df_2core.merge(plan_titles, on='Plan', how='left')\n",
        "\n",
        "# Create visualization\n",
        "plt.figure(figsize=(15, 10))\n",
        "\n",
        "# Plot 1: Unsteady Runtime\n",
        "plt.subplot(2, 2, 1)\n",
        "bars = plt.bar(range(len(df_2core)), df_2core['Unsteady Compute Time (hr)'], color='blue', alpha=0.7)\n",
        "plt.title('Unsteady Runtime by Plan (2 Cores)', fontsize=12)\n",
        "plt.ylabel('Unsteady Runtime (hours)', fontsize=10)\n",
        "plt.grid(True, linestyle='--', alpha=0.7)\n",
        "plt.xticks(range(len(df_2core)), [f\"Plan {plan}\\n{title}\" for plan, title in zip(df_2core['Plan'], df_2core['Short Identifier'])], rotation=45, ha='right')\n",
        "\n",
        "# Plot 2: Volume Error\n",
        "plt.subplot(2, 2, 2)\n",
        "plt.bar(range(len(df_2core)), df_2core['Volume Error (%)'], color='red', alpha=0.7)\n",
        "plt.title('Volume Error by Plan (2 Cores)', fontsize=12)\n",
        "plt.ylabel('Volume Error (%)', fontsize=10)\n",
        "plt.grid(True, linestyle='--', alpha=0.7)\n",
        "plt.xticks(range(len(df_2core)), [f\"Plan {plan}\\n{title}\" for plan, title in zip(df_2core['Plan'], df_2core['Short Identifier'])], rotation=45, ha='right')\n",
        "\n",
        "# Plot 3: Preprocessor Time\n",
        "plt.subplot(2, 2, 3)\n",
        "plt.bar(range(len(df_2core)), df_2core['Preprocessor Time (hr)'], color='green', alpha=0.7)\n",
        "plt.title('Preprocessor Time by Plan (2 Cores)', fontsize=12)\n",
        "plt.ylabel('Preprocessor Time (hours)', fontsize=10)\n",
        "plt.grid(True, linestyle='--', alpha=0.7)\n",
        "plt.xticks(range(len(df_2core)), [f\"Plan {plan}\\n{title}\" for plan, title in zip(df_2core['Plan'], df_2core['Short Identifier'])], rotation=45, ha='right')\n",
        "\n",
        "# Plot 4: Total Runtime\n",
        "plt.subplot(2, 2, 4)\n",
        "plt.bar(range(len(df_2core)), df_2core['Total Time (hr)'], color='purple', alpha=0.7)\n",
        "plt.title('Total Runtime by Plan (2 Cores)', fontsize=12)\n",
        "plt.ylabel('Total Runtime (hours)', fontsize=10)\n",
        "plt.grid(True, linestyle='--', alpha=0.7)\n",
        "plt.xticks(range(len(df_2core)), [f\"Plan {plan}\\n{title}\" for plan, title in zip(df_2core['Plan'], df_2core['Short Identifier'])], rotation=45, ha='right')\n",
        "\n",
        "plt.tight_layout(pad=3.0)\n",
        "plt.suptitle('Plan Performance Comparison (2 Cores)', fontsize=14, y=1.02)\n",
        "plt.show()\n",
        "\n",
        "# Save results to CSV\n",
        "df_2core.to_csv('hecras_plan_comparison_2core.csv', index=False)\n",
        "print(\"Results saved to 'hecras_plan_comparison_2core.csv'\")\n",
        "\n",
        "# Display summary statistics\n",
        "print(\"\\nSummary Statistics (2 Cores):\")\n",
        "print(df_2core.describe())"
      ]
    }
  ],
  "metadata": {
    "kernelspec": {
      "display_name": "rascmdr",
      "language": "python",
      "name": "python3"
    },
    "language_info": {
      "codemirror_mode": {
        "name": "ipython",
        "version": 3
      },
      "file_extension": ".py",
      "mimetype": "text/x-python",
      "name": "python",
      "nbconvert_exporter": "python",
      "pygments_lexer": "ipython3",
      "version": "3.12.9"
    }
  },
  "nbformat": 4,
  "nbformat_minor": 2
}