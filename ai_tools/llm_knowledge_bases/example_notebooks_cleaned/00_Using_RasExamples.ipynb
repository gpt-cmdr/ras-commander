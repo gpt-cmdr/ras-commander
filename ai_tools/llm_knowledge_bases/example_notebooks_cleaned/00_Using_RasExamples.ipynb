{
  "cells": [
    {
      "cell_type": "markdown",
      "metadata": {},
      "source": [
        "# Install RAS-Commander from pip"
      ]
    },
    {
      "cell_type": "code",
      "execution_count": 1,
      "metadata": {},
      "outputs": [],
      "source": [
        "# 1. Install ras-commander from pip (uncomment to install if needed)\n",
        "#!pip install --upgrade ras-commander"
      ]
    },
    {
      "cell_type": "markdown",
      "metadata": {},
      "source": [
        "# Simple Imports (if using the pip package)"
      ]
    },
    {
      "cell_type": "code",
      "execution_count": 2,
      "metadata": {},
      "outputs": [
        {
          "name": "stdout",
          "output_type": "stream",
          "text": [
            "Loading ras-commander from local dev copy\n",
            "ras-commander loaded from: C:\\GH\\ras-commander\n",
            "Expected local path: C:\\GH\\ras-commander\n",
            "Successfully using local copy: True\n"
          ]
        }
      ],
      "source": [
        "# For Development Mode, add the parent directory to the Python path\n",
        "import os\n",
        "import sys\n",
        "from pathlib import Path\n",
        "\n",
        "current_file = Path(os.getcwd()).resolve()\n",
        "rascmdr_directory = current_file.parent\n",
        "\n",
        "# Use insert(0) instead of append() to give highest priority to local version\n",
        "if str(rascmdr_directory) not in sys.path:\n",
        "    sys.path.insert(0, str(rascmdr_directory))\n",
        "    \n",
        "print(\"Loading ras-commander from local dev copy\")\n",
        "\n",
        "# Now try to import again\n",
        "from ras_commander import *\n",
        "\n",
        "# Verify we're loading from the local copy\n",
        "import ras_commander\n",
        "local_path = Path(ras_commander.__file__).parent.parent\n",
        "print(f\"ras-commander loaded from: {local_path}\")\n",
        "print(f\"Expected local path: {rascmdr_directory}\")\n",
        "print(f\"Successfully using local copy: {local_path == rascmdr_directory}\")\n"
      ]
    },
    {
      "cell_type": "markdown",
      "metadata": {},
      "source": [
        "from ras_commander import *"
      ]
    },
    {
      "cell_type": "markdown",
      "metadata": {},
      "source": [
        "# Flexible Imports (for active development of the library)"
      ]
    },
    {
      "cell_type": "markdown",
      "metadata": {},
      "source": [
        "# This cell will try to import the pip package, if it fails it will \n",
        "# add the parent directory to the Python path and try to import again\n",
        "# This assumes you are working in a subfolder of the ras-commander repository\n",
        "# This allows a user's revisions to be tested locally without installing the package\n",
        "\n",
        "import sys\n",
        "from pathlib import Path\n",
        "\n",
        "# Flexible imports to allow for development without installation \n",
        "#  ** Use this version with Jupyter Notebooks **\n",
        "try:\n",
        "    # Try to import from the installed package\n",
        "    from ras_commander import *\n",
        "except ImportError:\n",
        "    # If the import fails, add the parent directory to the Python path\n",
        "    import os\n",
        "    current_file = Path(os.getcwd()).resolve()\n",
        "    rascmdr_directory = current_file.parent\n",
        "    sys.path.append(str(rascmdr_directory))\n",
        "    print(\"Loading ras-commander from local dev copy\")\n",
        "    # Now try to import again\n",
        "    from ras_commander import *\n",
        "print(\"ras_commander imported successfully\")\n"
      ]
    },
    {
      "cell_type": "markdown",
      "metadata": {},
      "source": [
        "-----"
      ]
    },
    {
      "cell_type": "markdown",
      "metadata": {},
      "source": [
        "# Using RASExamples"
      ]
    },
    {
      "cell_type": "markdown",
      "metadata": {},
      "source": [
        "## Simple Method for Calling HEC-RAS Example Projects by Folder Name"
      ]
    },
    {
      "cell_type": "code",
      "execution_count": 3,
      "metadata": {},
      "outputs": [
        {
          "name": "stderr",
          "output_type": "stream",
          "text": [
            "2025-07-03 09:30:35 - ras_commander.RasExamples - INFO - Found zip file: c:\\GH\\ras-commander\\examples\\Example_Projects_6_6.zip\n",
            "2025-07-03 09:30:35 - ras_commander.RasExamples - INFO - Loading project data from CSV...\n",
            "2025-07-03 09:30:35 - ras_commander.RasExamples - INFO - Loaded 68 projects from CSV.\n",
            "2025-07-03 09:30:35 - ras_commander.RasExamples - INFO - ----- RasExamples Extracting Project -----\n",
            "2025-07-03 09:30:35 - ras_commander.RasExamples - INFO - Extracting project 'Balde Eagle Creek'\n",
            "2025-07-03 09:30:35 - ras_commander.RasExamples - INFO - Project 'Balde Eagle Creek' already exists. Deleting existing folder...\n",
            "2025-07-03 09:30:35 - ras_commander.RasExamples - INFO - Existing folder for project 'Balde Eagle Creek' has been deleted.\n",
            "2025-07-03 09:30:35 - ras_commander.RasExamples - INFO - Successfully extracted project 'Balde Eagle Creek' to c:\\GH\\ras-commander\\examples\\example_projects\\Balde Eagle Creek\n",
            "2025-07-03 09:30:35 - ras_commander.RasExamples - INFO - ----- RasExamples Extracting Project -----\n",
            "2025-07-03 09:30:35 - ras_commander.RasExamples - INFO - Extracting project 'BaldEagleCrkMulti2D'\n",
            "2025-07-03 09:30:35 - ras_commander.RasExamples - INFO - Project 'BaldEagleCrkMulti2D' already exists. Deleting existing folder...\n",
            "2025-07-03 09:30:35 - ras_commander.RasExamples - INFO - Existing folder for project 'BaldEagleCrkMulti2D' has been deleted.\n",
            "2025-07-03 09:30:38 - ras_commander.RasExamples - INFO - Successfully extracted project 'BaldEagleCrkMulti2D' to c:\\GH\\ras-commander\\examples\\example_projects\\BaldEagleCrkMulti2D\n",
            "2025-07-03 09:30:38 - ras_commander.RasExamples - INFO - ----- RasExamples Extracting Project -----\n",
            "2025-07-03 09:30:38 - ras_commander.RasExamples - INFO - Extracting project 'Muncie'\n",
            "2025-07-03 09:30:38 - ras_commander.RasExamples - INFO - Project 'Muncie' already exists. Deleting existing folder...\n",
            "2025-07-03 09:30:39 - ras_commander.RasExamples - INFO - Existing folder for project 'Muncie' has been deleted.\n",
            "2025-07-03 09:30:39 - ras_commander.RasExamples - INFO - Successfully extracted project 'Muncie' to c:\\GH\\ras-commander\\examples\\example_projects\\Muncie\n",
            "2025-07-03 09:30:39 - ras_commander.RasExamples - INFO - ----- RasExamples Extracting Project -----\n",
            "2025-07-03 09:30:39 - ras_commander.RasExamples - INFO - Extracting project 'Davis'\n",
            "2025-07-03 09:30:39 - ras_commander.RasExamples - INFO - Project 'Davis' already exists. Deleting existing folder...\n",
            "2025-07-03 09:30:39 - ras_commander.RasExamples - INFO - Existing folder for project 'Davis' has been deleted.\n",
            "2025-07-03 09:30:39 - ras_commander.RasExamples - INFO - Successfully extracted project 'Davis' to c:\\GH\\ras-commander\\examples\\example_projects\\Davis\n",
            "2025-07-03 09:30:39 - ras_commander.RasExamples - INFO - ----- RasExamples Extracting Special Project -----\n",
            "2025-07-03 09:30:39 - ras_commander.RasExamples - INFO - Extracting special project 'NewOrleansMetro'\n",
            "2025-07-03 09:30:39 - ras_commander.RasExamples - INFO - Special project 'NewOrleansMetro' already exists. Deleting existing folder...\n",
            "2025-07-03 09:30:39 - ras_commander.RasExamples - INFO - Existing folder for project 'NewOrleansMetro' has been deleted.\n",
            "2025-07-03 09:30:39 - ras_commander.RasExamples - INFO - Downloading special project from: https://www.hec.usace.army.mil/confluence/rasdocs/hgt/files/latest/299502039/299502111/1/1747692522764/NewOrleansMetroPipesExample.zip\n",
            "2025-07-03 09:30:39 - ras_commander.RasExamples - INFO - This may take a few moments...\n",
            "2025-07-03 09:30:53 - ras_commander.RasExamples - INFO - Downloaded special project zip file to c:\\GH\\ras-commander\\examples\\example_projects\\NewOrleansMetro_temp.zip\n",
            "2025-07-03 09:30:55 - ras_commander.RasExamples - INFO - Successfully extracted special project 'NewOrleansMetro' to c:\\GH\\ras-commander\\examples\\example_projects\\NewOrleansMetro\n",
            "2025-07-03 09:30:55 - ras_commander.RasExamples - INFO - ----- RasExamples Extracting Special Project -----\n",
            "2025-07-03 09:30:55 - ras_commander.RasExamples - INFO - Extracting special project 'BeaverLake'\n",
            "2025-07-03 09:30:55 - ras_commander.RasExamples - INFO - Special project 'BeaverLake' already exists. Deleting existing folder...\n",
            "2025-07-03 09:30:55 - ras_commander.RasExamples - INFO - Existing folder for project 'BeaverLake' has been deleted.\n",
            "2025-07-03 09:30:55 - ras_commander.RasExamples - INFO - Downloading special project from: https://www.hec.usace.army.mil/confluence/rasdocs/hgt/files/latest/299501780/299502090/1/1747692179014/BeaverLake-SWMM-Import-Solution.zip\n",
            "2025-07-03 09:30:55 - ras_commander.RasExamples - INFO - This may take a few moments...\n",
            "2025-07-03 09:30:56 - ras_commander.RasExamples - INFO - Downloaded special project zip file to c:\\GH\\ras-commander\\examples\\example_projects\\BeaverLake_temp.zip\n",
            "2025-07-03 09:30:56 - ras_commander.RasExamples - INFO - Successfully extracted special project 'BeaverLake' to c:\\GH\\ras-commander\\examples\\example_projects\\BeaverLake\n"
          ]
        },
        {
          "data": {
            "text/plain": "[\"[WindowsPath('c:/GH/ras-commander/examples/example_projects/Balde Eagle Creek'),\\n\", \" WindowsPath('c:/GH/ras-commander/examples/example_projects/BaldEagleCrkMulti2D'),\\n\", \" WindowsPath('c:/GH/ras-commander/examples/example_projects/Muncie'),\\n\", \" WindowsPath('c:/GH/ras-commander/examples/example_projects/Davis'),\\n\", \" WindowsPath('c:/GH/ras-commander/examples/example_projects/NewOrleansMetro'),\\n\", \" WindowsPath('c:/GH/ras-commander/examples/example_projects/BeaverLake')]\"]"
          },
          "execution_count": 3,
          "metadata": {},
          "output_type": "execute_result"
        }
      ],
      "source": [
        "# This Code Cell is All You Need\n",
        "# This is what this Class was intended to do: Help me make repeatable workflows around HEC-RAS Example Projects for testing and demonstration purposes. \n",
        "\n",
        "# Extract specific projects\n",
        "RasExamples.extract_project([\"Balde Eagle Creek\", \"BaldEagleCrkMulti2D\", \"Muncie\", \"Davis\", \"NewOrleansMetro\", \"BeaverLake\"])"
      ]
    },
    {
      "cell_type": "markdown",
      "metadata": {},
      "source": [
        "-----"
      ]
    },
    {
      "cell_type": "markdown",
      "metadata": {},
      "source": [
        "## Advanced Usage"
      ]
    },
    {
      "cell_type": "markdown",
      "metadata": {},
      "source": [
        "RasExamples will not download a new .zip file if one already exists, this allows you to replace the Example_Projects_6_x.zip with your own zip file (with the same folder format as the HEC-RAS examples) and you will be able to load them by folder name for repeatable Test Driven Development\n",
        "\n",
        "Just make sure all project folders have unique folder names. "
      ]
    },
    {
      "cell_type": "code",
      "execution_count": 4,
      "metadata": {},
      "outputs": [
        {
          "name": "stdout",
          "output_type": "stream",
          "text": [
            "Example projects are already downloaded.\n",
            "RasExamples.folder_df:\n"
          ]
        },
        {
          "data": {
            "text/plain": [
              "<property at 0x207d2a2a750>"
            ]
          },
          "metadata": {},
          "output_type": "display_data"
        }
      ],
      "source": [
        "# Check if example projects are already downloaded\n",
        "if RasExamples.projects_dir.exists():\n",
        "    print(\"Example projects are already downloaded.\")\n",
        "    print(\"RasExamples.folder_df:\")\n",
        "    display(RasExamples.folder_df)\n",
        "else:\n",
        "    print(\"Downloading example projects...\")\n",
        "    RasExamples.get_example_projects()\n",
        "    print(\"RasExamples.folder_df:\")\n",
        "    display(RasExamples.folder_df)\n"
      ]
    },
    {
      "cell_type": "code",
      "execution_count": 5,
      "metadata": {},
      "outputs": [
        {
          "name": "stderr",
          "output_type": "stream",
          "text": [
            "2025-07-03 09:30:56 - ras_commander.RasExamples - INFO - Available categories: 1D Sediment Transport, 1D Steady Flow Hydraulics, 1D Unsteady Flow Hydraulics, 2D Sediment Transport, 2D Unsteady Flow Hydraulics, Applications Guide, Pipes (beta), Water Quality\n"
          ]
        }
      ],
      "source": [
        "# List all categories\n",
        "categories = RasExamples.list_categories()"
      ]
    },
    {
      "cell_type": "code",
      "execution_count": 6,
      "metadata": {},
      "outputs": [
        {
          "name": "stdout",
          "output_type": "stream",
          "text": [
            "\n",
            "Available categories:\n"
          ]
        },
        {
          "data": {
            "text/plain": "[\"['1D Sediment Transport',\\n\", \" '1D Steady Flow Hydraulics',\\n\", \" '1D Unsteady Flow Hydraulics',\\n\", \" '2D Sediment Transport',\\n\", \" '2D Unsteady Flow Hydraulics',\\n\", \" 'Applications Guide',\\n\", \" 'Pipes (beta)',\\n\", \" 'Water Quality']\"]"
          },
          "execution_count": 6,
          "metadata": {},
          "output_type": "execute_result"
        }
      ],
      "source": [
        "print(\"\\nAvailable categories:\")\n",
        "categories"
      ]
    },
    {
      "cell_type": "code",
      "execution_count": 7,
      "metadata": {},
      "outputs": [
        {
          "name": "stderr",
          "output_type": "stream",
          "text": [
            "2025-07-03 09:30:56 - ras_commander.RasExamples - INFO - Projects in category '1D Sediment Transport': BSTEM - Simple Example, Dredging Example, Reservoir Video Tutorial, SIAM Example, Simple Sediment Transport Example, Unsteady Sediment with Concentration Rules, Video Tutorial (Sediment Intro)\n"
          ]
        },
        {
          "data": {
            "text/plain": "[\"['BSTEM - Simple Example',\\n\", \" 'Dredging Example',\\n\", \" 'Reservoir Video Tutorial',\\n\", \" 'SIAM Example',\\n\", \" 'Simple Sediment Transport Example',\\n\", \" 'Unsteady Sediment with Concentration Rules',\\n\", \" 'Video Tutorial (Sediment Intro)']\"]"
          },
          "execution_count": 7,
          "metadata": {},
          "output_type": "execute_result"
        }
      ],
      "source": [
        "# List projects in a specific category\n",
        "projects = RasExamples.list_projects(\"1D Sediment Transport\")\n",
        "projects\n",
        "\n"
      ]
    },
    {
      "cell_type": "code",
      "execution_count": 8,
      "metadata": {},
      "outputs": [
        {
          "name": "stderr",
          "output_type": "stream",
          "text": [
            "2025-07-03 09:30:56 - ras_commander.RasExamples - INFO - All available projects: BSTEM - Simple Example, Dredging Example, Reservoir Video Tutorial, SIAM Example, Simple Sediment Transport Example, Unsteady Sediment with Concentration Rules, Video Tutorial (Sediment Intro), Baxter RAS Mapper, Chapter 4 Example Data, ConSpan Culvert, Mixed Flow Regime Channel, Wailupe GeoRAS, Balde Eagle Creek, Bridge Hydraulics, ContractionExpansionMinorLosses, Culvert Hydraulics, Culverts with Flap Gates, Dam Breaching, Elevation Controled Gates, Inline Structure with Gated Spillways, Internal Stage and Flow Boundary Condition, JunctionHydraulics, Lateral Strcuture with Gates, Lateral Structure connected to a River Reach, Lateral Structure Overflow Weir, Lateral Structure with Culverts and Gates, Lateral Structure with Culverts, Levee Breaching, Mixed Flow Regime, Multiple Reaches with Hydraulic Structures, NavigationDam, Pumping Station with Rules, Pumping Station, Rule Operations, Simplified Physical Breaching, Storage Area Hydraulic Connection, UngagedAreaInflows, Unsteady Flow Encroachment Analysis, Chippewa_2D, Weise_2D, BaldEagleCrkMulti2D, Muncie, Example 1 - Critical Creek, Example 10 - Stream Junction, Example 11 - Bridge Scour, Example 12 - Inline Structure, Example 13 - Singler Bridge (WSPRO), Example 14 - Ice Covered River, Example 15 - Split Flow Junction with Lateral Weir, Example 16 - Channel Modification, Example 17 - Unsteady Flow Application, Example 18 - Advanced Inline Structure, Example 19 - Hydrologic Routing - ModPuls, Example 2 - Beaver Creek, Example 20 - HagerLatWeir, Example 21 - Overflow Gates, Example 22 - Groundwater Interflow, Example 23 - Urban Modeling, Example 24 - Mannings-n-Calibration, Example 3 - Single Culvert, Example 4 - Multiple Culverts, Example 5 - Multiple Openings, Example 6 - Floodway Determination, Example 7 - Multiple Plans, Example 8 - Looped Network, Example 9 - Mixed Flow Analysis, Davis, Nutrient Example, NewOrleansMetro, BeaverLake\n"
          ]
        },
        {
          "data": {
            "text/plain": "[\"['BSTEM - Simple Example',\\n\", \" 'Dredging Example',\\n\", \" 'Reservoir Video Tutorial',\\n\", \" 'SIAM Example',\\n\", \" 'Simple Sediment Transport Example',\\n\", \" 'Unsteady Sediment with Concentration Rules',\\n\", \" 'Video Tutorial (Sediment Intro)',\\n\", \" 'Baxter RAS Mapper',\\n\", \" 'Chapter 4 Example Data',\\n\", \" 'ConSpan Culvert',\\n\", \" 'Mixed Flow Regime Channel',\\n\", \" 'Wailupe GeoRAS',\\n\", \" 'Balde Eagle Creek',\\n\", \" 'Bridge Hydraulics',\\n\", \" 'ContractionExpansionMinorLosses',\\n\", \" 'Culvert Hydraulics',\\n\", \" 'Culverts with Flap Gates',\\n\", \" 'Dam Breaching',\\n\", \" 'Elevation Controled Gates',\\n\", \" 'Inline Structure with Gated Spillways',\\n\", \" 'Internal Stage and Flow Boundary Condition',\\n\", \" 'JunctionHydraulics',\\n\", \" 'Lateral Strcuture with Gates',\\n\", \" 'Lateral Structure connected to a River Reach',\\n\", \" 'Lateral Structure Overflow Weir',\\n\", \" 'Lateral Structure with Culverts and Gates',\\n\", \" 'Lateral Structure with Culverts',\\n\", \" 'Levee Breaching',\\n\", \" 'Mixed Flow \n...\n[Output truncated, 2482 characters total]"
          },
          "execution_count": 8,
          "metadata": {},
          "output_type": "execute_result"
        }
      ],
      "source": [
        "# List all projects\n",
        "all_projects = RasExamples.list_projects()\n",
        "all_projects\n"
      ]
    },
    {
      "cell_type": "code",
      "execution_count": 9,
      "metadata": {},
      "outputs": [
        {
          "name": "stderr",
          "output_type": "stream",
          "text": [
            "2025-07-03 09:30:56 - ras_commander.RasExamples - INFO - ----- RasExamples Extracting Project -----\n",
            "2025-07-03 09:30:56 - ras_commander.RasExamples - INFO - Extracting project 'Balde Eagle Creek'\n",
            "2025-07-03 09:30:56 - ras_commander.RasExamples - INFO - Project 'Balde Eagle Creek' already exists. Deleting existing folder...\n",
            "2025-07-03 09:30:56 - ras_commander.RasExamples - INFO - Existing folder for project 'Balde Eagle Creek' has been deleted.\n",
            "2025-07-03 09:30:56 - ras_commander.RasExamples - INFO - Successfully extracted project 'Balde Eagle Creek' to c:\\GH\\ras-commander\\examples\\example_projects\\Balde Eagle Creek\n",
            "2025-07-03 09:30:56 - ras_commander.RasExamples - INFO - ----- RasExamples Extracting Project -----\n",
            "2025-07-03 09:30:56 - ras_commander.RasExamples - INFO - Extracting project 'BaldEagleCrkMulti2D'\n",
            "2025-07-03 09:30:56 - ras_commander.RasExamples - INFO - Project 'BaldEagleCrkMulti2D' already exists. Deleting existing folder...\n",
            "2025-07-03 09:30:57 - ras_commander.RasExamples - INFO - Existing folder for project 'BaldEagleCrkMulti2D' has been deleted.\n",
            "2025-07-03 09:31:00 - ras_commander.RasExamples - INFO - Successfully extracted project 'BaldEagleCrkMulti2D' to c:\\GH\\ras-commander\\examples\\example_projects\\BaldEagleCrkMulti2D\n",
            "2025-07-03 09:31:00 - ras_commander.RasExamples - INFO - ----- RasExamples Extracting Project -----\n",
            "2025-07-03 09:31:00 - ras_commander.RasExamples - INFO - Extracting project 'Muncie'\n",
            "2025-07-03 09:31:00 - ras_commander.RasExamples - INFO - Project 'Muncie' already exists. Deleting existing folder...\n",
            "2025-07-03 09:31:00 - ras_commander.RasExamples - INFO - Existing folder for project 'Muncie' has been deleted.\n",
            "2025-07-03 09:31:00 - ras_commander.RasExamples - INFO - Successfully extracted project 'Muncie' to c:\\GH\\ras-commander\\examples\\example_projects\\Muncie\n"
          ]
        }
      ],
      "source": [
        "# Extract specific projects\n",
        "projects_to_extract = [\"Balde Eagle Creek\", \"BaldEagleCrkMulti2D\", \"Muncie\"]\n",
        "extracted_paths = RasExamples.extract_project(projects_to_extract)\n"
      ]
    },
    {
      "cell_type": "markdown",
      "metadata": {},
      "source": [
        "### Note about New Pipes and Conduits Version 6.6 Example Project\n",
        "\n",
        "Use project name \"Davis\" to explore pipes and conduits (introduced in version 6.6)"
      ]
    },
    {
      "cell_type": "markdown",
      "metadata": {},
      "source": [
        "### NEW Example Projects:\n",
        "#### The \"BeaverLake\" and \"NewOrleansMetro\" were published to the HEC-RAS Sample Datasets page.  These sample datasets are specifically for Pipe Systems introduced in HEC-RAS 6.6\n",
        "\n",
        "https://www.hec.usace.army.mil/confluence/rasdocs/hgt/latest/sample-datasets/small-city-urban-drainage-davis-ca\n",
        "\n",
        "https://www.hec.usace.army.mil/confluence/rasdocs/hgt/latest/sample-datasets/small-neighborhood-drainage-beaver-lake\n",
        "\n"
      ]
    },
    {
      "cell_type": "code",
      "execution_count": 10,
      "metadata": {},
      "outputs": [
        {
          "name": "stderr",
          "output_type": "stream",
          "text": [
            "2025-07-03 09:31:00 - ras_commander.RasExamples - INFO - ----- RasExamples Extracting Special Project -----\n",
            "2025-07-03 09:31:00 - ras_commander.RasExamples - INFO - Extracting special project 'BeaverLake'\n",
            "2025-07-03 09:31:00 - ras_commander.RasExamples - INFO - Special project 'BeaverLake' already exists. Deleting existing folder...\n",
            "2025-07-03 09:31:00 - ras_commander.RasExamples - INFO - Existing folder for project 'BeaverLake' has been deleted.\n",
            "2025-07-03 09:31:00 - ras_commander.RasExamples - INFO - Downloading special project from: https://www.hec.usace.army.mil/confluence/rasdocs/hgt/files/latest/299501780/299502090/1/1747692179014/BeaverLake-SWMM-Import-Solution.zip\n",
            "2025-07-03 09:31:00 - ras_commander.RasExamples - INFO - This may take a few moments...\n",
            "2025-07-03 09:31:02 - ras_commander.RasExamples - INFO - Downloaded special project zip file to c:\\GH\\ras-commander\\examples\\example_projects\\BeaverLake_temp.zip\n",
            "2025-07-03 09:31:02 - ras_commander.RasExamples - INFO - Successfully extracted special project 'BeaverLake' to c:\\GH\\ras-commander\\examples\\example_projects\\BeaverLake\n"
          ]
        }
      ],
      "source": [
        "extracted_paths = RasExamples.extract_project(\"BeaverLake\")"
      ]
    },
    {
      "cell_type": "code",
      "execution_count": 11,
      "metadata": {},
      "outputs": [
        {
          "name": "stderr",
          "output_type": "stream",
          "text": [
            "2025-07-03 09:31:02 - ras_commander.RasExamples - INFO - ----- RasExamples Extracting Special Project -----\n",
            "2025-07-03 09:31:02 - ras_commander.RasExamples - INFO - Extracting special project 'NewOrleansMetro'\n",
            "2025-07-03 09:31:02 - ras_commander.RasExamples - INFO - Special project 'NewOrleansMetro' already exists. Deleting existing folder...\n",
            "2025-07-03 09:31:02 - ras_commander.RasExamples - INFO - Existing folder for project 'NewOrleansMetro' has been deleted.\n",
            "2025-07-03 09:31:02 - ras_commander.RasExamples - INFO - Downloading special project from: https://www.hec.usace.army.mil/confluence/rasdocs/hgt/files/latest/299502039/299502111/1/1747692522764/NewOrleansMetroPipesExample.zip\n",
            "2025-07-03 09:31:02 - ras_commander.RasExamples - INFO - This may take a few moments...\n",
            "2025-07-03 09:31:18 - ras_commander.RasExamples - INFO - Downloaded special project zip file to c:\\GH\\ras-commander\\examples\\example_projects\\NewOrleansMetro_temp.zip\n",
            "2025-07-03 09:31:20 - ras_commander.RasExamples - INFO - Successfully extracted special project 'NewOrleansMetro' to c:\\GH\\ras-commander\\examples\\example_projects\\NewOrleansMetro\n"
          ]
        }
      ],
      "source": [
        "extracted_paths = RasExamples.extract_project(\"NewOrleansMetro\")"
      ]
    }
  ],
  "metadata": {
    "kernelspec": {
      "display_name": "rascmdr_local_2025-06",
      "language": "python",
      "name": "python3"
    },
    "language_info": {
      "codemirror_mode": {
        "name": "ipython",
        "version": 3
      },
      "file_extension": ".py",
      "mimetype": "text/x-python",
      "name": "python",
      "nbconvert_exporter": "python",
      "pygments_lexer": "ipython3",
      "version": "3.12.11"
    }
  },
  "nbformat": 4,
  "nbformat_minor": 2
}