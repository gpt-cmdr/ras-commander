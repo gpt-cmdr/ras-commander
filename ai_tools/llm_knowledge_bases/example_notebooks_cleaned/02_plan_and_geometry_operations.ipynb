{
  "cells": [
    {
      "cell_type": "markdown",
      "metadata": {},
      "source": [
        "# RAS Commander: Plan and Geometry Operations\n",
        "\n",
        "This notebook demonstrates how to perform operations on HEC-RAS plan and geometry files using the RAS Commander library. We'll explore how to initialize projects, clone plans and geometries, configure parameters, execute plans, and analyze results.\n",
        "\n",
        "## Operations Covered\n",
        "\n",
        "1. **Project Initialization**: Initialize a HEC-RAS project by specifying the project path and version\n",
        "2. **Plan Operations**:\n",
        "   - Clone an existing plan to create a new one\n",
        "   - Configure simulation parameters and intervals\n",
        "   - Set run flags and update descriptions\n",
        "3. **Geometry Operations**:\n",
        "   - Clone a geometry file to create a modified version\n",
        "   - Set the geometry for a plan\n",
        "   - Clear geometry preprocessor files to ensure clean results\n",
        "4. **Flow Operations**:\n",
        "   - Clone unsteady flow files\n",
        "   - Configure flow parameters\n",
        "5. **Plan Computation**: Run the plan with specified settings\n",
        "6. **Results Verification**: Check HDF entries to confirm results were written"
      ]
    },
    {
      "cell_type": "markdown",
      "metadata": {},
      "source": [
        "## Package Installation and Environment Setup\n",
        "Uncomment and run package installation commands if needed"
      ]
    },
    {
      "cell_type": "code",
      "execution_count": 1,
      "metadata": {},
      "outputs": [],
      "source": [
        "# 1. Install ras-commander from pip (uncomment to install if needed)\n",
        "#!pip install ras-commander\n",
        "# This installs ras-commander and all dependencies"
      ]
    },
    {
      "cell_type": "code",
      "execution_count": 2,
      "metadata": {},
      "outputs": [],
      "source": [
        "# Import the required libraries for this notebook\n",
        "from ras_commander import *  # Import all ras-commander modules\n",
        "\n",
        "import os\n",
        "import sys\n",
        "from pathlib import Path\n",
        "import pandas as pd\n",
        "from IPython import display\n",
        "from datetime import datetime  "
      ]
    },
    {
      "cell_type": "markdown",
      "metadata": {},
      "source": [
        "## Downloading and Extracting Example HEC-RAS Projects\n",
        "\n",
        "We'll use the `RasExamples` class to download and extract an example HEC-RAS project. For this notebook, we'll use the \"Balde Eagle Creek\" project."
      ]
    },
    {
      "cell_type": "code",
      "execution_count": 3,
      "metadata": {},
      "outputs": [
        {
          "name": "stderr",
          "output_type": "stream",
          "text": [
            "2025-03-19 16:54:51 - ras_commander.RasExamples - INFO - Found zip file: c:\\GH\\ras-commander\\examples\\Example_Projects_6_6.zip\n",
            "2025-03-19 16:54:51 - ras_commander.RasExamples - INFO - Loading project data from CSV...\n",
            "2025-03-19 16:54:51 - ras_commander.RasExamples - INFO - Loaded 68 projects from CSV.\n",
            "2025-03-19 16:54:51 - ras_commander.RasExamples - INFO - ----- RasExamples Extracting Project -----\n",
            "2025-03-19 16:54:51 - ras_commander.RasExamples - INFO - Extracting project 'Balde Eagle Creek'\n",
            "2025-03-19 16:54:51 - ras_commander.RasExamples - INFO - Project 'Balde Eagle Creek' already exists. Deleting existing folder...\n",
            "2025-03-19 16:54:51 - ras_commander.RasExamples - INFO - Existing folder for project 'Balde Eagle Creek' has been deleted.\n",
            "2025-03-19 16:54:51 - ras_commander.RasExamples - INFO - Successfully extracted project 'Balde Eagle Creek' to c:\\GH\\ras-commander\\examples\\example_projects\\Balde Eagle Creek\n"
          ]
        },
        {
          "name": "stdout",
          "output_type": "stream",
          "text": [
            "c:\\GH\\ras-commander\\examples\\example_projects\\Balde Eagle Creek\n"
          ]
        }
      ],
      "source": [
        "# Extract specific projects we'll use in this tutorial\n",
        "# This will download them if not present and extract them to the example_projects folder\n",
        "bald_eagle_path = RasExamples.extract_project(\"Balde Eagle Creek\")\n",
        "print(bald_eagle_path)"
      ]
    },
    {
      "cell_type": "markdown",
      "metadata": {},
      "source": [
        "## Project Initialization\n",
        "\n",
        "The first step is to initialize the HEC-RAS project. This is done using the `init_ras_project()` function, which takes the project folder path and HEC-RAS version as parameters."
      ]
    },
    {
      "cell_type": "code",
      "execution_count": 4,
      "metadata": {},
      "outputs": [
        {
          "name": "stderr",
          "output_type": "stream",
          "text": [
            "2025-03-19 16:54:51 - ras_commander.RasPrj - INFO - Initializing global 'ras' object via init_ras_project function.\n",
            "2025-03-19 16:54:51 - ras_commander.RasPrj - INFO - Project initialized. ras_object project folder: c:\\GH\\ras-commander\\examples\\example_projects\\Balde Eagle Creek\n"
          ]
        },
        {
          "name": "stdout",
          "output_type": "stream",
          "text": [
            "Initialized HEC-RAS project: BaldEagle\n",
            "\n",
            "HEC-RAS Project Plan Data (plan_df):\n"
          ]
        },
        {
          "data": {
            "text/html": "<div>\n<style scoped>\\n', '    .dataframe tbody tr th:only-of-type {\\n', '        vertical-align: middle;\\n', '    }\\n', '\\n', '    .dataframe tbody tr th {\\n', '        vertical-align: top;\\n', '    }\\n', '\\n', '    .dataframe thead th {\\n', '        text-align: right;\\n', '    }\\n', '</style>\n<table border=\"1\" class=\"dataframe\">\n  <thead>\\n', '    <tr style=\"text-align: right;\">\\n', '      <th></th>\\n', '      <th>plan_number</th>\\n', '      <th>unsteady_number</th>\\n', '      <th>geometry_number</th>\\n', '      <th>Plan Title</th>\\n', '      <th>Program Version</th>\\n', '      <th>Short Identifier</th>\\n', '      <th>Simulation Date</th>\\n', '      <th>Computation Interval</th>\\n', '      <th>Mapping Interval</th>\\n', '      <th>Run HTab</th>\\n', '      <th>...</th>\\n', '      <th>UNET D2 Cores</th>\\n', '      <th>PS Cores</th>\\n', '      <th>DSS File</th>\\n', '      <th>Friction Slope Method</th>\\n', '      <th>HDF_Results_Path</th>\\n', '      <th>Geom File</th>\\n', '      <th>Geom Path</th>\\n', '      <th>Flow File</th>\\n', '      <th>Flow Path</th>\\n', '      <th>full_path</th>\\n', '    </tr>\\n', '  </thead>\n  <tbody>\n    <tr>\\n', '      <th>0</th>\\n', '      <td>01</td>\\n', '      <td>02</td>\\n', '      <td>01</td>\\n', '      <td>Unsteady with Bridges and Dam</td>\\n', '      <td>5.00</td>\\n', '      <td>UnsteadyFlow</td>\\n', '      <td>18FEB1999,0000,24FEB1999,0500</td>\\n', '      <td>2MIN</td>\\n', '      <td>1HOUR</td>\\n', '      <td>1</td>\\n', '      <td>...</td>\\n', '      <td>0.0</td>\\n', '      <td>None</td>\\n', '      <td>dss</td>\\n', '      <td>2</td>\\n', '      <td>None</td>\\n', '      <td>01</td>\\n', '      <td>c:\\\\GH\\\\ras-commander\\\\examples\\\\example_projects\\\\...</td>\\n', '      <td>02</td>\\n', '      <td>c:\\\\GH\\\\ras-commander\\\\examples\\\\example_projects\\\\...</td>\\n', '      <td>c:\\\\GH\\\\ras-commander\\\\examples\\\\example_projects\\\\...</td>\\n', '    </tr><tr>\\n', '      <th>1</th>\\n', '      <td>02</td>\\n', '      <td>None</td>\\n', '      <td>01</td>\\n', '      <td>Steady Flow Run</td>\\n', '      <td>NaN</td>\\n', '      <td>SteadyRun</td>\\n', '      <td>02/18/1999,0000,02/24/1999,0500</td>\\n', '      <td>2MIN</td>\\n', '      <td>NaN</td>\\n', '      <td>1</td>\\n', '      <td>...</td>\\n', '      <td>NaN</td>\\n', '      <td>None</td>\\n', '      <td>dss</td>\\n', '      <td>1</td>\\n', '      <td>None</td>\\n', '      <td>01</td>\\n', '      <td>c:\\\\GH\\\\ras-commander\\\\examples\\\\example_projects\\\\...</td>\\n', '      <td>02</td>\\n', '      <td>c:\\\\GH\\\\ras-commander\\\\examples\\\\example_projects\\\\...</td>\\n', '      <td>c:\\\\GH\\\\ras-commander\\\\examples\\\\example_projects\\\\...</td>\\n', '    </tr>\n    <tr><td colspan=\"100%\" style=\"text-align:center\">[... additional rows truncated ...]</td></tr>\n  </tbody>\n</table>\n</div>",
            "text/plain": [
              "  plan_number unsteady_number geometry_number                     Plan Title  \\\n",
              "0          01              02              01  Unsteady with Bridges and Dam   \n",
              "1          02            None              01                Steady Flow Run   \n",
              "\n",
              "  Program Version Short Identifier                  Simulation Date  \\\n",
              "0            5.00     UnsteadyFlow    18FEB1999,0000,24FEB1999,0500   \n",
              "1             NaN        SteadyRun  02/18/1999,0000,02/24/1999,0500   \n",
              "\n",
              "  Computation Interval Mapping Interval Run HTab  ... UNET D2 Cores PS Cores  \\\n",
              "0                 2MIN            1HOUR        1  ...           0.0     None   \n",
              "1                 2MIN              NaN        1  ...           NaN     None   \n",
              "\n",
              "  DSS File Friction Slope Method HDF_Results_Path  Geom File  \\\n",
              "0      dss                     2             None         01   \n",
              "1      dss                     1             None         01   \n",
              "\n",
              "                                           Geom Path Flow File  \\\n",
              "0  c:\\GH\\ras-commander\\examples\\example_projects\\...        02   \n",
              "1  c:\\GH\\ras-commander\\examples\\example_projects\\...        02   \n",
              "\n",
              "                                           Flow Path  \\\n",
              "0  c:\\GH\\ras-commander\\examples\\example_projects\\...   \n",
              "1  c:\\GH\\ras-commander\\examples\\example_projects\\...   \n",
              "\n",
              "                                           full_path  \n",
              "0  c:\\GH\\ras-commander\\examples\\example_projects\\...  \n",
              "1  c:\\GH\\ras-commander\\examples\\example_projects\\...  \n",
              "\n",
              "[2 rows x 26 columns]"
            ]
          },
          "metadata": {},
          "output_type": "display_data"
        }
      ],
      "source": [
        "init_ras_project(bald_eagle_path, \"6.6\")\n",
        "print(f\"Initialized HEC-RAS project: {ras.project_name}\")\n",
        "\n",
        "# Display the current plan files in the project\n",
        "print(\"\\nHEC-RAS Project Plan Data (plan_df):\")\n",
        "display.display(ras.plan_df)"
      ]
    },
    {
      "cell_type": "markdown",
      "metadata": {},
      "source": [
        "## Understanding Plan and Geometry Operations in HEC-RAS\n",
        "\n",
        "Before diving into the operations, let's understand what plan and geometry files are in HEC-RAS:\n",
        "\n",
        "- **Plan Files** (`.p*`): Define the simulation parameters including the reference to geometry and flow files, as well as computational settings.\n",
        "- **Geometry Files** (`.g*`): Define the physical characteristics of the river/channel system including cross-sections, 2D areas, and structures.\n",
        "\n",
        "The `RasPlan` and `RasGeo` classes provide methods for working with these files, including:\n",
        "\n",
        "1. Creating new plans and geometries by cloning existing ones\n",
        "2. Modifying simulation parameters and settings\n",
        "3. Associating geometries with plans\n",
        "4. Managing preprocessor files\n",
        "5. Retrieving information from plans and geometries\n",
        "\n",
        "In the following sections, we'll explore these operations in detail."
      ]
    },
    {
      "cell_type": "markdown",
      "metadata": {},
      "source": [
        "## Cloning Plans and Geometries\n",
        "\n",
        "Let's start by cloning a plan to create a new simulation scenario."
      ]
    },
    {
      "cell_type": "code",
      "execution_count": 5,
      "metadata": {},
      "outputs": [
        {
          "name": "stderr",
          "output_type": "stream",
          "text": [
            "2025-03-19 16:54:51 - ras_commander.RasUtils - INFO - File cloned from c:\\GH\\ras-commander\\examples\\example_projects\\Balde Eagle Creek\\BaldEagle.p01 to c:\\GH\\ras-commander\\examples\\example_projects\\Balde Eagle Creek\\BaldEagle.p03\n",
            "2025-03-19 16:54:51 - ras_commander.RasUtils - INFO - Successfully updated file: c:\\GH\\ras-commander\\examples\\example_projects\\Balde Eagle Creek\\BaldEagle.p03\n",
            "2025-03-19 16:54:51 - ras_commander.RasUtils - INFO - Project file updated with new Plan entry: 03\n"
          ]
        },
        {
          "name": "stdout",
          "output_type": "stream",
          "text": [
            "New plan created: 03\n",
            "\n",
            "Updated plan files:\n"
          ]
        },
        {
          "data": {
            "text/html": "<div>\n<style scoped>\\n', '    .dataframe tbody tr th:only-of-type {\\n', '        vertical-align: middle;\\n', '    }\\n', '\\n', '    .dataframe tbody tr th {\\n', '        vertical-align: top;\\n', '    }\\n', '\\n', '    .dataframe thead th {\\n', '        text-align: right;\\n', '    }\\n', '</style>\n<table border=\"1\" class=\"dataframe\">\n  <thead>\\n', '    <tr style=\"text-align: right;\">\\n', '      <th></th>\\n', '      <th>plan_number</th>\\n', '      <th>unsteady_number</th>\\n', '      <th>geometry_number</th>\\n', '      <th>Plan Title</th>\\n', '      <th>Program Version</th>\\n', '      <th>Short Identifier</th>\\n', '      <th>Simulation Date</th>\\n', '      <th>Computation Interval</th>\\n', '      <th>Mapping Interval</th>\\n', '      <th>Run HTab</th>\\n', '      <th>...</th>\\n', '      <th>UNET D2 Cores</th>\\n', '      <th>PS Cores</th>\\n', '      <th>DSS File</th>\\n', '      <th>Friction Slope Method</th>\\n', '      <th>HDF_Results_Path</th>\\n', '      <th>Geom File</th>\\n', '      <th>Geom Path</th>\\n', '      <th>Flow File</th>\\n', '      <th>Flow Path</th>\\n', '      <th>full_path</th>\\n', '    </tr>\\n', '  </thead>\n  <tbody>\n    <tr>\\n', '      <th>0</th>\\n', '      <td>01</td>\\n', '      <td>02</td>\\n', '      <td>01</td>\\n', '      <td>Unsteady with Bridges and Dam</td>\\n', '      <td>5.00</td>\\n', '      <td>UnsteadyFlow</td>\\n', '      <td>18FEB1999,0000,24FEB1999,0500</td>\\n', '      <td>2MIN</td>\\n', '      <td>1HOUR</td>\\n', '      <td>1</td>\\n', '      <td>...</td>\\n', '      <td>0.0</td>\\n', '      <td>None</td>\\n', '      <td>dss</td>\\n', '      <td>2</td>\\n', '      <td>None</td>\\n', '      <td>01</td>\\n', '      <td>None</td>\\n', '      <td>02</td>\\n', '      <td>None</td>\\n', '      <td>c:\\\\GH\\\\ras-commander\\\\examples\\\\example_projects\\\\...</td>\\n', '    </tr><tr>\\n', '      <th>1</th>\\n', '      <td>02</td>\\n', '      <td>None</td>\\n', '      <td>01</td>\\n', '      <td>Steady Flow Run</td>\\n', '      <td>NaN</td>\\n', '      <td>SteadyRun</td>\\n', '      <td>02/18/1999,0000,02/24/1999,0500</td>\\n', '      <td>2MIN</td>\\n', '      <td>NaN</td>\\n', '      <td>1</td>\\n', '      <td>...</td>\\n', '      <td>NaN</td>\\n', '      <td>None</td>\\n', '      <td>dss</td>\\n', '      <td>1</td>\\n', '      <td>None</td>\\n', '      <td>01</td>\\n', '      <td>None</td>\\n', '      <td>02</td>\\n', '      <td>None</td>\\n', '      <td>c:\\\\GH\\\\ras-commander\\\\examples\\\\example_projects\\\\...</td>\\n', '    </tr><tr>\\n', '      <th>2</th>\\n', '      <td>03</td>\\n', '      <td>02</td>\\n', '      <td>01</td>\\n', '      <td>Unsteady with Bridges and Dam</td>\\n', '      <td>5.00</td>\\n', '      <td>Combined Test Plan</td>\\n', '      <td>18FEB1999,0000,24FEB1999,0500</td>\\n', '      <td>2MIN</td>\\n', '      <td>1HOUR</td>\\n', '      <td>1</td>\\n', '      <td>...</td>\\n', '      <td>0.0</td>\\n', '      <td>None</td>\\n', '      <td>dss</td>\\n', '      <td>2</td>\\n', '      <td>None</td>\\n', '      <td>01</td>\\n', '      <td>None</td>\\n', '      <td>02</td>\\n', '      <td>None</td>\\n', '      <td>c:\\\\GH\\\\ras-commander\\\\examples\\\\example_projects\\\\...</td>\\n', '    </tr>\n    <tr><td colspan=\"100%\" style=\"text-align:center\">[... additional rows truncated ...]</td></tr>\n  </tbody>\n</table>\n</div>",
            "text/plain": [
              "  plan_number unsteady_number geometry_number                     Plan Title  \\\n",
              "0          01              02              01  Unsteady with Bridges and Dam   \n",
              "1          02            None              01                Steady Flow Run   \n",
              "2          03              02              01  Unsteady with Bridges and Dam   \n",
              "\n",
              "  Program Version    Short Identifier                  Simulation Date  \\\n",
              "0            5.00        UnsteadyFlow    18FEB1999,0000,24FEB1999,0500   \n",
              "1             NaN           SteadyRun  02/18/1999,0000,02/24/1999,0500   \n",
              "2            5.00  Combined Test Plan    18FEB1999,0000,24FEB1999,0500   \n",
              "\n",
              "  Computation Interval Mapping Interval Run HTab  ... UNET D2 Cores PS Cores  \\\n",
              "0                 2MIN            1HOUR        1  ...           0.0     None   \n",
              "1                 2MIN              NaN        1  ...           NaN     None   \n",
              "2                 2MIN            1HOUR        1  ...           0.0     None   \n",
              "\n",
              "  DSS File Friction Slope Method HDF_Results_Path  Geom File  Geom Path  \\\n",
              "0      dss                     2             None         01       None   \n",
              "1      dss                     1             None         01       None   \n",
              "2      dss                     2             None         01       None   \n",
              "\n",
              "  Flow File Flow Path                                          full_path  \n",
              "0        02      None  c:\\GH\\ras-commander\\examples\\example_projects\\...  \n",
              "1        02      None  c:\\GH\\ras-commander\\examples\\example_projects\\...  \n",
              "2        02      None  c:\\GH\\ras-commander\\examples\\example_projects\\...  \n",
              "\n",
              "[3 rows x 26 columns]"
            ]
          },
          "metadata": {},
          "output_type": "display_data"
        },
        {
          "name": "stdout",
          "output_type": "stream",
          "text": [
            "\n",
            "New plan file path: c:\\GH\\ras-commander\\examples\\example_projects\\Balde Eagle Creek\\BaldEagle.p03\n",
            "\n",
            "New plan details:\n",
            "Plan number: 03\n",
            "Description: No description\n",
            "Short Identifier: Combined Test Plan\n",
            "Geometry file: 01\n",
            "File path: c:\\GH\\ras-commander\\examples\\example_projects\\Balde Eagle Creek\\BaldEagle.p03\n"
          ]
        }
      ],
      "source": [
        "# Clone plan \"01\" to create a new plan\n",
        "new_plan_number = RasPlan.clone_plan(\"01\", new_plan_shortid=\"Combined Test Plan\")\n",
        "print(f\"New plan created: {new_plan_number}\")\n",
        "\n",
        "# Display updated plan files\n",
        "print(\"\\nUpdated plan files:\")\n",
        "display.display(ras.plan_df)\n",
        "\n",
        "# Get the path to the new plan file\n",
        "plan_path = RasPlan.get_plan_path(new_plan_number)\n",
        "print(f\"\\nNew plan file path: {plan_path}\")\n",
        "\n",
        "# Let's examine the new plan's details\n",
        "new_plan = ras.plan_df[ras.plan_df['plan_number'] == new_plan_number].iloc[0]\n",
        "print(f\"\\nNew plan details:\")\n",
        "print(f\"Plan number: {new_plan_number}\")\n",
        "print(f\"Description: {new_plan.get('description', 'No description')}\")\n",
        "print(f\"Short Identifier: {new_plan.get('Short Identifier', 'Not available')}\")\n",
        "print(f\"Geometry file: {new_plan.get('Geom File', 'None')}\")\n",
        "print(f\"File path: {new_plan['full_path']}\")"
      ]
    },
    {
      "cell_type": "code",
      "execution_count": 6,
      "metadata": {},
      "outputs": [
        {
          "name": "stderr",
          "output_type": "stream",
          "text": [
            "2025-03-19 16:54:51 - ras_commander.RasPlan - INFO - Retrieved Plan Title: Unsteady with Bridges and Dam\n",
            "2025-03-19 16:54:51 - ras_commander.RasPlan - INFO - Retrieved Short Identifier: Combined Test Plan\n"
          ]
        },
        {
          "name": "stdout",
          "output_type": "stream",
          "text": [
            "Current plan title: Unsteady with Bridges and Dam\n",
            "Current plan shortid: Combined Test Plan\n"
          ]
        }
      ],
      "source": [
        "# Get the current plan title and shortid\n",
        "current_title = RasPlan.get_plan_title(new_plan_number)\n",
        "current_shortid = RasPlan.get_shortid(new_plan_number)\n",
        "\n",
        "print(f\"Current plan title: {current_title}\")\n",
        "print(f\"Current plan shortid: {current_shortid}\")"
      ]
    },
    {
      "cell_type": "code",
      "execution_count": 7,
      "metadata": {},
      "outputs": [
        {
          "name": "stderr",
          "output_type": "stream",
          "text": [
            "2025-03-19 16:54:51 - ras_commander.RasUtils - INFO - Constructed plan file path: c:\\GH\\ras-commander\\examples\\example_projects\\Balde Eagle Creek\\BaldEagle.p03\n",
            "2025-03-19 16:54:51 - ras_commander.RasPlan - INFO - Updated Plan Title in plan file to: Unsteady with Bridges and Dam clonedplan\n",
            "2025-03-19 16:54:51 - ras_commander.RasPlan - WARNING - Short Identifier too long (24 char max). Truncating: Combined Test Plan clonedplan\n",
            "2025-03-19 16:54:51 - ras_commander.RasUtils - INFO - Constructed plan file path: c:\\GH\\ras-commander\\examples\\example_projects\\Balde Eagle Creek\\BaldEagle.p03\n",
            "2025-03-19 16:54:51 - ras_commander.RasPlan - INFO - Updated Short Identifier in plan file to: Combined Test Plan clone\n",
            "2025-03-19 16:54:51 - ras_commander.RasPlan - INFO - Retrieved Plan Title: Unsteady with Bridges and Dam clonedplan\n",
            "2025-03-19 16:54:51 - ras_commander.RasPlan - INFO - Retrieved Short Identifier: Combined Test Plan clone\n"
          ]
        },
        {
          "name": "stdout",
          "output_type": "stream",
          "text": [
            "\n",
            "Updated plan title: Unsteady with Bridges and Dam clonedplan\n",
            "Updated plan shortid: Combined Test Plan clone\n"
          ]
        }
      ],
      "source": [
        "# Update the title and shortid to append \" clonedplan\"\n",
        "new_title = f\"{current_title} clonedplan\"\n",
        "new_shortid = f\"{current_shortid} clonedplan\"\n",
        "\n",
        "RasPlan.set_plan_title(new_plan_number, new_title)\n",
        "RasPlan.set_shortid(new_plan_number, new_shortid)\n",
        "\n",
        "print(f\"\\nUpdated plan title: {RasPlan.get_plan_title(new_plan_number)}\")\n",
        "print(f\"Updated plan shortid: {RasPlan.get_shortid(new_plan_number)}\")"
      ]
    },
    {
      "cell_type": "code",
      "execution_count": 8,
      "metadata": {},
      "outputs": [
        {
          "name": "stderr",
          "output_type": "stream",
          "text": [
            "2025-03-19 16:54:51 - ras_commander.RasPlan - INFO - Retrieved Plan Title: Unsteady with Bridges and Dam clonedplan\n",
            "2025-03-19 16:54:51 - ras_commander.RasPlan - INFO - Retrieved Short Identifier: Combined Test Plan clone\n"
          ]
        },
        {
          "name": "stdout",
          "output_type": "stream",
          "text": [
            "Current plan title: Unsteady with Bridges and Dam clonedplan\n",
            "Current plan shortid: Combined Test Plan clone\n"
          ]
        }
      ],
      "source": [
        "# Get the current plan title and shortid again to confirm the changes\n",
        "current_title = RasPlan.get_plan_title(new_plan_number)\n",
        "current_shortid = RasPlan.get_shortid(new_plan_number)\n",
        "\n",
        "print(f\"Current plan title: {current_title}\")\n",
        "print(f\"Current plan shortid: {current_shortid}\")"
      ]
    },
    {
      "cell_type": "markdown",
      "metadata": {},
      "source": [
        "Now let's clone a geometry file. This allows us to make modifications to a geometry without affecting the original."
      ]
    },
    {
      "cell_type": "code",
      "execution_count": 9,
      "metadata": {},
      "outputs": [
        {
          "name": "stderr",
          "output_type": "stream",
          "text": [
            "2025-03-19 16:54:51 - ras_commander.RasUtils - INFO - File cloned from c:\\GH\\ras-commander\\examples\\example_projects\\Balde Eagle Creek\\BaldEagle.g01 to c:\\GH\\ras-commander\\examples\\example_projects\\Balde Eagle Creek\\BaldEagle.g02\n",
            "2025-03-19 16:54:51 - ras_commander.RasUtils - INFO - File cloned from c:\\GH\\ras-commander\\examples\\example_projects\\Balde Eagle Creek\\BaldEagle.g01.hdf to c:\\GH\\ras-commander\\examples\\example_projects\\Balde Eagle Creek\\BaldEagle.g02.hdf\n",
            "2025-03-19 16:54:51 - ras_commander.RasUtils - INFO - Project file updated with new Geom entry: 02\n"
          ]
        },
        {
          "name": "stdout",
          "output_type": "stream",
          "text": [
            "New geometry created: 02\n",
            "\n",
            "Updated geometry files:\n"
          ]
        },
        {
          "data": {
            "text/html": "<div>\n<style scoped>\\n', '    .dataframe tbody tr th:only-of-type {\\n', '        vertical-align: middle;\\n', '    }\\n', '\\n', '    .dataframe tbody tr th {\\n', '        vertical-align: top;\\n', '    }\\n', '\\n', '    .dataframe thead th {\\n', '        text-align: right;\\n', '    }\\n', '</style>\n<table border=\"1\" class=\"dataframe\">\n  <thead>\\n', '    <tr style=\"text-align: right;\">\\n', '      <th></th>\\n', '      <th>geom_file</th>\\n', '      <th>geom_number</th>\\n', '      <th>full_path</th>\\n', '      <th>hdf_path</th>\\n', '    </tr>\\n', '  </thead>\n  <tbody>\n    <tr>\\n', '      <th>0</th>\\n', '      <td>g01</td>\\n', '      <td>01</td>\\n', '      <td>c:\\\\GH\\\\ras-commander\\\\examples\\\\example_projects\\\\...</td>\\n', '      <td>c:\\\\GH\\\\ras-commander\\\\examples\\\\example_projects\\\\...</td>\\n', '    </tr><tr>\\n', '      <th>1</th>\\n', '      <td>g02</td>\\n', '      <td>02</td>\\n', '      <td>c:\\\\GH\\\\ras-commander\\\\examples\\\\example_projects\\\\...</td>\\n', '      <td>c:\\\\GH\\\\ras-commander\\\\examples\\\\example_projects\\\\...</td>\\n', '    </tr>\n    <tr><td colspan=\"100%\" style=\"text-align:center\">[... additional rows truncated ...]</td></tr>\n  </tbody>\n</table>\n</div>",
            "text/plain": [
              "  geom_file geom_number                                          full_path  \\\n",
              "0       g01          01  c:\\GH\\ras-commander\\examples\\example_projects\\...   \n",
              "1       g02          02  c:\\GH\\ras-commander\\examples\\example_projects\\...   \n",
              "\n",
              "                                            hdf_path  \n",
              "0  c:\\GH\\ras-commander\\examples\\example_projects\\...  \n",
              "1  c:\\GH\\ras-commander\\examples\\example_projects\\...  "
            ]
          },
          "metadata": {},
          "output_type": "display_data"
        },
        {
          "name": "stdout",
          "output_type": "stream",
          "text": [
            "\n",
            "New geometry file path: c:\\GH\\ras-commander\\examples\\example_projects\\Balde Eagle Creek\\BaldEagle.g02\n",
            "\n",
            "New geometry details:\n",
            "Geometry number: 02\n",
            "Geometry file: Not available\n",
            "File path: c:\\GH\\ras-commander\\examples\\example_projects\\Balde Eagle Creek\\BaldEagle.g02\n",
            "HDF path: None\n"
          ]
        }
      ],
      "source": [
        "# Clone geometry \"01\" to create a new geometry file\n",
        "new_geom_number = RasPlan.clone_geom(\"01\")\n",
        "print(f\"New geometry created: {new_geom_number}\")\n",
        "\n",
        "# Display updated geometry files\n",
        "print(\"\\nUpdated geometry files:\")\n",
        "display.display(ras.geom_df)\n",
        "\n",
        "# Get the path to the new geometry file\n",
        "geom_path = RasPlan.get_geom_path(new_geom_number)\n",
        "print(f\"\\nNew geometry file path: {geom_path}\")\n",
        "\n",
        "# Examine the new geometry's details\n",
        "new_geom = ras.geom_df.loc[ras.geom_df['geom_number'] == new_geom_number].squeeze()\n",
        "print(f\"\\nNew geometry details:\")\n",
        "print(f\"Geometry number: {new_geom_number}\")\n",
        "print(f\"Geometry file: {new_geom.get('geom_file', 'Not available')}\")\n",
        "print(f\"File path: {new_geom.get('full_path', 'Not available')}\")\n",
        "print(f\"HDF path: {new_geom.get('hdf_path', 'None')}\")"
      ]
    },
    {
      "cell_type": "markdown",
      "metadata": {},
      "source": [
        "Let's also clone an unsteady flow file to complete our new simulation setup."
      ]
    },
    {
      "cell_type": "code",
      "execution_count": 10,
      "metadata": {},
      "outputs": [
        {
          "name": "stderr",
          "output_type": "stream",
          "text": [
            "2025-03-19 16:54:51 - ras_commander.RasUtils - INFO - File cloned from c:\\GH\\ras-commander\\examples\\example_projects\\Balde Eagle Creek\\BaldEagle.u02 to c:\\GH\\ras-commander\\examples\\example_projects\\Balde Eagle Creek\\BaldEagle.u01\n",
            "2025-03-19 16:54:51 - ras_commander.RasUtils - INFO - Project file updated with new Unsteady entry: 01\n"
          ]
        },
        {
          "name": "stdout",
          "output_type": "stream",
          "text": [
            "New unsteady flow created: 01\n",
            "\n",
            "Updated unsteady flow files:\n"
          ]
        },
        {
          "data": {
            "text/html": "<div>\n<style scoped>\\n', '    .dataframe tbody tr th:only-of-type {\\n', '        vertical-align: middle;\\n', '    }\\n', '\\n', '    .dataframe tbody tr th {\\n', '        vertical-align: top;\\n', '    }\\n', '\\n', '    .dataframe thead th {\\n', '        text-align: right;\\n', '    }\\n', '</style>\n<table border=\"1\" class=\"dataframe\">\n  <thead>\\n', '    <tr style=\"text-align: right;\">\\n', '      <th></th>\\n', '      <th>unsteady_number</th>\\n', '      <th>full_path</th>\\n', '      <th>geometry_number</th>\\n', '      <th>Flow Title</th>\\n', '      <th>Program Version</th>\\n', '      <th>Use Restart</th>\\n', '      <th>Precipitation Mode</th>\\n', '      <th>Wind Mode</th>\\n', '      <th>Met BC=Precipitation|Mode</th>\\n', '      <th>Met BC=Evapotranspiration|Mode</th>\\n', '      <th>Met BC=Precipitation|Expanded View</th>\\n', '      <th>Met BC=Precipitation|Constant Units</th>\\n', '      <th>Met BC=Precipitation|Gridded Source</th>\\n', '    </tr>\\n', '  </thead>\n  <tbody>\n    <tr>\\n', '      <th>0</th>\\n', '      <td>02</td>\\n', '      <td>c:\\\\GH\\\\ras-commander\\\\examples\\\\example_projects\\\\...</td>\\n', '      <td>None</td>\\n', '      <td>Flow Hydrograph 2</td>\\n', '      <td>6.30</td>\\n', '      <td>0</td>\\n', '      <td>Disable</td>\\n', '      <td>No Wind Forces</td>\\n', '      <td>None</td>\\n', '      <td>None</td>\\n', '      <td>0</td>\\n', '      <td>mm/hr</td>\\n', '      <td>DSS</td>\\n', '    </tr><tr>\\n', '      <th>1</th>\\n', '      <td>01</td>\\n', '      <td>c:\\\\GH\\\\ras-commander\\\\examples\\\\example_projects\\\\...</td>\\n', '      <td>None</td>\\n', '      <td>Flow Hydrograph 2</td>\\n', '      <td>6.30</td>\\n', '      <td>0</td>\\n', '      <td>Disable</td>\\n', '      <td>No Wind Forces</td>\\n', '      <td>None</td>\\n', '      <td>None</td>\\n', '      <td>0</td>\\n', '      <td>mm/hr</td>\\n', '      <td>DSS</td>\\n', '    </tr>\n    <tr><td colspan=\"100%\" style=\"text-align:center\">[... additional rows truncated ...]</td></tr>\n  </tbody>\n</table>\n</div>",
            "text/plain": [
              "  unsteady_number                                          full_path  \\\n",
              "0              02  c:\\GH\\ras-commander\\examples\\example_projects\\...   \n",
              "1              01  c:\\GH\\ras-commander\\examples\\example_projects\\...   \n",
              "\n",
              "  geometry_number         Flow Title Program Version Use Restart  \\\n",
              "0            None  Flow Hydrograph 2            6.30           0   \n",
              "1            None  Flow Hydrograph 2            6.30           0   \n",
              "\n",
              "  Precipitation Mode       Wind Mode Met BC=Precipitation|Mode  \\\n",
              "0            Disable  No Wind Forces                      None   \n",
              "1            Disable  No Wind Forces                      None   \n",
              "\n",
              "  Met BC=Evapotranspiration|Mode Met BC=Precipitation|Expanded View  \\\n",
              "0                           None                                  0   \n",
              "1                           None                                  0   \n",
              "\n",
              "  Met BC=Precipitation|Constant Units Met BC=Precipitation|Gridded Source  \n",
              "0                               mm/hr                                 DSS  \n",
              "1                               mm/hr                                 DSS  "
            ]
          },
          "metadata": {},
          "output_type": "display_data"
        },
        {
          "name": "stdout",
          "output_type": "stream",
          "text": [
            "\n",
            "New unsteady flow details:\n",
            "Unsteady number: 01\n",
            "File path: c:\\GH\\ras-commander\\examples\\example_projects\\Balde Eagle Creek\\BaldEagle.u01\n",
            "Flow Title: Flow Hydrograph 2\n"
          ]
        }
      ],
      "source": [
        "# Clone unsteady flow \"02\" to create a new unsteady flow file\n",
        "new_unsteady_number = RasPlan.clone_unsteady(\"02\")\n",
        "print(f\"New unsteady flow created: {new_unsteady_number}\")\n",
        "\n",
        "# Display updated unsteady flow files\n",
        "print(\"\\nUpdated unsteady flow files:\")\n",
        "display.display(ras.unsteady_df)\n",
        "\n",
        "# Examine the new unsteady flow's details\n",
        "new_unsteady = ras.unsteady_df[ras.unsteady_df['unsteady_number'] == new_unsteady_number].iloc[0]\n",
        "print(f\"\\nNew unsteady flow details:\")\n",
        "print(f\"Unsteady number: {new_unsteady_number}\")\n",
        "print(f\"File path: {new_unsteady['full_path']}\")\n",
        "print(f\"Flow Title: {new_unsteady.get('Flow Title', 'Not available')}\")"
      ]
    },
    {
      "cell_type": "markdown",
      "metadata": {},
      "source": [
        "## Associating Files and Setting Parameters\n",
        "\n",
        "Now that we have cloned our plan, geometry, and unsteady flow files, we need to associate them with each other and set various parameters.\n",
        "\n",
        "### Setting Geometry for a Plan\n",
        "\n",
        "Let's associate our new geometry with our new plan:"
      ]
    },
    {
      "cell_type": "code",
      "execution_count": 11,
      "metadata": {},
      "outputs": [
        {
          "name": "stderr",
          "output_type": "stream",
          "text": [
            "2025-03-19 16:54:51 - ras_commander.RasPlan - INFO - Geometry for plan 03 set to 02\n",
            "2025-03-19 16:54:51 - ras_commander.RasPlan - INFO - Updated Geom File in project file to g02 for plan 03\n",
            "2025-03-19 16:54:51 - ras_commander.RasUtils - INFO - Successfully updated file: C:\\GH\\ras-commander\\examples\\example_projects\\Balde Eagle Creek\\BaldEagle.prj\n"
          ]
        },
        {
          "name": "stdout",
          "output_type": "stream",
          "text": [
            "Updated geometry for plan 03 to geometry 02\n",
            "Plan file path: c:\\GH\\ras-commander\\examples\\example_projects\\Balde Eagle Creek\\BaldEagle.p03\n",
            "\n",
            "Verified that plan 03 now uses geometry file: 01\n"
          ]
        }
      ],
      "source": [
        "# Set the new geometry for the cloned plan\n",
        "updated_geom_df = RasPlan.set_geom(new_plan_number, new_geom_number)\n",
        "plan_path = RasPlan.get_plan_path(new_plan_number, ras_object=ras)\n",
        "print(f\"Updated geometry for plan {new_plan_number} to geometry {new_geom_number}\")\n",
        "print(f\"Plan file path: {plan_path}\")\n",
        "\n",
        "# Let's verify the change\n",
        "updated_plan = ras.plan_df[ras.plan_df['plan_number'] == new_plan_number].iloc[0]\n",
        "print(f\"\\nVerified that plan {new_plan_number} now uses geometry file: {updated_plan.get('Geom File', 'None')}\")"
      ]
    },
    {
      "cell_type": "markdown",
      "metadata": {},
      "source": [
        "### Setting Unsteady Flow for a Plan\n",
        "\n",
        "Similarly, let's associate our new unsteady flow file with our plan:"
      ]
    },
    {
      "cell_type": "code",
      "execution_count": 12,
      "metadata": {},
      "outputs": [
        {
          "name": "stdout",
          "output_type": "stream",
          "text": [
            "Updated unsteady flow for plan 03 to unsteady flow 01\n"
          ]
        }
      ],
      "source": [
        "# Set unsteady flow for the cloned plan\n",
        "RasPlan.set_unsteady(new_plan_number, new_unsteady_number)\n",
        "print(f\"Updated unsteady flow for plan {new_plan_number} to unsteady flow {new_unsteady_number}\")"
      ]
    },
    {
      "cell_type": "markdown",
      "metadata": {},
      "source": [
        "### Clearing Geometry Preprocessor Files\n",
        "\n",
        "When working with geometry files, it's important to clear the preprocessor files to ensure clean results. These files (with `.c*` extension) contain computed hydraulic properties that should be recomputed when the geometry changes."
      ]
    },
    {
      "cell_type": "code",
      "execution_count": 13,
      "metadata": {},
      "outputs": [
        {
          "name": "stderr",
          "output_type": "stream",
          "text": [
            "2025-03-19 16:54:51 - ras_commander.RasGeo - INFO - Clearing geometry preprocessor file for single plan: c:\\GH\\ras-commander\\examples\\example_projects\\Balde Eagle Creek\\BaldEagle.p03\n",
            "2025-03-19 16:54:51 - ras_commander.RasGeo - WARNING - No geometry preprocessor file found for: c:\\GH\\ras-commander\\examples\\example_projects\\Balde Eagle Creek\\BaldEagle.p03\n",
            "2025-03-19 16:54:51 - ras_commander.RasGeo - INFO - Geometry dataframe updated successfully.\n"
          ]
        },
        {
          "name": "stdout",
          "output_type": "stream",
          "text": [
            "Cleared geometry preprocessor files for plan 03\n",
            "Preprocessor file exists after clearing: False\n"
          ]
        }
      ],
      "source": [
        "# Clear geometry preprocessor files for the cloned plan\n",
        "RasGeo.clear_geompre_files(plan_path)\n",
        "print(f\"Cleared geometry preprocessor files for plan {new_plan_number}\")\n",
        "\n",
        "# Check if preprocessor file exists after clearing\n",
        "geom_preprocessor_suffix = '.c' + ''.join(Path(plan_path).suffixes[1:])\n",
        "geom_preprocessor_file = Path(plan_path).with_suffix(geom_preprocessor_suffix)\n",
        "print(f\"Preprocessor file exists after clearing: {geom_preprocessor_file.exists()}\")"
      ]
    },
    {
      "cell_type": "markdown",
      "metadata": {},
      "source": [
        "### Setting Computation Parameters\n",
        "\n",
        "Let's set the computation parameters for our plan:"
      ]
    },
    {
      "cell_type": "code",
      "execution_count": 14,
      "metadata": {},
      "outputs": [
        {
          "name": "stderr",
          "output_type": "stream",
          "text": [
            "2025-03-19 16:54:51 - ras_commander.RasUtils - INFO - Constructed plan file path: c:\\GH\\ras-commander\\examples\\example_projects\\Balde Eagle Creek\\BaldEagle.p03\n",
            "2025-03-19 16:54:51 - ras_commander.RasUtils - INFO - Successfully updated file: c:\\GH\\ras-commander\\examples\\example_projects\\Balde Eagle Creek\\BaldEagle.p03\n",
            "2025-03-19 16:54:51 - ras_commander.RasUtils - INFO - Successfully updated file: c:\\GH\\ras-commander\\examples\\example_projects\\Balde Eagle Creek\\BaldEagle.p03\n"
          ]
        },
        {
          "name": "stdout",
          "output_type": "stream",
          "text": [
            "Updated number of cores for plan 03 to 2\n",
            "\n",
            "Verified that UNET D1 Cores is set to: 2\n",
            "Updated geometry preprocessor options for plan 03\n",
            "- Run HTab: -1 (Force recomputation of geometry tables)\n",
            "- Use Existing IB Tables: -1 (Force recomputation of interpolation/boundary tables)\n",
            "\n",
            "Verified setting values:\n",
            "- Run HTab: -1\n",
            "- UNET Use Existing IB Tables: -1\n"
          ]
        }
      ],
      "source": [
        "# Set the number of cores to use for the computation\n",
        "RasPlan.set_num_cores(new_plan_number, 2)\n",
        "print(f\"Updated number of cores for plan {new_plan_number} to 2\")\n",
        "\n",
        "# Verify by extracting the value from the plan file\n",
        "cores_value = RasPlan.get_plan_value(new_plan_number, \"UNET D1 Cores\")\n",
        "print(f\"\\nVerified that UNET D1 Cores is set to: {cores_value}\")\n",
        "\n",
        "# Set geometry preprocessor options\n",
        "RasPlan.set_geom_preprocessor(plan_path, run_htab=-1, use_ib_tables=-1)\n",
        "print(f\"Updated geometry preprocessor options for plan {new_plan_number}\")\n",
        "print(f\"- Run HTab: -1 (Force recomputation of geometry tables)\")\n",
        "print(f\"- Use Existing IB Tables: -1 (Force recomputation of interpolation/boundary tables)\")\n",
        "\n",
        "# Verify by extracting the values from the plan file\n",
        "run_htab_value = RasPlan.get_plan_value(new_plan_number, \"Run HTab\")\n",
        "ib_tables_value = RasPlan.get_plan_value(new_plan_number, \"UNET Use Existing IB Tables\")\n",
        "print(f\"\\nVerified setting values:\")\n",
        "print(f\"- Run HTab: {run_htab_value}\")\n",
        "print(f\"- UNET Use Existing IB Tables: {ib_tables_value}\")"
      ]
    },
    {
      "cell_type": "markdown",
      "metadata": {},
      "source": [
        "### Updating Simulation Parameters\n",
        "\n",
        "Now, let's update various simulation parameters for our plan:"
      ]
    },
    {
      "cell_type": "code",
      "execution_count": 15,
      "metadata": {},
      "outputs": [
        {
          "name": "stderr",
          "output_type": "stream",
          "text": [
            "2025-03-19 16:54:52 - ras_commander.RasPlan - INFO - Updated simulation date in plan file: c:\\GH\\ras-commander\\examples\\example_projects\\Balde Eagle Creek\\BaldEagle.p03\n"
          ]
        },
        {
          "name": "stdout",
          "output_type": "stream",
          "text": [
            "Updated simulation date for plan 03:\n",
            "- Start Date: 2023-01-01 00:00:00\n",
            "- End Date: 2023-01-05 23:59:00\n"
          ]
        }
      ],
      "source": [
        "# 1. Update simulation date\n",
        "start_date = datetime(2023, 1, 1, 0, 0)  # January 1, 2023, 00:00\n",
        "end_date = datetime(2023, 1, 5, 23, 59)  # January 5, 2023, 23:59\n",
        "\n",
        "RasPlan.update_simulation_date(new_plan_number, start_date, end_date)\n",
        "print(f\"Updated simulation date for plan {new_plan_number}:\")\n",
        "print(f\"- Start Date: {start_date}\")\n",
        "print(f\"- End Date: {end_date}\")"
      ]
    },
    {
      "cell_type": "code",
      "execution_count": 16,
      "metadata": {},
      "outputs": [
        {
          "name": "stdout",
          "output_type": "stream",
          "text": [
            "Verified Simulation Date value: 01JAN2023,0000,05JAN2023,2359\n"
          ]
        }
      ],
      "source": [
        "# Verify the update\n",
        "sim_date = RasPlan.get_plan_value(new_plan_number, \"Simulation Date\")\n",
        "print(f\"Verified Simulation Date value: {sim_date}\")"
      ]
    },
    {
      "cell_type": "code",
      "execution_count": 17,
      "metadata": {},
      "outputs": [
        {
          "name": "stderr",
          "output_type": "stream",
          "text": [
            "2025-03-19 16:54:52 - ras_commander.RasPlan - INFO - Successfully updated intervals in plan file: c:\\GH\\ras-commander\\examples\\example_projects\\Balde Eagle Creek\\BaldEagle.p03\n"
          ]
        },
        {
          "name": "stdout",
          "output_type": "stream",
          "text": [
            "\n",
            "Updated plan intervals for plan 03:\n",
            "- Computation Interval: 1MIN\n",
            "- Output Interval: 15MIN\n",
            "- Mapping Interval: 30MIN\n",
            "Verified interval values:\n",
            "- Computation Interval: 1MIN\n",
            "- Mapping Interval: 30MIN\n"
          ]
        }
      ],
      "source": [
        "# 2. Update plan intervals\n",
        "RasPlan.update_plan_intervals(\n",
        "    new_plan_number,\n",
        "    computation_interval=\"1MIN\",  # Computational time step\n",
        "    output_interval=\"15MIN\",      # How often results are written\n",
        "    mapping_interval=\"30MIN\"      # How often mapping outputs are created\n",
        ")\n",
        "print(f\"\\nUpdated plan intervals for plan {new_plan_number}:\")\n",
        "print(f\"- Computation Interval: 1MIN\")\n",
        "print(f\"- Output Interval: 15MIN\")\n",
        "print(f\"- Mapping Interval: 30MIN\")\n",
        "\n",
        "# Verify the updates\n",
        "comp_interval = RasPlan.get_plan_value(new_plan_number, \"Computation Interval\")\n",
        "mapping_interval = RasPlan.get_plan_value(new_plan_number, \"Mapping Interval\")\n",
        "print(f\"Verified interval values:\")\n",
        "print(f\"- Computation Interval: {comp_interval}\")\n",
        "print(f\"- Mapping Interval: {mapping_interval}\")"
      ]
    },
    {
      "cell_type": "code",
      "execution_count": 18,
      "metadata": {},
      "outputs": [
        {
          "name": "stderr",
          "output_type": "stream",
          "text": [
            "2025-03-19 16:54:52 - ras_commander.RasPlan - INFO - Successfully updated run flags in plan file: c:\\GH\\ras-commander\\examples\\example_projects\\Balde Eagle Creek\\BaldEagle.p03\n"
          ]
        },
        {
          "name": "stdout",
          "output_type": "stream",
          "text": [
            "\n",
            "Updated run flags for plan 03:\n",
            "- Geometry Preprocessor: True\n",
            "- Unsteady Flow Simulation: True\n",
            "- Post Processor: True\n",
            "- Floodplain Mapping: True\n"
          ]
        }
      ],
      "source": [
        "# 3. Update run flags\n",
        "RasPlan.update_run_flags(\n",
        "    new_plan_number,\n",
        "    geometry_preprocessor=True,   # Run the geometry preprocessor\n",
        "    unsteady_flow_simulation=True, # Run unsteady flow simulation\n",
        "    post_processor=True,          # Run post-processing\n",
        "    floodplain_mapping=True       # Generate floodplain mapping outputs\n",
        ")\n",
        "print(f\"\\nUpdated run flags for plan {new_plan_number}:\")\n",
        "print(f\"- Geometry Preprocessor: True\")\n",
        "print(f\"- Unsteady Flow Simulation: True\")\n",
        "print(f\"- Post Processor: True\")\n",
        "print(f\"- Floodplain Mapping: True\")"
      ]
    },
    {
      "cell_type": "code",
      "execution_count": 19,
      "metadata": {},
      "outputs": [
        {
          "name": "stderr",
          "output_type": "stream",
          "text": [
            "2025-03-19 16:54:52 - ras_commander.RasPlan - WARNING - Unknown key: Run UNet. Valid keys are: Run Sediment, UNET D1 Cores, Run UNET, Description, UNET Use Existing IB Tables, Simulation Date, UNET D2 Solver Type, Computation Interval, PS Cores, UNET 1D Methodology, Plan Title, DSS File, Mapping Interval, Flow File, Run WQNET, Run Post Process, Program Version, Friction Slope Method, UNET D2 Cores, Short Identifier, Plan File, UNET D2 Name, Run HTab, Run RASMapper, Geom File\n",
            " Add more keys and explanations in get_plan_value() as needed.\n",
            "2025-03-19 16:54:52 - ras_commander.RasUtils - INFO - Constructed plan file path: c:\\GH\\ras-commander\\examples\\example_projects\\Balde Eagle Creek\\BaldEagle.p03\n",
            "2025-03-19 16:54:52 - ras_commander.RasPlan - INFO - Updated description in plan file: c:\\GH\\ras-commander\\examples\\example_projects\\Balde Eagle Creek\\BaldEagle.p03\n",
            "2025-03-19 16:54:52 - ras_commander.RasPlan - WARNING - No description found in plan file: c:\\GH\\ras-commander\\examples\\example_projects\\Balde Eagle Creek\\BaldEagle.p03\n"
          ]
        },
        {
          "name": "stdout",
          "output_type": "stream",
          "text": [
            "Verified run flag values:\n",
            "- Run HTab (Geometry Preprocessor): 1\n",
            "- Run UNet (Unsteady Flow): 1\n",
            "\n",
            "Updated description for plan 03\n",
            "Current plan description:\n",
            "\n"
          ]
        }
      ],
      "source": [
        "# Verify the updates\n",
        "run_htab = RasPlan.get_plan_value(new_plan_number, \"Run HTab\")\n",
        "run_unet = RasPlan.get_plan_value(new_plan_number, \"Run UNet\")\n",
        "print(f\"Verified run flag values:\")\n",
        "print(f\"- Run HTab (Geometry Preprocessor): {run_htab}\")\n",
        "print(f\"- Run UNet (Unsteady Flow): {run_unet}\")\n",
        "\n",
        "# 4. Update plan description\n",
        "new_description = \"Combined plan with modified geometry and unsteady flow\\nJanuary 2023 simulation\\n1-minute computation interval\\nGeometry and unsteady flow from cloned files\"\n",
        "RasPlan.update_plan_description(new_plan_number, new_description)\n",
        "print(f\"\\nUpdated description for plan {new_plan_number}\")\n",
        "\n",
        "# Read back the description\n",
        "current_description = RasPlan.read_plan_description(new_plan_number)\n",
        "print(f\"Current plan description:\\n{current_description}\")"
      ]
    },
    {
      "cell_type": "markdown",
      "metadata": {},
      "source": [
        "## Computing the Plan\n",
        "\n",
        "Now that we have set up all the parameters, let's compute the plan using RasCmdr.compute_plan():"
      ]
    },
    {
      "cell_type": "code",
      "execution_count": 20,
      "metadata": {},
      "outputs": [
        {
          "name": "stderr",
          "output_type": "stream",
          "text": [
            "2025-03-19 16:54:52 - ras_commander.RasCmdr - INFO - Using ras_object with project folder: c:\\GH\\ras-commander\\examples\\example_projects\\Balde Eagle Creek\n",
            "2025-03-19 16:54:52 - ras_commander.RasGeo - INFO - Clearing geometry preprocessor file for single plan: c:\\GH\\ras-commander\\examples\\example_projects\\Balde Eagle Creek\\BaldEagle.p03\n",
            "2025-03-19 16:54:52 - ras_commander.RasGeo - WARNING - No geometry preprocessor file found for: c:\\GH\\ras-commander\\examples\\example_projects\\Balde Eagle Creek\\BaldEagle.p03\n",
            "2025-03-19 16:54:52 - ras_commander.RasGeo - INFO - Geometry dataframe updated successfully.\n",
            "2025-03-19 16:54:52 - ras_commander.RasCmdr - INFO - Cleared geometry preprocessor files for plan: 03\n",
            "2025-03-19 16:54:52 - ras_commander.RasCmdr - INFO - Running HEC-RAS from the Command Line:\n",
            "2025-03-19 16:54:52 - ras_commander.RasCmdr - INFO - Running command: \"C:\\Program Files (x86)\\HEC\\HEC-RAS\\6.6\\Ras.exe\" -c \"C:\\GH\\ras-commander\\examples\\example_projects\\Balde Eagle Creek\\BaldEagle.prj\" \"c:\\GH\\ras-commander\\examples\\example_projects\\Balde Eagle Creek\\BaldEagle.p03\"\n"
          ]
        },
        {
          "name": "stdout",
          "output_type": "stream",
          "text": [
            "Computing plan 03...\n"
          ]
        },
        {
          "name": "stderr",
          "output_type": "stream",
          "text": [
            "2025-03-19 16:57:21 - ras_commander.RasCmdr - INFO - HEC-RAS execution completed for plan: 03\n",
            "2025-03-19 16:57:21 - ras_commander.RasCmdr - INFO - Total run time for plan 03: 149.54 seconds\n"
          ]
        },
        {
          "name": "stdout",
          "output_type": "stream",
          "text": [
            "Plan 03 computed successfully\n"
          ]
        }
      ],
      "source": [
        "# Compute the plan with our configured settings\n",
        "# Note: This may take several minutes depending on the complexity of the model\n",
        "print(f\"Computing plan {new_plan_number}...\")\n",
        "success = RasCmdr.compute_plan(new_plan_number, clear_geompre=True)\n",
        "\n",
        "if success:\n",
        "    print(f\"Plan {new_plan_number} computed successfully\")\n",
        "else:\n",
        "    print(f\"Failed to compute plan {new_plan_number}\")"
      ]
    },
    {
      "cell_type": "markdown",
      "metadata": {},
      "source": [
        "## Verifying Results\n",
        "\n",
        "After computation, we should check if results were written correctly:"
      ]
    },
    {
      "cell_type": "code",
      "execution_count": 21,
      "metadata": {},
      "outputs": [
        {
          "name": "stdout",
          "output_type": "stream",
          "text": [
            "HDF entries for the project:\n"
          ]
        },
        {
          "data": {
            "text/html": "<div>\n<style scoped>\\n', '    .dataframe tbody tr th:only-of-type {\\n', '        vertical-align: middle;\\n', '    }\\n', '\\n', '    .dataframe tbody tr th {\\n', '        vertical-align: top;\\n', '    }\\n', '\\n', '    .dataframe thead th {\\n', '        text-align: right;\\n', '    }\\n', '</style>\n<table border=\"1\" class=\"dataframe\">\n  <thead>\\n', '    <tr style=\"text-align: right;\">\\n', '      <th></th>\\n', '      <th>plan_number</th>\\n', '      <th>unsteady_number</th>\\n', '      <th>geometry_number</th>\\n', '      <th>Plan Title</th>\\n', '      <th>Program Version</th>\\n', '      <th>Short Identifier</th>\\n', '      <th>Simulation Date</th>\\n', '      <th>Computation Interval</th>\\n', '      <th>Mapping Interval</th>\\n', '      <th>Run HTab</th>\\n', '      <th>...</th>\\n', '      <th>PS Cores</th>\\n', '      <th>DSS File</th>\\n', '      <th>Friction Slope Method</th>\\n', '      <th>description</th>\\n', '      <th>HDF_Results_Path</th>\\n', '      <th>Geom File</th>\\n', '      <th>Geom Path</th>\\n', '      <th>Flow File</th>\\n', '      <th>Flow Path</th>\\n', '      <th>full_path</th>\\n', '    </tr>\\n', '  </thead>\n  <tbody>\n    <tr>\\n', '      <th>2</th>\\n', '      <td>03</td>\\n', '      <td>01</td>\\n', '      <td>01</td>\\n', '      <td>Unsteady with Bridges and Dam clonedplan</td>\\n', '      <td>5.00</td>\\n', '      <td>Combined Test Plan clone</td>\\n', '      <td>01JAN2023,0000,05JAN2023,2359</td>\\n', '      <td>1MIN</td>\\n', '      <td>30MIN</td>\\n', '      <td>1</td>\\n', '      <td>...</td>\\n', '      <td>None</td>\\n', '      <td>dss</td>\\n', '      <td>2</td>\\n', '      <td>Combined plan with modified geometry and unste...</td>\\n', '      <td>c:\\\\GH\\\\ras-commander\\\\examples\\\\example_projects\\\\...</td>\\n', '      <td>01</td>\\n', '      <td>None</td>\\n', '      <td>01</td>\\n', '      <td>None</td>\\n', '      <td>c:\\\\GH\\\\ras-commander\\\\examples\\\\example_projects\\\\...</td>\\n', '    </tr>\n    <tr><td colspan=\"100%\" style=\"text-align:center\">[... additional rows truncated ...]</td></tr>\n  </tbody>\n</table>\n</div>",
            "text/plain": [
              "  plan_number unsteady_number geometry_number  \\\n",
              "2          03              01              01   \n",
              "\n",
              "                                 Plan Title Program Version  \\\n",
              "2  Unsteady with Bridges and Dam clonedplan            5.00   \n",
              "\n",
              "           Short Identifier                Simulation Date  \\\n",
              "2  Combined Test Plan clone  01JAN2023,0000,05JAN2023,2359   \n",
              "\n",
              "  Computation Interval Mapping Interval Run HTab  ... PS Cores DSS File  \\\n",
              "2                 1MIN            30MIN        1  ...     None      dss   \n",
              "\n",
              "  Friction Slope Method                                        description  \\\n",
              "2                     2  Combined plan with modified geometry and unste...   \n",
              "\n",
              "                                    HDF_Results_Path  Geom File  Geom Path  \\\n",
              "2  c:\\GH\\ras-commander\\examples\\example_projects\\...         01       None   \n",
              "\n",
              "  Flow File Flow Path                                          full_path  \n",
              "2        01      None  c:\\GH\\ras-commander\\examples\\example_projects\\...  \n",
              "\n",
              "[1 rows x 27 columns]"
            ]
          },
          "metadata": {},
          "output_type": "display_data"
        },
        {
          "name": "stdout",
          "output_type": "stream",
          "text": [
            "\n",
            "Plan 03 has a valid HDF results file:\n",
            "HDF Path: c:\\GH\\ras-commander\\examples\\example_projects\\Balde Eagle Creek\\BaldEagle.p03.hdf\n",
            "\n",
            "All plan entries with their HDF paths:\n"
          ]
        },
        {
          "data": {
            "text/html": "<div>\n<style scoped>\\n', '    .dataframe tbody tr th:only-of-type {\\n', '        vertical-align: middle;\\n', '    }\\n', '\\n', '    .dataframe tbody tr th {\\n', '        vertical-align: top;\\n', '    }\\n', '\\n', '    .dataframe thead th {\\n', '        text-align: right;\\n', '    }\\n', '</style>\n<table border=\"1\" class=\"dataframe\">\n  <thead>\\n', '    <tr style=\"text-align: right;\">\\n', '      <th></th>\\n', '      <th>plan_number</th>\\n', '      <th>HDF_Results_Path</th>\\n', '    </tr>\\n', '  </thead>\n  <tbody>\n    <tr>\\n', '      <th>0</th>\\n', '      <td>01</td>\\n', '      <td>None</td>\\n', '    </tr><tr>\\n', '      <th>1</th>\\n', '      <td>02</td>\\n', '      <td>None</td>\\n', '    </tr><tr>\\n', '      <th>2</th>\\n', '      <td>03</td>\\n', '      <td>c:\\\\GH\\\\ras-commander\\\\examples\\\\example_projects\\\\...</td>\\n', '    </tr>\n    <tr><td colspan=\"100%\" style=\"text-align:center\">[... additional rows truncated ...]</td></tr>\n  </tbody>\n</table>\n</div>",
            "text/plain": [
              "  plan_number                                   HDF_Results_Path\n",
              "0          01                                               None\n",
              "1          02                                               None\n",
              "2          03  c:\\GH\\ras-commander\\examples\\example_projects\\..."
            ]
          },
          "metadata": {},
          "output_type": "display_data"
        }
      ],
      "source": [
        "# Refresh the plan entries to ensure we have the latest data\n",
        "ras.plan_df = ras.get_plan_entries()\n",
        "hdf_entries = ras.get_hdf_entries()\n",
        "\n",
        "if not hdf_entries.empty:\n",
        "    print(\"HDF entries for the project:\")\n",
        "    display.display(hdf_entries)\n",
        "    \n",
        "    # Check if our new plan has an HDF file\n",
        "    new_plan_hdf = hdf_entries[hdf_entries['plan_number'] == new_plan_number]\n",
        "    if not new_plan_hdf.empty:\n",
        "        print(f\"\\nPlan {new_plan_number} has a valid HDF results file:\")\n",
        "        print(f\"HDF Path: {new_plan_hdf.iloc[0]['HDF_Results_Path']}\")\n",
        "    else:\n",
        "        print(f\"\\nNo HDF entry found for plan {new_plan_number}\")\n",
        "else:\n",
        "    print(\"No HDF entries found. This could mean the plan hasn't been computed successfully or the results haven't been written yet.\")\n",
        "\n",
        "# Display all plan entries to see their HDF paths\n",
        "print(\"\\nAll plan entries with their HDF paths:\")\n",
        "plan_hdf_info = ras.plan_df[['plan_number', 'HDF_Results_Path']]\n",
        "display.display(plan_hdf_info)"
      ]
    },
    {
      "cell_type": "markdown",
      "metadata": {},
      "source": [
        "If the plan was computed successfully, we can examine the runtime data and volume accounting from the HDF results:"
      ]
    },
    {
      "cell_type": "code",
      "execution_count": 22,
      "metadata": {},
      "outputs": [
        {
          "name": "stderr",
          "output_type": "stream",
          "text": [
            "2025-03-19 16:57:22 - ras_commander.HdfResultsPlan - INFO - Final validated HDF file path: c:\\GH\\ras-commander\\examples\\example_projects\\Balde Eagle Creek\\BaldEagle.p03.hdf\n",
            "2025-03-19 16:57:22 - ras_commander.HdfResultsPlan - INFO - Extracting Plan Information from: BaldEagle.p03.hdf\n"
          ]
        },
        {
          "name": "stdout",
          "output_type": "stream",
          "text": [
            "Checking computation runtime data...\n"
          ]
        },
        {
          "name": "stderr",
          "output_type": "stream",
          "text": [
            "2025-03-19 16:57:22 - ras_commander.HdfResultsPlan - INFO - Plan Name: Begin DESCRIPTION\n",
            "2025-03-19 16:57:22 - ras_commander.HdfResultsPlan - INFO - Simulation Duration (hours): 119.98333333333333\n"
          ]
        },
        {
          "name": "stdout",
          "output_type": "stream",
          "text": [
            "\n",
            "Simulation Runtime Statistics:\n"
          ]
        },
        {
          "data": {
            "text/html": "<div>\n<style scoped>\\n', '    .dataframe tbody tr th:only-of-type {\\n', '        vertical-align: middle;\\n', '    }\\n', '\\n', '    .dataframe tbody tr th {\\n', '        vertical-align: top;\\n', '    }\\n', '\\n', '    .dataframe thead th {\\n', '        text-align: right;\\n', '    }\\n', '</style>\n<table border=\"1\" class=\"dataframe\">\n  <thead>\\n', '    <tr style=\"text-align: right;\">\\n', '      <th></th>\\n', '      <th>Plan Name</th>\\n', '      <th>File Name</th>\\n', '      <th>Simulation Start Time</th>\\n', '      <th>Simulation End Time</th>\\n', '      <th>Simulation Duration (s)</th>\\n', '      <th>Simulation Time (hr)</th>\\n', '      <th>Completing Geometry (hr)</th>\\n', '      <th>Preprocessing Geometry (hr)</th>\\n', '      <th>Completing Event Conditions (hr)</th>\\n', '      <th>Unsteady Flow Computations (hr)</th>\\n', '      <th>Complete Process (hr)</th>\\n', '      <th>Unsteady Flow Speed (hr/hr)</th>\\n', '      <th>Complete Process Speed (hr/hr)</th>\\n', '    </tr>\\n', '  </thead>\n  <tbody>\n    <tr>\\n', '      <th>0</th>\\n', '      <td>Begin DESCRIPTION</td>\\n', '      <td>BaldEagle.p03.hdf</td>\\n', '      <td>2023-01-01</td>\\n', '      <td>2023-01-05 23:59:00</td>\\n', '      <td>431940.0</td>\\n', '      <td>119.983333</td>\\n', '      <td>N/A</td>\\n', '      <td>0.03441</td>\\n', '      <td>N/A</td>\\n', '      <td>0.001879</td>\\n', '      <td>0.040265</td>\\n', '      <td>63849.223947</td>\\n', '      <td>2979.862438</td>\\n', '    </tr>\n    <tr><td colspan=\"100%\" style=\"text-align:center\">[... additional rows truncated ...]</td></tr>\n  </tbody>\n</table>\n</div>",
            "text/plain": [
              "           Plan Name          File Name Simulation Start Time  \\\n",
              "0  Begin DESCRIPTION  BaldEagle.p03.hdf            2023-01-01   \n",
              "\n",
              "  Simulation End Time  Simulation Duration (s)  Simulation Time (hr)  \\\n",
              "0 2023-01-05 23:59:00                 431940.0            119.983333   \n",
              "\n",
              "  Completing Geometry (hr)  Preprocessing Geometry (hr)  \\\n",
              "0                      N/A                      0.03441   \n",
              "\n",
              "  Completing Event Conditions (hr)  Unsteady Flow Computations (hr)  \\\n",
              "0                              N/A                         0.001879   \n",
              "\n",
              "   Complete Process (hr)  Unsteady Flow Speed (hr/hr)  \\\n",
              "0               0.040265                 63849.223947   \n",
              "\n",
              "   Complete Process Speed (hr/hr)  \n",
              "0                     2979.862438  "
            ]
          },
          "metadata": {},
          "output_type": "display_data"
        },
        {
          "name": "stderr",
          "output_type": "stream",
          "text": [
            "2025-03-19 16:57:22 - ras_commander.HdfResultsPlan - INFO - Final validated HDF file path: c:\\GH\\ras-commander\\examples\\example_projects\\Balde Eagle Creek\\BaldEagle.p03.hdf\n"
          ]
        },
        {
          "name": "stdout",
          "output_type": "stream",
          "text": [
            "\n",
            "Simulation Duration: 431940.00 seconds\n",
            "Computation Time: 0.04026 hours\n",
            "Computation Speed: 2979.86 (simulation hours/compute hours)\n",
            "\n",
            "Checking volume accounting...\n"
          ]
        }
      ],
      "source": [
        "# Get computation runtime data from HDF\n",
        "print(\"Checking computation runtime data...\")\n",
        "runtime_df = HdfResultsPlan.get_runtime_data(new_plan_number)\n",
        "\n",
        "if runtime_df is not None and not runtime_df.empty:\n",
        "    print(\"\\nSimulation Runtime Statistics:\")\n",
        "    display.display(runtime_df)\n",
        "    \n",
        "    # Extract key metrics\n",
        "    sim_duration = runtime_df['Simulation Duration (s)'].iloc[0]\n",
        "    compute_time = runtime_df['Complete Process (hr)'].iloc[0]\n",
        "    compute_speed = runtime_df['Complete Process Speed (hr/hr)'].iloc[0]\n",
        "    \n",
        "    print(f\"\\nSimulation Duration: {sim_duration:.2f} seconds\")\n",
        "    print(f\"Computation Time: {compute_time:.5f} hours\")\n",
        "    print(f\"Computation Speed: {compute_speed:.2f} (simulation hours/compute hours)\")\n",
        "else:\n",
        "    print(\"No runtime data found. This may indicate the simulation didn't complete successfully.\")\n",
        "\n",
        "# Get volume accounting data\n",
        "print(\"\\nChecking volume accounting...\")\n",
        "volume_df = HdfResultsPlan.get_volume_accounting(new_plan_number)\n",
        "\n",
        "if volume_df is not None and not isinstance(volume_df, bool):\n",
        "    # Handle volume_df as a dictionary\n",
        "    if isinstance(volume_df, dict):\n",
        "        error_percent = volume_df.get('Error Percent')\n",
        "        if error_percent is not None:\n",
        "            print(f\"\\nFinal Volume Balance Error: {float(error_percent):.8f}%\")\n",
        "            \n",
        "        # Print other key statistics\n",
        "        print(\"\\nDetailed Volume Statistics:\")\n",
        "        print(f\"Volume Starting: {float(volume_df['Volume Starting']):.2f} {volume_df['Vol Accounting in'].decode()}\")\n",
        "        print(f\"Volume Ending: {float(volume_df['Volume Ending']):.2f} {volume_df['Vol Accounting in'].decode()}\")\n",
        "        print(f\"Total Inflow: {float(volume_df['Total Boundary Flux of Water In']):.2f} {volume_df['Vol Accounting in'].decode()}\")\n",
        "        print(f\"Total Outflow: {float(volume_df['Total Boundary Flux of Water Out']):.2f} {volume_df['Vol Accounting in'].decode()}\")\n",
        "else:\n",
        "    print(\"No volume accounting data found. This may indicate the simulation didn't complete successfully.\")"
      ]
    },
    {
      "cell_type": "markdown",
      "metadata": {},
      "source": [
        "## Summary of Plan and Geometry Operations\n",
        "\n",
        "In this notebook, we've covered a comprehensive range of operations on HEC-RAS plan and geometry files using the RAS Commander library:\n",
        "\n",
        "1. **Project Initialization**: We initialized a HEC-RAS project to work with\n",
        "2. **Plan Operations**:\n",
        "   - Created a new plan by cloning an existing one\n",
        "   - Updated simulation parameters (dates, intervals, etc.)\n",
        "   - Set run flags for different components\n",
        "   - Updated the plan description\n",
        "3. **Geometry Operations**:\n",
        "   - Created a new geometry by cloning an existing one\n",
        "   - Associated the new geometry with our plan\n",
        "   - Cleared geometry preprocessor files\n",
        "4. **Unsteady Flow Operations**:\n",
        "   - Created a new unsteady flow file by cloning an existing one\n",
        "   - Associated it with our plan\n",
        "5. **Computation and Verification**:\n",
        "   - Computed our plan with the specified settings\n",
        "   - Verified the results using HDF entries\n",
        "   - Analyzed runtime statistics and volume accounting\n",
        "\n",
        "\n",
        "### Key Classes and Functions Used\n",
        "\n",
        "- `RasPlan`: For plan operations (cloning, setting components, and modifying parameters)\n",
        "- `RasGeo`: For geometry operations (cloning, clearing preprocessor files)\n",
        "- `RasCmdr`: For executing HEC-RAS simulations\n",
        "\n",
        "### Next Steps\n",
        "\n",
        "To further enhance your HEC-RAS automation, consider exploring:\n",
        "\n",
        "1. **Parameter Sweeps**: Create and run multiple plans with varying parameters\n",
        "2. **Parallel Computations**: Run multiple plans simultaneously using `RasCmdr.compute_parallel()`\n",
        "3. **Advanced Results Analysis**: Use the HDF classes to extract and analyze specific model results\n",
        "4. **Spatial Visualization**: Create maps and plots of simulation results\n",
        "5. **Model Calibration**: Automate comparison between model results and observations\n",
        "\n",
        "The RAS Commander library provides a powerful framework for automating and streamlining your HEC-RAS workflows, enabling more efficient hydraulic modeling and analyses."
      ]
    }
  ],
  "metadata": {
    "kernelspec": {
      "display_name": "cmdr_pip_1",
      "language": "python",
      "name": "python3"
    },
    "language_info": {
      "codemirror_mode": {
        "name": "ipython",
        "version": 3
      },
      "file_extension": ".py",
      "mimetype": "text/x-python",
      "name": "python",
      "nbconvert_exporter": "python",
      "pygments_lexer": "ipython3",
      "version": "3.12.9"
    }
  },
  "nbformat": 4,
  "nbformat_minor": 4
}