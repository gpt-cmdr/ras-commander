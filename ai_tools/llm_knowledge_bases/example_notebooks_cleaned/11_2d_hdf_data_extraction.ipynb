{
  "cells": [
    {
      "cell_type": "markdown",
      "metadata": {},
      "source": [
        "# HEC-RAS 2D HDF Data Analysis Notebook\n",
        "\n",
        "This notebook demonstrates how to manipulate and analyze HEC-RAS 2D HDF data using the ras-commander library. It leverages the HdfBase, HdfUtils, HdfStruc, HdfMesh, HdfXsec, HdfBndry, HdfPlan, HdfResultsPlan, HdfResultsMesh, and HdfResultsXsec classes to streamline data extraction, processing, and visualization.\n"
      ]
    },
    {
      "cell_type": "code",
      "execution_count": null,
      "metadata": {},
      "outputs": [],
      "source": [
        "# Install ras-commander from pip (uncomment to install if needed)\n",
        "#!pip install ras-commander\n",
        "# This installs ras-commander and all dependencies\n",
        "\n",
        "# Use this setting to disable plot generation within the notebook\n",
        "generate_plots = True\n",
        "# Use this setting to disable map generation within the notebook\n",
        "generate_maps = True\n",
        "# Set both to false for llm-friendly outputs"
      ]
    },
    {
      "cell_type": "code",
      "execution_count": null,
      "metadata": {},
      "outputs": [],
      "source": [
        "# Import all required modules\n",
        "#from ras_commander import *  # Import all ras-commander modules\n",
        "\n",
        "# Import the required libraries for this notebook\n",
        "import h5py\n",
        "import numpy as np\n",
        "import pandas as pd\n",
        "import requests\n",
        "from tqdm import tqdm\n",
        "import scipy\n",
        "import xarray as xr\n",
        "import geopandas as gpd\n",
        "import matplotlib.pyplot as plt\n",
        "from IPython import display\n",
        "import psutil  # For getting system CPU info\n",
        "from concurrent.futures import ThreadPoolExecutor, as_completed\n",
        "import time\n",
        "import subprocess\n",
        "import sys\n",
        "import os\n",
        "import shutil\n",
        "from datetime import datetime, timedelta\n",
        "from pathlib import Path  # Ensure pathlib is imported for file operations\n",
        "import rasterio\n",
        "from rasterio.plot import show\n",
        "from mpl_toolkits.axes_grid1.inset_locator import inset_axes\n",
        "import matplotlib.patches as patches\n",
        "from matplotlib.patches import ConnectionPatch\n",
        "import logging\n"
      ]
    },
    {
      "cell_type": "code",
      "execution_count": null,
      "metadata": {},
      "outputs": [],
      "source": [
        "# This cell will try to import the pip package, if it fails it will \n",
        "# add the parent directory to the Python path and try to import again\n",
        "# This assumes you are working in a subfolder of the ras-commander repository\n",
        "# This allows a user's revisions to be tested locally without installing the package\n",
        "\n",
        "import sys\n",
        "from pathlib import Path\n",
        "\n",
        "# Flexible imports to allow for development without installation \n",
        "#  ** Use this version with Jupyter Notebooks **\n",
        "try:\n",
        "    # Try to import from the installed package\n",
        "    from ras_commander import *\n",
        "except ImportError:\n",
        "    # If the import fails, add the parent directory to the Python path\n",
        "    import os\n",
        "    current_file = Path(os.getcwd()).resolve()\n",
        "    rascmdr_directory = current_file.parent\n",
        "    sys.path.append(str(rascmdr_directory))\n",
        "    print(\"Loading ras-commander from local dev copy\")\n",
        "    # Now try to import again\n",
        "    from ras_commander import *\n",
        "print(\"ras_commander imported successfully\")\n"
      ]
    },
    {
      "cell_type": "markdown",
      "metadata": {},
      "source": [
        "# Use Example Project or Load Your Own Project"
      ]
    },
    {
      "cell_type": "code",
      "execution_count": null,
      "metadata": {},
      "outputs": [],
      "source": [
        "# To Use the HEC Example Project:\n",
        "# Download the BaldEagleCrkMulti2D project from HEC and Run Plan 06\n",
        "\n",
        "# Define the path to the BaldEagleCrkMulti2D project\n",
        "current_dir = Path.cwd()  # Adjust if your notebook is in a different directory\n",
        "the_path = current_dir / \"example_projects\" / \"BaldEagleCrkMulti2D\"\n",
        "import logging\n",
        "\n",
        "# Check if BaldEagleCrkMulti2D.p06.hdf exists (so we don't have to re-run the simulation when re-running or debugging)\n",
        "hdf_file = the_path / \"BaldEagleDamBrk.p06.hdf\"\n",
        "\n",
        "if not hdf_file.exists():\n",
        "    # Initialize RasExamples and extract the BaldEagleCrkMulti2D project\n",
        "    RasExamples.extract_project([\"BaldEagleCrkMulti2D\"])\n",
        "\n",
        "    # Initialize the RAS project using the default global ras object\n",
        "    init_ras_project(the_path, \"6.6\")\n",
        "    logging.info(f\"Bald Eagle project initialized with folder: {ras.project_folder}\")\n",
        "    \n",
        "    logging.info(f\"Bald Eagle object id: {id(ras)}\")\n",
        "    \n",
        "    # Define the plan number to execute\n",
        "    plan_number = \"06\"\n",
        "\n",
        "    # Update run flags for the project\n",
        "    RasPlan.update_run_flags(\n",
        "        plan_number,\n",
        "        geometry_preprocessor=True,\n",
        "        unsteady_flow_simulation=True,\n",
        "        run_sediment=False,\n",
        "        post_processor=True,\n",
        "        floodplain_mapping=False\n",
        "    )\n",
        "\n",
        "    # Execute Plan 06 using RasCmdr for Bald Eagle\n",
        "    print(f\"Executing Plan {plan_number} for the Bald Eagle Creek project...\")\n",
        "    success_the = RasCmdr.compute_plan(plan_number)\n",
        "    if success_the:\n",
        "        print(f\"Plan {plan_number} executed successfully for Bald Eagle.\\n\")\n",
        "    else:\n",
        "        print(f\"Plan {plan_number} execution failed for Bald Eagle.\\n\")\n",
        "else:\n",
        "    print(\"Project already exists. Skipping project extraction and plan execution.\")\n",
        "    # Initialize the RAS project using the default global ras object\n",
        "    init_ras_project(the_path, \"6.6\")\n",
        "    plan_number = \"06\""
      ]
    },
    {
      "cell_type": "markdown",
      "metadata": {},
      "source": [
        "###  OPTIONAL: Use your own project instead\n",
        "\n",
        "your_project_path = Path(r\"D:\\yourprojectpath\")\n",
        "\n",
        "init_ras_project(your_project_path, \"6.6\")\n",
        "plan_number = \"01\"  # Plan number to use for this notebook \n",
        "\n",
        "\n",
        "\n",
        "### If you use this code cell, don't run the previous cell or change to markdown\n",
        "### NOTE: Ensure the HDF Results file was generated by HEC-RAS Version 6.x or above"
      ]
    },
    {
      "cell_type": "markdown",
      "metadata": {},
      "source": [
        "-----"
      ]
    },
    {
      "cell_type": "markdown",
      "metadata": {},
      "source": [
        "# Explore Project Dataframes using 'ras' Object"
      ]
    },
    {
      "cell_type": "code",
      "execution_count": null,
      "metadata": {},
      "outputs": [],
      "source": [
        "# Show ras object info\n",
        "ras.plan_df"
      ]
    },
    {
      "cell_type": "code",
      "execution_count": null,
      "metadata": {},
      "outputs": [],
      "source": [
        "ras.unsteady_df"
      ]
    },
    {
      "cell_type": "code",
      "execution_count": null,
      "metadata": {},
      "outputs": [],
      "source": [
        "ras.boundaries_df "
      ]
    },
    {
      "cell_type": "code",
      "execution_count": null,
      "metadata": {},
      "outputs": [],
      "source": [
        "ras.get_hdf_entries()"
      ]
    },
    {
      "cell_type": "markdown",
      "metadata": {},
      "source": [
        "# Find Paths for Results and Geometry HDF's"
      ]
    },
    {
      "cell_type": "code",
      "execution_count": null,
      "metadata": {},
      "outputs": [],
      "source": [
        "# Get the plan HDF path for the plan_number defined above\n",
        "plan_hdf_path = ras.plan_df.loc[ras.plan_df['plan_number'] == plan_number, 'HDF_Results_Path'].values[0]"
      ]
    },
    {
      "cell_type": "code",
      "execution_count": null,
      "metadata": {},
      "outputs": [],
      "source": [
        "plan_hdf_path"
      ]
    },
    {
      "cell_type": "code",
      "execution_count": null,
      "metadata": {},
      "outputs": [],
      "source": [
        "# Alternate: Get the geometry HDF path if you are extracting geometry elements from the geometry HDF\n",
        "geom_hdf_path = ras.plan_df.loc[ras.plan_df['plan_number'] == plan_number, 'Geom Path'].values[0] + '.hdf'"
      ]
    },
    {
      "cell_type": "code",
      "execution_count": null,
      "metadata": {},
      "outputs": [],
      "source": [
        "geom_hdf_path"
      ]
    },
    {
      "cell_type": "markdown",
      "metadata": {},
      "source": [
        "## RAS-Commander's Decorators Allow for Flexible Function Calling\n",
        "You can call most of the functions in the HDF* Classes using any of the following:\n",
        "1. Plan/Geometry Number (with or without leading zeros):\n",
        "   - \"01\", \"1\" - Plan/geometry number as string\n",
        "   - 1 - Plan/geometry number as integer\n",
        "   - \"p01\", \"p1\" - Plan number with 'p' prefix\n",
        "2. Direct File Paths:\n",
        "   - pathlib.Path object pointing to HDF file\n",
        "   - String path to HDF file\n",
        "\n",
        "3. h5py.File Objects:\n",
        "   - Already opened HDF file object\n",
        "\n",
        "The @standardize_input decorator handles all these input types consistently:\n",
        "   - Validates the input exists and is accessible\n",
        "   - Converts to proper pathlib.Path object\n",
        "   - Handles RAS object references\n",
        "   - Provides logging and error handling\n",
        "\n",
        "This flexibility makes it easier to work with HDF files in different contexts while maintaining consistent behavior \n",
        "across the codebase, and helps prevent strict typing from introducing unnecessary friction for LLM Coding.\n"
      ]
    },
    {
      "cell_type": "markdown",
      "metadata": {},
      "source": [
        "-----"
      ]
    },
    {
      "cell_type": "markdown",
      "metadata": {},
      "source": [
        "# 2D HDF Data Extraction Examples"
      ]
    },
    {
      "cell_type": "code",
      "execution_count": null,
      "metadata": {},
      "outputs": [],
      "source": [
        "# Extract runtime and compute time data as dataframe\n",
        "print(\"\\nExtracting runtime and compute time data\")\n",
        "runtime_df = HdfResultsPlan.get_runtime_data(hdf_path=plan_number)"
      ]
    },
    {
      "cell_type": "code",
      "execution_count": null,
      "metadata": {},
      "outputs": [],
      "source": [
        "runtime_df"
      ]
    },
    {
      "cell_type": "code",
      "execution_count": null,
      "metadata": {},
      "outputs": [],
      "source": [
        "# For all of the RasGeomHdf Class Functions, we will use geom_hdf_path\n",
        "print(geom_hdf_path)\n",
        "\n",
        "# For the example project, plan 06 is associated with geometry 09\n",
        "# If you want to call the geometry by number, call RasHdfGeom functions with a number\n",
        "# Otherwise, if you want to look up geometry hdf path by plan number, follow the logic in the previous code cells"
      ]
    },
    {
      "cell_type": "code",
      "execution_count": null,
      "metadata": {},
      "outputs": [],
      "source": [
        "# Use HdfUtils for extracting projection\n",
        "print(\"\\nExtracting Projection from HDF\")\n",
        "projection = HdfBase.get_projection(hdf_path=geom_hdf_path)\n"
      ]
    },
    {
      "cell_type": "code",
      "execution_count": null,
      "metadata": {},
      "outputs": [],
      "source": [
        "projection"
      ]
    },
    {
      "cell_type": "code",
      "execution_count": null,
      "metadata": {},
      "outputs": [],
      "source": [
        "# Use HdfPlan for geometry-related operations\n",
        "print(\"\\nExtracting Geometry Information\")\n",
        "geom_attrs = HdfPlan.get_geometry_information(geom_hdf_path)"
      ]
    },
    {
      "cell_type": "code",
      "execution_count": null,
      "metadata": {},
      "outputs": [],
      "source": [
        "geom_attrs"
      ]
    },
    {
      "cell_type": "code",
      "execution_count": null,
      "metadata": {},
      "outputs": [],
      "source": [
        "# Use HdfMesh for geometry-related operations\n",
        "print(\"\\nListing 2D Flow Area Names\")\n",
        "flow_area_names = HdfMesh.get_mesh_area_names(geom_hdf_path)"
      ]
    },
    {
      "cell_type": "code",
      "execution_count": null,
      "metadata": {},
      "outputs": [],
      "source": [
        "print(\"2D Flow Area Name (returned as list):\")\n",
        "flow_area_names\n",
        "# Note: this is returned as a list because it is used internally by other functions.  "
      ]
    },
    {
      "cell_type": "code",
      "execution_count": null,
      "metadata": {},
      "outputs": [],
      "source": [
        "# Get 2D Flow Area Attributes (get_mesh_area_attributes)\n",
        "print(\"\\nExtracting 2D Flow Area Attributes\")\n",
        "flow_area_attributes = HdfMesh.get_mesh_area_attributes(geom_hdf_path)"
      ]
    },
    {
      "cell_type": "code",
      "execution_count": null,
      "metadata": {},
      "outputs": [],
      "source": [
        "flow_area_attributes"
      ]
    },
    {
      "cell_type": "code",
      "execution_count": null,
      "metadata": {},
      "outputs": [],
      "source": [
        "# Get 2D Flow Area Perimeter Polygons (get_mesh_areas)\n",
        "print(\"\\nExtracting 2D Flow Area Perimeter Polygons\")\n",
        "mesh_areas = HdfMesh.get_mesh_areas(geom_hdf_path)"
      ]
    },
    {
      "cell_type": "code",
      "execution_count": null,
      "metadata": {},
      "outputs": [],
      "source": [
        "mesh_areas"
      ]
    },
    {
      "cell_type": "code",
      "execution_count": null,
      "metadata": {},
      "outputs": [],
      "source": [
        "# Generate Map of Mesh Areas\n",
        "if generate_plots:\n",
        "    # Plot the 2D Flow Area Perimeter Polygons\n",
        "    import matplotlib.pyplot as plt\n",
        "\n",
        "    fig, ax = plt.subplots(figsize=(12, 8))\n",
        "    mesh_areas.plot(ax=ax, edgecolor='black', facecolor='none')\n",
        "\n",
        "    # Add labels for each polygon\n",
        "    for idx, row in mesh_areas.iterrows():\n",
        "        centroid = row.geometry.centroid\n",
        "        # Check if 'Name' column exists, otherwise use a default label\n",
        "        label = row.get('Name', f'Area {idx}')\n",
        "        ax.annotate(label, (centroid.x, centroid.y), ha='center', va='center')\n",
        "\n",
        "    plt.title('2D Flow Area Perimeter Polygons')\n",
        "    plt.xlabel('Easting')\n",
        "    plt.ylabel('Northing')\n",
        "    plt.tight_layout()\n",
        "    plt.show()"
      ]
    },
    {
      "cell_type": "code",
      "execution_count": null,
      "metadata": {},
      "outputs": [],
      "source": [
        "# Get mesh cell faces as geodatframe\n",
        "mesh_cell_faces_gdf = HdfMesh.get_mesh_cell_faces(geom_hdf_path)\n"
      ]
    },
    {
      "cell_type": "code",
      "execution_count": null,
      "metadata": {},
      "outputs": [],
      "source": [
        "mesh_cell_faces_gdf"
      ]
    },
    {
      "cell_type": "code",
      "execution_count": null,
      "metadata": {},
      "outputs": [],
      "source": [
        "from matplotlib.collections import LineCollection\n",
        "import numpy as np\n",
        "\n",
        "# Calculate and display statistics\n",
        "print(\"\\nMesh Cell Faces Statistics:\")\n",
        "print(f\"Total number of cell faces: {len(mesh_cell_faces_gdf)}\")\n",
        "print(f\"Number of unique meshes: {mesh_cell_faces_gdf['mesh_name'].nunique()}\")\n",
        "\n",
        "if generate_maps:\n",
        "    # Plot the mesh cell faces more efficiently\n",
        "    fig, ax = plt.subplots(figsize=(12, 8))\n",
        "\n",
        "    # Convert all geometries to numpy arrays at once for faster plotting\n",
        "    lines = [list(zip(*line.xy)) for line in mesh_cell_faces_gdf.geometry]\n",
        "    lines_collection = LineCollection(lines, colors='blue', linewidth=0.5, alpha=0.5)\n",
        "    ax.add_collection(lines_collection)\n",
        "\n",
        "    # Set plot title and labels\n",
        "    plt.title('Mesh Cell Faces')\n",
        "    plt.xlabel('Easting')\n",
        "    plt.ylabel('Northing')\n",
        "\n",
        "    # Calculate centroids once and store as numpy arrays\n",
        "    centroids = np.array([[geom.centroid.x, geom.centroid.y] for geom in mesh_cell_faces_gdf.geometry])\n",
        "\n",
        "    # Create scatter plot with numpy arrays\n",
        "    scatter = ax.scatter(\n",
        "        centroids[:, 0],\n",
        "        centroids[:, 1], \n",
        "        c=mesh_cell_faces_gdf['face_id'],\n",
        "        cmap='viridis',\n",
        "        s=1,\n",
        "        alpha=0.5\n",
        "    )\n",
        "    plt.colorbar(scatter, label='Face ID')\n",
        "\n",
        "    # Set axis limits based on data bounds\n",
        "    ax.set_xlim(centroids[:, 0].min(), centroids[:, 0].max())\n",
        "    ax.set_ylim(centroids[:, 1].min(), centroids[:, 1].max())\n",
        "\n",
        "    plt.tight_layout()\n",
        "    plt.show()\n",
        "else:\n",
        "    print(\"generate_maps is False\")\n"
      ]
    },
    {
      "cell_type": "code",
      "execution_count": null,
      "metadata": {},
      "outputs": [],
      "source": [
        "# Function to find the nearest cell face to a given point\n",
        "def find_nearest_cell_face(point, cell_faces_df):\n",
        "    \"\"\"\n",
        "    Find the nearest cell face to a given point.\n",
        "\n",
        "    Args:\n",
        "        point (shapely.geometry.Point): The input point.\n",
        "        cell_faces_df (GeoDataFrame): DataFrame containing cell face linestrings.\n",
        "\n",
        "    Returns:\n",
        "        int: The face_id of the nearest cell face.\n",
        "        float: The distance to the nearest cell face.\n",
        "    \"\"\"\n",
        "    # Calculate distances from the input point to all cell faces\n",
        "    distances = cell_faces_df.geometry.distance(point)\n",
        "\n",
        "    # Find the index of the minimum distance\n",
        "    nearest_index = distances.idxmin()\n",
        "\n",
        "    # Get the face_id and distance of the nearest cell face\n",
        "    nearest_face_id = cell_faces_df.loc[nearest_index, 'face_id']\n",
        "    nearest_distance = distances[nearest_index]\n",
        "\n",
        "    return nearest_face_id, nearest_distance\n",
        "\n",
        "# Example usage\n",
        "print(\"\\nFinding the nearest cell face to a given point\")\n",
        "\n",
        "# Create a sample point (you can replace this with any point of interest)\n",
        "from shapely.geometry import Point\n",
        "from geopandas import GeoDataFrame\n",
        "\n",
        "# Get the centroid of the mesh cell faces\n",
        "print(\"Getting Centroid of 2D Mesh Polygon\")\n",
        "centroid = mesh_cell_faces_gdf.geometry.union_all().centroid\n",
        "\n",
        "# Create GeoDataFrame with the centroid point, using same CRS as mesh_cell_faces_gdf\n",
        "sample_point = GeoDataFrame(\n",
        "    {'geometry': [centroid]}, \n",
        "    crs=mesh_cell_faces_gdf.crs\n",
        ")\n",
        "\n",
        "if not mesh_cell_faces_gdf.empty and not sample_point.empty:\n",
        "    print(\"Searching Cell\")\n",
        "    nearest_face_id, distance = find_nearest_cell_face(sample_point.geometry.iloc[0], mesh_cell_faces_gdf)\n",
        "    print(f\"Nearest cell face to point {sample_point.geometry.iloc[0].coords[0]}:\")\n",
        "    print(f\"Face ID: {nearest_face_id}\")\n",
        "    print(f\"Distance: {distance:.2f} units\")"
      ]
    },
    {
      "cell_type": "code",
      "execution_count": null,
      "metadata": {},
      "outputs": [],
      "source": [
        "# Generate map of cell faces with sample point and nearest cell face shown\n",
        "if generate_maps:\n",
        "    # Visualize the result\n",
        "    fig, ax = plt.subplots(figsize=(12, 8))\n",
        "    \n",
        "    # Plot all cell faces\n",
        "    mesh_cell_faces_gdf.plot(ax=ax, color='blue', linewidth=0.5, alpha=0.5, label='Cell Faces')\n",
        "    \n",
        "    # Plot the sample point\n",
        "    sample_point.plot(ax=ax, color='red', markersize=100, alpha=0.7, label='Sample Point')\n",
        "    \n",
        "    # Plot the nearest cell face\n",
        "    nearest_face = mesh_cell_faces_gdf[mesh_cell_faces_gdf['face_id'] == nearest_face_id]\n",
        "    nearest_face.plot(ax=ax, color='green', linewidth=2, alpha=0.7, label='Nearest Face')\n",
        "    \n",
        "    # Set labels and title\n",
        "    ax.set_xlabel('X Coordinate')\n",
        "    ax.set_ylabel('Y Coordinate')\n",
        "    ax.set_title('Nearest Cell Face to Sample Point')\n",
        "    \n",
        "    # Add legend and grid\n",
        "    ax.legend()\n",
        "    ax.grid(True)\n",
        "    \n",
        "    # Adjust layout and display\n",
        "    plt.tight_layout()\n",
        "    plt.show()\n",
        "else:\n",
        "    print(\"generate_maps is set to False\")\n"
      ]
    },
    {
      "cell_type": "code",
      "execution_count": null,
      "metadata": {},
      "outputs": [],
      "source": [
        "geom_hdf_path    "
      ]
    },
    {
      "cell_type": "code",
      "execution_count": null,
      "metadata": {},
      "outputs": [],
      "source": [
        "# Extract Cell Polygons\n",
        "print(\"\\nExample 6: Extracting Cell Polygons\")\n",
        "cell_polygons_gdf = HdfMesh.get_mesh_cell_polygons(geom_hdf_path)"
      ]
    },
    {
      "cell_type": "code",
      "execution_count": null,
      "metadata": {},
      "outputs": [],
      "source": [
        "cell_polygons_gdf"
      ]
    },
    {
      "cell_type": "code",
      "execution_count": null,
      "metadata": {},
      "outputs": [],
      "source": [
        "# Plot cell polygons\n",
        "\n",
        "if generate_maps:\n",
        "    fig, ax = plt.subplots(figsize=(12, 8))\n",
        "\n",
        "    # Plot cell polygons\n",
        "    cell_polygons_gdf.plot(ax=ax, edgecolor='blue', facecolor='none')\n",
        "\n",
        "    # Set labels and title\n",
        "    ax.set_xlabel('X Coordinate')\n",
        "    ax.set_ylabel('Y Coordinate')\n",
        "    ax.set_title('2D Flow Area Cell Polygons')\n",
        "\n",
        "    # Add grid\n",
        "    ax.grid(True)\n",
        "\n",
        "    # Adjust layout and display\n",
        "    plt.tight_layout()\n",
        "    plt.show()\n",
        "else:\n",
        "    print(\"generate_maps is set to False\")\n"
      ]
    },
    {
      "cell_type": "code",
      "execution_count": null,
      "metadata": {},
      "outputs": [],
      "source": [
        "# Extract Cell Info\n",
        "print(\"\\nExample 5: Extracting Cell Info\")\n",
        "cell_info_df = HdfMesh.get_mesh_cell_points(geom_hdf_path)"
      ]
    },
    {
      "cell_type": "code",
      "execution_count": null,
      "metadata": {},
      "outputs": [],
      "source": [
        "cell_info_df"
      ]
    },
    {
      "cell_type": "code",
      "execution_count": null,
      "metadata": {},
      "outputs": [],
      "source": [
        "# Plot cell centers\n",
        "\n",
        "if generate_maps:\n",
        "    fig, ax = plt.subplots(figsize=(12, 8))\n",
        "\n",
        "    # Plot cell centers\n",
        "    cell_info_df.plot(ax=ax, color='red', markersize=5)\n",
        "\n",
        "    # Set labels and title\n",
        "    ax.set_xlabel('X Coordinate')\n",
        "    ax.set_ylabel('Y Coordinate')\n",
        "    ax.set_title('2D Flow Area Cell Centers')\n",
        "\n",
        "    # Add grid\n",
        "    ax.grid(True)\n",
        "\n",
        "    # Adjust layout and display\n",
        "    plt.tight_layout()\n",
        "    plt.show()\n",
        "else:\n",
        "    print(\"generate_maps is set to False\")\n",
        "\n"
      ]
    },
    {
      "cell_type": "code",
      "execution_count": null,
      "metadata": {},
      "outputs": [],
      "source": [
        "# Function to find the nearest cell center to a given point\n",
        "def find_nearest_cell(point, cell_centers_df):\n",
        "    \"\"\"\n",
        "    Find the nearest cell center to a given point.\n",
        "\n",
        "    Args:\n",
        "        point (shapely.geometry.Point): The input point.\n",
        "        cell_centers_df (GeoDataFrame): DataFrame containing cell center points.\n",
        "\n",
        "    Returns:\n",
        "        int: The cell_id of the nearest cell.\n",
        "        float: The distance to the nearest cell center.\n",
        "    \"\"\"\n",
        "    # Calculate distances from the input point to all cell centers\n",
        "    distances = cell_centers_df.geometry.distance(point)\n",
        "\n",
        "    # Find the index of the minimum distance\n",
        "    nearest_index = distances.idxmin()\n",
        "\n",
        "    # Get the cell_id and distance of the nearest cell\n",
        "    nearest_cell_id = cell_centers_df.loc[nearest_index, 'cell_id']\n",
        "    nearest_distance = distances[nearest_index]\n",
        "\n",
        "    return nearest_cell_id, nearest_distance\n",
        "\n",
        "# Example usage\n",
        "print(\"\\nFinding the nearest cell to a given point\")\n",
        "\n",
        "# Sample point was created in a previous code cell \n",
        "\n",
        "# Get the projection from the geometry file\n",
        "# projection = HdfUtils.get_projection(hdf_path=geom_hdf_path) # This was done in a previous code cell\n",
        "if projection:\n",
        "    print(f\"Using projection: {projection}\")\n",
        "else:\n",
        "    print(\"No projection information found. Using default CRS.\")\n",
        "    projection = \"EPSG:4326\"  # Default to WGS84 if no projection is found\n",
        "\n",
        "\n",
        "\n",
        "# Ensure the CRS of the sample point matches the cell_info_df\n",
        "if sample_point.crs != cell_info_df.crs:\n",
        "    sample_point = sample_point.to_crs(cell_info_df.crs)\n",
        "\n",
        "nearest_cell_id, distance = find_nearest_cell(sample_point.geometry.iloc[0], cell_info_df)\n",
        "print(f\"Nearest cell to point {sample_point.geometry.iloc[0].coords[0]}:\")\n",
        "print(f\"Cell ID: {nearest_cell_id}\")\n",
        "print(f\"Distance: {distance:.2f} units\")\n",
        "\n",
        "if generate_maps:\n",
        "    # Visualize the result\n",
        "    fig, ax = plt.subplots(figsize=(12, 8))\n",
        "\n",
        "    # Plot all cell centers\n",
        "    cell_info_df.plot(ax=ax, color='blue', markersize=5, alpha=0.5, label='Cell Centers')\n",
        "\n",
        "    # Plot the sample point\n",
        "    sample_point.plot(ax=ax, color='red', markersize=100, alpha=0.7, label='Sample Point')\n",
        "\n",
        "    # Plot the nearest cell center\n",
        "    nearest_cell = cell_info_df[cell_info_df['cell_id'] == nearest_cell_id]\n",
        "    nearest_cell.plot(ax=ax, color='green', markersize=100, alpha=0.7, label='Nearest Cell')\n",
        "\n",
        "    # Set labels and title\n",
        "    ax.set_xlabel('X Coordinate')\n",
        "    ax.set_ylabel('Y Coordinate')\n",
        "    ax.set_title('Nearest Cell to Sample Point')\n",
        "\n",
        "    # Add legend and grid\n",
        "    ax.legend()\n",
        "    ax.grid(True)\n",
        "\n",
        "    # Adjust layout and display\n",
        "    plt.tight_layout()\n",
        "    plt.show()\n",
        "else:\n",
        "    print(\"generate_maps is set to False\")\n",
        "\n"
      ]
    },
    {
      "cell_type": "code",
      "execution_count": null,
      "metadata": {},
      "outputs": [],
      "source": [
        "# Get geometry structures attributes\n",
        "print(\"\\nGetting geometry structures attributes as Dataframe\")\n",
        "geom_structures_attrs = HdfStruc.get_geom_structures_attrs(geom_hdf_path)"
      ]
    },
    {
      "cell_type": "code",
      "execution_count": null,
      "metadata": {},
      "outputs": [],
      "source": [
        "geom_structures_attrs"
      ]
    },
    {
      "cell_type": "code",
      "execution_count": null,
      "metadata": {},
      "outputs": [],
      "source": [
        "# TODO: Paths and Functions for each type of structure: \n",
        "\n",
        "# Getting geometry structures attributes\n",
        "# Geometry structures attributes:\n",
        "# Bridge/Culvert Count: 0\n",
        "# Connection Count: 4\n",
        "# Has Bridge Opening (2D): 0\n",
        "# Inline Structure Count: 0\n",
        "# Lateral Structure Count: 0"
      ]
    },
    {
      "cell_type": "code",
      "execution_count": null,
      "metadata": {},
      "outputs": [],
      "source": [
        "# Get boundary condition lines\n",
        "print(\"\\nExtracting Boundary Condition Lines as Geodataframe\")\n",
        "bc_lines_df = HdfBndry.get_bc_lines(geom_hdf_path)"
      ]
    },
    {
      "cell_type": "code",
      "execution_count": null,
      "metadata": {},
      "outputs": [],
      "source": [
        "bc_lines_df"
      ]
    },
    {
      "cell_type": "code",
      "execution_count": null,
      "metadata": {},
      "outputs": [],
      "source": [
        "# Plot Boundary Condition Lines with Perimeter\n",
        "\n",
        "if generate_maps:\n",
        "    fig, ax = plt.subplots(figsize=(12, 8))\n",
        "\n",
        "    if not mesh_areas.empty:\n",
        "        mesh_areas.plot(ax=ax, edgecolor='black', facecolor='none', alpha=0.7, label='2D Flow Area')\n",
        "        \n",
        "        # Add labels for each polygon\n",
        "        for idx, row in mesh_areas.iterrows():\n",
        "            centroid = row.geometry.centroid\n",
        "            label = row.get('Name', f'Area {idx}')\n",
        "            ax.annotate(label, (centroid.x, centroid.y), ha='center', va='center')\n",
        "\n",
        "    # Plot boundary condition lines\n",
        "    if not bc_lines_df.empty:\n",
        "        bc_lines_df.plot(ax=ax, color='red', linewidth=2, label='Boundary Condition Lines')\n",
        "\n",
        "    # Set labels and title\n",
        "    ax.set_xlabel('Easting')\n",
        "    ax.set_ylabel('Northing')\n",
        "    ax.set_title('2D Flow Area Perimeter Polygons and Boundary Condition Lines')\n",
        "\n",
        "    # Add grid and legend\n",
        "    ax.grid(True)\n",
        "    ax.legend()\n",
        "\n",
        "    # Adjust layout and display\n",
        "    plt.tight_layout()\n",
        "    plt.show()\n",
        "\n",
        "else:\n",
        "    print(\"generate_maps is set to False\")\n",
        "# Plot 2D Flow Area Perimeter Polygons"
      ]
    },
    {
      "cell_type": "code",
      "execution_count": null,
      "metadata": {},
      "outputs": [],
      "source": [
        "# Extract Breaklines as Geodataframe\n",
        "print(\"\\nExtracting Breaklines\")\n",
        "breaklines_gdf = HdfBndry.get_breaklines(geom_hdf_path)\n"
      ]
    },
    {
      "cell_type": "code",
      "execution_count": null,
      "metadata": {},
      "outputs": [],
      "source": [
        "breaklines_gdf"
      ]
    },
    {
      "cell_type": "code",
      "execution_count": null,
      "metadata": {},
      "outputs": [],
      "source": [
        "# Plot breaklines and 2D Flow Area Perimeter Polygons\n",
        "\n",
        "if generate_plots:\n",
        "    fig, ax = plt.subplots(figsize=(12, 8))\n",
        "\n",
        "    # Plot 2D Flow Area Perimeter Polygons\n",
        "    if not mesh_areas.empty:\n",
        "        mesh_areas.plot(ax=ax, edgecolor='black', facecolor='none', alpha=0.7, label='2D Flow Area')\n",
        "        \n",
        "        # Add labels for each polygon\n",
        "        for idx, row in mesh_areas.iterrows():\n",
        "            centroid = row.geometry.centroid\n",
        "            label = row.get('Name', f'Area {idx}')\n",
        "            ax.annotate(label, (centroid.x, centroid.y), ha='center', va='center')\n",
        "\n",
        "    # Plot breaklines\n",
        "    if not breaklines_gdf.empty:\n",
        "        breaklines_gdf.plot(ax=ax, color='blue', linewidth=2, label='Breaklines')\n",
        "\n",
        "    # Set labels and title\n",
        "    ax.set_xlabel('Easting')\n",
        "    ax.set_ylabel('Northing')\n",
        "    ax.set_title('2D Flow Area Perimeter Polygons and Breaklines')\n",
        "\n",
        "    # Add grid and legend\n",
        "    ax.grid(True)\n",
        "    ax.legend()\n",
        "\n",
        "    # Adjust layout and display\n",
        "    plt.tight_layout()\n",
        "    plt.show()"
      ]
    },
    {
      "cell_type": "code",
      "execution_count": null,
      "metadata": {},
      "outputs": [],
      "source": [
        "# Get structures as GeoDatframe\n",
        "structures_gdf = HdfStruc.get_structures(geom_hdf_path)"
      ]
    },
    {
      "cell_type": "code",
      "execution_count": null,
      "metadata": {},
      "outputs": [],
      "source": [
        "structures_gdf"
      ]
    },
    {
      "cell_type": "code",
      "execution_count": null,
      "metadata": {},
      "outputs": [],
      "source": [
        "# Get boundary condition lines as GeoDatframe\n",
        "bc_lines_gdf = HdfBndry.get_bc_lines(geom_hdf_path)\n",
        "print(\"\\nBoundary Condition Lines:\")"
      ]
    },
    {
      "cell_type": "code",
      "execution_count": null,
      "metadata": {},
      "outputs": [],
      "source": [
        "bc_lines_gdf"
      ]
    },
    {
      "cell_type": "markdown",
      "metadata": {},
      "source": [
        "### Dev Note: Need to add function for Reference Lines"
      ]
    },
    {
      "cell_type": "code",
      "execution_count": null,
      "metadata": {},
      "outputs": [],
      "source": [
        "# Get reference points as Geodataframe\n",
        "ref_points_gdf = HdfBndry.get_reference_points(geom_hdf_path)"
      ]
    },
    {
      "cell_type": "code",
      "execution_count": null,
      "metadata": {},
      "outputs": [],
      "source": [
        "print(\"\\nReference Points:\")\n",
        "ref_points_gdf\n",
        "# There are no reference points in this example project (for demonstration only)"
      ]
    },
    {
      "cell_type": "code",
      "execution_count": null,
      "metadata": {},
      "outputs": [],
      "source": [
        "# Extract Refinement Regions\n",
        "refinement_regions_df = HdfBndry.get_refinement_regions(geom_hdf_path)"
      ]
    },
    {
      "cell_type": "code",
      "execution_count": null,
      "metadata": {},
      "outputs": [],
      "source": [
        "refinement_regions_df"
      ]
    },
    {
      "cell_type": "code",
      "execution_count": null,
      "metadata": {},
      "outputs": [],
      "source": [
        "# Plot Refinement Regions\n",
        "\n",
        "if not refinement_regions_df.empty:\n",
        "    print(\"Refinement Regions DataFrame:\")\n",
        "    display(refinement_regions_df.head())\n",
        "    \n",
        "    # Plot refinement regions\n",
        "    fig, ax = plt.subplots(figsize=(12, 8))\n",
        "    refinement_regions_df.plot(ax=ax, column='CellSize', legend=True, \n",
        "                               legend_kwds={'label': 'Cell Size', 'orientation': 'horizontal'},\n",
        "                               cmap='viridis')\n",
        "    ax.set_title('2D Mesh Area Refinement Regions')\n",
        "    ax.set_xlabel('Easting')\n",
        "    ax.set_ylabel('Northing')\n",
        "    plt.tight_layout()\n",
        "    plt.show()\n",
        "else:\n",
        "    print(\"No refinement regions found in the geometry file.\")\n",
        "\n",
        "# Analyze Refinement Regions\n",
        "if not refinement_regions_df.empty:\n",
        "    print(\"\\nRefinement Regions Analysis:\")\n",
        "    print(f\"Total number of refinement regions: {len(refinement_regions_df)}\")\n",
        "    print(\"\\nCell Size Statistics:\")\n",
        "    print(refinement_regions_df['CellSize'].describe())\n",
        "    \n",
        "    # Group by Shape Type\n",
        "    shape_type_counts = refinement_regions_df['ShapeType'].value_counts()\n",
        "    print(\"\\nRefinement Region Shape Types:\")\n",
        "    print(shape_type_counts)\n",
        "    \n",
        "    # Plot Shape Type distribution\n",
        "    plt.figure(figsize=(10, 6))\n",
        "    shape_type_counts.plot(kind='bar')\n",
        "    plt.title('Distribution of Refinement Region Shape Types')\n",
        "    plt.xlabel('Shape Type')\n",
        "    plt.ylabel('Count')\n",
        "    plt.xticks(rotation=45)\n",
        "    plt.tight_layout()\n",
        "    plt.show()"
      ]
    },
    {
      "cell_type": "code",
      "execution_count": null,
      "metadata": {},
      "outputs": [],
      "source": [
        "# Extract Plan Parameters \n",
        "plan_parameters_df = HdfPlan.get_plan_parameters(plan_hdf_path)"
      ]
    },
    {
      "cell_type": "code",
      "execution_count": null,
      "metadata": {},
      "outputs": [],
      "source": [
        "plan_parameters_df"
      ]
    },
    {
      "cell_type": "code",
      "execution_count": null,
      "metadata": {},
      "outputs": [],
      "source": [
        "# Extract volume accounting data\n",
        "volume_accounting_df = HdfResultsPlan.get_volume_accounting(plan_hdf_path)"
      ]
    },
    {
      "cell_type": "code",
      "execution_count": null,
      "metadata": {},
      "outputs": [],
      "source": [
        "volume_accounting_df"
      ]
    },
    {
      "cell_type": "markdown",
      "metadata": {},
      "source": [
        "------"
      ]
    },
    {
      "cell_type": "markdown",
      "metadata": {},
      "source": [
        "# RasPlanHdf Class Functions"
      ]
    },
    {
      "cell_type": "markdown",
      "metadata": {},
      "source": [
        "-----"
      ]
    },
    {
      "cell_type": "code",
      "execution_count": null,
      "metadata": {},
      "outputs": [],
      "source": [
        "# Get plan start time as datetime object\n",
        "start_time = HdfPlan.get_plan_start_time(plan_hdf_path)\n",
        "print(f\"Simulation start time: {start_time}\")"
      ]
    },
    {
      "cell_type": "markdown",
      "metadata": {},
      "source": [
        "Simulation start time: 2018-09-09 00:00:00"
      ]
    },
    {
      "cell_type": "code",
      "execution_count": null,
      "metadata": {},
      "outputs": [],
      "source": [
        "# Get plan end time as datetime object\n",
        "end_time = HdfPlan.get_plan_end_time(plan_hdf_path)\n",
        "print(f\"Simulation end time: {end_time}\")"
      ]
    },
    {
      "cell_type": "markdown",
      "metadata": {},
      "source": [
        "Simulation end time: 2018-09-14 00:00:00"
      ]
    },
    {
      "cell_type": "code",
      "execution_count": null,
      "metadata": {},
      "outputs": [],
      "source": [
        "# Get maximum iteration count for mesh cells\n",
        "max_iter_gdf = HdfResultsMesh.get_mesh_max_iter(plan_hdf_path)"
      ]
    },
    {
      "cell_type": "code",
      "execution_count": null,
      "metadata": {},
      "outputs": [],
      "source": [
        "max_iter_gdf"
      ]
    },
    {
      "cell_type": "code",
      "execution_count": null,
      "metadata": {},
      "outputs": [],
      "source": [
        "# Get cell coordinates \n",
        "cell_coords = HdfMesh.get_mesh_cell_points(plan_hdf_path)\n"
      ]
    },
    {
      "cell_type": "code",
      "execution_count": null,
      "metadata": {},
      "outputs": [],
      "source": [
        "# Plot Mesh Max Iterations\n",
        "\n",
        "if generate_maps:\n",
        "    # Extract x and y coordinates from the geometry column\n",
        "    max_iter_gdf['x'] = max_iter_gdf['geometry'].apply(lambda geom: geom.x if geom is not None else None)\n",
        "    max_iter_gdf['y'] = max_iter_gdf['geometry'].apply(lambda geom: geom.y if geom is not None else None)\n",
        "\n",
        "    # Remove rows with None coordinates\n",
        "    max_iter_gdf = max_iter_gdf.dropna(subset=['x', 'y'])\n",
        "\n",
        "    # Create the plot\n",
        "    fig, ax = plt.subplots(figsize=(12, 8))\n",
        "    scatter = ax.scatter(max_iter_gdf['x'], max_iter_gdf['y'], \n",
        "                         c=max_iter_gdf['cell_last_iteration'], \n",
        "                         cmap='viridis', \n",
        "                         s=1)\n",
        "\n",
        "    # Customize the plot\n",
        "    ax.set_title('Max Iterations per Cell')\n",
        "    ax.set_xlabel('X Coordinate')\n",
        "    ax.set_ylabel('Y Coordinate')\n",
        "    plt.colorbar(scatter, label='Max Iterations')\n",
        "\n",
        "    # Show the plot\n",
        "    plt.show()\n",
        "else:\n",
        "    print(\"generate_maps is set to False\")\n",
        "\n",
        "# Print the first few rows of the dataframe for verification\n",
        "print(\"\\nFirst few rows of the dataframe:\")\n",
        "max_iter_gdf[['mesh_name', 'cell_id', 'geometry']]\n",
        "\n"
      ]
    },
    {
      "cell_type": "code",
      "execution_count": null,
      "metadata": {},
      "outputs": [],
      "source": [
        "# List top 10 points for Max Iteration per Cell\n",
        "# Sort the dataframe by cell_last_iteration in descending order\n",
        "top_iterations = max_iter_gdf.sort_values(by='cell_last_iteration', ascending=False).head(10)\n",
        "\n",
        "# Create a more informative display with coordinates\n",
        "print(\"\\nTop 10 Cells with Highest Iteration Counts:\")\n",
        "top_iterations_display = top_iterations.copy()\n",
        "top_iterations_display['x_coord'] = top_iterations_display['geometry'].apply(lambda geom: round(geom.x, 2))\n",
        "top_iterations_display['y_coord'] = top_iterations_display['geometry'].apply(lambda geom: round(geom.y, 2))\n",
        "\n",
        "# Display the results in a formatted table\n",
        "print(top_iterations_display[['mesh_name', 'cell_id', 'cell_last_iteration', 'x_coord', 'y_coord']])\n"
      ]
    },
    {
      "cell_type": "code",
      "execution_count": null,
      "metadata": {},
      "outputs": [],
      "source": [
        "# Get mesh maximum water surface elevation as Geodataframe\n",
        "max_ws_gdf = HdfResultsMesh.get_mesh_max_ws(plan_hdf_path)"
      ]
    },
    {
      "cell_type": "code",
      "execution_count": null,
      "metadata": {},
      "outputs": [],
      "source": [
        "# Check Dataframe Attributes (the HDF Attributes are also imported as Geoataframe Attributes)\n",
        "max_ws_gdf.attrs"
      ]
    },
    {
      "cell_type": "code",
      "execution_count": null,
      "metadata": {},
      "outputs": [],
      "source": [
        "max_ws_gdf"
      ]
    },
    {
      "cell_type": "code",
      "execution_count": null,
      "metadata": {},
      "outputs": [],
      "source": [
        "# Plot the max water surface as a map\n",
        "if generate_maps:\n",
        "    # Extract x and y coordinates from the geometry column\n",
        "    max_ws_gdf['x'] = max_ws_gdf['geometry'].apply(lambda geom: geom.x if geom is not None else None)\n",
        "    max_ws_gdf['y'] = max_ws_gdf['geometry'].apply(lambda geom: geom.y if geom is not None else None)\n",
        "\n",
        "    # Remove rows with None coordinates\n",
        "    max_ws_gdf = max_ws_gdf.dropna(subset=['x', 'y'])\n",
        "\n",
        "    # Create the plot\n",
        "    fig, ax = plt.subplots(figsize=(12, 8))\n",
        "    scatter = ax.scatter(max_ws_gdf['x'], max_ws_gdf['y'], \n",
        "                         c=max_ws_gdf['maximum_water_surface'], \n",
        "                         cmap='viridis', \n",
        "                         s=10)\n",
        "\n",
        "    # Customize the plot\n",
        "    ax.set_title('Max Water Surface per Cell')\n",
        "    ax.set_xlabel('X Coordinate')\n",
        "    ax.set_ylabel('Y Coordinate')\n",
        "    plt.colorbar(scatter, label='Max Water Surface (ft)')\n",
        "\n",
        "    # Add grid lines\n",
        "    ax.grid(True, linestyle='--', alpha=0.7)\n",
        "\n",
        "    # Increase font size for better readability\n",
        "    plt.rcParams.update({'font.size': 12})\n",
        "\n",
        "    # Adjust layout to prevent cutting off labels\n",
        "    plt.tight_layout()\n",
        "\n",
        "    # Show the plot\n",
        "    plt.show()\n",
        "else:\n",
        "    print(\"generate_maps is set to False\")"
      ]
    },
    {
      "cell_type": "code",
      "execution_count": null,
      "metadata": {},
      "outputs": [],
      "source": [
        "# Plot the time of the max water surface elevation (WSEL)\n",
        "if generate_maps:\n",
        "    import matplotlib.dates as mdates\n",
        "    from datetime import datetime\n",
        "\n",
        "    # Convert the 'maximum_water_surface_time' to datetime objects\n",
        "    max_ws_gdf['max_wsel_time'] = pd.to_datetime(max_ws_gdf['maximum_water_surface_time'])\n",
        "\n",
        "    # Create the plot\n",
        "    fig, ax = plt.subplots(figsize=(12, 8))\n",
        "\n",
        "    # Convert datetime to hours since the start for colormap\n",
        "    min_time = max_ws_gdf['max_wsel_time'].min()\n",
        "    color_values = (max_ws_gdf['max_wsel_time'] - min_time).dt.total_seconds() / 3600  # Convert to hours\n",
        "\n",
        "    scatter = ax.scatter(max_ws_gdf['x'], max_ws_gdf['y'], \n",
        "                        c=color_values, \n",
        "                        cmap='viridis', \n",
        "                        s=10)\n",
        "\n",
        "    # Customize the plot\n",
        "    ax.set_title('Time of Maximum Water Surface Elevation per Cell')\n",
        "    ax.set_xlabel('X Coordinate')\n",
        "    ax.set_ylabel('Y Coordinate')\n",
        "\n",
        "    # Set up the colorbar\n",
        "    cbar = plt.colorbar(scatter)\n",
        "    cbar.set_label('Hours since simulation start')\n",
        "\n",
        "    # Format the colorbar ticks to show hours\n",
        "    cbar.set_ticks(range(0, int(color_values.max()) + 1, 6))  # Set ticks every 6 hours\n",
        "    cbar.set_ticklabels([f'{h}h' for h in range(0, int(color_values.max()) + 1, 6)])\n",
        "\n",
        "    # Add grid lines\n",
        "    ax.grid(True, linestyle='--', alpha=0.7)\n",
        "\n",
        "    # Increase font size for better readability\n",
        "    plt.rcParams.update({'font.size': 12})\n",
        "\n",
        "    # Adjust layout to prevent cutting off labels\n",
        "    plt.tight_layout()\n",
        "\n",
        "    # Show the plot\n",
        "    plt.show()\n",
        "\n",
        "    # Find the overall maximum WSEL and its time\n",
        "    max_wsel_row = max_ws_gdf.loc[max_ws_gdf['maximum_water_surface'].idxmax()]\n",
        "    hours_since_start = (max_wsel_row['max_wsel_time'] - min_time).total_seconds() / 3600\n",
        "    print(f\"\\nOverall Maximum WSEL: {max_wsel_row['maximum_water_surface']:.2f} ft\")\n",
        "    print(f\"Time of Overall Maximum WSEL: {max_wsel_row['max_wsel_time']}\")\n",
        "    print(f\"Hours since simulation start: {hours_since_start:.2f} hours\")\n",
        "    print(f\"Location of Overall Maximum WSEL: X={max_wsel_row['x']}, Y={max_wsel_row['y']}\")\n"
      ]
    },
    {
      "cell_type": "code",
      "execution_count": null,
      "metadata": {},
      "outputs": [],
      "source": [
        "# Get mesh minimum water surface elevation as geodataframe\n",
        "min_ws_gdf = HdfResultsMesh.get_mesh_min_ws(plan_hdf_path)"
      ]
    },
    {
      "cell_type": "code",
      "execution_count": null,
      "metadata": {},
      "outputs": [],
      "source": [
        "min_ws_gdf"
      ]
    },
    {
      "cell_type": "code",
      "execution_count": null,
      "metadata": {},
      "outputs": [],
      "source": [
        "# Get mesh maximum face velocity as geodataframe\n",
        "max_face_v_gdf = HdfResultsMesh.get_mesh_max_face_v(plan_hdf_path)\n",
        "print(\"\\nMesh Max Face Velocity:\")"
      ]
    },
    {
      "cell_type": "code",
      "execution_count": null,
      "metadata": {},
      "outputs": [],
      "source": [
        "max_face_v_gdf"
      ]
    },
    {
      "cell_type": "code",
      "execution_count": null,
      "metadata": {},
      "outputs": [],
      "source": [
        "# Extract midpoint coordinates from the LineString geometries\n",
        "max_face_v_gdf['x'] = max_face_v_gdf['geometry'].apply(lambda geom: geom.centroid.x)\n",
        "max_face_v_gdf['y'] = max_face_v_gdf['geometry'].apply(lambda geom: geom.centroid.y)\n",
        "\n",
        "# Create the plot\n",
        "fig, ax = plt.subplots(figsize=(12, 8))\n",
        "scatter = ax.scatter(max_face_v_gdf['x'], max_face_v_gdf['y'], \n",
        "                    c=max_face_v_gdf['maximum_face_velocity'].abs(),\n",
        "                    cmap='viridis',\n",
        "                    s=10)\n",
        "\n",
        "# Customize the plot\n",
        "ax.set_title('Max Face Velocity per Face')\n",
        "ax.set_xlabel('X Coordinate') \n",
        "ax.set_ylabel('Y Coordinate')\n",
        "plt.colorbar(scatter, label='Max Face Velocity (ft/s)')\n",
        "\n",
        "# Add grid lines\n",
        "ax.grid(True, linestyle='--', alpha=0.7)\n",
        "\n",
        "# Increase font size for better readability\n",
        "plt.rcParams.update({'font.size': 12})\n",
        "\n",
        "# Adjust layout to prevent cutting off labels\n",
        "plt.tight_layout()\n",
        "\n",
        "# Show the plot\n",
        "plt.show()"
      ]
    },
    {
      "cell_type": "code",
      "execution_count": null,
      "metadata": {},
      "outputs": [],
      "source": [
        "# Get mesh minimum face velocity as geodataframe\n",
        "min_face_v_gdf = HdfResultsMesh.get_mesh_min_face_v(plan_hdf_path)\n"
      ]
    },
    {
      "cell_type": "code",
      "execution_count": null,
      "metadata": {},
      "outputs": [],
      "source": [
        "print(\"\\nMesh Min Face Velocity:\")\n",
        "min_face_v_gdf"
      ]
    },
    {
      "cell_type": "code",
      "execution_count": null,
      "metadata": {},
      "outputs": [],
      "source": [
        "# Get mesh max water surface error as geodataframe\n",
        "\n",
        "max_ws_err_gdf = HdfResultsMesh.get_mesh_max_ws_err(plan_hdf_path)\n"
      ]
    },
    {
      "cell_type": "code",
      "execution_count": null,
      "metadata": {},
      "outputs": [],
      "source": [
        "print(\"\\nMesh Max Water Surface Error:\")\n",
        "max_ws_err_gdf\n"
      ]
    },
    {
      "cell_type": "code",
      "execution_count": null,
      "metadata": {},
      "outputs": [],
      "source": [
        "# Plot max water surface error\n",
        "\n",
        "if generate_maps:\n",
        "# Extract x and y coordinates from the geometry points, handling None values\n",
        "    max_ws_err_gdf['x'] = max_ws_err_gdf['geometry'].apply(lambda geom: geom.x if geom is not None else None)\n",
        "    max_ws_err_gdf['y'] = max_ws_err_gdf['geometry'].apply(lambda geom: geom.y if geom is not None else None)\n",
        "\n",
        "    # Remove any rows with None coordinates\n",
        "    max_ws_err_gdf = max_ws_err_gdf.dropna(subset=['x', 'y'])\n",
        "\n",
        "    # Create the plot\n",
        "    fig, ax = plt.subplots(figsize=(12, 8))\n",
        "    scatter = ax.scatter(max_ws_err_gdf['x'], max_ws_err_gdf['y'],\n",
        "                        c=max_ws_err_gdf['cell_maximum_water_surface_error'],\n",
        "                        cmap='viridis',\n",
        "                        s=10)\n",
        "\n",
        "    # Customize the plot\n",
        "    ax.set_title('Max Water Surface Error per Cell')\n",
        "    ax.set_xlabel('X Coordinate')\n",
        "    ax.set_ylabel('Y Coordinate')\n",
        "    plt.colorbar(scatter, label='Max Water Surface Error (ft)')\n",
        "\n",
        "    # Add grid lines\n",
        "    ax.grid(True, linestyle='--', alpha=0.7)\n",
        "\n",
        "    # Increase font size for better readability\n",
        "    plt.rcParams.update({'font.size': 12})\n",
        "\n",
        "    # Adjust layout to prevent cutting off labels\n",
        "    plt.tight_layout()\n",
        "\n",
        "    # Show the plot\n",
        "    plt.show()"
      ]
    },
    {
      "cell_type": "code",
      "execution_count": null,
      "metadata": {},
      "outputs": [],
      "source": [
        "# Sort Dataframe to show top 10 maximum water surface errors:\n",
        "max_ws_err_gdf_sorted = max_ws_err_gdf.sort_values(by='cell_maximum_water_surface_error', ascending=False)\n"
      ]
    },
    {
      "cell_type": "code",
      "execution_count": null,
      "metadata": {},
      "outputs": [],
      "source": [
        "print(\"\\nTop 10 maximum water surface errors:\")\n",
        "max_ws_err_gdf_sorted"
      ]
    },
    {
      "cell_type": "code",
      "execution_count": null,
      "metadata": {},
      "outputs": [],
      "source": [
        "# Get mesh summary output for other Datasets (here we retrieve Maximum Face Courant) as geodataframe\n",
        "max_courant_gdf = HdfResultsMesh.get_mesh_summary(plan_hdf_path, var=\"Maximum Face Courant\")"
      ]
    },
    {
      "cell_type": "code",
      "execution_count": null,
      "metadata": {},
      "outputs": [],
      "source": [
        "print(\"\\nMesh Summary Output (Maximum Courant):\")\n",
        "max_courant_gdf.attrs"
      ]
    },
    {
      "cell_type": "code",
      "execution_count": null,
      "metadata": {},
      "outputs": [],
      "source": [
        "max_courant_gdf"
      ]
    },
    {
      "cell_type": "code",
      "execution_count": null,
      "metadata": {},
      "outputs": [],
      "source": [
        "# Plot max Courant number\n",
        "\n",
        "# Convert to GeoDataFrame if not empty\n",
        "if not max_courant_gdf.empty:\n",
        "    if generate_maps:\n",
        "        # Get centroids of line geometries for plotting\n",
        "        max_courant_gdf['centroid'] = max_courant_gdf.geometry.centroid\n",
        "        max_courant_gdf['x'] = max_courant_gdf.centroid.x\n",
        "        max_courant_gdf['y'] = max_courant_gdf.centroid.y\n",
        "\n",
        "        # Create the plot\n",
        "        fig, ax = plt.subplots(figsize=(12, 8))\n",
        "        scatter = ax.scatter(max_courant_gdf['x'], max_courant_gdf['y'],\n",
        "                        c=max_courant_gdf['maximum_face_courant'],\n",
        "                        cmap='viridis',\n",
        "                        s=10)\n",
        "\n",
        "        # Customize the plot\n",
        "        ax.set_title('Max Courant Number per Face')\n",
        "        ax.set_xlabel('X Coordinate')\n",
        "        ax.set_ylabel('Y Coordinate')\n",
        "        plt.colorbar(scatter, label='Max Courant Number')\n",
        "\n",
        "        # Add grid lines\n",
        "        ax.grid(True, linestyle='--', alpha=0.7)\n",
        "\n",
        "        # Increase font size for better readability\n",
        "        plt.rcParams.update({'font.size': 12})\n",
        "\n",
        "        # Adjust layout to prevent cutting off labels\n",
        "        plt.tight_layout()\n",
        "\n",
        "        # Show the plot\n",
        "        plt.show()\n",
        "\n",
        "# Print the first few rows of the dataframe for verification\n",
        "print(\"\\nFirst few rows of the Courant number dataframe:\")\n",
        "max_courant_gdf\n"
      ]
    },
    {
      "cell_type": "code",
      "execution_count": null,
      "metadata": {},
      "outputs": [],
      "source": [
        "# Get mesh summary output for other Datasets (here we retrieve Maximum Face Courant)\n",
        "\n",
        "max_face_shear_gdf = HdfResultsMesh.get_mesh_summary(plan_hdf_path, var=\"Maximum Face Shear Stress\")"
      ]
    },
    {
      "cell_type": "code",
      "execution_count": null,
      "metadata": {},
      "outputs": [],
      "source": [
        "print(\"\\nMesh Summary Output (Maximum Face Shear Stress:\")\n",
        "print(max_face_shear_gdf.attrs)"
      ]
    },
    {
      "cell_type": "code",
      "execution_count": null,
      "metadata": {},
      "outputs": [],
      "source": [
        "max_face_shear_gdf"
      ]
    },
    {
      "cell_type": "code",
      "execution_count": null,
      "metadata": {},
      "outputs": [],
      "source": [
        "# Plot max face shear stress\n",
        "\n",
        "if generate_maps and not max_face_shear_gdf.empty:\n",
        "    # Calculate centroids of the line geometries and extract coordinates\n",
        "    max_face_shear_gdf['centroid'] = max_face_shear_gdf['geometry'].apply(lambda line: line.centroid)\n",
        "    max_face_shear_gdf['x'] = max_face_shear_gdf['centroid'].apply(lambda point: point.x)\n",
        "    max_face_shear_gdf['y'] = max_face_shear_gdf['centroid'].apply(lambda point: point.y)\n",
        "\n",
        "    # Create the plot\n",
        "    fig, ax = plt.subplots(figsize=(12, 8))\n",
        "    scatter = ax.scatter(max_face_shear_gdf['x'], max_face_shear_gdf['y'],\n",
        "                        c=max_face_shear_gdf['maximum_face_shear_stress'],\n",
        "                        cmap='viridis',\n",
        "                        s=10)\n",
        "\n",
        "    # Customize the plot\n",
        "    ax.set_title('Max Face Shear Stress per Face')\n",
        "    ax.set_xlabel('X Coordinate')\n",
        "    ax.set_ylabel('Y Coordinate')\n",
        "    plt.colorbar(scatter, label='Max Face Shear Stress (PSF)')\n",
        "\n",
        "    # Add grid lines\n",
        "    ax.grid(True, linestyle='--', alpha=0.7)\n",
        "\n",
        "    # Increase font size for better readability\n",
        "    plt.rcParams.update({'font.size': 12})\n",
        "\n",
        "    # Adjust layout to prevent cutting off labels\n",
        "    plt.tight_layout()\n",
        "\n",
        "    # Show the plot\n",
        "    plt.show()"
      ]
    },
    {
      "cell_type": "code",
      "execution_count": null,
      "metadata": {},
      "outputs": [],
      "source": [
        "# Get mesh summary output for Minimum Water Surface as geodataframe\n",
        "summary_gdf_min_ws = HdfResultsMesh.get_mesh_summary(plan_hdf_path, var=\"Minimum Water Surface\")"
      ]
    },
    {
      "cell_type": "code",
      "execution_count": null,
      "metadata": {},
      "outputs": [],
      "source": [
        "print(\"\\nMesh Summary Output (Minimum Water Surface):\")\n",
        "summary_gdf_min_ws"
      ]
    },
    {
      "cell_type": "code",
      "execution_count": null,
      "metadata": {},
      "outputs": [],
      "source": [
        "# Get mesh summary output for Minimum Face Velocity as geodataframe\n",
        "summary_gdf_min_fv = HdfResultsMesh.get_mesh_summary(plan_hdf_path, var=\"Minimum Face Velocity\")"
      ]
    },
    {
      "cell_type": "code",
      "execution_count": null,
      "metadata": {},
      "outputs": [],
      "source": [
        "print(\"\\nMesh Summary Output (Minimum Face Velocity):\")\n",
        "summary_gdf_min_fv"
      ]
    },
    {
      "cell_type": "code",
      "execution_count": null,
      "metadata": {},
      "outputs": [],
      "source": [
        "# Get mesh summary output for Cell Cumulative Iteration as geodataframe\n",
        "summary_gdf_cum_iter = HdfResultsMesh.get_mesh_summary(plan_hdf_path, var=\"Cell Cumulative Iteration\")"
      ]
    },
    {
      "cell_type": "code",
      "execution_count": null,
      "metadata": {},
      "outputs": [],
      "source": [
        "print(\"\\nMesh Summary Output (Cell Cumulative Iteration):\")\n",
        "summary_gdf_cum_iter"
      ]
    },
    {
      "cell_type": "code",
      "execution_count": null,
      "metadata": {},
      "outputs": [],
      "source": [
        "# Get mesh timeseries output as xarray\n",
        "# The mesh name is part of the timeseries HDF path, so you must pass the mesh_name to retrieve it\n",
        "\n",
        "# Get mesh areas from previous code cell\n",
        "mesh_areas = HdfMesh.get_mesh_area_names(geom_hdf_path)\n"
      ]
    },
    {
      "cell_type": "code",
      "execution_count": null,
      "metadata": {},
      "outputs": [],
      "source": [
        "mesh_areas"
      ]
    },
    {
      "cell_type": "code",
      "execution_count": null,
      "metadata": {},
      "outputs": [],
      "source": [
        "# Use the first mesh area name to extract mesh timeseries output as xarray\n",
        "timeseries_xr = HdfResultsMesh.get_mesh_timeseries(plan_hdf_path, mesh_areas[0], \"Water Surface\") # Use the first 2D flow area name for mesh_name"
      ]
    },
    {
      "cell_type": "code",
      "execution_count": null,
      "metadata": {},
      "outputs": [],
      "source": [
        "timeseries_xr"
      ]
    },
    {
      "cell_type": "code",
      "execution_count": null,
      "metadata": {},
      "outputs": [],
      "source": [
        "# Time Series Output Variables for Cells\n",
        "# \n",
        "# Variable Name: Description\n",
        "# Water Surface: Water surface elevation\n",
        "# Depth: Water depth\n",
        "# Velocity: Magnitude of velocity\n",
        "# Velocity X: X-component of velocity\n",
        "# Velocity Y: Y-component of velocity\n",
        "# Froude Number: Froude number\n",
        "# Courant Number: Courant number\n",
        "# Shear Stress: Shear stress on the bed\n",
        "# Bed Elevation: Elevation of the bed\n",
        "# Precipitation Rate: Rate of precipitation\n",
        "# Infiltration Rate: Rate of infiltration\n",
        "# Evaporation Rate: Rate of evaporation\n",
        "# Percolation Rate: Rate of percolation\n",
        "# Groundwater Elevation: Elevation of groundwater\n",
        "# Groundwater Depth: Depth to groundwater\n",
        "# Groundwater Flow: Groundwater flow rate\n",
        "# Groundwater Velocity: Magnitude of groundwater velocity\n",
        "# Groundwater Velocity X: X-component of groundwater velocity\n",
        "# Groundwater Velocity Y: Y-component of groundwater velocity\n",
        "# \n",
        "# These variables are available for time series output at the cell level in 2D flow areas.\n"
      ]
    },
    {
      "cell_type": "code",
      "execution_count": null,
      "metadata": {},
      "outputs": [],
      "source": [
        "# Get mesh cells timeseries output as xarray\n",
        "cells_timeseries_xr = HdfResultsMesh.get_mesh_cells_timeseries(plan_hdf_path, mesh_areas[0])"
      ]
    },
    {
      "cell_type": "code",
      "execution_count": null,
      "metadata": {},
      "outputs": [],
      "source": [
        "cells_timeseries_xr"
      ]
    },
    {
      "cell_type": "code",
      "execution_count": null,
      "metadata": {},
      "outputs": [],
      "source": [
        "# Plot WSE Time Series Data (Random Cell ID) \n",
        "import matplotlib.pyplot as plt\n",
        "\n",
        "if generate_plots:\n",
        "    import numpy as np\n",
        "    import random\n",
        "\n",
        "    # Extract Water Surface data\n",
        "    water_surface = cells_timeseries_xr[mesh_areas[0]]['Water Surface']\n",
        "\n",
        "    # Get the time values\n",
        "    time_values = water_surface.coords['time'].values\n",
        "\n",
        "    # Pick a random cell_id\n",
        "    random_cell_id = random.choice(water_surface.coords['cell_id'].values)\n",
        "\n",
        "    # Extract the water surface elevation time series for the random cell\n",
        "    wsel_timeseries = water_surface.sel(cell_id=random_cell_id)\n",
        "\n",
        "    # Find the peak value and its index\n",
        "    peak_value = wsel_timeseries.max().item()\n",
        "    peak_index = wsel_timeseries.argmax().item()\n",
        "\n",
        "    # Create the plot\n",
        "    plt.figure(figsize=(12, 6))\n",
        "    plt.plot(time_values, wsel_timeseries, label=f'Cell ID: {random_cell_id}')\n",
        "    plt.scatter(time_values[peak_index], peak_value, color='red', s=100, zorder=5)\n",
        "    plt.annotate(f'Peak: {peak_value:.2f} ft', \n",
        "                (time_values[peak_index], peak_value),\n",
        "                xytext=(10, 10), textcoords='offset points',\n",
        "                ha='left', va='bottom',\n",
        "                bbox=dict(boxstyle='round,pad=0.5', fc='yellow', alpha=0.5),\n",
        "                arrowprops=dict(arrowstyle='->', connectionstyle='arc3,rad=0'))\n",
        "\n",
        "    plt.title(f'Water Surface Elevation Time Series for Random Cell (ID: {random_cell_id})')\n",
        "    plt.xlabel('Time')\n",
        "    plt.ylabel('Water Surface Elevation (ft)')\n",
        "    plt.legend()\n",
        "    plt.grid(True)\n",
        "    plt.tight_layout()\n",
        "\n",
        "    # Log the plotting action\n",
        "    logging.info(f\"Plotted water surface elevation time series for random cell ID: {random_cell_id}\")\n",
        "\n",
        "    # Display the plot\n",
        "    plt.show()\n",
        "\n",
        "    # Print some statistics\n",
        "    print(f\"Statistics for Cell ID {random_cell_id}:\")\n",
        "    print(f\"Minimum WSEL: {wsel_timeseries.min().item():.2f} ft\")\n",
        "    print(f\"Maximum WSEL: {peak_value:.2f} ft\")\n",
        "    print(f\"Mean WSEL: {wsel_timeseries.mean().item():.2f} ft\")\n",
        "    print(f\"Time of peak: {time_values[peak_index]}\")"
      ]
    },
    {
      "cell_type": "code",
      "execution_count": null,
      "metadata": {},
      "outputs": [],
      "source": [
        "# Get mesh faces timeseries output as xarray\n",
        "faces_timeseries_xr = HdfResultsMesh.get_mesh_faces_timeseries(plan_hdf_path, mesh_areas[0])"
      ]
    },
    {
      "cell_type": "code",
      "execution_count": null,
      "metadata": {},
      "outputs": [],
      "source": [
        "faces_timeseries_xr"
      ]
    },
    {
      "cell_type": "code",
      "execution_count": null,
      "metadata": {},
      "outputs": [],
      "source": [
        "# Plot Random Face Results and Label Peak, Plus Map View\n",
        "\n",
        "if generate_maps:\n",
        "\n",
        "    # Select a random valid face ID number\n",
        "    random_face = np.random.randint(0, faces_timeseries_xr.sizes['face_id'])\n",
        "\n",
        "    # Extract time series data for the selected face\n",
        "    variable = 'face_velocity'  # We could also use 'face_flow'\n",
        "    face_data = faces_timeseries_xr[variable].sel(face_id=random_face)\n",
        "\n",
        "    # Find peak value and its corresponding time\n",
        "    peak_value = face_data.max().item()\n",
        "    peak_time = face_data.idxmax().values\n",
        "\n",
        "    # Plot time series\n",
        "    plt.figure(figsize=(12, 8))\n",
        "    plt.plot(faces_timeseries_xr.time, face_data)\n",
        "    plt.title(f'{variable.capitalize()} Time Series for Face {random_face}')\n",
        "    plt.xlabel('Time')\n",
        "    plt.ylabel(f'{variable.capitalize()} ({faces_timeseries_xr.attrs[\"units\"]})')\n",
        "    plt.grid(True)\n",
        "\n",
        "    # Annotate the peak point\n",
        "    plt.annotate(f'Peak: ({peak_time}, {peak_value:.2f})', \n",
        "                (peak_time, peak_value),\n",
        "                xytext=(10, 10), textcoords='offset points',\n",
        "                arrowprops=dict(arrowstyle=\"->\"))\n",
        "\n",
        "    # Check for negative values and label the minimum if present\n",
        "    min_value = face_data.min().item()\n",
        "    if min_value < 0:\n",
        "        min_time = face_data.idxmin().values\n",
        "        plt.annotate(f'Min: ({min_time}, {min_value:.2f})', \n",
        "                    (min_time, min_value),\n",
        "                    xytext=(10, -10), textcoords='offset points',\n",
        "                    arrowprops=dict(arrowstyle=\"->\"))\n",
        "\n",
        "    plt.tight_layout()\n",
        "    plt.show()\n",
        "\n",
        "    # Create map view plot\n",
        "    fig, ax = plt.subplots(figsize=(12, 8))\n",
        "\n",
        "\n",
        "    # Calculate mesh faces extents with 10% buffer\n",
        "    faces_bounds = mesh_cell_faces_gdf.total_bounds\n",
        "    x_min, y_min, x_max, y_max = faces_bounds\n",
        "    buffer_x = (x_max - x_min) * 0.1\n",
        "    buffer_y = (y_max - y_min) * 0.1\n",
        "    plot_xlim = [x_min - buffer_x, x_max + buffer_x]\n",
        "    plot_ylim = [y_min - buffer_y, y_max + buffer_y]\n",
        "\n",
        "    # Set plot limits before adding terrain\n",
        "    ax.set_xlim(plot_xlim)\n",
        "    ax.set_ylim(plot_ylim)\n",
        "\n",
        "    # Add the terrain TIFF to the map, clipped to our desired extent\n",
        "    tiff_path = Path.cwd() / 'example_projects' / 'BaldEagleCrkMulti2D' / 'Terrain' / 'Terrain50.baldeagledem.tif'\n",
        "    with rasterio.open(tiff_path) as src:\n",
        "        show(src, ax=ax, cmap='terrain', alpha=0.5)\n",
        "        \n",
        "    # Reset the limits after terrain plot\n",
        "    ax.set_xlim(plot_xlim)\n",
        "    ax.set_ylim(plot_ylim)\n",
        "\n",
        "    # Plot all faces in gray\n",
        "    mesh_cell_faces_gdf.plot(ax=ax, color='lightgray', alpha=0.5, zorder=2)\n",
        "\n",
        "    # Get the selected face geometry\n",
        "    selected_face = mesh_cell_faces_gdf[mesh_cell_faces_gdf['face_id'] == random_face]\n",
        "\n",
        "    # Highlight the selected face in red\n",
        "    selected_face.plot(\n",
        "        ax=ax, \n",
        "        color='red',\n",
        "        linewidth=2,\n",
        "        label=f'Selected Face (ID: {random_face})',\n",
        "        zorder=3\n",
        "    )\n",
        "\n",
        "    # Get bounds of selected face for zoomed inset\n",
        "    bounds = selected_face.geometry.bounds.iloc[0]\n",
        "    x_center = (bounds.iloc[0] + bounds.iloc[2]) / 2\n",
        "    y_center = (bounds.iloc[1] + bounds.iloc[3]) / 2\n",
        "    buffer = max(bounds.iloc[2] - bounds.iloc[0], bounds.iloc[3] - bounds.iloc[1]) * 2\n",
        "\n",
        "    # Create zoomed inset with a larger size, inside the map frame\n",
        "    axins = inset_axes(ax, width=\"70%\", height=\"70%\", loc='lower right',\n",
        "                    bbox_to_anchor=(0.65, 0.05, 0.35, 0.35),\n",
        "                    bbox_transform=ax.transAxes)\n",
        "\n",
        "    # Plot terrain and faces in inset\n",
        "    with rasterio.open(tiff_path) as src:\n",
        "        show(src, ax=axins, cmap='terrain', alpha=0.5)\n",
        "        \n",
        "    # Plot zoomed view in inset\n",
        "    mesh_cell_faces_gdf.plot(ax=axins, color='lightgray', alpha=0.5, zorder=2)\n",
        "    selected_face.plot(ax=axins, color='red', linewidth=2, zorder=3)\n",
        "\n",
        "    # Set inset limits with slightly more context\n",
        "    axins.set_xlim(x_center - buffer/1.5, x_center + buffer/1.5)\n",
        "    axins.set_ylim(y_center - buffer/1.5, y_center + buffer/1.5)\n",
        "\n",
        "    # Remove inset ticks for cleaner look\n",
        "    axins.set_xticks([])\n",
        "    axins.set_yticks([])\n",
        "\n",
        "    # Add a border to the inset\n",
        "    for spine in axins.spines.values():\n",
        "        spine.set_edgecolor('black')\n",
        "        spine.set_linewidth(1.5)\n",
        "\n",
        "    # Create connection lines between main plot and inset\n",
        "    # Get the selected face centroid for connection point\n",
        "    centroid = selected_face.geometry.centroid.iloc[0]\n",
        "    con1 = ConnectionPatch(\n",
        "        xyA=(centroid.x, centroid.y), coordsA=ax.transData,\n",
        "        xyB=(0.02, 0.98), coordsB=axins.transAxes,\n",
        "        arrowstyle=\"-\", linestyle=\"--\", color=\"gray\", alpha=0.6\n",
        "    )\n",
        "    con2 = ConnectionPatch(\n",
        "        xyA=(centroid.x, centroid.y), coordsA=ax.transData,\n",
        "        xyB=(0.98, 0.02), coordsB=axins.transAxes,\n",
        "        arrowstyle=\"-\", linestyle=\"--\", color=\"gray\", alpha=0.6\n",
        "    )\n",
        "\n",
        "    ax.add_artist(con1)\n",
        "    ax.add_artist(con2)\n",
        "\n",
        "    # Add title and legend to main plot\n",
        "    ax.set_title('Mesh Face Map View with Terrain')\n",
        "    ax.legend()\n",
        "\n",
        "    # Ensure equal aspect ratio while maintaining our desired extents\n",
        "    ax.set_aspect('equal', adjustable='box')\n",
        "\n",
        "    plt.tight_layout()\n",
        "    plt.show()\n",
        "\n",
        "    # Print summary information\n",
        "    print(f\"Random Face: {random_face}\")\n",
        "    print(f\"Peak Value: {peak_value:.2f} {faces_timeseries_xr.attrs['units']} at {peak_time}\")\n",
        "    if min_value < 0:\n",
        "        print(f\"Minimum Value: {min_value:.2f} {faces_timeseries_xr.attrs['units']} at {min_time}\")\n",
        "\n",
        "    # Log the plotting action\n",
        "    logging.info(f\"Plotted mesh face time series and map view for random face ID: {random_face} with terrain\")"
      ]
    },
    {
      "cell_type": "code",
      "execution_count": null,
      "metadata": {},
      "outputs": [],
      "source": [
        "# Get meteorology precipitation attributes\n",
        "meteo_precip_attrs = HdfPlan.get_plan_met_precip(plan_hdf_path)\n"
      ]
    },
    {
      "cell_type": "code",
      "execution_count": null,
      "metadata": {},
      "outputs": [],
      "source": [
        "meteo_precip_attrs"
      ]
    },
    {
      "cell_type": "code",
      "execution_count": null,
      "metadata": {},
      "outputs": [],
      "source": [
        "# Get results unsteady attributes\n",
        "results_unsteady_attrs = HdfResultsPlan.get_unsteady_info(plan_hdf_path)\n"
      ]
    },
    {
      "cell_type": "code",
      "execution_count": null,
      "metadata": {},
      "outputs": [],
      "source": [
        "results_unsteady_attrs"
      ]
    },
    {
      "cell_type": "code",
      "execution_count": null,
      "metadata": {},
      "outputs": [],
      "source": [
        "# Get results unsteady summary attributes\n",
        "results_unsteady_summary_attrs = HdfResultsPlan.get_unsteady_summary(plan_hdf_path)\n"
      ]
    },
    {
      "cell_type": "code",
      "execution_count": null,
      "metadata": {},
      "outputs": [],
      "source": [
        "results_unsteady_summary_attrs"
      ]
    },
    {
      "cell_type": "code",
      "execution_count": null,
      "metadata": {},
      "outputs": [],
      "source": [
        "# Get results volume accounting attributes\n",
        "volume_accounting_attrs = HdfResultsPlan.get_volume_accounting(plan_hdf_path)"
      ]
    },
    {
      "cell_type": "code",
      "execution_count": null,
      "metadata": {},
      "outputs": [],
      "source": [
        "volume_accounting_attrs"
      ]
    },
    {
      "cell_type": "markdown",
      "metadata": {},
      "source": [
        "-----"
      ]
    },
    {
      "cell_type": "code",
      "execution_count": null,
      "metadata": {},
      "outputs": [],
      "source": []
    },
    {
      "cell_type": "code",
      "execution_count": null,
      "metadata": {},
      "outputs": [],
      "source": [
        "# Extract Compute Messages as String\n",
        "print(\"Extracting Compute Messages\")\n",
        "\n",
        "import h5py\n",
        "import numpy as np\n",
        "\n",
        "\n",
        "\n",
        "def extract_string_from_hdf(results_hdf_filename: str, hdf_path: str) -> str:\n",
        "    \"\"\"\n",
        "    Extract string from HDF object at a given path\n",
        "\n",
        "    Parameters\n",
        "    ----------\n",
        "    results_hdf_filename : str\n",
        "        Name of the HDF file\n",
        "    hdf_path : str\n",
        "        Path of the object in the HDF file\n",
        "\n",
        "    Returns\n",
        "    -------\n",
        "    str\n",
        "        Extracted string from the specified HDF object\n",
        "    \"\"\"\n",
        "    with h5py.File(results_hdf_filename, 'r') as hdf_file:\n",
        "        try:\n",
        "            hdf_object = hdf_file[hdf_path]\n",
        "            if isinstance(hdf_object, h5py.Group):\n",
        "                return f\"Group: {hdf_path}\\nContents: {list(hdf_object.keys())}\"\n",
        "            elif isinstance(hdf_object, h5py.Dataset):\n",
        "                data = hdf_object[()]\n",
        "                if isinstance(data, bytes):\n",
        "                    return data.decode('utf-8')\n",
        "                elif isinstance(data, np.ndarray) and data.dtype.kind == 'S':\n",
        "                    return [v.decode('utf-8') for v in data]\n",
        "                else:\n",
        "                    return str(data)\n",
        "            else:\n",
        "                return f\"Unsupported object type: {type(hdf_object)}\"\n",
        "        except KeyError:\n",
        "            return f\"Path not found: {hdf_path}\"\n",
        "\n",
        "\n",
        "\n",
        "try:\n",
        "    results_summary_string = extract_string_from_hdf(plan_hdf_path, '/Results/Summary/Compute Messages (text)')\n",
        "    print(\"Compute Messages:\")\n",
        "    \n",
        "    # Parse and print the compute messages in a more visually friendly way\n",
        "    messages = results_summary_string[0].split('\\r\\n')\n",
        "    \n",
        "    for message in messages:\n",
        "        if message.strip():  # Skip empty lines\n",
        "            if ':' in message:\n",
        "                key, value = message.split(':', 1)\n",
        "                print(f\"{key.strip():40} : {value.strip()}\")\n",
        "            else:\n",
        "                print(f\"\\n{message.strip()}\")\n",
        "    \n",
        "    # Print computation summary in a table format\n",
        "    print(\"\\nComputation Summary:\")\n",
        "    print(\"-\" * 50)\n",
        "    print(f\"{'Computation Task':<30} {'Time':<20}\")\n",
        "    print(\"-\" * 50)\n",
        "    for line in messages:\n",
        "        if 'Computation Task' in line:\n",
        "            task, time = line.split('\\t')\n",
        "            print(f\"{task:<30} {time:<20}\")\n",
        "    \n",
        "    print(\"\\nComputation Speed:\")\n",
        "    print(\"-\" * 50)\n",
        "    print(f\"{'Task':<30} {'Simulation/Runtime':<20}\")\n",
        "    print(\"-\" * 50)\n",
        "    for line in messages:\n",
        "        if 'Computation Speed' in line:\n",
        "            task, speed = line.split('\\t')\n",
        "            print(f\"{task:<30} {speed:<20}\")\n",
        "\n",
        "except Exception as e:\n",
        "    print(f\"Error extracting compute messages: {str(e)}\")\n",
        "    print(\"\\nNote: If 'Results/Summary Output' is not in the file structure, it might indicate that the simulation didn't complete successfully or the results weren't saved properly.\")\n",
        "\n",
        " \n",
        "\n"
      ]
    },
    {
      "cell_type": "markdown",
      "metadata": {},
      "source": [
        "## Exploring HDF Datasets with HdfBase.get_dataset_info\n",
        "This allows users to find HDF information that is not included in the ras-commander library.  Find the path in HDFView and set the group_path below to explore the HDF datasets and attributes.  Then, use the output to write your own function to extract the data.  "
      ]
    },
    {
      "cell_type": "markdown",
      "metadata": {},
      "source": [
        "#### Get HDF Paths with Properties (For Exploring HDF Files)\n",
        "HdfBase.get_dataset_info(plan_number, group_path=\"/\")"
      ]
    },
    {
      "cell_type": "markdown",
      "metadata": {},
      "source": [
        "For HDF datasets that are not supported by the RAS-Commadner library, provide the dataset path to HdfBase.get_dataset_info and provide the output to an LLM along with a relevent HDF* class(es) to generate new functions that extend the library's coverage.   "
      ]
    },
    {
      "cell_type": "code",
      "execution_count": null,
      "metadata": {},
      "outputs": [],
      "source": [
        "#### Get HDF Paths with Properties (For Exploring HDF Files)\n",
        "HdfBase.get_dataset_info(plan_number, group_path=\"/Geometry/2D Flow Areas/\")"
      ]
    }
  ],
  "metadata": {
    "kernelspec": {
      "display_name": "rascmdr_pip312",
      "language": "python",
      "name": "python3"
    },
    "language_info": {
      "codemirror_mode": {
        "name": "ipython",
        "version": 3
      },
      "file_extension": ".py",
      "mimetype": "text/x-python",
      "name": "python",
      "nbconvert_exporter": "python",
      "pygments_lexer": "ipython3",
      "version": "3.12.9"
    }
  },
  "nbformat": 4,
  "nbformat_minor": 2
}