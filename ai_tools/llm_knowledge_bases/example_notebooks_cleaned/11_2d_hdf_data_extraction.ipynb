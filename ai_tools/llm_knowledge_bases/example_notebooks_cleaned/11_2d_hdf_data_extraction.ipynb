{
  "cells": [
    {
      "cell_type": "markdown",
      "metadata": {},
      "source": [
        "# HEC-RAS 2D HDF Data Analysis Notebook\n",
        "\n",
        "This notebook demonstrates how to manipulate and analyze HEC-RAS 2D HDF data using the ras-commander library. It leverages the HdfBase, HdfUtils, HdfStruc, HdfMesh, HdfXsec, HdfBndry, HdfPlan, HdfResultsPlan, HdfResultsMesh, and HdfResultsXsec classes to streamline data extraction, processing, and visualization.\n"
      ]
    },
    {
      "cell_type": "code",
      "execution_count": 1,
      "metadata": {},
      "outputs": [],
      "source": [
        "# Install ras-commander from pip (uncomment to install if needed)\n",
        "#!pip install ras-commander\n",
        "# This installs ras-commander and all dependencies\n",
        "\n",
        "# Use this setting to disable plot generation within the notebook\n",
        "generate_plots = True\n",
        "# Use this setting to disable map generation within the notebook\n",
        "generate_maps = True\n",
        "# Set both to false for llm-friendly outputs"
      ]
    },
    {
      "cell_type": "code",
      "execution_count": 2,
      "metadata": {},
      "outputs": [],
      "source": [
        "# Import all required modules\n",
        "#from ras_commander import *  # Import all ras-commander modules\n",
        "\n",
        "# Import the required libraries for this notebook\n",
        "import h5py\n",
        "import numpy as np\n",
        "import pandas as pd\n",
        "import requests\n",
        "from tqdm import tqdm\n",
        "import scipy\n",
        "import xarray as xr\n",
        "import geopandas as gpd\n",
        "import matplotlib.pyplot as plt\n",
        "from IPython import display\n",
        "import psutil  # For getting system CPU info\n",
        "from concurrent.futures import ThreadPoolExecutor, as_completed\n",
        "import time\n",
        "import subprocess\n",
        "import sys\n",
        "import os\n",
        "import shutil\n",
        "from datetime import datetime, timedelta\n",
        "from pathlib import Path  # Ensure pathlib is imported for file operations\n",
        "import rasterio\n",
        "from rasterio.plot import show\n",
        "from mpl_toolkits.axes_grid1.inset_locator import inset_axes\n",
        "import matplotlib.patches as patches\n",
        "from matplotlib.patches import ConnectionPatch\n",
        "import logging\n"
      ]
    },
    {
      "cell_type": "code",
      "execution_count": 3,
      "metadata": {},
      "outputs": [
        {
          "name": "stdout",
          "output_type": "stream",
          "text": [
            "ras_commander imported successfully\n"
          ]
        }
      ],
      "source": [
        "# This cell will try to import the pip package, if it fails it will \n",
        "# add the parent directory to the Python path and try to import again\n",
        "# This assumes you are working in a subfolder of the ras-commander repository\n",
        "# This allows a user's revisions to be tested locally without installing the package\n",
        "\n",
        "import sys\n",
        "from pathlib import Path\n",
        "\n",
        "# Flexible imports to allow for development without installation \n",
        "#  ** Use this version with Jupyter Notebooks **\n",
        "try:\n",
        "    # Try to import from the installed package\n",
        "    from ras_commander import *\n",
        "except ImportError:\n",
        "    # If the import fails, add the parent directory to the Python path\n",
        "    import os\n",
        "    current_file = Path(os.getcwd()).resolve()\n",
        "    rascmdr_directory = current_file.parent\n",
        "    sys.path.append(str(rascmdr_directory))\n",
        "    print(\"Loading ras-commander from local dev copy\")\n",
        "    # Now try to import again\n",
        "    from ras_commander import *\n",
        "print(\"ras_commander imported successfully\")\n"
      ]
    },
    {
      "cell_type": "markdown",
      "metadata": {},
      "source": [
        "# Use Example Project or Load Your Own Project"
      ]
    },
    {
      "cell_type": "code",
      "execution_count": 4,
      "metadata": {},
      "outputs": [
        {
          "name": "stderr",
          "output_type": "stream",
          "text": [
            "2025-03-19 17:39:57 - ras_commander.RasPrj - INFO - Initializing global 'ras' object via init_ras_project function.\n",
            "2025-03-19 17:39:57 - ras_commander.RasPrj - INFO - Project initialized. ras_object project folder: c:\\GH\\ras-commander\\examples\\example_projects\\BaldEagleCrkMulti2D\n"
          ]
        },
        {
          "name": "stdout",
          "output_type": "stream",
          "text": [
            "Project already exists. Skipping project extraction and plan execution.\n"
          ]
        }
      ],
      "source": [
        "# To Use the HEC Example Project:\n",
        "# Download the BaldEagleCrkMulti2D project from HEC and Run Plan 06\n",
        "\n",
        "# Define the path to the BaldEagleCrkMulti2D project\n",
        "current_dir = Path.cwd()  # Adjust if your notebook is in a different directory\n",
        "the_path = current_dir / \"example_projects\" / \"BaldEagleCrkMulti2D\"\n",
        "import logging\n",
        "\n",
        "# Check if BaldEagleCrkMulti2D.p06.hdf exists (so we don't have to re-run the simulation when re-running or debugging)\n",
        "hdf_file = the_path / \"BaldEagleDamBrk.p06.hdf\"\n",
        "\n",
        "if not hdf_file.exists():\n",
        "    # Initialize RasExamples and extract the BaldEagleCrkMulti2D project\n",
        "    RasExamples.extract_project([\"BaldEagleCrkMulti2D\"])\n",
        "\n",
        "    # Initialize the RAS project using the default global ras object\n",
        "    init_ras_project(the_path, \"6.6\")\n",
        "    logging.info(f\"Bald Eagle project initialized with folder: {ras.project_folder}\")\n",
        "    \n",
        "    logging.info(f\"Bald Eagle object id: {id(ras)}\")\n",
        "    \n",
        "    # Define the plan number to execute\n",
        "    plan_number = \"06\"\n",
        "\n",
        "    # Update run flags for the project\n",
        "    RasPlan.update_run_flags(\n",
        "        plan_number,\n",
        "        geometry_preprocessor=True,\n",
        "        unsteady_flow_simulation=True,\n",
        "        run_sediment=False,\n",
        "        post_processor=True,\n",
        "        floodplain_mapping=False\n",
        "    )\n",
        "\n",
        "    # Execute Plan 06 using RasCmdr for Bald Eagle\n",
        "    print(f\"Executing Plan {plan_number} for the Bald Eagle Creek project...\")\n",
        "    success_the = RasCmdr.compute_plan(plan_number)\n",
        "    if success_the:\n",
        "        print(f\"Plan {plan_number} executed successfully for Bald Eagle.\\n\")\n",
        "    else:\n",
        "        print(f\"Plan {plan_number} execution failed for Bald Eagle.\\n\")\n",
        "else:\n",
        "    print(\"Project already exists. Skipping project extraction and plan execution.\")\n",
        "    # Initialize the RAS project using the default global ras object\n",
        "    init_ras_project(the_path, \"6.6\")\n",
        "    plan_number = \"06\""
      ]
    },
    {
      "cell_type": "markdown",
      "metadata": {},
      "source": [
        "###  OPTIONAL: Use your own project instead\n",
        "\n",
        "your_project_path = Path(r\"D:\\yourprojectpath\")\n",
        "\n",
        "init_ras_project(your_project_path, \"6.6\")\n",
        "plan_number = \"01\"  # Plan number to use for this notebook \n",
        "\n",
        "\n",
        "\n",
        "### If you use this code cell, don't run the previous cell or change to markdown\n",
        "### NOTE: Ensure the HDF Results file was generated by HEC-RAS Version 6.x or above"
      ]
    },
    {
      "cell_type": "markdown",
      "metadata": {},
      "source": [
        "-----"
      ]
    },
    {
      "cell_type": "markdown",
      "metadata": {},
      "source": [
        "# Explore Project Dataframes using 'ras' Object"
      ]
    },
    {
      "cell_type": "code",
      "execution_count": 5,
      "metadata": {},
      "outputs": [
        {
          "data": {
            "text/html": "<div>\n<style scoped>\\n', '    .dataframe tbody tr th:only-of-type {\\n', '        vertical-align: middle;\\n', '    }\\n', '\\n', '    .dataframe tbody tr th {\\n', '        vertical-align: top;\\n', '    }\\n', '\\n', '    .dataframe thead th {\\n', '        text-align: right;\\n', '    }\\n', '</style>\n<table border=\"1\" class=\"dataframe\">\n  <thead>\\n', '    <tr style=\"text-align: right;\">\\n', '      <th></th>\\n', '      <th>plan_number</th>\\n', '      <th>unsteady_number</th>\\n', '      <th>geometry_number</th>\\n', '      <th>Plan Title</th>\\n', '      <th>Program Version</th>\\n', '      <th>Short Identifier</th>\\n', '      <th>Simulation Date</th>\\n', '      <th>Computation Interval</th>\\n', '      <th>Mapping Interval</th>\\n', '      <th>Run HTab</th>\\n', '      <th>...</th>\\n', '      <th>DSS File</th>\\n', '      <th>Friction Slope Method</th>\\n', '      <th>UNET D2 SolverType</th>\\n', '      <th>UNET D2 Name</th>\\n', '      <th>HDF_Results_Path</th>\\n', '      <th>Geom File</th>\\n', '      <th>Geom Path</th>\\n', '      <th>Flow File</th>\\n', '      <th>Flow Path</th>\\n', '      <th>full_path</th>\\n', '    </tr>\\n', '  </thead>\n  <tbody>\n    <tr>\\n', '      <th>0</th>\\n', '      <td>13</td>\\n', '      <td>07</td>\\n', '      <td>06</td>\\n', '      <td>PMF with Multi 2D Areas</td>\\n', '      <td>5.10</td>\\n', '      <td>PMF Multi 2D</td>\\n', '      <td>01JAN1999,1200,04JAN1999,1200</td>\\n', '      <td>30SEC</td>\\n', '      <td>30MIN</td>\\n', '      <td>1</td>\\n', '      <td>...</td>\\n', '      <td>dss</td>\\n', '      <td>1</td>\\n', '      <td>Pardiso (Direct)</td>\\n', '      <td>193</td>\\n', '      <td>None</td>\\n', '      <td>06</td>\\n', '      <td>c:\\\\GH\\\\ras-commander\\\\examples\\\\example_projects\\\\...</td>\\n', '      <td>07</td>\\n', '      <td>c:\\\\GH\\\\ras-commander\\\\examples\\\\example_projects\\\\...</td>\\n', '      <td>c:\\\\GH\\\\ras-commander\\\\examples\\\\example_projects\\\\...</td>\\n', '    </tr><tr>\\n', '      <th>1</th>\\n', '      <td>15</td>\\n', '      <td>12</td>\\n', '      <td>08</td>\\n', '      <td>1d-2D Dambreak Refined Grid</td>\\n', '      <td>5.10</td>\\n', '      <td>1D-2D Refined Grid</td>\\n', '      <td>01JAN1999,1200,04JAN1999,1200</td>\\n', '      <td>20SEC</td>\\n', '      <td>5MIN</td>\\n', '      <td>1</td>\\n', '      <td>...</td>\\n', '      <td>dss</td>\\n', '      <td>1</td>\\n', '      <td>NaN</td>\\n', '      <td>BaldEagleCr</td>\\n', '      <td>None</td>\\n', '      <td>08</td>\\n', '      <td>c:\\\\GH\\\\ras-commander\\\\examples\\\\example_projects\\\\...</td>\\n', '      <td>12</td>\\n', '      <td>c:\\\\GH\\\\ras-commander\\\\examples\\\\example_projects\\\\...</td>\\n', '      <td>c:\\\\GH\\\\ras-commander\\\\examples\\\\example_projects\\\\...</td>\\n', '    </tr><tr>\\n', '      <th>2</th>\\n', '      <td>17</td>\\n', '      <td>09</td>\\n', '      <td>10</td>\\n', '      <td>2D to 1D No Dam</td>\\n', '      <td>5.00</td>\\n', '      <td>2D to 1D No Dam</td>\\n', '      <td>01JAN1999,1200,06JAN1999,1200</td>\\n', '      <td>1MIN</td>\\n', '      <td>5MIN</td>\\n', '      <td>1</td>\\n', '      <td>...</td>\\n', '      <td>dss</td>\\n', '      <td>1</td>\\n', '      <td>NaN</td>\\n', '      <td>Upstream2D</td>\\n', '      <td>None</td>\\n', '      <td>10</td>\\n', '      <td>c:\\\\GH\\\\ras-commander\\\\examples\\\\example_projects\\\\...</td>\\n', '      <td>09</td>\\n', '      <td>c:\\\\GH\\\\ras-commander\\\\examples\\\\example_projects\\\\...</td>\\n', '      <td>c:\\\\GH\\\\ras-commander\\\\examples\\\\example_projects\\\\...</td>\\n', '    </tr><tr>\\n', '      <th>3</th>\\n', '      <td>18</td>\\n', '      <td>10</td>\\n', '      <td>11</td>\\n', '      <td>2D to 2D Run</td>\\n', '      <td>5.00</td>\\n', '      <td>2D to 2D Run</td>\\n', '      <td>01JAN1999,1200,04JAN1999,1200</td>\\n', '      <td>20SEC</td>\\n', '      <td>5MIN</td>\\n', '      <td>1</td>\\n', '      <td>...</td>\\n', '      <td>dss</td>\\n', '      <td>1</td>\\n', '      <td>NaN</td>\\n', '      <td>BaldEagleCr</td>\\n', '      <td>None</td>\\n', '      <td>11</td>\\n', '      <td>c:\\\\GH\\\\ras-commander\\\\examples\\\\example_projects\\\\...</td>\\n', '      <td>10</td>\\n', '      <td>c:\\\\GH\\\\ras-commander\\\\examples\\\\example_projects\\\\...</td>\\n', '      <td>c:\\\\GH\\\\ras-commander\\\\examples\\\\example_projects\\\\...</td>\\n', '    </tr><tr>\\n', '      <th>4</th>\\n', '      <td>19</td>\\n', '      <td>11</td>\\n', '      <td>12</td>\\n', '      <td>SA to 2D Dam Break Run</td>\\n', '      <td>5.00</td>\\n', '      <td>SA to 2D Dam Break</td>\\n', '      <td>01JAN1999,1200,04JAN1999,1200</td>\\n', '      <td>20SEC</td>\\n', '      <td>10MIN</td>\\n', '      <td>1</td>\\n', '      <td>...</td>\\n', '      <td>dss</td>\\n', '      <td>1</td>\\n', '      <td>NaN</td>\\n', '      <td>BaldEagleCr</td>\\n', '      <td>None</td>\\n', '      <td>12</td>\\n', '      <td>c:\\\\GH\\\\ras-commander\\\\examples\\\\example_projects\\\\...</td>\\n', '      <td>11</td>\\n', '      <td>c:\\\\GH\\\\ras-commander\\\\examples\\\\example_projects\\\\...</td>\\n', '      <td>c:\\\\GH\\\\ras-commander\\\\examples\\\\example_projects\\\\...</td>\\n', '    </tr>\n    <tr><td colspan=\"100%\" style=\"text-align:center\">[... additional rows truncated ...]</td></tr>\n  </tbody>\n</table>\n</div>",
            "text/plain": "['   plan_number unsteady_number geometry_number  \\\\\\n', '0           13              07              06   \\n', '1           15              12              08   \\n', '2           17              09              10   \\n', '3           18              10              11   \\n', '4           19              11              12   \\n', '5           03              13              09   \\n', '6           04              01              13   \\n', '7           02              01              01   \\n', '8           01              01              01   \\n', '9           05              02              03   \\n', '10          06              03              09   \\n', '\\n', '                                 Plan Title Program Version  \\\\\\n', '0                   PMF with Multi 2D Areas            5.10   \\n', '1               1d-2D Dambreak Refined Grid            5.10   \\n', '2                           2D to 1D No Dam            5.00   \\n', '3                              2D to 2D Run            5.0\n...\n[Output truncated, 7410 characters total]"
          },
          "execution_count": 5,
          "metadata": {},
          "output_type": "execute_result"
        }
      ],
      "source": [
        "# Show ras object info\n",
        "ras.plan_df"
      ]
    },
    {
      "cell_type": "code",
      "execution_count": 6,
      "metadata": {},
      "outputs": [
        {
          "data": {
            "text/html": "<div>\n<style scoped>\\n', '    .dataframe tbody tr th:only-of-type {\\n', '        vertical-align: middle;\\n', '    }\\n', '\\n', '    .dataframe tbody tr th {\\n', '        vertical-align: top;\\n', '    }\\n', '\\n', '    .dataframe thead th {\\n', '        text-align: right;\\n', '    }\\n', '</style>\n<table border=\"1\" class=\"dataframe\">\n  <thead>\\n', '    <tr style=\"text-align: right;\">\\n', '      <th></th>\\n', '      <th>unsteady_number</th>\\n', '      <th>full_path</th>\\n', '      <th>geometry_number</th>\\n', '      <th>Flow Title</th>\\n', '      <th>Program Version</th>\\n', '      <th>Use Restart</th>\\n', '      <th>Precipitation Mode</th>\\n', '      <th>Wind Mode</th>\\n', '      <th>Met BC=Precipitation|Mode</th>\\n', '      <th>Met BC=Evapotranspiration|Mode</th>\\n', '      <th>Met BC=Precipitation|Expanded View</th>\\n', '      <th>Met BC=Precipitation|Constant Units</th>\\n', '      <th>Met BC=Precipitation|Gridded Source</th>\\n', '    </tr>\\n', '  </thead>\n  <tbody>\n    <tr>\\n', '      <th>0</th>\\n', '      <td>07</td>\\n', '      <td>c:\\\\GH\\\\ras-commander\\\\examples\\\\example_projects\\\\...</td>\\n', '      <td>None</td>\\n', '      <td>PMF with Multi 2D Areas</td>\\n', '      <td>5.00</td>\\n', '      <td>0</td>\\n', '      <td>NaN</td>\\n', '      <td>NaN</td>\\n', '      <td>NaN</td>\\n', '      <td>NaN</td>\\n', '      <td>NaN</td>\\n', '      <td>NaN</td>\\n', '      <td>NaN</td>\\n', '    </tr><tr>\\n', '      <th>1</th>\\n', '      <td>08</td>\\n', '      <td>c:\\\\GH\\\\ras-commander\\\\examples\\\\example_projects\\\\...</td>\\n', '      <td>None</td>\\n', '      <td>PMF for Upstream 2D</td>\\n', '      <td>4.20</td>\\n', '      <td>0</td>\\n', '      <td>NaN</td>\\n', '      <td>NaN</td>\\n', '      <td>NaN</td>\\n', '      <td>NaN</td>\\n', '      <td>NaN</td>\\n', '      <td>NaN</td>\\n', '      <td>NaN</td>\\n', '    </tr><tr>\\n', '      <th>2</th>\\n', '      <td>09</td>\\n', '      <td>c:\\\\GH\\\\ras-commander\\\\examples\\\\example_projects\\\\...</td>\\n', '      <td>None</td>\\n', '      <td>Upstream 2D</td>\\n', '      <td>5.00</td>\\n', '      <td>0</td>\\n', '      <td>NaN</td>\\n', '      <td>NaN</td>\\n', '      <td>NaN</td>\\n', '      <td>NaN</td>\\n', '      <td>NaN</td>\\n', '      <td>NaN</td>\\n', '      <td>NaN</td>\\n', '    </tr><tr>\\n', '      <th>3</th>\\n', '      <td>10</td>\\n', '      <td>c:\\\\GH\\\\ras-commander\\\\examples\\\\example_projects\\\\...</td>\\n', '      <td>None</td>\\n', '      <td>1972 Flood Event - 2D to 2D Run</td>\\n', '      <td>5.00</td>\\n', '      <td>0</td>\\n', '      <td>NaN</td>\\n', '      <td>NaN</td>\\n', '      <td>NaN</td>\\n', '      <td>NaN</td>\\n', '      <td>NaN</td>\\n', '      <td>NaN</td>\\n', '      <td>NaN</td>\\n', '    </tr><tr>\\n', '      <th>4</th>\\n', '      <td>11</td>\\n', '      <td>c:\\\\GH\\\\ras-commander\\\\examples\\\\example_projects\\\\...</td>\\n', '      <td>None</td>\\n', '      <td>1972 Flood Event - SA to 2D Run</td>\\n', '      <td>5.00</td>\\n', '      <td>0</td>\\n', '      <td>NaN</td>\\n', '      <td>NaN</td>\\n', '      <td>NaN</td>\\n', '      <td>NaN</td>\\n', '      <td>NaN</td>\\n', '      <td>NaN</td>\\n', '      <td>NaN</td>\\n', '    </tr>\n    <tr><td colspan=\"100%\" style=\"text-align:center\">[... additional rows truncated ...]</td></tr>\n  </tbody>\n</table>\n</div>",
            "text/plain": "['  unsteady_number                                          full_path  \\\\\\n', '0              07  c:\\\\GH\\\\ras-commander\\\\examples\\\\example_projects\\\\...   \\n', '1              08  c:\\\\GH\\\\ras-commander\\\\examples\\\\example_projects\\\\...   \\n', '2              09  c:\\\\GH\\\\ras-commander\\\\examples\\\\example_projects\\\\...   \\n', '3              10  c:\\\\GH\\\\ras-commander\\\\examples\\\\example_projects\\\\...   \\n', '4              11  c:\\\\GH\\\\ras-commander\\\\examples\\\\example_projects\\\\...   \\n', '5              12  c:\\\\GH\\\\ras-commander\\\\examples\\\\example_projects\\\\...   \\n', '6              13  c:\\\\GH\\\\ras-commander\\\\examples\\\\example_projects\\\\...   \\n', '7              01  c:\\\\GH\\\\ras-commander\\\\examples\\\\example_projects\\\\...   \\n', '8              02  c:\\\\GH\\\\ras-commander\\\\examples\\\\example_projects\\\\...   \\n', '9              03  c:\\\\GH\\\\ras-commander\\\\examples\\\\example_projects\\\\...   \\n', '\\n', '  geometry_number                            Flow Title Program Version  \\\\\\n', '0            \n...\n[Output truncated, 4443 characters total]"
          },
          "execution_count": 6,
          "metadata": {},
          "output_type": "execute_result"
        }
      ],
      "source": [
        "ras.unsteady_df"
      ]
    },
    {
      "cell_type": "code",
      "execution_count": 7,
      "metadata": {},
      "outputs": [
        {
          "data": {
            "text/html": "<div>\n<style scoped>\\n', '    .dataframe tbody tr th:only-of-type {\\n', '        vertical-align: middle;\\n', '    }\\n', '\\n', '    .dataframe tbody tr th {\\n', '        vertical-align: top;\\n', '    }\\n', '\\n', '    .dataframe thead th {\\n', '        text-align: right;\\n', '    }\\n', '</style>\n<table border=\"1\" class=\"dataframe\">\n  <thead>\\n', '    <tr style=\"text-align: right;\">\\n', '      <th></th>\\n', '      <th>unsteady_number</th>\\n', '      <th>boundary_condition_number</th>\\n', '      <th>river_reach_name</th>\\n', '      <th>river_station</th>\\n', '      <th>storage_area_name</th>\\n', '      <th>pump_station_name</th>\\n', '      <th>bc_type</th>\\n', '      <th>hydrograph_type</th>\\n', '      <th>Interval</th>\\n', '      <th>DSS File</th>\\n', '      <th>...</th>\\n', '      <th>Flow Title</th>\\n', '      <th>Program Version</th>\\n', '      <th>Use Restart</th>\\n', '      <th>Precipitation Mode</th>\\n', '      <th>Wind Mode</th>\\n', '      <th>Met BC=Precipitation|Mode</th>\\n', '      <th>Met BC=Evapotranspiration|Mode</th>\\n', '      <th>Met BC=Precipitation|Expanded View</th>\\n', '      <th>Met BC=Precipitation|Constant Units</th>\\n', '      <th>Met BC=Precipitation|Gridded Source</th>\\n', '    </tr>\\n', '  </thead>\n  <tbody>\n    <tr>\\n', '      <th>0</th>\\n', '      <td>07</td>\\n', '      <td>1</td>\\n', '      <td>Bald Eagle Cr.</td>\\n', '      <td>Lock Haven</td>\\n', '      <td>137520</td>\\n', '      <td></td>\\n', '      <td>Flow Hydrograph</td>\\n', '      <td>Flow Hydrograph</td>\\n', '      <td>1HOUR</td>\\n', '      <td>Bald_Eagle_Creek.dss</td>\\n', '      <td>...</td>\\n', '      <td>PMF with Multi 2D Areas</td>\\n', '      <td>5.00</td>\\n', '      <td>0</td>\\n', '      <td>NaN</td>\\n', '      <td>NaN</td>\\n', '      <td>NaN</td>\\n', '      <td>NaN</td>\\n', '      <td>NaN</td>\\n', '      <td>NaN</td>\\n', '      <td>NaN</td>\\n', '    </tr><tr>\\n', '      <th>1</th>\\n', '      <td>07</td>\\n', '      <td>2</td>\\n', '      <td>Bald Eagle Cr.</td>\\n', '      <td>Lock Haven</td>\\n', '      <td>81454</td>\\n', '      <td></td>\\n', '      <td>Gate Opening</td>\\n', '      <td>None</td>\\n', '      <td>NaN</td>\\n', '      <td>NaN</td>\\n', '      <td>...</td>\\n', '      <td>PMF with Multi 2D Areas</td>\\n', '      <td>5.00</td>\\n', '      <td>0</td>\\n', '      <td>NaN</td>\\n', '      <td>NaN</td>\\n', '      <td>NaN</td>\\n', '      <td>NaN</td>\\n', '      <td>NaN</td>\\n', '      <td>NaN</td>\\n', '      <td>NaN</td>\\n', '    </tr><tr>\\n', '      <th>2</th>\\n', '      <td>07</td>\\n', '      <td>3</td>\\n', '      <td>Bald Eagle Cr.</td>\\n', '      <td>Lock Haven</td>\\n', '      <td>28519</td>\\n', '      <td></td>\\n', '      <td>Lateral Inflow Hydrograph</td>\\n', '      <td>Lateral Inflow Hydrograph</td>\\n', '      <td>1HOUR</td>\\n', '      <td>Bald_Eagle_Creek.dss</td>\\n', '      <td>...</td>\\n', '      <td>PMF with Multi 2D Areas</td>\\n', '      <td>5.00</td>\\n', '      <td>0</td>\\n', '      <td>NaN</td>\\n', '      <td>NaN</td>\\n', '      <td>NaN</td>\\n', '      <td>NaN</td>\\n', '      <td>NaN</td>\\n', '      <td>NaN</td>\\n', '      <td>NaN</td>\\n', '    </tr><tr>\\n', '      <th>3</th>\\n', '      <td>07</td>\\n', '      <td>4</td>\\n', '      <td>Bald Eagle Cr.</td>\\n', '      <td>Lock Haven</td>\\n', '      <td>1</td>\\n', '      <td></td>\\n', '      <td>Lateral Inflow Hydrograph</td>\\n', '      <td>Lateral Inflow Hydrograph</td>\\n', '      <td>1HOUR</td>\\n', '      <td>NaN</td>\\n', '      <td>...</td>\\n', '      <td>PMF with Multi 2D Areas</td>\\n', '      <td>5.00</td>\\n', '      <td>0</td>\\n', '      <td>NaN</td>\\n', '      <td>NaN</td>\\n', '      <td>NaN</td>\\n', '      <td>NaN</td>\\n', '      <td>NaN</td>\\n', '      <td>NaN</td>\\n', '      <td>NaN</td>\\n', '    </tr><tr>\\n', '      <th>4</th>\\n', '      <td>07</td>\\n', '      <td>5</td>\\n', '      <td>Bald Eagle Cr.</td>\\n', '      <td>Lock Haven</td>\\n', '      <td>136948</td>\\n', '      <td>82303</td>\\n', '      <td>Uniform Lateral Inflow Hydrograph</td>\\n', '      <td>Uniform Lateral Inflow Hydrograph</td>\\n', '      <td>1HOUR</td>\\n', '      <td>Bald_Eagle_Creek.dss</td>\\n', '      <td>...</td>\\n', '      <td>PMF with Multi 2D Areas</td>\\n', '      <td>5.00</td>\\n', '      <td>0</td>\\n', '      <td>NaN</td>\\n', '      <td>NaN</td>\\n', '      <td>NaN</td>\\n', '      <td>NaN</td>\\n', '      <td>NaN</td>\\n', '      <td>NaN</td>\\n', '      <td>NaN</td>\\n', '    </tr>\n    <tr><td colspan=\"100%\" style=\"text-align:center\">[... additional rows truncated ...]</td></tr>\n  </tbody>\n</table>\n</div>",
            "text/plain": "['   unsteady_number  boundary_condition_number river_reach_name river_station  \\\\\\n', '0               07                          1   Bald Eagle Cr.    Lock Haven   \\n', '1               07                          2   Bald Eagle Cr.    Lock Haven   \\n', '2               07                          3   Bald Eagle Cr.    Lock Haven   \\n', '3               07                          4   Bald Eagle Cr.    Lock Haven   \\n', '4               07                          5   Bald Eagle Cr.    Lock Haven   \\n', '5               07                          6   Bald Eagle Cr.    Lock Haven   \\n', '6               07                          7   Bald Eagle Cr.    Lock Haven   \\n', '7               07                          8   Bald Eagle Cr.    Lock Haven   \\n', '8               07                          9   Bald Eagle Cr.    Lock Haven   \\n', '9               07                         10   Bald Eagle Cr.    Lock Haven   \\n', '10              08                          1   Bald Eagle Cr.\n...\n[Output truncated, 29090 characters total]"
          },
          "execution_count": 7,
          "metadata": {},
          "output_type": "execute_result"
        }
      ],
      "source": [
        "ras.boundaries_df "
      ]
    },
    {
      "cell_type": "code",
      "execution_count": 8,
      "metadata": {},
      "outputs": [
        {
          "data": {
            "text/html": "<div>\n<style scoped>\\n', '    .dataframe tbody tr th:only-of-type {\\n', '        vertical-align: middle;\\n', '    }\\n', '\\n', '    .dataframe tbody tr th {\\n', '        vertical-align: top;\\n', '    }\\n', '\\n', '    .dataframe thead th {\\n', '        text-align: right;\\n', '    }\\n', '</style>\n<table border=\"1\" class=\"dataframe\">\n  <thead>\\n', '    <tr style=\"text-align: right;\">\\n', '      <th></th>\\n', '      <th>plan_number</th>\\n', '      <th>unsteady_number</th>\\n', '      <th>geometry_number</th>\\n', '      <th>Plan Title</th>\\n', '      <th>Program Version</th>\\n', '      <th>Short Identifier</th>\\n', '      <th>Simulation Date</th>\\n', '      <th>Computation Interval</th>\\n', '      <th>Mapping Interval</th>\\n', '      <th>Run HTab</th>\\n', '      <th>...</th>\\n', '      <th>DSS File</th>\\n', '      <th>Friction Slope Method</th>\\n', '      <th>UNET D2 SolverType</th>\\n', '      <th>UNET D2 Name</th>\\n', '      <th>HDF_Results_Path</th>\\n', '      <th>Geom File</th>\\n', '      <th>Geom Path</th>\\n', '      <th>Flow File</th>\\n', '      <th>Flow Path</th>\\n', '      <th>full_path</th>\\n', '    </tr>\\n', '  </thead>\n  <tbody>\n    <tr>\\n', '      <th>10</th>\\n', '      <td>06</td>\\n', '      <td>03</td>\\n', '      <td>09</td>\\n', '      <td>Gridded Precip - Infiltration</td>\\n', '      <td>6.00</td>\\n', '      <td>Grid Precip Infiltration</td>\\n', '      <td>09SEP2018,0000,14SEP2018,0000</td>\\n', '      <td>20SEC</td>\\n', '      <td>10MIN</td>\\n', '      <td>1</td>\\n', '      <td>...</td>\\n', '      <td>dss</td>\\n', '      <td>1</td>\\n', '      <td>Pardiso (Direct)</td>\\n', '      <td>BaldEagleCr</td>\\n', '      <td>c:\\\\GH\\\\ras-commander\\\\examples\\\\example_projects\\\\...</td>\\n', '      <td>09</td>\\n', '      <td>c:\\\\GH\\\\ras-commander\\\\examples\\\\example_projects\\\\...</td>\\n', '      <td>03</td>\\n', '      <td>c:\\\\GH\\\\ras-commander\\\\examples\\\\example_projects\\\\...</td>\\n', '      <td>c:\\\\GH\\\\ras-commander\\\\examples\\\\example_projects\\\\...</td>\\n', '    </tr>\n    <tr><td colspan=\"100%\" style=\"text-align:center\">[... additional rows truncated ...]</td></tr>\n  </tbody>\n</table>\n</div>",
            "text/plain": "['   plan_number unsteady_number geometry_number                     Plan Title  \\\\\\n', '10          06              03              09  Gridded Precip - Infiltration   \\n', '\\n', '   Program Version          Short Identifier                Simulation Date  \\\\\\n', '10            6.00  Grid Precip Infiltration  09SEP2018,0000,14SEP2018,0000   \\n', '\\n', '   Computation Interval Mapping Interval Run HTab  ... DSS File  \\\\\\n', '10                20SEC            10MIN        1  ...      dss   \\n', '\\n', '   Friction Slope Method UNET D2 SolverType UNET D2 Name  \\\\\\n', '10                     1   Pardiso (Direct)  BaldEagleCr   \\n', '\\n', '                                     HDF_Results_Path Geom File  \\\\\\n', '10  c:\\\\GH\\\\ras-commander\\\\examples\\\\example_projects\\\\...        09   \\n', '\\n', '                                            Geom Path  Flow File  \\\\\\n', '10  c:\\\\GH\\\\ras-commander\\\\examples\\\\example_projects\\\\...         03   \\n', '\\n', '                                            Flow Path  \\\\\\n', '10  c:\\\\GH\\\\ras-commander\\\\examples\\\\example_projects\\\\...   \\n', '\\n', '                                            full_path  \\n', '10  c:\\\\GH\\\\ras-commander\\\\examples\\\\example_projects\\\\...  \\n', '\\n', '[1 rows x 29 columns]']"
          },
          "execution_count": 8,
          "metadata": {},
          "output_type": "execute_result"
        }
      ],
      "source": [
        "ras.get_hdf_entries()"
      ]
    },
    {
      "cell_type": "markdown",
      "metadata": {},
      "source": [
        "# Find Paths for Results and Geometry HDF's"
      ]
    },
    {
      "cell_type": "code",
      "execution_count": 9,
      "metadata": {},
      "outputs": [],
      "source": [
        "# Get the plan HDF path for the plan_number defined above\n",
        "plan_hdf_path = ras.plan_df.loc[ras.plan_df['plan_number'] == plan_number, 'HDF_Results_Path'].values[0]"
      ]
    },
    {
      "cell_type": "code",
      "execution_count": 10,
      "metadata": {},
      "outputs": [
        {
          "data": {
            "text/plain": "[\"'c:\\\\\\\\GH\\\\\\\\ras-commander\\\\\\\\examples\\\\\\\\example_projects\\\\\\\\BaldEagleCrkMulti2D\\\\\\\\BaldEagleDamBrk.p06.hdf'\"]"
          },
          "execution_count": 10,
          "metadata": {},
          "output_type": "execute_result"
        }
      ],
      "source": [
        "plan_hdf_path"
      ]
    },
    {
      "cell_type": "code",
      "execution_count": 11,
      "metadata": {},
      "outputs": [],
      "source": [
        "# Alternate: Get the geometry HDF path if you are extracting geometry elements from the geometry HDF\n",
        "geom_hdf_path = ras.plan_df.loc[ras.plan_df['plan_number'] == plan_number, 'Geom Path'].values[0] + '.hdf'"
      ]
    },
    {
      "cell_type": "code",
      "execution_count": 12,
      "metadata": {},
      "outputs": [
        {
          "data": {
            "text/plain": "[\"'c:\\\\\\\\GH\\\\\\\\ras-commander\\\\\\\\examples\\\\\\\\example_projects\\\\\\\\BaldEagleCrkMulti2D\\\\\\\\BaldEagleDamBrk.g09.hdf'\"]"
          },
          "execution_count": 12,
          "metadata": {},
          "output_type": "execute_result"
        }
      ],
      "source": [
        "geom_hdf_path"
      ]
    },
    {
      "cell_type": "markdown",
      "metadata": {},
      "source": [
        "## RAS-Commander's Decorators Allow for Flexible Function Calling\n",
        "You can call most of the functions in the HDF* Classes using any of the following:\n",
        "1. Plan/Geometry Number (with or without leading zeros):\n",
        "   - \"01\", \"1\" - Plan/geometry number as string\n",
        "   - 1 - Plan/geometry number as integer\n",
        "   - \"p01\", \"p1\" - Plan number with 'p' prefix\n",
        "2. Direct File Paths:\n",
        "   - pathlib.Path object pointing to HDF file\n",
        "   - String path to HDF file\n",
        "\n",
        "3. h5py.File Objects:\n",
        "   - Already opened HDF file object\n",
        "\n",
        "The @standardize_input decorator handles all these input types consistently:\n",
        "   - Validates the input exists and is accessible\n",
        "   - Converts to proper pathlib.Path object\n",
        "   - Handles RAS object references\n",
        "   - Provides logging and error handling\n",
        "\n",
        "This flexibility makes it easier to work with HDF files in different contexts while maintaining consistent behavior \n",
        "across the codebase, and helps prevent strict typing from introducing unnecessary friction for LLM Coding.\n"
      ]
    },
    {
      "cell_type": "markdown",
      "metadata": {},
      "source": [
        "-----"
      ]
    },
    {
      "cell_type": "markdown",
      "metadata": {},
      "source": [
        "# 2D HDF Data Extraction Examples"
      ]
    },
    {
      "cell_type": "code",
      "execution_count": 13,
      "metadata": {},
      "outputs": [
        {
          "name": "stderr",
          "output_type": "stream",
          "text": [
            "2025-03-19 17:39:57 - ras_commander.HdfResultsPlan - INFO - Final validated HDF file path: c:\\GH\\ras-commander\\examples\\example_projects\\BaldEagleCrkMulti2D\\BaldEagleDamBrk.p06.hdf\n",
            "2025-03-19 17:39:57 - ras_commander.HdfResultsPlan - INFO - Extracting Plan Information from: BaldEagleDamBrk.p06.hdf\n",
            "2025-03-19 17:39:57 - ras_commander.HdfResultsPlan - INFO - Plan Name: Gridded Precip - Infiltration\n",
            "2025-03-19 17:39:57 - ras_commander.HdfResultsPlan - INFO - Simulation Duration (hours): 120.0\n"
          ]
        },
        {
          "name": "stdout",
          "output_type": "stream",
          "text": [
            "\n",
            "Extracting runtime and compute time data\n"
          ]
        }
      ],
      "source": [
        "# Extract runtime and compute time data as dataframe\n",
        "print(\"\\nExtracting runtime and compute time data\")\n",
        "runtime_df = HdfResultsPlan.get_runtime_data(hdf_path=plan_number)"
      ]
    },
    {
      "cell_type": "code",
      "execution_count": 14,
      "metadata": {},
      "outputs": [
        {
          "data": {
            "text/html": "<div>\n<style scoped>\\n', '    .dataframe tbody tr th:only-of-type {\\n', '        vertical-align: middle;\\n', '    }\\n', '\\n', '    .dataframe tbody tr th {\\n', '        vertical-align: top;\\n', '    }\\n', '\\n', '    .dataframe thead th {\\n', '        text-align: right;\\n', '    }\\n', '</style>\n<table border=\"1\" class=\"dataframe\">\n  <thead>\\n', '    <tr style=\"text-align: right;\">\\n', '      <th></th>\\n', '      <th>Plan Name</th>\\n', '      <th>File Name</th>\\n', '      <th>Simulation Start Time</th>\\n', '      <th>Simulation End Time</th>\\n', '      <th>Simulation Duration (s)</th>\\n', '      <th>Simulation Time (hr)</th>\\n', '      <th>Completing Geometry (hr)</th>\\n', '      <th>Preprocessing Geometry (hr)</th>\\n', '      <th>Completing Event Conditions (hr)</th>\\n', '      <th>Unsteady Flow Computations (hr)</th>\\n', '      <th>Complete Process (hr)</th>\\n', '      <th>Unsteady Flow Speed (hr/hr)</th>\\n', '      <th>Complete Process Speed (hr/hr)</th>\\n', '    </tr>\\n', '  </thead>\n  <tbody>\n    <tr>\\n', '      <th>0</th>\\n', '      <td>Gridded Precip - Infiltration</td>\\n', '      <td>BaldEagleDamBrk.p06.hdf</td>\\n', '      <td>2018-09-09</td>\\n', '      <td>2018-09-14</td>\\n', '      <td>432000.0</td>\\n', '      <td>120.0</td>\\n', '      <td>N/A</td>\\n', '      <td>0.000026</td>\\n', '      <td>N/A</td>\\n', '      <td>0.07388</td>\\n', '      <td>0.080174</td>\\n', '      <td>1624.249443</td>\\n', '      <td>1496.751841</td>\\n', '    </tr>\n    <tr><td colspan=\"100%\" style=\"text-align:center\">[... additional rows truncated ...]</td></tr>\n  </tbody>\n</table>\n</div>",
            "text/plain": "['                       Plan Name                File Name  \\\\\\n', '0  Gridded Precip - Infiltration  BaldEagleDamBrk.p06.hdf   \\n', '\\n', '  Simulation Start Time Simulation End Time  Simulation Duration (s)  \\\\\\n', '0            2018-09-09          2018-09-14                 432000.0   \\n', '\\n', '   Simulation Time (hr) Completing Geometry (hr)  Preprocessing Geometry (hr)  \\\\\\n', '0                 120.0                      N/A                     0.000026   \\n', '\\n', '  Completing Event Conditions (hr)  Unsteady Flow Computations (hr)  \\\\\\n', '0                              N/A                          0.07388   \\n', '\\n', '   Complete Process (hr)  Unsteady Flow Speed (hr/hr)  \\\\\\n', '0               0.080174                  1624.249443   \\n', '\\n', '   Complete Process Speed (hr/hr)  \\n', '0                     1496.751841  ']"
          },
          "execution_count": 14,
          "metadata": {},
          "output_type": "execute_result"
        }
      ],
      "source": [
        "runtime_df"
      ]
    },
    {
      "cell_type": "code",
      "execution_count": 15,
      "metadata": {},
      "outputs": [
        {
          "name": "stdout",
          "output_type": "stream",
          "text": [
            "c:\\GH\\ras-commander\\examples\\example_projects\\BaldEagleCrkMulti2D\\BaldEagleDamBrk.g09.hdf\n"
          ]
        }
      ],
      "source": [
        "# For all of the RasGeomHdf Class Functions, we will use geom_hdf_path\n",
        "print(geom_hdf_path)\n",
        "\n",
        "# For the example project, plan 06 is associated with geometry 09\n",
        "# If you want to call the geometry by number, call RasHdfGeom functions with a number\n",
        "# Otherwise, if you want to look up geometry hdf path by plan number, follow the logic in the previous code cells"
      ]
    },
    {
      "cell_type": "code",
      "execution_count": 16,
      "metadata": {},
      "outputs": [
        {
          "name": "stderr",
          "output_type": "stream",
          "text": [
            "2025-03-19 17:39:57 - ras_commander.HdfBase - INFO - Using HDF file from direct string path: c:\\GH\\ras-commander\\examples\\example_projects\\BaldEagleCrkMulti2D\\BaldEagleDamBrk.g09.hdf\n",
            "2025-03-19 17:39:57 - ras_commander.HdfBase - INFO - Final validated HDF file path: c:\\GH\\ras-commander\\examples\\example_projects\\BaldEagleCrkMulti2D\\BaldEagleDamBrk.g09.hdf\n",
            "2025-03-19 17:39:57 - ras_commander.HdfBase - INFO - Found projection in HDF file: c:\\GH\\ras-commander\\examples\\example_projects\\BaldEagleCrkMulti2D\\BaldEagleDamBrk.g09.hdf\n"
          ]
        },
        {
          "name": "stdout",
          "output_type": "stream",
          "text": [
            "\n",
            "Extracting Projection from HDF\n"
          ]
        }
      ],
      "source": [
        "# Use HdfUtils for extracting projection\n",
        "print(\"\\nExtracting Projection from HDF\")\n",
        "projection = HdfBase.get_projection(hdf_path=geom_hdf_path)\n"
      ]
    },
    {
      "cell_type": "code",
      "execution_count": 17,
      "metadata": {},
      "outputs": [
        {
          "data": {
            "text/plain": "['\\'PROJCS[\"NAD_1983_StatePlane_Pennsylvania_North_FIPS_3701_Feet\",GEOGCS[\"GCS_North_American_1983\",DATUM[\"D_North_American_1983\",SPHEROID[\"GRS_1980\",6378137.0,298.257222101]],PRIMEM[\"Greenwich\",0.0],UNIT[\"Degree\",0.0174532925199433]],PROJECTION[\"Lambert_Conformal_Conic\"],PARAMETER[\"False_Easting\",1968500.0],PARAMETER[\"False_Northing\",0.0],PARAMETER[\"Central_Meridian\",-77.75],PARAMETER[\"Standard_Parallel_1\",40.88333333333333],PARAMETER[\"Standard_Parallel_2\",41.95],PARAMETER[\"Latitude_Of_Origin\",40.16666666666666],UNIT[\"Foot_US\",0.3048006096012192]]\\'']"
          },
          "execution_count": 17,
          "metadata": {},
          "output_type": "execute_result"
        }
      ],
      "source": [
        "projection"
      ]
    },
    {
      "cell_type": "code",
      "execution_count": 18,
      "metadata": {},
      "outputs": [
        {
          "name": "stderr",
          "output_type": "stream",
          "text": [
            "2025-03-19 17:39:57 - ras_commander.HdfPlan - INFO - Using HDF file from direct string path: c:\\GH\\ras-commander\\examples\\example_projects\\BaldEagleCrkMulti2D\\BaldEagleDamBrk.g09.hdf\n",
            "2025-03-19 17:39:57 - ras_commander.HdfPlan - INFO - Final validated HDF file path: c:\\GH\\ras-commander\\examples\\example_projects\\BaldEagleCrkMulti2D\\BaldEagleDamBrk.g09.hdf\n"
          ]
        },
        {
          "name": "stdout",
          "output_type": "stream",
          "text": [
            "\n",
            "Extracting Geometry Information\n",
            "Getting geometry attributes from c:\\GH\\ras-commander\\examples\\example_projects\\BaldEagleCrkMulti2D\\BaldEagleDamBrk.g09.hdf\n",
            "Checking for Geometry group in c:\\GH\\ras-commander\\examples\\example_projects\\BaldEagleCrkMulti2D\\BaldEagleDamBrk.g09.hdf\n",
            "Getting root level geometry attributes\n",
            "Successfully extracted root level geometry attributes\n"
          ]
        }
      ],
      "source": [
        "# Use HdfPlan for geometry-related operations\n",
        "print(\"\\nExtracting Geometry Information\")\n",
        "geom_attrs = HdfPlan.get_geometry_information(geom_hdf_path)"
      ]
    },
    {
      "cell_type": "code",
      "execution_count": 19,
      "metadata": {},
      "outputs": [
        {
          "data": {
            "text/html": "<div>\n<style scoped>\\n', '    .dataframe tbody tr th:only-of-type {\\n', '        vertical-align: middle;\\n', '    }\\n', '\\n', '    .dataframe tbody tr th {\\n', '        vertical-align: top;\\n', '    }\\n', '\\n', '    .dataframe thead th {\\n', '        text-align: right;\\n', '    }\\n', '</style>\n<table border=\"1\" class=\"dataframe\">\n  <thead>\\n', '    <tr style=\"text-align: right;\">\\n', '      <th></th>\\n', '      <th>Value</th>\\n', '    </tr>\\n', '  </thead>\n  <tbody>\n    <tr>\\n', '      <th>Complete Geometry</th>\\n', '      <td>True</td>\\n', '    </tr><tr>\\n', '      <th>Extents</th>\\n', '      <td>[1960041.35636708, 2092643.59732271, 285497.89...</td>\\n', '    </tr><tr>\\n', '      <th>Geometry Time</th>\\n', '      <td>2025-03-19 17:32:59</td>\\n', '    </tr><tr>\\n', '      <th>Infiltration Date Last Modified</th>\\n', '      <td>2022-03-11 13:52:44</td>\\n', '    </tr><tr>\\n', '      <th>Infiltration File Date</th>\\n', '      <td>2020-11-24 13:24:58</td>\\n', '    </tr>\n    <tr><td colspan=\"100%\" style=\"text-align:center\">[... additional rows truncated ...]</td></tr>\n  </tbody>\n</table>\n</div>",
            "text/plain": "['                                                                                   Value\\n', 'Complete Geometry                                                                   True\\n', 'Extents                                [1960041.35636708, 2092643.59732271, 285497.89...\\n', 'Geometry Time                                                        2025-03-19 17:32:59\\n', 'Infiltration Date Last Modified                                      2022-03-11 13:52:44\\n', 'Infiltration File Date                                               2020-11-24 13:24:58\\n', 'Infiltration Filename                                      .\\\\Soils Data\\\\Infiltration.hdf\\n', 'Infiltration Layername                                                      Infiltration\\n', 'Land Cover Date Last Modified                                        2022-03-11 13:45:08\\n', 'Land Cover File Date                                                 2022-03-11 13:45:08\\n', 'Land Cover Filename                                  .\\\\\n...\n[Output truncated, 2074 characters total]"
          },
          "execution_count": 19,
          "metadata": {},
          "output_type": "execute_result"
        }
      ],
      "source": [
        "geom_attrs"
      ]
    },
    {
      "cell_type": "code",
      "execution_count": 20,
      "metadata": {},
      "outputs": [
        {
          "name": "stderr",
          "output_type": "stream",
          "text": [
            "2025-03-19 17:39:57 - ras_commander.HdfMesh - INFO - Using HDF file from direct string path: c:\\GH\\ras-commander\\examples\\example_projects\\BaldEagleCrkMulti2D\\BaldEagleDamBrk.g09.hdf\n",
            "2025-03-19 17:39:57 - ras_commander.HdfMesh - INFO - Final validated HDF file path: c:\\GH\\ras-commander\\examples\\example_projects\\BaldEagleCrkMulti2D\\BaldEagleDamBrk.g09.hdf\n"
          ]
        },
        {
          "name": "stdout",
          "output_type": "stream",
          "text": [
            "\n",
            "Listing 2D Flow Area Names\n"
          ]
        }
      ],
      "source": [
        "# Use HdfMesh for geometry-related operations\n",
        "print(\"\\nListing 2D Flow Area Names\")\n",
        "flow_area_names = HdfMesh.get_mesh_area_names(geom_hdf_path)"
      ]
    },
    {
      "cell_type": "code",
      "execution_count": 21,
      "metadata": {},
      "outputs": [
        {
          "name": "stdout",
          "output_type": "stream",
          "text": [
            "2D Flow Area Name (returned as list):\n"
          ]
        },
        {
          "data": {
            "text/plain": "[\"['BaldEagleCr']\"]"
          },
          "execution_count": 21,
          "metadata": {},
          "output_type": "execute_result"
        }
      ],
      "source": [
        "print(\"2D Flow Area Name (returned as list):\")\n",
        "flow_area_names\n",
        "# Note: this is returned as a list because it is used internally by other functions.  "
      ]
    },
    {
      "cell_type": "code",
      "execution_count": 22,
      "metadata": {},
      "outputs": [
        {
          "name": "stderr",
          "output_type": "stream",
          "text": [
            "2025-03-19 17:39:57 - ras_commander.HdfMesh - INFO - Using HDF file from direct string path: c:\\GH\\ras-commander\\examples\\example_projects\\BaldEagleCrkMulti2D\\BaldEagleDamBrk.g09.hdf\n",
            "2025-03-19 17:39:57 - ras_commander.HdfMesh - INFO - Final validated HDF file path: c:\\GH\\ras-commander\\examples\\example_projects\\BaldEagleCrkMulti2D\\BaldEagleDamBrk.g09.hdf\n"
          ]
        },
        {
          "name": "stdout",
          "output_type": "stream",
          "text": [
            "\n",
            "Extracting 2D Flow Area Attributes\n"
          ]
        }
      ],
      "source": [
        "# Get 2D Flow Area Attributes (get_mesh_area_attributes)\n",
        "print(\"\\nExtracting 2D Flow Area Attributes\")\n",
        "flow_area_attributes = HdfMesh.get_mesh_area_attributes(geom_hdf_path)"
      ]
    },
    {
      "cell_type": "code",
      "execution_count": 23,
      "metadata": {},
      "outputs": [
        {
          "data": {
            "text/html": "<div>\n<style scoped>\\n', '    .dataframe tbody tr th:only-of-type {\\n', '        vertical-align: middle;\\n', '    }\\n', '\\n', '    .dataframe tbody tr th {\\n', '        vertical-align: top;\\n', '    }\\n', '\\n', '    .dataframe thead th {\\n', '        text-align: right;\\n', '    }\\n', '</style>\n<table border=\"1\" class=\"dataframe\">\n  <thead>\\n', '    <tr style=\"text-align: right;\">\\n', '      <th></th>\\n', '      <th>Value</th>\\n', '    </tr>\\n', '  </thead>\n  <tbody>\n    <tr>\\n', '      <th>Name</th>\\n', \"      <td>b'BaldEagleCr'</td>\\n\", '    </tr><tr>\\n', '      <th>Locked</th>\\n', '      <td>0</td>\\n', '    </tr><tr>\\n', '      <th>Mann</th>\\n', '      <td>0.04</td>\\n', '    </tr><tr>\\n', '      <th>Multiple Face Mann n</th>\\n', '      <td>0</td>\\n', '    </tr><tr>\\n', '      <th>Composite LC</th>\\n', '      <td>0</td>\\n', '    </tr>\n    <tr><td colspan=\"100%\" style=\"text-align:center\">[... additional rows truncated ...]</td></tr>\n  </tbody>\n</table>\n</div>",
            "text/plain": "['                                 Value\\n', \"Name                    b'BaldEagleCr'\\n\", 'Locked                               0\\n', 'Mann                              0.04\\n', 'Multiple Face Mann n                 0\\n', 'Composite LC                         0\\n', 'Cell Vol Tol                      0.01\\n', 'Cell Min Area Fraction            0.01\\n', 'Face Profile Tol                  0.01\\n', 'Face Area Tol                     0.01\\n', 'Face Conv Ratio                   0.02\\n', 'Laminar Depth                      0.2\\n', 'Min Face Length Ratio             0.05\\n', 'Spacing dx                       250.0\\n', 'Spacing dy                       250.0\\n', 'Shift dx                           NaN\\n', 'Shift dy                           NaN\\n', 'Cell Count                       18066']"
          },
          "execution_count": 23,
          "metadata": {},
          "output_type": "execute_result"
        }
      ],
      "source": [
        "flow_area_attributes"
      ]
    },
    {
      "cell_type": "code",
      "execution_count": 24,
      "metadata": {},
      "outputs": [
        {
          "name": "stderr",
          "output_type": "stream",
          "text": [
            "2025-03-19 17:39:57 - ras_commander.HdfMesh - INFO - Using HDF file from direct string path: c:\\GH\\ras-commander\\examples\\example_projects\\BaldEagleCrkMulti2D\\BaldEagleDamBrk.g09.hdf\n",
            "2025-03-19 17:39:57 - ras_commander.HdfMesh - INFO - Final validated HDF file path: c:\\GH\\ras-commander\\examples\\example_projects\\BaldEagleCrkMulti2D\\BaldEagleDamBrk.g09.hdf\n",
            "2025-03-19 17:39:57 - ras_commander.HdfMesh - INFO - Using existing Path object HDF file: c:\\GH\\ras-commander\\examples\\example_projects\\BaldEagleCrkMulti2D\\BaldEagleDamBrk.g09.hdf\n",
            "2025-03-19 17:39:57 - ras_commander.HdfMesh - INFO - Final validated HDF file path: c:\\GH\\ras-commander\\examples\\example_projects\\BaldEagleCrkMulti2D\\BaldEagleDamBrk.g09.hdf\n",
            "2025-03-19 17:39:57 - ras_commander.HdfBase - INFO - Using HDF file from h5py.File object: c:\\GH\\ras-commander\\examples\\example_projects\\BaldEagleCrkMulti2D\\BaldEagleDamBrk.g09.hdf\n",
            "2025-03-19 17:39:57 - ras_commander.HdfBase - INFO - Final validated HDF file path: c:\\GH\\ras-commander\\examples\\example_projects\\BaldEagleCrkMulti2D\\BaldEagleDamBrk.g09.hdf\n",
            "2025-03-19 17:39:57 - ras_commander.HdfBase - INFO - Found projection in HDF file: c:\\GH\\ras-commander\\examples\\example_projects\\BaldEagleCrkMulti2D\\BaldEagleDamBrk.g09.hdf\n"
          ]
        },
        {
          "name": "stdout",
          "output_type": "stream",
          "text": [
            "\n",
            "Extracting 2D Flow Area Perimeter Polygons\n"
          ]
        }
      ],
      "source": [
        "# Get 2D Flow Area Perimeter Polygons (get_mesh_areas)\n",
        "print(\"\\nExtracting 2D Flow Area Perimeter Polygons\")\n",
        "mesh_areas = HdfMesh.get_mesh_areas(geom_hdf_path)"
      ]
    },
    {
      "cell_type": "code",
      "execution_count": 25,
      "metadata": {},
      "outputs": [
        {
          "data": {
            "text/html": "<div>\n<style scoped>\\n', '    .dataframe tbody tr th:only-of-type {\\n', '        vertical-align: middle;\\n', '    }\\n', '\\n', '    .dataframe tbody tr th {\\n', '        vertical-align: top;\\n', '    }\\n', '\\n', '    .dataframe thead th {\\n', '        text-align: right;\\n', '    }\\n', '</style>\n<table border=\"1\" class=\"dataframe\">\n  <thead>\\n', '    <tr style=\"text-align: right;\">\\n', '      <th></th>\\n', '      <th>mesh_name</th>\\n', '      <th>geometry</th>\\n', '    </tr>\\n', '  </thead>\n  <tbody>\n    <tr>\\n', '      <th>0</th>\\n', '      <td>BaldEagleCr</td>\\n', '      <td>POLYGON ((2009315.708 321138.385, 2009371.858 ...</td>\\n', '    </tr>\n    <tr><td colspan=\"100%\" style=\"text-align:center\">[... additional rows truncated ...]</td></tr>\n  </tbody>\n</table>\n</div>",
            "text/plain": "['     mesh_name                                           geometry\\n', '0  BaldEagleCr  POLYGON ((2009315.708 321138.385, 2009371.858 ...']"
          },
          "execution_count": 25,
          "metadata": {},
          "output_type": "execute_result"
        }
      ],
      "source": [
        "mesh_areas"
      ]
    },
    {
      "cell_type": "code",
      "execution_count": 26,
      "metadata": {},
      "outputs": [
        {
          "data": {
            "text/plain": [
              "<Figure size 1200x800 with 1 Axes>"
            ]
          },
          "metadata": {},
          "output_type": "display_data"
        }
      ],
      "source": [
        "# Generate Map of Mesh Areas\n",
        "if generate_plots:\n",
        "    # Plot the 2D Flow Area Perimeter Polygons\n",
        "    import matplotlib.pyplot as plt\n",
        "\n",
        "    fig, ax = plt.subplots(figsize=(12, 8))\n",
        "    mesh_areas.plot(ax=ax, edgecolor='black', facecolor='none')\n",
        "\n",
        "    # Add labels for each polygon\n",
        "    for idx, row in mesh_areas.iterrows():\n",
        "        centroid = row.geometry.centroid\n",
        "        # Check if 'Name' column exists, otherwise use a default label\n",
        "        label = row.get('Name', f'Area {idx}')\n",
        "        ax.annotate(label, (centroid.x, centroid.y), ha='center', va='center')\n",
        "\n",
        "    plt.title('2D Flow Area Perimeter Polygons')\n",
        "    plt.xlabel('Easting')\n",
        "    plt.ylabel('Northing')\n",
        "    plt.tight_layout()\n",
        "    plt.show()"
      ]
    },
    {
      "cell_type": "code",
      "execution_count": 27,
      "metadata": {},
      "outputs": [
        {
          "name": "stderr",
          "output_type": "stream",
          "text": [
            "2025-03-19 17:39:58 - ras_commander.HdfMesh - INFO - Using HDF file from direct string path: c:\\GH\\ras-commander\\examples\\example_projects\\BaldEagleCrkMulti2D\\BaldEagleDamBrk.g09.hdf\n",
            "2025-03-19 17:39:58 - ras_commander.HdfMesh - INFO - Final validated HDF file path: c:\\GH\\ras-commander\\examples\\example_projects\\BaldEagleCrkMulti2D\\BaldEagleDamBrk.g09.hdf\n",
            "2025-03-19 17:39:58 - ras_commander.HdfMesh - INFO - Using existing Path object HDF file: c:\\GH\\ras-commander\\examples\\example_projects\\BaldEagleCrkMulti2D\\BaldEagleDamBrk.g09.hdf\n",
            "2025-03-19 17:39:58 - ras_commander.HdfMesh - INFO - Final validated HDF file path: c:\\GH\\ras-commander\\examples\\example_projects\\BaldEagleCrkMulti2D\\BaldEagleDamBrk.g09.hdf\n",
            "2025-03-19 17:39:58 - ras_commander.HdfBase - INFO - Using HDF file from h5py.File object: c:\\GH\\ras-commander\\examples\\example_projects\\BaldEagleCrkMulti2D\\BaldEagleDamBrk.g09.hdf\n",
            "2025-03-19 17:39:58 - ras_commander.HdfBase - INFO - Final validated HDF file path: c:\\GH\\ras-commander\\examples\\example_projects\\BaldEagleCrkMulti2D\\BaldEagleDamBrk.g09.hdf\n",
            "2025-03-19 17:39:58 - ras_commander.HdfBase - INFO - Found projection in HDF file: c:\\GH\\ras-commander\\examples\\example_projects\\BaldEagleCrkMulti2D\\BaldEagleDamBrk.g09.hdf\n"
          ]
        }
      ],
      "source": [
        "# Get mesh cell faces as geodatframe\n",
        "mesh_cell_faces_gdf = HdfMesh.get_mesh_cell_faces(geom_hdf_path)\n"
      ]
    },
    {
      "cell_type": "code",
      "execution_count": 28,
      "metadata": {},
      "outputs": [
        {
          "data": {
            "text/html": "<div>\n<style scoped>\\n', '    .dataframe tbody tr th:only-of-type {\\n', '        vertical-align: middle;\\n', '    }\\n', '\\n', '    .dataframe tbody tr th {\\n', '        vertical-align: top;\\n', '    }\\n', '\\n', '    .dataframe thead th {\\n', '        text-align: right;\\n', '    }\\n', '</style>\n<table border=\"1\" class=\"dataframe\">\n  <thead>\\n', '    <tr style=\"text-align: right;\">\\n', '      <th></th>\\n', '      <th>mesh_name</th>\\n', '      <th>face_id</th>\\n', '      <th>geometry</th>\\n', '    </tr>\\n', '  </thead>\n  <tbody>\n    <tr>\\n', '      <th>0</th>\\n', '      <td>BaldEagleCr</td>\\n', '      <td>0</td>\\n', '      <td>LINESTRING (2042125 351625, 2042375 351625)</td>\\n', '    </tr><tr>\\n', '      <th>1</th>\\n', '      <td>BaldEagleCr</td>\\n', '      <td>1</td>\\n', '      <td>LINESTRING (2042375 351625, 2042375 351875)</td>\\n', '    </tr><tr>\\n', '      <th>2</th>\\n', '      <td>BaldEagleCr</td>\\n', '      <td>2</td>\\n', '      <td>LINESTRING (2042375 351875, 2042125 351875)</td>\\n', '    </tr><tr>\\n', '      <th>3</th>\\n', '      <td>BaldEagleCr</td>\\n', '      <td>3</td>\\n', '      <td>LINESTRING (2042125 351875, 2042125 351625)</td>\\n', '    </tr><tr>\\n', '      <th>4</th>\\n', '      <td>BaldEagleCr</td>\\n', '      <td>4</td>\\n', '      <td>LINESTRING (2042375 351375, 2042375 351625)</td>\\n', '    </tr>\n    <tr><td colspan=\"100%\" style=\"text-align:center\">[... additional rows truncated ...]</td></tr>\n  </tbody>\n</table>\n</div>",
            "text/plain": "['         mesh_name  face_id                                           geometry\\n', '0      BaldEagleCr        0        LINESTRING (2042125 351625, 2042375 351625)\\n', '1      BaldEagleCr        1        LINESTRING (2042375 351625, 2042375 351875)\\n', '2      BaldEagleCr        2        LINESTRING (2042375 351875, 2042125 351875)\\n', '3      BaldEagleCr        3        LINESTRING (2042125 351875, 2042125 351625)\\n', '4      BaldEagleCr        4        LINESTRING (2042375 351375, 2042375 351625)\\n', '...            ...      ...                                                ...\\n', '37589  BaldEagleCr    37589  LINESTRING (1978444.054 300812.794, 1978402.01...\\n', '37590  BaldEagleCr    37590  LINESTRING (1973531.76 297370.846, 1973246.989...\\n', '37591  BaldEagleCr    37591  LINESTRING (1968886.801 295900.5, 1968782.778 ...\\n', '37592  BaldEagleCr    37592  LINESTRING (1965981.775 291978.68, 1966280.11 ...\\n', '37593  BaldEagleCr    37593  LINESTRING (1969588.438 289578.114, 1969731.65...\\n', '\\n', '[37594 rows x 3 columns]']"
          },
          "execution_count": 28,
          "metadata": {},
          "output_type": "execute_result"
        }
      ],
      "source": [
        "mesh_cell_faces_gdf"
      ]
    },
    {
      "cell_type": "code",
      "execution_count": 29,
      "metadata": {},
      "outputs": [
        {
          "name": "stdout",
          "output_type": "stream",
          "text": [
            "\n",
            "Mesh Cell Faces Statistics:\n",
            "Total number of cell faces: 37594\n",
            "Number of unique meshes: 1\n"
          ]
        },
        {
          "data": {
            "text/plain": [
              "<Figure size 1200x800 with 2 Axes>"
            ]
          },
          "metadata": {},
          "output_type": "display_data"
        }
      ],
      "source": [
        "from matplotlib.collections import LineCollection\n",
        "import numpy as np\n",
        "\n",
        "# Calculate and display statistics\n",
        "print(\"\\nMesh Cell Faces Statistics:\")\n",
        "print(f\"Total number of cell faces: {len(mesh_cell_faces_gdf)}\")\n",
        "print(f\"Number of unique meshes: {mesh_cell_faces_gdf['mesh_name'].nunique()}\")\n",
        "\n",
        "if generate_maps:\n",
        "    # Plot the mesh cell faces more efficiently\n",
        "    fig, ax = plt.subplots(figsize=(12, 8))\n",
        "\n",
        "    # Convert all geometries to numpy arrays at once for faster plotting\n",
        "    lines = [list(zip(*line.xy)) for line in mesh_cell_faces_gdf.geometry]\n",
        "    lines_collection = LineCollection(lines, colors='blue', linewidth=0.5, alpha=0.5)\n",
        "    ax.add_collection(lines_collection)\n",
        "\n",
        "    # Set plot title and labels\n",
        "    plt.title('Mesh Cell Faces')\n",
        "    plt.xlabel('Easting')\n",
        "    plt.ylabel('Northing')\n",
        "\n",
        "    # Calculate centroids once and store as numpy arrays\n",
        "    centroids = np.array([[geom.centroid.x, geom.centroid.y] for geom in mesh_cell_faces_gdf.geometry])\n",
        "\n",
        "    # Create scatter plot with numpy arrays\n",
        "    scatter = ax.scatter(\n",
        "        centroids[:, 0],\n",
        "        centroids[:, 1], \n",
        "        c=mesh_cell_faces_gdf['face_id'],\n",
        "        cmap='viridis',\n",
        "        s=1,\n",
        "        alpha=0.5\n",
        "    )\n",
        "    plt.colorbar(scatter, label='Face ID')\n",
        "\n",
        "    # Set axis limits based on data bounds\n",
        "    ax.set_xlim(centroids[:, 0].min(), centroids[:, 0].max())\n",
        "    ax.set_ylim(centroids[:, 1].min(), centroids[:, 1].max())\n",
        "\n",
        "    plt.tight_layout()\n",
        "    plt.show()\n",
        "else:\n",
        "    print(\"generate_maps is False\")\n"
      ]
    },
    {
      "cell_type": "code",
      "execution_count": 30,
      "metadata": {},
      "outputs": [
        {
          "name": "stdout",
          "output_type": "stream",
          "text": [
            "\n",
            "Finding the nearest cell face to a given point\n",
            "Getting Centroid of 2D Mesh Polygon\n",
            "Searching Cell\n",
            "Nearest cell face to point (2030989.2589121135, 336969.5028173043):\n",
            "Face ID: 19961\n",
            "Distance: 94.50 units\n"
          ]
        }
      ],
      "source": [
        "# Function to find the nearest cell face to a given point\n",
        "def find_nearest_cell_face(point, cell_faces_df):\n",
        "    \"\"\"\n",
        "    Find the nearest cell face to a given point.\n",
        "\n",
        "    Args:\n",
        "        point (shapely.geometry.Point): The input point.\n",
        "        cell_faces_df (GeoDataFrame): DataFrame containing cell face linestrings.\n",
        "\n",
        "    Returns:\n",
        "        int: The face_id of the nearest cell face.\n",
        "        float: The distance to the nearest cell face.\n",
        "    \"\"\"\n",
        "    # Calculate distances from the input point to all cell faces\n",
        "    distances = cell_faces_df.geometry.distance(point)\n",
        "\n",
        "    # Find the index of the minimum distance\n",
        "    nearest_index = distances.idxmin()\n",
        "\n",
        "    # Get the face_id and distance of the nearest cell face\n",
        "    nearest_face_id = cell_faces_df.loc[nearest_index, 'face_id']\n",
        "    nearest_distance = distances[nearest_index]\n",
        "\n",
        "    return nearest_face_id, nearest_distance\n",
        "\n",
        "# Example usage\n",
        "print(\"\\nFinding the nearest cell face to a given point\")\n",
        "\n",
        "# Create a sample point (you can replace this with any point of interest)\n",
        "from shapely.geometry import Point\n",
        "from geopandas import GeoDataFrame\n",
        "\n",
        "# Get the centroid of the mesh cell faces\n",
        "print(\"Getting Centroid of 2D Mesh Polygon\")\n",
        "centroid = mesh_cell_faces_gdf.geometry.union_all().centroid\n",
        "\n",
        "# Create GeoDataFrame with the centroid point, using same CRS as mesh_cell_faces_gdf\n",
        "sample_point = GeoDataFrame(\n",
        "    {'geometry': [centroid]}, \n",
        "    crs=mesh_cell_faces_gdf.crs\n",
        ")\n",
        "\n",
        "if not mesh_cell_faces_gdf.empty and not sample_point.empty:\n",
        "    print(\"Searching Cell\")\n",
        "    nearest_face_id, distance = find_nearest_cell_face(sample_point.geometry.iloc[0], mesh_cell_faces_gdf)\n",
        "    print(f\"Nearest cell face to point {sample_point.geometry.iloc[0].coords[0]}:\")\n",
        "    print(f\"Face ID: {nearest_face_id}\")\n",
        "    print(f\"Distance: {distance:.2f} units\")"
      ]
    },
    {
      "cell_type": "code",
      "execution_count": 31,
      "metadata": {},
      "outputs": [
        {
          "data": {
            "text/plain": [
              "<Figure size 1200x800 with 1 Axes>"
            ]
          },
          "metadata": {},
          "output_type": "display_data"
        }
      ],
      "source": [
        "# Generate map of cell faces with sample point and nearest cell face shown\n",
        "if generate_maps:\n",
        "    # Visualize the result\n",
        "    fig, ax = plt.subplots(figsize=(12, 8))\n",
        "    \n",
        "    # Plot all cell faces\n",
        "    mesh_cell_faces_gdf.plot(ax=ax, color='blue', linewidth=0.5, alpha=0.5, label='Cell Faces')\n",
        "    \n",
        "    # Plot the sample point\n",
        "    sample_point.plot(ax=ax, color='red', markersize=100, alpha=0.7, label='Sample Point')\n",
        "    \n",
        "    # Plot the nearest cell face\n",
        "    nearest_face = mesh_cell_faces_gdf[mesh_cell_faces_gdf['face_id'] == nearest_face_id]\n",
        "    nearest_face.plot(ax=ax, color='green', linewidth=2, alpha=0.7, label='Nearest Face')\n",
        "    \n",
        "    # Set labels and title\n",
        "    ax.set_xlabel('X Coordinate')\n",
        "    ax.set_ylabel('Y Coordinate')\n",
        "    ax.set_title('Nearest Cell Face to Sample Point')\n",
        "    \n",
        "    # Add legend and grid\n",
        "    ax.legend()\n",
        "    ax.grid(True)\n",
        "    \n",
        "    # Adjust layout and display\n",
        "    plt.tight_layout()\n",
        "    plt.show()\n",
        "else:\n",
        "    print(\"generate_maps is set to False\")\n"
      ]
    },
    {
      "cell_type": "code",
      "execution_count": 32,
      "metadata": {},
      "outputs": [
        {
          "name": "stderr",
          "output_type": "stream",
          "text": [
            "2025-03-19 17:40:04 - ras_commander.HdfMesh - INFO - Using HDF file from direct string path: c:\\GH\\ras-commander\\examples\\example_projects\\BaldEagleCrkMulti2D\\BaldEagleDamBrk.g09.hdf\n",
            "2025-03-19 17:40:04 - ras_commander.HdfMesh - INFO - Final validated HDF file path: c:\\GH\\ras-commander\\examples\\example_projects\\BaldEagleCrkMulti2D\\BaldEagleDamBrk.g09.hdf\n",
            "2025-03-19 17:40:04 - ras_commander.HdfMesh - INFO - Using existing Path object HDF file: c:\\GH\\ras-commander\\examples\\example_projects\\BaldEagleCrkMulti2D\\BaldEagleDamBrk.g09.hdf\n",
            "2025-03-19 17:40:04 - ras_commander.HdfMesh - INFO - Final validated HDF file path: c:\\GH\\ras-commander\\examples\\example_projects\\BaldEagleCrkMulti2D\\BaldEagleDamBrk.g09.hdf\n",
            "2025-03-19 17:40:04 - ras_commander.HdfMesh - INFO - Using existing Path object HDF file: c:\\GH\\ras-commander\\examples\\example_projects\\BaldEagleCrkMulti2D\\BaldEagleDamBrk.g09.hdf\n",
            "2025-03-19 17:40:04 - ras_commander.HdfMesh - INFO - Final validated HDF file path: c:\\GH\\ras-commander\\examples\\example_projects\\BaldEagleCrkMulti2D\\BaldEagleDamBrk.g09.hdf\n",
            "2025-03-19 17:40:04 - ras_commander.HdfMesh - INFO - Using existing Path object HDF file: c:\\GH\\ras-commander\\examples\\example_projects\\BaldEagleCrkMulti2D\\BaldEagleDamBrk.g09.hdf\n",
            "2025-03-19 17:40:04 - ras_commander.HdfMesh - INFO - Final validated HDF file path: c:\\GH\\ras-commander\\examples\\example_projects\\BaldEagleCrkMulti2D\\BaldEagleDamBrk.g09.hdf\n"
          ]
        },
        {
          "name": "stdout",
          "output_type": "stream",
          "text": [
            "\n",
            "Example 6: Extracting Cell Polygons\n"
          ]
        },
        {
          "name": "stderr",
          "output_type": "stream",
          "text": [
            "2025-03-19 17:40:04 - ras_commander.HdfBase - INFO - Using HDF file from h5py.File object: c:\\GH\\ras-commander\\examples\\example_projects\\BaldEagleCrkMulti2D\\BaldEagleDamBrk.g09.hdf\n",
            "2025-03-19 17:40:04 - ras_commander.HdfBase - INFO - Final validated HDF file path: c:\\GH\\ras-commander\\examples\\example_projects\\BaldEagleCrkMulti2D\\BaldEagleDamBrk.g09.hdf\n",
            "2025-03-19 17:40:04 - ras_commander.HdfBase - INFO - Found projection in HDF file: c:\\GH\\ras-commander\\examples\\example_projects\\BaldEagleCrkMulti2D\\BaldEagleDamBrk.g09.hdf\n",
            "2025-03-19 17:40:06 - ras_commander.HdfBase - INFO - Using HDF file from h5py.File object: c:\\GH\\ras-commander\\examples\\example_projects\\BaldEagleCrkMulti2D\\BaldEagleDamBrk.g09.hdf\n",
            "2025-03-19 17:40:06 - ras_commander.HdfBase - INFO - Final validated HDF file path: c:\\GH\\ras-commander\\examples\\example_projects\\BaldEagleCrkMulti2D\\BaldEagleDamBrk.g09.hdf\n",
            "2025-03-19 17:40:06 - ras_commander.HdfBase - INFO - Found projection in HDF file: c:\\GH\\ras-commander\\examples\\example_projects\\BaldEagleCrkMulti2D\\BaldEagleDamBrk.g09.hdf\n"
          ]
        }
      ],
      "source": [
        "# Extract Cell Polygons\n",
        "print(\"\\nExample 6: Extracting Cell Polygons\")\n",
        "cell_polygons_df = HdfMesh.get_mesh_cell_polygons(geom_hdf_path)"
      ]
    },
    {
      "cell_type": "code",
      "execution_count": 33,
      "metadata": {},
      "outputs": [
        {
          "data": {
            "text/html": "<div>\n<style scoped>\\n', '    .dataframe tbody tr th:only-of-type {\\n', '        vertical-align: middle;\\n', '    }\\n', '\\n', '    .dataframe tbody tr th {\\n', '        vertical-align: top;\\n', '    }\\n', '\\n', '    .dataframe thead th {\\n', '        text-align: right;\\n', '    }\\n', '</style>\n<table border=\"1\" class=\"dataframe\">\n  <thead>\\n', '    <tr style=\"text-align: right;\">\\n', '      <th></th>\\n', '      <th>mesh_name</th>\\n', '      <th>cell_id</th>\\n', '      <th>geometry</th>\\n', '    </tr>\\n', '  </thead>\n  <tbody>\n    <tr>\\n', '      <th>0</th>\\n', '      <td>BaldEagleCr</td>\\n', '      <td>0</td>\\n', '      <td>POLYGON ((2082875 370625, 2082723.922 370776.0...</td>\\n', '    </tr><tr>\\n', '      <th>1</th>\\n', '      <td>BaldEagleCr</td>\\n', '      <td>1</td>\\n', '      <td>POLYGON ((2083125 370625, 2083125 370844.185, ...</td>\\n', '    </tr><tr>\\n', '      <th>2</th>\\n', '      <td>BaldEagleCr</td>\\n', '      <td>2</td>\\n', '      <td>POLYGON ((2083375 370625, 2083375 370886.638, ...</td>\\n', '    </tr><tr>\\n', '      <th>3</th>\\n', '      <td>BaldEagleCr</td>\\n', '      <td>3</td>\\n', '      <td>POLYGON ((2083625 370625, 2083625 370925.693, ...</td>\\n', '    </tr><tr>\\n', '      <th>4</th>\\n', '      <td>BaldEagleCr</td>\\n', '      <td>4</td>\\n', '      <td>POLYGON ((2083875 370625, 2083875 370958.588, ...</td>\\n', '    </tr>\n    <tr><td colspan=\"100%\" style=\"text-align:center\">[... additional rows truncated ...]</td></tr>\n  </tbody>\n</table>\n</div>",
            "text/plain": "['         mesh_name  cell_id                                           geometry\\n', '0      BaldEagleCr        0  POLYGON ((2082875 370625, 2082723.922 370776.0...\\n', '1      BaldEagleCr        1  POLYGON ((2083125 370625, 2083125 370844.185, ...\\n', '2      BaldEagleCr        2  POLYGON ((2083375 370625, 2083375 370886.638, ...\\n', '3      BaldEagleCr        3  POLYGON ((2083625 370625, 2083625 370925.693, ...\\n', '4      BaldEagleCr        4  POLYGON ((2083875 370625, 2083875 370958.588, ...\\n', '...            ...      ...                                                ...\\n', '18061  BaldEagleCr    18061  POLYGON ((2060605.501 351955.442, 2060652.06 3...\\n', '18062  BaldEagleCr    18062  POLYGON ((2060652.06 351777.237, 2060849.045 3...\\n', '18063  BaldEagleCr    18063  POLYGON ((2060875 351951.343, 2060929.66 35193...\\n', '18064  BaldEagleCr    18064  POLYGON ((2060991.954 351624.893, 2060964.72 3...\\n', '18065  BaldEagleCr    18065  POLYGON ((2061172.274 351856.061, 2061298.822 ...\\n', '\\n', '[18066 rows x 3 columns]']"
          },
          "execution_count": 33,
          "metadata": {},
          "output_type": "execute_result"
        }
      ],
      "source": [
        "cell_polygons_df"
      ]
    },
    {
      "cell_type": "code",
      "execution_count": 34,
      "metadata": {},
      "outputs": [
        {
          "data": {
            "text/plain": [
              "<Figure size 1200x800 with 1 Axes>"
            ]
          },
          "metadata": {},
          "output_type": "display_data"
        }
      ],
      "source": [
        "# Plot cell polygons\n",
        "\n",
        "if generate_maps:\n",
        "    fig, ax = plt.subplots(figsize=(12, 8))\n",
        "\n",
        "    # Plot cell polygons\n",
        "    cell_polygons_df.plot(ax=ax, edgecolor='blue', facecolor='none')\n",
        "\n",
        "    # Set labels and title\n",
        "    ax.set_xlabel('X Coordinate')\n",
        "    ax.set_ylabel('Y Coordinate')\n",
        "    ax.set_title('2D Flow Area Cell Polygons')\n",
        "\n",
        "    # Add grid\n",
        "    ax.grid(True)\n",
        "\n",
        "    # Adjust layout and display\n",
        "    plt.tight_layout()\n",
        "    plt.show()\n",
        "else:\n",
        "    print(\"generate_maps is set to False\")\n"
      ]
    },
    {
      "cell_type": "code",
      "execution_count": 35,
      "metadata": {},
      "outputs": [
        {
          "name": "stderr",
          "output_type": "stream",
          "text": [
            "2025-03-19 17:40:09 - ras_commander.HdfMesh - INFO - Using HDF file from direct string path: c:\\GH\\ras-commander\\examples\\example_projects\\BaldEagleCrkMulti2D\\BaldEagleDamBrk.g09.hdf\n",
            "2025-03-19 17:40:09 - ras_commander.HdfMesh - INFO - Final validated HDF file path: c:\\GH\\ras-commander\\examples\\example_projects\\BaldEagleCrkMulti2D\\BaldEagleDamBrk.g09.hdf\n",
            "2025-03-19 17:40:09 - ras_commander.HdfMesh - INFO - Using existing Path object HDF file: c:\\GH\\ras-commander\\examples\\example_projects\\BaldEagleCrkMulti2D\\BaldEagleDamBrk.g09.hdf\n",
            "2025-03-19 17:40:09 - ras_commander.HdfMesh - INFO - Final validated HDF file path: c:\\GH\\ras-commander\\examples\\example_projects\\BaldEagleCrkMulti2D\\BaldEagleDamBrk.g09.hdf\n",
            "2025-03-19 17:40:09 - ras_commander.HdfBase - INFO - Using HDF file from h5py.File object: c:\\GH\\ras-commander\\examples\\example_projects\\BaldEagleCrkMulti2D\\BaldEagleDamBrk.g09.hdf\n",
            "2025-03-19 17:40:09 - ras_commander.HdfBase - INFO - Final validated HDF file path: c:\\GH\\ras-commander\\examples\\example_projects\\BaldEagleCrkMulti2D\\BaldEagleDamBrk.g09.hdf\n",
            "2025-03-19 17:40:09 - ras_commander.HdfBase - INFO - Found projection in HDF file: c:\\GH\\ras-commander\\examples\\example_projects\\BaldEagleCrkMulti2D\\BaldEagleDamBrk.g09.hdf\n"
          ]
        },
        {
          "name": "stdout",
          "output_type": "stream",
          "text": [
            "\n",
            "Example 5: Extracting Cell Info\n"
          ]
        }
      ],
      "source": [
        "# Extract Cell Info\n",
        "print(\"\\nExample 5: Extracting Cell Info\")\n",
        "cell_info_df = HdfMesh.get_mesh_cell_points(geom_hdf_path)"
      ]
    },
    {
      "cell_type": "code",
      "execution_count": 36,
      "metadata": {},
      "outputs": [
        {
          "data": {
            "text/html": "<div>\n<style scoped>\\n', '    .dataframe tbody tr th:only-of-type {\\n', '        vertical-align: middle;\\n', '    }\\n', '\\n', '    .dataframe tbody tr th {\\n', '        vertical-align: top;\\n', '    }\\n', '\\n', '    .dataframe thead th {\\n', '        text-align: right;\\n', '    }\\n', '</style>\n<table border=\"1\" class=\"dataframe\">\n  <thead>\\n', '    <tr style=\"text-align: right;\">\\n', '      <th></th>\\n', '      <th>mesh_name</th>\\n', '      <th>cell_id</th>\\n', '      <th>geometry</th>\\n', '    </tr>\\n', '  </thead>\n  <tbody>\n    <tr>\\n', '      <th>0</th>\\n', '      <td>BaldEagleCr</td>\\n', '      <td>0</td>\\n', '      <td>POINT (2083000 370750)</td>\\n', '    </tr><tr>\\n', '      <th>1</th>\\n', '      <td>BaldEagleCr</td>\\n', '      <td>1</td>\\n', '      <td>POINT (2083250 370750)</td>\\n', '    </tr><tr>\\n', '      <th>2</th>\\n', '      <td>BaldEagleCr</td>\\n', '      <td>2</td>\\n', '      <td>POINT (2083500 370750)</td>\\n', '    </tr><tr>\\n', '      <th>3</th>\\n', '      <td>BaldEagleCr</td>\\n', '      <td>3</td>\\n', '      <td>POINT (2083750 370750)</td>\\n', '    </tr><tr>\\n', '      <th>4</th>\\n', '      <td>BaldEagleCr</td>\\n', '      <td>4</td>\\n', '      <td>POINT (2084000 370750)</td>\\n', '    </tr>\n    <tr><td colspan=\"100%\" style=\"text-align:center\">[... additional rows truncated ...]</td></tr>\n  </tbody>\n</table>\n</div>",
            "text/plain": "['         mesh_name  cell_id                        geometry\\n', '0      BaldEagleCr        0          POINT (2083000 370750)\\n', '1      BaldEagleCr        1          POINT (2083250 370750)\\n', '2      BaldEagleCr        2          POINT (2083500 370750)\\n', '3      BaldEagleCr        3          POINT (2083750 370750)\\n', '4      BaldEagleCr        4          POINT (2084000 370750)\\n', '...            ...      ...                             ...\\n', '19592  BaldEagleCr    19592  POINT (1978423.032 300718.897)\\n', '19593  BaldEagleCr    19593  POINT (1973389.375 297311.928)\\n', '19594  BaldEagleCr    19594   POINT (1968834.79 295808.861)\\n', '19595  BaldEagleCr    19595  POINT (1966130.942 291879.395)\\n', '19596  BaldEagleCr    19596   POINT (1969660.046 289673.23)\\n', '\\n', '[19597 rows x 3 columns]']"
          },
          "execution_count": 36,
          "metadata": {},
          "output_type": "execute_result"
        }
      ],
      "source": [
        "cell_info_df"
      ]
    },
    {
      "cell_type": "code",
      "execution_count": 37,
      "metadata": {},
      "outputs": [
        {
          "data": {
            "text/plain": [
              "<Figure size 1200x800 with 1 Axes>"
            ]
          },
          "metadata": {},
          "output_type": "display_data"
        }
      ],
      "source": [
        "# Plot cell centers\n",
        "\n",
        "if generate_maps:\n",
        "    fig, ax = plt.subplots(figsize=(12, 8))\n",
        "\n",
        "    # Plot cell centers\n",
        "    cell_info_df.plot(ax=ax, color='red', markersize=5)\n",
        "\n",
        "    # Set labels and title\n",
        "    ax.set_xlabel('X Coordinate')\n",
        "    ax.set_ylabel('Y Coordinate')\n",
        "    ax.set_title('2D Flow Area Cell Centers')\n",
        "\n",
        "    # Add grid\n",
        "    ax.grid(True)\n",
        "\n",
        "    # Adjust layout and display\n",
        "    plt.tight_layout()\n",
        "    plt.show()\n",
        "else:\n",
        "    print(\"generate_maps is set to False\")\n",
        "\n"
      ]
    },
    {
      "cell_type": "code",
      "execution_count": 38,
      "metadata": {},
      "outputs": [
        {
          "name": "stdout",
          "output_type": "stream",
          "text": [
            "\n",
            "Finding the nearest cell to a given point\n",
            "Using projection: PROJCS[\"NAD_1983_StatePlane_Pennsylvania_North_FIPS_3701_Feet\",GEOGCS[\"GCS_North_American_1983\",DATUM[\"D_North_American_1983\",SPHEROID[\"GRS_1980\",6378137.0,298.257222101]],PRIMEM[\"Greenwich\",0.0],UNIT[\"Degree\",0.0174532925199433]],PROJECTION[\"Lambert_Conformal_Conic\"],PARAMETER[\"False_Easting\",1968500.0],PARAMETER[\"False_Northing\",0.0],PARAMETER[\"Central_Meridian\",-77.75],PARAMETER[\"Standard_Parallel_1\",40.88333333333333],PARAMETER[\"Standard_Parallel_2\",41.95],PARAMETER[\"Latitude_Of_Origin\",40.16666666666666],UNIT[\"Foot_US\",0.3048006096012192]]\n",
            "Nearest cell to point (2030989.2589121135, 336969.5028173043):\n",
            "Cell ID: 9249\n",
            "Distance: 32.33 units\n"
          ]
        },
        {
          "data": {
            "text/plain": [
              "<Figure size 1200x800 with 1 Axes>"
            ]
          },
          "metadata": {},
          "output_type": "display_data"
        }
      ],
      "source": [
        "# Function to find the nearest cell center to a given point\n",
        "def find_nearest_cell(point, cell_centers_df):\n",
        "    \"\"\"\n",
        "    Find the nearest cell center to a given point.\n",
        "\n",
        "    Args:\n",
        "        point (shapely.geometry.Point): The input point.\n",
        "        cell_centers_df (GeoDataFrame): DataFrame containing cell center points.\n",
        "\n",
        "    Returns:\n",
        "        int: The cell_id of the nearest cell.\n",
        "        float: The distance to the nearest cell center.\n",
        "    \"\"\"\n",
        "    # Calculate distances from the input point to all cell centers\n",
        "    distances = cell_centers_df.geometry.distance(point)\n",
        "\n",
        "    # Find the index of the minimum distance\n",
        "    nearest_index = distances.idxmin()\n",
        "\n",
        "    # Get the cell_id and distance of the nearest cell\n",
        "    nearest_cell_id = cell_centers_df.loc[nearest_index, 'cell_id']\n",
        "    nearest_distance = distances[nearest_index]\n",
        "\n",
        "    return nearest_cell_id, nearest_distance\n",
        "\n",
        "# Example usage\n",
        "print(\"\\nFinding the nearest cell to a given point\")\n",
        "\n",
        "# Sample point was created in a previous code cell \n",
        "\n",
        "# Get the projection from the geometry file\n",
        "# projection = HdfUtils.get_projection(hdf_path=geom_hdf_path) # This was done in a previous code cell\n",
        "if projection:\n",
        "    print(f\"Using projection: {projection}\")\n",
        "else:\n",
        "    print(\"No projection information found. Using default CRS.\")\n",
        "    projection = \"EPSG:4326\"  # Default to WGS84 if no projection is found\n",
        "\n",
        "\n",
        "\n",
        "# Ensure the CRS of the sample point matches the cell_info_df\n",
        "if sample_point.crs != cell_info_df.crs:\n",
        "    sample_point = sample_point.to_crs(cell_info_df.crs)\n",
        "\n",
        "nearest_cell_id, distance = find_nearest_cell(sample_point.geometry.iloc[0], cell_info_df)\n",
        "print(f\"Nearest cell to point {sample_point.geometry.iloc[0].coords[0]}:\")\n",
        "print(f\"Cell ID: {nearest_cell_id}\")\n",
        "print(f\"Distance: {distance:.2f} units\")\n",
        "\n",
        "if generate_maps:\n",
        "    # Visualize the result\n",
        "    fig, ax = plt.subplots(figsize=(12, 8))\n",
        "\n",
        "    # Plot all cell centers\n",
        "    cell_info_df.plot(ax=ax, color='blue', markersize=5, alpha=0.5, label='Cell Centers')\n",
        "\n",
        "    # Plot the sample point\n",
        "    sample_point.plot(ax=ax, color='red', markersize=100, alpha=0.7, label='Sample Point')\n",
        "\n",
        "    # Plot the nearest cell center\n",
        "    nearest_cell = cell_info_df[cell_info_df['cell_id'] == nearest_cell_id]\n",
        "    nearest_cell.plot(ax=ax, color='green', markersize=100, alpha=0.7, label='Nearest Cell')\n",
        "\n",
        "    # Set labels and title\n",
        "    ax.set_xlabel('X Coordinate')\n",
        "    ax.set_ylabel('Y Coordinate')\n",
        "    ax.set_title('Nearest Cell to Sample Point')\n",
        "\n",
        "    # Add legend and grid\n",
        "    ax.legend()\n",
        "    ax.grid(True)\n",
        "\n",
        "    # Adjust layout and display\n",
        "    plt.tight_layout()\n",
        "    plt.show()\n",
        "else:\n",
        "    print(\"generate_maps is set to False\")\n",
        "\n"
      ]
    },
    {
      "cell_type": "code",
      "execution_count": 39,
      "metadata": {},
      "outputs": [
        {
          "name": "stderr",
          "output_type": "stream",
          "text": [
            "2025-03-19 17:40:11 - ras_commander.HdfStruc - INFO - Using HDF file from direct string path: c:\\GH\\ras-commander\\examples\\example_projects\\BaldEagleCrkMulti2D\\BaldEagleDamBrk.g09.hdf\n",
            "2025-03-19 17:40:11 - ras_commander.HdfStruc - INFO - Final validated HDF file path: c:\\GH\\ras-commander\\examples\\example_projects\\BaldEagleCrkMulti2D\\BaldEagleDamBrk.g09.hdf\n"
          ]
        },
        {
          "name": "stdout",
          "output_type": "stream",
          "text": [
            "\n",
            "Getting geometry structures attributes as Dataframe\n"
          ]
        }
      ],
      "source": [
        "# Get geometry structures attributes\n",
        "print(\"\\nGetting geometry structures attributes as Dataframe\")\n",
        "geom_structures_attrs = HdfStruc.get_geom_structures_attrs(geom_hdf_path)"
      ]
    },
    {
      "cell_type": "code",
      "execution_count": 40,
      "metadata": {},
      "outputs": [
        {
          "data": {
            "text/html": "<div>\n<style scoped>\\n', '    .dataframe tbody tr th:only-of-type {\\n', '        vertical-align: middle;\\n', '    }\\n', '\\n', '    .dataframe tbody tr th {\\n', '        vertical-align: top;\\n', '    }\\n', '\\n', '    .dataframe thead th {\\n', '        text-align: right;\\n', '    }\\n', '</style>\n<table border=\"1\" class=\"dataframe\">\n  <thead>\\n', '    <tr style=\"text-align: right;\">\\n', '      <th></th>\\n', '      <th>Bridge/Culvert Count</th>\\n', '      <th>Connection Count</th>\\n', '      <th>Has Bridge Opening (2D)</th>\\n', '      <th>Inline Structure Count</th>\\n', '      <th>Lateral Structure Count</th>\\n', '    </tr>\\n', '  </thead>\n  <tbody>\n    <tr>\\n', '      <th>0</th>\\n', '      <td>0</td>\\n', '      <td>1</td>\\n', '      <td>0</td>\\n', '      <td>0</td>\\n', '      <td>0</td>\\n', '    </tr>\n    <tr><td colspan=\"100%\" style=\"text-align:center\">[... additional rows truncated ...]</td></tr>\n  </tbody>\n</table>\n</div>",
            "text/plain": "['   Bridge/Culvert Count  Connection Count  Has Bridge Opening (2D)  \\\\\\n', '0                     0                 1                        0   \\n', '\\n', '   Inline Structure Count  Lateral Structure Count  \\n', '0                       0                        0  ']"
          },
          "execution_count": 40,
          "metadata": {},
          "output_type": "execute_result"
        }
      ],
      "source": [
        "geom_structures_attrs"
      ]
    },
    {
      "cell_type": "code",
      "execution_count": 41,
      "metadata": {},
      "outputs": [],
      "source": [
        "# TODO: Paths and Functions for each type of structure: \n",
        "\n",
        "# Getting geometry structures attributes\n",
        "# Geometry structures attributes:\n",
        "# Bridge/Culvert Count: 0\n",
        "# Connection Count: 4\n",
        "# Has Bridge Opening (2D): 0\n",
        "# Inline Structure Count: 0\n",
        "# Lateral Structure Count: 0"
      ]
    },
    {
      "cell_type": "code",
      "execution_count": 42,
      "metadata": {},
      "outputs": [
        {
          "name": "stderr",
          "output_type": "stream",
          "text": [
            "2025-03-19 17:40:11 - ras_commander.HdfBndry - INFO - Using HDF file from direct string path: c:\\GH\\ras-commander\\examples\\example_projects\\BaldEagleCrkMulti2D\\BaldEagleDamBrk.g09.hdf\n",
            "2025-03-19 17:40:11 - ras_commander.HdfBndry - INFO - Final validated HDF file path: c:\\GH\\ras-commander\\examples\\example_projects\\BaldEagleCrkMulti2D\\BaldEagleDamBrk.g09.hdf\n",
            "2025-03-19 17:40:11 - ras_commander.HdfBase - INFO - Using existing Path object HDF file: c:\\GH\\ras-commander\\examples\\example_projects\\BaldEagleCrkMulti2D\\BaldEagleDamBrk.g09.hdf\n",
            "2025-03-19 17:40:11 - ras_commander.HdfBase - INFO - Final validated HDF file path: c:\\GH\\ras-commander\\examples\\example_projects\\BaldEagleCrkMulti2D\\BaldEagleDamBrk.g09.hdf\n",
            "2025-03-19 17:40:11 - ras_commander.HdfBase - INFO - Using HDF file from h5py.File object: c:\\GH\\ras-commander\\examples\\example_projects\\BaldEagleCrkMulti2D\\BaldEagleDamBrk.g09.hdf\n",
            "2025-03-19 17:40:11 - ras_commander.HdfBase - INFO - Final validated HDF file path: c:\\GH\\ras-commander\\examples\\example_projects\\BaldEagleCrkMulti2D\\BaldEagleDamBrk.g09.hdf\n",
            "2025-03-19 17:40:11 - ras_commander.HdfBase - INFO - Found projection in HDF file: c:\\GH\\ras-commander\\examples\\example_projects\\BaldEagleCrkMulti2D\\BaldEagleDamBrk.g09.hdf\n"
          ]
        },
        {
          "name": "stdout",
          "output_type": "stream",
          "text": [
            "\n",
            "Extracting Boundary Condition Lines as Geodataframe\n"
          ]
        }
      ],
      "source": [
        "# Get boundary condition lines\n",
        "print(\"\\nExtracting Boundary Condition Lines as Geodataframe\")\n",
        "bc_lines_df = HdfBndry.get_bc_lines(geom_hdf_path)"
      ]
    },
    {
      "cell_type": "code",
      "execution_count": 43,
      "metadata": {},
      "outputs": [
        {
          "data": {
            "text/html": "<div>\n<style scoped>\\n', '    .dataframe tbody tr th:only-of-type {\\n', '        vertical-align: middle;\\n', '    }\\n', '\\n', '    .dataframe tbody tr th {\\n', '        vertical-align: top;\\n', '    }\\n', '\\n', '    .dataframe thead th {\\n', '        text-align: right;\\n', '    }\\n', '</style>\n<table border=\"1\" class=\"dataframe\">\n  <thead>\\n', '    <tr style=\"text-align: right;\">\\n', '      <th></th>\\n', '      <th>Name</th>\\n', '      <th>SA-2D</th>\\n', '      <th>Type</th>\\n', '      <th>Length</th>\\n', '      <th>geometry</th>\\n', '      <th>bc_line_id</th>\\n', '    </tr>\\n', '  </thead>\n  <tbody>\n    <tr>\\n', '      <th>0</th>\\n', '      <td>DSNormalDepth</td>\\n', '      <td>BaldEagleCr</td>\\n', '      <td>External</td>\\n', '      <td>1801.303345</td>\\n', '      <td>LINESTRING (2082004.235 364024.82, 2083193.546...</td>\\n', '      <td>0</td>\\n', '    </tr><tr>\\n', '      <th>1</th>\\n', '      <td>DS2NormalD</td>\\n', '      <td>BaldEagleCr</td>\\n', '      <td>External</td>\\n', '      <td>2633.932617</td>\\n', '      <td>LINESTRING (2084425.804 365392.892, 2084354.64...</td>\\n', '      <td>1</td>\\n', '    </tr><tr>\\n', '      <th>2</th>\\n', '      <td>Upstream Inflow</td>\\n', '      <td>BaldEagleCr</td>\\n', '      <td>External</td>\\n', '      <td>2533.638672</td>\\n', '      <td>LINESTRING (1967473.737 290973.629, 1969582.89...</td>\\n', '      <td>2</td>\\n', '    </tr>\n    <tr><td colspan=\"100%\" style=\"text-align:center\">[... additional rows truncated ...]</td></tr>\n  </tbody>\n</table>\n</div>",
            "text/plain": "['              Name        SA-2D      Type       Length  \\\\\\n', '0    DSNormalDepth  BaldEagleCr  External  1801.303345   \\n', '1       DS2NormalD  BaldEagleCr  External  2633.932617   \\n', '2  Upstream Inflow  BaldEagleCr  External  2533.638672   \\n', '\\n', '                                            geometry  bc_line_id  \\n', '0  LINESTRING (2082004.235 364024.82, 2083193.546...           0  \\n', '1  LINESTRING (2084425.804 365392.892, 2084354.64...           1  \\n', '2  LINESTRING (1967473.737 290973.629, 1969582.89...           2  ']"
          },
          "execution_count": 43,
          "metadata": {},
          "output_type": "execute_result"
        }
      ],
      "source": [
        "bc_lines_df"
      ]
    },
    {
      "cell_type": "code",
      "execution_count": 44,
      "metadata": {},
      "outputs": [
        {
          "name": "stderr",
          "output_type": "stream",
          "text": [
            "C:\\Users\\billk\\AppData\\Local\\Temp\\ipykernel_2528\\268397963.py:26: UserWarning: Legend does not support handles for PatchCollection instances.\n",
            "See: https://matplotlib.org/stable/tutorials/intermediate/legend_guide.html#implementing-a-custom-legend-handler\n",
            "  ax.legend()\n"
          ]
        },
        {
          "data": {
            "text/plain": [
              "<Figure size 1200x800 with 1 Axes>"
            ]
          },
          "metadata": {},
          "output_type": "display_data"
        }
      ],
      "source": [
        "# Plot Boundary Condition Lines with Perimeter\n",
        "\n",
        "if generate_maps:\n",
        "    fig, ax = plt.subplots(figsize=(12, 8))\n",
        "\n",
        "    if not mesh_areas.empty:\n",
        "        mesh_areas.plot(ax=ax, edgecolor='black', facecolor='none', alpha=0.7, label='2D Flow Area')\n",
        "        \n",
        "        # Add labels for each polygon\n",
        "        for idx, row in mesh_areas.iterrows():\n",
        "            centroid = row.geometry.centroid\n",
        "            label = row.get('Name', f'Area {idx}')\n",
        "            ax.annotate(label, (centroid.x, centroid.y), ha='center', va='center')\n",
        "\n",
        "    # Plot boundary condition lines\n",
        "    if not bc_lines_df.empty:\n",
        "        bc_lines_df.plot(ax=ax, color='red', linewidth=2, label='Boundary Condition Lines')\n",
        "\n",
        "    # Set labels and title\n",
        "    ax.set_xlabel('Easting')\n",
        "    ax.set_ylabel('Northing')\n",
        "    ax.set_title('2D Flow Area Perimeter Polygons and Boundary Condition Lines')\n",
        "\n",
        "    # Add grid and legend\n",
        "    ax.grid(True)\n",
        "    ax.legend()\n",
        "\n",
        "    # Adjust layout and display\n",
        "    plt.tight_layout()\n",
        "    plt.show()\n",
        "\n",
        "else:\n",
        "    print(\"generate_maps is set to False\")\n",
        "# Plot 2D Flow Area Perimeter Polygons"
      ]
    },
    {
      "cell_type": "code",
      "execution_count": 45,
      "metadata": {},
      "outputs": [
        {
          "name": "stderr",
          "output_type": "stream",
          "text": [
            "2025-03-19 17:40:11 - ras_commander.HdfBndry - INFO - Using HDF file from direct string path: c:\\GH\\ras-commander\\examples\\example_projects\\BaldEagleCrkMulti2D\\BaldEagleDamBrk.g09.hdf\n",
            "2025-03-19 17:40:11 - ras_commander.HdfBndry - INFO - Final validated HDF file path: c:\\GH\\ras-commander\\examples\\example_projects\\BaldEagleCrkMulti2D\\BaldEagleDamBrk.g09.hdf\n",
            "2025-03-19 17:40:11 - ras_commander.HdfBase - INFO - Using HDF file from h5py.File object: c:\\GH\\ras-commander\\examples\\example_projects\\BaldEagleCrkMulti2D\\BaldEagleDamBrk.g09.hdf\n",
            "2025-03-19 17:40:11 - ras_commander.HdfBase - INFO - Final validated HDF file path: c:\\GH\\ras-commander\\examples\\example_projects\\BaldEagleCrkMulti2D\\BaldEagleDamBrk.g09.hdf\n",
            "2025-03-19 17:40:11 - ras_commander.HdfBase - INFO - Found projection in HDF file: c:\\GH\\ras-commander\\examples\\example_projects\\BaldEagleCrkMulti2D\\BaldEagleDamBrk.g09.hdf\n"
          ]
        },
        {
          "name": "stdout",
          "output_type": "stream",
          "text": [
            "\n",
            "Extracting Breaklines\n"
          ]
        }
      ],
      "source": [
        "# Extract Breaklines as Geodataframe\n",
        "print(\"\\nExtracting Breaklines\")\n",
        "breaklines_gdf = HdfBndry.get_breaklines(geom_hdf_path)\n"
      ]
    },
    {
      "cell_type": "code",
      "execution_count": 46,
      "metadata": {},
      "outputs": [
        {
          "data": {
            "text/html": "<div>\n<style scoped>\\n', '    .dataframe tbody tr th:only-of-type {\\n', '        vertical-align: middle;\\n', '    }\\n', '\\n', '    .dataframe tbody tr th {\\n', '        vertical-align: top;\\n', '    }\\n', '\\n', '    .dataframe thead th {\\n', '        text-align: right;\\n', '    }\\n', '</style>\n<table border=\"1\" class=\"dataframe\">\n  <thead>\\n', '    <tr style=\"text-align: right;\">\\n', '      <th></th>\\n', '      <th>bl_id</th>\\n', '      <th>Name</th>\\n', '      <th>geometry</th>\\n', '    </tr>\\n', '  </thead>\n  <tbody>\n    <tr>\\n', '      <th>0</th>\\n', '      <td>0</td>\\n', '      <td>SayersDam</td>\\n', '      <td>LINESTRING (2002361.246 323707.927, 2002741.35...</td>\\n', '    </tr><tr>\\n', '      <th>1</th>\\n', '      <td>1</td>\\n', '      <td>Lower</td>\\n', '      <td>LINESTRING (2060356.422 351786.819, 2060316.47...</td>\\n', '    </tr><tr>\\n', '      <th>2</th>\\n', '      <td>2</td>\\n', '      <td>Middle</td>\\n', '      <td>LINESTRING (2052757.788 348470.547, 2052785.84...</td>\\n', '    </tr><tr>\\n', '      <th>3</th>\\n', '      <td>3</td>\\n', '      <td>Upper</td>\\n', '      <td>LINESTRING (2045597.199 348412.994, 2045638.91...</td>\\n', '    </tr>\n    <tr><td colspan=\"100%\" style=\"text-align:center\">[... additional rows truncated ...]</td></tr>\n  </tbody>\n</table>\n</div>",
            "text/plain": "['   bl_id       Name                                           geometry\\n', '0      0  SayersDam  LINESTRING (2002361.246 323707.927, 2002741.35...\\n', '1      1      Lower  LINESTRING (2060356.422 351786.819, 2060316.47...\\n', '2      2     Middle  LINESTRING (2052757.788 348470.547, 2052785.84...\\n', '3      3      Upper  LINESTRING (2045597.199 348412.994, 2045638.91...']"
          },
          "execution_count": 46,
          "metadata": {},
          "output_type": "execute_result"
        }
      ],
      "source": [
        "breaklines_gdf"
      ]
    },
    {
      "cell_type": "code",
      "execution_count": 47,
      "metadata": {},
      "outputs": [
        {
          "name": "stderr",
          "output_type": "stream",
          "text": [
            "C:\\Users\\billk\\AppData\\Local\\Temp\\ipykernel_2528\\3295158439.py:27: UserWarning: Legend does not support handles for PatchCollection instances.\n",
            "See: https://matplotlib.org/stable/tutorials/intermediate/legend_guide.html#implementing-a-custom-legend-handler\n",
            "  ax.legend()\n"
          ]
        },
        {
          "data": {
            "text/plain": [
              "<Figure size 1200x800 with 1 Axes>"
            ]
          },
          "metadata": {},
          "output_type": "display_data"
        }
      ],
      "source": [
        "# Plot breaklines and 2D Flow Area Perimeter Polygons\n",
        "\n",
        "if generate_plots:\n",
        "    fig, ax = plt.subplots(figsize=(12, 8))\n",
        "\n",
        "    # Plot 2D Flow Area Perimeter Polygons\n",
        "    if not mesh_areas.empty:\n",
        "        mesh_areas.plot(ax=ax, edgecolor='black', facecolor='none', alpha=0.7, label='2D Flow Area')\n",
        "        \n",
        "        # Add labels for each polygon\n",
        "        for idx, row in mesh_areas.iterrows():\n",
        "            centroid = row.geometry.centroid\n",
        "            label = row.get('Name', f'Area {idx}')\n",
        "            ax.annotate(label, (centroid.x, centroid.y), ha='center', va='center')\n",
        "\n",
        "    # Plot breaklines\n",
        "    if not breaklines_gdf.empty:\n",
        "        breaklines_gdf.plot(ax=ax, color='blue', linewidth=2, label='Breaklines')\n",
        "\n",
        "    # Set labels and title\n",
        "    ax.set_xlabel('Easting')\n",
        "    ax.set_ylabel('Northing')\n",
        "    ax.set_title('2D Flow Area Perimeter Polygons and Breaklines')\n",
        "\n",
        "    # Add grid and legend\n",
        "    ax.grid(True)\n",
        "    ax.legend()\n",
        "\n",
        "    # Adjust layout and display\n",
        "    plt.tight_layout()\n",
        "    plt.show()"
      ]
    },
    {
      "cell_type": "code",
      "execution_count": 48,
      "metadata": {},
      "outputs": [
        {
          "name": "stderr",
          "output_type": "stream",
          "text": [
            "2025-03-19 17:40:12 - ras_commander.HdfStruc - INFO - Using HDF file from direct string path: c:\\GH\\ras-commander\\examples\\example_projects\\BaldEagleCrkMulti2D\\BaldEagleDamBrk.g09.hdf\n",
            "2025-03-19 17:40:12 - ras_commander.HdfStruc - INFO - Final validated HDF file path: c:\\GH\\ras-commander\\examples\\example_projects\\BaldEagleCrkMulti2D\\BaldEagleDamBrk.g09.hdf\n",
            "2025-03-19 17:40:12 - ras_commander.HdfBase - INFO - Using existing Path object HDF file: c:\\GH\\ras-commander\\examples\\example_projects\\BaldEagleCrkMulti2D\\BaldEagleDamBrk.g09.hdf\n",
            "2025-03-19 17:40:12 - ras_commander.HdfBase - INFO - Final validated HDF file path: c:\\GH\\ras-commander\\examples\\example_projects\\BaldEagleCrkMulti2D\\BaldEagleDamBrk.g09.hdf\n",
            "2025-03-19 17:40:12 - ras_commander.HdfBase - INFO - Found projection in HDF file: c:\\GH\\ras-commander\\examples\\example_projects\\BaldEagleCrkMulti2D\\BaldEagleDamBrk.g09.hdf\n",
            "2025-03-19 17:40:12 - ras_commander.HdfStruc - INFO - Successfully extracted structures GeoDataFrame.\n",
            "2025-03-19 17:40:12 - ras_commander.HdfStruc - INFO - Successfully extracted structures GeoDataFrame with attributes.\n"
          ]
        }
      ],
      "source": [
        "# Get structures as GeoDatframe\n",
        "structures_gdf = HdfStruc.get_structures(geom_hdf_path)"
      ]
    },
    {
      "cell_type": "code",
      "execution_count": 49,
      "metadata": {},
      "outputs": [
        {
          "data": {
            "text/html": "<div>\n<style scoped>\\n', '    .dataframe tbody tr th:only-of-type {\\n', '        vertical-align: middle;\\n', '    }\\n', '\\n', '    .dataframe tbody tr th {\\n', '        vertical-align: top;\\n', '    }\\n', '\\n', '    .dataframe thead th {\\n', '        text-align: right;\\n', '    }\\n', '</style>\n<table border=\"1\" class=\"dataframe\">\n  <thead>\\n', '    <tr style=\"text-align: right;\">\\n', '      <th></th>\\n', '      <th>Type</th>\\n', '      <th>Mode</th>\\n', '      <th>River</th>\\n', '      <th>Reach</th>\\n', '      <th>RS</th>\\n', '      <th>Connection</th>\\n', '      <th>Groupname</th>\\n', '      <th>US Type</th>\\n', '      <th>US River</th>\\n', '      <th>US Reach</th>\\n', '      <th>...</th>\\n', '      <th>US XS Mann (Count)</th>\\n', '      <th>US BR Mann (Index)</th>\\n', '      <th>US BR Mann (Count)</th>\\n', '      <th>DS XS Mann (Index)</th>\\n', '      <th>DS XS Mann (Count)</th>\\n', '      <th>DS BR Mann (Index)</th>\\n', '      <th>DS BR Mann (Count)</th>\\n', '      <th>RC (Index)</th>\\n', '      <th>RC (Count)</th>\\n', '      <th>Profile_Data</th>\\n', '    </tr>\\n', '  </thead>\n  <tbody>\n    <tr>\\n', '      <th>0</th>\\n', '      <td>Connection</td>\\n', '      <td>Weir/Gate/Culverts</td>\\n', '      <td></td>\\n', '      <td></td>\\n', '      <td></td>\\n', '      <td>Sayers Dam</td>\\n', '      <td>BaldEagleCr, Sayers Dam</td>\\n', '      <td>2D</td>\\n', '      <td></td>\\n', '      <td></td>\\n', '      <td>...</td>\\n', '      <td>0</td>\\n', '      <td>0</td>\\n', '      <td>0</td>\\n', '      <td>0</td>\\n', '      <td>0</td>\\n', '      <td>0</td>\\n', '      <td>0</td>\\n', '      <td>0</td>\\n', '      <td>0</td>\\n', \"      <td>[{'Station': 0.0, 'Elevation': 683.0}, {'Stati...</td>\\n\", '    </tr>\n    <tr><td colspan=\"100%\" style=\"text-align:center\">[... additional rows truncated ...]</td></tr>\n  </tbody>\n</table>\n</div>",
            "text/plain": "['         Type                Mode River Reach RS  Connection  \\\\\\n', '0  Connection  Weir/Gate/Culverts                 Sayers Dam   \\n', '\\n', '                 Groupname US Type US River US Reach  ... US XS Mann (Count)  \\\\\\n', '0  BaldEagleCr, Sayers Dam      2D                    ...                  0   \\n', '\\n', '  US BR Mann (Index) US BR Mann (Count) DS XS Mann (Index) DS XS Mann (Count)  \\\\\\n', '0                  0                  0                  0                  0   \\n', '\\n', '  DS BR Mann (Index) DS BR Mann (Count) RC (Index) RC (Count)  \\\\\\n', '0                  0                  0          0          0   \\n', '\\n', '                                        Profile_Data  \\n', \"0  [{'Station': 0.0, 'Elevation': 683.0}, {'Stati...  \\n\", '\\n', '[1 rows x 162 columns]']"
          },
          "execution_count": 49,
          "metadata": {},
          "output_type": "execute_result"
        }
      ],
      "source": [
        "structures_gdf"
      ]
    },
    {
      "cell_type": "code",
      "execution_count": 50,
      "metadata": {},
      "outputs": [
        {
          "name": "stderr",
          "output_type": "stream",
          "text": [
            "2025-03-19 17:40:12 - ras_commander.HdfBndry - INFO - Using HDF file from direct string path: c:\\GH\\ras-commander\\examples\\example_projects\\BaldEagleCrkMulti2D\\BaldEagleDamBrk.g09.hdf\n",
            "2025-03-19 17:40:12 - ras_commander.HdfBndry - INFO - Final validated HDF file path: c:\\GH\\ras-commander\\examples\\example_projects\\BaldEagleCrkMulti2D\\BaldEagleDamBrk.g09.hdf\n",
            "2025-03-19 17:40:12 - ras_commander.HdfBase - INFO - Using existing Path object HDF file: c:\\GH\\ras-commander\\examples\\example_projects\\BaldEagleCrkMulti2D\\BaldEagleDamBrk.g09.hdf\n",
            "2025-03-19 17:40:12 - ras_commander.HdfBase - INFO - Final validated HDF file path: c:\\GH\\ras-commander\\examples\\example_projects\\BaldEagleCrkMulti2D\\BaldEagleDamBrk.g09.hdf\n",
            "2025-03-19 17:40:12 - ras_commander.HdfBase - INFO - Using HDF file from h5py.File object: c:\\GH\\ras-commander\\examples\\example_projects\\BaldEagleCrkMulti2D\\BaldEagleDamBrk.g09.hdf\n",
            "2025-03-19 17:40:12 - ras_commander.HdfBase - INFO - Final validated HDF file path: c:\\GH\\ras-commander\\examples\\example_projects\\BaldEagleCrkMulti2D\\BaldEagleDamBrk.g09.hdf\n",
            "2025-03-19 17:40:12 - ras_commander.HdfBase - INFO - Found projection in HDF file: c:\\GH\\ras-commander\\examples\\example_projects\\BaldEagleCrkMulti2D\\BaldEagleDamBrk.g09.hdf\n"
          ]
        },
        {
          "name": "stdout",
          "output_type": "stream",
          "text": [
            "\n",
            "Boundary Condition Lines:\n"
          ]
        }
      ],
      "source": [
        "# Get boundary condition lines as GeoDatframe\n",
        "bc_lines_gdf = HdfBndry.get_bc_lines(geom_hdf_path)\n",
        "print(\"\\nBoundary Condition Lines:\")"
      ]
    },
    {
      "cell_type": "code",
      "execution_count": 51,
      "metadata": {},
      "outputs": [
        {
          "data": {
            "text/html": "<div>\n<style scoped>\\n', '    .dataframe tbody tr th:only-of-type {\\n', '        vertical-align: middle;\\n', '    }\\n', '\\n', '    .dataframe tbody tr th {\\n', '        vertical-align: top;\\n', '    }\\n', '\\n', '    .dataframe thead th {\\n', '        text-align: right;\\n', '    }\\n', '</style>\n<table border=\"1\" class=\"dataframe\">\n  <thead>\\n', '    <tr style=\"text-align: right;\">\\n', '      <th></th>\\n', '      <th>Name</th>\\n', '      <th>SA-2D</th>\\n', '      <th>Type</th>\\n', '      <th>Length</th>\\n', '      <th>geometry</th>\\n', '      <th>bc_line_id</th>\\n', '    </tr>\\n', '  </thead>\n  <tbody>\n    <tr>\\n', '      <th>0</th>\\n', '      <td>DSNormalDepth</td>\\n', '      <td>BaldEagleCr</td>\\n', '      <td>External</td>\\n', '      <td>1801.303345</td>\\n', '      <td>LINESTRING (2082004.235 364024.82, 2083193.546...</td>\\n', '      <td>0</td>\\n', '    </tr><tr>\\n', '      <th>1</th>\\n', '      <td>DS2NormalD</td>\\n', '      <td>BaldEagleCr</td>\\n', '      <td>External</td>\\n', '      <td>2633.932617</td>\\n', '      <td>LINESTRING (2084425.804 365392.892, 2084354.64...</td>\\n', '      <td>1</td>\\n', '    </tr><tr>\\n', '      <th>2</th>\\n', '      <td>Upstream Inflow</td>\\n', '      <td>BaldEagleCr</td>\\n', '      <td>External</td>\\n', '      <td>2533.638672</td>\\n', '      <td>LINESTRING (1967473.737 290973.629, 1969582.89...</td>\\n', '      <td>2</td>\\n', '    </tr>\n    <tr><td colspan=\"100%\" style=\"text-align:center\">[... additional rows truncated ...]</td></tr>\n  </tbody>\n</table>\n</div>",
            "text/plain": "['              Name        SA-2D      Type       Length  \\\\\\n', '0    DSNormalDepth  BaldEagleCr  External  1801.303345   \\n', '1       DS2NormalD  BaldEagleCr  External  2633.932617   \\n', '2  Upstream Inflow  BaldEagleCr  External  2533.638672   \\n', '\\n', '                                            geometry  bc_line_id  \\n', '0  LINESTRING (2082004.235 364024.82, 2083193.546...           0  \\n', '1  LINESTRING (2084425.804 365392.892, 2084354.64...           1  \\n', '2  LINESTRING (1967473.737 290973.629, 1969582.89...           2  ']"
          },
          "execution_count": 51,
          "metadata": {},
          "output_type": "execute_result"
        }
      ],
      "source": [
        "bc_lines_gdf"
      ]
    },
    {
      "cell_type": "markdown",
      "metadata": {},
      "source": [
        "### Dev Note: Need to add function for Reference Lines"
      ]
    },
    {
      "cell_type": "code",
      "execution_count": 52,
      "metadata": {},
      "outputs": [
        {
          "name": "stderr",
          "output_type": "stream",
          "text": [
            "2025-03-19 17:40:12 - ras_commander.HdfBndry - INFO - Using HDF file from direct string path: c:\\GH\\ras-commander\\examples\\example_projects\\BaldEagleCrkMulti2D\\BaldEagleDamBrk.g09.hdf\n",
            "2025-03-19 17:40:12 - ras_commander.HdfBndry - INFO - Final validated HDF file path: c:\\GH\\ras-commander\\examples\\example_projects\\BaldEagleCrkMulti2D\\BaldEagleDamBrk.g09.hdf\n"
          ]
        }
      ],
      "source": [
        "# Get reference points as Geodataframe\n",
        "ref_points_gdf = HdfBndry.get_reference_points(geom_hdf_path)"
      ]
    },
    {
      "cell_type": "code",
      "execution_count": 53,
      "metadata": {},
      "outputs": [
        {
          "name": "stdout",
          "output_type": "stream",
          "text": [
            "\n",
            "Reference Points:\n"
          ]
        },
        {
          "data": {
            "text/html": "<div>\n<style scoped>\\n', '    .dataframe tbody tr th:only-of-type {\\n', '        vertical-align: middle;\\n', '    }\\n', '\\n', '    .dataframe tbody tr th {\\n', '        vertical-align: top;\\n', '    }\\n', '\\n', '    .dataframe thead th {\\n', '        text-align: right;\\n', '    }\\n', '</style>\n<table border=\"1\" class=\"dataframe\">\n  <thead>\\n', '    <tr style=\"text-align: right;\">\\n', '      <th></th>\\n', '    </tr>\\n', '  </thead>\n  <tbody>\n    \n    <tr><td colspan=\"100%\" style=\"text-align:center\">[... additional rows truncated ...]</td></tr>\n  </tbody>\n</table>\n</div>",
            "text/plain": "['Empty GeoDataFrame\\n', 'Columns: []\\n', 'Index: []']"
          },
          "execution_count": 53,
          "metadata": {},
          "output_type": "execute_result"
        }
      ],
      "source": [
        "print(\"\\nReference Points:\")\n",
        "ref_points_gdf\n",
        "# There are no reference points in this example project (for demonstration only)"
      ]
    },
    {
      "cell_type": "code",
      "execution_count": 54,
      "metadata": {},
      "outputs": [
        {
          "name": "stderr",
          "output_type": "stream",
          "text": [
            "2025-03-19 17:40:12 - ras_commander.HdfBndry - INFO - Using HDF file from direct string path: c:\\GH\\ras-commander\\examples\\example_projects\\BaldEagleCrkMulti2D\\BaldEagleDamBrk.g09.hdf\n",
            "2025-03-19 17:40:12 - ras_commander.HdfBndry - INFO - Final validated HDF file path: c:\\GH\\ras-commander\\examples\\example_projects\\BaldEagleCrkMulti2D\\BaldEagleDamBrk.g09.hdf\n"
          ]
        }
      ],
      "source": [
        "# Extract Refinement Regions\n",
        "refinement_regions_df = HdfBndry.get_refinement_regions(geom_hdf_path)"
      ]
    },
    {
      "cell_type": "code",
      "execution_count": 55,
      "metadata": {},
      "outputs": [
        {
          "data": {
            "text/html": "<div>\n<style scoped>\\n', '    .dataframe tbody tr th:only-of-type {\\n', '        vertical-align: middle;\\n', '    }\\n', '\\n', '    .dataframe tbody tr th {\\n', '        vertical-align: top;\\n', '    }\\n', '\\n', '    .dataframe thead th {\\n', '        text-align: right;\\n', '    }\\n', '</style>\n<table border=\"1\" class=\"dataframe\">\n  <thead>\\n', '    <tr style=\"text-align: right;\">\\n', '      <th></th>\\n', '    </tr>\\n', '  </thead>\n  <tbody>\n    \n    <tr><td colspan=\"100%\" style=\"text-align:center\">[... additional rows truncated ...]</td></tr>\n  </tbody>\n</table>\n</div>",
            "text/plain": "['Empty GeoDataFrame\\n', 'Columns: []\\n', 'Index: []']"
          },
          "execution_count": 55,
          "metadata": {},
          "output_type": "execute_result"
        }
      ],
      "source": [
        "refinement_regions_df"
      ]
    },
    {
      "cell_type": "code",
      "execution_count": 56,
      "metadata": {},
      "outputs": [
        {
          "name": "stdout",
          "output_type": "stream",
          "text": [
            "No refinement regions found in the geometry file.\n"
          ]
        }
      ],
      "source": [
        "# Plot Refinement Regions\n",
        "\n",
        "if not refinement_regions_df.empty:\n",
        "    print(\"Refinement Regions DataFrame:\")\n",
        "    display(refinement_regions_df.head())\n",
        "    \n",
        "    # Plot refinement regions\n",
        "    fig, ax = plt.subplots(figsize=(12, 8))\n",
        "    refinement_regions_df.plot(ax=ax, column='CellSize', legend=True, \n",
        "                               legend_kwds={'label': 'Cell Size', 'orientation': 'horizontal'},\n",
        "                               cmap='viridis')\n",
        "    ax.set_title('2D Mesh Area Refinement Regions')\n",
        "    ax.set_xlabel('Easting')\n",
        "    ax.set_ylabel('Northing')\n",
        "    plt.tight_layout()\n",
        "    plt.show()\n",
        "else:\n",
        "    print(\"No refinement regions found in the geometry file.\")\n",
        "\n",
        "# Analyze Refinement Regions\n",
        "if not refinement_regions_df.empty:\n",
        "    print(\"\\nRefinement Regions Analysis:\")\n",
        "    print(f\"Total number of refinement regions: {len(refinement_regions_df)}\")\n",
        "    print(\"\\nCell Size Statistics:\")\n",
        "    print(refinement_regions_df['CellSize'].describe())\n",
        "    \n",
        "    # Group by Shape Type\n",
        "    shape_type_counts = refinement_regions_df['ShapeType'].value_counts()\n",
        "    print(\"\\nRefinement Region Shape Types:\")\n",
        "    print(shape_type_counts)\n",
        "    \n",
        "    # Plot Shape Type distribution\n",
        "    plt.figure(figsize=(10, 6))\n",
        "    shape_type_counts.plot(kind='bar')\n",
        "    plt.title('Distribution of Refinement Region Shape Types')\n",
        "    plt.xlabel('Shape Type')\n",
        "    plt.ylabel('Count')\n",
        "    plt.xticks(rotation=45)\n",
        "    plt.tight_layout()\n",
        "    plt.show()"
      ]
    },
    {
      "cell_type": "code",
      "execution_count": 57,
      "metadata": {},
      "outputs": [
        {
          "name": "stderr",
          "output_type": "stream",
          "text": [
            "2025-03-19 17:40:12 - ras_commander.HdfPlan - INFO - Using HDF file from direct string path: c:\\GH\\ras-commander\\examples\\example_projects\\BaldEagleCrkMulti2D\\BaldEagleDamBrk.p06.hdf\n",
            "2025-03-19 17:40:12 - ras_commander.HdfPlan - INFO - Final validated HDF file path: c:\\GH\\ras-commander\\examples\\example_projects\\BaldEagleCrkMulti2D\\BaldEagleDamBrk.p06.hdf\n"
          ]
        }
      ],
      "source": [
        "# Extract Plan Parameters \n",
        "plan_parameters_df = HdfPlan.get_plan_parameters(plan_hdf_path)"
      ]
    },
    {
      "cell_type": "code",
      "execution_count": 58,
      "metadata": {},
      "outputs": [
        {
          "data": {
            "text/html": "<div>\n<style scoped>\\n', '    .dataframe tbody tr th:only-of-type {\\n', '        vertical-align: middle;\\n', '    }\\n', '\\n', '    .dataframe tbody tr th {\\n', '        vertical-align: top;\\n', '    }\\n', '\\n', '    .dataframe thead th {\\n', '        text-align: right;\\n', '    }\\n', '</style>\n<table border=\"1\" class=\"dataframe\">\n  <thead>\\n', '    <tr style=\"text-align: right;\">\\n', '      <th></th>\\n', '      <th>Plan</th>\\n', '      <th>Parameter</th>\\n', '      <th>Value</th>\\n', '    </tr>\\n', '  </thead>\n  <tbody>\n    <tr>\\n', '      <th>0</th>\\n', '      <td>06</td>\\n', '      <td>1D Cores</td>\\n', '      <td>0</td>\\n', '    </tr><tr>\\n', '      <th>1</th>\\n', '      <td>06</td>\\n', '      <td>1D Flow Tolerance</td>\\n', '      <td>NaN</td>\\n', '    </tr><tr>\\n', '      <th>2</th>\\n', '      <td>06</td>\\n', '      <td>1D Maximum Iterations</td>\\n', '      <td>20</td>\\n', '    </tr><tr>\\n', '      <th>3</th>\\n', '      <td>06</td>\\n', '      <td>1D Maximum Iterations Without Improvement</td>\\n', '      <td>0</td>\\n', '    </tr><tr>\\n', '      <th>4</th>\\n', '      <td>06</td>\\n', '      <td>1D Maximum Water Surface Error To Abort</td>\\n', '      <td>100.0</td>\\n', '    </tr>\n    <tr><td colspan=\"100%\" style=\"text-align:center\">[... additional rows truncated ...]</td></tr>\n  </tbody>\n</table>\n</div>",
            "text/plain": "['   Plan                                   Parameter  \\\\\\n', '0    06                                    1D Cores   \\n', '1    06                           1D Flow Tolerance   \\n', '2    06                       1D Maximum Iterations   \\n', '3    06   1D Maximum Iterations Without Improvement   \\n', '4    06     1D Maximum Water Surface Error To Abort   \\n', '5    06                              1D Methodology   \\n', '6    06         1D Storage Area Elevation Tolerance   \\n', '7    06                                    1D Theta   \\n', '8    06                             1D Theta Warmup   \\n', '9    06        1D Water Surface Elevation Tolerance   \\n', '10   06                        1D-2D Flow Tolerance   \\n', '11   06  1D-2D Gate Flow Submergence Decay Exponent   \\n', '12   06                    1D-2D IS Stablity Factor   \\n', '13   06                    1D-2D LS Stablity Factor   \\n', '14   06                    1D-2D Maximum Iterations   \\n', '15   06         1D-2D Maximum Number \n...\n[Output truncated, 7265 characters total]"
          },
          "execution_count": 58,
          "metadata": {},
          "output_type": "execute_result"
        }
      ],
      "source": [
        "plan_parameters_df"
      ]
    },
    {
      "cell_type": "code",
      "execution_count": 59,
      "metadata": {},
      "outputs": [
        {
          "name": "stderr",
          "output_type": "stream",
          "text": [
            "2025-03-19 17:40:12 - ras_commander.HdfResultsPlan - INFO - Using HDF file from direct string path: c:\\GH\\ras-commander\\examples\\example_projects\\BaldEagleCrkMulti2D\\BaldEagleDamBrk.p06.hdf\n",
            "2025-03-19 17:40:12 - ras_commander.HdfResultsPlan - INFO - Final validated HDF file path: c:\\GH\\ras-commander\\examples\\example_projects\\BaldEagleCrkMulti2D\\BaldEagleDamBrk.p06.hdf\n"
          ]
        }
      ],
      "source": [
        "# Extract volume accounting data\n",
        "volume_accounting_df = HdfResultsPlan.get_volume_accounting(plan_hdf_path)"
      ]
    },
    {
      "cell_type": "code",
      "execution_count": 60,
      "metadata": {},
      "outputs": [
        {
          "data": {
            "text/html": "<div>\n<style scoped>\\n', '    .dataframe tbody tr th:only-of-type {\\n', '        vertical-align: middle;\\n', '    }\\n', '\\n', '    .dataframe tbody tr th {\\n', '        vertical-align: top;\\n', '    }\\n', '\\n', '    .dataframe thead th {\\n', '        text-align: right;\\n', '    }\\n', '</style>\n<table border=\"1\" class=\"dataframe\">\n  <thead>\\n', '    <tr style=\"text-align: right;\">\\n', '      <th></th>\\n', '      <th>Error</th>\\n', '      <th>Error Percent</th>\\n', '      <th>Precipitation Excess (acre feet)</th>\\n', '      <th>Precipitation Excess (inches)</th>\\n', '      <th>Total Boundary Flux of Water In</th>\\n', '      <th>Total Boundary Flux of Water Out</th>\\n', '      <th>Vol Accounting in</th>\\n', '      <th>Volume Ending</th>\\n', '      <th>Volume Starting</th>\\n', '    </tr>\\n', '  </thead>\n  <tbody>\n    <tr>\\n', '      <th>0</th>\\n', '      <td>0.469786</td>\\n', '      <td>0.000332</td>\\n', '      <td>3756.872803</td>\\n', '      <td>1.707615</td>\\n', '      <td>141685.0</td>\\n', '      <td>17240.263672</td>\\n', '      <td>Acre Feet</td>\\n', '      <td>124445.203125</td>\\n', '      <td>0.0</td>\\n', '    </tr>\n    <tr><td colspan=\"100%\" style=\"text-align:center\">[... additional rows truncated ...]</td></tr>\n  </tbody>\n</table>\n</div>",
            "text/plain": "['      Error  Error Percent  Precipitation Excess (acre feet)  \\\\\\n', '0  0.469786       0.000332                       3756.872803   \\n', '\\n', '   Precipitation Excess (inches)  Total Boundary Flux of Water In  \\\\\\n', '0                       1.707615                         141685.0   \\n', '\\n', '   Total Boundary Flux of Water Out Vol Accounting in  Volume Ending  \\\\\\n', '0                      17240.263672         Acre Feet  124445.203125   \\n', '\\n', '   Volume Starting  \\n', '0              0.0  ']"
          },
          "execution_count": 60,
          "metadata": {},
          "output_type": "execute_result"
        }
      ],
      "source": [
        "volume_accounting_df"
      ]
    },
    {
      "cell_type": "markdown",
      "metadata": {},
      "source": [
        "------"
      ]
    },
    {
      "cell_type": "markdown",
      "metadata": {},
      "source": [
        "# RasPlanHdf Class Functions"
      ]
    },
    {
      "cell_type": "markdown",
      "metadata": {},
      "source": [
        "-----"
      ]
    },
    {
      "cell_type": "code",
      "execution_count": 61,
      "metadata": {},
      "outputs": [
        {
          "name": "stderr",
          "output_type": "stream",
          "text": [
            "2025-03-19 17:40:12 - ras_commander.HdfPlan - INFO - Using HDF file from direct string path: c:\\GH\\ras-commander\\examples\\example_projects\\BaldEagleCrkMulti2D\\BaldEagleDamBrk.p06.hdf\n",
            "2025-03-19 17:40:12 - ras_commander.HdfPlan - INFO - Final validated HDF file path: c:\\GH\\ras-commander\\examples\\example_projects\\BaldEagleCrkMulti2D\\BaldEagleDamBrk.p06.hdf\n"
          ]
        },
        {
          "name": "stdout",
          "output_type": "stream",
          "text": [
            "Simulation start time: 2018-09-09 00:00:00\n"
          ]
        }
      ],
      "source": [
        "# Get plan start time as datetime object\n",
        "start_time = HdfPlan.get_plan_start_time(plan_hdf_path)\n",
        "print(f\"Simulation start time: {start_time}\")"
      ]
    },
    {
      "cell_type": "markdown",
      "metadata": {},
      "source": [
        "Simulation start time: 2018-09-09 00:00:00"
      ]
    },
    {
      "cell_type": "code",
      "execution_count": 62,
      "metadata": {},
      "outputs": [
        {
          "name": "stderr",
          "output_type": "stream",
          "text": [
            "2025-03-19 17:40:12 - ras_commander.HdfPlan - INFO - Using HDF file from direct string path: c:\\GH\\ras-commander\\examples\\example_projects\\BaldEagleCrkMulti2D\\BaldEagleDamBrk.p06.hdf\n",
            "2025-03-19 17:40:12 - ras_commander.HdfPlan - INFO - Final validated HDF file path: c:\\GH\\ras-commander\\examples\\example_projects\\BaldEagleCrkMulti2D\\BaldEagleDamBrk.p06.hdf\n"
          ]
        },
        {
          "name": "stdout",
          "output_type": "stream",
          "text": [
            "Simulation end time: 2018-09-14 00:00:00\n"
          ]
        }
      ],
      "source": [
        "# Get plan end time as datetime object\n",
        "end_time = HdfPlan.get_plan_end_time(plan_hdf_path)\n",
        "print(f\"Simulation end time: {end_time}\")"
      ]
    },
    {
      "cell_type": "markdown",
      "metadata": {},
      "source": [
        "Simulation end time: 2018-09-14 00:00:00"
      ]
    },
    {
      "cell_type": "code",
      "execution_count": 63,
      "metadata": {},
      "outputs": [
        {
          "name": "stderr",
          "output_type": "stream",
          "text": [
            "2025-03-19 17:40:12 - ras_commander.HdfResultsMesh - INFO - Using HDF file from direct string path: c:\\GH\\ras-commander\\examples\\example_projects\\BaldEagleCrkMulti2D\\BaldEagleDamBrk.p06.hdf\n",
            "2025-03-19 17:40:12 - ras_commander.HdfResultsMesh - INFO - Final validated HDF file path: c:\\GH\\ras-commander\\examples\\example_projects\\BaldEagleCrkMulti2D\\BaldEagleDamBrk.p06.hdf\n",
            "2025-03-19 17:40:12 - ras_commander.HdfResultsMesh - INFO - Processing summary output for variable: Cell Last Iteration\n",
            "2025-03-19 17:40:12 - ras_commander.HdfMesh - INFO - Using HDF file from h5py.File object: c:\\GH\\ras-commander\\examples\\example_projects\\BaldEagleCrkMulti2D\\BaldEagleDamBrk.p06.hdf\n",
            "2025-03-19 17:40:12 - ras_commander.HdfMesh - INFO - Final validated HDF file path: c:\\GH\\ras-commander\\examples\\example_projects\\BaldEagleCrkMulti2D\\BaldEagleDamBrk.p06.hdf\n",
            "2025-03-19 17:40:12 - ras_commander.HdfMesh - INFO - Using existing Path object HDF file: c:\\GH\\ras-commander\\examples\\example_projects\\BaldEagleCrkMulti2D\\BaldEagleDamBrk.p06.hdf\n",
            "2025-03-19 17:40:12 - ras_commander.HdfMesh - INFO - Final validated HDF file path: c:\\GH\\ras-commander\\examples\\example_projects\\BaldEagleCrkMulti2D\\BaldEagleDamBrk.p06.hdf\n",
            "2025-03-19 17:40:12 - ras_commander.HdfBase - INFO - Using HDF file from h5py.File object: c:\\GH\\ras-commander\\examples\\example_projects\\BaldEagleCrkMulti2D\\BaldEagleDamBrk.p06.hdf\n",
            "2025-03-19 17:40:12 - ras_commander.HdfBase - INFO - Final validated HDF file path: c:\\GH\\ras-commander\\examples\\example_projects\\BaldEagleCrkMulti2D\\BaldEagleDamBrk.p06.hdf\n",
            "2025-03-19 17:40:12 - ras_commander.HdfBase - INFO - Found projection in HDF file: c:\\GH\\ras-commander\\examples\\example_projects\\BaldEagleCrkMulti2D\\BaldEagleDamBrk.p06.hdf\n",
            "2025-03-19 17:40:12 - ras_commander.HdfBase - INFO - Using HDF file from h5py.File object: c:\\GH\\ras-commander\\examples\\example_projects\\BaldEagleCrkMulti2D\\BaldEagleDamBrk.p06.hdf\n",
            "2025-03-19 17:40:12 - ras_commander.HdfBase - INFO - Final validated HDF file path: c:\\GH\\ras-commander\\examples\\example_projects\\BaldEagleCrkMulti2D\\BaldEagleDamBrk.p06.hdf\n",
            "2025-03-19 17:40:12 - ras_commander.HdfBase - INFO - Found projection in HDF file: c:\\GH\\ras-commander\\examples\\example_projects\\BaldEagleCrkMulti2D\\BaldEagleDamBrk.p06.hdf\n",
            "2025-03-19 17:40:12 - ras_commander.HdfResultsMesh - INFO - Processed 19597 rows of summary output data\n"
          ]
        }
      ],
      "source": [
        "# Get maximum iteration count for mesh cells\n",
        "max_iter_gdf = HdfResultsMesh.get_mesh_max_iter(plan_hdf_path)"
      ]
    },
    {
      "cell_type": "code",
      "execution_count": 64,
      "metadata": {},
      "outputs": [
        {
          "data": {
            "text/html": "<div>\n<style scoped>\\n', '    .dataframe tbody tr th:only-of-type {\\n', '        vertical-align: middle;\\n', '    }\\n', '\\n', '    .dataframe tbody tr th {\\n', '        vertical-align: top;\\n', '    }\\n', '\\n', '    .dataframe thead th {\\n', '        text-align: right;\\n', '    }\\n', '</style>\n<table border=\"1\" class=\"dataframe\">\n  <thead>\\n', '    <tr style=\"text-align: right;\">\\n', '      <th></th>\\n', '      <th>mesh_name</th>\\n', '      <th>cell_id</th>\\n', '      <th>cell_last_iteration</th>\\n', '      <th>geometry</th>\\n', '    </tr>\\n', '  </thead>\n  <tbody>\n    <tr>\\n', '      <th>0</th>\\n', '      <td>BaldEagleCr</td>\\n', '      <td>0</td>\\n', '      <td>0</td>\\n', '      <td>POINT (2083000 370750)</td>\\n', '    </tr><tr>\\n', '      <th>1</th>\\n', '      <td>BaldEagleCr</td>\\n', '      <td>1</td>\\n', '      <td>0</td>\\n', '      <td>POINT (2083250 370750)</td>\\n', '    </tr><tr>\\n', '      <th>2</th>\\n', '      <td>BaldEagleCr</td>\\n', '      <td>2</td>\\n', '      <td>0</td>\\n', '      <td>POINT (2083500 370750)</td>\\n', '    </tr><tr>\\n', '      <th>3</th>\\n', '      <td>BaldEagleCr</td>\\n', '      <td>3</td>\\n', '      <td>2</td>\\n', '      <td>POINT (2083750 370750)</td>\\n', '    </tr><tr>\\n', '      <th>4</th>\\n', '      <td>BaldEagleCr</td>\\n', '      <td>4</td>\\n', '      <td>0</td>\\n', '      <td>POINT (2084000 370750)</td>\\n', '    </tr>\n    <tr><td colspan=\"100%\" style=\"text-align:center\">[... additional rows truncated ...]</td></tr>\n  </tbody>\n</table>\n</div>",
            "text/plain": "['         mesh_name  cell_id  cell_last_iteration  \\\\\\n', '0      BaldEagleCr        0                    0   \\n', '1      BaldEagleCr        1                    0   \\n', '2      BaldEagleCr        2                    0   \\n', '3      BaldEagleCr        3                    2   \\n', '4      BaldEagleCr        4                    0   \\n', '...            ...      ...                  ...   \\n', '19592  BaldEagleCr    19592                    0   \\n', '19593  BaldEagleCr    19593                    0   \\n', '19594  BaldEagleCr    19594                    0   \\n', '19595  BaldEagleCr    19595                    0   \\n', '19596  BaldEagleCr    19596                    0   \\n', '\\n', '                             geometry  \\n', '0              POINT (2083000 370750)  \\n', '1              POINT (2083250 370750)  \\n', '2              POINT (2083500 370750)  \\n', '3              POINT (2083750 370750)  \\n', '4              POINT (2084000 370750)  \\n', '...                               ...  \\n', '19592  POINT (1978423.032 300718.897)  \\n', '19593  POINT (1973389.375 297311.928)  \\n', '19594   POINT (1968834.79 295808.861)  \\n', '19595  POINT (1966130.942 291879.395)  \\n', '19596   POINT (1969660.046 289673.23)  \\n', '\\n', '[19597 rows x 4 columns]']"
          },
          "execution_count": 64,
          "metadata": {},
          "output_type": "execute_result"
        }
      ],
      "source": [
        "max_iter_gdf"
      ]
    },
    {
      "cell_type": "code",
      "execution_count": 65,
      "metadata": {},
      "outputs": [
        {
          "name": "stderr",
          "output_type": "stream",
          "text": [
            "2025-03-19 17:40:12 - ras_commander.HdfMesh - INFO - Using HDF file from direct string path: c:\\GH\\ras-commander\\examples\\example_projects\\BaldEagleCrkMulti2D\\BaldEagleDamBrk.p06.hdf\n",
            "2025-03-19 17:40:12 - ras_commander.HdfMesh - INFO - Final validated HDF file path: c:\\GH\\ras-commander\\examples\\example_projects\\BaldEagleCrkMulti2D\\BaldEagleDamBrk.p06.hdf\n",
            "2025-03-19 17:40:12 - ras_commander.HdfMesh - INFO - Using existing Path object HDF file: c:\\GH\\ras-commander\\examples\\example_projects\\BaldEagleCrkMulti2D\\BaldEagleDamBrk.p06.hdf\n",
            "2025-03-19 17:40:12 - ras_commander.HdfMesh - INFO - Final validated HDF file path: c:\\GH\\ras-commander\\examples\\example_projects\\BaldEagleCrkMulti2D\\BaldEagleDamBrk.p06.hdf\n",
            "2025-03-19 17:40:13 - ras_commander.HdfBase - INFO - Using HDF file from h5py.File object: c:\\GH\\ras-commander\\examples\\example_projects\\BaldEagleCrkMulti2D\\BaldEagleDamBrk.p06.hdf\n",
            "2025-03-19 17:40:13 - ras_commander.HdfBase - INFO - Final validated HDF file path: c:\\GH\\ras-commander\\examples\\example_projects\\BaldEagleCrkMulti2D\\BaldEagleDamBrk.p06.hdf\n",
            "2025-03-19 17:40:13 - ras_commander.HdfBase - INFO - Found projection in HDF file: c:\\GH\\ras-commander\\examples\\example_projects\\BaldEagleCrkMulti2D\\BaldEagleDamBrk.p06.hdf\n"
          ]
        }
      ],
      "source": [
        "# Get cell coordinates \n",
        "cell_coords = HdfMesh.get_mesh_cell_points(plan_hdf_path)\n"
      ]
    },
    {
      "cell_type": "code",
      "execution_count": 66,
      "metadata": {},
      "outputs": [
        {
          "data": {
            "text/plain": [
              "<Figure size 1200x800 with 2 Axes>"
            ]
          },
          "metadata": {},
          "output_type": "display_data"
        },
        {
          "name": "stdout",
          "output_type": "stream",
          "text": [
            "\n",
            "First few rows of the dataframe:\n"
          ]
        },
        {
          "data": {
            "text/html": "<div>\n<style scoped>\\n', '    .dataframe tbody tr th:only-of-type {\\n', '        vertical-align: middle;\\n', '    }\\n', '\\n', '    .dataframe tbody tr th {\\n', '        vertical-align: top;\\n', '    }\\n', '\\n', '    .dataframe thead th {\\n', '        text-align: right;\\n', '    }\\n', '</style>\n<table border=\"1\" class=\"dataframe\">\n  <thead>\\n', '    <tr style=\"text-align: right;\">\\n', '      <th></th>\\n', '      <th>mesh_name</th>\\n', '      <th>cell_id</th>\\n', '      <th>geometry</th>\\n', '    </tr>\\n', '  </thead>\n  <tbody>\n    <tr>\\n', '      <th>0</th>\\n', '      <td>BaldEagleCr</td>\\n', '      <td>0</td>\\n', '      <td>POINT (2083000 370750)</td>\\n', '    </tr><tr>\\n', '      <th>1</th>\\n', '      <td>BaldEagleCr</td>\\n', '      <td>1</td>\\n', '      <td>POINT (2083250 370750)</td>\\n', '    </tr><tr>\\n', '      <th>2</th>\\n', '      <td>BaldEagleCr</td>\\n', '      <td>2</td>\\n', '      <td>POINT (2083500 370750)</td>\\n', '    </tr><tr>\\n', '      <th>3</th>\\n', '      <td>BaldEagleCr</td>\\n', '      <td>3</td>\\n', '      <td>POINT (2083750 370750)</td>\\n', '    </tr><tr>\\n', '      <th>4</th>\\n', '      <td>BaldEagleCr</td>\\n', '      <td>4</td>\\n', '      <td>POINT (2084000 370750)</td>\\n', '    </tr>\n    <tr><td colspan=\"100%\" style=\"text-align:center\">[... additional rows truncated ...]</td></tr>\n  </tbody>\n</table>\n</div>",
            "text/plain": "['         mesh_name  cell_id                        geometry\\n', '0      BaldEagleCr        0          POINT (2083000 370750)\\n', '1      BaldEagleCr        1          POINT (2083250 370750)\\n', '2      BaldEagleCr        2          POINT (2083500 370750)\\n', '3      BaldEagleCr        3          POINT (2083750 370750)\\n', '4      BaldEagleCr        4          POINT (2084000 370750)\\n', '...            ...      ...                             ...\\n', '19592  BaldEagleCr    19592  POINT (1978423.032 300718.897)\\n', '19593  BaldEagleCr    19593  POINT (1973389.375 297311.928)\\n', '19594  BaldEagleCr    19594   POINT (1968834.79 295808.861)\\n', '19595  BaldEagleCr    19595  POINT (1966130.942 291879.395)\\n', '19596  BaldEagleCr    19596   POINT (1969660.046 289673.23)\\n', '\\n', '[19597 rows x 3 columns]']"
          },
          "execution_count": 66,
          "metadata": {},
          "output_type": "execute_result"
        }
      ],
      "source": [
        "# Plot Mesh Max Iterations\n",
        "\n",
        "if generate_maps:\n",
        "    # Extract x and y coordinates from the geometry column\n",
        "    max_iter_gdf['x'] = max_iter_gdf['geometry'].apply(lambda geom: geom.x if geom is not None else None)\n",
        "    max_iter_gdf['y'] = max_iter_gdf['geometry'].apply(lambda geom: geom.y if geom is not None else None)\n",
        "\n",
        "    # Remove rows with None coordinates\n",
        "    max_iter_gdf = max_iter_gdf.dropna(subset=['x', 'y'])\n",
        "\n",
        "    # Create the plot\n",
        "    fig, ax = plt.subplots(figsize=(12, 8))\n",
        "    scatter = ax.scatter(max_iter_gdf['x'], max_iter_gdf['y'], \n",
        "                         c=max_iter_gdf['cell_last_iteration'], \n",
        "                         cmap='viridis', \n",
        "                         s=1)\n",
        "\n",
        "    # Customize the plot\n",
        "    ax.set_title('Max Iterations per Cell')\n",
        "    ax.set_xlabel('X Coordinate')\n",
        "    ax.set_ylabel('Y Coordinate')\n",
        "    plt.colorbar(scatter, label='Max Iterations')\n",
        "\n",
        "    # Show the plot\n",
        "    plt.show()\n",
        "else:\n",
        "    print(\"generate_maps is set to False\")\n",
        "\n",
        "# Print the first few rows of the dataframe for verification\n",
        "print(\"\\nFirst few rows of the dataframe:\")\n",
        "max_iter_gdf[['mesh_name', 'cell_id', 'geometry']]\n",
        "\n"
      ]
    },
    {
      "cell_type": "code",
      "execution_count": 67,
      "metadata": {},
      "outputs": [
        {
          "name": "stdout",
          "output_type": "stream",
          "text": [
            "\n",
            "Top 10 Cells with Highest Iteration Counts:\n",
            "         mesh_name  cell_id  cell_last_iteration     x_coord    y_coord\n",
            "17721  BaldEagleCr    17721                 2652  2007386.39  321546.77\n",
            "17752  BaldEagleCr    17752                  986  2005903.93  322873.01\n",
            "17621  BaldEagleCr    17621                  509  1968250.00  292000.00\n",
            "13520  BaldEagleCr    13520                  308  2007000.00  321250.00\n",
            "13039  BaldEagleCr    13039                  194  2006750.00  324250.00\n",
            "8749   BaldEagleCr     8749                  180  2028000.00  339000.00\n",
            "16970  BaldEagleCr    16970                  148  1973750.00  296500.00\n",
            "6415   BaldEagleCr     6415                  134  2054250.00  348500.00\n",
            "6188   BaldEagleCr     6188                  133  2040250.00  349000.00\n",
            "6692   BaldEagleCr     6692                  128  2041750.00  347500.00\n"
          ]
        }
      ],
      "source": [
        "# List top 10 points for Max Iteration per Cell\n",
        "# Sort the dataframe by cell_last_iteration in descending order\n",
        "top_iterations = max_iter_gdf.sort_values(by='cell_last_iteration', ascending=False).head(10)\n",
        "\n",
        "# Create a more informative display with coordinates\n",
        "print(\"\\nTop 10 Cells with Highest Iteration Counts:\")\n",
        "top_iterations_display = top_iterations.copy()\n",
        "top_iterations_display['x_coord'] = top_iterations_display['geometry'].apply(lambda geom: round(geom.x, 2))\n",
        "top_iterations_display['y_coord'] = top_iterations_display['geometry'].apply(lambda geom: round(geom.y, 2))\n",
        "\n",
        "# Display the results in a formatted table\n",
        "print(top_iterations_display[['mesh_name', 'cell_id', 'cell_last_iteration', 'x_coord', 'y_coord']])\n"
      ]
    },
    {
      "cell_type": "code",
      "execution_count": 68,
      "metadata": {},
      "outputs": [
        {
          "name": "stderr",
          "output_type": "stream",
          "text": [
            "2025-03-19 17:40:13 - ras_commander.HdfResultsMesh - INFO - Using HDF file from direct string path: c:\\GH\\ras-commander\\examples\\example_projects\\BaldEagleCrkMulti2D\\BaldEagleDamBrk.p06.hdf\n",
            "2025-03-19 17:40:13 - ras_commander.HdfResultsMesh - INFO - Final validated HDF file path: c:\\GH\\ras-commander\\examples\\example_projects\\BaldEagleCrkMulti2D\\BaldEagleDamBrk.p06.hdf\n",
            "2025-03-19 17:40:13 - ras_commander.HdfResultsMesh - INFO - Processing summary output for variable: Maximum Water Surface\n",
            "2025-03-19 17:40:13 - ras_commander.HdfMesh - INFO - Using HDF file from h5py.File object: c:\\GH\\ras-commander\\examples\\example_projects\\BaldEagleCrkMulti2D\\BaldEagleDamBrk.p06.hdf\n",
            "2025-03-19 17:40:13 - ras_commander.HdfMesh - INFO - Final validated HDF file path: c:\\GH\\ras-commander\\examples\\example_projects\\BaldEagleCrkMulti2D\\BaldEagleDamBrk.p06.hdf\n",
            "2025-03-19 17:40:13 - ras_commander.HdfMesh - INFO - Using existing Path object HDF file: c:\\GH\\ras-commander\\examples\\example_projects\\BaldEagleCrkMulti2D\\BaldEagleDamBrk.p06.hdf\n",
            "2025-03-19 17:40:13 - ras_commander.HdfMesh - INFO - Final validated HDF file path: c:\\GH\\ras-commander\\examples\\example_projects\\BaldEagleCrkMulti2D\\BaldEagleDamBrk.p06.hdf\n",
            "2025-03-19 17:40:14 - ras_commander.HdfBase - INFO - Using HDF file from h5py.File object: c:\\GH\\ras-commander\\examples\\example_projects\\BaldEagleCrkMulti2D\\BaldEagleDamBrk.p06.hdf\n",
            "2025-03-19 17:40:14 - ras_commander.HdfBase - INFO - Final validated HDF file path: c:\\GH\\ras-commander\\examples\\example_projects\\BaldEagleCrkMulti2D\\BaldEagleDamBrk.p06.hdf\n",
            "2025-03-19 17:40:14 - ras_commander.HdfBase - INFO - Found projection in HDF file: c:\\GH\\ras-commander\\examples\\example_projects\\BaldEagleCrkMulti2D\\BaldEagleDamBrk.p06.hdf\n",
            "2025-03-19 17:40:14 - ras_commander.HdfBase - INFO - Using HDF file from h5py.File object: c:\\GH\\ras-commander\\examples\\example_projects\\BaldEagleCrkMulti2D\\BaldEagleDamBrk.p06.hdf\n",
            "2025-03-19 17:40:14 - ras_commander.HdfBase - INFO - Final validated HDF file path: c:\\GH\\ras-commander\\examples\\example_projects\\BaldEagleCrkMulti2D\\BaldEagleDamBrk.p06.hdf\n",
            "2025-03-19 17:40:14 - ras_commander.HdfBase - INFO - Found projection in HDF file: c:\\GH\\ras-commander\\examples\\example_projects\\BaldEagleCrkMulti2D\\BaldEagleDamBrk.p06.hdf\n",
            "2025-03-19 17:40:14 - ras_commander.HdfResultsMesh - INFO - Processed 19597 rows of summary output data\n"
          ]
        }
      ],
      "source": [
        "# Get mesh maximum water surface elevation as Geodataframe\n",
        "max_ws_gdf = HdfResultsMesh.get_mesh_max_ws(plan_hdf_path)"
      ]
    },
    {
      "cell_type": "code",
      "execution_count": 69,
      "metadata": {},
      "outputs": [
        {
          "data": {
            "text/plain": "[\"{'mesh_name': 'BaldEagleCr',\\n\", \" 'Max Time': np.float32(5.0),\\n\", \" 'Max Value': np.float32(848.2054),\\n\", \" 'Min Time': np.float32(0.99953705),\\n\", \" 'Min Value': np.float32(535.585),\\n\", \" 'Rows Variables': ['WSEL', 'Time'],\\n\", \" 'Units': ['ft', 'days']}\"]"
          },
          "execution_count": 69,
          "metadata": {},
          "output_type": "execute_result"
        }
      ],
      "source": [
        "# Check Dataframe Attributes (the HDF Attributes are also imported as Geoataframe Attributes)\n",
        "max_ws_gdf.attrs"
      ]
    },
    {
      "cell_type": "code",
      "execution_count": 70,
      "metadata": {},
      "outputs": [
        {
          "data": {
            "text/html": "<div>\n<style scoped>\\n', '    .dataframe tbody tr th:only-of-type {\\n', '        vertical-align: middle;\\n', '    }\\n', '\\n', '    .dataframe tbody tr th {\\n', '        vertical-align: top;\\n', '    }\\n', '\\n', '    .dataframe thead th {\\n', '        text-align: right;\\n', '    }\\n', '</style>\n<table border=\"1\" class=\"dataframe\">\n  <thead>\\n', '    <tr style=\"text-align: right;\">\\n', '      <th></th>\\n', '      <th>mesh_name</th>\\n', '      <th>cell_id</th>\\n', '      <th>maximum_water_surface</th>\\n', '      <th>maximum_water_surface_time</th>\\n', '      <th>geometry</th>\\n', '    </tr>\\n', '  </thead>\n  <tbody>\n    <tr>\\n', '      <th>0</th>\\n', '      <td>BaldEagleCr</td>\\n', '      <td>0</td>\\n', '      <td>704.054443</td>\\n', '      <td>2018-09-10 18:00:00</td>\\n', '      <td>POINT (2083000 370750)</td>\\n', '    </tr><tr>\\n', '      <th>1</th>\\n', '      <td>BaldEagleCr</td>\\n', '      <td>1</td>\\n', '      <td>692.377991</td>\\n', '      <td>2018-09-10 18:04:00</td>\\n', '      <td>POINT (2083250 370750)</td>\\n', '    </tr><tr>\\n', '      <th>2</th>\\n', '      <td>BaldEagleCr</td>\\n', '      <td>2</td>\\n', '      <td>671.183472</td>\\n', '      <td>2018-09-10 18:13:20</td>\\n', '      <td>POINT (2083500 370750)</td>\\n', '    </tr><tr>\\n', '      <th>3</th>\\n', '      <td>BaldEagleCr</td>\\n', '      <td>3</td>\\n', '      <td>660.605469</td>\\n', '      <td>2018-09-10 18:54:40</td>\\n', '      <td>POINT (2083750 370750)</td>\\n', '    </tr><tr>\\n', '      <th>4</th>\\n', '      <td>BaldEagleCr</td>\\n', '      <td>4</td>\\n', '      <td>660.586243</td>\\n', '      <td>2018-09-10 18:55:20</td>\\n', '      <td>POINT (2084000 370750)</td>\\n', '    </tr>\n    <tr><td colspan=\"100%\" style=\"text-align:center\">[... additional rows truncated ...]</td></tr>\n  </tbody>\n</table>\n</div>",
            "text/plain": "['         mesh_name  cell_id  maximum_water_surface maximum_water_surface_time  \\\\\\n', '0      BaldEagleCr        0             704.054443        2018-09-10 18:00:00   \\n', '1      BaldEagleCr        1             692.377991        2018-09-10 18:04:00   \\n', '2      BaldEagleCr        2             671.183472        2018-09-10 18:13:20   \\n', '3      BaldEagleCr        3             660.605469        2018-09-10 18:54:40   \\n', '4      BaldEagleCr        4             660.586243        2018-09-10 18:55:20   \\n', '...            ...      ...                    ...                        ...   \\n', '19592  BaldEagleCr    19592               0.000000        2018-09-09 00:00:00   \\n', '19593  BaldEagleCr    19593               0.000000        2018-09-09 00:00:00   \\n', '19594  BaldEagleCr    19594               0.000000        2018-09-09 00:00:00   \\n', '19595  BaldEagleCr    19595               0.000000        2018-09-09 00:00:00   \\n', '19596  BaldEagleCr    19596               0.000000        2018-09-09 00:00:00   \\n', '\\n', '                             geometry  \\n', '0              POINT (2083000 370750)  \\n', '1              POINT (2083250 370750)  \\n', '2              POINT (2083500 370750)  \\n', '3              POINT (2083750 370750)  \\n', '4              POINT (2084000 370750)  \\n', '...                               ...  \\n', '19592  POINT (1978423.032 300718.897)  \\n', '19593  POINT (1973389.375 297311.928)  \\n', '19594   POINT (1968834.79 295808.861)  \\n', '19595  POINT (1966130.942 291879.395)  \\n', '19596   POINT (1969660.046 289673.23)  \\n', '\\n', '[19597 rows x 5 columns]']"
          },
          "execution_count": 70,
          "metadata": {},
          "output_type": "execute_result"
        }
      ],
      "source": [
        "max_ws_gdf"
      ]
    },
    {
      "cell_type": "code",
      "execution_count": 71,
      "metadata": {},
      "outputs": [
        {
          "data": {
            "text/plain": [
              "<Figure size 1200x800 with 2 Axes>"
            ]
          },
          "metadata": {},
          "output_type": "display_data"
        }
      ],
      "source": [
        "# Plot the max water surface as a map\n",
        "if generate_maps:\n",
        "    # Extract x and y coordinates from the geometry column\n",
        "    max_ws_gdf['x'] = max_ws_gdf['geometry'].apply(lambda geom: geom.x if geom is not None else None)\n",
        "    max_ws_gdf['y'] = max_ws_gdf['geometry'].apply(lambda geom: geom.y if geom is not None else None)\n",
        "\n",
        "    # Remove rows with None coordinates\n",
        "    max_ws_gdf = max_ws_gdf.dropna(subset=['x', 'y'])\n",
        "\n",
        "    # Create the plot\n",
        "    fig, ax = plt.subplots(figsize=(12, 8))\n",
        "    scatter = ax.scatter(max_ws_gdf['x'], max_ws_gdf['y'], \n",
        "                         c=max_ws_gdf['maximum_water_surface'], \n",
        "                         cmap='viridis', \n",
        "                         s=10)\n",
        "\n",
        "    # Customize the plot\n",
        "    ax.set_title('Max Water Surface per Cell')\n",
        "    ax.set_xlabel('X Coordinate')\n",
        "    ax.set_ylabel('Y Coordinate')\n",
        "    plt.colorbar(scatter, label='Max Water Surface (ft)')\n",
        "\n",
        "    # Add grid lines\n",
        "    ax.grid(True, linestyle='--', alpha=0.7)\n",
        "\n",
        "    # Increase font size for better readability\n",
        "    plt.rcParams.update({'font.size': 12})\n",
        "\n",
        "    # Adjust layout to prevent cutting off labels\n",
        "    plt.tight_layout()\n",
        "\n",
        "    # Show the plot\n",
        "    plt.show()\n",
        "else:\n",
        "    print(\"generate_maps is set to False\")"
      ]
    },
    {
      "cell_type": "code",
      "execution_count": 72,
      "metadata": {},
      "outputs": [
        {
          "data": {
            "text/plain": [
              "<Figure size 1200x800 with 2 Axes>"
            ]
          },
          "metadata": {},
          "output_type": "display_data"
        },
        {
          "name": "stdout",
          "output_type": "stream",
          "text": [
            "\n",
            "Overall Maximum WSEL: 848.21 ft\n",
            "Time of Overall Maximum WSEL: 2018-09-10 17:00:00\n",
            "Hours since simulation start: 41.00 hours\n",
            "Location of Overall Maximum WSEL: X=1968500.0, Y=295000.0\n"
          ]
        }
      ],
      "source": [
        "# Plot the time of the max water surface elevation (WSEL)\n",
        "if generate_maps:\n",
        "    import matplotlib.dates as mdates\n",
        "    from datetime import datetime\n",
        "\n",
        "    # Convert the 'maximum_water_surface_time' to datetime objects\n",
        "    max_ws_gdf['max_wsel_time'] = pd.to_datetime(max_ws_gdf['maximum_water_surface_time'])\n",
        "\n",
        "    # Create the plot\n",
        "    fig, ax = plt.subplots(figsize=(12, 8))\n",
        "\n",
        "    # Convert datetime to hours since the start for colormap\n",
        "    min_time = max_ws_gdf['max_wsel_time'].min()\n",
        "    color_values = (max_ws_gdf['max_wsel_time'] - min_time).dt.total_seconds() / 3600  # Convert to hours\n",
        "\n",
        "    scatter = ax.scatter(max_ws_gdf['x'], max_ws_gdf['y'], \n",
        "                        c=color_values, \n",
        "                        cmap='viridis', \n",
        "                        s=10)\n",
        "\n",
        "    # Customize the plot\n",
        "    ax.set_title('Time of Maximum Water Surface Elevation per Cell')\n",
        "    ax.set_xlabel('X Coordinate')\n",
        "    ax.set_ylabel('Y Coordinate')\n",
        "\n",
        "    # Set up the colorbar\n",
        "    cbar = plt.colorbar(scatter)\n",
        "    cbar.set_label('Hours since simulation start')\n",
        "\n",
        "    # Format the colorbar ticks to show hours\n",
        "    cbar.set_ticks(range(0, int(color_values.max()) + 1, 6))  # Set ticks every 6 hours\n",
        "    cbar.set_ticklabels([f'{h}h' for h in range(0, int(color_values.max()) + 1, 6)])\n",
        "\n",
        "    # Add grid lines\n",
        "    ax.grid(True, linestyle='--', alpha=0.7)\n",
        "\n",
        "    # Increase font size for better readability\n",
        "    plt.rcParams.update({'font.size': 12})\n",
        "\n",
        "    # Adjust layout to prevent cutting off labels\n",
        "    plt.tight_layout()\n",
        "\n",
        "    # Show the plot\n",
        "    plt.show()\n",
        "\n",
        "    # Find the overall maximum WSEL and its time\n",
        "    max_wsel_row = max_ws_gdf.loc[max_ws_gdf['maximum_water_surface'].idxmax()]\n",
        "    hours_since_start = (max_wsel_row['max_wsel_time'] - min_time).total_seconds() / 3600\n",
        "    print(f\"\\nOverall Maximum WSEL: {max_wsel_row['maximum_water_surface']:.2f} ft\")\n",
        "    print(f\"Time of Overall Maximum WSEL: {max_wsel_row['max_wsel_time']}\")\n",
        "    print(f\"Hours since simulation start: {hours_since_start:.2f} hours\")\n",
        "    print(f\"Location of Overall Maximum WSEL: X={max_wsel_row['x']}, Y={max_wsel_row['y']}\")\n"
      ]
    },
    {
      "cell_type": "code",
      "execution_count": 73,
      "metadata": {},
      "outputs": [
        {
          "name": "stderr",
          "output_type": "stream",
          "text": [
            "2025-03-19 17:40:15 - ras_commander.HdfResultsMesh - INFO - Using HDF file from direct string path: c:\\GH\\ras-commander\\examples\\example_projects\\BaldEagleCrkMulti2D\\BaldEagleDamBrk.p06.hdf\n",
            "2025-03-19 17:40:15 - ras_commander.HdfResultsMesh - INFO - Final validated HDF file path: c:\\GH\\ras-commander\\examples\\example_projects\\BaldEagleCrkMulti2D\\BaldEagleDamBrk.p06.hdf\n",
            "2025-03-19 17:40:15 - ras_commander.HdfResultsMesh - INFO - Processing summary output for variable: Minimum Water Surface\n",
            "2025-03-19 17:40:15 - ras_commander.HdfMesh - INFO - Using HDF file from h5py.File object: c:\\GH\\ras-commander\\examples\\example_projects\\BaldEagleCrkMulti2D\\BaldEagleDamBrk.p06.hdf\n",
            "2025-03-19 17:40:15 - ras_commander.HdfMesh - INFO - Final validated HDF file path: c:\\GH\\ras-commander\\examples\\example_projects\\BaldEagleCrkMulti2D\\BaldEagleDamBrk.p06.hdf\n",
            "2025-03-19 17:40:15 - ras_commander.HdfMesh - INFO - Using existing Path object HDF file: c:\\GH\\ras-commander\\examples\\example_projects\\BaldEagleCrkMulti2D\\BaldEagleDamBrk.p06.hdf\n",
            "2025-03-19 17:40:15 - ras_commander.HdfMesh - INFO - Final validated HDF file path: c:\\GH\\ras-commander\\examples\\example_projects\\BaldEagleCrkMulti2D\\BaldEagleDamBrk.p06.hdf\n",
            "2025-03-19 17:40:15 - ras_commander.HdfBase - INFO - Using HDF file from h5py.File object: c:\\GH\\ras-commander\\examples\\example_projects\\BaldEagleCrkMulti2D\\BaldEagleDamBrk.p06.hdf\n",
            "2025-03-19 17:40:15 - ras_commander.HdfBase - INFO - Final validated HDF file path: c:\\GH\\ras-commander\\examples\\example_projects\\BaldEagleCrkMulti2D\\BaldEagleDamBrk.p06.hdf\n",
            "2025-03-19 17:40:15 - ras_commander.HdfBase - INFO - Found projection in HDF file: c:\\GH\\ras-commander\\examples\\example_projects\\BaldEagleCrkMulti2D\\BaldEagleDamBrk.p06.hdf\n",
            "2025-03-19 17:40:15 - ras_commander.HdfBase - INFO - Using HDF file from h5py.File object: c:\\GH\\ras-commander\\examples\\example_projects\\BaldEagleCrkMulti2D\\BaldEagleDamBrk.p06.hdf\n",
            "2025-03-19 17:40:15 - ras_commander.HdfBase - INFO - Final validated HDF file path: c:\\GH\\ras-commander\\examples\\example_projects\\BaldEagleCrkMulti2D\\BaldEagleDamBrk.p06.hdf\n",
            "2025-03-19 17:40:15 - ras_commander.HdfBase - INFO - Found projection in HDF file: c:\\GH\\ras-commander\\examples\\example_projects\\BaldEagleCrkMulti2D\\BaldEagleDamBrk.p06.hdf\n",
            "2025-03-19 17:40:15 - ras_commander.HdfResultsMesh - INFO - Processed 19597 rows of summary output data\n"
          ]
        }
      ],
      "source": [
        "# Get mesh minimum water surface elevation as geodataframe\n",
        "min_ws_gdf = HdfResultsMesh.get_mesh_min_ws(plan_hdf_path)"
      ]
    },
    {
      "cell_type": "code",
      "execution_count": 74,
      "metadata": {},
      "outputs": [
        {
          "data": {
            "text/html": "<div>\n<style scoped>\\n', '    .dataframe tbody tr th:only-of-type {\\n', '        vertical-align: middle;\\n', '    }\\n', '\\n', '    .dataframe tbody tr th {\\n', '        vertical-align: top;\\n', '    }\\n', '\\n', '    .dataframe thead th {\\n', '        text-align: right;\\n', '    }\\n', '</style>\n<table border=\"1\" class=\"dataframe\">\n  <thead>\\n', '    <tr style=\"text-align: right;\">\\n', '      <th></th>\\n', '      <th>mesh_name</th>\\n', '      <th>cell_id</th>\\n', '      <th>minimum_water_surface</th>\\n', '      <th>minimum_water_surface_time</th>\\n', '      <th>geometry</th>\\n', '    </tr>\\n', '  </thead>\n  <tbody>\n    <tr>\\n', '      <th>0</th>\\n', '      <td>BaldEagleCr</td>\\n', '      <td>0</td>\\n', '      <td>701.151245</td>\\n', '      <td>2018-09-09 00:00:20</td>\\n', '      <td>POINT (2083000 370750)</td>\\n', '    </tr><tr>\\n', '      <th>1</th>\\n', '      <td>BaldEagleCr</td>\\n', '      <td>1</td>\\n', '      <td>689.052246</td>\\n', '      <td>2018-09-09 00:00:20</td>\\n', '      <td>POINT (2083250 370750)</td>\\n', '    </tr><tr>\\n', '      <th>2</th>\\n', '      <td>BaldEagleCr</td>\\n', '      <td>2</td>\\n', '      <td>669.774719</td>\\n', '      <td>2018-09-09 00:00:20</td>\\n', '      <td>POINT (2083500 370750)</td>\\n', '    </tr><tr>\\n', '      <th>3</th>\\n', '      <td>BaldEagleCr</td>\\n', '      <td>3</td>\\n', '      <td>658.986938</td>\\n', '      <td>2018-09-09 00:00:20</td>\\n', '      <td>POINT (2083750 370750)</td>\\n', '    </tr><tr>\\n', '      <th>4</th>\\n', '      <td>BaldEagleCr</td>\\n', '      <td>4</td>\\n', '      <td>658.720581</td>\\n', '      <td>2018-09-09 00:00:20</td>\\n', '      <td>POINT (2084000 370750)</td>\\n', '    </tr>\n    <tr><td colspan=\"100%\" style=\"text-align:center\">[... additional rows truncated ...]</td></tr>\n  </tbody>\n</table>\n</div>",
            "text/plain": "['         mesh_name  cell_id  minimum_water_surface minimum_water_surface_time  \\\\\\n', '0      BaldEagleCr        0             701.151245        2018-09-09 00:00:20   \\n', '1      BaldEagleCr        1             689.052246        2018-09-09 00:00:20   \\n', '2      BaldEagleCr        2             669.774719        2018-09-09 00:00:20   \\n', '3      BaldEagleCr        3             658.986938        2018-09-09 00:00:20   \\n', '4      BaldEagleCr        4             658.720581        2018-09-09 00:00:20   \\n', '...            ...      ...                    ...                        ...   \\n', '19592  BaldEagleCr    19592               0.000000        2018-09-09 00:00:00   \\n', '19593  BaldEagleCr    19593               0.000000        2018-09-09 00:00:00   \\n', '19594  BaldEagleCr    19594               0.000000        2018-09-09 00:00:00   \\n', '19595  BaldEagleCr    19595               0.000000        2018-09-09 00:00:00   \\n', '19596  BaldEagleCr    19596               0.000000        2018-09-09 00:00:00   \\n', '\\n', '                             geometry  \\n', '0              POINT (2083000 370750)  \\n', '1              POINT (2083250 370750)  \\n', '2              POINT (2083500 370750)  \\n', '3              POINT (2083750 370750)  \\n', '4              POINT (2084000 370750)  \\n', '...                               ...  \\n', '19592  POINT (1978423.032 300718.897)  \\n', '19593  POINT (1973389.375 297311.928)  \\n', '19594   POINT (1968834.79 295808.861)  \\n', '19595  POINT (1966130.942 291879.395)  \\n', '19596   POINT (1969660.046 289673.23)  \\n', '\\n', '[19597 rows x 5 columns]']"
          },
          "execution_count": 74,
          "metadata": {},
          "output_type": "execute_result"
        }
      ],
      "source": [
        "min_ws_gdf"
      ]
    },
    {
      "cell_type": "code",
      "execution_count": 75,
      "metadata": {},
      "outputs": [
        {
          "name": "stderr",
          "output_type": "stream",
          "text": [
            "2025-03-19 17:40:15 - ras_commander.HdfResultsMesh - INFO - Using HDF file from direct string path: c:\\GH\\ras-commander\\examples\\example_projects\\BaldEagleCrkMulti2D\\BaldEagleDamBrk.p06.hdf\n",
            "2025-03-19 17:40:15 - ras_commander.HdfResultsMesh - INFO - Final validated HDF file path: c:\\GH\\ras-commander\\examples\\example_projects\\BaldEagleCrkMulti2D\\BaldEagleDamBrk.p06.hdf\n",
            "2025-03-19 17:40:15 - ras_commander.HdfResultsMesh - INFO - Processing summary output for variable: Maximum Face Velocity\n",
            "2025-03-19 17:40:16 - ras_commander.HdfMesh - INFO - Using HDF file from h5py.File object: c:\\GH\\ras-commander\\examples\\example_projects\\BaldEagleCrkMulti2D\\BaldEagleDamBrk.p06.hdf\n",
            "2025-03-19 17:40:16 - ras_commander.HdfMesh - INFO - Final validated HDF file path: c:\\GH\\ras-commander\\examples\\example_projects\\BaldEagleCrkMulti2D\\BaldEagleDamBrk.p06.hdf\n",
            "2025-03-19 17:40:16 - ras_commander.HdfMesh - INFO - Using existing Path object HDF file: c:\\GH\\ras-commander\\examples\\example_projects\\BaldEagleCrkMulti2D\\BaldEagleDamBrk.p06.hdf\n",
            "2025-03-19 17:40:16 - ras_commander.HdfMesh - INFO - Final validated HDF file path: c:\\GH\\ras-commander\\examples\\example_projects\\BaldEagleCrkMulti2D\\BaldEagleDamBrk.p06.hdf\n",
            "2025-03-19 17:40:16 - ras_commander.HdfBase - INFO - Using HDF file from h5py.File object: c:\\GH\\ras-commander\\examples\\example_projects\\BaldEagleCrkMulti2D\\BaldEagleDamBrk.p06.hdf\n",
            "2025-03-19 17:40:16 - ras_commander.HdfBase - INFO - Final validated HDF file path: c:\\GH\\ras-commander\\examples\\example_projects\\BaldEagleCrkMulti2D\\BaldEagleDamBrk.p06.hdf\n",
            "2025-03-19 17:40:16 - ras_commander.HdfBase - INFO - Found projection in HDF file: c:\\GH\\ras-commander\\examples\\example_projects\\BaldEagleCrkMulti2D\\BaldEagleDamBrk.p06.hdf\n",
            "2025-03-19 17:40:16 - ras_commander.HdfBase - INFO - Using HDF file from h5py.File object: c:\\GH\\ras-commander\\examples\\example_projects\\BaldEagleCrkMulti2D\\BaldEagleDamBrk.p06.hdf\n",
            "2025-03-19 17:40:16 - ras_commander.HdfBase - INFO - Final validated HDF file path: c:\\GH\\ras-commander\\examples\\example_projects\\BaldEagleCrkMulti2D\\BaldEagleDamBrk.p06.hdf\n",
            "2025-03-19 17:40:16 - ras_commander.HdfBase - INFO - Found projection in HDF file: c:\\GH\\ras-commander\\examples\\example_projects\\BaldEagleCrkMulti2D\\BaldEagleDamBrk.p06.hdf\n",
            "2025-03-19 17:40:16 - ras_commander.HdfResultsMesh - INFO - Processed 37594 rows of summary output data\n"
          ]
        },
        {
          "name": "stdout",
          "output_type": "stream",
          "text": [
            "\n",
            "Mesh Max Face Velocity:\n"
          ]
        }
      ],
      "source": [
        "# Get mesh maximum face velocity as geodataframe\n",
        "max_face_v_gdf = HdfResultsMesh.get_mesh_max_face_v(plan_hdf_path)\n",
        "print(\"\\nMesh Max Face Velocity:\")"
      ]
    },
    {
      "cell_type": "code",
      "execution_count": 76,
      "metadata": {},
      "outputs": [
        {
          "data": {
            "text/html": "<div>\n<style scoped>\\n', '    .dataframe tbody tr th:only-of-type {\\n', '        vertical-align: middle;\\n', '    }\\n', '\\n', '    .dataframe tbody tr th {\\n', '        vertical-align: top;\\n', '    }\\n', '\\n', '    .dataframe thead th {\\n', '        text-align: right;\\n', '    }\\n', '</style>\n<table border=\"1\" class=\"dataframe\">\n  <thead>\\n', '    <tr style=\"text-align: right;\">\\n', '      <th></th>\\n', '      <th>mesh_name</th>\\n', '      <th>face_id</th>\\n', '      <th>maximum_face_velocity</th>\\n', '      <th>maximum_face_velocity_time</th>\\n', '      <th>geometry</th>\\n', '    </tr>\\n', '  </thead>\n  <tbody>\n    <tr>\\n', '      <th>0</th>\\n', '      <td>BaldEagleCr</td>\\n', '      <td>0</td>\\n', '      <td>0.451430</td>\\n', '      <td>2018-09-10 18:00:00</td>\\n', '      <td>LINESTRING (2042125 351625, 2042375 351625)</td>\\n', '    </tr><tr>\\n', '      <th>1</th>\\n', '      <td>BaldEagleCr</td>\\n', '      <td>1</td>\\n', '      <td>-0.887190</td>\\n', '      <td>2018-09-10 18:00:40</td>\\n', '      <td>LINESTRING (2042375 351625, 2042375 351875)</td>\\n', '    </tr><tr>\\n', '      <th>2</th>\\n', '      <td>BaldEagleCr</td>\\n', '      <td>2</td>\\n', '      <td>-0.498561</td>\\n', '      <td>2018-09-10 18:00:40</td>\\n', '      <td>LINESTRING (2042375 351875, 2042125 351875)</td>\\n', '    </tr><tr>\\n', '      <th>3</th>\\n', '      <td>BaldEagleCr</td>\\n', '      <td>3</td>\\n', '      <td>-0.304673</td>\\n', '      <td>2018-09-10 18:00:40</td>\\n', '      <td>LINESTRING (2042125 351875, 2042125 351625)</td>\\n', '    </tr><tr>\\n', '      <th>4</th>\\n', '      <td>BaldEagleCr</td>\\n', '      <td>4</td>\\n', '      <td>-0.762405</td>\\n', '      <td>2018-09-10 10:00:40</td>\\n', '      <td>LINESTRING (2042375 351375, 2042375 351625)</td>\\n', '    </tr>\n    <tr><td colspan=\"100%\" style=\"text-align:center\">[... additional rows truncated ...]</td></tr>\n  </tbody>\n</table>\n</div>",
            "text/plain": "['         mesh_name  face_id  maximum_face_velocity maximum_face_velocity_time  \\\\\\n', '0      BaldEagleCr        0               0.451430        2018-09-10 18:00:00   \\n', '1      BaldEagleCr        1              -0.887190        2018-09-10 18:00:40   \\n', '2      BaldEagleCr        2              -0.498561        2018-09-10 18:00:40   \\n', '3      BaldEagleCr        3              -0.304673        2018-09-10 18:00:40   \\n', '4      BaldEagleCr        4              -0.762405        2018-09-10 10:00:40   \\n', '...            ...      ...                    ...                        ...   \\n', '37589  BaldEagleCr    37589               0.000000        2018-09-09 00:00:00   \\n', '37590  BaldEagleCr    37590               0.000000        2018-09-09 00:00:00   \\n', '37591  BaldEagleCr    37591               0.000000        2018-09-09 00:00:00   \\n', '37592  BaldEagleCr    37592               0.000000        2018-09-09 00:00:00   \\n', '37593  BaldEagleCr    37593               0.000000        2018-09-09 00:00:00   \\n', '\\n', '                                                geometry  \\n', '0            LINESTRING (2042125 351625, 2042375 351625)  \\n', '1            LINESTRING (2042375 351625, 2042375 351875)  \\n', '2            LINESTRING (2042375 351875, 2042125 351875)  \\n', '3            LINESTRING (2042125 351875, 2042125 351625)  \\n', '4            LINESTRING (2042375 351375, 2042375 351625)  \\n', '...                                                  ...  \\n', '37589  LINESTRING (1978444.054 300812.794, 1978402.01...  \\n', '37590  LINESTRING (1973531.76 297370.846, 1973246.989...  \\n', '37591  LINESTRING (1968886.801 295900.5, 1968782.778 ...  \\n', '37592  LINESTRING (1965981.775 291978.68, 1966280.11 ...  \\n', '37593  LINESTRING (1969588.438 289578.114, 1969731.65...  \\n', '\\n', '[37594 rows x 5 columns]']"
          },
          "execution_count": 76,
          "metadata": {},
          "output_type": "execute_result"
        }
      ],
      "source": [
        "max_face_v_gdf"
      ]
    },
    {
      "cell_type": "code",
      "execution_count": 77,
      "metadata": {},
      "outputs": [
        {
          "data": {
            "text/plain": [
              "<Figure size 1200x800 with 2 Axes>"
            ]
          },
          "metadata": {},
          "output_type": "display_data"
        }
      ],
      "source": [
        "# Extract midpoint coordinates from the LineString geometries\n",
        "max_face_v_gdf['x'] = max_face_v_gdf['geometry'].apply(lambda geom: geom.centroid.x)\n",
        "max_face_v_gdf['y'] = max_face_v_gdf['geometry'].apply(lambda geom: geom.centroid.y)\n",
        "\n",
        "# Create the plot\n",
        "fig, ax = plt.subplots(figsize=(12, 8))\n",
        "scatter = ax.scatter(max_face_v_gdf['x'], max_face_v_gdf['y'], \n",
        "                    c=max_face_v_gdf['maximum_face_velocity'].abs(),\n",
        "                    cmap='viridis',\n",
        "                    s=10)\n",
        "\n",
        "# Customize the plot\n",
        "ax.set_title('Max Face Velocity per Face')\n",
        "ax.set_xlabel('X Coordinate') \n",
        "ax.set_ylabel('Y Coordinate')\n",
        "plt.colorbar(scatter, label='Max Face Velocity (ft/s)')\n",
        "\n",
        "# Add grid lines\n",
        "ax.grid(True, linestyle='--', alpha=0.7)\n",
        "\n",
        "# Increase font size for better readability\n",
        "plt.rcParams.update({'font.size': 12})\n",
        "\n",
        "# Adjust layout to prevent cutting off labels\n",
        "plt.tight_layout()\n",
        "\n",
        "# Show the plot\n",
        "plt.show()"
      ]
    },
    {
      "cell_type": "code",
      "execution_count": 78,
      "metadata": {},
      "outputs": [
        {
          "name": "stderr",
          "output_type": "stream",
          "text": [
            "2025-03-19 17:40:18 - ras_commander.HdfResultsMesh - INFO - Using HDF file from direct string path: c:\\GH\\ras-commander\\examples\\example_projects\\BaldEagleCrkMulti2D\\BaldEagleDamBrk.p06.hdf\n",
            "2025-03-19 17:40:18 - ras_commander.HdfResultsMesh - INFO - Final validated HDF file path: c:\\GH\\ras-commander\\examples\\example_projects\\BaldEagleCrkMulti2D\\BaldEagleDamBrk.p06.hdf\n",
            "2025-03-19 17:40:18 - ras_commander.HdfResultsMesh - INFO - Processing summary output for variable: Minimum Face Velocity\n",
            "2025-03-19 17:40:18 - ras_commander.HdfMesh - INFO - Using HDF file from h5py.File object: c:\\GH\\ras-commander\\examples\\example_projects\\BaldEagleCrkMulti2D\\BaldEagleDamBrk.p06.hdf\n",
            "2025-03-19 17:40:18 - ras_commander.HdfMesh - INFO - Final validated HDF file path: c:\\GH\\ras-commander\\examples\\example_projects\\BaldEagleCrkMulti2D\\BaldEagleDamBrk.p06.hdf\n",
            "2025-03-19 17:40:18 - ras_commander.HdfMesh - INFO - Using existing Path object HDF file: c:\\GH\\ras-commander\\examples\\example_projects\\BaldEagleCrkMulti2D\\BaldEagleDamBrk.p06.hdf\n",
            "2025-03-19 17:40:18 - ras_commander.HdfMesh - INFO - Final validated HDF file path: c:\\GH\\ras-commander\\examples\\example_projects\\BaldEagleCrkMulti2D\\BaldEagleDamBrk.p06.hdf\n",
            "2025-03-19 17:40:19 - ras_commander.HdfBase - INFO - Using HDF file from h5py.File object: c:\\GH\\ras-commander\\examples\\example_projects\\BaldEagleCrkMulti2D\\BaldEagleDamBrk.p06.hdf\n",
            "2025-03-19 17:40:19 - ras_commander.HdfBase - INFO - Final validated HDF file path: c:\\GH\\ras-commander\\examples\\example_projects\\BaldEagleCrkMulti2D\\BaldEagleDamBrk.p06.hdf\n",
            "2025-03-19 17:40:19 - ras_commander.HdfBase - INFO - Found projection in HDF file: c:\\GH\\ras-commander\\examples\\example_projects\\BaldEagleCrkMulti2D\\BaldEagleDamBrk.p06.hdf\n",
            "2025-03-19 17:40:19 - ras_commander.HdfBase - INFO - Using HDF file from h5py.File object: c:\\GH\\ras-commander\\examples\\example_projects\\BaldEagleCrkMulti2D\\BaldEagleDamBrk.p06.hdf\n",
            "2025-03-19 17:40:19 - ras_commander.HdfBase - INFO - Final validated HDF file path: c:\\GH\\ras-commander\\examples\\example_projects\\BaldEagleCrkMulti2D\\BaldEagleDamBrk.p06.hdf\n",
            "2025-03-19 17:40:19 - ras_commander.HdfBase - INFO - Found projection in HDF file: c:\\GH\\ras-commander\\examples\\example_projects\\BaldEagleCrkMulti2D\\BaldEagleDamBrk.p06.hdf\n",
            "2025-03-19 17:40:19 - ras_commander.HdfResultsMesh - INFO - Processed 37594 rows of summary output data\n"
          ]
        }
      ],
      "source": [
        "# Get mesh minimum face velocity as geodataframe\n",
        "min_face_v_gdf = HdfResultsMesh.get_mesh_min_face_v(plan_hdf_path)\n"
      ]
    },
    {
      "cell_type": "code",
      "execution_count": 79,
      "metadata": {},
      "outputs": [
        {
          "name": "stdout",
          "output_type": "stream",
          "text": [
            "\n",
            "Mesh Min Face Velocity:\n"
          ]
        },
        {
          "data": {
            "text/html": "<div>\n<style scoped>\\n', '    .dataframe tbody tr th:only-of-type {\\n', '        vertical-align: middle;\\n', '    }\\n', '\\n', '    .dataframe tbody tr th {\\n', '        vertical-align: top;\\n', '    }\\n', '\\n', '    .dataframe thead th {\\n', '        text-align: right;\\n', '    }\\n', '</style>\n<table border=\"1\" class=\"dataframe\">\n  <thead>\\n', '    <tr style=\"text-align: right;\">\\n', '      <th></th>\\n', '      <th>mesh_name</th>\\n', '      <th>face_id</th>\\n', '      <th>minimum_face_velocity</th>\\n', '      <th>minimum_face_velocity_time</th>\\n', '      <th>geometry</th>\\n', '    </tr>\\n', '  </thead>\n  <tbody>\n    <tr>\\n', '      <th>0</th>\\n', '      <td>BaldEagleCr</td>\\n', '      <td>0</td>\\n', '      <td>0.0</td>\\n', '      <td>2018-09-09 00:00:20</td>\\n', '      <td>LINESTRING (2042125 351625, 2042375 351625)</td>\\n', '    </tr><tr>\\n', '      <th>1</th>\\n', '      <td>BaldEagleCr</td>\\n', '      <td>1</td>\\n', '      <td>0.0</td>\\n', '      <td>2018-09-09 00:00:20</td>\\n', '      <td>LINESTRING (2042375 351625, 2042375 351875)</td>\\n', '    </tr><tr>\\n', '      <th>2</th>\\n', '      <td>BaldEagleCr</td>\\n', '      <td>2</td>\\n', '      <td>0.0</td>\\n', '      <td>2018-09-09 00:00:20</td>\\n', '      <td>LINESTRING (2042375 351875, 2042125 351875)</td>\\n', '    </tr><tr>\\n', '      <th>3</th>\\n', '      <td>BaldEagleCr</td>\\n', '      <td>3</td>\\n', '      <td>0.0</td>\\n', '      <td>2018-09-09 00:00:20</td>\\n', '      <td>LINESTRING (2042125 351875, 2042125 351625)</td>\\n', '    </tr><tr>\\n', '      <th>4</th>\\n', '      <td>BaldEagleCr</td>\\n', '      <td>4</td>\\n', '      <td>0.0</td>\\n', '      <td>2018-09-09 00:00:20</td>\\n', '      <td>LINESTRING (2042375 351375, 2042375 351625)</td>\\n', '    </tr>\n    <tr><td colspan=\"100%\" style=\"text-align:center\">[... additional rows truncated ...]</td></tr>\n  </tbody>\n</table>\n</div>",
            "text/plain": "['         mesh_name  face_id  minimum_face_velocity minimum_face_velocity_time  \\\\\\n', '0      BaldEagleCr        0                    0.0        2018-09-09 00:00:20   \\n', '1      BaldEagleCr        1                    0.0        2018-09-09 00:00:20   \\n', '2      BaldEagleCr        2                    0.0        2018-09-09 00:00:20   \\n', '3      BaldEagleCr        3                    0.0        2018-09-09 00:00:20   \\n', '4      BaldEagleCr        4                    0.0        2018-09-09 00:00:20   \\n', '...            ...      ...                    ...                        ...   \\n', '37589  BaldEagleCr    37589                    0.0        2018-09-09 00:00:20   \\n', '37590  BaldEagleCr    37590                    0.0        2018-09-09 00:00:20   \\n', '37591  BaldEagleCr    37591                    0.0        2018-09-09 00:00:20   \\n', '37592  BaldEagleCr    37592                    0.0        2018-09-09 00:00:20   \\n', '37593  BaldEagleCr    37593                    0.0        2018-09-09 00:00:20   \\n', '\\n', '                                                geometry  \\n', '0            LINESTRING (2042125 351625, 2042375 351625)  \\n', '1            LINESTRING (2042375 351625, 2042375 351875)  \\n', '2            LINESTRING (2042375 351875, 2042125 351875)  \\n', '3            LINESTRING (2042125 351875, 2042125 351625)  \\n', '4            LINESTRING (2042375 351375, 2042375 351625)  \\n', '...                                                  ...  \\n', '37589  LINESTRING (1978444.054 300812.794, 1978402.01...  \\n', '37590  LINESTRING (1973531.76 297370.846, 1973246.989...  \\n', '37591  LINESTRING (1968886.801 295900.5, 1968782.778 ...  \\n', '37592  LINESTRING (1965981.775 291978.68, 1966280.11 ...  \\n', '37593  LINESTRING (1969588.438 289578.114, 1969731.65...  \\n', '\\n', '[37594 rows x 5 columns]']"
          },
          "execution_count": 79,
          "metadata": {},
          "output_type": "execute_result"
        }
      ],
      "source": [
        "print(\"\\nMesh Min Face Velocity:\")\n",
        "min_face_v_gdf"
      ]
    },
    {
      "cell_type": "code",
      "execution_count": 80,
      "metadata": {},
      "outputs": [
        {
          "name": "stderr",
          "output_type": "stream",
          "text": [
            "2025-03-19 17:40:19 - ras_commander.HdfResultsMesh - INFO - Using HDF file from direct string path: c:\\GH\\ras-commander\\examples\\example_projects\\BaldEagleCrkMulti2D\\BaldEagleDamBrk.p06.hdf\n",
            "2025-03-19 17:40:19 - ras_commander.HdfResultsMesh - INFO - Final validated HDF file path: c:\\GH\\ras-commander\\examples\\example_projects\\BaldEagleCrkMulti2D\\BaldEagleDamBrk.p06.hdf\n",
            "2025-03-19 17:40:19 - ras_commander.HdfResultsMesh - INFO - Processing summary output for variable: Cell Maximum Water Surface Error\n",
            "2025-03-19 17:40:19 - ras_commander.HdfMesh - INFO - Using HDF file from h5py.File object: c:\\GH\\ras-commander\\examples\\example_projects\\BaldEagleCrkMulti2D\\BaldEagleDamBrk.p06.hdf\n",
            "2025-03-19 17:40:19 - ras_commander.HdfMesh - INFO - Final validated HDF file path: c:\\GH\\ras-commander\\examples\\example_projects\\BaldEagleCrkMulti2D\\BaldEagleDamBrk.p06.hdf\n",
            "2025-03-19 17:40:19 - ras_commander.HdfMesh - INFO - Using existing Path object HDF file: c:\\GH\\ras-commander\\examples\\example_projects\\BaldEagleCrkMulti2D\\BaldEagleDamBrk.p06.hdf\n",
            "2025-03-19 17:40:19 - ras_commander.HdfMesh - INFO - Final validated HDF file path: c:\\GH\\ras-commander\\examples\\example_projects\\BaldEagleCrkMulti2D\\BaldEagleDamBrk.p06.hdf\n",
            "2025-03-19 17:40:19 - ras_commander.HdfBase - INFO - Using HDF file from h5py.File object: c:\\GH\\ras-commander\\examples\\example_projects\\BaldEagleCrkMulti2D\\BaldEagleDamBrk.p06.hdf\n",
            "2025-03-19 17:40:19 - ras_commander.HdfBase - INFO - Final validated HDF file path: c:\\GH\\ras-commander\\examples\\example_projects\\BaldEagleCrkMulti2D\\BaldEagleDamBrk.p06.hdf\n",
            "2025-03-19 17:40:19 - ras_commander.HdfBase - INFO - Found projection in HDF file: c:\\GH\\ras-commander\\examples\\example_projects\\BaldEagleCrkMulti2D\\BaldEagleDamBrk.p06.hdf\n",
            "2025-03-19 17:40:19 - ras_commander.HdfBase - INFO - Using HDF file from h5py.File object: c:\\GH\\ras-commander\\examples\\example_projects\\BaldEagleCrkMulti2D\\BaldEagleDamBrk.p06.hdf\n",
            "2025-03-19 17:40:19 - ras_commander.HdfBase - INFO - Final validated HDF file path: c:\\GH\\ras-commander\\examples\\example_projects\\BaldEagleCrkMulti2D\\BaldEagleDamBrk.p06.hdf\n",
            "2025-03-19 17:40:19 - ras_commander.HdfBase - INFO - Found projection in HDF file: c:\\GH\\ras-commander\\examples\\example_projects\\BaldEagleCrkMulti2D\\BaldEagleDamBrk.p06.hdf\n",
            "2025-03-19 17:40:19 - ras_commander.HdfResultsMesh - INFO - Processed 19597 rows of summary output data\n"
          ]
        }
      ],
      "source": [
        "# Get mesh max water surface error as geodataframe\n",
        "\n",
        "max_ws_err_gdf = HdfResultsMesh.get_mesh_max_ws_err(plan_hdf_path)\n"
      ]
    },
    {
      "cell_type": "code",
      "execution_count": 81,
      "metadata": {},
      "outputs": [
        {
          "name": "stdout",
          "output_type": "stream",
          "text": [
            "\n",
            "Mesh Max Water Surface Error:\n"
          ]
        },
        {
          "data": {
            "text/html": "<div>\n<style scoped>\\n', '    .dataframe tbody tr th:only-of-type {\\n', '        vertical-align: middle;\\n', '    }\\n', '\\n', '    .dataframe tbody tr th {\\n', '        vertical-align: top;\\n', '    }\\n', '\\n', '    .dataframe thead th {\\n', '        text-align: right;\\n', '    }\\n', '</style>\n<table border=\"1\" class=\"dataframe\">\n  <thead>\\n', '    <tr style=\"text-align: right;\">\\n', '      <th></th>\\n', '      <th>mesh_name</th>\\n', '      <th>cell_id</th>\\n', '      <th>cell_maximum_water_surface_error</th>\\n', '      <th>cell_maximum_water_surface_error_time</th>\\n', '      <th>geometry</th>\\n', '    </tr>\\n', '  </thead>\n  <tbody>\n    <tr>\\n', '      <th>0</th>\\n', '      <td>BaldEagleCr</td>\\n', '      <td>0</td>\\n', '      <td>0.000206</td>\\n', '      <td>2018-09-11 20:50:00</td>\\n', '      <td>POINT (2083000 370750)</td>\\n', '    </tr><tr>\\n', '      <th>1</th>\\n', '      <td>BaldEagleCr</td>\\n', '      <td>1</td>\\n', '      <td>0.001100</td>\\n', '      <td>2018-09-10 21:38:00</td>\\n', '      <td>POINT (2083250 370750)</td>\\n', '    </tr><tr>\\n', '      <th>2</th>\\n', '      <td>BaldEagleCr</td>\\n', '      <td>2</td>\\n', '      <td>0.000795</td>\\n', '      <td>2018-09-10 09:58:40</td>\\n', '      <td>POINT (2083500 370750)</td>\\n', '    </tr><tr>\\n', '      <th>3</th>\\n', '      <td>BaldEagleCr</td>\\n', '      <td>3</td>\\n', '      <td>0.000314</td>\\n', '      <td>2018-09-10 17:00:40</td>\\n', '      <td>POINT (2083750 370750)</td>\\n', '    </tr><tr>\\n', '      <th>4</th>\\n', '      <td>BaldEagleCr</td>\\n', '      <td>4</td>\\n', '      <td>0.001795</td>\\n', '      <td>2018-09-10 09:28:00</td>\\n', '      <td>POINT (2084000 370750)</td>\\n', '    </tr>\n    <tr><td colspan=\"100%\" style=\"text-align:center\">[... additional rows truncated ...]</td></tr>\n  </tbody>\n</table>\n</div>",
            "text/plain": "['         mesh_name  cell_id  cell_maximum_water_surface_error  \\\\\\n', '0      BaldEagleCr        0                          0.000206   \\n', '1      BaldEagleCr        1                          0.001100   \\n', '2      BaldEagleCr        2                          0.000795   \\n', '3      BaldEagleCr        3                          0.000314   \\n', '4      BaldEagleCr        4                          0.001795   \\n', '...            ...      ...                               ...   \\n', '19592  BaldEagleCr    19592                          0.000000   \\n', '19593  BaldEagleCr    19593                          0.000000   \\n', '19594  BaldEagleCr    19594                          0.000000   \\n', '19595  BaldEagleCr    19595                          0.000000   \\n', '19596  BaldEagleCr    19596                          0.000000   \\n', '\\n', '      cell_maximum_water_surface_error_time                        geometry  \\n', '0                       2018-09-11 20:50:00          POINT (2083000 370750)  \\n', '1                       2018-09-10 21:38:00          POINT (2083250 370750)  \\n', '2                       2018-09-10 09:58:40          POINT (2083500 370750)  \\n', '3                       2018-09-10 17:00:40          POINT (2083750 370750)  \\n', '4                       2018-09-10 09:28:00          POINT (2084000 370750)  \\n', '...                                     ...                             ...  \\n', '19592                   2018-09-09 00:00:00  POINT (1978423.032 300718.897)  \\n', '19593                   2018-09-09 00:00:00  POINT (1973389.375 297311.928)  \\n', '19594                   2018-09-09 00:00:00   POINT (1968834.79 295808.861)  \\n', '19595                   2018-09-09 00:00:00  POINT (1966130.942 291879.395)  \\n', '19596                   2018-09-09 00:00:00   POINT (1969660.046 289673.23)  \\n', '\\n', '[19597 rows x 5 columns]']"
          },
          "execution_count": 81,
          "metadata": {},
          "output_type": "execute_result"
        }
      ],
      "source": [
        "print(\"\\nMesh Max Water Surface Error:\")\n",
        "max_ws_err_gdf\n"
      ]
    },
    {
      "cell_type": "code",
      "execution_count": 82,
      "metadata": {},
      "outputs": [
        {
          "data": {
            "text/plain": [
              "<Figure size 1200x800 with 2 Axes>"
            ]
          },
          "metadata": {},
          "output_type": "display_data"
        }
      ],
      "source": [
        "# Plot max water surface error\n",
        "\n",
        "if generate_maps:\n",
        "# Extract x and y coordinates from the geometry points, handling None values\n",
        "    max_ws_err_gdf['x'] = max_ws_err_gdf['geometry'].apply(lambda geom: geom.x if geom is not None else None)\n",
        "    max_ws_err_gdf['y'] = max_ws_err_gdf['geometry'].apply(lambda geom: geom.y if geom is not None else None)\n",
        "\n",
        "    # Remove any rows with None coordinates\n",
        "    max_ws_err_gdf = max_ws_err_gdf.dropna(subset=['x', 'y'])\n",
        "\n",
        "    # Create the plot\n",
        "    fig, ax = plt.subplots(figsize=(12, 8))\n",
        "    scatter = ax.scatter(max_ws_err_gdf['x'], max_ws_err_gdf['y'],\n",
        "                        c=max_ws_err_gdf['cell_maximum_water_surface_error'],\n",
        "                        cmap='viridis',\n",
        "                        s=10)\n",
        "\n",
        "    # Customize the plot\n",
        "    ax.set_title('Max Water Surface Error per Cell')\n",
        "    ax.set_xlabel('X Coordinate')\n",
        "    ax.set_ylabel('Y Coordinate')\n",
        "    plt.colorbar(scatter, label='Max Water Surface Error (ft)')\n",
        "\n",
        "    # Add grid lines\n",
        "    ax.grid(True, linestyle='--', alpha=0.7)\n",
        "\n",
        "    # Increase font size for better readability\n",
        "    plt.rcParams.update({'font.size': 12})\n",
        "\n",
        "    # Adjust layout to prevent cutting off labels\n",
        "    plt.tight_layout()\n",
        "\n",
        "    # Show the plot\n",
        "    plt.show()"
      ]
    },
    {
      "cell_type": "code",
      "execution_count": 83,
      "metadata": {},
      "outputs": [],
      "source": [
        "# Sort Dataframe to show top 10 maximum water surface errors:\n",
        "max_ws_err_gdf_sorted = max_ws_err_gdf.sort_values(by='cell_maximum_water_surface_error', ascending=False)\n"
      ]
    },
    {
      "cell_type": "code",
      "execution_count": 84,
      "metadata": {},
      "outputs": [
        {
          "name": "stdout",
          "output_type": "stream",
          "text": [
            "\n",
            "Top 10 maximum water surface errors:\n"
          ]
        },
        {
          "data": {
            "text/html": "<div>\n<style scoped>\\n', '    .dataframe tbody tr th:only-of-type {\\n', '        vertical-align: middle;\\n', '    }\\n', '\\n', '    .dataframe tbody tr th {\\n', '        vertical-align: top;\\n', '    }\\n', '\\n', '    .dataframe thead th {\\n', '        text-align: right;\\n', '    }\\n', '</style>\n<table border=\"1\" class=\"dataframe\">\n  <thead>\\n', '    <tr style=\"text-align: right;\">\\n', '      <th></th>\\n', '      <th>mesh_name</th>\\n', '      <th>cell_id</th>\\n', '      <th>cell_maximum_water_surface_error</th>\\n', '      <th>cell_maximum_water_surface_error_time</th>\\n', '      <th>geometry</th>\\n', '      <th>x</th>\\n', '      <th>y</th>\\n', '    </tr>\\n', '  </thead>\n  <tbody>\n    <tr>\\n', '      <th>1709</th>\\n', '      <td>BaldEagleCr</td>\\n', '      <td>1709</td>\\n', '      <td>0.009991</td>\\n', '      <td>2018-09-10 09:06:40</td>\\n', '      <td>POINT (2077250 362750)</td>\\n', '      <td>2.077250e+06</td>\\n', '      <td>362750.000000</td>\\n', '    </tr><tr>\\n', '      <th>12789</th>\\n', '      <td>BaldEagleCr</td>\\n', '      <td>12789</td>\\n', '      <td>0.009981</td>\\n', '      <td>2018-09-12 07:43:20</td>\\n', '      <td>POINT (2008250 325500)</td>\\n', '      <td>2.008250e+06</td>\\n', '      <td>325500.000000</td>\\n', '    </tr><tr>\\n', '      <th>5967</th>\\n', '      <td>BaldEagleCr</td>\\n', '      <td>5967</td>\\n', '      <td>0.009940</td>\\n', '      <td>2018-09-12 21:01:20</td>\\n', '      <td>POINT (2055000 349750)</td>\\n', '      <td>2.055000e+06</td>\\n', '      <td>349750.000000</td>\\n', '    </tr><tr>\\n', '      <th>13627</th>\\n', '      <td>BaldEagleCr</td>\\n', '      <td>13627</td>\\n', '      <td>0.009938</td>\\n', '      <td>2018-09-11 23:23:20</td>\\n', '      <td>POINT (2004250 320500)</td>\\n', '      <td>2.004250e+06</td>\\n', '      <td>320500.000000</td>\\n', '    </tr><tr>\\n', '      <th>1882</th>\\n', '      <td>BaldEagleCr</td>\\n', '      <td>1882</td>\\n', '      <td>0.009926</td>\\n', '      <td>2018-09-10 10:25:20</td>\\n', '      <td>POINT (2070000 362000)</td>\\n', '      <td>2.070000e+06</td>\\n', '      <td>362000.000000</td>\\n', '    </tr>\n    <tr><td colspan=\"100%\" style=\"text-align:center\">[... additional rows truncated ...]</td></tr>\n  </tbody>\n</table>\n</div>",
            "text/plain": "['         mesh_name  cell_id  cell_maximum_water_surface_error  \\\\\\n', '1709   BaldEagleCr     1709                          0.009991   \\n', '12789  BaldEagleCr    12789                          0.009981   \\n', '5967   BaldEagleCr     5967                          0.009940   \\n', '13627  BaldEagleCr    13627                          0.009938   \\n', '1882   BaldEagleCr     1882                          0.009926   \\n', '...            ...      ...                               ...   \\n', '19489  BaldEagleCr    19489                          0.000000   \\n', '19488  BaldEagleCr    19488                          0.000000   \\n', '19487  BaldEagleCr    19487                          0.000000   \\n', '19486  BaldEagleCr    19486                          0.000000   \\n', '19568  BaldEagleCr    19568                          0.000000   \\n', '\\n', '      cell_maximum_water_surface_error_time                        geometry  \\\\\\n', '1709                    2018-09-10 09:06:40          POINT (207725\n...\n[Output truncated, 2400 characters total]"
          },
          "execution_count": 84,
          "metadata": {},
          "output_type": "execute_result"
        }
      ],
      "source": [
        "print(\"\\nTop 10 maximum water surface errors:\")\n",
        "max_ws_err_gdf_sorted"
      ]
    },
    {
      "cell_type": "code",
      "execution_count": 85,
      "metadata": {},
      "outputs": [
        {
          "name": "stderr",
          "output_type": "stream",
          "text": [
            "2025-03-19 17:40:20 - ras_commander.HdfResultsMesh - INFO - Using HDF file from direct string path: c:\\GH\\ras-commander\\examples\\example_projects\\BaldEagleCrkMulti2D\\BaldEagleDamBrk.p06.hdf\n",
            "2025-03-19 17:40:20 - ras_commander.HdfResultsMesh - INFO - Final validated HDF file path: c:\\GH\\ras-commander\\examples\\example_projects\\BaldEagleCrkMulti2D\\BaldEagleDamBrk.p06.hdf\n",
            "2025-03-19 17:40:20 - ras_commander.HdfResultsMesh - INFO - Processing summary output for variable: Maximum Face Courant\n",
            "2025-03-19 17:40:20 - ras_commander.HdfMesh - INFO - Using HDF file from h5py.File object: c:\\GH\\ras-commander\\examples\\example_projects\\BaldEagleCrkMulti2D\\BaldEagleDamBrk.p06.hdf\n",
            "2025-03-19 17:40:20 - ras_commander.HdfMesh - INFO - Final validated HDF file path: c:\\GH\\ras-commander\\examples\\example_projects\\BaldEagleCrkMulti2D\\BaldEagleDamBrk.p06.hdf\n",
            "2025-03-19 17:40:20 - ras_commander.HdfMesh - INFO - Using existing Path object HDF file: c:\\GH\\ras-commander\\examples\\example_projects\\BaldEagleCrkMulti2D\\BaldEagleDamBrk.p06.hdf\n",
            "2025-03-19 17:40:20 - ras_commander.HdfMesh - INFO - Final validated HDF file path: c:\\GH\\ras-commander\\examples\\example_projects\\BaldEagleCrkMulti2D\\BaldEagleDamBrk.p06.hdf\n",
            "2025-03-19 17:40:21 - ras_commander.HdfBase - INFO - Using HDF file from h5py.File object: c:\\GH\\ras-commander\\examples\\example_projects\\BaldEagleCrkMulti2D\\BaldEagleDamBrk.p06.hdf\n",
            "2025-03-19 17:40:21 - ras_commander.HdfBase - INFO - Final validated HDF file path: c:\\GH\\ras-commander\\examples\\example_projects\\BaldEagleCrkMulti2D\\BaldEagleDamBrk.p06.hdf\n",
            "2025-03-19 17:40:21 - ras_commander.HdfBase - INFO - Found projection in HDF file: c:\\GH\\ras-commander\\examples\\example_projects\\BaldEagleCrkMulti2D\\BaldEagleDamBrk.p06.hdf\n",
            "2025-03-19 17:40:21 - ras_commander.HdfBase - INFO - Using HDF file from h5py.File object: c:\\GH\\ras-commander\\examples\\example_projects\\BaldEagleCrkMulti2D\\BaldEagleDamBrk.p06.hdf\n",
            "2025-03-19 17:40:21 - ras_commander.HdfBase - INFO - Final validated HDF file path: c:\\GH\\ras-commander\\examples\\example_projects\\BaldEagleCrkMulti2D\\BaldEagleDamBrk.p06.hdf\n",
            "2025-03-19 17:40:21 - ras_commander.HdfBase - INFO - Found projection in HDF file: c:\\GH\\ras-commander\\examples\\example_projects\\BaldEagleCrkMulti2D\\BaldEagleDamBrk.p06.hdf\n",
            "2025-03-19 17:40:21 - ras_commander.HdfResultsMesh - INFO - Processed 37594 rows of summary output data\n"
          ]
        }
      ],
      "source": [
        "# Get mesh summary output for other Datasets (here we retrieve Maximum Face Courant) as geodataframe\n",
        "max_courant_gdf = HdfResultsMesh.get_mesh_summary(plan_hdf_path, var=\"Maximum Face Courant\")"
      ]
    },
    {
      "cell_type": "code",
      "execution_count": 86,
      "metadata": {},
      "outputs": [
        {
          "name": "stdout",
          "output_type": "stream",
          "text": [
            "\n",
            "Mesh Summary Output (Maximum Courant):\n"
          ]
        },
        {
          "data": {
            "text/plain": "[\"{'mesh_name': 'BaldEagleCr',\\n\", \" 'Can Interpolate': 'False',\\n\", \" 'Can Plot': 'True',\\n\", \" 'Coverage': 'Average',\\n\", \" 'Location': 'Faces',\\n\", \" 'Maximum Value of Data Set': np.float32(0.6819884),\\n\", \" 'Minimum Value of Data Set': np.float32(0.0),\\n\", \" 'Name': 'Face Courant Maximum',\\n\", \" 'Orientation': 'Scalar',\\n\", \" 'Row': np.int32(0),\\n\", \" 'Rows Variables': ['Courant Face', 'Time'],\\n\", \" 'Units': 'vel*dt/length',\\n\", \" 'Units per row': ['vel*dt/length', 'days']}\"]"
          },
          "execution_count": 86,
          "metadata": {},
          "output_type": "execute_result"
        }
      ],
      "source": [
        "print(\"\\nMesh Summary Output (Maximum Courant):\")\n",
        "max_courant_gdf.attrs"
      ]
    },
    {
      "cell_type": "code",
      "execution_count": 87,
      "metadata": {},
      "outputs": [
        {
          "data": {
            "text/html": "<div>\n<style scoped>\\n', '    .dataframe tbody tr th:only-of-type {\\n', '        vertical-align: middle;\\n', '    }\\n', '\\n', '    .dataframe tbody tr th {\\n', '        vertical-align: top;\\n', '    }\\n', '\\n', '    .dataframe thead th {\\n', '        text-align: right;\\n', '    }\\n', '</style>\n<table border=\"1\" class=\"dataframe\">\n  <thead>\\n', '    <tr style=\"text-align: right;\">\\n', '      <th></th>\\n', '      <th>mesh_name</th>\\n', '      <th>face_id</th>\\n', '      <th>maximum_face_courant</th>\\n', '      <th>maximum_face_courant_time</th>\\n', '      <th>geometry</th>\\n', '    </tr>\\n', '  </thead>\n  <tbody>\n    <tr>\\n', '      <th>0</th>\\n', '      <td>BaldEagleCr</td>\\n', '      <td>0</td>\\n', '      <td>0.000020</td>\\n', '      <td>2018-09-09 11:03:20</td>\\n', '      <td>LINESTRING (2042125 351625, 2042375 351625)</td>\\n', '    </tr><tr>\\n', '      <th>1</th>\\n', '      <td>BaldEagleCr</td>\\n', '      <td>1</td>\\n', '      <td>0.000062</td>\\n', '      <td>2018-09-09 11:32:40</td>\\n', '      <td>LINESTRING (2042375 351625, 2042375 351875)</td>\\n', '    </tr><tr>\\n', '      <th>2</th>\\n', '      <td>BaldEagleCr</td>\\n', '      <td>2</td>\\n', '      <td>0.000048</td>\\n', '      <td>2018-09-10 07:02:40</td>\\n', '      <td>LINESTRING (2042375 351875, 2042125 351875)</td>\\n', '    </tr><tr>\\n', '      <th>3</th>\\n', '      <td>BaldEagleCr</td>\\n', '      <td>3</td>\\n', '      <td>0.000016</td>\\n', '      <td>2018-09-09 11:03:20</td>\\n', '      <td>LINESTRING (2042125 351875, 2042125 351625)</td>\\n', '    </tr><tr>\\n', '      <th>4</th>\\n', '      <td>BaldEagleCr</td>\\n', '      <td>4</td>\\n', '      <td>0.000062</td>\\n', '      <td>2018-09-09 11:05:20</td>\\n', '      <td>LINESTRING (2042375 351375, 2042375 351625)</td>\\n', '    </tr>\n    <tr><td colspan=\"100%\" style=\"text-align:center\">[... additional rows truncated ...]</td></tr>\n  </tbody>\n</table>\n</div>",
            "text/plain": "['         mesh_name  face_id  maximum_face_courant maximum_face_courant_time  \\\\\\n', '0      BaldEagleCr        0              0.000020       2018-09-09 11:03:20   \\n', '1      BaldEagleCr        1              0.000062       2018-09-09 11:32:40   \\n', '2      BaldEagleCr        2              0.000048       2018-09-10 07:02:40   \\n', '3      BaldEagleCr        3              0.000016       2018-09-09 11:03:20   \\n', '4      BaldEagleCr        4              0.000062       2018-09-09 11:05:20   \\n', '...            ...      ...                   ...                       ...   \\n', '37589  BaldEagleCr    37589              0.000000       2018-09-09 00:00:00   \\n', '37590  BaldEagleCr    37590              0.000000       2018-09-09 00:00:00   \\n', '37591  BaldEagleCr    37591              0.000000       2018-09-09 00:00:00   \\n', '37592  BaldEagleCr    37592              0.000000       2018-09-09 00:00:00   \\n', '37593  BaldEagleCr    37593              0.000000       2018-09-09 00:00:00   \\n', '\\n', '                                                geometry  \\n', '0            LINESTRING (2042125 351625, 2042375 351625)  \\n', '1            LINESTRING (2042375 351625, 2042375 351875)  \\n', '2            LINESTRING (2042375 351875, 2042125 351875)  \\n', '3            LINESTRING (2042125 351875, 2042125 351625)  \\n', '4            LINESTRING (2042375 351375, 2042375 351625)  \\n', '...                                                  ...  \\n', '37589  LINESTRING (1978444.054 300812.794, 1978402.01...  \\n', '37590  LINESTRING (1973531.76 297370.846, 1973246.989...  \\n', '37591  LINESTRING (1968886.801 295900.5, 1968782.778 ...  \\n', '37592  LINESTRING (1965981.775 291978.68, 1966280.11 ...  \\n', '37593  LINESTRING (1969588.438 289578.114, 1969731.65...  \\n', '\\n', '[37594 rows x 5 columns]']"
          },
          "execution_count": 87,
          "metadata": {},
          "output_type": "execute_result"
        }
      ],
      "source": [
        "max_courant_gdf"
      ]
    },
    {
      "cell_type": "code",
      "execution_count": 88,
      "metadata": {},
      "outputs": [
        {
          "data": {
            "text/plain": [
              "<Figure size 1200x800 with 2 Axes>"
            ]
          },
          "metadata": {},
          "output_type": "display_data"
        },
        {
          "name": "stdout",
          "output_type": "stream",
          "text": [
            "\n",
            "First few rows of the Courant number dataframe:\n"
          ]
        },
        {
          "data": {
            "text/html": "<div>\n<style scoped>\\n', '    .dataframe tbody tr th:only-of-type {\\n', '        vertical-align: middle;\\n', '    }\\n', '\\n', '    .dataframe tbody tr th {\\n', '        vertical-align: top;\\n', '    }\\n', '\\n', '    .dataframe thead th {\\n', '        text-align: right;\\n', '    }\\n', '</style>\n<table border=\"1\" class=\"dataframe\">\n  <thead>\\n', '    <tr style=\"text-align: right;\">\\n', '      <th></th>\\n', '      <th>mesh_name</th>\\n', '      <th>face_id</th>\\n', '      <th>maximum_face_courant</th>\\n', '      <th>maximum_face_courant_time</th>\\n', '      <th>geometry</th>\\n', '      <th>centroid</th>\\n', '      <th>x</th>\\n', '      <th>y</th>\\n', '    </tr>\\n', '  </thead>\n  <tbody>\n    <tr>\\n', '      <th>0</th>\\n', '      <td>BaldEagleCr</td>\\n', '      <td>0</td>\\n', '      <td>0.000020</td>\\n', '      <td>2018-09-09 11:03:20</td>\\n', '      <td>LINESTRING (2042125 351625, 2042375 351625)</td>\\n', '      <td>POINT (2042250 351625)</td>\\n', '      <td>2.042250e+06</td>\\n', '      <td>351625.000000</td>\\n', '    </tr><tr>\\n', '      <th>1</th>\\n', '      <td>BaldEagleCr</td>\\n', '      <td>1</td>\\n', '      <td>0.000062</td>\\n', '      <td>2018-09-09 11:32:40</td>\\n', '      <td>LINESTRING (2042375 351625, 2042375 351875)</td>\\n', '      <td>POINT (2042375 351750)</td>\\n', '      <td>2.042375e+06</td>\\n', '      <td>351750.000000</td>\\n', '    </tr><tr>\\n', '      <th>2</th>\\n', '      <td>BaldEagleCr</td>\\n', '      <td>2</td>\\n', '      <td>0.000048</td>\\n', '      <td>2018-09-10 07:02:40</td>\\n', '      <td>LINESTRING (2042375 351875, 2042125 351875)</td>\\n', '      <td>POINT (2042250 351875)</td>\\n', '      <td>2.042250e+06</td>\\n', '      <td>351875.000000</td>\\n', '    </tr><tr>\\n', '      <th>3</th>\\n', '      <td>BaldEagleCr</td>\\n', '      <td>3</td>\\n', '      <td>0.000016</td>\\n', '      <td>2018-09-09 11:03:20</td>\\n', '      <td>LINESTRING (2042125 351875, 2042125 351625)</td>\\n', '      <td>POINT (2042125 351750)</td>\\n', '      <td>2.042125e+06</td>\\n', '      <td>351750.000000</td>\\n', '    </tr><tr>\\n', '      <th>4</th>\\n', '      <td>BaldEagleCr</td>\\n', '      <td>4</td>\\n', '      <td>0.000062</td>\\n', '      <td>2018-09-09 11:05:20</td>\\n', '      <td>LINESTRING (2042375 351375, 2042375 351625)</td>\\n', '      <td>POINT (2042375 351500)</td>\\n', '      <td>2.042375e+06</td>\\n', '      <td>351500.000000</td>\\n', '    </tr>\n    <tr><td colspan=\"100%\" style=\"text-align:center\">[... additional rows truncated ...]</td></tr>\n  </tbody>\n</table>\n</div>",
            "text/plain": "['         mesh_name  face_id  maximum_face_courant maximum_face_courant_time  \\\\\\n', '0      BaldEagleCr        0              0.000020       2018-09-09 11:03:20   \\n', '1      BaldEagleCr        1              0.000062       2018-09-09 11:32:40   \\n', '2      BaldEagleCr        2              0.000048       2018-09-10 07:02:40   \\n', '3      BaldEagleCr        3              0.000016       2018-09-09 11:03:20   \\n', '4      BaldEagleCr        4              0.000062       2018-09-09 11:05:20   \\n', '...            ...      ...                   ...                       ...   \\n', '37589  BaldEagleCr    37589              0.000000       2018-09-09 00:00:00   \\n', '37590  BaldEagleCr    37590              0.000000       2018-09-09 00:00:00   \\n', '37591  BaldEagleCr    37591              0.000000       2018-09-09 00:00:00   \\n', '37592  BaldEagleCr    37592              0.000000       2018-09-09 00:00:00   \\n', '37593  BaldEagleCr    37593              0.000000       2018-09-09 00:00:\n...\n[Output truncated, 2724 characters total]"
          },
          "execution_count": 88,
          "metadata": {},
          "output_type": "execute_result"
        }
      ],
      "source": [
        "# Plot max Courant number\n",
        "\n",
        "# Convert to GeoDataFrame if not empty\n",
        "if not max_courant_gdf.empty:\n",
        "    if generate_maps:\n",
        "        # Get centroids of line geometries for plotting\n",
        "        max_courant_gdf['centroid'] = max_courant_gdf.geometry.centroid\n",
        "        max_courant_gdf['x'] = max_courant_gdf.centroid.x\n",
        "        max_courant_gdf['y'] = max_courant_gdf.centroid.y\n",
        "\n",
        "        # Create the plot\n",
        "        fig, ax = plt.subplots(figsize=(12, 8))\n",
        "        scatter = ax.scatter(max_courant_gdf['x'], max_courant_gdf['y'],\n",
        "                        c=max_courant_gdf['maximum_face_courant'],\n",
        "                        cmap='viridis',\n",
        "                        s=10)\n",
        "\n",
        "        # Customize the plot\n",
        "        ax.set_title('Max Courant Number per Face')\n",
        "        ax.set_xlabel('X Coordinate')\n",
        "        ax.set_ylabel('Y Coordinate')\n",
        "        plt.colorbar(scatter, label='Max Courant Number')\n",
        "\n",
        "        # Add grid lines\n",
        "        ax.grid(True, linestyle='--', alpha=0.7)\n",
        "\n",
        "        # Increase font size for better readability\n",
        "        plt.rcParams.update({'font.size': 12})\n",
        "\n",
        "        # Adjust layout to prevent cutting off labels\n",
        "        plt.tight_layout()\n",
        "\n",
        "        # Show the plot\n",
        "        plt.show()\n",
        "\n",
        "# Print the first few rows of the dataframe for verification\n",
        "print(\"\\nFirst few rows of the Courant number dataframe:\")\n",
        "max_courant_gdf\n"
      ]
    },
    {
      "cell_type": "code",
      "execution_count": 89,
      "metadata": {},
      "outputs": [
        {
          "name": "stderr",
          "output_type": "stream",
          "text": [
            "2025-03-19 17:40:22 - ras_commander.HdfResultsMesh - INFO - Using HDF file from direct string path: c:\\GH\\ras-commander\\examples\\example_projects\\BaldEagleCrkMulti2D\\BaldEagleDamBrk.p06.hdf\n",
            "2025-03-19 17:40:22 - ras_commander.HdfResultsMesh - INFO - Final validated HDF file path: c:\\GH\\ras-commander\\examples\\example_projects\\BaldEagleCrkMulti2D\\BaldEagleDamBrk.p06.hdf\n",
            "2025-03-19 17:40:22 - ras_commander.HdfResultsMesh - INFO - Processing summary output for variable: Maximum Face Shear Stress\n",
            "2025-03-19 17:40:22 - ras_commander.HdfMesh - INFO - Using HDF file from h5py.File object: c:\\GH\\ras-commander\\examples\\example_projects\\BaldEagleCrkMulti2D\\BaldEagleDamBrk.p06.hdf\n",
            "2025-03-19 17:40:22 - ras_commander.HdfMesh - INFO - Final validated HDF file path: c:\\GH\\ras-commander\\examples\\example_projects\\BaldEagleCrkMulti2D\\BaldEagleDamBrk.p06.hdf\n",
            "2025-03-19 17:40:22 - ras_commander.HdfMesh - INFO - Using existing Path object HDF file: c:\\GH\\ras-commander\\examples\\example_projects\\BaldEagleCrkMulti2D\\BaldEagleDamBrk.p06.hdf\n",
            "2025-03-19 17:40:22 - ras_commander.HdfMesh - INFO - Final validated HDF file path: c:\\GH\\ras-commander\\examples\\example_projects\\BaldEagleCrkMulti2D\\BaldEagleDamBrk.p06.hdf\n",
            "2025-03-19 17:40:23 - ras_commander.HdfBase - INFO - Using HDF file from h5py.File object: c:\\GH\\ras-commander\\examples\\example_projects\\BaldEagleCrkMulti2D\\BaldEagleDamBrk.p06.hdf\n",
            "2025-03-19 17:40:23 - ras_commander.HdfBase - INFO - Final validated HDF file path: c:\\GH\\ras-commander\\examples\\example_projects\\BaldEagleCrkMulti2D\\BaldEagleDamBrk.p06.hdf\n",
            "2025-03-19 17:40:23 - ras_commander.HdfBase - INFO - Found projection in HDF file: c:\\GH\\ras-commander\\examples\\example_projects\\BaldEagleCrkMulti2D\\BaldEagleDamBrk.p06.hdf\n",
            "2025-03-19 17:40:23 - ras_commander.HdfBase - INFO - Using HDF file from h5py.File object: c:\\GH\\ras-commander\\examples\\example_projects\\BaldEagleCrkMulti2D\\BaldEagleDamBrk.p06.hdf\n",
            "2025-03-19 17:40:23 - ras_commander.HdfBase - INFO - Final validated HDF file path: c:\\GH\\ras-commander\\examples\\example_projects\\BaldEagleCrkMulti2D\\BaldEagleDamBrk.p06.hdf\n",
            "2025-03-19 17:40:23 - ras_commander.HdfBase - INFO - Found projection in HDF file: c:\\GH\\ras-commander\\examples\\example_projects\\BaldEagleCrkMulti2D\\BaldEagleDamBrk.p06.hdf\n",
            "2025-03-19 17:40:23 - ras_commander.HdfResultsMesh - INFO - Processed 37594 rows of summary output data\n"
          ]
        }
      ],
      "source": [
        "# Get mesh summary output for other Datasets (here we retrieve Maximum Face Courant)\n",
        "\n",
        "max_face_shear_gdf = HdfResultsMesh.get_mesh_summary(plan_hdf_path, var=\"Maximum Face Shear Stress\")"
      ]
    },
    {
      "cell_type": "code",
      "execution_count": 90,
      "metadata": {},
      "outputs": [
        {
          "name": "stdout",
          "output_type": "stream",
          "text": [
            "\n",
            "Mesh Summary Output (Maximum Face Shear Stress:\n",
            "{'mesh_name': 'BaldEagleCr', 'Max Time': np.float32(0.0), 'Max Value': np.float32(0.0), 'Min Time': np.float32(0.0), 'Min Value': np.float32(0.0), 'Rows Variables': ['Shear Stress', 'Time'], 'Units': ['PSF', 'days']}\n"
          ]
        }
      ],
      "source": [
        "print(\"\\nMesh Summary Output (Maximum Face Shear Stress:\")\n",
        "print(max_face_shear_gdf.attrs)"
      ]
    },
    {
      "cell_type": "code",
      "execution_count": 91,
      "metadata": {},
      "outputs": [
        {
          "data": {
            "text/html": "<div>\n<style scoped>\\n', '    .dataframe tbody tr th:only-of-type {\\n', '        vertical-align: middle;\\n', '    }\\n', '\\n', '    .dataframe tbody tr th {\\n', '        vertical-align: top;\\n', '    }\\n', '\\n', '    .dataframe thead th {\\n', '        text-align: right;\\n', '    }\\n', '</style>\n<table border=\"1\" class=\"dataframe\">\n  <thead>\\n', '    <tr style=\"text-align: right;\">\\n', '      <th></th>\\n', '      <th>mesh_name</th>\\n', '      <th>face_id</th>\\n', '      <th>maximum_face_shear_stress</th>\\n', '      <th>maximum_face_shear_stress_time</th>\\n', '      <th>geometry</th>\\n', '    </tr>\\n', '  </thead>\n  <tbody>\n    <tr>\\n', '      <th>0</th>\\n', '      <td>BaldEagleCr</td>\\n', '      <td>0</td>\\n', '      <td>0.0</td>\\n', '      <td>2018-09-09</td>\\n', '      <td>LINESTRING (2042125 351625, 2042375 351625)</td>\\n', '    </tr><tr>\\n', '      <th>1</th>\\n', '      <td>BaldEagleCr</td>\\n', '      <td>1</td>\\n', '      <td>0.0</td>\\n', '      <td>2018-09-09</td>\\n', '      <td>LINESTRING (2042375 351625, 2042375 351875)</td>\\n', '    </tr><tr>\\n', '      <th>2</th>\\n', '      <td>BaldEagleCr</td>\\n', '      <td>2</td>\\n', '      <td>0.0</td>\\n', '      <td>2018-09-09</td>\\n', '      <td>LINESTRING (2042375 351875, 2042125 351875)</td>\\n', '    </tr><tr>\\n', '      <th>3</th>\\n', '      <td>BaldEagleCr</td>\\n', '      <td>3</td>\\n', '      <td>0.0</td>\\n', '      <td>2018-09-09</td>\\n', '      <td>LINESTRING (2042125 351875, 2042125 351625)</td>\\n', '    </tr><tr>\\n', '      <th>4</th>\\n', '      <td>BaldEagleCr</td>\\n', '      <td>4</td>\\n', '      <td>0.0</td>\\n', '      <td>2018-09-09</td>\\n', '      <td>LINESTRING (2042375 351375, 2042375 351625)</td>\\n', '    </tr>\n    <tr><td colspan=\"100%\" style=\"text-align:center\">[... additional rows truncated ...]</td></tr>\n  </tbody>\n</table>\n</div>",
            "text/plain": "['         mesh_name  face_id  maximum_face_shear_stress  \\\\\\n', '0      BaldEagleCr        0                        0.0   \\n', '1      BaldEagleCr        1                        0.0   \\n', '2      BaldEagleCr        2                        0.0   \\n', '3      BaldEagleCr        3                        0.0   \\n', '4      BaldEagleCr        4                        0.0   \\n', '...            ...      ...                        ...   \\n', '37589  BaldEagleCr    37589                        0.0   \\n', '37590  BaldEagleCr    37590                        0.0   \\n', '37591  BaldEagleCr    37591                        0.0   \\n', '37592  BaldEagleCr    37592                        0.0   \\n', '37593  BaldEagleCr    37593                        0.0   \\n', '\\n', '      maximum_face_shear_stress_time  \\\\\\n', '0                         2018-09-09   \\n', '1                         2018-09-09   \\n', '2                         2018-09-09   \\n', '3                         2018-09-09   \\n', '4        \n...\n[Output truncated, 2112 characters total]"
          },
          "execution_count": 91,
          "metadata": {},
          "output_type": "execute_result"
        }
      ],
      "source": [
        "max_face_shear_gdf"
      ]
    },
    {
      "cell_type": "code",
      "execution_count": 92,
      "metadata": {},
      "outputs": [
        {
          "data": {
            "text/plain": [
              "<Figure size 1200x800 with 2 Axes>"
            ]
          },
          "metadata": {},
          "output_type": "display_data"
        }
      ],
      "source": [
        "# Plot max face shear stress\n",
        "\n",
        "if generate_maps and not max_face_shear_gdf.empty:\n",
        "    # Calculate centroids of the line geometries and extract coordinates\n",
        "    max_face_shear_gdf['centroid'] = max_face_shear_gdf['geometry'].apply(lambda line: line.centroid)\n",
        "    max_face_shear_gdf['x'] = max_face_shear_gdf['centroid'].apply(lambda point: point.x)\n",
        "    max_face_shear_gdf['y'] = max_face_shear_gdf['centroid'].apply(lambda point: point.y)\n",
        "\n",
        "    # Create the plot\n",
        "    fig, ax = plt.subplots(figsize=(12, 8))\n",
        "    scatter = ax.scatter(max_face_shear_gdf['x'], max_face_shear_gdf['y'],\n",
        "                        c=max_face_shear_gdf['maximum_face_shear_stress'],\n",
        "                        cmap='viridis',\n",
        "                        s=10)\n",
        "\n",
        "    # Customize the plot\n",
        "    ax.set_title('Max Face Shear Stress per Face')\n",
        "    ax.set_xlabel('X Coordinate')\n",
        "    ax.set_ylabel('Y Coordinate')\n",
        "    plt.colorbar(scatter, label='Max Face Shear Stress (PSF)')\n",
        "\n",
        "    # Add grid lines\n",
        "    ax.grid(True, linestyle='--', alpha=0.7)\n",
        "\n",
        "    # Increase font size for better readability\n",
        "    plt.rcParams.update({'font.size': 12})\n",
        "\n",
        "    # Adjust layout to prevent cutting off labels\n",
        "    plt.tight_layout()\n",
        "\n",
        "    # Show the plot\n",
        "    plt.show()"
      ]
    },
    {
      "cell_type": "code",
      "execution_count": 93,
      "metadata": {},
      "outputs": [
        {
          "name": "stderr",
          "output_type": "stream",
          "text": [
            "2025-03-19 17:40:25 - ras_commander.HdfResultsMesh - INFO - Using HDF file from direct string path: c:\\GH\\ras-commander\\examples\\example_projects\\BaldEagleCrkMulti2D\\BaldEagleDamBrk.p06.hdf\n",
            "2025-03-19 17:40:25 - ras_commander.HdfResultsMesh - INFO - Final validated HDF file path: c:\\GH\\ras-commander\\examples\\example_projects\\BaldEagleCrkMulti2D\\BaldEagleDamBrk.p06.hdf\n",
            "2025-03-19 17:40:25 - ras_commander.HdfResultsMesh - INFO - Processing summary output for variable: Minimum Water Surface\n",
            "2025-03-19 17:40:25 - ras_commander.HdfMesh - INFO - Using HDF file from h5py.File object: c:\\GH\\ras-commander\\examples\\example_projects\\BaldEagleCrkMulti2D\\BaldEagleDamBrk.p06.hdf\n",
            "2025-03-19 17:40:25 - ras_commander.HdfMesh - INFO - Final validated HDF file path: c:\\GH\\ras-commander\\examples\\example_projects\\BaldEagleCrkMulti2D\\BaldEagleDamBrk.p06.hdf\n",
            "2025-03-19 17:40:25 - ras_commander.HdfMesh - INFO - Using existing Path object HDF file: c:\\GH\\ras-commander\\examples\\example_projects\\BaldEagleCrkMulti2D\\BaldEagleDamBrk.p06.hdf\n",
            "2025-03-19 17:40:25 - ras_commander.HdfMesh - INFO - Final validated HDF file path: c:\\GH\\ras-commander\\examples\\example_projects\\BaldEagleCrkMulti2D\\BaldEagleDamBrk.p06.hdf\n",
            "2025-03-19 17:40:25 - ras_commander.HdfBase - INFO - Using HDF file from h5py.File object: c:\\GH\\ras-commander\\examples\\example_projects\\BaldEagleCrkMulti2D\\BaldEagleDamBrk.p06.hdf\n",
            "2025-03-19 17:40:25 - ras_commander.HdfBase - INFO - Final validated HDF file path: c:\\GH\\ras-commander\\examples\\example_projects\\BaldEagleCrkMulti2D\\BaldEagleDamBrk.p06.hdf\n",
            "2025-03-19 17:40:25 - ras_commander.HdfBase - INFO - Found projection in HDF file: c:\\GH\\ras-commander\\examples\\example_projects\\BaldEagleCrkMulti2D\\BaldEagleDamBrk.p06.hdf\n",
            "2025-03-19 17:40:25 - ras_commander.HdfBase - INFO - Using HDF file from h5py.File object: c:\\GH\\ras-commander\\examples\\example_projects\\BaldEagleCrkMulti2D\\BaldEagleDamBrk.p06.hdf\n",
            "2025-03-19 17:40:25 - ras_commander.HdfBase - INFO - Final validated HDF file path: c:\\GH\\ras-commander\\examples\\example_projects\\BaldEagleCrkMulti2D\\BaldEagleDamBrk.p06.hdf\n",
            "2025-03-19 17:40:25 - ras_commander.HdfBase - INFO - Found projection in HDF file: c:\\GH\\ras-commander\\examples\\example_projects\\BaldEagleCrkMulti2D\\BaldEagleDamBrk.p06.hdf\n",
            "2025-03-19 17:40:25 - ras_commander.HdfResultsMesh - INFO - Processed 19597 rows of summary output data\n"
          ]
        }
      ],
      "source": [
        "# Get mesh summary output for Minimum Water Surface as geodataframe\n",
        "summary_gdf_min_ws = HdfResultsMesh.get_mesh_summary(plan_hdf_path, var=\"Minimum Water Surface\")"
      ]
    },
    {
      "cell_type": "code",
      "execution_count": 94,
      "metadata": {},
      "outputs": [
        {
          "name": "stdout",
          "output_type": "stream",
          "text": [
            "\n",
            "Mesh Summary Output (Minimum Water Surface):\n"
          ]
        },
        {
          "data": {
            "text/html": "<div>\n<style scoped>\\n', '    .dataframe tbody tr th:only-of-type {\\n', '        vertical-align: middle;\\n', '    }\\n', '\\n', '    .dataframe tbody tr th {\\n', '        vertical-align: top;\\n', '    }\\n', '\\n', '    .dataframe thead th {\\n', '        text-align: right;\\n', '    }\\n', '</style>\n<table border=\"1\" class=\"dataframe\">\n  <thead>\\n', '    <tr style=\"text-align: right;\">\\n', '      <th></th>\\n', '      <th>mesh_name</th>\\n', '      <th>cell_id</th>\\n', '      <th>minimum_water_surface</th>\\n', '      <th>minimum_water_surface_time</th>\\n', '      <th>geometry</th>\\n', '    </tr>\\n', '  </thead>\n  <tbody>\n    <tr>\\n', '      <th>0</th>\\n', '      <td>BaldEagleCr</td>\\n', '      <td>0</td>\\n', '      <td>701.151245</td>\\n', '      <td>2018-09-09 00:00:20</td>\\n', '      <td>POINT (2083000 370750)</td>\\n', '    </tr><tr>\\n', '      <th>1</th>\\n', '      <td>BaldEagleCr</td>\\n', '      <td>1</td>\\n', '      <td>689.052246</td>\\n', '      <td>2018-09-09 00:00:20</td>\\n', '      <td>POINT (2083250 370750)</td>\\n', '    </tr><tr>\\n', '      <th>2</th>\\n', '      <td>BaldEagleCr</td>\\n', '      <td>2</td>\\n', '      <td>669.774719</td>\\n', '      <td>2018-09-09 00:00:20</td>\\n', '      <td>POINT (2083500 370750)</td>\\n', '    </tr><tr>\\n', '      <th>3</th>\\n', '      <td>BaldEagleCr</td>\\n', '      <td>3</td>\\n', '      <td>658.986938</td>\\n', '      <td>2018-09-09 00:00:20</td>\\n', '      <td>POINT (2083750 370750)</td>\\n', '    </tr><tr>\\n', '      <th>4</th>\\n', '      <td>BaldEagleCr</td>\\n', '      <td>4</td>\\n', '      <td>658.720581</td>\\n', '      <td>2018-09-09 00:00:20</td>\\n', '      <td>POINT (2084000 370750)</td>\\n', '    </tr>\n    <tr><td colspan=\"100%\" style=\"text-align:center\">[... additional rows truncated ...]</td></tr>\n  </tbody>\n</table>\n</div>",
            "text/plain": "['         mesh_name  cell_id  minimum_water_surface minimum_water_surface_time  \\\\\\n', '0      BaldEagleCr        0             701.151245        2018-09-09 00:00:20   \\n', '1      BaldEagleCr        1             689.052246        2018-09-09 00:00:20   \\n', '2      BaldEagleCr        2             669.774719        2018-09-09 00:00:20   \\n', '3      BaldEagleCr        3             658.986938        2018-09-09 00:00:20   \\n', '4      BaldEagleCr        4             658.720581        2018-09-09 00:00:20   \\n', '...            ...      ...                    ...                        ...   \\n', '19592  BaldEagleCr    19592               0.000000        2018-09-09 00:00:00   \\n', '19593  BaldEagleCr    19593               0.000000        2018-09-09 00:00:00   \\n', '19594  BaldEagleCr    19594               0.000000        2018-09-09 00:00:00   \\n', '19595  BaldEagleCr    19595               0.000000        2018-09-09 00:00:00   \\n', '19596  BaldEagleCr    19596               0.000000        2018-09-09 00:00:00   \\n', '\\n', '                             geometry  \\n', '0              POINT (2083000 370750)  \\n', '1              POINT (2083250 370750)  \\n', '2              POINT (2083500 370750)  \\n', '3              POINT (2083750 370750)  \\n', '4              POINT (2084000 370750)  \\n', '...                               ...  \\n', '19592  POINT (1978423.032 300718.897)  \\n', '19593  POINT (1973389.375 297311.928)  \\n', '19594   POINT (1968834.79 295808.861)  \\n', '19595  POINT (1966130.942 291879.395)  \\n', '19596   POINT (1969660.046 289673.23)  \\n', '\\n', '[19597 rows x 5 columns]']"
          },
          "execution_count": 94,
          "metadata": {},
          "output_type": "execute_result"
        }
      ],
      "source": [
        "print(\"\\nMesh Summary Output (Minimum Water Surface):\")\n",
        "summary_gdf_min_ws"
      ]
    },
    {
      "cell_type": "code",
      "execution_count": 95,
      "metadata": {},
      "outputs": [
        {
          "name": "stderr",
          "output_type": "stream",
          "text": [
            "2025-03-19 17:40:25 - ras_commander.HdfResultsMesh - INFO - Using HDF file from direct string path: c:\\GH\\ras-commander\\examples\\example_projects\\BaldEagleCrkMulti2D\\BaldEagleDamBrk.p06.hdf\n",
            "2025-03-19 17:40:25 - ras_commander.HdfResultsMesh - INFO - Final validated HDF file path: c:\\GH\\ras-commander\\examples\\example_projects\\BaldEagleCrkMulti2D\\BaldEagleDamBrk.p06.hdf\n",
            "2025-03-19 17:40:25 - ras_commander.HdfResultsMesh - INFO - Processing summary output for variable: Minimum Face Velocity\n",
            "2025-03-19 17:40:25 - ras_commander.HdfMesh - INFO - Using HDF file from h5py.File object: c:\\GH\\ras-commander\\examples\\example_projects\\BaldEagleCrkMulti2D\\BaldEagleDamBrk.p06.hdf\n",
            "2025-03-19 17:40:25 - ras_commander.HdfMesh - INFO - Final validated HDF file path: c:\\GH\\ras-commander\\examples\\example_projects\\BaldEagleCrkMulti2D\\BaldEagleDamBrk.p06.hdf\n",
            "2025-03-19 17:40:25 - ras_commander.HdfMesh - INFO - Using existing Path object HDF file: c:\\GH\\ras-commander\\examples\\example_projects\\BaldEagleCrkMulti2D\\BaldEagleDamBrk.p06.hdf\n",
            "2025-03-19 17:40:25 - ras_commander.HdfMesh - INFO - Final validated HDF file path: c:\\GH\\ras-commander\\examples\\example_projects\\BaldEagleCrkMulti2D\\BaldEagleDamBrk.p06.hdf\n",
            "2025-03-19 17:40:26 - ras_commander.HdfBase - INFO - Using HDF file from h5py.File object: c:\\GH\\ras-commander\\examples\\example_projects\\BaldEagleCrkMulti2D\\BaldEagleDamBrk.p06.hdf\n",
            "2025-03-19 17:40:26 - ras_commander.HdfBase - INFO - Final validated HDF file path: c:\\GH\\ras-commander\\examples\\example_projects\\BaldEagleCrkMulti2D\\BaldEagleDamBrk.p06.hdf\n",
            "2025-03-19 17:40:26 - ras_commander.HdfBase - INFO - Found projection in HDF file: c:\\GH\\ras-commander\\examples\\example_projects\\BaldEagleCrkMulti2D\\BaldEagleDamBrk.p06.hdf\n",
            "2025-03-19 17:40:26 - ras_commander.HdfBase - INFO - Using HDF file from h5py.File object: c:\\GH\\ras-commander\\examples\\example_projects\\BaldEagleCrkMulti2D\\BaldEagleDamBrk.p06.hdf\n",
            "2025-03-19 17:40:26 - ras_commander.HdfBase - INFO - Final validated HDF file path: c:\\GH\\ras-commander\\examples\\example_projects\\BaldEagleCrkMulti2D\\BaldEagleDamBrk.p06.hdf\n",
            "2025-03-19 17:40:26 - ras_commander.HdfBase - INFO - Found projection in HDF file: c:\\GH\\ras-commander\\examples\\example_projects\\BaldEagleCrkMulti2D\\BaldEagleDamBrk.p06.hdf\n",
            "2025-03-19 17:40:26 - ras_commander.HdfResultsMesh - INFO - Processed 37594 rows of summary output data\n"
          ]
        }
      ],
      "source": [
        "# Get mesh summary output for Minimum Face Velocity as geodataframe\n",
        "summary_gdf_min_fv = HdfResultsMesh.get_mesh_summary(plan_hdf_path, var=\"Minimum Face Velocity\")"
      ]
    },
    {
      "cell_type": "code",
      "execution_count": 96,
      "metadata": {},
      "outputs": [
        {
          "name": "stdout",
          "output_type": "stream",
          "text": [
            "\n",
            "Mesh Summary Output (Minimum Face Velocity):\n"
          ]
        },
        {
          "data": {
            "text/html": "<div>\n<style scoped>\\n', '    .dataframe tbody tr th:only-of-type {\\n', '        vertical-align: middle;\\n', '    }\\n', '\\n', '    .dataframe tbody tr th {\\n', '        vertical-align: top;\\n', '    }\\n', '\\n', '    .dataframe thead th {\\n', '        text-align: right;\\n', '    }\\n', '</style>\n<table border=\"1\" class=\"dataframe\">\n  <thead>\\n', '    <tr style=\"text-align: right;\">\\n', '      <th></th>\\n', '      <th>mesh_name</th>\\n', '      <th>face_id</th>\\n', '      <th>minimum_face_velocity</th>\\n', '      <th>minimum_face_velocity_time</th>\\n', '      <th>geometry</th>\\n', '    </tr>\\n', '  </thead>\n  <tbody>\n    <tr>\\n', '      <th>0</th>\\n', '      <td>BaldEagleCr</td>\\n', '      <td>0</td>\\n', '      <td>0.0</td>\\n', '      <td>2018-09-09 00:00:20</td>\\n', '      <td>LINESTRING (2042125 351625, 2042375 351625)</td>\\n', '    </tr><tr>\\n', '      <th>1</th>\\n', '      <td>BaldEagleCr</td>\\n', '      <td>1</td>\\n', '      <td>0.0</td>\\n', '      <td>2018-09-09 00:00:20</td>\\n', '      <td>LINESTRING (2042375 351625, 2042375 351875)</td>\\n', '    </tr><tr>\\n', '      <th>2</th>\\n', '      <td>BaldEagleCr</td>\\n', '      <td>2</td>\\n', '      <td>0.0</td>\\n', '      <td>2018-09-09 00:00:20</td>\\n', '      <td>LINESTRING (2042375 351875, 2042125 351875)</td>\\n', '    </tr><tr>\\n', '      <th>3</th>\\n', '      <td>BaldEagleCr</td>\\n', '      <td>3</td>\\n', '      <td>0.0</td>\\n', '      <td>2018-09-09 00:00:20</td>\\n', '      <td>LINESTRING (2042125 351875, 2042125 351625)</td>\\n', '    </tr><tr>\\n', '      <th>4</th>\\n', '      <td>BaldEagleCr</td>\\n', '      <td>4</td>\\n', '      <td>0.0</td>\\n', '      <td>2018-09-09 00:00:20</td>\\n', '      <td>LINESTRING (2042375 351375, 2042375 351625)</td>\\n', '    </tr>\n    <tr><td colspan=\"100%\" style=\"text-align:center\">[... additional rows truncated ...]</td></tr>\n  </tbody>\n</table>\n</div>",
            "text/plain": "['         mesh_name  face_id  minimum_face_velocity minimum_face_velocity_time  \\\\\\n', '0      BaldEagleCr        0                    0.0        2018-09-09 00:00:20   \\n', '1      BaldEagleCr        1                    0.0        2018-09-09 00:00:20   \\n', '2      BaldEagleCr        2                    0.0        2018-09-09 00:00:20   \\n', '3      BaldEagleCr        3                    0.0        2018-09-09 00:00:20   \\n', '4      BaldEagleCr        4                    0.0        2018-09-09 00:00:20   \\n', '...            ...      ...                    ...                        ...   \\n', '37589  BaldEagleCr    37589                    0.0        2018-09-09 00:00:20   \\n', '37590  BaldEagleCr    37590                    0.0        2018-09-09 00:00:20   \\n', '37591  BaldEagleCr    37591                    0.0        2018-09-09 00:00:20   \\n', '37592  BaldEagleCr    37592                    0.0        2018-09-09 00:00:20   \\n', '37593  BaldEagleCr    37593                    0.0        2018-09-09 00:00:20   \\n', '\\n', '                                                geometry  \\n', '0            LINESTRING (2042125 351625, 2042375 351625)  \\n', '1            LINESTRING (2042375 351625, 2042375 351875)  \\n', '2            LINESTRING (2042375 351875, 2042125 351875)  \\n', '3            LINESTRING (2042125 351875, 2042125 351625)  \\n', '4            LINESTRING (2042375 351375, 2042375 351625)  \\n', '...                                                  ...  \\n', '37589  LINESTRING (1978444.054 300812.794, 1978402.01...  \\n', '37590  LINESTRING (1973531.76 297370.846, 1973246.989...  \\n', '37591  LINESTRING (1968886.801 295900.5, 1968782.778 ...  \\n', '37592  LINESTRING (1965981.775 291978.68, 1966280.11 ...  \\n', '37593  LINESTRING (1969588.438 289578.114, 1969731.65...  \\n', '\\n', '[37594 rows x 5 columns]']"
          },
          "execution_count": 96,
          "metadata": {},
          "output_type": "execute_result"
        }
      ],
      "source": [
        "print(\"\\nMesh Summary Output (Minimum Face Velocity):\")\n",
        "summary_gdf_min_fv"
      ]
    },
    {
      "cell_type": "code",
      "execution_count": 97,
      "metadata": {},
      "outputs": [
        {
          "name": "stderr",
          "output_type": "stream",
          "text": [
            "2025-03-19 17:40:26 - ras_commander.HdfResultsMesh - INFO - Using HDF file from direct string path: c:\\GH\\ras-commander\\examples\\example_projects\\BaldEagleCrkMulti2D\\BaldEagleDamBrk.p06.hdf\n",
            "2025-03-19 17:40:26 - ras_commander.HdfResultsMesh - INFO - Final validated HDF file path: c:\\GH\\ras-commander\\examples\\example_projects\\BaldEagleCrkMulti2D\\BaldEagleDamBrk.p06.hdf\n",
            "2025-03-19 17:40:26 - ras_commander.HdfResultsMesh - INFO - Processing summary output for variable: Cell Cumulative Iteration\n",
            "2025-03-19 17:40:26 - ras_commander.HdfMesh - INFO - Using HDF file from h5py.File object: c:\\GH\\ras-commander\\examples\\example_projects\\BaldEagleCrkMulti2D\\BaldEagleDamBrk.p06.hdf\n",
            "2025-03-19 17:40:26 - ras_commander.HdfMesh - INFO - Final validated HDF file path: c:\\GH\\ras-commander\\examples\\example_projects\\BaldEagleCrkMulti2D\\BaldEagleDamBrk.p06.hdf\n",
            "2025-03-19 17:40:26 - ras_commander.HdfMesh - INFO - Using existing Path object HDF file: c:\\GH\\ras-commander\\examples\\example_projects\\BaldEagleCrkMulti2D\\BaldEagleDamBrk.p06.hdf\n",
            "2025-03-19 17:40:26 - ras_commander.HdfMesh - INFO - Final validated HDF file path: c:\\GH\\ras-commander\\examples\\example_projects\\BaldEagleCrkMulti2D\\BaldEagleDamBrk.p06.hdf\n",
            "2025-03-19 17:40:27 - ras_commander.HdfBase - INFO - Using HDF file from h5py.File object: c:\\GH\\ras-commander\\examples\\example_projects\\BaldEagleCrkMulti2D\\BaldEagleDamBrk.p06.hdf\n",
            "2025-03-19 17:40:27 - ras_commander.HdfBase - INFO - Final validated HDF file path: c:\\GH\\ras-commander\\examples\\example_projects\\BaldEagleCrkMulti2D\\BaldEagleDamBrk.p06.hdf\n",
            "2025-03-19 17:40:27 - ras_commander.HdfBase - INFO - Found projection in HDF file: c:\\GH\\ras-commander\\examples\\example_projects\\BaldEagleCrkMulti2D\\BaldEagleDamBrk.p06.hdf\n",
            "2025-03-19 17:40:27 - ras_commander.HdfBase - INFO - Using HDF file from h5py.File object: c:\\GH\\ras-commander\\examples\\example_projects\\BaldEagleCrkMulti2D\\BaldEagleDamBrk.p06.hdf\n",
            "2025-03-19 17:40:27 - ras_commander.HdfBase - INFO - Final validated HDF file path: c:\\GH\\ras-commander\\examples\\example_projects\\BaldEagleCrkMulti2D\\BaldEagleDamBrk.p06.hdf\n",
            "2025-03-19 17:40:27 - ras_commander.HdfBase - INFO - Found projection in HDF file: c:\\GH\\ras-commander\\examples\\example_projects\\BaldEagleCrkMulti2D\\BaldEagleDamBrk.p06.hdf\n",
            "2025-03-19 17:40:27 - ras_commander.HdfResultsMesh - INFO - Processed 19597 rows of summary output data\n"
          ]
        }
      ],
      "source": [
        "# Get mesh summary output for Cell Cumulative Iteration as geodataframe\n",
        "summary_gdf_cum_iter = HdfResultsMesh.get_mesh_summary(plan_hdf_path, var=\"Cell Cumulative Iteration\")"
      ]
    },
    {
      "cell_type": "code",
      "execution_count": 98,
      "metadata": {},
      "outputs": [
        {
          "name": "stdout",
          "output_type": "stream",
          "text": [
            "\n",
            "Mesh Summary Output (Cell Cumulative Iteration):\n"
          ]
        },
        {
          "data": {
            "text/html": "<div>\n<style scoped>\\n', '    .dataframe tbody tr th:only-of-type {\\n', '        vertical-align: middle;\\n', '    }\\n', '\\n', '    .dataframe tbody tr th {\\n', '        vertical-align: top;\\n', '    }\\n', '\\n', '    .dataframe thead th {\\n', '        text-align: right;\\n', '    }\\n', '</style>\n<table border=\"1\" class=\"dataframe\">\n  <thead>\\n', '    <tr style=\"text-align: right;\">\\n', '      <th></th>\\n', '      <th>mesh_name</th>\\n', '      <th>cell_id</th>\\n', '      <th>cell_cumulative_iteration</th>\\n', '      <th>geometry</th>\\n', '    </tr>\\n', '  </thead>\n  <tbody>\n    <tr>\\n', '      <th>0</th>\\n', '      <td>BaldEagleCr</td>\\n', '      <td>0</td>\\n', '      <td>0.0</td>\\n', '      <td>POINT (2083000 370750)</td>\\n', '    </tr><tr>\\n', '      <th>1</th>\\n', '      <td>BaldEagleCr</td>\\n', '      <td>1</td>\\n', '      <td>0.0</td>\\n', '      <td>POINT (2083250 370750)</td>\\n', '    </tr><tr>\\n', '      <th>2</th>\\n', '      <td>BaldEagleCr</td>\\n', '      <td>2</td>\\n', '      <td>0.0</td>\\n', '      <td>POINT (2083500 370750)</td>\\n', '    </tr><tr>\\n', '      <th>3</th>\\n', '      <td>BaldEagleCr</td>\\n', '      <td>3</td>\\n', '      <td>0.0</td>\\n', '      <td>POINT (2083750 370750)</td>\\n', '    </tr><tr>\\n', '      <th>4</th>\\n', '      <td>BaldEagleCr</td>\\n', '      <td>4</td>\\n', '      <td>0.0</td>\\n', '      <td>POINT (2084000 370750)</td>\\n', '    </tr>\n    <tr><td colspan=\"100%\" style=\"text-align:center\">[... additional rows truncated ...]</td></tr>\n  </tbody>\n</table>\n</div>",
            "text/plain": "['         mesh_name  cell_id  cell_cumulative_iteration  \\\\\\n', '0      BaldEagleCr        0                        0.0   \\n', '1      BaldEagleCr        1                        0.0   \\n', '2      BaldEagleCr        2                        0.0   \\n', '3      BaldEagleCr        3                        0.0   \\n', '4      BaldEagleCr        4                        0.0   \\n', '...            ...      ...                        ...   \\n', '19592  BaldEagleCr    19592                        0.0   \\n', '19593  BaldEagleCr    19593                        0.0   \\n', '19594  BaldEagleCr    19594                        0.0   \\n', '19595  BaldEagleCr    19595                        0.0   \\n', '19596  BaldEagleCr    19596                        0.0   \\n', '\\n', '                             geometry  \\n', '0              POINT (2083000 370750)  \\n', '1              POINT (2083250 370750)  \\n', '2              POINT (2083500 370750)  \\n', '3              POINT (2083750 370750)  \\n', '4              POINT (2084000 370750)  \\n', '...                               ...  \\n', '19592  POINT (1978423.032 300718.897)  \\n', '19593  POINT (1973389.375 297311.928)  \\n', '19594   POINT (1968834.79 295808.861)  \\n', '19595  POINT (1966130.942 291879.395)  \\n', '19596   POINT (1969660.046 289673.23)  \\n', '\\n', '[19597 rows x 4 columns]']"
          },
          "execution_count": 98,
          "metadata": {},
          "output_type": "execute_result"
        }
      ],
      "source": [
        "print(\"\\nMesh Summary Output (Cell Cumulative Iteration):\")\n",
        "summary_gdf_cum_iter"
      ]
    },
    {
      "cell_type": "code",
      "execution_count": 99,
      "metadata": {},
      "outputs": [
        {
          "name": "stderr",
          "output_type": "stream",
          "text": [
            "2025-03-19 17:40:27 - ras_commander.HdfMesh - INFO - Using HDF file from direct string path: c:\\GH\\ras-commander\\examples\\example_projects\\BaldEagleCrkMulti2D\\BaldEagleDamBrk.g09.hdf\n",
            "2025-03-19 17:40:27 - ras_commander.HdfMesh - INFO - Final validated HDF file path: c:\\GH\\ras-commander\\examples\\example_projects\\BaldEagleCrkMulti2D\\BaldEagleDamBrk.g09.hdf\n"
          ]
        }
      ],
      "source": [
        "# Get mesh timeseries output as xarray\n",
        "# The mesh name is part of the timeseries HDF path, so you must pass the mesh_name to retrieve it\n",
        "\n",
        "# Get mesh areas from previous code cell\n",
        "mesh_areas = HdfMesh.get_mesh_area_names(geom_hdf_path)\n"
      ]
    },
    {
      "cell_type": "code",
      "execution_count": 100,
      "metadata": {},
      "outputs": [
        {
          "data": {
            "text/plain": "[\"['BaldEagleCr']\"]"
          },
          "execution_count": 100,
          "metadata": {},
          "output_type": "execute_result"
        }
      ],
      "source": [
        "mesh_areas"
      ]
    },
    {
      "cell_type": "code",
      "execution_count": 101,
      "metadata": {},
      "outputs": [
        {
          "name": "stderr",
          "output_type": "stream",
          "text": [
            "2025-03-19 17:40:27 - ras_commander.HdfResultsMesh - INFO - Using HDF file from direct string path: c:\\GH\\ras-commander\\examples\\example_projects\\BaldEagleCrkMulti2D\\BaldEagleDamBrk.p06.hdf\n",
            "2025-03-19 17:40:27 - ras_commander.HdfResultsMesh - INFO - Final validated HDF file path: c:\\GH\\ras-commander\\examples\\example_projects\\BaldEagleCrkMulti2D\\BaldEagleDamBrk.p06.hdf\n"
          ]
        }
      ],
      "source": [
        "# Use the first mesh area name to extract mesh timeseries output as xarray\n",
        "timeseries_xr = HdfResultsMesh.get_mesh_timeseries(plan_hdf_path, mesh_areas[0], \"Water Surface\") # Use the first 2D flow area name for mesh_name"
      ]
    },
    {
      "cell_type": "code",
      "execution_count": 102,
      "metadata": {},
      "outputs": [
        {
          "data": {
            "text/html": "<div><pre>xarray.DataArray with Unknown dimensions\n[Full xarray output truncated during preprocessing]</pre></div>",
            "text/plain": "xarray.DataArray with Unknown dimensions\n[Full xarray output truncated during preprocessing]"
          },
          "execution_count": 102,
          "metadata": {},
          "output_type": "execute_result"
        }
      ],
      "source": [
        "timeseries_xr"
      ]
    },
    {
      "cell_type": "code",
      "execution_count": 103,
      "metadata": {},
      "outputs": [],
      "source": [
        "# Time Series Output Variables for Cells\n",
        "# \n",
        "# Variable Name: Description\n",
        "# Water Surface: Water surface elevation\n",
        "# Depth: Water depth\n",
        "# Velocity: Magnitude of velocity\n",
        "# Velocity X: X-component of velocity\n",
        "# Velocity Y: Y-component of velocity\n",
        "# Froude Number: Froude number\n",
        "# Courant Number: Courant number\n",
        "# Shear Stress: Shear stress on the bed\n",
        "# Bed Elevation: Elevation of the bed\n",
        "# Precipitation Rate: Rate of precipitation\n",
        "# Infiltration Rate: Rate of infiltration\n",
        "# Evaporation Rate: Rate of evaporation\n",
        "# Percolation Rate: Rate of percolation\n",
        "# Groundwater Elevation: Elevation of groundwater\n",
        "# Groundwater Depth: Depth to groundwater\n",
        "# Groundwater Flow: Groundwater flow rate\n",
        "# Groundwater Velocity: Magnitude of groundwater velocity\n",
        "# Groundwater Velocity X: X-component of groundwater velocity\n",
        "# Groundwater Velocity Y: Y-component of groundwater velocity\n",
        "# \n",
        "# These variables are available for time series output at the cell level in 2D flow areas.\n"
      ]
    },
    {
      "cell_type": "code",
      "execution_count": 104,
      "metadata": {},
      "outputs": [
        {
          "name": "stderr",
          "output_type": "stream",
          "text": [
            "2025-03-19 17:40:27 - ras_commander.HdfResultsMesh - INFO - Using HDF file from direct string path: c:\\GH\\ras-commander\\examples\\example_projects\\BaldEagleCrkMulti2D\\BaldEagleDamBrk.p06.hdf\n",
            "2025-03-19 17:40:28 - ras_commander.HdfResultsMesh - INFO - Final validated HDF file path: c:\\GH\\ras-commander\\examples\\example_projects\\BaldEagleCrkMulti2D\\BaldEagleDamBrk.p06.hdf\n",
            "2025-03-19 17:40:28 - ras_commander.HdfResultsMesh - WARNING - Variable 'Depth' not found in the HDF file for mesh 'BaldEagleCr'. Skipping.\n",
            "2025-03-19 17:40:28 - ras_commander.HdfResultsMesh - WARNING - Variable 'Velocity' not found in the HDF file for mesh 'BaldEagleCr'. Skipping.\n",
            "2025-03-19 17:40:28 - ras_commander.HdfResultsMesh - WARNING - Variable 'Velocity X' not found in the HDF file for mesh 'BaldEagleCr'. Skipping.\n",
            "2025-03-19 17:40:28 - ras_commander.HdfResultsMesh - WARNING - Variable 'Velocity Y' not found in the HDF file for mesh 'BaldEagleCr'. Skipping.\n",
            "2025-03-19 17:40:28 - ras_commander.HdfResultsMesh - WARNING - Variable 'Froude Number' not found in the HDF file for mesh 'BaldEagleCr'. Skipping.\n",
            "2025-03-19 17:40:28 - ras_commander.HdfResultsMesh - WARNING - Variable 'Courant Number' not found in the HDF file for mesh 'BaldEagleCr'. Skipping.\n",
            "2025-03-19 17:40:28 - ras_commander.HdfResultsMesh - WARNING - Variable 'Shear Stress' not found in the HDF file for mesh 'BaldEagleCr'. Skipping.\n",
            "2025-03-19 17:40:28 - ras_commander.HdfResultsMesh - WARNING - Variable 'Bed Elevation' not found in the HDF file for mesh 'BaldEagleCr'. Skipping.\n",
            "2025-03-19 17:40:28 - ras_commander.HdfResultsMesh - WARNING - Variable 'Precipitation Rate' not found in the HDF file for mesh 'BaldEagleCr'. Skipping.\n",
            "2025-03-19 17:40:28 - ras_commander.HdfResultsMesh - WARNING - Variable 'Infiltration Rate' not found in the HDF file for mesh 'BaldEagleCr'. Skipping.\n",
            "2025-03-19 17:40:28 - ras_commander.HdfResultsMesh - WARNING - Variable 'Evaporation Rate' not found in the HDF file for mesh 'BaldEagleCr'. Skipping.\n",
            "2025-03-19 17:40:28 - ras_commander.HdfResultsMesh - WARNING - Variable 'Percolation Rate' not found in the HDF file for mesh 'BaldEagleCr'. Skipping.\n",
            "2025-03-19 17:40:28 - ras_commander.HdfResultsMesh - WARNING - Variable 'Groundwater Elevation' not found in the HDF file for mesh 'BaldEagleCr'. Skipping.\n",
            "2025-03-19 17:40:28 - ras_commander.HdfResultsMesh - WARNING - Variable 'Groundwater Depth' not found in the HDF file for mesh 'BaldEagleCr'. Skipping.\n",
            "2025-03-19 17:40:28 - ras_commander.HdfResultsMesh - WARNING - Variable 'Groundwater Flow' not found in the HDF file for mesh 'BaldEagleCr'. Skipping.\n",
            "2025-03-19 17:40:28 - ras_commander.HdfResultsMesh - WARNING - Variable 'Groundwater Velocity' not found in the HDF file for mesh 'BaldEagleCr'. Skipping.\n",
            "2025-03-19 17:40:28 - ras_commander.HdfResultsMesh - WARNING - Variable 'Groundwater Velocity X' not found in the HDF file for mesh 'BaldEagleCr'. Skipping.\n",
            "2025-03-19 17:40:28 - ras_commander.HdfResultsMesh - WARNING - Variable 'Groundwater Velocity Y' not found in the HDF file for mesh 'BaldEagleCr'. Skipping.\n",
            "2025-03-19 17:40:30 - ras_commander.HdfResultsMesh - WARNING - Variable 'Face Courant' not found in the HDF file for mesh 'BaldEagleCr'. Skipping.\n",
            "2025-03-19 17:40:30 - ras_commander.HdfResultsMesh - WARNING - Variable 'Face Cumulative Volume' not found in the HDF file for mesh 'BaldEagleCr'. Skipping.\n",
            "2025-03-19 17:40:30 - ras_commander.HdfResultsMesh - WARNING - Variable 'Face Flow Period Average' not found in the HDF file for mesh 'BaldEagleCr'. Skipping.\n",
            "2025-03-19 17:40:30 - ras_commander.HdfResultsMesh - WARNING - Variable 'Face Friction Term' not found in the HDF file for mesh 'BaldEagleCr'. Skipping.\n",
            "2025-03-19 17:40:30 - ras_commander.HdfResultsMesh - WARNING - Variable 'Face Pressure Gradient Term' not found in the HDF file for mesh 'BaldEagleCr'. Skipping.\n",
            "2025-03-19 17:40:31 - ras_commander.HdfResultsMesh - WARNING - Variable 'Face Tangential Velocity' not found in the HDF file for mesh 'BaldEagleCr'. Skipping.\n"
          ]
        }
      ],
      "source": [
        "# Get mesh cells timeseries output as xarray\n",
        "cells_timeseries_xr = HdfResultsMesh.get_mesh_cells_timeseries(plan_hdf_path, mesh_areas[0])"
      ]
    },
    {
      "cell_type": "code",
      "execution_count": 105,
      "metadata": {},
      "outputs": [
        {
          "data": {
            "text/plain": "xarray.Dataset with Unknown dimensions\n[Full xarray output truncated during preprocessing]"
          },
          "execution_count": 105,
          "metadata": {},
          "output_type": "execute_result"
        }
      ],
      "source": [
        "cells_timeseries_xr"
      ]
    },
    {
      "cell_type": "code",
      "execution_count": 106,
      "metadata": {},
      "outputs": [
        {
          "name": "stderr",
          "output_type": "stream",
          "text": [
            "2025-03-19 17:40:31 - root - INFO - Plotted water surface elevation time series for random cell ID: 13976\n"
          ]
        },
        {
          "data": {
            "text/plain": [
              "<Figure size 1200x600 with 1 Axes>"
            ]
          },
          "metadata": {},
          "output_type": "display_data"
        },
        {
          "name": "stdout",
          "output_type": "stream",
          "text": [
            "Statistics for Cell ID 13976:\n",
            "Minimum WSEL: 674.85 ft\n",
            "Maximum WSEL: 676.09 ft\n",
            "Mean WSEL: 675.35 ft\n",
            "Time of peak: 2018-09-10T18:00:00.000000000\n"
          ]
        }
      ],
      "source": [
        "# Plot WSE Time Series Data (Random Cell ID) \n",
        "import matplotlib.pyplot as plt\n",
        "\n",
        "if generate_plots:\n",
        "    import numpy as np\n",
        "    import random\n",
        "\n",
        "    # Extract Water Surface data\n",
        "    water_surface = cells_timeseries_xr[mesh_areas[0]]['Water Surface']\n",
        "\n",
        "    # Get the time values\n",
        "    time_values = water_surface.coords['time'].values\n",
        "\n",
        "    # Pick a random cell_id\n",
        "    random_cell_id = random.choice(water_surface.coords['cell_id'].values)\n",
        "\n",
        "    # Extract the water surface elevation time series for the random cell\n",
        "    wsel_timeseries = water_surface.sel(cell_id=random_cell_id)\n",
        "\n",
        "    # Find the peak value and its index\n",
        "    peak_value = wsel_timeseries.max().item()\n",
        "    peak_index = wsel_timeseries.argmax().item()\n",
        "\n",
        "    # Create the plot\n",
        "    plt.figure(figsize=(12, 6))\n",
        "    plt.plot(time_values, wsel_timeseries, label=f'Cell ID: {random_cell_id}')\n",
        "    plt.scatter(time_values[peak_index], peak_value, color='red', s=100, zorder=5)\n",
        "    plt.annotate(f'Peak: {peak_value:.2f} ft', \n",
        "                (time_values[peak_index], peak_value),\n",
        "                xytext=(10, 10), textcoords='offset points',\n",
        "                ha='left', va='bottom',\n",
        "                bbox=dict(boxstyle='round,pad=0.5', fc='yellow', alpha=0.5),\n",
        "                arrowprops=dict(arrowstyle='->', connectionstyle='arc3,rad=0'))\n",
        "\n",
        "    plt.title(f'Water Surface Elevation Time Series for Random Cell (ID: {random_cell_id})')\n",
        "    plt.xlabel('Time')\n",
        "    plt.ylabel('Water Surface Elevation (ft)')\n",
        "    plt.legend()\n",
        "    plt.grid(True)\n",
        "    plt.tight_layout()\n",
        "\n",
        "    # Log the plotting action\n",
        "    logging.info(f\"Plotted water surface elevation time series for random cell ID: {random_cell_id}\")\n",
        "\n",
        "    # Display the plot\n",
        "    plt.show()\n",
        "\n",
        "    # Print some statistics\n",
        "    print(f\"Statistics for Cell ID {random_cell_id}:\")\n",
        "    print(f\"Minimum WSEL: {wsel_timeseries.min().item():.2f} ft\")\n",
        "    print(f\"Maximum WSEL: {peak_value:.2f} ft\")\n",
        "    print(f\"Mean WSEL: {wsel_timeseries.mean().item():.2f} ft\")\n",
        "    print(f\"Time of peak: {time_values[peak_index]}\")"
      ]
    },
    {
      "cell_type": "code",
      "execution_count": 107,
      "metadata": {},
      "outputs": [
        {
          "name": "stderr",
          "output_type": "stream",
          "text": [
            "2025-03-19 17:40:31 - ras_commander.HdfResultsMesh - INFO - Using HDF file from direct string path: c:\\GH\\ras-commander\\examples\\example_projects\\BaldEagleCrkMulti2D\\BaldEagleDamBrk.p06.hdf\n",
            "2025-03-19 17:40:31 - ras_commander.HdfResultsMesh - INFO - Final validated HDF file path: c:\\GH\\ras-commander\\examples\\example_projects\\BaldEagleCrkMulti2D\\BaldEagleDamBrk.p06.hdf\n",
            "2025-03-19 17:40:31 - ras_commander.HdfResultsMesh - INFO - Using existing Path object HDF file: c:\\GH\\ras-commander\\examples\\example_projects\\BaldEagleCrkMulti2D\\BaldEagleDamBrk.p06.hdf\n",
            "2025-03-19 17:40:31 - ras_commander.HdfResultsMesh - INFO - Final validated HDF file path: c:\\GH\\ras-commander\\examples\\example_projects\\BaldEagleCrkMulti2D\\BaldEagleDamBrk.p06.hdf\n",
            "2025-03-19 17:40:33 - ras_commander.HdfResultsMesh - INFO - Using existing Path object HDF file: c:\\GH\\ras-commander\\examples\\example_projects\\BaldEagleCrkMulti2D\\BaldEagleDamBrk.p06.hdf\n",
            "2025-03-19 17:40:33 - ras_commander.HdfResultsMesh - INFO - Final validated HDF file path: c:\\GH\\ras-commander\\examples\\example_projects\\BaldEagleCrkMulti2D\\BaldEagleDamBrk.p06.hdf\n"
          ]
        }
      ],
      "source": [
        "# Get mesh faces timeseries output as xarray\n",
        "faces_timeseries_xr = HdfResultsMesh.get_mesh_faces_timeseries(plan_hdf_path, mesh_areas[0])"
      ]
    },
    {
      "cell_type": "code",
      "execution_count": 108,
      "metadata": {},
      "outputs": [
        {
          "data": {
            "text/html": "<div><pre>xarray.Dataset with (time: 720, face_id: 37594)\\n', 'Coordinates:\\n', '  * time           (time) datetime64[ns] 6kB 2018-09-09T00:10:00 ... 2018-09-14\\n', '  * face_id        (face_id) int64 301kB 0 1 2 3 4 ... 37590 37591 37592 37593\\n', 'Data variables:\\n', '    face_velocity  (time, face_id) float32 108MB 0.0 0.0 0.0 0.0 ... 0.0 0.0 0.0\\n', '    face_flow      (time, face_id) float32 108MB 0.0 0.0 0.0 0.0 ... 0.0 0.0 0.0\\n', 'Attributes:\\n', '    units:      ft/s\\n', '    mesh_name:  BaldEagleCr\\n', \"    variable:   Face Velocity\n[Full xarray output truncated during preprocessing]</pre></div>",
            "text/plain": "xarray.Dataset with Unknown dimensions\n[Full xarray output truncated during preprocessing]"
          },
          "execution_count": 108,
          "metadata": {},
          "output_type": "execute_result"
        }
      ],
      "source": [
        "faces_timeseries_xr"
      ]
    },
    {
      "cell_type": "code",
      "execution_count": 109,
      "metadata": {},
      "outputs": [
        {
          "data": {
            "text/plain": [
              "<Figure size 1200x800 with 1 Axes>"
            ]
          },
          "metadata": {},
          "output_type": "display_data"
        },
        {
          "name": "stderr",
          "output_type": "stream",
          "text": [
            "C:\\Users\\billk\\AppData\\Local\\Temp\\ipykernel_2528\\401875653.py:138: UserWarning: This figure includes Axes that are not compatible with tight_layout, so results might be incorrect.\n",
            "  plt.tight_layout()\n"
          ]
        },
        {
          "data": {
            "text/plain": [
              "<Figure size 1200x800 with 2 Axes>"
            ]
          },
          "metadata": {},
          "output_type": "display_data"
        },
        {
          "name": "stderr",
          "output_type": "stream",
          "text": [
            "2025-03-19 17:41:12 - root - INFO - Plotted mesh face time series and map view for random face ID: 10695 with terrain\n"
          ]
        },
        {
          "name": "stdout",
          "output_type": "stream",
          "text": [
            "Random Face: 10695\n",
            "Peak Value: 1.18 ft/s at 2018-09-10T18:00:00.000000000\n"
          ]
        }
      ],
      "source": [
        "# Plot Random Face Results and Label Peak, Plus Map View\n",
        "\n",
        "if generate_maps:\n",
        "\n",
        "    # Select a random valid face ID number\n",
        "    random_face = np.random.randint(0, faces_timeseries_xr.sizes['face_id'])\n",
        "\n",
        "    # Extract time series data for the selected face\n",
        "    variable = 'face_velocity'  # We could also use 'face_flow'\n",
        "    face_data = faces_timeseries_xr[variable].sel(face_id=random_face)\n",
        "\n",
        "    # Find peak value and its corresponding time\n",
        "    peak_value = face_data.max().item()\n",
        "    peak_time = face_data.idxmax().values\n",
        "\n",
        "    # Plot time series\n",
        "    plt.figure(figsize=(12, 8))\n",
        "    plt.plot(faces_timeseries_xr.time, face_data)\n",
        "    plt.title(f'{variable.capitalize()} Time Series for Face {random_face}')\n",
        "    plt.xlabel('Time')\n",
        "    plt.ylabel(f'{variable.capitalize()} ({faces_timeseries_xr.attrs[\"units\"]})')\n",
        "    plt.grid(True)\n",
        "\n",
        "    # Annotate the peak point\n",
        "    plt.annotate(f'Peak: ({peak_time}, {peak_value:.2f})', \n",
        "                (peak_time, peak_value),\n",
        "                xytext=(10, 10), textcoords='offset points',\n",
        "                arrowprops=dict(arrowstyle=\"->\"))\n",
        "\n",
        "    # Check for negative values and label the minimum if present\n",
        "    min_value = face_data.min().item()\n",
        "    if min_value < 0:\n",
        "        min_time = face_data.idxmin().values\n",
        "        plt.annotate(f'Min: ({min_time}, {min_value:.2f})', \n",
        "                    (min_time, min_value),\n",
        "                    xytext=(10, -10), textcoords='offset points',\n",
        "                    arrowprops=dict(arrowstyle=\"->\"))\n",
        "\n",
        "    plt.tight_layout()\n",
        "    plt.show()\n",
        "\n",
        "    # Create map view plot\n",
        "    fig, ax = plt.subplots(figsize=(12, 8))\n",
        "\n",
        "\n",
        "    # Calculate mesh faces extents with 10% buffer\n",
        "    faces_bounds = mesh_cell_faces_gdf.total_bounds\n",
        "    x_min, y_min, x_max, y_max = faces_bounds\n",
        "    buffer_x = (x_max - x_min) * 0.1\n",
        "    buffer_y = (y_max - y_min) * 0.1\n",
        "    plot_xlim = [x_min - buffer_x, x_max + buffer_x]\n",
        "    plot_ylim = [y_min - buffer_y, y_max + buffer_y]\n",
        "\n",
        "    # Set plot limits before adding terrain\n",
        "    ax.set_xlim(plot_xlim)\n",
        "    ax.set_ylim(plot_ylim)\n",
        "\n",
        "    # Add the terrain TIFF to the map, clipped to our desired extent\n",
        "    tiff_path = Path.cwd() / 'example_projects' / 'BaldEagleCrkMulti2D' / 'Terrain' / 'Terrain50.baldeagledem.tif'\n",
        "    with rasterio.open(tiff_path) as src:\n",
        "        show(src, ax=ax, cmap='terrain', alpha=0.5)\n",
        "        \n",
        "    # Reset the limits after terrain plot\n",
        "    ax.set_xlim(plot_xlim)\n",
        "    ax.set_ylim(plot_ylim)\n",
        "\n",
        "    # Plot all faces in gray\n",
        "    mesh_cell_faces_gdf.plot(ax=ax, color='lightgray', alpha=0.5, zorder=2)\n",
        "\n",
        "    # Get the selected face geometry\n",
        "    selected_face = mesh_cell_faces_gdf[mesh_cell_faces_gdf['face_id'] == random_face]\n",
        "\n",
        "    # Highlight the selected face in red\n",
        "    selected_face.plot(\n",
        "        ax=ax, \n",
        "        color='red',\n",
        "        linewidth=2,\n",
        "        label=f'Selected Face (ID: {random_face})',\n",
        "        zorder=3\n",
        "    )\n",
        "\n",
        "    # Get bounds of selected face for zoomed inset\n",
        "    bounds = selected_face.geometry.bounds.iloc[0]\n",
        "    x_center = (bounds.iloc[0] + bounds.iloc[2]) / 2\n",
        "    y_center = (bounds.iloc[1] + bounds.iloc[3]) / 2\n",
        "    buffer = max(bounds.iloc[2] - bounds.iloc[0], bounds.iloc[3] - bounds.iloc[1]) * 2\n",
        "\n",
        "    # Create zoomed inset with a larger size, inside the map frame\n",
        "    axins = inset_axes(ax, width=\"70%\", height=\"70%\", loc='lower right',\n",
        "                    bbox_to_anchor=(0.65, 0.05, 0.35, 0.35),\n",
        "                    bbox_transform=ax.transAxes)\n",
        "\n",
        "    # Plot terrain and faces in inset\n",
        "    with rasterio.open(tiff_path) as src:\n",
        "        show(src, ax=axins, cmap='terrain', alpha=0.5)\n",
        "        \n",
        "    # Plot zoomed view in inset\n",
        "    mesh_cell_faces_gdf.plot(ax=axins, color='lightgray', alpha=0.5, zorder=2)\n",
        "    selected_face.plot(ax=axins, color='red', linewidth=2, zorder=3)\n",
        "\n",
        "    # Set inset limits with slightly more context\n",
        "    axins.set_xlim(x_center - buffer/1.5, x_center + buffer/1.5)\n",
        "    axins.set_ylim(y_center - buffer/1.5, y_center + buffer/1.5)\n",
        "\n",
        "    # Remove inset ticks for cleaner look\n",
        "    axins.set_xticks([])\n",
        "    axins.set_yticks([])\n",
        "\n",
        "    # Add a border to the inset\n",
        "    for spine in axins.spines.values():\n",
        "        spine.set_edgecolor('black')\n",
        "        spine.set_linewidth(1.5)\n",
        "\n",
        "    # Create connection lines between main plot and inset\n",
        "    # Get the selected face centroid for connection point\n",
        "    centroid = selected_face.geometry.centroid.iloc[0]\n",
        "    con1 = ConnectionPatch(\n",
        "        xyA=(centroid.x, centroid.y), coordsA=ax.transData,\n",
        "        xyB=(0.02, 0.98), coordsB=axins.transAxes,\n",
        "        arrowstyle=\"-\", linestyle=\"--\", color=\"gray\", alpha=0.6\n",
        "    )\n",
        "    con2 = ConnectionPatch(\n",
        "        xyA=(centroid.x, centroid.y), coordsA=ax.transData,\n",
        "        xyB=(0.98, 0.02), coordsB=axins.transAxes,\n",
        "        arrowstyle=\"-\", linestyle=\"--\", color=\"gray\", alpha=0.6\n",
        "    )\n",
        "\n",
        "    ax.add_artist(con1)\n",
        "    ax.add_artist(con2)\n",
        "\n",
        "    # Add title and legend to main plot\n",
        "    ax.set_title('Mesh Face Map View with Terrain')\n",
        "    ax.legend()\n",
        "\n",
        "    # Ensure equal aspect ratio while maintaining our desired extents\n",
        "    ax.set_aspect('equal', adjustable='box')\n",
        "\n",
        "    plt.tight_layout()\n",
        "    plt.show()\n",
        "\n",
        "    # Print summary information\n",
        "    print(f\"Random Face: {random_face}\")\n",
        "    print(f\"Peak Value: {peak_value:.2f} {faces_timeseries_xr.attrs['units']} at {peak_time}\")\n",
        "    if min_value < 0:\n",
        "        print(f\"Minimum Value: {min_value:.2f} {faces_timeseries_xr.attrs['units']} at {min_time}\")\n",
        "\n",
        "    # Log the plotting action\n",
        "    logging.info(f\"Plotted mesh face time series and map view for random face ID: {random_face} with terrain\")"
      ]
    },
    {
      "cell_type": "code",
      "execution_count": 110,
      "metadata": {},
      "outputs": [
        {
          "name": "stderr",
          "output_type": "stream",
          "text": [
            "2025-03-19 17:41:12 - ras_commander.HdfPlan - INFO - Using HDF file from direct string path: c:\\GH\\ras-commander\\examples\\example_projects\\BaldEagleCrkMulti2D\\BaldEagleDamBrk.p06.hdf\n",
            "2025-03-19 17:41:12 - ras_commander.HdfPlan - INFO - Final validated HDF file path: c:\\GH\\ras-commander\\examples\\example_projects\\BaldEagleCrkMulti2D\\BaldEagleDamBrk.p06.hdf\n"
          ]
        }
      ],
      "source": [
        "# Get meteorology precipitation attributes\n",
        "meteo_precip_attrs = HdfPlan.get_plan_met_precip(plan_hdf_path)\n"
      ]
    },
    {
      "cell_type": "code",
      "execution_count": 111,
      "metadata": {},
      "outputs": [
        {
          "data": {
            "text/plain": "[\"{'DSS Filename': '.\\\\\\\\Precipitation\\\\\\\\precip.2018.09.dss',\\n\", \" 'DSS Pathname': '/SHG/MARFC/PRECIP/01SEP2018:0200/01SEP2018:0300/NEXRAD/',\\n\", \" 'Data Type': 'per-cum',\\n\", \" 'Interpolation Method': '',\\n\", \" 'Mode': 'Gridded',\\n\", ' \\'Projection\\': \\'PROJCS[\"USA_Contiguous_Albers_Equal_Area_Conic_USGS_version\",GEOGCS[\"NAD83\",DATUM[\"North_American_Datum_1983\",SPHEROID[\"GRS 1980\",6378137,298.257222101,AUTHORITY[\"EPSG\",\"7019\"]],AUTHORITY[\"EPSG\",\"6269\"]],PRIMEM[\"Greenwich\",0],UNIT[\"Degree\",0.0174532925199433]],PROJECTION[\"Albers_Conic_Equal_Area\"],PARAMETER[\"latitude_of_center\",23],PARAMETER[\"longitude_of_center\",-96],PARAMETER[\"standard_parallel_1\",29.5],PARAMETER[\"standard_parallel_2\",45.5],PARAMETER[\"false_easting\",0],PARAMETER[\"false_northing\",0],UNIT[\"metre\",1,AUTHORITY[\"EPSG\",\"9001\"]],AXIS[\"Easting\",EAST],AXIS[\"Northing\",NORTH]]\\',\\n', \" 'Raster Cellsize': np.float64(2000.0),\\n\", \" 'Raster Cols': np.int32(515),\\n\", \" 'Raster Left': np.float64(1096000.0),\\n\", \" 'Raster Rows': np.int32(522),\\n\", \" 'Raster Top': np.float64(2560000.0),\\n\", \" 'Source': 'DSS',\\n\", \" 'Units': 'in'}\"]"
          },
          "execution_count": 111,
          "metadata": {},
          "output_type": "execute_result"
        }
      ],
      "source": [
        "meteo_precip_attrs"
      ]
    },
    {
      "cell_type": "code",
      "execution_count": 112,
      "metadata": {},
      "outputs": [
        {
          "name": "stderr",
          "output_type": "stream",
          "text": [
            "2025-03-19 17:41:12 - ras_commander.HdfResultsPlan - INFO - Using HDF file from direct string path: c:\\GH\\ras-commander\\examples\\example_projects\\BaldEagleCrkMulti2D\\BaldEagleDamBrk.p06.hdf\n",
            "2025-03-19 17:41:12 - ras_commander.HdfResultsPlan - INFO - Final validated HDF file path: c:\\GH\\ras-commander\\examples\\example_projects\\BaldEagleCrkMulti2D\\BaldEagleDamBrk.p06.hdf\n"
          ]
        }
      ],
      "source": [
        "# Get results unsteady attributes\n",
        "results_unsteady_attrs = HdfResultsPlan.get_unsteady_info(plan_hdf_path)\n"
      ]
    },
    {
      "cell_type": "code",
      "execution_count": 113,
      "metadata": {},
      "outputs": [
        {
          "data": {
            "text/html": "<div>\n<style scoped>\\n', '    .dataframe tbody tr th:only-of-type {\\n', '        vertical-align: middle;\\n', '    }\\n', '\\n', '    .dataframe tbody tr th {\\n', '        vertical-align: top;\\n', '    }\\n', '\\n', '    .dataframe thead th {\\n', '        text-align: right;\\n', '    }\\n', '</style>\n<table border=\"1\" class=\"dataframe\">\n  <thead>\\n', '    <tr style=\"text-align: right;\">\\n', '      <th></th>\\n', '      <th>Plan Title</th>\\n', '      <th>Program Name</th>\\n', '      <th>Program Version</th>\\n', '      <th>Project File Name</th>\\n', '      <th>Project Title</th>\\n', '      <th>Short ID</th>\\n', '      <th>Simulation Time Window</th>\\n', '      <th>Type of Run</th>\\n', '    </tr>\\n', '  </thead>\n  <tbody>\n    <tr>\\n', '      <th>0</th>\\n', '      <td>Gridded Precip - Infiltration</td>\\n', '      <td>HEC-RAS - River Analysis System</td>\\n', '      <td>HEC-RAS 6.6 September 2024</td>\\n', '      <td>c:\\\\GH\\\\ras-commander\\\\examples\\\\example_projects\\\\...</td>\\n', '      <td>Bald Eagle Creek Example Dam Break Study</td>\\n', '      <td>Grid Precip Infiltration</td>\\n', '      <td>08Sep2018 2400 to 13Sep2018 2400</td>\\n', '      <td>Unsteady Flow Analysis</td>\\n', '    </tr>\n    <tr><td colspan=\"100%\" style=\"text-align:center\">[... additional rows truncated ...]</td></tr>\n  </tbody>\n</table>\n</div>",
            "text/plain": "['                      Plan Title                     Program Name  \\\\\\n', '0  Gridded Precip - Infiltration  HEC-RAS - River Analysis System   \\n', '\\n', '              Program Version  \\\\\\n', '0  HEC-RAS 6.6 September 2024   \\n', '\\n', '                                   Project File Name  \\\\\\n', '0  c:\\\\GH\\\\ras-commander\\\\examples\\\\example_projects\\\\...   \\n', '\\n', '                              Project Title                  Short ID  \\\\\\n', '0  Bald Eagle Creek Example Dam Break Study  Grid Precip Infiltration   \\n', '\\n', '             Simulation Time Window             Type of Run  \\n', '0  08Sep2018 2400 to 13Sep2018 2400  Unsteady Flow Analysis  ']"
          },
          "execution_count": 113,
          "metadata": {},
          "output_type": "execute_result"
        }
      ],
      "source": [
        "results_unsteady_attrs"
      ]
    },
    {
      "cell_type": "code",
      "execution_count": 114,
      "metadata": {},
      "outputs": [
        {
          "name": "stderr",
          "output_type": "stream",
          "text": [
            "2025-03-19 17:41:12 - ras_commander.HdfResultsPlan - INFO - Using HDF file from direct string path: c:\\GH\\ras-commander\\examples\\example_projects\\BaldEagleCrkMulti2D\\BaldEagleDamBrk.p06.hdf\n",
            "2025-03-19 17:41:12 - ras_commander.HdfResultsPlan - INFO - Final validated HDF file path: c:\\GH\\ras-commander\\examples\\example_projects\\BaldEagleCrkMulti2D\\BaldEagleDamBrk.p06.hdf\n"
          ]
        }
      ],
      "source": [
        "# Get results unsteady summary attributes\n",
        "results_unsteady_summary_attrs = HdfResultsPlan.get_unsteady_summary(plan_hdf_path)\n"
      ]
    },
    {
      "cell_type": "code",
      "execution_count": 115,
      "metadata": {},
      "outputs": [
        {
          "data": {
            "text/html": "<div>\n<style scoped>\\n', '    .dataframe tbody tr th:only-of-type {\\n', '        vertical-align: middle;\\n', '    }\\n', '\\n', '    .dataframe tbody tr th {\\n', '        vertical-align: top;\\n', '    }\\n', '\\n', '    .dataframe thead th {\\n', '        text-align: right;\\n', '    }\\n', '</style>\n<table border=\"1\" class=\"dataframe\">\n  <thead>\\n', '    <tr style=\"text-align: right;\">\\n', '      <th></th>\\n', '      <th>Computation Time DSS</th>\\n', '      <th>Computation Time Total</th>\\n', '      <th>Maximum WSEL Error</th>\\n', '      <th>Maximum number of cores</th>\\n', '      <th>Run Time Window</th>\\n', '      <th>Solution</th>\\n', '      <th>Time Solution Went Unstable</th>\\n', '      <th>Time Stamp Solution Went Unstable</th>\\n', '    </tr>\\n', '  </thead>\n  <tbody>\n    <tr>\\n', '      <th>0</th>\\n', '      <td>00:00:00</td>\\n', '      <td>00:04:25</td>\\n', '      <td>0.0</td>\\n', '      <td>4</td>\\n', '      <td>19MAR2025 17:33:30 to 19MAR2025 17:37:54</td>\\n', '      <td>Unsteady Finished Successfully</td>\\n', '      <td>NaN</td>\\n', '      <td>Not Applicable</td>\\n', '    </tr>\n    <tr><td colspan=\"100%\" style=\"text-align:center\">[... additional rows truncated ...]</td></tr>\n  </tbody>\n</table>\n</div>",
            "text/plain": "['  Computation Time DSS Computation Time Total  Maximum WSEL Error  \\\\\\n', '0             00:00:00               00:04:25                 0.0   \\n', '\\n', '   Maximum number of cores                           Run Time Window  \\\\\\n', '0                        4  19MAR2025 17:33:30 to 19MAR2025 17:37:54   \\n', '\\n', '                         Solution  Time Solution Went Unstable  \\\\\\n', '0  Unsteady Finished Successfully                          NaN   \\n', '\\n', '  Time Stamp Solution Went Unstable  \\n', '0                    Not Applicable  ']"
          },
          "execution_count": 115,
          "metadata": {},
          "output_type": "execute_result"
        }
      ],
      "source": [
        "results_unsteady_summary_attrs"
      ]
    },
    {
      "cell_type": "code",
      "execution_count": 116,
      "metadata": {},
      "outputs": [
        {
          "name": "stderr",
          "output_type": "stream",
          "text": [
            "2025-03-19 17:41:12 - ras_commander.HdfResultsPlan - INFO - Using HDF file from direct string path: c:\\GH\\ras-commander\\examples\\example_projects\\BaldEagleCrkMulti2D\\BaldEagleDamBrk.p06.hdf\n",
            "2025-03-19 17:41:12 - ras_commander.HdfResultsPlan - INFO - Final validated HDF file path: c:\\GH\\ras-commander\\examples\\example_projects\\BaldEagleCrkMulti2D\\BaldEagleDamBrk.p06.hdf\n"
          ]
        }
      ],
      "source": [
        "# Get results volume accounting attributes\n",
        "volume_accounting_attrs = HdfResultsPlan.get_volume_accounting(plan_hdf_path)"
      ]
    },
    {
      "cell_type": "code",
      "execution_count": 117,
      "metadata": {},
      "outputs": [
        {
          "data": {
            "text/html": "<div>\n<style scoped>\\n', '    .dataframe tbody tr th:only-of-type {\\n', '        vertical-align: middle;\\n', '    }\\n', '\\n', '    .dataframe tbody tr th {\\n', '        vertical-align: top;\\n', '    }\\n', '\\n', '    .dataframe thead th {\\n', '        text-align: right;\\n', '    }\\n', '</style>\n<table border=\"1\" class=\"dataframe\">\n  <thead>\\n', '    <tr style=\"text-align: right;\">\\n', '      <th></th>\\n', '      <th>Error</th>\\n', '      <th>Error Percent</th>\\n', '      <th>Precipitation Excess (acre feet)</th>\\n', '      <th>Precipitation Excess (inches)</th>\\n', '      <th>Total Boundary Flux of Water In</th>\\n', '      <th>Total Boundary Flux of Water Out</th>\\n', '      <th>Vol Accounting in</th>\\n', '      <th>Volume Ending</th>\\n', '      <th>Volume Starting</th>\\n', '    </tr>\\n', '  </thead>\n  <tbody>\n    <tr>\\n', '      <th>0</th>\\n', '      <td>0.469786</td>\\n', '      <td>0.000332</td>\\n', '      <td>3756.872803</td>\\n', '      <td>1.707615</td>\\n', '      <td>141685.0</td>\\n', '      <td>17240.263672</td>\\n', '      <td>Acre Feet</td>\\n', '      <td>124445.203125</td>\\n', '      <td>0.0</td>\\n', '    </tr>\n    <tr><td colspan=\"100%\" style=\"text-align:center\">[... additional rows truncated ...]</td></tr>\n  </tbody>\n</table>\n</div>",
            "text/plain": "['      Error  Error Percent  Precipitation Excess (acre feet)  \\\\\\n', '0  0.469786       0.000332                       3756.872803   \\n', '\\n', '   Precipitation Excess (inches)  Total Boundary Flux of Water In  \\\\\\n', '0                       1.707615                         141685.0   \\n', '\\n', '   Total Boundary Flux of Water Out Vol Accounting in  Volume Ending  \\\\\\n', '0                      17240.263672         Acre Feet  124445.203125   \\n', '\\n', '   Volume Starting  \\n', '0              0.0  ']"
          },
          "execution_count": 117,
          "metadata": {},
          "output_type": "execute_result"
        }
      ],
      "source": [
        "volume_accounting_attrs"
      ]
    },
    {
      "cell_type": "markdown",
      "metadata": {},
      "source": [
        "-----"
      ]
    },
    {
      "cell_type": "code",
      "execution_count": null,
      "metadata": {},
      "outputs": [],
      "source": []
    },
    {
      "cell_type": "code",
      "execution_count": 118,
      "metadata": {},
      "outputs": [
        {
          "name": "stdout",
          "output_type": "stream",
          "text": [
            "Extracting Compute Messages\n",
            "Compute Messages:\n",
            "Plan                                     : 'Gridded Precip - Infiltration' (BaldEagleDamBrk.p06)\n",
            "Simulation started at                    : 19Mar2025 05:33:06 PM\n",
            "\n",
            "Writing Plan GIS Data...\n",
            "\n",
            "Completed Writing Plan GIS Data\n",
            "\n",
            "Writing Geometry...\n",
            "Computing 2D Flow Area 'BaldEagleCr' tables : Property tables do not exist.\n",
            "\n",
            "2D Flow Area 'BaldEagleCr' tables complete 16.55 sec\n",
            "\n",
            "Completed Writing Geometry\n",
            "\n",
            "Writing Event Conditions ...\n",
            "\n",
            "Processing Precipitation data...\n",
            "\n",
            "(assumes geometry data is geo-referenced)\n",
            "\n",
            "Finished Processing Precipitation data (2.291s)\n",
            "\n",
            "Completed Writing Event Condition Data\n",
            "\n",
            "Geometric Preprocessor HEC-RAS 6.6 September 2024\n",
            "\n",
            "Finished Processing Geometry\n",
            "\n",
            "Performing Unsteady Flow Simulation  HEC-RAS 6.6 September 2024\n",
            "Unsteady Input Summary                   : \n",
            "\n",
            "2D Unsteady Diffusion Wave Equation Set (fastest)\n",
            "2D number of Solver Cores                : 4\n",
            "\n",
            "Maximum adaptive timestep = 40.0    Minimum adaptive timestep = 20.0\n",
            "\n",
            "Initial adaptive timestep = 20.0\n",
            "09SEP2018 00                             : 01:20       timestep =            40             (sec)\n",
            "12SEP2018 21                             : 12:00       timestep =            20             (sec)\n",
            "Overall Volume Accounting Error in Acre Feet : 0.4698\n",
            "Overall Volume Accounting Error as percentage : 0.000332\n",
            "\n",
            "Please review \"Computational Log File\" output for volume accounting details\n",
            "\n",
            "Writing Results to DSS\n",
            "\n",
            "Finished Unsteady Flow Simulation\n",
            "\n",
            "1D Post Process Skipped (simulation is all 2D)\n",
            "\n",
            "Computations Summary\n",
            "Computation Task\tTime(hh                 : mm:ss)\n",
            "\n",
            "Completing Geometry, Flow and Plan\t      22\n",
            "\n",
            "Preprocessing Geometry\t<1\n",
            "Unsteady Flow Computations\t    4         : 25\n",
            "Complete Process\t    4                   : 48\n",
            "\n",
            "Computation Speed\tSimulation/Runtime\n",
            "\n",
            "Unsteady Flow Computations\t1624x\n",
            "\n",
            "Complete Process\t1496x\n",
            "\n",
            "Computation Summary:\n",
            "--------------------------------------------------\n",
            "Computation Task               Time                \n",
            "--------------------------------------------------\n",
            "Computation Task               Time(hh:mm:ss)      \n",
            "\n",
            "Computation Speed:\n",
            "--------------------------------------------------\n",
            "Task                           Simulation/Runtime  \n",
            "--------------------------------------------------\n",
            "Computation Speed              Simulation/Runtime  \n"
          ]
        }
      ],
      "source": [
        "# Extract Compute Messages as String\n",
        "print(\"Extracting Compute Messages\")\n",
        "\n",
        "import h5py\n",
        "import numpy as np\n",
        "\n",
        "\n",
        "\n",
        "def extract_string_from_hdf(results_hdf_filename: str, hdf_path: str) -> str:\n",
        "    \"\"\"\n",
        "    Extract string from HDF object at a given path\n",
        "\n",
        "    Parameters\n",
        "    ----------\n",
        "    results_hdf_filename : str\n",
        "        Name of the HDF file\n",
        "    hdf_path : str\n",
        "        Path of the object in the HDF file\n",
        "\n",
        "    Returns\n",
        "    -------\n",
        "    str\n",
        "        Extracted string from the specified HDF object\n",
        "    \"\"\"\n",
        "    with h5py.File(results_hdf_filename, 'r') as hdf_file:\n",
        "        try:\n",
        "            hdf_object = hdf_file[hdf_path]\n",
        "            if isinstance(hdf_object, h5py.Group):\n",
        "                return f\"Group: {hdf_path}\\nContents: {list(hdf_object.keys())}\"\n",
        "            elif isinstance(hdf_object, h5py.Dataset):\n",
        "                data = hdf_object[()]\n",
        "                if isinstance(data, bytes):\n",
        "                    return data.decode('utf-8')\n",
        "                elif isinstance(data, np.ndarray) and data.dtype.kind == 'S':\n",
        "                    return [v.decode('utf-8') for v in data]\n",
        "                else:\n",
        "                    return str(data)\n",
        "            else:\n",
        "                return f\"Unsupported object type: {type(hdf_object)}\"\n",
        "        except KeyError:\n",
        "            return f\"Path not found: {hdf_path}\"\n",
        "\n",
        "\n",
        "\n",
        "try:\n",
        "    results_summary_string = extract_string_from_hdf(plan_hdf_path, '/Results/Summary/Compute Messages (text)')\n",
        "    print(\"Compute Messages:\")\n",
        "    \n",
        "    # Parse and print the compute messages in a more visually friendly way\n",
        "    messages = results_summary_string[0].split('\\r\\n')\n",
        "    \n",
        "    for message in messages:\n",
        "        if message.strip():  # Skip empty lines\n",
        "            if ':' in message:\n",
        "                key, value = message.split(':', 1)\n",
        "                print(f\"{key.strip():40} : {value.strip()}\")\n",
        "            else:\n",
        "                print(f\"\\n{message.strip()}\")\n",
        "    \n",
        "    # Print computation summary in a table format\n",
        "    print(\"\\nComputation Summary:\")\n",
        "    print(\"-\" * 50)\n",
        "    print(f\"{'Computation Task':<30} {'Time':<20}\")\n",
        "    print(\"-\" * 50)\n",
        "    for line in messages:\n",
        "        if 'Computation Task' in line:\n",
        "            task, time = line.split('\\t')\n",
        "            print(f\"{task:<30} {time:<20}\")\n",
        "    \n",
        "    print(\"\\nComputation Speed:\")\n",
        "    print(\"-\" * 50)\n",
        "    print(f\"{'Task':<30} {'Simulation/Runtime':<20}\")\n",
        "    print(\"-\" * 50)\n",
        "    for line in messages:\n",
        "        if 'Computation Speed' in line:\n",
        "            task, speed = line.split('\\t')\n",
        "            print(f\"{task:<30} {speed:<20}\")\n",
        "\n",
        "except Exception as e:\n",
        "    print(f\"Error extracting compute messages: {str(e)}\")\n",
        "    print(\"\\nNote: If 'Results/Summary Output' is not in the file structure, it might indicate that the simulation didn't complete successfully or the results weren't saved properly.\")\n",
        "\n",
        " \n",
        "\n"
      ]
    },
    {
      "cell_type": "markdown",
      "metadata": {},
      "source": [
        "## Exploring HDF Datasets with HdfBase.get_dataset_info\n",
        "This allows users to find HDF information that is not included in the ras-commander library.  Find the path in HDFView and set the group_path below to explore the HDF datasets and attributes.  Then, use the output to write your own function to extract the data.  "
      ]
    },
    {
      "cell_type": "markdown",
      "metadata": {},
      "source": [
        "#### Get HDF Paths with Properties (For Exploring HDF Files)\n",
        "HdfBase.get_dataset_info(plan_number, group_path=\"/\")"
      ]
    },
    {
      "cell_type": "markdown",
      "metadata": {},
      "source": [
        "For HDF datasets that are not supported by the RAS-Commadner library, provide the dataset path to HdfBase.get_dataset_info and provide the output to an LLM along with a relevent HDF* class(es) to generate new functions that extend the library's coverage.   "
      ]
    }
  ],
  "metadata": {
    "kernelspec": {
      "display_name": "cmdr_pip_1",
      "language": "python",
      "name": "python3"
    },
    "language_info": {
      "codemirror_mode": {
        "name": "ipython",
        "version": 3
      },
      "file_extension": ".py",
      "mimetype": "text/x-python",
      "name": "python",
      "nbconvert_exporter": "python",
      "pygments_lexer": "ipython3",
      "version": "3.12.9"
    }
  },
  "nbformat": 4,
  "nbformat_minor": 2
}