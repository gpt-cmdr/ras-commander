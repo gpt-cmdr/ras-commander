{
  "cells": [
    {
      "cell_type": "markdown",
      "metadata": {},
      "source": [
        "# RAS Commander: Multiple Project Operations\n",
        "\n",
        "This notebook demonstrates how to work with multiple HEC-RAS projects simultaneously using the RAS Commander library. This advanced workflow is useful for comparing different river systems, running scenario analyses across multiple watersheds, or managing a suite of related models.\n",
        "\n",
        "## Operations Covered\n",
        "\n",
        "1. **Multiple Project Initialization**: Initialize and manage multiple HEC-RAS projects simultaneously\n",
        "2. **Cross-Project Operations**: Clone and modify plans across different projects\n",
        "3. **Parallel Execution**: Run computations for multiple projects in parallel\n",
        "4. **Resource Management**: Optimize computing resources when working with multiple models\n",
        "5. **Results Comparison**: Analyze and compare results from different projects\n",
        "6. **Advanced Project Workflow**: Build a comprehensive multi-project workflow\n",
        "\n",
        "Let's begin by importing the necessary libraries and setting up our environment."
      ]
    },
    {
      "cell_type": "markdown",
      "metadata": {},
      "source": [
        "## Package Installation and Environment Setup\n",
        "Uncomment and run package installation commands if needed"
      ]
    },
    {
      "cell_type": "code",
      "execution_count": 1,
      "metadata": {},
      "outputs": [],
      "source": [
        "# Install ras-commander from pip (uncomment to install if needed)\n",
        "#!pip install ras-commander\n",
        "# This installs ras-commander and all dependencies"
      ]
    },
    {
      "cell_type": "code",
      "execution_count": 2,
      "metadata": {},
      "outputs": [],
      "source": [
        "# Import all required modules\n",
        "\n",
        "# Import all ras-commander modules\n",
        "from ras_commander import *\n",
        "\n",
        "# Import the required libraries for this notebook\n",
        "import numpy as np\n",
        "import pandas as pd\n",
        "from IPython import display\n",
        "from pathlib import Path\n",
        "import matplotlib.pyplot as plt\n",
        "import psutil  # For getting system CPU info\n",
        "from concurrent.futures import ThreadPoolExecutor, as_completed\n",
        "import time\n",
        "import subprocess\n",
        "import sys\n",
        "import os\n",
        "import shutil"
      ]
    },
    {
      "cell_type": "markdown",
      "metadata": {},
      "source": [
        "## Setting Up Our Working Environment\n",
        "\n",
        "Let's set up our working directory and check the number of available CPU cores. Since we'll be running multiple projects in parallel, it's important to understand our system resources."
      ]
    },
    {
      "cell_type": "code",
      "execution_count": 3,
      "metadata": {},
      "outputs": [
        {
          "name": "stderr",
          "output_type": "stream",
          "text": [
            "2025-03-19 17:01:41 - ras_commander.RasExamples - INFO - Found zip file: c:\\GH\\ras-commander\\examples\\Example_Projects_6_6.zip\n",
            "2025-03-19 17:01:41 - ras_commander.RasExamples - INFO - Loading project data from CSV...\n",
            "2025-03-19 17:01:41 - ras_commander.RasExamples - INFO - Loaded 68 projects from CSV.\n",
            "2025-03-19 17:01:41 - ras_commander.RasExamples - INFO - ----- RasExamples Extracting Project -----\n",
            "2025-03-19 17:01:41 - ras_commander.RasExamples - INFO - Extracting project 'Balde Eagle Creek'\n",
            "2025-03-19 17:01:41 - ras_commander.RasExamples - INFO - Project 'Balde Eagle Creek' already exists. Deleting existing folder...\n",
            "2025-03-19 17:01:41 - ras_commander.RasExamples - INFO - Existing folder for project 'Balde Eagle Creek' has been deleted.\n",
            "2025-03-19 17:01:41 - ras_commander.RasExamples - INFO - Successfully extracted project 'Balde Eagle Creek' to c:\\GH\\ras-commander\\examples\\example_projects\\Balde Eagle Creek\n",
            "2025-03-19 17:01:41 - ras_commander.RasExamples - INFO - ----- RasExamples Extracting Project -----\n",
            "2025-03-19 17:01:41 - ras_commander.RasExamples - INFO - Extracting project 'BaldEagleCrkMulti2D'\n",
            "2025-03-19 17:01:41 - ras_commander.RasExamples - INFO - Project 'BaldEagleCrkMulti2D' already exists. Deleting existing folder...\n",
            "2025-03-19 17:01:41 - ras_commander.RasExamples - INFO - Existing folder for project 'BaldEagleCrkMulti2D' has been deleted.\n",
            "2025-03-19 17:01:43 - ras_commander.RasExamples - INFO - Successfully extracted project 'BaldEagleCrkMulti2D' to c:\\GH\\ras-commander\\examples\\example_projects\\BaldEagleCrkMulti2D\n",
            "2025-03-19 17:01:43 - ras_commander.RasExamples - INFO - ----- RasExamples Extracting Project -----\n",
            "2025-03-19 17:01:43 - ras_commander.RasExamples - INFO - Extracting project 'Muncie'\n",
            "2025-03-19 17:01:43 - ras_commander.RasExamples - INFO - Project 'Muncie' already exists. Deleting existing folder...\n",
            "2025-03-19 17:01:43 - ras_commander.RasExamples - INFO - Existing folder for project 'Muncie' has been deleted.\n",
            "2025-03-19 17:01:44 - ras_commander.RasExamples - INFO - Successfully extracted project 'Muncie' to c:\\GH\\ras-commander\\examples\\example_projects\\Muncie\n"
          ]
        },
        {
          "name": "stdout",
          "output_type": "stream",
          "text": [
            "[WindowsPath('c:/GH/ras-commander/examples/example_projects/Balde Eagle Creek'), WindowsPath('c:/GH/ras-commander/examples/example_projects/BaldEagleCrkMulti2D'), WindowsPath('c:/GH/ras-commander/examples/example_projects/Muncie')]\n",
            "Examples directory: c:\\GH\\ras-commander\\examples\\example_projects\n",
            "Path c:\\GH\\ras-commander\\examples\\example_projects\\Balde Eagle Creek exists: True\n",
            "Path c:\\GH\\ras-commander\\examples\\example_projects\\BaldEagleCrkMulti2D exists: True\n",
            "Path c:\\GH\\ras-commander\\examples\\example_projects\\Muncie exists: True\n"
          ]
        }
      ],
      "source": [
        "# Extract specific projects we'll use in this tutorial\n",
        "# This will download them if not present and extract them to the example_projects folder\n",
        "extracted_paths = RasExamples.extract_project([\"Balde Eagle Creek\", \"BaldEagleCrkMulti2D\", \"Muncie\"])\n",
        "print(extracted_paths)\n",
        "\n",
        "# Get the parent directory of the first extracted path as our examples directory\n",
        "examples_dir = extracted_paths[0].parent\n",
        "print(f\"Examples directory: {examples_dir}\")\n",
        "\n",
        "\n",
        "# Define paths to the extracted projects\n",
        "bald_eagle_path = examples_dir / \"Balde Eagle Creek\"\n",
        "multi_2d_path = examples_dir / \"BaldEagleCrkMulti2D\"\n",
        "muncie_path = examples_dir / \"Muncie\"\n",
        "\n",
        "# Verify the paths exist\n",
        "for path in [bald_eagle_path, multi_2d_path, muncie_path]:\n",
        "    print(f\"Path {path} exists: {path.exists()}\")"
      ]
    },
    {
      "cell_type": "code",
      "execution_count": 4,
      "metadata": {},
      "outputs": [
        {
          "name": "stdout",
          "output_type": "stream",
          "text": [
            "System Resources:\n",
            "- 4 physical CPU cores (8 logical cores)\n",
            "- 15.7 GB available memory\n",
            "For multiple HEC-RAS projects, a good rule of thumb is:\n",
            "- Assign 2-4 cores per project\n",
            "- Allocate at least 2-4 GB of RAM per project\n",
            "Based on your system, you could reasonably run 2 projects simultaneously.\n"
          ]
        }
      ],
      "source": [
        "# Define computation output paths\n",
        "bald_eagle_compute_folder = examples_dir / \"compute_bald_eagle\"\n",
        "muncie_compute_folder = examples_dir / \"compute_muncie\"\n",
        "\n",
        "# Check system resources\n",
        "cpu_count = psutil.cpu_count(logical=True)\n",
        "physical_cpu_count = psutil.cpu_count(logical=False)\n",
        "available_memory_gb = psutil.virtual_memory().available / (1024**3)\n",
        "\n",
        "print(f\"System Resources:\")\n",
        "print(f\"- {physical_cpu_count} physical CPU cores ({cpu_count} logical cores)\")\n",
        "print(f\"- {available_memory_gb:.1f} GB available memory\")\n",
        "print(f\"For multiple HEC-RAS projects, a good rule of thumb is:\")\n",
        "print(f\"- Assign 2-4 cores per project\")\n",
        "print(f\"- Allocate at least 2-4 GB of RAM per project\")\n",
        "print(f\"Based on your system, you could reasonably run {min(physical_cpu_count//2, int(available_memory_gb//3))} projects simultaneously.\")"
      ]
    },
    {
      "cell_type": "markdown",
      "metadata": {},
      "source": [
        "## Understanding Multiple RAS Project Management\n",
        "\n",
        "When working with multiple HEC-RAS projects in RAS Commander, there are two important concepts to understand:\n",
        "\n",
        "1. **The Global 'ras' Object**: By default, RAS Commander maintains a global `ras` object that represents the currently active project. This is convenient for simple scripts.\n",
        "\n",
        "2. **Custom RAS Objects**: For multiple projects, you'll create separate RAS objects for each project. These custom objects store project-specific data and are passed to RAS Commander functions using the `ras_object` parameter.\n",
        "\n",
        "### Best Practices for Multiple Project Management\n",
        "\n",
        "- **Name Your Objects Clearly**: Use descriptive variable names for your RAS objects (e.g., `bald_eagle_ras`, `muncie_ras`)\n",
        "- **Be Consistent**: Always pass the appropriate RAS object to functions when working with multiple projects\n",
        "- **Avoid Using Global 'ras'**: When working with multiple projects, avoid using the global `ras` object to prevent confusion\n",
        "- **Separate Compute Folders**: Use separate computation folders for each project\n",
        "- **Manage Resources**: Be mindful of CPU and memory usage when running multiple projects in parallel"
      ]
    },
    {
      "cell_type": "markdown",
      "metadata": {},
      "source": [
        "## Downloading and Extracting Example HEC-RAS Projects\n",
        "\n",
        "We'll use the `RasExamples` class to download and extract two example HEC-RAS projects: \"Balde Eagle Creek\" and \"Muncie\"."
      ]
    },
    {
      "cell_type": "code",
      "execution_count": 5,
      "metadata": {},
      "outputs": [
        {
          "name": "stderr",
          "output_type": "stream",
          "text": [
            "2025-03-19 17:01:44 - ras_commander.RasExamples - INFO - ----- RasExamples Extracting Project -----\n",
            "2025-03-19 17:01:44 - ras_commander.RasExamples - INFO - Extracting project 'Balde Eagle Creek'\n"
          ]
        },
        {
          "name": "stdout",
          "output_type": "stream",
          "text": [
            "Removed existing example projects directory: c:\\GH\\ras-commander\\examples\\example_projects\n"
          ]
        },
        {
          "name": "stderr",
          "output_type": "stream",
          "text": [
            "2025-03-19 17:01:44 - ras_commander.RasExamples - INFO - Successfully extracted project 'Balde Eagle Creek' to c:\\GH\\ras-commander\\examples\\example_projects\\Balde Eagle Creek\n",
            "2025-03-19 17:01:44 - ras_commander.RasExamples - INFO - ----- RasExamples Extracting Project -----\n",
            "2025-03-19 17:01:44 - ras_commander.RasExamples - INFO - Extracting project 'Muncie'\n",
            "2025-03-19 17:01:44 - ras_commander.RasExamples - INFO - Successfully extracted project 'Muncie' to c:\\GH\\ras-commander\\examples\\example_projects\\Muncie\n"
          ]
        },
        {
          "name": "stdout",
          "output_type": "stream",
          "text": [
            "Extracted projects to:\n",
            "- c:\\GH\\ras-commander\\examples\\example_projects\\Balde Eagle Creek\n",
            "- c:\\GH\\ras-commander\\examples\\example_projects\\Muncie\n",
            "\n",
            "Bald Eagle Creek project exists: True\n",
            "Muncie project exists: True\n"
          ]
        }
      ],
      "source": [
        "# Delete existing project if it exists to ensure a clean start\n",
        "if examples_dir.exists():\n",
        "    shutil.rmtree(examples_dir)\n",
        "    print(f\"Removed existing example projects directory: {examples_dir}\")\n",
        "\n",
        "# Create a RasExamples instance\n",
        "ras_examples = RasExamples()\n",
        "\n",
        "# Extract the example projects\n",
        "extracted_paths = ras_examples.extract_project([\"Balde Eagle Creek\", \"Muncie\"])\n",
        "print(f\"Extracted projects to:\")\n",
        "for path in extracted_paths:\n",
        "    print(f\"- {path}\")\n",
        "\n",
        "# Verify the paths exist\n",
        "print(f\"\\nBald Eagle Creek project exists: {bald_eagle_path.exists()}\")\n",
        "print(f\"Muncie project exists: {muncie_path.exists()}\")"
      ]
    },
    {
      "cell_type": "markdown",
      "metadata": {},
      "source": [
        "## Step 1: Initialize Multiple Projects\n",
        "\n",
        "Let's initialize both HEC-RAS projects. Instead of using the global `ras` object, we'll create separate RAS objects for each project."
      ]
    },
    {
      "cell_type": "code",
      "execution_count": 6,
      "metadata": {},
      "outputs": [
        {
          "name": "stderr",
          "output_type": "stream",
          "text": [
            "2025-03-19 17:01:44 - ras_commander.RasPrj - INFO - Global 'ras' object also updated to match the new project.\n",
            "2025-03-19 17:01:44 - ras_commander.RasPrj - INFO - Project initialized. ras_object project folder: c:\\GH\\ras-commander\\examples\\example_projects\\Balde Eagle Creek\n",
            "2025-03-19 17:01:44 - ras_commander.RasPrj - INFO - Global 'ras' object also updated to match the new project.\n",
            "2025-03-19 17:01:44 - ras_commander.RasPrj - INFO - Project initialized. ras_object project folder: c:\\GH\\ras-commander\\examples\\example_projects\\Muncie\n"
          ]
        },
        {
          "name": "stdout",
          "output_type": "stream",
          "text": [
            "Initialized Bald Eagle Creek project: BaldEagle\n",
            "Initialized Muncie project: Muncie\n",
            "\n",
            "Available plans in Bald Eagle Creek project:\n"
          ]
        },
        {
          "data": {
            "text/html": "<div>\n<style scoped>\\n', '    .dataframe tbody tr th:only-of-type {\\n', '        vertical-align: middle;\\n', '    }\\n', '\\n', '    .dataframe tbody tr th {\\n', '        vertical-align: top;\\n', '    }\\n', '\\n', '    .dataframe thead th {\\n', '        text-align: right;\\n', '    }\\n', '</style>\n<table border=\"1\" class=\"dataframe\">\n  <thead>\\n', '    <tr style=\"text-align: right;\">\\n', '      <th></th>\\n', '      <th>plan_number</th>\\n', '      <th>unsteady_number</th>\\n', '      <th>geometry_number</th>\\n', '      <th>Plan Title</th>\\n', '      <th>Program Version</th>\\n', '      <th>Short Identifier</th>\\n', '      <th>Simulation Date</th>\\n', '      <th>Computation Interval</th>\\n', '      <th>Mapping Interval</th>\\n', '      <th>Run HTab</th>\\n', '      <th>...</th>\\n', '      <th>UNET D2 Cores</th>\\n', '      <th>PS Cores</th>\\n', '      <th>DSS File</th>\\n', '      <th>Friction Slope Method</th>\\n', '      <th>HDF_Results_Path</th>\\n', '      <th>Geom File</th>\\n', '      <th>Geom Path</th>\\n', '      <th>Flow File</th>\\n', '      <th>Flow Path</th>\\n', '      <th>full_path</th>\\n', '    </tr>\\n', '  </thead>\n  <tbody>\n    <tr>\\n', '      <th>0</th>\\n', '      <td>01</td>\\n', '      <td>02</td>\\n', '      <td>01</td>\\n', '      <td>Unsteady with Bridges and Dam</td>\\n', '      <td>5.00</td>\\n', '      <td>UnsteadyFlow</td>\\n', '      <td>18FEB1999,0000,24FEB1999,0500</td>\\n', '      <td>2MIN</td>\\n', '      <td>1HOUR</td>\\n', '      <td>1</td>\\n', '      <td>...</td>\\n', '      <td>0.0</td>\\n', '      <td>None</td>\\n', '      <td>dss</td>\\n', '      <td>2</td>\\n', '      <td>None</td>\\n', '      <td>01</td>\\n', '      <td>c:\\\\GH\\\\ras-commander\\\\examples\\\\example_projects\\\\...</td>\\n', '      <td>02</td>\\n', '      <td>c:\\\\GH\\\\ras-commander\\\\examples\\\\example_projects\\\\...</td>\\n', '      <td>c:\\\\GH\\\\ras-commander\\\\examples\\\\example_projects\\\\...</td>\\n', '    </tr><tr>\\n', '      <th>1</th>\\n', '      <td>02</td>\\n', '      <td>None</td>\\n', '      <td>01</td>\\n', '      <td>Steady Flow Run</td>\\n', '      <td>NaN</td>\\n', '      <td>SteadyRun</td>\\n', '      <td>02/18/1999,0000,02/24/1999,0500</td>\\n', '      <td>2MIN</td>\\n', '      <td>NaN</td>\\n', '      <td>1</td>\\n', '      <td>...</td>\\n', '      <td>NaN</td>\\n', '      <td>None</td>\\n', '      <td>dss</td>\\n', '      <td>1</td>\\n', '      <td>None</td>\\n', '      <td>01</td>\\n', '      <td>c:\\\\GH\\\\ras-commander\\\\examples\\\\example_projects\\\\...</td>\\n', '      <td>02</td>\\n', '      <td>c:\\\\GH\\\\ras-commander\\\\examples\\\\example_projects\\\\...</td>\\n', '      <td>c:\\\\GH\\\\ras-commander\\\\examples\\\\example_projects\\\\...</td>\\n', '    </tr>\n    <tr><td colspan=\"100%\" style=\"text-align:center\">[... additional rows truncated ...]</td></tr>\n  </tbody>\n</table>\n</div>",
            "text/plain": [
              "  plan_number unsteady_number geometry_number                     Plan Title  \\\n",
              "0          01              02              01  Unsteady with Bridges and Dam   \n",
              "1          02            None              01                Steady Flow Run   \n",
              "\n",
              "  Program Version Short Identifier                  Simulation Date  \\\n",
              "0            5.00     UnsteadyFlow    18FEB1999,0000,24FEB1999,0500   \n",
              "1             NaN        SteadyRun  02/18/1999,0000,02/24/1999,0500   \n",
              "\n",
              "  Computation Interval Mapping Interval Run HTab  ... UNET D2 Cores PS Cores  \\\n",
              "0                 2MIN            1HOUR        1  ...           0.0     None   \n",
              "1                 2MIN              NaN        1  ...           NaN     None   \n",
              "\n",
              "  DSS File Friction Slope Method HDF_Results_Path  Geom File  \\\n",
              "0      dss                     2             None         01   \n",
              "1      dss                     1             None         01   \n",
              "\n",
              "                                           Geom Path Flow File  \\\n",
              "0  c:\\GH\\ras-commander\\examples\\example_projects\\...        02   \n",
              "1  c:\\GH\\ras-commander\\examples\\example_projects\\...        02   \n",
              "\n",
              "                                           Flow Path  \\\n",
              "0  c:\\GH\\ras-commander\\examples\\example_projects\\...   \n",
              "1  c:\\GH\\ras-commander\\examples\\example_projects\\...   \n",
              "\n",
              "                                           full_path  \n",
              "0  c:\\GH\\ras-commander\\examples\\example_projects\\...  \n",
              "1  c:\\GH\\ras-commander\\examples\\example_projects\\...  \n",
              "\n",
              "[2 rows x 26 columns]"
            ]
          },
          "metadata": {},
          "output_type": "display_data"
        },
        {
          "name": "stdout",
          "output_type": "stream",
          "text": [
            "\n",
            "Available plans in Muncie project:\n"
          ]
        },
        {
          "data": {
            "text/html": "<div>\n<style scoped>\\n', '    .dataframe tbody tr th:only-of-type {\\n', '        vertical-align: middle;\\n', '    }\\n', '\\n', '    .dataframe tbody tr th {\\n', '        vertical-align: top;\\n', '    }\\n', '\\n', '    .dataframe thead th {\\n', '        text-align: right;\\n', '    }\\n', '</style>\n<table border=\"1\" class=\"dataframe\">\n  <thead>\\n', '    <tr style=\"text-align: right;\">\\n', '      <th></th>\\n', '      <th>plan_number</th>\\n', '      <th>unsteady_number</th>\\n', '      <th>geometry_number</th>\\n', '      <th>Plan Title</th>\\n', '      <th>Program Version</th>\\n', '      <th>Short Identifier</th>\\n', '      <th>Simulation Date</th>\\n', '      <th>Computation Interval</th>\\n', '      <th>Mapping Interval</th>\\n', '      <th>Run HTab</th>\\n', '      <th>...</th>\\n', '      <th>DSS File</th>\\n', '      <th>Friction Slope Method</th>\\n', '      <th>UNET D2 SolverType</th>\\n', '      <th>UNET D2 Name</th>\\n', '      <th>HDF_Results_Path</th>\\n', '      <th>Geom File</th>\\n', '      <th>Geom Path</th>\\n', '      <th>Flow File</th>\\n', '      <th>Flow Path</th>\\n', '      <th>full_path</th>\\n', '    </tr>\\n', '  </thead>\n  <tbody>\n    <tr>\\n', '      <th>0</th>\\n', '      <td>01</td>\\n', '      <td>01</td>\\n', '      <td>01</td>\\n', '      <td>Unsteady Multi  9-SA run</td>\\n', '      <td>5.00</td>\\n', '      <td>9-SAs</td>\\n', '      <td>02JAN1900,0000,02JAN1900,2400</td>\\n', '      <td>15SEC</td>\\n', '      <td>5MIN</td>\\n', '      <td>1</td>\\n', '      <td>...</td>\\n', '      <td>dss</td>\\n', '      <td>1</td>\\n', '      <td>NaN</td>\\n', '      <td>NaN</td>\\n', '      <td>None</td>\\n', '      <td>01</td>\\n', '      <td>c:\\\\GH\\\\ras-commander\\\\examples\\\\example_projects\\\\...</td>\\n', '      <td>01</td>\\n', '      <td>c:\\\\GH\\\\ras-commander\\\\examples\\\\example_projects\\\\...</td>\\n', '      <td>c:\\\\GH\\\\ras-commander\\\\examples\\\\example_projects\\\\...</td>\\n', '    </tr><tr>\\n', '      <th>1</th>\\n', '      <td>03</td>\\n', '      <td>01</td>\\n', '      <td>02</td>\\n', '      <td>Unsteady Run with 2D 50ft Grid</td>\\n', '      <td>5.10</td>\\n', '      <td>2D 50ft Grid</td>\\n', '      <td>02JAN1900,0000,02JAN1900,2400</td>\\n', '      <td>10SEC</td>\\n', '      <td>5MIN</td>\\n', '      <td>-1</td>\\n', '      <td>...</td>\\n', '      <td>dss</td>\\n', '      <td>1</td>\\n', '      <td>Pardiso (Direct)</td>\\n', '      <td>2D Interior Area</td>\\n', '      <td>None</td>\\n', '      <td>02</td>\\n', '      <td>c:\\\\GH\\\\ras-commander\\\\examples\\\\example_projects\\\\...</td>\\n', '      <td>01</td>\\n', '      <td>c:\\\\GH\\\\ras-commander\\\\examples\\\\example_projects\\\\...</td>\\n', '      <td>c:\\\\GH\\\\ras-commander\\\\examples\\\\example_projects\\\\...</td>\\n', '    </tr><tr>\\n', '      <th>2</th>\\n', '      <td>04</td>\\n', '      <td>01</td>\\n', '      <td>04</td>\\n', '      <td>Unsteady Run with 2D 50ft User n Value R</td>\\n', '      <td>5.10</td>\\n', '      <td>50ft User n Regions</td>\\n', '      <td>02JAN1900,0000,02JAN1900,2400</td>\\n', '      <td>10SEC</td>\\n', '      <td>5MIN</td>\\n', '      <td>1</td>\\n', '      <td>...</td>\\n', '      <td>dss</td>\\n', '      <td>1</td>\\n', '      <td>Pardiso (Direct)</td>\\n', '      <td>2D Interior Area</td>\\n', '      <td>None</td>\\n', '      <td>04</td>\\n', '      <td>c:\\\\GH\\\\ras-commander\\\\examples\\\\example_projects\\\\...</td>\\n', '      <td>01</td>\\n', '      <td>c:\\\\GH\\\\ras-commander\\\\examples\\\\example_projects\\\\...</td>\\n', '      <td>c:\\\\GH\\\\ras-commander\\\\examples\\\\example_projects\\\\...</td>\\n', '    </tr>\n    <tr><td colspan=\"100%\" style=\"text-align:center\">[... additional rows truncated ...]</td></tr>\n  </tbody>\n</table>\n</div>",
            "text/plain": [
              "  plan_number unsteady_number geometry_number  \\\n",
              "0          01              01              01   \n",
              "1          03              01              02   \n",
              "2          04              01              04   \n",
              "\n",
              "                                 Plan Title Program Version  \\\n",
              "0                  Unsteady Multi  9-SA run            5.00   \n",
              "1            Unsteady Run with 2D 50ft Grid            5.10   \n",
              "2  Unsteady Run with 2D 50ft User n Value R            5.10   \n",
              "\n",
              "      Short Identifier                Simulation Date Computation Interval  \\\n",
              "0                9-SAs  02JAN1900,0000,02JAN1900,2400                15SEC   \n",
              "1         2D 50ft Grid  02JAN1900,0000,02JAN1900,2400                10SEC   \n",
              "2  50ft User n Regions  02JAN1900,0000,02JAN1900,2400                10SEC   \n",
              "\n",
              "  Mapping Interval Run HTab  ... DSS File Friction Slope Method  \\\n",
              "0             5MIN        1  ...      dss                     1   \n",
              "1             5MIN       -1  ...      dss                     1   \n",
              "2             5MIN        1  ...      dss                     1   \n",
              "\n",
              "  UNET D2 SolverType      UNET D2 Name HDF_Results_Path Geom File  \\\n",
              "0                NaN               NaN             None        01   \n",
              "1   Pardiso (Direct)  2D Interior Area             None        02   \n",
              "2   Pardiso (Direct)  2D Interior Area             None        04   \n",
              "\n",
              "                                           Geom Path  Flow File  \\\n",
              "0  c:\\GH\\ras-commander\\examples\\example_projects\\...         01   \n",
              "1  c:\\GH\\ras-commander\\examples\\example_projects\\...         01   \n",
              "2  c:\\GH\\ras-commander\\examples\\example_projects\\...         01   \n",
              "\n",
              "                                           Flow Path  \\\n",
              "0  c:\\GH\\ras-commander\\examples\\example_projects\\...   \n",
              "1  c:\\GH\\ras-commander\\examples\\example_projects\\...   \n",
              "2  c:\\GH\\ras-commander\\examples\\example_projects\\...   \n",
              "\n",
              "                                           full_path  \n",
              "0  c:\\GH\\ras-commander\\examples\\example_projects\\...  \n",
              "1  c:\\GH\\ras-commander\\examples\\example_projects\\...  \n",
              "2  c:\\GH\\ras-commander\\examples\\example_projects\\...  \n",
              "\n",
              "[3 rows x 29 columns]"
            ]
          },
          "metadata": {},
          "output_type": "display_data"
        }
      ],
      "source": [
        "# Initialize both projects with their own RAS objects\n",
        "bald_eagle_ras = RasPrj()\n",
        "init_ras_project(bald_eagle_path, \"6.6\", ras_object=bald_eagle_ras)\n",
        "print(f\"Initialized Bald Eagle Creek project: {bald_eagle_ras.project_name}\")\n",
        "\n",
        "muncie_ras = RasPrj()\n",
        "init_ras_project(muncie_path, \"6.6\", ras_object=muncie_ras)\n",
        "print(f\"Initialized Muncie project: {muncie_ras.project_name}\")\n",
        "\n",
        "# Display available plans in each project\n",
        "print(\"\\nAvailable plans in Bald Eagle Creek project:\")\n",
        "display.display(bald_eagle_ras.plan_df)\n",
        "\n",
        "print(\"\\nAvailable plans in Muncie project:\")\n",
        "display.display(muncie_ras.plan_df)"
      ]
    },
    {
      "cell_type": "markdown",
      "metadata": {},
      "source": [
        "## Step 2: Clone Plans in Each Project\n",
        "\n",
        "Now, let's clone a plan in each project, giving them custom short identifiers. This demonstrates how to perform operations on multiple projects independently."
      ]
    },
    {
      "cell_type": "code",
      "execution_count": 7,
      "metadata": {},
      "outputs": [
        {
          "name": "stderr",
          "output_type": "stream",
          "text": [
            "2025-03-19 17:01:45 - ras_commander.RasUtils - INFO - File cloned from c:\\GH\\ras-commander\\examples\\example_projects\\Balde Eagle Creek\\BaldEagle.p01 to c:\\GH\\ras-commander\\examples\\example_projects\\Balde Eagle Creek\\BaldEagle.p03\n",
            "2025-03-19 17:01:45 - ras_commander.RasUtils - INFO - Successfully updated file: c:\\GH\\ras-commander\\examples\\example_projects\\Balde Eagle Creek\\BaldEagle.p03\n",
            "2025-03-19 17:01:45 - ras_commander.RasUtils - INFO - Project file updated with new Plan entry: 03\n"
          ]
        },
        {
          "name": "stdout",
          "output_type": "stream",
          "text": [
            "Created new plan 03 in Bald Eagle Creek project\n"
          ]
        },
        {
          "name": "stderr",
          "output_type": "stream",
          "text": [
            "2025-03-19 17:01:45 - ras_commander.RasUtils - INFO - File cloned from c:\\GH\\ras-commander\\examples\\example_projects\\Muncie\\Muncie.p01 to c:\\GH\\ras-commander\\examples\\example_projects\\Muncie\\Muncie.p02\n",
            "2025-03-19 17:01:45 - ras_commander.RasUtils - INFO - Successfully updated file: c:\\GH\\ras-commander\\examples\\example_projects\\Muncie\\Muncie.p02\n",
            "2025-03-19 17:01:45 - ras_commander.RasUtils - INFO - Project file updated with new Plan entry: 02\n"
          ]
        },
        {
          "name": "stdout",
          "output_type": "stream",
          "text": [
            "Created new plan 02 in Muncie project\n",
            "\n",
            "Updated plans in Bald Eagle Creek project:\n"
          ]
        },
        {
          "data": {
            "text/html": "<div>\n<style scoped>\\n', '    .dataframe tbody tr th:only-of-type {\\n', '        vertical-align: middle;\\n', '    }\\n', '\\n', '    .dataframe tbody tr th {\\n', '        vertical-align: top;\\n', '    }\\n', '\\n', '    .dataframe thead th {\\n', '        text-align: right;\\n', '    }\\n', '</style>\n<table border=\"1\" class=\"dataframe\">\n  <thead>\\n', '    <tr style=\"text-align: right;\">\\n', '      <th></th>\\n', '      <th>plan_number</th>\\n', '      <th>unsteady_number</th>\\n', '      <th>geometry_number</th>\\n', '      <th>Plan Title</th>\\n', '      <th>Program Version</th>\\n', '      <th>Short Identifier</th>\\n', '      <th>Simulation Date</th>\\n', '      <th>Computation Interval</th>\\n', '      <th>Mapping Interval</th>\\n', '      <th>Run HTab</th>\\n', '      <th>...</th>\\n', '      <th>UNET D2 Cores</th>\\n', '      <th>PS Cores</th>\\n', '      <th>DSS File</th>\\n', '      <th>Friction Slope Method</th>\\n', '      <th>HDF_Results_Path</th>\\n', '      <th>Geom File</th>\\n', '      <th>Geom Path</th>\\n', '      <th>Flow File</th>\\n', '      <th>Flow Path</th>\\n', '      <th>full_path</th>\\n', '    </tr>\\n', '  </thead>\n  <tbody>\n    <tr>\\n', '      <th>0</th>\\n', '      <td>01</td>\\n', '      <td>02</td>\\n', '      <td>01</td>\\n', '      <td>Unsteady with Bridges and Dam</td>\\n', '      <td>5.00</td>\\n', '      <td>UnsteadyFlow</td>\\n', '      <td>18FEB1999,0000,24FEB1999,0500</td>\\n', '      <td>2MIN</td>\\n', '      <td>1HOUR</td>\\n', '      <td>1</td>\\n', '      <td>...</td>\\n', '      <td>0.0</td>\\n', '      <td>None</td>\\n', '      <td>dss</td>\\n', '      <td>2</td>\\n', '      <td>None</td>\\n', '      <td>01</td>\\n', '      <td>None</td>\\n', '      <td>02</td>\\n', '      <td>None</td>\\n', '      <td>c:\\\\GH\\\\ras-commander\\\\examples\\\\example_projects\\\\...</td>\\n', '    </tr><tr>\\n', '      <th>1</th>\\n', '      <td>02</td>\\n', '      <td>None</td>\\n', '      <td>01</td>\\n', '      <td>Steady Flow Run</td>\\n', '      <td>NaN</td>\\n', '      <td>SteadyRun</td>\\n', '      <td>02/18/1999,0000,02/24/1999,0500</td>\\n', '      <td>2MIN</td>\\n', '      <td>NaN</td>\\n', '      <td>1</td>\\n', '      <td>...</td>\\n', '      <td>NaN</td>\\n', '      <td>None</td>\\n', '      <td>dss</td>\\n', '      <td>1</td>\\n', '      <td>None</td>\\n', '      <td>01</td>\\n', '      <td>None</td>\\n', '      <td>02</td>\\n', '      <td>None</td>\\n', '      <td>c:\\\\GH\\\\ras-commander\\\\examples\\\\example_projects\\\\...</td>\\n', '    </tr><tr>\\n', '      <th>2</th>\\n', '      <td>03</td>\\n', '      <td>02</td>\\n', '      <td>01</td>\\n', '      <td>Unsteady with Bridges and Dam</td>\\n', '      <td>5.00</td>\\n', '      <td>MultiProjDemo</td>\\n', '      <td>18FEB1999,0000,24FEB1999,0500</td>\\n', '      <td>2MIN</td>\\n', '      <td>1HOUR</td>\\n', '      <td>1</td>\\n', '      <td>...</td>\\n', '      <td>0.0</td>\\n', '      <td>None</td>\\n', '      <td>dss</td>\\n', '      <td>2</td>\\n', '      <td>None</td>\\n', '      <td>01</td>\\n', '      <td>None</td>\\n', '      <td>02</td>\\n', '      <td>None</td>\\n', '      <td>c:\\\\GH\\\\ras-commander\\\\examples\\\\example_projects\\\\...</td>\\n', '    </tr>\n    <tr><td colspan=\"100%\" style=\"text-align:center\">[... additional rows truncated ...]</td></tr>\n  </tbody>\n</table>\n</div>",
            "text/plain": [
              "  plan_number unsteady_number geometry_number                     Plan Title  \\\n",
              "0          01              02              01  Unsteady with Bridges and Dam   \n",
              "1          02            None              01                Steady Flow Run   \n",
              "2          03              02              01  Unsteady with Bridges and Dam   \n",
              "\n",
              "  Program Version Short Identifier                  Simulation Date  \\\n",
              "0            5.00     UnsteadyFlow    18FEB1999,0000,24FEB1999,0500   \n",
              "1             NaN        SteadyRun  02/18/1999,0000,02/24/1999,0500   \n",
              "2            5.00    MultiProjDemo    18FEB1999,0000,24FEB1999,0500   \n",
              "\n",
              "  Computation Interval Mapping Interval Run HTab  ... UNET D2 Cores PS Cores  \\\n",
              "0                 2MIN            1HOUR        1  ...           0.0     None   \n",
              "1                 2MIN              NaN        1  ...           NaN     None   \n",
              "2                 2MIN            1HOUR        1  ...           0.0     None   \n",
              "\n",
              "  DSS File Friction Slope Method HDF_Results_Path  Geom File  Geom Path  \\\n",
              "0      dss                     2             None         01       None   \n",
              "1      dss                     1             None         01       None   \n",
              "2      dss                     2             None         01       None   \n",
              "\n",
              "  Flow File Flow Path                                          full_path  \n",
              "0        02      None  c:\\GH\\ras-commander\\examples\\example_projects\\...  \n",
              "1        02      None  c:\\GH\\ras-commander\\examples\\example_projects\\...  \n",
              "2        02      None  c:\\GH\\ras-commander\\examples\\example_projects\\...  \n",
              "\n",
              "[3 rows x 26 columns]"
            ]
          },
          "metadata": {},
          "output_type": "display_data"
        },
        {
          "name": "stdout",
          "output_type": "stream",
          "text": [
            "\n",
            "Updated plans in Muncie project:\n"
          ]
        },
        {
          "data": {
            "text/html": "<div>\n<style scoped>\\n', '    .dataframe tbody tr th:only-of-type {\\n', '        vertical-align: middle;\\n', '    }\\n', '\\n', '    .dataframe tbody tr th {\\n', '        vertical-align: top;\\n', '    }\\n', '\\n', '    .dataframe thead th {\\n', '        text-align: right;\\n', '    }\\n', '</style>\n<table border=\"1\" class=\"dataframe\">\n  <thead>\\n', '    <tr style=\"text-align: right;\">\\n', '      <th></th>\\n', '      <th>plan_number</th>\\n', '      <th>unsteady_number</th>\\n', '      <th>geometry_number</th>\\n', '      <th>Plan Title</th>\\n', '      <th>Program Version</th>\\n', '      <th>Short Identifier</th>\\n', '      <th>Simulation Date</th>\\n', '      <th>Computation Interval</th>\\n', '      <th>Mapping Interval</th>\\n', '      <th>Run HTab</th>\\n', '      <th>...</th>\\n', '      <th>DSS File</th>\\n', '      <th>Friction Slope Method</th>\\n', '      <th>UNET D2 SolverType</th>\\n', '      <th>UNET D2 Name</th>\\n', '      <th>HDF_Results_Path</th>\\n', '      <th>Geom File</th>\\n', '      <th>Geom Path</th>\\n', '      <th>Flow File</th>\\n', '      <th>Flow Path</th>\\n', '      <th>full_path</th>\\n', '    </tr>\\n', '  </thead>\n  <tbody>\n    <tr>\\n', '      <th>0</th>\\n', '      <td>01</td>\\n', '      <td>01</td>\\n', '      <td>01</td>\\n', '      <td>Unsteady Multi  9-SA run</td>\\n', '      <td>5.00</td>\\n', '      <td>9-SAs</td>\\n', '      <td>02JAN1900,0000,02JAN1900,2400</td>\\n', '      <td>15SEC</td>\\n', '      <td>5MIN</td>\\n', '      <td>1</td>\\n', '      <td>...</td>\\n', '      <td>dss</td>\\n', '      <td>1</td>\\n', '      <td>NaN</td>\\n', '      <td>NaN</td>\\n', '      <td>None</td>\\n', '      <td>01</td>\\n', '      <td>None</td>\\n', '      <td>01</td>\\n', '      <td>None</td>\\n', '      <td>c:\\\\GH\\\\ras-commander\\\\examples\\\\example_projects\\\\...</td>\\n', '    </tr><tr>\\n', '      <th>1</th>\\n', '      <td>03</td>\\n', '      <td>01</td>\\n', '      <td>02</td>\\n', '      <td>Unsteady Run with 2D 50ft Grid</td>\\n', '      <td>5.10</td>\\n', '      <td>2D 50ft Grid</td>\\n', '      <td>02JAN1900,0000,02JAN1900,2400</td>\\n', '      <td>10SEC</td>\\n', '      <td>5MIN</td>\\n', '      <td>-1</td>\\n', '      <td>...</td>\\n', '      <td>dss</td>\\n', '      <td>1</td>\\n', '      <td>Pardiso (Direct)</td>\\n', '      <td>2D Interior Area</td>\\n', '      <td>None</td>\\n', '      <td>02</td>\\n', '      <td>None</td>\\n', '      <td>01</td>\\n', '      <td>None</td>\\n', '      <td>c:\\\\GH\\\\ras-commander\\\\examples\\\\example_projects\\\\...</td>\\n', '    </tr><tr>\\n', '      <th>2</th>\\n', '      <td>04</td>\\n', '      <td>01</td>\\n', '      <td>04</td>\\n', '      <td>Unsteady Run with 2D 50ft User n Value R</td>\\n', '      <td>5.10</td>\\n', '      <td>50ft User n Regions</td>\\n', '      <td>02JAN1900,0000,02JAN1900,2400</td>\\n', '      <td>10SEC</td>\\n', '      <td>5MIN</td>\\n', '      <td>1</td>\\n', '      <td>...</td>\\n', '      <td>dss</td>\\n', '      <td>1</td>\\n', '      <td>Pardiso (Direct)</td>\\n', '      <td>2D Interior Area</td>\\n', '      <td>None</td>\\n', '      <td>04</td>\\n', '      <td>None</td>\\n', '      <td>01</td>\\n', '      <td>None</td>\\n', '      <td>c:\\\\GH\\\\ras-commander\\\\examples\\\\example_projects\\\\...</td>\\n', '    </tr><tr>\\n', '      <th>3</th>\\n', '      <td>02</td>\\n', '      <td>01</td>\\n', '      <td>01</td>\\n', '      <td>Unsteady Multi  9-SA run</td>\\n', '      <td>5.00</td>\\n', '      <td>MultiProjDemo</td>\\n', '      <td>02JAN1900,0000,02JAN1900,2400</td>\\n', '      <td>15SEC</td>\\n', '      <td>5MIN</td>\\n', '      <td>1</td>\\n', '      <td>...</td>\\n', '      <td>dss</td>\\n', '      <td>1</td>\\n', '      <td>NaN</td>\\n', '      <td>NaN</td>\\n', '      <td>None</td>\\n', '      <td>01</td>\\n', '      <td>None</td>\\n', '      <td>01</td>\\n', '      <td>None</td>\\n', '      <td>c:\\\\GH\\\\ras-commander\\\\examples\\\\example_projects\\\\...</td>\\n', '    </tr>\n    <tr><td colspan=\"100%\" style=\"text-align:center\">[... additional rows truncated ...]</td></tr>\n  </tbody>\n</table>\n</div>",
            "text/plain": [
              "  plan_number unsteady_number geometry_number  \\\n",
              "0          01              01              01   \n",
              "1          03              01              02   \n",
              "2          04              01              04   \n",
              "3          02              01              01   \n",
              "\n",
              "                                 Plan Title Program Version  \\\n",
              "0                  Unsteady Multi  9-SA run            5.00   \n",
              "1            Unsteady Run with 2D 50ft Grid            5.10   \n",
              "2  Unsteady Run with 2D 50ft User n Value R            5.10   \n",
              "3                  Unsteady Multi  9-SA run            5.00   \n",
              "\n",
              "      Short Identifier                Simulation Date Computation Interval  \\\n",
              "0                9-SAs  02JAN1900,0000,02JAN1900,2400                15SEC   \n",
              "1         2D 50ft Grid  02JAN1900,0000,02JAN1900,2400                10SEC   \n",
              "2  50ft User n Regions  02JAN1900,0000,02JAN1900,2400                10SEC   \n",
              "3        MultiProjDemo  02JAN1900,0000,02JAN1900,2400                15SEC   \n",
              "\n",
              "  Mapping Interval Run HTab  ... DSS File Friction Slope Method  \\\n",
              "0             5MIN        1  ...      dss                     1   \n",
              "1             5MIN       -1  ...      dss                     1   \n",
              "2             5MIN        1  ...      dss                     1   \n",
              "3             5MIN        1  ...      dss                     1   \n",
              "\n",
              "  UNET D2 SolverType      UNET D2 Name HDF_Results_Path Geom File  Geom Path  \\\n",
              "0                NaN               NaN             None        01       None   \n",
              "1   Pardiso (Direct)  2D Interior Area             None        02       None   \n",
              "2   Pardiso (Direct)  2D Interior Area             None        04       None   \n",
              "3                NaN               NaN             None        01       None   \n",
              "\n",
              "   Flow File Flow Path                                          full_path  \n",
              "0         01      None  c:\\GH\\ras-commander\\examples\\example_projects\\...  \n",
              "1         01      None  c:\\GH\\ras-commander\\examples\\example_projects\\...  \n",
              "2         01      None  c:\\GH\\ras-commander\\examples\\example_projects\\...  \n",
              "3         01      None  c:\\GH\\ras-commander\\examples\\example_projects\\...  \n",
              "\n",
              "[4 rows x 29 columns]"
            ]
          },
          "metadata": {},
          "output_type": "display_data"
        }
      ],
      "source": [
        "# Clone plans with custom short identifiers\n",
        "new_bald_eagle_plan = RasPlan.clone_plan(\"01\", new_plan_shortid=\"MultiProjDemo\", ras_object=bald_eagle_ras)\n",
        "print(f\"Created new plan {new_bald_eagle_plan} in Bald Eagle Creek project\")\n",
        "\n",
        "new_muncie_plan = RasPlan.clone_plan(\"01\", new_plan_shortid=\"MultiProjDemo\", ras_object=muncie_ras)\n",
        "print(f\"Created new plan {new_muncie_plan} in Muncie project\")\n",
        "\n",
        "# Display the updated plan dataframes\n",
        "print(\"\\nUpdated plans in Bald Eagle Creek project:\")\n",
        "bald_eagle_ras.plan_df = bald_eagle_ras.get_plan_entries()  # Refresh the plan dataframe\n",
        "display.display(bald_eagle_ras.plan_df)\n",
        "\n",
        "print(\"\\nUpdated plans in Muncie project:\")\n",
        "muncie_ras.plan_df = muncie_ras.get_plan_entries()  # Refresh the plan dataframe\n",
        "display.display(muncie_ras.plan_df)"
      ]
    },
    {
      "cell_type": "markdown",
      "metadata": {},
      "source": [
        "## Step 3: Configure Plans for Both Projects\n",
        "\n",
        "Let's configure the plans for both projects, setting geometry, number of cores, and other parameters. This demonstrates how to customize plans for different projects using the same code structure."
      ]
    },
    {
      "cell_type": "code",
      "execution_count": 8,
      "metadata": {},
      "outputs": [
        {
          "name": "stderr",
          "output_type": "stream",
          "text": [
            "2025-03-19 17:01:45 - ras_commander.RasPlan - INFO - Geometry for plan 03 set to 01\n",
            "2025-03-19 17:01:45 - ras_commander.RasUtils - INFO - Successfully updated file: C:\\GH\\ras-commander\\examples\\example_projects\\Balde Eagle Creek\\BaldEagle.prj\n",
            "2025-03-19 17:01:45 - ras_commander.RasUtils - INFO - Constructed plan file path: c:\\GH\\ras-commander\\examples\\example_projects\\Balde Eagle Creek\\BaldEagle.p03\n",
            "2025-03-19 17:01:45 - ras_commander.RasUtils - INFO - Successfully updated file: c:\\GH\\ras-commander\\examples\\example_projects\\Balde Eagle Creek\\BaldEagle.p03\n",
            "2025-03-19 17:01:45 - ras_commander.RasUtils - INFO - Constructed plan file path: c:\\GH\\ras-commander\\examples\\example_projects\\Balde Eagle Creek\\BaldEagle.p03\n"
          ]
        },
        {
          "name": "stdout",
          "output_type": "stream",
          "text": [
            "Configuring Bald Eagle Creek plan:\n"
          ]
        },
        {
          "name": "stderr",
          "output_type": "stream",
          "text": [
            "2025-03-19 17:01:45 - ras_commander.RasPlan - INFO - Updated description in plan file: c:\\GH\\ras-commander\\examples\\example_projects\\Balde Eagle Creek\\BaldEagle.p03\n",
            "2025-03-19 17:01:45 - ras_commander.RasPlan - INFO - Successfully updated intervals in plan file: c:\\GH\\ras-commander\\examples\\example_projects\\Balde Eagle Creek\\BaldEagle.p03\n",
            "2025-03-19 17:01:45 - ras_commander.RasPlan - INFO - Geometry for plan 02 set to 01\n",
            "2025-03-19 17:01:45 - ras_commander.RasUtils - INFO - Successfully updated file: C:\\GH\\ras-commander\\examples\\example_projects\\Muncie\\Muncie.prj\n",
            "2025-03-19 17:01:45 - ras_commander.RasUtils - INFO - Constructed plan file path: c:\\GH\\ras-commander\\examples\\example_projects\\Muncie\\Muncie.p02\n"
          ]
        },
        {
          "name": "stdout",
          "output_type": "stream",
          "text": [
            "Successfully configured Bald Eagle Creek plan\n",
            "\n",
            "Configuring Muncie plan:\n"
          ]
        },
        {
          "name": "stderr",
          "output_type": "stream",
          "text": [
            "2025-03-19 17:01:45 - ras_commander.RasUtils - INFO - Successfully updated file: c:\\GH\\ras-commander\\examples\\example_projects\\Muncie\\Muncie.p02\n",
            "2025-03-19 17:01:45 - ras_commander.RasUtils - INFO - Constructed plan file path: c:\\GH\\ras-commander\\examples\\example_projects\\Muncie\\Muncie.p02\n",
            "2025-03-19 17:01:45 - ras_commander.RasPlan - INFO - Updated description in plan file: c:\\GH\\ras-commander\\examples\\example_projects\\Muncie\\Muncie.p02\n",
            "2025-03-19 17:01:45 - ras_commander.RasPlan - INFO - Successfully updated intervals in plan file: c:\\GH\\ras-commander\\examples\\example_projects\\Muncie\\Muncie.p02\n"
          ]
        },
        {
          "name": "stdout",
          "output_type": "stream",
          "text": [
            "Successfully configured Muncie plan\n"
          ]
        }
      ],
      "source": [
        "# Configure the Bald Eagle Creek plan\n",
        "print(\"Configuring Bald Eagle Creek plan:\")\n",
        "RasPlan.set_geom(new_bald_eagle_plan, \"01\", ras_object=bald_eagle_ras)\n",
        "RasPlan.set_num_cores(new_bald_eagle_plan, 2, ras_object=bald_eagle_ras)\n",
        "\n",
        "# Update description and intervals\n",
        "description = \"Multi-project demonstration plan\\nBald Eagle Creek project\\nConfigured for parallel execution\"\n",
        "RasPlan.update_plan_description(new_bald_eagle_plan, description, ras_object=bald_eagle_ras)\n",
        "RasPlan.update_plan_intervals(\n",
        "    new_bald_eagle_plan, \n",
        "    computation_interval=\"10SEC\", \n",
        "    output_interval=\"5MIN\", \n",
        "    ras_object=bald_eagle_ras\n",
        ")\n",
        "print(\"Successfully configured Bald Eagle Creek plan\")\n",
        "\n",
        "# Configure the Muncie plan\n",
        "print(\"\\nConfiguring Muncie plan:\")\n",
        "RasPlan.set_geom(new_muncie_plan, \"01\", ras_object=muncie_ras)\n",
        "RasPlan.set_num_cores(new_muncie_plan, 2, ras_object=muncie_ras)\n",
        "\n",
        "# Update description and intervals\n",
        "description = \"Multi-project demonstration plan\\nMuncie project\\nConfigured for parallel execution\"\n",
        "RasPlan.update_plan_description(new_muncie_plan, description, ras_object=muncie_ras)\n",
        "RasPlan.update_plan_intervals(\n",
        "    new_muncie_plan, \n",
        "    computation_interval=\"10SEC\", \n",
        "    output_interval=\"5MIN\", \n",
        "    ras_object=muncie_ras\n",
        ")\n",
        "print(\"Successfully configured Muncie plan\")"
      ]
    },
    {
      "cell_type": "markdown",
      "metadata": {},
      "source": [
        "## Step 4: Create Compute Folders for Both Projects\n",
        "\n",
        "Now, let's create separate compute folders for each project. This allows us to run the computations separately and in parallel."
      ]
    },
    {
      "cell_type": "code",
      "execution_count": 9,
      "metadata": {},
      "outputs": [
        {
          "name": "stdout",
          "output_type": "stream",
          "text": [
            "Created compute folder: c:\\GH\\ras-commander\\examples\\example_projects\\compute_bald_eagle\n",
            "Created compute folder: c:\\GH\\ras-commander\\examples\\example_projects\\compute_muncie\n"
          ]
        }
      ],
      "source": [
        "# Create compute folders or clean them if they already exist\n",
        "for folder in [bald_eagle_compute_folder, muncie_compute_folder]:\n",
        "    if folder.exists():\n",
        "        shutil.rmtree(folder)\n",
        "        print(f\"Removed existing compute folder: {folder}\")\n",
        "    folder.mkdir(parents=True, exist_ok=True)\n",
        "    print(f\"Created compute folder: {folder}\")"
      ]
    },
    {
      "cell_type": "markdown",
      "metadata": {},
      "source": [
        "## Step 5: Define Project Execution Function\n",
        "\n",
        "Let's define a function to execute plans for each project, which we can run in parallel. This function will handle plan execution, timing, and provide detailed status updates."
      ]
    },
    {
      "cell_type": "code",
      "execution_count": 10,
      "metadata": {},
      "outputs": [],
      "source": [
        "def execute_plan(plan_number, ras_object, compute_folder, project_name):\n",
        "    \"\"\"\n",
        "    Execute a HEC-RAS plan and return detailed information about the execution.\n",
        "    \n",
        "    Args:\n",
        "        plan_number (str): The plan number to execute\n",
        "        ras_object: The RAS project object\n",
        "        compute_folder (Path): Folder where computation will be performed\n",
        "        project_name (str): A descriptive name for the project\n",
        "        \n",
        "    Returns:\n",
        "        dict: Detailed information about the execution\n",
        "    \"\"\"\n",
        "    print(f\"Starting execution of plan {plan_number} for {project_name}...\")\n",
        "    \n",
        "    # Record start time\n",
        "    start_time = time.time()\n",
        "    \n",
        "    # Execute the plan in the compute folder\n",
        "    success = RasCmdr.compute_plan(\n",
        "        plan_number=plan_number, \n",
        "        ras_object=ras_object, \n",
        "        dest_folder=compute_folder,\n",
        "        clear_geompre=True\n",
        "    )\n",
        "    \n",
        "    # Record end time and calculate duration\n",
        "    end_time = time.time()\n",
        "    duration = end_time - start_time\n",
        "    \n",
        "    # Determine if results were created\n",
        "    result_path = None\n",
        "    result_size = None\n",
        "    \n",
        "    try:\n",
        "        # Initialize a temporary RAS object in the compute folder to check results\n",
        "        compute_ras = init_ras_project(compute_folder, ras_object.ras_exe_path)\n",
        "        result_path = RasPlan.get_results_path(plan_number, ras_object=compute_ras)\n",
        "        \n",
        "        if result_path:\n",
        "            result_file = Path(result_path)\n",
        "            if result_file.exists():\n",
        "                result_size = result_file.stat().st_size / (1024 * 1024)  # Size in MB\n",
        "    except Exception as e:\n",
        "        print(f\"Error checking results for {project_name}: {e}\")\n",
        "    \n",
        "    # Build result information\n",
        "    result_info = {\n",
        "        \"project_name\": project_name,\n",
        "        \"plan_number\": plan_number,\n",
        "        \"success\": success,\n",
        "        \"duration\": duration,\n",
        "        \"compute_folder\": str(compute_folder),\n",
        "        \"result_path\": str(result_path) if result_path else None,\n",
        "        \"result_size_mb\": result_size,\n",
        "        \"timestamp\": time.strftime(\"%Y-%m-%d %H:%M:%S\")\n",
        "    }\n",
        "    \n",
        "    print(f\"Completed execution of plan {plan_number} for {project_name} in {duration:.2f} seconds\")\n",
        "    return result_info"
      ]
    },
    {
      "cell_type": "markdown",
      "metadata": {},
      "source": [
        "## Step 6: Execute Plans for Both Projects in Parallel\n",
        "\n",
        "Now, let's run both projects in parallel using a `ThreadPoolExecutor`. This allows us to utilize our system resources efficiently."
      ]
    },
    {
      "cell_type": "code",
      "execution_count": 11,
      "metadata": {},
      "outputs": [
        {
          "name": "stderr",
          "output_type": "stream",
          "text": [
            "2025-03-19 17:01:45 - ras_commander.RasCmdr - INFO - Using ras_object with project folder: c:\\GH\\ras-commander\\examples\\example_projects\\Balde Eagle Creek\n",
            "2025-03-19 17:01:45 - ras_commander.RasCmdr - INFO - Using ras_object with project folder: c:\\GH\\ras-commander\\examples\\example_projects\\Muncie\n",
            "2025-03-19 17:01:45 - ras_commander.RasCmdr - INFO - Copied project folder to destination: c:\\GH\\ras-commander\\examples\\example_projects\\compute_bald_eagle\n"
          ]
        },
        {
          "name": "stdout",
          "output_type": "stream",
          "text": [
            "Executing plans for both projects in parallel...\n",
            "This may take several minutes...\n",
            "Starting execution of plan 03 for Bald Eagle Creek...\n",
            "Starting execution of plan 02 for Muncie...\n"
          ]
        },
        {
          "name": "stderr",
          "output_type": "stream",
          "text": [
            "2025-03-19 17:01:45 - ras_commander.RasGeo - INFO - Clearing geometry preprocessor file for single plan: c:\\GH\\ras-commander\\examples\\example_projects\\compute_bald_eagle\\BaldEagle.p03\n",
            "2025-03-19 17:01:45 - ras_commander.RasGeo - WARNING - No geometry preprocessor file found for: c:\\GH\\ras-commander\\examples\\example_projects\\compute_bald_eagle\\BaldEagle.p03\n",
            "2025-03-19 17:01:45 - ras_commander.RasGeo - INFO - Geometry dataframe updated successfully.\n",
            "2025-03-19 17:01:45 - ras_commander.RasCmdr - INFO - Cleared geometry preprocessor files for plan: 03\n",
            "2025-03-19 17:01:45 - ras_commander.RasCmdr - INFO - Running HEC-RAS from the Command Line:\n",
            "2025-03-19 17:01:45 - ras_commander.RasCmdr - INFO - Running command: \"C:\\Program Files (x86)\\HEC\\HEC-RAS\\6.6\\Ras.exe\" -c \"C:\\GH\\ras-commander\\examples\\example_projects\\compute_bald_eagle\\BaldEagle.prj\" \"c:\\GH\\ras-commander\\examples\\example_projects\\compute_bald_eagle\\BaldEagle.p03\"\n",
            "2025-03-19 17:01:45 - ras_commander.RasCmdr - INFO - Copied project folder to destination: c:\\GH\\ras-commander\\examples\\example_projects\\compute_muncie\n",
            "2025-03-19 17:01:45 - ras_commander.RasGeo - INFO - Clearing geometry preprocessor file for single plan: c:\\GH\\ras-commander\\examples\\example_projects\\compute_muncie\\Muncie.p02\n",
            "2025-03-19 17:01:45 - ras_commander.RasGeo - WARNING - No geometry preprocessor file found for: c:\\GH\\ras-commander\\examples\\example_projects\\compute_muncie\\Muncie.p02\n",
            "2025-03-19 17:01:45 - ras_commander.RasGeo - INFO - Geometry dataframe updated successfully.\n",
            "2025-03-19 17:01:45 - ras_commander.RasCmdr - INFO - Cleared geometry preprocessor files for plan: 02\n",
            "2025-03-19 17:01:45 - ras_commander.RasCmdr - INFO - Running HEC-RAS from the Command Line:\n",
            "2025-03-19 17:01:45 - ras_commander.RasCmdr - INFO - Running command: \"C:\\Program Files (x86)\\HEC\\HEC-RAS\\6.6\\Ras.exe\" -c \"C:\\GH\\ras-commander\\examples\\example_projects\\compute_muncie\\Muncie.prj\" \"c:\\GH\\ras-commander\\examples\\example_projects\\compute_muncie\\Muncie.p02\"\n",
            "2025-03-19 17:02:23 - ras_commander.RasCmdr - INFO - HEC-RAS execution completed for plan: 02\n",
            "2025-03-19 17:02:23 - ras_commander.RasCmdr - INFO - Total run time for plan 02: 38.25 seconds\n",
            "2025-03-19 17:02:23 - ras_commander.RasPrj - INFO - Initializing global 'ras' object via init_ras_project function.\n",
            "2025-03-19 17:02:23 - ras_commander.RasPrj - INFO - Project initialized. ras_object project folder: c:\\GH\\ras-commander\\examples\\example_projects\\compute_muncie\n"
          ]
        },
        {
          "name": "stdout",
          "output_type": "stream",
          "text": [
            "Completed execution of plan 02 for Muncie in 38.51 seconds\n"
          ]
        },
        {
          "name": "stderr",
          "output_type": "stream",
          "text": [
            "2025-03-19 17:04:47 - ras_commander.RasCmdr - INFO - HEC-RAS execution completed for plan: 03\n",
            "2025-03-19 17:04:47 - ras_commander.RasCmdr - INFO - Total run time for plan 03: 181.46 seconds\n",
            "2025-03-19 17:04:47 - ras_commander.RasPrj - INFO - Initializing global 'ras' object via init_ras_project function.\n",
            "2025-03-19 17:04:47 - ras_commander.RasPrj - INFO - Project initialized. ras_object project folder: c:\\GH\\ras-commander\\examples\\example_projects\\compute_bald_eagle\n"
          ]
        },
        {
          "name": "stdout",
          "output_type": "stream",
          "text": [
            "Completed execution of plan 03 for Bald Eagle Creek in 181.63 seconds\n",
            "\n",
            "All executions complete!\n"
          ]
        }
      ],
      "source": [
        "print(\"Executing plans for both projects in parallel...\")\n",
        "print(\"This may take several minutes...\")\n",
        "\n",
        "# Define the execution tasks\n",
        "execution_tasks = [\n",
        "    (new_bald_eagle_plan, bald_eagle_ras, bald_eagle_compute_folder, \"Bald Eagle Creek\"),\n",
        "    (new_muncie_plan, muncie_ras, muncie_compute_folder, \"Muncie\")\n",
        "]\n",
        "\n",
        "results = []\n",
        "\n",
        "# Execute the plans in parallel using ThreadPoolExecutor\n",
        "with ThreadPoolExecutor(max_workers=2) as executor:\n",
        "    futures = [\n",
        "        executor.submit(execute_plan, *task)\n",
        "        for task in execution_tasks\n",
        "    ]\n",
        "    \n",
        "    # Collect results as they complete\n",
        "    for future in as_completed(futures):\n",
        "        try:\n",
        "            result = future.result()\n",
        "            results.append(result)\n",
        "        except Exception as e:\n",
        "            print(f\"Execution error: {e}\")\n",
        "\n",
        "print(\"\\nAll executions complete!\")"
      ]
    },
    {
      "cell_type": "markdown",
      "metadata": {},
      "source": [
        "## Step 7: Analyze Results\n",
        "\n",
        "Let's analyze the results from both project executions, comparing execution times, result sizes, etc."
      ]
    },
    {
      "cell_type": "code",
      "execution_count": 12,
      "metadata": {},
      "outputs": [
        {
          "name": "stdout",
          "output_type": "stream",
          "text": [
            "Execution Results Summary:\n"
          ]
        },
        {
          "data": {
            "text/html": "<div>\n<style scoped>\\n', '    .dataframe tbody tr th:only-of-type {\\n', '        vertical-align: middle;\\n', '    }\\n', '\\n', '    .dataframe tbody tr th {\\n', '        vertical-align: top;\\n', '    }\\n', '\\n', '    .dataframe thead th {\\n', '        text-align: right;\\n', '    }\\n', '</style>\n<table border=\"1\" class=\"dataframe\">\n  <thead>\\n', '    <tr style=\"text-align: right;\">\\n', '      <th></th>\\n', '      <th>project_name</th>\\n', '      <th>plan_number</th>\\n', '      <th>success</th>\\n', '      <th>duration</th>\\n', '      <th>result_size_mb</th>\\n', '    </tr>\\n', '  </thead>\n  <tbody>\n    <tr>\\n', '      <th>0</th>\\n', '      <td>Muncie</td>\\n', '      <td>02</td>\\n', '      <td>True</td>\\n', '      <td>38.511376</td>\\n', '      <td>3.857758</td>\\n', '    </tr><tr>\\n', '      <th>1</th>\\n', '      <td>Bald Eagle Creek</td>\\n', '      <td>03</td>\\n', '      <td>True</td>\\n', '      <td>181.626585</td>\\n', '      <td>11.529738</td>\\n', '    </tr>\n    <tr><td colspan=\"100%\" style=\"text-align:center\">[... additional rows truncated ...]</td></tr>\n  </tbody>\n</table>\n</div>",
            "text/plain": [
              "       project_name plan_number  success    duration  result_size_mb\n",
              "0            Muncie          02     True   38.511376        3.857758\n",
              "1  Bald Eagle Creek          03     True  181.626585       11.529738"
            ]
          },
          "metadata": {},
          "output_type": "display_data"
        },
        {
          "data": {
            "text/plain": [
              "<Figure size 1000x600 with 1 Axes>"
            ]
          },
          "metadata": {},
          "output_type": "display_data"
        },
        {
          "data": {
            "text/plain": [
              "<Figure size 1000x600 with 1 Axes>"
            ]
          },
          "metadata": {},
          "output_type": "display_data"
        }
      ],
      "source": [
        "# Create a DataFrame from the results\n",
        "results_df = pd.DataFrame(results)\n",
        "\n",
        "# Display the results table\n",
        "print(\"Execution Results Summary:\")\n",
        "display.display(results_df[['project_name', 'plan_number', 'success', 'duration', 'result_size_mb']])\n",
        "\n",
        "# Create a bar chart for execution times\n",
        "plt.figure(figsize=(10, 6))\n",
        "plt.bar(results_df['project_name'], results_df['duration'], color=['blue', 'green'])\n",
        "plt.title('Execution Time by Project')\n",
        "plt.xlabel('Muncie Plan 02 vs Bald Eagle Creek Plan 02\\n (2 separate projects, for demonstration purposes only)')\n",
        "plt.ylabel('Execution Time (seconds)')\n",
        "plt.grid(axis='y', linestyle='--', alpha=0.7)\n",
        "\n",
        "# Add duration values on top of the bars\n",
        "for i, duration in enumerate(results_df['duration']):\n",
        "    plt.text(i, duration + 5, f\"{duration:.1f}s\", ha='center')\n",
        "\n",
        "plt.tight_layout()\n",
        "plt.show()\n",
        "\n",
        "# If we have result sizes, create a chart for those as well\n",
        "if results_df['result_size_mb'].notna().any():\n",
        "    plt.figure(figsize=(10, 6))\n",
        "    plt.bar(results_df['project_name'], results_df['result_size_mb'], color=['orange', 'purple'])\n",
        "    plt.title('Result File Size by Project')\n",
        "    plt.xlabel('Project')\n",
        "    plt.ylabel('Result Size (MB)')\n",
        "    plt.grid(axis='y', linestyle='--', alpha=0.7)\n",
        "    \n",
        "    # Add size values on top of the bars\n",
        "    for i, size in enumerate(results_df['result_size_mb']):\n",
        "        if pd.notna(size):\n",
        "            plt.text(i, size + 2, f\"{size:.1f} MB\", ha='center')\n",
        "    \n",
        "    plt.tight_layout()\n",
        "    plt.show()"
      ]
    },
    {
      "cell_type": "markdown",
      "metadata": {},
      "source": [
        "## Step 9: Compare Two HEC-RAS Projects\n",
        "\n",
        "Let's create a utility function to compare the structures of the two HEC-RAS projects. This helps us understand the differences between the projects we're working with."
      ]
    },
    {
      "cell_type": "code",
      "execution_count": 13,
      "metadata": {},
      "outputs": [
        {
          "name": "stdout",
          "output_type": "stream",
          "text": [
            "Project Structure Comparison:\n"
          ]
        },
        {
          "data": {
            "text/html": "<div>\n<style scoped>\\n', '    .dataframe tbody tr th:only-of-type {\\n', '        vertical-align: middle;\\n', '    }\\n', '\\n', '    .dataframe tbody tr th {\\n', '        vertical-align: top;\\n', '    }\\n', '\\n', '    .dataframe thead th {\\n', '        text-align: right;\\n', '    }\\n', '</style>\n<table border=\"1\" class=\"dataframe\">\n  <thead>\\n', '    <tr style=\"text-align: right;\">\\n', '      <th></th>\\n', '      <th>Project Name</th>\\n', '      <th>Plan Count</th>\\n', '      <th>Geometry Count</th>\\n', '      <th>Flow Count</th>\\n', '      <th>Unsteady Count</th>\\n', '    </tr>\\n', '  </thead>\n  <tbody>\n    <tr>\\n', '      <th>Bald Eagle Creek</th>\\n', '      <td>BaldEagle</td>\\n', '      <td>3</td>\\n', '      <td>1</td>\\n', '      <td>2</td>\\n', '      <td>1</td>\\n', '    </tr><tr>\\n', '      <th>Muncie</th>\\n', '      <td>Muncie</td>\\n', '      <td>4</td>\\n', '      <td>3</td>\\n', '      <td>1</td>\\n', '      <td>1</td>\\n', '    </tr>\n    <tr><td colspan=\"100%\" style=\"text-align:center\">[... additional rows truncated ...]</td></tr>\n  </tbody>\n</table>\n</div>",
            "text/plain": [
              "                 Project Name  Plan Count  Geometry Count  Flow Count  \\\n",
              "Bald Eagle Creek    BaldEagle           3               1           2   \n",
              "Muncie                 Muncie           4               3           1   \n",
              "\n",
              "                  Unsteady Count  \n",
              "Bald Eagle Creek               1  \n",
              "Muncie                         1  "
            ]
          },
          "metadata": {},
          "output_type": "display_data"
        },
        {
          "data": {
            "text/plain": [
              "<Figure size 1200x600 with 1 Axes>"
            ]
          },
          "metadata": {},
          "output_type": "display_data"
        }
      ],
      "source": [
        "def compare_project_structures(ras_object1, name1, ras_object2, name2):\n",
        "    \"\"\"\n",
        "    Compare the structures of two HEC-RAS projects and display differences.\n",
        "    \"\"\"\n",
        "    # Refresh all dataframes to ensure we have the latest data\n",
        "    ras_object1.plan_df = ras_object1.get_plan_entries()\n",
        "    ras_object1.geom_df = ras_object1.get_geom_entries()\n",
        "    ras_object1.flow_df = ras_object1.get_flow_entries()\n",
        "    ras_object1.unsteady_df = ras_object1.get_unsteady_entries()\n",
        "    \n",
        "    ras_object2.plan_df = ras_object2.get_plan_entries()\n",
        "    ras_object2.geom_df = ras_object2.get_geom_entries()\n",
        "    ras_object2.flow_df = ras_object2.get_flow_entries()\n",
        "    ras_object2.unsteady_df = ras_object2.get_unsteady_entries()\n",
        "    \n",
        "    # Create a comparison dictionary\n",
        "    comparison = {\n",
        "        'Project Name': [ras_object1.project_name, ras_object2.project_name],\n",
        "        'Plan Count': [len(ras_object1.plan_df), len(ras_object2.plan_df)],\n",
        "        'Geometry Count': [len(ras_object1.geom_df), len(ras_object2.geom_df)],\n",
        "        'Flow Count': [len(ras_object1.flow_df), len(ras_object2.flow_df)],\n",
        "        'Unsteady Count': [len(ras_object1.unsteady_df), len(ras_object2.unsteady_df)]\n",
        "    }\n",
        "    \n",
        "    # Create a DataFrame for the comparison\n",
        "    comparison_df = pd.DataFrame(comparison, index=[name1, name2])\n",
        "    \n",
        "\n",
        "    # Display the comparison\n",
        "    print(\"Project Structure Comparison:\")\n",
        "    display.display(comparison_df)\n",
        "    \n",
        "    # Create a bar chart to visualize the comparison\n",
        "    plt.figure(figsize=(12, 6))\n",
        "    comparison_df.iloc[:, 1:].plot(kind='bar', ax=plt.gca())\n",
        "    plt.title('Project Structure Comparison')\n",
        "    plt.xlabel('Project')\n",
        "    plt.ylabel('Count')\n",
        "    plt.legend(title='Component')\n",
        "    plt.grid(axis='y', linestyle='--', alpha=0.7)\n",
        "    \n",
        "    # Set y-axis to only show whole numbers (integers)\n",
        "    ax = plt.gca()\n",
        "    ax.yaxis.set_major_locator(plt.MaxNLocator(integer=True))\n",
        "    \n",
        "    plt.tight_layout()\n",
        "    plt.show()\n",
        "    \n",
        "    return comparison_df\n",
        "\n",
        "# Compare the structures of the two projects\n",
        "comparison_df = compare_project_structures(\n",
        "    bald_eagle_ras, \"Bald Eagle Creek\", \n",
        "    muncie_ras, \"Muncie\"\n",
        ")"
      ]
    },
    {
      "cell_type": "markdown",
      "metadata": {},
      "source": [
        "-----"
      ]
    },
    {
      "cell_type": "markdown",
      "metadata": {},
      "source": [
        "## This approach can also be used to programmatically compare 2 copies of the same project to ensure all of the plan parameters, boundary condition definitions, etc remained the same, and for other QAQC processes.\n",
        "\n",
        "This will be shown in further examples in more detail."
      ]
    },
    {
      "cell_type": "markdown",
      "metadata": {},
      "source": [
        "-----"
      ]
    },
    {
      "cell_type": "markdown",
      "metadata": {},
      "source": [
        "## Summary of Multiple Project Operations\n",
        "\n",
        "In this notebook, we've demonstrated how to work with multiple HEC-RAS projects simultaneously using the RAS Commander library. We've covered the following key operations:\n",
        "\n",
        "1. **Initializing Multiple Projects**: Creating separate RAS objects for different projects\n",
        "2. **Independent Configuration**: Configuring plans with project-specific parameters\n",
        "3. **Parallel Execution**: Running computations from different projects simultaneously\n",
        "4. **Resource Management**: Organizing compute folders and tracking execution statistics\n",
        "5. **Results Comparison**: Analyzing and comparing results from different projects\n",
        "6. **Advanced Workflows**: Creating sensitivity plans and batch processing pipelines\n",
        "\n",
        "### Key Concepts\n",
        "\n",
        "When working with multiple HEC-RAS projects in RAS Commander, remember these key concepts:\n",
        "\n",
        "- **Custom RAS Objects**: Create and use separate RAS objects for each project\n",
        "- **Always Specify ras_object**: Use the `ras_object` parameter in all function calls\n",
        "- **Separate Compute Folders**: Use separate folders for each project's computations\n",
        "- **Resource Management**: Be mindful of CPU and memory usage when running in parallel\n",
        "- **Project Tracking**: Keep track of which results belong to which project\n",
        "\n",
        "### Multiple Project Applications\n",
        "\n",
        "Working with multiple projects unlocks advanced applications such as:\n",
        "\n",
        "1. **Model Comparison**: Compare results from different river systems\n",
        "2. **Basin-wide Analysis**: Analyze connected river systems in parallel\n",
        "3. **Parameter Sweep**: Test a range of parameters across multiple models\n",
        "4. **Model Development**: Develop and test models simultaneously\n",
        "5. **Batch Processing**: Process large sets of models in an automated pipeline\n",
        "\n",
        "These capabilities make RAS Commander a powerful tool for large-scale hydraulic modeling and water resources management."
      ]
    }
  ],
  "metadata": {
    "kernelspec": {
      "display_name": "cmdr_pip_1",
      "language": "python",
      "name": "python3"
    },
    "language_info": {
      "codemirror_mode": {
        "name": "ipython",
        "version": 3
      },
      "file_extension": ".py",
      "mimetype": "text/x-python",
      "name": "python",
      "nbconvert_exporter": "python",
      "pygments_lexer": "ipython3",
      "version": "3.12.9"
    }
  },
  "nbformat": 4,
  "nbformat_minor": 4
}