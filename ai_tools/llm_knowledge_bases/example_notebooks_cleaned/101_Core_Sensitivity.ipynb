{
  "cells": [
    {
      "cell_type": "code",
      "execution_count": 1,
      "metadata": {},
      "outputs": [],
      "source": [
        "# Install ras-commander from pip (uncomment to install if needed)\n",
        "#!pip install ras-commander\n",
        "# This installs ras-commander and all dependencies"
      ]
    },
    {
      "cell_type": "code",
      "execution_count": 2,
      "metadata": {},
      "outputs": [],
      "source": [
        "# Import all required modules\n",
        "from ras_commander import *  # Import all ras-commander modules\n",
        "\n",
        "# Import the required libraries for this notebook\n",
        "import h5py\n",
        "import numpy as np\n",
        "import requests\n",
        "import pandas as pd\n",
        "import geopandas as gpd\n",
        "import matplotlib.pyplot as plt\n",
        "import pyproj\n",
        "from shapely.geometry import Point, LineString, Polygon\n",
        "import xarray as xr\n",
        "from pathlib import Path"
      ]
    },
    {
      "cell_type": "markdown",
      "metadata": {},
      "source": [
        "# 14_Core_Sensitivity.ipynb\n",
        "Testing Core Sensitivity for RAS using the Bald Eagle Creek Multi-Gage 2D project.  \n",
        "\n",
        "\n",
        "This should take around 15-45 minutes to run depending on your hardware."
      ]
    },
    {
      "cell_type": "code",
      "execution_count": null,
      "metadata": {},
      "outputs": [],
      "source": [
        "import time\n",
        "import pandas as pd\n",
        "import matplotlib.pyplot as plt\n",
        "from pathlib import Path\n",
        "from ras_commander import RasExamples, init_ras_project, RasCmdr, RasPlan, RasGeo\n",
        "\n",
        "# Step 1: Initialize RasExamples and extract the BaldEagleCrkMulti2D project\n",
        "\n",
        "RasExamples.extract_project([\"BaldEagleCrkMulti2D\"])\n",
        "\n",
        "# Use Path.cwd() to get the current working directory in a Jupyter Notebook\n",
        "current_directory = Path.cwd()\n",
        "project_path = current_directory / \"example_projects\" / \"BaldEagleCrkMulti2D\"\n",
        "\n",
        "# Step 2: Initialize the RAS Project Folder using init_ras_project (from ras_commander)\n",
        "init_ras_project(project_path, \"6.6\")\n",
        "\n",
        "# Step 3: Initialize a DataFrame to store execution results\n",
        "results = []\n",
        "\n",
        "# Step 4: Run sensitivity analysis for Plan 03 with core counts 1-8\n",
        "plan_number = '03'\n",
        "print(f\"Running sensitivity analysis for Plan {plan_number}\")\n",
        "\n",
        "# Clear geompre files before running the plan\n",
        "plan_path = RasPlan.get_plan_path(plan_number)\n",
        "RasGeo.clear_geompre_files(plan_path)\n",
        "\n",
        "for cores in range(1, 5):\n",
        "    print(f\"Running with {cores} core(s)\")\n",
        "    # Set core count for this plan\n",
        "    RasPlan.set_num_cores(plan_number, cores)\n",
        "    \n",
        "    # Time the execution of the plan\n",
        "    start_time = time.time()\n",
        "    RasCmdr.compute_plan(plan_number)\n",
        "    execution_time = time.time() - start_time\n",
        "    \n",
        "    # Store the results\n",
        "    results.append({\n",
        "        \"plan_number\": plan_number,\n",
        "        \"cores\": cores,\n",
        "        \"execution_time\": execution_time\n",
        "    })\n",
        "    \n",
        "    print(f\"Execution time: {execution_time:.2f} seconds\")\n",
        "\n",
        "print(\"Sensitivity analysis complete\")\n",
        "\n",
        "# Step 5: Convert results into a DataFrame\n",
        "results_df = pd.DataFrame(results)\n",
        "\n",
        "# Optionally, save the results to a CSV file\n",
        "results_df.to_csv(\"core_sensitivity_results.csv\", index=False)\n"
      ]
    },
    {
      "cell_type": "markdown",
      "metadata": {},
      "source": [
        "NOTES FOR REVISIONS:\n",
        "- Use HDF compute summary to show the time for each preprocesS/unsteady compute/postprocess step. \n",
        "- First, run preprocessor and then toggle options to only run unsteady compute and postprocess. \n",
        "- Plot each step separately. \n",
        "\n"
      ]
    },
    {
      "cell_type": "code",
      "execution_count": null,
      "metadata": {},
      "outputs": [],
      "source": [
        "# Optionally, load the results from a CSV file\n",
        "results_df = pd.read_csv(\"core_sensitivity_results.csv\")\n",
        "\n",
        "# Display the results dataframe for verification\n",
        "print(\"results_df DataFrame (time is in seconds):\")\n",
        "display(results_df)\n",
        "\n",
        "# Step 6: Calculate unit runtime (based on 1 core execution time)\n",
        "results_df['unit_runtime'] = results_df.groupby('plan_number')['execution_time'].transform(lambda x: x / x.iloc[0])\n",
        "\n",
        "# Get the project name from the ras object\n",
        "project_name = ras.project_name\n",
        "\n",
        "# Step 7: Plot a line chart for unit runtime vs. cores for each plan\n",
        "plt.figure(figsize=(10, 6))\n",
        "for plan in results_df['plan_number'].unique():\n",
        "    plan_data = results_df[results_df['plan_number'] == plan]\n",
        "    plt.plot(plan_data['cores'], plan_data['unit_runtime'], label=f\"Plan {plan}\")\n",
        "\n",
        "plt.xlabel(\"Number of Cores\")\n",
        "plt.ylabel(\"Unit Runtime (Relative to 1 Core)\")\n",
        "plt.title(f\"{project_name} (HEC Example Project)\\nCore Count Sensitivity Analysis\")\n",
        "plt.legend(title=\"Plan Number\")\n",
        "plt.grid(False)\n",
        "plt.vlines([1,2,3,4], ymin=0, ymax=1.2, linestyles='dotted', alpha=0.3)\n",
        "plt.gca().xaxis.set_major_locator(plt.MultipleLocator(1))\n",
        "plt.show()\n",
        "\n",
        "\n"
      ]
    }
  ],
  "metadata": {
    "kernelspec": {
      "display_name": "cmdrpip4",
      "language": "python",
      "name": "python3"
    },
    "language_info": {
      "codemirror_mode": {
        "name": "ipython",
        "version": 3
      },
      "file_extension": ".py",
      "mimetype": "text/x-python",
      "name": "python",
      "nbconvert_exporter": "python",
      "pygments_lexer": "ipython3",
      "version": "3.12.9"
    }
  },
  "nbformat": 4,
  "nbformat_minor": 2
}