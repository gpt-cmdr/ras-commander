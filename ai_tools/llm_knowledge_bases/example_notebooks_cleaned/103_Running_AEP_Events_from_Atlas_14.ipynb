{
  "cells": [
    {
      "cell_type": "markdown",
      "metadata": {},
      "source": [
        "# AEP Storm Analysis with RAS-Commander\n",
        "\n",
        "This notebook automates the end-to-end process of analyzing multiple storm events with different Annual Exceedance Probabilities (AEP) in HEC-RAS. It covers:\n",
        "\n",
        "1. Generating hyetographs from NOAA Atlas 14 precipitation data\n",
        "2. Creating HEC-RAS plan files for each AEP event\n",
        "3. Creating unsteady flow files with the generated hyetographs\n",
        "4. Executing multiple plans in parallel\n",
        "5. Analyzing and visualizing the results\n",
        "\n",
        "This automation is particularly useful for analyzing how a drainage system performs under different storm frequencies, from common events (e.g., 2-year) to rare events (e.g., 100-year)."
      ]
    },
    {
      "cell_type": "markdown",
      "metadata": {},
      "source": [
        "## Setup and Import Libraries\n",
        "\n",
        "First, we'll import all the necessary libraries and set up our environment."
      ]
    },
    {
      "cell_type": "code",
      "execution_count": 1,
      "metadata": {},
      "outputs": [],
      "source": [
        "# Import necessary libraries\n",
        "import os\n",
        "import numpy as np\n",
        "import pandas as pd\n",
        "import matplotlib.pyplot as plt\n",
        "import re\n",
        "import time\n",
        "from pathlib import Path\n",
        "from datetime import datetime\n",
        "from IPython import display\n",
        "import psutil  # For getting system CPU info\n",
        "\n",
        "# Install ras-commander if not already installed\n",
        "# Uncomment this line if you need to install the package\n",
        "# !pip install ras-commander\n",
        "\n",
        "# Import RAS-Commander modules\n",
        "from ras_commander import *"
      ]
    },
    {
      "cell_type": "code",
      "execution_count": 2,
      "metadata": {},
      "outputs": [
        {
          "name": "stderr",
          "output_type": "stream",
          "text": [
            "2025-04-10 05:05:41 - ras_commander.RasExamples - INFO - Found zip file: d:\\GitHub\\ras-commander\\examples\\Example_Projects_6_6.zip\n",
            "2025-04-10 05:05:41 - ras_commander.RasExamples - INFO - Loading project data from CSV...\n",
            "2025-04-10 05:05:41 - ras_commander.RasExamples - INFO - Loaded 68 projects from CSV.\n",
            "2025-04-10 05:05:41 - ras_commander.RasExamples - INFO - ----- RasExamples Extracting Project -----\n",
            "2025-04-10 05:05:41 - ras_commander.RasExamples - INFO - Extracting project 'Davis'\n",
            "2025-04-10 05:05:41 - ras_commander.RasExamples - INFO - Project 'Davis' already exists. Deleting existing folder...\n",
            "2025-04-10 05:05:41 - ras_commander.RasExamples - INFO - Existing folder for project 'Davis' has been deleted.\n",
            "2025-04-10 05:05:42 - ras_commander.RasExamples - INFO - Successfully extracted project 'Davis' to d:\\GitHub\\ras-commander\\examples\\example_projects\\Davis\n"
          ]
        },
        {
          "data": {
            "text/plain": "[\"WindowsPath('d:/GitHub/ras-commander/examples/example_projects/Davis')\"]"
          },
          "execution_count": 2,
          "metadata": {},
          "output_type": "execute_result"
        }
      ],
      "source": [
        "RasExamples.extract_project([\"Davis\"])\n",
        "# This loads the project in fresh"
      ]
    },
    {
      "cell_type": "markdown",
      "metadata": {},
      "source": [
        "## Define Hyetograph Generation Functions\n",
        "\n",
        "These functions handle reading precipitation frequency data from NOAA Atlas 14 and generating balanced storm hyetographs using the Alternating Block Method."
      ]
    },
    {
      "cell_type": "code",
      "execution_count": 3,
      "metadata": {},
      "outputs": [],
      "source": [
        "def parse_duration(duration_str):\n",
        "    \"\"\"\n",
        "    Parses a duration string and converts it to hours.\n",
        "    Examples: \"5-min:\" -> 0.0833 hours, \"2-hr:\" -> 2 hours, \"2-day:\" -> 48 hours\n",
        "    \"\"\"\n",
        "    match = re.match(r'(\\d+)-(\\w+):', duration_str.strip())\n",
        "    if not match:\n",
        "        raise ValueError(f\"Invalid duration format: {duration_str}\")\n",
        "    value, unit = match.groups()\n",
        "    value = int(value)\n",
        "    unit = unit.lower()\n",
        "    if unit in ['min', 'minute', 'minutes']:\n",
        "        hours = value / 60.0\n",
        "    elif unit in ['hr', 'hour', 'hours']:\n",
        "        hours = value\n",
        "    elif unit in ['day', 'days']:\n",
        "        hours = value * 24\n",
        "    else:\n",
        "        raise ValueError(f\"Unknown time unit in duration: {unit}\")\n",
        "    return hours\n",
        "\n",
        "def read_precipitation_data(csv_file):\n",
        "    \"\"\"\n",
        "    Reads the precipitation frequency CSV and returns a DataFrame\n",
        "    with durations in hours as the index and ARIs as columns.\n",
        "    \"\"\"\n",
        "    with open(csv_file, 'r') as f:\n",
        "        lines = f.readlines()\n",
        "\n",
        "    header_line_idx = None\n",
        "    header_pattern = re.compile(r'^by duration for ari', re.IGNORECASE)\n",
        "\n",
        "    # Locate the header line\n",
        "    for idx, line in enumerate(lines):\n",
        "        if header_pattern.match(line.strip().lower()):\n",
        "            header_line_idx = idx\n",
        "            break\n",
        "\n",
        "    if header_line_idx is None:\n",
        "        raise ValueError('Header line for precipitation frequency estimates not found in CSV file.')\n",
        "\n",
        "    # Extract the ARI headers from the header line\n",
        "    header_line = lines[header_line_idx].strip()\n",
        "    headers = [item.strip() for item in header_line.split(',')]\n",
        "    \n",
        "    if len(headers) < 2:\n",
        "        raise ValueError('Insufficient number of ARI columns found in the header line.')\n",
        "\n",
        "    aris = headers[1:]  # Exclude the first column which is the duration\n",
        "\n",
        "    # Define the pattern for data lines (e.g., \"5-min:\", \"10-min:\", etc.)\n",
        "    duration_pattern = re.compile(r'^\\d+-(min|hr|day):')\n",
        "\n",
        "    # Initialize lists to store durations and corresponding depths\n",
        "    durations = []\n",
        "    depths = {ari: [] for ari in aris}\n",
        "\n",
        "    # Iterate over the lines following the header to extract data\n",
        "    for line in lines[header_line_idx + 1:]:\n",
        "        line = line.strip()\n",
        "        if not line:\n",
        "            continue  # Skip empty lines\n",
        "        if not duration_pattern.match(line):\n",
        "            break  # Stop if the line does not match the duration pattern\n",
        "        parts = [part.strip() for part in line.split(',')]\n",
        "        if len(parts) != len(headers):\n",
        "            raise ValueError(f\"Data row does not match header columns: {line}\")\n",
        "        duration_str = parts[0]\n",
        "        try:\n",
        "            duration_hours = parse_duration(duration_str)\n",
        "        except ValueError as ve:\n",
        "            print(f\"Skipping line due to error: {ve}\")\n",
        "            continue  # Skip lines with invalid duration formats\n",
        "        durations.append(duration_hours)\n",
        "        for ari, depth_str in zip(aris, parts[1:]):\n",
        "            try:\n",
        "                depth = float(depth_str)\n",
        "            except ValueError:\n",
        "                depth = np.nan  # Assign NaN for invalid depth values\n",
        "            depths[ari].append(depth)\n",
        "\n",
        "    # Create the DataFrame\n",
        "    df = pd.DataFrame(depths, index=durations)\n",
        "    df.index.name = 'Duration_hours'\n",
        "\n",
        "    # Drop any rows with NaN values\n",
        "    df = df.dropna()\n",
        "\n",
        "    return df\n",
        "\n",
        "def interpolate_depths(df, total_duration):\n",
        "    \"\"\"\n",
        "    Interpolates precipitation depths for each ARI on a log-log scale\n",
        "    for each hour up to the total storm duration.\n",
        "    \"\"\"\n",
        "    T = total_duration\n",
        "    t_hours = np.arange(1, T+1)\n",
        "    D = {}\n",
        "    for ari in df.columns:\n",
        "        durations = df.index.values\n",
        "        depths = df[ari].values\n",
        "        # Ensure all depths are positive\n",
        "        if np.any(depths <= 0):\n",
        "            raise ValueError(f\"Non-positive depth value in ARI {ari}\")\n",
        "        # Log-log interpolation\n",
        "        log_durations = np.log(durations)\n",
        "        log_depths = np.log(depths)\n",
        "        log_t = np.log(t_hours)\n",
        "        log_D_t = np.interp(log_t, log_durations, log_depths)\n",
        "        D_t = np.exp(log_D_t)\n",
        "        D[ari] = D_t\n",
        "    return D\n",
        "\n",
        "def compute_incremental_depths(D, total_duration):\n",
        "    \"\"\"\n",
        "    Computes incremental precipitation depths for each hour.\n",
        "    I(t) = D(t) - D(t-1), with D(0) = 0.\n",
        "    \"\"\"\n",
        "    incremental_depths = {}\n",
        "    for ari, D_t in D.items():\n",
        "        I_t = np.empty(total_duration)\n",
        "        I_t[0] = D_t[0]  # I(1) = D(1) - D(0) = D(1)\n",
        "        I_t[1:] = D_t[1:] - D_t[:-1]\n",
        "        incremental_depths[ari] = I_t\n",
        "    return incremental_depths\n",
        "\n",
        "def assign_alternating_block(sorted_depths, max_depth, central_index, T):\n",
        "    \"\"\"\n",
        "    Assigns incremental depths to the hyetograph using the Alternating Block Method.\n",
        "    \"\"\"\n",
        "    hyetograph = [0.0] * T\n",
        "    hyetograph[central_index] = max_depth\n",
        "    remaining_depths = sorted_depths.copy()\n",
        "    remaining_depths.remove(max_depth)\n",
        "    left = central_index - 1\n",
        "    right = central_index + 1\n",
        "    toggle = True  # Start assigning to the right\n",
        "    for depth in remaining_depths:\n",
        "        if toggle and right < T:\n",
        "            hyetograph[right] = depth\n",
        "            right += 1\n",
        "        elif not toggle and left >= 0:\n",
        "            hyetograph[left] = depth\n",
        "            left -= 1\n",
        "        elif right < T:\n",
        "            hyetograph[right] = depth\n",
        "            right += 1\n",
        "        elif left >= 0:\n",
        "            hyetograph[left] = depth\n",
        "            left -= 1\n",
        "        else:\n",
        "            print(\"Warning: Not all incremental depths assigned.\")\n",
        "            break\n",
        "        toggle = not toggle\n",
        "    return hyetograph\n",
        "\n",
        "def generate_hyetograph(incremental_depths, position_percent, T):\n",
        "    \"\"\"\n",
        "    Generates the hyetograph for a given ARI using the Alternating Block Method.\n",
        "    \"\"\"\n",
        "    max_depth = np.max(incremental_depths)\n",
        "    incremental_depths_list = incremental_depths.tolist()\n",
        "    central_index = int(round(T * position_percent / 100)) - 1\n",
        "    central_index = max(0, min(central_index, T - 1))\n",
        "    sorted_depths = sorted(incremental_depths_list, reverse=True)\n",
        "    hyetograph = assign_alternating_block(sorted_depths, max_depth, central_index, T)\n",
        "    return hyetograph\n",
        "\n",
        "def save_hyetograph(hyetograph, ari, output_dir, position_percent, total_duration):\n",
        "    \"\"\"\n",
        "    Saves the hyetograph to a CSV file.\n",
        "    \"\"\"\n",
        "    df = pd.DataFrame({\n",
        "        'Time_hour': np.arange(1, total_duration + 1),\n",
        "        'Precipitation_in': hyetograph\n",
        "    })\n",
        "    filename = f'hyetograph_ARI_{ari}_years_pos{position_percent}pct_{total_duration}hr.csv'\n",
        "    output_file = os.path.join(output_dir, filename)\n",
        "    df.to_csv(output_file, index=False)\n",
        "    print(f\"Hyetograph for ARI {ari} years saved to {output_file}\")\n",
        "    return output_file\n",
        "\n",
        "def plot_multiple_hyetographs(aris, position_percent, total_duration, output_dir='hyetographs'):\n",
        "    \"\"\"\n",
        "    Plots multiple hyetographs for specified ARIs on the same figure for comparison.\n",
        "    \"\"\"\n",
        "    plt.figure(figsize=(14, 7))\n",
        "    \n",
        "    for ari in aris:\n",
        "        # Ensure ARI is a string for consistent filename formatting\n",
        "        ari_str = str(ari)\n",
        "        \n",
        "        # Construct the filename based on the naming convention\n",
        "        filename = f'hyetograph_ARI_{ari_str}_years_pos{position_percent}pct_{total_duration}hr.csv'\n",
        "        filepath = os.path.join(output_dir, filename)\n",
        "        \n",
        "        # Check if the file exists\n",
        "        if not os.path.exists(filepath):\n",
        "            print(f\"Warning: File '{filename}' does not exist in the directory '{output_dir}'. Skipping this ARI.\")\n",
        "            continue\n",
        "        \n",
        "        # Read the hyetograph data\n",
        "        try:\n",
        "            hyetograph_df = pd.read_csv(filepath)\n",
        "            print(f\"Successfully read the hyetograph data from '{filename}'.\")\n",
        "        except Exception as e:\n",
        "            print(f\"Error reading the hyetograph CSV file '{filename}': {e}\")\n",
        "            continue\n",
        "        \n",
        "        # Plot the hyetograph\n",
        "        plt.bar(hyetograph_df['Time_hour'], hyetograph_df['Precipitation_in'], \n",
        "                width=0.8, edgecolor='black', alpha=0.5, label=f'ARI {ari_str} years')\n",
        "    \n",
        "    # Customize the plot\n",
        "    plt.xlabel('Time (Hour)', fontsize=14)\n",
        "    plt.ylabel('Incremental Precipitation (inches)', fontsize=14)\n",
        "    plt.title(f'Comparison of Hyetographs for ARIs {aris}\\nPosition: {position_percent}% | Duration: {total_duration} Hours', fontsize=16)\n",
        "    plt.legend()\n",
        "    plt.xticks(range(1, total_duration + 1, max(1, total_duration // 24)))  # Adjust x-ticks based on duration\n",
        "    plt.grid(axis='y', linestyle='--', alpha=0.7)\n",
        "    plt.tight_layout()\n",
        "    plt.show()"
      ]
    },
    {
      "cell_type": "markdown",
      "metadata": {},
      "source": [
        "## Generate AEP Hydrographs\n",
        "\n",
        "This cell orchestrates the entire AEP analysis process, generating hyetographs"
      ]
    },
    {
      "cell_type": "code",
      "execution_count": 4,
      "metadata": {},
      "outputs": [
        {
          "name": "stdout",
          "output_type": "stream",
          "text": [
            "Output directory is set to: hyetographs\n",
            "\n",
            "Step 1: Generating hyetographs for each AEP event...\n",
            "Successfully read the input CSV file.\n",
            "\n",
            "Precipitation Frequency Data from Atlas 14:\n"
          ]
        },
        {
          "data": {
            "text/html": "<div>\n<style scoped>\\n', '    .dataframe tbody tr th:only-of-type {\\n', '        vertical-align: middle;\\n', '    }\\n', '\\n', '    .dataframe tbody tr th {\\n', '        vertical-align: top;\\n', '    }\\n', '\\n', '    .dataframe thead th {\\n', '        text-align: right;\\n', '    }\\n', '</style>\n<table border=\"1\" class=\"dataframe\">\n  <thead>\\n', '    <tr style=\"text-align: right;\">\\n', '      <th></th>\\n', '      <th>1</th>\\n', '      <th>2</th>\\n', '      <th>5</th>\\n', '      <th>10</th>\\n', '      <th>25</th>\\n', '      <th>50</th>\\n', '      <th>100</th>\\n', '      <th>200</th>\\n', '      <th>500</th>\\n', '      <th>1000</th>\\n', '    </tr>\\n', '    <tr>\\n', '      <th>Duration_hours</th>\\n', '      <th></th>\\n', '      <th></th>\\n', '      <th></th>\\n', '      <th></th>\\n', '      <th></th>\\n', '      <th></th>\\n', '      <th></th>\\n', '      <th></th>\\n', '      <th></th>\\n', '      <th></th>\\n', '    </tr>\\n', '  </thead>\n  <tbody>\n    <tr>\\n', '      <th>0.083333</th>\\n', '      <td>0.112</td>\\n', '      <td>0.137</td>\\n', '      <td>0.174</td>\\n', '      <td>0.207</td>\\n', '      <td>0.257</td>\\n', '      <td>0.299</td>\\n', '      <td>0.347</td>\\n', '      <td>0.400</td>\\n', '      <td>0.479</td>\\n', '      <td>0.548</td>\\n', '    </tr><tr>\\n', '      <th>0.166667</th>\\n', '      <td>0.161</td>\\n', '      <td>0.197</td>\\n', '      <td>0.250</td>\\n', '      <td>0.297</td>\\n', '      <td>0.368</td>\\n', '      <td>0.429</td>\\n', '      <td>0.497</td>\\n', '      <td>0.573</td>\\n', '      <td>0.687</td>\\n', '      <td>0.785</td>\\n', '    </tr><tr>\\n', '      <th>0.250000</th>\\n', '      <td>0.194</td>\\n', '      <td>0.238</td>\\n', '      <td>0.302</td>\\n', '      <td>0.359</td>\\n', '      <td>0.446</td>\\n', '      <td>0.519</td>\\n', '      <td>0.601</td>\\n', '      <td>0.693</td>\\n', '      <td>0.830</td>\\n', '      <td>0.949</td>\\n', '    </tr><tr>\\n', '      <th>0.500000</th>\\n', '      <td>0.297</td>\\n', '      <td>0.364</td>\\n', '      <td>0.461</td>\\n', '      <td>0.548</td>\\n', '      <td>0.680</td>\\n', '      <td>0.792</td>\\n', '      <td>0.917</td>\\n', '      <td>1.060</td>\\n', '      <td>1.270</td>\\n', '      <td>1.450</td>\\n', '    </tr><tr>\\n', '      <th>1.000000</th>\\n', '      <td>0.387</td>\\n', '      <td>0.474</td>\\n', '      <td>0.601</td>\\n', '      <td>0.714</td>\\n', '      <td>0.886</td>\\n', '      <td>1.030</td>\\n', '      <td>1.200</td>\\n', '      <td>1.380</td>\\n', '      <td>1.650</td>\\n', '      <td>1.890</td>\\n', '    </tr>\n    <tr><td colspan=\"100%\" style=\"text-align:center\">[... additional rows truncated ...]</td></tr>\n  </tbody>\n</table>\n</div>",
            "text/plain": [
              "                    1      2      5     10     25     50    100    200    500  \\\n",
              "Duration_hours                                                                  \n",
              "0.083333        0.112  0.137  0.174  0.207  0.257  0.299  0.347  0.400  0.479   \n",
              "0.166667        0.161  0.197  0.250  0.297  0.368  0.429  0.497  0.573  0.687   \n",
              "0.250000        0.194  0.238  0.302  0.359  0.446  0.519  0.601  0.693  0.830   \n",
              "0.500000        0.297  0.364  0.461  0.548  0.680  0.792  0.917  1.060  1.270   \n",
              "1.000000        0.387  0.474  0.601  0.714  0.886  1.030  1.200  1.380  1.650   \n",
              "\n",
              "                 1000  \n",
              "Duration_hours         \n",
              "0.083333        0.548  \n",
              "0.166667        0.785  \n",
              "0.250000        0.949  \n",
              "0.500000        1.450  \n",
              "1.000000        1.890  "
            ]
          },
          "metadata": {},
          "output_type": "display_data"
        },
        {
          "name": "stdout",
          "output_type": "stream",
          "text": [
            "Successfully interpolated precipitation depths.\n",
            "Array D with interpolated depths\n"
          ]
        },
        {
          "data": {
            "text/plain": [
              "{'1': array([0.387     , 0.565     , 0.698     , 0.81032881, 0.9097637 ,\n",
              "        1.        , 1.06725241, 1.12915421, 1.18672896, 1.24071452,\n",
              "        1.291663  , 1.34      , 1.38376504, 1.42555845, 1.465601  ,\n",
              "        1.50407587, 1.54113699, 1.57691513, 1.61152246, 1.64505605,\n",
              "        1.67760052, 1.70923013, 1.74001053, 1.77      ]),\n",
              " '2': array([0.474     , 0.696     , 0.861     , 1.00173485, 1.12655438,\n",
              "        1.24      , 1.32663817, 1.40656557, 1.48105431, 1.55102324,\n",
              "        1.61716121, 1.68      , 1.7358511 , 1.78921515, 1.84036945,\n",
              "        1.88954422, 1.93693302, 1.98270036, 2.0269874 , 2.06991634,\n",
              "        2.11159376, 2.15211324, 2.19155749, 2.23      ]),\n",
              " '5': array([0.601     , 0.88      , 1.09      , 1.26823227, 1.42631602,\n",
              "        1.57      , 1.68020468, 1.78190194, 1.8767026 , 1.96577052,\n",
              "        2.04997837, 2.13      , 2.20194862, 2.27072756, 2.33668889,\n",
              "        2.40012502, 2.46128192, 2.52036871, 2.57756493, 2.63302604,\n",
              "        2.68688765, 2.73926892, 2.79027516, 2.84      ]),\n",
              " '10': array([0.714     , 1.04      , 1.28      , 1.48806924, 1.67248232,\n",
              "        1.84      , 1.96980479, 2.0896258 , 2.20135107, 2.30634511,\n",
              "        2.40563129, 2.5       , 2.5850431 , 2.6663577 , 2.74435723,\n",
              "        2.81938514, 2.89173037, 2.96163865, 3.02932095, 3.09496   ,\n",
              "        3.15871521, 3.22072668, 3.28111824, 3.34      ]),\n",
              " '25': array([0.886     , 1.27      , 1.56      , 1.80600987, 2.02324576,\n",
              "        2.22      , 2.3755067 , 2.51899058, 2.65272925, 2.77836814,\n",
              "        2.89714089, 3.01      , 3.11227032, 3.21005319, 3.30384632,\n",
              "        3.39406319, 3.48105164, 3.56510746, 3.64648462, 3.72540305,\n",
              "        3.80205467, 3.87660809, 3.94921236, 4.02      ]),\n",
              " '50': array([1.03      , 1.47      , 1.79      , 2.06642513, 2.30990969,\n",
              "        2.53      , 2.70364775, 2.86367306, 3.01266933, 3.15250812,\n",
              "        3.28459121, 3.41      , 3.5254837 , 3.63588878, 3.74177899,\n",
              "        3.8436226 , 3.9418135 , 4.03668664, 4.12852957, 4.21759129,\n",
              "        4.30408906, 4.38821374, 4.47013406, 4.55      ]),\n",
              " '100': array([1.2       , 1.67      , 2.03      , 2.33696025, 2.60667598,\n",
              "        2.85      , 3.04361557, 3.22193331, 3.38787273, 3.5435395 ,\n",
              "        3.69051006, 3.83      , 3.95787802, 4.080078  , 4.19723236,\n",
              "        4.30986627, 4.41842124, 4.5232726 , 4.62474248, 4.72310971,\n",
              "        4.8186175 , 4.91147946, 5.00188437, 5.09      ]),\n",
              " '200': array([1.38      , 1.9       , 2.29      , 2.62773938, 2.92365089,\n",
              "        3.19      , 3.4019457 , 3.59689072, 3.77809643, 3.94791235,\n",
              "        4.10809564, 4.26      , 4.40210378, 4.53789396, 4.66807393,\n",
              "        4.79322772, 4.91384637, 5.03034728, 5.14308866, 5.2523806 ,\n",
              "        5.35849355, 5.46166505, 5.56210502, 5.66      ]),\n",
              " '500': array([1.65      , 2.23      , 2.66      , 3.03672598, 3.36530679,\n",
              "        3.66      , 3.89825159, 4.11713497, 4.32038301, 4.51068208,\n",
              "        4.69003939, 4.86      , 5.01967244, 5.17217918, 5.31832143,\n",
              "        5.45876414, 5.59406617, 5.72470236, 5.85108011, 5.97355192,\n",
              "        6.09242518, 6.20796977, 6.32042409, 6.43      ]),\n",
              " '1000': array([1.89      , 2.5       , 2.96      , 3.36789841, 3.72261513,\n",
              "        4.04      , 4.29680227, 4.53241223, 4.7509359 , 4.95532464,\n",
              "        5.14778131, 5.33      , 5.50314324, 5.66845928, 5.82682557,\n",
              "        5.97897016, 6.12550471, 6.26694883, 6.40374815, 6.53628821,\n",
              "        6.6649051 , 6.78989383, 6.91151497, 7.03      ])}"
            ]
          },
          "metadata": {},
          "output_type": "display_data"
        },
        {
          "name": "stdout",
          "output_type": "stream",
          "text": [
            "Successfully computed incremental depths.\n",
            "Array inc_depths Contents \n"
          ]
        },
        {
          "data": {
            "text/plain": [
              "{'1': array([0.387     , 0.178     , 0.133     , 0.11232881, 0.09943489,\n",
              "        0.0902363 , 0.06725241, 0.0619018 , 0.05757475, 0.05398556,\n",
              "        0.05094849, 0.048337  , 0.04376504, 0.04179342, 0.04004255,\n",
              "        0.03847487, 0.03706112, 0.03577814, 0.03460734, 0.03353359,\n",
              "        0.03254446, 0.03162962, 0.0307804 , 0.02998947]),\n",
              " '2': array([0.474     , 0.222     , 0.165     , 0.14073485, 0.12481953,\n",
              "        0.11344562, 0.08663817, 0.07992741, 0.07448873, 0.06996894,\n",
              "        0.06613797, 0.06283879, 0.0558511 , 0.05336405, 0.0511543 ,\n",
              "        0.04917477, 0.0473888 , 0.04576733, 0.04428704, 0.04292894,\n",
              "        0.04167742, 0.04051948, 0.03944425, 0.03844251]),\n",
              " '5': array([0.601     , 0.279     , 0.21      , 0.17823227, 0.15808375,\n",
              "        0.14368398, 0.11020468, 0.10169726, 0.09480066, 0.08906792,\n",
              "        0.08420785, 0.08002163, 0.07194862, 0.06877894, 0.06596132,\n",
              "        0.06343613, 0.0611569 , 0.05908679, 0.05719622, 0.0554611 ,\n",
              "        0.05386161, 0.05238127, 0.05100624, 0.04972484]),\n",
              " '10': array([0.714     , 0.326     , 0.24      , 0.20806924, 0.18441308,\n",
              "        0.16751768, 0.12980479, 0.11982102, 0.11172527, 0.10499404,\n",
              "        0.09928618, 0.09436871, 0.0850431 , 0.0813146 , 0.07799952,\n",
              "        0.07502791, 0.07234523, 0.06990828, 0.0676823 , 0.06563904,\n",
              "        0.06375522, 0.06201147, 0.06039156, 0.05888176]),\n",
              " '25': array([0.886     , 0.384     , 0.29      , 0.24600987, 0.21723589,\n",
              "        0.19675424, 0.1555067 , 0.14348388, 0.13373867, 0.12563889,\n",
              "        0.11877275, 0.11285911, 0.10227032, 0.09778287, 0.09379313,\n",
              "        0.09021687, 0.08698845, 0.08405582, 0.08137716, 0.07891844,\n",
              "        0.07665162, 0.07455342, 0.07260427, 0.07078764]),\n",
              " '50': array([1.03      , 0.44      , 0.32      , 0.27642513, 0.24348456,\n",
              "        0.22009031, 0.17364775, 0.1600253 , 0.14899628, 0.13983879,\n",
              "        0.13208309, 0.12540879, 0.1154837 , 0.11040509, 0.10589021,\n",
              "        0.10184361, 0.0981909 , 0.09487314, 0.09184293, 0.08906172,\n",
              "        0.08649777, 0.08412468, 0.08192032, 0.07986594]),\n",
              " '100': array([1.2       , 0.47      , 0.36      , 0.30696025, 0.26971574,\n",
              "        0.24332402, 0.19361557, 0.17831774, 0.16593941, 0.15566678,\n",
              "        0.14697056, 0.13948994, 0.12787802, 0.12219998, 0.11715437,\n",
              "        0.1126339 , 0.10855497, 0.10485136, 0.10146988, 0.09836723,\n",
              "        0.09550779, 0.09286196, 0.09040491, 0.08811563]),\n",
              " '200': array([1.38      , 0.52      , 0.39      , 0.33773938, 0.29591151,\n",
              "        0.26634911, 0.2119457 , 0.19494502, 0.18120571, 0.16981592,\n",
              "        0.16018329, 0.15190436, 0.14210378, 0.13579018, 0.13017997,\n",
              "        0.12515379, 0.12061865, 0.11650091, 0.11274138, 0.10929194,\n",
              "        0.10611295, 0.1031715 , 0.10043996, 0.09789498]),\n",
              " '500': array([1.65      , 0.58      , 0.43      , 0.37672598, 0.32858081,\n",
              "        0.29469321, 0.23825159, 0.21888338, 0.20324804, 0.19029907,\n",
              "        0.17935731, 0.16996061, 0.15967244, 0.15250675, 0.14614225,\n",
              "        0.14044271, 0.13530203, 0.13063619, 0.12637775, 0.12247181,\n",
              "        0.11887326, 0.11554458, 0.11245433, 0.10957591]),\n",
              " '1000': array([1.89      , 0.61      , 0.46      , 0.40789841, 0.35471672,\n",
              "        0.31738487, 0.25680227, 0.23560997, 0.21852367, 0.20438874,\n",
              "        0.19245668, 0.18221869, 0.17314324, 0.16531603, 0.15836629,\n",
              "        0.15214459, 0.14653456, 0.14144411, 0.13679932, 0.13254006,\n",
              "        0.12861689, 0.12498873, 0.12162114, 0.11848503])}"
            ]
          },
          "metadata": {},
          "output_type": "display_data"
        },
        {
          "name": "stdout",
          "output_type": "stream",
          "text": [
            "Hyetograph for ARI 2 years saved to hyetographs\\hyetograph_ARI_2_years_pos50pct_24hr.csv\n",
            "Hyetograph for ARI 5 years saved to hyetographs\\hyetograph_ARI_5_years_pos50pct_24hr.csv\n",
            "Hyetograph for ARI 10 years saved to hyetographs\\hyetograph_ARI_10_years_pos50pct_24hr.csv\n",
            "Hyetograph for ARI 25 years saved to hyetographs\\hyetograph_ARI_25_years_pos50pct_24hr.csv\n",
            "Hyetograph for ARI 50 years saved to hyetographs\\hyetograph_ARI_50_years_pos50pct_24hr.csv\n",
            "Hyetograph for ARI 100 years saved to hyetographs\\hyetograph_ARI_100_years_pos50pct_24hr.csv\n",
            "\n",
            "All hyetographs have been generated and saved.\n",
            "Successfully read the hyetograph data from 'hyetograph_ARI_2_years_pos50pct_24hr.csv'.\n",
            "Successfully read the hyetograph data from 'hyetograph_ARI_5_years_pos50pct_24hr.csv'.\n",
            "Successfully read the hyetograph data from 'hyetograph_ARI_10_years_pos50pct_24hr.csv'.\n",
            "Successfully read the hyetograph data from 'hyetograph_ARI_25_years_pos50pct_24hr.csv'.\n",
            "Successfully read the hyetograph data from 'hyetograph_ARI_50_years_pos50pct_24hr.csv'.\n",
            "Successfully read the hyetograph data from 'hyetograph_ARI_100_years_pos50pct_24hr.csv'.\n"
          ]
        },
        {
          "data": {
            "text/plain": [
              "<Figure size 1400x700 with 1 Axes>"
            ]
          },
          "metadata": {},
          "output_type": "display_data"
        }
      ],
      "source": [
        "\n",
        "\"\"\"\n",
        "Main function to run the entire AEP analysis process.\n",
        "\"\"\"\n",
        "# Set the paths and parameters\n",
        "input_csv = 'data/PF_Depth_English_PDS_DavisCA.csv'  # Path to NOAA Atlas 14 data\n",
        "output_dir = 'hyetographs'  # Directory for saving hyetographs\n",
        "position_percent = 50  # Position percentage for the maximum incremental depth block\n",
        "total_duration = 24  # Storm duration in hours\n",
        "base_plan = \"02\"  # Base plan to clone\n",
        "\n",
        "# Set the AEP events (return periods in years)\n",
        "aep_events = [2, 5, 10, 25, 50, 100]\n",
        "\n",
        "# Ensure the output directory exists\n",
        "Path(output_dir).mkdir(parents=True, exist_ok=True)\n",
        "print(f\"Output directory is set to: {output_dir}\")\n",
        "\n",
        "#-------------------------------------------------------------------------\n",
        "# Step 1: Generate hyetographs for each AEP event\n",
        "#-------------------------------------------------------------------------\n",
        "print(\"\\nStep 1: Generating hyetographs for each AEP event...\")\n",
        "\n",
        "try:\n",
        "    # Read precipitation data\n",
        "    df = read_precipitation_data(input_csv)\n",
        "    print(\"Successfully read the input CSV file.\")\n",
        "    \n",
        "    # Display the first few rows of the DataFrame to verify\n",
        "    print(\"\\nPrecipitation Frequency Data from Atlas 14:\")\n",
        "    display.display(df.head())\n",
        "    \n",
        "    # Interpolate depths\n",
        "    D = interpolate_depths(df, total_duration)\n",
        "    print(\"Successfully interpolated precipitation depths.\")\n",
        "\n",
        "    print(\"Array D with interpolated depths\")\n",
        "    display.display(D)\n",
        "    \n",
        "    # Compute incremental depths\n",
        "    inc_depths = compute_incremental_depths(D, total_duration)\n",
        "    print(\"Successfully computed incremental depths.\")\n",
        "    \n",
        "    # Show Incremental Depths\n",
        "    print(\"Array inc_depths Contents \")\n",
        "    display.display(inc_depths)\n",
        "\n",
        "    # Generate and save hyetographs for each AEP\n",
        "    hyetograph_files = {}\n",
        "    for ari in aep_events:\n",
        "        ari_str = str(ari)\n",
        "        if ari_str in inc_depths:\n",
        "            hyetograph = generate_hyetograph(inc_depths[ari_str], position_percent, total_duration)\n",
        "            file_path = save_hyetograph(hyetograph, ari_str, output_dir, position_percent, total_duration)\n",
        "            hyetograph_files[ari_str] = file_path\n",
        "        else:\n",
        "            print(f\"Warning: ARI {ari_str} not found in the data. Skipping.\")\n",
        "    \n",
        "    print(\"\\nAll hyetographs have been generated and saved.\")\n",
        "    \n",
        "    # Plot the hyetographs for comparison\n",
        "    plot_multiple_hyetographs(aep_events, position_percent, total_duration, output_dir)\n",
        "    \n",
        "except Exception as e:\n",
        "    print(f\"Error generating hyetographs: {e}\")\n",
        "    raise"
      ]
    },
    {
      "cell_type": "code",
      "execution_count": 5,
      "metadata": {},
      "outputs": [
        {
          "name": "stderr",
          "output_type": "stream",
          "text": [
            "2025-04-10 05:05:43 - ras_commander.RasPrj - INFO - Initializing global 'ras' object via init_ras_project function.\n",
            "2025-04-10 05:05:43 - ras_commander.RasMap - INFO - Successfully parsed RASMapper file: d:\\GitHub\\ras-commander\\examples\\example_projects\\Davis\\DavisStormSystem.rasmap\n",
            "2025-04-10 05:05:43 - ras_commander.RasPrj - INFO - Project initialized. ras_object project folder: d:\\GitHub\\ras-commander\\examples\\example_projects\\Davis\n"
          ]
        },
        {
          "name": "stdout",
          "output_type": "stream",
          "text": [
            "\n",
            "Step 2: Initializing the HEC-RAS ras...\n",
            "Initialized HEC-RAS project: DavisStormSystem\n",
            "\n",
            "Existing plans in the project:\n"
          ]
        },
        {
          "data": {
            "text/html": "<div>\n<style scoped>\\n', '    .dataframe tbody tr th:only-of-type {\\n', '        vertical-align: middle;\\n', '    }\\n', '\\n', '    .dataframe tbody tr th {\\n', '        vertical-align: top;\\n', '    }\\n', '\\n', '    .dataframe thead th {\\n', '        text-align: right;\\n', '    }\\n', '</style>\n<table border=\"1\" class=\"dataframe\">\n  <thead>\\n', '    <tr style=\"text-align: right;\">\\n', '      <th></th>\\n', '      <th>plan_number</th>\\n', '      <th>unsteady_number</th>\\n', '      <th>geometry_number</th>\\n', '      <th>Plan Title</th>\\n', '      <th>Program Version</th>\\n', '      <th>Short Identifier</th>\\n', '      <th>Simulation Date</th>\\n', '      <th>Computation Interval</th>\\n', '      <th>Mapping Interval</th>\\n', '      <th>Run HTab</th>\\n', '      <th>...</th>\\n', '      <th>DSS File</th>\\n', '      <th>Friction Slope Method</th>\\n', '      <th>UNET D2 SolverType</th>\\n', '      <th>UNET D2 Name</th>\\n', '      <th>HDF_Results_Path</th>\\n', '      <th>Geom File</th>\\n', '      <th>Geom Path</th>\\n', '      <th>Flow File</th>\\n', '      <th>Flow Path</th>\\n', '      <th>full_path</th>\\n', '    </tr>\\n', '  </thead>\n  <tbody>\n    <tr>\\n', '      <th>0</th>\\n', '      <td>02</td>\\n', '      <td>01</td>\\n', '      <td>02</td>\\n', '      <td>Full System ROM with Pump</td>\\n', '      <td>6.60</td>\\n', '      <td>Full System ROM with Pump</td>\\n', '      <td>10JAN2000,1200,11JAN2000,2400</td>\\n', '      <td>12SEC</td>\\n', '      <td>10MIN</td>\\n', '      <td>-1</td>\\n', '      <td>...</td>\\n', '      <td>dss</td>\\n', '      <td>1</td>\\n', '      <td>PARDISO (Direct)</td>\\n', '      <td>area2</td>\\n', '      <td>None</td>\\n', '      <td>02</td>\\n', '      <td>d:\\\\GitHub\\\\ras-commander\\\\examples\\\\example_proje...</td>\\n', '      <td>01</td>\\n', '      <td>d:\\\\GitHub\\\\ras-commander\\\\examples\\\\example_proje...</td>\\n', '      <td>d:\\\\GitHub\\\\ras-commander\\\\examples\\\\example_proje...</td>\\n', '    </tr>\n    <tr><td colspan=\"100%\" style=\"text-align:center\">[... additional rows truncated ...]</td></tr>\n  </tbody>\n</table>\n</div>",
            "text/plain": [
              "  plan_number unsteady_number geometry_number                 Plan Title  \\\n",
              "0          02              01              02  Full System ROM with Pump   \n",
              "\n",
              "  Program Version           Short Identifier                Simulation Date  \\\n",
              "0            6.60  Full System ROM with Pump  10JAN2000,1200,11JAN2000,2400   \n",
              "\n",
              "  Computation Interval Mapping Interval Run HTab  ... DSS File  \\\n",
              "0                12SEC            10MIN       -1  ...      dss   \n",
              "\n",
              "  Friction Slope Method UNET D2 SolverType UNET D2 Name HDF_Results_Path  \\\n",
              "0                     1   PARDISO (Direct)        area2             None   \n",
              "\n",
              "  Geom File                                          Geom Path  Flow File  \\\n",
              "0        02  d:\\GitHub\\ras-commander\\examples\\example_proje...         01   \n",
              "\n",
              "                                           Flow Path  \\\n",
              "0  d:\\GitHub\\ras-commander\\examples\\example_proje...   \n",
              "\n",
              "                                           full_path  \n",
              "0  d:\\GitHub\\ras-commander\\examples\\example_proje...  \n",
              "\n",
              "[1 rows x 29 columns]"
            ]
          },
          "metadata": {},
          "output_type": "display_data"
        }
      ],
      "source": [
        "#-------------------------------------------------------------------------\n",
        "# Initialize the HEC-RAS project\n",
        "#-------------------------------------------------------------------------\n",
        "print(\"\\nStep 2: Initializing the HEC-RAS ras...\")\n",
        "\n",
        "# Define the path to the Davis project\n",
        "current_dir = Path.cwd()\n",
        "pipes_ex_path = current_dir / \"example_projects\" / \"Davis\"\n",
        "\n",
        "# Check if the project exists\n",
        "if not pipes_ex_path.exists():\n",
        "    # Extract the project if needed\n",
        "    RasExamples.extract_project([\"Davis\"])\n",
        "\n",
        "# Initialize the RAS project\n",
        "init_ras_project(pipes_ex_path, \"6.6\")\n",
        "print(f\"Initialized HEC-RAS project: {ras.project_name}\")\n",
        "\n",
        "# Display the existing plans\n",
        "print(\"\\nExisting plans in the project:\")\n",
        "display.display(ras.plan_df)"
      ]
    },
    {
      "cell_type": "code",
      "execution_count": 6,
      "metadata": {},
      "outputs": [
        {
          "data": {
            "text/html": "<div>\n<style scoped>\\n', '    .dataframe tbody tr th:only-of-type {\\n', '        vertical-align: middle;\\n', '    }\\n', '\\n', '    .dataframe tbody tr th {\\n', '        vertical-align: top;\\n', '    }\\n', '\\n', '    .dataframe thead th {\\n', '        text-align: right;\\n', '    }\\n', '</style>\n<table border=\"1\" class=\"dataframe\">\n  <thead>\\n', '    <tr style=\"text-align: right;\">\\n', '      <th></th>\\n', '      <th>plan_number</th>\\n', '      <th>unsteady_number</th>\\n', '      <th>geometry_number</th>\\n', '      <th>Plan Title</th>\\n', '      <th>Program Version</th>\\n', '      <th>Short Identifier</th>\\n', '      <th>Simulation Date</th>\\n', '      <th>Computation Interval</th>\\n', '      <th>Mapping Interval</th>\\n', '      <th>Run HTab</th>\\n', '      <th>...</th>\\n', '      <th>DSS File</th>\\n', '      <th>Friction Slope Method</th>\\n', '      <th>UNET D2 SolverType</th>\\n', '      <th>UNET D2 Name</th>\\n', '      <th>HDF_Results_Path</th>\\n', '      <th>Geom File</th>\\n', '      <th>Geom Path</th>\\n', '      <th>Flow File</th>\\n', '      <th>Flow Path</th>\\n', '      <th>full_path</th>\\n', '    </tr>\\n', '  </thead>\n  <tbody>\n    <tr>\\n', '      <th>0</th>\\n', '      <td>02</td>\\n', '      <td>01</td>\\n', '      <td>02</td>\\n', '      <td>Full System ROM with Pump</td>\\n', '      <td>6.60</td>\\n', '      <td>Full System ROM with Pump</td>\\n', '      <td>10JAN2000,1200,11JAN2000,2400</td>\\n', '      <td>12SEC</td>\\n', '      <td>10MIN</td>\\n', '      <td>-1</td>\\n', '      <td>...</td>\\n', '      <td>dss</td>\\n', '      <td>1</td>\\n', '      <td>PARDISO (Direct)</td>\\n', '      <td>area2</td>\\n', '      <td>None</td>\\n', '      <td>02</td>\\n', '      <td>d:\\\\GitHub\\\\ras-commander\\\\examples\\\\example_proje...</td>\\n', '      <td>01</td>\\n', '      <td>d:\\\\GitHub\\\\ras-commander\\\\examples\\\\example_proje...</td>\\n', '      <td>d:\\\\GitHub\\\\ras-commander\\\\examples\\\\example_proje...</td>\\n', '    </tr>\n    <tr><td colspan=\"100%\" style=\"text-align:center\">[... additional rows truncated ...]</td></tr>\n  </tbody>\n</table>\n</div>",
            "text/plain": "['  plan_number unsteady_number geometry_number                 Plan Title  \\\\\\n', '0          02              01              02  Full System ROM with Pump   \\n', '\\n', '  Program Version           Short Identifier                Simulation Date  \\\\\\n', '0            6.60  Full System ROM with Pump  10JAN2000,1200,11JAN2000,2400   \\n', '\\n', '  Computation Interval Mapping Interval Run HTab  ... DSS File  \\\\\\n', '0                12SEC            10MIN       -1  ...      dss   \\n', '\\n', '  Friction Slope Method UNET D2 SolverType UNET D2 Name HDF_Results_Path  \\\\\\n', '0                     1   PARDISO (Direct)        area2             None   \\n', '\\n', '  Geom File                                          Geom Path  Flow File  \\\\\\n', '0        02  d:\\\\GitHub\\\\ras-commander\\\\examples\\\\example_proje...         01   \\n', '\\n', '                                           Flow Path  \\\\\\n', '0  d:\\\\GitHub\\\\ras-commander\\\\examples\\\\example_proje...   \\n', '\\n', '                                           full_path  \\n', '0  d:\\\\GitHub\\\\ras-commander\\\\examples\\\\example_proje...  \\n', '\\n', '[1 rows x 29 columns]']"
          },
          "execution_count": 6,
          "metadata": {},
          "output_type": "execute_result"
        }
      ],
      "source": [
        "ras.plan_df"
      ]
    },
    {
      "cell_type": "code",
      "execution_count": 7,
      "metadata": {},
      "outputs": [
        {
          "data": {
            "text/html": "<div>\n<style scoped>\\n', '    .dataframe tbody tr th:only-of-type {\\n', '        vertical-align: middle;\\n', '    }\\n', '\\n', '    .dataframe tbody tr th {\\n', '        vertical-align: top;\\n', '    }\\n', '\\n', '    .dataframe thead th {\\n', '        text-align: right;\\n', '    }\\n', '</style>\n<table border=\"1\" class=\"dataframe\">\n  <thead>\\n', '    <tr style=\"text-align: right;\">\\n', '      <th></th>\\n', '      <th>unsteady_number</th>\\n', '      <th>full_path</th>\\n', '      <th>geometry_number</th>\\n', '      <th>Flow Title</th>\\n', '      <th>Program Version</th>\\n', '      <th>Use Restart</th>\\n', '      <th>Precipitation Mode</th>\\n', '      <th>Wind Mode</th>\\n', '      <th>Met BC=Precipitation|Mode</th>\\n', '      <th>Met BC=Evapotranspiration|Mode</th>\\n', '      <th>Met BC=Precipitation|Expanded View</th>\\n', '      <th>Met BC=Precipitation|Constant Units</th>\\n', '      <th>Met BC=Precipitation|Gridded Source</th>\\n', '    </tr>\\n', '  </thead>\n  <tbody>\n    <tr>\\n', '      <th>0</th>\\n', '      <td>01</td>\\n', '      <td>d:\\\\GitHub\\\\ras-commander\\\\examples\\\\example_proje...</td>\\n', '      <td>None</td>\\n', '      <td>Full System Rain w/ Pump</td>\\n', '      <td>6.60</td>\\n', '      <td>0</td>\\n', '      <td>Disable</td>\\n', '      <td>No Wind Forces</td>\\n', '      <td>Constant</td>\\n', '      <td>None</td>\\n', '      <td>-1</td>\\n', '      <td>in/hr</td>\\n', '      <td>DSS</td>\\n', '    </tr>\n    <tr><td colspan=\"100%\" style=\"text-align:center\">[... additional rows truncated ...]</td></tr>\n  </tbody>\n</table>\n</div>",
            "text/plain": "['  unsteady_number                                          full_path  \\\\\\n', '0              01  d:\\\\GitHub\\\\ras-commander\\\\examples\\\\example_proje...   \\n', '\\n', '  geometry_number                Flow Title Program Version Use Restart  \\\\\\n', '0            None  Full System Rain w/ Pump            6.60           0   \\n', '\\n', '  Precipitation Mode       Wind Mode Met BC=Precipitation|Mode  \\\\\\n', '0            Disable  No Wind Forces                  Constant   \\n', '\\n', '  Met BC=Evapotranspiration|Mode Met BC=Precipitation|Expanded View  \\\\\\n', '0                           None                                 -1   \\n', '\\n', '  Met BC=Precipitation|Constant Units Met BC=Precipitation|Gridded Source  \\n', '0                               in/hr                                 DSS  ']"
          },
          "execution_count": 7,
          "metadata": {},
          "output_type": "execute_result"
        }
      ],
      "source": [
        "ras.unsteady_df"
      ]
    },
    {
      "cell_type": "code",
      "execution_count": 8,
      "metadata": {},
      "outputs": [
        {
          "name": "stdout",
          "output_type": "stream",
          "text": [
            "  unsteady_number  boundary_condition_number river_reach_name river_station  \\\n",
            "0              01                          1                                  \n",
            "1              01                          2                                  \n",
            "\n",
            "  storage_area_name pump_station_name       bc_type hydrograph_type  \\\n",
            "0                                      Normal Depth            None   \n",
            "1                                           Unknown            None   \n",
            "\n",
            "   hydrograph_num_values Interval  ...                Flow Title  \\\n",
            "0                      0      NaN  ...  Full System Rain w/ Pump   \n",
            "1                      0    1HOUR  ...  Full System Rain w/ Pump   \n",
            "\n",
            "  Program Version Use Restart Precipitation Mode       Wind Mode  \\\n",
            "0            6.60           0            Disable  No Wind Forces   \n",
            "1            6.60           0            Disable  No Wind Forces   \n",
            "\n",
            "  Met BC=Precipitation|Mode Met BC=Evapotranspiration|Mode  \\\n",
            "0                  Constant                           None   \n",
            "1                  Constant                           None   \n",
            "\n",
            "  Met BC=Precipitation|Expanded View Met BC=Precipitation|Constant Units  \\\n",
            "0                                 -1                               in/hr   \n",
            "1                                 -1                               in/hr   \n",
            "\n",
            "  Met BC=Precipitation|Gridded Source  \n",
            "0                                 DSS  \n",
            "1                                 DSS  \n",
            "\n",
            "[2 rows x 28 columns]\n"
          ]
        }
      ],
      "source": [
        "print(ras.boundaries_df)"
      ]
    },
    {
      "cell_type": "code",
      "execution_count": 9,
      "metadata": {},
      "outputs": [
        {
          "name": "stdout",
          "output_type": "stream",
          "text": [
            "Unsteady flow file path: d:\\GitHub\\ras-commander\\examples\\example_projects\\Davis\\DavisStormSystem.u01\n"
          ]
        }
      ],
      "source": [
        "# Get the path to unsteady flow file associated with Plan \"01\"\n",
        "unsteady_file = RasPlan.get_unsteady_path(\"01\")\n",
        "print(f\"Unsteady flow file path: {unsteady_file}\")"
      ]
    },
    {
      "cell_type": "code",
      "execution_count": 10,
      "metadata": {},
      "outputs": [
        {
          "data": {
            "text/plain": "[\"'d:\\\\\\\\GitHub\\\\\\\\ras-commander\\\\\\\\examples\\\\\\\\example_projects\\\\\\\\Davis\\\\\\\\DavisStormSystem.u01'\"]"
          },
          "execution_count": 10,
          "metadata": {},
          "output_type": "execute_result"
        }
      ],
      "source": [
        "unsteady_file"
      ]
    },
    {
      "cell_type": "code",
      "execution_count": 11,
      "metadata": {},
      "outputs": [
        {
          "name": "stderr",
          "output_type": "stream",
          "text": [
            "2025-04-10 05:05:43 - ras_commander.RasUnsteady - INFO - Successfully extracted boundaries and tables from d:\\GitHub\\ras-commander\\examples\\example_projects\\Davis\\DavisStormSystem.u01\n"
          ]
        },
        {
          "name": "stdout",
          "output_type": "stream",
          "text": [
            "Extracted 2 boundary conditions from the unsteady flow file.\n"
          ]
        }
      ],
      "source": [
        "# Extract boundary conditions and tables\n",
        "boundaries_df = RasUnsteady.extract_boundary_and_tables(unsteady_file)\n",
        "print(f\"Extracted {len(boundaries_df)} boundary conditions from the unsteady flow file.\")"
      ]
    },
    {
      "cell_type": "code",
      "execution_count": 12,
      "metadata": {},
      "outputs": [
        {
          "data": {
            "text/html": "<div>\n<style scoped>\\n', '    .dataframe tbody tr th:only-of-type {\\n', '        vertical-align: middle;\\n', '    }\\n', '\\n', '    .dataframe tbody tr th {\\n', '        vertical-align: top;\\n', '    }\\n', '\\n', '    .dataframe thead th {\\n', '        text-align: right;\\n', '    }\\n', '</style>\n<table border=\"1\" class=\"dataframe\">\n  <thead>\\n', '    <tr style=\"text-align: right;\">\\n', '      <th></th>\\n', '      <th>DSS File</th>\\n', '      <th>Tables</th>\\n', '      <th>River Name</th>\\n', '      <th>Reach Name</th>\\n', '      <th>River Station</th>\\n', '      <th>Downstream River Station</th>\\n', '      <th>Storage Area Connection</th>\\n', '      <th>Storage Area Name</th>\\n', '      <th>Pump Station Name</th>\\n', '      <th>Blank 1</th>\\n', '      <th>Blank 2</th>\\n', '    </tr>\\n', '  </thead>\n  <tbody>\n    <tr>\\n', '      <th>0</th>\\n', '      <td></td>\\n', '      <td>{}</td>\\n', '      <td></td>\\n', '      <td></td>\\n', '      <td></td>\\n', '      <td></td>\\n', '      <td></td>\\n', '      <td>DS Channel</td>\\n', '      <td></td>\\n', '      <td>DS Normal</td>\\n', '      <td></td>\\n', '    </tr><tr>\\n', '      <th>1</th>\\n', '      <td></td>\\n', '      <td>{}</td>\\n', '      <td></td>\\n', '      <td></td>\\n', '      <td></td>\\n', '      <td></td>\\n', '      <td></td>\\n', '      <td>area2</td>\\n', '      <td></td>\\n', '      <td></td>\\n', '      <td></td>\\n', '    </tr>\n    <tr><td colspan=\"100%\" style=\"text-align:center\">[... additional rows truncated ...]</td></tr>\n  </tbody>\n</table>\n</div>",
            "text/plain": "['  DSS File Tables River Name Reach Name River Station  \\\\\\n', '0              {}                                       \\n', '1              {}                                       \\n', '\\n', '  Downstream River Station Storage Area Connection Storage Area Name  \\\\\\n', '0                                                         DS Channel   \\n', '1                                                              area2   \\n', '\\n', '  Pump Station Name    Blank 1 Blank 2  \\n', '0                    DS Normal          \\n', '1                                       ']"
          },
          "execution_count": 12,
          "metadata": {},
          "output_type": "execute_result"
        }
      ],
      "source": [
        "boundaries_df"
      ]
    },
    {
      "cell_type": "code",
      "execution_count": 13,
      "metadata": {},
      "outputs": [
        {
          "name": "stdout",
          "output_type": "stream",
          "text": [
            "Contents of unsteady flow file d:\\GitHub\\ras-commander\\examples\\example_projects\\Davis\\DavisStormSystem.u01:\n",
            "--------------------------------------------------------------------------------\n",
            "Flow Title=Full System Rain w/ Pump\n",
            "Program Version=6.60\n",
            "Use Restart= 0 \n",
            "Boundary Location=                ,                ,        ,        ,                ,DS Channel      ,                ,DS Normal                       ,                                \n",
            "Friction Slope=0.003,0\n",
            "Boundary Location=                ,                ,        ,        ,                ,area2           ,                ,                                ,                                \n",
            "Interval=1HOUR\n",
            "Precipitation Hydrograph= 21 \n",
            "      .1      .1      .1     .25     .25     .25     .25       0       0       0\n",
            "       0       0       0       0       0       0       0       0       0       0\n",
            "       0\n",
            "DSS Path=\n",
            "Use DSS=False\n",
            "Use Fixed Start Time=False\n",
            "Fixed Start Date/Time=,\n",
            "Is Critical Boundary=False\n",
            "Critical Boundary Flow=\n",
            "Met Point Raster Parameters=,,,,\n",
            "Precipitation Mode=Disable\n",
            "Wind Mode=No Wind Forces\n",
            "Air Density Mode=Specified\n",
            "Wave Mode=No Wave Forcing\n",
            "Met BC=Precipitation|Mode=Constant\n",
            "Met BC=Precipitation|Expanded View=-1\n",
            "Met BC=Precipitation|Constant Value=1\n",
            "Met BC=Precipitation|Constant Units=in/hr\n",
            "Met BC=Precipitation|Point Interpolation=\n",
            "Met BC=Precipitation|Gridded Source=DSS\n",
            "Met BC=Precipitation|Gridded Interpolation=\n",
            "Met BC=Evapotranspiration|Mode=None\n",
            "Met BC=Evapotranspiration|Expanded View=0\n",
            "Met BC=Evapotranspiration|Constant Units=mm/hr\n",
            "Met BC=Evapotranspiration|Point Interpolation=Nearest\n",
            "Met BC=Evapotranspiration|Gridded Source=DSS\n",
            "Met BC=Evapotranspiration|Gridded Interpolation=\n",
            "Met BC=Wind Speed|Expanded View=0\n",
            "Met BC=Wind Speed|Point Interpolation=Nearest\n",
            "Met BC=Wind Speed|Gridded Source=DSS\n",
            "Met BC=Wind Speed|Gridded Interpolation=\n",
            "Met BC=Wind Direction|Expanded View=0\n",
            "Met BC=Wind Direction|Point Interpolation=Nearest\n",
            "Met BC=Wind Direction|Gridded Source=DSS\n",
            "Met BC=Wind Direction|Gridded Interpolation=\n",
            "Met BC=Wind Velocity X|Expanded View=0\n",
            "Met BC=Wind Velocity X|Point Interpolation=Nearest\n",
            "Met BC=Wind Velocity X|Gridded Source=DSS\n",
            "Met BC=Wind Velocity X|Gridded Interpolation=\n",
            "Met BC=Wind Velocity Y|Expanded View=0\n",
            "Met BC=Wind Velocity Y|Point Interpolation=Nearest\n",
            "Met BC=Wind Velocity Y|Gridded Source=DSS\n",
            "Met BC=Wind Velocity Y|Gridded Interpolation=\n",
            "Met BC=Wave Forcing X|Expanded View=0\n",
            "Met BC=Wave Forcing X|Point Interpolation=Nearest\n",
            "Met BC=Wave Forcing X|Gridded Source=DSS\n",
            "Met BC=Wave Forcing X|Gridded Interpolation=\n",
            "Met BC=Wave Forcing Y|Expanded View=0\n",
            "Met BC=Wave Forcing Y|Point Interpolation=Nearest\n",
            "Met BC=Wave Forcing Y|Gridded Source=DSS\n",
            "Met BC=Wave Forcing Y|Gridded Interpolation=\n",
            "Met BC=Air Density|Mode=Constant\n",
            "Met BC=Air Density|Expanded View=0\n",
            "Met BC=Air Density|Constant Value=1.225\n",
            "Met BC=Air Density|Constant Units=kg/m3\n",
            "Met BC=Air Density|Point Interpolation=Nearest\n",
            "Met BC=Air Density|Gridded Source=DSS\n",
            "Met BC=Air Density|Gridded Interpolation=\n",
            "Met BC=Air Temperature|Expanded View=0\n",
            "Met BC=Air Temperature|Point Interpolation=Nearest\n",
            "Met BC=Air Temperature|Gridded Source=DSS\n",
            "Met BC=Air Temperature|Gridded Interpolation=\n",
            "Met BC=Humidity|Expanded View=0\n",
            "Met BC=Humidity|Point Interpolation=Nearest\n",
            "Met BC=Humidity|Gridded Source=DSS\n",
            "Met BC=Humidity|Gridded Interpolation=\n",
            "Met BC=Air Pressure|Mode=Constant\n",
            "Met BC=Air Pressure|Expanded View=0\n",
            "Met BC=Air Pressure|Constant Value=1013.2\n",
            "Met BC=Air Pressure|Constant Units=mb\n",
            "Met BC=Air Pressure|Point Interpolation=\n",
            "Met BC=Air Pressure|Gridded Source=DSS\n",
            "Met BC=Air Pressure|Gridded Interpolation=\n",
            "Non-Newtonian Method= 0 ,        \n",
            "Non-Newtonian Constant Vol Conc=0\n",
            "Non-Newtonian Yield Method= 0 ,        \n",
            "Non-Newtonian Yield Coef=0, 0\n",
            "User Yeild=   0\n",
            "Non-Newtonian Sed Visc= 0 ,        \n",
            "Non-Newtonian Obrian B=0\n",
            "User Viscosity=0\n",
            "User Viscosity Ratio=0\n",
            "Herschel-Bulkley Coef=0, 0\n",
            "Clastic Method= 0 ,        \n",
            "Coulomb Phi=0\n",
            "Voellmy X=0\n",
            "Non-Newtonian Hindered FV= 0 \n",
            "Non-Newtonian FV K=0\n",
            "Non-Newtonian ds=0\n",
            "Non-Newtonian Max Cv=0\n",
            "Non-Newtonian Bulking Method= 0 , \n",
            "Non-Newtonian High C Transport= 0 , \n",
            "Lava Activation= 0 \n",
            "Temperature=1300,15,,15,14,980\n",
            "Heat Ballance=1,1200,0.5,1,70,0.95\n",
            "Viscosity=1000,,,\n",
            "Yield Strength=,,,\n",
            "Consistency Factor=,,,\n",
            "Profile Coefficient=4,1.3,\n",
            "Lava Param=,2500,\n",
            "\n",
            "--------------------------------------------------------------------------------\n"
          ]
        }
      ],
      "source": [
        "# Display the contents of Unsteady File\n",
        "with open(unsteady_file, 'r') as f:\n",
        "    unsteady_contents = f.read()\n",
        "print(f\"Contents of unsteady flow file {unsteady_file}:\")\n",
        "print(\"-\" * 80)\n",
        "print(unsteady_contents)\n",
        "print(\"-\" * 80)"
      ]
    },
    {
      "cell_type": "markdown",
      "metadata": {},
      "source": [
        "### To implement AEP event hydrographs, we will edit the Precipitation Hydrograph table\n",
        "We will need to edit both the number of values, as well as replacing the existing fixed-width table.  "
      ]
    },
    {
      "cell_type": "markdown",
      "metadata": {},
      "source": [
        "#### Define HEC-RAS Plan and Unsteady Flow File Functions\n",
        "\n",
        "These functions handle creating HEC-RAS plan files and unsteady flow files for each AEP event. They apply the generated hyetographs to the boundary conditions."
      ]
    },
    {
      "cell_type": "code",
      "execution_count": 14,
      "metadata": {},
      "outputs": [],
      "source": [
        "def create_plan_for_aep(base_plan, aep_years, duration_hours, hyetograph_file, project):\n",
        "    \"\"\"\n",
        "    Creates a new plan for a specific AEP event.\n",
        "    \"\"\"\n",
        "    # Create plan name and short ID\n",
        "    plan_name = f\"{aep_years}YR-{duration_hours}HR\"\n",
        "    \n",
        "    print(f\"Creating new plan '{plan_name}'...\")\n",
        "    \n",
        "    # Clone the base plan\n",
        "    new_plan_number = RasPlan.clone_plan(base_plan, new_plan_shortid=plan_name, ras_object=project)\n",
        "    print(f\"Created new plan: {new_plan_number}\")\n",
        "    \n",
        "    # Clone the unsteady flow file from the base plan\n",
        "    base_unsteady = None\n",
        "    for _, row in project.plan_df.iterrows():\n",
        "        if row['plan_number'] == base_plan:\n",
        "            base_unsteady = row.get('unsteady_number', None)\n",
        "            \n",
        "    if base_unsteady is None:\n",
        "        raise ValueError(f\"Could not find unsteady flow file for base plan {base_plan}\")\n",
        "\n",
        "    \n",
        "    new_unsteady_number = RasPlan.clone_unsteady(base_unsteady, ras_object=project)\n",
        "    print(f\"Created new unsteady flow file: {new_unsteady_number}\")\n",
        "    \n",
        "    # Update the unsteady flow file with the hyetograph data\n",
        "    unsteady_file_path = RasPlan.get_unsteady_path(new_unsteady_number, ras_object=project)\n",
        "    \n",
        "    \n",
        "    # Update the flow title to reflect the AEP event\n",
        "    new_title = f\"{aep_years}YR-{duration_hours}HR Storm\"\n",
        "    RasUnsteady.update_flow_title(unsteady_file_path, new_title, ras_object=project)\n",
        "    print(f\"Updated unsteady flow title to: {new_title}\")\n",
        "    \n",
        "    # Modify the unsteady flow file with the hyetograph data\n",
        "    success = modify_unsteady_flow_with_hyetograph(unsteady_file_path, hyetograph_file, project)\n",
        "    if success:\n",
        "        print(f\"Successfully applied hyetograph data from {hyetograph_file} to unsteady flow file\")\n",
        "    else:\n",
        "        print(f\"Warning: Failed to apply hyetograph data. Unsteady flow file may need manual modification.\")\n",
        "    \n",
        "    # Assign the unsteady flow file to the plan\n",
        "    RasPlan.set_unsteady(new_plan_number, new_unsteady_number, ras_object=project)\n",
        "    print(f\"Assigned unsteady flow file {new_unsteady_number} to plan {new_plan_number}\")\n",
        "    '''\n",
        "    # Update the plan description\n",
        "    description = f\"AEP {aep_years}-year, {duration_hours}-hour storm\\n\"\n",
        "    description += f\"Created: {datetime.now().strftime('%Y-%m-%d %H:%M:%S')}\\n\"\n",
        "    description += f\"Based on plan {base_plan}\\n\"\n",
        "    description += f\"Hyetograph from: {os.path.basename(hyetograph_file)}\"\n",
        "    \n",
        "    RasPlan.update_plan_description(new_plan_number, description, ras_object=project)\n",
        "    print(f\"Updated plan description for plan {new_plan_number}\")\n",
        "    \n",
        "    return new_plan_number, new_unsteady_number\n",
        "    '''"
      ]
    },
    {
      "cell_type": "code",
      "execution_count": 15,
      "metadata": {},
      "outputs": [],
      "source": [
        "def modify_unsteady_flow_with_hyetograph(unsteady_file_path, hyetograph_file, project):\n",
        "    \"\"\"\n",
        "    Modifies an unsteady flow file to incorporate hyetograph data as precipitation.\n",
        "    \n",
        "    Parameters:\n",
        "    - unsteady_file_path: Path to the unsteady flow file\n",
        "    - hyetograph_file: Path to the hyetograph data CSV\n",
        "    - project: RAS project object\n",
        "    \n",
        "    Returns:\n",
        "    - Boolean indicating success\n",
        "    \"\"\"\n",
        "    try:\n",
        "        # Read the hyetograph data\n",
        "        hyetograph_df = pd.read_csv(hyetograph_file)\n",
        "        print(f\"Loaded hyetograph from {hyetograph_file} with {len(hyetograph_df)} values\")\n",
        "        \n",
        "        # Read the unsteady flow file\n",
        "        with open(unsteady_file_path, 'r') as file:\n",
        "            lines = file.readlines()\n",
        "        \n",
        "        # Find the sections that need to be modified\n",
        "        precip_hydrograph_index = None\n",
        "        \n",
        "        for i, line in enumerate(lines):\n",
        "            if line.startswith(\"Precipitation Hydrograph=\"):\n",
        "                precip_hydrograph_index = i\n",
        "                break\n",
        "        \n",
        "        if precip_hydrograph_index is None:\n",
        "            print(\"Cannot find Precipitation Hydrograph section in unsteady file.\")\n",
        "            return False\n",
        "        \n",
        "        # Get the time interval from the hyetograph\n",
        "        time_interval = \"1HOUR\"  # Default\n",
        "        if \"Time_hour\" in hyetograph_df.columns and len(hyetograph_df) > 1:\n",
        "            hour_diff = hyetograph_df[\"Time_hour\"].iloc[1] - hyetograph_df[\"Time_hour\"].iloc[0]\n",
        "            time_interval = f\"{int(hour_diff)}HOUR\" if hour_diff >= 1 else f\"{int(hour_diff*60)}MIN\"\n",
        "        \n",
        "        # Format the precipitation values for the hydrograph\n",
        "        precipitation_values = hyetograph_df[\"Precipitation_in\"].values\n",
        "        \n",
        "        # Create the Precipitation Hydrograph line\n",
        "        precip_line = f\"Precipitation Hydrograph= {len(precipitation_values)} \\n\"\n",
        "        \n",
        "        # Format the values in groups of 10 per line\n",
        "        value_lines = []\n",
        "        for i in range(0, len(precipitation_values), 10):\n",
        "            row_values = precipitation_values[i:i+10]\n",
        "            row_line = \"\".join([f\"{value:8.2f}\" for value in row_values]) + \"\\n\"\n",
        "            value_lines.append(row_line)\n",
        "            \n",
        "        # Remove old hydrograph data - find end of current hydrograph\n",
        "        current_line = precip_hydrograph_index + 1\n",
        "        while current_line < len(lines) and not any(lines[current_line].startswith(prefix) for prefix in [\"DSS Path=\", \"Use DSS=\", \"Use Fixed Start Time=\"]):\n",
        "            current_line += 1\n",
        "            \n",
        "        # Replace the hydrograph section\n",
        "        lines[precip_hydrograph_index:current_line] = [precip_line] + value_lines\n",
        "            \n",
        "        # Write the modified file back\n",
        "        with open(unsteady_file_path, 'w') as file:\n",
        "            file.writelines(lines)\n",
        "            \n",
        "        print(f\"Successfully applied hyetograph data from {hyetograph_file} to unsteady flow file.\")\n",
        "        print(f\"Added {len(precipitation_values)} precipitation values with interval {time_interval}\")\n",
        "        return True\n",
        "        \n",
        "    except Exception as e:\n",
        "        print(f\"Error modifying unsteady flow file: {str(e)}\")\n",
        "        import traceback\n",
        "        traceback.print_exc()\n",
        "        return False"
      ]
    },
    {
      "cell_type": "code",
      "execution_count": 16,
      "metadata": {},
      "outputs": [
        {
          "name": "stdout",
          "output_type": "stream",
          "text": [
            "\n",
            "Step 3: Creating new plans for each AEP event...\n",
            "Creating new plan '2YR-24HR'...\n"
          ]
        },
        {
          "name": "stderr",
          "output_type": "stream",
          "text": [
            "2025-04-10 05:05:43 - ras_commander.RasUtils - INFO - File cloned from d:\\GitHub\\ras-commander\\examples\\example_projects\\Davis\\DavisStormSystem.p02 to d:\\GitHub\\ras-commander\\examples\\example_projects\\Davis\\DavisStormSystem.p01\n",
            "2025-04-10 05:05:43 - ras_commander.RasUtils - INFO - Successfully updated file: d:\\GitHub\\ras-commander\\examples\\example_projects\\Davis\\DavisStormSystem.p01\n",
            "2025-04-10 05:05:43 - ras_commander.RasUtils - INFO - Project file updated with new Plan entry: 01\n",
            "2025-04-10 05:05:43 - ras_commander.RasMap - INFO - Successfully parsed RASMapper file: d:\\GitHub\\ras-commander\\examples\\example_projects\\Davis\\DavisStormSystem.rasmap\n"
          ]
        },
        {
          "name": "stdout",
          "output_type": "stream",
          "text": [
            "Created new plan: 01\n"
          ]
        },
        {
          "name": "stderr",
          "output_type": "stream",
          "text": [
            "2025-04-10 05:05:43 - ras_commander.RasUtils - INFO - File cloned from d:\\GitHub\\ras-commander\\examples\\example_projects\\Davis\\DavisStormSystem.u01 to d:\\GitHub\\ras-commander\\examples\\example_projects\\Davis\\DavisStormSystem.u02\n",
            "2025-04-10 05:05:43 - ras_commander.RasUtils - INFO - Project file updated with new Unsteady entry: 02\n",
            "2025-04-10 05:05:43 - ras_commander.RasMap - INFO - Successfully parsed RASMapper file: d:\\GitHub\\ras-commander\\examples\\example_projects\\Davis\\DavisStormSystem.rasmap\n",
            "2025-04-10 05:05:43 - ras_commander.RasUnsteady - INFO - Updated Flow Title from 'Full System Rain w/ Pump' to '2YR-24HR Storm'\n",
            "2025-04-10 05:05:43 - ras_commander.RasUnsteady - INFO - Applied Flow Title modification to d:\\GitHub\\ras-commander\\examples\\example_projects\\Davis\\DavisStormSystem.u02\n",
            "2025-04-10 05:05:43 - ras_commander.RasUtils - INFO - File cloned from d:\\GitHub\\ras-commander\\examples\\example_projects\\Davis\\DavisStormSystem.p02 to d:\\GitHub\\ras-commander\\examples\\example_projects\\Davis\\DavisStormSystem.p03\n",
            "2025-04-10 05:05:43 - ras_commander.RasUtils - INFO - Successfully updated file: d:\\GitHub\\ras-commander\\examples\\example_projects\\Davis\\DavisStormSystem.p03\n",
            "2025-04-10 05:05:43 - ras_commander.RasUtils - INFO - Project file updated with new Plan entry: 03\n"
          ]
        },
        {
          "name": "stdout",
          "output_type": "stream",
          "text": [
            "Created new unsteady flow file: 02\n",
            "Updated unsteady flow title to: 2YR-24HR Storm\n",
            "Loaded hyetograph from hyetographs\\hyetograph_ARI_2_years_pos50pct_24hr.csv with 24 values\n",
            "Successfully applied hyetograph data from hyetographs\\hyetograph_ARI_2_years_pos50pct_24hr.csv to unsteady flow file.\n",
            "Added 24 precipitation values with interval 1HOUR\n",
            "Successfully applied hyetograph data from hyetographs\\hyetograph_ARI_2_years_pos50pct_24hr.csv to unsteady flow file\n",
            "Assigned unsteady flow file 02 to plan 01\n",
            "Error creating plan for AEP 2: cannot unpack non-iterable NoneType object\n",
            "Creating new plan '5YR-24HR'...\n"
          ]
        },
        {
          "name": "stderr",
          "output_type": "stream",
          "text": [
            "2025-04-10 05:05:43 - ras_commander.RasMap - INFO - Successfully parsed RASMapper file: d:\\GitHub\\ras-commander\\examples\\example_projects\\Davis\\DavisStormSystem.rasmap\n",
            "2025-04-10 05:05:43 - ras_commander.RasUtils - INFO - File cloned from d:\\GitHub\\ras-commander\\examples\\example_projects\\Davis\\DavisStormSystem.u01 to d:\\GitHub\\ras-commander\\examples\\example_projects\\Davis\\DavisStormSystem.u03\n",
            "2025-04-10 05:05:43 - ras_commander.RasUtils - INFO - Project file updated with new Unsteady entry: 03\n"
          ]
        },
        {
          "name": "stdout",
          "output_type": "stream",
          "text": [
            "Created new plan: 03\n"
          ]
        },
        {
          "name": "stderr",
          "output_type": "stream",
          "text": [
            "2025-04-10 05:05:43 - ras_commander.RasMap - INFO - Successfully parsed RASMapper file: d:\\GitHub\\ras-commander\\examples\\example_projects\\Davis\\DavisStormSystem.rasmap\n",
            "2025-04-10 05:05:43 - ras_commander.RasUnsteady - INFO - Updated Flow Title from 'Full System Rain w/ Pump' to '5YR-24HR Storm'\n",
            "2025-04-10 05:05:43 - ras_commander.RasUnsteady - INFO - Applied Flow Title modification to d:\\GitHub\\ras-commander\\examples\\example_projects\\Davis\\DavisStormSystem.u03\n",
            "2025-04-10 05:05:44 - ras_commander.RasUtils - INFO - File cloned from d:\\GitHub\\ras-commander\\examples\\example_projects\\Davis\\DavisStormSystem.p02 to d:\\GitHub\\ras-commander\\examples\\example_projects\\Davis\\DavisStormSystem.p04\n",
            "2025-04-10 05:05:44 - ras_commander.RasUtils - INFO - Successfully updated file: d:\\GitHub\\ras-commander\\examples\\example_projects\\Davis\\DavisStormSystem.p04\n",
            "2025-04-10 05:05:44 - ras_commander.RasUtils - INFO - Project file updated with new Plan entry: 04\n"
          ]
        },
        {
          "name": "stdout",
          "output_type": "stream",
          "text": [
            "Created new unsteady flow file: 03\n",
            "Updated unsteady flow title to: 5YR-24HR Storm\n",
            "Loaded hyetograph from hyetographs\\hyetograph_ARI_5_years_pos50pct_24hr.csv with 24 values\n",
            "Successfully applied hyetograph data from hyetographs\\hyetograph_ARI_5_years_pos50pct_24hr.csv to unsteady flow file.\n",
            "Added 24 precipitation values with interval 1HOUR\n",
            "Successfully applied hyetograph data from hyetographs\\hyetograph_ARI_5_years_pos50pct_24hr.csv to unsteady flow file\n",
            "Assigned unsteady flow file 03 to plan 03\n",
            "Error creating plan for AEP 5: cannot unpack non-iterable NoneType object\n",
            "Creating new plan '10YR-24HR'...\n"
          ]
        },
        {
          "name": "stderr",
          "output_type": "stream",
          "text": [
            "2025-04-10 05:05:44 - ras_commander.RasMap - INFO - Successfully parsed RASMapper file: d:\\GitHub\\ras-commander\\examples\\example_projects\\Davis\\DavisStormSystem.rasmap\n",
            "2025-04-10 05:05:44 - ras_commander.RasUtils - INFO - File cloned from d:\\GitHub\\ras-commander\\examples\\example_projects\\Davis\\DavisStormSystem.u01 to d:\\GitHub\\ras-commander\\examples\\example_projects\\Davis\\DavisStormSystem.u04\n",
            "2025-04-10 05:05:44 - ras_commander.RasUtils - INFO - Project file updated with new Unsteady entry: 04\n",
            "2025-04-10 05:05:44 - ras_commander.RasMap - INFO - Successfully parsed RASMapper file: d:\\GitHub\\ras-commander\\examples\\example_projects\\Davis\\DavisStormSystem.rasmap\n"
          ]
        },
        {
          "name": "stdout",
          "output_type": "stream",
          "text": [
            "Created new plan: 04\n"
          ]
        },
        {
          "name": "stderr",
          "output_type": "stream",
          "text": [
            "2025-04-10 05:05:44 - ras_commander.RasUnsteady - INFO - Updated Flow Title from 'Full System Rain w/ Pump' to '10YR-24HR Storm'\n",
            "2025-04-10 05:05:44 - ras_commander.RasUnsteady - INFO - Applied Flow Title modification to d:\\GitHub\\ras-commander\\examples\\example_projects\\Davis\\DavisStormSystem.u04\n",
            "2025-04-10 05:05:44 - ras_commander.RasUtils - INFO - File cloned from d:\\GitHub\\ras-commander\\examples\\example_projects\\Davis\\DavisStormSystem.p02 to d:\\GitHub\\ras-commander\\examples\\example_projects\\Davis\\DavisStormSystem.p05\n",
            "2025-04-10 05:05:44 - ras_commander.RasUtils - INFO - Successfully updated file: d:\\GitHub\\ras-commander\\examples\\example_projects\\Davis\\DavisStormSystem.p05\n",
            "2025-04-10 05:05:44 - ras_commander.RasUtils - INFO - Project file updated with new Plan entry: 05\n",
            "2025-04-10 05:05:44 - ras_commander.RasMap - INFO - Successfully parsed RASMapper file: d:\\GitHub\\ras-commander\\examples\\example_projects\\Davis\\DavisStormSystem.rasmap\n",
            "2025-04-10 05:05:44 - ras_commander.RasUtils - INFO - File cloned from d:\\GitHub\\ras-commander\\examples\\example_projects\\Davis\\DavisStormSystem.u01 to d:\\GitHub\\ras-commander\\examples\\example_projects\\Davis\\DavisStormSystem.u05\n"
          ]
        },
        {
          "name": "stdout",
          "output_type": "stream",
          "text": [
            "Created new unsteady flow file: 04\n",
            "Updated unsteady flow title to: 10YR-24HR Storm\n",
            "Loaded hyetograph from hyetographs\\hyetograph_ARI_10_years_pos50pct_24hr.csv with 24 values\n",
            "Successfully applied hyetograph data from hyetographs\\hyetograph_ARI_10_years_pos50pct_24hr.csv to unsteady flow file.\n",
            "Added 24 precipitation values with interval 1HOUR\n",
            "Successfully applied hyetograph data from hyetographs\\hyetograph_ARI_10_years_pos50pct_24hr.csv to unsteady flow file\n",
            "Assigned unsteady flow file 04 to plan 04\n",
            "Error creating plan for AEP 10: cannot unpack non-iterable NoneType object\n",
            "Creating new plan '25YR-24HR'...\n",
            "Created new plan: 05\n"
          ]
        },
        {
          "name": "stderr",
          "output_type": "stream",
          "text": [
            "2025-04-10 05:05:44 - ras_commander.RasUtils - INFO - Project file updated with new Unsteady entry: 05\n",
            "2025-04-10 05:05:44 - ras_commander.RasMap - INFO - Successfully parsed RASMapper file: d:\\GitHub\\ras-commander\\examples\\example_projects\\Davis\\DavisStormSystem.rasmap\n"
          ]
        },
        {
          "name": "stdout",
          "output_type": "stream",
          "text": [
            "Created new unsteady flow file: 05\n"
          ]
        },
        {
          "name": "stderr",
          "output_type": "stream",
          "text": [
            "2025-04-10 05:05:44 - ras_commander.RasUnsteady - INFO - Updated Flow Title from 'Full System Rain w/ Pump' to '25YR-24HR Storm'\n",
            "2025-04-10 05:05:44 - ras_commander.RasUnsteady - INFO - Applied Flow Title modification to d:\\GitHub\\ras-commander\\examples\\example_projects\\Davis\\DavisStormSystem.u05\n",
            "2025-04-10 05:05:44 - ras_commander.RasUtils - INFO - File cloned from d:\\GitHub\\ras-commander\\examples\\example_projects\\Davis\\DavisStormSystem.p02 to d:\\GitHub\\ras-commander\\examples\\example_projects\\Davis\\DavisStormSystem.p06\n",
            "2025-04-10 05:05:44 - ras_commander.RasUtils - INFO - Successfully updated file: d:\\GitHub\\ras-commander\\examples\\example_projects\\Davis\\DavisStormSystem.p06\n",
            "2025-04-10 05:05:44 - ras_commander.RasUtils - INFO - Project file updated with new Plan entry: 06\n",
            "2025-04-10 05:05:44 - ras_commander.RasMap - INFO - Successfully parsed RASMapper file: d:\\GitHub\\ras-commander\\examples\\example_projects\\Davis\\DavisStormSystem.rasmap\n",
            "2025-04-10 05:05:44 - ras_commander.RasUtils - INFO - File cloned from d:\\GitHub\\ras-commander\\examples\\example_projects\\Davis\\DavisStormSystem.u01 to d:\\GitHub\\ras-commander\\examples\\example_projects\\Davis\\DavisStormSystem.u06\n",
            "2025-04-10 05:05:44 - ras_commander.RasUtils - INFO - Project file updated with new Unsteady entry: 06\n"
          ]
        },
        {
          "name": "stdout",
          "output_type": "stream",
          "text": [
            "Updated unsteady flow title to: 25YR-24HR Storm\n",
            "Loaded hyetograph from hyetographs\\hyetograph_ARI_25_years_pos50pct_24hr.csv with 24 values\n",
            "Successfully applied hyetograph data from hyetographs\\hyetograph_ARI_25_years_pos50pct_24hr.csv to unsteady flow file.\n",
            "Added 24 precipitation values with interval 1HOUR\n",
            "Successfully applied hyetograph data from hyetographs\\hyetograph_ARI_25_years_pos50pct_24hr.csv to unsteady flow file\n",
            "Assigned unsteady flow file 05 to plan 05\n",
            "Error creating plan for AEP 25: cannot unpack non-iterable NoneType object\n",
            "Creating new plan '50YR-24HR'...\n",
            "Created new plan: 06\n"
          ]
        },
        {
          "name": "stderr",
          "output_type": "stream",
          "text": [
            "2025-04-10 05:05:44 - ras_commander.RasMap - INFO - Successfully parsed RASMapper file: d:\\GitHub\\ras-commander\\examples\\example_projects\\Davis\\DavisStormSystem.rasmap\n"
          ]
        },
        {
          "name": "stdout",
          "output_type": "stream",
          "text": [
            "Created new unsteady flow file: 06\n"
          ]
        },
        {
          "name": "stderr",
          "output_type": "stream",
          "text": [
            "2025-04-10 05:05:44 - ras_commander.RasUnsteady - INFO - Updated Flow Title from 'Full System Rain w/ Pump' to '50YR-24HR Storm'\n",
            "2025-04-10 05:05:44 - ras_commander.RasUnsteady - INFO - Applied Flow Title modification to d:\\GitHub\\ras-commander\\examples\\example_projects\\Davis\\DavisStormSystem.u06\n",
            "2025-04-10 05:05:44 - ras_commander.RasUtils - INFO - File cloned from d:\\GitHub\\ras-commander\\examples\\example_projects\\Davis\\DavisStormSystem.p02 to d:\\GitHub\\ras-commander\\examples\\example_projects\\Davis\\DavisStormSystem.p07\n",
            "2025-04-10 05:05:44 - ras_commander.RasUtils - INFO - Successfully updated file: d:\\GitHub\\ras-commander\\examples\\example_projects\\Davis\\DavisStormSystem.p07\n",
            "2025-04-10 05:05:44 - ras_commander.RasUtils - INFO - Project file updated with new Plan entry: 07\n",
            "2025-04-10 05:05:44 - ras_commander.RasMap - INFO - Successfully parsed RASMapper file: d:\\GitHub\\ras-commander\\examples\\example_projects\\Davis\\DavisStormSystem.rasmap\n",
            "2025-04-10 05:05:44 - ras_commander.RasUtils - INFO - File cloned from d:\\GitHub\\ras-commander\\examples\\example_projects\\Davis\\DavisStormSystem.u01 to d:\\GitHub\\ras-commander\\examples\\example_projects\\Davis\\DavisStormSystem.u07\n",
            "2025-04-10 05:05:44 - ras_commander.RasUtils - INFO - Project file updated with new Unsteady entry: 07\n",
            "2025-04-10 05:05:44 - ras_commander.RasMap - INFO - Successfully parsed RASMapper file: d:\\GitHub\\ras-commander\\examples\\example_projects\\Davis\\DavisStormSystem.rasmap\n",
            "2025-04-10 05:05:44 - ras_commander.RasUnsteady - INFO - Updated Flow Title from 'Full System Rain w/ Pump' to '100YR-24HR Storm'\n",
            "2025-04-10 05:05:44 - ras_commander.RasUnsteady - INFO - Applied Flow Title modification to d:\\GitHub\\ras-commander\\examples\\example_projects\\Davis\\DavisStormSystem.u07\n"
          ]
        },
        {
          "name": "stdout",
          "output_type": "stream",
          "text": [
            "Updated unsteady flow title to: 50YR-24HR Storm\n",
            "Loaded hyetograph from hyetographs\\hyetograph_ARI_50_years_pos50pct_24hr.csv with 24 values\n",
            "Successfully applied hyetograph data from hyetographs\\hyetograph_ARI_50_years_pos50pct_24hr.csv to unsteady flow file.\n",
            "Added 24 precipitation values with interval 1HOUR\n",
            "Successfully applied hyetograph data from hyetographs\\hyetograph_ARI_50_years_pos50pct_24hr.csv to unsteady flow file\n",
            "Assigned unsteady flow file 06 to plan 06\n",
            "Error creating plan for AEP 50: cannot unpack non-iterable NoneType object\n",
            "Creating new plan '100YR-24HR'...\n",
            "Created new plan: 07\n",
            "Created new unsteady flow file: 07\n",
            "Updated unsteady flow title to: 100YR-24HR Storm\n",
            "Loaded hyetograph from hyetographs\\hyetograph_ARI_100_years_pos50pct_24hr.csv with 24 values\n",
            "Successfully applied hyetograph data from hyetographs\\hyetograph_ARI_100_years_pos50pct_24hr.csv to unsteady flow file.\n",
            "Added 24 precipitation values with interval 1HOUR\n",
            "Successfully applied hyetograph data from hyetographs\\hyetograph_ARI_100_years_pos50pct_24hr.csv to unsteady flow file\n",
            "Assigned unsteady flow file 07 to plan 07\n",
            "Error creating plan for AEP 100: cannot unpack non-iterable NoneType object\n",
            "\n",
            "Updated plans in the project:\n"
          ]
        },
        {
          "data": {
            "text/html": "<div>\n<style scoped>\\n', '    .dataframe tbody tr th:only-of-type {\\n', '        vertical-align: middle;\\n', '    }\\n', '\\n', '    .dataframe tbody tr th {\\n', '        vertical-align: top;\\n', '    }\\n', '\\n', '    .dataframe thead th {\\n', '        text-align: right;\\n', '    }\\n', '</style>\n<table border=\"1\" class=\"dataframe\">\n  <thead>\\n', '    <tr style=\"text-align: right;\">\\n', '      <th></th>\\n', '      <th>plan_number</th>\\n', '      <th>unsteady_number</th>\\n', '      <th>geometry_number</th>\\n', '      <th>Plan Title</th>\\n', '      <th>Program Version</th>\\n', '      <th>Short Identifier</th>\\n', '      <th>Simulation Date</th>\\n', '      <th>Computation Interval</th>\\n', '      <th>Mapping Interval</th>\\n', '      <th>Run HTab</th>\\n', '      <th>...</th>\\n', '      <th>DSS File</th>\\n', '      <th>Friction Slope Method</th>\\n', '      <th>UNET D2 SolverType</th>\\n', '      <th>UNET D2 Name</th>\\n', '      <th>HDF_Results_Path</th>\\n', '      <th>Geom File</th>\\n', '      <th>Geom Path</th>\\n', '      <th>Flow File</th>\\n', '      <th>Flow Path</th>\\n', '      <th>full_path</th>\\n', '    </tr>\\n', '  </thead>\n  <tbody>\n    <tr>\\n', '      <th>0</th>\\n', '      <td>02</td>\\n', '      <td>01</td>\\n', '      <td>02</td>\\n', '      <td>Full System ROM with Pump</td>\\n', '      <td>6.60</td>\\n', '      <td>Full System ROM with Pump</td>\\n', '      <td>10JAN2000,1200,11JAN2000,2400</td>\\n', '      <td>12SEC</td>\\n', '      <td>10MIN</td>\\n', '      <td>-1</td>\\n', '      <td>...</td>\\n', '      <td>dss</td>\\n', '      <td>1</td>\\n', '      <td>PARDISO (Direct)</td>\\n', '      <td>area2</td>\\n', '      <td>None</td>\\n', '      <td>02</td>\\n', '      <td>None</td>\\n', '      <td>01</td>\\n', '      <td>None</td>\\n', '      <td>d:\\\\GitHub\\\\ras-commander\\\\examples\\\\example_proje...</td>\\n', '    </tr><tr>\\n', '      <th>1</th>\\n', '      <td>01</td>\\n', '      <td>02</td>\\n', '      <td>02</td>\\n', '      <td>Full System ROM with Pump</td>\\n', '      <td>6.60</td>\\n', '      <td>2YR-24HR</td>\\n', '      <td>10JAN2000,1200,11JAN2000,2400</td>\\n', '      <td>12SEC</td>\\n', '      <td>10MIN</td>\\n', '      <td>-1</td>\\n', '      <td>...</td>\\n', '      <td>dss</td>\\n', '      <td>1</td>\\n', '      <td>PARDISO (Direct)</td>\\n', '      <td>area2</td>\\n', '      <td>None</td>\\n', '      <td>02</td>\\n', '      <td>None</td>\\n', '      <td>02</td>\\n', '      <td>None</td>\\n', '      <td>d:\\\\GitHub\\\\ras-commander\\\\examples\\\\example_proje...</td>\\n', '    </tr><tr>\\n', '      <th>2</th>\\n', '      <td>03</td>\\n', '      <td>03</td>\\n', '      <td>02</td>\\n', '      <td>Full System ROM with Pump</td>\\n', '      <td>6.60</td>\\n', '      <td>5YR-24HR</td>\\n', '      <td>10JAN2000,1200,11JAN2000,2400</td>\\n', '      <td>12SEC</td>\\n', '      <td>10MIN</td>\\n', '      <td>-1</td>\\n', '      <td>...</td>\\n', '      <td>dss</td>\\n', '      <td>1</td>\\n', '      <td>PARDISO (Direct)</td>\\n', '      <td>area2</td>\\n', '      <td>None</td>\\n', '      <td>02</td>\\n', '      <td>None</td>\\n', '      <td>03</td>\\n', '      <td>None</td>\\n', '      <td>d:\\\\GitHub\\\\ras-commander\\\\examples\\\\example_proje...</td>\\n', '    </tr><tr>\\n', '      <th>3</th>\\n', '      <td>04</td>\\n', '      <td>04</td>\\n', '      <td>02</td>\\n', '      <td>Full System ROM with Pump</td>\\n', '      <td>6.60</td>\\n', '      <td>10YR-24HR</td>\\n', '      <td>10JAN2000,1200,11JAN2000,2400</td>\\n', '      <td>12SEC</td>\\n', '      <td>10MIN</td>\\n', '      <td>-1</td>\\n', '      <td>...</td>\\n', '      <td>dss</td>\\n', '      <td>1</td>\\n', '      <td>PARDISO (Direct)</td>\\n', '      <td>area2</td>\\n', '      <td>None</td>\\n', '      <td>02</td>\\n', '      <td>None</td>\\n', '      <td>04</td>\\n', '      <td>None</td>\\n', '      <td>d:\\\\GitHub\\\\ras-commander\\\\examples\\\\example_proje...</td>\\n', '    </tr><tr>\\n', '      <th>4</th>\\n', '      <td>05</td>\\n', '      <td>05</td>\\n', '      <td>02</td>\\n', '      <td>Full System ROM with Pump</td>\\n', '      <td>6.60</td>\\n', '      <td>25YR-24HR</td>\\n', '      <td>10JAN2000,1200,11JAN2000,2400</td>\\n', '      <td>12SEC</td>\\n', '      <td>10MIN</td>\\n', '      <td>-1</td>\\n', '      <td>...</td>\\n', '      <td>dss</td>\\n', '      <td>1</td>\\n', '      <td>PARDISO (Direct)</td>\\n', '      <td>area2</td>\\n', '      <td>None</td>\\n', '      <td>02</td>\\n', '      <td>None</td>\\n', '      <td>05</td>\\n', '      <td>None</td>\\n', '      <td>d:\\\\GitHub\\\\ras-commander\\\\examples\\\\example_proje...</td>\\n', '    </tr>\n    <tr><td colspan=\"100%\" style=\"text-align:center\">[... additional rows truncated ...]</td></tr>\n  </tbody>\n</table>\n</div>",
            "text/plain": [
              "  plan_number unsteady_number geometry_number                 Plan Title  \\\n",
              "0          02              01              02  Full System ROM with Pump   \n",
              "1          01              02              02  Full System ROM with Pump   \n",
              "2          03              03              02  Full System ROM with Pump   \n",
              "3          04              04              02  Full System ROM with Pump   \n",
              "4          05              05              02  Full System ROM with Pump   \n",
              "5          06              06              02  Full System ROM with Pump   \n",
              "6          07              07              02  Full System ROM with Pump   \n",
              "\n",
              "  Program Version           Short Identifier                Simulation Date  \\\n",
              "0            6.60  Full System ROM with Pump  10JAN2000,1200,11JAN2000,2400   \n",
              "1            6.60                   2YR-24HR  10JAN2000,1200,11JAN2000,2400   \n",
              "2            6.60                   5YR-24HR  10JAN2000,1200,11JAN2000,2400   \n",
              "3            6.60                  10YR-24HR  10JAN2000,1200,11JAN2000,2400   \n",
              "4            6.60                  25YR-24HR  10JAN2000,1200,11JAN2000,2400   \n",
              "5            6.60                  50YR-24HR  10JAN2000,1200,11JAN2000,2400   \n",
              "6            6.60                 100YR-24HR  10JAN2000,1200,11JAN2000,2400   \n",
              "\n",
              "  Computation Interval Mapping Interval Run HTab  ... DSS File  \\\n",
              "0                12SEC            10MIN       -1  ...      dss   \n",
              "1                12SEC            10MIN       -1  ...      dss   \n",
              "2                12SEC            10MIN       -1  ...      dss   \n",
              "3                12SEC            10MIN       -1  ...      dss   \n",
              "4                12SEC            10MIN       -1  ...      dss   \n",
              "5                12SEC            10MIN       -1  ...      dss   \n",
              "6                12SEC            10MIN       -1  ...      dss   \n",
              "\n",
              "  Friction Slope Method UNET D2 SolverType UNET D2 Name HDF_Results_Path  \\\n",
              "0                     1   PARDISO (Direct)        area2             None   \n",
              "1                     1   PARDISO (Direct)        area2             None   \n",
              "2                     1   PARDISO (Direct)        area2             None   \n",
              "3                     1   PARDISO (Direct)        area2             None   \n",
              "4                     1   PARDISO (Direct)        area2             None   \n",
              "5                     1   PARDISO (Direct)        area2             None   \n",
              "6                     1   PARDISO (Direct)        area2             None   \n",
              "\n",
              "  Geom File  Geom Path  Flow File  \\\n",
              "0        02       None         01   \n",
              "1        02       None         02   \n",
              "2        02       None         03   \n",
              "3        02       None         04   \n",
              "4        02       None         05   \n",
              "5        02       None         06   \n",
              "6        02       None        u07   \n",
              "\n",
              "                                           Flow Path  \\\n",
              "0                                               None   \n",
              "1                                               None   \n",
              "2                                               None   \n",
              "3                                               None   \n",
              "4                                               None   \n",
              "5                                               None   \n",
              "6  d:\\GitHub\\ras-commander\\examples\\example_proje...   \n",
              "\n",
              "                                           full_path  \n",
              "0  d:\\GitHub\\ras-commander\\examples\\example_proje...  \n",
              "1  d:\\GitHub\\ras-commander\\examples\\example_proje...  \n",
              "2  d:\\GitHub\\ras-commander\\examples\\example_proje...  \n",
              "3  d:\\GitHub\\ras-commander\\examples\\example_proje...  \n",
              "4  d:\\GitHub\\ras-commander\\examples\\example_proje...  \n",
              "5  d:\\GitHub\\ras-commander\\examples\\example_proje...  \n",
              "6  d:\\GitHub\\ras-commander\\examples\\example_proje...  \n",
              "\n",
              "[7 rows x 29 columns]"
            ]
          },
          "metadata": {},
          "output_type": "display_data"
        }
      ],
      "source": [
        "#-------------------------------------------------------------------------\n",
        "# Create new plans for each AEP event\n",
        "#-------------------------------------------------------------------------\n",
        "print(\"\\nStep 3: Creating new plans for each AEP event...\")\n",
        "\n",
        "new_plan_numbers = []\n",
        "\n",
        "for ari in aep_events:\n",
        "    ari_str = str(ari)\n",
        "    if ari_str in hyetograph_files:\n",
        "        try:\n",
        "            # Create a new plan for this AEP event\n",
        "            new_plan_number, _ = create_plan_for_aep(\n",
        "                base_plan=base_plan,\n",
        "                aep_years=ari_str,\n",
        "                duration_hours=total_duration,\n",
        "                hyetograph_file=hyetograph_files[ari_str],\n",
        "                project=ras\n",
        "            )\n",
        "            new_plan_numbers.append(new_plan_number)\n",
        "        except Exception as e:\n",
        "            print(f\"Error creating plan for AEP {ari_str}: {e}\")\n",
        "\n",
        "# Display the updated plans\n",
        "print(\"\\nUpdated plans in the project:\")\n",
        "display.display(ras.plan_df)"
      ]
    },
    {
      "cell_type": "code",
      "execution_count": 17,
      "metadata": {},
      "outputs": [
        {
          "name": "stdout",
          "output_type": "stream",
          "text": [
            "Unsteady flow file path: d:\\GitHub\\ras-commander\\examples\\example_projects\\Davis\\DavisStormSystem.u03\n"
          ]
        }
      ],
      "source": [
        "# Get the path to unsteady flow file associated with Plan \"03\"\n",
        "unsteady_file_rev = RasPlan.get_unsteady_path(\"03\")\n",
        "print(f\"Unsteady flow file path: {unsteady_file_rev}\")"
      ]
    },
    {
      "cell_type": "code",
      "execution_count": 18,
      "metadata": {},
      "outputs": [
        {
          "data": {
            "text/plain": "[\"'d:\\\\\\\\GitHub\\\\\\\\ras-commander\\\\\\\\examples\\\\\\\\example_projects\\\\\\\\Davis\\\\\\\\DavisStormSystem.u03'\"]"
          },
          "execution_count": 18,
          "metadata": {},
          "output_type": "execute_result"
        }
      ],
      "source": [
        "unsteady_file_rev"
      ]
    },
    {
      "cell_type": "code",
      "execution_count": 19,
      "metadata": {},
      "outputs": [
        {
          "name": "stdout",
          "output_type": "stream",
          "text": [
            "Contents of unsteady flow file for plan 03 (d:\\GitHub\\ras-commander\\examples\\example_projects\\Davis\\DavisStormSystem.u03):\n",
            "--------------------------------------------------------------------------------\n",
            "Flow Title=5YR-24HR Storm\n",
            "Program Version=6.60\n",
            "Use Restart= 0 \n",
            "Boundary Location=                ,                ,        ,        ,                ,DS Channel      ,                ,DS Normal                       ,                                \n",
            "Friction Slope=0.003,0\n",
            "Boundary Location=                ,                ,        ,        ,                ,area2           ,                ,                                ,                                \n",
            "Interval=1HOUR\n",
            "Precipitation Hydrograph= 24 \n",
            "    0.05    0.05    0.06    0.06    0.07    0.07    0.08    0.09    0.11    0.16\n",
            "    0.21    0.60    0.28    0.18    0.14    0.10    0.09    0.08    0.07    0.06\n",
            "    0.06    0.06    0.05    0.05\n",
            "DSS Path=\n",
            "Use DSS=False\n",
            "Use Fixed Start Time=False\n",
            "Fixed Start Date/Time=,\n",
            "Is Critical Boundary=False\n",
            "Critical Boundary Flow=\n",
            "Met Point Raster Parameters=,,,,\n",
            "Precipitation Mode=Disable\n",
            "Wind Mode=No Wind Forces\n",
            "Air Density Mode=Specified\n",
            "Wave Mode=No Wave Forcing\n",
            "Met BC=Precipitation|Mode=Constant\n",
            "Met BC=Precipitation|Expanded View=-1\n",
            "Met BC=Precipitation|Constant Value=1\n",
            "Met BC=Precipitation|Constant Units=in/hr\n",
            "Met BC=Precipitation|Point Interpolation=\n",
            "Met BC=Precipitation|Gridded Source=DSS\n",
            "Met BC=Precipitation|Gridded Interpolation=\n",
            "Met BC=Evapotranspiration|Mode=None\n",
            "Met BC=Evapotranspiration|Expanded View=0\n",
            "Met BC=Evapotranspiration|Constant Units=mm/hr\n",
            "Met BC=Evapotranspiration|Point Interpolation=Nearest\n",
            "Met BC=Evapotranspiration|Gridded Source=DSS\n",
            "Met BC=Evapotranspiration|Gridded Interpolation=\n",
            "Met BC=Wind Speed|Expanded View=0\n",
            "Met BC=Wind Speed|Point Interpolation=Nearest\n",
            "Met BC=Wind Speed|Gridded Source=DSS\n",
            "Met BC=Wind Speed|Gridded Interpolation=\n",
            "Met BC=Wind Direction|Expanded View=0\n",
            "Met BC=Wind Direction|Point Interpolation=Nearest\n",
            "Met BC=Wind Direction|Gridded Source=DSS\n",
            "Met BC=Wind Direction|Gridded Interpolation=\n",
            "Met BC=Wind Velocity X|Expanded View=0\n",
            "Met BC=Wind Velocity X|Point Interpolation=Nearest\n",
            "Met BC=Wind Velocity X|Gridded Source=DSS\n",
            "Met BC=Wind Velocity X|Gridded Interpolation=\n",
            "Met BC=Wind Velocity Y|Expanded View=0\n",
            "Met BC=Wind Velocity Y|Point Interpolation=Nearest\n",
            "Met BC=Wind Velocity Y|Gridded Source=DSS\n",
            "Met BC=Wind Velocity Y|Gridded Interpolation=\n",
            "Met BC=Wave Forcing X|Expanded View=0\n",
            "Met BC=Wave Forcing X|Point Interpolation=Nearest\n",
            "Met BC=Wave Forcing X|Gridded Source=DSS\n",
            "Met BC=Wave Forcing X|Gridded Interpolation=\n",
            "Met BC=Wave Forcing Y|Expanded View=0\n",
            "Met BC=Wave Forcing Y|Point Interpolation=Nearest\n",
            "Met BC=Wave Forcing Y|Gridded Source=DSS\n",
            "Met BC=Wave Forcing Y|Gridded Interpolation=\n",
            "Met BC=Air Density|Mode=Constant\n",
            "Met BC=Air Density|Expanded View=0\n",
            "Met BC=Air Density|Constant Value=1.225\n",
            "Met BC=Air Density|Constant Units=kg/m3\n",
            "Met BC=Air Density|Point Interpolation=Nearest\n",
            "Met BC=Air Density|Gridded Source=DSS\n",
            "Met BC=Air Density|Gridded Interpolation=\n",
            "Met BC=Air Temperature|Expanded View=0\n",
            "Met BC=Air Temperature|Point Interpolation=Nearest\n",
            "Met BC=Air Temperature|Gridded Source=DSS\n",
            "Met BC=Air Temperature|Gridded Interpolation=\n",
            "Met BC=Humidity|Expanded View=0\n",
            "Met BC=Humidity|Point Interpolation=Nearest\n",
            "Met BC=Humidity|Gridded Source=DSS\n",
            "Met BC=Humidity|Gridded Interpolation=\n",
            "Met BC=Air Pressure|Mode=Constant\n",
            "Met BC=Air Pressure|Expanded View=0\n",
            "Met BC=Air Pressure|Constant Value=1013.2\n",
            "Met BC=Air Pressure|Constant Units=mb\n",
            "Met BC=Air Pressure|Point Interpolation=\n",
            "Met BC=Air Pressure|Gridded Source=DSS\n",
            "Met BC=Air Pressure|Gridded Interpolation=\n",
            "Non-Newtonian Method= 0 ,        \n",
            "Non-Newtonian Constant Vol Conc=0\n",
            "Non-Newtonian Yield Method= 0 ,        \n",
            "Non-Newtonian Yield Coef=0, 0\n",
            "User Yeild=   0\n",
            "Non-Newtonian Sed Visc= 0 ,        \n",
            "Non-Newtonian Obrian B=0\n",
            "User Viscosity=0\n",
            "User Viscosity Ratio=0\n",
            "Herschel-Bulkley Coef=0, 0\n",
            "Clastic Method= 0 ,        \n",
            "Coulomb Phi=0\n",
            "Voellmy X=0\n",
            "Non-Newtonian Hindered FV= 0 \n",
            "Non-Newtonian FV K=0\n",
            "Non-Newtonian ds=0\n",
            "Non-Newtonian Max Cv=0\n",
            "Non-Newtonian Bulking Method= 0 , \n",
            "Non-Newtonian High C Transport= 0 , \n",
            "Lava Activation= 0 \n",
            "Temperature=1300,15,,15,14,980\n",
            "Heat Ballance=1,1200,0.5,1,70,0.95\n",
            "Viscosity=1000,,,\n",
            "Yield Strength=,,,\n",
            "Consistency Factor=,,,\n",
            "Profile Coefficient=4,1.3,\n",
            "Lava Param=,2500,\n",
            "\n",
            "--------------------------------------------------------------------------------\n"
          ]
        }
      ],
      "source": [
        "with open(unsteady_file_rev, 'r') as f:\n",
        "    unsteady_contents_rev = f.read()\n",
        "print(f\"Contents of unsteady flow file for plan 03 ({unsteady_file_rev}):\")\n",
        "print(\"-\" * 80)\n",
        "print(unsteady_contents_rev)\n",
        "print(\"-\" * 80)"
      ]
    },
    {
      "cell_type": "code",
      "execution_count": 20,
      "metadata": {},
      "outputs": [
        {
          "name": "stdout",
          "output_type": "stream",
          "text": [
            "Differences between d:\\GitHub\\ras-commander\\examples\\example_projects\\Davis\\DavisStormSystem.u01 and d:\\GitHub\\ras-commander\\examples\\example_projects\\Davis\\DavisStormSystem.u03:\n",
            "--------------------------------------------------------------------------------\n",
            "--- d:\\GitHub\\ras-commander\\examples\\example_projects\\Davis\\DavisStormSystem.u01\n",
            "+++ d:\\GitHub\\ras-commander\\examples\\example_projects\\Davis\\DavisStormSystem.u03\n",
            "@@ -1,14 +1,14 @@\n",
            "-Flow Title=Full System Rain w/ Pump\n",
            "+Flow Title=5YR-24HR Storm\n",
            " Program Version=6.60\n",
            " Use Restart= 0 \n",
            " Boundary Location=                ,                ,        ,        ,                ,DS Channel      ,                ,DS Normal                       ,                                \n",
            " Friction Slope=0.003,0\n",
            " Boundary Location=                ,                ,        ,        ,                ,area2           ,                ,                                ,                                \n",
            " Interval=1HOUR\n",
            "-Precipitation Hydrograph= 21 \n",
            "-      .1      .1      .1     .25     .25     .25     .25       0       0       0\n",
            "-       0       0       0       0       0       0       0       0       0       0\n",
            "-       0\n",
            "+Precipitation Hydrograph= 24 \n",
            "+    0.05    0.05    0.06    0.06    0.07    0.07    0.08    0.09    0.11    0.16\n",
            "+    0.21    0.60    0.28    0.18    0.14    0.10    0.09    0.08    0.07    0.06\n",
            "+    0.06    0.06    0.05    0.05\n",
            " DSS Path=\n",
            " Use DSS=False\n",
            " Use Fixed Start Time=False\n",
            "\n",
            "--------------------------------------------------------------------------------\n",
            "Summary: 5 additions, 5 removals\n"
          ]
        }
      ],
      "source": [
        "import difflib\n",
        "\n",
        "def show_file_diff(file1_path, file2_path, context_lines=3):\n",
        "    \"\"\"\n",
        "    Shows the differences between two files with context.\n",
        "    \n",
        "    Parameters:\n",
        "    - file1_path: Path to the first file\n",
        "    - file2_path: Path to the second file\n",
        "    - context_lines: Number of context lines to show around differences\n",
        "    \"\"\"\n",
        "    # Read the file contents\n",
        "    with open(file1_path, 'r') as file1:\n",
        "        file1_lines = file1.readlines()\n",
        "    \n",
        "    with open(file2_path, 'r') as file2:\n",
        "        file2_lines = file2.readlines()\n",
        "    \n",
        "    # Create a differ object\n",
        "    differ = difflib.unified_diff(\n",
        "        file1_lines, \n",
        "        file2_lines,\n",
        "        fromfile=str(file1_path),\n",
        "        tofile=str(file2_path),\n",
        "        n=context_lines\n",
        "    )\n",
        "    \n",
        "    # Convert differ output to a string\n",
        "    diff_text = ''.join(differ)\n",
        "    \n",
        "    # If no differences found\n",
        "    if not diff_text:\n",
        "        print(f\"No differences found between {file1_path} and {file2_path}\")\n",
        "        return\n",
        "    \n",
        "    # Print the differences\n",
        "    print(f\"Differences between {file1_path} and {file2_path}:\")\n",
        "    print(\"-\" * 80)\n",
        "    print(diff_text)\n",
        "    print(\"-\" * 80)\n",
        "    \n",
        "    # Count added, removed, and modified lines\n",
        "    added = sum(1 for line in diff_text.splitlines() if line.startswith('+') and not line.startswith('+++'))\n",
        "    removed = sum(1 for line in diff_text.splitlines() if line.startswith('-') and not line.startswith('---'))\n",
        "    \n",
        "    print(f\"Summary: {added} additions, {removed} removals\")\n",
        "\n",
        "# Show differences between the unsteady flow files\n",
        "if 'unsteady_file' in locals() and 'unsteady_file_rev' in locals():\n",
        "    show_file_diff(unsteady_file, unsteady_file_rev)\n",
        "else:\n",
        "    print(\"Error: One or both unsteady flow file variables not defined.\")\n",
        "    print(\"Please run the cells that define unsteady_file and unsteady_file_rev first.\")"
      ]
    },
    {
      "cell_type": "markdown",
      "metadata": {},
      "source": [
        "#### Define Parallel Execution and Results Analysis Functions\n",
        "\n",
        "These functions manage parallel plan execution with resource optimization and extract, analyze, and visualize the results."
      ]
    },
    {
      "cell_type": "code",
      "execution_count": 21,
      "metadata": {},
      "outputs": [],
      "source": [
        "def execute_plans_in_parallel(plan_numbers, project, max_workers=None, cores_per_worker=2):\n",
        "    \"\"\"\n",
        "    Executes multiple plans in parallel.\n",
        "    \"\"\"\n",
        "    # Calculate optimal number of workers if not provided\n",
        "    if max_workers is None:\n",
        "        physical_cores = psutil.cpu_count(logical=False)  # Physical cores only\n",
        "        max_workers = max(1, physical_cores // cores_per_worker)\n",
        "    \n",
        "    print(f\"Executing {len(plan_numbers)} plans in parallel with {max_workers} workers, \" + \n",
        "          f\"each using {cores_per_worker} cores...\")\n",
        "    \n",
        "    # Create compute folder\n",
        "    compute_folder = Path(project.project_folder) / \"compute_aep_parallel\"\n",
        "    compute_folder.mkdir(parents=True, exist_ok=True)\n",
        "    \n",
        "    # Execute plans in parallel\n",
        "    start_time = time.time()\n",
        "    \n",
        "    results = RasCmdr.compute_parallel(\n",
        "        plan_number=plan_numbers,\n",
        "        max_workers=max_workers,\n",
        "        num_cores=cores_per_worker,\n",
        "        dest_folder=compute_folder,\n",
        "        clear_geompre=True,\n",
        "        overwrite_dest=True,\n",
        "        ras_object=project\n",
        "    )\n",
        "    \n",
        "    end_time = time.time()\n",
        "    total_duration = end_time - start_time\n",
        "    \n",
        "    print(f\"Parallel execution completed in {total_duration:.2f} seconds\")\n",
        "    \n",
        "    # Create a DataFrame from the execution results\n",
        "    results_df = pd.DataFrame([\n",
        "        {\"Plan\": plan, \"Success\": success}\n",
        "        for plan, success in results.items()\n",
        "    ])\n",
        "    \n",
        "    # Sort by plan number\n",
        "    results_df = results_df.sort_values(\"Plan\")\n",
        "    \n",
        "    print(\"\\nExecution Results:\")\n",
        "    display.display(results_df)\n",
        "    \n",
        "    return results, compute_folder"
      ]
    },
    {
      "cell_type": "code",
      "execution_count": 22,
      "metadata": {},
      "outputs": [
        {
          "name": "stdout",
          "output_type": "stream",
          "text": [
            "Unsteady flow file path: d:\\GitHub\\ras-commander\\examples\\example_projects\\Davis\\DavisStormSystem.u01\n"
          ]
        }
      ],
      "source": [
        "# Get the path to unsteady flow file associated with Plan \"01\"\n",
        "unsteady_file = RasPlan.get_unsteady_path(\"01\")\n",
        "print(f\"Unsteady flow file path: {unsteady_file}\")"
      ]
    },
    {
      "cell_type": "code",
      "execution_count": null,
      "metadata": {},
      "outputs": [],
      "source": []
    },
    {
      "cell_type": "code",
      "execution_count": 23,
      "metadata": {},
      "outputs": [],
      "source": [
        "#-------------------------------------------------------------------------\n",
        "# Execute all plans in parallel\n",
        "#-------------------------------------------------------------------------"
      ]
    },
    {
      "cell_type": "code",
      "execution_count": 24,
      "metadata": {},
      "outputs": [
        {
          "name": "stderr",
          "output_type": "stream",
          "text": [
            "2025-04-10 05:05:44 - ras_commander.RasCmdr - INFO - Destination folder 'd:\\GitHub\\ras-commander\\examples\\example_projects\\Davis\\compute_aep_parallel' exists. Overwriting as per overwrite_dest=True.\n",
            "2025-04-10 05:05:44 - ras_commander.RasCmdr - INFO - Copied project folder to destination: d:\\GitHub\\ras-commander\\examples\\example_projects\\Davis\\compute_aep_parallel\n",
            "2025-04-10 05:05:44 - ras_commander.RasCmdr - INFO - Adjusted max_workers to 1 based on the number of plans: 7\n",
            "2025-04-10 05:05:44 - ras_commander.RasCmdr - INFO - Created worker folder: d:\\GitHub\\ras-commander\\examples\\example_projects\\Davis\\compute_aep_parallel [Worker 1]\n"
          ]
        },
        {
          "name": "stdout",
          "output_type": "stream",
          "text": [
            "Executing 0 plans in parallel with 1 workers, each using 2 cores...\n"
          ]
        },
        {
          "name": "stderr",
          "output_type": "stream",
          "text": [
            "2025-04-10 05:05:45 - ras_commander.RasMap - INFO - Successfully parsed RASMapper file: d:\\GitHub\\ras-commander\\examples\\example_projects\\Davis\\compute_aep_parallel [Worker 1]\\DavisStormSystem.rasmap\n",
            "2025-04-10 05:05:45 - ras_commander.RasMap - INFO - Successfully parsed RASMapper file: d:\\GitHub\\ras-commander\\examples\\example_projects\\Davis\\compute_aep_parallel [Worker 1]\\DavisStormSystem.rasmap\n",
            "2025-04-10 05:05:45 - ras_commander.RasPrj - INFO - Global 'ras' object also updated to match the new project.\n",
            "2025-04-10 05:05:45 - ras_commander.RasPrj - INFO - Project initialized. ras_object project folder: d:\\GitHub\\ras-commander\\examples\\example_projects\\Davis\\compute_aep_parallel [Worker 1]\n",
            "2025-04-10 05:05:45 - ras_commander.RasCmdr - INFO - Using ras_object with project folder: d:\\GitHub\\ras-commander\\examples\\example_projects\\Davis\\compute_aep_parallel [Worker 1]\n",
            "2025-04-10 05:05:45 - ras_commander.RasGeo - INFO - Clearing geometry preprocessor file for single plan: d:\\GitHub\\ras-commander\\examples\\example_projects\\Davis\\compute_aep_parallel [Worker 1]\\DavisStormSystem.p02\n",
            "2025-04-10 05:05:45 - ras_commander.RasGeo - WARNING - No geometry preprocessor file found for: d:\\GitHub\\ras-commander\\examples\\example_projects\\Davis\\compute_aep_parallel [Worker 1]\\DavisStormSystem.p02\n",
            "2025-04-10 05:05:45 - ras_commander.RasGeo - INFO - Geometry dataframe updated successfully.\n",
            "2025-04-10 05:05:45 - ras_commander.RasCmdr - INFO - Cleared geometry preprocessor files for plan: 02\n",
            "2025-04-10 05:05:45 - ras_commander.RasUtils - INFO - Using provided plan file path: d:\\GitHub\\ras-commander\\examples\\example_projects\\Davis\\compute_aep_parallel [Worker 1]\\DavisStormSystem.p02\n",
            "2025-04-10 05:05:45 - ras_commander.RasUtils - INFO - Successfully updated file: d:\\GitHub\\ras-commander\\examples\\example_projects\\Davis\\compute_aep_parallel [Worker 1]\\DavisStormSystem.p02\n",
            "2025-04-10 05:05:45 - ras_commander.RasCmdr - INFO - Set number of cores to 2 for plan: 02\n",
            "2025-04-10 05:05:45 - ras_commander.RasCmdr - INFO - Running HEC-RAS from the Command Line:\n",
            "2025-04-10 05:05:45 - ras_commander.RasCmdr - INFO - Running command: \"C:\\Program Files (x86)\\HEC\\HEC-RAS\\6.6\\Ras.exe\" -c \"D:\\GitHub\\ras-commander\\examples\\example_projects\\Davis\\compute_aep_parallel [Worker 1]\\DavisStormSystem.prj\" \"d:\\GitHub\\ras-commander\\examples\\example_projects\\Davis\\compute_aep_parallel [Worker 1]\\DavisStormSystem.p02\"\n",
            "2025-04-10 05:07:03 - ras_commander.RasCmdr - INFO - HEC-RAS execution completed for plan: 02\n",
            "2025-04-10 05:07:03 - ras_commander.RasCmdr - INFO - Total run time for plan 02: 78.09 seconds\n",
            "2025-04-10 05:07:03 - ras_commander.RasCmdr - INFO - Using ras_object with project folder: d:\\GitHub\\ras-commander\\examples\\example_projects\\Davis\\compute_aep_parallel [Worker 1]\n",
            "2025-04-10 05:07:03 - ras_commander.RasCmdr - INFO - Plan 02 executed in worker 1: Successful\n",
            "2025-04-10 05:07:03 - ras_commander.RasGeo - INFO - Clearing geometry preprocessor file for single plan: d:\\GitHub\\ras-commander\\examples\\example_projects\\Davis\\compute_aep_parallel [Worker 1]\\DavisStormSystem.p01\n",
            "2025-04-10 05:07:03 - ras_commander.RasGeo - WARNING - No geometry preprocessor file found for: d:\\GitHub\\ras-commander\\examples\\example_projects\\Davis\\compute_aep_parallel [Worker 1]\\DavisStormSystem.p01\n",
            "2025-04-10 05:07:03 - ras_commander.RasGeo - INFO - Geometry dataframe updated successfully.\n",
            "2025-04-10 05:07:03 - ras_commander.RasCmdr - INFO - Cleared geometry preprocessor files for plan: 01\n",
            "2025-04-10 05:07:03 - ras_commander.RasUtils - INFO - Using provided plan file path: d:\\GitHub\\ras-commander\\examples\\example_projects\\Davis\\compute_aep_parallel [Worker 1]\\DavisStormSystem.p01\n",
            "2025-04-10 05:07:03 - ras_commander.RasUtils - INFO - Successfully updated file: d:\\GitHub\\ras-commander\\examples\\example_projects\\Davis\\compute_aep_parallel [Worker 1]\\DavisStormSystem.p01\n",
            "2025-04-10 05:07:03 - ras_commander.RasCmdr - INFO - Set number of cores to 2 for plan: 01\n",
            "2025-04-10 05:07:03 - ras_commander.RasCmdr - INFO - Running HEC-RAS from the Command Line:\n",
            "2025-04-10 05:07:03 - ras_commander.RasCmdr - INFO - Running command: \"C:\\Program Files (x86)\\HEC\\HEC-RAS\\6.6\\Ras.exe\" -c \"D:\\GitHub\\ras-commander\\examples\\example_projects\\Davis\\compute_aep_parallel [Worker 1]\\DavisStormSystem.prj\" \"d:\\GitHub\\ras-commander\\examples\\example_projects\\Davis\\compute_aep_parallel [Worker 1]\\DavisStormSystem.p01\"\n",
            "2025-04-10 05:08:27 - ras_commander.RasCmdr - INFO - HEC-RAS execution completed for plan: 01\n",
            "2025-04-10 05:08:27 - ras_commander.RasCmdr - INFO - Total run time for plan 01: 84.01 seconds\n",
            "2025-04-10 05:08:27 - ras_commander.RasCmdr - INFO - Using ras_object with project folder: d:\\GitHub\\ras-commander\\examples\\example_projects\\Davis\\compute_aep_parallel [Worker 1]\n",
            "2025-04-10 05:08:27 - ras_commander.RasCmdr - INFO - Plan 01 executed in worker 1: Successful\n",
            "2025-04-10 05:08:27 - ras_commander.RasGeo - INFO - Clearing geometry preprocessor file for single plan: d:\\GitHub\\ras-commander\\examples\\example_projects\\Davis\\compute_aep_parallel [Worker 1]\\DavisStormSystem.p03\n",
            "2025-04-10 05:08:27 - ras_commander.RasGeo - WARNING - No geometry preprocessor file found for: d:\\GitHub\\ras-commander\\examples\\example_projects\\Davis\\compute_aep_parallel [Worker 1]\\DavisStormSystem.p03\n",
            "2025-04-10 05:08:27 - ras_commander.RasGeo - INFO - Geometry dataframe updated successfully.\n",
            "2025-04-10 05:08:27 - ras_commander.RasCmdr - INFO - Cleared geometry preprocessor files for plan: 03\n",
            "2025-04-10 05:08:27 - ras_commander.RasUtils - INFO - Using provided plan file path: d:\\GitHub\\ras-commander\\examples\\example_projects\\Davis\\compute_aep_parallel [Worker 1]\\DavisStormSystem.p03\n",
            "2025-04-10 05:08:27 - ras_commander.RasUtils - INFO - Successfully updated file: d:\\GitHub\\ras-commander\\examples\\example_projects\\Davis\\compute_aep_parallel [Worker 1]\\DavisStormSystem.p03\n",
            "2025-04-10 05:08:27 - ras_commander.RasCmdr - INFO - Set number of cores to 2 for plan: 03\n",
            "2025-04-10 05:08:27 - ras_commander.RasCmdr - INFO - Running HEC-RAS from the Command Line:\n",
            "2025-04-10 05:08:27 - ras_commander.RasCmdr - INFO - Running command: \"C:\\Program Files (x86)\\HEC\\HEC-RAS\\6.6\\Ras.exe\" -c \"D:\\GitHub\\ras-commander\\examples\\example_projects\\Davis\\compute_aep_parallel [Worker 1]\\DavisStormSystem.prj\" \"d:\\GitHub\\ras-commander\\examples\\example_projects\\Davis\\compute_aep_parallel [Worker 1]\\DavisStormSystem.p03\"\n",
            "2025-04-10 05:09:48 - ras_commander.RasCmdr - INFO - HEC-RAS execution completed for plan: 03\n",
            "2025-04-10 05:09:48 - ras_commander.RasCmdr - INFO - Total run time for plan 03: 81.44 seconds\n",
            "2025-04-10 05:09:48 - ras_commander.RasCmdr - INFO - Using ras_object with project folder: d:\\GitHub\\ras-commander\\examples\\example_projects\\Davis\\compute_aep_parallel [Worker 1]\n",
            "2025-04-10 05:09:48 - ras_commander.RasCmdr - INFO - Plan 03 executed in worker 1: Successful\n",
            "2025-04-10 05:09:48 - ras_commander.RasGeo - INFO - Clearing geometry preprocessor file for single plan: d:\\GitHub\\ras-commander\\examples\\example_projects\\Davis\\compute_aep_parallel [Worker 1]\\DavisStormSystem.p04\n",
            "2025-04-10 05:09:48 - ras_commander.RasGeo - WARNING - No geometry preprocessor file found for: d:\\GitHub\\ras-commander\\examples\\example_projects\\Davis\\compute_aep_parallel [Worker 1]\\DavisStormSystem.p04\n",
            "2025-04-10 05:09:48 - ras_commander.RasGeo - INFO - Geometry dataframe updated successfully.\n",
            "2025-04-10 05:09:48 - ras_commander.RasCmdr - INFO - Cleared geometry preprocessor files for plan: 04\n",
            "2025-04-10 05:09:48 - ras_commander.RasUtils - INFO - Using provided plan file path: d:\\GitHub\\ras-commander\\examples\\example_projects\\Davis\\compute_aep_parallel [Worker 1]\\DavisStormSystem.p04\n",
            "2025-04-10 05:09:48 - ras_commander.RasUtils - INFO - Successfully updated file: d:\\GitHub\\ras-commander\\examples\\example_projects\\Davis\\compute_aep_parallel [Worker 1]\\DavisStormSystem.p04\n",
            "2025-04-10 05:09:48 - ras_commander.RasCmdr - INFO - Set number of cores to 2 for plan: 04\n",
            "2025-04-10 05:09:48 - ras_commander.RasCmdr - INFO - Running HEC-RAS from the Command Line:\n",
            "2025-04-10 05:09:48 - ras_commander.RasCmdr - INFO - Running command: \"C:\\Program Files (x86)\\HEC\\HEC-RAS\\6.6\\Ras.exe\" -c \"D:\\GitHub\\ras-commander\\examples\\example_projects\\Davis\\compute_aep_parallel [Worker 1]\\DavisStormSystem.prj\" \"d:\\GitHub\\ras-commander\\examples\\example_projects\\Davis\\compute_aep_parallel [Worker 1]\\DavisStormSystem.p04\"\n",
            "2025-04-10 05:10:51 - ras_commander.RasCmdr - INFO - HEC-RAS execution completed for plan: 04\n",
            "2025-04-10 05:10:51 - ras_commander.RasCmdr - INFO - Total run time for plan 04: 62.58 seconds\n",
            "2025-04-10 05:10:51 - ras_commander.RasCmdr - INFO - Using ras_object with project folder: d:\\GitHub\\ras-commander\\examples\\example_projects\\Davis\\compute_aep_parallel [Worker 1]\n",
            "2025-04-10 05:10:51 - ras_commander.RasCmdr - INFO - Plan 04 executed in worker 1: Successful\n",
            "2025-04-10 05:10:51 - ras_commander.RasGeo - INFO - Clearing geometry preprocessor file for single plan: d:\\GitHub\\ras-commander\\examples\\example_projects\\Davis\\compute_aep_parallel [Worker 1]\\DavisStormSystem.p05\n",
            "2025-04-10 05:10:51 - ras_commander.RasGeo - WARNING - No geometry preprocessor file found for: d:\\GitHub\\ras-commander\\examples\\example_projects\\Davis\\compute_aep_parallel [Worker 1]\\DavisStormSystem.p05\n",
            "2025-04-10 05:10:51 - ras_commander.RasGeo - INFO - Geometry dataframe updated successfully.\n",
            "2025-04-10 05:10:51 - ras_commander.RasCmdr - INFO - Cleared geometry preprocessor files for plan: 05\n",
            "2025-04-10 05:10:51 - ras_commander.RasUtils - INFO - Using provided plan file path: d:\\GitHub\\ras-commander\\examples\\example_projects\\Davis\\compute_aep_parallel [Worker 1]\\DavisStormSystem.p05\n",
            "2025-04-10 05:10:51 - ras_commander.RasUtils - INFO - Successfully updated file: d:\\GitHub\\ras-commander\\examples\\example_projects\\Davis\\compute_aep_parallel [Worker 1]\\DavisStormSystem.p05\n",
            "2025-04-10 05:10:51 - ras_commander.RasCmdr - INFO - Set number of cores to 2 for plan: 05\n",
            "2025-04-10 05:10:51 - ras_commander.RasCmdr - INFO - Running HEC-RAS from the Command Line:\n",
            "2025-04-10 05:10:51 - ras_commander.RasCmdr - INFO - Running command: \"C:\\Program Files (x86)\\HEC\\HEC-RAS\\6.6\\Ras.exe\" -c \"D:\\GitHub\\ras-commander\\examples\\example_projects\\Davis\\compute_aep_parallel [Worker 1]\\DavisStormSystem.prj\" \"d:\\GitHub\\ras-commander\\examples\\example_projects\\Davis\\compute_aep_parallel [Worker 1]\\DavisStormSystem.p05\"\n",
            "2025-04-10 05:11:52 - ras_commander.RasCmdr - INFO - HEC-RAS execution completed for plan: 05\n",
            "2025-04-10 05:11:52 - ras_commander.RasCmdr - INFO - Total run time for plan 05: 60.98 seconds\n",
            "2025-04-10 05:11:52 - ras_commander.RasCmdr - INFO - Using ras_object with project folder: d:\\GitHub\\ras-commander\\examples\\example_projects\\Davis\\compute_aep_parallel [Worker 1]\n",
            "2025-04-10 05:11:52 - ras_commander.RasCmdr - INFO - Plan 05 executed in worker 1: Successful\n",
            "2025-04-10 05:11:52 - ras_commander.RasGeo - INFO - Clearing geometry preprocessor file for single plan: d:\\GitHub\\ras-commander\\examples\\example_projects\\Davis\\compute_aep_parallel [Worker 1]\\DavisStormSystem.p06\n",
            "2025-04-10 05:11:52 - ras_commander.RasGeo - WARNING - No geometry preprocessor file found for: d:\\GitHub\\ras-commander\\examples\\example_projects\\Davis\\compute_aep_parallel [Worker 1]\\DavisStormSystem.p06\n",
            "2025-04-10 05:11:52 - ras_commander.RasGeo - INFO - Geometry dataframe updated successfully.\n",
            "2025-04-10 05:11:52 - ras_commander.RasCmdr - INFO - Cleared geometry preprocessor files for plan: 06\n",
            "2025-04-10 05:11:52 - ras_commander.RasUtils - INFO - Using provided plan file path: d:\\GitHub\\ras-commander\\examples\\example_projects\\Davis\\compute_aep_parallel [Worker 1]\\DavisStormSystem.p06\n",
            "2025-04-10 05:11:52 - ras_commander.RasUtils - INFO - Successfully updated file: d:\\GitHub\\ras-commander\\examples\\example_projects\\Davis\\compute_aep_parallel [Worker 1]\\DavisStormSystem.p06\n",
            "2025-04-10 05:11:52 - ras_commander.RasCmdr - INFO - Set number of cores to 2 for plan: 06\n",
            "2025-04-10 05:11:52 - ras_commander.RasCmdr - INFO - Running HEC-RAS from the Command Line:\n",
            "2025-04-10 05:11:52 - ras_commander.RasCmdr - INFO - Running command: \"C:\\Program Files (x86)\\HEC\\HEC-RAS\\6.6\\Ras.exe\" -c \"D:\\GitHub\\ras-commander\\examples\\example_projects\\Davis\\compute_aep_parallel [Worker 1]\\DavisStormSystem.prj\" \"d:\\GitHub\\ras-commander\\examples\\example_projects\\Davis\\compute_aep_parallel [Worker 1]\\DavisStormSystem.p06\"\n",
            "2025-04-10 05:12:52 - ras_commander.RasCmdr - INFO - HEC-RAS execution completed for plan: 06\n",
            "2025-04-10 05:12:52 - ras_commander.RasCmdr - INFO - Total run time for plan 06: 59.44 seconds\n",
            "2025-04-10 05:12:52 - ras_commander.RasCmdr - INFO - Using ras_object with project folder: d:\\GitHub\\ras-commander\\examples\\example_projects\\Davis\\compute_aep_parallel [Worker 1]\n",
            "2025-04-10 05:12:52 - ras_commander.RasCmdr - INFO - Plan 06 executed in worker 1: Successful\n",
            "2025-04-10 05:12:52 - ras_commander.RasGeo - INFO - Clearing geometry preprocessor file for single plan: d:\\GitHub\\ras-commander\\examples\\example_projects\\Davis\\compute_aep_parallel [Worker 1]\\DavisStormSystem.p07\n",
            "2025-04-10 05:12:52 - ras_commander.RasGeo - WARNING - No geometry preprocessor file found for: d:\\GitHub\\ras-commander\\examples\\example_projects\\Davis\\compute_aep_parallel [Worker 1]\\DavisStormSystem.p07\n",
            "2025-04-10 05:12:52 - ras_commander.RasGeo - INFO - Geometry dataframe updated successfully.\n",
            "2025-04-10 05:12:52 - ras_commander.RasCmdr - INFO - Cleared geometry preprocessor files for plan: 07\n",
            "2025-04-10 05:12:52 - ras_commander.RasUtils - INFO - Using provided plan file path: d:\\GitHub\\ras-commander\\examples\\example_projects\\Davis\\compute_aep_parallel [Worker 1]\\DavisStormSystem.p07\n",
            "2025-04-10 05:12:52 - ras_commander.RasUtils - INFO - Successfully updated file: d:\\GitHub\\ras-commander\\examples\\example_projects\\Davis\\compute_aep_parallel [Worker 1]\\DavisStormSystem.p07\n",
            "2025-04-10 05:12:52 - ras_commander.RasCmdr - INFO - Set number of cores to 2 for plan: 07\n",
            "2025-04-10 05:12:52 - ras_commander.RasCmdr - INFO - Running HEC-RAS from the Command Line:\n",
            "2025-04-10 05:12:52 - ras_commander.RasCmdr - INFO - Running command: \"C:\\Program Files (x86)\\HEC\\HEC-RAS\\6.6\\Ras.exe\" -c \"D:\\GitHub\\ras-commander\\examples\\example_projects\\Davis\\compute_aep_parallel [Worker 1]\\DavisStormSystem.prj\" \"d:\\GitHub\\ras-commander\\examples\\example_projects\\Davis\\compute_aep_parallel [Worker 1]\\DavisStormSystem.p07\"\n",
            "2025-04-10 05:13:51 - ras_commander.RasCmdr - INFO - HEC-RAS execution completed for plan: 07\n",
            "2025-04-10 05:13:51 - ras_commander.RasCmdr - INFO - Total run time for plan 07: 59.75 seconds\n",
            "2025-04-10 05:13:51 - ras_commander.RasCmdr - INFO - Plan 07 executed in worker 1: Successful\n",
            "2025-04-10 05:13:51 - ras_commander.RasCmdr - INFO - Final destination for computed results: d:\\GitHub\\ras-commander\\examples\\example_projects\\Davis\\compute_aep_parallel\n",
            "2025-04-10 05:13:54 - ras_commander.RasMap - INFO - Successfully parsed RASMapper file: d:\\GitHub\\ras-commander\\examples\\example_projects\\Davis\\compute_aep_parallel\\DavisStormSystem.rasmap\n",
            "2025-04-10 05:13:54 - ras_commander.RasMap - INFO - Successfully parsed RASMapper file: d:\\GitHub\\ras-commander\\examples\\example_projects\\Davis\\compute_aep_parallel\\DavisStormSystem.rasmap\n",
            "2025-04-10 05:13:54 - ras_commander.RasPrj - INFO - Global 'ras' object also updated to match the new project.\n",
            "2025-04-10 05:13:54 - ras_commander.RasPrj - INFO - Project initialized. ras_object project folder: d:\\GitHub\\ras-commander\\examples\\example_projects\\Davis\\compute_aep_parallel\n",
            "2025-04-10 05:13:54 - ras_commander.RasCmdr - INFO - \n",
            "Execution Results:\n",
            "2025-04-10 05:13:54 - ras_commander.RasCmdr - INFO - Plan 02: Successful\n",
            "2025-04-10 05:13:54 - ras_commander.RasCmdr - INFO - Plan 01: Successful\n",
            "2025-04-10 05:13:54 - ras_commander.RasCmdr - INFO - Plan 03: Successful\n",
            "2025-04-10 05:13:54 - ras_commander.RasCmdr - INFO - Plan 04: Successful\n",
            "2025-04-10 05:13:54 - ras_commander.RasCmdr - INFO - Plan 05: Successful\n",
            "2025-04-10 05:13:54 - ras_commander.RasCmdr - INFO - Plan 06: Successful\n",
            "2025-04-10 05:13:54 - ras_commander.RasCmdr - INFO - Plan 07: Successful\n"
          ]
        },
        {
          "name": "stdout",
          "output_type": "stream",
          "text": [
            "Parallel execution completed in 489.36 seconds\n",
            "\n",
            "Execution Results:\n"
          ]
        },
        {
          "data": {
            "text/html": "<div>\n<style scoped>\\n', '    .dataframe tbody tr th:only-of-type {\\n', '        vertical-align: middle;\\n', '    }\\n', '\\n', '    .dataframe tbody tr th {\\n', '        vertical-align: top;\\n', '    }\\n', '\\n', '    .dataframe thead th {\\n', '        text-align: right;\\n', '    }\\n', '</style>\n<table border=\"1\" class=\"dataframe\">\n  <thead>\\n', '    <tr style=\"text-align: right;\">\\n', '      <th></th>\\n', '      <th>Plan</th>\\n', '      <th>Success</th>\\n', '    </tr>\\n', '  </thead>\n  <tbody>\n    <tr>\\n', '      <th>1</th>\\n', '      <td>01</td>\\n', '      <td>True</td>\\n', '    </tr><tr>\\n', '      <th>0</th>\\n', '      <td>02</td>\\n', '      <td>True</td>\\n', '    </tr><tr>\\n', '      <th>2</th>\\n', '      <td>03</td>\\n', '      <td>True</td>\\n', '    </tr><tr>\\n', '      <th>3</th>\\n', '      <td>04</td>\\n', '      <td>True</td>\\n', '    </tr><tr>\\n', '      <th>4</th>\\n', '      <td>05</td>\\n', '      <td>True</td>\\n', '    </tr>\n    <tr><td colspan=\"100%\" style=\"text-align:center\">[... additional rows truncated ...]</td></tr>\n  </tbody>\n</table>\n</div>",
            "text/plain": [
              "  Plan  Success\n",
              "1   01     True\n",
              "0   02     True\n",
              "2   03     True\n",
              "3   04     True\n",
              "4   05     True\n",
              "5   06     True\n",
              "6   07     True"
            ]
          },
          "metadata": {},
          "output_type": "display_data"
        }
      ],
      "source": [
        "# Set computation parameters for better performance\n",
        "for plan_number in new_plan_numbers:\n",
        "    RasPlan.set_num_cores(plan_number, 2, ras_object=ras)\n",
        "    RasPlan.update_plan_intervals(\n",
        "        plan_number,\n",
        "        computation_interval=\"15MIN\",\n",
        "        output_interval=\"30MIN\",\n",
        "        mapping_interval=\"1HOUR\",\n",
        "        ras_object=ras\n",
        "    )\n",
        "    print(f\"Updated computation settings for plan {plan_number}\")\n",
        "\n",
        "# Execute plans in parallel\n",
        "results, compute_folder = execute_plans_in_parallel(\n",
        "    plan_numbers=new_plan_numbers,\n",
        "    project=ras\n",
        ")"
      ]
    },
    {
      "cell_type": "markdown",
      "metadata": {},
      "source": [
        "print(\"\\nStep 4: Executing all plans in parallel...\")\n",
        "\n",
        "results, compute_folder = execute_plans_in_parallel(\n",
        "    plan_numbers=new_plan_numbers,\n",
        "    project=ras\n",
        ")"
      ]
    },
    {
      "cell_type": "code",
      "execution_count": 25,
      "metadata": {},
      "outputs": [
        {
          "data": {
            "text/html": "<div>\n<style scoped>\\n', '    .dataframe tbody tr th:only-of-type {\\n', '        vertical-align: middle;\\n', '    }\\n', '\\n', '    .dataframe tbody tr th {\\n', '        vertical-align: top;\\n', '    }\\n', '\\n', '    .dataframe thead th {\\n', '        text-align: right;\\n', '    }\\n', '</style>\n<table border=\"1\" class=\"dataframe\">\n  <thead>\\n', '    <tr style=\"text-align: right;\">\\n', '      <th></th>\\n', '      <th>plan_number</th>\\n', '      <th>unsteady_number</th>\\n', '      <th>geometry_number</th>\\n', '      <th>Plan Title</th>\\n', '      <th>Program Version</th>\\n', '      <th>Short Identifier</th>\\n', '      <th>Simulation Date</th>\\n', '      <th>Computation Interval</th>\\n', '      <th>Mapping Interval</th>\\n', '      <th>Run HTab</th>\\n', '      <th>...</th>\\n', '      <th>DSS File</th>\\n', '      <th>Friction Slope Method</th>\\n', '      <th>UNET D2 SolverType</th>\\n', '      <th>UNET D2 Name</th>\\n', '      <th>HDF_Results_Path</th>\\n', '      <th>Geom File</th>\\n', '      <th>Geom Path</th>\\n', '      <th>Flow File</th>\\n', '      <th>Flow Path</th>\\n', '      <th>full_path</th>\\n', '    </tr>\\n', '  </thead>\n  <tbody>\n    <tr>\\n', '      <th>0</th>\\n', '      <td>02</td>\\n', '      <td>01</td>\\n', '      <td>02</td>\\n', '      <td>Full System ROM with Pump</td>\\n', '      <td>6.60</td>\\n', '      <td>Full System ROM with Pump</td>\\n', '      <td>10JAN2000,1200,11JAN2000,2400</td>\\n', '      <td>12SEC</td>\\n', '      <td>10MIN</td>\\n', '      <td>-1</td>\\n', '      <td>...</td>\\n', '      <td>dss</td>\\n', '      <td>1</td>\\n', '      <td>PARDISO (Direct)</td>\\n', '      <td>area2</td>\\n', '      <td>d:\\\\GitHub\\\\ras-commander\\\\examples\\\\example_proje...</td>\\n', '      <td>02</td>\\n', '      <td>None</td>\\n', '      <td>01</td>\\n', '      <td>None</td>\\n', '      <td>d:\\\\GitHub\\\\ras-commander\\\\examples\\\\example_proje...</td>\\n', '    </tr><tr>\\n', '      <th>1</th>\\n', '      <td>01</td>\\n', '      <td>02</td>\\n', '      <td>02</td>\\n', '      <td>Full System ROM with Pump</td>\\n', '      <td>6.60</td>\\n', '      <td>2YR-24HR</td>\\n', '      <td>10JAN2000,1200,11JAN2000,2400</td>\\n', '      <td>12SEC</td>\\n', '      <td>10MIN</td>\\n', '      <td>-1</td>\\n', '      <td>...</td>\\n', '      <td>dss</td>\\n', '      <td>1</td>\\n', '      <td>PARDISO (Direct)</td>\\n', '      <td>area2</td>\\n', '      <td>d:\\\\GitHub\\\\ras-commander\\\\examples\\\\example_proje...</td>\\n', '      <td>02</td>\\n', '      <td>None</td>\\n', '      <td>02</td>\\n', '      <td>None</td>\\n', '      <td>d:\\\\GitHub\\\\ras-commander\\\\examples\\\\example_proje...</td>\\n', '    </tr><tr>\\n', '      <th>2</th>\\n', '      <td>03</td>\\n', '      <td>03</td>\\n', '      <td>02</td>\\n', '      <td>Full System ROM with Pump</td>\\n', '      <td>6.60</td>\\n', '      <td>5YR-24HR</td>\\n', '      <td>10JAN2000,1200,11JAN2000,2400</td>\\n', '      <td>12SEC</td>\\n', '      <td>10MIN</td>\\n', '      <td>-1</td>\\n', '      <td>...</td>\\n', '      <td>dss</td>\\n', '      <td>1</td>\\n', '      <td>PARDISO (Direct)</td>\\n', '      <td>area2</td>\\n', '      <td>d:\\\\GitHub\\\\ras-commander\\\\examples\\\\example_proje...</td>\\n', '      <td>02</td>\\n', '      <td>None</td>\\n', '      <td>03</td>\\n', '      <td>None</td>\\n', '      <td>d:\\\\GitHub\\\\ras-commander\\\\examples\\\\example_proje...</td>\\n', '    </tr><tr>\\n', '      <th>3</th>\\n', '      <td>04</td>\\n', '      <td>04</td>\\n', '      <td>02</td>\\n', '      <td>Full System ROM with Pump</td>\\n', '      <td>6.60</td>\\n', '      <td>10YR-24HR</td>\\n', '      <td>10JAN2000,1200,11JAN2000,2400</td>\\n', '      <td>12SEC</td>\\n', '      <td>10MIN</td>\\n', '      <td>-1</td>\\n', '      <td>...</td>\\n', '      <td>dss</td>\\n', '      <td>1</td>\\n', '      <td>PARDISO (Direct)</td>\\n', '      <td>area2</td>\\n', '      <td>d:\\\\GitHub\\\\ras-commander\\\\examples\\\\example_proje...</td>\\n', '      <td>02</td>\\n', '      <td>None</td>\\n', '      <td>04</td>\\n', '      <td>None</td>\\n', '      <td>d:\\\\GitHub\\\\ras-commander\\\\examples\\\\example_proje...</td>\\n', '    </tr><tr>\\n', '      <th>4</th>\\n', '      <td>05</td>\\n', '      <td>05</td>\\n', '      <td>02</td>\\n', '      <td>Full System ROM with Pump</td>\\n', '      <td>6.60</td>\\n', '      <td>25YR-24HR</td>\\n', '      <td>10JAN2000,1200,11JAN2000,2400</td>\\n', '      <td>12SEC</td>\\n', '      <td>10MIN</td>\\n', '      <td>-1</td>\\n', '      <td>...</td>\\n', '      <td>dss</td>\\n', '      <td>1</td>\\n', '      <td>PARDISO (Direct)</td>\\n', '      <td>area2</td>\\n', '      <td>d:\\\\GitHub\\\\ras-commander\\\\examples\\\\example_proje...</td>\\n', '      <td>02</td>\\n', '      <td>None</td>\\n', '      <td>05</td>\\n', '      <td>None</td>\\n', '      <td>d:\\\\GitHub\\\\ras-commander\\\\examples\\\\example_proje...</td>\\n', '    </tr>\n    <tr><td colspan=\"100%\" style=\"text-align:center\">[... additional rows truncated ...]</td></tr>\n  </tbody>\n</table>\n</div>",
            "text/plain": "['  plan_number unsteady_number geometry_number                 Plan Title  \\\\\\n', '0          02              01              02  Full System ROM with Pump   \\n', '1          01              02              02  Full System ROM with Pump   \\n', '2          03              03              02  Full System ROM with Pump   \\n', '3          04              04              02  Full System ROM with Pump   \\n', '4          05              05              02  Full System ROM with Pump   \\n', '5          06              06              02  Full System ROM with Pump   \\n', '6          07              07              02  Full System ROM with Pump   \\n', '\\n', '  Program Version           Short Identifier                Simulation Date  \\\\\\n', '0            6.60  Full System ROM with Pump  10JAN2000,1200,11JAN2000,2400   \\n', '1            6.60                   2YR-24HR  10JAN2000,1200,11JAN2000,2400   \\n', '2            6.60                   5YR-24HR  10JAN2000,1200,11JAN2000,2400   \\n', '3     \n...\n[Output truncated, 3834 characters total]"
          },
          "execution_count": 25,
          "metadata": {},
          "output_type": "execute_result"
        }
      ],
      "source": [
        "ras.plan_df"
      ]
    },
    {
      "cell_type": "code",
      "execution_count": 26,
      "metadata": {},
      "outputs": [
        {
          "name": "stderr",
          "output_type": "stream",
          "text": [
            "2025-04-10 05:13:54 - ras_commander.HdfResultsPlan - INFO - Final validated HDF file path: d:\\GitHub\\ras-commander\\examples\\example_projects\\Davis\\compute_aep_parallel\\DavisStormSystem.p02.hdf\n",
            "2025-04-10 05:13:54 - ras_commander.HdfResultsPlan - INFO - Extracting Plan Information from: DavisStormSystem.p02.hdf\n",
            "2025-04-10 05:13:54 - ras_commander.HdfResultsPlan - INFO - Plan Name: Full System ROM with Pump\n",
            "2025-04-10 05:13:54 - ras_commander.HdfResultsPlan - INFO - Simulation Duration (hours): 36.0\n"
          ]
        }
      ],
      "source": [
        "runtime_df = HdfResultsPlan.get_runtime_data(\"02\")"
      ]
    },
    {
      "cell_type": "code",
      "execution_count": 27,
      "metadata": {},
      "outputs": [
        {
          "data": {
            "text/html": "<div>\n<style scoped>\\n', '    .dataframe tbody tr th:only-of-type {\\n', '        vertical-align: middle;\\n', '    }\\n', '\\n', '    .dataframe tbody tr th {\\n', '        vertical-align: top;\\n', '    }\\n', '\\n', '    .dataframe thead th {\\n', '        text-align: right;\\n', '    }\\n', '</style>\n<table border=\"1\" class=\"dataframe\">\n  <thead>\\n', '    <tr style=\"text-align: right;\">\\n', '      <th></th>\\n', '      <th>Plan Name</th>\\n', '      <th>File Name</th>\\n', '      <th>Simulation Start Time</th>\\n', '      <th>Simulation End Time</th>\\n', '      <th>Simulation Duration (s)</th>\\n', '      <th>Simulation Time (hr)</th>\\n', '      <th>Completing Geometry (hr)</th>\\n', '      <th>Preprocessing Geometry (hr)</th>\\n', '      <th>Completing Event Conditions (hr)</th>\\n', '      <th>Unsteady Flow Computations (hr)</th>\\n', '      <th>Complete Process (hr)</th>\\n', '      <th>Unsteady Flow Speed (hr/hr)</th>\\n', '      <th>Complete Process Speed (hr/hr)</th>\\n', '    </tr>\\n', '  </thead>\n  <tbody>\n    <tr>\\n', '      <th>0</th>\\n', '      <td>Full System ROM with Pump</td>\\n', '      <td>DavisStormSystem.p02.hdf</td>\\n', '      <td>2000-01-10 12:00:00</td>\\n', '      <td>2000-01-12</td>\\n', '      <td>129600.0</td>\\n', '      <td>36.0</td>\\n', '      <td>N/A</td>\\n', '      <td>0.000082</td>\\n', '      <td>N/A</td>\\n', '      <td>0.019058</td>\\n', '      <td>0.020725</td>\\n', '      <td>1888.937473</td>\\n', '      <td>1737.032569</td>\\n', '    </tr>\n    <tr><td colspan=\"100%\" style=\"text-align:center\">[... additional rows truncated ...]</td></tr>\n  </tbody>\n</table>\n</div>",
            "text/plain": "['                   Plan Name                 File Name Simulation Start Time  \\\\\\n', '0  Full System ROM with Pump  DavisStormSystem.p02.hdf   2000-01-10 12:00:00   \\n', '\\n', '  Simulation End Time  Simulation Duration (s)  Simulation Time (hr)  \\\\\\n', '0          2000-01-12                 129600.0                  36.0   \\n', '\\n', '  Completing Geometry (hr)  Preprocessing Geometry (hr)  \\\\\\n', '0                      N/A                     0.000082   \\n', '\\n', '  Completing Event Conditions (hr)  Unsteady Flow Computations (hr)  \\\\\\n', '0                              N/A                         0.019058   \\n', '\\n', '   Complete Process (hr)  Unsteady Flow Speed (hr/hr)  \\\\\\n', '0               0.020725                  1888.937473   \\n', '\\n', '   Complete Process Speed (hr/hr)  \\n', '0                     1737.032569  ']"
          },
          "execution_count": 27,
          "metadata": {},
          "output_type": "execute_result"
        }
      ],
      "source": [
        "runtime_df"
      ]
    },
    {
      "cell_type": "code",
      "execution_count": 28,
      "metadata": {},
      "outputs": [
        {
          "name": "stderr",
          "output_type": "stream",
          "text": [
            "2025-04-10 05:13:54 - ras_commander.HdfPipe - INFO - Final validated HDF file path: d:\\GitHub\\ras-commander\\examples\\example_projects\\Davis\\compute_aep_parallel\\DavisStormSystem.p02.hdf\n"
          ]
        }
      ],
      "source": [
        "pipe_flow_ds = HdfPipe.get_pipe_network_timeseries(\"02\", variable=\"Pipes/Pipe Flow DS\")\n"
      ]
    },
    {
      "cell_type": "code",
      "execution_count": 29,
      "metadata": {},
      "outputs": [
        {
          "data": {
            "text/html": "<div><pre>xarray.DataArray with Unknown dimensions\n[Full xarray output truncated during preprocessing]</pre></div>",
            "text/plain": "xarray.DataArray with Unknown dimensions\n[Full xarray output truncated during preprocessing]"
          },
          "execution_count": 29,
          "metadata": {},
          "output_type": "execute_result"
        }
      ],
      "source": [
        "pipe_flow_ds "
      ]
    },
    {
      "cell_type": "code",
      "execution_count": 30,
      "metadata": {},
      "outputs": [
        {
          "name": "stderr",
          "output_type": "stream",
          "text": [
            "2025-04-10 05:13:54 - ras_commander.HdfPipe - INFO - Final validated HDF file path: d:\\GitHub\\ras-commander\\examples\\example_projects\\Davis\\compute_aep_parallel\\DavisStormSystem.p02.hdf\n"
          ]
        }
      ],
      "source": [
        "node_ws = HdfPipe.get_pipe_network_timeseries(\"02\", variable=\"Nodes/Water Surface\")"
      ]
    },
    {
      "cell_type": "code",
      "execution_count": 31,
      "metadata": {},
      "outputs": [
        {
          "data": {
            "text/html": "<div><pre>xarray.DataArray with Unknown dimensions\n[Full xarray output truncated during preprocessing]</pre></div>",
            "text/plain": "xarray.DataArray with Unknown dimensions\n[Full xarray output truncated during preprocessing]"
          },
          "execution_count": 31,
          "metadata": {},
          "output_type": "execute_result"
        }
      ],
      "source": [
        "node_ws"
      ]
    },
    {
      "cell_type": "code",
      "execution_count": 32,
      "metadata": {},
      "outputs": [],
      "source": [
        "def analyze_results(results, compute_folder, project):\n",
        "    \"\"\"\n",
        "    Analyzes the results from multiple plans.\n",
        "    \"\"\"\n",
        "    print(\"Analyzing results from parallel execution...\")\n",
        "    \n",
        "    # Initialize a RAS project in the compute folder\n",
        "    compute_project = RasPrj()\n",
        "    compute_project = init_ras_project(compute_folder, \"6.6\", ras_object=compute_project)\n",
        "    print(f\"Initialized compute project: {compute_project.project_name}\")\n",
        "    \n",
        "    # Check which plans have results\n",
        "    plans_with_results = compute_project.plan_df[compute_project.plan_df['HDF_Results_Path'].notna()]\n",
        "    print(f\"\\nFound {len(plans_with_results)} plans with results:\")\n",
        "    display.display(plans_with_results[['plan_number', 'Short Identifier', 'HDF_Results_Path']])\n",
        "    \n",
        "    # Initialize a dictionary to store analysis results\n",
        "    analysis_results = {}\n",
        "    \n",
        "    # Analyze each plan's results\n",
        "    for idx, row in plans_with_results.iterrows():\n",
        "        plan_number = row['plan_number']\n",
        "        plan_name = row['Short Identifier']\n",
        "        hdf_path = row['HDF_Results_Path']\n",
        "        \n",
        "        print(f\"\\nAnalyzing results for plan {plan_number} ({plan_name})...\")\n",
        "        \n",
        "        try:\n",
        "            # Get runtime data\n",
        "            runtime_df = HdfResultsPlan.get_runtime_data(hdf_path)\n",
        "            \n",
        "            if runtime_df is not None and not runtime_df.empty:\n",
        "                # Extract key metrics\n",
        "                sim_duration = runtime_df['Simulation Duration (s)'].iloc[0]\n",
        "                compute_time = runtime_df['Complete Process (hr)'].iloc[0]\n",
        "                compute_speed = runtime_df['Complete Process Speed (hr/hr)'].iloc[0]\n",
        "                \n",
        "                # Get pipe network results\n",
        "                try:\n",
        "                    # Get pipe flow data\n",
        "                    pipe_flow_ds = HdfPipe.get_pipe_network_timeseries(hdf_path, variable=\"Pipes/Pipe Flow DS\")\n",
        "                    node_ws = HdfPipe.get_pipe_network_timeseries(hdf_path, variable=\"Nodes/Water Surface\")\n",
        "                    \n",
        "                    # Convert xarray DataArrays to numpy arrays and compute statistics\n",
        "                    pipe_flow_array = pipe_flow_ds.values\n",
        "                    node_ws_array = node_ws.values\n",
        "                    \n",
        "                    # Calculate maximum flows and water surfaces\n",
        "                    max_flows = np.nanmax(pipe_flow_array, axis=0)  # Max over time for each location\n",
        "                    avg_max_flow = np.nanmean(max_flows)\n",
        "                    max_max_flow = np.nanmax(max_flows)\n",
        "                    \n",
        "                    max_ws = np.nanmax(node_ws_array, axis=0)  # Max over time for each node\n",
        "                    avg_max_ws = np.nanmean(max_ws)\n",
        "                    max_max_ws = np.nanmax(max_ws)\n",
        "                    \n",
        "                    # Store results in the dictionary\n",
        "                    analysis_results[plan_name] = {\n",
        "                        'Plan Number': plan_number,\n",
        "                        'Simulation Duration (s)': sim_duration,\n",
        "                        'Compute Time (hr)': compute_time,\n",
        "                        'Compute Speed (hr/hr)': compute_speed,\n",
        "                        'Average Max Pipe Flow (cfs)': avg_max_flow,\n",
        "                        'Maximum Pipe Flow (cfs)': max_max_flow,\n",
        "                        'Average Max Node Water Surface (ft)': avg_max_ws,\n",
        "                        'Maximum Node Water Surface (ft)': max_max_ws,\n",
        "                        'HDF Path': hdf_path\n",
        "                    }\n",
        "                    \n",
        "                    print(f\"  Simulation Duration: {sim_duration:.2f} seconds\")\n",
        "                    print(f\"  Computation Time: {compute_time:.5f} hours\")\n",
        "                    print(f\"  Computation Speed: {compute_speed:.2f} (simulation hours/compute hours)\")\n",
        "                    print(f\"  Average Max Pipe Flow: {avg_max_flow:.2f} cfs\")\n",
        "                    print(f\"  Maximum Pipe Flow: {max_max_flow:.2f} cfs\")\n",
        "                    print(f\"  Average Max Node Water Surface: {avg_max_ws:.2f} ft\")\n",
        "                    print(f\"  Maximum Node Water Surface: {max_max_ws:.2f} ft\")\n",
        "                    \n",
        "                except Exception as e:\n",
        "                    print(f\"  Error analyzing pipe network data: {str(e)}\")\n",
        "                    analysis_results[plan_name] = {\n",
        "                        'Plan Number': plan_number,\n",
        "                        'Simulation Duration (s)': sim_duration,\n",
        "                        'Compute Time (hr)': compute_time,\n",
        "                        'Compute Speed (hr/hr)': compute_speed,\n",
        "                        'Average Max Pipe Flow (cfs)': np.nan,\n",
        "                        'Maximum Pipe Flow (cfs)': np.nan,\n",
        "                        'Average Max Node Water Surface (ft)': np.nan,\n",
        "                        'Maximum Node Water Surface (ft)': np.nan,\n",
        "                        'HDF Path': hdf_path\n",
        "                    }\n",
        "            else:\n",
        "                print(\"  No runtime data found.\")\n",
        "                analysis_results[plan_name] = {\n",
        "                    'Plan Number': plan_number,\n",
        "                    'Simulation Duration (s)': np.nan,\n",
        "                    'Compute Time (hr)': np.nan,\n",
        "                    'Compute Speed (hr/hr)': np.nan,\n",
        "                    'Average Max Pipe Flow (cfs)': np.nan,\n",
        "                    'Maximum Pipe Flow (cfs)': np.nan,\n",
        "                    'Average Max Node Water Surface (ft)': np.nan,\n",
        "                    'Maximum Node Water Surface (ft)': np.nan,\n",
        "                    'HDF Path': hdf_path\n",
        "                }\n",
        "                \n",
        "        except Exception as e:\n",
        "            print(f\"  Error analyzing plan {plan_number}: {str(e)}\")\n",
        "            analysis_results[plan_name] = {\n",
        "                'Plan Number': plan_number,\n",
        "                'Simulation Duration (s)': np.nan,\n",
        "                'Compute Time (hr)': np.nan,\n",
        "                'Compute Speed (hr/hr)': np.nan,\n",
        "                'Average Max Pipe Flow (cfs)': np.nan,\n",
        "                'Maximum Pipe Flow (cfs)': np.nan,\n",
        "                'Average Max Node Water Surface (ft)': np.nan,\n",
        "                'Maximum Node Water Surface (ft)': np.nan,\n",
        "                'HDF Path': hdf_path\n",
        "            }\n",
        "    \n",
        "    # Create a DataFrame from the analysis results\n",
        "    analysis_df = pd.DataFrame.from_dict(analysis_results, orient='index')\n",
        "    \n",
        "    # Extract AEP years and handle NaN values\n",
        "    analysis_df['AEP_Years'] = analysis_df.index.str.extract(r'(\\d+)YR').astype(float)\n",
        "    \n",
        "    # Sort by AEP years, handling the base plan\n",
        "    analysis_df = analysis_df.sort_values('AEP_Years', na_position='first')\n",
        "    \n",
        "    # Drop the temporary column used for sorting\n",
        "    analysis_df = analysis_df.drop(columns=['AEP_Years'])\n",
        "    \n",
        "    print(\"\\nAnalysis Results:\")\n",
        "    display.display(analysis_df)\n",
        "    \n",
        "    return analysis_df\n",
        "\n"
      ]
    },
    {
      "cell_type": "code",
      "execution_count": 33,
      "metadata": {},
      "outputs": [
        {
          "name": "stderr",
          "output_type": "stream",
          "text": [
            "2025-04-10 05:13:54 - ras_commander.RasMap - INFO - Successfully parsed RASMapper file: d:\\GitHub\\ras-commander\\examples\\example_projects\\Davis\\compute_aep_parallel\\DavisStormSystem.rasmap\n",
            "2025-04-10 05:13:54 - ras_commander.RasMap - INFO - Successfully parsed RASMapper file: d:\\GitHub\\ras-commander\\examples\\example_projects\\Davis\\compute_aep_parallel\\DavisStormSystem.rasmap\n",
            "2025-04-10 05:13:54 - ras_commander.RasPrj - INFO - Global 'ras' object also updated to match the new project.\n",
            "2025-04-10 05:13:54 - ras_commander.RasPrj - INFO - Project initialized. ras_object project folder: d:\\GitHub\\ras-commander\\examples\\example_projects\\Davis\\compute_aep_parallel\n"
          ]
        },
        {
          "name": "stdout",
          "output_type": "stream",
          "text": [
            "\n",
            "Step 5: Analyzing the results...\n",
            "Analyzing results from parallel execution...\n",
            "Initialized compute project: DavisStormSystem\n",
            "\n",
            "Found 7 plans with results:\n"
          ]
        },
        {
          "data": {
            "text/html": "<div>\n<style scoped>\\n', '    .dataframe tbody tr th:only-of-type {\\n', '        vertical-align: middle;\\n', '    }\\n', '\\n', '    .dataframe tbody tr th {\\n', '        vertical-align: top;\\n', '    }\\n', '\\n', '    .dataframe thead th {\\n', '        text-align: right;\\n', '    }\\n', '</style>\n<table border=\"1\" class=\"dataframe\">\n  <thead>\\n', '    <tr style=\"text-align: right;\">\\n', '      <th></th>\\n', '      <th>plan_number</th>\\n', '      <th>Short Identifier</th>\\n', '      <th>HDF_Results_Path</th>\\n', '    </tr>\\n', '  </thead>\n  <tbody>\n    <tr>\\n', '      <th>0</th>\\n', '      <td>02</td>\\n', '      <td>Full System ROM with Pump</td>\\n', '      <td>d:\\\\GitHub\\\\ras-commander\\\\examples\\\\example_proje...</td>\\n', '    </tr><tr>\\n', '      <th>1</th>\\n', '      <td>01</td>\\n', '      <td>2YR-24HR</td>\\n', '      <td>d:\\\\GitHub\\\\ras-commander\\\\examples\\\\example_proje...</td>\\n', '    </tr><tr>\\n', '      <th>2</th>\\n', '      <td>03</td>\\n', '      <td>5YR-24HR</td>\\n', '      <td>d:\\\\GitHub\\\\ras-commander\\\\examples\\\\example_proje...</td>\\n', '    </tr><tr>\\n', '      <th>3</th>\\n', '      <td>04</td>\\n', '      <td>10YR-24HR</td>\\n', '      <td>d:\\\\GitHub\\\\ras-commander\\\\examples\\\\example_proje...</td>\\n', '    </tr><tr>\\n', '      <th>4</th>\\n', '      <td>05</td>\\n', '      <td>25YR-24HR</td>\\n', '      <td>d:\\\\GitHub\\\\ras-commander\\\\examples\\\\example_proje...</td>\\n', '    </tr>\n    <tr><td colspan=\"100%\" style=\"text-align:center\">[... additional rows truncated ...]</td></tr>\n  </tbody>\n</table>\n</div>",
            "text/plain": [
              "  plan_number           Short Identifier  \\\n",
              "0          02  Full System ROM with Pump   \n",
              "1          01                   2YR-24HR   \n",
              "2          03                   5YR-24HR   \n",
              "3          04                  10YR-24HR   \n",
              "4          05                  25YR-24HR   \n",
              "5          06                  50YR-24HR   \n",
              "6          07                 100YR-24HR   \n",
              "\n",
              "                                    HDF_Results_Path  \n",
              "0  d:\\GitHub\\ras-commander\\examples\\example_proje...  \n",
              "1  d:\\GitHub\\ras-commander\\examples\\example_proje...  \n",
              "2  d:\\GitHub\\ras-commander\\examples\\example_proje...  \n",
              "3  d:\\GitHub\\ras-commander\\examples\\example_proje...  \n",
              "4  d:\\GitHub\\ras-commander\\examples\\example_proje...  \n",
              "5  d:\\GitHub\\ras-commander\\examples\\example_proje...  \n",
              "6  d:\\GitHub\\ras-commander\\examples\\example_proje...  "
            ]
          },
          "metadata": {},
          "output_type": "display_data"
        },
        {
          "name": "stderr",
          "output_type": "stream",
          "text": [
            "2025-04-10 05:13:54 - ras_commander.HdfResultsPlan - INFO - Using HDF file from direct string path: d:\\GitHub\\ras-commander\\examples\\example_projects\\Davis\\compute_aep_parallel\\DavisStormSystem.p02.hdf\n",
            "2025-04-10 05:13:54 - ras_commander.HdfResultsPlan - INFO - Final validated HDF file path: d:\\GitHub\\ras-commander\\examples\\example_projects\\Davis\\compute_aep_parallel\\DavisStormSystem.p02.hdf\n",
            "2025-04-10 05:13:54 - ras_commander.HdfResultsPlan - INFO - Extracting Plan Information from: DavisStormSystem.p02.hdf\n",
            "2025-04-10 05:13:54 - ras_commander.HdfResultsPlan - INFO - Plan Name: Full System ROM with Pump\n",
            "2025-04-10 05:13:54 - ras_commander.HdfResultsPlan - INFO - Simulation Duration (hours): 36.0\n",
            "2025-04-10 05:13:54 - ras_commander.HdfPipe - INFO - Using HDF file from direct string path: d:\\GitHub\\ras-commander\\examples\\example_projects\\Davis\\compute_aep_parallel\\DavisStormSystem.p02.hdf\n",
            "2025-04-10 05:13:54 - ras_commander.HdfPipe - INFO - Final validated HDF file path: d:\\GitHub\\ras-commander\\examples\\example_projects\\Davis\\compute_aep_parallel\\DavisStormSystem.p02.hdf\n",
            "2025-04-10 05:13:54 - ras_commander.HdfPipe - INFO - Using HDF file from direct string path: d:\\GitHub\\ras-commander\\examples\\example_projects\\Davis\\compute_aep_parallel\\DavisStormSystem.p02.hdf\n",
            "2025-04-10 05:13:54 - ras_commander.HdfPipe - INFO - Final validated HDF file path: d:\\GitHub\\ras-commander\\examples\\example_projects\\Davis\\compute_aep_parallel\\DavisStormSystem.p02.hdf\n",
            "C:\\Users\\bill\\AppData\\Local\\Temp\\ipykernel_11124\\2728386702.py:49: RuntimeWarning: All-NaN slice encountered\n",
            "  max_flows = np.nanmax(pipe_flow_array, axis=0)  # Max over time for each location\n",
            "C:\\Users\\bill\\AppData\\Local\\Temp\\ipykernel_11124\\2728386702.py:53: RuntimeWarning: All-NaN slice encountered\n",
            "  max_ws = np.nanmax(node_ws_array, axis=0)  # Max over time for each node\n",
            "2025-04-10 05:13:54 - ras_commander.HdfResultsPlan - INFO - Using HDF file from direct string path: d:\\GitHub\\ras-commander\\examples\\example_projects\\Davis\\compute_aep_parallel\\DavisStormSystem.p01.hdf\n",
            "2025-04-10 05:13:54 - ras_commander.HdfResultsPlan - INFO - Final validated HDF file path: d:\\GitHub\\ras-commander\\examples\\example_projects\\Davis\\compute_aep_parallel\\DavisStormSystem.p01.hdf\n",
            "2025-04-10 05:13:54 - ras_commander.HdfResultsPlan - INFO - Extracting Plan Information from: DavisStormSystem.p01.hdf\n",
            "2025-04-10 05:13:54 - ras_commander.HdfResultsPlan - INFO - Plan Name: Full System ROM with Pump\n",
            "2025-04-10 05:13:54 - ras_commander.HdfResultsPlan - INFO - Simulation Duration (hours): 36.0\n",
            "2025-04-10 05:13:54 - ras_commander.HdfPipe - INFO - Using HDF file from direct string path: d:\\GitHub\\ras-commander\\examples\\example_projects\\Davis\\compute_aep_parallel\\DavisStormSystem.p01.hdf\n",
            "2025-04-10 05:13:54 - ras_commander.HdfPipe - INFO - Final validated HDF file path: d:\\GitHub\\ras-commander\\examples\\example_projects\\Davis\\compute_aep_parallel\\DavisStormSystem.p01.hdf\n",
            "2025-04-10 05:13:54 - ras_commander.HdfPipe - INFO - Using HDF file from direct string path: d:\\GitHub\\ras-commander\\examples\\example_projects\\Davis\\compute_aep_parallel\\DavisStormSystem.p01.hdf\n",
            "2025-04-10 05:13:54 - ras_commander.HdfPipe - INFO - Final validated HDF file path: d:\\GitHub\\ras-commander\\examples\\example_projects\\Davis\\compute_aep_parallel\\DavisStormSystem.p01.hdf\n",
            "2025-04-10 05:13:54 - ras_commander.HdfResultsPlan - INFO - Using HDF file from direct string path: d:\\GitHub\\ras-commander\\examples\\example_projects\\Davis\\compute_aep_parallel\\DavisStormSystem.p03.hdf\n",
            "2025-04-10 05:13:54 - ras_commander.HdfResultsPlan - INFO - Final validated HDF file path: d:\\GitHub\\ras-commander\\examples\\example_projects\\Davis\\compute_aep_parallel\\DavisStormSystem.p03.hdf\n",
            "2025-04-10 05:13:54 - ras_commander.HdfResultsPlan - INFO - Extracting Plan Information from: DavisStormSystem.p03.hdf\n",
            "2025-04-10 05:13:54 - ras_commander.HdfResultsPlan - INFO - Plan Name: Full System ROM with Pump\n",
            "2025-04-10 05:13:54 - ras_commander.HdfResultsPlan - INFO - Simulation Duration (hours): 36.0\n",
            "2025-04-10 05:13:54 - ras_commander.HdfPipe - INFO - Using HDF file from direct string path: d:\\GitHub\\ras-commander\\examples\\example_projects\\Davis\\compute_aep_parallel\\DavisStormSystem.p03.hdf\n",
            "2025-04-10 05:13:54 - ras_commander.HdfPipe - INFO - Final validated HDF file path: d:\\GitHub\\ras-commander\\examples\\example_projects\\Davis\\compute_aep_parallel\\DavisStormSystem.p03.hdf\n",
            "2025-04-10 05:13:54 - ras_commander.HdfPipe - INFO - Using HDF file from direct string path: d:\\GitHub\\ras-commander\\examples\\example_projects\\Davis\\compute_aep_parallel\\DavisStormSystem.p03.hdf\n",
            "2025-04-10 05:13:54 - ras_commander.HdfPipe - INFO - Final validated HDF file path: d:\\GitHub\\ras-commander\\examples\\example_projects\\Davis\\compute_aep_parallel\\DavisStormSystem.p03.hdf\n",
            "2025-04-10 05:13:54 - ras_commander.HdfResultsPlan - INFO - Using HDF file from direct string path: d:\\GitHub\\ras-commander\\examples\\example_projects\\Davis\\compute_aep_parallel\\DavisStormSystem.p04.hdf\n",
            "2025-04-10 05:13:54 - ras_commander.HdfResultsPlan - INFO - Final validated HDF file path: d:\\GitHub\\ras-commander\\examples\\example_projects\\Davis\\compute_aep_parallel\\DavisStormSystem.p04.hdf\n",
            "2025-04-10 05:13:54 - ras_commander.HdfResultsPlan - INFO - Extracting Plan Information from: DavisStormSystem.p04.hdf\n",
            "2025-04-10 05:13:54 - ras_commander.HdfResultsPlan - INFO - Plan Name: Full System ROM with Pump\n",
            "2025-04-10 05:13:54 - ras_commander.HdfResultsPlan - INFO - Simulation Duration (hours): 36.0\n",
            "2025-04-10 05:13:54 - ras_commander.HdfPipe - INFO - Using HDF file from direct string path: d:\\GitHub\\ras-commander\\examples\\example_projects\\Davis\\compute_aep_parallel\\DavisStormSystem.p04.hdf\n",
            "2025-04-10 05:13:54 - ras_commander.HdfPipe - INFO - Final validated HDF file path: d:\\GitHub\\ras-commander\\examples\\example_projects\\Davis\\compute_aep_parallel\\DavisStormSystem.p04.hdf\n",
            "2025-04-10 05:13:54 - ras_commander.HdfPipe - INFO - Using HDF file from direct string path: d:\\GitHub\\ras-commander\\examples\\example_projects\\Davis\\compute_aep_parallel\\DavisStormSystem.p04.hdf\n"
          ]
        },
        {
          "name": "stdout",
          "output_type": "stream",
          "text": [
            "\n",
            "Analyzing results for plan 02 (Full System ROM with Pump)...\n",
            "  Simulation Duration: 129600.00 seconds\n",
            "  Computation Time: 0.02073 hours\n",
            "  Computation Speed: 1737.03 (simulation hours/compute hours)\n",
            "  Average Max Pipe Flow: 8.21 cfs\n",
            "  Maximum Pipe Flow: 56.55 cfs\n",
            "  Average Max Node Water Surface: 41.90 ft\n",
            "  Maximum Node Water Surface: 47.01 ft\n",
            "\n",
            "Analyzing results for plan 01 (2YR-24HR)...\n",
            "  Simulation Duration: 129600.00 seconds\n",
            "  Computation Time: 0.02283 hours\n",
            "  Computation Speed: 1576.87 (simulation hours/compute hours)\n",
            "  Average Max Pipe Flow: 8.22 cfs\n",
            "  Maximum Pipe Flow: 58.27 cfs\n",
            "  Average Max Node Water Surface: 42.18 ft\n",
            "  Maximum Node Water Surface: 47.11 ft\n",
            "\n",
            "Analyzing results for plan 03 (5YR-24HR)...\n",
            "  Simulation Duration: 129600.00 seconds\n",
            "  Computation Time: 0.02209 hours\n",
            "  Computation Speed: 1629.53 (simulation hours/compute hours)\n",
            "  Average Max Pipe Flow: 8.46 cfs\n",
            "  Maximum Pipe Flow: 60.30 cfs\n",
            "  Average Max Node Water Surface: 42.51 ft\n",
            "  Maximum Node Water Surface: 47.21 ft\n",
            "\n",
            "Analyzing results for plan 04 (10YR-24HR)...\n"
          ]
        },
        {
          "name": "stderr",
          "output_type": "stream",
          "text": [
            "2025-04-10 05:13:54 - ras_commander.HdfPipe - INFO - Final validated HDF file path: d:\\GitHub\\ras-commander\\examples\\example_projects\\Davis\\compute_aep_parallel\\DavisStormSystem.p04.hdf\n",
            "2025-04-10 05:13:54 - ras_commander.HdfResultsPlan - INFO - Using HDF file from direct string path: d:\\GitHub\\ras-commander\\examples\\example_projects\\Davis\\compute_aep_parallel\\DavisStormSystem.p05.hdf\n",
            "2025-04-10 05:13:54 - ras_commander.HdfResultsPlan - INFO - Final validated HDF file path: d:\\GitHub\\ras-commander\\examples\\example_projects\\Davis\\compute_aep_parallel\\DavisStormSystem.p05.hdf\n",
            "2025-04-10 05:13:54 - ras_commander.HdfResultsPlan - INFO - Extracting Plan Information from: DavisStormSystem.p05.hdf\n",
            "2025-04-10 05:13:54 - ras_commander.HdfResultsPlan - INFO - Plan Name: Full System ROM with Pump\n",
            "2025-04-10 05:13:54 - ras_commander.HdfResultsPlan - INFO - Simulation Duration (hours): 36.0\n",
            "2025-04-10 05:13:54 - ras_commander.HdfPipe - INFO - Using HDF file from direct string path: d:\\GitHub\\ras-commander\\examples\\example_projects\\Davis\\compute_aep_parallel\\DavisStormSystem.p05.hdf\n",
            "2025-04-10 05:13:54 - ras_commander.HdfPipe - INFO - Final validated HDF file path: d:\\GitHub\\ras-commander\\examples\\example_projects\\Davis\\compute_aep_parallel\\DavisStormSystem.p05.hdf\n",
            "2025-04-10 05:13:54 - ras_commander.HdfPipe - INFO - Using HDF file from direct string path: d:\\GitHub\\ras-commander\\examples\\example_projects\\Davis\\compute_aep_parallel\\DavisStormSystem.p05.hdf\n"
          ]
        },
        {
          "name": "stdout",
          "output_type": "stream",
          "text": [
            "  Simulation Duration: 129600.00 seconds\n",
            "  Computation Time: 0.01682 hours\n",
            "  Computation Speed: 2139.92 (simulation hours/compute hours)\n",
            "  Average Max Pipe Flow: 8.32 cfs\n",
            "  Maximum Pipe Flow: 61.29 cfs\n",
            "  Average Max Node Water Surface: 42.72 ft\n",
            "  Maximum Node Water Surface: 47.27 ft\n",
            "\n",
            "Analyzing results for plan 05 (25YR-24HR)...\n"
          ]
        },
        {
          "name": "stderr",
          "output_type": "stream",
          "text": [
            "2025-04-10 05:13:54 - ras_commander.HdfPipe - INFO - Final validated HDF file path: d:\\GitHub\\ras-commander\\examples\\example_projects\\Davis\\compute_aep_parallel\\DavisStormSystem.p05.hdf\n",
            "2025-04-10 05:13:54 - ras_commander.HdfResultsPlan - INFO - Using HDF file from direct string path: d:\\GitHub\\ras-commander\\examples\\example_projects\\Davis\\compute_aep_parallel\\DavisStormSystem.p06.hdf\n",
            "2025-04-10 05:13:54 - ras_commander.HdfResultsPlan - INFO - Final validated HDF file path: d:\\GitHub\\ras-commander\\examples\\example_projects\\Davis\\compute_aep_parallel\\DavisStormSystem.p06.hdf\n",
            "2025-04-10 05:13:54 - ras_commander.HdfResultsPlan - INFO - Extracting Plan Information from: DavisStormSystem.p06.hdf\n",
            "2025-04-10 05:13:54 - ras_commander.HdfResultsPlan - INFO - Plan Name: Full System ROM with Pump\n",
            "2025-04-10 05:13:54 - ras_commander.HdfResultsPlan - INFO - Simulation Duration (hours): 36.0\n",
            "2025-04-10 05:13:54 - ras_commander.HdfPipe - INFO - Using HDF file from direct string path: d:\\GitHub\\ras-commander\\examples\\example_projects\\Davis\\compute_aep_parallel\\DavisStormSystem.p06.hdf\n",
            "2025-04-10 05:13:54 - ras_commander.HdfPipe - INFO - Final validated HDF file path: d:\\GitHub\\ras-commander\\examples\\example_projects\\Davis\\compute_aep_parallel\\DavisStormSystem.p06.hdf\n",
            "2025-04-10 05:13:54 - ras_commander.HdfPipe - INFO - Using HDF file from direct string path: d:\\GitHub\\ras-commander\\examples\\example_projects\\Davis\\compute_aep_parallel\\DavisStormSystem.p06.hdf\n",
            "2025-04-10 05:13:54 - ras_commander.HdfPipe - INFO - Final validated HDF file path: d:\\GitHub\\ras-commander\\examples\\example_projects\\Davis\\compute_aep_parallel\\DavisStormSystem.p06.hdf\n",
            "2025-04-10 05:13:54 - ras_commander.HdfResultsPlan - INFO - Using HDF file from direct string path: d:\\GitHub\\ras-commander\\examples\\example_projects\\Davis\\compute_aep_parallel\\DavisStormSystem.p07.hdf\n",
            "2025-04-10 05:13:54 - ras_commander.HdfResultsPlan - INFO - Final validated HDF file path: d:\\GitHub\\ras-commander\\examples\\example_projects\\Davis\\compute_aep_parallel\\DavisStormSystem.p07.hdf\n",
            "2025-04-10 05:13:54 - ras_commander.HdfResultsPlan - INFO - Extracting Plan Information from: DavisStormSystem.p07.hdf\n",
            "2025-04-10 05:13:54 - ras_commander.HdfResultsPlan - INFO - Plan Name: Full System ROM with Pump\n",
            "2025-04-10 05:13:54 - ras_commander.HdfResultsPlan - INFO - Simulation Duration (hours): 36.0\n",
            "2025-04-10 05:13:54 - ras_commander.HdfPipe - INFO - Using HDF file from direct string path: d:\\GitHub\\ras-commander\\examples\\example_projects\\Davis\\compute_aep_parallel\\DavisStormSystem.p07.hdf\n",
            "2025-04-10 05:13:54 - ras_commander.HdfPipe - INFO - Final validated HDF file path: d:\\GitHub\\ras-commander\\examples\\example_projects\\Davis\\compute_aep_parallel\\DavisStormSystem.p07.hdf\n"
          ]
        },
        {
          "name": "stdout",
          "output_type": "stream",
          "text": [
            "  Simulation Duration: 129600.00 seconds\n",
            "  Computation Time: 0.01652 hours\n",
            "  Computation Speed: 2178.70 (simulation hours/compute hours)\n",
            "  Average Max Pipe Flow: 8.42 cfs\n",
            "  Maximum Pipe Flow: 62.03 cfs\n",
            "  Average Max Node Water Surface: 42.96 ft\n",
            "  Maximum Node Water Surface: 47.37 ft\n",
            "\n",
            "Analyzing results for plan 06 (50YR-24HR)...\n",
            "  Simulation Duration: 129600.00 seconds\n",
            "  Computation Time: 0.01608 hours\n",
            "  Computation Speed: 2238.11 (simulation hours/compute hours)\n",
            "  Average Max Pipe Flow: 8.52 cfs\n",
            "  Maximum Pipe Flow: 62.40 cfs\n",
            "  Average Max Node Water Surface: 43.13 ft\n",
            "  Maximum Node Water Surface: 47.43 ft\n",
            "\n",
            "Analyzing results for plan 07 (100YR-24HR)...\n"
          ]
        },
        {
          "name": "stderr",
          "output_type": "stream",
          "text": [
            "2025-04-10 05:13:54 - ras_commander.HdfPipe - INFO - Using HDF file from direct string path: d:\\GitHub\\ras-commander\\examples\\example_projects\\Davis\\compute_aep_parallel\\DavisStormSystem.p07.hdf\n",
            "2025-04-10 05:13:54 - ras_commander.HdfPipe - INFO - Final validated HDF file path: d:\\GitHub\\ras-commander\\examples\\example_projects\\Davis\\compute_aep_parallel\\DavisStormSystem.p07.hdf\n"
          ]
        },
        {
          "name": "stdout",
          "output_type": "stream",
          "text": [
            "  Simulation Duration: 129600.00 seconds\n",
            "  Computation Time: 0.01615 hours\n",
            "  Computation Speed: 2229.64 (simulation hours/compute hours)\n",
            "  Average Max Pipe Flow: 8.59 cfs\n",
            "  Maximum Pipe Flow: 63.16 cfs\n",
            "  Average Max Node Water Surface: 43.31 ft\n",
            "  Maximum Node Water Surface: 48.03 ft\n",
            "\n",
            "Analysis Results:\n"
          ]
        },
        {
          "data": {
            "text/html": "<div>\n<style scoped>\\n', '    .dataframe tbody tr th:only-of-type {\\n', '        vertical-align: middle;\\n', '    }\\n', '\\n', '    .dataframe tbody tr th {\\n', '        vertical-align: top;\\n', '    }\\n', '\\n', '    .dataframe thead th {\\n', '        text-align: right;\\n', '    }\\n', '</style>\n<table border=\"1\" class=\"dataframe\">\n  <thead>\\n', '    <tr style=\"text-align: right;\">\\n', '      <th></th>\\n', '      <th>Plan Number</th>\\n', '      <th>Simulation Duration (s)</th>\\n', '      <th>Compute Time (hr)</th>\\n', '      <th>Compute Speed (hr/hr)</th>\\n', '      <th>Average Max Pipe Flow (cfs)</th>\\n', '      <th>Maximum Pipe Flow (cfs)</th>\\n', '      <th>Average Max Node Water Surface (ft)</th>\\n', '      <th>Maximum Node Water Surface (ft)</th>\\n', '      <th>HDF Path</th>\\n', '    </tr>\\n', '  </thead>\n  <tbody>\n    <tr>\\n', '      <th>Full System ROM with Pump</th>\\n', '      <td>02</td>\\n', '      <td>129600.0</td>\\n', '      <td>0.020725</td>\\n', '      <td>1737.032569</td>\\n', '      <td>8.205216</td>\\n', '      <td>56.546627</td>\\n', '      <td>41.904858</td>\\n', '      <td>47.007301</td>\\n', '      <td>d:\\\\GitHub\\\\ras-commander\\\\examples\\\\example_proje...</td>\\n', '    </tr><tr>\\n', '      <th>2YR-24HR</th>\\n', '      <td>01</td>\\n', '      <td>129600.0</td>\\n', '      <td>0.022830</td>\\n', '      <td>1576.872536</td>\\n', '      <td>8.215710</td>\\n', '      <td>58.272476</td>\\n', '      <td>42.178600</td>\\n', '      <td>47.105679</td>\\n', '      <td>d:\\\\GitHub\\\\ras-commander\\\\examples\\\\example_proje...</td>\\n', '    </tr><tr>\\n', '      <th>5YR-24HR</th>\\n', '      <td>03</td>\\n', '      <td>129600.0</td>\\n', '      <td>0.022092</td>\\n', '      <td>1629.532767</td>\\n', '      <td>8.461962</td>\\n', '      <td>60.300476</td>\\n', '      <td>42.507812</td>\\n', '      <td>47.209702</td>\\n', '      <td>d:\\\\GitHub\\\\ras-commander\\\\examples\\\\example_proje...</td>\\n', '    </tr><tr>\\n', '      <th>10YR-24HR</th>\\n', '      <td>04</td>\\n', '      <td>129600.0</td>\\n', '      <td>0.016823</td>\\n', '      <td>2139.920413</td>\\n', '      <td>8.318513</td>\\n', '      <td>61.286335</td>\\n', '      <td>42.715992</td>\\n', '      <td>47.272884</td>\\n', '      <td>d:\\\\GitHub\\\\ras-commander\\\\examples\\\\example_proje...</td>\\n', '    </tr><tr>\\n', '      <th>25YR-24HR</th>\\n', '      <td>05</td>\\n', '      <td>129600.0</td>\\n', '      <td>0.016524</td>\\n', '      <td>2178.700513</td>\\n', '      <td>8.423787</td>\\n', '      <td>62.026176</td>\\n', '      <td>42.962963</td>\\n', '      <td>47.367840</td>\\n', '      <td>d:\\\\GitHub\\\\ras-commander\\\\examples\\\\example_proje...</td>\\n', '    </tr>\n    <tr><td colspan=\"100%\" style=\"text-align:center\">[... additional rows truncated ...]</td></tr>\n  </tbody>\n</table>\n</div>",
            "text/plain": [
              "                          Plan Number  Simulation Duration (s)  \\\n",
              "Full System ROM with Pump          02                 129600.0   \n",
              "2YR-24HR                           01                 129600.0   \n",
              "5YR-24HR                           03                 129600.0   \n",
              "10YR-24HR                          04                 129600.0   \n",
              "25YR-24HR                          05                 129600.0   \n",
              "50YR-24HR                          06                 129600.0   \n",
              "100YR-24HR                         07                 129600.0   \n",
              "\n",
              "                           Compute Time (hr)  Compute Speed (hr/hr)  \\\n",
              "Full System ROM with Pump           0.020725            1737.032569   \n",
              "2YR-24HR                            0.022830            1576.872536   \n",
              "5YR-24HR                            0.022092            1629.532767   \n",
              "10YR-24HR                           0.016823            2139.920413   \n",
              "25YR-24HR                           0.016524            2178.700513   \n",
              "50YR-24HR                           0.016085            2238.110040   \n",
              "100YR-24HR                          0.016146            2229.639060   \n",
              "\n",
              "                           Average Max Pipe Flow (cfs)  \\\n",
              "Full System ROM with Pump                     8.205216   \n",
              "2YR-24HR                                      8.215710   \n",
              "5YR-24HR                                      8.461962   \n",
              "10YR-24HR                                     8.318513   \n",
              "25YR-24HR                                     8.423787   \n",
              "50YR-24HR                                     8.520398   \n",
              "100YR-24HR                                    8.591212   \n",
              "\n",
              "                           Maximum Pipe Flow (cfs)  \\\n",
              "Full System ROM with Pump                56.546627   \n",
              "2YR-24HR                                 58.272476   \n",
              "5YR-24HR                                 60.300476   \n",
              "10YR-24HR                                61.286335   \n",
              "25YR-24HR                                62.026176   \n",
              "50YR-24HR                                62.400841   \n",
              "100YR-24HR                               63.160744   \n",
              "\n",
              "                           Average Max Node Water Surface (ft)  \\\n",
              "Full System ROM with Pump                            41.904858   \n",
              "2YR-24HR                                             42.178600   \n",
              "5YR-24HR                                             42.507812   \n",
              "10YR-24HR                                            42.715992   \n",
              "25YR-24HR                                            42.962963   \n",
              "50YR-24HR                                            43.129978   \n",
              "100YR-24HR                                           43.312428   \n",
              "\n",
              "                           Maximum Node Water Surface (ft)  \\\n",
              "Full System ROM with Pump                        47.007301   \n",
              "2YR-24HR                                         47.105679   \n",
              "5YR-24HR                                         47.209702   \n",
              "10YR-24HR                                        47.272884   \n",
              "25YR-24HR                                        47.367840   \n",
              "50YR-24HR                                        47.432789   \n",
              "100YR-24HR                                       48.026775   \n",
              "\n",
              "                                                                    HDF Path  \n",
              "Full System ROM with Pump  d:\\GitHub\\ras-commander\\examples\\example_proje...  \n",
              "2YR-24HR                   d:\\GitHub\\ras-commander\\examples\\example_proje...  \n",
              "5YR-24HR                   d:\\GitHub\\ras-commander\\examples\\example_proje...  \n",
              "10YR-24HR                  d:\\GitHub\\ras-commander\\examples\\example_proje...  \n",
              "25YR-24HR                  d:\\GitHub\\ras-commander\\examples\\example_proje...  \n",
              "50YR-24HR                  d:\\GitHub\\ras-commander\\examples\\example_proje...  \n",
              "100YR-24HR                 d:\\GitHub\\ras-commander\\examples\\example_proje...  "
            ]
          },
          "metadata": {},
          "output_type": "display_data"
        }
      ],
      "source": [
        "#---------------------------------------------------------------------\n",
        "# Step 5: Analyze the results\n",
        "#---------------------------------------------------------------------\n",
        "print(\"\\nStep 5: Analyzing the results...\")\n",
        "\n",
        "analysis_df = analyze_results(\n",
        "    results=results,\n",
        "    compute_folder=compute_folder,\n",
        "    project=ras\n",
        ")"
      ]
    },
    {
      "cell_type": "code",
      "execution_count": 34,
      "metadata": {},
      "outputs": [],
      "source": [
        "def plot_results(analysis_df):\n",
        "    \"\"\"\n",
        "    Plots the results from the analysis.\n",
        "    \"\"\"\n",
        "    # Extract AEP values from the index (plan names), skipping non-AEP plans\n",
        "    aep_values = []\n",
        "    aep_data = pd.DataFrame()\n",
        "    \n",
        "    for name in analysis_df.index:\n",
        "        if 'YR' in name:\n",
        "            try:\n",
        "                aep_year = int(name.split('YR')[0])\n",
        "                aep_values.append(aep_year)\n",
        "                aep_data = pd.concat([aep_data, analysis_df.loc[[name]]])\n",
        "            except ValueError:\n",
        "                continue\n",
        "    \n",
        "    if len(aep_values) == 0:\n",
        "        print(\"No valid AEP plans found to plot\")\n",
        "        return\n",
        "        \n",
        "    # Create a figure with multiple subplots\n",
        "    fig, axs = plt.subplots(2, 1, figsize=(14, 12))\n",
        "    \n",
        "    # Plot 1: Maximum Pipe Flow vs AEP\n",
        "    axs[0].semilogx(aep_values, aep_data['Maximum Pipe Flow (cfs)'], 'o-', marker='o', markersize=8)\n",
        "    axs[0].set_title('Maximum Pipe Flow vs Return Period', fontsize=16)\n",
        "    axs[0].set_xlabel('Return Period (years)', fontsize=14)\n",
        "    axs[0].set_ylabel('Maximum Pipe Flow (cfs)', fontsize=14)\n",
        "    axs[0].grid(True)\n",
        "    \n",
        "    # Add data labels\n",
        "    for i, txt in enumerate(aep_values):\n",
        "        axs[0].annotate(f\"{txt} yr\", \n",
        "                      (aep_values[i], aep_data['Maximum Pipe Flow (cfs)'].iloc[i]),\n",
        "                      textcoords=\"offset points\", \n",
        "                      xytext=(0, 10), \n",
        "                      ha='center')\n",
        "    \n",
        "    # Plot 2: Maximum Node Water Surface vs AEP\n",
        "    axs[1].semilogx(aep_values, aep_data['Maximum Node Water Surface (ft)'], 'o-', marker='s', markersize=8, color='green')\n",
        "    axs[1].set_title('Maximum Node Water Surface vs Return Period', fontsize=16)\n",
        "    axs[1].set_xlabel('Return Period (years)', fontsize=14)\n",
        "    axs[1].set_ylabel('Maximum Node Water Surface (ft)', fontsize=14)\n",
        "    axs[1].grid(True)\n",
        "    \n",
        "    # Add data labels\n",
        "    for i, txt in enumerate(aep_values):\n",
        "        axs[1].annotate(f\"{txt} yr\", \n",
        "                      (aep_values[i], aep_data['Maximum Node Water Surface (ft)'].iloc[i]),\n",
        "                      textcoords=\"offset points\", \n",
        "                      xytext=(0, 10), \n",
        "                      ha='center')\n",
        "    \n",
        "    plt.tight_layout()\n",
        "    plt.show()\n",
        "    # Plot time series for each return period\n",
        "    try:\n",
        "        plt.figure(figsize=(14, 8))\n",
        "        \n",
        "        # Create a color map for different return periods\n",
        "        colors = plt.cm.viridis(np.linspace(0, 1, len(aep_values)))\n",
        "        \n",
        "        # Plot each return period\n",
        "        for i, name in enumerate(aep_data.index):\n",
        "            # Get HDF path for this return period\n",
        "            hdf_path = aep_data.loc[name, 'HDF Path']\n",
        "            \n",
        "            # Get pipe network timeseries data\n",
        "            node_ws = HdfPipe.get_pipe_network_timeseries(hdf_path, variable=\"Nodes/Water Surface\")\n",
        "            \n",
        "            # Get data for location 61\n",
        "            loc_61_ws = node_ws.sel(location=61)\n",
        "            \n",
        "            # Plot the time series\n",
        "            plt.plot(loc_61_ws.time.values, loc_61_ws.values, \n",
        "                    label=f'{name}', \n",
        "                    color=colors[i],\n",
        "                    linewidth=2)\n",
        "        \n",
        "        plt.title('Water Surface Elevation Time Series by Return Period - Location 61', fontsize=16)\n",
        "        plt.xlabel('Time', fontsize=14)\n",
        "        plt.ylabel('Water Surface Elevation (ft)', fontsize=14)\n",
        "        plt.grid(True)\n",
        "        plt.legend(fontsize=12)\n",
        "        \n",
        "        # Format x-axis dates\n",
        "        plt.gcf().autofmt_xdate()\n",
        "        \n",
        "        plt.tight_layout()\n",
        "        plt.show()\n",
        "        \n",
        "    except Exception as e:\n",
        "        print(f\"Could not create detailed heatmap: {str(e)}\")"
      ]
    },
    {
      "cell_type": "code",
      "execution_count": 35,
      "metadata": {},
      "outputs": [
        {
          "name": "stderr",
          "output_type": "stream",
          "text": [
            "C:\\Users\\bill\\AppData\\Local\\Temp\\ipykernel_11124\\3654224487.py:26: UserWarning: marker is redundantly defined by the 'marker' keyword argument and the fmt string \"o-\" (-> marker='o'). The keyword argument will take precedence.\n",
            "  axs[0].semilogx(aep_values, aep_data['Maximum Pipe Flow (cfs)'], 'o-', marker='o', markersize=8)\n",
            "C:\\Users\\bill\\AppData\\Local\\Temp\\ipykernel_11124\\3654224487.py:41: UserWarning: marker is redundantly defined by the 'marker' keyword argument and the fmt string \"o-\" (-> marker='o'). The keyword argument will take precedence.\n",
            "  axs[1].semilogx(aep_values, aep_data['Maximum Node Water Surface (ft)'], 'o-', marker='s', markersize=8, color='green')\n"
          ]
        },
        {
          "name": "stdout",
          "output_type": "stream",
          "text": [
            "\n",
            "Step 6: Plotting the results...\n"
          ]
        },
        {
          "data": {
            "text/plain": [
              "<Figure size 1400x1200 with 2 Axes>"
            ]
          },
          "metadata": {},
          "output_type": "display_data"
        },
        {
          "name": "stderr",
          "output_type": "stream",
          "text": [
            "2025-04-10 05:13:55 - ras_commander.HdfPipe - INFO - Using HDF file from direct string path: d:\\GitHub\\ras-commander\\examples\\example_projects\\Davis\\compute_aep_parallel\\DavisStormSystem.p01.hdf\n",
            "2025-04-10 05:13:55 - ras_commander.HdfPipe - INFO - Final validated HDF file path: d:\\GitHub\\ras-commander\\examples\\example_projects\\Davis\\compute_aep_parallel\\DavisStormSystem.p01.hdf\n",
            "2025-04-10 05:13:55 - ras_commander.HdfPipe - INFO - Using HDF file from direct string path: d:\\GitHub\\ras-commander\\examples\\example_projects\\Davis\\compute_aep_parallel\\DavisStormSystem.p03.hdf\n",
            "2025-04-10 05:13:55 - ras_commander.HdfPipe - INFO - Final validated HDF file path: d:\\GitHub\\ras-commander\\examples\\example_projects\\Davis\\compute_aep_parallel\\DavisStormSystem.p03.hdf\n",
            "2025-04-10 05:13:55 - ras_commander.HdfPipe - INFO - Using HDF file from direct string path: d:\\GitHub\\ras-commander\\examples\\example_projects\\Davis\\compute_aep_parallel\\DavisStormSystem.p04.hdf\n",
            "2025-04-10 05:13:55 - ras_commander.HdfPipe - INFO - Final validated HDF file path: d:\\GitHub\\ras-commander\\examples\\example_projects\\Davis\\compute_aep_parallel\\DavisStormSystem.p04.hdf\n",
            "2025-04-10 05:13:55 - ras_commander.HdfPipe - INFO - Using HDF file from direct string path: d:\\GitHub\\ras-commander\\examples\\example_projects\\Davis\\compute_aep_parallel\\DavisStormSystem.p05.hdf\n",
            "2025-04-10 05:13:55 - ras_commander.HdfPipe - INFO - Final validated HDF file path: d:\\GitHub\\ras-commander\\examples\\example_projects\\Davis\\compute_aep_parallel\\DavisStormSystem.p05.hdf\n",
            "2025-04-10 05:13:55 - ras_commander.HdfPipe - INFO - Using HDF file from direct string path: d:\\GitHub\\ras-commander\\examples\\example_projects\\Davis\\compute_aep_parallel\\DavisStormSystem.p06.hdf\n",
            "2025-04-10 05:13:55 - ras_commander.HdfPipe - INFO - Final validated HDF file path: d:\\GitHub\\ras-commander\\examples\\example_projects\\Davis\\compute_aep_parallel\\DavisStormSystem.p06.hdf\n",
            "2025-04-10 05:13:55 - ras_commander.HdfPipe - INFO - Using HDF file from direct string path: d:\\GitHub\\ras-commander\\examples\\example_projects\\Davis\\compute_aep_parallel\\DavisStormSystem.p07.hdf\n",
            "2025-04-10 05:13:55 - ras_commander.HdfPipe - INFO - Final validated HDF file path: d:\\GitHub\\ras-commander\\examples\\example_projects\\Davis\\compute_aep_parallel\\DavisStormSystem.p07.hdf\n"
          ]
        },
        {
          "data": {
            "text/plain": [
              "<Figure size 1400x800 with 1 Axes>"
            ]
          },
          "metadata": {},
          "output_type": "display_data"
        }
      ],
      "source": [
        "#---------------------------------------------------------------------\n",
        "# Step 6: Plot the results\n",
        "#---------------------------------------------------------------------\n",
        "print(\"\\nStep 6: Plotting the results...\")\n",
        "\n",
        "plot_results(analysis_df)"
      ]
    },
    {
      "cell_type": "code",
      "execution_count": null,
      "metadata": {},
      "outputs": [],
      "source": []
    },
    {
      "cell_type": "code",
      "execution_count": 36,
      "metadata": {},
      "outputs": [
        {
          "name": "stderr",
          "output_type": "stream",
          "text": [
            "2025-04-10 05:13:56 - ras_commander.HdfPipe - INFO - Final validated HDF file path: d:\\GitHub\\ras-commander\\examples\\example_projects\\Davis\\compute_aep_parallel\\DavisStormSystem.p04.hdf\n"
          ]
        }
      ],
      "source": [
        "\n",
        "\n",
        "node_ws = HdfPipe.get_pipe_network_timeseries(\"04\", variable=\"Nodes/Water Surface\")\n",
        "\n",
        "\n"
      ]
    },
    {
      "cell_type": "code",
      "execution_count": 37,
      "metadata": {},
      "outputs": [
        {
          "data": {
            "text/html": "<div><pre>xarray.DataArray with Unknown dimensions\n[Full xarray output truncated during preprocessing]</pre></div>",
            "text/plain": "xarray.DataArray with Unknown dimensions\n[Full xarray output truncated during preprocessing]"
          },
          "execution_count": 37,
          "metadata": {},
          "output_type": "execute_result"
        }
      ],
      "source": [
        "node_ws"
      ]
    },
    {
      "cell_type": "code",
      "execution_count": 38,
      "metadata": {},
      "outputs": [
        {
          "name": "stderr",
          "output_type": "stream",
          "text": [
            "2025-04-10 05:13:56 - ras_commander.HdfPipe - INFO - Final validated HDF file path: d:\\GitHub\\ras-commander\\examples\\example_projects\\Davis\\compute_aep_parallel\\DavisStormSystem.p04.hdf\n"
          ]
        }
      ],
      "source": [
        "pipe_flow_ds = HdfPipe.get_pipe_network_timeseries(\"04\", variable=\"Pipes/Pipe Flow DS\")"
      ]
    },
    {
      "cell_type": "code",
      "execution_count": 39,
      "metadata": {},
      "outputs": [
        {
          "data": {
            "text/html": "<div><pre>xarray.DataArray with Unknown dimensions\n[Full xarray output truncated during preprocessing]</pre></div>",
            "text/plain": "xarray.DataArray with Unknown dimensions\n[Full xarray output truncated during preprocessing]"
          },
          "execution_count": 39,
          "metadata": {},
          "output_type": "execute_result"
        }
      ],
      "source": [
        "pipe_flow_ds"
      ]
    },
    {
      "cell_type": "markdown",
      "metadata": {},
      "source": []
    },
    {
      "cell_type": "markdown",
      "metadata": {},
      "source": [
        "## Conclusion\n",
        "\n",
        "This notebook demonstrates a comprehensive workflow for automated AEP storm analysis using RAS-Commander. The key benefits of this approach include:\n",
        "\n",
        "1. **Efficiency**: Automating repetitive tasks saves time and reduces errors\n",
        "2. **Consistency**: Ensures consistent methodology across all return periods\n",
        "3. **Parallel Execution**: Makes optimal use of computational resources\n",
        "4. **Comprehensive Analysis**: Extracts and visualizes key metrics across return periods\n",
        "5. **Reproducibility**: The entire workflow is documented and repeatable\n",
        "\n",
        "This approach can be extended to include additional analyses, such as:\n",
        "\n",
        "- Comparing different storm patterns (e.g., position of peak intensity)\n",
        "- Analyzing climate change scenarios by adjusting precipitation depths\n",
        "- Evaluating infrastructure improvements by comparing baseline and modified geometries\n",
        "- Generating frequency curves for key hydraulic parameters\n",
        "\n",
        "By leveraging the power of RAS-Commander, engineers can focus on interpreting results and making design decisions rather than managing model configurations."
      ]
    },
    {
      "cell_type": "markdown",
      "metadata": {},
      "source": [
        "# DEV NOTES: \n",
        "\n",
        "Need to add example of setting Start Time and End Time\n",
        "\n",
        "Need to add function to library that will end-to-end model Atlas 14 AEP storms given an input lat/long, Return Interval and Duration, given a working geometry w/infiltration.  Running optional.\n",
        "\n"
      ]
    }
  ],
  "metadata": {
    "kernelspec": {
      "display_name": "rascmdr",
      "language": "python",
      "name": "python3"
    },
    "language_info": {
      "codemirror_mode": {
        "name": "ipython",
        "version": 3
      },
      "file_extension": ".py",
      "mimetype": "text/x-python",
      "name": "python",
      "nbconvert_exporter": "python",
      "pygments_lexer": "ipython3",
      "version": "3.12.9"
    }
  },
  "nbformat": 4,
  "nbformat_minor": 2
}