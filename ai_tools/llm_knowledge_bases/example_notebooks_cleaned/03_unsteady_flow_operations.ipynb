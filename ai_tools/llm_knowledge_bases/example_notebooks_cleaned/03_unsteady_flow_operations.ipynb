{
  "cells": [
    {
      "cell_type": "markdown",
      "metadata": {},
      "source": [
        "## Package Installation and Environment Setup\n",
        "Uncomment and run package installation commands if needed"
      ]
    },
    {
      "cell_type": "code",
      "execution_count": 1,
      "metadata": {},
      "outputs": [],
      "source": [
        "# 1. Install ras-commander from pip (uncomment to install if needed)\n",
        "#!pip install ras-commander\n",
        "# This installs ras-commander and all dependencies\n",
        "\n",
        "generate_plots = True"
      ]
    },
    {
      "cell_type": "code",
      "execution_count": 2,
      "metadata": {},
      "outputs": [],
      "source": [
        "# 2. Import all required modules\n",
        "\n",
        "# Import all ras-commander modules\n",
        "from ras_commander import *\n",
        "\n",
        "# Import the required libraries for this notebook\n",
        "import numpy as np\n",
        "import pandas as pd\n",
        "from IPython import display\n",
        "import os\n",
        "from pathlib import Path\n",
        "import matplotlib.pyplot as plt"
      ]
    },
    {
      "cell_type": "markdown",
      "metadata": {},
      "source": [
        "## Understanding Unsteady Flow Files in HEC-RAS\n",
        "\n",
        "Unsteady flow files (`.u*` files) in HEC-RAS define the time-varying boundary conditions that drive dynamic simulations. These include:\n",
        "\n",
        "- **Flow Hydrographs**: Time-series of flow values at model boundaries\n",
        "- **Stage Hydrographs**: Time-series of water surface elevations\n",
        "- **Lateral Inflows**: Distributed inflows along a reach\n",
        "- **Gate Operations**: Time-series of gate settings\n",
        "- **Meteorological Data**: Rainfall, evaporation, and other meteorological inputs\n",
        "\n",
        "The `RasUnsteady` class in RAS Commander provides methods for working with these files, including extracting boundaries, reading tables, and modifying parameters.\n",
        "\n",
        "Let's set up our working directory and define paths to example projects:"
      ]
    },
    {
      "cell_type": "markdown",
      "metadata": {},
      "source": [
        "## Downloading and Extracting Example HEC-RAS Projects\n",
        "\n",
        "We'll use the `RasExamples` class to download and extract an example HEC-RAS project with unsteady flow files. For this notebook, we'll use the \"Balde Eagle Creek\" project."
      ]
    },
    {
      "cell_type": "code",
      "execution_count": 3,
      "metadata": {},
      "outputs": [
        {
          "name": "stderr",
          "output_type": "stream",
          "text": [
            "2025-04-08 16:43:34 - ras_commander.RasExamples - INFO - Found zip file: d:\\GitHub\\ras-commander\\examples\\Example_Projects_6_6.zip\n",
            "2025-04-08 16:43:34 - ras_commander.RasExamples - INFO - Loading project data from CSV...\n",
            "2025-04-08 16:43:34 - ras_commander.RasExamples - INFO - Loaded 68 projects from CSV.\n",
            "2025-04-08 16:43:34 - ras_commander.RasExamples - INFO - ----- RasExamples Extracting Project -----\n",
            "2025-04-08 16:43:34 - ras_commander.RasExamples - INFO - Extracting project 'Balde Eagle Creek'\n",
            "2025-04-08 16:43:34 - ras_commander.RasExamples - INFO - Project 'Balde Eagle Creek' already exists. Deleting existing folder...\n",
            "2025-04-08 16:43:34 - ras_commander.RasExamples - INFO - Existing folder for project 'Balde Eagle Creek' has been deleted.\n",
            "2025-04-08 16:43:34 - ras_commander.RasExamples - INFO - Successfully extracted project 'Balde Eagle Creek' to d:\\GitHub\\ras-commander\\examples\\example_projects\\Balde Eagle Creek\n"
          ]
        },
        {
          "name": "stdout",
          "output_type": "stream",
          "text": [
            "Extracted project to: d:\\GitHub\\ras-commander\\examples\\example_projects\\Balde Eagle Creek\n",
            "Bald Eagle Creek project exists: True\n"
          ]
        }
      ],
      "source": [
        "# Extract the Bald Eagle Creek example project\n",
        "# The extract_project method downloads the project from GitHub if not already present,\n",
        "# and extracts it to the example_projects folder\n",
        "bald_eagle_path = RasExamples.extract_project(\"Balde Eagle Creek\")\n",
        "print(f\"Extracted project to: {bald_eagle_path}\")  \n",
        "\n",
        "\n",
        "# Verify the path exists\n",
        "print(f\"Bald Eagle Creek project exists: {bald_eagle_path.exists()}\")"
      ]
    },
    {
      "cell_type": "markdown",
      "metadata": {},
      "source": [
        "## Step 1: Project Initialization\n",
        "\n",
        "The first step is to initialize the HEC-RAS project. This is done using the `init_ras_project()` function, which takes the following parameters:\n",
        "\n",
        "- `ras_project_folder`: Path to the HEC-RAS project folder (required)\n",
        "- `ras_version`: HEC-RAS version (e.g., \"6.6\") or path to Ras.exe (required first time)\n",
        "\n",
        "This function initializes the global `ras` object that we'll use for the rest of the notebook."
      ]
    },
    {
      "cell_type": "code",
      "execution_count": 4,
      "metadata": {},
      "outputs": [
        {
          "name": "stderr",
          "output_type": "stream",
          "text": [
            "2025-04-08 16:43:34 - ras_commander.RasPrj - INFO - Initializing global 'ras' object via init_ras_project function.\n",
            "2025-04-08 16:43:34 - ras_commander.RasMap - INFO - Successfully parsed RASMapper file: d:\\GitHub\\ras-commander\\examples\\example_projects\\Balde Eagle Creek\\BaldEagle.rasmap\n",
            "2025-04-08 16:43:34 - ras_commander.RasPrj - INFO - Project initialized. ras_object project folder: d:\\GitHub\\ras-commander\\examples\\example_projects\\Balde Eagle Creek\n"
          ]
        },
        {
          "name": "stdout",
          "output_type": "stream",
          "text": [
            "Initialized HEC-RAS project: BaldEagle\n"
          ]
        }
      ],
      "source": [
        "# Initialize the HEC-RAS project\n",
        "# This function returns a RAS object, but also updates the global 'ras' object\n",
        "# Parameters:\n",
        "#   - ras_project_folder: Path to the HEC-RAS project folder\n",
        "#   - ras_version: HEC-RAS version or path to Ras.exe\n",
        "\n",
        "init_ras_project(bald_eagle_path, \"6.6\")\n",
        "print(f\"Initialized HEC-RAS project: {ras.project_name}\")\n",
        "\n",
        "# Display the unsteady flow files in the project\n"
      ]
    },
    {
      "cell_type": "code",
      "execution_count": 5,
      "metadata": {},
      "outputs": [
        {
          "name": "stdout",
          "output_type": "stream",
          "text": [
            "\n",
            "HEC-RAS Project Plan Data (plan_df):\n"
          ]
        },
        {
          "data": {
            "text/html": "<div>\n<style scoped>\\n', '    .dataframe tbody tr th:only-of-type {\\n', '        vertical-align: middle;\\n', '    }\\n', '\\n', '    .dataframe tbody tr th {\\n', '        vertical-align: top;\\n', '    }\\n', '\\n', '    .dataframe thead th {\\n', '        text-align: right;\\n', '    }\\n', '</style>\n<table border=\"1\" class=\"dataframe\">\n  <thead>\\n', '    <tr style=\"text-align: right;\">\\n', '      <th></th>\\n', '      <th>plan_number</th>\\n', '      <th>unsteady_number</th>\\n', '      <th>geometry_number</th>\\n', '      <th>Plan Title</th>\\n', '      <th>Program Version</th>\\n', '      <th>Short Identifier</th>\\n', '      <th>Simulation Date</th>\\n', '      <th>Computation Interval</th>\\n', '      <th>Mapping Interval</th>\\n', '      <th>Run HTab</th>\\n', '      <th>...</th>\\n', '      <th>UNET D2 Cores</th>\\n', '      <th>PS Cores</th>\\n', '      <th>DSS File</th>\\n', '      <th>Friction Slope Method</th>\\n', '      <th>HDF_Results_Path</th>\\n', '      <th>Geom File</th>\\n', '      <th>Geom Path</th>\\n', '      <th>Flow File</th>\\n', '      <th>Flow Path</th>\\n', '      <th>full_path</th>\\n', '    </tr>\\n', '  </thead>\n  <tbody>\n    <tr>\\n', '      <th>0</th>\\n', '      <td>01</td>\\n', '      <td>02</td>\\n', '      <td>01</td>\\n', '      <td>Unsteady with Bridges and Dam</td>\\n', '      <td>5.00</td>\\n', '      <td>UnsteadyFlow</td>\\n', '      <td>18FEB1999,0000,24FEB1999,0500</td>\\n', '      <td>2MIN</td>\\n', '      <td>1HOUR</td>\\n', '      <td>1</td>\\n', '      <td>...</td>\\n', '      <td>0.0</td>\\n', '      <td>None</td>\\n', '      <td>dss</td>\\n', '      <td>2</td>\\n', '      <td>None</td>\\n', '      <td>01</td>\\n', '      <td>d:\\\\GitHub\\\\ras-commander\\\\examples\\\\example_proje...</td>\\n', '      <td>02</td>\\n', '      <td>d:\\\\GitHub\\\\ras-commander\\\\examples\\\\example_proje...</td>\\n', '      <td>d:\\\\GitHub\\\\ras-commander\\\\examples\\\\example_proje...</td>\\n', '    </tr><tr>\\n', '      <th>1</th>\\n', '      <td>02</td>\\n', '      <td>None</td>\\n', '      <td>01</td>\\n', '      <td>Steady Flow Run</td>\\n', '      <td>NaN</td>\\n', '      <td>SteadyRun</td>\\n', '      <td>02/18/1999,0000,02/24/1999,0500</td>\\n', '      <td>2MIN</td>\\n', '      <td>NaN</td>\\n', '      <td>1</td>\\n', '      <td>...</td>\\n', '      <td>NaN</td>\\n', '      <td>None</td>\\n', '      <td>dss</td>\\n', '      <td>1</td>\\n', '      <td>None</td>\\n', '      <td>01</td>\\n', '      <td>d:\\\\GitHub\\\\ras-commander\\\\examples\\\\example_proje...</td>\\n', '      <td>02</td>\\n', '      <td>d:\\\\GitHub\\\\ras-commander\\\\examples\\\\example_proje...</td>\\n', '      <td>d:\\\\GitHub\\\\ras-commander\\\\examples\\\\example_proje...</td>\\n', '    </tr>\n    <tr><td colspan=\"100%\" style=\"text-align:center\">[... additional rows truncated ...]</td></tr>\n  </tbody>\n</table>\n</div>",
            "text/plain": "['  plan_number unsteady_number geometry_number                     Plan Title  \\\\\\n', '0          01              02              01  Unsteady with Bridges and Dam   \\n', '1          02            None              01                Steady Flow Run   \\n', '\\n', '  Program Version Short Identifier                  Simulation Date  \\\\\\n', '0            5.00     UnsteadyFlow    18FEB1999,0000,24FEB1999,0500   \\n', '1             NaN        SteadyRun  02/18/1999,0000,02/24/1999,0500   \\n', '\\n', '  Computation Interval Mapping Interval Run HTab  ... UNET D2 Cores PS Cores  \\\\\\n', '0                 2MIN            1HOUR        1  ...           0.0     None   \\n', '1                 2MIN              NaN        1  ...           NaN     None   \\n', '\\n', '  DSS File Friction Slope Method HDF_Results_Path  Geom File  \\\\\\n', '0      dss                     2             None         01   \\n', '1      dss                     1             None         01   \\n', '\\n', '                                           Geom Path Flow File  \\\\\\n', '0  d:\\\\GitHub\\\\ras-commander\\\\examples\\\\example_proje...        02   \\n', '1  d:\\\\GitHub\\\\ras-commander\\\\examples\\\\example_proje...        02   \\n', '\\n', '                                           Flow Path  \\\\\\n', '0  d:\\\\GitHub\\\\ras-commander\\\\examples\\\\example_proje...   \\n', '1  d:\\\\GitHub\\\\ras-commander\\\\examples\\\\example_proje...   \\n', '\\n', '                                           full_path  \\n', '0  d:\\\\GitHub\\\\ras-commander\\\\examples\\\\example_proje...  \\n', '1  d:\\\\GitHub\\\\ras-commander\\\\examples\\\\example_proje...  \\n', '\\n', '[2 rows x 26 columns]']"
          },
          "execution_count": 5,
          "metadata": {},
          "output_type": "execute_result"
        }
      ],
      "source": [
        "print(\"\\nHEC-RAS Project Plan Data (plan_df):\")\n",
        "ras.plan_df"
      ]
    },
    {
      "cell_type": "code",
      "execution_count": 6,
      "metadata": {},
      "outputs": [
        {
          "name": "stdout",
          "output_type": "stream",
          "text": [
            "\n",
            "HEC-RAS Project Geometry Data (geom_df):\n"
          ]
        },
        {
          "data": {
            "text/html": "<div>\n<style scoped>\\n', '    .dataframe tbody tr th:only-of-type {\\n', '        vertical-align: middle;\\n', '    }\\n', '\\n', '    .dataframe tbody tr th {\\n', '        vertical-align: top;\\n', '    }\\n', '\\n', '    .dataframe thead th {\\n', '        text-align: right;\\n', '    }\\n', '</style>\n<table border=\"1\" class=\"dataframe\">\n  <thead>\\n', '    <tr style=\"text-align: right;\">\\n', '      <th></th>\\n', '      <th>geom_file</th>\\n', '      <th>geom_number</th>\\n', '      <th>full_path</th>\\n', '      <th>hdf_path</th>\\n', '    </tr>\\n', '  </thead>\n  <tbody>\n    <tr>\\n', '      <th>0</th>\\n', '      <td>g01</td>\\n', '      <td>01</td>\\n', '      <td>d:\\\\GitHub\\\\ras-commander\\\\examples\\\\example_proje...</td>\\n', '      <td>d:\\\\GitHub\\\\ras-commander\\\\examples\\\\example_proje...</td>\\n', '    </tr>\n    <tr><td colspan=\"100%\" style=\"text-align:center\">[... additional rows truncated ...]</td></tr>\n  </tbody>\n</table>\n</div>",
            "text/plain": "['  geom_file geom_number                                          full_path  \\\\\\n', '0       g01          01  d:\\\\GitHub\\\\ras-commander\\\\examples\\\\example_proje...   \\n', '\\n', '                                            hdf_path  \\n', '0  d:\\\\GitHub\\\\ras-commander\\\\examples\\\\example_proje...  ']"
          },
          "execution_count": 6,
          "metadata": {},
          "output_type": "execute_result"
        }
      ],
      "source": [
        "print(\"\\nHEC-RAS Project Geometry Data (geom_df):\")\n",
        "ras.geom_df"
      ]
    },
    {
      "cell_type": "code",
      "execution_count": 7,
      "metadata": {},
      "outputs": [
        {
          "name": "stdout",
          "output_type": "stream",
          "text": [
            "\n",
            "HEC-RAS Project Unsteady Flow Data (unsteady_df):\n"
          ]
        },
        {
          "data": {
            "text/html": "<div>\n<style scoped>\\n', '    .dataframe tbody tr th:only-of-type {\\n', '        vertical-align: middle;\\n', '    }\\n', '\\n', '    .dataframe tbody tr th {\\n', '        vertical-align: top;\\n', '    }\\n', '\\n', '    .dataframe thead th {\\n', '        text-align: right;\\n', '    }\\n', '</style>\n<table border=\"1\" class=\"dataframe\">\n  <thead>\\n', '    <tr style=\"text-align: right;\">\\n', '      <th></th>\\n', '      <th>unsteady_number</th>\\n', '      <th>full_path</th>\\n', '      <th>geometry_number</th>\\n', '      <th>Flow Title</th>\\n', '      <th>Program Version</th>\\n', '      <th>Use Restart</th>\\n', '      <th>Precipitation Mode</th>\\n', '      <th>Wind Mode</th>\\n', '      <th>Met BC=Precipitation|Mode</th>\\n', '      <th>Met BC=Evapotranspiration|Mode</th>\\n', '      <th>Met BC=Precipitation|Expanded View</th>\\n', '      <th>Met BC=Precipitation|Constant Units</th>\\n', '      <th>Met BC=Precipitation|Gridded Source</th>\\n', '    </tr>\\n', '  </thead>\n  <tbody>\n    <tr>\\n', '      <th>0</th>\\n', '      <td>02</td>\\n', '      <td>d:\\\\GitHub\\\\ras-commander\\\\examples\\\\example_proje...</td>\\n', '      <td>None</td>\\n', '      <td>Flow Hydrograph 2</td>\\n', '      <td>6.30</td>\\n', '      <td>0</td>\\n', '      <td>Disable</td>\\n', '      <td>No Wind Forces</td>\\n', '      <td>None</td>\\n', '      <td>None</td>\\n', '      <td>0</td>\\n', '      <td>mm/hr</td>\\n', '      <td>DSS</td>\\n', '    </tr>\n    <tr><td colspan=\"100%\" style=\"text-align:center\">[... additional rows truncated ...]</td></tr>\n  </tbody>\n</table>\n</div>",
            "text/plain": "['  unsteady_number                                          full_path  \\\\\\n', '0              02  d:\\\\GitHub\\\\ras-commander\\\\examples\\\\example_proje...   \\n', '\\n', '  geometry_number         Flow Title Program Version Use Restart  \\\\\\n', '0            None  Flow Hydrograph 2            6.30           0   \\n', '\\n', '  Precipitation Mode       Wind Mode Met BC=Precipitation|Mode  \\\\\\n', '0            Disable  No Wind Forces                      None   \\n', '\\n', '  Met BC=Evapotranspiration|Mode Met BC=Precipitation|Expanded View  \\\\\\n', '0                           None                                  0   \\n', '\\n', '  Met BC=Precipitation|Constant Units Met BC=Precipitation|Gridded Source  \\n', '0                               mm/hr                                 DSS  ']"
          },
          "execution_count": 7,
          "metadata": {},
          "output_type": "execute_result"
        }
      ],
      "source": [
        "print(\"\\nHEC-RAS Project Unsteady Flow Data (unsteady_df):\")\n",
        "ras.unsteady_df"
      ]
    },
    {
      "cell_type": "code",
      "execution_count": 8,
      "metadata": {},
      "outputs": [
        {
          "name": "stdout",
          "output_type": "stream",
          "text": [
            "\n",
            "HEC-RAS Project Boundary Data (boundaries_df):\n"
          ]
        },
        {
          "data": {
            "text/html": "<div>\n<style scoped>\\n', '    .dataframe tbody tr th:only-of-type {\\n', '        vertical-align: middle;\\n', '    }\\n', '\\n', '    .dataframe tbody tr th {\\n', '        vertical-align: top;\\n', '    }\\n', '\\n', '    .dataframe thead th {\\n', '        text-align: right;\\n', '    }\\n', '</style>\n<table border=\"1\" class=\"dataframe\">\n  <thead>\\n', '    <tr style=\"text-align: right;\">\\n', '      <th></th>\\n', '      <th>unsteady_number</th>\\n', '      <th>boundary_condition_number</th>\\n', '      <th>river_reach_name</th>\\n', '      <th>river_station</th>\\n', '      <th>storage_area_name</th>\\n', '      <th>pump_station_name</th>\\n', '      <th>bc_type</th>\\n', '      <th>hydrograph_type</th>\\n', '      <th>Interval</th>\\n', '      <th>DSS Path</th>\\n', '      <th>...</th>\\n', '      <th>Flow Title</th>\\n', '      <th>Program Version</th>\\n', '      <th>Use Restart</th>\\n', '      <th>Precipitation Mode</th>\\n', '      <th>Wind Mode</th>\\n', '      <th>Met BC=Precipitation|Mode</th>\\n', '      <th>Met BC=Evapotranspiration|Mode</th>\\n', '      <th>Met BC=Precipitation|Expanded View</th>\\n', '      <th>Met BC=Precipitation|Constant Units</th>\\n', '      <th>Met BC=Precipitation|Gridded Source</th>\\n', '    </tr>\\n', '  </thead>\n  <tbody>\n    <tr>\\n', '      <th>0</th>\\n', '      <td>02</td>\\n', '      <td>1</td>\\n', '      <td>Bald Eagle</td>\\n', '      <td>Loc Hav</td>\\n', '      <td>138154.4</td>\\n', '      <td></td>\\n', '      <td>Flow Hydrograph</td>\\n', '      <td>Flow Hydrograph</td>\\n', '      <td>1HOUR</td>\\n', '      <td></td>\\n', '      <td>...</td>\\n', '      <td>Flow Hydrograph 2</td>\\n', '      <td>6.30</td>\\n', '      <td>0</td>\\n', '      <td>Disable</td>\\n', '      <td>No Wind Forces</td>\\n', '      <td>None</td>\\n', '      <td>None</td>\\n', '      <td>0</td>\\n', '      <td>mm/hr</td>\\n', '      <td>DSS</td>\\n', '    </tr><tr>\\n', '      <th>1</th>\\n', '      <td>02</td>\\n', '      <td>2</td>\\n', '      <td>Bald Eagle</td>\\n', '      <td>Loc Hav</td>\\n', '      <td>81500</td>\\n', '      <td></td>\\n', '      <td>Gate Opening</td>\\n', '      <td>None</td>\\n', '      <td>NaN</td>\\n', '      <td>NaN</td>\\n', '      <td>...</td>\\n', '      <td>Flow Hydrograph 2</td>\\n', '      <td>6.30</td>\\n', '      <td>0</td>\\n', '      <td>Disable</td>\\n', '      <td>No Wind Forces</td>\\n', '      <td>None</td>\\n', '      <td>None</td>\\n', '      <td>0</td>\\n', '      <td>mm/hr</td>\\n', '      <td>DSS</td>\\n', '    </tr><tr>\\n', '      <th>2</th>\\n', '      <td>02</td>\\n', '      <td>3</td>\\n', '      <td>Bald Eagle</td>\\n', '      <td>Loc Hav</td>\\n', '      <td>659.942</td>\\n', '      <td></td>\\n', '      <td>Unknown</td>\\n', '      <td>None</td>\\n', '      <td>NaN</td>\\n', '      <td></td>\\n', '      <td>...</td>\\n', '      <td>Flow Hydrograph 2</td>\\n', '      <td>6.30</td>\\n', '      <td>0</td>\\n', '      <td>Disable</td>\\n', '      <td>No Wind Forces</td>\\n', '      <td>None</td>\\n', '      <td>None</td>\\n', '      <td>0</td>\\n', '      <td>mm/hr</td>\\n', '      <td>DSS</td>\\n', '    </tr>\n    <tr><td colspan=\"100%\" style=\"text-align:center\">[... additional rows truncated ...]</td></tr>\n  </tbody>\n</table>\n</div>",
            "text/plain": "['  unsteady_number  boundary_condition_number river_reach_name river_station  \\\\\\n', '0              02                          1       Bald Eagle       Loc Hav   \\n', '1              02                          2       Bald Eagle       Loc Hav   \\n', '2              02                          3       Bald Eagle       Loc Hav   \\n', '\\n', '  storage_area_name pump_station_name          bc_type  hydrograph_type  \\\\\\n', '0          138154.4                    Flow Hydrograph  Flow Hydrograph   \\n', '1             81500                       Gate Opening             None   \\n', '2           659.942                            Unknown             None   \\n', '\\n', '  Interval DSS Path  ...         Flow Title Program Version Use Restart  \\\\\\n', '0    1HOUR           ...  Flow Hydrograph 2            6.30           0   \\n', '1      NaN      NaN  ...  Flow Hydrograph 2            6.30           0   \\n', '2      NaN           ...  Flow Hydrograph 2            6.30           0   \\n', '\\n', '  Precipitation Mode       Wind Mode  Met BC=Precipitation|Mode  \\\\\\n', '0            Disable  No Wind Forces                       None   \\n', '1            Disable  No Wind Forces                       None   \\n', '2            Disable  No Wind Forces                       None   \\n', '\\n', '  Met BC=Evapotranspiration|Mode Met BC=Precipitation|Expanded View  \\\\\\n', '0                           None                                  0   \\n', '1                           None                                  0   \\n', '2                           None                                  0   \\n', '\\n', '  Met BC=Precipitation|Constant Units Met BC=Precipitation|Gridded Source  \\n', '0                               mm/hr                                 DSS  \\n', '1                               mm/hr                                 DSS  \\n', '2                               mm/hr                                 DSS  \\n', '\\n', '[3 rows x 29 columns]']"
          },
          "execution_count": 8,
          "metadata": {},
          "output_type": "execute_result"
        }
      ],
      "source": [
        "print(\"\\nHEC-RAS Project Boundary Data (boundaries_df):\")\n",
        "ras.boundaries_df"
      ]
    },
    {
      "cell_type": "markdown",
      "metadata": {},
      "source": [
        "## Understanding the RasUnsteady Class\n",
        "\n",
        "The `RasUnsteady` class provides functionality for working with HEC-RAS unsteady flow files (`.u*` files). Key operations include:\n",
        "\n",
        "1. **Extracting Boundary Conditions**: Read and parse boundary conditions from unsteady flow files\n",
        "2. **Modifying Flow Titles**: Update descriptive titles for unsteady flow scenarios\n",
        "3. **Managing Restart Settings**: Configure restart file options for continuing simulations\n",
        "4. **Working with Tables**: Extract, modify, and update flow tables\n",
        "\n",
        "Most methods in this class are static and work with the global `ras` object by default, though you can also pass in a custom RAS object."
      ]
    },
    {
      "cell_type": "markdown",
      "metadata": {},
      "source": [
        "## Step 2: Extract Boundary Conditions and Tables\n",
        "\n",
        "The `extract_boundary_and_tables()` method from the `RasUnsteady` class allows us to extract boundary conditions and their associated tables from an unsteady flow file.\n",
        "\n",
        "Parameters for `RasUnsteady.extract_boundary_and_tables()`:\n",
        "- `unsteady_file` (str): Path to the unsteady flow file\n",
        "- `ras_object` (optional): Custom RAS object to use instead of the global one\n",
        "\n",
        "Returns:\n",
        "- `pd.DataFrame`: DataFrame containing boundary conditions and their associated tables\n",
        "\n",
        "Let's see how this works with our example project:"
      ]
    },
    {
      "cell_type": "code",
      "execution_count": 9,
      "metadata": {},
      "outputs": [
        {
          "name": "stdout",
          "output_type": "stream",
          "text": [
            "Unsteady flow file path: d:\\GitHub\\ras-commander\\examples\\example_projects\\Balde Eagle Creek\\BaldEagle.u02\n"
          ]
        },
        {
          "name": "stderr",
          "output_type": "stream",
          "text": [
            "2025-04-08 16:43:35 - ras_commander.RasUnsteady - INFO - Successfully extracted boundaries and tables from d:\\GitHub\\ras-commander\\examples\\example_projects\\Balde Eagle Creek\\BaldEagle.u02\n"
          ]
        },
        {
          "name": "stdout",
          "output_type": "stream",
          "text": [
            "Extracted 3 boundary conditions from the unsteady flow file.\n"
          ]
        }
      ],
      "source": [
        "# Get the path to unsteady flow file \"02\"\n",
        "unsteady_file = RasPlan.get_unsteady_path(\"02\")\n",
        "print(f\"Unsteady flow file path: {unsteady_file}\")\n",
        "\n",
        "# Extract boundary conditions and tables\n",
        "boundaries_df = RasUnsteady.extract_boundary_and_tables(unsteady_file)\n",
        "print(f\"Extracted {len(boundaries_df)} boundary conditions from the unsteady flow file.\")\n"
      ]
    },
    {
      "cell_type": "markdown",
      "metadata": {},
      "source": [
        "## Step 3: Print Boundaries and Tables\n",
        "\n",
        "The `print_boundaries_and_tables()` method provides a formatted display of the boundary conditions and their associated tables. This method doesn't return anything; it just prints the information in a readable format.\n",
        "\n",
        "Parameters for `RasUnsteady.print_boundaries_and_tables()`:\n",
        "- `boundaries_df` (pd.DataFrame): DataFrame containing boundary conditions from `extract_boundary_and_tables()`\n",
        "\n",
        "Let's use this method to get a better understanding of our boundary conditions:"
      ]
    },
    {
      "cell_type": "code",
      "execution_count": 10,
      "metadata": {},
      "outputs": [
        {
          "name": "stdout",
          "output_type": "stream",
          "text": [
            "Detailed boundary conditions and tables:\n",
            "\n",
            "Boundaries and Tablesin boundaries_df:\n",
            "\n",
            "Boundary 1:\n",
            "River Name: Bald Eagle\n",
            "Reach Name: Loc Hav\n",
            "River Station: 138154.4\n",
            "DSS File: \n",
            "\n",
            "Tables for this boundary:\n",
            "\n",
            "Flow Hydrograph:\n",
            "         Value\n",
            "0     1075.530\n",
            "1     1301.640\n",
            "2     1676.940\n",
            "3     2199.120\n",
            "4     2864.950\n",
            "5     3670.340\n",
            "6     4610.320\n",
            "7     5679.080\n",
            "8     6870.050\n",
            "9     8175.880\n",
            "10    9588.521\n",
            "11    1099.261\n",
            "12    2698.791\n",
            "13    4377.231\n",
            "14    6124.261\n",
            "15    7929.081\n",
            "16    9780.592\n",
            "17    1667.362\n",
            "18    3577.750\n",
            "19   25500.000\n",
            "20   27422.250\n",
            "21   29332.640\n",
            "22   31219.410\n",
            "23   33070.920\n",
            "24   34875.740\n",
            "25   36622.770\n",
            "26   38301.210\n",
            "27   39900.740\n",
            "28   41411.480\n",
            "29   42824.120\n",
            "30   44129.950\n",
            "31   45320.920\n",
            "32   46389.680\n",
            "33   47329.660\n",
            "34   48135.050\n",
            "35   48800.880\n",
            "36   49323.060\n",
            "37   49698.360\n",
            "38   49924.480\n",
            "39   50000.000\n",
            "40   49924.480\n",
            "41   49698.360\n",
            "42   49323.060\n",
            "43   48800.880\n",
            "44   48135.050\n",
            "45   47329.660\n",
            "46   46389.680\n",
            "47   45320.920\n",
            "48   44129.950\n",
            "49   42824.120\n",
            "50   41411.480\n",
            "51   39900.740\n",
            "52   38301.210\n",
            "53   36622.770\n",
            "54   34875.740\n",
            "55   33070.920\n",
            "56   31219.410\n",
            "57   29332.640\n",
            "58   27422.250\n",
            "59   26133.620\n",
            "60   24907.840\n",
            "61   23741.840\n",
            "62   22632.710\n",
            "63   21577.670\n",
            "64   20574.080\n",
            "65   19619.450\n",
            "66   18711.360\n",
            "67   17847.570\n",
            "68   17025.900\n",
            "69   16244.310\n",
            "70   15500.840\n",
            "71   14793.620\n",
            "72   14120.900\n",
            "73   13480.990\n",
            "74   12872.280\n",
            "75   12293.260\n",
            "76   11742.490\n",
            "77   11218.570\n",
            "78   10720.200\n",
            "79   10246.140\n",
            "80    9795.200\n",
            "81       9.000\n",
            "82     366.260\n",
            "83       8.000\n",
            "84     958.230\n",
            "85    8570.100\n",
            "86    8200.900\n",
            "87       7.000\n",
            "88     849.710\n",
            "89       7.000\n",
            "90     515.650\n",
            "91       7.000\n",
            "92     197.880\n",
            "93    6895.600\n",
            "94       6.000\n",
            "95     608.070\n",
            "96    6334.560\n",
            "97    6074.390\n",
            "98    5826.910\n",
            "99    5591.500\n",
            "100   5367.570\n",
            "101   5154.560\n",
            "102   4951.940\n",
            "103   4759.200\n",
            "104   4575.860\n",
            "105   4401.470\n",
            "106   4235.580\n",
            "107   4077.770\n",
            "108   3927.670\n",
            "109   3784.890\n",
            "110   3649.070\n",
            "111   3519.870\n",
            "112   3396.970\n",
            "113   3280.070\n",
            "114   3168.870\n",
            "115   3063.090\n",
            "116   2962.480\n",
            "117   2866.760\n",
            "118   2775.720\n",
            "119   2689.120\n",
            "120   2606.740\n",
            "121   2528.380\n",
            "122   2453.840\n",
            "123   2382.930\n",
            "124   2315.490\n",
            "125   2251.330\n",
            "126   2190.300\n",
            "127      2.000\n",
            "128    132.250\n",
            "129      2.000\n",
            "130     77.030\n",
            "131   2024.500\n",
            "132      1.000\n",
            "133    974.540\n",
            "134      1.000\n",
            "135    927.010\n",
            "136   1881.800\n",
            "137      1.000\n",
            "138    838.790\n",
            "139      1.000\n",
            "140    797.880\n",
            "141      1.000\n",
            "142    758.970\n",
            "143   1721.950\n",
            "144   1686.740\n",
            "145   1653.250\n",
            "146   1621.390\n",
            "147   1591.090\n",
            "148   1562.260\n",
            "149   1534.840\n",
            "150   1508.750\n",
            "151   1483.940\n",
            "152   1460.340\n",
            "153   1437.890\n",
            "154   1416.530\n",
            "155   1396.220\n",
            "156   1376.890\n",
            "157   1358.510\n",
            "158   1341.030\n",
            "159   1324.400\n",
            "160   1308.570\n",
            "161   1293.530\n",
            "162   1279.210\n",
            "--------------------------------------------------------------------------------\n",
            "\n",
            "Boundary 2:\n",
            "River Name: Bald Eagle\n",
            "Reach Name: Loc Hav\n",
            "River Station: 81500\n",
            "DSS File: \n",
            "\n",
            "Tables for this boundary:\n",
            "\n",
            "Gate Openings:\n",
            "     Value\n",
            "0     6.00\n",
            "1     6.20\n",
            "2     3.00\n",
            "3     6.40\n",
            "4     5.00\n",
            "5     6.60\n",
            "6     8.00\n",
            "7     6.00\n",
            "8     9.00\n",
            "9     7.10\n",
            "10    3.00\n",
            "11    7.30\n",
            "12    5.00\n",
            "13    7.50\n",
            "14    8.00\n",
            "15    7.00\n",
            "16    8.00\n",
            "17    8.00\n",
            "18    3.00\n",
            "19    8.25\n",
            "20    8.48\n",
            "21    8.70\n",
            "22    8.93\n",
            "23    9.15\n",
            "24    9.38\n",
            "25    9.60\n",
            "26    9.83\n",
            "27    1.00\n",
            "28    0.05\n",
            "29    1.00\n",
            "30    0.28\n",
            "31   10.50\n",
            "32    1.00\n",
            "33    0.73\n",
            "34    1.00\n",
            "35    0.95\n",
            "36    1.00\n",
            "37    1.18\n",
            "38   11.40\n",
            "39    1.00\n",
            "40    1.63\n",
            "41    1.00\n",
            "42    1.85\n",
            "43    1.00\n",
            "44    2.08\n",
            "45   12.30\n",
            "46    1.00\n",
            "47    2.53\n",
            "48   12.75\n",
            "49   12.98\n",
            "50   13.20\n",
            "51   13.43\n",
            "52   13.65\n",
            "53   13.88\n",
            "54   14.10\n",
            "55   14.33\n",
            "56   14.55\n",
            "57   14.78\n",
            "58   15.00\n",
            "59   14.00\n",
            "60   83.00\n",
            "61   14.00\n",
            "62   66.00\n",
            "63   14.00\n",
            "64   49.00\n",
            "65   14.00\n",
            "66   32.00\n",
            "67   14.00\n",
            "68   15.00\n",
            "69   13.00\n",
            "70   98.00\n",
            "71   13.00\n",
            "72   81.00\n",
            "73   13.00\n",
            "74   64.00\n",
            "75   13.00\n",
            "76   47.00\n",
            "77   13.31\n",
            "78   13.14\n",
            "79   12.97\n",
            "80   12.80\n",
            "81   12.63\n",
            "82   12.46\n",
            "83   12.29\n",
            "84   12.12\n",
            "85   11.95\n",
            "86   11.78\n",
            "87   11.61\n",
            "88   11.44\n",
            "89   11.27\n",
            "90   11.10\n",
            "91   10.93\n",
            "92   10.76\n",
            "93   10.59\n",
            "94   10.42\n",
            "95   10.25\n",
            "96   10.08\n",
            "97    9.92\n",
            "98    9.75\n",
            "99    9.58\n",
            "100   9.41\n",
            "101   9.24\n",
            "102   9.07\n",
            "103   8.90\n",
            "104   8.73\n",
            "105   8.56\n",
            "106   8.39\n",
            "107   8.22\n",
            "108   8.05\n",
            "109   7.88\n",
            "110   7.71\n",
            "111   7.54\n",
            "112   7.37\n",
            "113   7.20\n",
            "114   7.03\n",
            "115   6.86\n",
            "116   6.69\n",
            "117   6.53\n",
            "118   6.36\n",
            "119   6.19\n",
            "120   6.02\n",
            "121   5.85\n",
            "122   5.68\n",
            "123   5.51\n",
            "124   5.34\n",
            "125   5.17\n",
            "126   5.00\n",
            "127   5.00\n",
            "128   5.00\n",
            "129   5.00\n",
            "130   5.00\n",
            "131   5.00\n",
            "132   5.00\n",
            "133   5.00\n",
            "134   5.00\n",
            "135   5.00\n",
            "136   5.00\n",
            "137   5.00\n",
            "138   5.00\n",
            "139   5.00\n",
            "140   5.00\n",
            "141   5.00\n",
            "142   5.00\n",
            "143   5.00\n",
            "144   5.00\n",
            "145   5.00\n",
            "146   5.00\n",
            "147   5.00\n",
            "148   5.00\n",
            "149   5.00\n",
            "150   5.00\n",
            "151   5.00\n",
            "152   5.00\n",
            "153   5.00\n",
            "154   5.00\n",
            "155   5.00\n",
            "156   5.00\n",
            "157   5.00\n",
            "158   5.00\n",
            "159   5.00\n",
            "160   5.00\n",
            "161   5.00\n",
            "162   5.00\n",
            "163   5.00\n",
            "164   5.00\n",
            "165   5.00\n",
            "166   5.00\n",
            "167   5.00\n",
            "168   5.00\n",
            "169   5.00\n",
            "170   5.00\n",
            "171   5.00\n",
            "172   5.00\n",
            "173   5.00\n",
            "174   5.00\n",
            "175   5.00\n",
            "176   5.00\n",
            "--------------------------------------------------------------------------------\n",
            "\n",
            "Boundary 3:\n",
            "River Name: Bald Eagle\n",
            "Reach Name: Loc Hav\n",
            "River Station: 659.942\n",
            "DSS File: \n",
            "--------------------------------------------------------------------------------\n"
          ]
        }
      ],
      "source": [
        "# Print the boundaries and tables in a formatted way\n",
        "print(\"Detailed boundary conditions and tables:\")\n",
        "RasUnsteady.print_boundaries_and_tables(boundaries_df)"
      ]
    },
    {
      "cell_type": "markdown",
      "metadata": {},
      "source": [
        "## Understanding Boundary Condition Types\n",
        "\n",
        "The output above shows the different types of boundary conditions in our unsteady flow file. Let's understand what each type means:\n",
        "\n",
        "1. **Flow Hydrograph**: A time series of flow values (typically in cfs or cms) entering the model at a specific location. These are used at upstream boundaries or internal points where flow enters the system.\n",
        "\n",
        "2. **Stage Hydrograph**: A time series of water surface elevations (typically in ft or m) that define the downstream boundary condition.\n",
        "\n",
        "3. **Gate Openings**: Time series of gate settings (typically height in ft or m) for hydraulic structures such as spillways, sluice gates, or other control structures.\n",
        "\n",
        "4. **Lateral Inflow Hydrograph**: Flow entering the system along a reach, not at a specific point. This can represent tributary inflows, overland flow, or other distributed inputs.\n",
        "\n",
        "5. **Normal Depth**: A boundary condition where the water surface slope is assumed to equal the bed slope. This is represented by a friction slope value.\n",
        "\n",
        "Let's look at a specific boundary condition in more detail:"
      ]
    },
    {
      "cell_type": "code",
      "execution_count": 11,
      "metadata": {},
      "outputs": [
        {
          "name": "stdout",
          "output_type": "stream",
          "text": [
            "Detailed look at boundary condition 1:\n",
            "\n",
            "Boundary Location:\n",
            "  River Name: Bald Eagle\n",
            "  Reach Name: Loc Hav\n",
            "  River Station: 138154.4\n",
            "  Storage Area Name: \n",
            "\n",
            "Boundary Properties:\n",
            "  Boundary Type: N/A\n",
            "  DSS File: \n",
            "  Use DSS: N/A\n",
            "\n",
            "Table Information:\n",
            "  Flow Hydrograph: 163 values\n",
            "    Min Value: 1.0\n",
            "    Max Value: 50000.0\n",
            "    First 5 Values: [1075.53, 1301.64, 1676.94, 2199.12, 2864.95]\n"
          ]
        }
      ],
      "source": [
        "# Let's examine the first boundary condition in more detail\n",
        "if not boundaries_df.empty:\n",
        "    first_boundary = boundaries_df.iloc[0]\n",
        "    print(f\"Detailed look at boundary condition {1}:\")\n",
        "    \n",
        "    # Print boundary location components\n",
        "    print(f\"\\nBoundary Location:\")\n",
        "    print(f\"  River Name: {first_boundary.get('River Name', 'N/A')}\")\n",
        "    print(f\"  Reach Name: {first_boundary.get('Reach Name', 'N/A')}\")\n",
        "    print(f\"  River Station: {first_boundary.get('River Station', 'N/A')}\")\n",
        "    print(f\"  Storage Area Name: {first_boundary.get('Storage Area Name', 'N/A')}\")\n",
        "    \n",
        "    # Print boundary condition type and other properties\n",
        "    print(f\"\\nBoundary Properties:\")\n",
        "    print(f\"  Boundary Type: {first_boundary.get('bc_type', 'N/A')}\")\n",
        "    print(f\"  DSS File: {first_boundary.get('DSS File', 'N/A')}\")\n",
        "    print(f\"  Use DSS: {first_boundary.get('Use DSS', 'N/A')}\")\n",
        "    \n",
        "    # Print table statistics if available\n",
        "    if 'Tables' in first_boundary and isinstance(first_boundary['Tables'], dict):\n",
        "        print(f\"\\nTable Information:\")\n",
        "        for table_name, table_df in first_boundary['Tables'].items():\n",
        "            print(f\"  {table_name}: {len(table_df)} values\")\n",
        "            if not table_df.empty:\n",
        "                print(f\"    Min Value: {table_df['Value'].min()}\")\n",
        "                print(f\"    Max Value: {table_df['Value'].max()}\")\n",
        "                print(f\"    First 5 Values: {table_df['Value'].head(5).tolist()}\")\n",
        "else:\n",
        "    print(\"No boundary conditions found in the unsteady flow file.\")"
      ]
    },
    {
      "cell_type": "markdown",
      "metadata": {},
      "source": [
        "## Step 4: Update Flow Title\n",
        "\n",
        "The flow title in an unsteady flow file provides a description of the simulation scenario. The `update_flow_title()` method allows us to modify this title.\n",
        "\n",
        "Parameters for `RasUnsteady.update_flow_title()`:\n",
        "- `unsteady_file` (str): Full path to the unsteady flow file\n",
        "- `new_title` (str): New flow title (max 24 characters)\n",
        "- `ras_object` (optional): Custom RAS object to use instead of the global one\n",
        "\n",
        "Let's clone an unsteady flow file and update its title:"
      ]
    },
    {
      "cell_type": "code",
      "execution_count": 12,
      "metadata": {},
      "outputs": [
        {
          "name": "stderr",
          "output_type": "stream",
          "text": [
            "2025-04-08 16:43:35 - ras_commander.RasUtils - INFO - File cloned from d:\\GitHub\\ras-commander\\examples\\example_projects\\Balde Eagle Creek\\BaldEagle.u02 to d:\\GitHub\\ras-commander\\examples\\example_projects\\Balde Eagle Creek\\BaldEagle.u01\n",
            "2025-04-08 16:43:35 - ras_commander.RasUtils - INFO - Project file updated with new Unsteady entry: 01\n",
            "2025-04-08 16:43:35 - ras_commander.RasMap - INFO - Successfully parsed RASMapper file: d:\\GitHub\\ras-commander\\examples\\example_projects\\Balde Eagle Creek\\BaldEagle.rasmap\n"
          ]
        },
        {
          "name": "stdout",
          "output_type": "stream",
          "text": [
            "New unsteady flow created: 01\n"
          ]
        }
      ],
      "source": [
        "# Clone unsteady flow \"02\" to create a new unsteady flow file\n",
        "new_unsteady_number = RasPlan.clone_unsteady(\"02\")\n",
        "print(f\"New unsteady flow created: {new_unsteady_number}\")"
      ]
    },
    {
      "cell_type": "code",
      "execution_count": 13,
      "metadata": {},
      "outputs": [
        {
          "data": {
            "text/plain": "[\"'01'\"]"
          },
          "execution_count": 13,
          "metadata": {},
          "output_type": "execute_result"
        }
      ],
      "source": [
        "new_unsteady_number"
      ]
    },
    {
      "cell_type": "code",
      "execution_count": 14,
      "metadata": {},
      "outputs": [
        {
          "name": "stdout",
          "output_type": "stream",
          "text": [
            "New unsteady flow file path: d:\\GitHub\\ras-commander\\examples\\example_projects\\Balde Eagle Creek\\BaldEagle.u01\n"
          ]
        }
      ],
      "source": [
        "# Get the path to the new unsteady flow file\n",
        "new_unsteady_file = RasPlan.get_unsteady_path(new_unsteady_number)\n",
        "print(f\"New unsteady flow file path: {new_unsteady_file}\")"
      ]
    },
    {
      "cell_type": "code",
      "execution_count": 15,
      "metadata": {},
      "outputs": [
        {
          "data": {
            "text/plain": "[\"'d:\\\\\\\\GitHub\\\\\\\\ras-commander\\\\\\\\examples\\\\\\\\example_projects\\\\\\\\Balde Eagle Creek\\\\\\\\BaldEagle.u01'\"]"
          },
          "execution_count": 15,
          "metadata": {},
          "output_type": "execute_result"
        }
      ],
      "source": [
        "new_unsteady_file"
      ]
    },
    {
      "cell_type": "code",
      "execution_count": 16,
      "metadata": {},
      "outputs": [
        {
          "name": "stderr",
          "output_type": "stream",
          "text": [
            "2025-04-08 16:43:35 - ras_commander.RasUnsteady - INFO - Updated Flow Title from 'Flow Hydrograph 2' to 'Modified Flow Scenario'\n",
            "2025-04-08 16:43:35 - ras_commander.RasUnsteady - INFO - Applied Flow Title modification to d:\\GitHub\\ras-commander\\examples\\example_projects\\Balde Eagle Creek\\BaldEagle.u01\n"
          ]
        },
        {
          "name": "stdout",
          "output_type": "stream",
          "text": [
            "Current flow title: Flow Hydrograph 2\n",
            "Updated flow title to: Modified Flow Scenario\n"
          ]
        }
      ],
      "source": [
        "# Get the current flow title\n",
        "current_title = None\n",
        "for _, row in ras.unsteady_df.iterrows():\n",
        "    if row['unsteady_number'] == new_unsteady_number and 'Flow Title' in row:\n",
        "        current_title = row['Flow Title']\n",
        "        break\n",
        "print(f\"Current flow title: {current_title}\")\n",
        "\n",
        "# Update the flow title\n",
        "new_title = \"Modified Flow Scenario\"\n",
        "RasUnsteady.update_flow_title(new_unsteady_file, new_title)\n",
        "print(f\"Updated flow title to: {new_title}\")\n",
        "\n",
        "# Refresh unsteady flow information to see the change"
      ]
    },
    {
      "cell_type": "code",
      "execution_count": 17,
      "metadata": {},
      "outputs": [
        {
          "data": {
            "text/html": "<div>\n<style scoped>\\n', '    .dataframe tbody tr th:only-of-type {\\n', '        vertical-align: middle;\\n', '    }\\n', '\\n', '    .dataframe tbody tr th {\\n', '        vertical-align: top;\\n', '    }\\n', '\\n', '    .dataframe thead th {\\n', '        text-align: right;\\n', '    }\\n', '</style>\n<table border=\"1\" class=\"dataframe\">\n  <thead>\\n', '    <tr style=\"text-align: right;\">\\n', '      <th></th>\\n', '      <th>unsteady_number</th>\\n', '      <th>full_path</th>\\n', '      <th>geometry_number</th>\\n', '      <th>Flow Title</th>\\n', '      <th>Program Version</th>\\n', '      <th>Use Restart</th>\\n', '      <th>Precipitation Mode</th>\\n', '      <th>Wind Mode</th>\\n', '      <th>Met BC=Precipitation|Mode</th>\\n', '      <th>Met BC=Evapotranspiration|Mode</th>\\n', '      <th>Met BC=Precipitation|Expanded View</th>\\n', '      <th>Met BC=Precipitation|Constant Units</th>\\n', '      <th>Met BC=Precipitation|Gridded Source</th>\\n', '    </tr>\\n', '  </thead>\n  <tbody>\n    <tr>\\n', '      <th>0</th>\\n', '      <td>02</td>\\n', '      <td>d:\\\\GitHub\\\\ras-commander\\\\examples\\\\example_proje...</td>\\n', '      <td>None</td>\\n', '      <td>Flow Hydrograph 2</td>\\n', '      <td>6.30</td>\\n', '      <td>0</td>\\n', '      <td>Disable</td>\\n', '      <td>No Wind Forces</td>\\n', '      <td>None</td>\\n', '      <td>None</td>\\n', '      <td>0</td>\\n', '      <td>mm/hr</td>\\n', '      <td>DSS</td>\\n', '    </tr><tr>\\n', '      <th>1</th>\\n', '      <td>01</td>\\n', '      <td>d:\\\\GitHub\\\\ras-commander\\\\examples\\\\example_proje...</td>\\n', '      <td>None</td>\\n', '      <td>Modified Flow Scenario</td>\\n', '      <td>6.30</td>\\n', '      <td>0</td>\\n', '      <td>Disable</td>\\n', '      <td>No Wind Forces</td>\\n', '      <td>None</td>\\n', '      <td>None</td>\\n', '      <td>0</td>\\n', '      <td>mm/hr</td>\\n', '      <td>DSS</td>\\n', '    </tr>\n    <tr><td colspan=\"100%\" style=\"text-align:center\">[... additional rows truncated ...]</td></tr>\n  </tbody>\n</table>\n</div>",
            "text/plain": "['  unsteady_number                                          full_path  \\\\\\n', '0              02  d:\\\\GitHub\\\\ras-commander\\\\examples\\\\example_proje...   \\n', '1              01  d:\\\\GitHub\\\\ras-commander\\\\examples\\\\example_proje...   \\n', '\\n', '  geometry_number              Flow Title Program Version Use Restart  \\\\\\n', '0            None       Flow Hydrograph 2            6.30           0   \\n', '1            None  Modified Flow Scenario            6.30           0   \\n', '\\n', '  Precipitation Mode       Wind Mode Met BC=Precipitation|Mode  \\\\\\n', '0            Disable  No Wind Forces                      None   \\n', '1            Disable  No Wind Forces                      None   \\n', '\\n', '  Met BC=Evapotranspiration|Mode Met BC=Precipitation|Expanded View  \\\\\\n', '0                           None                                  0   \\n', '1                           None                                  0   \\n', '\\n', '  Met BC=Precipitation|Constant Units Met BC=Precipitation|Gridded Source  \\n', '0                               mm/hr                                 DSS  \\n', '1                               mm/hr                                 DSS  ']"
          },
          "execution_count": 17,
          "metadata": {},
          "output_type": "execute_result"
        }
      ],
      "source": [
        "# Review unsteady flow information to see the change\n",
        "ras.unsteady_df"
      ]
    },
    {
      "cell_type": "markdown",
      "metadata": {},
      "source": [
        "## Step 6: Working with Flow Tables\n",
        "\n",
        "Flow tables in unsteady flow files contain the time-series data for boundary conditions. Let's explore how to extract and work with these tables using some of the advanced methods from the `RasUnsteady` class."
      ]
    },
    {
      "cell_type": "code",
      "execution_count": 18,
      "metadata": {},
      "outputs": [
        {
          "name": "stdout",
          "output_type": "stream",
          "text": [
            "Extracted 2 tables from the unsteady flow file.\n",
            "\n",
            "Available tables:\n",
            "  Flow Hydrograph=\n",
            "  Gate Openings=\n",
            "\n",
            "Detailed look at table 'Flow Hydrograph=':\n",
            "  Number of values: 155\n",
            "  Min value: 0.0\n",
            "  Max value: 50000.0\n",
            "  Mean value: 15726.35\n",
            "  First 10 values: [1075.53, 1301.64, 1676.94, 2199.12, 2864.95, 3670.34, 4610.32, 5679.08, 6870.05, 8175.88]\n"
          ]
        },
        {
          "data": {
            "text/plain": [
              "<Figure size 1000x600 with 1 Axes>"
            ]
          },
          "metadata": {},
          "output_type": "display_data"
        }
      ],
      "source": [
        "# Extract specific tables from the unsteady flow file\n",
        "all_tables = RasUnsteady.extract_tables(new_unsteady_file)\n",
        "print(f\"Extracted {len(all_tables)} tables from the unsteady flow file.\")\n",
        "\n",
        "# Let's look at the available table names\n",
        "print(\"\\nAvailable tables:\")\n",
        "for table_name in all_tables.keys():\n",
        "    print(f\"  {table_name}\")\n",
        "\n",
        "# Select the first table for detailed analysis\n",
        "if all_tables and len(all_tables) > 0:\n",
        "    first_table_name = list(all_tables.keys())[0]\n",
        "    first_table = all_tables[first_table_name]\n",
        "    \n",
        "    print(f\"\\nDetailed look at table '{first_table_name}':\")\n",
        "    print(f\"  Number of values: {len(first_table)}\")\n",
        "    print(f\"  Min value: {first_table['Value'].min()}\")\n",
        "    print(f\"  Max value: {first_table['Value'].max()}\")\n",
        "    print(f\"  Mean value: {first_table['Value'].mean():.2f}\")\n",
        "    print(f\"  First 10 values: {first_table['Value'].head(10).tolist()}\")\n",
        "    \n",
        "    # Create a visualization of the table values\n",
        "    try:\n",
        "        import matplotlib.pyplot as plt\n",
        "        \n",
        "        plt.figure(figsize=(10, 6))\n",
        "        plt.plot(first_table['Value'].values)\n",
        "        plt.title(f\"{first_table_name} Values\")\n",
        "        plt.xlabel('Time Step')\n",
        "        plt.ylabel('Value')\n",
        "        plt.grid(True)\n",
        "        plt.show()\n",
        "    except Exception as e:\n",
        "        print(f\"Could not create visualization: {e}\")\n",
        "else:\n",
        "    print(\"No tables found in the unsteady flow file.\")"
      ]
    },
    {
      "cell_type": "markdown",
      "metadata": {},
      "source": [
        "## Step 7: Modifying Flow Tables\n",
        "\n",
        "Now let's demonstrate how to modify a flow table and write it back to the unsteady flow file. For this example, we'll scale all the values in a table by a factor."
      ]
    },
    {
      "cell_type": "markdown",
      "metadata": {},
      "source": [
        "#### Scaling existing values down by a 0.75 scale factor"
      ]
    },
    {
      "cell_type": "code",
      "execution_count": 19,
      "metadata": {},
      "outputs": [
        {
          "name": "stderr",
          "output_type": "stream",
          "text": [
            "2025-04-08 16:43:35 - ras_commander.RasUnsteady - INFO - Successfully updated table 'Flow Hydrograph=' in d:\\GitHub\\ras-commander\\examples\\example_projects\\Balde Eagle Creek\\BaldEagle.u01\n"
          ]
        },
        {
          "name": "stdout",
          "output_type": "stream",
          "text": [
            "Identified 2 tables in the unsteady flow file.\n",
            "\n",
            "Selected table: Flow Hydrograph=\n",
            "  Start line: 7\n",
            "  End line: 35\n",
            "\n",
            "Original table statistics:\n",
            "  Number of values: 155\n",
            "  Min value: 0.0\n",
            "  Max value: 50000.0\n",
            "  First 5 values: [1075.53, 1301.64, 1676.94, 2199.12, 2864.95]\n",
            "\n",
            "Modified table statistics (scaled by 0.75):\n",
            "  Number of values: 155\n",
            "  Min value: 0.0\n",
            "  Max value: 37500.0\n",
            "  First 5 values: [806.6475, 976.23, 1257.705, 1649.34, 2148.7124999999996]\n",
            "\n",
            "Updated table written back to the unsteady flow file.\n",
            "\n",
            "Verified updated table statistics:\n",
            "  Number of values: 159\n",
            "  Min value: 0.0\n",
            "  Max value: 37500.0\n",
            "  First 5 values: [807.0, 976.0, 1258.0, 1649.0, 2149.0]\n"
          ]
        }
      ],
      "source": [
        "# First, identify tables in the unsteady flow file\n",
        "tables = RasUnsteady.identify_tables(open(new_unsteady_file, 'r').readlines())\n",
        "print(f\"Identified {len(tables)} tables in the unsteady flow file.\")\n",
        "\n",
        "# Let's look at the first flow hydrograph table\n",
        "flow_hydrograph_tables = [t for t in tables if t[0] == 'Flow Hydrograph=']\n",
        "if flow_hydrograph_tables:\n",
        "    table_name, start_line, end_line = flow_hydrograph_tables[0]\n",
        "    print(f\"\\nSelected table: {table_name}\")\n",
        "    print(f\"  Start line: {start_line}\")\n",
        "    print(f\"  End line: {end_line}\")\n",
        "    \n",
        "    # Parse the table\n",
        "    lines = open(new_unsteady_file, 'r').readlines()\n",
        "    table_df = RasUnsteady.parse_fixed_width_table(lines, start_line, end_line)\n",
        "    print(f\"\\nOriginal table statistics:\")\n",
        "    print(f\"  Number of values: {len(table_df)}\")\n",
        "    print(f\"  Min value: {table_df['Value'].min()}\")\n",
        "    print(f\"  Max value: {table_df['Value'].max()}\")\n",
        "    print(f\"  First 5 values: {table_df['Value'].head(5).tolist()}\")\n",
        "    \n",
        "    # Modify the table - let's scale all values by 75%\n",
        "    scale_factor = 0.75\n",
        "    table_df['Value'] = table_df['Value'] * scale_factor\n",
        "    print(f\"\\nModified table statistics (scaled by {scale_factor}):\")\n",
        "    print(f\"  Number of values: {len(table_df)}\")\n",
        "    print(f\"  Min value: {table_df['Value'].min()}\")\n",
        "    print(f\"  Max value: {table_df['Value'].max()}\")\n",
        "    print(f\"  First 5 values: {table_df['Value'].head(5).tolist()}\")\n",
        "    \n",
        "    # Write the modified table back to the file\n",
        "    RasUnsteady.write_table_to_file(new_unsteady_file, table_name, table_df, start_line)\n",
        "    print(f\"\\nUpdated table written back to the unsteady flow file.\")\n",
        "    \n",
        "    # Re-read the table to verify changes\n",
        "    lines = open(new_unsteady_file, 'r').readlines()\n",
        "    updated_table_df = RasUnsteady.parse_fixed_width_table(lines, start_line, end_line)\n",
        "    print(f\"\\nVerified updated table statistics:\")\n",
        "    print(f\"  Number of values: {len(updated_table_df)}\")\n",
        "    print(f\"  Min value: {updated_table_df['Value'].min()}\")\n",
        "    print(f\"  Max value: {updated_table_df['Value'].max()}\")\n",
        "    print(f\"  First 5 values: {updated_table_df['Value'].head(5).tolist()}\")\n",
        "else:\n",
        "    print(\"No flow hydrograph tables found in the unsteady flow file.\")"
      ]
    },
    {
      "cell_type": "code",
      "execution_count": 20,
      "metadata": {},
      "outputs": [
        {
          "data": {
            "text/plain": [
              "<Figure size 1000x600 with 1 Axes>"
            ]
          },
          "metadata": {},
          "output_type": "display_data"
        },
        {
          "name": "stdout",
          "output_type": "stream",
          "text": [
            "\n",
            "Updated flow hydrograph statistics:\n",
            "  Number of values: 159\n",
            "  Min flow: 0.0 cfs\n",
            "  Max flow: 37500.0 cfs\n",
            "  Mean flow: 11549.3 cfs\n"
          ]
        }
      ],
      "source": [
        "# Extract specific tables from the unsteady flow file\n",
        "all_tables = RasUnsteady.extract_tables(new_unsteady_file)\n",
        "\n",
        "# Get the updated flow hydrograph table\n",
        "flow_hydrograph_tables = [t for t in all_tables.keys() if 'Flow Hydrograph=' in t]\n",
        "if flow_hydrograph_tables:\n",
        "    table_name = flow_hydrograph_tables[0]\n",
        "    table_df = all_tables[table_name]\n",
        "    \n",
        "    # Create visualization of the updated flow values\n",
        "    import matplotlib.pyplot as plt\n",
        "    \n",
        "    plt.figure(figsize=(10, 6))\n",
        "    plt.plot(table_df['Value'].values, 'b-', label='Updated Flow')\n",
        "    plt.title('Updated Flow Hydrograph')\n",
        "    plt.xlabel('Time Step') \n",
        "    plt.ylabel('Flow (cfs)')\n",
        "    plt.grid(True)\n",
        "    plt.legend()\n",
        "    plt.show()\n",
        "    \n",
        "    # Print summary statistics\n",
        "    print(f\"\\nUpdated flow hydrograph statistics:\")\n",
        "    print(f\"  Number of values: {len(table_df)}\")\n",
        "    print(f\"  Min flow: {table_df['Value'].min():.1f} cfs\")\n",
        "    print(f\"  Max flow: {table_df['Value'].max():.1f} cfs\")\n",
        "    print(f\"  Mean flow: {table_df['Value'].mean():.1f} cfs\")\n",
        "else:\n",
        "    print(\"No flow hydrograph tables found in the unsteady flow file.\")"
      ]
    },
    {
      "cell_type": "code",
      "execution_count": 21,
      "metadata": {},
      "outputs": [
        {
          "name": "stderr",
          "output_type": "stream",
          "text": [
            "2025-04-08 16:43:35 - ras_commander.RasCmdr - INFO - Using ras_object with project folder: d:\\GitHub\\ras-commander\\examples\\example_projects\\Balde Eagle Creek\n",
            "2025-04-08 16:43:35 - ras_commander.RasCmdr - INFO - Running HEC-RAS from the Command Line:\n",
            "2025-04-08 16:43:35 - ras_commander.RasCmdr - INFO - Running command: \"C:\\Program Files (x86)\\HEC\\HEC-RAS\\6.6\\Ras.exe\" -c \"D:\\GitHub\\ras-commander\\examples\\example_projects\\Balde Eagle Creek\\BaldEagle.prj\" \"d:\\GitHub\\ras-commander\\examples\\example_projects\\Balde Eagle Creek\\BaldEagle.p01\"\n",
            "2025-04-08 16:46:42 - ras_commander.RasCmdr - INFO - HEC-RAS execution completed for plan: 01\n",
            "2025-04-08 16:46:42 - ras_commander.RasCmdr - INFO - Total run time for plan 01: 186.40 seconds\n"
          ]
        },
        {
          "data": {
            "text/plain": "['True']"
          },
          "execution_count": 21,
          "metadata": {},
          "output_type": "execute_result"
        }
      ],
      "source": [
        "# Execute Plan 01 to generate model results\n",
        "\n",
        "RasCmdr.compute_plan(\"01\")"
      ]
    },
    {
      "cell_type": "code",
      "execution_count": 22,
      "metadata": {},
      "outputs": [
        {
          "name": "stderr",
          "output_type": "stream",
          "text": [
            "2025-04-08 16:46:42 - ras_commander.HdfResultsXsec - INFO - Final validated HDF file path: d:\\GitHub\\ras-commander\\examples\\example_projects\\Balde Eagle Creek\\BaldEagle.p01.hdf\n"
          ]
        }
      ],
      "source": [
        "# Get cross section results timeseries as xarray dataset\n",
        "xsec_results_xr_plan1 = HdfResultsXsec.get_xsec_timeseries(\"01\")"
      ]
    },
    {
      "cell_type": "code",
      "execution_count": 23,
      "metadata": {},
      "outputs": [
        {
          "data": {
            "text/html": "<div><pre>xarray.Dataset with (time: 150, cross_section: 178)\\n', 'Coordinates:\\n', '  * time                      (time) datetime64[ns] 1kB 1999-02-18 ... 1999-0...\\n', '  * cross_section             (cross_section) &lt;U42 30kB &#x27;Bald Eagle       Loc...\\n', '    River                     (cross_section) &lt;U10 7kB &#x27;Bald Eagle&#x27; ... &#x27;Bald...\\n', '    Reach                     (cross_section) &lt;U7 5kB &#x27;Loc Hav&#x27; ... &#x27;Loc Hav&#x27;\\n', '    Station                   (cross_section) &lt;U8 6kB &#x27;138154.4&#x27; ... &#x27;659.942&#x27;\\n', '    Name                      (cross_section) &lt;U1 712B &#x27;&#x27; &#x27;&#x27; &#x27;&#x27; &#x27;&#x27; ... &#x27;&#x27; &#x27;&#x27; &#x27;&#x27;\\n', '    Maximum_Water_Surface     (cross_section) float32 712B 672.8 672.8 ... 561.4\\n', '    Maximum_Flow              (cross_section) float32 712B 5e+04 ... 2.543e+04\\n', '    Maximum_Channel_Velocity  (cross_section) float32 712B 11.81 8.031 ... 2.028\\n', '    Maximum_Velocity_Total    (cross_section) float32 712B 9.371 5.379 ... 1.632\\n', '    Maximum_Flow_Lateral      (cross_section) float32 712B 0.0 0.0 ... 0.0 0.0\\n', 'Data variables:\\n', '    Water_Surface             (time, cross_section) float32 107kB 660.7 ... 5...\\n', '    Velocity_Total            (time, cross_section) float32 107kB 0.0 ... 1.227\\n', '    Velocity_Channel          (time, cross_section) float32 107kB 0.0 ... 1.286\\n', '    Flow_Lateral              (time, cross_section) float32 107kB 0.0 ... 0.0\\n', '    Flow                      (time, cross_section) float32 107kB 2e+03 ... 2...\\n', 'Attributes:\\n', '    description:  Cross-section results extracted from HEC-RAS HDF file\\n', \"    source_file:  d:\\\\GitHub\\\\ras-commander\\\\examples\\\\example_projects\\\\Balde Eag...\n[Full xarray output truncated during preprocessing]</pre></div>",
            "text/plain": "xarray.Dataset with Unknown dimensions\n[Full xarray output truncated during preprocessing]"
          },
          "execution_count": 23,
          "metadata": {},
          "output_type": "execute_result"
        }
      ],
      "source": [
        "xsec_results_xr_plan1"
      ]
    },
    {
      "cell_type": "code",
      "execution_count": 24,
      "metadata": {},
      "outputs": [
        {
          "name": "stdout",
          "output_type": "stream",
          "text": [
            "\n",
            "Time Series Data for Cross Section: Bald Eagle       Loc Hav          136202.3\n",
            "\n",
            "Water_Surface:\n",
            "Plan 1:\n",
            "[657.4173  656.7111  657.02997 657.44073 657.88824]\n",
            "\n",
            "Velocity_Total:\n",
            "Plan 1:\n",
            "[0.        2.7810786 2.9612713 2.9395368 3.0228102]\n",
            "\n",
            "Velocity_Channel:\n",
            "Plan 1:\n",
            "[0.        3.132834  3.4508243 3.7217746 4.083391 ]\n",
            "\n",
            "Flow_Lateral:\n",
            "Plan 1:\n",
            "[0. 0. 0. 0. 0.]\n",
            "\n",
            "Flow:\n",
            "Plan 1:\n",
            "[2000.     1273.8193 1607.1132 2109.992  2746.2964]\n"
          ]
        },
        {
          "data": {
            "text/plain": [
              "<Figure size 1000x500 with 1 Axes>"
            ]
          },
          "metadata": {},
          "output_type": "display_data"
        },
        {
          "data": {
            "text/plain": [
              "<Figure size 1000x500 with 1 Axes>"
            ]
          },
          "metadata": {},
          "output_type": "display_data"
        },
        {
          "data": {
            "text/plain": [
              "<Figure size 1000x500 with 1 Axes>"
            ]
          },
          "metadata": {},
          "output_type": "display_data"
        },
        {
          "data": {
            "text/plain": [
              "<Figure size 1000x500 with 1 Axes>"
            ]
          },
          "metadata": {},
          "output_type": "display_data"
        },
        {
          "data": {
            "text/plain": [
              "<Figure size 1000x500 with 1 Axes>"
            ]
          },
          "metadata": {},
          "output_type": "display_data"
        }
      ],
      "source": [
        "# Print time series for specific cross section\n",
        "target_xs = \"Bald Eagle       Loc Hav          136202.3\"\n",
        "\n",
        "print(\"\\nTime Series Data for Cross Section:\", target_xs)\n",
        "for var in ['Water_Surface', 'Velocity_Total', 'Velocity_Channel', 'Flow_Lateral', 'Flow']:\n",
        "    print(f\"\\n{var}:\")\n",
        "    print(f\"Plan 1:\")\n",
        "    print(xsec_results_xr_plan1[var].sel(cross_section=target_xs).values[:5])  # Show first 5 values\n",
        "\n",
        "\n",
        "# Create time series plots\n",
        "if generate_plots:\n",
        "\n",
        "    # Create a figure for each variable\n",
        "    variables = ['Water_Surface', 'Velocity_Total', 'Velocity_Channel', 'Flow_Lateral', 'Flow']\n",
        "\n",
        "    for var in variables:\n",
        "        plt.figure(figsize=(10, 5))\n",
        "        \n",
        "        # Convert time values to datetime if needed\n",
        "        time_values1 = pd.to_datetime(xsec_results_xr_plan1.time.values)\n",
        "        values1 = xsec_results_xr_plan1[var].sel(cross_section=target_xs).values\n",
        "\n",
        "        \n",
        "        # Plot both plans\n",
        "        plt.plot(time_values1, values1, '-', linewidth=2, label='Plan 1')\n",
        "        \n",
        "        plt.title(f'{var} at {target_xs}')\n",
        "        plt.xlabel('Time')\n",
        "        plt.ylabel(var.replace('_', ' '))\n",
        "        plt.grid(True)\n",
        "        plt.xticks(rotation=45)\n",
        "        plt.legend()\n",
        "        plt.tight_layout()\n",
        "        \n",
        "        # Force display\n",
        "        plt.draw()\n",
        "        plt.pause(0.1)\n",
        "        plt.show()\n"
      ]
    },
    {
      "cell_type": "markdown",
      "metadata": {},
      "source": [
        "## Step 8: Applying the Updated Unsteady Flow to a New Plan\n",
        "\n",
        "Now that we've modified an unsteady flow file, let's create a plan that uses it, and compute the results."
      ]
    },
    {
      "cell_type": "code",
      "execution_count": 25,
      "metadata": {},
      "outputs": [
        {
          "name": "stderr",
          "output_type": "stream",
          "text": [
            "2025-04-08 16:46:44 - ras_commander.RasUtils - INFO - File cloned from d:\\GitHub\\ras-commander\\examples\\example_projects\\Balde Eagle Creek\\BaldEagle.p01 to d:\\GitHub\\ras-commander\\examples\\example_projects\\Balde Eagle Creek\\BaldEagle.p03\n",
            "2025-04-08 16:46:44 - ras_commander.RasUtils - INFO - Successfully updated file: d:\\GitHub\\ras-commander\\examples\\example_projects\\Balde Eagle Creek\\BaldEagle.p03\n",
            "2025-04-08 16:46:44 - ras_commander.RasUtils - INFO - Project file updated with new Plan entry: 03\n",
            "2025-04-08 16:46:44 - ras_commander.RasMap - INFO - Successfully parsed RASMapper file: d:\\GitHub\\ras-commander\\examples\\example_projects\\Balde Eagle Creek\\BaldEagle.rasmap\n"
          ]
        },
        {
          "name": "stdout",
          "output_type": "stream",
          "text": [
            "New plan created: 03\n"
          ]
        }
      ],
      "source": [
        "# Clone an existing plan\n",
        "new_plan_number = RasPlan.clone_plan(\"01\", new_plan_shortid=\"Modified Flow Test\")\n",
        "print(f\"New plan created: {new_plan_number}\")"
      ]
    },
    {
      "cell_type": "code",
      "execution_count": 26,
      "metadata": {},
      "outputs": [
        {
          "data": {
            "text/plain": "[\"'03'\"]"
          },
          "execution_count": 26,
          "metadata": {},
          "output_type": "execute_result"
        }
      ],
      "source": [
        "new_plan_number"
      ]
    },
    {
      "cell_type": "code",
      "execution_count": 27,
      "metadata": {},
      "outputs": [
        {
          "name": "stderr",
          "output_type": "stream",
          "text": [
            "2025-04-08 16:46:44 - ras_commander.RasPlan - INFO - Retrieved Plan Title: Unsteady with Bridges and Dam\n",
            "2025-04-08 16:46:44 - ras_commander.RasPlan - INFO - Retrieved Short Identifier: Modified Flow Test\n"
          ]
        },
        {
          "name": "stdout",
          "output_type": "stream",
          "text": [
            "Current plan title: Unsteady with Bridges and Dam\n",
            "Current plan shortid: Modified Flow Test\n"
          ]
        }
      ],
      "source": [
        "# Get the current plan title and shortid\n",
        "current_title = RasPlan.get_plan_title(new_plan_number)\n",
        "current_shortid = RasPlan.get_shortid(new_plan_number)\n",
        "\n",
        "print(f\"Current plan title: {current_title}\")\n",
        "print(f\"Current plan shortid: {current_shortid}\")"
      ]
    },
    {
      "cell_type": "code",
      "execution_count": 28,
      "metadata": {},
      "outputs": [
        {
          "name": "stderr",
          "output_type": "stream",
          "text": [
            "2025-04-08 16:46:44 - ras_commander.RasUtils - INFO - Constructed plan file path: d:\\GitHub\\ras-commander\\examples\\example_projects\\Balde Eagle Creek\\BaldEagle.p03\n",
            "2025-04-08 16:46:44 - ras_commander.RasPlan - INFO - Updated Plan Title in plan file to: Unsteady with Bridges and Dam 0.75 Flow Scale Factor\n",
            "2025-04-08 16:46:44 - ras_commander.RasPlan - WARNING - Short Identifier too long (24 char max). Truncating: Modified Flow Test 0.75 FSF\n",
            "2025-04-08 16:46:44 - ras_commander.RasUtils - INFO - Constructed plan file path: d:\\GitHub\\ras-commander\\examples\\example_projects\\Balde Eagle Creek\\BaldEagle.p03\n",
            "2025-04-08 16:46:44 - ras_commander.RasPlan - INFO - Updated Short Identifier in plan file to: Modified Flow Test 0.75 \n",
            "2025-04-08 16:46:44 - ras_commander.RasPlan - INFO - Retrieved Plan Title: Unsteady with Bridges and Dam 0.75 Flow Scale Factor\n",
            "2025-04-08 16:46:44 - ras_commander.RasPlan - INFO - Retrieved Short Identifier: Modified Flow Test 0.75\n"
          ]
        },
        {
          "name": "stdout",
          "output_type": "stream",
          "text": [
            "\n",
            "Updated plan title: Unsteady with Bridges and Dam 0.75 Flow Scale Factor\n",
            "Updated plan shortid: Modified Flow Test 0.75\n"
          ]
        }
      ],
      "source": [
        "# Update the title and shortid to append \" clonedplan\"\n",
        "new_title = f\"{current_title} 0.75 Flow Scale Factor\"\n",
        "new_shortid = f\"{current_shortid} 0.75 FSF\"\n",
        "\n",
        "RasPlan.set_plan_title(new_plan_number, new_title)\n",
        "RasPlan.set_shortid(new_plan_number, new_shortid)\n",
        "\n",
        "print(f\"\\nUpdated plan title: {RasPlan.get_plan_title(new_plan_number)}\")\n",
        "print(f\"Updated plan shortid: {RasPlan.get_shortid(new_plan_number)}\")"
      ]
    },
    {
      "cell_type": "code",
      "execution_count": 29,
      "metadata": {},
      "outputs": [
        {
          "data": {
            "text/plain": "[\"'01'\"]"
          },
          "execution_count": 29,
          "metadata": {},
          "output_type": "execute_result"
        }
      ],
      "source": [
        "# Print new_unsteady_number again as a reminder of it's current value\n",
        "new_unsteady_number"
      ]
    },
    {
      "cell_type": "code",
      "execution_count": 30,
      "metadata": {},
      "outputs": [
        {
          "name": "stdout",
          "output_type": "stream",
          "text": [
            "Set unsteady flow 01 for plan 03\n"
          ]
        }
      ],
      "source": [
        "# Set the modified unsteady flow for the new plan\n",
        "RasPlan.set_unsteady(new_plan_number, new_unsteady_number)\n",
        "print(f\"Set unsteady flow {new_unsteady_number} for plan {new_plan_number}\")"
      ]
    },
    {
      "cell_type": "code",
      "execution_count": 31,
      "metadata": {},
      "outputs": [
        {
          "name": "stdout",
          "output_type": "stream",
          "text": [
            "Set unsteady flow 01 for plan 03\n"
          ]
        }
      ],
      "source": [
        "# Set the modified unsteady flow for the new plan\n",
        "RasPlan.set_unsteady(new_plan_number, new_unsteady_number)\n",
        "print(f\"Set unsteady flow {new_unsteady_number} for plan {new_plan_number}\")"
      ]
    },
    {
      "cell_type": "code",
      "execution_count": 32,
      "metadata": {},
      "outputs": [
        {
          "name": "stdout",
          "output_type": "stream",
          "text": [
            "Contents of plan file 03:\n",
            "Plan Title=Unsteady with Bridges and Dam 0.75 Flow Scale Factor\n",
            "Program Version=5.00\n",
            "Short Identifier=Modified Flow Test 0.75 \n",
            "Simulation Date=18FEB1999,0000,24FEB1999,0500\n",
            "Geom File=g01\n",
            "Flow File=u01\n",
            "Subcritical Flow\n",
            "K Sum by GR= 0 \n",
            "Std Step Tol= 0.01 \n",
            "Critical Tol= 0.01 \n",
            "Num of Std Step Trials= 20 \n",
            "Max Error Tol= 0.3 \n",
            "Flow Tol Ratio= 0.001 \n",
            "Split Flow NTrial= 30 \n",
            "Split Flow Tol= 0.02 \n",
            "Split Flow Ratio= 0.02 \n",
            "Log Output Level= 0 \n",
            "Friction Slope Method= 2 \n",
            "Unsteady Friction Slope Method= 2 \n",
            "Unsteady Bridges Friction Slope Method= 1 \n",
            "Parabolic Critical Depth\n",
            "Global Vel Dist= 0 , 0 , 0 \n",
            "Global Log Level= 0 \n",
            "CheckData=True\n",
            "Encroach Param=-1 ,0,0, 0 \n",
            "Computation Interval=2MIN\n",
            "Output Interval=1HOUR\n",
            "Instantaneous Interval=2HOUR\n",
            "Mapping Interval=1HOUR\n",
            "Run HTab= 1 \n",
            "Run UNet= 1 \n",
            "Run Sediment= 0 \n",
            "Run PostProcess= 1 \n",
            "Run WQNet= 0 \n",
            "Run RASMapper= 0 \n",
            "UNET Theta= 1 \n",
            "UNET Theta Warmup= 1 \n",
            "UNET ZTol= 0.01 \n",
            "UNET ZSATol= 0.1 \n",
            "UNET QTol=\n",
            "UNET MxIter= 20 \n",
            "UNET Max Iter WO Improvement= 0 \n",
            "UNET MaxInSteps= 0 \n",
            "UNET DtIC= 0 \n",
            "UNET DtMin= 0 \n",
            "UNET MaxCRTS= 20 \n",
            "UNET WFStab= 2 \n",
            "UNET SFStab= 1 \n",
            "UNET WFX= 1 \n",
            "UNET SFX= 1 \n",
            "UNET DSS MLevel= 4 \n",
            "UNET Pardiso=0\n",
            "UNET DZMax Abort= 100 \n",
            "UNET Use Existing IB Tables=-1 \n",
            "UNET Froude Reduction=False\n",
            "UNET Froude Limit= 0.8 \n",
            "UNET Froude Power= 4 \n",
            "UNET Time Slicing=0,0, 5 \n",
            "UNET Junction Losses=0\n",
            "UNET D1 Cores= 0 \n",
            "UNET D2 Coriolis=0\n",
            "UNET D2 Cores= 0 \n",
            "UNET D2 Theta= 1 \n",
            "UNET D2 Theta Warmup= 1 \n",
            "UNET D2 Z Tol= 0.01 \n",
            "UNET D2 Max Iterations= 20 \n",
            "UNET D2 Equation= 0 \n",
            "UNET D2 TotalICTime=\n",
            "UNET D2 RampUpFraction=0.5\n",
            "UNET D2 TimeSlices= 1 \n",
            "UNET D2 Eddy Viscosity=\n",
            "UNET D2 BCVolumeCheck=0\n",
            "UNET D2 Latitude=\n",
            "UNET D1D2 MaxIter= 0 \n",
            "UNET D1D2 ZTol=0.01\n",
            "UNET D1D2 QTol=0.1\n",
            "UNET D1D2 MinQTol=1\n",
            "DSS File=dss\n",
            "Write IC File= 0 \n",
            "Write IC File at Fixed DateTime=0\n",
            "IC Time=,,\n",
            "Write IC File Reoccurance=\n",
            "Write IC File at Sim End=0\n",
            "Echo Input=False\n",
            "Echo Parameters=False\n",
            "Echo Output=False\n",
            "Write Detailed= 0 \n",
            "HDF Write Warmup=0\n",
            "HDF Write Time Slices=0\n",
            "HDF Flush=0\n",
            "HDF Compression= 1 \n",
            "HDF Chunk Size= 1 \n",
            "HDF Spatial Parts= 1 \n",
            "HDF Use Max Rows=0\n",
            "HDF Fixed Rows= 1 \n",
            "Stage Flow Hydrograph=Bald Eagle      ,Loc Hav         ,138154.4\n",
            "Stage Flow Hydrograph=Bald Eagle      ,Loc Hav         ,137690.8\n",
            "Stage Flow Hydrograph=Bald Eagle      ,Loc Hav         ,137327.0\n",
            "Stage Flow Hydrograph=Bald Eagle      ,Loc Hav         ,136564.9\n",
            "Stage Flow Hydrograph=Bald Eagle      ,Loc Hav         ,136202.3\n",
            "Stage Flow Hydrograph=Bald Eagle      ,Loc Hav         ,135591.4\n",
            "Stage Flow Hydrograph=Bald Eagle      ,Loc Hav         ,135068.7\n",
            "Stage Flow Hydrograph=Bald Eagle      ,Loc Hav         ,134487.2\n",
            "Stage Flow Hydrograph=Bald Eagle      ,Loc Hav         ,133881.0\n",
            "Stage Flow Hydrograph=Bald Eagle      ,Loc Hav         ,133446.1\n",
            "Stage Flow Hydrograph=Bald Eagle      ,Loc Hav         ,132973.6\n",
            "Stage Flow Hydrograph=Bald Eagle      ,Loc Hav         ,132363.8\n",
            "Stage Flow Hydrograph=Bald Eagle      ,Loc Hav         ,131699.7\n",
            "Stage Flow Hydrograph=Bald Eagle      ,Loc Hav         ,130997.6\n",
            "Stage Flow Hydrograph=Bald Eagle      ,Loc Hav         ,130339.2\n",
            "Stage Flow Hydrograph=Bald Eagle      ,Loc Hav         ,129627.5\n",
            "Stage Flow Hydrograph=Bald Eagle      ,Loc Hav         ,128760.7\n",
            "Stage Flow Hydrograph=Bald Eagle      ,Loc Hav         ,128280.7\n",
            "Stage Flow Hydrograph=Bald Eagle      ,Loc Hav         ,127410.9\n",
            "Stage Flow Hydrograph=Bald Eagle      ,Loc Hav         ,126741.0\n",
            "Stage Flow Hydrograph=Bald Eagle      ,Loc Hav         ,126454.1\n",
            "Stage Flow Hydrograph=Bald Eagle      ,Loc Hav         ,126062.6\n",
            "Stage Flow Hydrograph=Bald Eagle      ,Loc Hav         ,125704.7\n",
            "Stage Flow Hydrograph=Bald Eagle      ,Loc Hav         ,125091.9\n",
            "Stage Flow Hydrograph=Bald Eagle      ,Loc Hav         ,124615.5\n",
            "Stage Flow Hydrograph=Bald Eagle      ,Loc Hav         ,124025.0\n",
            "Stage Flow Hydrograph=Bald Eagle      ,Loc Hav         ,123503.5\n",
            "Stage Flow Hydrograph=Bald Eagle      ,Loc Hav         ,123123.6\n",
            "Stage Flow Hydrograph=Bald Eagle      ,Loc Hav         ,122703.3\n",
            "Stage Flow Hydrograph=Bald Eagle      ,Loc Hav         ,122190.8\n",
            "Stage Flow Hydrograph=Bald Eagle      ,Loc Hav         ,121754.0\n",
            "Stage Flow Hydrograph=Bald Eagle      ,Loc Hav         ,121394.1\n",
            "Stage Flow Hydrograph=Bald Eagle      ,Loc Hav         ,120862.6\n",
            "Stage Flow Hydrograph=Bald Eagle      ,Loc Hav         ,120421.4\n",
            "Stage Flow Hydrograph=Bald Eagle      ,Loc Hav         ,119954.9\n",
            "Stage Flow Hydrograph=Bald Eagle      ,Loc Hav         ,119473.8\n",
            "Stage Flow Hydrograph=Bald Eagle      ,Loc Hav         ,118901.0\n",
            "Stage Flow Hydrograph=Bald Eagle      ,Loc Hav         ,118300.5\n",
            "Stage Flow Hydrograph=Bald Eagle      ,Loc Hav         ,117753.9\n",
            "Stage Flow Hydrograph=Bald Eagle      ,Loc Hav         ,117180.8\n",
            "Stage Flow Hydrograph=Bald Eagle      ,Loc Hav         ,116401.3\n",
            "Stage Flow Hydrograph=Bald Eagle      ,Loc Hav         ,115584.2\n",
            "Stage Flow Hydrograph=Bald Eagle      ,Loc Hav         ,114899.8\n",
            "Stage Flow Hydrograph=Bald Eagle      ,Loc Hav         ,113985.6\n",
            "Stage Flow Hydrograph=Bald Eagle      ,Loc Hav         ,112856.9\n",
            "Stage Flow Hydrograph=Bald Eagle      ,Loc Hav         ,111971.0\n",
            "Stage Flow Hydrograph=Bald Eagle      ,Loc Hav         ,110657.4\n",
            "Stage Flow Hydrograph=Bald Eagle      ,Loc Hav         ,109659.9\n",
            "Stage Flow Hydrograph=Bald Eagle      ,Loc Hav         ,108600.1\n",
            "Stage Flow Hydrograph=Bald Eagle      ,Loc Hav         ,107333.6\n",
            "Stage Flow Hydrograph=Bald Eagle      ,Loc Hav         ,106466.0\n",
            "Stage Flow Hydrograph=Bald Eagle      ,Loc Hav         ,105178.6\n",
            "Stage Flow Hydrograph=Bald Eagle      ,Loc Hav         ,104647.2\n",
            "Stage Flow Hydrograph=Bald Eagle      ,Loc Hav         ,104195.0\n",
            "Stage Flow Hydrograph=Bald Eagle      ,Loc Hav         ,103854.0\n",
            "Stage Flow Hydrograph=Bald Eagle      ,Loc Hav         ,103369.7\n",
            "Stage Flow Hydrograph=Bald Eagle      ,Loc Hav         ,103122.3\n",
            "Stage Flow Hydrograph=Bald Eagle      ,Loc Hav         ,101440.3\n",
            "Stage Flow Hydrograph=Bald Eagle      ,Loc Hav         ,100657.3\n",
            "Stage Flow Hydrograph=Bald Eagle      ,Loc Hav         ,99452.75\n",
            "Stage Flow Hydrograph=Bald Eagle      ,Loc Hav         ,98206.87\n",
            "Stage Flow Hydrograph=Bald Eagle      ,Loc Hav         ,97607.35\n",
            "Stage Flow Hydrograph=Bald Eagle      ,Loc Hav         ,96370.43\n",
            "Stage Flow Hydrograph=Bald Eagle      ,Loc Hav         ,94560.01\n",
            "Stage Flow Hydrograph=Bald Eagle      ,Loc Hav         ,93391.71\n",
            "Stage Flow Hydrograph=Bald Eagle      ,Loc Hav         ,92011.85\n",
            "Stage Flow Hydrograph=Bald Eagle      ,Loc Hav         ,91030.01\n",
            "Stage Flow Hydrograph=Bald Eagle      ,Loc Hav         ,90096.99\n",
            "Stage Flow Hydrograph=Bald Eagle      ,Loc Hav         ,89060.69\n",
            "Stage Flow Hydrograph=Bald Eagle      ,Loc Hav         ,87861.14\n",
            "Stage Flow Hydrograph=Bald Eagle      ,Loc Hav         ,86942.04\n",
            "Stage Flow Hydrograph=Bald Eagle      ,Loc Hav         ,85569.53\n",
            "Stage Flow Hydrograph=Bald Eagle      ,Loc Hav         ,84724.08\n",
            "Stage Flow Hydrograph=Bald Eagle      ,Loc Hav         ,83563.41\n",
            "Stage Flow Hydrograph=Bald Eagle      ,Loc Hav         ,82607.89\n",
            "Stage Flow Hydrograph=Bald Eagle      ,Loc Hav         ,81849.41\n",
            "Stage Flow Hydrograph=Bald Eagle      ,Loc Hav         ,81084.18\n",
            "Stage Flow Hydrograph=Bald Eagle      ,Loc Hav         ,80500.50\n",
            "Stage Flow Hydrograph=Bald Eagle      ,Loc Hav         ,79684.28\n",
            "Stage Flow Hydrograph=Bald Eagle      ,Loc Hav         ,78627.87\n",
            "Stage Flow Hydrograph=Bald Eagle      ,Loc Hav         ,76643.40\n",
            "Stage Flow Hydrograph=Bald Eagle      ,Loc Hav         ,76002.96\n",
            "Stage Flow Hydrograph=Bald Eagle      ,Loc Hav         ,75917.82\n",
            "Stage Flow Hydrograph=Bald Eagle      ,Loc Hav         ,75616.14\n",
            "Stage Flow Hydrograph=Bald Eagle      ,Loc Hav         ,74650.60\n",
            "Stage Flow Hydrograph=Bald Eagle      ,Loc Hav         ,74207.96\n",
            "Stage Flow Hydrograph=Bald Eagle      ,Loc Hav         ,73504.24\n",
            "Stage Flow Hydrograph=Bald Eagle      ,Loc Hav         ,72303.68\n",
            "Stage Flow Hydrograph=Bald Eagle      ,Loc Hav         ,71400.81\n",
            "Stage Flow Hydrograph=Bald Eagle      ,Loc Hav         ,70651.52\n",
            "Stage Flow Hydrograph=Bald Eagle      ,Loc Hav         ,69567.33\n",
            "Stage Flow Hydrograph=Bald Eagle      ,Loc Hav         ,68604.09\n",
            "Stage Flow Hydrograph=Bald Eagle      ,Loc Hav         ,67326.78\n",
            "Stage Flow Hydrograph=Bald Eagle      ,Loc Hav         ,66070.17\n",
            "Stage Flow Hydrograph=Bald Eagle      ,Loc Hav         ,64908.02\n",
            "Stage Flow Hydrograph=Bald Eagle      ,Loc Hav         ,63812.99\n",
            "Stage Flow Hydrograph=Bald Eagle      ,Loc Hav         ,62746.41\n",
            "Stage Flow Hydrograph=Bald Eagle      ,Loc Hav         ,61896.89\n",
            "Stage Flow Hydrograph=Bald Eagle      ,Loc Hav         ,60901.09\n",
            "Stage Flow Hydrograph=Bald Eagle      ,Loc Hav         ,59795.28\n",
            "Stage Flow Hydrograph=Bald Eagle      ,Loc Hav         ,58836.23\n",
            "Stage Flow Hydrograph=Bald Eagle      ,Loc Hav         ,58708.54\n",
            "Stage Flow Hydrograph=Bald Eagle      ,Loc Hav         ,58091.91\n",
            "Stage Flow Hydrograph=Bald Eagle      ,Loc Hav         ,57700.27\n",
            "Stage Flow Hydrograph=Bald Eagle      ,Loc Hav         ,57250.60\n",
            "Stage Flow Hydrograph=Bald Eagle      ,Loc Hav         ,56775.92\n",
            "Stage Flow Hydrograph=Bald Eagle      ,Loc Hav         ,56243.79\n",
            "Stage Flow Hydrograph=Bald Eagle      ,Loc Hav         ,55700.55\n",
            "Stage Flow Hydrograph=Bald Eagle      ,Loc Hav         ,54696.51\n",
            "Stage Flow Hydrograph=Bald Eagle      ,Loc Hav         ,53922.53\n",
            "Stage Flow Hydrograph=Bald Eagle      ,Loc Hav         ,52879.19\n",
            "Stage Flow Hydrograph=Bald Eagle      ,Loc Hav         ,51784.74\n",
            "Stage Flow Hydrograph=Bald Eagle      ,Loc Hav         ,50720.68\n",
            "Stage Flow Hydrograph=Bald Eagle      ,Loc Hav         ,49715.77\n",
            "Stage Flow Hydrograph=Bald Eagle      ,Loc Hav         ,48965.94\n",
            "Stage Flow Hydrograph=Bald Eagle      ,Loc Hav         ,48110.09\n",
            "Stage Flow Hydrograph=Bald Eagle      ,Loc Hav         ,47453.14\n",
            "Stage Flow Hydrograph=Bald Eagle      ,Loc Hav         ,46722.59\n",
            "Stage Flow Hydrograph=Bald Eagle      ,Loc Hav         ,46310.48\n",
            "Stage Flow Hydrograph=Bald Eagle      ,Loc Hav         ,45805.37\n",
            "Stage Flow Hydrograph=Bald Eagle      ,Loc Hav         ,45233.89\n",
            "Stage Flow Hydrograph=Bald Eagle      ,Loc Hav         ,44529.29\n",
            "Stage Flow Hydrograph=Bald Eagle      ,Loc Hav         ,43919.30\n",
            "Stage Flow Hydrograph=Bald Eagle      ,Loc Hav         ,42895.87\n",
            "Stage Flow Hydrograph=Bald Eagle      ,Loc Hav         ,41806.43\n",
            "Stage Flow Hydrograph=Bald Eagle      ,Loc Hav         ,40526.85\n",
            "Stage Flow Hydrograph=Bald Eagle      ,Loc Hav         ,39499.37\n",
            "Stage Flow Hydrograph=Bald Eagle      ,Loc Hav         ,38446.87\n",
            "Stage Flow Hydrograph=Bald Eagle      ,Loc Hav         ,37962.54\n",
            "Stage Flow Hydrograph=Bald Eagle      ,Loc Hav         ,37385.23\n",
            "Stage Flow Hydrograph=Bald Eagle      ,Loc Hav         ,36769.88\n",
            "Stage Flow Hydrograph=Bald Eagle      ,Loc Hav         ,36663.76\n",
            "Stage Flow Hydrograph=Bald Eagle      ,Loc Hav         ,36339.56\n",
            "Stage Flow Hydrograph=Bald Eagle      ,Loc Hav         ,35648.50\n",
            "Stage Flow Hydrograph=Bald Eagle      ,Loc Hav         ,35072.37\n",
            "Stage Flow Hydrograph=Bald Eagle      ,Loc Hav         ,34098.93\n",
            "Stage Flow Hydrograph=Bald Eagle      ,Loc Hav         ,33498.68\n",
            "Stage Flow Hydrograph=Bald Eagle      ,Loc Hav         ,32195.47\n",
            "Stage Flow Hydrograph=Bald Eagle      ,Loc Hav         ,30878.12\n",
            "Stage Flow Hydrograph=Bald Eagle      ,Loc Hav         ,29563.77\n",
            "Stage Flow Hydrograph=Bald Eagle      ,Loc Hav         ,27226.40\n",
            "Stage Flow Hydrograph=Bald Eagle      ,Loc Hav         ,25960.70\n",
            "Stage Flow Hydrograph=Bald Eagle      ,Loc Hav         ,24843.25\n",
            "Stage Flow Hydrograph=Bald Eagle      ,Loc Hav         ,24417.73\n",
            "Stage Flow Hydrograph=Bald Eagle      ,Loc Hav         ,23872.06\n",
            "Stage Flow Hydrograph=Bald Eagle      ,Loc Hav         ,23783.65\n",
            "Stage Flow Hydrograph=Bald Eagle      ,Loc Hav         ,23384.79\n",
            "Stage Flow Hydrograph=Bald Eagle      ,Loc Hav         ,22982.97\n",
            "Stage Flow Hydrograph=Bald Eagle      ,Loc Hav         ,22386.15\n",
            "Stage Flow Hydrograph=Bald Eagle      ,Loc Hav         ,21283.34\n",
            "Stage Flow Hydrograph=Bald Eagle      ,Loc Hav         ,21199.93\n",
            "Stage Flow Hydrograph=Bald Eagle      ,Loc Hav         ,20127.30\n",
            "Stage Flow Hydrograph=Bald Eagle      ,Loc Hav         ,19036.24\n",
            "Stage Flow Hydrograph=Bald Eagle      ,Loc Hav         ,18200.10\n",
            "Stage Flow Hydrograph=Bald Eagle      ,Loc Hav         ,17549.23\n",
            "Stage Flow Hydrograph=Bald Eagle      ,Loc Hav         ,16787.45\n",
            "Stage Flow Hydrograph=Bald Eagle      ,Loc Hav         ,15407.88\n",
            "Stage Flow Hydrograph=Bald Eagle      ,Loc Hav         ,14814.34\n",
            "Stage Flow Hydrograph=Bald Eagle      ,Loc Hav         ,13326.74\n",
            "Stage Flow Hydrograph=Bald Eagle      ,Loc Hav         ,12035.22\n",
            "Stage Flow Hydrograph=Bald Eagle      ,Loc Hav         ,11865.80\n",
            "Stage Flow Hydrograph=Bald Eagle      ,Loc Hav         ,11116.44\n",
            "Stage Flow Hydrograph=Bald Eagle      ,Loc Hav         ,10995.73\n",
            "Stage Flow Hydrograph=Bald Eagle      ,Loc Hav         ,10221.14\n",
            "Stage Flow Hydrograph=Bald Eagle      ,Loc Hav         ,9258.941\n",
            "Stage Flow Hydrograph=Bald Eagle      ,Loc Hav         ,8541.462\n",
            "Stage Flow Hydrograph=Bald Eagle      ,Loc Hav         ,7936.130\n",
            "Stage Flow Hydrograph=Bald Eagle      ,Loc Hav         ,6940.066\n",
            "Stage Flow Hydrograph=Bald Eagle      ,Loc Hav         ,6267.489\n",
            "Stage Flow Hydrograph=Bald Eagle      ,Loc Hav         ,5523.234\n",
            "Stage Flow Hydrograph=Bald Eagle      ,Loc Hav         ,4293.710\n",
            "Stage Flow Hydrograph=Bald Eagle      ,Loc Hav         ,3047.378\n",
            "Stage Flow Hydrograph=Bald Eagle      ,Loc Hav         ,2731.142\n",
            "Stage Flow Hydrograph=Bald Eagle      ,Loc Hav         ,2501.017\n",
            "Stage Flow Hydrograph=Bald Eagle      ,Loc Hav         ,2371.827\n",
            "Stage Flow Hydrograph=Bald Eagle      ,Loc Hav         ,1692.633\n",
            "Stage Flow Hydrograph=Bald Eagle      ,Loc Hav         ,1212.855\n",
            "Stage Flow Hydrograph=Bald Eagle      ,Loc Hav         ,659.942\n",
            "Calibration Method= 0 \n",
            "Calibration Iterations= 20 \n",
            "Calibration Max Change=0.05\n",
            "Calibration Tolerance=0.2\n",
            "Calibration Maximum=1.5\n",
            "Calibration Minimum=0.5\n",
            "Calibration Optimization Method= 1 \n",
            "Calibration Window=,,,\n",
            "WQ AD Non Conservative\n",
            "WQ ULTIMATE=-1\n",
            "WQ Max Comp Step=1HOUR\n",
            "WQ Output Interval=15MIN\n",
            "WQ Output Selected Increments= 0 \n",
            "WQ Output face flow=0\n",
            "WQ Output face velocity=0\n",
            "WQ Output face area=0\n",
            "WQ Output face dispersion=0\n",
            "WQ Output cell volume=0\n",
            "WQ Output cell surface area=0\n",
            "WQ Output cell continuity=0\n",
            "WQ Output cumulative cell continuity=0\n",
            "WQ Output face conc=0\n",
            "WQ Output face dconc_dx=0\n",
            "WQ Output face courant=0\n",
            "WQ Output face peclet=0\n",
            "WQ Output face adv mass=0\n",
            "WQ Output face disp mass=0\n",
            "WQ Output cell mass=0\n",
            "WQ Output cell source sink temp=0\n",
            "WQ Output nsm pathways=0\n",
            "WQ Output nsm derived pathways=0\n",
            "WQ Output MaxMinRange=-1\n",
            "WQ Daily Max Min Mean=-1\n",
            "WQ Daily Range=0\n",
            "WQ Daily Time=0\n",
            "WQ Create Restart=0\n",
            "WQ Fixed Restart=0\n",
            "WQ Restart Simtime=\n",
            "WQ Restart Date=\n",
            "WQ Restart Hour=\n",
            "WQ System Summary=0\n",
            "WQ Write To DSS=0\n",
            "WQ Use Fixed Temperature=0\n",
            "WQ Fixed Temperature=\n",
            "Sorting and Armoring Iterations= 10 \n",
            "XS Update Threshold= 0.02 \n",
            "Bed Roughness Predictor= 0 \n",
            "Hydraulics Update Threshold= 0.02 \n",
            "Energy Slope Method= 1 \n",
            "Volume Change Method= 1 \n",
            "Sediment Retention Method= 0 \n",
            "XS Weighting Method= 0 \n",
            "Number of US Weighted Cross Sections= 1 \n",
            "Number of DS Weighted Cross Sections= 1 \n",
            "Upstream XS Weight=0\n",
            "Main XS Weight=1\n",
            "Downstream XS Weight=0\n",
            "Number of DS XS's Weighted with US Boundary= 1 \n",
            "Upstream Boundary Weight= 1 \n",
            "Weight of XSs Associated with US Boundary= 0 \n",
            "Number of US XS's Weighted with DS Boundary= 1 \n",
            "Downstream Boundary Weight= 0.5 \n",
            "Weight of XSs Associated with DS Boundary= 0.5 \n",
            "Sediment Output Level= 4 \n",
            "Mass or Volume Output= 0 \n",
            "Output Increment Type= 1 \n",
            "Profile and TS Output Increment= 10 \n",
            "XS Output Flag= 0 \n",
            "XS Output Increment= 10 \n",
            "Write Gradation File= 0 \n",
            "Read Gradation Hotstart= 0 \n",
            "Gradation File Name=\n",
            "Write HDF5 File= 0 \n",
            "Write DSS Sediment File= 0 \n",
            "SV Curve= 0 \n",
            "Specific Gage Flag= 0 \n",
            "\n"
          ]
        }
      ],
      "source": [
        "# Get the path to the new plan file\n",
        "new_plan_path = RasPlan.get_plan_path(new_plan_number)\n",
        "\n",
        "# Print contents of new plan file to confirm changes\n",
        "# Read and display the contents of the plan file\n",
        "with open(new_plan_path, 'r') as f:\n",
        "    plan_contents = f.read()\n",
        "print(f\"Contents of plan file {new_plan_number}:\")\n",
        "print(plan_contents)\n"
      ]
    },
    {
      "cell_type": "code",
      "execution_count": 33,
      "metadata": {},
      "outputs": [
        {
          "name": "stderr",
          "output_type": "stream",
          "text": [
            "2025-04-08 16:46:45 - ras_commander.RasUtils - INFO - Constructed plan file path: d:\\GitHub\\ras-commander\\examples\\example_projects\\Balde Eagle Creek\\BaldEagle.p03\n",
            "2025-04-08 16:46:45 - ras_commander.RasPlan - INFO - Updated description in plan file: d:\\GitHub\\ras-commander\\examples\\example_projects\\Balde Eagle Creek\\BaldEagle.p03\n",
            "2025-04-08 16:46:45 - ras_commander.RasUtils - INFO - Constructed plan file path: d:\\GitHub\\ras-commander\\examples\\example_projects\\Balde Eagle Creek\\BaldEagle.p03\n",
            "2025-04-08 16:46:45 - ras_commander.RasUtils - INFO - Successfully updated file: d:\\GitHub\\ras-commander\\examples\\example_projects\\Balde Eagle Creek\\BaldEagle.p03\n"
          ]
        },
        {
          "name": "stdout",
          "output_type": "stream",
          "text": [
            "Updated plan description for plan 03\n"
          ]
        }
      ],
      "source": [
        "# Update the plan description\n",
        "new_description = \"Test plan using modified unsteady flow\\nFlow scaled to 75% of original\\nWith restart file enabled\"\n",
        "RasPlan.update_plan_description(new_plan_number, new_description)\n",
        "print(f\"Updated plan description for plan {new_plan_number}\")\n",
        "\n",
        "# Set computation options\n",
        "RasPlan.set_num_cores(new_plan_number, 2)\n",
        "\n",
        "# Consider any other changes you want to make at this step, such as computation intervals etc: \n",
        "# RasPlan.update_plan_intervals(\n",
        "#    new_plan_number,\n",
        "#    computation_interval=\"1MIN\",\n",
        "#    output_interval=\"15MIN\",\n",
        "#    mapping_interval=\"1HOUR\"\n",
        "#)  "
      ]
    },
    {
      "cell_type": "code",
      "execution_count": 34,
      "metadata": {},
      "outputs": [
        {
          "name": "stderr",
          "output_type": "stream",
          "text": [
            "2025-04-08 16:46:45 - ras_commander.RasCmdr - INFO - Using ras_object with project folder: d:\\GitHub\\ras-commander\\examples\\example_projects\\Balde Eagle Creek\n",
            "2025-04-08 16:46:45 - ras_commander.RasCmdr - INFO - Running HEC-RAS from the Command Line:\n",
            "2025-04-08 16:46:45 - ras_commander.RasCmdr - INFO - Running command: \"C:\\Program Files (x86)\\HEC\\HEC-RAS\\6.6\\Ras.exe\" -c \"D:\\GitHub\\ras-commander\\examples\\example_projects\\Balde Eagle Creek\\BaldEagle.prj\" \"d:\\GitHub\\ras-commander\\examples\\example_projects\\Balde Eagle Creek\\BaldEagle.p03\"\n"
          ]
        },
        {
          "name": "stdout",
          "output_type": "stream",
          "text": [
            "\n",
            "Computing plan 03 with modified unsteady flow...\n"
          ]
        },
        {
          "name": "stderr",
          "output_type": "stream",
          "text": [
            "2025-04-08 16:47:13 - ras_commander.RasCmdr - INFO - HEC-RAS execution completed for plan: 03\n",
            "2025-04-08 16:47:13 - ras_commander.RasCmdr - INFO - Total run time for plan 03: 28.35 seconds\n"
          ]
        }
      ],
      "source": [
        "# Compute the plan\n",
        "print(f\"\\nComputing plan {new_plan_number} with modified unsteady flow...\")\n",
        "success = RasCmdr.compute_plan(new_plan_number)"
      ]
    },
    {
      "cell_type": "code",
      "execution_count": 35,
      "metadata": {},
      "outputs": [
        {
          "name": "stdout",
          "output_type": "stream",
          "text": [
            "Plan 03 computed successfully\n",
            "Results available at: d:\\GitHub\\ras-commander\\examples\\example_projects\\Balde Eagle Creek\\BaldEagle.p03.hdf\n",
            "Results file size: 7.37 MB\n"
          ]
        }
      ],
      "source": [
        "if success:\n",
        "    print(f\"Plan {new_plan_number} computed successfully\")\n",
        "    \n",
        "    # Check the results path\n",
        "    results_path = RasPlan.get_results_path(new_plan_number)\n",
        "    if results_path:\n",
        "        print(f\"Results available at: {results_path}\")\n",
        "        \n",
        "        # If it exists, get its size\n",
        "        results_file = Path(results_path)\n",
        "        if results_file.exists():\n",
        "            size_mb = results_file.stat().st_size / (1024 * 1024)\n",
        "            print(f\"Results file size: {size_mb:.2f} MB\")\n",
        "    else:\n",
        "        print(\"No results found.\")\n",
        "else:\n",
        "    print(f\"Failed to compute plan {new_plan_number}\")"
      ]
    },
    {
      "cell_type": "code",
      "execution_count": 36,
      "metadata": {},
      "outputs": [
        {
          "data": {
            "text/html": "<div>\n<style scoped>\\n', '    .dataframe tbody tr th:only-of-type {\\n', '        vertical-align: middle;\\n', '    }\\n', '\\n', '    .dataframe tbody tr th {\\n', '        vertical-align: top;\\n', '    }\\n', '\\n', '    .dataframe thead th {\\n', '        text-align: right;\\n', '    }\\n', '</style>\n<table border=\"1\" class=\"dataframe\">\n  <thead>\\n', '    <tr style=\"text-align: right;\">\\n', '      <th></th>\\n', '      <th>plan_number</th>\\n', '      <th>unsteady_number</th>\\n', '      <th>geometry_number</th>\\n', '      <th>Plan Title</th>\\n', '      <th>Program Version</th>\\n', '      <th>Short Identifier</th>\\n', '      <th>Simulation Date</th>\\n', '      <th>Computation Interval</th>\\n', '      <th>Mapping Interval</th>\\n', '      <th>Run HTab</th>\\n', '      <th>Run UNet</th>\\n', '      <th>Run Sediment</th>\\n', '      <th>Run PostProcess</th>\\n', '      <th>Run WQNet</th>\\n', '      <th>UNET Use Existing IB Tables</th>\\n', '      <th>UNET D1 Cores</th>\\n', '      <th>UNET D2 Cores</th>\\n', '      <th>PS Cores</th>\\n', '      <th>DSS File</th>\\n', '      <th>Friction Slope Method</th>\\n', '      <th>description</th>\\n', '      <th>HDF_Results_Path</th>\\n', '      <th>Geom File</th>\\n', '      <th>Geom Path</th>\\n', '      <th>Flow File</th>\\n', '      <th>Flow Path</th>\\n', '      <th>full_path</th>\\n', '    </tr>\\n', '  </thead>\n  <tbody>\n    <tr>\\n', '      <th>0</th>\\n', '      <td>01</td>\\n', '      <td>02</td>\\n', '      <td>01</td>\\n', '      <td>Unsteady with Bridges and Dam</td>\\n', '      <td>5.00</td>\\n', '      <td>UnsteadyFlow</td>\\n', '      <td>18FEB1999,0000,24FEB1999,0500</td>\\n', '      <td>2MIN</td>\\n', '      <td>1HOUR</td>\\n', '      <td>1</td>\\n', '      <td>1</td>\\n', '      <td>0</td>\\n', '      <td>1</td>\\n', '      <td>0</td>\\n', '      <td>-1</td>\\n', '      <td>0.0</td>\\n', '      <td>0.0</td>\\n', '      <td>None</td>\\n', '      <td>dss</td>\\n', '      <td>2</td>\\n', '      <td>NaN</td>\\n', '      <td>d:\\\\GitHub\\\\ras-commander\\\\examples\\\\example_proje...</td>\\n', '      <td>01</td>\\n', '      <td>None</td>\\n', '      <td>02</td>\\n', '      <td>None</td>\\n', '      <td>d:\\\\GitHub\\\\ras-commander\\\\examples\\\\example_proje...</td>\\n', '    </tr><tr>\\n', '      <th>1</th>\\n', '      <td>02</td>\\n', '      <td>None</td>\\n', '      <td>01</td>\\n', '      <td>Steady Flow Run</td>\\n', '      <td>NaN</td>\\n', '      <td>SteadyRun</td>\\n', '      <td>02/18/1999,0000,02/24/1999,0500</td>\\n', '      <td>2MIN</td>\\n', '      <td>NaN</td>\\n', '      <td>1</td>\\n', '      <td>1</td>\\n', '      <td>NaN</td>\\n', '      <td>1</td>\\n', '      <td>NaN</td>\\n', '      <td>NaN</td>\\n', '      <td>NaN</td>\\n', '      <td>NaN</td>\\n', '      <td>None</td>\\n', '      <td>dss</td>\\n', '      <td>1</td>\\n', '      <td>NaN</td>\\n', '      <td>None</td>\\n', '      <td>01</td>\\n', '      <td>None</td>\\n', '      <td>02</td>\\n', '      <td>None</td>\\n', '      <td>d:\\\\GitHub\\\\ras-commander\\\\examples\\\\example_proje...</td>\\n', '    </tr><tr>\\n', '      <th>2</th>\\n', '      <td>03</td>\\n', '      <td>01</td>\\n', '      <td>01</td>\\n', '      <td>Unsteady with Bridges and Dam 0.75 Flow Scale ...</td>\\n', '      <td>5.00</td>\\n', '      <td>Modified Flow Test 0.75</td>\\n', '      <td>18FEB1999,0000,24FEB1999,0500</td>\\n', '      <td>2MIN</td>\\n', '      <td>1HOUR</td>\\n', '      <td>1</td>\\n', '      <td>1</td>\\n', '      <td>0</td>\\n', '      <td>1</td>\\n', '      <td>0</td>\\n', '      <td>-1</td>\\n', '      <td>2.0</td>\\n', '      <td>2.0</td>\\n', '      <td>None</td>\\n', '      <td>dss</td>\\n', '      <td>2</td>\\n', '      <td>Test plan using modified unsteady flow\\\\nFlow s...</td>\\n', '      <td>d:\\\\GitHub\\\\ras-commander\\\\examples\\\\example_proje...</td>\\n', '      <td>01</td>\\n', '      <td>None</td>\\n', '      <td>01</td>\\n', '      <td>None</td>\\n', '      <td>d:\\\\GitHub\\\\ras-commander\\\\examples\\\\example_proje...</td>\\n', '    </tr>\n    <tr><td colspan=\"100%\" style=\"text-align:center\">[... additional rows truncated ...]</td></tr>\n  </tbody>\n</table>\n</div>",
            "text/plain": "['  plan_number unsteady_number geometry_number  \\\\\\n', '0          01              02              01   \\n', '1          02            None              01   \\n', '2          03              01              01   \\n', '\\n', '                                          Plan Title Program Version  \\\\\\n', '0                      Unsteady with Bridges and Dam            5.00   \\n', '1                                    Steady Flow Run             NaN   \\n', '2  Unsteady with Bridges and Dam 0.75 Flow Scale ...            5.00   \\n', '\\n', '          Short Identifier                  Simulation Date  \\\\\\n', '0             UnsteadyFlow    18FEB1999,0000,24FEB1999,0500   \\n', '1                SteadyRun  02/18/1999,0000,02/24/1999,0500   \\n', '2  Modified Flow Test 0.75    18FEB1999,0000,24FEB1999,0500   \\n', '\\n', '  Computation Interval Mapping Interval Run HTab Run UNet Run Sediment  \\\\\\n', '0                 2MIN            1HOUR        1        1            0   \\n', '1                 2MIN\n...\n[Output truncated, 2651 characters total]"
          },
          "execution_count": 36,
          "metadata": {},
          "output_type": "execute_result"
        }
      ],
      "source": [
        "# Show updated plan_df dataframe, which should show the HDF results files\n",
        "ras.plan_df"
      ]
    },
    {
      "cell_type": "code",
      "execution_count": 37,
      "metadata": {},
      "outputs": [
        {
          "data": {
            "text/html": "<div>\n<style scoped>\\n', '    .dataframe tbody tr th:only-of-type {\\n', '        vertical-align: middle;\\n', '    }\\n', '\\n', '    .dataframe tbody tr th {\\n', '        vertical-align: top;\\n', '    }\\n', '\\n', '    .dataframe thead th {\\n', '        text-align: right;\\n', '    }\\n', '</style>\n<table border=\"1\" class=\"dataframe\">\n  <thead>\\n', '    <tr style=\"text-align: right;\">\\n', '      <th></th>\\n', '      <th>unsteady_number</th>\\n', '      <th>full_path</th>\\n', '      <th>geometry_number</th>\\n', '      <th>Flow Title</th>\\n', '      <th>Program Version</th>\\n', '      <th>Use Restart</th>\\n', '      <th>Precipitation Mode</th>\\n', '      <th>Wind Mode</th>\\n', '      <th>Met BC=Precipitation|Mode</th>\\n', '      <th>Met BC=Evapotranspiration|Mode</th>\\n', '      <th>Met BC=Precipitation|Expanded View</th>\\n', '      <th>Met BC=Precipitation|Constant Units</th>\\n', '      <th>Met BC=Precipitation|Gridded Source</th>\\n', '    </tr>\\n', '  </thead>\n  <tbody>\n    <tr>\\n', '      <th>0</th>\\n', '      <td>02</td>\\n', '      <td>d:\\\\GitHub\\\\ras-commander\\\\examples\\\\example_proje...</td>\\n', '      <td>None</td>\\n', '      <td>Flow Hydrograph 2</td>\\n', '      <td>6.30</td>\\n', '      <td>0</td>\\n', '      <td>Disable</td>\\n', '      <td>No Wind Forces</td>\\n', '      <td>None</td>\\n', '      <td>None</td>\\n', '      <td>0</td>\\n', '      <td>mm/hr</td>\\n', '      <td>DSS</td>\\n', '    </tr><tr>\\n', '      <th>1</th>\\n', '      <td>01</td>\\n', '      <td>d:\\\\GitHub\\\\ras-commander\\\\examples\\\\example_proje...</td>\\n', '      <td>None</td>\\n', '      <td>Modified Flow Scenario</td>\\n', '      <td>6.30</td>\\n', '      <td>0</td>\\n', '      <td>Disable</td>\\n', '      <td>No Wind Forces</td>\\n', '      <td>None</td>\\n', '      <td>None</td>\\n', '      <td>0</td>\\n', '      <td>mm/hr</td>\\n', '      <td>DSS</td>\\n', '    </tr>\n    <tr><td colspan=\"100%\" style=\"text-align:center\">[... additional rows truncated ...]</td></tr>\n  </tbody>\n</table>\n</div>",
            "text/plain": "['  unsteady_number                                          full_path  \\\\\\n', '0              02  d:\\\\GitHub\\\\ras-commander\\\\examples\\\\example_proje...   \\n', '1              01  d:\\\\GitHub\\\\ras-commander\\\\examples\\\\example_proje...   \\n', '\\n', '  geometry_number              Flow Title Program Version Use Restart  \\\\\\n', '0            None       Flow Hydrograph 2            6.30           0   \\n', '1            None  Modified Flow Scenario            6.30           0   \\n', '\\n', '  Precipitation Mode       Wind Mode Met BC=Precipitation|Mode  \\\\\\n', '0            Disable  No Wind Forces                      None   \\n', '1            Disable  No Wind Forces                      None   \\n', '\\n', '  Met BC=Evapotranspiration|Mode Met BC=Precipitation|Expanded View  \\\\\\n', '0                           None                                  0   \\n', '1                           None                                  0   \\n', '\\n', '  Met BC=Precipitation|Constant Units Met BC=Precipitation|Gridded Source  \\n', '0                               mm/hr                                 DSS  \\n', '1                               mm/hr                                 DSS  ']"
          },
          "execution_count": 37,
          "metadata": {},
          "output_type": "execute_result"
        }
      ],
      "source": [
        "ras.unsteady_df"
      ]
    },
    {
      "cell_type": "markdown",
      "metadata": {},
      "source": [
        "## Get results for Plan 03 and Compare with Plan 01's results for the specified Cross Section\n",
        "target_xs = \"Bald Eagle       Loc Hav          136202.3\""
      ]
    },
    {
      "cell_type": "code",
      "execution_count": 38,
      "metadata": {},
      "outputs": [
        {
          "name": "stderr",
          "output_type": "stream",
          "text": [
            "2025-04-08 16:47:13 - ras_commander.HdfResultsXsec - INFO - Final validated HDF file path: d:\\GitHub\\ras-commander\\examples\\example_projects\\Balde Eagle Creek\\BaldEagle.p03.hdf\n"
          ]
        }
      ],
      "source": [
        "# Get cross section results timeseries as xarray dataset\n",
        "xsec_results_xr_plan2 = HdfResultsXsec.get_xsec_timeseries(\"03\")"
      ]
    },
    {
      "cell_type": "code",
      "execution_count": 39,
      "metadata": {},
      "outputs": [
        {
          "data": {
            "text/html": "<div><pre>xarray.Dataset with (time: 150, cross_section: 178)\\n', 'Coordinates:\\n', '  * time                      (time) datetime64[ns] 1kB 1999-02-18 ... 1999-0...\\n', '  * cross_section             (cross_section) &lt;U42 30kB &#x27;Bald Eagle       Loc...\\n', '    River                     (cross_section) &lt;U10 7kB &#x27;Bald Eagle&#x27; ... &#x27;Bald...\\n', '    Reach                     (cross_section) &lt;U7 5kB &#x27;Loc Hav&#x27; ... &#x27;Loc Hav&#x27;\\n', '    Station                   (cross_section) &lt;U8 6kB &#x27;138154.4&#x27; ... &#x27;659.942&#x27;\\n', '    Name                      (cross_section) &lt;U1 712B &#x27;&#x27; &#x27;&#x27; &#x27;&#x27; &#x27;&#x27; ... &#x27;&#x27; &#x27;&#x27; &#x27;&#x27;\\n', '    Maximum_Water_Surface     (cross_section) float32 712B 670.9 670.8 ... 548.1\\n', '    Maximum_Flow              (cross_section) float32 712B 3.75e+04 ... 9.318...\\n', '    Maximum_Channel_Velocity  (cross_section) float32 712B 10.27 7.146 ... 1.532\\n', '    Maximum_Velocity_Total    (cross_section) float32 712B 8.222 4.746 ... 1.32\\n', '    Maximum_Flow_Lateral      (cross_section) float32 712B 0.0 0.0 ... 0.0 0.0\\n', 'Data variables:\\n', '    Water_Surface             (time, cross_section) float32 107kB 660.7 ... 5...\\n', '    Velocity_Total            (time, cross_section) float32 107kB 0.0 ... 1.231\\n', '    Velocity_Channel          (time, cross_section) float32 107kB 0.0 ... 1.287\\n', '    Flow_Lateral              (time, cross_section) float32 107kB 0.0 ... 0.0\\n', '    Flow                      (time, cross_section) float32 107kB 2e+03 ... 2...\\n', 'Attributes:\\n', '    description:  Cross-section results extracted from HEC-RAS HDF file\\n', \"    source_file:  d:\\\\GitHub\\\\ras-commander\\\\examples\\\\example_projects\\\\Balde Eag...\n[Full xarray output truncated during preprocessing]</pre></div>",
            "text/plain": "xarray.Dataset with Unknown dimensions\n[Full xarray output truncated during preprocessing]"
          },
          "execution_count": 39,
          "metadata": {},
          "output_type": "execute_result"
        }
      ],
      "source": [
        "xsec_results_xr_plan2"
      ]
    },
    {
      "cell_type": "code",
      "execution_count": 40,
      "metadata": {},
      "outputs": [
        {
          "name": "stdout",
          "output_type": "stream",
          "text": [
            "\n",
            "Time Series Data for Cross Section: Bald Eagle       Loc Hav          136202.3\n",
            "\n",
            "Water_Surface:\n",
            "Plan 1:\n",
            "[657.4173  656.7111  657.02997 657.44073 657.88824]\n",
            "Plan 2:\n",
            "[657.4173  656.3781  656.65936 657.00543 657.4039 ]\n",
            "\n",
            "Velocity_Total:\n",
            "Plan 1:\n",
            "[0.        2.7810786 2.9612713 2.9395368 3.0228102]\n",
            "Plan 2:\n",
            "[0.        2.4959269 2.7408042 2.962285  2.9376311]\n",
            "\n",
            "Velocity_Channel:\n",
            "Plan 1:\n",
            "[0.        3.132834  3.4508243 3.7217746 4.083391 ]\n",
            "Plan 2:\n",
            "[0.        2.7247522 3.0741944 3.431526  3.695762 ]\n",
            "\n",
            "Flow_Lateral:\n",
            "Plan 1:\n",
            "[0. 0. 0. 0. 0.]\n",
            "Plan 2:\n",
            "[0. 0. 0. 0. 0.]\n",
            "\n",
            "Flow:\n",
            "Plan 1:\n",
            "[2000.     1273.8193 1607.1132 2109.992  2746.2964]\n",
            "Plan 2:\n",
            "[2000.      953.3724 1223.017  1576.6724 2062.3972]\n"
          ]
        },
        {
          "data": {
            "text/plain": [
              "<Figure size 1000x500 with 1 Axes>"
            ]
          },
          "metadata": {},
          "output_type": "display_data"
        },
        {
          "data": {
            "text/plain": [
              "<Figure size 1000x500 with 1 Axes>"
            ]
          },
          "metadata": {},
          "output_type": "display_data"
        },
        {
          "data": {
            "text/plain": [
              "<Figure size 1000x500 with 1 Axes>"
            ]
          },
          "metadata": {},
          "output_type": "display_data"
        },
        {
          "data": {
            "text/plain": [
              "<Figure size 1000x500 with 1 Axes>"
            ]
          },
          "metadata": {},
          "output_type": "display_data"
        },
        {
          "data": {
            "text/plain": [
              "<Figure size 1000x500 with 1 Axes>"
            ]
          },
          "metadata": {},
          "output_type": "display_data"
        }
      ],
      "source": [
        "# Print time series for specific cross section\n",
        "target_xs = \"Bald Eagle       Loc Hav          136202.3\"\n",
        "\n",
        "print(\"\\nTime Series Data for Cross Section:\", target_xs)\n",
        "for var in ['Water_Surface', 'Velocity_Total', 'Velocity_Channel', 'Flow_Lateral', 'Flow']:\n",
        "    print(f\"\\n{var}:\")\n",
        "    print(f\"Plan 1:\")\n",
        "    print(xsec_results_xr_plan1[var].sel(cross_section=target_xs).values[:5])  # Show first 5 values\n",
        "    print(f\"Plan 2:\")\n",
        "    print(xsec_results_xr_plan2[var].sel(cross_section=target_xs).values[:5])  # Show first 5 values\n",
        "\n",
        "# Create time series plots\n",
        "if generate_plots:\n",
        "\n",
        "    # Create a figure for each variable\n",
        "    variables = ['Water_Surface', 'Velocity_Total', 'Velocity_Channel', 'Flow_Lateral', 'Flow']\n",
        "\n",
        "    for var in variables:\n",
        "        plt.figure(figsize=(10, 5))\n",
        "        \n",
        "        # Convert time values to datetime if needed\n",
        "        time_values1 = pd.to_datetime(xsec_results_xr_plan1.time.values)\n",
        "        time_values2 = pd.to_datetime(xsec_results_xr_plan2.time.values)\n",
        "        values1 = xsec_results_xr_plan1[var].sel(cross_section=target_xs).values\n",
        "        values2 = xsec_results_xr_plan2[var].sel(cross_section=target_xs).values\n",
        "        \n",
        "        # Get plan titles from plan_df\n",
        "        plan1_title = ras.plan_df.loc[ras.plan_df['plan_number'] == '01', 'Plan Title'].iloc[0]\n",
        "        plan2_title = ras.plan_df.loc[ras.plan_df['plan_number'] == '03', 'Plan Title'].iloc[0]\n",
        "        \n",
        "        # Plot both plans with titles\n",
        "        plt.plot(time_values1, values1, '-', linewidth=2, label=f'{plan1_title} (Plan 01)')\n",
        "        plt.plot(time_values2, values2, '--', linewidth=2, label=f'{plan2_title} (Plan 03)')\n",
        "        \n",
        "        plt.title(f'{var} at {target_xs}')\n",
        "        plt.xlabel('Time')\n",
        "        plt.ylabel(var.replace('_', ' '))\n",
        "        plt.grid(True)\n",
        "        plt.xticks(rotation=45)\n",
        "        plt.legend()\n",
        "        plt.tight_layout()\n",
        "        \n",
        "        # Force display\n",
        "        plt.draw()\n",
        "        plt.pause(0.1)\n",
        "        plt.show()\n"
      ]
    },
    {
      "cell_type": "markdown",
      "metadata": {},
      "source": [
        "## Summary of Unsteady Flow Operations\n",
        "\n",
        "In this notebook, we've covered the following unsteady flow operations using RAS Commander:\n",
        "\n",
        "1. **Project Initialization**: We initialized a HEC-RAS project to work with\n",
        "2. **Boundary Extraction**: We extracted boundary conditions and tables from unsteady flow files\n",
        "3. **Boundary Analysis**: We inspected and understood boundary condition structures\n",
        "4. **Flow Title Updates**: We modified the title of an unsteady flow file\n",
        "5. **Restart Settings**: We configured restart file settings for continuing simulations\n",
        "6. **Table Extraction**: We extracted flow tables for analysis\n",
        "7. **Table Modification**: We modified a flow table and wrote it back to the file\n",
        "8. **Application**: We created a plan using our modified unsteady flow and computed results\n",
        "\n",
        "### Key Classes and Functions Used\n",
        "\n",
        "- `RasUnsteady.extract_boundary_and_tables()`: Extract boundary conditions and tables\n",
        "- `RasUnsteady.print_boundaries_and_tables()`: Display formatted boundary information\n",
        "- `RasUnsteady.update_flow_title()`: Modify the flow title\n",
        "- `RasUnsteady.update_restart_settings()`: Configure restart options\n",
        "- `RasUnsteady.extract_tables()`: Extract tables from unsteady flow files\n",
        "- `RasUnsteady.identify_tables()`: Identify table locations in file\n",
        "- `RasUnsteady.parse_fixed_width_table()`: Parse fixed-width tables\n",
        "- `RasUnsteady.write_table_to_file()`: Write modified tables back to file\n",
        "\n",
        "### Next Steps\n",
        "\n",
        "To further explore unsteady flow operations with RAS Commander, consider:\n",
        "\n",
        "1. **Advanced Flow Modifications**: Create scripts that systematically modify flow hydrographs\n",
        "2. **Sensitivity Analysis**: Create variations of unsteady flows to assess model sensitivity\n",
        "3. **Batch Processing**: Process multiple unsteady flow files for scenario analysis\n",
        "4. **Custom Boundary Conditions**: Create unsteady flows from external data sources\n",
        "5. **Results Analysis**: Compare results from different unsteady flow scenarios\n",
        "\n",
        "These advanced topics can be explored by building on the foundation established in this notebook."
      ]
    }
  ],
  "metadata": {
    "kernelspec": {
      "display_name": "rascmdr",
      "language": "python",
      "name": "python3"
    },
    "language_info": {
      "codemirror_mode": {
        "name": "ipython",
        "version": 3
      },
      "file_extension": ".py",
      "mimetype": "text/x-python",
      "name": "python",
      "nbconvert_exporter": "python",
      "pygments_lexer": "ipython3",
      "version": "3.12.9"
    }
  },
  "nbformat": 4,
  "nbformat_minor": 4
}