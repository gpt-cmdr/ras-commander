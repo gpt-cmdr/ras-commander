{
  "cells": [
    {
      "cell_type": "markdown",
      "metadata": {},
      "source": [
        "# HEC-RAS Pipes, Conduits, and Pump Stations HDF Data Analysis Notebook\n",
        "\n",
        "This notebook demonstrates how to manipulate and analyze the new HEC-RAS Conduits, Pipes, and Pump Stations results using the ras-commander library. It leverages the HdfPipe and HdfPump classes to streamline data extraction, processing, and visualization."
      ]
    },
    {
      "cell_type": "markdown",
      "metadata": {},
      "source": [
        "## Package Installation and Environment Setup\n",
        "Uncomment and run package installation commands if needed"
      ]
    },
    {
      "cell_type": "code",
      "execution_count": null,
      "metadata": {},
      "outputs": [],
      "source": [
        "# Install ras-commander from pip (uncomment to install if needed)\n",
        "#!pip install ras-commander\n",
        "# This installs ras-commander and all dependencies"
      ]
    },
    {
      "cell_type": "code",
      "execution_count": null,
      "metadata": {},
      "outputs": [],
      "source": [
        "# Import all required modules\n",
        "#from ras_commander import *  # Import all ras-commander modules\n",
        "\n",
        "# Import the required libraries for this notebook\n",
        "import h5py\n",
        "import numpy as np\n",
        "import pandas as pd\n",
        "import requests\n",
        "from tqdm import tqdm\n",
        "import scipy\n",
        "import xarray as xr\n",
        "import geopandas as gpd\n",
        "import matplotlib.pyplot as plt\n",
        "from IPython import display\n",
        "import psutil  # For getting system CPU info\n",
        "from concurrent.futures import ThreadPoolExecutor, as_completed\n",
        "import time\n",
        "import subprocess\n",
        "import sys\n",
        "import os\n",
        "import shutil\n",
        "from datetime import datetime, timedelta\n",
        "from pathlib import Path  # Ensure pathlib is imported for file operations\n",
        "import pyproj\n",
        "from shapely.geometry import Point, LineString, Polygon\n",
        "import xarray as xr"
      ]
    },
    {
      "cell_type": "code",
      "execution_count": null,
      "metadata": {},
      "outputs": [],
      "source": [
        "# This cell will try to import the pip package, if it fails it will \n",
        "# add the parent directory to the Python path and try to import again\n",
        "# This assumes you are working in a subfolder of the ras-commander repository\n",
        "# This allows a user's revisions to be tested locally without installing the package\n",
        "\n",
        "import sys\n",
        "from pathlib import Path\n",
        "\n",
        "# Flexible imports to allow for development without installation \n",
        "#  ** Use this version with Jupyter Notebooks **\n",
        "try:\n",
        "    # Try to import from the installed package\n",
        "    from ras_commander import *\n",
        "except ImportError:\n",
        "    # If the import fails, add the parent directory to the Python path\n",
        "    import os\n",
        "    current_file = Path(os.getcwd()).resolve()\n",
        "    rascmdr_directory = current_file.parent\n",
        "    sys.path.append(str(rascmdr_directory))\n",
        "    print(\"Loading ras-commander from local dev copy\")\n",
        "    # Now try to import again\n",
        "    from ras_commander import *\n",
        "print(\"ras_commander imported successfully\")\n"
      ]
    },
    {
      "cell_type": "markdown",
      "metadata": {},
      "source": [
        "# Use Example Project or Load Your Own Project"
      ]
    },
    {
      "cell_type": "code",
      "execution_count": null,
      "metadata": {},
      "outputs": [],
      "source": [
        "# Download the Pipes Beta project from HEC and run plan 01\n",
        "\n",
        "# Define the path to the Pipes Beta project\n",
        "current_dir = Path.cwd()  # Adjust if your notebook is in a different directory\n",
        "pipes_ex_path = current_dir / \"example_projects\" / \"Davis\"\n",
        "import logging\n",
        "\n",
        "# Check if Pipes Beta.p06.hdf exists (so we don't have to re-run the simulation when re-running or debugging)\n",
        "hdf_file = pipes_ex_path / \"DavisStormSystem.p02.hdf\"\n",
        "\n",
        "if not hdf_file.exists():\n",
        "    # Initialize RasExamples and extract the Pipes Beta project\n",
        "    RasExamples.extract_project([\"Davis\"])\n",
        "\n",
        "    # Initialize the RAS project using the ras. (Pipe Networks are only supported in versions 6.6 and above)\n",
        "    init_ras_project(pipes_ex_path, \"6.6\")\n",
        "    logging.info(f\"Pipes Beta project initialized with folder: {ras.project_folder}\")\n",
        "    \n",
        "    logging.info(f\"Pipes Beta object id: {id(ras)}\")\n",
        "    \n",
        "    # Define the plan number to execute\n",
        "    plan_number = \"02\"\n",
        "\n",
        "    # Update run flags for the project\n",
        "    RasPlan.update_run_flags(\n",
        "        plan_number,\n",
        "        geometry_preprocessor=True,\n",
        "        unsteady_flow_simulation=True,\n",
        "        run_sediment=False,\n",
        "        post_processor=True,\n",
        "        floodplain_mapping=False\n",
        "    )\n",
        "\n",
        "    # Execute Plan 06 using RasCmdr for Pipes Beta\n",
        "    print(f\"Executing Plan {plan_number} for the Pipes Beta Creek project...\")\n",
        "    success_pipes_ex = RasCmdr.compute_plan(plan_number)\n",
        "    if success_pipes_ex:\n",
        "        print(f\"Plan {plan_number} executed successfully for Pipes Beta.\\n\")\n",
        "    else:\n",
        "        print(f\"Plan {plan_number} execution failed for Pipes Beta.\\n\")\n",
        "else:\n",
        "    print(\"Pipes Beta.p06.hdf already exists. Skipping project extraction and plan execution.\")\n",
        "    # Initialize the RAS project using the ras.\n",
        "    init_ras_project(pipes_ex_path, \"6.6\")\n",
        "    plan_number = \"02\""
      ]
    },
    {
      "cell_type": "markdown",
      "metadata": {},
      "source": [
        "###  OPTIONAL: Use your own project instead\n",
        "\n",
        "your_project_path = Path(r\"D:\\yourprojectpath\")\n",
        "\n",
        "init_ras_project(your_project_path, \"6.6\")\n",
        "plan_number = \"01\"  # Plan number to use for this notebook \n",
        "\n",
        "\n",
        "\n",
        "### If you use this code cell, don't run the previous cell or change to markdown\n",
        "### NOTE: Ensure the HDF Results file was generated by HEC-RAS Version 6.x or above"
      ]
    },
    {
      "cell_type": "code",
      "execution_count": null,
      "metadata": {},
      "outputs": [],
      "source": []
    },
    {
      "cell_type": "code",
      "execution_count": null,
      "metadata": {},
      "outputs": [],
      "source": [
        "\n"
      ]
    },
    {
      "cell_type": "markdown",
      "metadata": {},
      "source": [
        "# Explore Project Dataframes using 'ras' Object"
      ]
    },
    {
      "cell_type": "code",
      "execution_count": null,
      "metadata": {},
      "outputs": [],
      "source": [
        "print(\"Plan DataFrame for the project:\")\n",
        "ras.plan_df"
      ]
    },
    {
      "cell_type": "code",
      "execution_count": null,
      "metadata": {},
      "outputs": [],
      "source": [
        "print(\"\\nUnsteady DataFrame for the project:\")\n",
        "ras.unsteady_df"
      ]
    },
    {
      "cell_type": "code",
      "execution_count": null,
      "metadata": {},
      "outputs": [],
      "source": [
        "print(\"\\nBoundary Conditions DataFrame for the project:\")\n",
        "ras.boundaries_df "
      ]
    },
    {
      "cell_type": "code",
      "execution_count": null,
      "metadata": {},
      "outputs": [],
      "source": [
        "# Get HDF Results Entries (only present when results are present)\n",
        "ras.get_hdf_entries()"
      ]
    },
    {
      "cell_type": "markdown",
      "metadata": {},
      "source": [
        "# Find Paths for Results and Geometry HDF's"
      ]
    },
    {
      "cell_type": "code",
      "execution_count": null,
      "metadata": {},
      "outputs": [],
      "source": [
        "# Get the plan HDF path for the plan_number defined above\n",
        "plan_hdf_path = ras.plan_df.loc[ras.plan_df['plan_number'] == plan_number, 'HDF_Results_Path'].values[0]"
      ]
    },
    {
      "cell_type": "code",
      "execution_count": null,
      "metadata": {},
      "outputs": [],
      "source": [
        "plan_hdf_path"
      ]
    },
    {
      "cell_type": "code",
      "execution_count": null,
      "metadata": {},
      "outputs": [],
      "source": [
        "# Alternate: Get the geometry HDF path if you are extracting geometry elements from the geometry HDF\n",
        "geom_hdf_path = ras.plan_df.loc[ras.plan_df['plan_number'] == plan_number, 'Geom Path'].values[0] + '.hdf'"
      ]
    },
    {
      "cell_type": "code",
      "execution_count": null,
      "metadata": {},
      "outputs": [],
      "source": [
        "geom_hdf_path"
      ]
    },
    {
      "cell_type": "code",
      "execution_count": null,
      "metadata": {},
      "outputs": [],
      "source": [
        "# Extract runtime and compute time data\n",
        "print(\"\\nExtracting runtime and compute time data\")\n",
        "runtime_df = HdfResultsPlan.get_runtime_data(hdf_path=plan_number)\n",
        "runtime_df\n",
        " "
      ]
    },
    {
      "cell_type": "markdown",
      "metadata": {},
      "source": [
        "-----"
      ]
    },
    {
      "cell_type": "markdown",
      "metadata": {},
      "source": [
        "# 2D Models with Pipe Networks: HDF Data Extraction Examples"
      ]
    },
    {
      "cell_type": "code",
      "execution_count": null,
      "metadata": {},
      "outputs": [],
      "source": [
        "# Get pipe conduits\n",
        "pipe_conduits_gdf = HdfPipe.get_pipe_conduits(\"02\") # NOTE: Here we use the plan number instead of the path variable.  The library decorators ensure this maps correctly.  \n",
        "print(\"\\nPipe Conduits: pipe_conduits_gdf\")\n",
        "pipe_conduits_gdf"
      ]
    },
    {
      "cell_type": "code",
      "execution_count": null,
      "metadata": {},
      "outputs": [],
      "source": [
        "# Plot the pipe conduit linestrings\n",
        "import matplotlib.pyplot as plt\n",
        "\n",
        "# Create a new figure with a specified size\n",
        "plt.figure(figsize=(12, 9))\n",
        "\n",
        "# Plot each linestring from the GeoDataFrame\n",
        "for idx, row in pipe_conduits_gdf.iterrows():\n",
        "    # Extract coordinates from the linestring\n",
        "    x_coords, y_coords = row['Polyline'].xy\n",
        "    \n",
        "    # Plot the linestring\n",
        "    plt.plot(x_coords, y_coords, 'b-', linewidth=1, alpha=0.7)\n",
        "    \n",
        "    # Add vertical line markers at endpoints\n",
        "    plt.plot([x_coords[0]], [y_coords[0]], 'x', color='black', markersize=4)\n",
        "    plt.plot([x_coords[-1]], [y_coords[-1]], 'x', color='black', markersize=4)\n",
        "    \n",
        "    # Calculate center point of the line\n",
        "    center_x = (x_coords[0] + x_coords[-1]) / 2\n",
        "    center_y = (y_coords[0] + y_coords[-1]) / 2\n",
        "    \n",
        "    # Add pipe name label at center, oriented top-right\n",
        "    plt.text(center_x, center_y, f'{row[\"Name\"]}', fontsize=8, \n",
        "             verticalalignment='bottom', horizontalalignment='left',\n",
        "             rotation=45)  # 45 degree angle for top-right orientation\n",
        "\n",
        "# Add title and labels\n",
        "plt.title('Pipe Conduit Network Layout')\n",
        "plt.xlabel('Easting')\n",
        "plt.ylabel('Northing')\n",
        "\n",
        "# Add grid\n",
        "plt.grid(True, linestyle='--', alpha=0.6)\n",
        "\n",
        "# Adjust layout to prevent label clipping\n",
        "plt.tight_layout()\n",
        "\n",
        "# Display the plot\n",
        "plt.show()\n"
      ]
    },
    {
      "cell_type": "code",
      "execution_count": null,
      "metadata": {},
      "outputs": [],
      "source": [
        "# Plot the first 2 terrain profiles\n",
        "import matplotlib.pyplot as plt\n",
        "\n",
        "# Extract terrain profiles from the GeoDataFrame\n",
        "terrain_profiles = pipe_conduits_gdf['Terrain_Profiles'].tolist()\n",
        "\n",
        "# Create separate plots for the first 2 terrain profiles\n",
        "for i in range(2):\n",
        "    profile = terrain_profiles[i]\n",
        "    \n",
        "    # Unzip the profile into x and y coordinates\n",
        "    x_coords, y_coords = zip(*profile)\n",
        "    \n",
        "    # Create a new figure for each profile\n",
        "    plt.figure(figsize=(12, 6))\n",
        "    plt.plot(x_coords, y_coords, marker='o', linestyle='-', color='g', alpha=0.7)\n",
        "    \n",
        "    # Add title and labels\n",
        "    plt.title(f'Terrain Profile {i + 1}')\n",
        "    plt.xlabel('Distance along profile (m)')\n",
        "    plt.ylabel('Elevation (m)')\n",
        "    \n",
        "    # Add grid\n",
        "    plt.grid(True, linestyle='--', alpha=0.6)\n",
        "    \n",
        "    # Adjust layout to prevent label clipping\n",
        "    plt.tight_layout()\n",
        "    \n",
        "    # Display the plot\n",
        "    plt.show()\n"
      ]
    },
    {
      "cell_type": "code",
      "execution_count": null,
      "metadata": {},
      "outputs": [],
      "source": [
        "# Use get_hdf5_dataset_info function to get Pipe Conduits data:\n",
        "#HdfUtils.get_hdf5_dataset_info(plan_hdf_path, \"/Geometry/Pipe Nodes/\")"
      ]
    },
    {
      "cell_type": "code",
      "execution_count": null,
      "metadata": {},
      "outputs": [],
      "source": [
        "# Get pipe nodes\n",
        "pipe_nodes_gdf = HdfPipe.get_pipe_nodes(plan_hdf_path)\n",
        "print(\"\\nPipe Nodes:\")\n",
        "pipe_nodes_gdf"
      ]
    },
    {
      "cell_type": "code",
      "execution_count": null,
      "metadata": {},
      "outputs": [],
      "source": [
        "# Use get_hdf5_dataset_info function to get Pipe Conduits data:\n",
        "#HdfUtils.get_hdf5_dataset_info(plan_hdf_path, \"/Geometry/Pipe Networks/\")"
      ]
    },
    {
      "cell_type": "code",
      "execution_count": null,
      "metadata": {},
      "outputs": [],
      "source": [
        "# Get pipe network data\n",
        "pipe_network_gdf = HdfPipe.get_pipe_network(plan_hdf_path)\n",
        "print(\"\\nPipe Network Data:\")\n",
        "pipe_network_gdf"
      ]
    },
    {
      "cell_type": "code",
      "execution_count": null,
      "metadata": {},
      "outputs": [],
      "source": [
        "# Get pump stations\n",
        "pump_stations_gdf = HdfPump.get_pump_stations(plan_hdf_path)\n",
        "print(\"\\nPump Stations:\")\n",
        "pump_stations_gdf"
      ]
    },
    {
      "cell_type": "code",
      "execution_count": null,
      "metadata": {},
      "outputs": [],
      "source": [
        "# Get pump groups\n",
        "pump_groups_df = HdfPump.get_pump_groups(plan_hdf_path)\n",
        "print(\"\\nPump Groups:\")\n",
        "pump_groups_df"
      ]
    },
    {
      "cell_type": "code",
      "execution_count": null,
      "metadata": {},
      "outputs": [],
      "source": [
        "# Use HdfUtils for extracting projection\n",
        "print(\"\\nExtracting Projection from HDF\")\n",
        "projection = HdfBase.get_projection(hdf_path=geom_hdf_path)\n",
        "print(f\"Projection: {projection}\")"
      ]
    },
    {
      "cell_type": "code",
      "execution_count": null,
      "metadata": {},
      "outputs": [],
      "source": [
        "# Set CRS for GeoDataFrames\n",
        "if projection:\n",
        "    pipe_conduits_gdf.set_crs(projection, inplace=True, allow_override=True)\n",
        "    pipe_nodes_gdf.set_crs(projection, inplace=True, allow_override=True)\n",
        "\n",
        "print(\"Pipe Conduits GeoDataFrame columns:\")\n",
        "print(pipe_conduits_gdf.columns)\n",
        "\n",
        "print(\"\\nPipe Nodes GeoDataFrame columns:\")\n",
        "print(pipe_nodes_gdf.columns)\n",
        "\n",
        "perimeter_polygons = HdfMesh.get_mesh_areas(geom_hdf_path)\n",
        "if projection:\n",
        "    perimeter_polygons.set_crs(projection, inplace=True, allow_override=True)\n",
        "    \n",
        "print(\"\\nPerimeter Polygons GeoDataFrame columns:\")\n",
        "print(perimeter_polygons.columns)"
      ]
    },
    {
      "cell_type": "code",
      "execution_count": null,
      "metadata": {},
      "outputs": [],
      "source": [
        "import matplotlib.pyplot as plt\n",
        "from shapely import wkt\n",
        "import matplotlib.patches as mpatches\n",
        "import matplotlib.lines as mlines\n",
        "import numpy as np\n",
        "\n",
        "fig, ax = plt.subplots(figsize=(28, 20))\n",
        "\n",
        "# Plot cell polygons with 50% transparency behind the pipe network\n",
        "cell_polygons_df = HdfMesh.get_mesh_cell_polygons(geom_hdf_path)\n",
        "if not cell_polygons_df.empty:\n",
        "    cell_polygons_df.plot(ax=ax, edgecolor='lightgray', facecolor='lightgray', alpha=0.5)\n",
        "\n",
        "# Plot pipe conduits - the Polyline column already contains LineString geometries\n",
        "pipe_conduits_gdf.set_geometry('Polyline', inplace=True)\n",
        "\n",
        "# Plot each pipe conduit individually to ensure all are shown\n",
        "for idx, row in pipe_conduits_gdf.iterrows():\n",
        "    ax.plot(*row.Polyline.xy, color='blue', linewidth=1)\n",
        "\n",
        "# Create a colormap for node elevations\n",
        "norm = plt.Normalize(pipe_nodes_gdf['Invert Elevation'].min(), \n",
        "                    pipe_nodes_gdf['Invert Elevation'].max())\n",
        "cmap = plt.cm.viridis\n",
        "\n",
        "# Plot pipe nodes colored by invert elevation\n",
        "scatter = ax.scatter(pipe_nodes_gdf.geometry.x, pipe_nodes_gdf.geometry.y,\n",
        "                    c=pipe_nodes_gdf['Invert Elevation'], \n",
        "                    cmap=cmap, norm=norm,\n",
        "                    s=100)\n",
        "\n",
        "# Add colorbar\n",
        "cbar = plt.colorbar(scatter)\n",
        "cbar.set_label('Invert Elevation (ft)', rotation=270, labelpad=15)\n",
        "\n",
        "# Add combined labels for invert and drop inlet elevations\n",
        "for idx, row in pipe_nodes_gdf.iterrows():\n",
        "    label_text = \"\"  # Initialize label_text for each node\n",
        "    # Add drop inlet elevation label if it exists and is not NaN\n",
        "    if 'Drop Inlet Elevation' in row and not np.isnan(row['Drop Inlet Elevation']):\n",
        "        label_text += f\"TOC: {row['Drop Inlet Elevation']:.2f}\\n\"\n",
        "    label_text += f\"INV: {row['Invert Elevation']:.2f}\"\n",
        "    \n",
        "    ax.annotate(label_text,\n",
        "                xy=(row.geometry.x, row.geometry.y),\n",
        "                xytext=(-10, -10), textcoords='offset points',\n",
        "                fontsize=8,\n",
        "                bbox=dict(facecolor='white', edgecolor='black', boxstyle='round,pad=0.5'))\n",
        "\n",
        "# Add perimeter polygons \n",
        "if not perimeter_polygons.empty:\n",
        "    perimeter_polygons.plot(ax=ax, edgecolor='black', facecolor='none')\n",
        "\n",
        "# Create proxy artists for legend\n",
        "conduit_line = mlines.Line2D([], [], color='blue', label='Conduits')\n",
        "node_point = mlines.Line2D([], [], color='blue', marker='o', linestyle='None',\n",
        "                          markersize=10, label='Nodes')\n",
        "perimeter = mpatches.Patch(facecolor='none', edgecolor='black',\n",
        "                          label='Perimeter Polygons')\n",
        "\n",
        "ax.set_title('Pipe Network with Node Elevations')\n",
        "\n",
        "# Add legend with proxy artists\n",
        "ax.legend(handles=[conduit_line, node_point, perimeter])\n",
        "\n",
        "# Set aspect ratio to be equal and adjust limits\n",
        "ax.set_aspect('equal', 'datalim')\n",
        "ax.autoscale_view()\n",
        "\n",
        "plt.show()\n"
      ]
    },
    {
      "cell_type": "code",
      "execution_count": null,
      "metadata": {},
      "outputs": [],
      "source": [
        "# Visualize pump stations on a map\n",
        "fig, ax = plt.subplots(figsize=(12, 8))\n",
        "pump_stations_gdf.plot(ax=ax, color='green', markersize=50, label='Pump Station')\n",
        "\n",
        "# Add perimeter polygons\n",
        "if not perimeter_polygons.empty:\n",
        "    perimeter_polygons.plot(ax=ax, edgecolor='black', facecolor='none', label='Perimeter Polygons')\n",
        "\n",
        "ax.set_title('Pump Station Location')\n",
        "ax.legend()\n",
        "plt.show()"
      ]
    },
    {
      "cell_type": "code",
      "execution_count": null,
      "metadata": {},
      "outputs": [],
      "source": [
        "# Example 3: Get pipe network timeseries\n",
        "valid_variables = [\n",
        "    \"Cell Courant\", \"Cell Water Surface\", \"Face Flow\", \"Face Velocity\",\n",
        "    \"Face Water Surface\", \"Pipes/Pipe Flow DS\", \"Pipes/Pipe Flow US\",\n",
        "    \"Pipes/Vel DS\", \"Pipes/Vel US\", \"Nodes/Depth\", \"Nodes/Drop Inlet Flow\",\n",
        "    \"Nodes/Water Surface\"\n",
        "]\n",
        "\n",
        "print(\"Valid variables for pipe network timeseries:\")\n",
        "for var in valid_variables:\n",
        "    print(f\"- {var}\")\n",
        "\n",
        "# Extract pipe network timeseries for each valid pipe-related variable\n",
        "pipe_variables = [var for var in valid_variables if var.startswith(\"Pipes/\") or var.startswith(\"Nodes/\")]\n",
        "\n",
        "for variable in pipe_variables:\n",
        "    try:\n",
        "        pipe_timeseries = HdfPipe.get_pipe_network_timeseries(plan_hdf_path, variable=variable)\n",
        "        print(f\"\\nPipe Network Timeseries ({variable}):\")\n",
        "        print(pipe_timeseries.head())  # Print first few rows to avoid overwhelming output\n",
        "    except Exception as e:\n",
        "        print(f\"Error extracting {variable}: {str(e)}\")"
      ]
    },
    {
      "cell_type": "markdown",
      "metadata": {},
      "source": [
        "### Pipe Network Timeseries Data Description\n",
        "\n",
        "The `get_pipe_network_timeseries` function returns an xarray DataArray for each variable. Here's a general description of the data structure:\n",
        "\n",
        "1. **Pipes/Pipe Flow DS and Pipes/Pipe Flow US**:\n",
        "   - Dimensions: time, location (pipe IDs)\n",
        "   - Units: ft^3/s (cubic feet per second)\n",
        "   - Description: Represents the flow rate at the downstream (DS) and upstream (US) ends of pipes over time.\n",
        "\n",
        "2. **Pipes/Vel DS and Pipes/Vel US**:\n",
        "   - Dimensions: time, location (pipe IDs)\n",
        "   - Units: ft/s (feet per second)\n",
        "   - Description: Shows the velocity at the downstream (DS) and upstream (US) ends of pipes over time.\n",
        "\n",
        "3. **Nodes/Depth**:\n",
        "   - Dimensions: time, location (node IDs)\n",
        "   - Units: ft (feet)\n",
        "   - Description: Indicates the depth of water at each node over time.\n",
        "\n",
        "4. **Nodes/Drop Inlet Flow**:\n",
        "   - Dimensions: time, location (node IDs)\n",
        "   - Units: cfs (cubic feet per second)\n",
        "   - Description: Represents the flow rate through drop inlets at each node over time.\n",
        "\n",
        "5. **Nodes/Water Surface**:\n",
        "   - Dimensions: time, location (node IDs)\n",
        "   - Units: ft (feet)\n",
        "   - Description: Shows the water surface elevation at each node over time.\n",
        "\n",
        "General notes:\n",
        "- The 'time' dimension represents the simulation timesteps.\n",
        "- The 'location' dimension represents either pipe IDs or node IDs, depending on the variable.\n",
        "- The number of timesteps and locations may vary depending on the specific dataset and simulation setup.\n",
        "- Negative values in flow variables may indicate reverse flow direction.\n",
        "\n"
      ]
    },
    {
      "cell_type": "code",
      "execution_count": null,
      "metadata": {},
      "outputs": [],
      "source": [
        "import matplotlib.pyplot as plt\n",
        "from matplotlib.dates import DateFormatter\n",
        "import numpy as np\n",
        "import random\n",
        "\n",
        "# Define the variables we want to plot\n",
        "variables = [\n",
        "    \"Pipes/Pipe Flow DS\", \"Pipes/Pipe Flow US\", \"Pipes/Vel DS\", \"Pipes/Vel US\",\n",
        "    \"Nodes/Depth\", \"Nodes/Drop Inlet Flow\", \"Nodes/Water Surface\"\n",
        "]\n",
        "\n",
        "# Create a separate plot for each variable\n",
        "for variable in variables:\n",
        "    try:\n",
        "        # Get the data for the current variable\n",
        "        data = HdfPipe.get_pipe_network_timeseries(plan_hdf_path, variable=variable)\n",
        "        \n",
        "        # Create a new figure\n",
        "        fig, ax = plt.subplots(figsize=(12, 6))\n",
        "        \n",
        "        # Pick one random location\n",
        "        random_location = random.choice(data.location.values)\n",
        "        \n",
        "        # Determine if it's a pipe or node variable\n",
        "        if variable.startswith(\"Pipes/\"):\n",
        "            location_type = \"Conduit ID\"\n",
        "        else:\n",
        "            location_type = \"Node ID\"\n",
        "        \n",
        "        # Plot the data for the randomly selected location\n",
        "        ax.plot(data.time, data.sel(location=random_location), label=f'{location_type} {random_location}')\n",
        "        \n",
        "        # Set the title and labels\n",
        "        ax.set_title(f'{variable} Over Time ({location_type} {random_location})')\n",
        "        ax.set_xlabel('Time')  # Corrected from ax.xlabel to ax.set_xlabel\n",
        "        ax.set_ylabel(f'{variable} ({data.attrs[\"units\"]})')  # Corrected from ax.ylabel to ax.set_ylabel\n",
        "        \n",
        "        # Format the x-axis to show dates nicely\n",
        "        ax.xaxis.set_major_formatter(DateFormatter('%Y-%m-%d %H:%M'))\n",
        "        plt.xticks(rotation=45)\n",
        "        \n",
        "        # Add a legend\n",
        "        ax.legend(title=location_type, loc='upper left')\n",
        "        \n",
        "        # Adjust the layout\n",
        "        plt.tight_layout()\n",
        "        \n",
        "        # Show the plot\n",
        "        plt.show()\n",
        "        \n",
        "    except Exception as e:\n",
        "        print(f\"Error plotting {variable}: {str(e)}\")\n"
      ]
    },
    {
      "cell_type": "code",
      "execution_count": null,
      "metadata": {},
      "outputs": [],
      "source": [
        "# Example 8: Get pump station timeseries\n",
        "pump_station_name = pump_stations_gdf.iloc[0]['Name']  # Get the first pump station name\n",
        "# Use the results_pump_station_timeseries method \n",
        "pump_timeseries = HdfPump.get_pump_station_timeseries(plan_hdf_path, pump_station=pump_station_name)\n",
        "print(f\"\\nPump Station Timeseries ({pump_station_name}):\")\n",
        "print(pump_timeseries)"
      ]
    },
    {
      "cell_type": "code",
      "execution_count": null,
      "metadata": {},
      "outputs": [],
      "source": [
        "# Use get_hdf5_dataset_info function to get Pipe Conduits data:\n",
        "HdfBase.get_dataset_info(plan_hdf_path, \"/Geometry/Pump Stations/\")"
      ]
    },
    {
      "cell_type": "code",
      "execution_count": null,
      "metadata": {},
      "outputs": [],
      "source": [
        "# Extract the pump station timeseries data\n",
        "pump_station_name = pump_stations_gdf.iloc[0]['Name']  # Get the first pump station name\n",
        "pump_timeseries = HdfPump.get_pump_station_timeseries(plan_hdf_path, pump_station=pump_station_name)\n",
        "\n",
        "# Print the pump station timeseries\n",
        "print(f\"\\nPump Station Timeseries ({pump_station_name}):\")\n",
        "print(pump_timeseries)\n",
        "\n",
        "# Create a new figure for plotting\n",
        "fig, ax = plt.subplots(figsize=(12, 12))\n",
        "\n",
        "# Plot each variable in the timeseries\n",
        "for variable in pump_timeseries.coords['variable'].values:\n",
        "    data = pump_timeseries.sel(variable=variable)\n",
        "    \n",
        "    # Decode units to strings\n",
        "    unit = pump_timeseries.attrs[\"units\"][list(pump_timeseries.coords[\"variable\"].values).index(variable)][1].decode('utf-8')\n",
        "    \n",
        "    # Check if the variable is 'Pumps on' to plot it differently\n",
        "    if variable == 'Pumps on':\n",
        "        # Plot with color based on the on/off status\n",
        "        colors = ['green' if val > 0 else 'red' for val in data.values.flatten()]\n",
        "        ax.scatter(pump_timeseries['time'], data, label=f'{variable} ({unit})', color=colors)\n",
        "    else:\n",
        "        ax.plot(pump_timeseries['time'], data, label=f'{variable} ({unit})')\n",
        "        \n",
        "        # Label the peak values\n",
        "        peak_time = pump_timeseries['time'][data.argmax()]\n",
        "        peak_value = data.max()\n",
        "        ax.annotate(f'Peak: {peak_value:.2f}', xy=(peak_time, peak_value), \n",
        "                    xytext=(peak_time, peak_value + 0.1 * peak_value), \n",
        "                    arrowprops=dict(facecolor='black', arrowstyle='->'),\n",
        "                    fontsize=10, color='black', ha='center')\n",
        "\n",
        "# Set the title and labels\n",
        "ax.set_title(f'Timeseries Data for Pump Station: {pump_station_name}')\n",
        "ax.set_xlabel('Time')\n",
        "ax.set_ylabel('Values')\n",
        "\n",
        "# Format the x-axis to show dates nicely\n",
        "ax.xaxis.set_major_formatter(DateFormatter('%Y-%m-%d %H:%M'))\n",
        "plt.xticks(rotation=45)\n",
        "\n",
        "# Add a legend\n",
        "ax.legend(title='Variables', loc='upper left')\n",
        "\n",
        "# Adjust the layout\n",
        "plt.tight_layout()\n",
        "\n",
        "# Show the plot\n",
        "plt.show()\n"
      ]
    },
    {
      "cell_type": "markdown",
      "metadata": {},
      "source": [
        "## Exploring HDF Datasets with HdfBase.get_dataset_info\n",
        "This allows users to find HDF information that is not included in the ras-commander library.  Find the path in HDFView and set the group_path below to explore the HDF datasets and attributes.  Then, use the output to write your own function to extract the data.  "
      ]
    },
    {
      "cell_type": "markdown",
      "metadata": {},
      "source": [
        "#### Use get_hdf5_dataset_info function to get Pipe Conduits data:\n",
        "HdfBase.get_dataset_info(plan_hdf_path, \"/Geometry/Pipe Conduits/\")"
      ]
    },
    {
      "cell_type": "markdown",
      "metadata": {},
      "source": [
        "For HDF datasets that are not supported by the RAS-Commander library, provide the dataset path to HdfBase.get_dataset_info and provide the output to an LLM along with a relevent HDF* class(es) to generate new functions that extend the library's coverage.   "
      ]
    }
  ],
  "metadata": {
    "kernelspec": {
      "display_name": "rascmdr_pip312",
      "language": "python",
      "name": "python3"
    },
    "language_info": {
      "codemirror_mode": {
        "name": "ipython",
        "version": 3
      },
      "file_extension": ".py",
      "mimetype": "text/x-python",
      "name": "python",
      "nbconvert_exporter": "python",
      "pygments_lexer": "ipython3",
      "version": "3.12.9"
    }
  },
  "nbformat": 4,
  "nbformat_minor": 2
}