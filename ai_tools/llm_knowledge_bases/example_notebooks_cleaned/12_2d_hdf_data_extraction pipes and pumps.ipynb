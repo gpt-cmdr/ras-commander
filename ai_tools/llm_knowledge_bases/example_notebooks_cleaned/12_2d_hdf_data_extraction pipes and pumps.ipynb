{
  "cells": [
    {
      "cell_type": "markdown",
      "metadata": {},
      "source": [
        "# HEC-RAS Pipes, Conduits, and Pump Stations HDF Data Analysis Notebook\n",
        "\n",
        "This notebook demonstrates how to manipulate and analyze the new HEC-RAS Conduits, Pipes, and Pump Stations results using the ras-commander library. It leverages the HdfPipe and HdfPump classes to streamline data extraction, processing, and visualization."
      ]
    },
    {
      "cell_type": "markdown",
      "metadata": {},
      "source": [
        "## Package Installation and Environment Setup\n",
        "Uncomment and run package installation commands if needed"
      ]
    },
    {
      "cell_type": "code",
      "execution_count": 1,
      "metadata": {},
      "outputs": [],
      "source": [
        "# Install ras-commander from pip (uncomment to install if needed)\n",
        "#!pip install ras-commander\n",
        "# This installs ras-commander and all dependencies"
      ]
    },
    {
      "cell_type": "code",
      "execution_count": 2,
      "metadata": {},
      "outputs": [],
      "source": [
        "# Import all required modules\n",
        "#from ras_commander import *  # Import all ras-commander modules\n",
        "\n",
        "# Import the required libraries for this notebook\n",
        "import h5py\n",
        "import numpy as np\n",
        "import pandas as pd\n",
        "import requests\n",
        "from tqdm import tqdm\n",
        "import scipy\n",
        "import xarray as xr\n",
        "import geopandas as gpd\n",
        "import matplotlib.pyplot as plt\n",
        "from IPython import display\n",
        "import psutil  # For getting system CPU info\n",
        "from concurrent.futures import ThreadPoolExecutor, as_completed\n",
        "import time\n",
        "import subprocess\n",
        "import sys\n",
        "import os\n",
        "import shutil\n",
        "from datetime import datetime, timedelta\n",
        "from pathlib import Path  # Ensure pathlib is imported for file operations\n",
        "import pyproj\n",
        "from shapely.geometry import Point, LineString, Polygon\n",
        "import xarray as xr"
      ]
    },
    {
      "cell_type": "code",
      "execution_count": 3,
      "metadata": {},
      "outputs": [
        {
          "name": "stdout",
          "output_type": "stream",
          "text": [
            "ras_commander imported successfully\n"
          ]
        }
      ],
      "source": [
        "# This cell will try to import the pip package, if it fails it will \n",
        "# add the parent directory to the Python path and try to import again\n",
        "# This assumes you are working in a subfolder of the ras-commander repository\n",
        "# This allows a user's revisions to be tested locally without installing the package\n",
        "\n",
        "import sys\n",
        "from pathlib import Path\n",
        "\n",
        "# Flexible imports to allow for development without installation \n",
        "#  ** Use this version with Jupyter Notebooks **\n",
        "try:\n",
        "    # Try to import from the installed package\n",
        "    from ras_commander import *\n",
        "except ImportError:\n",
        "    # If the import fails, add the parent directory to the Python path\n",
        "    import os\n",
        "    current_file = Path(os.getcwd()).resolve()\n",
        "    rascmdr_directory = current_file.parent\n",
        "    sys.path.append(str(rascmdr_directory))\n",
        "    print(\"Loading ras-commander from local dev copy\")\n",
        "    # Now try to import again\n",
        "    from ras_commander import *\n",
        "print(\"ras_commander imported successfully\")\n"
      ]
    },
    {
      "cell_type": "markdown",
      "metadata": {},
      "source": [
        "# Use Example Project or Load Your Own Project"
      ]
    },
    {
      "cell_type": "code",
      "execution_count": 4,
      "metadata": {},
      "outputs": [
        {
          "name": "stderr",
          "output_type": "stream",
          "text": [
            "2025-03-20 12:03:49 - ras_commander.RasPrj - INFO - Initializing global 'ras' object via init_ras_project function.\n",
            "2025-03-20 12:03:49 - ras_commander.RasPrj - INFO - Project initialized. ras_object project folder: c:\\GH\\ras-commander\\examples\\example_projects\\Davis\n"
          ]
        },
        {
          "name": "stdout",
          "output_type": "stream",
          "text": [
            "Pipes Beta.p06.hdf already exists. Skipping project extraction and plan execution.\n"
          ]
        }
      ],
      "source": [
        "# Download the Pipes Beta project from HEC and run plan 01\n",
        "\n",
        "# Define the path to the Pipes Beta project\n",
        "current_dir = Path.cwd()  # Adjust if your notebook is in a different directory\n",
        "pipes_ex_path = current_dir / \"example_projects\" / \"Davis\"\n",
        "import logging\n",
        "\n",
        "# Check if Pipes Beta.p06.hdf exists (so we don't have to re-run the simulation when re-running or debugging)\n",
        "hdf_file = pipes_ex_path / \"DavisStormSystem.p02.hdf\"\n",
        "\n",
        "if not hdf_file.exists():\n",
        "    # Initialize RasExamples and extract the Pipes Beta project\n",
        "    RasExamples.extract_project([\"Davis\"])\n",
        "\n",
        "    # Initialize the RAS project using the ras. (Pipe Networks are only supported in versions 6.6 and above)\n",
        "    init_ras_project(pipes_ex_path, \"6.6\")\n",
        "    logging.info(f\"Pipes Beta project initialized with folder: {ras.project_folder}\")\n",
        "    \n",
        "    logging.info(f\"Pipes Beta object id: {id(ras)}\")\n",
        "    \n",
        "    # Define the plan number to execute\n",
        "    plan_number = \"02\"\n",
        "\n",
        "    # Update run flags for the project\n",
        "    RasPlan.update_run_flags(\n",
        "        plan_number,\n",
        "        geometry_preprocessor=True,\n",
        "        unsteady_flow_simulation=True,\n",
        "        run_sediment=False,\n",
        "        post_processor=True,\n",
        "        floodplain_mapping=False\n",
        "    )\n",
        "\n",
        "    # Execute Plan 06 using RasCmdr for Pipes Beta\n",
        "    print(f\"Executing Plan {plan_number} for the Pipes Beta Creek project...\")\n",
        "    success_pipes_ex = RasCmdr.compute_plan(plan_number)\n",
        "    if success_pipes_ex:\n",
        "        print(f\"Plan {plan_number} executed successfully for Pipes Beta.\\n\")\n",
        "    else:\n",
        "        print(f\"Plan {plan_number} execution failed for Pipes Beta.\\n\")\n",
        "else:\n",
        "    print(\"Pipes Beta.p06.hdf already exists. Skipping project extraction and plan execution.\")\n",
        "    # Initialize the RAS project using the ras.\n",
        "    init_ras_project(pipes_ex_path, \"6.6\")\n",
        "    plan_number = \"02\""
      ]
    },
    {
      "cell_type": "markdown",
      "metadata": {},
      "source": [
        "###  OPTIONAL: Use your own project instead\n",
        "\n",
        "your_project_path = Path(r\"D:\\yourprojectpath\")\n",
        "\n",
        "init_ras_project(your_project_path, \"6.6\")\n",
        "plan_number = \"01\"  # Plan number to use for this notebook \n",
        "\n",
        "\n",
        "\n",
        "### If you use this code cell, don't run the previous cell or change to markdown\n",
        "### NOTE: Ensure the HDF Results file was generated by HEC-RAS Version 6.x or above"
      ]
    },
    {
      "cell_type": "code",
      "execution_count": null,
      "metadata": {},
      "outputs": [],
      "source": []
    },
    {
      "cell_type": "code",
      "execution_count": null,
      "metadata": {},
      "outputs": [],
      "source": [
        "\n"
      ]
    },
    {
      "cell_type": "markdown",
      "metadata": {},
      "source": [
        "# Explore Project Dataframes using 'ras' Object"
      ]
    },
    {
      "cell_type": "code",
      "execution_count": 5,
      "metadata": {},
      "outputs": [
        {
          "name": "stdout",
          "output_type": "stream",
          "text": [
            "Plan DataFrame for the project:\n"
          ]
        },
        {
          "data": {
            "text/html": "<div>\n<style scoped>\\n', '    .dataframe tbody tr th:only-of-type {\\n', '        vertical-align: middle;\\n', '    }\\n', '\\n', '    .dataframe tbody tr th {\\n', '        vertical-align: top;\\n', '    }\\n', '\\n', '    .dataframe thead th {\\n', '        text-align: right;\\n', '    }\\n', '</style>\n<table border=\"1\" class=\"dataframe\">\n  <thead>\\n', '    <tr style=\"text-align: right;\">\\n', '      <th></th>\\n', '      <th>plan_number</th>\\n', '      <th>unsteady_number</th>\\n', '      <th>geometry_number</th>\\n', '      <th>Plan Title</th>\\n', '      <th>Program Version</th>\\n', '      <th>Short Identifier</th>\\n', '      <th>Simulation Date</th>\\n', '      <th>Computation Interval</th>\\n', '      <th>Mapping Interval</th>\\n', '      <th>Run HTab</th>\\n', '      <th>...</th>\\n', '      <th>DSS File</th>\\n', '      <th>Friction Slope Method</th>\\n', '      <th>UNET D2 SolverType</th>\\n', '      <th>UNET D2 Name</th>\\n', '      <th>HDF_Results_Path</th>\\n', '      <th>Geom File</th>\\n', '      <th>Geom Path</th>\\n', '      <th>Flow File</th>\\n', '      <th>Flow Path</th>\\n', '      <th>full_path</th>\\n', '    </tr>\\n', '  </thead>\n  <tbody>\n    <tr>\\n', '      <th>0</th>\\n', '      <td>02</td>\\n', '      <td>01</td>\\n', '      <td>02</td>\\n', '      <td>Full System ROM with Pump</td>\\n', '      <td>6.60</td>\\n', '      <td>Full System ROM with Pump</td>\\n', '      <td>10JAN2000,1200,11JAN2000,2400</td>\\n', '      <td>12SEC</td>\\n', '      <td>10MIN</td>\\n', '      <td>1</td>\\n', '      <td>...</td>\\n', '      <td>dss</td>\\n', '      <td>1</td>\\n', '      <td>PARDISO (Direct)</td>\\n', '      <td>area2</td>\\n', '      <td>c:\\\\GH\\\\ras-commander\\\\examples\\\\example_projects\\\\...</td>\\n', '      <td>02</td>\\n', '      <td>c:\\\\GH\\\\ras-commander\\\\examples\\\\example_projects\\\\...</td>\\n', '      <td>01</td>\\n', '      <td>c:\\\\GH\\\\ras-commander\\\\examples\\\\example_projects\\\\...</td>\\n', '      <td>c:\\\\GH\\\\ras-commander\\\\examples\\\\example_projects\\\\...</td>\\n', '    </tr>\n    <tr><td colspan=\"100%\" style=\"text-align:center\">[... additional rows truncated ...]</td></tr>\n  </tbody>\n</table>\n</div>",
            "text/plain": "['  plan_number unsteady_number geometry_number                 Plan Title  \\\\\\n', '0          02              01              02  Full System ROM with Pump   \\n', '\\n', '  Program Version           Short Identifier                Simulation Date  \\\\\\n', '0            6.60  Full System ROM with Pump  10JAN2000,1200,11JAN2000,2400   \\n', '\\n', '  Computation Interval Mapping Interval Run HTab  ... DSS File  \\\\\\n', '0                12SEC            10MIN        1  ...      dss   \\n', '\\n', '  Friction Slope Method UNET D2 SolverType UNET D2 Name  \\\\\\n', '0                     1   PARDISO (Direct)        area2   \\n', '\\n', '                                    HDF_Results_Path Geom File  \\\\\\n', '0  c:\\\\GH\\\\ras-commander\\\\examples\\\\example_projects\\\\...        02   \\n', '\\n', '                                           Geom Path  Flow File  \\\\\\n', '0  c:\\\\GH\\\\ras-commander\\\\examples\\\\example_projects\\\\...         01   \\n', '\\n', '                                           Flow Path  \\\\\\n', '0  c:\\\\GH\\\\ras-commander\\\\examples\\\\example_projects\\\\...   \\n', '\\n', '                                           full_path  \\n', '0  c:\\\\GH\\\\ras-commander\\\\examples\\\\example_projects\\\\...  \\n', '\\n', '[1 rows x 29 columns]']"
          },
          "execution_count": 5,
          "metadata": {},
          "output_type": "execute_result"
        }
      ],
      "source": [
        "print(\"Plan DataFrame for the project:\")\n",
        "ras.plan_df"
      ]
    },
    {
      "cell_type": "code",
      "execution_count": 6,
      "metadata": {},
      "outputs": [
        {
          "name": "stdout",
          "output_type": "stream",
          "text": [
            "\n",
            "Unsteady DataFrame for the project:\n"
          ]
        },
        {
          "data": {
            "text/html": "<div>\n<style scoped>\\n', '    .dataframe tbody tr th:only-of-type {\\n', '        vertical-align: middle;\\n', '    }\\n', '\\n', '    .dataframe tbody tr th {\\n', '        vertical-align: top;\\n', '    }\\n', '\\n', '    .dataframe thead th {\\n', '        text-align: right;\\n', '    }\\n', '</style>\n<table border=\"1\" class=\"dataframe\">\n  <thead>\\n', '    <tr style=\"text-align: right;\">\\n', '      <th></th>\\n', '      <th>unsteady_number</th>\\n', '      <th>full_path</th>\\n', '      <th>geometry_number</th>\\n', '      <th>Flow Title</th>\\n', '      <th>Program Version</th>\\n', '      <th>Use Restart</th>\\n', '      <th>Precipitation Mode</th>\\n', '      <th>Wind Mode</th>\\n', '      <th>Met BC=Precipitation|Mode</th>\\n', '      <th>Met BC=Evapotranspiration|Mode</th>\\n', '      <th>Met BC=Precipitation|Expanded View</th>\\n', '      <th>Met BC=Precipitation|Constant Units</th>\\n', '      <th>Met BC=Precipitation|Gridded Source</th>\\n', '    </tr>\\n', '  </thead>\n  <tbody>\n    <tr>\\n', '      <th>0</th>\\n', '      <td>01</td>\\n', '      <td>c:\\\\GH\\\\ras-commander\\\\examples\\\\example_projects\\\\...</td>\\n', '      <td>None</td>\\n', '      <td>Full System Rain w/ Pump</td>\\n', '      <td>6.60</td>\\n', '      <td>0</td>\\n', '      <td>Disable</td>\\n', '      <td>No Wind Forces</td>\\n', '      <td>Constant</td>\\n', '      <td>None</td>\\n', '      <td>-1</td>\\n', '      <td>in/hr</td>\\n', '      <td>DSS</td>\\n', '    </tr>\n    <tr><td colspan=\"100%\" style=\"text-align:center\">[... additional rows truncated ...]</td></tr>\n  </tbody>\n</table>\n</div>",
            "text/plain": "['  unsteady_number                                          full_path  \\\\\\n', '0              01  c:\\\\GH\\\\ras-commander\\\\examples\\\\example_projects\\\\...   \\n', '\\n', '  geometry_number                Flow Title Program Version Use Restart  \\\\\\n', '0            None  Full System Rain w/ Pump            6.60           0   \\n', '\\n', '  Precipitation Mode       Wind Mode Met BC=Precipitation|Mode  \\\\\\n', '0            Disable  No Wind Forces                  Constant   \\n', '\\n', '  Met BC=Evapotranspiration|Mode Met BC=Precipitation|Expanded View  \\\\\\n', '0                           None                                 -1   \\n', '\\n', '  Met BC=Precipitation|Constant Units Met BC=Precipitation|Gridded Source  \\n', '0                               in/hr                                 DSS  ']"
          },
          "execution_count": 6,
          "metadata": {},
          "output_type": "execute_result"
        }
      ],
      "source": [
        "print(\"\\nUnsteady DataFrame for the project:\")\n",
        "ras.unsteady_df"
      ]
    },
    {
      "cell_type": "code",
      "execution_count": 7,
      "metadata": {},
      "outputs": [
        {
          "name": "stdout",
          "output_type": "stream",
          "text": [
            "\n",
            "Boundary Conditions DataFrame for the project:\n"
          ]
        },
        {
          "data": {
            "text/html": "<div>\n<style scoped>\\n', '    .dataframe tbody tr th:only-of-type {\\n', '        vertical-align: middle;\\n', '    }\\n', '\\n', '    .dataframe tbody tr th {\\n', '        vertical-align: top;\\n', '    }\\n', '\\n', '    .dataframe thead th {\\n', '        text-align: right;\\n', '    }\\n', '</style>\n<table border=\"1\" class=\"dataframe\">\n  <thead>\\n', '    <tr style=\"text-align: right;\">\\n', '      <th></th>\\n', '      <th>unsteady_number</th>\\n', '      <th>boundary_condition_number</th>\\n', '      <th>river_reach_name</th>\\n', '      <th>river_station</th>\\n', '      <th>storage_area_name</th>\\n', '      <th>pump_station_name</th>\\n', '      <th>bc_type</th>\\n', '      <th>hydrograph_type</th>\\n', '      <th>hydrograph_num_values</th>\\n', '      <th>Interval</th>\\n', '      <th>...</th>\\n', '      <th>Flow Title</th>\\n', '      <th>Program Version</th>\\n', '      <th>Use Restart</th>\\n', '      <th>Precipitation Mode</th>\\n', '      <th>Wind Mode</th>\\n', '      <th>Met BC=Precipitation|Mode</th>\\n', '      <th>Met BC=Evapotranspiration|Mode</th>\\n', '      <th>Met BC=Precipitation|Expanded View</th>\\n', '      <th>Met BC=Precipitation|Constant Units</th>\\n', '      <th>Met BC=Precipitation|Gridded Source</th>\\n', '    </tr>\\n', '  </thead>\n  <tbody>\n    <tr>\\n', '      <th>0</th>\\n', '      <td>01</td>\\n', '      <td>1</td>\\n', '      <td></td>\\n', '      <td></td>\\n', '      <td></td>\\n', '      <td></td>\\n', '      <td>Normal Depth</td>\\n', '      <td>None</td>\\n', '      <td>0</td>\\n', '      <td>NaN</td>\\n', '      <td>...</td>\\n', '      <td>Full System Rain w/ Pump</td>\\n', '      <td>6.60</td>\\n', '      <td>0</td>\\n', '      <td>Disable</td>\\n', '      <td>No Wind Forces</td>\\n', '      <td>Constant</td>\\n', '      <td>None</td>\\n', '      <td>-1</td>\\n', '      <td>in/hr</td>\\n', '      <td>DSS</td>\\n', '    </tr><tr>\\n', '      <th>1</th>\\n', '      <td>01</td>\\n', '      <td>2</td>\\n', '      <td></td>\\n', '      <td></td>\\n', '      <td></td>\\n', '      <td></td>\\n', '      <td>Unknown</td>\\n', '      <td>None</td>\\n', '      <td>0</td>\\n', '      <td>1HOUR</td>\\n', '      <td>...</td>\\n', '      <td>Full System Rain w/ Pump</td>\\n', '      <td>6.60</td>\\n', '      <td>0</td>\\n', '      <td>Disable</td>\\n', '      <td>No Wind Forces</td>\\n', '      <td>Constant</td>\\n', '      <td>None</td>\\n', '      <td>-1</td>\\n', '      <td>in/hr</td>\\n', '      <td>DSS</td>\\n', '    </tr>\n    <tr><td colspan=\"100%\" style=\"text-align:center\">[... additional rows truncated ...]</td></tr>\n  </tbody>\n</table>\n</div>",
            "text/plain": "['  unsteady_number  boundary_condition_number river_reach_name river_station  \\\\\\n', '0              01                          1                                  \\n', '1              01                          2                                  \\n', '\\n', '  storage_area_name pump_station_name       bc_type hydrograph_type  \\\\\\n', '0                                      Normal Depth            None   \\n', '1                                           Unknown            None   \\n', '\\n', '   hydrograph_num_values Interval  ...                Flow Title  \\\\\\n', '0                      0      NaN  ...  Full System Rain w/ Pump   \\n', '1                      0    1HOUR  ...  Full System Rain w/ Pump   \\n', '\\n', '  Program Version Use Restart Precipitation Mode       Wind Mode  \\\\\\n', '0            6.60           0            Disable  No Wind Forces   \\n', '1            6.60           0            Disable  No Wind Forces   \\n', '\\n', '  Met BC=Precipitation|Mode Met BC=Evapotranspiration|Mode  \\\\\\n', '0                  Constant                           None   \\n', '1                  Constant                           None   \\n', '\\n', '  Met BC=Precipitation|Expanded View Met BC=Precipitation|Constant Units  \\\\\\n', '0                                 -1                               in/hr   \\n', '1                                 -1                               in/hr   \\n', '\\n', '  Met BC=Precipitation|Gridded Source  \\n', '0                                 DSS  \\n', '1                                 DSS  \\n', '\\n', '[2 rows x 28 columns]']"
          },
          "execution_count": 7,
          "metadata": {},
          "output_type": "execute_result"
        }
      ],
      "source": [
        "print(\"\\nBoundary Conditions DataFrame for the project:\")\n",
        "ras.boundaries_df "
      ]
    },
    {
      "cell_type": "code",
      "execution_count": 8,
      "metadata": {},
      "outputs": [
        {
          "data": {
            "text/html": "<div>\n<style scoped>\\n', '    .dataframe tbody tr th:only-of-type {\\n', '        vertical-align: middle;\\n', '    }\\n', '\\n', '    .dataframe tbody tr th {\\n', '        vertical-align: top;\\n', '    }\\n', '\\n', '    .dataframe thead th {\\n', '        text-align: right;\\n', '    }\\n', '</style>\n<table border=\"1\" class=\"dataframe\">\n  <thead>\\n', '    <tr style=\"text-align: right;\">\\n', '      <th></th>\\n', '      <th>plan_number</th>\\n', '      <th>unsteady_number</th>\\n', '      <th>geometry_number</th>\\n', '      <th>Plan Title</th>\\n', '      <th>Program Version</th>\\n', '      <th>Short Identifier</th>\\n', '      <th>Simulation Date</th>\\n', '      <th>Computation Interval</th>\\n', '      <th>Mapping Interval</th>\\n', '      <th>Run HTab</th>\\n', '      <th>...</th>\\n', '      <th>DSS File</th>\\n', '      <th>Friction Slope Method</th>\\n', '      <th>UNET D2 SolverType</th>\\n', '      <th>UNET D2 Name</th>\\n', '      <th>HDF_Results_Path</th>\\n', '      <th>Geom File</th>\\n', '      <th>Geom Path</th>\\n', '      <th>Flow File</th>\\n', '      <th>Flow Path</th>\\n', '      <th>full_path</th>\\n', '    </tr>\\n', '  </thead>\n  <tbody>\n    <tr>\\n', '      <th>0</th>\\n', '      <td>02</td>\\n', '      <td>01</td>\\n', '      <td>02</td>\\n', '      <td>Full System ROM with Pump</td>\\n', '      <td>6.60</td>\\n', '      <td>Full System ROM with Pump</td>\\n', '      <td>10JAN2000,1200,11JAN2000,2400</td>\\n', '      <td>12SEC</td>\\n', '      <td>10MIN</td>\\n', '      <td>1</td>\\n', '      <td>...</td>\\n', '      <td>dss</td>\\n', '      <td>1</td>\\n', '      <td>PARDISO (Direct)</td>\\n', '      <td>area2</td>\\n', '      <td>c:\\\\GH\\\\ras-commander\\\\examples\\\\example_projects\\\\...</td>\\n', '      <td>02</td>\\n', '      <td>c:\\\\GH\\\\ras-commander\\\\examples\\\\example_projects\\\\...</td>\\n', '      <td>01</td>\\n', '      <td>c:\\\\GH\\\\ras-commander\\\\examples\\\\example_projects\\\\...</td>\\n', '      <td>c:\\\\GH\\\\ras-commander\\\\examples\\\\example_projects\\\\...</td>\\n', '    </tr>\n    <tr><td colspan=\"100%\" style=\"text-align:center\">[... additional rows truncated ...]</td></tr>\n  </tbody>\n</table>\n</div>",
            "text/plain": "['  plan_number unsteady_number geometry_number                 Plan Title  \\\\\\n', '0          02              01              02  Full System ROM with Pump   \\n', '\\n', '  Program Version           Short Identifier                Simulation Date  \\\\\\n', '0            6.60  Full System ROM with Pump  10JAN2000,1200,11JAN2000,2400   \\n', '\\n', '  Computation Interval Mapping Interval Run HTab  ... DSS File  \\\\\\n', '0                12SEC            10MIN        1  ...      dss   \\n', '\\n', '  Friction Slope Method UNET D2 SolverType UNET D2 Name  \\\\\\n', '0                     1   PARDISO (Direct)        area2   \\n', '\\n', '                                    HDF_Results_Path Geom File  \\\\\\n', '0  c:\\\\GH\\\\ras-commander\\\\examples\\\\example_projects\\\\...        02   \\n', '\\n', '                                           Geom Path  Flow File  \\\\\\n', '0  c:\\\\GH\\\\ras-commander\\\\examples\\\\example_projects\\\\...         01   \\n', '\\n', '                                           Flow Path  \\\\\\n', '0  c:\\\\GH\\\\ras-commander\\\\examples\\\\example_projects\\\\...   \\n', '\\n', '                                           full_path  \\n', '0  c:\\\\GH\\\\ras-commander\\\\examples\\\\example_projects\\\\...  \\n', '\\n', '[1 rows x 29 columns]']"
          },
          "execution_count": 8,
          "metadata": {},
          "output_type": "execute_result"
        }
      ],
      "source": [
        "# Get HDF Results Entries (only present when results are present)\n",
        "ras.get_hdf_entries()"
      ]
    },
    {
      "cell_type": "markdown",
      "metadata": {},
      "source": [
        "# Find Paths for Results and Geometry HDF's"
      ]
    },
    {
      "cell_type": "code",
      "execution_count": 9,
      "metadata": {},
      "outputs": [],
      "source": [
        "# Get the plan HDF path for the plan_number defined above\n",
        "plan_hdf_path = ras.plan_df.loc[ras.plan_df['plan_number'] == plan_number, 'HDF_Results_Path'].values[0]"
      ]
    },
    {
      "cell_type": "code",
      "execution_count": 10,
      "metadata": {},
      "outputs": [
        {
          "data": {
            "text/plain": "[\"'c:\\\\\\\\GH\\\\\\\\ras-commander\\\\\\\\examples\\\\\\\\example_projects\\\\\\\\Davis\\\\\\\\DavisStormSystem.p02.hdf'\"]"
          },
          "execution_count": 10,
          "metadata": {},
          "output_type": "execute_result"
        }
      ],
      "source": [
        "plan_hdf_path"
      ]
    },
    {
      "cell_type": "code",
      "execution_count": 11,
      "metadata": {},
      "outputs": [],
      "source": [
        "# Alternate: Get the geometry HDF path if you are extracting geometry elements from the geometry HDF\n",
        "geom_hdf_path = ras.plan_df.loc[ras.plan_df['plan_number'] == plan_number, 'Geom Path'].values[0] + '.hdf'"
      ]
    },
    {
      "cell_type": "code",
      "execution_count": 12,
      "metadata": {},
      "outputs": [
        {
          "data": {
            "text/plain": "[\"'c:\\\\\\\\GH\\\\\\\\ras-commander\\\\\\\\examples\\\\\\\\example_projects\\\\\\\\Davis\\\\\\\\DavisStormSystem.g02.hdf'\"]"
          },
          "execution_count": 12,
          "metadata": {},
          "output_type": "execute_result"
        }
      ],
      "source": [
        "geom_hdf_path"
      ]
    },
    {
      "cell_type": "code",
      "execution_count": 13,
      "metadata": {},
      "outputs": [
        {
          "name": "stderr",
          "output_type": "stream",
          "text": [
            "2025-03-20 12:03:49 - ras_commander.HdfResultsPlan - INFO - Final validated HDF file path: c:\\GH\\ras-commander\\examples\\example_projects\\Davis\\DavisStormSystem.p02.hdf\n"
          ]
        },
        {
          "name": "stdout",
          "output_type": "stream",
          "text": [
            "\n",
            "Extracting runtime and compute time data\n"
          ]
        },
        {
          "name": "stderr",
          "output_type": "stream",
          "text": [
            "2025-03-20 12:03:49 - ras_commander.HdfResultsPlan - INFO - Extracting Plan Information from: DavisStormSystem.p02.hdf\n",
            "2025-03-20 12:03:49 - ras_commander.HdfResultsPlan - INFO - Plan Name: Full System ROM with Pump\n",
            "2025-03-20 12:03:49 - ras_commander.HdfResultsPlan - INFO - Simulation Duration (hours): 36.0\n"
          ]
        },
        {
          "data": {
            "text/html": "<div>\n<style scoped>\\n', '    .dataframe tbody tr th:only-of-type {\\n', '        vertical-align: middle;\\n', '    }\\n', '\\n', '    .dataframe tbody tr th {\\n', '        vertical-align: top;\\n', '    }\\n', '\\n', '    .dataframe thead th {\\n', '        text-align: right;\\n', '    }\\n', '</style>\n<table border=\"1\" class=\"dataframe\">\n  <thead>\\n', '    <tr style=\"text-align: right;\">\\n', '      <th></th>\\n', '      <th>Plan Name</th>\\n', '      <th>File Name</th>\\n', '      <th>Simulation Start Time</th>\\n', '      <th>Simulation End Time</th>\\n', '      <th>Simulation Duration (s)</th>\\n', '      <th>Simulation Time (hr)</th>\\n', '      <th>Completing Geometry (hr)</th>\\n', '      <th>Preprocessing Geometry (hr)</th>\\n', '      <th>Completing Event Conditions (hr)</th>\\n', '      <th>Unsteady Flow Computations (hr)</th>\\n', '      <th>Complete Process (hr)</th>\\n', '      <th>Unsteady Flow Speed (hr/hr)</th>\\n', '      <th>Complete Process Speed (hr/hr)</th>\\n', '    </tr>\\n', '  </thead>\n  <tbody>\n    <tr>\\n', '      <th>0</th>\\n', '      <td>Full System ROM with Pump</td>\\n', '      <td>DavisStormSystem.p02.hdf</td>\\n', '      <td>2000-01-10 12:00:00</td>\\n', '      <td>2000-01-12</td>\\n', '      <td>129600.0</td>\\n', '      <td>36.0</td>\\n', '      <td>N/A</td>\\n', '      <td>0.000026</td>\\n', '      <td>N/A</td>\\n', '      <td>0.020581</td>\\n', '      <td>0.021966</td>\\n', '      <td>1749.153091</td>\\n', '      <td>1638.908912</td>\\n', '    </tr>\n    <tr><td colspan=\"100%\" style=\"text-align:center\">[... additional rows truncated ...]</td></tr>\n  </tbody>\n</table>\n</div>",
            "text/plain": "['                   Plan Name                 File Name Simulation Start Time  \\\\\\n', '0  Full System ROM with Pump  DavisStormSystem.p02.hdf   2000-01-10 12:00:00   \\n', '\\n', '  Simulation End Time  Simulation Duration (s)  Simulation Time (hr)  \\\\\\n', '0          2000-01-12                 129600.0                  36.0   \\n', '\\n', '  Completing Geometry (hr)  Preprocessing Geometry (hr)  \\\\\\n', '0                      N/A                     0.000026   \\n', '\\n', '  Completing Event Conditions (hr)  Unsteady Flow Computations (hr)  \\\\\\n', '0                              N/A                         0.020581   \\n', '\\n', '   Complete Process (hr)  Unsteady Flow Speed (hr/hr)  \\\\\\n', '0               0.021966                  1749.153091   \\n', '\\n', '   Complete Process Speed (hr/hr)  \\n', '0                     1638.908912  ']"
          },
          "execution_count": 13,
          "metadata": {},
          "output_type": "execute_result"
        }
      ],
      "source": [
        "# Extract runtime and compute time data\n",
        "print(\"\\nExtracting runtime and compute time data\")\n",
        "runtime_df = HdfResultsPlan.get_runtime_data(hdf_path=plan_number)\n",
        "runtime_df"
      ]
    },
    {
      "cell_type": "markdown",
      "metadata": {},
      "source": [
        "-----"
      ]
    },
    {
      "cell_type": "markdown",
      "metadata": {},
      "source": [
        "# 2D Models with Pipe Networks: HDF Data Extraction Examples"
      ]
    },
    {
      "cell_type": "code",
      "execution_count": 14,
      "metadata": {},
      "outputs": [
        {
          "name": "stderr",
          "output_type": "stream",
          "text": [
            "2025-03-20 12:03:49 - ras_commander.HdfPipe - INFO - Final validated HDF file path: c:\\GH\\ras-commander\\examples\\example_projects\\Davis\\DavisStormSystem.p02.hdf\n"
          ]
        },
        {
          "name": "stdout",
          "output_type": "stream",
          "text": [
            "\n",
            "Pipe Conduits: pipe_conduits_gdf\n"
          ]
        },
        {
          "data": {
            "text/html": "<div>\n<style scoped>\\n', '    .dataframe tbody tr th:only-of-type {\\n', '        vertical-align: middle;\\n', '    }\\n', '\\n', '    .dataframe tbody tr th {\\n', '        vertical-align: top;\\n', '    }\\n', '\\n', '    .dataframe thead th {\\n', '        text-align: right;\\n', '    }\\n', '</style>\n<table border=\"1\" class=\"dataframe\">\n  <thead>\\n', '    <tr style=\"text-align: right;\">\\n', '      <th></th>\\n', '      <th>Name</th>\\n', '      <th>System Name</th>\\n', '      <th>US Node</th>\\n', '      <th>DS Node</th>\\n', '      <th>Modeling Approach</th>\\n', '      <th>Conduit Length</th>\\n', '      <th>Max Cell Length</th>\\n', '      <th>Shape</th>\\n', '      <th>Rise</th>\\n', '      <th>Span</th>\\n', '      <th>...</th>\\n', '      <th>Slope</th>\\n', '      <th>US Entrance Loss Coefficient</th>\\n', '      <th>DS Exit Loss Coefficient</th>\\n', '      <th>US Backflow Loss Coefficient</th>\\n', '      <th>DS Backflow Loss Coefficient</th>\\n', '      <th>DS Flap Gate</th>\\n', '      <th>Major Group</th>\\n', '      <th>Minor Group</th>\\n', '      <th>Polyline</th>\\n', '      <th>Terrain_Profiles</th>\\n', '    </tr>\\n', '  </thead>\n  <tbody>\n    <tr>\\n', '      <th>0</th>\\n', '      <td>134</td>\\n', '      <td>Davis</td>\\n', '      <td>O13-DMH007</td>\\n', '      <td>O13-DMH006</td>\\n', '      <td>hydraulic</td>\\n', '      <td>443.740020</td>\\n', '      <td>40.0</td>\\n', '      <td>circular</td>\\n', '      <td>6.00</td>\\n', '      <td>6.00</td>\\n', '      <td>...</td>\\n', '      <td>0.002723</td>\\n', '      <td>0.2</td>\\n', '      <td>0.4</td>\\n', '      <td>0.2</td>\\n', '      <td>0.4</td>\\n', '      <td>0</td>\\n', '      <td>Major Group 2</td>\\n', '      <td></td>\\n', '      <td>LINESTRING (6635295.441 1965214.2465, 6635196....</td>\\n', '      <td>[(0.0, 40.819695), (21.217846, 40.642994), (35...</td>\\n', '    </tr><tr>\\n', '      <th>1</th>\\n', '      <td>133</td>\\n', '      <td>Davis</td>\\n', '      <td>O13-DMH024</td>\\n', '      <td>O13-DMH009</td>\\n', '      <td>hydraulic</td>\\n', '      <td>800.000024</td>\\n', '      <td>40.0</td>\\n', '      <td>circular</td>\\n', '      <td>6.00</td>\\n', '      <td>6.00</td>\\n', '      <td>...</td>\\n', '      <td>0.001904</td>\\n', '      <td>0.2</td>\\n', '      <td>0.4</td>\\n', '      <td>0.2</td>\\n', '      <td>0.4</td>\\n', '      <td>0</td>\\n', '      <td>Major Group 2</td>\\n', '      <td></td>\\n', '      <td>LINESTRING (6635597.5485 1964008.2795, 6635403...</td>\\n', '      <td>[(0.0, 40.530186), (21.1467, 40.44057), (50.88...</td>\\n', '    </tr><tr>\\n', '      <th>2</th>\\n', '      <td>132</td>\\n', '      <td>Davis</td>\\n', '      <td>O13-DMH006</td>\\n', '      <td>O13-SDS03</td>\\n', '      <td>hydraulic</td>\\n', '      <td>443.740070</td>\\n', '      <td>40.0</td>\\n', '      <td>circular</td>\\n', '      <td>6.00</td>\\n', '      <td>6.00</td>\\n', '      <td>...</td>\\n', '      <td>0.002816</td>\\n', '      <td>0.2</td>\\n', '      <td>0.4</td>\\n', '      <td>0.2</td>\\n', '      <td>0.4</td>\\n', '      <td>0</td>\\n', '      <td>Major Group 2</td>\\n', '      <td></td>\\n', '      <td>LINESTRING (6635196.5532 1965646.8276, 6635131...</td>\\n', '      <td>[(0.0, 41.700996), (26.817467, 41.552666), (83...</td>\\n', '    </tr><tr>\\n', '      <th>3</th>\\n', '      <td>131</td>\\n', '      <td>Davis</td>\\n', '      <td>N13-DMH022</td>\\n', '      <td>O13-SDS03</td>\\n', '      <td>hydraulic</td>\\n', '      <td>982.809915</td>\\n', '      <td>40.0</td>\\n', '      <td>circular</td>\\n', '      <td>6.00</td>\\n', '      <td>6.00</td>\\n', '      <td>...</td>\\n', '      <td>0.002059</td>\\n', '      <td>0.2</td>\\n', '      <td>0.4</td>\\n', '      <td>0.2</td>\\n', '      <td>0.4</td>\\n', '      <td>0</td>\\n', '      <td>Major Group</td>\\n', '      <td></td>\\n', '      <td>LINESTRING (6634067.2602 1966167.7235, 6634761...</td>\\n', '      <td>[(0.0, 43.376995), (17.315952, 43.37471), (42....</td>\\n', '    </tr><tr>\\n', '      <th>4</th>\\n', '      <td>130</td>\\n', '      <td>Davis</td>\\n', '      <td>O13-DMH009</td>\\n', '      <td>O13-DMH007</td>\\n', '      <td>hydraulic</td>\\n', '      <td>443.231808</td>\\n', '      <td>40.0</td>\\n', '      <td>circular</td>\\n', '      <td>6.00</td>\\n', '      <td>6.00</td>\\n', '      <td>...</td>\\n', '      <td>0.000871</td>\\n', '      <td>0.2</td>\\n', '      <td>0.4</td>\\n', '      <td>0.2</td>\\n', '      <td>0.4</td>\\n', '      <td>0</td>\\n', '      <td>Major Group 2</td>\\n', '      <td></td>\\n', '      <td>LINESTRING (6635403.0525 1964784.2765, 6635295...</td>\\n', '      <td>[(0.0, 40.699738), (84.2007, 40.623585), (113....</td>\\n', '    </tr>\n    <tr><td colspan=\"100%\" style=\"text-align:center\">[... additional rows truncated ...]</td></tr>\n  </tbody>\n</table>\n</div>",
            "text/plain": "['    Name System Name     US Node     DS Node Modeling Approach  \\\\\\n', '0    134       Davis  O13-DMH007  O13-DMH006         hydraulic   \\n', '1    133       Davis  O13-DMH024  O13-DMH009         hydraulic   \\n', '2    132       Davis  O13-DMH006   O13-SDS03         hydraulic   \\n', '3    131       Davis  N13-DMH022   O13-SDS03         hydraulic   \\n', '4    130       Davis  O13-DMH009  O13-DMH007         hydraulic   \\n', '..   ...         ...         ...         ...               ...   \\n', '127    5       Davis   P13-DI019  P13-DMH014         hydraulic   \\n', '128    4       Davis   O14-DI083   O14-DI081         hydraulic   \\n', '129    3       Davis   P12-DI011  P12-DMH005         hydraulic   \\n', '130    2       Davis   P12-DI012   P12-DI011         hydraulic   \\n', '131    1       Davis   P12-DI041   P12-DI042         hydraulic   \\n', '\\n', '     Conduit Length  Max Cell Length     Shape  Rise  Span  ...     Slope  \\\\\\n', '0        443.740020             40.0  circular  6.00  6.\n...\n[Output truncated, 5739 characters total]"
          },
          "execution_count": 14,
          "metadata": {},
          "output_type": "execute_result"
        }
      ],
      "source": [
        "# Get pipe conduits\n",
        "pipe_conduits_gdf = HdfPipe.get_pipe_conduits(\"02\") # NOTE: Here we use the plan number instead of the path variable.  The library decorators ensure this maps correctly.  \n",
        "print(\"\\nPipe Conduits: pipe_conduits_gdf\")\n",
        "pipe_conduits_gdf"
      ]
    },
    {
      "cell_type": "code",
      "execution_count": 15,
      "metadata": {},
      "outputs": [
        {
          "data": {
            "text/plain": [
              "<Figure size 1200x900 with 1 Axes>"
            ]
          },
          "metadata": {},
          "output_type": "display_data"
        }
      ],
      "source": [
        "# Plot the pipe conduit linestrings\n",
        "import matplotlib.pyplot as plt\n",
        "\n",
        "# Create a new figure with a specified size\n",
        "plt.figure(figsize=(12, 9))\n",
        "\n",
        "# Plot each linestring from the GeoDataFrame\n",
        "for idx, row in pipe_conduits_gdf.iterrows():\n",
        "    # Extract coordinates from the linestring\n",
        "    x_coords, y_coords = row['Polyline'].xy\n",
        "    \n",
        "    # Plot the linestring\n",
        "    plt.plot(x_coords, y_coords, 'b-', linewidth=1, alpha=0.7)\n",
        "    \n",
        "    # Add vertical line markers at endpoints\n",
        "    plt.plot([x_coords[0]], [y_coords[0]], 'x', color='black', markersize=4)\n",
        "    plt.plot([x_coords[-1]], [y_coords[-1]], 'x', color='black', markersize=4)\n",
        "    \n",
        "    # Calculate center point of the line\n",
        "    center_x = (x_coords[0] + x_coords[-1]) / 2\n",
        "    center_y = (y_coords[0] + y_coords[-1]) / 2\n",
        "    \n",
        "    # Add pipe name label at center, oriented top-right\n",
        "    plt.text(center_x, center_y, f'{row[\"Name\"]}', fontsize=8, \n",
        "             verticalalignment='bottom', horizontalalignment='left',\n",
        "             rotation=45)  # 45 degree angle for top-right orientation\n",
        "\n",
        "# Add title and labels\n",
        "plt.title('Pipe Conduit Network Layout')\n",
        "plt.xlabel('Easting')\n",
        "plt.ylabel('Northing')\n",
        "\n",
        "# Add grid\n",
        "plt.grid(True, linestyle='--', alpha=0.6)\n",
        "\n",
        "# Adjust layout to prevent label clipping\n",
        "plt.tight_layout()\n",
        "\n",
        "# Display the plot\n",
        "plt.show()\n"
      ]
    },
    {
      "cell_type": "code",
      "execution_count": 16,
      "metadata": {},
      "outputs": [
        {
          "data": {
            "text/plain": [
              "<Figure size 1200x600 with 1 Axes>"
            ]
          },
          "metadata": {},
          "output_type": "display_data"
        },
        {
          "data": {
            "text/plain": [
              "<Figure size 1200x600 with 1 Axes>"
            ]
          },
          "metadata": {},
          "output_type": "display_data"
        }
      ],
      "source": [
        "# Plot the first 2 terrain profiles\n",
        "import matplotlib.pyplot as plt\n",
        "\n",
        "# Extract terrain profiles from the GeoDataFrame\n",
        "terrain_profiles = pipe_conduits_gdf['Terrain_Profiles'].tolist()\n",
        "\n",
        "# Create separate plots for the first 2 terrain profiles\n",
        "for i in range(2):\n",
        "    profile = terrain_profiles[i]\n",
        "    \n",
        "    # Unzip the profile into x and y coordinates\n",
        "    x_coords, y_coords = zip(*profile)\n",
        "    \n",
        "    # Create a new figure for each profile\n",
        "    plt.figure(figsize=(12, 6))\n",
        "    plt.plot(x_coords, y_coords, marker='o', linestyle='-', color='g', alpha=0.7)\n",
        "    \n",
        "    # Add title and labels\n",
        "    plt.title(f'Terrain Profile {i + 1}')\n",
        "    plt.xlabel('Distance along profile (m)')\n",
        "    plt.ylabel('Elevation (m)')\n",
        "    \n",
        "    # Add grid\n",
        "    plt.grid(True, linestyle='--', alpha=0.6)\n",
        "    \n",
        "    # Adjust layout to prevent label clipping\n",
        "    plt.tight_layout()\n",
        "    \n",
        "    # Display the plot\n",
        "    plt.show()\n"
      ]
    },
    {
      "cell_type": "code",
      "execution_count": 17,
      "metadata": {},
      "outputs": [],
      "source": [
        "# Use get_hdf5_dataset_info function to get Pipe Conduits data:\n",
        "#HdfUtils.get_hdf5_dataset_info(plan_hdf_path, \"/Geometry/Pipe Nodes/\")"
      ]
    },
    {
      "cell_type": "code",
      "execution_count": 18,
      "metadata": {},
      "outputs": [
        {
          "name": "stderr",
          "output_type": "stream",
          "text": [
            "2025-03-20 12:03:51 - ras_commander.HdfPipe - INFO - Using HDF file from direct string path: c:\\GH\\ras-commander\\examples\\example_projects\\Davis\\DavisStormSystem.p02.hdf\n",
            "2025-03-20 12:03:51 - ras_commander.HdfPipe - INFO - Final validated HDF file path: c:\\GH\\ras-commander\\examples\\example_projects\\Davis\\DavisStormSystem.p02.hdf\n"
          ]
        },
        {
          "name": "stdout",
          "output_type": "stream",
          "text": [
            "\n",
            "Pipe Nodes:\n"
          ]
        },
        {
          "data": {
            "text/html": "<div>\n<style scoped>\\n', '    .dataframe tbody tr th:only-of-type {\\n', '        vertical-align: middle;\\n', '    }\\n', '\\n', '    .dataframe tbody tr th {\\n', '        vertical-align: top;\\n', '    }\\n', '\\n', '    .dataframe thead th {\\n', '        text-align: right;\\n', '    }\\n', '</style>\n<table border=\"1\" class=\"dataframe\">\n  <thead>\\n', '    <tr style=\"text-align: right;\">\\n', '      <th></th>\\n', '      <th>Name</th>\\n', '      <th>System Name</th>\\n', '      <th>Node Type</th>\\n', '      <th>Node Status</th>\\n', '      <th>Condtui Connections (US:DS)</th>\\n', '      <th>Invert Elevation</th>\\n', '      <th>Base Area</th>\\n', '      <th>Terrain Elevation</th>\\n', '      <th>Terrain Elevation Override</th>\\n', '      <th>Depth</th>\\n', '      <th>Drop Inlet Elevation</th>\\n', '      <th>Drop Inlet Weir Length</th>\\n', '      <th>Drop Inlet Weir Coefficient</th>\\n', '      <th>Drop Inlet Orifice Area</th>\\n', '      <th>Drop Inlet Orifice Coefficient</th>\\n', '      <th>Total Connection Count</th>\\n', '      <th>geometry</th>\\n', '    </tr>\\n', '  </thead>\n  <tbody>\n    <tr>\\n', '      <th>0</th>\\n', '      <td>O14-di027</td>\\n', '      <td>Davis</td>\\n', '      <td>Junction</td>\\n', '      <td>Junction with drop inlet</td>\\n', '      <td>1:1</td>\\n', '      <td>36.060001</td>\\n', '      <td>36.0</td>\\n', '      <td>39.860001</td>\\n', '      <td>NaN</td>\\n', '      <td>3.799999</td>\\n', '      <td>39.863369</td>\\n', '      <td>3.0</td>\\n', '      <td>3.3</td>\\n', '      <td>1.0</td>\\n', '      <td>0.67</td>\\n', '      <td>2</td>\\n', '      <td>POINT (6637926.81 1964917.32)</td>\\n', '    </tr><tr>\\n', '      <th>1</th>\\n', '      <td>P11-DMH004</td>\\n', '      <td>Davis</td>\\n', '      <td>Junction</td>\\n', '      <td>Junction with drop inlet</td>\\n', '      <td>1:1</td>\\n', '      <td>38.169998</td>\\n', '      <td>36.0</td>\\n', '      <td>48.720001</td>\\n', '      <td>NaN</td>\\n', '      <td>10.550003</td>\\n', '      <td>48.718811</td>\\n', '      <td>3.0</td>\\n', '      <td>3.3</td>\\n', '      <td>1.0</td>\\n', '      <td>0.67</td>\\n', '      <td>2</td>\\n', '      <td>POINT (6629444.634 1963504.411)</td>\\n', '    </tr><tr>\\n', '      <th>2</th>\\n', '      <td>O14-DMH005</td>\\n', '      <td>Davis</td>\\n', '      <td>Junction</td>\\n', '      <td>Junction with drop inlet</td>\\n', '      <td>1:1</td>\\n', '      <td>31.559999</td>\\n', '      <td>36.0</td>\\n', '      <td>40.840000</td>\\n', '      <td>NaN</td>\\n', '      <td>9.280001</td>\\n', '      <td>40.843731</td>\\n', '      <td>3.0</td>\\n', '      <td>3.3</td>\\n', '      <td>1.0</td>\\n', '      <td>0.67</td>\\n', '      <td>2</td>\\n', '      <td>POINT (6637368.497 1966084.574)</td>\\n', '    </tr><tr>\\n', '      <th>3</th>\\n', '      <td>P11-DMH011</td>\\n', '      <td>Davis</td>\\n', '      <td>Junction</td>\\n', '      <td>Junction with drop inlet</td>\\n', '      <td>1:1</td>\\n', '      <td>37.400002</td>\\n', '      <td>36.0</td>\\n', '      <td>45.330002</td>\\n', '      <td>NaN</td>\\n', '      <td>7.930000</td>\\n', '      <td>45.332291</td>\\n', '      <td>3.0</td>\\n', '      <td>3.3</td>\\n', '      <td>1.0</td>\\n', '      <td>0.67</td>\\n', '      <td>2</td>\\n', '      <td>POINT (6630653.519 1963548.271)</td>\\n', '    </tr><tr>\\n', '      <th>4</th>\\n', '      <td>O15-DMH016</td>\\n', '      <td>Davis</td>\\n', '      <td>Start</td>\\n', '      <td>US Junction, with drop inlet</td>\\n', '      <td>0:1</td>\\n', '      <td>38.639999</td>\\n', '      <td>36.0</td>\\n', '      <td>41.700001</td>\\n', '      <td>NaN</td>\\n', '      <td>3.060001</td>\\n', '      <td>41.700871</td>\\n', '      <td>3.0</td>\\n', '      <td>3.3</td>\\n', '      <td>1.0</td>\\n', '      <td>0.67</td>\\n', '      <td>1</td>\\n', '      <td>POINT (6638669.136 1964981.664)</td>\\n', '    </tr>\n    <tr><td colspan=\"100%\" style=\"text-align:center\">[... additional rows truncated ...]</td></tr>\n  </tbody>\n</table>\n</div>",
            "text/plain": "['           Name System Name Node Type                   Node Status  \\\\\\n', '0     O14-di027       Davis  Junction      Junction with drop inlet   \\n', '1    P11-DMH004       Davis  Junction      Junction with drop inlet   \\n', '2    O14-DMH005       Davis  Junction      Junction with drop inlet   \\n', '3    P11-DMH011       Davis  Junction      Junction with drop inlet   \\n', '4    O15-DMH016       Davis     Start  US Junction, with drop inlet   \\n', '..          ...         ...       ...                           ...   \\n', '128  O11-DMH017       Davis  Junction      Junction with drop inlet   \\n', '129  N12-DMH010       Davis  Junction      Junction with drop inlet   \\n', '130  N12-DMH009       Davis  Junction      Junction with drop inlet   \\n', '131  N12-DMH027       Davis  Junction      Junction with drop inlet   \\n', '132   O13-SDS03       Davis  Junction      Junction with drop inlet   \\n', '\\n', '    Condtui Connections (US:DS)  Invert Elevation  Base Area  \\\\\\n', '0        \n...\n[Output truncated, 5487 characters total]"
          },
          "execution_count": 18,
          "metadata": {},
          "output_type": "execute_result"
        }
      ],
      "source": [
        "# Get pipe nodes\n",
        "pipe_nodes_gdf = HdfPipe.get_pipe_nodes(plan_hdf_path)\n",
        "print(\"\\nPipe Nodes:\")\n",
        "pipe_nodes_gdf"
      ]
    },
    {
      "cell_type": "code",
      "execution_count": 19,
      "metadata": {},
      "outputs": [],
      "source": [
        "# Use get_hdf5_dataset_info function to get Pipe Conduits data:\n",
        "#HdfUtils.get_hdf5_dataset_info(plan_hdf_path, \"/Geometry/Pipe Networks/\")"
      ]
    },
    {
      "cell_type": "code",
      "execution_count": 20,
      "metadata": {},
      "outputs": [
        {
          "name": "stderr",
          "output_type": "stream",
          "text": [
            "2025-03-20 12:03:51 - ras_commander.HdfPipe - INFO - Using HDF file from direct string path: c:\\GH\\ras-commander\\examples\\example_projects\\Davis\\DavisStormSystem.p02.hdf\n",
            "2025-03-20 12:03:51 - ras_commander.HdfPipe - INFO - Final validated HDF file path: c:\\GH\\ras-commander\\examples\\example_projects\\Davis\\DavisStormSystem.p02.hdf\n",
            "2025-03-20 12:03:51 - root - INFO - Selected Pipe Network: Davis\n"
          ]
        },
        {
          "name": "stdout",
          "output_type": "stream",
          "text": [
            "\n",
            "Pipe Network Data:\n"
          ]
        },
        {
          "data": {
            "text/html": "<div>\n<style scoped>\\n', '    .dataframe tbody tr th:only-of-type {\\n', '        vertical-align: middle;\\n', '    }\\n', '\\n', '    .dataframe tbody tr th {\\n', '        vertical-align: top;\\n', '    }\\n', '\\n', '    .dataframe thead th {\\n', '        text-align: right;\\n', '    }\\n', '</style>\n<table border=\"1\" class=\"dataframe\">\n  <thead>\\n', '    <tr style=\"text-align: right;\">\\n', '      <th></th>\\n', '      <th>Cell_ID</th>\\n', '      <th>Conduit_ID</th>\\n', '      <th>Node_ID</th>\\n', '      <th>Minimum_Elevation</th>\\n', '      <th>DS_Face_Indices</th>\\n', '      <th>Face_Indices</th>\\n', '      <th>US_Face_Indices</th>\\n', '      <th>Cell_Property_Info_Index</th>\\n', '      <th>US Face Elevation</th>\\n', '      <th>DS Face Elevation</th>\\n', '      <th>Min Elevation</th>\\n', '      <th>Area</th>\\n', '      <th>Info Index</th>\\n', '      <th>Cell_Polygon</th>\\n', '      <th>Face_Polylines</th>\\n', '      <th>Node_Point</th>\\n', '    </tr>\\n', '  </thead>\n  <tbody>\n    <tr>\\n', '      <th>0</th>\\n', '      <td>0</td>\\n', '      <td>0</td>\\n', '      <td>-1</td>\\n', '      <td>26.824432</td>\\n', '      <td>[1]</td>\\n', '      <td>[0, 1]</td>\\n', '      <td>[0]</td>\\n', '      <td>0</td>\\n', '      <td>26.934290</td>\\n', '      <td>26.824432</td>\\n', '      <td>26.824432</td>\\n', '      <td>242.040024</td>\\n', '      <td>0</td>\\n', '      <td>POLYGON ((6635288.02154 1965233.24073, 6635279...</td>\\n', '      <td>[LINESTRING (6635288.021542038 1965233.2407260...</td>\\n', '      <td>None</td>\\n', '    </tr><tr>\\n', '      <th>1</th>\\n', '      <td>1</td>\\n', '      <td>0</td>\\n', '      <td>-1</td>\\n', '      <td>26.714573</td>\\n', '      <td>[2]</td>\\n', '      <td>[1, 2]</td>\\n', '      <td>[1]</td>\\n', '      <td>0</td>\\n', '      <td>26.934290</td>\\n', '      <td>26.824432</td>\\n', '      <td>26.824432</td>\\n', '      <td>242.040024</td>\\n', '      <td>0</td>\\n', '      <td>POLYGON ((6635288.02154 1965233.24073, 6635279...</td>\\n', '      <td>[LINESTRING (6635288.021542038 1965233.2407260...</td>\\n', '      <td>None</td>\\n', '    </tr><tr>\\n', '      <th>2</th>\\n', '      <td>2</td>\\n', '      <td>0</td>\\n', '      <td>-1</td>\\n', '      <td>26.604715</td>\\n', '      <td>[3]</td>\\n', '      <td>[2, 3]</td>\\n', '      <td>[2]</td>\\n', '      <td>0</td>\\n', '      <td>26.934290</td>\\n', '      <td>26.824432</td>\\n', '      <td>26.824432</td>\\n', '      <td>242.040024</td>\\n', '      <td>0</td>\\n', '      <td>POLYGON ((6635288.02154 1965233.24073, 6635279...</td>\\n', '      <td>[LINESTRING (6635288.021542038 1965233.2407260...</td>\\n', '      <td>None</td>\\n', '    </tr><tr>\\n', '      <th>3</th>\\n', '      <td>3</td>\\n', '      <td>0</td>\\n', '      <td>-1</td>\\n', '      <td>26.494858</td>\\n', '      <td>[4]</td>\\n', '      <td>[3, 4]</td>\\n', '      <td>[3]</td>\\n', '      <td>0</td>\\n', '      <td>26.934290</td>\\n', '      <td>26.824432</td>\\n', '      <td>26.824432</td>\\n', '      <td>242.040024</td>\\n', '      <td>0</td>\\n', '      <td>POLYGON ((6635288.02154 1965233.24073, 6635279...</td>\\n', '      <td>[LINESTRING (6635288.021542038 1965233.2407260...</td>\\n', '      <td>None</td>\\n', '    </tr><tr>\\n', '      <th>4</th>\\n', '      <td>4</td>\\n', '      <td>0</td>\\n', '      <td>-1</td>\\n', '      <td>26.385000</td>\\n', '      <td>[5]</td>\\n', '      <td>[4, 5]</td>\\n', '      <td>[4]</td>\\n', '      <td>0</td>\\n', '      <td>26.934290</td>\\n', '      <td>26.824432</td>\\n', '      <td>26.824432</td>\\n', '      <td>242.040024</td>\\n', '      <td>0</td>\\n', '      <td>POLYGON ((6635288.02154 1965233.24073, 6635279...</td>\\n', '      <td>[LINESTRING (6635288.021542038 1965233.2407260...</td>\\n', '      <td>None</td>\\n', '    </tr>\n    <tr><td colspan=\"100%\" style=\"text-align:center\">[... additional rows truncated ...]</td></tr>\n  </tbody>\n</table>\n</div>",
            "text/plain": "['      Cell_ID  Conduit_ID  Node_ID  Minimum_Elevation DS_Face_Indices  \\\\\\n', '0           0           0       -1          26.824432             [1]   \\n', '1           1           0       -1          26.714573             [2]   \\n', '2           2           0       -1          26.604715             [3]   \\n', '3           3           0       -1          26.494858             [4]   \\n', '4           4           0       -1          26.385000             [5]   \\n', '...       ...         ...      ...                ...             ...   \\n', '1987     1987          -1       72          39.456257          [1976]   \\n', '1988     1988          -1       79          42.074768          [1977]   \\n', '1989     1989          -1       42          40.804863          [1984]   \\n', '1990     1990          -1       46          41.998379          [1987]   \\n', '1991     1991          -1       45          37.606800          [1989]   \\n', '\\n', '      Face_Indices US_Face_Indices  Cell_Property_Info_\n...\n[Output truncated, 4562 characters total]"
          },
          "execution_count": 20,
          "metadata": {},
          "output_type": "execute_result"
        }
      ],
      "source": [
        "# Get pipe network data\n",
        "pipe_network_gdf = HdfPipe.get_pipe_network(plan_hdf_path)\n",
        "print(\"\\nPipe Network Data:\")\n",
        "pipe_network_gdf"
      ]
    },
    {
      "cell_type": "code",
      "execution_count": 21,
      "metadata": {},
      "outputs": [
        {
          "name": "stderr",
          "output_type": "stream",
          "text": [
            "2025-03-20 12:03:51 - ras_commander.HdfPump - INFO - Using HDF file from direct string path: c:\\GH\\ras-commander\\examples\\example_projects\\Davis\\DavisStormSystem.p02.hdf\n",
            "2025-03-20 12:03:51 - ras_commander.HdfPump - INFO - Final validated HDF file path: c:\\GH\\ras-commander\\examples\\example_projects\\Davis\\DavisStormSystem.p02.hdf\n",
            "2025-03-20 12:03:51 - ras_commander.HdfBase - INFO - Using existing Path object HDF file: c:\\GH\\ras-commander\\examples\\example_projects\\Davis\\DavisStormSystem.p02.hdf\n",
            "2025-03-20 12:03:51 - ras_commander.HdfBase - INFO - Final validated HDF file path: c:\\GH\\ras-commander\\examples\\example_projects\\Davis\\DavisStormSystem.p02.hdf\n",
            "2025-03-20 12:03:51 - ras_commander.HdfBase - INFO - Found projection in HDF file: c:\\GH\\ras-commander\\examples\\example_projects\\Davis\\DavisStormSystem.p02.hdf\n"
          ]
        },
        {
          "name": "stdout",
          "output_type": "stream",
          "text": [
            "\n",
            "Pump Stations:\n"
          ]
        },
        {
          "data": {
            "text/html": "<div>\n<style scoped>\\n', '    .dataframe tbody tr th:only-of-type {\\n', '        vertical-align: middle;\\n', '    }\\n', '\\n', '    .dataframe tbody tr th {\\n', '        vertical-align: top;\\n', '    }\\n', '\\n', '    .dataframe thead th {\\n', '        text-align: right;\\n', '    }\\n', '</style>\n<table border=\"1\" class=\"dataframe\">\n  <thead>\\n', '    <tr style=\"text-align: right;\">\\n', '      <th></th>\\n', '      <th>geometry</th>\\n', '      <th>station_id</th>\\n', '      <th>Name</th>\\n', '      <th>Inlet River</th>\\n', '      <th>Inlet Reach</th>\\n', '      <th>Inlet RS</th>\\n', '      <th>Inlet RS Distance</th>\\n', '      <th>Inlet SA/2D</th>\\n', '      <th>Inlet Pipe Node</th>\\n', '      <th>Outlet River</th>\\n', '      <th>...</th>\\n', '      <th>Outlet Pipe Node</th>\\n', '      <th>Reference River</th>\\n', '      <th>Reference Reach</th>\\n', '      <th>Reference RS</th>\\n', '      <th>Reference RS Distance</th>\\n', '      <th>Reference SA/2D</th>\\n', '      <th>Reference Point</th>\\n', '      <th>Reference Pipe Node</th>\\n', '      <th>Highest Pump Line Elevation</th>\\n', '      <th>Pump Groups</th>\\n', '    </tr>\\n', '  </thead>\n  <tbody>\n    <tr>\\n', '      <th>0</th>\\n', '      <td>POINT (6635027.027 1966080.07)</td>\\n', '      <td>0</td>\\n', '      <td>Pump Station #1</td>\\n', '      <td></td>\\n', '      <td></td>\\n', '      <td></td>\\n', '      <td>NaN</td>\\n', '      <td></td>\\n', '      <td>Davis [O13-SDS03]</td>\\n', '      <td></td>\\n', '      <td>...</td>\\n', '      <td></td>\\n', '      <td></td>\\n', '      <td></td>\\n', '      <td></td>\\n', '      <td>NaN</td>\\n', '      <td></td>\\n', '      <td></td>\\n', '      <td></td>\\n', '      <td>NaN</td>\\n', '      <td>1</td>\\n', '    </tr>\n    <tr><td colspan=\"100%\" style=\"text-align:center\">[... additional rows truncated ...]</td></tr>\n  </tbody>\n</table>\n</div>",
            "text/plain": "['                         geometry  station_id             Name Inlet River  \\\\\\n', '0  POINT (6635027.027 1966080.07)           0  Pump Station #1               \\n', '\\n', '  Inlet Reach Inlet RS  Inlet RS Distance Inlet SA/2D    Inlet Pipe Node  \\\\\\n', '0                                     NaN              Davis [O13-SDS03]   \\n', '\\n', '  Outlet River  ... Outlet Pipe Node Reference River  Reference Reach  \\\\\\n', '0               ...                                                     \\n', '\\n', '  Reference RS Reference RS Distance Reference SA/2D Reference Point  \\\\\\n', '0                                NaN                                   \\n', '\\n', '  Reference Pipe Node  Highest Pump Line Elevation Pump Groups  \\n', '0                                              NaN           1  \\n', '\\n', '[1 rows x 24 columns]']"
          },
          "execution_count": 21,
          "metadata": {},
          "output_type": "execute_result"
        }
      ],
      "source": [
        "# Get pump stations\n",
        "pump_stations_gdf = HdfPump.get_pump_stations(plan_hdf_path)\n",
        "print(\"\\nPump Stations:\")\n",
        "pump_stations_gdf"
      ]
    },
    {
      "cell_type": "code",
      "execution_count": 22,
      "metadata": {},
      "outputs": [
        {
          "name": "stderr",
          "output_type": "stream",
          "text": [
            "2025-03-20 12:03:51 - ras_commander.HdfPump - INFO - Using HDF file from direct string path: c:\\GH\\ras-commander\\examples\\example_projects\\Davis\\DavisStormSystem.p02.hdf\n",
            "2025-03-20 12:03:51 - ras_commander.HdfPump - INFO - Final validated HDF file path: c:\\GH\\ras-commander\\examples\\example_projects\\Davis\\DavisStormSystem.p02.hdf\n"
          ]
        },
        {
          "name": "stdout",
          "output_type": "stream",
          "text": [
            "\n",
            "Pump Groups:\n"
          ]
        },
        {
          "data": {
            "text/html": "<div>\n<style scoped>\\n', '    .dataframe tbody tr th:only-of-type {\\n', '        vertical-align: middle;\\n', '    }\\n', '\\n', '    .dataframe tbody tr th {\\n', '        vertical-align: top;\\n', '    }\\n', '\\n', '    .dataframe thead th {\\n', '        text-align: right;\\n', '    }\\n', '</style>\n<table border=\"1\" class=\"dataframe\">\n  <thead>\\n', '    <tr style=\"text-align: right;\">\\n', '      <th></th>\\n', '      <th>Pump Station ID</th>\\n', '      <th>Name</th>\\n', '      <th>Bias On</th>\\n', '      <th>Start Up Time</th>\\n', '      <th>Shut Down Time</th>\\n', '      <th>Width</th>\\n', '      <th>Pumps</th>\\n', '      <th>efficiency_curve_start</th>\\n', '      <th>efficiency_curve_count</th>\\n', '      <th>efficiency_curve</th>\\n', '    </tr>\\n', '  </thead>\n  <tbody>\n    <tr>\\n', '      <th>0</th>\\n', '      <td>0</td>\\n', '      <td>Pump Station #1</td>\\n', '      <td>0</td>\\n', '      <td>5.0</td>\\n', '      <td>NaN</td>\\n', '      <td>5.0</td>\\n', '      <td>1</td>\\n', '      <td>0</td>\\n', '      <td>6</td>\\n', '      <td>[[2.0, 70.0], [4.0, 60.0], [6.0, 55.0], [8.0, ...</td>\\n', '    </tr>\n    <tr><td colspan=\"100%\" style=\"text-align:center\">[... additional rows truncated ...]</td></tr>\n  </tbody>\n</table>\n</div>",
            "text/plain": "['   Pump Station ID             Name  Bias On  Start Up Time  Shut Down Time  \\\\\\n', '0                0  Pump Station #1        0            5.0             NaN   \\n', '\\n', '   Width  Pumps  efficiency_curve_start  efficiency_curve_count  \\\\\\n', '0    5.0      1                       0                       6   \\n', '\\n', '                                    efficiency_curve  \\n', '0  [[2.0, 70.0], [4.0, 60.0], [6.0, 55.0], [8.0, ...  ']"
          },
          "execution_count": 22,
          "metadata": {},
          "output_type": "execute_result"
        }
      ],
      "source": [
        "# Get pump groups\n",
        "pump_groups_df = HdfPump.get_pump_groups(plan_hdf_path)\n",
        "print(\"\\nPump Groups:\")\n",
        "pump_groups_df"
      ]
    },
    {
      "cell_type": "code",
      "execution_count": 23,
      "metadata": {},
      "outputs": [
        {
          "name": "stderr",
          "output_type": "stream",
          "text": [
            "2025-03-20 12:03:51 - ras_commander.HdfBase - INFO - Using HDF file from direct string path: c:\\GH\\ras-commander\\examples\\example_projects\\Davis\\DavisStormSystem.g02.hdf\n",
            "2025-03-20 12:03:51 - ras_commander.HdfBase - INFO - Final validated HDF file path: c:\\GH\\ras-commander\\examples\\example_projects\\Davis\\DavisStormSystem.g02.hdf\n",
            "2025-03-20 12:03:51 - ras_commander.HdfBase - INFO - Found projection in HDF file: c:\\GH\\ras-commander\\examples\\example_projects\\Davis\\DavisStormSystem.g02.hdf\n"
          ]
        },
        {
          "name": "stdout",
          "output_type": "stream",
          "text": [
            "\n",
            "Extracting Projection from HDF\n",
            "Projection: PROJCS[\"NAD83(HARN) / California zone 2 (ftUS)\",GEOGCS[\"NAD83(HARN)\",DATUM[\"D_North_American_1983_HARN\",SPHEROID[\"GRS_1980\",6378137,298.257222101]],PRIMEM[\"Greenwich\",0],UNIT[\"Degree\",0.017453292519943295]],PROJECTION[\"Lambert_Conformal_Conic\"],PARAMETER[\"standard_parallel_1\",39.83333333333334],PARAMETER[\"standard_parallel_2\",38.33333333333334],PARAMETER[\"latitude_of_origin\",37.66666666666666],PARAMETER[\"central_meridian\",-122],PARAMETER[\"false_easting\",6561666.667],PARAMETER[\"false_northing\",1640416.667],UNIT[\"Foot_US\",0.30480060960121924]]\n"
          ]
        }
      ],
      "source": [
        "# Use HdfUtils for extracting projection\n",
        "print(\"\\nExtracting Projection from HDF\")\n",
        "projection = HdfBase.get_projection(hdf_path=geom_hdf_path)\n",
        "print(f\"Projection: {projection}\")"
      ]
    },
    {
      "cell_type": "code",
      "execution_count": 24,
      "metadata": {},
      "outputs": [
        {
          "name": "stdout",
          "output_type": "stream",
          "text": [
            "Pipe Conduits GeoDataFrame columns:"
          ]
        },
        {
          "name": "stderr",
          "output_type": "stream",
          "text": [
            "2025-03-20 12:03:51 - ras_commander.HdfMesh - INFO - Using HDF file from direct string path: c:\\GH\\ras-commander\\examples\\example_projects\\Davis\\DavisStormSystem.g02.hdf\n",
            "2025-03-20 12:03:51 - ras_commander.HdfMesh - INFO - Final validated HDF file path: c:\\GH\\ras-commander\\examples\\example_projects\\Davis\\DavisStormSystem.g02.hdf\n",
            "2025-03-20 12:03:51 - ras_commander.HdfMesh - INFO - Using existing Path object HDF file: c:\\GH\\ras-commander\\examples\\example_projects\\Davis\\DavisStormSystem.g02.hdf\n",
            "2025-03-20 12:03:51 - ras_commander.HdfMesh - INFO - Final validated HDF file path: c:\\GH\\ras-commander\\examples\\example_projects\\Davis\\DavisStormSystem.g02.hdf\n",
            "2025-03-20 12:03:51 - ras_commander.HdfBase - INFO - Using HDF file from h5py.File object: c:\\GH\\ras-commander\\examples\\example_projects\\Davis\\DavisStormSystem.g02.hdf\n",
            "2025-03-20 12:03:51 - ras_commander.HdfBase - INFO - Final validated HDF file path: c:\\GH\\ras-commander\\examples\\example_projects\\Davis\\DavisStormSystem.g02.hdf\n",
            "2025-03-20 12:03:51 - ras_commander.HdfBase - INFO - Found projection in HDF file: c:\\GH\\ras-commander\\examples\\example_projects\\Davis\\DavisStormSystem.g02.hdf\n"
          ]
        },
        {
          "name": "stdout",
          "output_type": "stream",
          "text": [
            "\n",
            "Index(['Name', 'System Name', 'US Node', 'DS Node', 'Modeling Approach',\n",
            "       'Conduit Length', 'Max Cell Length', 'Shape', 'Rise', 'Span',\n",
            "       'Manning's n', 'US Offset', 'DS Offset', 'US Elevation', 'DS Elevation',\n",
            "       'Slope', 'US Entrance Loss Coefficient', 'DS Exit Loss Coefficient',\n",
            "       'US Backflow Loss Coefficient', 'DS Backflow Loss Coefficient',\n",
            "       'DS Flap Gate', 'Major Group', 'Minor Group', 'Polyline',\n",
            "       'Terrain_Profiles'],\n",
            "      dtype='object')\n",
            "\n",
            "Pipe Nodes GeoDataFrame columns:\n",
            "Index(['Name', 'System Name', 'Node Type', 'Node Status',\n",
            "       'Condtui Connections (US:DS)', 'Invert Elevation', 'Base Area',\n",
            "       'Terrain Elevation', 'Terrain Elevation Override', 'Depth',\n",
            "       'Drop Inlet Elevation', 'Drop Inlet Weir Length',\n",
            "       'Drop Inlet Weir Coefficient', 'Drop Inlet Orifice Area',\n",
            "       'Drop Inlet Orifice Coefficient', 'Total Connection Count', 'geometry'],\n",
            "      dtype='object')\n",
            "\n",
            "Perimeter Polygons GeoDataFrame columns:\n",
            "Index(['mesh_name', 'geometry'], dtype='object')\n"
          ]
        }
      ],
      "source": [
        "# Set CRS for GeoDataFrames\n",
        "if projection:\n",
        "    pipe_conduits_gdf.set_crs(projection, inplace=True, allow_override=True)\n",
        "    pipe_nodes_gdf.set_crs(projection, inplace=True, allow_override=True)\n",
        "\n",
        "print(\"Pipe Conduits GeoDataFrame columns:\")\n",
        "print(pipe_conduits_gdf.columns)\n",
        "\n",
        "print(\"\\nPipe Nodes GeoDataFrame columns:\")\n",
        "print(pipe_nodes_gdf.columns)\n",
        "\n",
        "perimeter_polygons = HdfMesh.get_mesh_areas(geom_hdf_path)\n",
        "if projection:\n",
        "    perimeter_polygons.set_crs(projection, inplace=True, allow_override=True)\n",
        "    \n",
        "print(\"\\nPerimeter Polygons GeoDataFrame columns:\")\n",
        "print(perimeter_polygons.columns)"
      ]
    },
    {
      "cell_type": "code",
      "execution_count": 25,
      "metadata": {},
      "outputs": [
        {
          "name": "stderr",
          "output_type": "stream",
          "text": [
            "2025-03-20 12:03:51 - ras_commander.HdfMesh - INFO - Using HDF file from direct string path: c:\\GH\\ras-commander\\examples\\example_projects\\Davis\\DavisStormSystem.g02.hdf\n",
            "2025-03-20 12:03:51 - ras_commander.HdfMesh - INFO - Final validated HDF file path: c:\\GH\\ras-commander\\examples\\example_projects\\Davis\\DavisStormSystem.g02.hdf\n",
            "2025-03-20 12:03:51 - ras_commander.HdfMesh - INFO - Using existing Path object HDF file: c:\\GH\\ras-commander\\examples\\example_projects\\Davis\\DavisStormSystem.g02.hdf\n",
            "2025-03-20 12:03:51 - ras_commander.HdfMesh - INFO - Final validated HDF file path: c:\\GH\\ras-commander\\examples\\example_projects\\Davis\\DavisStormSystem.g02.hdf\n",
            "2025-03-20 12:03:51 - ras_commander.HdfMesh - INFO - Using existing Path object HDF file: c:\\GH\\ras-commander\\examples\\example_projects\\Davis\\DavisStormSystem.g02.hdf\n",
            "2025-03-20 12:03:51 - ras_commander.HdfMesh - INFO - Final validated HDF file path: c:\\GH\\ras-commander\\examples\\example_projects\\Davis\\DavisStormSystem.g02.hdf\n",
            "2025-03-20 12:03:51 - ras_commander.HdfMesh - INFO - Using existing Path object HDF file: c:\\GH\\ras-commander\\examples\\example_projects\\Davis\\DavisStormSystem.g02.hdf\n",
            "2025-03-20 12:03:51 - ras_commander.HdfMesh - INFO - Final validated HDF file path: c:\\GH\\ras-commander\\examples\\example_projects\\Davis\\DavisStormSystem.g02.hdf\n",
            "2025-03-20 12:03:51 - ras_commander.HdfBase - INFO - Using HDF file from h5py.File object: c:\\GH\\ras-commander\\examples\\example_projects\\Davis\\DavisStormSystem.g02.hdf\n",
            "2025-03-20 12:03:51 - ras_commander.HdfBase - INFO - Final validated HDF file path: c:\\GH\\ras-commander\\examples\\example_projects\\Davis\\DavisStormSystem.g02.hdf\n",
            "2025-03-20 12:03:51 - ras_commander.HdfBase - INFO - Found projection in HDF file: c:\\GH\\ras-commander\\examples\\example_projects\\Davis\\DavisStormSystem.g02.hdf\n",
            "2025-03-20 12:03:52 - ras_commander.HdfBase - INFO - Using HDF file from h5py.File object: c:\\GH\\ras-commander\\examples\\example_projects\\Davis\\DavisStormSystem.g02.hdf\n",
            "2025-03-20 12:03:52 - ras_commander.HdfBase - INFO - Final validated HDF file path: c:\\GH\\ras-commander\\examples\\example_projects\\Davis\\DavisStormSystem.g02.hdf\n",
            "2025-03-20 12:03:52 - ras_commander.HdfBase - INFO - Found projection in HDF file: c:\\GH\\ras-commander\\examples\\example_projects\\Davis\\DavisStormSystem.g02.hdf\n"
          ]
        },
        {
          "data": {
            "text/plain": [
              "<Figure size 2800x2000 with 2 Axes>"
            ]
          },
          "metadata": {},
          "output_type": "display_data"
        }
      ],
      "source": [
        "import matplotlib.pyplot as plt\n",
        "from shapely import wkt\n",
        "import matplotlib.patches as mpatches\n",
        "import matplotlib.lines as mlines\n",
        "import numpy as np\n",
        "\n",
        "fig, ax = plt.subplots(figsize=(28, 20))\n",
        "\n",
        "# Plot cell polygons with 50% transparency behind the pipe network\n",
        "cell_polygons_df = HdfMesh.get_mesh_cell_polygons(geom_hdf_path)\n",
        "if not cell_polygons_df.empty:\n",
        "    cell_polygons_df.plot(ax=ax, edgecolor='lightgray', facecolor='lightgray', alpha=0.5)\n",
        "\n",
        "# Plot pipe conduits - the Polyline column already contains LineString geometries\n",
        "pipe_conduits_gdf.set_geometry('Polyline', inplace=True)\n",
        "\n",
        "# Plot each pipe conduit individually to ensure all are shown\n",
        "for idx, row in pipe_conduits_gdf.iterrows():\n",
        "    ax.plot(*row.Polyline.xy, color='blue', linewidth=1)\n",
        "\n",
        "# Create a colormap for node elevations\n",
        "norm = plt.Normalize(pipe_nodes_gdf['Invert Elevation'].min(), \n",
        "                    pipe_nodes_gdf['Invert Elevation'].max())\n",
        "cmap = plt.cm.viridis\n",
        "\n",
        "# Plot pipe nodes colored by invert elevation\n",
        "scatter = ax.scatter(pipe_nodes_gdf.geometry.x, pipe_nodes_gdf.geometry.y,\n",
        "                    c=pipe_nodes_gdf['Invert Elevation'], \n",
        "                    cmap=cmap, norm=norm,\n",
        "                    s=100)\n",
        "\n",
        "# Add colorbar\n",
        "cbar = plt.colorbar(scatter)\n",
        "cbar.set_label('Invert Elevation (ft)', rotation=270, labelpad=15)\n",
        "\n",
        "# Add combined labels for invert and drop inlet elevations\n",
        "for idx, row in pipe_nodes_gdf.iterrows():\n",
        "    label_text = \"\"  # Initialize label_text for each node\n",
        "    # Add drop inlet elevation label if it exists and is not NaN\n",
        "    if 'Drop Inlet Elevation' in row and not np.isnan(row['Drop Inlet Elevation']):\n",
        "        label_text += f\"TOC: {row['Drop Inlet Elevation']:.2f}\\n\"\n",
        "    label_text += f\"INV: {row['Invert Elevation']:.2f}\"\n",
        "    \n",
        "    ax.annotate(label_text,\n",
        "                xy=(row.geometry.x, row.geometry.y),\n",
        "                xytext=(-10, -10), textcoords='offset points',\n",
        "                fontsize=8,\n",
        "                bbox=dict(facecolor='white', edgecolor='black', boxstyle='round,pad=0.5'))\n",
        "\n",
        "# Add perimeter polygons \n",
        "if not perimeter_polygons.empty:\n",
        "    perimeter_polygons.plot(ax=ax, edgecolor='black', facecolor='none')\n",
        "\n",
        "# Create proxy artists for legend\n",
        "conduit_line = mlines.Line2D([], [], color='blue', label='Conduits')\n",
        "node_point = mlines.Line2D([], [], color='blue', marker='o', linestyle='None',\n",
        "                          markersize=10, label='Nodes')\n",
        "perimeter = mpatches.Patch(facecolor='none', edgecolor='black',\n",
        "                          label='Perimeter Polygons')\n",
        "\n",
        "ax.set_title('Pipe Network with Node Elevations')\n",
        "\n",
        "# Add legend with proxy artists\n",
        "ax.legend(handles=[conduit_line, node_point, perimeter])\n",
        "\n",
        "# Set aspect ratio to be equal and adjust limits\n",
        "ax.set_aspect('equal', 'datalim')\n",
        "ax.autoscale_view()\n",
        "\n",
        "plt.show()\n"
      ]
    },
    {
      "cell_type": "code",
      "execution_count": 26,
      "metadata": {},
      "outputs": [
        {
          "name": "stderr",
          "output_type": "stream",
          "text": [
            "C:\\Users\\billk\\AppData\\Local\\Temp\\ipykernel_19960\\1821049155.py:10: UserWarning: Legend does not support handles for PatchCollection instances.\n",
            "See: https://matplotlib.org/stable/tutorials/intermediate/legend_guide.html#implementing-a-custom-legend-handler\n",
            "  ax.legend()\n"
          ]
        },
        {
          "data": {
            "text/plain": [
              "<Figure size 1200x800 with 1 Axes>"
            ]
          },
          "metadata": {},
          "output_type": "display_data"
        }
      ],
      "source": [
        "# Visualize pump stations on a map\n",
        "fig, ax = plt.subplots(figsize=(12, 8))\n",
        "pump_stations_gdf.plot(ax=ax, color='green', markersize=50, label='Pump Station')\n",
        "\n",
        "# Add perimeter polygons\n",
        "if not perimeter_polygons.empty:\n",
        "    perimeter_polygons.plot(ax=ax, edgecolor='black', facecolor='none', label='Perimeter Polygons')\n",
        "\n",
        "ax.set_title('Pump Station Location')\n",
        "ax.legend()\n",
        "plt.show()"
      ]
    },
    {
      "cell_type": "code",
      "execution_count": 27,
      "metadata": {},
      "outputs": [
        {
          "name": "stderr",
          "output_type": "stream",
          "text": [
            "2025-03-20 12:03:55 - ras_commander.HdfPipe - INFO - Using HDF file from direct string path: c:\\GH\\ras-commander\\examples\\example_projects\\Davis\\DavisStormSystem.p02.hdf\n",
            "2025-03-20 12:03:55 - ras_commander.HdfPipe - INFO - Final validated HDF file path: c:\\GH\\ras-commander\\examples\\example_projects\\Davis\\DavisStormSystem.p02.hdf\n",
            "2025-03-20 12:03:55 - ras_commander.HdfPipe - INFO - Using HDF file from direct string path: c:\\GH\\ras-commander\\examples\\example_projects\\Davis\\DavisStormSystem.p02.hdf\n",
            "2025-03-20 12:03:55 - ras_commander.HdfPipe - INFO - Final validated HDF file path: c:\\GH\\ras-commander\\examples\\example_projects\\Davis\\DavisStormSystem.p02.hdf\n",
            "2025-03-20 12:03:55 - ras_commander.HdfPipe - INFO - Using HDF file from direct string path: c:\\GH\\ras-commander\\examples\\example_projects\\Davis\\DavisStormSystem.p02.hdf\n",
            "2025-03-20 12:03:55 - ras_commander.HdfPipe - INFO - Final validated HDF file path: c:\\GH\\ras-commander\\examples\\example_projects\\Davis\\DavisStormSystem.p02.hdf\n",
            "2025-03-20 12:03:55 - ras_commander.HdfPipe - INFO - Using HDF file from direct string path: c:\\GH\\ras-commander\\examples\\example_projects\\Davis\\DavisStormSystem.p02.hdf\n",
            "2025-03-20 12:03:55 - ras_commander.HdfPipe - INFO - Final validated HDF file path: c:\\GH\\ras-commander\\examples\\example_projects\\Davis\\DavisStormSystem.p02.hdf\n",
            "2025-03-20 12:03:55 - ras_commander.HdfPipe - INFO - Using HDF file from direct string path: c:\\GH\\ras-commander\\examples\\example_projects\\Davis\\DavisStormSystem.p02.hdf\n",
            "2025-03-20 12:03:55 - ras_commander.HdfPipe - INFO - Final validated HDF file path: c:\\GH\\ras-commander\\examples\\example_projects\\Davis\\DavisStormSystem.p02.hdf\n",
            "2025-03-20 12:03:55 - ras_commander.HdfPipe - INFO - Using HDF file from direct string path: c:\\GH\\ras-commander\\examples\\example_projects\\Davis\\DavisStormSystem.p02.hdf\n",
            "2025-03-20 12:03:55 - ras_commander.HdfPipe - INFO - Final validated HDF file path: c:\\GH\\ras-commander\\examples\\example_projects\\Davis\\DavisStormSystem.p02.hdf\n",
            "2025-03-20 12:03:55 - ras_commander.HdfPipe - INFO - Using HDF file from direct string path: c:\\GH\\ras-commander\\examples\\example_projects\\Davis\\DavisStormSystem.p02.hdf\n",
            "2025-03-20 12:03:55 - ras_commander.HdfPipe - INFO - Final validated HDF file path: c:\\GH\\ras-commander\\examples\\example_projects\\Davis\\DavisStormSystem.p02.hdf\n"
          ]
        },
        {
          "name": "stdout",
          "output_type": "stream",
          "text": [
            "Valid variables for pipe network timeseries:\n",
            "- Cell Courant\n",
            "- Cell Water Surface\n",
            "- Face Flow\n",
            "- Face Velocity\n",
            "- Face Water Surface\n",
            "- Pipes/Pipe Flow DS\n",
            "- Pipes/Pipe Flow US\n",
            "- Pipes/Vel DS\n",
            "- Pipes/Vel US\n",
            "- Nodes/Depth\n",
            "- Nodes/Drop Inlet Flow\n",
            "- Nodes/Water Surface\n",
            "\n",
            "Pipe Network Timeseries (Pipes/Pipe Flow DS):\n",
            "<xarray.DataArray 'Pipes/Pipe Flow DS' (time: 5, location: 5)> Size: 100B\n",
            "array([[ 0.0000000e+00,  0.0000000e+00,  0.0000000e+00,  0.0000000e+00,\n",
            "         0.0000000e+00],\n",
            "       [-0.0000000e+00, -0.0000000e+00, -0.0000000e+00, -0.0000000e+00,\n",
            "        -0.0000000e+00],\n",
            "       [-0.0000000e+00, -0.0000000e+00, -0.0000000e+00, -0.0000000e+00,\n",
            "        -0.0000000e+00],\n",
            "       [-0.0000000e+00, -6.6351867e-03, -0.0000000e+00, -0.0000000e+00,\n",
            "        -0.0000000e+00],\n",
            "       [-0.0000000e+00, -1.5214826e-01, -0.0000000e+00, -0.0000000e+00,\n",
            "         1.2617193e-07]], dtype=float32)\n",
            "Coordinates:\n",
            "  * time      (time) datetime64[ns] 40B 2000-01-10T12:00:00 ... 2000-01-10T12...\n",
            "  * location  (location) int64 40B 0 1 2 3 4\n",
            "Attributes:\n",
            "    units:     ft^3/s\n",
            "    variable:  Pipes/Pipe Flow DS\n",
            "\n",
            "Pipe Network Timeseries (Pipes/Pipe Flow US):\n",
            "<xarray.DataArray 'Pipes/Pipe Flow US' (time: 5, location: 5)> Size: 100B\n",
            "array([[ 0.0000000e+00,  0.0000000e+00,  0.0000000e+00,  0.0000000e+00,\n",
            "         0.0000000e+00],\n",
            "       [-0.0000000e+00, -0.0000000e+00, -0.0000000e+00, -0.0000000e+00,\n",
            "        -0.0000000e+00],\n",
            "       [-0.0000000e+00, -0.0000000e+00, -0.0000000e+00, -0.0000000e+00,\n",
            "         2.4055254e-04],\n",
            "       [-0.0000000e+00, -0.0000000e+00, -0.0000000e+00, -0.0000000e+00,\n",
            "         8.7901555e-02],\n",
            "       [ 3.6643762e-13,  3.7335381e-02, -0.0000000e+00, -0.0000000e+00,\n",
            "         4.1427895e-01]], dtype=float32)\n",
            "Coordinates:\n",
            "  * time      (time) datetime64[ns] 40B 2000-01-10T12:00:00 ... 2000-01-10T12...\n",
            "  * location  (location) int64 40B 0 1 2 3 4\n",
            "Attributes:\n",
            "    units:     ft^3/s\n",
            "    variable:  Pipes/Pipe Flow US\n",
            "\n",
            "Pipe Network Timeseries (Pipes/Vel DS):\n",
            "<xarray.DataArray 'Pipes/Vel DS' (time: 5, location: 5)> Size: 100B\n",
            "array([[ 0.        ,  0.        ,  0.        ,  0.        ,  0.        ],\n",
            "       [-0.        , -0.        , -0.        , -0.        , -0.        ],\n",
            "       [-0.        , -0.        , -0.        , -0.        , -0.        ],\n",
            "       [-0.        , -0.06287094, -0.        , -0.        , -0.        ],\n",
            "       [-0.        , -0.42591918, -0.        , -0.        ,  0.00337498]],\n",
            "      dtype=float32)\n",
            "Coordinates:\n",
            "  * time      (time) datetime64[ns] 40B 2000-01-10T12:00:00 ... 2000-01-10T12...\n",
            "  * location  (location) int64 40B 0 1 2 3 4\n",
            "Attributes:\n",
            "    units:     ft/s\n",
            "    variable:  Pipes/Vel DS\n",
            "\n",
            "Pipe Network Timeseries (Pipes/Vel US):\n",
            "<xarray.DataArray 'Pipes/Vel US' (time: 5, location: 5)> Size: 100B\n",
            "array([[ 0.0000000e+00,  0.0000000e+00,  0.0000000e+00,  0.0000000e+00,\n",
            "         0.0000000e+00],\n",
            "       [-0.0000000e+00, -0.0000000e+00, -0.0000000e+00, -0.0000000e+00,\n",
            "        -0.0000000e+00],\n",
            "       [-0.0000000e+00, -0.0000000e+00, -0.0000000e+00, -0.0000000e+00,\n",
            "         6.7898363e-02],\n",
            "       [-0.0000000e+00, -0.0000000e+00, -0.0000000e+00, -0.0000000e+00,\n",
            "         4.8383656e-01],\n",
            "       [ 2.4613664e-05,  4.8691016e-01, -0.0000000e+00, -0.0000000e+00,\n",
            "         8.6102980e-01]], dtype=float32)\n",
            "Coordinates:\n",
            "  * time      (time) datetime64[ns] 40B 2000-01-10T12:00:00 ... 2000-01-10T12...\n",
            "  * location  (location) int64 40B 0 1 2 3 4\n",
            "Attributes:\n",
            "    units:     ft/s\n",
            "    variable:  Pipes/Vel US\n",
            "\n",
            "Pipe Network Timeseries (Nodes/Depth):\n",
            "<xarray.DataArray 'Nodes/Depth' (time: 5, location: 5)> Size: 100B\n",
            "array([[ 0.        ,  0.        ,  0.        ,  0.        ,  0.        ],\n",
            "       [-0.04570961, -0.04727364, -0.03162766, -0.01459312,  0.        ],\n",
            "       [-0.04570961, -0.04727364, -0.03162766, -0.00156948,  0.        ],\n",
            "       [-0.04570961, -0.04727364, -0.03162766,  0.12227755,  0.        ],\n",
            "       [-0.04570955, -0.04727364,  0.0399478 ,  0.26093435,  0.        ]],\n",
            "      dtype=float32)\n",
            "Coordinates:\n",
            "  * time      (time) datetime64[ns] 40B 2000-01-10T12:00:00 ... 2000-01-10T12...\n",
            "  * location  (location) int64 40B 0 1 2 3 4\n",
            "Attributes:\n",
            "    units:     ft\n",
            "    variable:  Nodes/Depth\n",
            "\n",
            "Pipe Network Timeseries (Nodes/Drop Inlet Flow):\n",
            "<xarray.DataArray 'Nodes/Drop Inlet Flow' (time: 5, location: 5)> Size: 100B\n",
            "array([[ 0.,  0.,  0.,  0.,  0.],\n",
            "       [-0., -0., -0., -0., -0.],\n",
            "       [-0., -0., -0., -0., -0.],\n",
            "       [-0., -0., -0., -0., -0.],\n",
            "       [-0., -0., -0., -0., -0.]], dtype=float32)\n",
            "Coordinates:\n",
            "  * time      (time) datetime64[ns] 40B 2000-01-10T12:00:00 ... 2000-01-10T12...\n",
            "  * location  (location) int64 40B 0 1 2 3 4\n",
            "Attributes:\n",
            "    units:     cfs\n",
            "    variable:  Nodes/Drop Inlet Flow\n",
            "\n",
            "Pipe Network Timeseries (Nodes/Water Surface):\n",
            "<xarray.DataArray 'Nodes/Water Surface' (time: 5, location: 5)> Size: 100B\n",
            "array([[26.98    , 25.79    , 28.87    , 27.36    , 24.6     ],\n",
            "       [26.93429 , 25.742727, 28.838373, 27.345407, 24.6     ],\n",
            "       [26.93429 , 25.742727, 28.838373, 27.35843 , 24.6     ],\n",
            "       [26.93429 , 25.742727, 28.838373, 27.482279, 24.6     ],\n",
            "       [26.93429 , 25.742727, 28.909948, 27.620935, 24.6     ]],\n",
            "      dtype=float32)\n",
            "Coordinates:\n",
            "  * time      (time) datetime64[ns] 40B 2000-01-10T12:00:00 ... 2000-01-10T12...\n",
            "  * location  (location) int64 40B 0 1 2 3 4\n",
            "Attributes:\n",
            "    units:     ft\n",
            "    variable:  Nodes/Water Surface\n"
          ]
        }
      ],
      "source": [
        "# Example 3: Get pipe network timeseries\n",
        "valid_variables = [\n",
        "    \"Cell Courant\", \"Cell Water Surface\", \"Face Flow\", \"Face Velocity\",\n",
        "    \"Face Water Surface\", \"Pipes/Pipe Flow DS\", \"Pipes/Pipe Flow US\",\n",
        "    \"Pipes/Vel DS\", \"Pipes/Vel US\", \"Nodes/Depth\", \"Nodes/Drop Inlet Flow\",\n",
        "    \"Nodes/Water Surface\"\n",
        "]\n",
        "\n",
        "print(\"Valid variables for pipe network timeseries:\")\n",
        "for var in valid_variables:\n",
        "    print(f\"- {var}\")\n",
        "\n",
        "# Extract pipe network timeseries for each valid pipe-related variable\n",
        "pipe_variables = [var for var in valid_variables if var.startswith(\"Pipes/\") or var.startswith(\"Nodes/\")]\n",
        "\n",
        "for variable in pipe_variables:\n",
        "    try:\n",
        "        pipe_timeseries = HdfPipe.get_pipe_network_timeseries(plan_hdf_path, variable=variable)\n",
        "        print(f\"\\nPipe Network Timeseries ({variable}):\")\n",
        "        print(pipe_timeseries.head())  # Print first few rows to avoid overwhelming output\n",
        "    except Exception as e:\n",
        "        print(f\"Error extracting {variable}: {str(e)}\")"
      ]
    },
    {
      "cell_type": "markdown",
      "metadata": {},
      "source": [
        "### Pipe Network Timeseries Data Description\n",
        "\n",
        "The `get_pipe_network_timeseries` function returns an xarray DataArray for each variable. Here's a general description of the data structure:\n",
        "\n",
        "1. **Pipes/Pipe Flow DS and Pipes/Pipe Flow US**:\n",
        "   - Dimensions: time, location (pipe IDs)\n",
        "   - Units: ft^3/s (cubic feet per second)\n",
        "   - Description: Represents the flow rate at the downstream (DS) and upstream (US) ends of pipes over time.\n",
        "\n",
        "2. **Pipes/Vel DS and Pipes/Vel US**:\n",
        "   - Dimensions: time, location (pipe IDs)\n",
        "   - Units: ft/s (feet per second)\n",
        "   - Description: Shows the velocity at the downstream (DS) and upstream (US) ends of pipes over time.\n",
        "\n",
        "3. **Nodes/Depth**:\n",
        "   - Dimensions: time, location (node IDs)\n",
        "   - Units: ft (feet)\n",
        "   - Description: Indicates the depth of water at each node over time.\n",
        "\n",
        "4. **Nodes/Drop Inlet Flow**:\n",
        "   - Dimensions: time, location (node IDs)\n",
        "   - Units: cfs (cubic feet per second)\n",
        "   - Description: Represents the flow rate through drop inlets at each node over time.\n",
        "\n",
        "5. **Nodes/Water Surface**:\n",
        "   - Dimensions: time, location (node IDs)\n",
        "   - Units: ft (feet)\n",
        "   - Description: Shows the water surface elevation at each node over time.\n",
        "\n",
        "General notes:\n",
        "- The 'time' dimension represents the simulation timesteps.\n",
        "- The 'location' dimension represents either pipe IDs or node IDs, depending on the variable.\n",
        "- The number of timesteps and locations may vary depending on the specific dataset and simulation setup.\n",
        "- Negative values in flow variables may indicate reverse flow direction.\n",
        "\n"
      ]
    },
    {
      "cell_type": "code",
      "execution_count": 28,
      "metadata": {},
      "outputs": [
        {
          "name": "stderr",
          "output_type": "stream",
          "text": [
            "2025-03-20 12:03:55 - ras_commander.HdfPipe - INFO - Using HDF file from direct string path: c:\\GH\\ras-commander\\examples\\example_projects\\Davis\\DavisStormSystem.p02.hdf\n",
            "2025-03-20 12:03:55 - ras_commander.HdfPipe - INFO - Final validated HDF file path: c:\\GH\\ras-commander\\examples\\example_projects\\Davis\\DavisStormSystem.p02.hdf\n"
          ]
        },
        {
          "data": {
            "text/plain": [
              "<Figure size 1200x600 with 1 Axes>"
            ]
          },
          "metadata": {},
          "output_type": "display_data"
        },
        {
          "name": "stderr",
          "output_type": "stream",
          "text": [
            "2025-03-20 12:03:55 - ras_commander.HdfPipe - INFO - Using HDF file from direct string path: c:\\GH\\ras-commander\\examples\\example_projects\\Davis\\DavisStormSystem.p02.hdf\n",
            "2025-03-20 12:03:55 - ras_commander.HdfPipe - INFO - Final validated HDF file path: c:\\GH\\ras-commander\\examples\\example_projects\\Davis\\DavisStormSystem.p02.hdf\n"
          ]
        },
        {
          "data": {
            "text/plain": [
              "<Figure size 1200x600 with 1 Axes>"
            ]
          },
          "metadata": {},
          "output_type": "display_data"
        },
        {
          "name": "stderr",
          "output_type": "stream",
          "text": [
            "2025-03-20 12:03:56 - ras_commander.HdfPipe - INFO - Using HDF file from direct string path: c:\\GH\\ras-commander\\examples\\example_projects\\Davis\\DavisStormSystem.p02.hdf\n",
            "2025-03-20 12:03:56 - ras_commander.HdfPipe - INFO - Final validated HDF file path: c:\\GH\\ras-commander\\examples\\example_projects\\Davis\\DavisStormSystem.p02.hdf\n"
          ]
        },
        {
          "data": {
            "text/plain": [
              "<Figure size 1200x600 with 1 Axes>"
            ]
          },
          "metadata": {},
          "output_type": "display_data"
        },
        {
          "name": "stderr",
          "output_type": "stream",
          "text": [
            "2025-03-20 12:03:56 - ras_commander.HdfPipe - INFO - Using HDF file from direct string path: c:\\GH\\ras-commander\\examples\\example_projects\\Davis\\DavisStormSystem.p02.hdf\n",
            "2025-03-20 12:03:56 - ras_commander.HdfPipe - INFO - Final validated HDF file path: c:\\GH\\ras-commander\\examples\\example_projects\\Davis\\DavisStormSystem.p02.hdf\n"
          ]
        },
        {
          "data": {
            "text/plain": [
              "<Figure size 1200x600 with 1 Axes>"
            ]
          },
          "metadata": {},
          "output_type": "display_data"
        },
        {
          "name": "stderr",
          "output_type": "stream",
          "text": [
            "2025-03-20 12:03:56 - ras_commander.HdfPipe - INFO - Using HDF file from direct string path: c:\\GH\\ras-commander\\examples\\example_projects\\Davis\\DavisStormSystem.p02.hdf\n",
            "2025-03-20 12:03:56 - ras_commander.HdfPipe - INFO - Final validated HDF file path: c:\\GH\\ras-commander\\examples\\example_projects\\Davis\\DavisStormSystem.p02.hdf\n"
          ]
        },
        {
          "data": {
            "text/plain": [
              "<Figure size 1200x600 with 1 Axes>"
            ]
          },
          "metadata": {},
          "output_type": "display_data"
        },
        {
          "name": "stderr",
          "output_type": "stream",
          "text": [
            "2025-03-20 12:03:57 - ras_commander.HdfPipe - INFO - Using HDF file from direct string path: c:\\GH\\ras-commander\\examples\\example_projects\\Davis\\DavisStormSystem.p02.hdf\n",
            "2025-03-20 12:03:57 - ras_commander.HdfPipe - INFO - Final validated HDF file path: c:\\GH\\ras-commander\\examples\\example_projects\\Davis\\DavisStormSystem.p02.hdf\n"
          ]
        },
        {
          "data": {
            "text/plain": [
              "<Figure size 1200x600 with 1 Axes>"
            ]
          },
          "metadata": {},
          "output_type": "display_data"
        },
        {
          "name": "stderr",
          "output_type": "stream",
          "text": [
            "2025-03-20 12:03:57 - ras_commander.HdfPipe - INFO - Using HDF file from direct string path: c:\\GH\\ras-commander\\examples\\example_projects\\Davis\\DavisStormSystem.p02.hdf\n",
            "2025-03-20 12:03:57 - ras_commander.HdfPipe - INFO - Final validated HDF file path: c:\\GH\\ras-commander\\examples\\example_projects\\Davis\\DavisStormSystem.p02.hdf\n"
          ]
        },
        {
          "data": {
            "text/plain": [
              "<Figure size 1200x600 with 1 Axes>"
            ]
          },
          "metadata": {},
          "output_type": "display_data"
        }
      ],
      "source": [
        "import matplotlib.pyplot as plt\n",
        "from matplotlib.dates import DateFormatter\n",
        "import numpy as np\n",
        "import random\n",
        "\n",
        "# Define the variables we want to plot\n",
        "variables = [\n",
        "    \"Pipes/Pipe Flow DS\", \"Pipes/Pipe Flow US\", \"Pipes/Vel DS\", \"Pipes/Vel US\",\n",
        "    \"Nodes/Depth\", \"Nodes/Drop Inlet Flow\", \"Nodes/Water Surface\"\n",
        "]\n",
        "\n",
        "# Create a separate plot for each variable\n",
        "for variable in variables:\n",
        "    try:\n",
        "        # Get the data for the current variable\n",
        "        data = HdfPipe.get_pipe_network_timeseries(plan_hdf_path, variable=variable)\n",
        "        \n",
        "        # Create a new figure\n",
        "        fig, ax = plt.subplots(figsize=(12, 6))\n",
        "        \n",
        "        # Pick one random location\n",
        "        random_location = random.choice(data.location.values)\n",
        "        \n",
        "        # Determine if it's a pipe or node variable\n",
        "        if variable.startswith(\"Pipes/\"):\n",
        "            location_type = \"Conduit ID\"\n",
        "        else:\n",
        "            location_type = \"Node ID\"\n",
        "        \n",
        "        # Plot the data for the randomly selected location\n",
        "        ax.plot(data.time, data.sel(location=random_location), label=f'{location_type} {random_location}')\n",
        "        \n",
        "        # Set the title and labels\n",
        "        ax.set_title(f'{variable} Over Time ({location_type} {random_location})')\n",
        "        ax.set_xlabel('Time')  # Corrected from ax.xlabel to ax.set_xlabel\n",
        "        ax.set_ylabel(f'{variable} ({data.attrs[\"units\"]})')  # Corrected from ax.ylabel to ax.set_ylabel\n",
        "        \n",
        "        # Format the x-axis to show dates nicely\n",
        "        ax.xaxis.set_major_formatter(DateFormatter('%Y-%m-%d %H:%M'))\n",
        "        plt.xticks(rotation=45)\n",
        "        \n",
        "        # Add a legend\n",
        "        ax.legend(title=location_type, loc='upper left')\n",
        "        \n",
        "        # Adjust the layout\n",
        "        plt.tight_layout()\n",
        "        \n",
        "        # Show the plot\n",
        "        plt.show()\n",
        "        \n",
        "    except Exception as e:\n",
        "        print(f\"Error plotting {variable}: {str(e)}\")\n"
      ]
    },
    {
      "cell_type": "code",
      "execution_count": 29,
      "metadata": {},
      "outputs": [
        {
          "name": "stderr",
          "output_type": "stream",
          "text": [
            "2025-03-20 12:03:57 - ras_commander.HdfPump - INFO - Using HDF file from direct string path: c:\\GH\\ras-commander\\examples\\example_projects\\Davis\\DavisStormSystem.p02.hdf\n",
            "2025-03-20 12:03:57 - ras_commander.HdfPump - INFO - Final validated HDF file path: c:\\GH\\ras-commander\\examples\\example_projects\\Davis\\DavisStormSystem.p02.hdf\n"
          ]
        },
        {
          "name": "stdout",
          "output_type": "stream",
          "text": [
            "\n",
            "Pump Station Timeseries (Pump Station #1):\n",
            "<xarray.DataArray 'Pump Station #1' (time: 217, variable: 5)> Size: 4kB\n",
            "array([[ 0.       , 24.6      , 38.888123 ,  0.       ,  0.       ],\n",
            "       [ 0.       , 24.6      , 38.888123 ,  0.       ,  0.       ],\n",
            "       [ 0.       , 24.6      , 38.888123 ,  0.       ,  0.       ],\n",
            "       ...,\n",
            "       [29.879196 , 25.919882 , 40.72616  , 29.879196 ,  0.8800183],\n",
            "       [ 0.       , 25.509325 , 40.719368 ,  0.       ,  0.       ],\n",
            "       [ 0.       , 25.691107 , 40.62319  ,  0.       ,  0.       ]],\n",
            "      shape=(217, 5), dtype=float32)\n",
            "Coordinates:\n",
            "  * time      (time) datetime64[ns] 2kB 2000-01-10T12:00:00 ... 2000-01-12\n",
            "  * variable  (variable) <U12 240B 'Flow' 'Stage HW' ... 'Pumps on'\n",
            "Attributes:\n",
            "    units:         [[b'Flow' b'cfs']\\n [b'Stage HW' b'ft']\\n [b'Stage TW' b'f...\n",
            "    pump_station:  Pump Station #1\n"
          ]
        }
      ],
      "source": [
        "# Example 8: Get pump station timeseries\n",
        "pump_station_name = pump_stations_gdf.iloc[0]['Name']  # Get the first pump station name\n",
        "# Use the results_pump_station_timeseries method \n",
        "pump_timeseries = HdfPump.get_pump_station_timeseries(plan_hdf_path, pump_station=pump_station_name)\n",
        "print(f\"\\nPump Station Timeseries ({pump_station_name}):\")\n",
        "print(pump_timeseries)"
      ]
    },
    {
      "cell_type": "code",
      "execution_count": 30,
      "metadata": {},
      "outputs": [
        {
          "name": "stderr",
          "output_type": "stream",
          "text": [
            "2025-03-20 12:03:57 - ras_commander.HdfBase - INFO - Using HDF file from direct string path: c:\\GH\\ras-commander\\examples\\example_projects\\Davis\\DavisStormSystem.p02.hdf\n",
            "2025-03-20 12:03:57 - ras_commander.HdfBase - INFO - Final validated HDF file path: c:\\GH\\ras-commander\\examples\\example_projects\\Davis\\DavisStormSystem.p02.hdf\n"
          ]
        },
        {
          "name": "stdout",
          "output_type": "stream",
          "text": [
            "\n",
            "Exploring group: /Geometry/Pump Stations/\n",
            "\n",
            "\n",
            "    Dataset: /Geometry/Pump Stations//Attributes\n",
            "        Shape: (1,)\n",
            "        Dtype: [('Name', 'S16'), ('Inlet River', 'S16'), ('Inlet Reach', 'S16'), ('Inlet RS', 'S8'), ('Inlet RS Distance', '<f4'), ('Inlet SA/2D', 'S16'), ('Inlet Pipe Node', 'S32'), ('Outlet River', 'S16'), ('Outlet Reach', 'S16'), ('Outlet RS', 'S8'), ('Outlet RS Distance', '<f4'), ('Outlet SA/2D', 'S16'), ('Outlet Pipe Node', 'S32'), ('Reference River', 'S16'), ('Reference Reach', 'S16'), ('Reference RS', 'S8'), ('Reference RS Distance', '<f4'), ('Reference SA/2D', 'S16'), ('Reference Point', 'S32'), ('Reference Pipe Node', 'S32'), ('Highest Pump Line Elevation', '<f4'), ('Pump Groups', '<i4')]\n",
            "\n",
            "    Dataset: /Geometry/Pump Stations//Points\n",
            "        Shape: (1, 2)\n",
            "        Dtype: float64\n",
            "    Attributes for /Geometry/Pump Stations//Points:\n",
            "        Column: b'X,Y'\n",
            "        Row: b'Points'\n",
            "\n",
            "    Group: /Geometry/Pump Stations//Pump Groups\n",
            "        Dataset: /Geometry/Pump Stations//Pump Groups/Attributes\n",
            "            Shape: (1,)\n",
            "            Dtype: [('Pump Station ID', '<i4'), ('Name', 'S16'), ('Bias On', 'u1'), ('Start Up Time', '<f4'), ('Shut Down Time', '<f4'), ('Width', '<f4'), ('Pumps', '<i4')]\n",
            "        Dataset: /Geometry/Pump Stations//Pump Groups/Efficiency Curves Info\n",
            "            Shape: (1, 2)\n",
            "            Dtype: int32\n",
            "    Attributes for /Geometry/Pump Stations//Pump Groups/Efficiency Curves Info:\n",
            "        Column: [b'Starting Index' b'Count']\n",
            "        Row: b'Feature'\n",
            "        Dataset: /Geometry/Pump Stations//Pump Groups/Efficiency Curves Values\n",
            "            Shape: (6, 2)\n",
            "            Dtype: float32\n",
            "    Attributes for /Geometry/Pump Stations//Pump Groups/Efficiency Curves Values:\n",
            "        Column: [b'Head' b'Flow']\n",
            "        Row: b'Points'\n",
            "        Group: /Geometry/Pump Stations//Pump Groups/Pumps\n",
            "            Dataset: /Geometry/Pump Stations//Pump Groups/Pumps/Attributes\n",
            "                Shape: (1,)\n",
            "                Dtype: [('Pump Group ID', '<i4'), ('Name', 'S16'), ('WS On', '<f4'), ('WS Off', '<f4'), ('Default Centerline', 'u1')]\n",
            "            Dataset: /Geometry/Pump Stations//Pump Groups/Pumps/Centerline Info\n",
            "                Shape: (1, 4)\n",
            "                Dtype: int32\n",
            "    Attributes for /Geometry/Pump Stations//Pump Groups/Pumps/Centerline Info:\n",
            "        Column: [b'Point Starting Index' b'Point Count' b'Part Starting Index'\n",
            " b'Part Count']\n",
            "        Feature Type: b'Polyline'\n",
            "        Row: b'Feature'\n",
            "            Dataset: /Geometry/Pump Stations//Pump Groups/Pumps/Centerline Parts\n",
            "                Shape: (1, 2)\n",
            "                Dtype: int32\n",
            "    Attributes for /Geometry/Pump Stations//Pump Groups/Pumps/Centerline Parts:\n",
            "        Column: [b'Point Starting Index' b'Point Count']\n",
            "        Row: b'Part'\n",
            "            Dataset: /Geometry/Pump Stations//Pump Groups/Pumps/Centerline Points\n",
            "                Shape: (2, 2)\n",
            "                Dtype: float64\n",
            "    Attributes for /Geometry/Pump Stations//Pump Groups/Pumps/Centerline Points:\n",
            "        Column: [b'X' b'Y']\n",
            "        Row: b'Points'\n",
            "            Dataset: /Geometry/Pump Stations//Pump Groups/Pumps/Outlet Cells\n",
            "                Shape: (1,)\n",
            "                Dtype: [('Pump Station ID', '<i4'), ('Pump Group ID', '<i4'), ('Pump ID', '<i4'), ('Cell Index', '<i4'), ('Station Start', '<f4'), ('Station End', '<f4')]\n"
          ]
        }
      ],
      "source": [
        "# Use get_hdf5_dataset_info function to get Pipe Conduits data:\n",
        "HdfBase.get_dataset_info(plan_hdf_path, \"/Geometry/Pump Stations/\")"
      ]
    },
    {
      "cell_type": "code",
      "execution_count": 31,
      "metadata": {},
      "outputs": [
        {
          "name": "stderr",
          "output_type": "stream",
          "text": [
            "2025-03-20 12:03:57 - ras_commander.HdfPump - INFO - Using HDF file from direct string path: c:\\GH\\ras-commander\\examples\\example_projects\\Davis\\DavisStormSystem.p02.hdf\n",
            "2025-03-20 12:03:57 - ras_commander.HdfPump - INFO - Final validated HDF file path: c:\\GH\\ras-commander\\examples\\example_projects\\Davis\\DavisStormSystem.p02.hdf\n"
          ]
        },
        {
          "name": "stdout",
          "output_type": "stream",
          "text": [
            "\n",
            "Pump Station Timeseries (Pump Station #1):\n",
            "<xarray.DataArray 'Pump Station #1' (time: 217, variable: 5)> Size: 4kB\n",
            "array([[ 0.       , 24.6      , 38.888123 ,  0.       ,  0.       ],\n",
            "       [ 0.       , 24.6      , 38.888123 ,  0.       ,  0.       ],\n",
            "       [ 0.       , 24.6      , 38.888123 ,  0.       ,  0.       ],\n",
            "       ...,\n",
            "       [29.879196 , 25.919882 , 40.72616  , 29.879196 ,  0.8800183],\n",
            "       [ 0.       , 25.509325 , 40.719368 ,  0.       ,  0.       ],\n",
            "       [ 0.       , 25.691107 , 40.62319  ,  0.       ,  0.       ]],\n",
            "      shape=(217, 5), dtype=float32)\n",
            "Coordinates:\n",
            "  * time      (time) datetime64[ns] 2kB 2000-01-10T12:00:00 ... 2000-01-12\n",
            "  * variable  (variable) <U12 240B 'Flow' 'Stage HW' ... 'Pumps on'\n",
            "Attributes:\n",
            "    units:         [[b'Flow' b'cfs']\\n [b'Stage HW' b'ft']\\n [b'Stage TW' b'f...\n",
            "    pump_station:  Pump Station #1\n"
          ]
        },
        {
          "data": {
            "text/plain": [
              "<Figure size 1200x1200 with 1 Axes>"
            ]
          },
          "metadata": {},
          "output_type": "display_data"
        }
      ],
      "source": [
        "# Extract the pump station timeseries data\n",
        "pump_station_name = pump_stations_gdf.iloc[0]['Name']  # Get the first pump station name\n",
        "pump_timeseries = HdfPump.get_pump_station_timeseries(plan_hdf_path, pump_station=pump_station_name)\n",
        "\n",
        "# Print the pump station timeseries\n",
        "print(f\"\\nPump Station Timeseries ({pump_station_name}):\")\n",
        "print(pump_timeseries)\n",
        "\n",
        "# Create a new figure for plotting\n",
        "fig, ax = plt.subplots(figsize=(12, 12))\n",
        "\n",
        "# Plot each variable in the timeseries\n",
        "for variable in pump_timeseries.coords['variable'].values:\n",
        "    data = pump_timeseries.sel(variable=variable)\n",
        "    \n",
        "    # Decode units to strings\n",
        "    unit = pump_timeseries.attrs[\"units\"][list(pump_timeseries.coords[\"variable\"].values).index(variable)][1].decode('utf-8')\n",
        "    \n",
        "    # Check if the variable is 'Pumps on' to plot it differently\n",
        "    if variable == 'Pumps on':\n",
        "        # Plot with color based on the on/off status\n",
        "        colors = ['green' if val > 0 else 'red' for val in data.values.flatten()]\n",
        "        ax.scatter(pump_timeseries['time'], data, label=f'{variable} ({unit})', color=colors)\n",
        "    else:\n",
        "        ax.plot(pump_timeseries['time'], data, label=f'{variable} ({unit})')\n",
        "        \n",
        "        # Label the peak values\n",
        "        peak_time = pump_timeseries['time'][data.argmax()]\n",
        "        peak_value = data.max()\n",
        "        ax.annotate(f'Peak: {peak_value:.2f}', xy=(peak_time, peak_value), \n",
        "                    xytext=(peak_time, peak_value + 0.1 * peak_value), \n",
        "                    arrowprops=dict(facecolor='black', arrowstyle='->'),\n",
        "                    fontsize=10, color='black', ha='center')\n",
        "\n",
        "# Set the title and labels\n",
        "ax.set_title(f'Timeseries Data for Pump Station: {pump_station_name}')\n",
        "ax.set_xlabel('Time')\n",
        "ax.set_ylabel('Values')\n",
        "\n",
        "# Format the x-axis to show dates nicely\n",
        "ax.xaxis.set_major_formatter(DateFormatter('%Y-%m-%d %H:%M'))\n",
        "plt.xticks(rotation=45)\n",
        "\n",
        "# Add a legend\n",
        "ax.legend(title='Variables', loc='upper left')\n",
        "\n",
        "# Adjust the layout\n",
        "plt.tight_layout()\n",
        "\n",
        "# Show the plot\n",
        "plt.show()\n"
      ]
    },
    {
      "cell_type": "markdown",
      "metadata": {},
      "source": [
        "## Exploring HDF Datasets with HdfBase.get_dataset_info\n",
        "This allows users to find HDF information that is not included in the ras-commander library.  Find the path in HDFView and set the group_path below to explore the HDF datasets and attributes.  Then, use the output to write your own function to extract the data.  "
      ]
    },
    {
      "cell_type": "markdown",
      "metadata": {},
      "source": [
        "#### Use get_hdf5_dataset_info function to get Pipe Conduits data:\n",
        "HdfBase.get_dataset_info(plan_hdf_path, \"/Geometry/Pipe Conduits/\")"
      ]
    },
    {
      "cell_type": "markdown",
      "metadata": {},
      "source": [
        "For HDF datasets that are not supported by the RAS-Commander library, provide the dataset path to HdfBase.get_dataset_info and provide the output to an LLM along with a relevent HDF* class(es) to generate new functions that extend the library's coverage.   "
      ]
    }
  ],
  "metadata": {
    "kernelspec": {
      "display_name": "cmdr_pip_1",
      "language": "python",
      "name": "python3"
    },
    "language_info": {
      "codemirror_mode": {
        "name": "ipython",
        "version": 3
      },
      "file_extension": ".py",
      "mimetype": "text/x-python",
      "name": "python",
      "nbconvert_exporter": "python",
      "pygments_lexer": "ipython3",
      "version": "3.12.9"
    }
  },
  "nbformat": 4,
  "nbformat_minor": 2
}