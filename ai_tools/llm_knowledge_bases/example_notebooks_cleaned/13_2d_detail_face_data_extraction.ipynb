{
  "cells": [
    {
      "cell_type": "markdown",
      "metadata": {},
      "source": [
        "# HEC-RAS 2D Detail Face Data Extraction Examples\n",
        "\n",
        "This notebook demonstrates how to extract detailed 2D face data, display individual cell face results and calculate a discharge weighted velocity using a user-provided profile line located where cell faces are perpendicular to flow. \n"
      ]
    },
    {
      "cell_type": "markdown",
      "metadata": {},
      "source": [
        "## Package Installation and Environment Setup\n",
        "Uncomment and run package installation commands if needed"
      ]
    },
    {
      "cell_type": "code",
      "execution_count": 1,
      "metadata": {},
      "outputs": [],
      "source": [
        "# Install ras-commander from pip (uncomment to install if needed)\n",
        "#!pip install ras-commander\n",
        "# This installs ras-commander and all dependencies"
      ]
    },
    {
      "cell_type": "code",
      "execution_count": 2,
      "metadata": {},
      "outputs": [],
      "source": [
        "# Import all required modules\n",
        "#from ras_commander import *  # Import all ras-commander modules\n",
        "\n",
        "# Import the required libraries for this notebook\n",
        "import h5py\n",
        "import numpy as np\n",
        "import pandas as pd\n",
        "import requests\n",
        "from tqdm import tqdm\n",
        "import scipy\n",
        "import xarray as xr\n",
        "import geopandas as gpd\n",
        "import matplotlib.pyplot as plt\n",
        "from IPython import display\n",
        "import psutil  # For getting system CPU info\n",
        "from concurrent.futures import ThreadPoolExecutor, as_completed\n",
        "import time\n",
        "import subprocess\n",
        "import sys\n",
        "import os\n",
        "import shutil\n",
        "from datetime import datetime, timedelta\n",
        "from pathlib import Path  # Ensure pathlib is imported for file operations\n",
        "import pyproj\n",
        "from shapely.geometry import Point, LineString, Polygon\n",
        "import xarray as xr\n",
        "from mpl_toolkits.axes_grid1.inset_locator import inset_axes\n",
        "import matplotlib.patches as patches\n",
        "from matplotlib.patches import ConnectionPatch\n",
        "import logging\n",
        "from pathlib import Path\n",
        "import rasterio\n",
        "from rasterio.plot import show\n",
        "from pathlib import Path"
      ]
    },
    {
      "cell_type": "code",
      "execution_count": 3,
      "metadata": {},
      "outputs": [
        {
          "name": "stdout",
          "output_type": "stream",
          "text": [
            "ras_commander imported successfully\n"
          ]
        }
      ],
      "source": [
        "# This cell will try to import the pip package, if it fails it will \n",
        "# add the parent directory to the Python path and try to import again\n",
        "# This assumes you are working in a subfolder of the ras-commander repository\n",
        "# This allows a user's revisions to be tested locally without installing the package\n",
        "\n",
        "import sys\n",
        "from pathlib import Path\n",
        "\n",
        "# Flexible imports to allow for development without installation \n",
        "#  ** Use this version with Jupyter Notebooks **\n",
        "try:\n",
        "    # Try to import from the installed package\n",
        "    from ras_commander import *\n",
        "except ImportError:\n",
        "    # If the import fails, add the parent directory to the Python path\n",
        "    import os\n",
        "    current_file = Path(os.getcwd()).resolve()\n",
        "    rascmdr_directory = current_file.parent\n",
        "    sys.path.append(str(rascmdr_directory))\n",
        "    print(\"Loading ras-commander from local dev copy\")\n",
        "    # Now try to import again\n",
        "    from ras_commander import *\n",
        "print(\"ras_commander imported successfully\")\n"
      ]
    },
    {
      "cell_type": "markdown",
      "metadata": {},
      "source": [
        "Note: This notebook relies on the Chippewa 2D Project along with:\n",
        " - A user-generated GeoJSON containing the proposed profile lines\n",
        " - An example is provided in the \"data\" subfolder with name profile_lines_chippewa2D.geojson"
      ]
    },
    {
      "cell_type": "code",
      "execution_count": 4,
      "metadata": {},
      "outputs": [
        {
          "name": "stderr",
          "output_type": "stream",
          "text": [
            "2025-04-09 08:29:53 - ras_commander.RasPrj - INFO - Initializing global 'ras' object via init_ras_project function.\n",
            "2025-04-09 08:29:53 - ras_commander.RasMap - INFO - Successfully parsed RASMapper file: d:\\GitHub\\ras-commander\\examples\\example_projects\\Chippewa_2D\\Chippewa_2D.rasmap\n",
            "2025-04-09 08:29:53 - ras_commander.RasPrj - INFO - Project initialized. ras_object project folder: d:\\GitHub\\ras-commander\\examples\\example_projects\\Chippewa_2D\n"
          ]
        },
        {
          "name": "stdout",
          "output_type": "stream",
          "text": [
            "Chippewa_2D.p02.hdf already exists. Skipping project extraction and plan execution.\n"
          ]
        }
      ],
      "source": [
        "# Download the Chippewa_2D project from HEC and run plan 01\n",
        "\n",
        "# Define the path to the Chippewa_2D project\n",
        "current_dir = Path.cwd()  # Adjust if your notebook is in a different directory\n",
        "bald_eagle_path = current_dir / \"example_projects\" / \"Chippewa_2D\"\n",
        "import logging\n",
        "\n",
        "# Check if Chippewa_2D.p02.hdf exists (so we don't have to re-run the simulation when re-running or debugging)\n",
        "hdf_file = bald_eagle_path / \"Chippewa_2D.p02.hdf\"\n",
        "\n",
        "if not hdf_file.exists():\n",
        "    # Initialize RasExamples and extract the Chippewa_2D project\n",
        "    RasExamples.extract_project([\"Chippewa_2D\"])\n",
        "\n",
        "    # Initialize the RAS project using the default global ras object\n",
        "    init_ras_project(bald_eagle_path, \"6.6\")\n",
        "    logging.info(f\"Bald Eagle project initialized with folder: {ras.project_folder}\")\n",
        "    \n",
        "    logging.info(f\"Bald Eagle object id: {id(ras)}\")\n",
        "    \n",
        "    # Define the plan number to execute\n",
        "    plan_number = \"02\"\n",
        "\n",
        "    # Update run flags for the project\n",
        "    RasPlan.update_run_flags(\n",
        "        plan_number,\n",
        "        geometry_preprocessor=True,\n",
        "        unsteady_flow_simulation=True,\n",
        "        run_sediment=False,\n",
        "        post_processor=True,\n",
        "        floodplain_mapping=False\n",
        "    )\n",
        "\n",
        "    # Execute Plan 02 using RasCmdr for Bald Eagle\n",
        "    print(f\"Executing Plan {plan_number} for the Bald Eagle Creek project...\")\n",
        "    success_bald_eagle = RasCmdr.compute_plan(plan_number)\n",
        "    if success_bald_eagle:\n",
        "        print(f\"Plan {plan_number} executed successfully for Bald Eagle.\\n\")\n",
        "    else:\n",
        "        print(f\"Plan {plan_number} execution failed for Bald Eagle.\\n\")\n",
        "else:\n",
        "    print(\"Chippewa_2D.p02.hdf already exists. Skipping project extraction and plan execution.\")\n",
        "    # Initialize the RAS project using the default global ras object\n",
        "    init_ras_project(bald_eagle_path, \"6.6\")\n",
        "    plan_number = \"02\""
      ]
    },
    {
      "cell_type": "code",
      "execution_count": 5,
      "metadata": {},
      "outputs": [
        {
          "data": {
            "text/html": "<div>\n<style scoped>\\n', '    .dataframe tbody tr th:only-of-type {\\n', '        vertical-align: middle;\\n', '    }\\n', '\\n', '    .dataframe tbody tr th {\\n', '        vertical-align: top;\\n', '    }\\n', '\\n', '    .dataframe thead th {\\n', '        text-align: right;\\n', '    }\\n', '</style>\n<table border=\"1\" class=\"dataframe\">\n  <thead>\\n', '    <tr style=\"text-align: right;\">\\n', '      <th></th>\\n', '      <th>plan_number</th>\\n', '      <th>unsteady_number</th>\\n', '      <th>geometry_number</th>\\n', '      <th>Plan Title</th>\\n', '      <th>Program Version</th>\\n', '      <th>Short Identifier</th>\\n', '      <th>Simulation Date</th>\\n', '      <th>Computation Interval</th>\\n', '      <th>Mapping Interval</th>\\n', '      <th>Run HTab</th>\\n', '      <th>...</th>\\n', '      <th>DSS File</th>\\n', '      <th>Friction Slope Method</th>\\n', '      <th>UNET D2 SolverType</th>\\n', '      <th>UNET D2 Name</th>\\n', '      <th>HDF_Results_Path</th>\\n', '      <th>Geom File</th>\\n', '      <th>Geom Path</th>\\n', '      <th>Flow File</th>\\n', '      <th>Flow Path</th>\\n', '      <th>full_path</th>\\n', '    </tr>\\n', '  </thead>\n  <tbody>\n    <tr>\\n', '      <th>0</th>\\n', '      <td>02</td>\\n', '      <td>04</td>\\n', '      <td>01</td>\\n', '      <td>100ft Sediment</td>\\n', '      <td>6.40</td>\\n', '      <td>100ft Sediment</td>\\n', '      <td>02apr2019,0000,05may2019,2400</td>\\n', '      <td>2MIN</td>\\n', '      <td>30MIN</td>\\n', '      <td>1</td>\\n', '      <td>...</td>\\n', '      <td>dss</td>\\n', '      <td>1</td>\\n', '      <td>PARDISO (Direct)</td>\\n', '      <td>Perimeter 1</td>\\n', '      <td>d:\\\\GitHub\\\\ras-commander\\\\examples\\\\example_proje...</td>\\n', '      <td>01</td>\\n', '      <td>d:\\\\GitHub\\\\ras-commander\\\\examples\\\\example_proje...</td>\\n', '      <td>04</td>\\n', '      <td>d:\\\\GitHub\\\\ras-commander\\\\examples\\\\example_proje...</td>\\n', '      <td>d:\\\\GitHub\\\\ras-commander\\\\examples\\\\example_proje...</td>\\n', '    </tr>\n    <tr><td colspan=\"100%\" style=\"text-align:center\">[... additional rows truncated ...]</td></tr>\n  </tbody>\n</table>\n</div>",
            "text/plain": "['  plan_number unsteady_number geometry_number      Plan Title Program Version  \\\\\\n', '0          02              04              01  100ft Sediment            6.40   \\n', '\\n', '  Short Identifier                Simulation Date Computation Interval  \\\\\\n', '0   100ft Sediment  02apr2019,0000,05may2019,2400                 2MIN   \\n', '\\n', '  Mapping Interval Run HTab  ... DSS File Friction Slope Method  \\\\\\n', '0            30MIN        1  ...      dss                     1   \\n', '\\n', '  UNET D2 SolverType UNET D2 Name  \\\\\\n', '0   PARDISO (Direct)  Perimeter 1   \\n', '\\n', '                                    HDF_Results_Path Geom File  \\\\\\n', '0  d:\\\\GitHub\\\\ras-commander\\\\examples\\\\example_proje...        01   \\n', '\\n', '                                           Geom Path  Flow File  \\\\\\n', '0  d:\\\\GitHub\\\\ras-commander\\\\examples\\\\example_proje...         04   \\n', '\\n', '                                           Flow Path  \\\\\\n', '0  d:\\\\GitHub\\\\ras-commander\\\\examples\\\\example_proje...   \\n', '\\n', '                                           full_path  \\n', '0  d:\\\\GitHub\\\\ras-commander\\\\examples\\\\example_proje...  \\n', '\\n', '[1 rows x 29 columns]']"
          },
          "execution_count": 5,
          "metadata": {},
          "output_type": "execute_result"
        }
      ],
      "source": [
        "# Show ras object info\n",
        "ras.plan_df"
      ]
    },
    {
      "cell_type": "code",
      "execution_count": 6,
      "metadata": {},
      "outputs": [
        {
          "data": {
            "text/html": "<div>\n<style scoped>\\n', '    .dataframe tbody tr th:only-of-type {\\n', '        vertical-align: middle;\\n', '    }\\n', '\\n', '    .dataframe tbody tr th {\\n', '        vertical-align: top;\\n', '    }\\n', '\\n', '    .dataframe thead th {\\n', '        text-align: right;\\n', '    }\\n', '</style>\n<table border=\"1\" class=\"dataframe\">\n  <thead>\\n', '    <tr style=\"text-align: right;\">\\n', '      <th></th>\\n', '      <th>unsteady_number</th>\\n', '      <th>full_path</th>\\n', '      <th>geometry_number</th>\\n', '      <th>Flow Title</th>\\n', '      <th>Program Version</th>\\n', '      <th>Use Restart</th>\\n', '      <th>Precipitation Mode</th>\\n', '      <th>Wind Mode</th>\\n', '      <th>Met BC=Precipitation|Expanded View</th>\\n', '      <th>Met BC=Precipitation|Gridded Source</th>\\n', '    </tr>\\n', '  </thead>\n  <tbody>\n    <tr>\\n', '      <th>0</th>\\n', '      <td>04</td>\\n', '      <td>d:\\\\GitHub\\\\ras-commander\\\\examples\\\\example_proje...</td>\\n', '      <td>None</td>\\n', '      <td>2019-test</td>\\n', '      <td>6.40</td>\\n', '      <td>0</td>\\n', '      <td>Disable</td>\\n', '      <td>No Wind Forces</td>\\n', '      <td>0</td>\\n', '      <td>DSS</td>\\n', '    </tr>\n    <tr><td colspan=\"100%\" style=\"text-align:center\">[... additional rows truncated ...]</td></tr>\n  </tbody>\n</table>\n</div>",
            "text/plain": "['  unsteady_number                                          full_path  \\\\\\n', '0              04  d:\\\\GitHub\\\\ras-commander\\\\examples\\\\example_proje...   \\n', '\\n', '  geometry_number Flow Title Program Version Use Restart Precipitation Mode  \\\\\\n', '0            None  2019-test            6.40           0            Disable   \\n', '\\n', '        Wind Mode Met BC=Precipitation|Expanded View  \\\\\\n', '0  No Wind Forces                                  0   \\n', '\\n', '  Met BC=Precipitation|Gridded Source  \\n', '0                                 DSS  ']"
          },
          "execution_count": 6,
          "metadata": {},
          "output_type": "execute_result"
        }
      ],
      "source": [
        "ras.unsteady_df"
      ]
    },
    {
      "cell_type": "code",
      "execution_count": 7,
      "metadata": {},
      "outputs": [
        {
          "data": {
            "text/html": "<div>\n<style scoped>\\n', '    .dataframe tbody tr th:only-of-type {\\n', '        vertical-align: middle;\\n', '    }\\n', '\\n', '    .dataframe tbody tr th {\\n', '        vertical-align: top;\\n', '    }\\n', '\\n', '    .dataframe thead th {\\n', '        text-align: right;\\n', '    }\\n', '</style>\n<table border=\"1\" class=\"dataframe\">\n  <thead>\\n', '    <tr style=\"text-align: right;\">\\n', '      <th></th>\\n', '      <th>unsteady_number</th>\\n', '      <th>boundary_condition_number</th>\\n', '      <th>river_reach_name</th>\\n', '      <th>river_station</th>\\n', '      <th>storage_area_name</th>\\n', '      <th>pump_station_name</th>\\n', '      <th>bc_type</th>\\n', '      <th>hydrograph_type</th>\\n', '      <th>Interval</th>\\n', '      <th>DSS Path</th>\\n', '      <th>...</th>\\n', '      <th>DSS File</th>\\n', '      <th>full_path</th>\\n', '      <th>geometry_number</th>\\n', '      <th>Flow Title</th>\\n', '      <th>Program Version</th>\\n', '      <th>Use Restart</th>\\n', '      <th>Precipitation Mode</th>\\n', '      <th>Wind Mode</th>\\n', '      <th>Met BC=Precipitation|Expanded View</th>\\n', '      <th>Met BC=Precipitation|Gridded Source</th>\\n', '    </tr>\\n', '  </thead>\n  <tbody>\n    <tr>\\n', '      <th>0</th>\\n', '      <td>04</td>\\n', '      <td>1</td>\\n', '      <td></td>\\n', '      <td></td>\\n', '      <td></td>\\n', '      <td></td>\\n', '      <td>Flow Hydrograph</td>\\n', '      <td>Flow Hydrograph</td>\\n', '      <td>1DAY</td>\\n', '      <td></td>\\n', '      <td>...</td>\\n', '      <td>NaN</td>\\n', '      <td>d:\\\\GitHub\\\\ras-commander\\\\examples\\\\example_proje...</td>\\n', '      <td>None</td>\\n', '      <td>2019-test</td>\\n', '      <td>6.40</td>\\n', '      <td>0</td>\\n', '      <td>Disable</td>\\n', '      <td>No Wind Forces</td>\\n', '      <td>0</td>\\n', '      <td>DSS</td>\\n', '    </tr><tr>\\n', '      <th>1</th>\\n', '      <td>04</td>\\n', '      <td>2</td>\\n', '      <td></td>\\n', '      <td></td>\\n', '      <td></td>\\n', '      <td></td>\\n', '      <td>Flow Hydrograph</td>\\n', '      <td>Flow Hydrograph</td>\\n', '      <td>1DAY</td>\\n', '      <td>/MISSISSIPPI R LAKE PEPIN/765.51/FLOW/01JAN197...</td>\\n', '      <td>...</td>\\n', '      <td>..\\\\..\\\\2018\\\\ChippewaRiverBedload\\\\RAS_Final\\\\Sedi...</td>\\n', '      <td>d:\\\\GitHub\\\\ras-commander\\\\examples\\\\example_proje...</td>\\n', '      <td>None</td>\\n', '      <td>2019-test</td>\\n', '      <td>6.40</td>\\n', '      <td>0</td>\\n', '      <td>Disable</td>\\n', '      <td>No Wind Forces</td>\\n', '      <td>0</td>\\n', '      <td>DSS</td>\\n', '    </tr><tr>\\n', '      <th>2</th>\\n', '      <td>04</td>\\n', '      <td>3</td>\\n', '      <td></td>\\n', '      <td></td>\\n', '      <td></td>\\n', '      <td></td>\\n', '      <td>Stage Hydrograph</td>\\n', '      <td>Stage Hydrograph</td>\\n', '      <td>1DAY</td>\\n', '      <td>/MISSISSIPPI R LOWER POOL 4/754.00/STAGE/01JAN...</td>\\n', '      <td>...</td>\\n', '      <td>..\\\\..\\\\2018\\\\ChippewaRiverBedload\\\\RAS_Final\\\\Sedi...</td>\\n', '      <td>d:\\\\GitHub\\\\ras-commander\\\\examples\\\\example_proje...</td>\\n', '      <td>None</td>\\n', '      <td>2019-test</td>\\n', '      <td>6.40</td>\\n', '      <td>0</td>\\n', '      <td>Disable</td>\\n', '      <td>No Wind Forces</td>\\n', '      <td>0</td>\\n', '      <td>DSS</td>\\n', '    </tr><tr>\\n', '      <th>3</th>\\n', '      <td>04</td>\\n', '      <td>4</td>\\n', '      <td></td>\\n', '      <td></td>\\n', '      <td></td>\\n', '      <td></td>\\n', '      <td>Flow Hydrograph</td>\\n', '      <td>Flow Hydrograph</td>\\n', '      <td>1DAY</td>\\n', '      <td></td>\\n', '      <td>...</td>\\n', '      <td>NaN</td>\\n', '      <td>d:\\\\GitHub\\\\ras-commander\\\\examples\\\\example_proje...</td>\\n', '      <td>None</td>\\n', '      <td>2019-test</td>\\n', '      <td>6.40</td>\\n', '      <td>0</td>\\n', '      <td>Disable</td>\\n', '      <td>No Wind Forces</td>\\n', '      <td>0</td>\\n', '      <td>DSS</td>\\n', '    </tr><tr>\\n', '      <th>4</th>\\n', '      <td>04</td>\\n', '      <td>5</td>\\n', '      <td></td>\\n', '      <td></td>\\n', '      <td></td>\\n', '      <td></td>\\n', '      <td>Stage Hydrograph</td>\\n', '      <td>Stage Hydrograph</td>\\n', '      <td>1DAY</td>\\n', '      <td></td>\\n', '      <td>...</td>\\n', '      <td>NaN</td>\\n', '      <td>d:\\\\GitHub\\\\ras-commander\\\\examples\\\\example_proje...</td>\\n', '      <td>None</td>\\n', '      <td>2019-test</td>\\n', '      <td>6.40</td>\\n', '      <td>0</td>\\n', '      <td>Disable</td>\\n', '      <td>No Wind Forces</td>\\n', '      <td>0</td>\\n', '      <td>DSS</td>\\n', '    </tr>\n    <tr><td colspan=\"100%\" style=\"text-align:center\">[... additional rows truncated ...]</td></tr>\n  </tbody>\n</table>\n</div>",
            "text/plain": "['  unsteady_number  boundary_condition_number river_reach_name river_station  \\\\\\n', '0              04                          1                                  \\n', '1              04                          2                                  \\n', '2              04                          3                                  \\n', '3              04                          4                                  \\n', '4              04                          5                                  \\n', '\\n', '  storage_area_name pump_station_name           bc_type   hydrograph_type  \\\\\\n', '0                                       Flow Hydrograph   Flow Hydrograph   \\n', '1                                       Flow Hydrograph   Flow Hydrograph   \\n', '2                                      Stage Hydrograph  Stage Hydrograph   \\n', '3                                       Flow Hydrograph   Flow Hydrograph   \\n', '4                                      Stage Hydrograph  Stage Hydrograph   \n...\n[Output truncated, 3367 characters total]"
          },
          "execution_count": 7,
          "metadata": {},
          "output_type": "execute_result"
        }
      ],
      "source": [
        "ras.boundaries_df "
      ]
    },
    {
      "cell_type": "code",
      "execution_count": 8,
      "metadata": {},
      "outputs": [
        {
          "data": {
            "text/html": "<div>\n<style scoped>\\n', '    .dataframe tbody tr th:only-of-type {\\n', '        vertical-align: middle;\\n', '    }\\n', '\\n', '    .dataframe tbody tr th {\\n', '        vertical-align: top;\\n', '    }\\n', '\\n', '    .dataframe thead th {\\n', '        text-align: right;\\n', '    }\\n', '</style>\n<table border=\"1\" class=\"dataframe\">\n  <thead>\\n', '    <tr style=\"text-align: right;\">\\n', '      <th></th>\\n', '      <th>plan_number</th>\\n', '      <th>unsteady_number</th>\\n', '      <th>geometry_number</th>\\n', '      <th>Plan Title</th>\\n', '      <th>Program Version</th>\\n', '      <th>Short Identifier</th>\\n', '      <th>Simulation Date</th>\\n', '      <th>Computation Interval</th>\\n', '      <th>Mapping Interval</th>\\n', '      <th>Run HTab</th>\\n', '      <th>...</th>\\n', '      <th>DSS File</th>\\n', '      <th>Friction Slope Method</th>\\n', '      <th>UNET D2 SolverType</th>\\n', '      <th>UNET D2 Name</th>\\n', '      <th>HDF_Results_Path</th>\\n', '      <th>Geom File</th>\\n', '      <th>Geom Path</th>\\n', '      <th>Flow File</th>\\n', '      <th>Flow Path</th>\\n', '      <th>full_path</th>\\n', '    </tr>\\n', '  </thead>\n  <tbody>\n    <tr>\\n', '      <th>0</th>\\n', '      <td>02</td>\\n', '      <td>04</td>\\n', '      <td>01</td>\\n', '      <td>100ft Sediment</td>\\n', '      <td>6.40</td>\\n', '      <td>100ft Sediment</td>\\n', '      <td>02apr2019,0000,05may2019,2400</td>\\n', '      <td>2MIN</td>\\n', '      <td>30MIN</td>\\n', '      <td>1</td>\\n', '      <td>...</td>\\n', '      <td>dss</td>\\n', '      <td>1</td>\\n', '      <td>PARDISO (Direct)</td>\\n', '      <td>Perimeter 1</td>\\n', '      <td>d:\\\\GitHub\\\\ras-commander\\\\examples\\\\example_proje...</td>\\n', '      <td>01</td>\\n', '      <td>d:\\\\GitHub\\\\ras-commander\\\\examples\\\\example_proje...</td>\\n', '      <td>04</td>\\n', '      <td>d:\\\\GitHub\\\\ras-commander\\\\examples\\\\example_proje...</td>\\n', '      <td>d:\\\\GitHub\\\\ras-commander\\\\examples\\\\example_proje...</td>\\n', '    </tr>\n    <tr><td colspan=\"100%\" style=\"text-align:center\">[... additional rows truncated ...]</td></tr>\n  </tbody>\n</table>\n</div>",
            "text/plain": "['  plan_number unsteady_number geometry_number      Plan Title Program Version  \\\\\\n', '0          02              04              01  100ft Sediment            6.40   \\n', '\\n', '  Short Identifier                Simulation Date Computation Interval  \\\\\\n', '0   100ft Sediment  02apr2019,0000,05may2019,2400                 2MIN   \\n', '\\n', '  Mapping Interval Run HTab  ... DSS File Friction Slope Method  \\\\\\n', '0            30MIN        1  ...      dss                     1   \\n', '\\n', '  UNET D2 SolverType UNET D2 Name  \\\\\\n', '0   PARDISO (Direct)  Perimeter 1   \\n', '\\n', '                                    HDF_Results_Path Geom File  \\\\\\n', '0  d:\\\\GitHub\\\\ras-commander\\\\examples\\\\example_proje...        01   \\n', '\\n', '                                           Geom Path  Flow File  \\\\\\n', '0  d:\\\\GitHub\\\\ras-commander\\\\examples\\\\example_proje...         04   \\n', '\\n', '                                           Flow Path  \\\\\\n', '0  d:\\\\GitHub\\\\ras-commander\\\\examples\\\\example_proje...   \\n', '\\n', '                                           full_path  \\n', '0  d:\\\\GitHub\\\\ras-commander\\\\examples\\\\example_proje...  \\n', '\\n', '[1 rows x 29 columns]']"
          },
          "execution_count": 8,
          "metadata": {},
          "output_type": "execute_result"
        }
      ],
      "source": [
        "ras.get_hdf_entries()"
      ]
    },
    {
      "cell_type": "markdown",
      "metadata": {},
      "source": [
        "# Find Paths for Results and Geometry HDF's"
      ]
    },
    {
      "cell_type": "code",
      "execution_count": 9,
      "metadata": {},
      "outputs": [],
      "source": [
        "# Define the HDF input path as Plan Number\n",
        "\n",
        "plan_number = \"02\"  # Assuming we're using plan 01 as in the previous code\n"
      ]
    },
    {
      "cell_type": "code",
      "execution_count": 10,
      "metadata": {},
      "outputs": [],
      "source": [
        "# Get the plan HDF path for the plan_number defined above\n",
        "plan_hdf_path = ras.plan_df.loc[ras.plan_df['plan_number'] == plan_number, 'HDF_Results_Path'].values[0]"
      ]
    },
    {
      "cell_type": "code",
      "execution_count": 11,
      "metadata": {},
      "outputs": [
        {
          "data": {
            "text/plain": "[\"'d:\\\\\\\\GitHub\\\\\\\\ras-commander\\\\\\\\examples\\\\\\\\example_projects\\\\\\\\Chippewa_2D\\\\\\\\Chippewa_2D.p02.hdf'\"]"
          },
          "execution_count": 11,
          "metadata": {},
          "output_type": "execute_result"
        }
      ],
      "source": [
        "plan_hdf_path"
      ]
    },
    {
      "cell_type": "code",
      "execution_count": 12,
      "metadata": {},
      "outputs": [],
      "source": [
        "# Alternate: Get the geometry HDF path if you are extracting geometry elements from the geometry HDF \n",
        "geom_hdf_path = ras.plan_df.loc[ras.plan_df['plan_number'] == plan_number, 'Geom Path'].values[0] + '.hdf'"
      ]
    },
    {
      "cell_type": "code",
      "execution_count": 13,
      "metadata": {},
      "outputs": [
        {
          "data": {
            "text/plain": "[\"'d:\\\\\\\\GitHub\\\\\\\\ras-commander\\\\\\\\examples\\\\\\\\example_projects\\\\\\\\Chippewa_2D\\\\\\\\Chippewa_2D.g01.hdf'\"]"
          },
          "execution_count": 13,
          "metadata": {},
          "output_type": "execute_result"
        }
      ],
      "source": [
        "geom_hdf_path"
      ]
    },
    {
      "cell_type": "code",
      "execution_count": 14,
      "metadata": {},
      "outputs": [
        {
          "name": "stderr",
          "output_type": "stream",
          "text": [
            "2025-04-09 08:29:53 - ras_commander.HdfResultsPlan - INFO - Final validated HDF file path: d:\\GitHub\\ras-commander\\examples\\example_projects\\Chippewa_2D\\Chippewa_2D.p02.hdf\n",
            "2025-04-09 08:29:53 - ras_commander.HdfResultsPlan - INFO - Extracting Plan Information from: Chippewa_2D.p02.hdf\n",
            "2025-04-09 08:29:53 - ras_commander.HdfResultsPlan - INFO - Plan Name: 100ft Sediment\n",
            "2025-04-09 08:29:53 - ras_commander.HdfResultsPlan - INFO - Simulation Duration (hours): 816.0\n"
          ]
        },
        {
          "name": "stdout",
          "output_type": "stream",
          "text": [
            "\n",
            "Example 2: Extracting runtime and compute time data\n"
          ]
        }
      ],
      "source": [
        "# Example: Extract runtime and compute time data\n",
        "print(\"\\nExample 2: Extracting runtime and compute time data\")\n",
        "runtime_df = HdfResultsPlan.get_runtime_data(hdf_path=plan_number)\n",
        "if runtime_df is not None:\n",
        "    runtime_df\n",
        "else:\n",
        "    print(\"No runtime data found.\")"
      ]
    },
    {
      "cell_type": "code",
      "execution_count": 15,
      "metadata": {},
      "outputs": [
        {
          "name": "stdout",
          "output_type": "stream",
          "text": [
            "d:\\GitHub\\ras-commander\\examples\\example_projects\\Chippewa_2D\\Chippewa_2D.g01.hdf\n"
          ]
        }
      ],
      "source": [
        "# For all of the RasGeomHdf Class Functions, we will use geom_hdf_path\n",
        "print(geom_hdf_path)\n",
        "\n",
        "# For the example project, plan 02 is associated with geometry 09\n",
        "# If you want to call the geometry by number, call RasHdfGeom functions with a number\n",
        "# Otherwise, if you want to look up geometry hdf path by plan number, follow the logic in the previous code cells"
      ]
    },
    {
      "cell_type": "code",
      "execution_count": 16,
      "metadata": {},
      "outputs": [
        {
          "name": "stderr",
          "output_type": "stream",
          "text": [
            "2025-04-09 08:29:53 - ras_commander.HdfBase - INFO - Using HDF file from direct string path: d:\\GitHub\\ras-commander\\examples\\example_projects\\Chippewa_2D\\Chippewa_2D.g01.hdf\n",
            "2025-04-09 08:29:53 - ras_commander.HdfBase - INFO - Final validated HDF file path: d:\\GitHub\\ras-commander\\examples\\example_projects\\Chippewa_2D\\Chippewa_2D.g01.hdf\n",
            "2025-04-09 08:29:54 - ras_commander.HdfBase - CRITICAL - No valid projection found. Checked:\n",
            "1. HDF file projection attribute: d:\\GitHub\\ras-commander\\examples\\example_projects\\Chippewa_2D\\Chippewa_2D.g01.hdf\n",
            "2. RASMapper projection file d:\\GitHub\\ras-commander\\examples\\example_projects\\Chippewa_2D\\.Winona_Upload\\LifeSim model\\Winona Levee SQRA 2019\\RAS\\AW\\MMC_Projection.prj found in RASMapper file, but was invalid\n",
            "To fix this:\n",
            "1. Open RASMapper\n",
            "2. Click Map > Set Projection\n",
            "3. Select an appropriate projection file or coordinate system\n",
            "4. Save the RASMapper project\n"
          ]
        },
        {
          "name": "stdout",
          "output_type": "stream",
          "text": [
            "\n",
            "Extracting Projection from HDF\n",
            "No projection information found.\n"
          ]
        }
      ],
      "source": [
        "# Use HdfUtils for extracting projection\n",
        "print(\"\\nExtracting Projection from HDF\")\n",
        "projection = HdfBase.get_projection(hdf_path=geom_hdf_path)\n",
        "if projection:\n",
        "    print(f\"Projection: {projection}\")\n",
        "else:\n",
        "    print(\"No projection information found.\")"
      ]
    },
    {
      "cell_type": "code",
      "execution_count": 17,
      "metadata": {},
      "outputs": [],
      "source": [
        "# Set the  to USA Contiguous Albers Equal Area Conic (USGS version)\n",
        "# Note, we would usually call the projection function in HdfMesh but the projection is not set in this example project\n",
        "projection = 'EPSG:5070'  "
      ]
    },
    {
      "cell_type": "code",
      "execution_count": 18,
      "metadata": {},
      "outputs": [
        {
          "name": "stderr",
          "output_type": "stream",
          "text": [
            "2025-04-09 08:29:54 - ras_commander.HdfPlan - INFO - Using HDF file from direct string path: d:\\GitHub\\ras-commander\\examples\\example_projects\\Chippewa_2D\\Chippewa_2D.g01.hdf\n",
            "2025-04-09 08:29:54 - ras_commander.HdfPlan - INFO - Final validated HDF file path: d:\\GitHub\\ras-commander\\examples\\example_projects\\Chippewa_2D\\Chippewa_2D.g01.hdf\n",
            "2025-04-09 08:29:54 - ras_commander.HdfPlan - INFO - Getting geometry attributes from d:\\GitHub\\ras-commander\\examples\\example_projects\\Chippewa_2D\\Chippewa_2D.g01.hdf\n",
            "2025-04-09 08:29:54 - ras_commander.HdfPlan - INFO - Checking for Geometry group in d:\\GitHub\\ras-commander\\examples\\example_projects\\Chippewa_2D\\Chippewa_2D.g01.hdf\n",
            "2025-04-09 08:29:54 - ras_commander.HdfPlan - INFO - Getting root level geometry attributes\n",
            "2025-04-09 08:29:54 - ras_commander.HdfPlan - INFO - Successfully extracted 17 root level geometry attributes\n"
          ]
        },
        {
          "name": "stdout",
          "output_type": "stream",
          "text": [
            "\n",
            "Example: Extracting Base Geometry Attributes\n",
            "Base Geometry Attributes:\n"
          ]
        }
      ],
      "source": [
        "# Use HdfPlan for geometry-related operations\n",
        "print(\"\\nExample: Extracting Base Geometry Attributes\")\n",
        "geom_attrs = HdfPlan.get_geometry_information(geom_hdf_path)\n",
        "\n",
        "if not geom_attrs.empty:\n",
        "    # Display the DataFrame directly\n",
        "    print(\"Base Geometry Attributes:\")\n",
        "    geom_attrs\n",
        "else:\n",
        "    print(\"No base geometry attributes found.\")\n"
      ]
    },
    {
      "cell_type": "code",
      "execution_count": 19,
      "metadata": {},
      "outputs": [
        {
          "name": "stderr",
          "output_type": "stream",
          "text": [
            "2025-04-09 08:29:54 - ras_commander.HdfMesh - INFO - Using HDF file from direct string path: d:\\GitHub\\ras-commander\\examples\\example_projects\\Chippewa_2D\\Chippewa_2D.g01.hdf\n",
            "2025-04-09 08:29:54 - ras_commander.HdfMesh - INFO - Final validated HDF file path: d:\\GitHub\\ras-commander\\examples\\example_projects\\Chippewa_2D\\Chippewa_2D.g01.hdf\n"
          ]
        },
        {
          "name": "stdout",
          "output_type": "stream",
          "text": [
            "\n",
            "Example 3: Listing 2D Flow Area Names\n",
            "2D Flow Area Names: ['Perimeter 1']\n"
          ]
        }
      ],
      "source": [
        "# Use HdfMesh for geometry-related operations\n",
        "print(\"\\nExample 3: Listing 2D Flow Area Names\")\n",
        "flow_area_names = HdfMesh.get_mesh_area_names(geom_hdf_path)\n",
        "print(\"2D Flow Area Names:\", flow_area_names)"
      ]
    },
    {
      "cell_type": "code",
      "execution_count": 20,
      "metadata": {},
      "outputs": [
        {
          "name": "stderr",
          "output_type": "stream",
          "text": [
            "2025-04-09 08:29:54 - ras_commander.HdfMesh - INFO - Using HDF file from direct string path: d:\\GitHub\\ras-commander\\examples\\example_projects\\Chippewa_2D\\Chippewa_2D.g01.hdf\n",
            "2025-04-09 08:29:54 - ras_commander.HdfMesh - INFO - Final validated HDF file path: d:\\GitHub\\ras-commander\\examples\\example_projects\\Chippewa_2D\\Chippewa_2D.g01.hdf\n"
          ]
        },
        {
          "name": "stdout",
          "output_type": "stream",
          "text": [
            "\n",
            "Example: Extracting 2D Flow Area Attributes\n"
          ]
        },
        {
          "data": {
            "text/html": "<div>\n<style scoped>\\n', '    .dataframe tbody tr th:only-of-type {\\n', '        vertical-align: middle;\\n', '    }\\n', '\\n', '    .dataframe tbody tr th {\\n', '        vertical-align: top;\\n', '    }\\n', '\\n', '    .dataframe thead th {\\n', '        text-align: right;\\n', '    }\\n', '</style>\n<table border=\"1\" class=\"dataframe\">\n  <thead>\\n', '    <tr style=\"text-align: right;\">\\n', '      <th></th>\\n', '      <th>Value</th>\\n', '    </tr>\\n', '  </thead>\n  <tbody>\n    <tr>\\n', '      <th>Name</th>\\n', \"      <td>b'Perimeter 1'</td>\\n\", '    </tr><tr>\\n', '      <th>Locked</th>\\n', '      <td>0</td>\\n', '    </tr><tr>\\n', '      <th>Mann</th>\\n', '      <td>0.06</td>\\n', '    </tr><tr>\\n', '      <th>Multiple Face Mann n</th>\\n', '      <td>1</td>\\n', '    </tr><tr>\\n', '      <th>Composite LC</th>\\n', '      <td>1</td>\\n', '    </tr>\n    <tr><td colspan=\"100%\" style=\"text-align:center\">[... additional rows truncated ...]</td></tr>\n  </tbody>\n</table>\n</div>",
            "text/plain": "['                                 Value\\n', \"Name                    b'Perimeter 1'\\n\", 'Locked                               0\\n', 'Mann                              0.06\\n', 'Multiple Face Mann n                 1\\n', 'Composite LC                         1\\n', 'Cell Vol Tol                      0.01\\n', 'Cell Min Area Fraction            0.01\\n', 'Face Profile Tol                  0.01\\n', 'Face Area Tol                     0.01\\n', 'Face Conv Ratio                   0.02\\n', 'Laminar Depth                      0.2\\n', 'Min Face Length Ratio             0.05\\n', 'Spacing dx                       600.0\\n', 'Spacing dy                       600.0\\n', 'Shift dx                           NaN\\n', 'Shift dy                           NaN\\n', 'Cell Count                         354']"
          },
          "execution_count": 20,
          "metadata": {},
          "output_type": "execute_result"
        }
      ],
      "source": [
        "# Example: Get 2D Flow Area Attributes (get_geom_2d_flow_area_attrs)\n",
        "print(\"\\nExample: Extracting 2D Flow Area Attributes\")\n",
        "flow_area_attributes = HdfMesh.get_mesh_area_attributes(geom_hdf_path)\n",
        "flow_area_attributes\n"
      ]
    },
    {
      "cell_type": "code",
      "execution_count": 21,
      "metadata": {},
      "outputs": [
        {
          "name": "stderr",
          "output_type": "stream",
          "text": [
            "2025-04-09 08:29:54 - ras_commander.HdfMesh - INFO - Using HDF file from direct string path: d:\\GitHub\\ras-commander\\examples\\example_projects\\Chippewa_2D\\Chippewa_2D.g01.hdf\n",
            "2025-04-09 08:29:54 - ras_commander.HdfMesh - INFO - Final validated HDF file path: d:\\GitHub\\ras-commander\\examples\\example_projects\\Chippewa_2D\\Chippewa_2D.g01.hdf\n",
            "2025-04-09 08:29:54 - ras_commander.HdfMesh - INFO - Using existing Path object HDF file: d:\\GitHub\\ras-commander\\examples\\example_projects\\Chippewa_2D\\Chippewa_2D.g01.hdf\n",
            "2025-04-09 08:29:54 - ras_commander.HdfMesh - INFO - Final validated HDF file path: d:\\GitHub\\ras-commander\\examples\\example_projects\\Chippewa_2D\\Chippewa_2D.g01.hdf\n",
            "2025-04-09 08:29:54 - ras_commander.HdfBase - INFO - Using HDF file from h5py.File object: d:\\GitHub\\ras-commander\\examples\\example_projects\\Chippewa_2D\\Chippewa_2D.g01.hdf\n",
            "2025-04-09 08:29:54 - ras_commander.HdfBase - INFO - Final validated HDF file path: d:\\GitHub\\ras-commander\\examples\\example_projects\\Chippewa_2D\\Chippewa_2D.g01.hdf\n",
            "2025-04-09 08:29:54 - ras_commander.HdfBase - CRITICAL - No valid projection found. Checked:\n",
            "1. HDF file projection attribute: d:\\GitHub\\ras-commander\\examples\\example_projects\\Chippewa_2D\\Chippewa_2D.g01.hdf\n",
            "2. RASMapper projection file d:\\GitHub\\ras-commander\\examples\\example_projects\\Chippewa_2D\\.Winona_Upload\\LifeSim model\\Winona Levee SQRA 2019\\RAS\\AW\\MMC_Projection.prj found in RASMapper file, but was invalid\n",
            "To fix this:\n",
            "1. Open RASMapper\n",
            "2. Click Map > Set Projection\n",
            "3. Select an appropriate projection file or coordinate system\n",
            "4. Save the RASMapper project\n"
          ]
        },
        {
          "name": "stdout",
          "output_type": "stream",
          "text": [
            "\n",
            "Example: Extracting 2D Flow Area Perimeter Polygons\n"
          ]
        }
      ],
      "source": [
        "# Example: Get 2D Flow Area Perimeter Polygons (mesh_areas)\n",
        "print(\"\\nExample: Extracting 2D Flow Area Perimeter Polygons\")\n",
        "mesh_areas = HdfMesh.get_mesh_areas(geom_hdf_path)  # Corrected function name"
      ]
    },
    {
      "cell_type": "code",
      "execution_count": 22,
      "metadata": {},
      "outputs": [
        {
          "name": "stdout",
          "output_type": "stream",
          "text": [
            "\n",
            "Example: Extracting mesh cell faces"
          ]
        },
        {
          "name": "stderr",
          "output_type": "stream",
          "text": [
            "2025-04-09 08:29:54 - ras_commander.HdfMesh - INFO - Using HDF file from direct string path: d:\\GitHub\\ras-commander\\examples\\example_projects\\Chippewa_2D\\Chippewa_2D.g01.hdf\n",
            "2025-04-09 08:29:54 - ras_commander.HdfMesh - INFO - Final validated HDF file path: d:\\GitHub\\ras-commander\\examples\\example_projects\\Chippewa_2D\\Chippewa_2D.g01.hdf\n",
            "2025-04-09 08:29:54 - ras_commander.HdfMesh - INFO - Using existing Path object HDF file: d:\\GitHub\\ras-commander\\examples\\example_projects\\Chippewa_2D\\Chippewa_2D.g01.hdf\n",
            "2025-04-09 08:29:54 - ras_commander.HdfMesh - INFO - Final validated HDF file path: d:\\GitHub\\ras-commander\\examples\\example_projects\\Chippewa_2D\\Chippewa_2D.g01.hdf\n"
          ]
        },
        {
          "name": "stdout",
          "output_type": "stream",
          "text": [
            "\n"
          ]
        },
        {
          "name": "stderr",
          "output_type": "stream",
          "text": [
            "2025-04-09 08:29:54 - ras_commander.HdfBase - INFO - Using HDF file from h5py.File object: d:\\GitHub\\ras-commander\\examples\\example_projects\\Chippewa_2D\\Chippewa_2D.g01.hdf\n",
            "2025-04-09 08:29:54 - ras_commander.HdfBase - INFO - Final validated HDF file path: d:\\GitHub\\ras-commander\\examples\\example_projects\\Chippewa_2D\\Chippewa_2D.g01.hdf\n",
            "2025-04-09 08:29:54 - ras_commander.HdfBase - CRITICAL - No valid projection found. Checked:\n",
            "1. HDF file projection attribute: d:\\GitHub\\ras-commander\\examples\\example_projects\\Chippewa_2D\\Chippewa_2D.g01.hdf\n",
            "2. RASMapper projection file d:\\GitHub\\ras-commander\\examples\\example_projects\\Chippewa_2D\\.Winona_Upload\\LifeSim model\\Winona Levee SQRA 2019\\RAS\\AW\\MMC_Projection.prj found in RASMapper file, but was invalid\n",
            "To fix this:\n",
            "1. Open RASMapper\n",
            "2. Click Map > Set Projection\n",
            "3. Select an appropriate projection file or coordinate system\n",
            "4. Save the RASMapper project\n"
          ]
        },
        {
          "name": "stdout",
          "output_type": "stream",
          "text": [
            "First few rows of mesh cell faces:\n"
          ]
        },
        {
          "data": {
            "text/html": "<div>\n<style scoped>\\n', '    .dataframe tbody tr th:only-of-type {\\n', '        vertical-align: middle;\\n', '    }\\n', '\\n', '    .dataframe tbody tr th {\\n', '        vertical-align: top;\\n', '    }\\n', '\\n', '    .dataframe thead th {\\n', '        text-align: right;\\n', '    }\\n', '</style>\n<table border=\"1\" class=\"dataframe\">\n  <thead>\\n', '    <tr style=\"text-align: right;\">\\n', '      <th></th>\\n', '      <th>mesh_name</th>\\n', '      <th>face_id</th>\\n', '      <th>geometry</th>\\n', '    </tr>\\n', '  </thead>\n  <tbody>\n    <tr>\\n', '      <th>0</th>\\n', '      <td>Perimeter 1</td>\\n', '      <td>0</td>\\n', '      <td>LINESTRING (1027231.594 7857846.138, 1026833.9...</td>\\n', '    </tr><tr>\\n', '      <th>1</th>\\n', '      <td>Perimeter 1</td>\\n', '      <td>1</td>\\n', '      <td>LINESTRING (1026833.966 7857797.923, 1026849.8...</td>\\n', '    </tr><tr>\\n', '      <th>2</th>\\n', '      <td>Perimeter 1</td>\\n', '      <td>2</td>\\n', '      <td>LINESTRING (1026849.886 7857613.488, 1027249.0...</td>\\n', '    </tr><tr>\\n', '      <th>3</th>\\n', '      <td>Perimeter 1</td>\\n', '      <td>3</td>\\n', '      <td>LINESTRING (1027249.03 7857618.591, 1027231.59...</td>\\n', '    </tr><tr>\\n', '      <th>4</th>\\n', '      <td>Perimeter 1</td>\\n', '      <td>4</td>\\n', '      <td>LINESTRING (1027231.594 7857846.138, 1027231.5...</td>\\n', '    </tr>\n    <tr><td colspan=\"100%\" style=\"text-align:center\">[... additional rows truncated ...]</td></tr>\n  </tbody>\n</table>\n</div>",
            "text/plain": "['     mesh_name  face_id                                           geometry\\n', '0  Perimeter 1        0  LINESTRING (1027231.594 7857846.138, 1026833.9...\\n', '1  Perimeter 1        1  LINESTRING (1026833.966 7857797.923, 1026849.8...\\n', '2  Perimeter 1        2  LINESTRING (1026849.886 7857613.488, 1027249.0...\\n', '3  Perimeter 1        3  LINESTRING (1027249.03 7857618.591, 1027231.59...\\n', '4  Perimeter 1        4  LINESTRING (1027231.594 7857846.138, 1027231.5...']"
          },
          "execution_count": 22,
          "metadata": {},
          "output_type": "execute_result"
        }
      ],
      "source": [
        "# Example: Extract mesh cell faces\n",
        "print(\"\\nExample: Extracting mesh cell faces\")\n",
        "\n",
        "# Get mesh cell faces using the standardize_input decorator for consistent file handling\n",
        "mesh_cell_faces = HdfMesh.get_mesh_cell_faces(geom_hdf_path)\n",
        "\n",
        "# Display the first few rows of the mesh cell faces GeoDataFrame\n",
        "print(\"First few rows of mesh cell faces:\")\n",
        "mesh_cell_faces.head()"
      ]
    },
    {
      "cell_type": "code",
      "execution_count": 23,
      "metadata": {},
      "outputs": [],
      "source": [
        "# Set the projection to USA Contiguous Albers Equal Area Conic (USGS version)\n",
        "# Note, we would usually call the projection function in HdfMesh but the projection is not set in this example project\n",
        "projection = 'EPSG:5070'  # NAD83 / Conus Albers"
      ]
    },
    {
      "cell_type": "code",
      "execution_count": 24,
      "metadata": {},
      "outputs": [
        {
          "name": "stdout",
          "output_type": "stream",
          "text": [
            "\n",
            "Example: Finding the nearest cell face to a given point\n",
            "Nearest cell face to point (1025677.0, 7853731.0):\n",
            "Face ID: 209\n",
            "Distance: 5.74 units\n"
          ]
        },
        {
          "data": {
            "text/plain": [
              "<Figure size 1200x800 with 1 Axes>"
            ]
          },
          "metadata": {},
          "output_type": "display_data"
        }
      ],
      "source": [
        "# Example Function: Find the nearest cell face to a given point\n",
        "# This provides enough basic information the face cell logic in the notebook\n",
        "\n",
        "def find_nearest_cell_face(point, cell_faces_df):\n",
        "    \"\"\"\n",
        "    Find the nearest cell face to a given point.\n",
        "\n",
        "    Args:\n",
        "        point (shapely.geometry.Point): The input point.\n",
        "        cell_faces_df (GeoDataFrame): DataFrame containing cell face linestrings.\n",
        "\n",
        "    Returns:\n",
        "        int: The face_id of the nearest cell face.\n",
        "        float: The distance to the nearest cell face.\n",
        "    \"\"\"\n",
        "    # Calculate distances from the input point to all cell faces\n",
        "    distances = cell_faces_df.geometry.distance(point)\n",
        "\n",
        "    # Find the index of the minimum distance\n",
        "    nearest_index = distances.idxmin()\n",
        "\n",
        "    # Get the face_id and distance of the nearest cell face\n",
        "    nearest_face_id = cell_faces_df.loc[nearest_index, 'face_id']\n",
        "    nearest_distance = distances[nearest_index]\n",
        "\n",
        "    return nearest_face_id, nearest_distance\n",
        "\n",
        "# Example usage\n",
        "print(\"\\nExample: Finding the nearest cell face to a given point\")\n",
        "\n",
        "# Create a sample point (you can replace this with any point of interest)\n",
        "from shapely.geometry import Point\n",
        "from geopandas import GeoDataFrame\n",
        "\n",
        "# Create the sample point with the same CRS as mesh_cell_faces\n",
        "sample_point = GeoDataFrame(\n",
        "    {'geometry': [Point(1025677, 7853731)]}, \n",
        "    crs=mesh_cell_faces.crs\n",
        ")\n",
        "\n",
        "if not mesh_cell_faces.empty and not sample_point.empty:\n",
        "    nearest_face_id, distance = find_nearest_cell_face(sample_point.geometry.iloc[0], mesh_cell_faces)\n",
        "    print(f\"Nearest cell face to point {sample_point.geometry.iloc[0].coords[0]}:\")\n",
        "    print(f\"Face ID: {nearest_face_id}\")\n",
        "    print(f\"Distance: {distance:.2f} units\")\n",
        "\n",
        "    # Visualize the result\n",
        "    fig, ax = plt.subplots(figsize=(12, 8))\n",
        "    \n",
        "    # Plot all cell faces\n",
        "    mesh_cell_faces.plot(ax=ax, color='blue', linewidth=0.5, alpha=0.5, label='Cell Faces')\n",
        "    \n",
        "    # Plot the sample point\n",
        "    sample_point.plot(ax=ax, color='red', markersize=100, alpha=0.7, label='Sample Point')\n",
        "    \n",
        "    # Plot the nearest cell face\n",
        "    nearest_face = mesh_cell_faces[mesh_cell_faces['face_id'] == nearest_face_id]\n",
        "    nearest_face.plot(ax=ax, color='green', linewidth=2, alpha=0.7, label='Nearest Face')\n",
        "    \n",
        "    # Set labels and title\n",
        "    ax.set_xlabel('X Coordinate')\n",
        "    ax.set_ylabel('Y Coordinate')\n",
        "    ax.set_title('Nearest Cell Face to Sample Point')\n",
        "    \n",
        "    # Add legend and grid\n",
        "    ax.legend()\n",
        "    ax.grid(True)\n",
        "    \n",
        "    # Adjust layout and display\n",
        "    plt.tight_layout()\n",
        "    plt.show()\n",
        "else:\n",
        "    print(\"Unable to perform nearest cell face search due to missing data.\")\n"
      ]
    },
    {
      "cell_type": "code",
      "execution_count": 25,
      "metadata": {},
      "outputs": [
        {
          "name": "stderr",
          "output_type": "stream",
          "text": [
            "2025-04-09 08:29:54 - ras_commander.HdfMesh - INFO - Using HDF file from direct string path: d:\\GitHub\\ras-commander\\examples\\example_projects\\Chippewa_2D\\Chippewa_2D.g01.hdf\n",
            "2025-04-09 08:29:54 - ras_commander.HdfMesh - INFO - Final validated HDF file path: d:\\GitHub\\ras-commander\\examples\\example_projects\\Chippewa_2D\\Chippewa_2D.g01.hdf\n",
            "2025-04-09 08:29:54 - ras_commander.HdfMesh - INFO - Using existing Path object HDF file: d:\\GitHub\\ras-commander\\examples\\example_projects\\Chippewa_2D\\Chippewa_2D.g01.hdf\n",
            "2025-04-09 08:29:54 - ras_commander.HdfMesh - INFO - Final validated HDF file path: d:\\GitHub\\ras-commander\\examples\\example_projects\\Chippewa_2D\\Chippewa_2D.g01.hdf\n",
            "2025-04-09 08:29:54 - ras_commander.HdfBase - INFO - Using HDF file from h5py.File object: d:\\GitHub\\ras-commander\\examples\\example_projects\\Chippewa_2D\\Chippewa_2D.g01.hdf\n",
            "2025-04-09 08:29:54 - ras_commander.HdfBase - INFO - Final validated HDF file path: d:\\GitHub\\ras-commander\\examples\\example_projects\\Chippewa_2D\\Chippewa_2D.g01.hdf\n",
            "2025-04-09 08:29:54 - ras_commander.HdfBase - CRITICAL - No valid projection found. Checked:\n",
            "1. HDF file projection attribute: d:\\GitHub\\ras-commander\\examples\\example_projects\\Chippewa_2D\\Chippewa_2D.g01.hdf\n",
            "2. RASMapper projection file d:\\GitHub\\ras-commander\\examples\\example_projects\\Chippewa_2D\\.Winona_Upload\\LifeSim model\\Winona Levee SQRA 2019\\RAS\\AW\\MMC_Projection.prj found in RASMapper file, but was invalid\n",
            "To fix this:\n",
            "1. Open RASMapper\n",
            "2. Click Map > Set Projection\n",
            "3. Select an appropriate projection file or coordinate system\n",
            "4. Save the RASMapper project\n"
          ]
        },
        {
          "name": "stdout",
          "output_type": "stream",
          "text": [
            "\n",
            "Example: Extracting mesh cell faces and plotting with profile lines\n",
            "First few rows of mesh cell faces:\n"
          ]
        },
        {
          "data": {
            "text/plain": [
              "<Figure size 1200x800 with 1 Axes>"
            ]
          },
          "metadata": {},
          "output_type": "display_data"
        }
      ],
      "source": [
        "# Example: Extract mesh cell faces and plot with profile lines\n",
        "print(\"\\nExample: Extracting mesh cell faces and plotting with profile lines\")\n",
        "\n",
        "# Get mesh cell faces\n",
        "mesh_cell_faces = HdfMesh.get_mesh_cell_faces(geom_hdf_path)\n",
        "\n",
        "# Display the first few rows of the mesh cell faces DataFrame\n",
        "print(\"First few rows of mesh cell faces:\")\n",
        "mesh_cell_faces\n",
        "\n",
        "# Load the GeoJSON file for profile lines\n",
        "geojson_path = Path(r'data/profile_lines_chippewa2D.geojson')  # Update with the correct path\n",
        "profile_lines_gdf = gpd.read_file(geojson_path)\n",
        "\n",
        "# Set the Coordinate Reference System (CRS) to EPSG:5070\n",
        "profile_lines_gdf = profile_lines_gdf.set_crs(epsg=5070, allow_override=True)\n",
        "\n",
        "# Plot the mesh cell faces and profile lines together\n",
        "fig, ax = plt.subplots(figsize=(12, 8))\n",
        "mesh_cell_faces.plot(ax=ax, color='blue', alpha=0.5, edgecolor='k', label='Mesh Cell Faces')\n",
        "profile_lines_gdf.plot(ax=ax, color='orange', linewidth=2, label='Profile Lines')\n",
        "\n",
        "# Set labels and title\n",
        "ax.set_xlabel('Easting')\n",
        "ax.set_ylabel('Northing')\n",
        "ax.set_title('Mesh Cell Faces and Profile Lines')\n",
        "\n",
        "# Add grid and legend\n",
        "ax.grid(True)\n",
        "ax.legend()\n",
        "\n",
        "# Adjust layout and display\n",
        "plt.tight_layout()\n",
        "plt.show()"
      ]
    },
    {
      "cell_type": "code",
      "execution_count": 26,
      "metadata": {},
      "outputs": [
        {
          "name": "stderr",
          "output_type": "stream",
          "text": [
            "2025-04-09 08:29:55 - ras_commander.HdfMesh - INFO - Using HDF file from direct string path: d:\\GitHub\\ras-commander\\examples\\example_projects\\Chippewa_2D\\Chippewa_2D.g01.hdf\n",
            "2025-04-09 08:29:55 - ras_commander.HdfMesh - INFO - Final validated HDF file path: d:\\GitHub\\ras-commander\\examples\\example_projects\\Chippewa_2D\\Chippewa_2D.g01.hdf\n",
            "2025-04-09 08:29:55 - ras_commander.HdfMesh - INFO - Using existing Path object HDF file: d:\\GitHub\\ras-commander\\examples\\example_projects\\Chippewa_2D\\Chippewa_2D.g01.hdf\n",
            "2025-04-09 08:29:55 - ras_commander.HdfMesh - INFO - Final validated HDF file path: d:\\GitHub\\ras-commander\\examples\\example_projects\\Chippewa_2D\\Chippewa_2D.g01.hdf\n",
            "2025-04-09 08:29:55 - ras_commander.HdfBase - INFO - Using HDF file from h5py.File object: d:\\GitHub\\ras-commander\\examples\\example_projects\\Chippewa_2D\\Chippewa_2D.g01.hdf\n",
            "2025-04-09 08:29:55 - ras_commander.HdfBase - INFO - Final validated HDF file path: d:\\GitHub\\ras-commander\\examples\\example_projects\\Chippewa_2D\\Chippewa_2D.g01.hdf\n",
            "2025-04-09 08:29:55 - ras_commander.HdfBase - CRITICAL - No valid projection found. Checked:\n",
            "1. HDF file projection attribute: d:\\GitHub\\ras-commander\\examples\\example_projects\\Chippewa_2D\\Chippewa_2D.g01.hdf\n",
            "2. RASMapper projection file d:\\GitHub\\ras-commander\\examples\\example_projects\\Chippewa_2D\\.Winona_Upload\\LifeSim model\\Winona Levee SQRA 2019\\RAS\\AW\\MMC_Projection.prj found in RASMapper file, but was invalid\n",
            "To fix this:\n",
            "1. Open RASMapper\n",
            "2. Click Map > Set Projection\n",
            "3. Select an appropriate projection file or coordinate system\n",
            "4. Save the RASMapper project\n"
          ]
        },
        {
          "name": "stdout",
          "output_type": "stream",
          "text": [
            "\n",
            "Example: Extracting mesh cell faces near profile lines\n",
            "First few rows of mesh cell faces:\n"
          ]
        },
        {
          "data": {
            "text/plain": [
              "<Figure size 1200x800 with 1 Axes>"
            ]
          },
          "metadata": {},
          "output_type": "display_data"
        },
        {
          "name": "stdout",
          "output_type": "stream",
          "text": [
            "\n",
            "Original ordered faces near profile lines:\n",
            "\n",
            "Combined profile-to-faceline results:\n"
          ]
        },
        {
          "data": {
            "text/html": "<div>\n<style scoped>\\n', '    .dataframe tbody tr th:only-of-type {\\n', '        vertical-align: middle;\\n', '    }\\n', '\\n', '    .dataframe tbody tr th {\\n', '        vertical-align: top;\\n', '    }\\n', '\\n', '    .dataframe thead th {\\n', '        text-align: right;\\n', '    }\\n', '</style>\n<table border=\"1\" class=\"dataframe\">\n  <thead>\\n', '    <tr style=\"text-align: right;\">\\n', '      <th></th>\\n', '      <th>profile_name</th>\\n', '      <th>geometry</th>\\n', '    </tr>\\n', '  </thead>\n  <tbody>\n    <tr>\\n', '      <th>0</th>\\n', '      <td>Profile Line 1</td>\\n', '      <td>LINESTRING (1027100.412 7857052.854, 1027350.3...</td>\\n', '    </tr><tr>\\n', '      <th>1</th>\\n', '      <td>Profile Line 2</td>\\n', '      <td>LINESTRING (1026801.09 7853483.399, 1027138.39...</td>\\n', '    </tr><tr>\\n', '      <th>2</th>\\n', '      <td>Profile Line 3</td>\\n', '      <td>LINESTRING (1026498.193 7851901.653, 1026838.2...</td>\\n', '    </tr>\n    <tr><td colspan=\"100%\" style=\"text-align:center\">[... additional rows truncated ...]</td></tr>\n  </tbody>\n</table>\n</div>",
            "text/plain": "['     profile_name                                           geometry\\n', '0  Profile Line 1  LINESTRING (1027100.412 7857052.854, 1027350.3...\\n', '1  Profile Line 2  LINESTRING (1026801.09 7853483.399, 1027138.39...\\n', '2  Profile Line 3  LINESTRING (1026498.193 7851901.653, 1026838.2...']"
          },
          "execution_count": 26,
          "metadata": {},
          "output_type": "execute_result"
        }
      ],
      "source": [
        "# Example: Extracting mesh cell faces near profile lines\n",
        "print(\"\\nExample: Extracting mesh cell faces near profile lines\")\n",
        "\n",
        "# Get mesh cell faces using HdfMesh class\n",
        "mesh_cell_faces = HdfMesh.get_mesh_cell_faces(geom_hdf_path)\n",
        "\n",
        "# Display the first few rows of the mesh cell faces DataFrame\n",
        "print(\"First few rows of mesh cell faces:\")\n",
        "mesh_cell_faces\n",
        "\n",
        "# Load the GeoJSON file for profile lines\n",
        "geojson_path = Path(r'data/profile_lines_chippewa2D.geojson')  # Update with the correct path\n",
        "profile_lines_gdf = gpd.read_file(geojson_path)\n",
        "\n",
        "# Set the Coordinate Reference System (CRS) to EPSG:5070\n",
        "profile_lines_gdf = profile_lines_gdf.set_crs(epsg=5070, allow_override=True)\n",
        "\n",
        "# Initialize a dictionary to store faces near each profile line\n",
        "faces_near_profile_lines = {}\n",
        "\n",
        "# Define distance threshold (10 ft converted to meters)\n",
        "distance_threshold = 10\n",
        "angle_threshold = 60  # degrees\n",
        "\n",
        "# Function to calculate the smallest angle between two lines or line segments.\n",
        "def calculate_angle(line):\n",
        "    if isinstance(line, LineString):\n",
        "        x_diff = line.xy[0][-1] - line.xy[0][0]\n",
        "        y_diff = line.xy[1][-1] - line.xy[1][0]\n",
        "    else:\n",
        "        x_diff = line[1][0] - line[0][0]\n",
        "        y_diff = line[1][1] - line[0][1]\n",
        "    \n",
        "    angle = np.degrees(np.arctan2(y_diff, x_diff))\n",
        "    return angle % 360 if angle >= 0 else (angle + 360) % 360\n",
        "\n",
        "# Function to break line into segments\n",
        "def break_line_into_segments(line, segment_length):\n",
        "    segments = []\n",
        "    segment_angles = []\n",
        "    \n",
        "    distances = np.arange(0, line.length, segment_length)\n",
        "    if distances[-1] != line.length:\n",
        "        distances = np.append(distances, line.length)\n",
        "        \n",
        "    for i in range(len(distances)-1):\n",
        "        point1 = line.interpolate(distances[i])\n",
        "        point2 = line.interpolate(distances[i+1])\n",
        "        segment = LineString([point1, point2])\n",
        "        segments.append(segment)\n",
        "        segment_angles.append(calculate_angle([point1.coords[0], point2.coords[0]]))\n",
        "        \n",
        "    return segments, segment_angles\n",
        "\n",
        "# Function to calculate angle difference accounting for 180 degree equivalence\n",
        "def angle_difference(angle1, angle2):\n",
        "    diff = abs(angle1 - angle2) % 180\n",
        "    return min(diff, 180 - diff)\n",
        "\n",
        "# Function to order faces along profile line\n",
        "def order_faces_along_profile(profile_line, faces_gdf):\n",
        "    profile_start = Point(profile_line.coords[0])\n",
        "    \n",
        "    faces_with_dist = []\n",
        "    for idx, face in faces_gdf.iterrows():\n",
        "        face_start = Point(face.geometry.coords[0])\n",
        "        dist = profile_start.distance(face_start)\n",
        "        faces_with_dist.append((idx, dist))\n",
        "    \n",
        "    faces_with_dist.sort(key=lambda x: x[1])\n",
        "    return [x[0] for x in faces_with_dist]\n",
        "\n",
        "# Function to combine ordered faces into single linestring\n",
        "def combine_faces_to_linestring(ordered_faces_gdf):\n",
        "    coords = []\n",
        "    for _, face in ordered_faces_gdf.iterrows():\n",
        "        if not coords:  # First face - add all coordinates\n",
        "            coords.extend(list(face.geometry.coords))\n",
        "        else:  # Subsequent faces - add only end coordinate\n",
        "            coords.append(face.geometry.coords[-1])\n",
        "    return LineString(coords)\n",
        "\n",
        "# Initialize GeoDataFrame for final profile-to-faceline results\n",
        "profile_to_faceline = gpd.GeoDataFrame(columns=['profile_name', 'geometry'], crs=profile_lines_gdf.crs)\n",
        "\n",
        "# Iterate through each profile line\n",
        "for index, profile_line in profile_lines_gdf.iterrows():\n",
        "    profile_geom = profile_line.geometry\n",
        "    \n",
        "    # Break profile line into segments\n",
        "    segments, segment_angles = break_line_into_segments(profile_geom, distance_threshold)\n",
        "    \n",
        "    # Initialize set to store nearby faces\n",
        "    nearby_faces = set()\n",
        "    \n",
        "    # For each face, check distance to segments and angle difference\n",
        "    for face_idx, face in mesh_cell_faces.iterrows():\n",
        "        face_geom = face.geometry\n",
        "        \n",
        "        if isinstance(face_geom, LineString):\n",
        "            face_angle = calculate_angle(face_geom)\n",
        "            \n",
        "            for segment, segment_angle in zip(segments, segment_angles):\n",
        "                if face_geom.distance(segment) <= distance_threshold:\n",
        "                    if angle_difference(face_angle, segment_angle) <= angle_threshold:\n",
        "                        nearby_faces.add(face_idx)\n",
        "                        break\n",
        "    \n",
        "    # Convert the set of indices back to a GeoDataFrame\n",
        "    nearby_faces_gdf = mesh_cell_faces.loc[list(nearby_faces)]\n",
        "    \n",
        "    # Order faces along profile line\n",
        "    ordered_indices = order_faces_along_profile(profile_geom, nearby_faces_gdf)\n",
        "    ordered_faces_gdf = nearby_faces_gdf.loc[ordered_indices]\n",
        "    \n",
        "    # Combine ordered faces into single linestring\n",
        "    combined_linestring = combine_faces_to_linestring(ordered_faces_gdf)\n",
        "    \n",
        "    # Add to profile_to_faceline GeoDataFrame\n",
        "    new_row = gpd.GeoDataFrame({'profile_name': [profile_line['Name']], \n",
        "                               'geometry': [combined_linestring]}, \n",
        "                              crs=profile_lines_gdf.crs)\n",
        "    profile_to_faceline = pd.concat([profile_to_faceline, new_row], ignore_index=True)\n",
        "    \n",
        "    # Store the ordered faces in the dictionary\n",
        "    faces_near_profile_lines[profile_line['Name']] = ordered_faces_gdf\n",
        "\n",
        "# Plot the results\n",
        "fig, ax = plt.subplots(figsize=(12, 8))\n",
        "\n",
        "# Plot all mesh cell faces in light blue\n",
        "mesh_cell_faces.plot(ax=ax, color='lightblue', alpha=0.3, edgecolor='k', label='All Mesh Faces')\n",
        "\n",
        "# Plot selected faces for each profile line with numbers\n",
        "colors = ['red', 'green', 'blue']\n",
        "for (profile_name, faces), color in zip(faces_near_profile_lines.items(), colors):\n",
        "    if not faces.empty:\n",
        "        faces.plot(ax=ax, color=color, alpha=0.6, label=f'Faces near {profile_name}')\n",
        "        \n",
        "        # Add numbers to faces\n",
        "        for i, (idx, face) in enumerate(faces.iterrows()):\n",
        "            midpoint = face.geometry.interpolate(0.5, normalized=True)\n",
        "            ax.text(midpoint.x, midpoint.y, str(i+1), \n",
        "                   color=color, fontweight='bold', ha='center', va='center')\n",
        "\n",
        "# Plot the combined linestrings\n",
        "profile_to_faceline.plot(ax=ax, color='black', linewidth=2, \n",
        "                        linestyle='--', label='Combined Face Lines')\n",
        "\n",
        "# Set labels and title\n",
        "ax.set_xlabel('Easting')\n",
        "ax.set_ylabel('Northing')\n",
        "ax.set_title('Mesh Cell Faces and Profile Lines\\nNumbered in order along profile')\n",
        "\n",
        "# Add grid and legend\n",
        "ax.grid(True)\n",
        "ax.legend()\n",
        "\n",
        "# Adjust layout and display\n",
        "plt.tight_layout()\n",
        "plt.show()\n",
        "\n",
        "# Display the results\n",
        "print(\"\\nOriginal ordered faces near profile lines:\")\n",
        "faces_near_profile_lines\n",
        "\n",
        "print(\"\\nCombined profile-to-faceline results:\")\n",
        "profile_to_faceline"
      ]
    },
    {
      "cell_type": "markdown",
      "metadata": {},
      "source": [
        "-----"
      ]
    },
    {
      "cell_type": "code",
      "execution_count": 27,
      "metadata": {},
      "outputs": [
        {
          "name": "stderr",
          "output_type": "stream",
          "text": [
            "2025-04-09 08:30:00 - ras_commander.HdfMesh - INFO - Using HDF file from direct string path: d:\\GitHub\\ras-commander\\examples\\example_projects\\Chippewa_2D\\Chippewa_2D.g01.hdf\n",
            "2025-04-09 08:30:00 - ras_commander.HdfMesh - INFO - Final validated HDF file path: d:\\GitHub\\ras-commander\\examples\\example_projects\\Chippewa_2D\\Chippewa_2D.g01.hdf\n",
            "2025-04-09 08:30:00 - ras_commander.HdfMesh - INFO - Using existing Path object HDF file: d:\\GitHub\\ras-commander\\examples\\example_projects\\Chippewa_2D\\Chippewa_2D.g01.hdf\n",
            "2025-04-09 08:30:00 - ras_commander.HdfMesh - INFO - Final validated HDF file path: d:\\GitHub\\ras-commander\\examples\\example_projects\\Chippewa_2D\\Chippewa_2D.g01.hdf\n"
          ]
        },
        {
          "data": {
            "text/plain": "[\"{'Perimeter 1':       Face ID          Z       Area Wetted Perimeter Manning's n\\n\", ' 0           0  683.78314        0.0              0.0  0.06680043\\n', ' 1           0  683.98315  25.314476        311.06384  0.06680043\\n', ' 2           0   684.1409   77.88681         355.3648  0.06600185\\n', ' 3           0   684.1893  98.404495        368.92633  0.06575739\\n', ' 4           0   684.5791  249.17476         400.5631  0.06531201\\n', ' ...       ...        ...        ...              ...         ...\\n', ' 5183      812  683.02405   1228.017        475.78708  0.06334631\\n', ' 5184      813   683.6363        0.0              0.0  0.07539803\\n', ' 5185      813   683.8363  13.135144        199.78789  0.07539803\\n', ' 5186      813   683.9459  45.552128        391.64612  0.07541533\\n', ' 5187      813  683.94946   51.69725         397.8351  0.07541589\\n', ' \\n', ' [5188 rows x 5 columns]}']"
          },
          "execution_count": 27,
          "metadata": {},
          "output_type": "execute_result"
        }
      ],
      "source": [
        "# Get face property tables with error handling\n",
        "face_property_tables = HdfMesh.get_mesh_face_property_tables(geom_hdf_path)\n",
        "face_property_tables"
      ]
    },
    {
      "cell_type": "code",
      "execution_count": 28,
      "metadata": {},
      "outputs": [
        {
          "name": "stderr",
          "output_type": "stream",
          "text": [
            "2025-04-09 08:30:00 - matplotlib.category - INFO - Using categorical units to plot a list of strings that are all parsable as floats or dates. If these strings should be plotted as numbers, cast to the appropriate data type before plotting.\n",
            "2025-04-09 08:30:00 - matplotlib.category - INFO - Using categorical units to plot a list of strings that are all parsable as floats or dates. If these strings should be plotted as numbers, cast to the appropriate data type before plotting.\n",
            "2025-04-09 08:30:00 - matplotlib.category - INFO - Using categorical units to plot a list of strings that are all parsable as floats or dates. If these strings should be plotted as numbers, cast to the appropriate data type before plotting.\n",
            "2025-04-09 08:30:00 - matplotlib.category - INFO - Using categorical units to plot a list of strings that are all parsable as floats or dates. If these strings should be plotted as numbers, cast to the appropriate data type before plotting.\n",
            "2025-04-09 08:30:00 - matplotlib.category - INFO - Using categorical units to plot a list of strings that are all parsable as floats or dates. If these strings should be plotted as numbers, cast to the appropriate data type before plotting.\n",
            "2025-04-09 08:30:00 - matplotlib.category - INFO - Using categorical units to plot a list of strings that are all parsable as floats or dates. If these strings should be plotted as numbers, cast to the appropriate data type before plotting.\n",
            "2025-04-09 08:30:00 - matplotlib.category - INFO - Using categorical units to plot a list of strings that are all parsable as floats or dates. If these strings should be plotted as numbers, cast to the appropriate data type before plotting.\n",
            "2025-04-09 08:30:00 - matplotlib.category - INFO - Using categorical units to plot a list of strings that are all parsable as floats or dates. If these strings should be plotted as numbers, cast to the appropriate data type before plotting.\n",
            "2025-04-09 08:30:00 - matplotlib.category - INFO - Using categorical units to plot a list of strings that are all parsable as floats or dates. If these strings should be plotted as numbers, cast to the appropriate data type before plotting.\n",
            "2025-04-09 08:30:00 - matplotlib.category - INFO - Using categorical units to plot a list of strings that are all parsable as floats or dates. If these strings should be plotted as numbers, cast to the appropriate data type before plotting.\n",
            "2025-04-09 08:30:00 - matplotlib.category - INFO - Using categorical units to plot a list of strings that are all parsable as floats or dates. If these strings should be plotted as numbers, cast to the appropriate data type before plotting.\n",
            "2025-04-09 08:30:00 - matplotlib.category - INFO - Using categorical units to plot a list of strings that are all parsable as floats or dates. If these strings should be plotted as numbers, cast to the appropriate data type before plotting.\n"
          ]
        },
        {
          "data": {
            "text/plain": [
              "<Figure size 1800x600 with 3 Axes>"
            ]
          },
          "metadata": {},
          "output_type": "display_data"
        }
      ],
      "source": [
        "# Extract the face property table for Face ID 4 and display it\n",
        "import matplotlib.pyplot as plt\n",
        "\n",
        "face_id = 4\n",
        "face_properties = face_property_tables['Perimeter 1'][face_property_tables['Perimeter 1']['Face ID'] == face_id]\n",
        "\n",
        "# Create subplots arranged horizontally\n",
        "fig, axs = plt.subplots(1, 3, figsize=(18, 6))\n",
        "\n",
        "# Plot Z vs Area\n",
        "axs[0].plot(face_properties['Z'], face_properties['Area'], marker='o', color='blue', label='Area')\n",
        "axs[0].set_title(f'Face ID {face_id}: Z vs Area')\n",
        "axs[0].set_xlabel('Z')\n",
        "axs[0].set_ylabel('Area')\n",
        "axs[0].grid(True)\n",
        "axs[0].legend()\n",
        "\n",
        "# Plot Z vs Wetted Perimeter\n",
        "axs[1].plot(face_properties['Z'], face_properties['Wetted Perimeter'], marker='o', color='green', label='Wetted Perimeter')\n",
        "axs[1].set_title(f'Face ID {face_id}: Z vs Wetted Perimeter')\n",
        "axs[1].set_xlabel('Z')\n",
        "axs[1].set_ylabel('Wetted Perimeter')\n",
        "axs[1].grid(True)\n",
        "axs[1].legend()\n",
        "\n",
        "# Plot Z vs Manning's n\n",
        "axs[2].plot(face_properties['Z'], face_properties[\"Manning's n\"], marker='o', color='red', label=\"Manning's n\")\n",
        "axs[2].set_title(f'Face ID {face_id}: Z vs Manning\\'s n')\n",
        "axs[2].set_xlabel('Z')\n",
        "axs[2].set_ylabel(\"Manning's n\")\n",
        "axs[2].grid(True)\n",
        "axs[2].legend()\n",
        "\n",
        "plt.tight_layout()\n",
        "plt.show()\n"
      ]
    },
    {
      "cell_type": "code",
      "execution_count": 29,
      "metadata": {},
      "outputs": [
        {
          "name": "stderr",
          "output_type": "stream",
          "text": [
            "2025-04-09 08:30:00 - ras_commander.HdfMesh - INFO - Using HDF file from direct string path: d:\\GitHub\\ras-commander\\examples\\example_projects\\Chippewa_2D\\Chippewa_2D.g01.hdf\n",
            "2025-04-09 08:30:00 - ras_commander.HdfMesh - INFO - Final validated HDF file path: d:\\GitHub\\ras-commander\\examples\\example_projects\\Chippewa_2D\\Chippewa_2D.g01.hdf\n",
            "2025-04-09 08:30:00 - ras_commander.HdfResultsMesh - INFO - Using HDF file from direct string path: d:\\GitHub\\ras-commander\\examples\\example_projects\\Chippewa_2D\\Chippewa_2D.p02.hdf\n",
            "2025-04-09 08:30:00 - ras_commander.HdfResultsMesh - INFO - Final validated HDF file path: d:\\GitHub\\ras-commander\\examples\\example_projects\\Chippewa_2D\\Chippewa_2D.p02.hdf\n"
          ]
        }
      ],
      "source": [
        "# Get mesh timeseries output\n",
        "# Get mesh areas from previous code cell\n",
        "mesh_areas = HdfMesh.get_mesh_area_names(geom_hdf_path)\n",
        "\n",
        "mesh_name = mesh_areas[0]  # Use the first 2D flow area name\n",
        "timeseries_da = HdfResultsMesh.get_mesh_timeseries(plan_hdf_path, mesh_name, \"Water Surface\")\n",
        "\n"
      ]
    },
    {
      "cell_type": "code",
      "execution_count": 30,
      "metadata": {},
      "outputs": [
        {
          "name": "stdout",
          "output_type": "stream",
          "text": [
            "\n",
            "Mesh Timeseries Output (Water Surface) for Perimeter 1:\n"
          ]
        },
        {
          "data": {
            "text/html": "<div><pre>xarray.DataArray with Unknown dimensions\n[Full xarray output truncated during preprocessing]</pre></div>",
            "text/plain": "xarray.DataArray with Unknown dimensions\n[Full xarray output truncated during preprocessing]"
          },
          "execution_count": 30,
          "metadata": {},
          "output_type": "execute_result"
        }
      ],
      "source": [
        "print(f\"\\nMesh Timeseries Output (Water Surface) for {mesh_name}:\")\n",
        "timeseries_da"
      ]
    },
    {
      "cell_type": "code",
      "execution_count": 31,
      "metadata": {},
      "outputs": [
        {
          "name": "stderr",
          "output_type": "stream",
          "text": [
            "2025-04-09 08:30:00 - ras_commander.HdfResultsMesh - INFO - Using HDF file from direct string path: d:\\GitHub\\ras-commander\\examples\\example_projects\\Chippewa_2D\\Chippewa_2D.p02.hdf\n",
            "2025-04-09 08:30:00 - ras_commander.HdfResultsMesh - INFO - Final validated HDF file path: d:\\GitHub\\ras-commander\\examples\\example_projects\\Chippewa_2D\\Chippewa_2D.p02.hdf\n",
            "2025-04-09 08:30:00 - ras_commander.HdfResultsMesh - WARNING - Variable 'Depth' not found in the HDF file for mesh 'Perimeter 1'. Skipping.\n",
            "2025-04-09 08:30:00 - ras_commander.HdfResultsMesh - WARNING - Variable 'Velocity' not found in the HDF file for mesh 'Perimeter 1'. Skipping.\n",
            "2025-04-09 08:30:00 - ras_commander.HdfResultsMesh - WARNING - Variable 'Velocity X' not found in the HDF file for mesh 'Perimeter 1'. Skipping.\n",
            "2025-04-09 08:30:00 - ras_commander.HdfResultsMesh - WARNING - Variable 'Velocity Y' not found in the HDF file for mesh 'Perimeter 1'. Skipping.\n",
            "2025-04-09 08:30:00 - ras_commander.HdfResultsMesh - WARNING - Variable 'Froude Number' not found in the HDF file for mesh 'Perimeter 1'. Skipping.\n",
            "2025-04-09 08:30:00 - ras_commander.HdfResultsMesh - WARNING - Variable 'Courant Number' not found in the HDF file for mesh 'Perimeter 1'. Skipping.\n",
            "2025-04-09 08:30:00 - ras_commander.HdfResultsMesh - WARNING - Variable 'Shear Stress' not found in the HDF file for mesh 'Perimeter 1'. Skipping.\n",
            "2025-04-09 08:30:00 - ras_commander.HdfResultsMesh - WARNING - Variable 'Bed Elevation' not found in the HDF file for mesh 'Perimeter 1'. Skipping.\n",
            "2025-04-09 08:30:00 - ras_commander.HdfResultsMesh - WARNING - Variable 'Precipitation Rate' not found in the HDF file for mesh 'Perimeter 1'. Skipping.\n",
            "2025-04-09 08:30:00 - ras_commander.HdfResultsMesh - WARNING - Variable 'Infiltration Rate' not found in the HDF file for mesh 'Perimeter 1'. Skipping.\n",
            "2025-04-09 08:30:00 - ras_commander.HdfResultsMesh - WARNING - Variable 'Evaporation Rate' not found in the HDF file for mesh 'Perimeter 1'. Skipping.\n",
            "2025-04-09 08:30:00 - ras_commander.HdfResultsMesh - WARNING - Variable 'Percolation Rate' not found in the HDF file for mesh 'Perimeter 1'. Skipping.\n",
            "2025-04-09 08:30:00 - ras_commander.HdfResultsMesh - WARNING - Variable 'Groundwater Elevation' not found in the HDF file for mesh 'Perimeter 1'. Skipping.\n",
            "2025-04-09 08:30:00 - ras_commander.HdfResultsMesh - WARNING - Variable 'Groundwater Depth' not found in the HDF file for mesh 'Perimeter 1'. Skipping.\n",
            "2025-04-09 08:30:00 - ras_commander.HdfResultsMesh - WARNING - Variable 'Groundwater Flow' not found in the HDF file for mesh 'Perimeter 1'. Skipping.\n",
            "2025-04-09 08:30:00 - ras_commander.HdfResultsMesh - WARNING - Variable 'Groundwater Velocity' not found in the HDF file for mesh 'Perimeter 1'. Skipping.\n",
            "2025-04-09 08:30:00 - ras_commander.HdfResultsMesh - WARNING - Variable 'Groundwater Velocity X' not found in the HDF file for mesh 'Perimeter 1'. Skipping.\n",
            "2025-04-09 08:30:00 - ras_commander.HdfResultsMesh - WARNING - Variable 'Groundwater Velocity Y' not found in the HDF file for mesh 'Perimeter 1'. Skipping.\n",
            "2025-04-09 08:30:00 - ras_commander.HdfResultsMesh - WARNING - Variable 'Face Water Surface' not found in the HDF file for mesh 'Perimeter 1'. Skipping.\n",
            "2025-04-09 08:30:00 - ras_commander.HdfResultsMesh - WARNING - Variable 'Face Courant' not found in the HDF file for mesh 'Perimeter 1'. Skipping.\n",
            "2025-04-09 08:30:00 - ras_commander.HdfResultsMesh - WARNING - Variable 'Face Cumulative Volume' not found in the HDF file for mesh 'Perimeter 1'. Skipping.\n",
            "2025-04-09 08:30:00 - ras_commander.HdfResultsMesh - WARNING - Variable 'Face Eddy Viscosity' not found in the HDF file for mesh 'Perimeter 1'. Skipping.\n",
            "2025-04-09 08:30:00 - ras_commander.HdfResultsMesh - WARNING - Variable 'Face Flow Period Average' not found in the HDF file for mesh 'Perimeter 1'. Skipping.\n",
            "2025-04-09 08:30:00 - ras_commander.HdfResultsMesh - WARNING - Variable 'Face Friction Term' not found in the HDF file for mesh 'Perimeter 1'. Skipping.\n",
            "2025-04-09 08:30:00 - ras_commander.HdfResultsMesh - WARNING - Variable 'Face Pressure Gradient Term' not found in the HDF file for mesh 'Perimeter 1'. Skipping.\n",
            "2025-04-09 08:30:00 - ras_commander.HdfResultsMesh - WARNING - Variable 'Face Shear Stress' not found in the HDF file for mesh 'Perimeter 1'. Skipping.\n",
            "2025-04-09 08:30:00 - ras_commander.HdfResultsMesh - WARNING - Variable 'Face Tangential Velocity' not found in the HDF file for mesh 'Perimeter 1'. Skipping.\n"
          ]
        }
      ],
      "source": [
        "# Get mesh cells timeseries output\n",
        "cells_timeseries_ds = HdfResultsMesh.get_mesh_cells_timeseries(plan_hdf_path, mesh_name)"
      ]
    },
    {
      "cell_type": "code",
      "execution_count": 32,
      "metadata": {},
      "outputs": [
        {
          "name": "stdout",
          "output_type": "stream",
          "text": [
            "\n",
            "Mesh Cells Timeseries Output:\n"
          ]
        },
        {
          "data": {
            "text/plain": "xarray.Dataset with Unknown dimensions\n[Full xarray output truncated during preprocessing]"
          },
          "execution_count": 32,
          "metadata": {},
          "output_type": "execute_result"
        }
      ],
      "source": [
        "print(\"\\nMesh Cells Timeseries Output:\")\n",
        "cells_timeseries_ds"
      ]
    },
    {
      "cell_type": "code",
      "execution_count": 33,
      "metadata": {},
      "outputs": [
        {
          "name": "stderr",
          "output_type": "stream",
          "text": [
            "2025-04-09 08:30:00 - ras_commander.HdfResultsMesh - INFO - Using HDF file from direct string path: d:\\GitHub\\ras-commander\\examples\\example_projects\\Chippewa_2D\\Chippewa_2D.p02.hdf\n",
            "2025-04-09 08:30:00 - ras_commander.HdfResultsMesh - INFO - Final validated HDF file path: d:\\GitHub\\ras-commander\\examples\\example_projects\\Chippewa_2D\\Chippewa_2D.p02.hdf\n",
            "2025-04-09 08:30:00 - ras_commander.HdfResultsMesh - INFO - Using existing Path object HDF file: d:\\GitHub\\ras-commander\\examples\\example_projects\\Chippewa_2D\\Chippewa_2D.p02.hdf\n",
            "2025-04-09 08:30:00 - ras_commander.HdfResultsMesh - INFO - Final validated HDF file path: d:\\GitHub\\ras-commander\\examples\\example_projects\\Chippewa_2D\\Chippewa_2D.p02.hdf\n",
            "2025-04-09 08:30:00 - ras_commander.HdfResultsMesh - INFO - Using existing Path object HDF file: d:\\GitHub\\ras-commander\\examples\\example_projects\\Chippewa_2D\\Chippewa_2D.p02.hdf\n",
            "2025-04-09 08:30:00 - ras_commander.HdfResultsMesh - INFO - Final validated HDF file path: d:\\GitHub\\ras-commander\\examples\\example_projects\\Chippewa_2D\\Chippewa_2D.p02.hdf\n"
          ]
        }
      ],
      "source": [
        "# Get mesh faces timeseries output\n",
        "faces_timeseries_ds = HdfResultsMesh.get_mesh_faces_timeseries(plan_hdf_path, mesh_name)"
      ]
    },
    {
      "cell_type": "code",
      "execution_count": 34,
      "metadata": {},
      "outputs": [
        {
          "name": "stdout",
          "output_type": "stream",
          "text": [
            "\n",
            "Mesh Faces Timeseries Output:\n"
          ]
        },
        {
          "data": {
            "text/html": "<div><pre>xarray.Dataset with (time: 1633, face_id: 814)\\n', 'Coordinates:\\n', '  * time           (time) datetime64[ns] 13kB 2019-04-02 ... 2019-05-06\\n', '  * face_id        (face_id) int64 7kB 0 1 2 3 4 5 6 ... 808 809 810 811 812 813\\n', 'Data variables:\\n', '    face_velocity  (time, face_id) float32 5MB 0.0 0.0 0.0 0.0 ... 0.0 0.0 -0.0\\n', '    face_flow      (time, face_id) float32 5MB 0.0 0.0 0.0 0.0 ... 0.0 0.0 0.0\\n', 'Attributes:\\n', '    units:      ft/s\\n', '    mesh_name:  Perimeter 1\\n', \"    variable:   Face Velocity\n[Full xarray output truncated during preprocessing]</pre></div>",
            "text/plain": "xarray.Dataset with Unknown dimensions\n[Full xarray output truncated during preprocessing]"
          },
          "execution_count": 34,
          "metadata": {},
          "output_type": "execute_result"
        }
      ],
      "source": [
        "print(\"\\nMesh Faces Timeseries Output:\")\n",
        "faces_timeseries_ds\n"
      ]
    },
    {
      "cell_type": "code",
      "execution_count": 35,
      "metadata": {},
      "outputs": [
        {
          "name": "stdout",
          "output_type": "stream",
          "text": [
            "Conversion to positive values complete.\n",
            "Number of faces processed: 814\n"
          ]
        }
      ],
      "source": [
        "# Convert all face velocities and face flow values to positive for further calculations\n",
        "# We have visually confirmed for this model that all flow is moving in the same direction\n",
        "\n",
        "# Function to process and convert face data to positive values\n",
        "def convert_to_positive_values(faces_timeseries_ds, cells_timeseries_ds):\n",
        "    \"\"\"\n",
        "    Convert face velocities and flows to positive values while maintaining their relationships.\n",
        "    \n",
        "    Args:\n",
        "        faces_timeseries_ds (xarray.Dataset): Dataset containing face timeseries data\n",
        "        cells_timeseries_ds (xarray.Dataset): Dataset containing cell timeseries data\n",
        "        \n",
        "    Returns:\n",
        "        xarray.Dataset: Modified dataset with positive values\n",
        "    \"\"\"\n",
        "    # Get the face velocity and flow variables\n",
        "    face_velocity = faces_timeseries_ds['face_velocity']\n",
        "    face_flow = faces_timeseries_ds['face_flow']\n",
        "    \n",
        "    # Calculate the sign of the velocity to maintain flow direction relationships\n",
        "    velocity_sign = xr.where(face_velocity >= 0, 1, -1)\n",
        "    \n",
        "    # Convert velocities and flows to absolute values while maintaining their relationship\n",
        "    faces_timeseries_ds['face_velocity'] = abs(face_velocity)\n",
        "    faces_timeseries_ds['face_flow'] = abs(face_flow)\n",
        "    \n",
        "    # Store the original sign as a new variable for reference\n",
        "    faces_timeseries_ds['velocity_direction'] = velocity_sign\n",
        "    \n",
        "    print(\"Conversion to positive values complete.\")\n",
        "    print(f\"Number of faces processed: {len(faces_timeseries_ds.face_id)}\")\n",
        "    \n",
        "    return faces_timeseries_ds, cells_timeseries_ds\n",
        "\n",
        "# Convert the values in our datasets\n",
        "faces_timeseries_ds_positive, cells_timeseries_ds_positive = convert_to_positive_values(\n",
        "    faces_timeseries_ds, \n",
        "    cells_timeseries_ds\n",
        ")"
      ]
    },
    {
      "cell_type": "code",
      "execution_count": 36,
      "metadata": {},
      "outputs": [],
      "source": [
        "import pandas as pd\n",
        "import numpy as np\n",
        "import xarray as xr\n",
        "\n",
        "# Function to process faces for a single profile line\n",
        "def process_profile_line(profile_name, faces, cells_timeseries_ds, faces_timeseries_ds):\n",
        "    face_ids = faces['face_id'].tolist()\n",
        "    \n",
        "    # Extract relevant data for these faces\n",
        "    face_velocities = faces_timeseries_ds['face_velocity'].sel(face_id=face_ids)\n",
        "    face_flows = faces_timeseries_ds['face_flow'].sel(face_id=face_ids)\n",
        "    \n",
        "    # Create a new dataset with calculated results\n",
        "    results_ds = xr.Dataset({\n",
        "        'face_velocity': face_velocities,\n",
        "        'face_flow': face_flows\n",
        "    })\n",
        "    \n",
        "    # Convert to dataframe for easier manipulation\n",
        "    results_df = results_ds.to_dataframe().reset_index()\n",
        "    \n",
        "    # Add profile name and face order\n",
        "    results_df['profile_name'] = profile_name\n",
        "    results_df['face_order'] = results_df.groupby('time')['face_id'].transform(lambda x: pd.factorize(x)[0])\n",
        "    \n",
        "    return results_df\n"
      ]
    },
    {
      "cell_type": "markdown",
      "metadata": {},
      "source": [
        "Calculate Vave = Sum Qn / Sum An for each profile line\n",
        "where Vave = the summation of face flow / flow area for all the faces in the profile line\n",
        "\n",
        "Then, save the results to CSV"
      ]
    },
    {
      "cell_type": "code",
      "execution_count": 37,
      "metadata": {},
      "outputs": [
        {
          "data": {
            "text/html": "<div>\n<style scoped>\\n', '    .dataframe tbody tr th:only-of-type {\\n', '        vertical-align: middle;\\n', '    }\\n', '\\n', '    .dataframe tbody tr th {\\n', '        vertical-align: top;\\n', '    }\\n', '\\n', '    .dataframe thead th {\\n', '        text-align: right;\\n', '    }\\n', '</style>\n<table border=\"1\" class=\"dataframe\">\n  <thead>\\n', '    <tr style=\"text-align: right;\">\\n', '      <th></th>\\n', '      <th>time</th>\\n', '      <th>face_id</th>\\n', '      <th>face_velocity</th>\\n', '      <th>face_flow</th>\\n', '      <th>profile_name</th>\\n', '      <th>face_order</th>\\n', '    </tr>\\n', '  </thead>\n  <tbody>\n    <tr>\\n', '      <th>0</th>\\n', '      <td>2019-04-02</td>\\n', '      <td>52</td>\\n', '      <td>0.000000</td>\\n', '      <td>0.000000</td>\\n', '      <td>Profile Line 1</td>\\n', '      <td>0</td>\\n', '    </tr><tr>\\n', '      <th>1</th>\\n', '      <td>2019-04-02</td>\\n', '      <td>92</td>\\n', '      <td>0.000000</td>\\n', '      <td>0.000000</td>\\n', '      <td>Profile Line 1</td>\\n', '      <td>1</td>\\n', '    </tr><tr>\\n', '      <th>2</th>\\n', '      <td>2019-04-02</td>\\n', '      <td>548</td>\\n', '      <td>1.018038</td>\\n', '      <td>353.129822</td>\\n', '      <td>Profile Line 1</td>\\n', '      <td>2</td>\\n', '    </tr><tr>\\n', '      <th>3</th>\\n', '      <td>2019-04-02</td>\\n', '      <td>691</td>\\n', '      <td>2.106394</td>\\n', '      <td>2195.409912</td>\\n', '      <td>Profile Line 1</td>\\n', '      <td>3</td>\\n', '    </tr><tr>\\n', '      <th>4</th>\\n', '      <td>2019-04-02</td>\\n', '      <td>78</td>\\n', '      <td>2.376904</td>\\n', '      <td>3600.228760</td>\\n', '      <td>Profile Line 1</td>\\n', '      <td>4</td>\\n', '    </tr>\n    <tr><td colspan=\"100%\" style=\"text-align:center\">[... additional rows truncated ...]</td></tr>\n  </tbody>\n</table>\n</div>",
            "text/plain": "['        time  face_id  face_velocity    face_flow    profile_name  face_order\\n', '0 2019-04-02       52       0.000000     0.000000  Profile Line 1           0\\n', '1 2019-04-02       92       0.000000     0.000000  Profile Line 1           1\\n', '2 2019-04-02      548       1.018038   353.129822  Profile Line 1           2\\n', '3 2019-04-02      691       2.106394  2195.409912  Profile Line 1           3\\n', '4 2019-04-02       78       2.376904  3600.228760  Profile Line 1           4']"
          },
          "execution_count": 37,
          "metadata": {},
          "output_type": "execute_result"
        }
      ],
      "source": [
        "# Process all profile lines\n",
        "all_results = []\n",
        "for profile_name, faces in faces_near_profile_lines.items():\n",
        "    profile_results = process_profile_line(profile_name, faces, cells_timeseries_ds, faces_timeseries_ds)\n",
        "    all_results.append(profile_results)\n",
        "\n",
        "# Combine results from all profile lines\n",
        "combined_results_df = pd.concat(all_results, ignore_index=True)\n",
        "\n",
        "# Display the first few rows of the combined results\n",
        "combined_results_df.head()"
      ]
    },
    {
      "cell_type": "markdown",
      "metadata": {},
      "source": [
        "-----"
      ]
    },
    {
      "cell_type": "code",
      "execution_count": 38,
      "metadata": {},
      "outputs": [
        {
          "name": "stdout",
          "output_type": "stream",
          "text": [
            "\n",
            "Time Series DataFrame for Profile Line 1:\n",
            "\n",
            "Time Series DataFrame for Profile Line 2:\n",
            "\n",
            "Time Series DataFrame for Profile Line 3:\n",
            "\n",
            "Profile Lines Processed:\n"
          ]
        },
        {
          "data": {
            "text/plain": "[\"{'Profile Line 1':             time  face_id  face_velocity    face_flow    profile_name  \\\\\\n\", ' 0     2019-04-02       52       0.000000     0.000000  Profile Line 1   \\n', ' 1     2019-04-02       92       0.000000     0.000000  Profile Line 1   \\n', ' 2     2019-04-02      548       1.018038   353.129822  Profile Line 1   \\n', ' 3     2019-04-02      691       2.106394  2195.409912  Profile Line 1   \\n', ' 4     2019-04-02       78       2.376904  3600.228760  Profile Line 1   \\n', ' ...          ...      ...            ...          ...             ...   \\n', ' 11426 2019-05-06      548       0.792421   236.539139  Profile Line 1   \\n', ' 11427 2019-05-06      691       1.673946  1335.706055  Profile Line 1   \\n', ' 11428 2019-05-06       78       1.971013  2325.571533  Profile Line 1   \\n', ' 11429 2019-05-06       79       3.666553  7875.726562  Profile Line 1   \\n', ' 11430 2019-05-06      697       2.158578  2533.945312  Profile Line 1   \\n', ' \\n', '        face_order  \\n',\n...\n[Output truncated, 3973 characters total]"
          },
          "execution_count": 38,
          "metadata": {},
          "output_type": "execute_result"
        }
      ],
      "source": [
        "profile_time_series = {}\n",
        "\n",
        "# Iterate through each profile line and extract its corresponding data\n",
        "for profile_name, faces_gdf in faces_near_profile_lines.items():\n",
        "    # Get the list of face_ids for this profile line\n",
        "    face_ids = faces_gdf['face_id'].tolist()\n",
        "    \n",
        "    # Filter the combined_results_df for these face_ids\n",
        "    profile_df = combined_results_df[combined_results_df['face_id'].isin(face_ids)].copy()\n",
        "    \n",
        "    # Add the profile name as a column\n",
        "    profile_df['profile_name'] = profile_name\n",
        "    \n",
        "    # Reset index for cleanliness\n",
        "    profile_df.reset_index(drop=True, inplace=True)\n",
        "    \n",
        "    # Store in the dictionary\n",
        "    profile_time_series[profile_name] = profile_df\n",
        "    \n",
        "    # Display a preview\n",
        "    print(f\"\\nTime Series DataFrame for {profile_name}:\")\n",
        "    profile_df\n",
        "\n",
        "# Optionally, display all profile names\n",
        "print(\"\\nProfile Lines Processed:\")\n",
        "profile_time_series\n"
      ]
    },
    {
      "cell_type": "code",
      "execution_count": 39,
      "metadata": {},
      "outputs": [
        {
          "name": "stdout",
          "output_type": "stream",
          "text": [
            "Combined Time Series DataFrame for All Profiles:\n"
          ]
        },
        {
          "data": {
            "text/html": "<div>\n<style scoped>\\n', '    .dataframe tbody tr th:only-of-type {\\n', '        vertical-align: middle;\\n', '    }\\n', '\\n', '    .dataframe tbody tr th {\\n', '        vertical-align: top;\\n', '    }\\n', '\\n', '    .dataframe thead th {\\n', '        text-align: right;\\n', '    }\\n', '</style>\n<table border=\"1\" class=\"dataframe\">\n  <thead>\\n', '    <tr style=\"text-align: right;\">\\n', '      <th></th>\\n', '      <th>time</th>\\n', '      <th>face_id</th>\\n', '      <th>face_velocity</th>\\n', '      <th>face_flow</th>\\n', '      <th>profile_name</th>\\n', '      <th>face_order</th>\\n', '    </tr>\\n', '  </thead>\n  <tbody>\n    <tr>\\n', '      <th>0</th>\\n', '      <td>2019-04-02</td>\\n', '      <td>52</td>\\n', '      <td>0.000000</td>\\n', '      <td>0.000000</td>\\n', '      <td>Profile Line 1</td>\\n', '      <td>0</td>\\n', '    </tr><tr>\\n', '      <th>1</th>\\n', '      <td>2019-04-02</td>\\n', '      <td>92</td>\\n', '      <td>0.000000</td>\\n', '      <td>0.000000</td>\\n', '      <td>Profile Line 1</td>\\n', '      <td>1</td>\\n', '    </tr><tr>\\n', '      <th>2</th>\\n', '      <td>2019-04-02</td>\\n', '      <td>548</td>\\n', '      <td>1.018038</td>\\n', '      <td>353.129822</td>\\n', '      <td>Profile Line 1</td>\\n', '      <td>2</td>\\n', '    </tr><tr>\\n', '      <th>3</th>\\n', '      <td>2019-04-02</td>\\n', '      <td>691</td>\\n', '      <td>2.106394</td>\\n', '      <td>2195.409912</td>\\n', '      <td>Profile Line 1</td>\\n', '      <td>3</td>\\n', '    </tr><tr>\\n', '      <th>4</th>\\n', '      <td>2019-04-02</td>\\n', '      <td>78</td>\\n', '      <td>2.376904</td>\\n', '      <td>3600.228760</td>\\n', '      <td>Profile Line 1</td>\\n', '      <td>4</td>\\n', '    </tr>\n    <tr><td colspan=\"100%\" style=\"text-align:center\">[... additional rows truncated ...]</td></tr>\n  </tbody>\n</table>\n</div>",
            "text/plain": "['            time  face_id  face_velocity    face_flow    profile_name  \\\\\\n', '0     2019-04-02       52       0.000000     0.000000  Profile Line 1   \\n', '1     2019-04-02       92       0.000000     0.000000  Profile Line 1   \\n', '2     2019-04-02      548       1.018038   353.129822  Profile Line 1   \\n', '3     2019-04-02      691       2.106394  2195.409912  Profile Line 1   \\n', '4     2019-04-02       78       2.376904  3600.228760  Profile Line 1   \\n', '...          ...      ...            ...          ...             ...   \\n', '45719 2019-05-06      455       1.958695  3282.870117  Profile Line 3   \\n', '45720 2019-05-06      469       2.087730  3434.791504  Profile Line 3   \\n', '45721 2019-05-06      416       2.239057  3689.832275  Profile Line 3   \\n', '45722 2019-05-06      437       1.693252  1800.098877  Profile Line 3   \\n', '45723 2019-05-06      480       0.001713     0.003279  Profile Line 3   \\n', '\\n', '       face_order  \\n', '0               0  \\n', '1               1  \\n', '2               2  \\n', '3               3  \\n', '4               4  \\n', '...           ...  \\n', '45719           3  \\n', '45720           4  \\n', '45721           5  \\n', '45722           6  \\n', '45723           7  \\n', '\\n', '[45724 rows x 6 columns]']"
          },
          "execution_count": 39,
          "metadata": {},
          "output_type": "execute_result"
        }
      ],
      "source": [
        "all_profiles_df = pd.concat(profile_time_series.values(), ignore_index=True)\n",
        "\n",
        "# Display the combined dataframe\n",
        "print(\"Combined Time Series DataFrame for All Profiles:\")\n",
        "all_profiles_df\n",
        "\n"
      ]
    },
    {
      "cell_type": "code",
      "execution_count": 40,
      "metadata": {},
      "outputs": [
        {
          "name": "stdout",
          "output_type": "stream",
          "text": [
            "Available variables:\n",
            "profile_time_series: True\n",
            "faces_near_profile_lines: True\n",
            "profile_averages: False\n",
            "\n",
            "Columns in Profile Line 1:\n",
            "['time', 'face_id', 'face_velocity', 'face_flow', 'profile_name', 'face_order']\n",
            "\n",
            "Columns in Profile Line 2:\n",
            "['time', 'face_id', 'face_velocity', 'face_flow', 'profile_name', 'face_order']\n",
            "\n",
            "Columns in Profile Line 3:\n",
            "['time', 'face_id', 'face_velocity', 'face_flow', 'profile_name', 'face_order']\n"
          ]
        }
      ],
      "source": [
        "# Check if we have the necessary variables\n",
        "print(\"Available variables:\")\n",
        "print(\"profile_time_series:\", 'profile_time_series' in locals())\n",
        "print(\"faces_near_profile_lines:\", 'faces_near_profile_lines' in locals())\n",
        "print(\"profile_averages:\", 'profile_averages' in locals())\n",
        "\n",
        "# Look at the structure of profile_time_series\n",
        "if 'profile_time_series' in locals():\n",
        "    for name, df in profile_time_series.items():\n",
        "        print(f\"\\nColumns in {name}:\")\n",
        "        print(df.columns.tolist())"
      ]
    },
    {
      "cell_type": "code",
      "execution_count": 41,
      "metadata": {},
      "outputs": [],
      "source": [
        "def calculate_discharge_weighted_velocity(profile_df: pd.DataFrame) -> pd.DataFrame:\n",
        "    \"\"\"\n",
        "    Calculate discharge-weighted average velocity for a profile line\n",
        "    Vw = Sum(|Qi|*Vi)/Sum(|Qi|) where Qi is face flow and Vi is face velocity\n",
        "    \"\"\"\n",
        "    print(\"Calculating discharge-weighted velocity...\")\n",
        "    print(f\"Input DataFrame:\\n{profile_df.head()}\")\n",
        "\n",
        "    # Calculate weighted velocity for each timestep\n",
        "    weighted_velocities = []\n",
        "    for time in profile_df['time'].unique():\n",
        "        time_data = profile_df[profile_df['time'] == time]\n",
        "        abs_flows = np.abs(time_data['face_flow'])\n",
        "        abs_velocities = np.abs(time_data['face_velocity'])\n",
        "        weighted_vel = (abs_flows * abs_velocities).sum() / abs_flows.sum()\n",
        "        weighted_velocities.append({\n",
        "            'time': time,\n",
        "            'weighted_velocity': weighted_vel\n",
        "        })\n",
        "    \n",
        "    weighted_df = pd.DataFrame(weighted_velocities)\n",
        "    print(f\"Calculated weighted velocities:\\n{weighted_df.head()}\")\n",
        "    return weighted_df\n"
      ]
    },
    {
      "cell_type": "code",
      "execution_count": 42,
      "metadata": {},
      "outputs": [
        {
          "name": "stdout",
          "output_type": "stream",
          "text": [
            "\n",
            "Processing profile: Profile Line 1\n",
            "Calculating discharge-weighted velocity...\n",
            "Input DataFrame:\n",
            "        time  face_id  face_velocity    face_flow    profile_name  face_order\n",
            "0 2019-04-02       52       0.000000     0.000000  Profile Line 1           0\n",
            "1 2019-04-02       92       0.000000     0.000000  Profile Line 1           1\n",
            "2 2019-04-02      548       1.018038   353.129822  Profile Line 1           2\n",
            "3 2019-04-02      691       2.106394  2195.409912  Profile Line 1           3\n",
            "4 2019-04-02       78       2.376904  3600.228760  Profile Line 1           4\n",
            "Calculated weighted velocities:\n",
            "                 time  weighted_velocity\n",
            "0 2019-04-02 00:00:00           3.181145\n",
            "1 2019-04-02 00:30:00           3.186662\n",
            "2 2019-04-02 01:00:00           3.192697\n",
            "3 2019-04-02 01:30:00           3.198414\n",
            "4 2019-04-02 02:00:00           3.204067\n",
            "Weighted velocities calculated.\n",
            "Number of ordered faces: 7\n",
            "Converted time to datetime format.\n",
            "Number of ordered faces: 7\n",
            "Saved weighted velocities to d:\\GitHub\\ras-commander\\examples\\example_projects\\Chippewa_2D\\Profile Line 1_discharge_weighted_velocity.csv\n",
            "\n",
            "Processing profile: Profile Line 2\n",
            "Calculating discharge-weighted velocity...\n",
            "Input DataFrame:\n",
            "        time  face_id  face_velocity    face_flow    profile_name  face_order\n",
            "0 2019-04-02      387       0.000000     0.000000  Profile Line 2           0\n",
            "1 2019-04-02      466       1.593006  1426.901733  Profile Line 2           1\n",
            "2 2019-04-02      611       0.000000     0.000000  Profile Line 2           2\n",
            "3 2019-04-02      601       0.000000     0.000000  Profile Line 2           3\n",
            "4 2019-04-02      599       1.248908   766.616943  Profile Line 2           4\n",
            "Calculated weighted velocities:\n",
            "                 time  weighted_velocity\n",
            "0 2019-04-02 00:00:00           2.401040\n",
            "1 2019-04-02 00:30:00           2.403080\n",
            "2 2019-04-02 01:00:00           2.407171\n",
            "3 2019-04-02 01:30:00           2.411040\n",
            "4 2019-04-02 02:00:00           2.414976\n",
            "Weighted velocities calculated.\n",
            "Number of ordered faces: 13\n",
            "Converted time to datetime format.\n",
            "Number of ordered faces: 13\n",
            "Saved weighted velocities to d:\\GitHub\\ras-commander\\examples\\example_projects\\Chippewa_2D\\Profile Line 2_discharge_weighted_velocity.csv\n",
            "\n",
            "Processing profile: Profile Line 3\n",
            "Calculating discharge-weighted velocity...\n",
            "Input DataFrame:\n",
            "        time  face_id  face_velocity    face_flow    profile_name  face_order\n",
            "0 2019-04-02      532       0.000000     0.000000  Profile Line 3           0\n",
            "1 2019-04-02      341       0.000000     0.000000  Profile Line 3           1\n",
            "2 2019-04-02      349       1.962641  2601.644287  Profile Line 3           2\n",
            "3 2019-04-02      455       2.367594  4148.870605  Profile Line 3           3\n",
            "4 2019-04-02      469       2.515510  4458.292480  Profile Line 3           4\n",
            "Calculated weighted velocities:\n",
            "                 time  weighted_velocity\n",
            "0 2019-04-02 00:00:00           2.370525\n",
            "1 2019-04-02 00:30:00           2.371187\n",
            "2 2019-04-02 01:00:00           2.375672\n",
            "3 2019-04-02 01:30:00           2.379937\n",
            "4 2019-04-02 02:00:00           2.384298\n",
            "Weighted velocities calculated.\n",
            "Number of ordered faces: 8\n",
            "Converted time to datetime format.\n",
            "Number of ordered faces: 8\n",
            "Saved weighted velocities to d:\\GitHub\\ras-commander\\examples\\example_projects\\Chippewa_2D\\Profile Line 3_discharge_weighted_velocity.csv\n"
          ]
        }
      ],
      "source": [
        "# Calculate for each profile line\n",
        "for profile_name, profile_df in profile_time_series.items():\n",
        "    print(f\"\\nProcessing profile: {profile_name}\")\n",
        "\n",
        "    # Calculate discharge-weighted velocity\n",
        "    weighted_velocities = calculate_discharge_weighted_velocity(profile_df)\n",
        "    \n",
        "    print(\"Weighted velocities calculated.\")\n",
        "    # Get ordered faces for this profile\n",
        "    ordered_faces = faces_near_profile_lines[profile_name]\n",
        "    print(f\"Number of ordered faces: {len(ordered_faces)}\")\n",
        "    \n",
        "    print(\"Converted time to datetime format.\")\n",
        "\n",
        "    # Get ordered faces for this profile\n",
        "    ordered_faces = faces_near_profile_lines[profile_name]\n",
        "    print(f\"Number of ordered faces: {len(ordered_faces)}\")\n",
        "    \n",
        "    # Save dataframes in the output directory\n",
        "    output_file = ras.project_folder / f\"{profile_name}_discharge_weighted_velocity.csv\"\n",
        "    weighted_velocities.to_csv(output_file, index=False)\n",
        "    print(f\"Saved weighted velocities to {output_file}\")"
      ]
    },
    {
      "cell_type": "code",
      "execution_count": 43,
      "metadata": {},
      "outputs": [
        {
          "name": "stdout",
          "output_type": "stream",
          "text": [
            "\n",
            "Generating comparison plot for profile: Profile Line 1\n",
            "Calculating discharge-weighted velocity...\n",
            "Input DataFrame:\n",
            "        time  face_id  face_velocity    face_flow    profile_name  face_order\n",
            "0 2019-04-02       52       0.000000     0.000000  Profile Line 1           0\n",
            "1 2019-04-02       92       0.000000     0.000000  Profile Line 1           1\n",
            "2 2019-04-02      548       1.018038   353.129822  Profile Line 1           2\n",
            "3 2019-04-02      691       2.106394  2195.409912  Profile Line 1           3\n",
            "4 2019-04-02       78       2.376904  3600.228760  Profile Line 1           4\n",
            "Calculated weighted velocities:\n",
            "                 time  weighted_velocity\n",
            "0 2019-04-02 00:00:00           3.181145\n",
            "1 2019-04-02 00:30:00           3.186662\n",
            "2 2019-04-02 01:00:00           3.192697\n",
            "3 2019-04-02 01:30:00           3.198414\n",
            "4 2019-04-02 02:00:00           3.204067\n"
          ]
        },
        {
          "data": {
            "text/plain": [
              "<Figure size 1600x900 with 1 Axes>"
            ]
          },
          "metadata": {},
          "output_type": "display_data"
        },
        {
          "name": "stdout",
          "output_type": "stream",
          "text": [
            "\n",
            "Velocity Comparison for Profile Line 1 \n",
            "Individual Face Velocities vs Simple Average Velocity vs Discharge-Weighted Average Velocity\n",
            "Number of faces: 7\n",
            "\n",
            "Discharge-Weighted Velocity Statistics:\n",
            "Mean: 3.89 ft/s\n",
            "Max: 4.85 ft/s\n",
            "Min: 2.89 ft/s\n",
            "\n",
            "Simple Average Velocity Statistics:\n",
            "Mean: 2.07 ft/s\n",
            "Max: 2.82 ft/s\n",
            "Min: 1.47 ft/s\n",
            "\n",
            "Generating comparison plot for profile: Profile Line 2\n",
            "Calculating discharge-weighted velocity...\n",
            "Input DataFrame:\n",
            "        time  face_id  face_velocity    face_flow    profile_name  face_order\n",
            "0 2019-04-02      387       0.000000     0.000000  Profile Line 2           0\n",
            "1 2019-04-02      466       1.593006  1426.901733  Profile Line 2           1\n",
            "2 2019-04-02      611       0.000000     0.000000  Profile Line 2           2\n",
            "3 2019-04-02      601       0.000000     0.000000  Profile Line 2           3\n",
            "4 2019-04-02      599       1.248908   766.616943  Profile Line 2           4\n",
            "Calculated weighted velocities:\n",
            "                 time  weighted_velocity\n",
            "0 2019-04-02 00:00:00           2.401040\n",
            "1 2019-04-02 00:30:00           2.403080\n",
            "2 2019-04-02 01:00:00           2.407171\n",
            "3 2019-04-02 01:30:00           2.411040\n",
            "4 2019-04-02 02:00:00           2.414976\n"
          ]
        },
        {
          "data": {
            "text/plain": [
              "<Figure size 1600x900 with 1 Axes>"
            ]
          },
          "metadata": {},
          "output_type": "display_data"
        },
        {
          "name": "stdout",
          "output_type": "stream",
          "text": [
            "\n",
            "Velocity Comparison for Profile Line 2 \n",
            "Individual Face Velocities vs Simple Average Velocity vs Discharge-Weighted Average Velocity\n",
            "Number of faces: 13\n",
            "\n",
            "Discharge-Weighted Velocity Statistics:\n",
            "Mean: 2.93 ft/s\n",
            "Max: 3.49 ft/s\n",
            "Min: 2.16 ft/s\n",
            "\n",
            "Simple Average Velocity Statistics:\n",
            "Mean: 1.16 ft/s\n",
            "Max: 1.58 ft/s\n",
            "Min: 0.82 ft/s\n",
            "\n",
            "Generating comparison plot for profile: Profile Line 3\n",
            "Calculating discharge-weighted velocity...\n",
            "Input DataFrame:\n",
            "        time  face_id  face_velocity    face_flow    profile_name  face_order\n",
            "0 2019-04-02      532       0.000000     0.000000  Profile Line 3           0\n",
            "1 2019-04-02      341       0.000000     0.000000  Profile Line 3           1\n",
            "2 2019-04-02      349       1.962641  2601.644287  Profile Line 3           2\n",
            "3 2019-04-02      455       2.367594  4148.870605  Profile Line 3           3\n",
            "4 2019-04-02      469       2.515510  4458.292480  Profile Line 3           4\n",
            "Calculated weighted velocities:\n",
            "                 time  weighted_velocity\n",
            "0 2019-04-02 00:00:00           2.370525\n",
            "1 2019-04-02 00:30:00           2.371187\n",
            "2 2019-04-02 01:00:00           2.375672\n",
            "3 2019-04-02 01:30:00           2.379937\n",
            "4 2019-04-02 02:00:00           2.384298\n"
          ]
        },
        {
          "data": {
            "text/plain": [
              "<Figure size 1600x900 with 1 Axes>"
            ]
          },
          "metadata": {},
          "output_type": "display_data"
        },
        {
          "name": "stdout",
          "output_type": "stream",
          "text": [
            "\n",
            "Velocity Comparison for Profile Line 3 \n",
            "Individual Face Velocities vs Simple Average Velocity vs Discharge-Weighted Average Velocity\n",
            "Number of faces: 8\n",
            "\n",
            "Discharge-Weighted Velocity Statistics:\n",
            "Mean: 2.83 ft/s\n",
            "Max: 3.49 ft/s\n",
            "Min: 1.98 ft/s\n",
            "\n",
            "Simple Average Velocity Statistics:\n",
            "Mean: 1.75 ft/s\n",
            "Max: 2.35 ft/s\n",
            "Min: 1.20 ft/s\n"
          ]
        }
      ],
      "source": [
        "# Create plots comparing discharge-weighted velocity and simple average for each profile line\n",
        "for profile_name, profile_df in profile_time_series.items():\n",
        "    \n",
        "    print(f\"\\nGenerating comparison plot for profile: {profile_name}\")\n",
        "    \n",
        "    # Calculate discharge-weighted velocity\n",
        "    weighted_velocities = calculate_discharge_weighted_velocity(profile_df)\n",
        "    weighted_velocities['time'] = pd.to_datetime(weighted_velocities['time'])\n",
        "    \n",
        "    # Calculate simple average velocity for each timestep\n",
        "    simple_averages = profile_df.groupby('time')['face_velocity'].mean().reset_index()\n",
        "    simple_averages['time'] = pd.to_datetime(simple_averages['time'])\n",
        "    \n",
        "    # Create figure for comparison plot\n",
        "    plt.figure(figsize=(16, 9))\n",
        "    \n",
        "    # Plot individual face velocities with thin lines\n",
        "    for face_id in profile_df['face_id'].unique():\n",
        "        face_data = profile_df[profile_df['face_id'] == face_id]\n",
        "        plt.plot(face_data['time'], \n",
        "                face_data['face_velocity'], \n",
        "                alpha=0.8,  # More transparent\n",
        "                linewidth=0.3,  # Thinner line\n",
        "                color='gray',  # Consistent color\n",
        "                label=f'Face ID {face_id}')\n",
        "        \n",
        "        # Find and annotate peak value for each face\n",
        "        peak_idx = face_data['face_velocity'].idxmax()\n",
        "        peak_time = face_data.loc[peak_idx, 'time']\n",
        "        peak_vel = face_data.loc[peak_idx, 'face_velocity']\n",
        "        plt.annotate(f'{peak_vel:.2f} ({face_id})',\n",
        "                    xy=(peak_time, peak_vel),\n",
        "                    xytext=(10, 10),\n",
        "                    textcoords='offset points',\n",
        "                    fontsize=8,\n",
        "                    alpha=0.5)\n",
        "    \n",
        "    # Plot discharge-weighted velocity\n",
        "    plt.plot(weighted_velocities['time'], \n",
        "            weighted_velocities['weighted_velocity'], \n",
        "            color='red', \n",
        "            alpha=1.0, \n",
        "            linewidth=2,\n",
        "            label='Discharge-Weighted Velocity')\n",
        "    \n",
        "    # Find and annotate peak weighted velocity\n",
        "    peak_idx = weighted_velocities['weighted_velocity'].idxmax()\n",
        "    peak_time = weighted_velocities.loc[peak_idx, 'time']\n",
        "    peak_vel = weighted_velocities.loc[peak_idx, 'weighted_velocity']\n",
        "    plt.annotate(f'Peak Weighted: {peak_vel:.2f}',\n",
        "                xy=(peak_time, peak_vel),\n",
        "                xytext=(10, 10),\n",
        "                textcoords='offset points',\n",
        "                color='red',\n",
        "                fontweight='bold')\n",
        "    \n",
        "    # Plot simple average\n",
        "    plt.plot(simple_averages['time'], \n",
        "            simple_averages['face_velocity'], \n",
        "            color='blue', \n",
        "            alpha=0.5, \n",
        "            linewidth=1,\n",
        "            linestyle='--',\n",
        "            label='Simple Average')\n",
        "    \n",
        "    # Find and annotate peak simple average\n",
        "    peak_idx = simple_averages['face_velocity'].idxmax()\n",
        "    peak_time = simple_averages.loc[peak_idx, 'time']\n",
        "    peak_vel = simple_averages.loc[peak_idx, 'face_velocity']\n",
        "    plt.annotate(f'Peak Average: {peak_vel:.2f}',\n",
        "                xy=(peak_time, peak_vel),\n",
        "                xytext=(10, -10),\n",
        "                textcoords='offset points',\n",
        "                color='blue',\n",
        "                fontweight='bold')\n",
        "    \n",
        "    # Configure plot\n",
        "    plt.title(f'Velocity Comparison for {profile_name} \\nIndividual Face Velocities vs Simple Average Velocity vs Discharge-Weighted Average Velocity')\n",
        "    plt.xlabel('Time')\n",
        "    plt.ylabel('Velocity (ft/s)')\n",
        "    plt.grid(True, alpha=0.3)\n",
        "    \n",
        "    # Add legend with better placement\n",
        "    plt.legend(bbox_to_anchor=(1.05, 1), loc='upper left')\n",
        "    \n",
        "    # Adjust layout to accommodate legend and stats\n",
        "    plt.subplots_adjust(right=0.8)\n",
        "    \n",
        "    # Save plot to file\n",
        "    plot_file = ras.project_folder / f\"{profile_name}_velocity_comparison.png\"\n",
        "    plt.savefig(plot_file, bbox_inches='tight', dpi=300)\n",
        "    plt.show()\n",
        "    \n",
        "    # Print detailed comparison\n",
        "    print(f\"\\nVelocity Comparison for {profile_name} \\nIndividual Face Velocities vs Simple Average Velocity vs Discharge-Weighted Average Velocity\")\n",
        "    print(f\"Number of faces: {profile_df['face_id'].nunique()}\")\n",
        "    print(\"\\nDischarge-Weighted Velocity Statistics:\")\n",
        "    print(f\"Mean: {weighted_velocities['weighted_velocity'].mean():.2f} ft/s\")\n",
        "    print(f\"Max: {weighted_velocities['weighted_velocity'].max():.2f} ft/s\")\n",
        "    print(f\"Min: {weighted_velocities['weighted_velocity'].min():.2f} ft/s\")\n",
        "    print(\"\\nSimple Average Velocity Statistics:\")\n",
        "    print(f\"Mean: {simple_averages['face_velocity'].mean():.2f} ft/s\")\n",
        "    print(f\"Max: {simple_averages['face_velocity'].max():.2f} ft/s\")\n",
        "    print(f\"Min: {simple_averages['face_velocity'].min():.2f} ft/s\")"
      ]
    },
    {
      "cell_type": "code",
      "execution_count": 44,
      "metadata": {},
      "outputs": [
        {
          "name": "stderr",
          "output_type": "stream",
          "text": [
            "2025-04-09 08:30:14 - ras_commander.HdfMesh - INFO - Using HDF file from direct string path: d:\\GitHub\\ras-commander\\examples\\example_projects\\Chippewa_2D\\Chippewa_2D.g01.hdf\n",
            "2025-04-09 08:30:14 - ras_commander.HdfMesh - INFO - Final validated HDF file path: d:\\GitHub\\ras-commander\\examples\\example_projects\\Chippewa_2D\\Chippewa_2D.g01.hdf\n",
            "2025-04-09 08:30:14 - ras_commander.HdfMesh - INFO - Using existing Path object HDF file: d:\\GitHub\\ras-commander\\examples\\example_projects\\Chippewa_2D\\Chippewa_2D.g01.hdf\n",
            "2025-04-09 08:30:14 - ras_commander.HdfMesh - INFO - Final validated HDF file path: d:\\GitHub\\ras-commander\\examples\\example_projects\\Chippewa_2D\\Chippewa_2D.g01.hdf\n",
            "2025-04-09 08:30:14 - ras_commander.HdfBase - INFO - Using HDF file from h5py.File object: d:\\GitHub\\ras-commander\\examples\\example_projects\\Chippewa_2D\\Chippewa_2D.g01.hdf\n",
            "2025-04-09 08:30:14 - ras_commander.HdfBase - INFO - Final validated HDF file path: d:\\GitHub\\ras-commander\\examples\\example_projects\\Chippewa_2D\\Chippewa_2D.g01.hdf\n",
            "2025-04-09 08:30:14 - ras_commander.HdfBase - CRITICAL - No valid projection found. Checked:\n",
            "1. HDF file projection attribute: d:\\GitHub\\ras-commander\\examples\\example_projects\\Chippewa_2D\\Chippewa_2D.g01.hdf\n",
            "2. RASMapper projection file d:\\GitHub\\ras-commander\\examples\\example_projects\\Chippewa_2D\\.Winona_Upload\\LifeSim model\\Winona Levee SQRA 2019\\RAS\\AW\\MMC_Projection.prj found in RASMapper file, but was invalid\n",
            "To fix this:\n",
            "1. Open RASMapper\n",
            "2. Click Map > Set Projection\n",
            "3. Select an appropriate projection file or coordinate system\n",
            "4. Save the RASMapper project\n"
          ]
        },
        {
          "name": "stdout",
          "output_type": "stream",
          "text": [
            "\n",
            "Example: Extracting mesh cell faces near profile lines\n",
            "First few rows of mesh cell faces:\n"
          ]
        },
        {
          "data": {
            "text/plain": [
              "<Figure size 2400x1600 with 1 Axes>"
            ]
          },
          "metadata": {},
          "output_type": "display_data"
        },
        {
          "name": "stdout",
          "output_type": "stream",
          "text": [
            "\n",
            "Original ordered faces near profile lines:\n",
            "\n",
            "Combined profile-to-faceline results:\n"
          ]
        },
        {
          "data": {
            "text/html": "<div>\n<style scoped>\\n', '    .dataframe tbody tr th:only-of-type {\\n', '        vertical-align: middle;\\n', '    }\\n', '\\n', '    .dataframe tbody tr th {\\n', '        vertical-align: top;\\n', '    }\\n', '\\n', '    .dataframe thead th {\\n', '        text-align: right;\\n', '    }\\n', '</style>\n<table border=\"1\" class=\"dataframe\">\n  <thead>\\n', '    <tr style=\"text-align: right;\">\\n', '      <th></th>\\n', '      <th>profile_name</th>\\n', '      <th>geometry</th>\\n', '    </tr>\\n', '  </thead>\n  <tbody>\n    <tr>\\n', '      <th>0</th>\\n', '      <td>Profile Line 1</td>\\n', '      <td>LINESTRING (1027100.412 7857052.854, 1027350.3...</td>\\n', '    </tr><tr>\\n', '      <th>1</th>\\n', '      <td>Profile Line 2</td>\\n', '      <td>LINESTRING (1026801.09 7853483.399, 1027138.39...</td>\\n', '    </tr><tr>\\n', '      <th>2</th>\\n', '      <td>Profile Line 3</td>\\n', '      <td>LINESTRING (1026498.193 7851901.653, 1026838.2...</td>\\n', '    </tr>\n    <tr><td colspan=\"100%\" style=\"text-align:center\">[... additional rows truncated ...]</td></tr>\n  </tbody>\n</table>\n</div>",
            "text/plain": "['     profile_name                                           geometry\\n', '0  Profile Line 1  LINESTRING (1027100.412 7857052.854, 1027350.3...\\n', '1  Profile Line 2  LINESTRING (1026801.09 7853483.399, 1027138.39...\\n', '2  Profile Line 3  LINESTRING (1026498.193 7851901.653, 1026838.2...']"
          },
          "execution_count": 44,
          "metadata": {},
          "output_type": "execute_result"
        }
      ],
      "source": [
        "# Example: Extracting mesh cell faces near profile lines\n",
        "print(\"\\nExample: Extracting mesh cell faces near profile lines\")\n",
        "\n",
        "# Get mesh cell faces using HdfMesh class\n",
        "mesh_cell_faces = HdfMesh.get_mesh_cell_faces(geom_hdf_path)\n",
        "\n",
        "# Display the first few rows of the mesh cell faces DataFrame\n",
        "print(\"First few rows of mesh cell faces:\")\n",
        "mesh_cell_faces\n",
        "\n",
        "# Load the GeoJSON file for profile lines\n",
        "geojson_path = Path(r'data/profile_lines_chippewa2D.geojson')  # Update with the correct path\n",
        "profile_lines_gdf = gpd.read_file(geojson_path)\n",
        "\n",
        "# Set the Coordinate Reference System (CRS) to EPSG:5070\n",
        "profile_lines_gdf = profile_lines_gdf.set_crs(epsg=5070, allow_override=True)\n",
        "\n",
        "# Initialize a dictionary to store faces near each profile line\n",
        "faces_near_profile_lines = {}\n",
        "\n",
        "# Define distance threshold (10 ft converted to meters)\n",
        "distance_threshold = 10\n",
        "angle_threshold = 60  # degrees\n",
        "\n",
        "# Function to calculate the smallest angle between two lines or line segments.\n",
        "def calculate_angle(line):\n",
        "    if isinstance(line, LineString):\n",
        "        x_diff = line.xy[0][-1] - line.xy[0][0]\n",
        "        y_diff = line.xy[1][-1] - line.xy[1][0]\n",
        "    else:\n",
        "        x_diff = line[1][0] - line[0][0]\n",
        "        y_diff = line[1][1] - line[0][1]\n",
        "    \n",
        "    angle = np.degrees(np.arctan2(y_diff, x_diff))\n",
        "    return angle % 360 if angle >= 0 else (angle + 360) % 360\n",
        "\n",
        "# Function to break line into segments\n",
        "def break_line_into_segments(line, segment_length):\n",
        "    segments = []\n",
        "    segment_angles = []\n",
        "    \n",
        "    distances = np.arange(0, line.length, segment_length)\n",
        "    if distances[-1] != line.length:\n",
        "        distances = np.append(distances, line.length)\n",
        "        \n",
        "    for i in range(len(distances)-1):\n",
        "        point1 = line.interpolate(distances[i])\n",
        "        point2 = line.interpolate(distances[i+1])\n",
        "        segment = LineString([point1, point2])\n",
        "        segments.append(segment)\n",
        "        segment_angles.append(calculate_angle([point1.coords[0], point2.coords[0]]))\n",
        "        \n",
        "    return segments, segment_angles\n",
        "\n",
        "# Function to calculate angle difference accounting for 180 degree equivalence\n",
        "def angle_difference(angle1, angle2):\n",
        "    diff = abs(angle1 - angle2) % 180\n",
        "    return min(diff, 180 - diff)\n",
        "\n",
        "# Function to order faces along profile line\n",
        "def order_faces_along_profile(profile_line, faces_gdf):\n",
        "    profile_start = Point(profile_line.coords[0])\n",
        "    \n",
        "    faces_with_dist = []\n",
        "    for idx, face in faces_gdf.iterrows():\n",
        "        face_start = Point(face.geometry.coords[0])\n",
        "        dist = profile_start.distance(face_start)\n",
        "        faces_with_dist.append((idx, dist))\n",
        "    \n",
        "    faces_with_dist.sort(key=lambda x: x[1])\n",
        "    return [x[0] for x in faces_with_dist]\n",
        "\n",
        "# Function to combine ordered faces into single linestring\n",
        "def combine_faces_to_linestring(ordered_faces_gdf):\n",
        "    coords = []\n",
        "    for _, face in ordered_faces_gdf.iterrows():\n",
        "        if not coords:  # First face - add all coordinates\n",
        "            coords.extend(list(face.geometry.coords))\n",
        "        else:  # Subsequent faces - add only end coordinate\n",
        "            coords.append(face.geometry.coords[-1])\n",
        "    return LineString(coords)\n",
        "\n",
        "# Initialize GeoDataFrame for final profile-to-faceline results\n",
        "profile_to_faceline = gpd.GeoDataFrame(columns=['profile_name', 'geometry'], crs=profile_lines_gdf.crs)\n",
        "\n",
        "# Iterate through each profile line\n",
        "for index, profile_line in profile_lines_gdf.iterrows():\n",
        "    profile_geom = profile_line.geometry\n",
        "    \n",
        "    # Break profile line into segments\n",
        "    segments, segment_angles = break_line_into_segments(profile_geom, distance_threshold)\n",
        "    \n",
        "    # Initialize set to store nearby faces\n",
        "    nearby_faces = set()\n",
        "    \n",
        "    # For each face, check distance to segments and angle difference\n",
        "    for face_idx, face in mesh_cell_faces.iterrows():\n",
        "        face_geom = face.geometry\n",
        "        \n",
        "        if isinstance(face_geom, LineString):\n",
        "            face_angle = calculate_angle(face_geom)\n",
        "            \n",
        "            for segment, segment_angle in zip(segments, segment_angles):\n",
        "                if face_geom.distance(segment) <= distance_threshold:\n",
        "                    if angle_difference(face_angle, segment_angle) <= angle_threshold:\n",
        "                        nearby_faces.add(face_idx)\n",
        "                        break\n",
        "    \n",
        "    # Convert the set of indices back to a GeoDataFrame\n",
        "    nearby_faces_gdf = mesh_cell_faces.loc[list(nearby_faces)]\n",
        "    \n",
        "    # Order faces along profile line\n",
        "    ordered_indices = order_faces_along_profile(profile_geom, nearby_faces_gdf)\n",
        "    ordered_faces_gdf = nearby_faces_gdf.loc[ordered_indices]\n",
        "    \n",
        "    # Combine ordered faces into single linestring\n",
        "    combined_linestring = combine_faces_to_linestring(ordered_faces_gdf)\n",
        "    \n",
        "    # Add to profile_to_faceline GeoDataFrame\n",
        "    new_row = gpd.GeoDataFrame({'profile_name': [profile_line['Name']], \n",
        "                               'geometry': [combined_linestring]}, \n",
        "                              crs=profile_lines_gdf.crs)\n",
        "    profile_to_faceline = pd.concat([profile_to_faceline, new_row], ignore_index=True)\n",
        "    \n",
        "    # Store the ordered faces in the dictionary\n",
        "    faces_near_profile_lines[profile_line['Name']] = ordered_faces_gdf\n",
        "\n",
        "# Plot the results\n",
        "fig, ax = plt.subplots(figsize=(24, 16))\n",
        "\n",
        "# Plot all mesh cell faces in light blue\n",
        "mesh_cell_faces.plot(ax=ax, color='lightblue', alpha=0.3, edgecolor='k', label='All Mesh Faces')\n",
        "\n",
        "# Plot selected faces for each profile line with numbers and velocities\n",
        "colors = ['red', 'green', 'blue']\n",
        "for (profile_name, faces), color in zip(faces_near_profile_lines.items(), colors):\n",
        "    if not faces.empty:\n",
        "        faces.plot(ax=ax, color=color, alpha=0.6, label=f'Faces near {profile_name}')\n",
        "        \n",
        "        # Get velocity data for this profile from profile_time_series\n",
        "        profile_data = profile_time_series[profile_name]\n",
        "        \n",
        "        # Add face_id above and peak velocity below for each face\n",
        "        for idx, face in faces.iterrows():\n",
        "            midpoint = face.geometry.interpolate(0.5, normalized=True)\n",
        "            \n",
        "            # Get peak velocity for this face\n",
        "            face_velocities = profile_data[profile_data['face_id'] == face['face_id']]['face_velocity']\n",
        "            peak_velocity = face_velocities.max() if not face_velocities.empty else 0.0\n",
        "            # Add face_id above the face\n",
        "            ax.text(midpoint.x, midpoint.y + 50,  # Adjust the +50 offset as needed\n",
        "                   f\"{face['face_id']}\", \n",
        "                   color=color, \n",
        "                   fontweight='bold',\n",
        "                   fontsize=8,\n",
        "                   ha='center', \n",
        "                   va='bottom')\n",
        "            \n",
        "            # Add peak velocity below the face\n",
        "            ax.text(midpoint.x, midpoint.y - 50,  # Adjust the -50 offset as needed\n",
        "                   f\"{peak_velocity:.2f}fps\", \n",
        "                   color=color, \n",
        "                   fontweight='bold',\n",
        "                   fontsize=6,\n",
        "                   ha='center', \n",
        "                   va='top')\n",
        "\n",
        "\n",
        "# Plot the combined linestrings\n",
        "profile_to_faceline.plot(ax=ax, color='black', linewidth=2, \n",
        "                        linestyle='--', label='Combined Face Lines')\n",
        "\n",
        "# Set labels and title\n",
        "ax.set_xlabel('Easting')\n",
        "ax.set_ylabel('Northing')\n",
        "ax.set_title('Mesh Cell Faces and Profile Lines\\nNumbered in order along profile\\nFace ID and Peak Face Velocity Shown')\n",
        "\n",
        "# Add grid and legend\n",
        "ax.grid(True)\n",
        "ax.legend()\n",
        "\n",
        "# Adjust layout and display\n",
        "plt.tight_layout()\n",
        "plt.show()\n",
        "\n",
        "# Display the results\n",
        "print(\"\\nOriginal ordered faces near profile lines:\")\n",
        "faces_near_profile_lines\n",
        "\n",
        "print(\"\\nCombined profile-to-faceline results:\")\n",
        "profile_to_faceline"
      ]
    },
    {
      "cell_type": "markdown",
      "metadata": {},
      "source": [
        "NOTE:  We are using the face normal velocity that is available in the HDF.  This will only be accurate if you pick cell faces that are perpendicular to flow.  Depending on the application, a more robust calculation may be required. "
      ]
    }
  ],
  "metadata": {
    "kernelspec": {
      "display_name": "rascmdr",
      "language": "python",
      "name": "python3"
    },
    "language_info": {
      "codemirror_mode": {
        "name": "ipython",
        "version": 3
      },
      "file_extension": ".py",
      "mimetype": "text/x-python",
      "name": "python",
      "nbconvert_exporter": "python",
      "pygments_lexer": "ipython3",
      "version": "3.12.9"
    }
  },
  "nbformat": 4,
  "nbformat_minor": 2
}