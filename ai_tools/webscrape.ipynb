{
 "cells": [
  {
   "cell_type": "markdown",
   "metadata": {},
   "source": [
    "# Pandas Changelog Scraper\n",
    "\n",
    "This notebook scrapes the Pandas changelog from 2023 to present and creates a unified knowledge base of changes. We'll use ScrapeGraphAI to handle the scraping and processing of the changelog data."
   ]
  },
  {
   "cell_type": "markdown",
   "metadata": {},
   "source": [
    "## Setup\n",
    "\n",
    "First, let's install the required packages and import dependencies."
   ]
  },
  {
   "cell_type": "code",
   "execution_count": 1,
   "metadata": {},
   "outputs": [],
   "source": [
    "#!pip install scrapegraphai\n",
    "#!pip install pandas"
   ]
  },
  {
   "cell_type": "code",
   "execution_count": 2,
   "metadata": {},
   "outputs": [
    {
     "name": "stderr",
     "output_type": "stream",
     "text": [
      "c:\\Users\\billk\\AppData\\Local\\anaconda3\\envs\\gpt-crawler311\\Lib\\site-packages\\tqdm\\auto.py:21: TqdmWarning: IProgress not found. Please update jupyter and ipywidgets. See https://ipywidgets.readthedocs.io/en/stable/user_install.html\n",
      "  from .autonotebook import tqdm as notebook_tqdm\n"
     ]
    }
   ],
   "source": [
    "from scrapegraphai.graphs import SmartScraperGraph  # Changed to SmartScraperGraph as per the context\n",
    "from pydantic import BaseModel, Field\n",
    "from typing import List, Optional\n",
    "import pandas as pd\n",
    "from datetime import datetime\n",
    "import re"
   ]
  },
  {
   "cell_type": "markdown",
   "metadata": {},
   "source": [
    "## Define Data Schema\n",
    "\n",
    "Let's create a schema for the changelog data we want to extract."
   ]
  },
  {
   "cell_type": "code",
   "execution_count": 3,
   "metadata": {},
   "outputs": [],
   "source": [
    "class ChangelogEntry(BaseModel):\n",
    "    version: str = Field(description=\"The version number of the release\")\n",
    "    release_date: str = Field(description=\"The release date\")\n",
    "    bug_fixes: List[str] = Field(description=\"List of bug fixes in this release\", default_factory=list)\n",
    "    enhancements: List[str] = Field(description=\"List of enhancements in this release\", default_factory=list)\n",
    "    deprecations: List[str] = Field(description=\"List of deprecations in this release\", default_factory=list)\n",
    "    api_changes: List[str] = Field(description=\"List of API changes in this release\", default_factory=list)\n",
    "    contributors: List[str] = Field(description=\"List of contributors to this release\", default_factory=list)"
   ]
  },
  {
   "cell_type": "markdown",
   "metadata": {},
   "source": [
    "## Generate List of Changelog URLs\n",
    "\n",
    "We'll create a function to extract version links from the main changelog page."
   ]
  },
  {
   "cell_type": "code",
   "execution_count": 4,
   "metadata": {},
   "outputs": [],
   "source": [
    "from scrapegraphai.graphs import SmartScraperGraph\n",
    "from pydantic import BaseModel, Field\n",
    "from typing import List\n",
    "import asyncio\n",
    "import nest_asyncio\n",
    "\n",
    "# Apply nest_asyncio at the start\n",
    "nest_asyncio.apply()\n",
    "\n",
    "# Define the VersionLinks schema first\n",
    "class VersionLinks(BaseModel):\n",
    "    versions: List[dict] = Field(description=\"List of version numbers and their links\")\n",
    "\n",
    "async def fetch_changelog_urls(base_url: str, config: dict) -> List[str]:\n",
    "    # Create scraper instance\n",
    "    scraper = SmartScraperGraph(\n",
    "        prompt=\"Extract all version links from 2023 and later, including version number and full URL\",\n",
    "        source=base_url,\n",
    "        config=config,\n",
    "        schema=VersionLinks\n",
    "    )\n",
    "    \n",
    "    # Get results\n",
    "    results = await scraper.run()\n",
    "    \n",
    "    # Filter for versions from 2023 onwards\n",
    "    urls = []\n",
    "    for version in results['versions']:\n",
    "        if '2023' in version['date'] or '2024' in version['date']:\n",
    "            urls.append(base_url + version['link'])\n",
    "    \n",
    "    return urls\n",
    "\n",
    "from bs4 import BeautifulSoup\n",
    "import requests\n",
    "from typing import List\n",
    "import re\n",
    "def get_changelog_urls() -> List[str]:\n",
    "    base_url = \"https://pandas.pydata.org/docs/whatsnew/\"\n",
    "    \n",
    "    # Fetch the main changelog page\n",
    "    response = requests.get(base_url)\n",
    "    soup = BeautifulSoup(response.text, 'html.parser')\n",
    "    \n",
    "    # Find all version links\n",
    "    urls = []\n",
    "    for link in soup.find_all('a'):\n",
    "        href = link.get('href')\n",
    "        # Look for version links that contain 2023 or 2024\n",
    "        if href and ('2023' in href or '2024' in href):\n",
    "            full_url = base_url + href if not href.startswith('http') else href\n",
    "            urls.append(full_url)\n",
    "    \n",
    "    return urls\n"
   ]
  },
  {
   "cell_type": "markdown",
   "metadata": {},
   "source": [
    "## Scrape Individual Changelog Pages\n",
    "\n",
    "Now let's create a function to scrape each changelog page and extract the relevant information."
   ]
  },
  {
   "cell_type": "code",
   "execution_count": 5,
   "metadata": {},
   "outputs": [],
   "source": [
    "def scrape_changelogs(urls):\n",
    "    entries = []\n",
    "    \n",
    "    for url in urls:\n",
    "        try:\n",
    "            response = requests.get(url)\n",
    "            soup = BeautifulSoup(response.text, 'html.parser')\n",
    "            \n",
    "            # Extract version from URL\n",
    "            version = re.search(r'v(\\d+\\.\\d+\\.\\d+)', url)\n",
    "            version = version.group(1) if version else \"Unknown\"\n",
    "            \n",
    "            # Basic extraction of content\n",
    "            entry = ChangelogEntry(\n",
    "                version=version,\n",
    "                release_date=\"\",  # We'll need to extract this from the page content\n",
    "                bug_fixes=[li.text for li in soup.select('div#bug-fixes li')],\n",
    "                enhancements=[li.text for li in soup.select('div#enhancements li')],\n",
    "                deprecations=[li.text for li in soup.select('div#deprecations li')],\n",
    "                api_changes=[li.text for li in soup.select('div#api-changes li')],\n",
    "                contributors=[li.text for li in soup.select('div#contributors li')]\n",
    "            )\n",
    "            entries.append(entry)\n",
    "            \n",
    "        except Exception as e:\n",
    "            print(f\"Error scraping {url}: {str(e)}\")\n",
    "    \n",
    "    return entries"
   ]
  },
  {
   "cell_type": "markdown",
   "metadata": {},
   "source": [
    "## Process and Store Results\n",
    "\n",
    "Let's create functions to process the scraped data and store it in a structured format."
   ]
  },
  {
   "cell_type": "code",
   "execution_count": 6,
   "metadata": {},
   "outputs": [],
   "source": [
    "def process_changelog_data(changelog_data):\n",
    "    # Convert to DataFrame\n",
    "    df = pd.DataFrame(changelog_data)\n",
    "    \n",
    "    # Convert release_date to datetime\n",
    "    df['release_date'] = pd.to_datetime(df['release_date'])\n",
    "    \n",
    "    # Sort by release date\n",
    "    df = df.sort_values('release_date', ascending=False)\n",
    "    \n",
    "    return df\n",
    "\n",
    "def save_changelog_data(df, excel_path='pandas_changelog.xlsx', json_path='pandas_changelog.json'):\n",
    "    # Save to Excel\n",
    "    df.to_excel(excel_path, index=False)\n",
    "    \n",
    "    # Save to JSON\n",
    "    df.to_json(json_path, orient='records', indent=2)\n",
    "    \n",
    "    return excel_path, json_path"
   ]
  },
  {
   "cell_type": "markdown",
   "metadata": {},
   "source": [
    "## Main Execution\n",
    "\n",
    "Now let's put everything together and run the scraper."
   ]
  },
  {
   "cell_type": "code",
   "execution_count": 7,
   "metadata": {},
   "outputs": [
    {
     "name": "stdout",
     "output_type": "stream",
     "text": [
      "Getting changelog URLs...\n",
      "Found 0 changelog pages to scrape\n",
      "Scraping changelog pages...\n",
      "Processing data...\n"
     ]
    },
    {
     "ename": "KeyError",
     "evalue": "'release_date'",
     "output_type": "error",
     "traceback": [
      "\u001b[1;31m---------------------------------------------------------------------------\u001b[0m",
      "\u001b[1;31mKeyError\u001b[0m                                  Traceback (most recent call last)",
      "Cell \u001b[1;32mIn[7], line 23\u001b[0m\n\u001b[0;32m     20\u001b[0m     \u001b[38;5;28;01mreturn\u001b[39;00m df\n\u001b[0;32m     22\u001b[0m \u001b[38;5;66;03m# Run the scraper\u001b[39;00m\n\u001b[1;32m---> 23\u001b[0m changelog_df \u001b[38;5;241m=\u001b[39m \u001b[43mmain\u001b[49m\u001b[43m(\u001b[49m\u001b[43m)\u001b[49m\n",
      "Cell \u001b[1;32mIn[7], line 11\u001b[0m, in \u001b[0;36mmain\u001b[1;34m()\u001b[0m\n\u001b[0;32m      8\u001b[0m changelog_data \u001b[38;5;241m=\u001b[39m scrape_changelogs(urls)\n\u001b[0;32m     10\u001b[0m \u001b[38;5;28mprint\u001b[39m(\u001b[38;5;124m\"\u001b[39m\u001b[38;5;124mProcessing data...\u001b[39m\u001b[38;5;124m\"\u001b[39m)\n\u001b[1;32m---> 11\u001b[0m df \u001b[38;5;241m=\u001b[39m \u001b[43mprocess_changelog_data\u001b[49m\u001b[43m(\u001b[49m\u001b[43mchangelog_data\u001b[49m\u001b[43m)\u001b[49m\n\u001b[0;32m     13\u001b[0m \u001b[38;5;28mprint\u001b[39m(\u001b[38;5;124m\"\u001b[39m\u001b[38;5;124mSaving results...\u001b[39m\u001b[38;5;124m\"\u001b[39m)\n\u001b[0;32m     14\u001b[0m excel_path, json_path \u001b[38;5;241m=\u001b[39m save_changelog_data(df)\n",
      "Cell \u001b[1;32mIn[6], line 6\u001b[0m, in \u001b[0;36mprocess_changelog_data\u001b[1;34m(changelog_data)\u001b[0m\n\u001b[0;32m      3\u001b[0m df \u001b[38;5;241m=\u001b[39m pd\u001b[38;5;241m.\u001b[39mDataFrame(changelog_data)\n\u001b[0;32m      5\u001b[0m \u001b[38;5;66;03m# Convert release_date to datetime\u001b[39;00m\n\u001b[1;32m----> 6\u001b[0m df[\u001b[38;5;124m'\u001b[39m\u001b[38;5;124mrelease_date\u001b[39m\u001b[38;5;124m'\u001b[39m] \u001b[38;5;241m=\u001b[39m pd\u001b[38;5;241m.\u001b[39mto_datetime(\u001b[43mdf\u001b[49m\u001b[43m[\u001b[49m\u001b[38;5;124;43m'\u001b[39;49m\u001b[38;5;124;43mrelease_date\u001b[39;49m\u001b[38;5;124;43m'\u001b[39;49m\u001b[43m]\u001b[49m)\n\u001b[0;32m      8\u001b[0m \u001b[38;5;66;03m# Sort by release date\u001b[39;00m\n\u001b[0;32m      9\u001b[0m df \u001b[38;5;241m=\u001b[39m df\u001b[38;5;241m.\u001b[39msort_values(\u001b[38;5;124m'\u001b[39m\u001b[38;5;124mrelease_date\u001b[39m\u001b[38;5;124m'\u001b[39m, ascending\u001b[38;5;241m=\u001b[39m\u001b[38;5;28;01mFalse\u001b[39;00m)\n",
      "File \u001b[1;32mc:\\Users\\billk\\AppData\\Local\\anaconda3\\envs\\gpt-crawler311\\Lib\\site-packages\\pandas\\core\\frame.py:4102\u001b[0m, in \u001b[0;36mDataFrame.__getitem__\u001b[1;34m(self, key)\u001b[0m\n\u001b[0;32m   4100\u001b[0m \u001b[38;5;28;01mif\u001b[39;00m \u001b[38;5;28mself\u001b[39m\u001b[38;5;241m.\u001b[39mcolumns\u001b[38;5;241m.\u001b[39mnlevels \u001b[38;5;241m>\u001b[39m \u001b[38;5;241m1\u001b[39m:\n\u001b[0;32m   4101\u001b[0m     \u001b[38;5;28;01mreturn\u001b[39;00m \u001b[38;5;28mself\u001b[39m\u001b[38;5;241m.\u001b[39m_getitem_multilevel(key)\n\u001b[1;32m-> 4102\u001b[0m indexer \u001b[38;5;241m=\u001b[39m \u001b[38;5;28;43mself\u001b[39;49m\u001b[38;5;241;43m.\u001b[39;49m\u001b[43mcolumns\u001b[49m\u001b[38;5;241;43m.\u001b[39;49m\u001b[43mget_loc\u001b[49m\u001b[43m(\u001b[49m\u001b[43mkey\u001b[49m\u001b[43m)\u001b[49m\n\u001b[0;32m   4103\u001b[0m \u001b[38;5;28;01mif\u001b[39;00m is_integer(indexer):\n\u001b[0;32m   4104\u001b[0m     indexer \u001b[38;5;241m=\u001b[39m [indexer]\n",
      "File \u001b[1;32mc:\\Users\\billk\\AppData\\Local\\anaconda3\\envs\\gpt-crawler311\\Lib\\site-packages\\pandas\\core\\indexes\\range.py:417\u001b[0m, in \u001b[0;36mRangeIndex.get_loc\u001b[1;34m(self, key)\u001b[0m\n\u001b[0;32m    415\u001b[0m         \u001b[38;5;28;01mraise\u001b[39;00m \u001b[38;5;167;01mKeyError\u001b[39;00m(key) \u001b[38;5;28;01mfrom\u001b[39;00m \u001b[38;5;21;01merr\u001b[39;00m\n\u001b[0;32m    416\u001b[0m \u001b[38;5;28;01mif\u001b[39;00m \u001b[38;5;28misinstance\u001b[39m(key, Hashable):\n\u001b[1;32m--> 417\u001b[0m     \u001b[38;5;28;01mraise\u001b[39;00m \u001b[38;5;167;01mKeyError\u001b[39;00m(key)\n\u001b[0;32m    418\u001b[0m \u001b[38;5;28mself\u001b[39m\u001b[38;5;241m.\u001b[39m_check_indexing_error(key)\n\u001b[0;32m    419\u001b[0m \u001b[38;5;28;01mraise\u001b[39;00m \u001b[38;5;167;01mKeyError\u001b[39;00m(key)\n",
      "\u001b[1;31mKeyError\u001b[0m: 'release_date'"
     ]
    }
   ],
   "source": [
    "def main():\n",
    "    print(\"Getting changelog URLs...\")\n",
    "    urls = get_changelog_urls()\n",
    "    \n",
    "    print(f\"Found {len(urls)} changelog pages to scrape\")\n",
    "    \n",
    "    print(\"Scraping changelog pages...\")\n",
    "    changelog_data = scrape_changelogs(urls)\n",
    "    \n",
    "    print(\"Processing data...\")\n",
    "    df = process_changelog_data(changelog_data)\n",
    "    \n",
    "    print(\"Saving results...\")\n",
    "    excel_path, json_path = save_changelog_data(df)\n",
    "    \n",
    "    print(f\"\\nResults saved to:\")\n",
    "    print(f\"Excel: {excel_path}\")\n",
    "    print(f\"JSON: {json_path}\")\n",
    "    \n",
    "    return df\n",
    "\n",
    "# Run the scraper\n",
    "changelog_df = main()"
   ]
  },
  {
   "cell_type": "markdown",
   "metadata": {},
   "source": [
    "## Analyze Results\n",
    "\n",
    "Let's create some basic visualizations and analysis of the changelog data."
   ]
  },
  {
   "cell_type": "code",
   "execution_count": null,
   "metadata": {},
   "outputs": [],
   "source": [
    "def analyze_changelog(df):\n",
    "    print(\"Changelog Analysis\\n\")\n",
    "    \n",
    "    print(f\"Total number of releases: {len(df)}\")\n",
    "    print(f\"Date range: {df['release_date'].min().date()} to {df['release_date'].max().date()}\")\n",
    "    \n",
    "    print(\"\\nNumber of changes by type:\")\n",
    "    print(f\"Bug fixes: {df['bug_fixes'].apply(len).sum()}\")\n",
    "    print(f\"Enhancements: {df['enhancements'].apply(len).sum()}\")\n",
    "    print(f\"Deprecations: {df['deprecations'].apply(len).sum()}\")\n",
    "    print(f\"API changes: {df['api_changes'].apply(len).sum()}\")\n",
    "    \n",
    "    print(\"\\nUnique contributors:\", \n",
    "          len(set([c for contributors in df['contributors'] for c in contributors])))\n",
    "\n",
    "# Run analysis\n",
    "analyze_changelog(changelog_df)"
   ]
  },
  {
   "cell_type": "markdown",
   "metadata": {},
   "source": [
    "## Search Function\n",
    "\n",
    "Finally, let's create a function to search through the changelog data."
   ]
  },
  {
   "cell_type": "code",
   "execution_count": null,
   "metadata": {},
   "outputs": [],
   "source": [
    "def search_changelog(df, query, categories=None):\n",
    "    \"\"\"Search through the changelog for specific terms.\n",
    "    \n",
    "    Args:\n",
    "        df: The changelog DataFrame\n",
    "        query: Search term\n",
    "        categories: List of categories to search (bug_fixes, enhancements, etc.)\n",
    "                   If None, searches all categories\n",
    "    \"\"\"\n",
    "    if categories is None:\n",
    "        categories = ['bug_fixes', 'enhancements', 'deprecations', 'api_changes']\n",
    "    \n",
    "    results = []\n",
    "    \n",
    "    for idx, row in df.iterrows():\n",
    "        for category in categories:\n",
    "            matches = [item for item in row[category] \n",
    "                      if query.lower() in item.lower()]\n",
    "            if matches:\n",
    "                for match in matches:\n",
    "                    results.append({\n",
    "                        'version': row['version'],\n",
    "                        'date': row['release_date'].date(),\n",
    "                        'category': category,\n",
    "                        'entry': match\n",
    "                    })\n",
    "    \n",
    "    return pd.DataFrame(results)\n",
    "\n",
    "# Example usage:\n",
    "# search_changelog(changelog_df, 'performance')"
   ]
  }
 ],
 "metadata": {
  "kernelspec": {
   "display_name": "Python 3",
   "language": "python",
   "name": "python3"
  },
  "language_info": {
   "codemirror_mode": {
    "name": "ipython",
    "version": 3
   },
   "file_extension": ".py",
   "mimetype": "text/x-python",
   "name": "python",
   "nbconvert_exporter": "python",
   "pygments_lexer": "ipython3",
   "version": "3.11.10"
  }
 },
 "nbformat": 4,
 "nbformat_minor": 4
}
