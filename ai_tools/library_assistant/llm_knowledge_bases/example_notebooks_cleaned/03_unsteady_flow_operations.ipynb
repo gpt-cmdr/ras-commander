{
  "cells": [
    {
      "cell_type": "markdown",
      "metadata": {},
      "source": [
        "## Package Installation and Environment Setup\n",
        "Uncomment and run package installation commands if needed"
      ]
    },
    {
      "cell_type": "code",
      "execution_count": null,
      "metadata": {},
      "outputs": [],
      "source": [
        "# 1. Install ras-commander from pip (uncomment to install if needed)\n",
        "#!pip install ras-commander\n",
        "# This installs ras-commander and all dependencies\n",
        "\n",
        "generate_plots = True"
      ]
    },
    {
      "cell_type": "code",
      "execution_count": null,
      "metadata": {},
      "outputs": [],
      "source": [
        "# 2. Import all required modules\n",
        "\n",
        "# Import all ras-commander modules\n",
        "from ras_commander import *\n",
        "\n",
        "# Import the required libraries for this notebook\n",
        "import numpy as np\n",
        "import pandas as pd\n",
        "from IPython import display\n",
        "import os\n",
        "from pathlib import Path\n",
        "import matplotlib.pyplot as plt"
      ]
    },
    {
      "cell_type": "markdown",
      "metadata": {},
      "source": [
        "## Understanding Unsteady Flow Files in HEC-RAS\n",
        "\n",
        "Unsteady flow files (`.u*` files) in HEC-RAS define the time-varying boundary conditions that drive dynamic simulations. These include:\n",
        "\n",
        "- **Flow Hydrographs**: Time-series of flow values at model boundaries\n",
        "- **Stage Hydrographs**: Time-series of water surface elevations\n",
        "- **Lateral Inflows**: Distributed inflows along a reach\n",
        "- **Gate Operations**: Time-series of gate settings\n",
        "- **Meteorological Data**: Rainfall, evaporation, and other meteorological inputs\n",
        "\n",
        "The `RasUnsteady` class in RAS Commander provides methods for working with these files, including extracting boundaries, reading tables, and modifying parameters.\n",
        "\n",
        "Let's set up our working directory and define paths to example projects:"
      ]
    },
    {
      "cell_type": "markdown",
      "metadata": {},
      "source": [
        "## Downloading and Extracting Example HEC-RAS Projects\n",
        "\n",
        "We'll use the `RasExamples` class to download and extract an example HEC-RAS project with unsteady flow files. For this notebook, we'll use the \"Balde Eagle Creek\" project."
      ]
    },
    {
      "cell_type": "code",
      "execution_count": null,
      "metadata": {},
      "outputs": [],
      "source": [
        "# Extract the Bald Eagle Creek example project\n",
        "# The extract_project method downloads the project from GitHub if not already present,\n",
        "# and extracts it to the example_projects folder\n",
        "bald_eagle_path = RasExamples.extract_project(\"Balde Eagle Creek\")\n",
        "print(f\"Extracted project to: {bald_eagle_path}\")  \n",
        "\n",
        "\n",
        "# Verify the path exists\n",
        "print(f\"Bald Eagle Creek project exists: {bald_eagle_path.exists()}\")"
      ]
    },
    {
      "cell_type": "markdown",
      "metadata": {},
      "source": [
        "## Step 1: Project Initialization\n",
        "\n",
        "The first step is to initialize the HEC-RAS project. This is done using the `init_ras_project()` function, which takes the following parameters:\n",
        "\n",
        "- `ras_project_folder`: Path to the HEC-RAS project folder (required)\n",
        "- `ras_version`: HEC-RAS version (e.g., \"6.6\") or path to Ras.exe (required first time)\n",
        "\n",
        "This function initializes the global `ras` object that we'll use for the rest of the notebook."
      ]
    },
    {
      "cell_type": "code",
      "execution_count": null,
      "metadata": {},
      "outputs": [],
      "source": [
        "# Initialize the HEC-RAS project\n",
        "# This function returns a RAS object, but also updates the global 'ras' object\n",
        "# Parameters:\n",
        "#   - ras_project_folder: Path to the HEC-RAS project folder\n",
        "#   - ras_version: HEC-RAS version or path to Ras.exe\n",
        "\n",
        "init_ras_project(bald_eagle_path, \"6.6\")\n",
        "print(f\"Initialized HEC-RAS project: {ras.project_name}\")\n",
        "\n",
        "# Display the unsteady flow files in the project\n"
      ]
    },
    {
      "cell_type": "code",
      "execution_count": null,
      "metadata": {},
      "outputs": [],
      "source": [
        "print(\"\\nHEC-RAS Project Plan Data (plan_df):\")\n",
        "ras.plan_df"
      ]
    },
    {
      "cell_type": "code",
      "execution_count": null,
      "metadata": {},
      "outputs": [],
      "source": [
        "print(\"\\nHEC-RAS Project Geometry Data (geom_df):\")\n",
        "ras.geom_df"
      ]
    },
    {
      "cell_type": "code",
      "execution_count": null,
      "metadata": {},
      "outputs": [],
      "source": [
        "print(\"\\nHEC-RAS Project Unsteady Flow Data (unsteady_df):\")\n",
        "ras.unsteady_df"
      ]
    },
    {
      "cell_type": "code",
      "execution_count": null,
      "metadata": {},
      "outputs": [],
      "source": [
        "print(\"\\nHEC-RAS Project Boundary Data (boundaries_df):\")\n",
        "ras.boundaries_df"
      ]
    },
    {
      "cell_type": "markdown",
      "metadata": {},
      "source": [
        "## Understanding the RasUnsteady Class\n",
        "\n",
        "The `RasUnsteady` class provides functionality for working with HEC-RAS unsteady flow files (`.u*` files). Key operations include:\n",
        "\n",
        "1. **Extracting Boundary Conditions**: Read and parse boundary conditions from unsteady flow files\n",
        "2. **Modifying Flow Titles**: Update descriptive titles for unsteady flow scenarios\n",
        "3. **Managing Restart Settings**: Configure restart file options for continuing simulations\n",
        "4. **Working with Tables**: Extract, modify, and update flow tables\n",
        "\n",
        "Most methods in this class are static and work with the global `ras` object by default, though you can also pass in a custom RAS object."
      ]
    },
    {
      "cell_type": "markdown",
      "metadata": {},
      "source": [
        "## Step 2: Extract Boundary Conditions and Tables\n",
        "\n",
        "The `extract_boundary_and_tables()` method from the `RasUnsteady` class allows us to extract boundary conditions and their associated tables from an unsteady flow file.\n",
        "\n",
        "Parameters for `RasUnsteady.extract_boundary_and_tables()`:\n",
        "- `unsteady_file` (str): Path to the unsteady flow file\n",
        "- `ras_object` (optional): Custom RAS object to use instead of the global one\n",
        "\n",
        "Returns:\n",
        "- `pd.DataFrame`: DataFrame containing boundary conditions and their associated tables\n",
        "\n",
        "Let's see how this works with our example project:"
      ]
    },
    {
      "cell_type": "code",
      "execution_count": null,
      "metadata": {},
      "outputs": [],
      "source": [
        "# Get the path to unsteady flow file \"02\"\n",
        "unsteady_file = RasPlan.get_unsteady_path(\"02\")\n",
        "print(f\"Unsteady flow file path: {unsteady_file}\")\n",
        "\n",
        "# Extract boundary conditions and tables\n",
        "boundaries_df = RasUnsteady.extract_boundary_and_tables(unsteady_file)\n",
        "print(f\"Extracted {len(boundaries_df)} boundary conditions from the unsteady flow file.\")\n"
      ]
    },
    {
      "cell_type": "markdown",
      "metadata": {},
      "source": [
        "## Step 3: Print Boundaries and Tables\n",
        "\n",
        "The `print_boundaries_and_tables()` method provides a formatted display of the boundary conditions and their associated tables. This method doesn't return anything; it just prints the information in a readable format.\n",
        "\n",
        "Parameters for `RasUnsteady.print_boundaries_and_tables()`:\n",
        "- `boundaries_df` (pd.DataFrame): DataFrame containing boundary conditions from `extract_boundary_and_tables()`\n",
        "\n",
        "Let's use this method to get a better understanding of our boundary conditions:"
      ]
    },
    {
      "cell_type": "code",
      "execution_count": null,
      "metadata": {},
      "outputs": [],
      "source": [
        "# Print the boundaries and tables in a formatted way\n",
        "print(\"Detailed boundary conditions and tables:\")\n",
        "RasUnsteady.print_boundaries_and_tables(boundaries_df)"
      ]
    },
    {
      "cell_type": "markdown",
      "metadata": {},
      "source": [
        "## Understanding Boundary Condition Types\n",
        "\n",
        "The output above shows the different types of boundary conditions in our unsteady flow file. Let's understand what each type means:\n",
        "\n",
        "1. **Flow Hydrograph**: A time series of flow values (typically in cfs or cms) entering the model at a specific location. These are used at upstream boundaries or internal points where flow enters the system.\n",
        "\n",
        "2. **Stage Hydrograph**: A time series of water surface elevations (typically in ft or m) that define the downstream boundary condition.\n",
        "\n",
        "3. **Gate Openings**: Time series of gate settings (typically height in ft or m) for hydraulic structures such as spillways, sluice gates, or other control structures.\n",
        "\n",
        "4. **Lateral Inflow Hydrograph**: Flow entering the system along a reach, not at a specific point. This can represent tributary inflows, overland flow, or other distributed inputs.\n",
        "\n",
        "5. **Normal Depth**: A boundary condition where the water surface slope is assumed to equal the bed slope. This is represented by a friction slope value.\n",
        "\n",
        "Let's look at a specific boundary condition in more detail:"
      ]
    },
    {
      "cell_type": "code",
      "execution_count": null,
      "metadata": {},
      "outputs": [],
      "source": [
        "# Let's examine the first boundary condition in more detail\n",
        "if not boundaries_df.empty:\n",
        "    first_boundary = boundaries_df.iloc[0]\n",
        "    print(f\"Detailed look at boundary condition {1}:\")\n",
        "    \n",
        "    # Print boundary location components\n",
        "    print(f\"\\nBoundary Location:\")\n",
        "    print(f\"  River Name: {first_boundary.get('River Name', 'N/A')}\")\n",
        "    print(f\"  Reach Name: {first_boundary.get('Reach Name', 'N/A')}\")\n",
        "    print(f\"  River Station: {first_boundary.get('River Station', 'N/A')}\")\n",
        "    print(f\"  Storage Area Name: {first_boundary.get('Storage Area Name', 'N/A')}\")\n",
        "    \n",
        "    # Print boundary condition type and other properties\n",
        "    print(f\"\\nBoundary Properties:\")\n",
        "    print(f\"  Boundary Type: {first_boundary.get('bc_type', 'N/A')}\")\n",
        "    print(f\"  DSS File: {first_boundary.get('DSS File', 'N/A')}\")\n",
        "    print(f\"  Use DSS: {first_boundary.get('Use DSS', 'N/A')}\")\n",
        "    \n",
        "    # Print table statistics if available\n",
        "    if 'Tables' in first_boundary and isinstance(first_boundary['Tables'], dict):\n",
        "        print(f\"\\nTable Information:\")\n",
        "        for table_name, table_df in first_boundary['Tables'].items():\n",
        "            print(f\"  {table_name}: {len(table_df)} values\")\n",
        "            if not table_df.empty:\n",
        "                print(f\"    Min Value: {table_df['Value'].min()}\")\n",
        "                print(f\"    Max Value: {table_df['Value'].max()}\")\n",
        "                print(f\"    First 5 Values: {table_df['Value'].head(5).tolist()}\")\n",
        "else:\n",
        "    print(\"No boundary conditions found in the unsteady flow file.\")"
      ]
    },
    {
      "cell_type": "markdown",
      "metadata": {},
      "source": [
        "## Step 4: Update Flow Title\n",
        "\n",
        "The flow title in an unsteady flow file provides a description of the simulation scenario. The `update_flow_title()` method allows us to modify this title.\n",
        "\n",
        "Parameters for `RasUnsteady.update_flow_title()`:\n",
        "- `unsteady_file` (str): Full path to the unsteady flow file\n",
        "- `new_title` (str): New flow title (max 24 characters)\n",
        "- `ras_object` (optional): Custom RAS object to use instead of the global one\n",
        "\n",
        "Let's clone an unsteady flow file and update its title:"
      ]
    },
    {
      "cell_type": "code",
      "execution_count": null,
      "metadata": {},
      "outputs": [],
      "source": [
        "# Clone unsteady flow \"02\" to create a new unsteady flow file\n",
        "new_unsteady_number = RasPlan.clone_unsteady(\"02\")\n",
        "print(f\"New unsteady flow created: {new_unsteady_number}\")"
      ]
    },
    {
      "cell_type": "code",
      "execution_count": null,
      "metadata": {},
      "outputs": [],
      "source": [
        "new_unsteady_number"
      ]
    },
    {
      "cell_type": "code",
      "execution_count": null,
      "metadata": {},
      "outputs": [],
      "source": [
        "# Get the path to the new unsteady flow file\n",
        "new_unsteady_file = RasPlan.get_unsteady_path(new_unsteady_number)\n",
        "print(f\"New unsteady flow file path: {new_unsteady_file}\")"
      ]
    },
    {
      "cell_type": "code",
      "execution_count": null,
      "metadata": {},
      "outputs": [],
      "source": [
        "new_unsteady_file"
      ]
    },
    {
      "cell_type": "code",
      "execution_count": null,
      "metadata": {},
      "outputs": [],
      "source": [
        "# Get the current flow title\n",
        "current_title = None\n",
        "for _, row in ras.unsteady_df.iterrows():\n",
        "    if row['unsteady_number'] == new_unsteady_number and 'Flow Title' in row:\n",
        "        current_title = row['Flow Title']\n",
        "        break\n",
        "print(f\"Current flow title: {current_title}\")\n",
        "\n",
        "# Update the flow title\n",
        "new_title = \"Modified Flow Scenario\"\n",
        "RasUnsteady.update_flow_title(new_unsteady_file, new_title)\n",
        "print(f\"Updated flow title to: {new_title}\")\n",
        "\n",
        "# Refresh unsteady flow information to see the change"
      ]
    },
    {
      "cell_type": "code",
      "execution_count": null,
      "metadata": {},
      "outputs": [],
      "source": [
        "# Review unsteady flow information to see the change\n",
        "ras.unsteady_df"
      ]
    },
    {
      "cell_type": "markdown",
      "metadata": {},
      "source": [
        "## Step 6: Working with Flow Tables\n",
        "\n",
        "Flow tables in unsteady flow files contain the time-series data for boundary conditions. Let's explore how to extract and work with these tables using some of the advanced methods from the `RasUnsteady` class."
      ]
    },
    {
      "cell_type": "code",
      "execution_count": null,
      "metadata": {},
      "outputs": [],
      "source": [
        "# Extract specific tables from the unsteady flow file\n",
        "all_tables = RasUnsteady.extract_tables(new_unsteady_file)\n",
        "print(f\"Extracted {len(all_tables)} tables from the unsteady flow file.\")\n",
        "\n",
        "# Let's look at the available table names\n",
        "print(\"\\nAvailable tables:\")\n",
        "for table_name in all_tables.keys():\n",
        "    print(f\"  {table_name}\")\n",
        "\n",
        "# Select the first table for detailed analysis\n",
        "if all_tables and len(all_tables) > 0:\n",
        "    first_table_name = list(all_tables.keys())[0]\n",
        "    first_table = all_tables[first_table_name]\n",
        "    \n",
        "    print(f\"\\nDetailed look at table '{first_table_name}':\")\n",
        "    print(f\"  Number of values: {len(first_table)}\")\n",
        "    print(f\"  Min value: {first_table['Value'].min()}\")\n",
        "    print(f\"  Max value: {first_table['Value'].max()}\")\n",
        "    print(f\"  Mean value: {first_table['Value'].mean():.2f}\")\n",
        "    print(f\"  First 10 values: {first_table['Value'].head(10).tolist()}\")\n",
        "    \n",
        "    # Create a visualization of the table values\n",
        "    try:\n",
        "        import matplotlib.pyplot as plt\n",
        "        \n",
        "        plt.figure(figsize=(10, 6))\n",
        "        plt.plot(first_table['Value'].values)\n",
        "        plt.title(f\"{first_table_name} Values\")\n",
        "        plt.xlabel('Time Step')\n",
        "        plt.ylabel('Value')\n",
        "        plt.grid(True)\n",
        "        plt.show()\n",
        "    except Exception as e:\n",
        "        print(f\"Could not create visualization: {e}\")\n",
        "else:\n",
        "    print(\"No tables found in the unsteady flow file.\")"
      ]
    },
    {
      "cell_type": "markdown",
      "metadata": {},
      "source": [
        "## Step 7: Modifying Flow Tables\n",
        "\n",
        "Now let's demonstrate how to modify a flow table and write it back to the unsteady flow file. For this example, we'll scale all the values in a table by a factor."
      ]
    },
    {
      "cell_type": "markdown",
      "metadata": {},
      "source": [
        "#### Scaling existing values down by a 0.75 scale factor"
      ]
    },
    {
      "cell_type": "code",
      "execution_count": null,
      "metadata": {},
      "outputs": [],
      "source": [
        "# First, identify tables in the unsteady flow file\n",
        "tables = RasUnsteady.identify_tables(open(new_unsteady_file, 'r').readlines())\n",
        "print(f\"Identified {len(tables)} tables in the unsteady flow file.\")\n",
        "\n",
        "# Let's look at the first flow hydrograph table\n",
        "flow_hydrograph_tables = [t for t in tables if t[0] == 'Flow Hydrograph=']\n",
        "if flow_hydrograph_tables:\n",
        "    table_name, start_line, end_line = flow_hydrograph_tables[0]\n",
        "    print(f\"\\nSelected table: {table_name}\")\n",
        "    print(f\"  Start line: {start_line}\")\n",
        "    print(f\"  End line: {end_line}\")\n",
        "    \n",
        "    # Parse the table\n",
        "    lines = open(new_unsteady_file, 'r').readlines()\n",
        "    table_df = RasUnsteady.parse_fixed_width_table(lines, start_line, end_line)\n",
        "    print(f\"\\nOriginal table statistics:\")\n",
        "    print(f\"  Number of values: {len(table_df)}\")\n",
        "    print(f\"  Min value: {table_df['Value'].min()}\")\n",
        "    print(f\"  Max value: {table_df['Value'].max()}\")\n",
        "    print(f\"  First 5 values: {table_df['Value'].head(5).tolist()}\")\n",
        "    \n",
        "    # Modify the table - let's scale all values by 75%\n",
        "    scale_factor = 0.75\n",
        "    table_df['Value'] = table_df['Value'] * scale_factor\n",
        "    print(f\"\\nModified table statistics (scaled by {scale_factor}):\")\n",
        "    print(f\"  Number of values: {len(table_df)}\")\n",
        "    print(f\"  Min value: {table_df['Value'].min()}\")\n",
        "    print(f\"  Max value: {table_df['Value'].max()}\")\n",
        "    print(f\"  First 5 values: {table_df['Value'].head(5).tolist()}\")\n",
        "    \n",
        "    # Write the modified table back to the file\n",
        "    RasUnsteady.write_table_to_file(new_unsteady_file, table_name, table_df, start_line)\n",
        "    print(f\"\\nUpdated table written back to the unsteady flow file.\")\n",
        "    \n",
        "    # Re-read the table to verify changes\n",
        "    lines = open(new_unsteady_file, 'r').readlines()\n",
        "    updated_table_df = RasUnsteady.parse_fixed_width_table(lines, start_line, end_line)\n",
        "    print(f\"\\nVerified updated table statistics:\")\n",
        "    print(f\"  Number of values: {len(updated_table_df)}\")\n",
        "    print(f\"  Min value: {updated_table_df['Value'].min()}\")\n",
        "    print(f\"  Max value: {updated_table_df['Value'].max()}\")\n",
        "    print(f\"  First 5 values: {updated_table_df['Value'].head(5).tolist()}\")\n",
        "else:\n",
        "    print(\"No flow hydrograph tables found in the unsteady flow file.\")"
      ]
    },
    {
      "cell_type": "code",
      "execution_count": null,
      "metadata": {},
      "outputs": [],
      "source": [
        "# Extract specific tables from the unsteady flow file\n",
        "all_tables = RasUnsteady.extract_tables(new_unsteady_file)\n",
        "\n",
        "# Get the updated flow hydrograph table\n",
        "flow_hydrograph_tables = [t for t in all_tables.keys() if 'Flow Hydrograph=' in t]\n",
        "if flow_hydrograph_tables:\n",
        "    table_name = flow_hydrograph_tables[0]\n",
        "    table_df = all_tables[table_name]\n",
        "    \n",
        "    # Create visualization of the updated flow values\n",
        "    import matplotlib.pyplot as plt\n",
        "    \n",
        "    plt.figure(figsize=(10, 6))\n",
        "    plt.plot(table_df['Value'].values, 'b-', label='Updated Flow')\n",
        "    plt.title('Updated Flow Hydrograph')\n",
        "    plt.xlabel('Time Step') \n",
        "    plt.ylabel('Flow (cfs)')\n",
        "    plt.grid(True)\n",
        "    plt.legend()\n",
        "    plt.show()\n",
        "    \n",
        "    # Print summary statistics\n",
        "    print(f\"\\nUpdated flow hydrograph statistics:\")\n",
        "    print(f\"  Number of values: {len(table_df)}\")\n",
        "    print(f\"  Min flow: {table_df['Value'].min():.1f} cfs\")\n",
        "    print(f\"  Max flow: {table_df['Value'].max():.1f} cfs\")\n",
        "    print(f\"  Mean flow: {table_df['Value'].mean():.1f} cfs\")\n",
        "else:\n",
        "    print(\"No flow hydrograph tables found in the unsteady flow file.\")"
      ]
    },
    {
      "cell_type": "code",
      "execution_count": null,
      "metadata": {},
      "outputs": [],
      "source": [
        "# Execute Plan 01 to generate model results\n",
        "\n",
        "RasCmdr.compute_plan(\"01\")"
      ]
    },
    {
      "cell_type": "code",
      "execution_count": null,
      "metadata": {},
      "outputs": [],
      "source": [
        "# Get cross section results timeseries as xarray dataset\n",
        "xsec_results_xr_plan1 = HdfResultsXsec.get_xsec_timeseries(\"01\")"
      ]
    },
    {
      "cell_type": "code",
      "execution_count": null,
      "metadata": {},
      "outputs": [],
      "source": [
        "xsec_results_xr_plan1"
      ]
    },
    {
      "cell_type": "code",
      "execution_count": null,
      "metadata": {},
      "outputs": [],
      "source": [
        "# Print time series for specific cross section\n",
        "target_xs = \"Bald Eagle       Loc Hav          136202.3\"\n",
        "\n",
        "print(\"\\nTime Series Data for Cross Section:\", target_xs)\n",
        "for var in ['Water_Surface', 'Velocity_Total', 'Velocity_Channel', 'Flow_Lateral', 'Flow']:\n",
        "    print(f\"\\n{var}:\")\n",
        "    print(f\"Plan 1:\")\n",
        "    print(xsec_results_xr_plan1[var].sel(cross_section=target_xs).values[:5])  # Show first 5 values\n",
        "\n",
        "\n",
        "# Create time series plots\n",
        "if generate_plots:\n",
        "\n",
        "    # Create a figure for each variable\n",
        "    variables = ['Water_Surface', 'Velocity_Total', 'Velocity_Channel', 'Flow_Lateral', 'Flow']\n",
        "\n",
        "    for var in variables:\n",
        "        plt.figure(figsize=(10, 5))\n",
        "        \n",
        "        # Convert time values to datetime if needed\n",
        "        time_values1 = pd.to_datetime(xsec_results_xr_plan1.time.values)\n",
        "        values1 = xsec_results_xr_plan1[var].sel(cross_section=target_xs).values\n",
        "\n",
        "        \n",
        "        # Plot both plans\n",
        "        plt.plot(time_values1, values1, '-', linewidth=2, label='Plan 1')\n",
        "        \n",
        "        plt.title(f'{var} at {target_xs}')\n",
        "        plt.xlabel('Time')\n",
        "        plt.ylabel(var.replace('_', ' '))\n",
        "        plt.grid(True)\n",
        "        plt.xticks(rotation=45)\n",
        "        plt.legend()\n",
        "        plt.tight_layout()\n",
        "        \n",
        "        # Force display\n",
        "        plt.draw()\n",
        "        plt.pause(0.1)\n",
        "        plt.show()\n"
      ]
    },
    {
      "cell_type": "markdown",
      "metadata": {},
      "source": [
        "## Step 8: Applying the Updated Unsteady Flow to a New Plan\n",
        "\n",
        "Now that we've modified an unsteady flow file, let's create a plan that uses it, and compute the results."
      ]
    },
    {
      "cell_type": "code",
      "execution_count": null,
      "metadata": {},
      "outputs": [],
      "source": [
        "# Clone an existing plan\n",
        "new_plan_number = RasPlan.clone_plan(\"01\", new_plan_shortid=\"Modified Flow Test\")\n",
        "print(f\"New plan created: {new_plan_number}\")"
      ]
    },
    {
      "cell_type": "code",
      "execution_count": null,
      "metadata": {},
      "outputs": [],
      "source": [
        "new_plan_number"
      ]
    },
    {
      "cell_type": "code",
      "execution_count": null,
      "metadata": {},
      "outputs": [],
      "source": [
        "# Get the current plan title and shortid\n",
        "current_title = RasPlan.get_plan_title(new_plan_number)\n",
        "current_shortid = RasPlan.get_shortid(new_plan_number)\n",
        "\n",
        "print(f\"Current plan title: {current_title}\")\n",
        "print(f\"Current plan shortid: {current_shortid}\")"
      ]
    },
    {
      "cell_type": "code",
      "execution_count": null,
      "metadata": {},
      "outputs": [],
      "source": [
        "# Update the title and shortid to append \" clonedplan\"\n",
        "new_title = f\"{current_title} 0.75 Flow Scale Factor\"\n",
        "new_shortid = f\"{current_shortid} 0.75 FSF\"\n",
        "\n",
        "RasPlan.set_plan_title(new_plan_number, new_title)\n",
        "RasPlan.set_shortid(new_plan_number, new_shortid)\n",
        "\n",
        "print(f\"\\nUpdated plan title: {RasPlan.get_plan_title(new_plan_number)}\")\n",
        "print(f\"Updated plan shortid: {RasPlan.get_shortid(new_plan_number)}\")"
      ]
    },
    {
      "cell_type": "code",
      "execution_count": null,
      "metadata": {},
      "outputs": [],
      "source": [
        "# Print new_unsteady_number again as a reminder of it's current value\n",
        "new_unsteady_number"
      ]
    },
    {
      "cell_type": "code",
      "execution_count": null,
      "metadata": {},
      "outputs": [],
      "source": [
        "# Set the modified unsteady flow for the new plan\n",
        "RasPlan.set_unsteady(new_plan_number, new_unsteady_number)\n",
        "print(f\"Set unsteady flow {new_unsteady_number} for plan {new_plan_number}\")"
      ]
    },
    {
      "cell_type": "code",
      "execution_count": null,
      "metadata": {},
      "outputs": [],
      "source": [
        "# Set the modified unsteady flow for the new plan\n",
        "RasPlan.set_unsteady(new_plan_number, new_unsteady_number)\n",
        "print(f\"Set unsteady flow {new_unsteady_number} for plan {new_plan_number}\")"
      ]
    },
    {
      "cell_type": "code",
      "execution_count": null,
      "metadata": {},
      "outputs": [],
      "source": [
        "# Get the path to the new plan file\n",
        "new_plan_path = RasPlan.get_plan_path(new_plan_number)\n",
        "\n",
        "# Print contents of new plan file to confirm changes\n",
        "# Read and display the contents of the plan file\n",
        "with open(new_plan_path, 'r') as f:\n",
        "    plan_contents = f.read()\n",
        "print(f\"Contents of plan file {new_plan_number}:\")\n",
        "print(plan_contents)\n"
      ]
    },
    {
      "cell_type": "code",
      "execution_count": null,
      "metadata": {},
      "outputs": [],
      "source": [
        "# Update the plan description\n",
        "new_description = \"Test plan using modified unsteady flow\\nFlow scaled to 75% of original\\nWith restart file enabled\"\n",
        "RasPlan.update_plan_description(new_plan_number, new_description)\n",
        "print(f\"Updated plan description for plan {new_plan_number}\")\n",
        "\n",
        "# Set computation options\n",
        "RasPlan.set_num_cores(new_plan_number, 2)\n",
        "\n",
        "# Consider any other changes you want to make at this step, such as computation intervals etc: \n",
        "# RasPlan.update_plan_intervals(\n",
        "#    new_plan_number,\n",
        "#    computation_interval=\"1MIN\",\n",
        "#    output_interval=\"15MIN\",\n",
        "#    mapping_interval=\"1HOUR\"\n",
        "#)  "
      ]
    },
    {
      "cell_type": "code",
      "execution_count": null,
      "metadata": {},
      "outputs": [],
      "source": [
        "# Compute the plan\n",
        "print(f\"\\nComputing plan {new_plan_number} with modified unsteady flow...\")\n",
        "success = RasCmdr.compute_plan(new_plan_number)"
      ]
    },
    {
      "cell_type": "code",
      "execution_count": null,
      "metadata": {},
      "outputs": [],
      "source": [
        "if success:\n",
        "    print(f\"Plan {new_plan_number} computed successfully\")\n",
        "    \n",
        "    # Check the results path\n",
        "    results_path = RasPlan.get_results_path(new_plan_number)\n",
        "    if results_path:\n",
        "        print(f\"Results available at: {results_path}\")\n",
        "        \n",
        "        # If it exists, get its size\n",
        "        results_file = Path(results_path)\n",
        "        if results_file.exists():\n",
        "            size_mb = results_file.stat().st_size / (1024 * 1024)\n",
        "            print(f\"Results file size: {size_mb:.2f} MB\")\n",
        "    else:\n",
        "        print(\"No results found.\")\n",
        "else:\n",
        "    print(f\"Failed to compute plan {new_plan_number}\")"
      ]
    },
    {
      "cell_type": "code",
      "execution_count": null,
      "metadata": {},
      "outputs": [],
      "source": [
        "# Show updated plan_df dataframe, which should show the HDF results files\n",
        "ras.plan_df"
      ]
    },
    {
      "cell_type": "code",
      "execution_count": null,
      "metadata": {},
      "outputs": [],
      "source": [
        "ras.unsteady_df"
      ]
    },
    {
      "cell_type": "markdown",
      "metadata": {},
      "source": [
        "## Get results for Plan 03 and Compare with Plan 01's results for the specified Cross Section\n",
        "target_xs = \"Bald Eagle       Loc Hav          136202.3\""
      ]
    },
    {
      "cell_type": "code",
      "execution_count": null,
      "metadata": {},
      "outputs": [],
      "source": [
        "# Get cross section results timeseries as xarray dataset\n",
        "xsec_results_xr_plan2 = HdfResultsXsec.get_xsec_timeseries(\"03\")"
      ]
    },
    {
      "cell_type": "code",
      "execution_count": null,
      "metadata": {},
      "outputs": [],
      "source": [
        "xsec_results_xr_plan2"
      ]
    },
    {
      "cell_type": "code",
      "execution_count": null,
      "metadata": {},
      "outputs": [],
      "source": [
        "# Print time series for specific cross section\n",
        "target_xs = \"Bald Eagle       Loc Hav          136202.3\"\n",
        "\n",
        "print(\"\\nTime Series Data for Cross Section:\", target_xs)\n",
        "for var in ['Water_Surface', 'Velocity_Total', 'Velocity_Channel', 'Flow_Lateral', 'Flow']:\n",
        "    print(f\"\\n{var}:\")\n",
        "    print(f\"Plan 1:\")\n",
        "    print(xsec_results_xr_plan1[var].sel(cross_section=target_xs).values[:5])  # Show first 5 values\n",
        "    print(f\"Plan 2:\")\n",
        "    print(xsec_results_xr_plan2[var].sel(cross_section=target_xs).values[:5])  # Show first 5 values\n",
        "\n",
        "# Create time series plots\n",
        "if generate_plots:\n",
        "\n",
        "    # Create a figure for each variable\n",
        "    variables = ['Water_Surface', 'Velocity_Total', 'Velocity_Channel', 'Flow_Lateral', 'Flow']\n",
        "\n",
        "    for var in variables:\n",
        "        plt.figure(figsize=(10, 5))\n",
        "        \n",
        "        # Convert time values to datetime if needed\n",
        "        time_values1 = pd.to_datetime(xsec_results_xr_plan1.time.values)\n",
        "        time_values2 = pd.to_datetime(xsec_results_xr_plan2.time.values)\n",
        "        values1 = xsec_results_xr_plan1[var].sel(cross_section=target_xs).values\n",
        "        values2 = xsec_results_xr_plan2[var].sel(cross_section=target_xs).values\n",
        "        \n",
        "        # Get plan titles from plan_df\n",
        "        plan1_title = ras.plan_df.loc[ras.plan_df['plan_number'] == '01', 'Plan Title'].iloc[0]\n",
        "        plan2_title = ras.plan_df.loc[ras.plan_df['plan_number'] == '03', 'Plan Title'].iloc[0]\n",
        "        \n",
        "        # Plot both plans with titles\n",
        "        plt.plot(time_values1, values1, '-', linewidth=2, label=f'{plan1_title} (Plan 01)')\n",
        "        plt.plot(time_values2, values2, '--', linewidth=2, label=f'{plan2_title} (Plan 03)')\n",
        "        \n",
        "        plt.title(f'{var} at {target_xs}')\n",
        "        plt.xlabel('Time')\n",
        "        plt.ylabel(var.replace('_', ' '))\n",
        "        plt.grid(True)\n",
        "        plt.xticks(rotation=45)\n",
        "        plt.legend()\n",
        "        plt.tight_layout()\n",
        "        \n",
        "        # Force display\n",
        "        plt.draw()\n",
        "        plt.pause(0.1)\n",
        "        plt.show()\n"
      ]
    },
    {
      "cell_type": "markdown",
      "metadata": {},
      "source": [
        "## Summary of Unsteady Flow Operations\n",
        "\n",
        "In this notebook, we've covered the following unsteady flow operations using RAS Commander:\n",
        "\n",
        "1. **Project Initialization**: We initialized a HEC-RAS project to work with\n",
        "2. **Boundary Extraction**: We extracted boundary conditions and tables from unsteady flow files\n",
        "3. **Boundary Analysis**: We inspected and understood boundary condition structures\n",
        "4. **Flow Title Updates**: We modified the title of an unsteady flow file\n",
        "5. **Restart Settings**: We configured restart file settings for continuing simulations\n",
        "6. **Table Extraction**: We extracted flow tables for analysis\n",
        "7. **Table Modification**: We modified a flow table and wrote it back to the file\n",
        "8. **Application**: We created a plan using our modified unsteady flow and computed results\n",
        "\n",
        "### Key Classes and Functions Used\n",
        "\n",
        "- `RasUnsteady.extract_boundary_and_tables()`: Extract boundary conditions and tables\n",
        "- `RasUnsteady.print_boundaries_and_tables()`: Display formatted boundary information\n",
        "- `RasUnsteady.update_flow_title()`: Modify the flow title\n",
        "- `RasUnsteady.update_restart_settings()`: Configure restart options\n",
        "- `RasUnsteady.extract_tables()`: Extract tables from unsteady flow files\n",
        "- `RasUnsteady.identify_tables()`: Identify table locations in file\n",
        "- `RasUnsteady.parse_fixed_width_table()`: Parse fixed-width tables\n",
        "- `RasUnsteady.write_table_to_file()`: Write modified tables back to file\n",
        "\n",
        "### Next Steps\n",
        "\n",
        "To further explore unsteady flow operations with RAS Commander, consider:\n",
        "\n",
        "1. **Advanced Flow Modifications**: Create scripts that systematically modify flow hydrographs\n",
        "2. **Sensitivity Analysis**: Create variations of unsteady flows to assess model sensitivity\n",
        "3. **Batch Processing**: Process multiple unsteady flow files for scenario analysis\n",
        "4. **Custom Boundary Conditions**: Create unsteady flows from external data sources\n",
        "5. **Results Analysis**: Compare results from different unsteady flow scenarios\n",
        "\n",
        "These advanced topics can be explored by building on the foundation established in this notebook."
      ]
    }
  ],
  "metadata": {
    "kernelspec": {
      "display_name": "rascmdr",
      "language": "python",
      "name": "python3"
    },
    "language_info": {
      "codemirror_mode": {
        "name": "ipython",
        "version": 3
      },
      "file_extension": ".py",
      "mimetype": "text/x-python",
      "name": "python",
      "nbconvert_exporter": "python",
      "pygments_lexer": "ipython3",
      "version": "3.12.9"
    }
  },
  "nbformat": 4,
  "nbformat_minor": 4
}