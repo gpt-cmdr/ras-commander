{
 "cells": [
  {
   "cell_type": "markdown",
   "metadata": {},
   "source": [
    "# RAS Commander: Sequential Plan Execution\n",
    "\n",
    "This notebook demonstrates how to sequentially execute multiple HEC-RAS plans using the RAS Commander library. Sequential execution is useful for batch processing plans that need to be run in a specific order or when you want to ensure consistent resource usage across multiple runs.\n",
    "\n",
    "## Operations Covered\n",
    "\n",
    "1. **Project Initialization**: Initialize a HEC-RAS project by specifying the project path and version\n",
    "2. **Sequential Execution of All Plans**: Run all plans in a project sequentially in a test folder\n",
    "3. **Selective Plan Execution**: Run only specific plans in sequence\n",
    "4. **Geometry Preprocessor Management**: Clear geometry preprocessor files before execution\n",
    "5. **Execution Result Analysis**: Track and analyze the results of sequential executions\n",
    "6. **Performance Monitoring**: Monitor and compare execution times across different runs\n",
    "\n",
    "Let's begin by importing the necessary libraries and setting up our environment."
   ]
  },
  {
   "cell_type": "markdown",
   "metadata": {},
   "source": [
    "## Package Installation and Environment Setup\n",
    "Uncomment and run package installation commands if needed"
   ]
  },
  {
   "cell_type": "code",
   "execution_count": 1,
   "metadata": {},
   "outputs": [],
   "source": [
    "# Install ras-commander from pip (uncomment to install if needed)\n",
    "#!pip install ras-commander\n",
    "# This installs ras-commander and all dependencies"
   ]
  },
  {
   "cell_type": "code",
   "execution_count": null,
   "metadata": {},
   "outputs": [],
   "source": [
    "# Import all required modules\n",
    "\n",
    "# Import all ras-commander modules\n",
    "from ras_commander import *\n",
    "\n",
    "# Import the required libraries for this notebook\n",
    "import numpy as np\n",
    "import pandas as pd\n",
    "from IPython import display\n",
    "from pathlib import Path\n",
    "import matplotlib.pyplot as plt\n",
    "import psutil  # For getting system CPU info\n",
    "from concurrent.futures import ThreadPoolExecutor, as_completed\n",
    "import time\n",
    "import subprocess\n",
    "import sys\n",
    "import os\n",
    "import shutil"
   ]
  },
  {
   "cell_type": "code",
   "execution_count": null,
   "metadata": {},
   "outputs": [],
   "source": [
    "# Extract the Bald Eagle Creek example project\n",
    "# The extract_project method downloads the project from GitHub if not already present,\n",
    "# and extracts it to the example_projects folder\n",
    "bald_eagle_path = RasExamples.extract_project(\"Balde Eagle Creek\")\n",
    "print(f\"Extracted project to: {bald_eagle_path}\")  \n",
    "\n",
    "\n",
    "# Verify the path exists\n",
    "print(f\"Bald Eagle Creek project exists: {bald_eagle_path.exists()}\")"
   ]
  },
  {
   "cell_type": "code",
   "execution_count": null,
   "metadata": {},
   "outputs": [],
   "source": [
    "# define examples_dir as parent of bald_eagle_path\n",
    "examples_dir = bald_eagle_path.parent\n",
    "print(f\"Examples directory set to: {examples_dir}\")\n",
    "\n",
    "    \n",
    "# Remove any compute test folders from previous runs\n",
    "for folder in examples_dir.glob(\"*[[]AllSequential[]]*\"):\n",
    "    if folder.is_dir():\n",
    "        print(f\"Removing existing test folder: {folder}\")\n",
    "        shutil.rmtree(folder)\n",
    "        \n",
    "for folder in examples_dir.glob(\"*[[]SpecificSequential*[]]*\"):\n",
    "    if folder.is_dir():\n",
    "        print(f\"Removing existing test folder: {folder}\")\n",
    "        shutil.rmtree(folder)\n"
   ]
  },
  {
   "cell_type": "markdown",
   "metadata": {},
   "source": [
    "## Understanding Sequential Execution in HEC-RAS\n",
    "\n",
    "HEC-RAS simulations can be executed in several ways:\n",
    "\n",
    "1. **Single Plan Execution**: Run one plan at a time using `RasCmdr.compute_plan()`\n",
    "2. **Sequential Execution**: Run multiple plans one after another using `RasCmdr.compute_test_mode()`\n",
    "3. **Parallel Execution**: Run multiple plans simultaneously using `RasCmdr.compute_parallel()`\n",
    "\n",
    "This notebook focuses on the second approach: **Sequential Execution**. Here are the key benefits of sequential execution:\n",
    "\n",
    "- **Controlled Resource Usage**: By running plans one at a time, you ensure consistent resource usage\n",
    "- **Dependency Management**: When later plans depend on results from earlier plans\n",
    "- **Simplified Debugging**: Easier to identify which plan is causing an issue when they run sequentially\n",
    "- **Consistent Test Environment**: All plans run in the same isolated folder\n",
    "\n",
    "The `compute_test_mode()` function from `RasCmdr` is specifically designed for this purpose. It creates a separate test folder, copies the project there, and executes the specified plans in sequential order."
   ]
  },
  {
   "cell_type": "markdown",
   "metadata": {},
   "source": [
    "## Downloading and Extracting Example HEC-RAS Project\n",
    "\n",
    "Let's use the `RasExamples` class to download and extract the \"Balde Eagle Creek\" example project."
   ]
  },
  {
   "cell_type": "markdown",
   "metadata": {},
   "source": [
    "## Step 1: Project Initialization\n",
    "\n",
    "Let's initialize the HEC-RAS project using the `init_ras_project()` function."
   ]
  },
  {
   "cell_type": "code",
   "execution_count": null,
   "metadata": {},
   "outputs": [],
   "source": [
    "# Initialize the HEC-RAS project\n",
    "init_ras_project(bald_eagle_path, \"6.6\")\n",
    "print(f\"Initialized HEC-RAS project: {ras.project_name}\")\n",
    "\n",
    "# Display the current plan files in the project\n",
    "print(\"\\nHEC-RAS Project Plan Data:\")\n",
    "display.display(ras.plan_df)\n",
    "\n",
    "# Check how many plans we have\n",
    "plan_count = len(ras.plan_df)\n",
    "print(f\"Found {plan_count} plans in the project\")"
   ]
  },
  {
   "cell_type": "markdown",
   "metadata": {},
   "source": [
    "## Understanding the RasCmdr.compute_test_mode Method\n",
    "\n",
    "Before we start executing plans, let's understand the `compute_test_mode()` method from the `RasCmdr` class, which we'll use for sequential execution.\n",
    "\n",
    "### Key Parameters\n",
    "\n",
    "- `plan_number` (str, list[str], optional): Plan number or list of plan numbers to execute. If None, all plans will be executed.\n",
    "- `dest_folder_suffix` (str, optional): Suffix to append to the test folder name. Defaults to \"[Test]\".\n",
    "- `clear_geompre` (bool, optional): Whether to clear geometry preprocessor files. Defaults to False.\n",
    "- `num_cores` (int, optional): Maximum number of cores to use for each plan. If None, the current setting is not changed.\n",
    "- `ras_object` (RasPrj, optional): Specific RAS object to use. If None, uses the global ras object.\n",
    "- `overwrite_dest` (bool, optional): Whether to overwrite the destination folder if it exists. Defaults to False.\n",
    "\n",
    "### Return Value\n",
    "- `Dict[str, bool]`: Dictionary of plan numbers and their execution success status.\n",
    "\n",
    "### Key Concepts\n",
    "\n",
    "1. **Test Folder**: The function creates a separate folder with the specified suffix, copying the project there for execution.\n",
    "2. **Sequential Execution**: Plans are executed one after another in the specified order.\n",
    "3. **Geometry Preprocessor Files**: These files store precomputed hydraulic properties. Clearing them forces HEC-RAS to recompute these properties.\n",
    "4. **Destination Folder Option**: The suffix determines the name of the test folder. Unlike `compute_plan()`, you can't specify an arbitrary destination folder.\n",
    "5. **Overwrite Option**: Controls whether an existing test folder should be overwritten.\n",
    "\n",
    "Now, let's see how this works in practice."
   ]
  },
  {
   "cell_type": "markdown",
   "metadata": {},
   "source": [
    "## Step 2: Sequential Execution of All Plans\n",
    "\n",
    "Let's execute all plans in the project sequentially. This will create a test folder with the suffix \"[AllSequential]\" and run all plans one after another."
   ]
  },
  {
   "cell_type": "code",
   "execution_count": null,
   "metadata": {},
   "outputs": [],
   "source": [
    "print(\"Executing all plans sequentially...\")\n",
    "print(\"This may take several minutes...\")\n",
    "\n",
    "# Record start time for performance measurement\n",
    "start_time = time.time()\n",
    "\n",
    "# Execute all plans sequentially\n",
    "# - dest_folder_suffix: Suffix to append to the test folder name\n",
    "# - overwrite_dest: Overwrite the destination folder if it exists\n",
    "# - no ras object is specified, it will use the default \"ras\" object\n",
    "execution_results = RasCmdr.compute_test_mode(\n",
    "    dest_folder_suffix=\"[AllSequential]\",\n",
    "    overwrite_dest=True\n",
    ")\n",
    "\n",
    "# Record end time and calculate duration\n",
    "end_time = time.time()\n",
    "total_duration = end_time - start_time\n",
    "\n",
    "print(f\"Sequential execution of all plans completed in {total_duration:.2f} seconds\")\n",
    "\n",
    "# Create a DataFrame from the execution results for better visualization\n",
    "results_df = pd.DataFrame([\n",
    "    {\"Plan\": plan, \"Success\": success}\n",
    "    for plan, success in execution_results.items()\n",
    "])\n",
    "\n",
    "# Display the results\n",
    "print(\"\\nExecution Results:\")\n",
    "display.display(results_df)"
   ]
  },
  {
   "cell_type": "markdown",
   "metadata": {},
   "source": [
    "## Step 3: Examining the Test Folder\n",
    "\n",
    "Let's examine the test folder created by `compute_test_mode()` to better understand what happened during sequential execution."
   ]
  },
  {
   "cell_type": "code",
   "execution_count": null,
   "metadata": {},
   "outputs": [],
   "source": [
    "# Define the test folder path\n",
    "test_folder = script_dir / f\"{ras.project_name} [AllSequential]\"\n",
    "\n",
    "if test_folder.exists():\n",
    "    print(f\"Test folder exists: {test_folder}\")\n",
    "    \n",
    "    # List the key files in the test folder\n",
    "    print(\"\\nKey files in test folder:\")\n",
    "    \n",
    "    # First, list the project file and all plan files\n",
    "    prj_files = list(test_folder.glob(\"*.prj\"))\n",
    "    plan_files = list(test_folder.glob(\"*.p*\"))\n",
    "    plan_files.sort()\n",
    "    \n",
    "    if prj_files:\n",
    "        print(f\"Project file: {prj_files[0].name}\")\n",
    "    \n",
    "    print(\"Plan files:\")\n",
    "    for plan_file in plan_files:\n",
    "        file_size = plan_file.stat().st_size / 1024  # Size in KB\n",
    "        print(f\"  {plan_file.name}: {file_size:.1f} KB\")\n",
    "    \n",
    "    # Look for HDF result files\n",
    "    hdf_files = list(test_folder.glob(\"*.hdf\"))\n",
    "    hdf_files.sort()\n",
    "    \n",
    "    print(\"\\nHDF files:\")\n",
    "    for hdf_file in hdf_files:\n",
    "        file_size = hdf_file.stat().st_size / (1024 * 1024)  # Size in MB\n",
    "        print(f\"  {hdf_file.name}: {file_size:.1f} MB\")\n",
    "    \n",
    "    # Geometry preprocessor files (if any)\n",
    "    geompre_files = list(test_folder.glob(\"*.c*\"))\n",
    "    geompre_files.sort()\n",
    "    \n",
    "    if geompre_files:\n",
    "        print(\"\\nGeometry preprocessor files:\")\n",
    "        for geompre_file in geompre_files:\n",
    "            file_size = geompre_file.stat().st_size / 1024  # Size in KB\n",
    "            print(f\"  {geompre_file.name}: {file_size:.1f} KB\")\n",
    "    else:\n",
    "        print(\"\\nNo geometry preprocessor files found\")\n",
    "        \n",
    "    # Initialize a RAS project in the test folder to inspect results\n",
    "    try:\n",
    "        test_ras = RasPrj()\n",
    "        init_ras_project(test_folder, ras.ras_exe_path, ras_object=test_ras)\n",
    "        print(\"\\nPlans with results in the test folder:\")\n",
    "        test_plans_with_results = test_ras.plan_df[test_ras.plan_df['HDF_Results_Path'].notna()]\n",
    "        display.display(test_plans_with_results[['plan_number', 'HDF_Results_Path']])\n",
    "    except Exception as e:\n",
    "        print(f\"Error initializing test folder as a RAS project: {e}\")\n",
    "else:\n",
    "    print(f\"Test folder not found: {test_folder}\")"
   ]
  },
  {
   "cell_type": "markdown",
   "metadata": {},
   "source": [
    "## Step 4: Sequential Execution of Specific Plans\n",
    "\n",
    "Now, let's execute only specific plans in the project. We'll select plans \"01\" and \"02\" and run them sequentially with the `clear_geompre` option set to True."
   ]
  },
  {
   "cell_type": "code",
   "execution_count": null,
   "metadata": {},
   "outputs": [],
   "source": [
    "print(\"Executing specific plans sequentially with clearing geometry preprocessor files...\")\n",
    "print(\"This may take several minutes...\")\n",
    "\n",
    "# Define the plans to execute\n",
    "selected_plans = [\"01\", \"02\"]\n",
    "print(f\"Selected plans: {', '.join(selected_plans)}\")\n",
    "\n",
    "# Record start time for performance measurement\n",
    "start_time = time.time()\n",
    "\n",
    "# Execute specific plans sequentially\n",
    "# - plan_number: List of plan numbers to execute\n",
    "# - dest_folder_suffix: Suffix to append to the test folder name\n",
    "# - clear_geompre: Clear geometry preprocessor files before execution\n",
    "# - overwrite_dest: Overwrite the destination folder if it exists\n",
    "execution_results = RasCmdr.compute_test_mode(\n",
    "    plan_number=selected_plans,\n",
    "    dest_folder_suffix=\"[SpecificSequentialClearGeompre]\",\n",
    "    clear_geompre=True,\n",
    "    overwrite_dest=True\n",
    ")\n",
    "\n",
    "# Record end time and calculate duration\n",
    "end_time = time.time()\n",
    "total_duration = end_time - start_time\n",
    "\n",
    "print(f\"Sequential execution of specific plans completed in {total_duration:.2f} seconds\")\n",
    "\n",
    "# Create a DataFrame from the execution results for better visualization\n",
    "results_df = pd.DataFrame([\n",
    "    {\"Plan\": plan, \"Success\": success}\n",
    "    for plan, success in execution_results.items()\n",
    "])\n",
    "\n",
    "# Display the results\n",
    "print(\"\\nExecution Results:\")\n",
    "display.display(results_df)"
   ]
  },
  {
   "cell_type": "markdown",
   "metadata": {},
   "source": [
    "## Summary of Sequential Plan Execution\n",
    "\n",
    "In this notebook, we've explored how to execute HEC-RAS plans sequentially using the RAS Commander library. Here's a summary of the key techniques we've covered:\n",
    "\n",
    "1. **Project Setup and Initialization**: Setting up the environment and initializing a HEC-RAS project\n",
    "2. **Example Project Management**: Using `RasExamples` to download and extract sample projects\n",
    "3. **Basic Sequential Execution**: Using `RasCmdr.compute_test_mode()` to run all plans in a project\n",
    "4. **Test Folder Analysis**: Examining the contents and results of sequential execution\n",
    "5. **Selective Plan Execution**: Running specific plans with geometry preprocessor clearing\n",
    "\n",
    "### Key Functions Used\n",
    "\n",
    "- `init_ras_project()`: Initialize a HEC-RAS project\n",
    "- `RasExamples.extract_project()`: Extract example projects for testing\n",
    "- `RasCmdr.compute_test_mode()`: Run plans sequentially in a test folder\n",
    "- `Path.glob()`: Examine test folder contents and results\n",
    "- `RasCmdr.compute_test_mode(clear_geompre=True)`: Execute plans with preprocessor clearing\n",
    "\n",
    "### Best Practices for Sequential Execution\n",
    "\n",
    "1. **Environment Setup**: Ensure all required libraries are installed and properly imported\n",
    "2. **Project Organization**: Clean up existing test folders before new executions\n",
    "3. **Resource Management**: Monitor system resources (CPU cores, memory) for optimal performance\n",
    "4. **Test Folder Naming**: Use meaningful suffixes to distinguish different execution runs\n",
    "5. **Performance Tracking**: Monitor execution times for each sequential run\n",
    "6. **Results Verification**: Check test folders for successful plan execution and result files\n",
    "7. **Selective Execution**: Use plan filtering when only specific plans need to be run\n",
    "\n",
    "With these techniques, you can effectively manage and execute HEC-RAS simulations sequentially, whether running all plans or a selected subset with specific configurations."
   ]
  }
 ],
 "metadata": {
  "kernelspec": {
   "display_name": "cmdrpip4",
   "language": "python",
   "name": "python3"
  },
  "language_info": {
   "codemirror_mode": {
    "name": "ipython",
    "version": 3
   },
   "file_extension": ".py",
   "mimetype": "text/x-python",
   "name": "python",
   "nbconvert_exporter": "python",
   "pygments_lexer": "ipython3",
   "version": "3.12.9"
  }
 },
 "nbformat": 4,
 "nbformat_minor": 4
}
