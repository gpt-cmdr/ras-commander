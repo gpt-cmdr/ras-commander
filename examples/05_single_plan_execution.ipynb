{
 "cells": [
  {
   "cell_type": "markdown",
   "metadata": {},
   "source": [
    "# RAS Commander: Single Plan Execution\n",
    "\n",
    "This notebook demonstrates how to execute a single HEC-RAS plan using the RAS Commander library. We'll focus specifically on running a plan with a specified number of processor cores while overwriting an existing computation folder.\n",
    "\n",
    "## Operations Covered\n",
    "\n",
    "1. **Project Initialization**: Initialize a HEC-RAS project by specifying the project path and version\n",
    "2. **Plan Overview**: Explore the available plans in the project\n",
    "3. **Core Execution Configuration**: Set the number of processor cores to use during computation\n",
    "4. **Destination Folder Management**: Use and overwrite computation folders \n",
    "5. **Results Verification**: Check the results paths after computation\n",
    "6. **Performance Considerations**: Understand the impact of core count on performance\n",
    "\n",
    "Let's begin by importing the necessary libraries and setting up our environment."
   ]
  },
  {
   "cell_type": "markdown",
   "metadata": {},
   "source": [
    "## Package Installation and Environment Setup\n",
    "Uncomment and run package installation commands if needed"
   ]
  },
  {
   "cell_type": "code",
   "execution_count": 1,
   "metadata": {},
   "outputs": [],
   "source": [
    "# Install ras-commander from pip (uncomment to install if needed)\n",
    "#!pip install ras-commander\n",
    "# This installs ras-commander and all dependencies"
   ]
  },
  {
   "cell_type": "code",
   "execution_count": 2,
   "metadata": {},
   "outputs": [],
   "source": [
    "# Import all required modules\n",
    "\n",
    "# Import all ras-commander modules\n",
    "from ras_commander import *\n",
    "\n",
    "# Import the required libraries for this notebook\n",
    "import numpy as np\n",
    "import pandas as pd\n",
    "from IPython import display\n",
    "from pathlib import Path\n",
    "import matplotlib.pyplot as plt\n",
    "import psutil  # For getting system CPU info\n",
    "from concurrent.futures import ThreadPoolExecutor, as_completed\n",
    "import time\n",
    "import subprocess\n",
    "import sys\n",
    "import os\n",
    "import shutil"
   ]
  },
  {
   "cell_type": "markdown",
   "metadata": {},
   "source": [
    "## Setting Up Our Working Environment\n",
    "\n",
    "Let's set up our working directory and paths to example projects. We'll also check the number of available CPU cores on this system."
   ]
  },
  {
   "cell_type": "code",
   "execution_count": null,
   "metadata": {},
   "outputs": [],
   "source": [
    "# Extract the Bald Eagle Creek example project\n",
    "# The extract_project method downloads the project from GitHub if not already present,\n",
    "# and extracts it to the example_projects folder\n",
    "bald_eagle_path = RasExamples.extract_project(\"Balde Eagle Creek\")\n",
    "print(f\"Extracted project to: {bald_eagle_path}\")  \n",
    "\n",
    "\n",
    "# Verify the path exists\n",
    "print(f\"Bald Eagle Creek project exists: {bald_eagle_path.exists()}\")"
   ]
  },
  {
   "cell_type": "code",
   "execution_count": null,
   "metadata": {},
   "outputs": [],
   "source": [
    "# Define paths to example projects\n",
    "examples_dir = bald_eagle_path.parent\n",
    "\n",
    "# Define computation output paths\n",
    "compute_dest_folder = examples_dir / \"compute_test\"\n",
    "\n",
    "# Check system resources\n",
    "cpu_count = psutil.cpu_count(logical=True)\n",
    "physical_cpu_count = psutil.cpu_count(logical=False)\n",
    "print(f\"System has {physical_cpu_count} physical CPU cores ({cpu_count} logical cores)\")\n",
    "print(f\"For HEC-RAS computation, it's often most efficient to use 2-8 cores\")"
   ]
  },
  {
   "cell_type": "markdown",
   "metadata": {},
   "source": [
    "## Understanding the RasCmdr.compute_plan Method\n",
    "\n",
    "Before we dive into execution, let's understand the `compute_plan` method from the `RasCmdr` class, which is the core function for running HEC-RAS simulations.\n",
    "\n",
    "### Key Parameters\n",
    "\n",
    "- `plan_number` (str, Path): The plan number to execute or the full path to the plan file\n",
    "- `dest_folder` (str, Path, optional): Destination folder for computation\n",
    "- `ras_object` (RasPrj, optional): Specific RAS object to use (defaults to global `ras`)\n",
    "- `clear_geompre` (bool, optional): Whether to clear geometry preprocessor files (default: False)\n",
    "- `num_cores` (int, optional): Number of processor cores to use (default: None, uses plan settings)\n",
    "- `overwrite_dest` (bool, optional): Whether to overwrite the destination folder if it exists (default: False)\n",
    "\n",
    "### Returns\n",
    "- `bool`: True if the execution was successful, False otherwise\n",
    "\n",
    "### Key Concepts\n",
    "\n",
    "1. **Destination Folder**: By default, the simulation runs in the original project folder. Specifying a destination folder creates a copy of the project in that location for execution, leaving the original project untouched.\n",
    "\n",
    "2. **Number of Cores**: HEC-RAS can use multiple processor cores to speed up computation. The optimal number depends on the model complexity and your computer's specifications. Generally:\n",
    "   - 1-2 cores: Good for small models, highest efficiency per core\n",
    "   - 3-8 cores: Good balance for most models\n",
    "   - >8 cores: Diminishing returns, may actually be slower due to overhead\n",
    "\n",
    "3. **Geometry Preprocessor Files**: These files store precomputed hydraulic properties. Clearing them forces HEC-RAS to recompute these properties, which is useful after making geometry changes.\n",
    "\n",
    "4. **Overwrite Destination**: Controls whether an existing destination folder should be overwritten. This is a safety feature to prevent accidental deletion of important results."
   ]
  },
  {
   "cell_type": "markdown",
   "metadata": {},
   "source": [
    "## Step 1: Project Initialization\n",
    "\n",
    "Let's initialize the HEC-RAS project using the `init_ras_project()` function."
   ]
  },
  {
   "cell_type": "code",
   "execution_count": null,
   "metadata": {},
   "outputs": [],
   "source": [
    "# Initialize the HEC-RAS project\n",
    "init_ras_project(bald_eagle_path, \"6.6\")\n",
    "print(f\"Initialized HEC-RAS project: {ras.project_name}\")"
   ]
  },
  {
   "cell_type": "markdown",
   "metadata": {},
   "source": [
    "## Step 2: Explore Available Plans\n",
    "\n",
    "Let's examine the available plans in the project to understand what we're working with."
   ]
  },
  {
   "cell_type": "code",
   "execution_count": null,
   "metadata": {},
   "outputs": [],
   "source": [
    "# Display the available plans in the project\n",
    "print(\"Available plans in the project:\")\n",
    "display.display(ras.plan_df)\n",
    "\n",
    "# Let's check the current setting for number of cores in the plans\n",
    "print(\"\\nCurrent core settings for plans:\")\n",
    "for plan_num in ras.plan_df['plan_number']:\n",
    "    # Check all three core parameters\n",
    "    d1_cores = RasPlan.get_plan_value(plan_num, \"UNET D1 Cores\")\n",
    "    d2_cores = RasPlan.get_plan_value(plan_num, \"UNET D2 Cores\") \n",
    "    ps_cores = RasPlan.get_plan_value(plan_num, \"PS Cores\")\n",
    "    \n",
    "    print(f\"Plan {plan_num}'s Existing Settings:\")\n",
    "    print(f\"  1D Cores: {d1_cores}\")\n",
    "    print(f\"  2D Cores: {d2_cores}\")\n",
    "    print(f\"  Pump Station Cores: {ps_cores}\")"
   ]
  },
  {
   "cell_type": "markdown",
   "metadata": {},
   "source": [
    "## Step 3: Create a Destination Folder Structure\n",
    "\n",
    "Now, let's prepare a destination folder for our computation. This allows us to run simulations without modifying the original project files."
   ]
  },
  {
   "cell_type": "code",
   "execution_count": null,
   "metadata": {},
   "outputs": [],
   "source": [
    "# Create a destination folder path\n",
    "dest_folder = examples_dir / \"compute_test_cores\"\n",
    "\n",
    "# Check if the destination folder already exists\n",
    "if dest_folder.exists():\n",
    "    print(f\"Destination folder already exists: {dest_folder}\")\n",
    "    print(\"We'll use overwrite_dest=True to replace it\")\n",
    "else:\n",
    "    print(f\"Destination folder will be created: {dest_folder}\")"
   ]
  },
  {
   "cell_type": "markdown",
   "metadata": {},
   "source": [
    "## Step 4: Execute a Plan with a Specified Number of Cores\n",
    "\n",
    "Now we're ready to execute a plan with a specified number of cores, overwriting the destination folder if it exists. This is the core functionality demonstrated in Example 5 of the original script."
   ]
  },
  {
   "cell_type": "markdown",
   "metadata": {},
   "source": []
  },
  {
   "cell_type": "code",
   "execution_count": null,
   "metadata": {},
   "outputs": [],
   "source": [
    "# Select a plan and number of cores\n",
    "plan_number = \"01\"\n",
    "num_cores = 2  # Specify the number of cores to use\n",
    "\n",
    "print(f\"Executing plan {plan_number} with {num_cores} cores...\")\n",
    "print(f\"Destination folder: {dest_folder}\")\n",
    "\n",
    "# Record the start time\n",
    "start_time = time.time()\n",
    "\n",
    "# Execute the plan with specified parameters\n",
    "success = RasCmdr.compute_plan(\n",
    "    plan_number,              # The plan to execute\n",
    "    dest_folder=dest_folder,  # Where to run the simulation\n",
    "    num_cores=num_cores,      # Number of processor cores to use\n",
    "    overwrite_dest=True       # Overwrite destination folder if it exists\n",
    ")\n",
    "\n",
    "# Record the end time and calculate duration\n",
    "end_time = time.time()\n",
    "duration = end_time - start_time\n",
    "\n",
    "# Report results\n",
    "if success:\n",
    "    print(f\"✅ Plan {plan_number} executed successfully using {num_cores} cores\")\n",
    "    print(f\"Execution time: {duration:.2f} seconds\")\n",
    "else:\n",
    "    print(f\"❌ Plan {plan_number} execution failed\")\n",
    "    print(f\"Time elapsed: {duration:.2f} seconds\")"
   ]
  },
  {
   "cell_type": "markdown",
   "metadata": {},
   "source": [
    "## Step 5: Verify Results\n",
    "\n",
    "After execution, let's verify the results by checking the results paths and examining the destination folder."
   ]
  },
  {
   "cell_type": "code",
   "execution_count": null,
   "metadata": {},
   "outputs": [],
   "source": [
    "# Verify that the destination folder exists and contains the expected files\n",
    "if dest_folder.exists():\n",
    "    print(f\"Destination folder exists: {dest_folder}\")\n",
    "    \n",
    "    # List the key files in the destination folder\n",
    "    print(\"\\nKey files in destination folder:\")\n",
    "    project_files = list(dest_folder.glob(f\"{ras.project_name}.*\"))\n",
    "    for file in project_files[:10]:  # Show first 10 files\n",
    "        file_size = file.stat().st_size / 1024  # Size in KB\n",
    "        print(f\"  {file.name}: {file_size:.1f} KB\")\n",
    "    \n",
    "    if len(project_files) > 10:\n",
    "        print(f\"  ... and {len(project_files) - 10} more files\")\n",
    "    \n",
    "    # Check for HDF result files\n",
    "    print(\"\\nHDF result files:\")\n",
    "    hdf_files = list(dest_folder.glob(f\"*.hdf\"))\n",
    "    for file in hdf_files:\n",
    "        file_size = file.stat().st_size / (1024 * 1024)  # Size in MB\n",
    "        print(f\"  {file.name}: {file_size:.1f} MB\")\n",
    "else:\n",
    "    print(f\"Destination folder does not exist: {dest_folder}\")"
   ]
  },
  {
   "cell_type": "code",
   "execution_count": null,
   "metadata": {},
   "outputs": [],
   "source": [
    "# Check the results path using the RasPlan.get_results_path method\n",
    "# First, initialize a RAS object using the destination folder\n",
    "try:\n",
    "    dest_ras = RasPrj()\n",
    "    init_ras_project(dest_folder, \"6.6\", ras_object=dest_ras)\n",
    "    \n",
    "    # Get the results path for the plan we just executed\n",
    "    results_path = RasPlan.get_results_path(plan_number, ras_object=dest_ras)\n",
    "    \n",
    "    if results_path:\n",
    "        print(f\"Results for plan {plan_number} are located at: {results_path}\")\n",
    "        \n",
    "        # Check if the file exists and get its size\n",
    "        results_file = Path(results_path)\n",
    "        if results_file.exists():\n",
    "            size_mb = results_file.stat().st_size / (1024 * 1024)\n",
    "            print(f\"Results file size: {size_mb:.2f} MB\")\n",
    "    else:\n",
    "        print(f\"No results found for plan {plan_number} in the destination folder\")\n",
    "except Exception as e:\n",
    "    print(f\"Error checking results: {e}\")"
   ]
  },
  {
   "cell_type": "markdown",
   "metadata": {},
   "source": [
    "## Summary of Single Plan Execution Options\n",
    "\n",
    "The `RasCmdr.compute_plan()` method provides a flexible way to execute HEC-RAS plans with various options. Here's a summary of the key parameters we've explored:\n",
    "\n",
    "1. **Basic Execution**: Simply provide a plan number\n",
    "   ```python\n",
    "   RasCmdr.compute_plan(\"01\")\n",
    "   ```\n",
    "\n",
    "2. **Destination Folder**: Run in a separate folder to preserve the original project\n",
    "   ```python\n",
    "   RasCmdr.compute_plan(\"01\", dest_folder=\"path/to/folder\")\n",
    "   ```\n",
    "\n",
    "3. **Number of Cores**: Control the CPU resources used\n",
    "   ```python\n",
    "   RasCmdr.compute_plan(\"01\", num_cores=2)\n",
    "   ```\n",
    "\n",
    "4. **Overwrite Destination**: Replace existing computation folders\n",
    "   ```python\n",
    "   RasCmdr.compute_plan(\"01\", dest_folder=\"path/to/folder\", overwrite_dest=True)\n",
    "   ```\n",
    "\n",
    "5. **Clear Geometry Preprocessor**: Force recalculation of geometric properties\n",
    "   ```python\n",
    "   RasCmdr.compute_plan(\"01\", clear_geompre=True)\n",
    "   ```\n",
    "\n",
    "6. **Combined Options**: Use multiple options together\n",
    "   ```python\n",
    "   RasCmdr.compute_plan(\n",
    "       \"01\",\n",
    "       dest_folder=\"path/to/folder\",\n",
    "       num_cores=2,\n",
    "       clear_geompre=True,\n",
    "       overwrite_dest=True\n",
    "   )\n",
    "   ```\n",
    "\n",
    "### Next Steps\n",
    "\n",
    "To further enhance your HEC-RAS automation, consider exploring:\n",
    "\n",
    "1. **Parallel Execution**: Use `RasCmdr.compute_parallel()` to run multiple plans simultaneously\n",
    "2. **Test Mode**: Use `RasCmdr.compute_test_mode()` for testing purposes\n",
    "3. **Pre-Processing**: Modify plans, geometries, and unsteady flows before execution\n",
    "4. **Post-Processing**: Analyze results after computation\n",
    "5. **Batch Processing**: Create scripts for parameter sweeps or scenario analysis\n",
    "\n",
    "These advanced topics are covered in other examples and documentation for the RAS Commander library."
   ]
  }
 ],
 "metadata": {
  "kernelspec": {
   "display_name": "cmdrpip4",
   "language": "python",
   "name": "python3"
  },
  "language_info": {
   "codemirror_mode": {
    "name": "ipython",
    "version": 3
   },
   "file_extension": ".py",
   "mimetype": "text/x-python",
   "name": "python",
   "nbconvert_exporter": "python",
   "pygments_lexer": "ipython3",
   "version": "3.12.9"
  }
 },
 "nbformat": 4,
 "nbformat_minor": 4
}
