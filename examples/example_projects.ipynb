{
 "cells": [
  {
   "cell_type": "markdown",
   "metadata": {},
   "source": [
    "# Notebook for running all the examples in the examples folder\n",
    "\n",
    "This notebook also serves as a test of the ras_commander package using the HEC-RAS Project Examples provided by HEC.\n",
    "\n",
    "Example project names can be found in the example_projects.csv file after the examples are run.\n",
    "\n",
    "To use a different example, change the project name in the examples and run them directly or run this notebook.  \n"
   ]
  },
  {
   "cell_type": "markdown",
   "metadata": {},
   "source": [
    "The notebook format provides a convenient way to run all the examples to ensure that no features are broken after code revisions.  \n"
   ]
  },
  {
   "cell_type": "markdown",
   "metadata": {},
   "source": [
    "-----"
   ]
  },
  {
   "cell_type": "markdown",
   "metadata": {},
   "source": [
    "This table is a valuable reference for formulating examples and anticipating script behavior.\n",
    "\n",
    "| Project           | Type     | Existing Numbers | Next Available |\n",
    "|-------------------|----------|-------------------|----------------|\n",
    "| Balde Eagle Creek | Plan     | 01, 02            | 03             |\n",
    "|                   | Flow     | 01, 02            | 03             |\n",
    "|                   | Unsteady | 02                | 01, 03         |\n",
    "|                   | Geometry | 01                | 02             |\n",
    "| Muncie            | Plan     | 01, 03, 04        | 02, 05         |\n",
    "|                   | Flow     | 01                | 02             |\n",
    "|                   | Unsteady | 01                | 02             |\n",
    "|                   | Geometry | 01, 02, 04        | 03, 05         |\n",
    "\n",
    "Notes:\n",
    "1. For Balde Eagle Creek's Unsteady entries, 01 is available before 03. The library should use the lowest available number when creating new entries.\n",
    "2. For Muncie's Plan entries, both 02 and 05 are available. The library should use 02 first.\n",
    "3. For Muncie's Geometry entries, 03 is available before 05.\n",
    "\n",
    "When writing examples or scripts:\n",
    "1. Use existing numbers when referencing current plans, flows, unsteady setups, or geometries.\n",
    "2. When creating new entries (e.g., cloning), use the \"Next Available\" number and then increment for subsequent creations.\n",
    "3. After operations that create new entries, verify that the ras object has been updated to reflect these changes.\n",
    "\n",
    "This approach will help ensure that examples run as expected and that we're always working with valid, up-to-date data in our scripts."
   ]
  },
  {
   "cell_type": "markdown",
   "metadata": {},
   "source": [
    "-----"
   ]
  },
  {
   "cell_type": "markdown",
   "metadata": {},
   "source": [
    "# RAS-Commander (ras_commander) library examples"
   ]
  },
  {
   "cell_type": "markdown",
   "metadata": {},
   "source": [
    "### The Examples Below Have Been Tested and Verified."
   ]
  },
  {
   "cell_type": "markdown",
   "metadata": {},
   "source": [
    "-----"
   ]
  },
  {
   "cell_type": "code",
   "execution_count": null,
   "metadata": {},
   "outputs": [],
   "source": [
    "#!pip install pandas pathlib requests psutil h5py matplotlib scipy"
   ]
  },
  {
   "cell_type": "code",
   "execution_count": null,
   "metadata": {},
   "outputs": [],
   "source": [
    "# Example 1: Import and execute 01_project_initialization.py\n",
    "print(\"Executing 01_project_initialization.py:\")\n",
    "%run 01_project_initialization.py\n",
    "print(\"\\n\")"
   ]
  },
  {
   "cell_type": "markdown",
   "metadata": {},
   "source": [
    "-----"
   ]
  },
  {
   "cell_type": "code",
   "execution_count": null,
   "metadata": {},
   "outputs": [],
   "source": [
    "import time\n",
    "\n",
    "# wait 10 seconds\n",
    "time.sleep(10)"
   ]
  },
  {
   "cell_type": "code",
   "execution_count": null,
   "metadata": {},
   "outputs": [],
   "source": [
    "# Example 2: Import and execute 02_plan_operations.py\n",
    "print(\"Executing 02_plan_operations.py:\")\n",
    "%run 02_plan_operations.py\n",
    "print(\"\\n\")"
   ]
  },
  {
   "cell_type": "markdown",
   "metadata": {},
   "source": [
    "-----"
   ]
  },
  {
   "cell_type": "code",
   "execution_count": null,
   "metadata": {},
   "outputs": [],
   "source": [
    "# wait 10 seconds\n",
    "time.sleep(10)"
   ]
  },
  {
   "cell_type": "code",
   "execution_count": null,
   "metadata": {},
   "outputs": [],
   "source": [
    "# Example 3: Import and execute 03_geometry_operations.py\n",
    "print(\"Executing 03_geometry_operations.py:\")\n",
    "%run 03_geometry_operations.py\n",
    "print(\"\\n\")"
   ]
  },
  {
   "cell_type": "markdown",
   "metadata": {},
   "source": [
    "-----"
   ]
  },
  {
   "cell_type": "code",
   "execution_count": null,
   "metadata": {},
   "outputs": [],
   "source": [
    "# wait 10 seconds\n",
    "time.sleep(10)"
   ]
  },
  {
   "cell_type": "code",
   "execution_count": null,
   "metadata": {},
   "outputs": [],
   "source": [
    "# Example 4: Import and execute 04_unsteady_flow_operations.py\n",
    "print(\"Executing 04_unsteady_flow_operations.py:\")\n",
    "%run 04_unsteady_flow_operations.py\n",
    "print(\"\\n\")"
   ]
  },
  {
   "cell_type": "markdown",
   "metadata": {},
   "source": [
    "-----"
   ]
  },
  {
   "cell_type": "code",
   "execution_count": null,
   "metadata": {},
   "outputs": [],
   "source": [
    "# wait 10 seconds\n",
    "time.sleep(10)"
   ]
  },
  {
   "cell_type": "code",
   "execution_count": null,
   "metadata": {},
   "outputs": [],
   "source": [
    "# Example 5: Import and execute 05_utility_functions.py\n",
    "print(\"Executing 05_utility_functions.py:\")\n",
    "%run 05_utility_functions.py\n",
    "print(\"\\n\")"
   ]
  },
  {
   "cell_type": "markdown",
   "metadata": {},
   "source": [
    "-----"
   ]
  },
  {
   "cell_type": "code",
   "execution_count": null,
   "metadata": {},
   "outputs": [],
   "source": [
    "# wait 10 seconds\n",
    "time.sleep(10)"
   ]
  },
  {
   "cell_type": "code",
   "execution_count": null,
   "metadata": {},
   "outputs": [],
   "source": [
    "# Example 6: Import and execute 06_single_plan_execution.py\n",
    "print(\"Executing 06_single_plan_execution.py:\")\n",
    "%run 06_single_plan_execution.py\n",
    "print(\"\\n\")"
   ]
  },
  {
   "cell_type": "markdown",
   "metadata": {},
   "source": [
    "-----"
   ]
  },
  {
   "cell_type": "code",
   "execution_count": null,
   "metadata": {},
   "outputs": [],
   "source": [
    "# wait 10 seconds\n",
    "time.sleep(10)"
   ]
  },
  {
   "cell_type": "code",
   "execution_count": null,
   "metadata": {},
   "outputs": [],
   "source": [
    "# Example 7: Import and execute 07_sequential_plan_execution.py\n",
    "print(\"Executing 07_sequential_plan_execution.py:\")\n",
    "%run 07_sequential_plan_execution.py\n",
    "print(\"\\n\")"
   ]
  },
  {
   "cell_type": "markdown",
   "metadata": {},
   "source": [
    "-----"
   ]
  },
  {
   "cell_type": "code",
   "execution_count": null,
   "metadata": {},
   "outputs": [],
   "source": [
    "# wait 10 seconds\n",
    "time.sleep(10)"
   ]
  },
  {
   "cell_type": "code",
   "execution_count": null,
   "metadata": {},
   "outputs": [],
   "source": [
    "# Example 8: Import and execute 08_parallel_execution.py\n",
    "print(\"Executing 08_parallel_execution.py:\")\n",
    "%run 08_parallel_execution.py\n",
    "print(\"\\n\")"
   ]
  },
  {
   "cell_type": "markdown",
   "metadata": {},
   "source": [
    "-----"
   ]
  },
  {
   "cell_type": "code",
   "execution_count": null,
   "metadata": {},
   "outputs": [],
   "source": [
    "# wait 10 seconds\n",
    "time.sleep(10)"
   ]
  },
  {
   "cell_type": "code",
   "execution_count": null,
   "metadata": {},
   "outputs": [],
   "source": [
    "# Example 9: Import and execute 09_specifying_plans.py\n",
    "print(\"Executing 09_specifying_plans.py:\")\n",
    "%run 09_specifying_plans.py\n",
    "print(\"\\n\")"
   ]
  },
  {
   "cell_type": "markdown",
   "metadata": {},
   "source": [
    "-----"
   ]
  },
  {
   "cell_type": "code",
   "execution_count": null,
   "metadata": {},
   "outputs": [],
   "source": [
    "# wait 10 seconds\n",
    "time.sleep(10)"
   ]
  },
  {
   "cell_type": "code",
   "execution_count": null,
   "metadata": {},
   "outputs": [],
   "source": [
    "print(\"Executing 10_arguments_for_compute.py:\")\n",
    "%run 10_arguments_for_compute.py\n",
    "print(\"\\n\")"
   ]
  },
  {
   "cell_type": "code",
   "execution_count": null,
   "metadata": {},
   "outputs": [],
   "source": [
    "# wait 10 seconds\n",
    "time.sleep(10)"
   ]
  },
  {
   "cell_type": "code",
   "execution_count": null,
   "metadata": {},
   "outputs": [],
   "source": [
    "print(\"Executing 12_plan_set_execution.py:\")\n",
    "%run 12_plan_set_execution.py\n",
    "print(\"\\n\")"
   ]
  },
  {
   "cell_type": "code",
   "execution_count": null,
   "metadata": {},
   "outputs": [],
   "source": [
    "# wait 10 seconds\n",
    "time.sleep(10)"
   ]
  },
  {
   "cell_type": "code",
   "execution_count": null,
   "metadata": {},
   "outputs": [],
   "source": [
    "print(\"Executing 13_multiple_project_operations.py:\")\n",
    "%run 13_multiple_project_operations.py\n",
    "print(\"\\n\")"
   ]
  },
  {
   "cell_type": "code",
   "execution_count": null,
   "metadata": {},
   "outputs": [],
   "source": [
    "# wait 10 seconds\n",
    "time.sleep(10)"
   ]
  },
  {
   "cell_type": "code",
   "execution_count": null,
   "metadata": {},
   "outputs": [],
   "source": [
    "# Example 14 is long, and is a notebook."
   ]
  },
  {
   "cell_type": "code",
   "execution_count": 1,
   "metadata": {},
   "outputs": [
    {
     "name": "stdout",
     "output_type": "stream",
     "text": [
      "Executing 15_plan_key_operations.py:\n"
     ]
    },
    {
     "name": "stderr",
     "output_type": "stream",
     "text": [
      "2024-09-30 18:13:55,236 - ras_commander.RasExamples - INFO - Example projects folder: c:\\GH\\ras-commander\\examples\\example_projects\n",
      "2024-09-30 18:13:55,236 - ras_commander.RasExamples - INFO - Found zip file: c:\\GH\\ras-commander\\examples\\Example_Projects_6_5.zip\n",
      "2024-09-30 18:13:55,238 - ras_commander.RasExamples - INFO - Loading project data from CSV...\n",
      "2024-09-30 18:13:55,242 - ras_commander.RasExamples - INFO - Loaded 66 projects from CSV. Use list_categories() and list_projects() to explore them.\n",
      "2024-09-30 18:13:55,243 - ras_commander.RasExamples - INFO - ----- RasExamples Extracting Project -----\n",
      "2024-09-30 18:13:55,243 - ras_commander.RasExamples - INFO - Extracting project 'Balde Eagle Creek'\n",
      "2024-09-30 18:13:55,245 - ras_commander.RasExamples - INFO - Project 'Balde Eagle Creek' already exists. Deleting existing folder...\n",
      "2024-09-30 18:13:55,251 - ras_commander.RasExamples - INFO - Existing folder for project 'Balde Eagle Creek' has been deleted.\n",
      "2024-09-30 18:13:55,320 - ras_commander.RasExamples - INFO - Successfully extracted project 'Balde Eagle Creek' to c:\\GH\\ras-commander\\examples\\example_projects\\Balde Eagle Creek\n",
      "2024-09-30 18:13:55,321 - ras_commander.RasExamples - INFO - ----- RasExamples Extraction Complete -----\n",
      "2024-09-30 18:13:55,323 - ras_commander.RasPrj - INFO - HEC-RAS executable found at default path: C:\\Program Files (x86)\\HEC\\HEC-RAS\\6.5\\Ras.exe\n",
      "2024-09-30 18:13:55,323 - ras_commander.RasPrj - INFO - Initializing global 'ras' object via init_ras_project function.\n",
      "2024-09-30 18:13:55,336 - ras_commander.RasPrj - INFO - Initialization complete for project: BaldEagle\n",
      "2024-09-30 18:13:55,337 - ras_commander.RasPrj - INFO - Plan entries: 2, Flow entries: 2, Unsteady entries: 1, Geometry entries: 1, Boundary conditions: 3\n",
      "2024-09-30 18:13:55,338 - ras_commander.RasPrj - INFO - Project initialized. ras_instance project folder: c:\\GH\\ras-commander\\examples\\example_projects\\Balde Eagle Creek\n",
      "2024-09-30 18:13:55,355 - ras_commander.RasPlan - INFO - Updated Computation Interval in plan file: c:\\GH\\ras-commander\\examples\\example_projects\\Balde Eagle Creek\\BaldEagle.p01\n",
      "2024-09-30 18:13:55,365 - ras_commander.RasPlan - INFO - Updated Short Identifier in plan file: c:\\GH\\ras-commander\\examples\\example_projects\\Balde Eagle Creek\\BaldEagle.p01\n",
      "2024-09-30 18:13:55,373 - ras_commander.RasPlan - ERROR - Key 'UNET D1 Cores' not found in the plan file.\n",
      "2024-09-30 18:13:55,385 - ras_commander.RasPlan - WARNING - Unknown key: Invalid Key. Valid keys are: Run Sediment, Run WQNET, Short Identifier, Friction Slope Method, UNET D1 Cores, Plan File, UNET D2 Solver Type, Run UNET, Geom File, Description, Run Post Process, Run RASMapper, Mapping Interval, Computation Interval, Plan Title, Flow File, UNET 1D Methodology, Run HTAB, UNET D2 Name, UNET Use Existing IB Tables, Program Version, Simulation Date, DSS File\n",
      " Add more keys and explanations in get_plan_value() as needed.\n",
      "2024-09-30 18:13:55,389 - ras_commander.RasPlan - ERROR - Key 'Invalid Key' not found in the plan file.\n",
      "2024-09-30 18:13:55,389 - ras_commander.RasPlan - WARNING - Unknown key: Invalid Key. Valid keys are: Run Sediment, Run WQNET, Short Identifier, Friction Slope Method, UNET D1 Cores, Plan File, UNET D2 Solver Type, Run UNET, Geom File, Description, Run Post Process, Run RASMapper, Mapping Interval, Computation Interval, Plan Title, Flow File, UNET 1D Methodology, Run HTAB, UNET D2 Name, UNET Use Existing IB Tables, Program Version, Simulation Date, DSS File\n",
      "2024-09-30 18:13:55,393 - ras_commander.RasPlan - ERROR - Key 'Invalid Key' not found in the plan file.\n"
     ]
    },
    {
     "name": "stdout",
     "output_type": "stream",
     "text": [
      "Example 15: Getting and Setting Plan Keys\n",
      "------------------------------------------\n",
      "Working with Plan: 01\n",
      "\n",
      "1. Current Plan Values:\n",
      "  Computation Interval: 2MIN\n",
      "  Simulation Date: 18FEB1999,0000,24FEB1999,0500\n",
      "  Short Identifier: UnsteadyFlow\n",
      "  UNET D1 Cores: 0\n",
      "\n",
      "2. Updating Plan Values:\n",
      "  Updated Computation Interval to: 30SEC\n",
      "  Updated Short Identifier to: Updated_Plan\n",
      "  Updated UNET D1 Cores to: 4\n",
      "\n",
      "3. Verifying Updates:\n",
      "  Computation Interval: 30SEC\n",
      "  Short Identifier: Updated_Plan\n",
      "  UNET D1 Cores: 0\n",
      "\n",
      "4. Plan Description:\n",
      "  Current description: None\n",
      "\n",
      "5. Handling Invalid Keys:\n",
      "\n",
      "Example 15 completed.\n",
      "\n",
      "\n"
     ]
    }
   ],
   "source": [
    "print(\"Executing 15_plan_key_operations.py:\")\n",
    "%run 15_plan_key_operations.py\n",
    "print(\"\\n\")\n",
    "\n",
    "## EXAMPLE IS BROKEN - NEED TO FIX FUNCTION THAT HANDLES KEY UPDATES FOR PLAN FILES, ADD ONE FOR UNSTEADY FILES + EXAMPLES FOR ALL \n",
    "## FOR ALL SUPPORTED PLAN AND UNSTEADY KEYS\n"
   ]
  },
  {
   "cell_type": "code",
   "execution_count": 2,
   "metadata": {},
   "outputs": [
    {
     "ename": "NameError",
     "evalue": "name 'time' is not defined",
     "output_type": "error",
     "traceback": [
      "\u001b[1;31m---------------------------------------------------------------------------\u001b[0m",
      "\u001b[1;31mNameError\u001b[0m                                 Traceback (most recent call last)",
      "Cell \u001b[1;32mIn[2], line 2\u001b[0m\n\u001b[0;32m      1\u001b[0m \u001b[38;5;66;03m# wait 10 seconds\u001b[39;00m\n\u001b[1;32m----> 2\u001b[0m \u001b[43mtime\u001b[49m\u001b[38;5;241m.\u001b[39msleep(\u001b[38;5;241m10\u001b[39m)\n",
      "\u001b[1;31mNameError\u001b[0m: name 'time' is not defined"
     ]
    }
   ],
   "source": [
    "# wait 10 seconds\n",
    "time.sleep(10)"
   ]
  },
  {
   "cell_type": "code",
   "execution_count": null,
   "metadata": {},
   "outputs": [],
   "source": [
    "print(\"Executing 16_scanning_ras_project_info.py:\")\n",
    "%run 16_scanning_ras_project_info.py\n",
    "print(\"\\n\")\n"
   ]
  },
  {
   "cell_type": "code",
   "execution_count": null,
   "metadata": {},
   "outputs": [],
   "source": [
    "# wait 10 seconds\n",
    "time.sleep(10)"
   ]
  },
  {
   "cell_type": "code",
   "execution_count": null,
   "metadata": {},
   "outputs": [],
   "source": [
    "print(\"Executing xx_edge_cases.py:\")\n",
    "%run xx_edge_cases.py\n",
    "print(\"\\n\")"
   ]
  },
  {
   "cell_type": "markdown",
   "metadata": {},
   "source": [
    "# Guide for Locating Relevant Examples:"
   ]
  },
  {
   "cell_type": "markdown",
   "metadata": {},
   "source": [
    "## Category: 1D Unsteady Flow Hydraulics"
   ]
  },
  {
   "cell_type": "markdown",
   "metadata": {},
   "source": [
    "### Flow Hydrograph\n",
    "\n",
    "| Example | Plan File |\n",
    "|---------|-----------|\n",
    "| Balde Eagle Creek | BaldEagle.p01, BaldEagle.p02 |\n",
    "| ContractionExpansionMinorLosses | ContExp.p01, ContExp.p02, ContExp.p03, ContExp.p04 |\n",
    "| Culvert Hydraulics | Beav_Culvert.p01 |\n",
    "| Culverts with Flap Gates | CulvertFlap.p01 |\n",
    "| Dam Breaching | BaldEagleDamBrk.p07, BaldEagleDamBrk.p02, BaldEagleDamBrk.p10, BaldEagleDamBrk.p06, BaldEagleDamBrk.p08, BaldEagleDamBrk.p04, BaldEagleDamBrk.p03, BaldEagleDamBrk.p05, BaldEagleDamBrk.p09, BaldEagleDamBrk.p11 |\n",
    "| Elevation Controled Gates | ElevControledGates.p01 |\n",
    "| Inline Structure with Gated Spillways | Inline_3Gates.p01 |\n",
    "| Internal Stage and Flow Boundary Condition | IBStageFlowTest.p01 |\n",
    "| JunctionHydraulics | JunctionHydraulics.p01, JunctionHydraulics.p02, JunctionHydraulics.p04, JunctionHydraulics.p03 |\n",
    "| Lateral Strcuture with Gates | TwoGateGrps.p01 |\n",
    "| Lateral Structure connected to a River Reach | 3Reach_with_Lat.p01 |\n",
    "| Lateral Structure Overflow Weir | LatMultXS.p01 |\n",
    "| Lateral Structure with Culverts | LatWeirCulverts.p01 |\n",
    "| Lateral Structure with Culverts and Gates | Beav_Lateral.p01 |\n",
    "| Levee Breaching | LeveeBreach.p01 |\n",
    "| Multiple Reaches with Hydraulic Structures | 3ReachUnsteady.p01, 3ReachUnsteady.p02 |\n",
    "| Pumping Station | Pumps.p01 |\n",
    "| Pumping Station with Rules | PumpRule.p03 |\n",
    "| Rule Operations | Canal.p01 |\n",
    "| Simplified Physical Breaching | BaldEDmbrk.p01 |\n",
    "| UngagedAreaInflows | Ungaged_area.p03, Ungaged_area.p02 |\n",
    "| Unsteady Flow Encroachment Analysis | UnsteadyEncroachment.p03, UnsteadyEncroachment.p02 |\n",
    "\n",
    "### Normal Depth\n",
    "\n",
    "| Example | Plan File |\n",
    "|---------|-----------|\n",
    "| Balde Eagle Creek | BaldEagle.p01, BaldEagle.p02 |\n",
    "| ContractionExpansionMinorLosses | ContExp.p01, ContExp.p02, ContExp.p03, ContExp.p04 |\n",
    "| Culvert Hydraulics | Beav_Culvert.p01 |\n",
    "| Dam Breaching | BaldEagleDamBrk.p07, BaldEagleDamBrk.p02, BaldEagleDamBrk.p10, BaldEagleDamBrk.p06, BaldEagleDamBrk.p08, BaldEagleDamBrk.p04, BaldEagleDamBrk.p03, BaldEagleDamBrk.p05, BaldEagleDamBrk.p09, BaldEagleDamBrk.p11 |\n",
    "| JunctionHydraulics | JunctionHydraulics.p01, JunctionHydraulics.p02, JunctionHydraulics.p04, JunctionHydraulics.p03 |\n",
    "| Lateral Structure connected to a River Reach | 3Reach_with_Lat.p01 |\n",
    "| Multiple Reaches with Hydraulic Structures | 3ReachUnsteady.p01, 3ReachUnsteady.p02 |\n",
    "| Rule Operations | Canal.p01 |\n",
    "| Simplified Physical Breaching | BaldEDmbrk.p01 |\n",
    "| UngagedAreaInflows | Ungaged_area.p03, Ungaged_area.p02 |\n",
    "\n",
    "### Gate Opening\n",
    "\n",
    "| Example | Plan File |\n",
    "|---------|-----------|\n",
    "| Balde Eagle Creek | BaldEagle.p01, BaldEagle.p02 |\n",
    "| ContractionExpansionMinorLosses | ContExp.p01, ContExp.p02, ContExp.p03, ContExp.p04 |\n",
    "| Dam Breaching | BaldEagleDamBrk.p07, BaldEagleDamBrk.p02, BaldEagleDamBrk.p10, BaldEagleDamBrk.p06, BaldEagleDamBrk.p08, BaldEagleDamBrk.p04, BaldEagleDamBrk.p03, BaldEagleDamBrk.p05, BaldEagleDamBrk.p09, BaldEagleDamBrk.p11 |\n",
    "| Elevation Controled Gates | ElevControledGates.p01 |\n",
    "| Inline Structure with Gated Spillways | Inline_3Gates.p01 |\n",
    "| Lateral Strcuture with Gates | TwoGateGrps.p01 |\n",
    "| Lateral Structure with Culverts and Gates | Beav_Lateral.p01 |\n",
    "| Simplified Physical Breaching | BaldEDmbrk.p01 |\n",
    "\n",
    "### Stage Hydrograph\n",
    "\n",
    "| Example | Plan File |\n",
    "|---------|-----------|\n",
    "| Internal Stage and Flow Boundary Condition | IBStageFlowTest.p01 |\n",
    "| Pumping Station with Rules | PumpRule.p03 |\n",
    "| Rule Operations | Canal.p01 |\n",
    "\n",
    "### Lateral Inflow Hydrograph\n",
    "\n",
    "| Example | Plan File |\n",
    "|---------|-----------|\n",
    "| Dam Breaching | BaldEagleDamBrk.p07, BaldEagleDamBrk.p02, BaldEagleDamBrk.p10, BaldEagleDamBrk.p06, BaldEagleDamBrk.p08, BaldEagleDamBrk.p04, BaldEagleDamBrk.p03, BaldEagleDamBrk.p05, BaldEagleDamBrk.p09, BaldEagleDamBrk.p11 |\n",
    "| Multiple Reaches with Hydraulic Structures | 3ReachUnsteady.p01, 3ReachUnsteady.p02 |\n",
    "| Pumping Station | Pumps.p01 |\n",
    "| Rule Operations | Canal.p01 |\n",
    "| UngagedAreaInflows | Ungaged_area.p03, Ungaged_area.p02 |\n",
    "\n",
    "### Uniform Lateral Inflow Hydrograph\n",
    "\n",
    "| Example | Plan File |\n",
    "|---------|-----------|\n",
    "| Dam Breaching | BaldEagleDamBrk.p07, BaldEagleDamBrk.p02, BaldEagleDamBrk.p10, BaldEagleDamBrk.p06, BaldEagleDamBrk.p08, BaldEagleDamBrk.p04, BaldEagleDamBrk.p03, BaldEagleDamBrk.p05, BaldEagleDamBrk.p09, BaldEagleDamBrk.p11 |\n",
    "| UngagedAreaInflows | Ungaged_area.p03, Ungaged_area.p02 |\n",
    "\n",
    "### Unknown or Special Conditions\n",
    "\n",
    "| Example | Plan File |\n",
    "|---------|-----------|\n",
    "| Culverts with Flap Gates | CulvertFlap.p01 |\n",
    "| Elevation Controled Gates | ElevControledGates.p01 |\n",
    "| Internal Stage and Flow Boundary Condition | IBStageFlowTest.p01 |\n",
    "| Lateral Structure Overflow Weir | LatMultXS.p01 |\n",
    "| Lateral Structure with Culverts | LatWeirCulverts.p01 |\n",
    "| Levee Breaching | LeveeBreach.p01 |\n",
    "| Pumping Station with Rules | PumpRule.p03 |\n",
    "| UngagedAreaInflows | Ungaged_area.p03, Ungaged_area.p02 |\n",
    "| Unsteady Flow Encroachment Analysis | UnsteadyEncroachment.p03, UnsteadyEncroachment.p02 |"
   ]
  },
  {
   "cell_type": "markdown",
   "metadata": {},
   "source": [
    "## Category: 2D Unsteady Flow Hydraulics"
   ]
  },
  {
   "cell_type": "markdown",
   "metadata": {},
   "source": [
    "# HEC-RAS Unsteady Flow Examples Analysis\n",
    "\n",
    "## Version 6.30\n",
    "\n",
    "### Example: Muncie\n",
    "\n",
    "| Boundary Condition Types | Plan Files |\n",
    "|--------------------------|------------|\n",
    "| Flow Hydrograph          | Muncie.p01 (Unsteady Multi  9-SA run) |\n",
    "| Normal Depth             | Muncie.p03 (Unsteady Run with 2D 50ft Grid) |\n",
    "|                          | Muncie.p04 (Unsteady Run with 2D 50ft User n Value R) |\n",
    "\n",
    "| Project | Version | Boundary Conditions | Plans |\n",
    "|---------|---------|---------------------|-------|\n",
    "| Muncie  | 6.30    | - Flow Hydrograph (White River, Muncie, Station 15696.24) | 1. Muncie.p01: Unsteady Multi 9-SA run |\n",
    "|         |         | - Normal Depth (White River, Muncie, Station 237.6455)    | 2. Muncie.p03: Unsteady Run with 2D 50ft Grid |\n",
    "|         |         |                                                           | 3. Muncie.p04: Unsteady Run with 2D 50ft User n Value R |\n",
    "\n",
    "## Version 6.00\n",
    "\n",
    "### Example: BaldEagleCrkMulti2D\n",
    "\n",
    "| Boundary Condition Types | Plan Files |\n",
    "|--------------------------|------------|\n",
    "| Flow Hydrograph          | BaldEagleDamBrk.p06 (Gridded Precip - Infiltration) |\n",
    "| Gate Opening             |  |\n",
    "| Lateral Inflow Hydrograph |  |\n",
    "| Uniform Lateral Inflow Hydrograph |  |\n",
    "| Normal Depth             |  |\n",
    "\n",
    "| Project | Version | Boundary Conditions | Plans |\n",
    "|---------|---------|---------------------|-------|\n",
    "| BaldEagleCrkMulti2D | 6.00 | - Flow Hydrograph | 1. BaldEagleDamBrk.p06: Gridded Precip - Infiltration |\n",
    "|                     |      | - Gate Opening |  |\n",
    "|                     |      | - Lateral Inflow Hydrograph |  |\n",
    "|                     |      | - Uniform Lateral Inflow Hydrograph |  |\n",
    "|                     |      | - Normal Depth |  |\n",
    "\n",
    "## Version 5.10\n",
    "\n",
    "### Example: BaldEagleCrkMulti2D\n",
    "\n",
    "| Boundary Condition Types | Plan Files |\n",
    "|--------------------------|------------|\n",
    "| Flow Hydrograph          | BaldEagleDamBrk.p13 (PMF with Multi 2D Areas) |\n",
    "| Gate Opening             | BaldEagleDamBrk.p15 (1d-2D Dambreak Refined Grid) |\n",
    "| Lateral Inflow Hydrograph | BaldEagleDamBrk.p02 (SA to Detailed 2D Breach) |\n",
    "| Uniform Lateral Inflow Hydrograph | BaldEagleDamBrk.p05 (Single 2D area with Bridges FEQ) |\n",
    "| Normal Depth             | BaldEagleDamBrk.p01 (SA to Detailed 2D Breach FEQ) |\n",
    "\n",
    "| Project | Version | Boundary Conditions | Plans |\n",
    "|---------|---------|---------------------|-------|\n",
    "| BaldEagleCrkMulti2D | 5.10 | - Flow Hydrograph | 1. BaldEagleDamBrk.p13: PMF with Multi 2D Areas |\n",
    "|                     |      | - Gate Opening | 2. BaldEagleDamBrk.p15: 1d-2D Dambreak Refined Grid |\n",
    "|                     |      | - Lateral Inflow Hydrograph | 3. BaldEagleDamBrk.p02: SA to Detailed 2D Breach |\n",
    "|                     |      | - Uniform Lateral Inflow Hydrograph | 4. BaldEagleDamBrk.p05: Single 2D area with Bridges FEQ |\n",
    "|                     |      | - Normal Depth | 5. BaldEagleDamBrk.p01: SA to Detailed 2D Breach FEQ |\n",
    "\n",
    "## Version 5.00\n",
    "\n",
    "### Example: BaldEagleCrkMulti2D\n",
    "\n",
    "| Boundary Condition Types | Plan Files |\n",
    "|--------------------------|------------|\n",
    "| Flow Hydrograph          | BaldEagleDamBrk.p17 (2D to 1D No Dam) |\n",
    "| Gate Opening             | BaldEagleDamBrk.p18 (2D to 2D Run) |\n",
    "| Lateral Inflow Hydrograph | BaldEagleDamBrk.p19 (SA to 2D Dam Break Run) |\n",
    "| Uniform Lateral Inflow Hydrograph | BaldEagleDamBrk.p03 (Single 2D Area - Internal Dam Structure) |\n",
    "| Normal Depth             | BaldEagleDamBrk.p04 (SA to 2D Area Conn - 2D Levee Structure) |\n",
    "\n",
    "| Project | Version | Boundary Conditions | Plans |\n",
    "|---------|---------|---------------------|-------|\n",
    "| BaldEagleCrkMulti2D | 5.00 | - Flow Hydrograph | 1. BaldEagleDamBrk.p17: 2D to 1D No Dam |\n",
    "|                     |      | - Gate Opening | 2. BaldEagleDamBrk.p18: 2D to 2D Run |\n",
    "|                     |      | - Lateral Inflow Hydrograph | 3. BaldEagleDamBrk.p19: SA to 2D Dam Break Run |\n",
    "|                     |      | - Uniform Lateral Inflow Hydrograph | 4. BaldEagleDamBrk.p03: Single 2D Area - Internal Dam Structure |\n",
    "|                     |      | - Normal Depth | 5. BaldEagleDamBrk.p04: SA to 2D Area Conn - 2D Levee Structure |"
   ]
  },
  {
   "cell_type": "markdown",
   "metadata": {},
   "source": [
    "### Need the same tables for geometry key types\n",
    "\n",
    "Also need to open and save all example files in 6.5 using HECRASController (making a function to do this)\n",
    "\n",
    "This can be used to help find examples if the user wants to do something that the library is currently not capable of.  \n",
    "\n",
    "Using the RasExamples class, the user can extract these files and inspect them to find specific examples.  "
   ]
  }
 ],
 "metadata": {
  "kernelspec": {
   "display_name": "cmdr311",
   "language": "python",
   "name": "python3"
  },
  "language_info": {
   "codemirror_mode": {
    "name": "ipython",
    "version": 3
   },
   "file_extension": ".py",
   "mimetype": "text/x-python",
   "name": "python",
   "nbconvert_exporter": "python",
   "pygments_lexer": "ipython3",
   "version": "3.11.9"
  }
 },
 "nbformat": 4,
 "nbformat_minor": 2
}
