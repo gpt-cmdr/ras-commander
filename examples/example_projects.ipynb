{
 "cells": [
  {
   "cell_type": "markdown",
   "metadata": {},
   "source": [
    "# Notebook for running all the examples in the examples folder\n",
    "\n",
    "This notebook also serves as a test of the ras_commander package using the HEC-RAS Project Examples provided by HEC.\n",
    "\n",
    "Example project names can be found in the example_projects.csv file after the examples are run.\n",
    "\n",
    "To use a different example, change the project name in the examples and run them directly or run this notebook.  \n"
   ]
  },
  {
   "cell_type": "markdown",
   "metadata": {},
   "source": [
    "The notebook format provides a convenient way to run all the examples to ensure that no features are broken after code revisions.  \n"
   ]
  },
  {
   "cell_type": "markdown",
   "metadata": {},
   "source": [
    "-----"
   ]
  },
  {
   "cell_type": "markdown",
   "metadata": {},
   "source": [
    "This table is a valuable reference for formulating examples and anticipating script behavior.\n",
    "\n",
    "| Project           | Type     | Existing Numbers | Next Available |\n",
    "|-------------------|----------|-------------------|----------------|\n",
    "| Balde Eagle Creek | Plan     | 01, 02            | 03             |\n",
    "|                   | Flow     | 01, 02            | 03             |\n",
    "|                   | Unsteady | 02                | 01, 03         |\n",
    "|                   | Geometry | 01                | 02             |\n",
    "| Muncie            | Plan     | 01, 03, 04        | 02, 05         |\n",
    "|                   | Flow     | 01                | 02             |\n",
    "|                   | Unsteady | 01                | 02             |\n",
    "|                   | Geometry | 01, 02, 04        | 03, 05         |\n",
    "\n",
    "Notes:\n",
    "1. For Balde Eagle Creek's Unsteady entries, 01 is available before 03. The library should use the lowest available number when creating new entries.\n",
    "2. For Muncie's Plan entries, both 02 and 05 are available. The library should use 02 first.\n",
    "3. For Muncie's Geometry entries, 03 is available before 05.\n",
    "\n",
    "When writing examples or scripts:\n",
    "1. Use existing numbers when referencing current plans, flows, unsteady setups, or geometries.\n",
    "2. When creating new entries (e.g., cloning), use the \"Next Available\" number and then increment for subsequent creations.\n",
    "3. After operations that create new entries, verify that the ras object has been updated to reflect these changes.\n",
    "\n",
    "This approach will help ensure that examples run as expected and that we're always working with valid, up-to-date data in our scripts."
   ]
  },
  {
   "cell_type": "markdown",
   "metadata": {},
   "source": [
    "-----"
   ]
  },
  {
   "cell_type": "markdown",
   "metadata": {},
   "source": [
    "# RAS-Commander (ras_commander) library examples"
   ]
  },
  {
   "cell_type": "markdown",
   "metadata": {},
   "source": [
    "### The Examples Below Have Been Tested and Verified."
   ]
  },
  {
   "cell_type": "markdown",
   "metadata": {},
   "source": [
    "-----"
   ]
  },
  {
   "cell_type": "code",
   "execution_count": 3,
   "metadata": {},
   "outputs": [
    {
     "name": "stdout",
     "output_type": "stream",
     "text": [
      "Requirement already satisfied: pandas in c:\\users\\billk\\appdata\\local\\anaconda3\\envs\\cmdrnopip\\lib\\site-packages (2.2.3)\n",
      "Requirement already satisfied: pathlib in c:\\users\\billk\\appdata\\local\\anaconda3\\envs\\cmdrnopip\\lib\\site-packages (1.0.1)\n",
      "Requirement already satisfied: requests in c:\\users\\billk\\appdata\\local\\anaconda3\\envs\\cmdrnopip\\lib\\site-packages (2.32.3)\n",
      "Requirement already satisfied: numpy>=1.23.2 in c:\\users\\billk\\appdata\\roaming\\python\\python311\\site-packages (from pandas) (1.26.2)\n",
      "Requirement already satisfied: python-dateutil>=2.8.2 in c:\\users\\billk\\appdata\\local\\anaconda3\\envs\\cmdrnopip\\lib\\site-packages (from pandas) (2.9.0)\n",
      "Requirement already satisfied: pytz>=2020.1 in c:\\users\\billk\\appdata\\local\\anaconda3\\envs\\cmdrnopip\\lib\\site-packages (from pandas) (2024.2)\n",
      "Requirement already satisfied: tzdata>=2022.7 in c:\\users\\billk\\appdata\\local\\anaconda3\\envs\\cmdrnopip\\lib\\site-packages (from pandas) (2024.1)\n",
      "Requirement already satisfied: charset-normalizer<4,>=2 in c:\\users\\billk\\appdata\\roaming\\python\\python311\\site-packages (from requests) (3.3.2)\n",
      "Requirement already satisfied: idna<4,>=2.5 in c:\\users\\billk\\appdata\\roaming\\python\\python311\\site-packages (from requests) (3.6)\n",
      "Requirement already satisfied: urllib3<3,>=1.21.1 in c:\\users\\billk\\appdata\\local\\anaconda3\\envs\\cmdrnopip\\lib\\site-packages (from requests) (2.2.3)\n",
      "Requirement already satisfied: certifi>=2017.4.17 in c:\\users\\billk\\appdata\\roaming\\python\\python311\\site-packages (from requests) (2023.11.17)\n",
      "Requirement already satisfied: six>=1.5 in c:\\users\\billk\\appdata\\local\\anaconda3\\envs\\cmdrnopip\\lib\\site-packages (from python-dateutil>=2.8.2->pandas) (1.16.0)\n"
     ]
    }
   ],
   "source": [
    "!pip install pandas pathlib requests"
   ]
  },
  {
   "cell_type": "code",
   "execution_count": 4,
   "metadata": {},
   "outputs": [
    {
     "name": "stderr",
     "output_type": "stream",
     "text": [
      "2024-09-21 22:07:23,234 - INFO - Example projects folder: c:\\GH\\ras-commander\\examples\\example_projects\n",
      "2024-09-21 22:07:23,235 - INFO - Found zip file: c:\\GH\\ras-commander\\examples\\Example_Projects_6_5.zip\n",
      "2024-09-21 22:07:23,236 - INFO - Loading project data from CSV...\n",
      "2024-09-21 22:07:23,238 - INFO - Loaded 66 projects from CSV. Use list_categories() and list_projects() to explore them.\n",
      "2024-09-21 22:07:23,238 - INFO - ----- RasExamples Extracting Project -----\n",
      "2024-09-21 22:07:23,239 - INFO - Extracting project 'Balde Eagle Creek'\n",
      "2024-09-21 22:07:23,239 - INFO - Project 'Balde Eagle Creek' already exists. Deleting existing folder...\n",
      "2024-09-21 22:07:23,245 - INFO - Existing folder for project 'Balde Eagle Creek' has been deleted.\n",
      "2024-09-21 22:07:23,305 - INFO - Successfully extracted project 'Balde Eagle Creek' to c:\\GH\\ras-commander\\examples\\example_projects\\Balde Eagle Creek\n",
      "2024-09-21 22:07:23,306 - INFO - ----- RasExamples Extraction Complete -----\n",
      "2024-09-21 22:07:23,307 - INFO - ----- RasExamples Extracting Project -----\n",
      "2024-09-21 22:07:23,307 - INFO - Extracting project 'BaldEagleCrkMulti2D'\n",
      "2024-09-21 22:07:23,308 - INFO - Project 'BaldEagleCrkMulti2D' already exists. Deleting existing folder...\n",
      "2024-09-21 22:07:23,362 - INFO - Existing folder for project 'BaldEagleCrkMulti2D' has been deleted.\n"
     ]
    },
    {
     "name": "stdout",
     "output_type": "stream",
     "text": [
      "Executing 01_project_initialization.py:\n"
     ]
    },
    {
     "name": "stderr",
     "output_type": "stream",
     "text": [
      "2024-09-21 22:07:25,111 - INFO - Successfully extracted project 'BaldEagleCrkMulti2D' to c:\\GH\\ras-commander\\examples\\example_projects\\BaldEagleCrkMulti2D\n",
      "2024-09-21 22:07:25,112 - INFO - ----- RasExamples Extraction Complete -----\n",
      "2024-09-21 22:07:25,112 - INFO - ----- RasExamples Extracting Project -----\n",
      "2024-09-21 22:07:25,113 - INFO - Extracting project 'Muncie'\n",
      "2024-09-21 22:07:25,113 - INFO - Project 'Muncie' already exists. Deleting existing folder...\n",
      "2024-09-21 22:07:25,135 - INFO - Existing folder for project 'Muncie' has been deleted.\n",
      "2024-09-21 22:07:25,500 - INFO - Successfully extracted project 'Muncie' to c:\\GH\\ras-commander\\examples\\example_projects\\Muncie\n",
      "2024-09-21 22:07:25,501 - INFO - ----- RasExamples Extraction Complete -----\n",
      "2024-09-21 22:07:25,503 - INFO - HEC-RAS executable found at default path: C:\\Program Files (x86)\\HEC\\HEC-RAS\\6.5\\Ras.exe\n",
      "2024-09-21 22:07:25,503 - INFO - Initializing global 'ras' object via init_ras_project function.\n",
      "2024-09-21 22:07:25,505 - INFO - Single .prj file found: c:\\GH\\ras-commander\\examples\\example_projects\\Balde Eagle Creek\\BaldEagle.prj\n",
      "2024-09-21 22:07:25,509 - INFO - Initialization complete for project: BaldEagle\n",
      "2024-09-21 22:07:25,509 - INFO - Plan entries: 2, Flow entries: 2, Unsteady entries: 1, Geometry entries: 1\n",
      "2024-09-21 22:07:25,510 - INFO - --- Data for BaldEagle ---\n",
      "2024-09-21 22:07:25,510 - INFO - Project folder: c:\\GH\\ras-commander\\examples\\example_projects\\Balde Eagle Creek\n",
      "2024-09-21 22:07:25,511 - INFO - PRJ file: C:\\GH\\ras-commander\\examples\\example_projects\\Balde Eagle Creek\\BaldEagle.prj\n",
      "2024-09-21 22:07:25,511 - INFO - HEC-RAS executable: C:\\Program Files (x86)\\HEC\\HEC-RAS\\6.5\\Ras.exe\n",
      "2024-09-21 22:07:25,512 - INFO - Plan files:\n",
      "2024-09-21 22:07:25,513 - INFO - \n",
      "  plan_number                                          full_path  \\\n",
      "0          01  c:\\GH\\ras-commander\\examples\\example_projects\\...   \n",
      "1          02  c:\\GH\\ras-commander\\examples\\example_projects\\...   \n",
      "\n",
      "  HDF_Results_Path  \n",
      "0             None  \n",
      "1             None  \n",
      "2024-09-21 22:07:25,514 - INFO - Flow files:\n",
      "2024-09-21 22:07:25,515 - INFO - \n",
      "  flow_number                                          full_path\n",
      "0          02  c:\\GH\\ras-commander\\examples\\example_projects\\...\n",
      "1          01  c:\\GH\\ras-commander\\examples\\example_projects\\...\n",
      "2024-09-21 22:07:25,516 - INFO - Unsteady flow files:\n",
      "2024-09-21 22:07:25,517 - INFO - \n",
      "  unsteady_number                                          full_path\n",
      "0              02  c:\\GH\\ras-commander\\examples\\example_projects\\...\n",
      "2024-09-21 22:07:25,518 - INFO - Geometry files:\n",
      "2024-09-21 22:07:25,519 - INFO - \n",
      "  geom_number                                          full_path\n",
      "0          01  c:\\GH\\ras-commander\\examples\\example_projects\\...\n",
      "2024-09-21 22:07:25,520 - INFO - HDF entries:\n",
      "2024-09-21 22:07:25,521 - INFO - No HDF entries found.\n",
      "2024-09-21 22:07:25,523 - INFO - \n",
      "Empty DataFrame\n",
      "Columns: [plan_number, full_path, HDF_Results_Path]\n",
      "Index: []\n",
      "2024-09-21 22:07:25,524 - INFO - ----------------------------\n",
      "2024-09-21 22:07:25,528 - INFO - No HDF entries found.\n",
      "2024-09-21 22:07:25,530 - INFO - HEC-RAS executable found at default path: C:\\Program Files (x86)\\HEC\\HEC-RAS\\6.5\\Ras.exe\n",
      "2024-09-21 22:07:25,530 - INFO - Initializing global 'ras' object via init_ras_project function.\n",
      "2024-09-21 22:07:25,535 - INFO - Single .prj file found: c:\\GH\\ras-commander\\examples\\example_projects\\BaldEagleCrkMulti2D\\BaldEagleDamBrk.prj\n",
      "2024-09-21 22:07:25,539 - INFO - Initialization complete for project: BaldEagleDamBrk\n",
      "2024-09-21 22:07:25,540 - INFO - Plan entries: 11, Flow entries: 0, Unsteady entries: 10, Geometry entries: 10\n",
      "2024-09-21 22:07:25,541 - INFO - HEC-RAS executable found at default path: C:\\Program Files (x86)\\HEC\\HEC-RAS\\6.5\\Ras.exe\n",
      "2024-09-21 22:07:25,541 - INFO - Initializing global 'ras' object via init_ras_project function.\n",
      "2024-09-21 22:07:25,543 - INFO - Single .prj file found: c:\\GH\\ras-commander\\examples\\example_projects\\Muncie\\Muncie.prj\n",
      "2024-09-21 22:07:25,548 - INFO - Initialization complete for project: Muncie\n",
      "2024-09-21 22:07:25,549 - INFO - Plan entries: 3, Flow entries: 1, Unsteady entries: 1, Geometry entries: 3\n",
      "2024-09-21 22:07:25,550 - INFO - --- Data for Muncie ---\n",
      "2024-09-21 22:07:25,551 - INFO - Project folder: c:\\GH\\ras-commander\\examples\\example_projects\\Muncie\n",
      "2024-09-21 22:07:25,552 - INFO - PRJ file: C:\\GH\\ras-commander\\examples\\example_projects\\Muncie\\Muncie.prj\n",
      "2024-09-21 22:07:25,554 - INFO - HEC-RAS executable: C:\\Program Files (x86)\\HEC\\HEC-RAS\\6.5\\Ras.exe\n",
      "2024-09-21 22:07:25,554 - INFO - Plan files:\n",
      "2024-09-21 22:07:25,557 - INFO - \n",
      "  plan_number                                          full_path  \\\n",
      "0          01  c:\\GH\\ras-commander\\examples\\example_projects\\...   \n",
      "1          03  c:\\GH\\ras-commander\\examples\\example_projects\\...   \n",
      "2          04  c:\\GH\\ras-commander\\examples\\example_projects\\...   \n",
      "\n",
      "  HDF_Results_Path  \n",
      "0             None  \n",
      "1             None  \n",
      "2             None  \n",
      "2024-09-21 22:07:25,558 - INFO - Flow files:\n",
      "2024-09-21 22:07:25,560 - INFO - \n",
      "  flow_number                                          full_path\n",
      "0          01  c:\\GH\\ras-commander\\examples\\example_projects\\...\n",
      "2024-09-21 22:07:25,562 - INFO - Unsteady flow files:\n",
      "2024-09-21 22:07:25,564 - INFO - \n",
      "  unsteady_number                                          full_path\n",
      "0              01  c:\\GH\\ras-commander\\examples\\example_projects\\...\n",
      "2024-09-21 22:07:25,564 - INFO - Geometry files:\n",
      "2024-09-21 22:07:25,567 - INFO - \n",
      "  geom_number                                          full_path\n",
      "0          01  c:\\GH\\ras-commander\\examples\\example_projects\\...\n",
      "1          02  c:\\GH\\ras-commander\\examples\\example_projects\\...\n",
      "2          04  c:\\GH\\ras-commander\\examples\\example_projects\\...\n",
      "2024-09-21 22:07:25,569 - INFO - HDF entries:\n",
      "2024-09-21 22:07:25,571 - INFO - No HDF entries found.\n",
      "2024-09-21 22:07:25,574 - INFO - \n",
      "Empty DataFrame\n",
      "Columns: [plan_number, full_path, HDF_Results_Path]\n",
      "Index: []\n",
      "2024-09-21 22:07:25,574 - INFO - ----------------------------\n",
      "2024-09-21 22:07:25,576 - INFO - --- Data for Muncie ---\n",
      "2024-09-21 22:07:25,576 - INFO - Project folder: c:\\GH\\ras-commander\\examples\\example_projects\\Muncie\n",
      "2024-09-21 22:07:25,577 - INFO - PRJ file: C:\\GH\\ras-commander\\examples\\example_projects\\Muncie\\Muncie.prj\n",
      "2024-09-21 22:07:25,578 - INFO - HEC-RAS executable: C:\\Program Files (x86)\\HEC\\HEC-RAS\\6.5\\Ras.exe\n",
      "2024-09-21 22:07:25,578 - INFO - Plan files:\n",
      "2024-09-21 22:07:25,581 - INFO - \n",
      "  plan_number                                          full_path  \\\n",
      "0          01  c:\\GH\\ras-commander\\examples\\example_projects\\...   \n",
      "1          03  c:\\GH\\ras-commander\\examples\\example_projects\\...   \n",
      "2          04  c:\\GH\\ras-commander\\examples\\example_projects\\...   \n",
      "\n",
      "  HDF_Results_Path  \n",
      "0             None  \n",
      "1             None  \n",
      "2             None  \n",
      "2024-09-21 22:07:25,582 - INFO - Flow files:\n",
      "2024-09-21 22:07:25,583 - INFO - \n",
      "  flow_number                                          full_path\n",
      "0          01  c:\\GH\\ras-commander\\examples\\example_projects\\...\n",
      "2024-09-21 22:07:25,586 - INFO - Unsteady flow files:\n",
      "2024-09-21 22:07:25,587 - INFO - \n",
      "  unsteady_number                                          full_path\n",
      "0              01  c:\\GH\\ras-commander\\examples\\example_projects\\...\n",
      "2024-09-21 22:07:25,588 - INFO - Geometry files:\n",
      "2024-09-21 22:07:25,590 - INFO - \n",
      "  geom_number                                          full_path\n",
      "0          01  c:\\GH\\ras-commander\\examples\\example_projects\\...\n",
      "1          02  c:\\GH\\ras-commander\\examples\\example_projects\\...\n",
      "2          04  c:\\GH\\ras-commander\\examples\\example_projects\\...\n",
      "2024-09-21 22:07:25,591 - INFO - HDF entries:\n",
      "2024-09-21 22:07:25,592 - INFO - No HDF entries found.\n",
      "2024-09-21 22:07:25,594 - INFO - \n",
      "Empty DataFrame\n",
      "Columns: [plan_number, full_path, HDF_Results_Path]\n",
      "Index: []\n",
      "2024-09-21 22:07:25,594 - INFO - ----------------------------\n",
      "2024-09-21 22:07:25,600 - INFO - No HDF entries found.\n"
     ]
    },
    {
     "name": "stdout",
     "output_type": "stream",
     "text": [
      "Example Set 1: Using the default global 'ras' object\n",
      "-----------------------------------------------------\n",
      "Step 1: Initializing with global RAS instance\n",
      "\n",
      "Step 2: Demonstrating accessing specific data\n",
      "Global RAS instance (Bald Eagle Creek) first plan file:\n",
      "plan_number                                                        01\n",
      "full_path           c:\\GH\\ras-commander\\examples\\example_projects\\...\n",
      "HDF_Results_Path                                                 None\n",
      "Name: 0, dtype: object\n",
      "\n",
      "Step 3: Accessing All RAS Object Data\n",
      "Project Name: BaldEagle\n",
      "Project Folder: c:\\GH\\ras-commander\\examples\\example_projects\\Balde Eagle Creek\n",
      "PRJ File: C:\\GH\\ras-commander\\examples\\example_projects\\Balde Eagle Creek\\BaldEagle.prj\n",
      "HEC-RAS Executable Path: C:\\Program Files (x86)\\HEC\\HEC-RAS\\6.5\\Ras.exe\n",
      "\n",
      "Plan Files DataFrame:\n",
      "  plan_number                                          full_path  \\\n",
      "0          01  c:\\GH\\ras-commander\\examples\\example_projects\\...   \n",
      "1          02  c:\\GH\\ras-commander\\examples\\example_projects\\...   \n",
      "\n",
      "  HDF_Results_Path  \n",
      "0             None  \n",
      "1             None  \n",
      "\n",
      "Flow Files DataFrame:\n",
      "  flow_number                                          full_path\n",
      "0          02  c:\\GH\\ras-commander\\examples\\example_projects\\...\n",
      "1          01  c:\\GH\\ras-commander\\examples\\example_projects\\...\n",
      "\n",
      "Unsteady Flow Files DataFrame:\n",
      "  unsteady_number                                          full_path\n",
      "0              02  c:\\GH\\ras-commander\\examples\\example_projects\\...\n",
      "\n",
      "Geometry Files DataFrame:\n",
      "  geom_number                                          full_path\n",
      "0          01  c:\\GH\\ras-commander\\examples\\example_projects\\...\n",
      "\n",
      "HDF Entries DataFrame:\n",
      "Empty DataFrame\n",
      "Columns: [plan_number, full_path, HDF_Results_Path]\n",
      "Index: []\n",
      "\n",
      "Example Set 2: Using custom ras objects\n",
      "-----------------------------------------------------\n",
      "Step 1: Initializing multiple project instances\n",
      "\n",
      "Multi2D project data:\n",
      "\n",
      "Muncie project data:\n",
      "\n",
      "Step 2: Accessing specific data from custom ras objects\n",
      "Multi2D project first geometry file:\n",
      "geom_number                                                   01\n",
      "full_path      c:\\GH\\ras-commander\\examples\\example_projects\\...\n",
      "Name: 0, dtype: object\n",
      "\n",
      "Muncie project first unsteady flow file:\n",
      "unsteady_number                                                   01\n",
      "full_path          c:\\GH\\ras-commander\\examples\\example_projects\\...\n",
      "Name: 0, dtype: object\n",
      "\n",
      "Step 3: Accessing All RAS Object Data for Multi2D Project\n",
      "Project Name: Muncie\n",
      "Project Folder: c:\\GH\\ras-commander\\examples\\example_projects\\Muncie\n",
      "PRJ File: C:\\GH\\ras-commander\\examples\\example_projects\\Muncie\\Muncie.prj\n",
      "HEC-RAS Executable Path: C:\\Program Files (x86)\\HEC\\HEC-RAS\\6.5\\Ras.exe\n",
      "\n",
      "Plan Files DataFrame:\n",
      "  plan_number                                          full_path  \\\n",
      "0          01  c:\\GH\\ras-commander\\examples\\example_projects\\...   \n",
      "1          03  c:\\GH\\ras-commander\\examples\\example_projects\\...   \n",
      "2          04  c:\\GH\\ras-commander\\examples\\example_projects\\...   \n",
      "\n",
      "  HDF_Results_Path  \n",
      "0             None  \n",
      "1             None  \n",
      "2             None  \n",
      "\n",
      "Flow Files DataFrame:\n",
      "  flow_number                                          full_path\n",
      "0          01  c:\\GH\\ras-commander\\examples\\example_projects\\...\n",
      "\n",
      "Unsteady Flow Files DataFrame:\n",
      "  unsteady_number                                          full_path\n",
      "0              01  c:\\GH\\ras-commander\\examples\\example_projects\\...\n",
      "\n",
      "Geometry Files DataFrame:\n",
      "  geom_number                                          full_path\n",
      "0          01  c:\\GH\\ras-commander\\examples\\example_projects\\...\n",
      "1          02  c:\\GH\\ras-commander\\examples\\example_projects\\...\n",
      "2          04  c:\\GH\\ras-commander\\examples\\example_projects\\...\n",
      "\n",
      "HDF Entries DataFrame:\n",
      "Empty DataFrame\n",
      "Columns: [plan_number, full_path, HDF_Results_Path]\n",
      "Index: []\n",
      "\n",
      "Example of simplified import (not recommended for complex scripts)\n",
      "-----------------------------------------------------\n",
      "from ras_commander import *\n",
      "# This allows you to use all functions and classes without prefixes\n",
      "# For example: compute_plan() instead of RasCmdr.compute_plan()\n",
      "# Note: This approach can lead to naming conflicts and is generally not recommended for larger scripts\n",
      "\n",
      "\n"
     ]
    }
   ],
   "source": [
    "# Example 1: Import and execute 01_project_initialization.py\n",
    "print(\"Executing 01_project_initialization.py:\")\n",
    "%run 01_project_initialization.py\n",
    "print(\"\\n\")"
   ]
  },
  {
   "cell_type": "markdown",
   "metadata": {},
   "source": [
    "-----"
   ]
  },
  {
   "cell_type": "code",
   "execution_count": 5,
   "metadata": {},
   "outputs": [],
   "source": [
    "import time\n",
    "\n",
    "# wait 10 seconds\n",
    "time.sleep(10)"
   ]
  },
  {
   "cell_type": "code",
   "execution_count": 6,
   "metadata": {},
   "outputs": [
    {
     "name": "stderr",
     "output_type": "stream",
     "text": [
      "2024-09-21 22:07:35,621 - INFO - Example projects folder: c:\\GH\\ras-commander\\examples\\example_projects\n",
      "2024-09-21 22:07:35,622 - INFO - Found zip file: c:\\GH\\ras-commander\\examples\\Example_Projects_6_5.zip\n",
      "2024-09-21 22:07:35,622 - INFO - Loading project data from CSV...\n",
      "2024-09-21 22:07:35,624 - INFO - Loaded 66 projects from CSV. Use list_categories() and list_projects() to explore them.\n",
      "2024-09-21 22:07:35,625 - INFO - ----- RasExamples Extracting Project -----\n",
      "2024-09-21 22:07:35,625 - INFO - Extracting project 'Balde Eagle Creek'\n",
      "2024-09-21 22:07:35,626 - INFO - Project 'Balde Eagle Creek' already exists. Deleting existing folder...\n",
      "2024-09-21 22:07:35,631 - INFO - Existing folder for project 'Balde Eagle Creek' has been deleted.\n",
      "2024-09-21 22:07:35,681 - INFO - Successfully extracted project 'Balde Eagle Creek' to c:\\GH\\ras-commander\\examples\\example_projects\\Balde Eagle Creek\n",
      "2024-09-21 22:07:35,682 - INFO - ----- RasExamples Extraction Complete -----\n",
      "2024-09-21 22:07:35,684 - INFO - HEC-RAS executable found at default path: C:\\Program Files (x86)\\HEC\\HEC-RAS\\6.5\\Ras.exe\n",
      "2024-09-21 22:07:35,684 - INFO - Initializing global 'ras' object via init_ras_project function.\n",
      "2024-09-21 22:07:35,685 - INFO - Single .prj file found: c:\\GH\\ras-commander\\examples\\example_projects\\Balde Eagle Creek\\BaldEagle.prj\n",
      "2024-09-21 22:07:35,689 - INFO - Initialization complete for project: BaldEagle\n",
      "2024-09-21 22:07:35,689 - INFO - Plan entries: 2, Flow entries: 2, Unsteady entries: 1, Geometry entries: 1\n",
      "2024-09-21 22:07:35,694 - INFO - Copied c:\\GH\\ras-commander\\examples\\example_projects\\Balde Eagle Creek\\BaldEagle.p01 to c:\\GH\\ras-commander\\examples\\example_projects\\Balde Eagle Creek\\BaldEagle.p03\n",
      "2024-09-21 22:07:35,695 - INFO - Updated 'Short Identifier' to 'UnsteadyFlow_copy' in c:\\GH\\ras-commander\\examples\\example_projects\\Balde Eagle Creek\\BaldEagle.p03\n",
      "2024-09-21 22:07:35,696 - INFO - Updated short identifier in c:\\GH\\ras-commander\\examples\\example_projects\\Balde Eagle Creek\\BaldEagle.p03\n",
      "2024-09-21 22:07:35,697 - INFO - Inserted new plan line after index 9\n",
      "2024-09-21 22:07:35,698 - INFO - Updated C:\\GH\\ras-commander\\examples\\example_projects\\Balde Eagle Creek\\BaldEagle.prj with new plan p03\n",
      "2024-09-21 22:07:35,699 - INFO - Single .prj file found: c:\\GH\\ras-commander\\examples\\example_projects\\Balde Eagle Creek\\BaldEagle.prj\n",
      "2024-09-21 22:07:35,702 - INFO - Initialization complete for project: BaldEagle\n",
      "2024-09-21 22:07:35,702 - INFO - Plan entries: 3, Flow entries: 2, Unsteady entries: 1, Geometry entries: 1\n",
      "2024-09-21 22:07:35,709 - INFO - Copied 'c:\\GH\\ras-commander\\examples\\example_projects\\Balde Eagle Creek\\BaldEagle.g01' to 'c:\\GH\\ras-commander\\examples\\example_projects\\Balde Eagle Creek\\BaldEagle.g02'.\n",
      "2024-09-21 22:07:35,711 - INFO - Copied 'c:\\GH\\ras-commander\\examples\\example_projects\\Balde Eagle Creek\\BaldEagle.g01.hdf' to 'c:\\GH\\ras-commander\\examples\\example_projects\\Balde Eagle Creek\\BaldEagle.g02.hdf'.\n",
      "2024-09-21 22:07:35,712 - INFO - Inserted new geometry line after index 4\n",
      "2024-09-21 22:07:35,713 - INFO - Updated C:\\GH\\ras-commander\\examples\\example_projects\\Balde Eagle Creek\\BaldEagle.prj with new geometry file g02\n",
      "2024-09-21 22:07:35,718 - INFO - Copied c:\\GH\\ras-commander\\examples\\example_projects\\Balde Eagle Creek\\BaldEagle.u02 to c:\\GH\\ras-commander\\examples\\example_projects\\Balde Eagle Creek\\BaldEagle.u01\n",
      "2024-09-21 22:07:35,721 - INFO - Copied c:\\GH\\ras-commander\\examples\\example_projects\\Balde Eagle Creek\\BaldEagle.u02.hdf to c:\\GH\\ras-commander\\examples\\example_projects\\Balde Eagle Creek\\BaldEagle.u01.hdf\n",
      "2024-09-21 22:07:35,722 - INFO - Inserted new unsteady flow line at index 8\n",
      "2024-09-21 22:07:35,724 - INFO - Updated C:\\GH\\ras-commander\\examples\\example_projects\\Balde Eagle Creek\\BaldEagle.prj with new unsteady flow file u01\n",
      "2024-09-21 22:07:35,726 - INFO - Single .prj file found: c:\\GH\\ras-commander\\examples\\example_projects\\Balde Eagle Creek\\BaldEagle.prj\n",
      "2024-09-21 22:07:35,729 - INFO - Initialization complete for project: BaldEagle\n",
      "2024-09-21 22:07:35,730 - INFO - Plan entries: 3, Flow entries: 2, Unsteady entries: 2, Geometry entries: 2\n",
      "2024-09-21 22:07:35,735 - INFO - Geometry for plan 03 set to 02\n",
      "2024-09-21 22:07:35,737 - INFO - Updated project file with new geometry for plan 03\n",
      "2024-09-21 22:07:35,739 - INFO - Single .prj file found: c:\\GH\\ras-commander\\examples\\example_projects\\Balde Eagle Creek\\BaldEagle.prj\n",
      "2024-09-21 22:07:35,742 - INFO - Initialization complete for project: BaldEagle\n",
      "2024-09-21 22:07:35,743 - INFO - Plan entries: 3, Flow entries: 2, Unsteady entries: 2, Geometry entries: 2\n",
      "2024-09-21 22:07:35,746 - INFO - Plan file for Plan number 03 found at: c:\\GH\\ras-commander\\examples\\example_projects\\Balde Eagle Creek\\BaldEagle.p03\n",
      "2024-09-21 22:07:35,746 - INFO - Setting unsteady flow file to 01 in Plan 03\n",
      "2024-09-21 22:07:35,749 - INFO - Plan file for Plan number 03 found at: c:\\GH\\ras-commander\\examples\\example_projects\\Balde Eagle Creek\\BaldEagle.p03\n",
      "2024-09-21 22:07:35,750 - WARNING - Search pattern 'Unsteady File=' not found in c:\\GH\\ras-commander\\examples\\example_projects\\Balde Eagle Creek\\BaldEagle.p03. No update performed.\n",
      "2024-09-21 22:07:35,753 - INFO - Successfully updated plan file: c:\\GH\\ras-commander\\examples\\example_projects\\Balde Eagle Creek\\BaldEagle.p03\n",
      "2024-09-21 22:07:35,758 - INFO - RAS object dataframes have been refreshed.\n",
      "2024-09-21 22:07:35,759 - INFO - Updated unsteady flow file in c:\\GH\\ras-commander\\examples\\example_projects\\Balde Eagle Creek\\BaldEagle.p03 to u01\n",
      "2024-09-21 22:07:35,762 - INFO - Setting num_cores to 2 in Plan 03\n",
      "2024-09-21 22:07:35,766 - INFO - Plan file for Plan number 03 found at: c:\\GH\\ras-commander\\examples\\example_projects\\Balde Eagle Creek\\BaldEagle.p03\n",
      "2024-09-21 22:07:35,769 - INFO - Updated c:\\GH\\ras-commander\\examples\\example_projects\\Balde Eagle Creek\\BaldEagle.p03 with 2 cores.\n",
      "2024-09-21 22:07:35,773 - INFO - Reading the file: c:\\GH\\ras-commander\\examples\\example_projects\\Balde Eagle Creek\\BaldEagle.p03\n",
      "2024-09-21 22:07:35,775 - INFO - Updating the file with new settings...\n",
      "2024-09-21 22:07:35,775 - INFO - Updated 'Run HTab' to -1\n",
      "2024-09-21 22:07:35,775 - INFO - Updated 'UNET Use Existing IB Tables' to -1\n",
      "2024-09-21 22:07:35,777 - INFO - Writing the updated settings back to the file: c:\\GH\\ras-commander\\examples\\example_projects\\Balde Eagle Creek\\BaldEagle.p03\n",
      "2024-09-21 22:07:35,779 - INFO - File update completed successfully.\n",
      "2024-09-21 22:07:35,784 - INFO - Plan file for Plan number 03 found at: c:\\GH\\ras-commander\\examples\\example_projects\\Balde Eagle Creek\\BaldEagle.p03\n",
      "2024-09-21 22:07:35,785 - INFO - Running HEC-RAS from the Command Line:\n",
      "2024-09-21 22:07:35,786 - INFO - Running command: \"C:\\Program Files (x86)\\HEC\\HEC-RAS\\6.5\\Ras.exe\" -c \"C:\\GH\\ras-commander\\examples\\example_projects\\Balde Eagle Creek\\BaldEagle.prj\" \"c:\\GH\\ras-commander\\examples\\example_projects\\Balde Eagle Creek\\BaldEagle.p03\"\n"
     ]
    },
    {
     "name": "stdout",
     "output_type": "stream",
     "text": [
      "Executing 02_plan_operations.py:\n",
      "Initial plan files:\n",
      "  plan_number                                          full_path  \\\n",
      "0          01  c:\\GH\\ras-commander\\examples\\example_projects\\...   \n",
      "1          02  c:\\GH\\ras-commander\\examples\\example_projects\\...   \n",
      "\n",
      "  HDF_Results_Path  \n",
      "0             None  \n",
      "1             None  \n",
      "\n",
      "Step 1: Cloning a plan\n",
      "New plan created: 03\n",
      "Updated plan files:\n",
      "  plan_number                                          full_path  \\\n",
      "0          01  c:\\GH\\ras-commander\\examples\\example_projects\\...   \n",
      "1          02  c:\\GH\\ras-commander\\examples\\example_projects\\...   \n",
      "2          03  c:\\GH\\ras-commander\\examples\\example_projects\\...   \n",
      "\n",
      "  HDF_Results_Path  \n",
      "0             None  \n",
      "1             None  \n",
      "2             None  \n",
      "\n",
      "Step 2: Cloning a geometry\n",
      "New geometry created: 02\n",
      "Updated geometry files:\n",
      "  geom_number                                          full_path\n",
      "0          01  c:\\GH\\ras-commander\\examples\\example_projects\\...\n",
      "1          02  c:\\GH\\ras-commander\\examples\\example_projects\\...\n",
      "\n",
      "Step 3: Cloning an unsteady flow\n",
      "New unsteady flow created: 01\n",
      "Updated unsteady flow files:\n",
      "  unsteady_number                                          full_path\n",
      "0              01  c:\\GH\\ras-commander\\examples\\example_projects\\...\n",
      "1              02  c:\\GH\\ras-commander\\examples\\example_projects\\...\n",
      "\n",
      "Step 4: Setting geometry for a plan\n",
      "Updated geometry for plan 03\n",
      "Plan file path: c:\\GH\\ras-commander\\examples\\example_projects\\Balde Eagle Creek\\BaldEagle.p03\n",
      "\n",
      "Step 5: Setting unsteady flow for a plan\n",
      "Updated unsteady flow for plan 03\n",
      "\n",
      "Step 6: Setting the number of cores for a plan\n",
      "Updated number of cores for plan 03\n",
      "\n",
      "Step 7: Setting geometry preprocessor options\n",
      "Updated geometry preprocessor options for plan 03\n",
      "Step 8: Computing the cloned plan\n"
     ]
    },
    {
     "name": "stderr",
     "output_type": "stream",
     "text": [
      "2024-09-21 22:10:15,245 - INFO - HEC-RAS execution completed for plan: 03\n",
      "2024-09-21 22:10:15,245 - INFO - Total run time for plan 03: 159.46 seconds\n",
      "2024-09-21 22:10:15,248 - INFO - Found 1 HDF entries.\n"
     ]
    },
    {
     "name": "stdout",
     "output_type": "stream",
     "text": [
      "Computing plan 03\n",
      "Plan 03 computed successfully\n",
      "\n",
      "Step 9: Retrieving HDF entries for the cloned plan\n",
      "HDF entries for the cloned plan:\n",
      "  plan_number                                          full_path  \\\n",
      "2          03  c:\\GH\\ras-commander\\examples\\example_projects\\...   \n",
      "\n",
      "                                    HDF_Results_Path  \n",
      "2  c:\\GH\\ras-commander\\examples\\example_projects\\...  \n",
      "\n",
      "Current plan entries:\n",
      "  plan_number                                          full_path  \\\n",
      "0          01  c:\\GH\\ras-commander\\examples\\example_projects\\...   \n",
      "1          02  c:\\GH\\ras-commander\\examples\\example_projects\\...   \n",
      "2          03  c:\\GH\\ras-commander\\examples\\example_projects\\...   \n",
      "\n",
      "                                    HDF_Results_Path  \n",
      "0                                               None  \n",
      "1                                               None  \n",
      "2  c:\\GH\\ras-commander\\examples\\example_projects\\...  \n",
      "\n",
      "\n"
     ]
    }
   ],
   "source": [
    "# Example 2: Import and execute 02_plan_operations.py\n",
    "print(\"Executing 02_plan_operations.py:\")\n",
    "%run 02_plan_operations.py\n",
    "print(\"\\n\")"
   ]
  },
  {
   "cell_type": "markdown",
   "metadata": {},
   "source": [
    "-----"
   ]
  },
  {
   "cell_type": "code",
   "execution_count": 7,
   "metadata": {},
   "outputs": [],
   "source": [
    "# wait 10 seconds\n",
    "time.sleep(10)"
   ]
  },
  {
   "cell_type": "code",
   "execution_count": 8,
   "metadata": {},
   "outputs": [
    {
     "name": "stderr",
     "output_type": "stream",
     "text": [
      "2024-09-21 22:10:25,270 - INFO - Example projects folder: c:\\GH\\ras-commander\\examples\\example_projects\n",
      "2024-09-21 22:10:25,271 - INFO - Found zip file: c:\\GH\\ras-commander\\examples\\Example_Projects_6_5.zip\n",
      "2024-09-21 22:10:25,272 - INFO - Loading project data from CSV...\n",
      "2024-09-21 22:10:25,273 - INFO - Loaded 66 projects from CSV. Use list_categories() and list_projects() to explore them.\n",
      "2024-09-21 22:10:25,274 - INFO - ----- RasExamples Extracting Project -----\n",
      "2024-09-21 22:10:25,274 - INFO - Extracting project 'Muncie'\n",
      "2024-09-21 22:10:25,275 - INFO - Project 'Muncie' already exists. Deleting existing folder...\n",
      "2024-09-21 22:10:25,297 - INFO - Existing folder for project 'Muncie' has been deleted.\n"
     ]
    },
    {
     "name": "stdout",
     "output_type": "stream",
     "text": [
      "Executing 03_geometry_operations.py:\n"
     ]
    },
    {
     "name": "stderr",
     "output_type": "stream",
     "text": [
      "2024-09-21 22:10:25,611 - INFO - Successfully extracted project 'Muncie' to c:\\GH\\ras-commander\\examples\\example_projects\\Muncie\n",
      "2024-09-21 22:10:25,611 - INFO - ----- RasExamples Extraction Complete -----\n",
      "2024-09-21 22:10:25,612 - INFO - HEC-RAS executable found at default path: C:\\Program Files (x86)\\HEC\\HEC-RAS\\6.5\\Ras.exe\n",
      "2024-09-21 22:10:25,613 - INFO - Initializing global 'ras' object via init_ras_project function.\n",
      "2024-09-21 22:10:25,614 - INFO - Single .prj file found: c:\\GH\\ras-commander\\examples\\example_projects\\Muncie\\Muncie.prj\n",
      "2024-09-21 22:10:25,617 - INFO - Initialization complete for project: Muncie\n",
      "2024-09-21 22:10:25,617 - INFO - Plan entries: 3, Flow entries: 1, Unsteady entries: 1, Geometry entries: 3\n",
      "2024-09-21 22:10:25,622 - INFO - Copied c:\\GH\\ras-commander\\examples\\example_projects\\Muncie\\Muncie.p01 to c:\\GH\\ras-commander\\examples\\example_projects\\Muncie\\Muncie.p02\n",
      "2024-09-21 22:10:25,623 - INFO - Updated 'Short Identifier' to '9-SAs_copy' in c:\\GH\\ras-commander\\examples\\example_projects\\Muncie\\Muncie.p02\n",
      "2024-09-21 22:10:25,624 - INFO - Updated short identifier in c:\\GH\\ras-commander\\examples\\example_projects\\Muncie\\Muncie.p02\n",
      "2024-09-21 22:10:25,625 - INFO - Inserted new plan line at index 10\n",
      "2024-09-21 22:10:25,626 - INFO - Updated C:\\GH\\ras-commander\\examples\\example_projects\\Muncie\\Muncie.prj with new plan p02\n",
      "2024-09-21 22:10:25,627 - INFO - Single .prj file found: c:\\GH\\ras-commander\\examples\\example_projects\\Muncie\\Muncie.prj\n",
      "2024-09-21 22:10:25,629 - INFO - Initialization complete for project: Muncie\n",
      "2024-09-21 22:10:25,630 - INFO - Plan entries: 4, Flow entries: 1, Unsteady entries: 1, Geometry entries: 3\n",
      "2024-09-21 22:10:25,636 - INFO - Copied 'c:\\GH\\ras-commander\\examples\\example_projects\\Muncie\\Muncie.g01' to 'c:\\GH\\ras-commander\\examples\\example_projects\\Muncie\\Muncie.g03'.\n",
      "2024-09-21 22:10:25,638 - INFO - Copied 'c:\\GH\\ras-commander\\examples\\example_projects\\Muncie\\Muncie.g01.hdf' to 'c:\\GH\\ras-commander\\examples\\example_projects\\Muncie\\Muncie.g03.hdf'.\n",
      "2024-09-21 22:10:25,639 - INFO - Inserted new geometry line at index 6\n",
      "2024-09-21 22:10:25,640 - INFO - Updated C:\\GH\\ras-commander\\examples\\example_projects\\Muncie\\Muncie.prj with new geometry file g03\n",
      "2024-09-21 22:10:25,645 - INFO - Geometry for plan 02 set to 03\n",
      "2024-09-21 22:10:25,646 - INFO - Updated project file with new geometry for plan 02\n",
      "2024-09-21 22:10:25,648 - INFO - Single .prj file found: c:\\GH\\ras-commander\\examples\\example_projects\\Muncie\\Muncie.prj\n",
      "2024-09-21 22:10:25,650 - INFO - Initialization complete for project: Muncie\n",
      "2024-09-21 22:10:25,651 - INFO - Plan entries: 4, Flow entries: 1, Unsteady entries: 1, Geometry entries: 4\n",
      "2024-09-21 22:10:25,653 - INFO - Plan file for Plan number 02 found at: c:\\GH\\ras-commander\\examples\\example_projects\\Muncie\\Muncie.p02\n",
      "2024-09-21 22:10:25,654 - INFO - Clearing geometry preprocessor file for single plan: c:\\GH\\ras-commander\\examples\\example_projects\\Muncie\\Muncie.p02\n",
      "2024-09-21 22:10:25,654 - WARNING - No geometry preprocessor file found for: c:\\GH\\ras-commander\\examples\\example_projects\\Muncie\\Muncie.p02\n",
      "2024-09-21 22:10:25,655 - INFO - Geometry dataframe updated successfully.\n",
      "2024-09-21 22:10:25,656 - INFO - Clearing all geometry preprocessor files in the project directory.\n",
      "2024-09-21 22:10:25,657 - WARNING - No geometry preprocessor file found for: c:\\GH\\ras-commander\\examples\\example_projects\\Muncie\\Muncie.p01\n",
      "2024-09-21 22:10:25,657 - WARNING - No geometry preprocessor file found for: c:\\GH\\ras-commander\\examples\\example_projects\\Muncie\\Muncie.p02\n",
      "2024-09-21 22:10:25,658 - WARNING - No geometry preprocessor file found for: c:\\GH\\ras-commander\\examples\\example_projects\\Muncie\\Muncie.p03\n",
      "2024-09-21 22:10:25,658 - WARNING - No geometry preprocessor file found for: c:\\GH\\ras-commander\\examples\\example_projects\\Muncie\\Muncie.p04\n",
      "2024-09-21 22:10:25,659 - WARNING - No geometry preprocessor file found for: c:\\GH\\ras-commander\\examples\\example_projects\\Muncie\\Muncie.prj\n",
      "2024-09-21 22:10:25,660 - INFO - Geometry dataframe updated successfully.\n",
      "2024-09-21 22:10:25,663 - INFO - Plan file for Plan number 02 found at: c:\\GH\\ras-commander\\examples\\example_projects\\Muncie\\Muncie.p02\n",
      "2024-09-21 22:10:25,663 - INFO - Running HEC-RAS from the Command Line:\n",
      "2024-09-21 22:10:25,664 - INFO - Running command: \"C:\\Program Files (x86)\\HEC\\HEC-RAS\\6.5\\Ras.exe\" -c \"C:\\GH\\ras-commander\\examples\\example_projects\\Muncie\\Muncie.prj\" \"c:\\GH\\ras-commander\\examples\\example_projects\\Muncie\\Muncie.p02\"\n"
     ]
    },
    {
     "name": "stdout",
     "output_type": "stream",
     "text": [
      "Initial plan files:\n",
      "  plan_number                                          full_path  \\\n",
      "0          01  c:\\GH\\ras-commander\\examples\\example_projects\\...   \n",
      "1          03  c:\\GH\\ras-commander\\examples\\example_projects\\...   \n",
      "2          04  c:\\GH\\ras-commander\\examples\\example_projects\\...   \n",
      "\n",
      "  HDF_Results_Path  \n",
      "0             None  \n",
      "1             None  \n",
      "2             None  \n",
      "\n",
      "Step 1: Cloning a plan\n",
      "New plan created: 02\n",
      "Updated plan files:\n",
      "  plan_number                                          full_path  \\\n",
      "0          01  c:\\GH\\ras-commander\\examples\\example_projects\\...   \n",
      "1          02  c:\\GH\\ras-commander\\examples\\example_projects\\...   \n",
      "2          03  c:\\GH\\ras-commander\\examples\\example_projects\\...   \n",
      "3          04  c:\\GH\\ras-commander\\examples\\example_projects\\...   \n",
      "\n",
      "  HDF_Results_Path  \n",
      "0             None  \n",
      "1             None  \n",
      "2             None  \n",
      "3             None  \n",
      "\n",
      "Step 2: Cloning a geometry file and assigning it to the cloned plan\n",
      "New geometry created: 03\n",
      "Now set the new geometry to the new plan\n",
      "New geometry 03 assigned to plan 02\n",
      "Updated geometry files:\n",
      "  geom_number                                          full_path\n",
      "0          01  c:\\GH\\ras-commander\\examples\\example_projects\\...\n",
      "1          02  c:\\GH\\ras-commander\\examples\\example_projects\\...\n",
      "2          03  c:\\GH\\ras-commander\\examples\\example_projects\\...\n",
      "3          04  c:\\GH\\ras-commander\\examples\\example_projects\\...\n",
      "\n",
      "Step 3: Clearing geometry preprocessor files for the cloned plan\n",
      "Cleared geometry preprocessor files for plan 02\n",
      "\n",
      "Step 4: Clearing geometry preprocessor files for all plans\n",
      "Cleared geometry preprocessor files for all plans\n",
      "\n",
      "Step 5: Updated plan information\n",
      "  plan_number                                          full_path  \\\n",
      "0          01  c:\\GH\\ras-commander\\examples\\example_projects\\...   \n",
      "1          02  c:\\GH\\ras-commander\\examples\\example_projects\\...   \n",
      "2          03  c:\\GH\\ras-commander\\examples\\example_projects\\...   \n",
      "3          04  c:\\GH\\ras-commander\\examples\\example_projects\\...   \n",
      "\n",
      "  HDF_Results_Path  \n",
      "0             None  \n",
      "1             None  \n",
      "2             None  \n",
      "3             None  \n",
      "\n",
      "Step 6: Computing the cloned plan\n"
     ]
    },
    {
     "name": "stderr",
     "output_type": "stream",
     "text": [
      "2024-09-21 22:10:46,523 - INFO - HEC-RAS execution completed for plan: 02\n",
      "2024-09-21 22:10:46,523 - INFO - Total run time for plan 02: 20.86 seconds\n",
      "2024-09-21 22:10:46,525 - INFO - Results file for Plan number 02 exists at: c:\\GH\\ras-commander\\examples\\example_projects\\Muncie\\Muncie.p02.hdf\n",
      "2024-09-21 22:10:46,527 - WARNING - Results file for Plan number 01 does not exist.\n"
     ]
    },
    {
     "name": "stdout",
     "output_type": "stream",
     "text": [
      "Computing plan 02\n",
      "Plan 02 computed successfully\n",
      "\n",
      "Step 7: Getting results paths\n",
      "Results for plan 02 are located at: c:\\GH\\ras-commander\\examples\\example_projects\\Muncie\\Muncie.p02.hdf\n",
      "No results found for plan 01\n",
      "\n",
      "\n"
     ]
    }
   ],
   "source": [
    "# Example 3: Import and execute 03_geometry_operations.py\n",
    "print(\"Executing 03_geometry_operations.py:\")\n",
    "%run 03_geometry_operations.py\n",
    "print(\"\\n\")"
   ]
  },
  {
   "cell_type": "markdown",
   "metadata": {},
   "source": [
    "-----"
   ]
  },
  {
   "cell_type": "code",
   "execution_count": 9,
   "metadata": {},
   "outputs": [],
   "source": [
    "# wait 10 seconds\n",
    "time.sleep(10)"
   ]
  },
  {
   "cell_type": "code",
   "execution_count": 10,
   "metadata": {},
   "outputs": [
    {
     "name": "stderr",
     "output_type": "stream",
     "text": [
      "2024-09-21 22:10:56,547 - INFO - Example projects folder: c:\\GH\\ras-commander\\examples\\example_projects\n",
      "2024-09-21 22:10:56,548 - INFO - Found zip file: c:\\GH\\ras-commander\\examples\\Example_Projects_6_5.zip\n",
      "2024-09-21 22:10:56,548 - INFO - Loading project data from CSV...\n",
      "2024-09-21 22:10:56,550 - INFO - Loaded 66 projects from CSV. Use list_categories() and list_projects() to explore them.\n",
      "2024-09-21 22:10:56,551 - INFO - ----- RasExamples Extracting Project -----\n",
      "2024-09-21 22:10:56,551 - INFO - Extracting project 'Balde Eagle Creek'\n",
      "2024-09-21 22:10:56,552 - INFO - Project 'Balde Eagle Creek' already exists. Deleting existing folder...\n",
      "2024-09-21 22:10:56,564 - INFO - Existing folder for project 'Balde Eagle Creek' has been deleted.\n",
      "2024-09-21 22:10:56,615 - INFO - Successfully extracted project 'Balde Eagle Creek' to c:\\GH\\ras-commander\\examples\\example_projects\\Balde Eagle Creek\n",
      "2024-09-21 22:10:56,615 - INFO - ----- RasExamples Extraction Complete -----\n",
      "2024-09-21 22:10:56,616 - INFO - HEC-RAS executable found at default path: C:\\Program Files (x86)\\HEC\\HEC-RAS\\6.5\\Ras.exe\n",
      "2024-09-21 22:10:56,617 - INFO - Initializing global 'ras' object via init_ras_project function.\n",
      "2024-09-21 22:10:56,618 - INFO - Single .prj file found: c:\\GH\\ras-commander\\examples\\example_projects\\Balde Eagle Creek\\BaldEagle.prj\n",
      "2024-09-21 22:10:56,621 - INFO - Initialization complete for project: BaldEagle\n",
      "2024-09-21 22:10:56,621 - INFO - Plan entries: 2, Flow entries: 2, Unsteady entries: 1, Geometry entries: 1\n",
      "2024-09-21 22:10:56,627 - INFO - Copied c:\\GH\\ras-commander\\examples\\example_projects\\Balde Eagle Creek\\BaldEagle.p01 to c:\\GH\\ras-commander\\examples\\example_projects\\Balde Eagle Creek\\BaldEagle.p03\n",
      "2024-09-21 22:10:56,628 - INFO - Updated 'Short Identifier' to 'UnsteadyFlow_copy' in c:\\GH\\ras-commander\\examples\\example_projects\\Balde Eagle Creek\\BaldEagle.p03\n",
      "2024-09-21 22:10:56,629 - INFO - Updated short identifier in c:\\GH\\ras-commander\\examples\\example_projects\\Balde Eagle Creek\\BaldEagle.p03\n",
      "2024-09-21 22:10:56,631 - INFO - Inserted new plan line after index 9\n",
      "2024-09-21 22:10:56,632 - INFO - Updated C:\\GH\\ras-commander\\examples\\example_projects\\Balde Eagle Creek\\BaldEagle.prj with new plan p03\n",
      "2024-09-21 22:10:56,634 - INFO - Single .prj file found: c:\\GH\\ras-commander\\examples\\example_projects\\Balde Eagle Creek\\BaldEagle.prj\n",
      "2024-09-21 22:10:56,636 - INFO - Initialization complete for project: BaldEagle\n",
      "2024-09-21 22:10:56,637 - INFO - Plan entries: 3, Flow entries: 2, Unsteady entries: 1, Geometry entries: 1\n",
      "2024-09-21 22:10:56,642 - INFO - Plan file for Plan number 03 found at: c:\\GH\\ras-commander\\examples\\example_projects\\Balde Eagle Creek\\BaldEagle.p03\n",
      "2024-09-21 22:10:56,644 - INFO - Updated Simulation Date from 18FEB1999,0000,24FEB1999,0500 to 01JAN2023,0000,05JAN2023,2400\n",
      "2024-09-21 22:10:56,645 - INFO - Applied modifications to c:\\GH\\ras-commander\\examples\\example_projects\\Balde Eagle Creek\\BaldEagle.p03\n",
      "2024-09-21 22:10:56,647 - INFO - Updated Computation Interval from 2MIN to 1MIN\n",
      "2024-09-21 22:10:56,648 - INFO - Applied modifications to c:\\GH\\ras-commander\\examples\\example_projects\\Balde Eagle Creek\\BaldEagle.p03\n",
      "2024-09-21 22:10:56,649 - INFO - Updated Output Interval from 1HOUR to 15MIN\n",
      "2024-09-21 22:10:56,651 - INFO - Applied modifications to c:\\GH\\ras-commander\\examples\\example_projects\\Balde Eagle Creek\\BaldEagle.p03\n",
      "2024-09-21 22:10:56,652 - INFO - Updated Mapping Interval from 1HOUR to 30MIN\n",
      "2024-09-21 22:10:56,654 - INFO - Applied modifications to c:\\GH\\ras-commander\\examples\\example_projects\\Balde Eagle Creek\\BaldEagle.p03\n",
      "2024-09-21 22:10:56,656 - INFO - Plan file for Plan number 03 found at: c:\\GH\\ras-commander\\examples\\example_projects\\Balde Eagle Creek\\BaldEagle.p03\n",
      "2024-09-21 22:10:56,657 - INFO - Running HEC-RAS from the Command Line:\n",
      "2024-09-21 22:10:56,658 - INFO - Running command: \"C:\\Program Files (x86)\\HEC\\HEC-RAS\\6.5\\Ras.exe\" -c \"C:\\GH\\ras-commander\\examples\\example_projects\\Balde Eagle Creek\\BaldEagle.prj\" \"c:\\GH\\ras-commander\\examples\\example_projects\\Balde Eagle Creek\\BaldEagle.p03\"\n"
     ]
    },
    {
     "name": "stdout",
     "output_type": "stream",
     "text": [
      "Executing 04_unsteady_flow_operations.py:\n",
      "Initial plan files:\n",
      "  plan_number                                          full_path  \\\n",
      "0          01  c:\\GH\\ras-commander\\examples\\example_projects\\...   \n",
      "1          02  c:\\GH\\ras-commander\\examples\\example_projects\\...   \n",
      "\n",
      "  HDF_Results_Path  \n",
      "0             None  \n",
      "1             None  \n",
      "\n",
      "Step 1: Cloning a plan\n",
      "New plan created: 03\n",
      "Updated plan files:\n",
      "  plan_number                                          full_path  \\\n",
      "0          01  c:\\GH\\ras-commander\\examples\\example_projects\\...   \n",
      "1          02  c:\\GH\\ras-commander\\examples\\example_projects\\...   \n",
      "2          03  c:\\GH\\ras-commander\\examples\\example_projects\\...   \n",
      "\n",
      "  HDF_Results_Path  \n",
      "0             None  \n",
      "1             None  \n",
      "2             None  \n",
      "\n",
      "Step 3: Updating unsteady flow parameters individually\n",
      "Updated parameters individually\n",
      "\n",
      "Step 4: Updating unsteady flow parameters in batch\n",
      "Updated parameters in batch\n",
      "\n",
      "Step 5: Verifying changes\n",
      "Updated Simulation Date=01JAN2023,0000,05JAN2023,2400\n",
      "Updated Computation Interval=1MIN\n",
      "Updated Output Interval=15MIN\n",
      "Updated Mapping Interval=30MIN\n",
      "\n",
      "Step 6: Computing the updated plan\n"
     ]
    },
    {
     "name": "stderr",
     "output_type": "stream",
     "text": [
      "2024-09-21 22:13:15,996 - INFO - HEC-RAS execution completed for plan: 03\n",
      "2024-09-21 22:13:15,997 - INFO - Total run time for plan 03: 139.34 seconds\n"
     ]
    },
    {
     "name": "stdout",
     "output_type": "stream",
     "text": [
      "Plan 03 computed successfully\n",
      "\n",
      "\n"
     ]
    }
   ],
   "source": [
    "# Example 4: Import and execute 04_unsteady_flow_operations.py\n",
    "print(\"Executing 04_unsteady_flow_operations.py:\")\n",
    "%run 04_unsteady_flow_operations.py\n",
    "print(\"\\n\")"
   ]
  },
  {
   "cell_type": "markdown",
   "metadata": {},
   "source": [
    "-----"
   ]
  },
  {
   "cell_type": "code",
   "execution_count": 11,
   "metadata": {},
   "outputs": [],
   "source": [
    "# wait 10 seconds\n",
    "time.sleep(10)"
   ]
  },
  {
   "cell_type": "code",
   "execution_count": null,
   "metadata": {},
   "outputs": [],
   "source": [
    "# Example 5: Import and execute 05_utility_functions.py\n",
    "print(\"Executing 05_utility_functions.py:\")\n",
    "%run 05_utility_functions.py\n",
    "print(\"\\n\")"
   ]
  },
  {
   "cell_type": "markdown",
   "metadata": {},
   "source": [
    "-----"
   ]
  },
  {
   "cell_type": "code",
   "execution_count": null,
   "metadata": {},
   "outputs": [],
   "source": [
    "# wait 10 seconds\n",
    "time.sleep(10)"
   ]
  },
  {
   "cell_type": "code",
   "execution_count": null,
   "metadata": {},
   "outputs": [],
   "source": [
    "# Example 6: Import and execute 06_single_plan_execution.py\n",
    "print(\"Executing 06_single_plan_execution.py:\")\n",
    "%run 06_single_plan_execution.py\n",
    "print(\"\\n\")"
   ]
  },
  {
   "cell_type": "markdown",
   "metadata": {},
   "source": [
    "-----"
   ]
  },
  {
   "cell_type": "code",
   "execution_count": null,
   "metadata": {},
   "outputs": [],
   "source": [
    "# wait 10 seconds\n",
    "time.sleep(10)"
   ]
  },
  {
   "cell_type": "code",
   "execution_count": null,
   "metadata": {},
   "outputs": [],
   "source": [
    "# Example 7: Import and execute 07_sequential_plan_execution.py\n",
    "print(\"Executing 07_sequential_plan_execution.py:\")\n",
    "%run 07_sequential_plan_execution.py\n",
    "print(\"\\n\")"
   ]
  },
  {
   "cell_type": "markdown",
   "metadata": {},
   "source": [
    "-----"
   ]
  },
  {
   "cell_type": "code",
   "execution_count": null,
   "metadata": {},
   "outputs": [],
   "source": [
    "# wait 10 seconds\n",
    "time.sleep(10)"
   ]
  },
  {
   "cell_type": "code",
   "execution_count": null,
   "metadata": {},
   "outputs": [],
   "source": [
    "# Example 8: Import and execute 08_parallel_execution.py\n",
    "print(\"Executing 08_parallel_execution.py:\")\n",
    "%run 08_parallel_execution.py\n",
    "print(\"\\n\")"
   ]
  },
  {
   "cell_type": "markdown",
   "metadata": {},
   "source": [
    "-----"
   ]
  },
  {
   "cell_type": "code",
   "execution_count": null,
   "metadata": {},
   "outputs": [],
   "source": [
    "# wait 10 seconds\n",
    "time.sleep(10)"
   ]
  },
  {
   "cell_type": "code",
   "execution_count": null,
   "metadata": {},
   "outputs": [],
   "source": [
    "# Example 9: Import and execute 09_specifying_plans.py\n",
    "print(\"Executing 09_specifying_plans.py:\")\n",
    "%run 09_specifying_plans.py\n",
    "print(\"\\n\")"
   ]
  },
  {
   "cell_type": "markdown",
   "metadata": {},
   "source": [
    "-----"
   ]
  },
  {
   "cell_type": "code",
   "execution_count": null,
   "metadata": {},
   "outputs": [],
   "source": [
    "# wait 10 seconds\n",
    "time.sleep(10)"
   ]
  },
  {
   "cell_type": "code",
   "execution_count": null,
   "metadata": {},
   "outputs": [],
   "source": [
    "print(\"Executing 10_arguments_for_compute.py:\")\n",
    "%run 10_arguments_for_compute.py\n",
    "print(\"\\n\")"
   ]
  },
  {
   "cell_type": "code",
   "execution_count": null,
   "metadata": {},
   "outputs": [],
   "source": [
    "# wait 10 seconds\n",
    "time.sleep(10)"
   ]
  },
  {
   "cell_type": "code",
   "execution_count": null,
   "metadata": {},
   "outputs": [],
   "source": [
    "print(\"Executing 12_plan_set_execution.py:\")\n",
    "%run 12_plan_set_execution.py\n",
    "print(\"\\n\")"
   ]
  },
  {
   "cell_type": "code",
   "execution_count": null,
   "metadata": {},
   "outputs": [],
   "source": [
    "# wait 10 seconds\n",
    "time.sleep(10)"
   ]
  },
  {
   "cell_type": "code",
   "execution_count": null,
   "metadata": {},
   "outputs": [],
   "source": [
    "print(\"Executing 13_multiple_project_operations.py:\")\n",
    "%run 13_multiple_project_operations.py\n",
    "print(\"\\n\")"
   ]
  },
  {
   "cell_type": "code",
   "execution_count": null,
   "metadata": {},
   "outputs": [],
   "source": [
    "# wait 10 seconds\n",
    "time.sleep(10)"
   ]
  },
  {
   "cell_type": "code",
   "execution_count": null,
   "metadata": {},
   "outputs": [],
   "source": [
    "print(\"Executing xx_edge_cases.py:\")\n",
    "%run xx_edge_cases.py\n",
    "print(\"\\n\")"
   ]
  }
 ],
 "metadata": {
  "kernelspec": {
   "display_name": "cmdr311",
   "language": "python",
   "name": "python3"
  },
  "language_info": {
   "codemirror_mode": {
    "name": "ipython",
    "version": 3
   },
   "file_extension": ".py",
   "mimetype": "text/x-python",
   "name": "python",
   "nbconvert_exporter": "python",
   "pygments_lexer": "ipython3",
   "version": "3.11.9"
  }
 },
 "nbformat": 4,
 "nbformat_minor": 2
}
