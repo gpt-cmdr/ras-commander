{
 "cells": [
  {
   "cell_type": "markdown",
   "metadata": {},
   "source": [
    "# Notebook for running all the examples in the examples folder\n",
    "\n",
    "This notebook also serves as a test of the ras_commander package using the HEC-RAS Project Examples provided by HEC.\n",
    "\n",
    "Example project names can be found in the example_projects.csv file after the examples are run.\n",
    "\n",
    "To use a different example, change the project name in the examples and run them directly or run this notebook.  \n"
   ]
  },
  {
   "cell_type": "markdown",
   "metadata": {},
   "source": [
    "The notebook format provides a convenient way to run all the examples to ensure that no features are broken after code revisions.  \n"
   ]
  },
  {
   "cell_type": "markdown",
   "metadata": {},
   "source": [
    "-----"
   ]
  },
  {
   "cell_type": "markdown",
   "metadata": {},
   "source": [
    "This table is a valuable reference for formulating examples and anticipating script behavior.\n",
    "\n",
    "| Project           | Type     | Existing Numbers | Next Available |\n",
    "|-------------------|----------|-------------------|----------------|\n",
    "| Balde Eagle Creek | Plan     | 01, 02            | 03             |\n",
    "|                   | Flow     | 01, 02            | 03             |\n",
    "|                   | Unsteady | 02                | 01, 03         |\n",
    "|                   | Geometry | 01                | 02             |\n",
    "| Muncie            | Plan     | 01, 03, 04        | 02, 05         |\n",
    "|                   | Flow     | 01                | 02             |\n",
    "|                   | Unsteady | 01                | 02             |\n",
    "|                   | Geometry | 01, 02, 04        | 03, 05         |\n",
    "\n",
    "Notes:\n",
    "1. For Balde Eagle Creek's Unsteady entries, 01 is available before 03. The library should use the lowest available number when creating new entries.\n",
    "2. For Muncie's Plan entries, both 02 and 05 are available. The library should use 02 first.\n",
    "3. For Muncie's Geometry entries, 03 is available before 05.\n",
    "\n",
    "When writing examples or scripts:\n",
    "1. Use existing numbers when referencing current plans, flows, unsteady setups, or geometries.\n",
    "2. When creating new entries (e.g., cloning), use the \"Next Available\" number and then increment for subsequent creations.\n",
    "3. After operations that create new entries, verify that the ras object has been updated to reflect these changes.\n",
    "\n",
    "This approach will help ensure that examples run as expected and that we're always working with valid, up-to-date data in our scripts."
   ]
  },
  {
   "cell_type": "markdown",
   "metadata": {},
   "source": [
    "-----"
   ]
  },
  {
   "cell_type": "markdown",
   "metadata": {},
   "source": [
    "# RAS-Commander (ras_commander) library examples"
   ]
  },
  {
   "cell_type": "markdown",
   "metadata": {},
   "source": [
    "### The Examples Below Have Been Tested and Verified."
   ]
  },
  {
   "cell_type": "markdown",
   "metadata": {},
   "source": [
    "-----"
   ]
  },
  {
   "cell_type": "code",
   "execution_count": 1,
   "metadata": {},
   "outputs": [],
   "source": [
    "#!pip install pandas pathlib requests psutil h5py matplotlib scipy"
   ]
  },
  {
   "cell_type": "code",
   "execution_count": 2,
   "metadata": {},
   "outputs": [
    {
     "name": "stdout",
     "output_type": "stream",
     "text": [
      "Executing 01_project_initialization.py:\n"
     ]
    },
    {
     "name": "stderr",
     "output_type": "stream",
     "text": [
      "2024-09-27 00:30:12,496 - INFO - Example projects folder: c:\\GH\\ras-commander\\examples\\example_projects\n",
      "2024-09-27 00:30:12,497 - INFO - Found zip file: c:\\GH\\ras-commander\\examples\\Example_Projects_6_5.zip\n",
      "2024-09-27 00:30:12,498 - INFO - Loading project data from CSV...\n",
      "2024-09-27 00:30:12,503 - INFO - Loaded 66 projects from CSV. Use list_categories() and list_projects() to explore them.\n",
      "2024-09-27 00:30:12,504 - INFO - ----- RasExamples Extracting Project -----\n",
      "2024-09-27 00:30:12,505 - INFO - Extracting project 'Balde Eagle Creek'\n",
      "2024-09-27 00:30:12,587 - INFO - Successfully extracted project 'Balde Eagle Creek' to c:\\GH\\ras-commander\\examples\\example_projects\\Balde Eagle Creek\n",
      "2024-09-27 00:30:12,587 - INFO - ----- RasExamples Extraction Complete -----\n",
      "2024-09-27 00:30:12,588 - INFO - ----- RasExamples Extracting Project -----\n",
      "2024-09-27 00:30:12,589 - INFO - Extracting project 'BaldEagleCrkMulti2D'\n",
      "2024-09-27 00:30:12,590 - INFO - Project 'BaldEagleCrkMulti2D' already exists. Deleting existing folder...\n",
      "2024-09-27 00:30:12,681 - INFO - Existing folder for project 'BaldEagleCrkMulti2D' has been deleted.\n",
      "2024-09-27 00:30:15,082 - INFO - Successfully extracted project 'BaldEagleCrkMulti2D' to c:\\GH\\ras-commander\\examples\\example_projects\\BaldEagleCrkMulti2D\n",
      "2024-09-27 00:30:15,082 - INFO - ----- RasExamples Extraction Complete -----\n",
      "2024-09-27 00:30:15,083 - INFO - ----- RasExamples Extracting Project -----\n",
      "2024-09-27 00:30:15,084 - INFO - Extracting project 'Muncie'\n",
      "2024-09-27 00:30:15,084 - INFO - Project 'Muncie' already exists. Deleting existing folder...\n",
      "2024-09-27 00:30:15,120 - ERROR - Failed to delete existing project folder 'Muncie': [WinError 32] The process cannot access the file because it is being used by another process: 'c:\\\\GH\\\\ras-commander\\\\examples\\\\example_projects\\\\Muncie'\n",
      "2024-09-27 00:30:15,122 - INFO - Initializing project in folder: c:\\GH\\ras-commander\\examples\\example_projects\\Balde Eagle Creek\n",
      "2024-09-27 00:30:15,124 - INFO - Using ras_instance with id: 140709446650640\n",
      "2024-09-27 00:30:15,126 - INFO - HEC-RAS executable found at default path: C:\\Program Files (x86)\\HEC\\HEC-RAS\\6.5\\Ras.exe\n",
      "2024-09-27 00:30:15,126 - INFO - Initializing global 'ras' object via init_ras_project function.\n",
      "2024-09-27 00:30:15,129 - INFO - Single .prj file found: c:\\GH\\ras-commander\\examples\\example_projects\\Balde Eagle Creek\\BaldEagle.prj\n",
      "2024-09-27 00:30:15,147 - INFO - Initialization complete for project: BaldEagle\n",
      "2024-09-27 00:30:15,147 - INFO - Plan entries: 2, Flow entries: 2, Unsteady entries: 1, Geometry entries: 1, Boundary conditions: 3\n",
      "2024-09-27 00:30:15,148 - INFO - Project initialized. ras_instance project folder: c:\\GH\\ras-commander\\examples\\example_projects\\Balde Eagle Creek\n",
      "2024-09-27 00:30:15,162 - INFO - No HDF entries found.\n",
      "2024-09-27 00:30:15,175 - INFO - Initializing project in folder: c:\\GH\\ras-commander\\examples\\example_projects\\BaldEagleCrkMulti2D\n",
      "2024-09-27 00:30:15,175 - INFO - Using ras_instance with id: 140709446650640\n",
      "2024-09-27 00:30:15,177 - INFO - HEC-RAS executable found at default path: C:\\Program Files (x86)\\HEC\\HEC-RAS\\6.5\\Ras.exe\n",
      "2024-09-27 00:30:15,177 - INFO - Initializing global 'ras' object via init_ras_project function.\n",
      "2024-09-27 00:30:15,182 - INFO - Single .prj file found: c:\\GH\\ras-commander\\examples\\example_projects\\BaldEagleCrkMulti2D\\BaldEagleDamBrk.prj\n",
      "2024-09-27 00:30:15,206 - INFO - Initialization complete for project: BaldEagleDamBrk\n",
      "2024-09-27 00:30:15,206 - INFO - Plan entries: 11, Flow entries: 0, Unsteady entries: 10, Geometry entries: 10, Boundary conditions: 51\n",
      "2024-09-27 00:30:15,207 - INFO - Project initialized. ras_instance project folder: c:\\GH\\ras-commander\\examples\\example_projects\\BaldEagleCrkMulti2D\n",
      "2024-09-27 00:30:15,207 - INFO - Initializing project in folder: c:\\GH\\ras-commander\\examples\\example_projects\\Muncie\n",
      "2024-09-27 00:30:15,208 - INFO - Using ras_instance with id: 140709446650640\n",
      "2024-09-27 00:30:15,210 - INFO - HEC-RAS executable found at default path: C:\\Program Files (x86)\\HEC\\HEC-RAS\\6.5\\Ras.exe\n",
      "2024-09-27 00:30:15,211 - INFO - Initializing global 'ras' object via init_ras_project function.\n",
      "2024-09-27 00:30:15,212 - WARNING - No suitable .prj file found after all checks.\n",
      "2024-09-27 00:30:15,213 - ERROR - No HEC-RAS project file found in c:\\GH\\ras-commander\\examples\\example_projects\\Muncie\n"
     ]
    },
    {
     "name": "stdout",
     "output_type": "stream",
     "text": [
      "Example Set 1: Using the default global 'ras' object\n",
      "-----------------------------------------------------\n",
      "Step 1: Initializing with global RAS instance\n",
      "\n",
      "Global RAS Instance (Bald Eagle Creek) Project Data:\n",
      "==================================================\n",
      "Project Name: BaldEagle\n",
      "Project Folder: c:\\GH\\ras-commander\\examples\\example_projects\\Balde Eagle Creek\n",
      "PRJ File: C:\\GH\\ras-commander\\examples\\example_projects\\Balde Eagle Creek\\BaldEagle.prj\n",
      "HEC-RAS Executable Path: C:\\Program Files (x86)\\HEC\\HEC-RAS\\6.5\\Ras.exe\n",
      "\n",
      "Plan Files DataFrame:\n",
      "  plan_number                                          full_path  \\\n",
      "0          01  c:\\GH\\ras-commander\\examples\\example_projects\\...   \n",
      "1          02  c:\\GH\\ras-commander\\examples\\example_projects\\...   \n",
      "\n",
      "  computation_interval dss_file flow_file friction_slope_method geom_file  \\\n",
      "0                 2MIN      dss       u02                     2       g01   \n",
      "1                 2MIN      dss       f02                     1       g01   \n",
      "\n",
      "  mapping_interval                     plan_title program_version run_htab  \\\n",
      "0            1HOUR  Unsteady with Bridges and Dam            5.00        1   \n",
      "1              NaN                Steady Flow Run             NaN        1   \n",
      "\n",
      "  run_post_process run_sediment run_unet run_wqnet short_identifier  \\\n",
      "0                1            0        1         0     UnsteadyFlow   \n",
      "1                1          NaN        1       NaN        SteadyRun   \n",
      "\n",
      "                   simulation_date unet_d1_cores unet_use_existing_ib_tables  \\\n",
      "0    18FEB1999,0000,24FEB1999,0500             0                          -1   \n",
      "1  02/18/1999,0000,02/24/1999,0500           NaN                         NaN   \n",
      "\n",
      "  HDF_Results_Path  \n",
      "0             None  \n",
      "1             None  \n",
      "\n",
      "Flow Files DataFrame:\n",
      "  flow_number                                          full_path\n",
      "0          02  c:\\GH\\ras-commander\\examples\\example_projects\\...\n",
      "1          01  c:\\GH\\ras-commander\\examples\\example_projects\\...\n",
      "\n",
      "Unsteady Flow Files DataFrame:\n",
      "  unsteady_number                                          full_path  \\\n",
      "0              02  c:\\GH\\ras-commander\\examples\\example_projects\\...   \n",
      "\n",
      "          flow_title program_version use_restart precipitation_mode  \\\n",
      "0  Flow Hydrograph 2            6.30           0            Disable   \n",
      "\n",
      "        wind_mode precipitation_bc_mode evapotranspiration_bc_mode  \\\n",
      "0  No Wind Forces                  None                       None   \n",
      "\n",
      "  precipitation_expanded_view precipitation_constant_units  \\\n",
      "0                           0                        mm/hr   \n",
      "\n",
      "  precipitation_gridded_source  \n",
      "0                          DSS  \n",
      "\n",
      "Geometry Files DataFrame:\n",
      "  geom_number                                          full_path\n",
      "0          01  c:\\GH\\ras-commander\\examples\\example_projects\\...\n",
      "\n",
      "HDF Entries DataFrame:\n",
      "Empty DataFrame\n",
      "Columns: [plan_number, full_path, computation_interval, dss_file, flow_file, friction_slope_method, geom_file, mapping_interval, plan_title, program_version, run_htab, run_post_process, run_sediment, run_unet, run_wqnet, short_identifier, simulation_date, unet_d1_cores, unet_use_existing_ib_tables, HDF_Results_Path]\n",
      "Index: []\n",
      "\n",
      "Boundary Conditions DataFrame:\n",
      "  unsteady_number  boundary_condition_number river_reach_name river_station  \\\n",
      "0              02                          1       Bald Eagle       Loc Hav   \n",
      "1              02                          2       Bald Eagle       Loc Hav   \n",
      "2              02                          3       Bald Eagle       Loc Hav   \n",
      "\n",
      "  storage_area_name pump_station_name          bc_type  hydrograph_type  \\\n",
      "0          138154.4                    Flow Hydrograph  Flow Hydrograph   \n",
      "1             81500                       Gate Opening             None   \n",
      "2           659.942                            Unknown             None   \n",
      "\n",
      "  Interval DSS Path  ...         flow_title program_version use_restart  \\\n",
      "0    1HOUR           ...  Flow Hydrograph 2            6.30           0   \n",
      "1      NaN      NaN  ...  Flow Hydrograph 2            6.30           0   \n",
      "2      NaN           ...  Flow Hydrograph 2            6.30           0   \n",
      "\n",
      "  precipitation_mode       wind_mode  precipitation_bc_mode  \\\n",
      "0            Disable  No Wind Forces                   None   \n",
      "1            Disable  No Wind Forces                   None   \n",
      "2            Disable  No Wind Forces                   None   \n",
      "\n",
      "  evapotranspiration_bc_mode precipitation_expanded_view  \\\n",
      "0                       None                           0   \n",
      "1                       None                           0   \n",
      "2                       None                           0   \n",
      "\n",
      "  precipitation_constant_units precipitation_gridded_source  \n",
      "0                        mm/hr                          DSS  \n",
      "1                        mm/hr                          DSS  \n",
      "2                        mm/hr                          DSS  \n",
      "\n",
      "[3 rows x 28 columns]\n",
      "\n",
      "Meteorological Data:\n",
      "Precipitation mode: Not available\n",
      "Wind mode: Not available\n",
      "Precipitation metadata: Not available\n",
      "Evapotranspiration metadata: Not available\n",
      "\n",
      "Example Set 2: Using custom ras objects\n",
      "-----------------------------------------------------\n",
      "Step 1: Initializing multiple project instances\n"
     ]
    },
    {
     "ename": "ValueError",
     "evalue": "No HEC-RAS project file found in c:\\GH\\ras-commander\\examples\\example_projects\\Muncie",
     "output_type": "error",
     "traceback": [
      "\u001b[1;31m---------------------------------------------------------------------------\u001b[0m",
      "\u001b[1;31mValueError\u001b[0m                                Traceback (most recent call last)",
      "File \u001b[1;32mC:\\GH\\ras-commander\\examples\\01_project_initialization.py:114\u001b[0m\n\u001b[0;32m    111\u001b[0m     \u001b[38;5;28mprint\u001b[39m(\u001b[38;5;124m\"\u001b[39m\u001b[38;5;124m# Note: This approach can lead to naming conflicts and is generally not recommended for larger scripts\u001b[39m\u001b[38;5;124m\"\u001b[39m)\n\u001b[0;32m    113\u001b[0m \u001b[38;5;28;01mif\u001b[39;00m \u001b[38;5;18m__name__\u001b[39m \u001b[38;5;241m==\u001b[39m \u001b[38;5;124m\"\u001b[39m\u001b[38;5;124m__main__\u001b[39m\u001b[38;5;124m\"\u001b[39m:\n\u001b[1;32m--> 114\u001b[0m     \u001b[43mmain\u001b[49m\u001b[43m(\u001b[49m\u001b[43m)\u001b[49m\n",
      "File \u001b[1;32mC:\\GH\\ras-commander\\examples\\01_project_initialization.py:101\u001b[0m, in \u001b[0;36mmain\u001b[1;34m()\u001b[0m\n\u001b[0;32m     99\u001b[0m \u001b[38;5;28mprint\u001b[39m(\u001b[38;5;124m\"\u001b[39m\u001b[38;5;124mStep 1: Initializing multiple project instances\u001b[39m\u001b[38;5;124m\"\u001b[39m)\n\u001b[0;32m    100\u001b[0m multi_2d_project \u001b[38;5;241m=\u001b[39m init_ras_project(multi_2d_path, \u001b[38;5;124m\"\u001b[39m\u001b[38;5;124m6.5\u001b[39m\u001b[38;5;124m\"\u001b[39m)\n\u001b[1;32m--> 101\u001b[0m muncie_project \u001b[38;5;241m=\u001b[39m \u001b[43minit_ras_project\u001b[49m\u001b[43m(\u001b[49m\u001b[43mmuncie_path\u001b[49m\u001b[43m,\u001b[49m\u001b[43m \u001b[49m\u001b[38;5;124;43m\"\u001b[39;49m\u001b[38;5;124;43m6.5\u001b[39;49m\u001b[38;5;124;43m\"\u001b[39;49m\u001b[43m)\u001b[49m\n\u001b[0;32m    103\u001b[0m print_ras_object_data(multi_2d_project, \u001b[38;5;124m\"\u001b[39m\u001b[38;5;124mMulti2D Project\u001b[39m\u001b[38;5;124m\"\u001b[39m)\n\u001b[0;32m    104\u001b[0m print_ras_object_data(muncie_project, \u001b[38;5;124m\"\u001b[39m\u001b[38;5;124mMuncie Project\u001b[39m\u001b[38;5;124m\"\u001b[39m)\n",
      "File \u001b[1;32mC:\\GH\\ras-commander\\ras_commander\\RasPrj.py:672\u001b[0m, in \u001b[0;36minit_ras_project\u001b[1;34m(ras_project_folder, ras_version, ras_instance)\u001b[0m\n\u001b[0;32m    669\u001b[0m     \u001b[38;5;28;01mraise\u001b[39;00m \u001b[38;5;167;01mTypeError\u001b[39;00m(\u001b[38;5;124m\"\u001b[39m\u001b[38;5;124mras_instance must be an instance of RasPrj or None.\u001b[39m\u001b[38;5;124m\"\u001b[39m)\n\u001b[0;32m    671\u001b[0m \u001b[38;5;66;03m# Initialize the RasPrj instance\u001b[39;00m\n\u001b[1;32m--> 672\u001b[0m \u001b[43mras_instance\u001b[49m\u001b[38;5;241;43m.\u001b[39;49m\u001b[43minitialize\u001b[49m\u001b[43m(\u001b[49m\u001b[43mras_project_folder\u001b[49m\u001b[43m,\u001b[49m\u001b[43m \u001b[49m\u001b[43mras_exe_path\u001b[49m\u001b[43m)\u001b[49m\n\u001b[0;32m    674\u001b[0m logging\u001b[38;5;241m.\u001b[39minfo(\u001b[38;5;124mf\u001b[39m\u001b[38;5;124m\"\u001b[39m\u001b[38;5;124mProject initialized. ras_instance project folder: \u001b[39m\u001b[38;5;132;01m{\u001b[39;00mras_instance\u001b[38;5;241m.\u001b[39mproject_folder\u001b[38;5;132;01m}\u001b[39;00m\u001b[38;5;124m\"\u001b[39m)\n\u001b[0;32m    675\u001b[0m \u001b[38;5;28;01mreturn\u001b[39;00m ras_instance\n",
      "File \u001b[1;32mC:\\GH\\ras-commander\\ras_commander\\RasPrj.py:64\u001b[0m, in \u001b[0;36mRasPrj.initialize\u001b[1;34m(self, project_folder, ras_exe_path)\u001b[0m\n\u001b[0;32m     62\u001b[0m \u001b[38;5;28;01mif\u001b[39;00m \u001b[38;5;28mself\u001b[39m\u001b[38;5;241m.\u001b[39mprj_file \u001b[38;5;129;01mis\u001b[39;00m \u001b[38;5;28;01mNone\u001b[39;00m:\n\u001b[0;32m     63\u001b[0m     logging\u001b[38;5;241m.\u001b[39merror(\u001b[38;5;124mf\u001b[39m\u001b[38;5;124m\"\u001b[39m\u001b[38;5;124mNo HEC-RAS project file found in \u001b[39m\u001b[38;5;132;01m{\u001b[39;00m\u001b[38;5;28mself\u001b[39m\u001b[38;5;241m.\u001b[39mproject_folder\u001b[38;5;132;01m}\u001b[39;00m\u001b[38;5;124m\"\u001b[39m)\n\u001b[1;32m---> 64\u001b[0m     \u001b[38;5;28;01mraise\u001b[39;00m \u001b[38;5;167;01mValueError\u001b[39;00m(\u001b[38;5;124mf\u001b[39m\u001b[38;5;124m\"\u001b[39m\u001b[38;5;124mNo HEC-RAS project file found in \u001b[39m\u001b[38;5;132;01m{\u001b[39;00m\u001b[38;5;28mself\u001b[39m\u001b[38;5;241m.\u001b[39mproject_folder\u001b[38;5;132;01m}\u001b[39;00m\u001b[38;5;124m\"\u001b[39m)\n\u001b[0;32m     65\u001b[0m \u001b[38;5;28mself\u001b[39m\u001b[38;5;241m.\u001b[39mproject_name \u001b[38;5;241m=\u001b[39m Path(\u001b[38;5;28mself\u001b[39m\u001b[38;5;241m.\u001b[39mprj_file)\u001b[38;5;241m.\u001b[39mstem\n\u001b[0;32m     66\u001b[0m \u001b[38;5;28mself\u001b[39m\u001b[38;5;241m.\u001b[39mras_exe_path \u001b[38;5;241m=\u001b[39m ras_exe_path\n",
      "\u001b[1;31mValueError\u001b[0m: No HEC-RAS project file found in c:\\GH\\ras-commander\\examples\\example_projects\\Muncie"
     ]
    },
    {
     "name": "stdout",
     "output_type": "stream",
     "text": [
      "\n",
      "\n"
     ]
    }
   ],
   "source": [
    "# Example 1: Import and execute 01_project_initialization.py\n",
    "print(\"Executing 01_project_initialization.py:\")\n",
    "%run 01_project_initialization.py\n",
    "print(\"\\n\")"
   ]
  },
  {
   "cell_type": "markdown",
   "metadata": {},
   "source": [
    "-----"
   ]
  },
  {
   "cell_type": "code",
   "execution_count": 3,
   "metadata": {},
   "outputs": [],
   "source": [
    "import time\n",
    "\n",
    "# wait 10 seconds\n",
    "time.sleep(10)"
   ]
  },
  {
   "cell_type": "code",
   "execution_count": null,
   "metadata": {},
   "outputs": [],
   "source": [
    "# Example 2: Import and execute 02_plan_operations.py\n",
    "print(\"Executing 02_plan_operations.py:\")\n",
    "%run 02_plan_operations.py\n",
    "print(\"\\n\")"
   ]
  },
  {
   "cell_type": "markdown",
   "metadata": {},
   "source": [
    "-----"
   ]
  },
  {
   "cell_type": "code",
   "execution_count": 5,
   "metadata": {},
   "outputs": [],
   "source": [
    "# wait 10 seconds\n",
    "time.sleep(10)"
   ]
  },
  {
   "cell_type": "code",
   "execution_count": null,
   "metadata": {},
   "outputs": [],
   "source": [
    "# Example 3: Import and execute 03_geometry_operations.py\n",
    "print(\"Executing 03_geometry_operations.py:\")\n",
    "%run 03_geometry_operations.py\n",
    "print(\"\\n\")"
   ]
  },
  {
   "cell_type": "markdown",
   "metadata": {},
   "source": [
    "-----"
   ]
  },
  {
   "cell_type": "code",
   "execution_count": 7,
   "metadata": {},
   "outputs": [],
   "source": [
    "# wait 10 seconds\n",
    "time.sleep(10)"
   ]
  },
  {
   "cell_type": "code",
   "execution_count": null,
   "metadata": {},
   "outputs": [],
   "source": [
    "# Example 4: Import and execute 04_unsteady_flow_operations.py\n",
    "print(\"Executing 04_unsteady_flow_operations.py:\")\n",
    "%run 04_unsteady_flow_operations.py\n",
    "print(\"\\n\")"
   ]
  },
  {
   "cell_type": "markdown",
   "metadata": {},
   "source": [
    "-----"
   ]
  },
  {
   "cell_type": "code",
   "execution_count": 9,
   "metadata": {},
   "outputs": [],
   "source": [
    "# wait 10 seconds\n",
    "time.sleep(10)"
   ]
  },
  {
   "cell_type": "code",
   "execution_count": null,
   "metadata": {},
   "outputs": [],
   "source": [
    "# Example 5: Import and execute 05_utility_functions.py\n",
    "print(\"Executing 05_utility_functions.py:\")\n",
    "%run 05_utility_functions.py\n",
    "print(\"\\n\")"
   ]
  },
  {
   "cell_type": "markdown",
   "metadata": {},
   "source": [
    "-----"
   ]
  },
  {
   "cell_type": "code",
   "execution_count": 11,
   "metadata": {},
   "outputs": [],
   "source": [
    "# wait 10 seconds\n",
    "time.sleep(10)"
   ]
  },
  {
   "cell_type": "code",
   "execution_count": null,
   "metadata": {},
   "outputs": [],
   "source": [
    "# Example 6: Import and execute 06_single_plan_execution.py\n",
    "print(\"Executing 06_single_plan_execution.py:\")\n",
    "%run 06_single_plan_execution.py\n",
    "print(\"\\n\")"
   ]
  },
  {
   "cell_type": "markdown",
   "metadata": {},
   "source": [
    "-----"
   ]
  },
  {
   "cell_type": "code",
   "execution_count": null,
   "metadata": {},
   "outputs": [],
   "source": [
    "# wait 10 seconds\n",
    "time.sleep(10)"
   ]
  },
  {
   "cell_type": "code",
   "execution_count": null,
   "metadata": {},
   "outputs": [],
   "source": [
    "# Example 7: Import and execute 07_sequential_plan_execution.py\n",
    "print(\"Executing 07_sequential_plan_execution.py:\")\n",
    "%run 07_sequential_plan_execution.py\n",
    "print(\"\\n\")"
   ]
  },
  {
   "cell_type": "markdown",
   "metadata": {},
   "source": [
    "-----"
   ]
  },
  {
   "cell_type": "code",
   "execution_count": null,
   "metadata": {},
   "outputs": [],
   "source": [
    "# wait 10 seconds\n",
    "time.sleep(10)"
   ]
  },
  {
   "cell_type": "code",
   "execution_count": null,
   "metadata": {},
   "outputs": [],
   "source": [
    "# Example 8: Import and execute 08_parallel_execution.py\n",
    "print(\"Executing 08_parallel_execution.py:\")\n",
    "%run 08_parallel_execution.py\n",
    "print(\"\\n\")"
   ]
  },
  {
   "cell_type": "markdown",
   "metadata": {},
   "source": [
    "-----"
   ]
  },
  {
   "cell_type": "code",
   "execution_count": null,
   "metadata": {},
   "outputs": [],
   "source": [
    "# wait 10 seconds\n",
    "time.sleep(10)"
   ]
  },
  {
   "cell_type": "code",
   "execution_count": null,
   "metadata": {},
   "outputs": [],
   "source": [
    "# Example 9: Import and execute 09_specifying_plans.py\n",
    "print(\"Executing 09_specifying_plans.py:\")\n",
    "%run 09_specifying_plans.py\n",
    "print(\"\\n\")"
   ]
  },
  {
   "cell_type": "markdown",
   "metadata": {},
   "source": [
    "-----"
   ]
  },
  {
   "cell_type": "code",
   "execution_count": null,
   "metadata": {},
   "outputs": [],
   "source": [
    "# wait 10 seconds\n",
    "time.sleep(10)"
   ]
  },
  {
   "cell_type": "code",
   "execution_count": null,
   "metadata": {},
   "outputs": [],
   "source": [
    "print(\"Executing 10_arguments_for_compute.py:\")\n",
    "%run 10_arguments_for_compute.py\n",
    "print(\"\\n\")"
   ]
  },
  {
   "cell_type": "code",
   "execution_count": null,
   "metadata": {},
   "outputs": [],
   "source": [
    "# wait 10 seconds\n",
    "time.sleep(10)"
   ]
  },
  {
   "cell_type": "code",
   "execution_count": null,
   "metadata": {},
   "outputs": [],
   "source": [
    "print(\"Executing 12_plan_set_execution.py:\")\n",
    "%run 12_plan_set_execution.py\n",
    "print(\"\\n\")"
   ]
  },
  {
   "cell_type": "code",
   "execution_count": null,
   "metadata": {},
   "outputs": [],
   "source": [
    "# wait 10 seconds\n",
    "time.sleep(10)"
   ]
  },
  {
   "cell_type": "code",
   "execution_count": null,
   "metadata": {},
   "outputs": [],
   "source": [
    "print(\"Executing 13_multiple_project_operations.py:\")\n",
    "%run 13_multiple_project_operations.py\n",
    "print(\"\\n\")"
   ]
  },
  {
   "cell_type": "code",
   "execution_count": null,
   "metadata": {},
   "outputs": [],
   "source": [
    "# wait 10 seconds\n",
    "time.sleep(10)"
   ]
  },
  {
   "cell_type": "code",
   "execution_count": null,
   "metadata": {},
   "outputs": [],
   "source": [
    "# Example 14 is long, and is a notebook."
   ]
  },
  {
   "cell_type": "code",
   "execution_count": null,
   "metadata": {},
   "outputs": [],
   "source": [
    "print(\"Executing 15_plan_key_operations.py:\")\n",
    "%run 15_plan_key_operations.py\n",
    "print(\"\\n\")"
   ]
  },
  {
   "cell_type": "code",
   "execution_count": null,
   "metadata": {},
   "outputs": [],
   "source": [
    "# wait 10 seconds\n",
    "time.sleep(10)"
   ]
  },
  {
   "cell_type": "code",
   "execution_count": null,
   "metadata": {},
   "outputs": [],
   "source": [
    "print(\"Executing 16_scanning_ras_project_info.py:\")\n",
    "%run 16_scanning_ras_project_info.py\n",
    "print(\"\\n\")\n"
   ]
  },
  {
   "cell_type": "code",
   "execution_count": null,
   "metadata": {},
   "outputs": [],
   "source": [
    "# wait 10 seconds\n",
    "time.sleep(10)"
   ]
  },
  {
   "cell_type": "code",
   "execution_count": null,
   "metadata": {},
   "outputs": [],
   "source": [
    "print(\"Executing xx_edge_cases.py:\")\n",
    "%run xx_edge_cases.py\n",
    "print(\"\\n\")"
   ]
  },
  {
   "cell_type": "code",
   "execution_count": null,
   "metadata": {},
   "outputs": [],
   "source": []
  },
  {
   "cell_type": "code",
   "execution_count": null,
   "metadata": {},
   "outputs": [],
   "source": []
  },
  {
   "cell_type": "markdown",
   "metadata": {},
   "source": [
    "# Guide for Locating Relevant Examples:"
   ]
  },
  {
   "cell_type": "markdown",
   "metadata": {},
   "source": [
    "## Category: 1D Unsteady Flow Hydraulics"
   ]
  },
  {
   "cell_type": "markdown",
   "metadata": {},
   "source": [
    "### Flow Hydrograph\n",
    "\n",
    "| Example | Plan File |\n",
    "|---------|-----------|\n",
    "| Balde Eagle Creek | BaldEagle.p01, BaldEagle.p02 |\n",
    "| ContractionExpansionMinorLosses | ContExp.p01, ContExp.p02, ContExp.p03, ContExp.p04 |\n",
    "| Culvert Hydraulics | Beav_Culvert.p01 |\n",
    "| Culverts with Flap Gates | CulvertFlap.p01 |\n",
    "| Dam Breaching | BaldEagleDamBrk.p07, BaldEagleDamBrk.p02, BaldEagleDamBrk.p10, BaldEagleDamBrk.p06, BaldEagleDamBrk.p08, BaldEagleDamBrk.p04, BaldEagleDamBrk.p03, BaldEagleDamBrk.p05, BaldEagleDamBrk.p09, BaldEagleDamBrk.p11 |\n",
    "| Elevation Controled Gates | ElevControledGates.p01 |\n",
    "| Inline Structure with Gated Spillways | Inline_3Gates.p01 |\n",
    "| Internal Stage and Flow Boundary Condition | IBStageFlowTest.p01 |\n",
    "| JunctionHydraulics | JunctionHydraulics.p01, JunctionHydraulics.p02, JunctionHydraulics.p04, JunctionHydraulics.p03 |\n",
    "| Lateral Strcuture with Gates | TwoGateGrps.p01 |\n",
    "| Lateral Structure connected to a River Reach | 3Reach_with_Lat.p01 |\n",
    "| Lateral Structure Overflow Weir | LatMultXS.p01 |\n",
    "| Lateral Structure with Culverts | LatWeirCulverts.p01 |\n",
    "| Lateral Structure with Culverts and Gates | Beav_Lateral.p01 |\n",
    "| Levee Breaching | LeveeBreach.p01 |\n",
    "| Multiple Reaches with Hydraulic Structures | 3ReachUnsteady.p01, 3ReachUnsteady.p02 |\n",
    "| Pumping Station | Pumps.p01 |\n",
    "| Pumping Station with Rules | PumpRule.p03 |\n",
    "| Rule Operations | Canal.p01 |\n",
    "| Simplified Physical Breaching | BaldEDmbrk.p01 |\n",
    "| UngagedAreaInflows | Ungaged_area.p03, Ungaged_area.p02 |\n",
    "| Unsteady Flow Encroachment Analysis | UnsteadyEncroachment.p03, UnsteadyEncroachment.p02 |\n",
    "\n",
    "### Normal Depth\n",
    "\n",
    "| Example | Plan File |\n",
    "|---------|-----------|\n",
    "| Balde Eagle Creek | BaldEagle.p01, BaldEagle.p02 |\n",
    "| ContractionExpansionMinorLosses | ContExp.p01, ContExp.p02, ContExp.p03, ContExp.p04 |\n",
    "| Culvert Hydraulics | Beav_Culvert.p01 |\n",
    "| Dam Breaching | BaldEagleDamBrk.p07, BaldEagleDamBrk.p02, BaldEagleDamBrk.p10, BaldEagleDamBrk.p06, BaldEagleDamBrk.p08, BaldEagleDamBrk.p04, BaldEagleDamBrk.p03, BaldEagleDamBrk.p05, BaldEagleDamBrk.p09, BaldEagleDamBrk.p11 |\n",
    "| JunctionHydraulics | JunctionHydraulics.p01, JunctionHydraulics.p02, JunctionHydraulics.p04, JunctionHydraulics.p03 |\n",
    "| Lateral Structure connected to a River Reach | 3Reach_with_Lat.p01 |\n",
    "| Multiple Reaches with Hydraulic Structures | 3ReachUnsteady.p01, 3ReachUnsteady.p02 |\n",
    "| Rule Operations | Canal.p01 |\n",
    "| Simplified Physical Breaching | BaldEDmbrk.p01 |\n",
    "| UngagedAreaInflows | Ungaged_area.p03, Ungaged_area.p02 |\n",
    "\n",
    "### Gate Opening\n",
    "\n",
    "| Example | Plan File |\n",
    "|---------|-----------|\n",
    "| Balde Eagle Creek | BaldEagle.p01, BaldEagle.p02 |\n",
    "| ContractionExpansionMinorLosses | ContExp.p01, ContExp.p02, ContExp.p03, ContExp.p04 |\n",
    "| Dam Breaching | BaldEagleDamBrk.p07, BaldEagleDamBrk.p02, BaldEagleDamBrk.p10, BaldEagleDamBrk.p06, BaldEagleDamBrk.p08, BaldEagleDamBrk.p04, BaldEagleDamBrk.p03, BaldEagleDamBrk.p05, BaldEagleDamBrk.p09, BaldEagleDamBrk.p11 |\n",
    "| Elevation Controled Gates | ElevControledGates.p01 |\n",
    "| Inline Structure with Gated Spillways | Inline_3Gates.p01 |\n",
    "| Lateral Strcuture with Gates | TwoGateGrps.p01 |\n",
    "| Lateral Structure with Culverts and Gates | Beav_Lateral.p01 |\n",
    "| Simplified Physical Breaching | BaldEDmbrk.p01 |\n",
    "\n",
    "### Stage Hydrograph\n",
    "\n",
    "| Example | Plan File |\n",
    "|---------|-----------|\n",
    "| Internal Stage and Flow Boundary Condition | IBStageFlowTest.p01 |\n",
    "| Pumping Station with Rules | PumpRule.p03 |\n",
    "| Rule Operations | Canal.p01 |\n",
    "\n",
    "### Lateral Inflow Hydrograph\n",
    "\n",
    "| Example | Plan File |\n",
    "|---------|-----------|\n",
    "| Dam Breaching | BaldEagleDamBrk.p07, BaldEagleDamBrk.p02, BaldEagleDamBrk.p10, BaldEagleDamBrk.p06, BaldEagleDamBrk.p08, BaldEagleDamBrk.p04, BaldEagleDamBrk.p03, BaldEagleDamBrk.p05, BaldEagleDamBrk.p09, BaldEagleDamBrk.p11 |\n",
    "| Multiple Reaches with Hydraulic Structures | 3ReachUnsteady.p01, 3ReachUnsteady.p02 |\n",
    "| Pumping Station | Pumps.p01 |\n",
    "| Rule Operations | Canal.p01 |\n",
    "| UngagedAreaInflows | Ungaged_area.p03, Ungaged_area.p02 |\n",
    "\n",
    "### Uniform Lateral Inflow Hydrograph\n",
    "\n",
    "| Example | Plan File |\n",
    "|---------|-----------|\n",
    "| Dam Breaching | BaldEagleDamBrk.p07, BaldEagleDamBrk.p02, BaldEagleDamBrk.p10, BaldEagleDamBrk.p06, BaldEagleDamBrk.p08, BaldEagleDamBrk.p04, BaldEagleDamBrk.p03, BaldEagleDamBrk.p05, BaldEagleDamBrk.p09, BaldEagleDamBrk.p11 |\n",
    "| UngagedAreaInflows | Ungaged_area.p03, Ungaged_area.p02 |\n",
    "\n",
    "### Unknown or Special Conditions\n",
    "\n",
    "| Example | Plan File |\n",
    "|---------|-----------|\n",
    "| Culverts with Flap Gates | CulvertFlap.p01 |\n",
    "| Elevation Controled Gates | ElevControledGates.p01 |\n",
    "| Internal Stage and Flow Boundary Condition | IBStageFlowTest.p01 |\n",
    "| Lateral Structure Overflow Weir | LatMultXS.p01 |\n",
    "| Lateral Structure with Culverts | LatWeirCulverts.p01 |\n",
    "| Levee Breaching | LeveeBreach.p01 |\n",
    "| Pumping Station with Rules | PumpRule.p03 |\n",
    "| UngagedAreaInflows | Ungaged_area.p03, Ungaged_area.p02 |\n",
    "| Unsteady Flow Encroachment Analysis | UnsteadyEncroachment.p03, UnsteadyEncroachment.p02 |"
   ]
  },
  {
   "cell_type": "markdown",
   "metadata": {},
   "source": [
    "## Category: 2D Unsteady Flow Hydraulics"
   ]
  },
  {
   "cell_type": "markdown",
   "metadata": {},
   "source": [
    "# HEC-RAS Unsteady Flow Examples Analysis\n",
    "\n",
    "## Version 6.30\n",
    "\n",
    "### Example: Muncie\n",
    "\n",
    "| Boundary Condition Types | Plan Files |\n",
    "|--------------------------|------------|\n",
    "| Flow Hydrograph          | Muncie.p01 (Unsteady Multi  9-SA run) |\n",
    "| Normal Depth             | Muncie.p03 (Unsteady Run with 2D 50ft Grid) |\n",
    "|                          | Muncie.p04 (Unsteady Run with 2D 50ft User n Value R) |\n",
    "\n",
    "| Project | Version | Boundary Conditions | Plans |\n",
    "|---------|---------|---------------------|-------|\n",
    "| Muncie  | 6.30    | - Flow Hydrograph (White River, Muncie, Station 15696.24) | 1. Muncie.p01: Unsteady Multi 9-SA run |\n",
    "|         |         | - Normal Depth (White River, Muncie, Station 237.6455)    | 2. Muncie.p03: Unsteady Run with 2D 50ft Grid |\n",
    "|         |         |                                                           | 3. Muncie.p04: Unsteady Run with 2D 50ft User n Value R |\n",
    "\n",
    "## Version 6.00\n",
    "\n",
    "### Example: BaldEagleCrkMulti2D\n",
    "\n",
    "| Boundary Condition Types | Plan Files |\n",
    "|--------------------------|------------|\n",
    "| Flow Hydrograph          | BaldEagleDamBrk.p06 (Gridded Precip - Infiltration) |\n",
    "| Gate Opening             |  |\n",
    "| Lateral Inflow Hydrograph |  |\n",
    "| Uniform Lateral Inflow Hydrograph |  |\n",
    "| Normal Depth             |  |\n",
    "\n",
    "| Project | Version | Boundary Conditions | Plans |\n",
    "|---------|---------|---------------------|-------|\n",
    "| BaldEagleCrkMulti2D | 6.00 | - Flow Hydrograph | 1. BaldEagleDamBrk.p06: Gridded Precip - Infiltration |\n",
    "|                     |      | - Gate Opening |  |\n",
    "|                     |      | - Lateral Inflow Hydrograph |  |\n",
    "|                     |      | - Uniform Lateral Inflow Hydrograph |  |\n",
    "|                     |      | - Normal Depth |  |\n",
    "\n",
    "## Version 5.10\n",
    "\n",
    "### Example: BaldEagleCrkMulti2D\n",
    "\n",
    "| Boundary Condition Types | Plan Files |\n",
    "|--------------------------|------------|\n",
    "| Flow Hydrograph          | BaldEagleDamBrk.p13 (PMF with Multi 2D Areas) |\n",
    "| Gate Opening             | BaldEagleDamBrk.p15 (1d-2D Dambreak Refined Grid) |\n",
    "| Lateral Inflow Hydrograph | BaldEagleDamBrk.p02 (SA to Detailed 2D Breach) |\n",
    "| Uniform Lateral Inflow Hydrograph | BaldEagleDamBrk.p05 (Single 2D area with Bridges FEQ) |\n",
    "| Normal Depth             | BaldEagleDamBrk.p01 (SA to Detailed 2D Breach FEQ) |\n",
    "\n",
    "| Project | Version | Boundary Conditions | Plans |\n",
    "|---------|---------|---------------------|-------|\n",
    "| BaldEagleCrkMulti2D | 5.10 | - Flow Hydrograph | 1. BaldEagleDamBrk.p13: PMF with Multi 2D Areas |\n",
    "|                     |      | - Gate Opening | 2. BaldEagleDamBrk.p15: 1d-2D Dambreak Refined Grid |\n",
    "|                     |      | - Lateral Inflow Hydrograph | 3. BaldEagleDamBrk.p02: SA to Detailed 2D Breach |\n",
    "|                     |      | - Uniform Lateral Inflow Hydrograph | 4. BaldEagleDamBrk.p05: Single 2D area with Bridges FEQ |\n",
    "|                     |      | - Normal Depth | 5. BaldEagleDamBrk.p01: SA to Detailed 2D Breach FEQ |\n",
    "\n",
    "## Version 5.00\n",
    "\n",
    "### Example: BaldEagleCrkMulti2D\n",
    "\n",
    "| Boundary Condition Types | Plan Files |\n",
    "|--------------------------|------------|\n",
    "| Flow Hydrograph          | BaldEagleDamBrk.p17 (2D to 1D No Dam) |\n",
    "| Gate Opening             | BaldEagleDamBrk.p18 (2D to 2D Run) |\n",
    "| Lateral Inflow Hydrograph | BaldEagleDamBrk.p19 (SA to 2D Dam Break Run) |\n",
    "| Uniform Lateral Inflow Hydrograph | BaldEagleDamBrk.p03 (Single 2D Area - Internal Dam Structure) |\n",
    "| Normal Depth             | BaldEagleDamBrk.p04 (SA to 2D Area Conn - 2D Levee Structure) |\n",
    "\n",
    "| Project | Version | Boundary Conditions | Plans |\n",
    "|---------|---------|---------------------|-------|\n",
    "| BaldEagleCrkMulti2D | 5.00 | - Flow Hydrograph | 1. BaldEagleDamBrk.p17: 2D to 1D No Dam |\n",
    "|                     |      | - Gate Opening | 2. BaldEagleDamBrk.p18: 2D to 2D Run |\n",
    "|                     |      | - Lateral Inflow Hydrograph | 3. BaldEagleDamBrk.p19: SA to 2D Dam Break Run |\n",
    "|                     |      | - Uniform Lateral Inflow Hydrograph | 4. BaldEagleDamBrk.p03: Single 2D Area - Internal Dam Structure |\n",
    "|                     |      | - Normal Depth | 5. BaldEagleDamBrk.p04: SA to 2D Area Conn - 2D Levee Structure |"
   ]
  },
  {
   "cell_type": "markdown",
   "metadata": {},
   "source": [
    "### Need the same tables for geometry key types\n",
    "\n",
    "Also need to open and save all example files in 6.5 using HECRASController (making a function to do this)\n",
    "\n",
    "This can be used to help find examples if the user wants to do something that the library is currently not capable of.  \n",
    "\n",
    "Using the RasExamples class, the user can extract these files and inspect them to find specific examples.  "
   ]
  }
 ],
 "metadata": {
  "kernelspec": {
   "display_name": "cmdr311",
   "language": "python",
   "name": "python3"
  },
  "language_info": {
   "codemirror_mode": {
    "name": "ipython",
    "version": 3
   },
   "file_extension": ".py",
   "mimetype": "text/x-python",
   "name": "python",
   "nbconvert_exporter": "python",
   "pygments_lexer": "ipython3",
   "version": "3.11.9"
  }
 },
 "nbformat": 4,
 "nbformat_minor": 2
}
