{
 "cells": [
  {
   "cell_type": "markdown",
   "metadata": {},
   "source": [
    "# Notebook for running all the examples in the examples folder\n",
    "\n",
    "This notebook also serves as a test of the ras_commander package using the HEC-RAS Project Examples provided by HEC.\n",
    "\n",
    "Example project names can be found in the example_projects.csv file after the examples are run.\n",
    "\n",
    "To use a different example, change the project name in the examples and run them directly or run this notebook.  \n"
   ]
  },
  {
   "cell_type": "markdown",
   "metadata": {},
   "source": [
    "The notebook format provides a convenient way to run all the examples to ensure that no features are broken after code revisions.  \n"
   ]
  },
  {
   "cell_type": "markdown",
   "metadata": {},
   "source": [
    "-----"
   ]
  },
  {
   "cell_type": "markdown",
   "metadata": {},
   "source": [
    "This table is a valuable reference for formulating examples and anticipating script behavior.\n",
    "\n",
    "| Project           | Type     | Existing Numbers | Next Available |\n",
    "|-------------------|----------|-------------------|----------------|\n",
    "| Balde Eagle Creek | Plan     | 01, 02            | 03             |\n",
    "|                   | Flow     | 01, 02            | 03             |\n",
    "|                   | Unsteady | 02                | 01, 03         |\n",
    "|                   | Geometry | 01                | 02             |\n",
    "| Muncie            | Plan     | 01, 03, 04        | 02, 05         |\n",
    "|                   | Flow     | 01                | 02             |\n",
    "|                   | Unsteady | 01                | 02             |\n",
    "|                   | Geometry | 01, 02, 04        | 03, 05         |\n",
    "\n",
    "Notes:\n",
    "1. For Balde Eagle Creek's Unsteady entries, 01 is available before 03. The library should use the lowest available number when creating new entries.\n",
    "2. For Muncie's Plan entries, both 02 and 05 are available. The library should use 02 first.\n",
    "3. For Muncie's Geometry entries, 03 is available before 05.\n",
    "\n",
    "When writing examples or scripts:\n",
    "1. Use existing numbers when referencing current plans, flows, unsteady setups, or geometries.\n",
    "2. When creating new entries (e.g., cloning), use the \"Next Available\" number and then increment for subsequent creations.\n",
    "3. After operations that create new entries, verify that the ras object has been updated to reflect these changes.\n",
    "\n",
    "This approach will help ensure that examples run as expected and that we're always working with valid, up-to-date data in our scripts."
   ]
  },
  {
   "cell_type": "markdown",
   "metadata": {},
   "source": [
    "-----"
   ]
  },
  {
   "cell_type": "markdown",
   "metadata": {},
   "source": [
    "# RAS-Commander (ras_commander) library examples"
   ]
  },
  {
   "cell_type": "markdown",
   "metadata": {},
   "source": [
    "### The Examples Below Have Been Tested and Verified."
   ]
  },
  {
   "cell_type": "markdown",
   "metadata": {},
   "source": [
    "-----"
   ]
  },
  {
   "cell_type": "code",
   "execution_count": 1,
   "metadata": {},
   "outputs": [],
   "source": [
    "#!pip install pandas pathlib requests psutil h5py matplotlib scipy"
   ]
  },
  {
   "cell_type": "code",
   "execution_count": null,
   "metadata": {},
   "outputs": [],
   "source": [
    "# Example 1: Import and execute 01_project_initialization.py\n",
    "print(\"Executing 01_project_initialization.py:\")\n",
    "%run 01_project_initialization.py\n",
    "print(\"\\n\")"
   ]
  },
  {
   "cell_type": "markdown",
   "metadata": {},
   "source": [
    "-----"
   ]
  },
  {
   "cell_type": "code",
   "execution_count": 3,
   "metadata": {},
   "outputs": [],
   "source": [
    "import time\n",
    "\n",
    "# wait 10 seconds\n",
    "time.sleep(10)"
   ]
  },
  {
   "cell_type": "code",
   "execution_count": null,
   "metadata": {},
   "outputs": [],
   "source": [
    "# Example 2: Import and execute 02_plan_operations.py\n",
    "print(\"Executing 02_plan_operations.py:\")\n",
    "%run 02_plan_operations.py\n",
    "print(\"\\n\")"
   ]
  },
  {
   "cell_type": "markdown",
   "metadata": {},
   "source": [
    "-----"
   ]
  },
  {
   "cell_type": "code",
   "execution_count": 5,
   "metadata": {},
   "outputs": [],
   "source": [
    "# wait 10 seconds\n",
    "time.sleep(10)"
   ]
  },
  {
   "cell_type": "code",
   "execution_count": null,
   "metadata": {},
   "outputs": [],
   "source": [
    "# Example 3: Import and execute 03_geometry_operations.py\n",
    "print(\"Executing 03_geometry_operations.py:\")\n",
    "%run 03_geometry_operations.py\n",
    "print(\"\\n\")"
   ]
  },
  {
   "cell_type": "markdown",
   "metadata": {},
   "source": [
    "-----"
   ]
  },
  {
   "cell_type": "code",
   "execution_count": 7,
   "metadata": {},
   "outputs": [],
   "source": [
    "# wait 10 seconds\n",
    "time.sleep(10)"
   ]
  },
  {
   "cell_type": "code",
   "execution_count": null,
   "metadata": {},
   "outputs": [],
   "source": [
    "# Example 4: Import and execute 04_unsteady_flow_operations.py\n",
    "print(\"Executing 04_unsteady_flow_operations.py:\")\n",
    "%run 04_unsteady_flow_operations.py\n",
    "print(\"\\n\")"
   ]
  },
  {
   "cell_type": "markdown",
   "metadata": {},
   "source": [
    "-----"
   ]
  },
  {
   "cell_type": "code",
   "execution_count": 9,
   "metadata": {},
   "outputs": [],
   "source": [
    "# wait 10 seconds\n",
    "time.sleep(10)"
   ]
  },
  {
   "cell_type": "code",
   "execution_count": null,
   "metadata": {},
   "outputs": [],
   "source": [
    "# Example 5: Import and execute 05_utility_functions.py\n",
    "print(\"Executing 05_utility_functions.py:\")\n",
    "%run 05_utility_functions.py\n",
    "print(\"\\n\")"
   ]
  },
  {
   "cell_type": "markdown",
   "metadata": {},
   "source": [
    "-----"
   ]
  },
  {
   "cell_type": "code",
   "execution_count": 11,
   "metadata": {},
   "outputs": [],
   "source": [
    "# wait 10 seconds\n",
    "time.sleep(10)"
   ]
  },
  {
   "cell_type": "code",
   "execution_count": null,
   "metadata": {},
   "outputs": [],
   "source": [
    "# Example 6: Import and execute 06_single_plan_execution.py\n",
    "print(\"Executing 06_single_plan_execution.py:\")\n",
    "%run 06_single_plan_execution.py\n",
    "print(\"\\n\")"
   ]
  },
  {
   "cell_type": "markdown",
   "metadata": {},
   "source": [
    "-----"
   ]
  },
  {
   "cell_type": "code",
   "execution_count": 13,
   "metadata": {},
   "outputs": [],
   "source": [
    "# wait 10 seconds\n",
    "time.sleep(10)"
   ]
  },
  {
   "cell_type": "code",
   "execution_count": null,
   "metadata": {},
   "outputs": [],
   "source": [
    "# Example 7: Import and execute 07_sequential_plan_execution.py\n",
    "print(\"Executing 07_sequential_plan_execution.py:\")\n",
    "%run 07_sequential_plan_execution.py\n",
    "print(\"\\n\")"
   ]
  },
  {
   "cell_type": "markdown",
   "metadata": {},
   "source": [
    "-----"
   ]
  },
  {
   "cell_type": "code",
   "execution_count": 15,
   "metadata": {},
   "outputs": [],
   "source": [
    "# wait 10 seconds\n",
    "time.sleep(10)"
   ]
  },
  {
   "cell_type": "code",
   "execution_count": null,
   "metadata": {},
   "outputs": [],
   "source": [
    "# Example 8: Import and execute 08_parallel_execution.py\n",
    "print(\"Executing 08_parallel_execution.py:\")\n",
    "%run 08_parallel_execution.py\n",
    "print(\"\\n\")"
   ]
  },
  {
   "cell_type": "markdown",
   "metadata": {},
   "source": [
    "-----"
   ]
  },
  {
   "cell_type": "code",
   "execution_count": 17,
   "metadata": {},
   "outputs": [],
   "source": [
    "# wait 10 seconds\n",
    "time.sleep(10)"
   ]
  },
  {
   "cell_type": "code",
   "execution_count": null,
   "metadata": {},
   "outputs": [],
   "source": [
    "# Example 9: Import and execute 09_specifying_plans.py\n",
    "print(\"Executing 09_specifying_plans.py:\")\n",
    "%run 09_specifying_plans.py\n",
    "print(\"\\n\")"
   ]
  },
  {
   "cell_type": "markdown",
   "metadata": {},
   "source": [
    "-----"
   ]
  },
  {
   "cell_type": "code",
   "execution_count": 19,
   "metadata": {},
   "outputs": [],
   "source": [
    "# wait 10 seconds\n",
    "time.sleep(10)"
   ]
  },
  {
   "cell_type": "code",
   "execution_count": null,
   "metadata": {},
   "outputs": [],
   "source": [
    "print(\"Executing 10_arguments_for_compute.py:\")\n",
    "%run 10_arguments_for_compute.py\n",
    "print(\"\\n\")"
   ]
  },
  {
   "cell_type": "code",
   "execution_count": 21,
   "metadata": {},
   "outputs": [],
   "source": [
    "# wait 10 seconds\n",
    "time.sleep(10)"
   ]
  },
  {
   "cell_type": "code",
   "execution_count": null,
   "metadata": {},
   "outputs": [],
   "source": [
    "print(\"Executing 12_plan_set_execution.py:\")\n",
    "%run 12_plan_set_execution.py\n",
    "print(\"\\n\")"
   ]
  },
  {
   "cell_type": "code",
   "execution_count": 23,
   "metadata": {},
   "outputs": [],
   "source": [
    "# wait 10 seconds\n",
    "time.sleep(10)"
   ]
  },
  {
   "cell_type": "code",
   "execution_count": null,
   "metadata": {},
   "outputs": [],
   "source": [
    "print(\"Executing 13_multiple_project_operations.py:\")\n",
    "%run 13_multiple_project_operations.py\n",
    "print(\"\\n\")"
   ]
  },
  {
   "cell_type": "code",
   "execution_count": 25,
   "metadata": {},
   "outputs": [],
   "source": [
    "# wait 10 seconds\n",
    "time.sleep(10)"
   ]
  },
  {
   "cell_type": "code",
   "execution_count": 26,
   "metadata": {},
   "outputs": [],
   "source": [
    "# Example 14 is long, and is a notebook."
   ]
  },
  {
   "cell_type": "code",
   "execution_count": null,
   "metadata": {},
   "outputs": [],
   "source": [
    "print(\"Executing 15_plan_key_operations.py:\")\n",
    "%run 15_plan_key_operations.py\n",
    "print(\"\\n\")\n",
    "\n"
   ]
  },
  {
   "cell_type": "code",
   "execution_count": 28,
   "metadata": {},
   "outputs": [],
   "source": [
    "# wait 10 seconds\n",
    "time.sleep(10)"
   ]
  },
  {
   "cell_type": "code",
   "execution_count": null,
   "metadata": {},
   "outputs": [],
   "source": [
    "print(\"Executing 16_scanning_ras_project_info.py:\")\n",
    "%run 16_scanning_ras_project_info.py\n",
    "print(\"\\n\")\n"
   ]
  },
  {
   "cell_type": "code",
   "execution_count": 30,
   "metadata": {},
   "outputs": [],
   "source": [
    "# wait 10 seconds\n",
    "time.sleep(10)"
   ]
  },
  {
   "cell_type": "code",
   "execution_count": null,
   "metadata": {},
   "outputs": [],
   "source": [
    "print(\"Executing xx_edge_cases.py:\")\n",
    "%run xx_edge_cases.py\n",
    "print(\"\\n\")"
   ]
  },
  {
   "cell_type": "markdown",
   "metadata": {},
   "source": [
    "# Guide for Locating Relevant Examples:"
   ]
  },
  {
   "cell_type": "markdown",
   "metadata": {},
   "source": [
    "## Category: 1D Unsteady Flow Hydraulics"
   ]
  },
  {
   "cell_type": "markdown",
   "metadata": {},
   "source": [
    "### Flow Hydrograph\n",
    "\n",
    "| Example | Plan File |\n",
    "|---------|-----------|\n",
    "| Balde Eagle Creek | BaldEagle.p01, BaldEagle.p02 |\n",
    "| ContractionExpansionMinorLosses | ContExp.p01, ContExp.p02, ContExp.p03, ContExp.p04 |\n",
    "| Culvert Hydraulics | Beav_Culvert.p01 |\n",
    "| Culverts with Flap Gates | CulvertFlap.p01 |\n",
    "| Dam Breaching | BaldEagleDamBrk.p07, BaldEagleDamBrk.p02, BaldEagleDamBrk.p10, BaldEagleDamBrk.p06, BaldEagleDamBrk.p08, BaldEagleDamBrk.p04, BaldEagleDamBrk.p03, BaldEagleDamBrk.p05, BaldEagleDamBrk.p09, BaldEagleDamBrk.p11 |\n",
    "| Elevation Controled Gates | ElevControledGates.p01 |\n",
    "| Inline Structure with Gated Spillways | Inline_3Gates.p01 |\n",
    "| Internal Stage and Flow Boundary Condition | IBStageFlowTest.p01 |\n",
    "| JunctionHydraulics | JunctionHydraulics.p01, JunctionHydraulics.p02, JunctionHydraulics.p04, JunctionHydraulics.p03 |\n",
    "| Lateral Strcuture with Gates | TwoGateGrps.p01 |\n",
    "| Lateral Structure connected to a River Reach | 3Reach_with_Lat.p01 |\n",
    "| Lateral Structure Overflow Weir | LatMultXS.p01 |\n",
    "| Lateral Structure with Culverts | LatWeirCulverts.p01 |\n",
    "| Lateral Structure with Culverts and Gates | Beav_Lateral.p01 |\n",
    "| Levee Breaching | LeveeBreach.p01 |\n",
    "| Multiple Reaches with Hydraulic Structures | 3ReachUnsteady.p01, 3ReachUnsteady.p02 |\n",
    "| Pumping Station | Pumps.p01 |\n",
    "| Pumping Station with Rules | PumpRule.p03 |\n",
    "| Rule Operations | Canal.p01 |\n",
    "| Simplified Physical Breaching | BaldEDmbrk.p01 |\n",
    "| UngagedAreaInflows | Ungaged_area.p03, Ungaged_area.p02 |\n",
    "| Unsteady Flow Encroachment Analysis | UnsteadyEncroachment.p03, UnsteadyEncroachment.p02 |\n",
    "\n",
    "### Normal Depth\n",
    "\n",
    "| Example | Plan File |\n",
    "|---------|-----------|\n",
    "| Balde Eagle Creek | BaldEagle.p01, BaldEagle.p02 |\n",
    "| ContractionExpansionMinorLosses | ContExp.p01, ContExp.p02, ContExp.p03, ContExp.p04 |\n",
    "| Culvert Hydraulics | Beav_Culvert.p01 |\n",
    "| Dam Breaching | BaldEagleDamBrk.p07, BaldEagleDamBrk.p02, BaldEagleDamBrk.p10, BaldEagleDamBrk.p06, BaldEagleDamBrk.p08, BaldEagleDamBrk.p04, BaldEagleDamBrk.p03, BaldEagleDamBrk.p05, BaldEagleDamBrk.p09, BaldEagleDamBrk.p11 |\n",
    "| JunctionHydraulics | JunctionHydraulics.p01, JunctionHydraulics.p02, JunctionHydraulics.p04, JunctionHydraulics.p03 |\n",
    "| Lateral Structure connected to a River Reach | 3Reach_with_Lat.p01 |\n",
    "| Multiple Reaches with Hydraulic Structures | 3ReachUnsteady.p01, 3ReachUnsteady.p02 |\n",
    "| Rule Operations | Canal.p01 |\n",
    "| Simplified Physical Breaching | BaldEDmbrk.p01 |\n",
    "| UngagedAreaInflows | Ungaged_area.p03, Ungaged_area.p02 |\n",
    "\n",
    "### Gate Opening\n",
    "\n",
    "| Example | Plan File |\n",
    "|---------|-----------|\n",
    "| Balde Eagle Creek | BaldEagle.p01, BaldEagle.p02 |\n",
    "| ContractionExpansionMinorLosses | ContExp.p01, ContExp.p02, ContExp.p03, ContExp.p04 |\n",
    "| Dam Breaching | BaldEagleDamBrk.p07, BaldEagleDamBrk.p02, BaldEagleDamBrk.p10, BaldEagleDamBrk.p06, BaldEagleDamBrk.p08, BaldEagleDamBrk.p04, BaldEagleDamBrk.p03, BaldEagleDamBrk.p05, BaldEagleDamBrk.p09, BaldEagleDamBrk.p11 |\n",
    "| Elevation Controled Gates | ElevControledGates.p01 |\n",
    "| Inline Structure with Gated Spillways | Inline_3Gates.p01 |\n",
    "| Lateral Strcuture with Gates | TwoGateGrps.p01 |\n",
    "| Lateral Structure with Culverts and Gates | Beav_Lateral.p01 |\n",
    "| Simplified Physical Breaching | BaldEDmbrk.p01 |\n",
    "\n",
    "### Stage Hydrograph\n",
    "\n",
    "| Example | Plan File |\n",
    "|---------|-----------|\n",
    "| Internal Stage and Flow Boundary Condition | IBStageFlowTest.p01 |\n",
    "| Pumping Station with Rules | PumpRule.p03 |\n",
    "| Rule Operations | Canal.p01 |\n",
    "\n",
    "### Lateral Inflow Hydrograph\n",
    "\n",
    "| Example | Plan File |\n",
    "|---------|-----------|\n",
    "| Dam Breaching | BaldEagleDamBrk.p07, BaldEagleDamBrk.p02, BaldEagleDamBrk.p10, BaldEagleDamBrk.p06, BaldEagleDamBrk.p08, BaldEagleDamBrk.p04, BaldEagleDamBrk.p03, BaldEagleDamBrk.p05, BaldEagleDamBrk.p09, BaldEagleDamBrk.p11 |\n",
    "| Multiple Reaches with Hydraulic Structures | 3ReachUnsteady.p01, 3ReachUnsteady.p02 |\n",
    "| Pumping Station | Pumps.p01 |\n",
    "| Rule Operations | Canal.p01 |\n",
    "| UngagedAreaInflows | Ungaged_area.p03, Ungaged_area.p02 |\n",
    "\n",
    "### Uniform Lateral Inflow Hydrograph\n",
    "\n",
    "| Example | Plan File |\n",
    "|---------|-----------|\n",
    "| Dam Breaching | BaldEagleDamBrk.p07, BaldEagleDamBrk.p02, BaldEagleDamBrk.p10, BaldEagleDamBrk.p06, BaldEagleDamBrk.p08, BaldEagleDamBrk.p04, BaldEagleDamBrk.p03, BaldEagleDamBrk.p05, BaldEagleDamBrk.p09, BaldEagleDamBrk.p11 |\n",
    "| UngagedAreaInflows | Ungaged_area.p03, Ungaged_area.p02 |\n",
    "\n",
    "### Unknown or Special Conditions\n",
    "\n",
    "| Example | Plan File |\n",
    "|---------|-----------|\n",
    "| Culverts with Flap Gates | CulvertFlap.p01 |\n",
    "| Elevation Controled Gates | ElevControledGates.p01 |\n",
    "| Internal Stage and Flow Boundary Condition | IBStageFlowTest.p01 |\n",
    "| Lateral Structure Overflow Weir | LatMultXS.p01 |\n",
    "| Lateral Structure with Culverts | LatWeirCulverts.p01 |\n",
    "| Levee Breaching | LeveeBreach.p01 |\n",
    "| Pumping Station with Rules | PumpRule.p03 |\n",
    "| UngagedAreaInflows | Ungaged_area.p03, Ungaged_area.p02 |\n",
    "| Unsteady Flow Encroachment Analysis | UnsteadyEncroachment.p03, UnsteadyEncroachment.p02 |"
   ]
  },
  {
   "cell_type": "markdown",
   "metadata": {},
   "source": [
    "## Category: 2D Unsteady Flow Hydraulics"
   ]
  },
  {
   "cell_type": "markdown",
   "metadata": {},
   "source": [
    "# HEC-RAS Unsteady Flow Examples Analysis\n",
    "\n",
    "## Version 6.30\n",
    "\n",
    "### Example: Muncie\n",
    "\n",
    "| Boundary Condition Types | Plan Files |\n",
    "|--------------------------|------------|\n",
    "| Flow Hydrograph          | Muncie.p01 (Unsteady Multi  9-SA run) |\n",
    "| Normal Depth             | Muncie.p03 (Unsteady Run with 2D 50ft Grid) |\n",
    "|                          | Muncie.p04 (Unsteady Run with 2D 50ft User n Value R) |\n",
    "\n",
    "| Project | Version | Boundary Conditions | Plans |\n",
    "|---------|---------|---------------------|-------|\n",
    "| Muncie  | 6.30    | - Flow Hydrograph (White River, Muncie, Station 15696.24) | 1. Muncie.p01: Unsteady Multi 9-SA run |\n",
    "|         |         | - Normal Depth (White River, Muncie, Station 237.6455)    | 2. Muncie.p03: Unsteady Run with 2D 50ft Grid |\n",
    "|         |         |                                                           | 3. Muncie.p04: Unsteady Run with 2D 50ft User n Value R |\n",
    "\n",
    "## Version 6.00\n",
    "\n",
    "### Example: BaldEagleCrkMulti2D\n",
    "\n",
    "| Boundary Condition Types | Plan Files |\n",
    "|--------------------------|------------|\n",
    "| Flow Hydrograph          | BaldEagleDamBrk.p06 (Gridded Precip - Infiltration) |\n",
    "| Gate Opening             |  |\n",
    "| Lateral Inflow Hydrograph |  |\n",
    "| Uniform Lateral Inflow Hydrograph |  |\n",
    "| Normal Depth             |  |\n",
    "\n",
    "| Project | Version | Boundary Conditions | Plans |\n",
    "|---------|---------|---------------------|-------|\n",
    "| BaldEagleCrkMulti2D | 6.00 | - Flow Hydrograph | 1. BaldEagleDamBrk.p06: Gridded Precip - Infiltration |\n",
    "|                     |      | - Gate Opening |  |\n",
    "|                     |      | - Lateral Inflow Hydrograph |  |\n",
    "|                     |      | - Uniform Lateral Inflow Hydrograph |  |\n",
    "|                     |      | - Normal Depth |  |\n",
    "\n",
    "## Version 5.10\n",
    "\n",
    "### Example: BaldEagleCrkMulti2D\n",
    "\n",
    "| Boundary Condition Types | Plan Files |\n",
    "|--------------------------|------------|\n",
    "| Flow Hydrograph          | BaldEagleDamBrk.p13 (PMF with Multi 2D Areas) |\n",
    "| Gate Opening             | BaldEagleDamBrk.p15 (1d-2D Dambreak Refined Grid) |\n",
    "| Lateral Inflow Hydrograph | BaldEagleDamBrk.p02 (SA to Detailed 2D Breach) |\n",
    "| Uniform Lateral Inflow Hydrograph | BaldEagleDamBrk.p05 (Single 2D area with Bridges FEQ) |\n",
    "| Normal Depth             | BaldEagleDamBrk.p01 (SA to Detailed 2D Breach FEQ) |\n",
    "\n",
    "| Project | Version | Boundary Conditions | Plans |\n",
    "|---------|---------|---------------------|-------|\n",
    "| BaldEagleCrkMulti2D | 5.10 | - Flow Hydrograph | 1. BaldEagleDamBrk.p13: PMF with Multi 2D Areas |\n",
    "|                     |      | - Gate Opening | 2. BaldEagleDamBrk.p15: 1d-2D Dambreak Refined Grid |\n",
    "|                     |      | - Lateral Inflow Hydrograph | 3. BaldEagleDamBrk.p02: SA to Detailed 2D Breach |\n",
    "|                     |      | - Uniform Lateral Inflow Hydrograph | 4. BaldEagleDamBrk.p05: Single 2D area with Bridges FEQ |\n",
    "|                     |      | - Normal Depth | 5. BaldEagleDamBrk.p01: SA to Detailed 2D Breach FEQ |\n",
    "\n",
    "## Version 5.00\n",
    "\n",
    "### Example: BaldEagleCrkMulti2D\n",
    "\n",
    "| Boundary Condition Types | Plan Files |\n",
    "|--------------------------|------------|\n",
    "| Flow Hydrograph          | BaldEagleDamBrk.p17 (2D to 1D No Dam) |\n",
    "| Gate Opening             | BaldEagleDamBrk.p18 (2D to 2D Run) |\n",
    "| Lateral Inflow Hydrograph | BaldEagleDamBrk.p19 (SA to 2D Dam Break Run) |\n",
    "| Uniform Lateral Inflow Hydrograph | BaldEagleDamBrk.p03 (Single 2D Area - Internal Dam Structure) |\n",
    "| Normal Depth             | BaldEagleDamBrk.p04 (SA to 2D Area Conn - 2D Levee Structure) |\n",
    "\n",
    "| Project | Version | Boundary Conditions | Plans |\n",
    "|---------|---------|---------------------|-------|\n",
    "| BaldEagleCrkMulti2D | 5.00 | - Flow Hydrograph | 1. BaldEagleDamBrk.p17: 2D to 1D No Dam |\n",
    "|                     |      | - Gate Opening | 2. BaldEagleDamBrk.p18: 2D to 2D Run |\n",
    "|                     |      | - Lateral Inflow Hydrograph | 3. BaldEagleDamBrk.p19: SA to 2D Dam Break Run |\n",
    "|                     |      | - Uniform Lateral Inflow Hydrograph | 4. BaldEagleDamBrk.p03: Single 2D Area - Internal Dam Structure |\n",
    "|                     |      | - Normal Depth | 5. BaldEagleDamBrk.p04: SA to 2D Area Conn - 2D Levee Structure |"
   ]
  },
  {
   "cell_type": "markdown",
   "metadata": {},
   "source": [
    "### Need the same tables for geometry key types\n",
    "\n",
    "Also need to open and save all example files in 6.5 using HECRASController (making a function to do this)\n",
    "\n",
    "This can be used to help find examples if the user wants to do something that the library is currently not capable of.  \n",
    "\n",
    "Using the RasExamples class, the user can extract these files and inspect them to find specific examples.  "
   ]
  }
 ],
 "metadata": {
  "kernelspec": {
   "display_name": "cmdr311",
   "language": "python",
   "name": "python3"
  },
  "language_info": {
   "codemirror_mode": {
    "name": "ipython",
    "version": 3
   },
   "file_extension": ".py",
   "mimetype": "text/x-python",
   "name": "python",
   "nbconvert_exporter": "python",
   "pygments_lexer": "ipython3",
   "version": "3.11.10"
  }
 },
 "nbformat": 4,
 "nbformat_minor": 2
}
