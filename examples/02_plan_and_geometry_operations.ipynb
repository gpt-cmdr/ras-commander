{
 "cells": [
  {
   "cell_type": "markdown",
   "metadata": {},
   "source": [
    "# RAS Commander: Plan and Geometry Operations\n",
    "\n",
    "This notebook demonstrates how to perform operations on HEC-RAS plan and geometry files using the RAS Commander library. We'll explore how to initialize projects, clone plans and geometries, configure parameters, execute plans, and analyze results.\n",
    "\n",
    "## Operations Covered\n",
    "\n",
    "1. **Project Initialization**: Initialize a HEC-RAS project by specifying the project path and version\n",
    "2. **Plan Operations**:\n",
    "   - Clone an existing plan to create a new one\n",
    "   - Configure simulation parameters and intervals\n",
    "   - Set run flags and update descriptions\n",
    "3. **Geometry Operations**:\n",
    "   - Clone a geometry file to create a modified version\n",
    "   - Set the geometry for a plan\n",
    "   - Clear geometry preprocessor files to ensure clean results\n",
    "4. **Flow Operations**:\n",
    "   - Clone unsteady flow files\n",
    "   - Configure flow parameters\n",
    "5. **Plan Computation**: Run the plan with specified settings\n",
    "6. **Results Verification**: Check HDF entries to confirm results were written"
   ]
  },
  {
   "cell_type": "markdown",
   "metadata": {},
   "source": [
    "## Package Installation and Environment Setup\n",
    "Uncomment and run package installation commands if needed"
   ]
  },
  {
   "cell_type": "code",
   "execution_count": 2,
   "metadata": {},
   "outputs": [],
   "source": [
    "# 1. Install ras-commander from pip (uncomment to install if needed)\n",
    "#!pip install ras-commander\n",
    "# This installs ras-commander and all dependencies"
   ]
  },
  {
   "cell_type": "code",
   "execution_count": 1,
   "metadata": {},
   "outputs": [],
   "source": [
    "# Import the required libraries for this notebook\n",
    "from ras_commander import *  # Import all ras-commander modules\n",
    "\n",
    "import os\n",
    "import sys\n",
    "from pathlib import Path\n",
    "import pandas as pd\n",
    "from IPython import display\n",
    "from datetime import datetime  "
   ]
  },
  {
   "cell_type": "markdown",
   "metadata": {},
   "source": [
    "## Downloading and Extracting Example HEC-RAS Projects\n",
    "\n",
    "We'll use the `RasExamples` class to download and extract an example HEC-RAS project. For this notebook, we'll use the \"Balde Eagle Creek\" project."
   ]
  },
  {
   "cell_type": "code",
   "execution_count": null,
   "metadata": {},
   "outputs": [],
   "source": [
    "# Extract specific projects we'll use in this tutorial\n",
    "# This will download them if not present and extract them to the example_projects folder\n",
    "bald_eagle_path = RasExamples.extract_project(\"Balde Eagle Creek\")\n",
    "print(bald_eagle_path)"
   ]
  },
  {
   "cell_type": "markdown",
   "metadata": {},
   "source": [
    "## Project Initialization\n",
    "\n",
    "The first step is to initialize the HEC-RAS project. This is done using the `init_ras_project()` function, which takes the project folder path and HEC-RAS version as parameters."
   ]
  },
  {
   "cell_type": "code",
   "execution_count": null,
   "metadata": {},
   "outputs": [],
   "source": [
    "init_ras_project(bald_eagle_path, \"6.6\")\n",
    "print(f\"Initialized HEC-RAS project: {ras.project_name}\")\n",
    "\n",
    "# Display the current plan files in the project\n",
    "print(\"\\nHEC-RAS Project Plan Data (plan_df):\")\n",
    "display.display(ras.plan_df)"
   ]
  },
  {
   "cell_type": "markdown",
   "metadata": {},
   "source": [
    "## Understanding Plan and Geometry Operations in HEC-RAS\n",
    "\n",
    "Before diving into the operations, let's understand what plan and geometry files are in HEC-RAS:\n",
    "\n",
    "- **Plan Files** (`.p*`): Define the simulation parameters including the reference to geometry and flow files, as well as computational settings.\n",
    "- **Geometry Files** (`.g*`): Define the physical characteristics of the river/channel system including cross-sections, 2D areas, and structures.\n",
    "\n",
    "The `RasPlan` and `RasGeo` classes provide methods for working with these files, including:\n",
    "\n",
    "1. Creating new plans and geometries by cloning existing ones\n",
    "2. Modifying simulation parameters and settings\n",
    "3. Associating geometries with plans\n",
    "4. Managing preprocessor files\n",
    "5. Retrieving information from plans and geometries\n",
    "\n",
    "In the following sections, we'll explore these operations in detail."
   ]
  },
  {
   "cell_type": "markdown",
   "metadata": {},
   "source": [
    "## Cloning Plans and Geometries\n",
    "\n",
    "Let's start by cloning a plan to create a new simulation scenario."
   ]
  },
  {
   "cell_type": "code",
   "execution_count": null,
   "metadata": {},
   "outputs": [],
   "source": [
    "# Clone plan \"01\" to create a new plan\n",
    "new_plan_number = RasPlan.clone_plan(\"01\", new_plan_shortid=\"Combined Test Plan\")\n",
    "print(f\"New plan created: {new_plan_number}\")\n",
    "\n",
    "# Display updated plan files\n",
    "print(\"\\nUpdated plan files:\")\n",
    "display.display(ras.plan_df)\n",
    "\n",
    "# Get the path to the new plan file\n",
    "plan_path = RasPlan.get_plan_path(new_plan_number)\n",
    "print(f\"\\nNew plan file path: {plan_path}\")\n",
    "\n",
    "# Let's examine the new plan's details\n",
    "new_plan = ras.plan_df[ras.plan_df['plan_number'] == new_plan_number].iloc[0]\n",
    "print(f\"\\nNew plan details:\")\n",
    "print(f\"Plan number: {new_plan_number}\")\n",
    "print(f\"Description: {new_plan.get('description', 'No description')}\")\n",
    "print(f\"Short Identifier: {new_plan.get('Short Identifier', 'Not available')}\")\n",
    "print(f\"Geometry file: {new_plan.get('Geom File', 'None')}\")\n",
    "print(f\"File path: {new_plan['full_path']}\")"
   ]
  },
  {
   "cell_type": "markdown",
   "metadata": {},
   "source": [
    "Now let's clone a geometry file. This allows us to make modifications to a geometry without affecting the original."
   ]
  },
  {
   "cell_type": "code",
   "execution_count": null,
   "metadata": {},
   "outputs": [],
   "source": [
    "# Clone geometry \"01\" to create a new geometry file\n",
    "new_geom_number = RasPlan.clone_geom(\"01\")\n",
    "print(f\"New geometry created: {new_geom_number}\")\n",
    "\n",
    "# Display updated geometry files\n",
    "print(\"\\nUpdated geometry files:\")\n",
    "display.display(ras.geom_df)\n",
    "\n",
    "# Get the path to the new geometry file\n",
    "geom_path = RasPlan.get_geom_path(new_geom_number)\n",
    "print(f\"\\nNew geometry file path: {geom_path}\")\n",
    "\n",
    "# Examine the new geometry's details\n",
    "new_geom = ras.geom_df.loc[ras.geom_df['geom_number'] == new_geom_number].squeeze()\n",
    "print(f\"\\nNew geometry details:\")\n",
    "print(f\"Geometry number: {new_geom_number}\")\n",
    "print(f\"Geometry file: {new_geom.get('geom_file', 'Not available')}\")\n",
    "print(f\"File path: {new_geom.get('full_path', 'Not available')}\")\n",
    "print(f\"HDF path: {new_geom.get('hdf_path', 'None')}\")"
   ]
  },
  {
   "cell_type": "markdown",
   "metadata": {},
   "source": [
    "Let's also clone an unsteady flow file to complete our new simulation setup."
   ]
  },
  {
   "cell_type": "code",
   "execution_count": null,
   "metadata": {},
   "outputs": [],
   "source": [
    "# Clone unsteady flow \"02\" to create a new unsteady flow file\n",
    "new_unsteady_number = RasPlan.clone_unsteady(\"02\")\n",
    "print(f\"New unsteady flow created: {new_unsteady_number}\")\n",
    "\n",
    "# Display updated unsteady flow files\n",
    "print(\"\\nUpdated unsteady flow files:\")\n",
    "display.display(ras.unsteady_df)\n",
    "\n",
    "# Examine the new unsteady flow's details\n",
    "new_unsteady = ras.unsteady_df[ras.unsteady_df['unsteady_number'] == new_unsteady_number].iloc[0]\n",
    "print(f\"\\nNew unsteady flow details:\")\n",
    "print(f\"Unsteady number: {new_unsteady_number}\")\n",
    "print(f\"File path: {new_unsteady['full_path']}\")\n",
    "print(f\"Flow Title: {new_unsteady.get('Flow Title', 'Not available')}\")"
   ]
  },
  {
   "cell_type": "markdown",
   "metadata": {},
   "source": [
    "## Associating Files and Setting Parameters\n",
    "\n",
    "Now that we have cloned our plan, geometry, and unsteady flow files, we need to associate them with each other and set various parameters.\n",
    "\n",
    "### Setting Geometry for a Plan\n",
    "\n",
    "Let's associate our new geometry with our new plan:"
   ]
  },
  {
   "cell_type": "code",
   "execution_count": null,
   "metadata": {},
   "outputs": [],
   "source": [
    "# Set the new geometry for the cloned plan\n",
    "updated_geom_df = RasPlan.set_geom(new_plan_number, new_geom_number)\n",
    "plan_path = RasPlan.get_plan_path(new_plan_number, ras_object=ras)\n",
    "print(f\"Updated geometry for plan {new_plan_number} to geometry {new_geom_number}\")\n",
    "print(f\"Plan file path: {plan_path}\")\n",
    "\n",
    "# Let's verify the change\n",
    "updated_plan = ras.plan_df[ras.plan_df['plan_number'] == new_plan_number].iloc[0]\n",
    "print(f\"\\nVerified that plan {new_plan_number} now uses geometry file: {updated_plan.get('Geom File', 'None')}\")"
   ]
  },
  {
   "cell_type": "markdown",
   "metadata": {},
   "source": [
    "### Setting Unsteady Flow for a Plan\n",
    "\n",
    "Similarly, let's associate our new unsteady flow file with our plan:"
   ]
  },
  {
   "cell_type": "code",
   "execution_count": null,
   "metadata": {},
   "outputs": [],
   "source": [
    "# Set unsteady flow for the cloned plan\n",
    "RasPlan.set_unsteady(new_plan_number, new_unsteady_number)\n",
    "print(f\"Updated unsteady flow for plan {new_plan_number} to unsteady flow {new_unsteady_number}\")"
   ]
  },
  {
   "cell_type": "markdown",
   "metadata": {},
   "source": [
    "### Clearing Geometry Preprocessor Files\n",
    "\n",
    "When working with geometry files, it's important to clear the preprocessor files to ensure clean results. These files (with `.c*` extension) contain computed hydraulic properties that should be recomputed when the geometry changes."
   ]
  },
  {
   "cell_type": "code",
   "execution_count": null,
   "metadata": {},
   "outputs": [],
   "source": [
    "# Clear geometry preprocessor files for the cloned plan\n",
    "RasGeo.clear_geompre_files(plan_path)\n",
    "print(f\"Cleared geometry preprocessor files for plan {new_plan_number}\")\n",
    "\n",
    "# Check if preprocessor file exists after clearing\n",
    "geom_preprocessor_suffix = '.c' + ''.join(Path(plan_path).suffixes[1:])\n",
    "geom_preprocessor_file = Path(plan_path).with_suffix(geom_preprocessor_suffix)\n",
    "print(f\"Preprocessor file exists after clearing: {geom_preprocessor_file.exists()}\")"
   ]
  },
  {
   "cell_type": "markdown",
   "metadata": {},
   "source": [
    "### Setting Computation Parameters\n",
    "\n",
    "Let's set the computation parameters for our plan:"
   ]
  },
  {
   "cell_type": "code",
   "execution_count": null,
   "metadata": {},
   "outputs": [],
   "source": [
    "# Set the number of cores to use for the computation\n",
    "RasPlan.set_num_cores(new_plan_number, 2)\n",
    "print(f\"Updated number of cores for plan {new_plan_number} to 2\")\n",
    "\n",
    "# Verify by extracting the value from the plan file\n",
    "cores_value = RasPlan.get_plan_value(new_plan_number, \"UNET D1 Cores\")\n",
    "print(f\"\\nVerified that UNET D1 Cores is set to: {cores_value}\")\n",
    "\n",
    "# Set geometry preprocessor options\n",
    "RasPlan.set_geom_preprocessor(plan_path, run_htab=-1, use_ib_tables=-1)\n",
    "print(f\"Updated geometry preprocessor options for plan {new_plan_number}\")\n",
    "print(f\"- Run HTab: -1 (Force recomputation of geometry tables)\")\n",
    "print(f\"- Use Existing IB Tables: -1 (Force recomputation of interpolation/boundary tables)\")\n",
    "\n",
    "# Verify by extracting the values from the plan file\n",
    "run_htab_value = RasPlan.get_plan_value(new_plan_number, \"Run HTab\")\n",
    "ib_tables_value = RasPlan.get_plan_value(new_plan_number, \"UNET Use Existing IB Tables\")\n",
    "print(f\"\\nVerified setting values:\")\n",
    "print(f\"- Run HTab: {run_htab_value}\")\n",
    "print(f\"- UNET Use Existing IB Tables: {ib_tables_value}\")"
   ]
  },
  {
   "cell_type": "markdown",
   "metadata": {},
   "source": [
    "### Updating Simulation Parameters\n",
    "\n",
    "Now, let's update various simulation parameters for our plan:"
   ]
  },
  {
   "cell_type": "code",
   "execution_count": null,
   "metadata": {},
   "outputs": [],
   "source": [
    "# 1. Update simulation date\n",
    "start_date = datetime(2023, 1, 1, 0, 0)  # January 1, 2023, 00:00\n",
    "end_date = datetime(2023, 1, 5, 23, 59)  # January 5, 2023, 23:59\n",
    "\n",
    "RasPlan.update_simulation_date(new_plan_number, start_date, end_date)\n",
    "print(f\"Updated simulation date for plan {new_plan_number}:\")\n",
    "print(f\"- Start Date: {start_date}\")\n",
    "print(f\"- End Date: {end_date}\")\n",
    "\n",
    "# Verify the update\n",
    "sim_date = RasPlan.get_plan_value(new_plan_number, \"Simulation Date\")\n",
    "print(f\"Verified Simulation Date value: {sim_date}\")\n",
    "\n",
    "# 2. Update plan intervals\n",
    "RasPlan.update_plan_intervals(\n",
    "    new_plan_number,\n",
    "    computation_interval=\"1MIN\",  # Computational time step\n",
    "    output_interval=\"15MIN\",      # How often results are written\n",
    "    mapping_interval=\"30MIN\"      # How often mapping outputs are created\n",
    ")\n",
    "print(f\"\\nUpdated plan intervals for plan {new_plan_number}:\")\n",
    "print(f\"- Computation Interval: 1MIN\")\n",
    "print(f\"- Output Interval: 15MIN\")\n",
    "print(f\"- Mapping Interval: 30MIN\")\n",
    "\n",
    "# Verify the updates\n",
    "comp_interval = RasPlan.get_plan_value(new_plan_number, \"Computation Interval\")\n",
    "mapping_interval = RasPlan.get_plan_value(new_plan_number, \"Mapping Interval\")\n",
    "print(f\"Verified interval values:\")\n",
    "print(f\"- Computation Interval: {comp_interval}\")\n",
    "print(f\"- Mapping Interval: {mapping_interval}\")\n",
    "\n",
    "# 3. Update run flags\n",
    "RasPlan.update_run_flags(\n",
    "    new_plan_number,\n",
    "    geometry_preprocessor=True,   # Run the geometry preprocessor\n",
    "    unsteady_flow_simulation=True, # Run unsteady flow simulation\n",
    "    post_processor=True,          # Run post-processing\n",
    "    floodplain_mapping=True       # Generate floodplain mapping outputs\n",
    ")\n",
    "print(f\"\\nUpdated run flags for plan {new_plan_number}:\")\n",
    "print(f\"- Geometry Preprocessor: True\")\n",
    "print(f\"- Unsteady Flow Simulation: True\")\n",
    "print(f\"- Post Processor: True\")\n",
    "print(f\"- Floodplain Mapping: True\")\n",
    "\n",
    "# Verify the updates\n",
    "run_htab = RasPlan.get_plan_value(new_plan_number, \"Run HTab\")\n",
    "run_unet = RasPlan.get_plan_value(new_plan_number, \"Run UNet\")\n",
    "print(f\"Verified run flag values:\")\n",
    "print(f\"- Run HTab (Geometry Preprocessor): {run_htab}\")\n",
    "print(f\"- Run UNet (Unsteady Flow): {run_unet}\")\n",
    "\n",
    "# 4. Update plan description\n",
    "new_description = \"Combined plan with modified geometry and unsteady flow\\nJanuary 2023 simulation\\n1-minute computation interval\\nGeometry and unsteady flow from cloned files\"\n",
    "RasPlan.update_plan_description(new_plan_number, new_description)\n",
    "print(f\"\\nUpdated description for plan {new_plan_number}\")\n",
    "\n",
    "# Read back the description\n",
    "current_description = RasPlan.read_plan_description(new_plan_number)\n",
    "print(f\"Current plan description:\\n{current_description}\")"
   ]
  },
  {
   "cell_type": "markdown",
   "metadata": {},
   "source": [
    "## Computing the Plan\n",
    "\n",
    "Now that we have set up all the parameters, let's compute the plan using RasCmdr.compute_plan():"
   ]
  },
  {
   "cell_type": "code",
   "execution_count": null,
   "metadata": {},
   "outputs": [],
   "source": [
    "# Compute the plan with our configured settings\n",
    "# Note: This may take several minutes depending on the complexity of the model\n",
    "print(f\"Computing plan {new_plan_number}...\")\n",
    "success = RasCmdr.compute_plan(new_plan_number, clear_geompre=True)\n",
    "\n",
    "if success:\n",
    "    print(f\"Plan {new_plan_number} computed successfully\")\n",
    "else:\n",
    "    print(f\"Failed to compute plan {new_plan_number}\")"
   ]
  },
  {
   "cell_type": "markdown",
   "metadata": {},
   "source": [
    "## Verifying Results\n",
    "\n",
    "After computation, we should check if results were written correctly:"
   ]
  },
  {
   "cell_type": "code",
   "execution_count": null,
   "metadata": {},
   "outputs": [],
   "source": [
    "# Refresh the plan entries to ensure we have the latest data\n",
    "ras.plan_df = ras.get_plan_entries()\n",
    "hdf_entries = ras.get_hdf_entries()\n",
    "\n",
    "if not hdf_entries.empty:\n",
    "    print(\"HDF entries for the project:\")\n",
    "    display.display(hdf_entries)\n",
    "    \n",
    "    # Check if our new plan has an HDF file\n",
    "    new_plan_hdf = hdf_entries[hdf_entries['plan_number'] == new_plan_number]\n",
    "    if not new_plan_hdf.empty:\n",
    "        print(f\"\\nPlan {new_plan_number} has a valid HDF results file:\")\n",
    "        print(f\"HDF Path: {new_plan_hdf.iloc[0]['HDF_Results_Path']}\")\n",
    "    else:\n",
    "        print(f\"\\nNo HDF entry found for plan {new_plan_number}\")\n",
    "else:\n",
    "    print(\"No HDF entries found. This could mean the plan hasn't been computed successfully or the results haven't been written yet.\")\n",
    "\n",
    "# Display all plan entries to see their HDF paths\n",
    "print(\"\\nAll plan entries with their HDF paths:\")\n",
    "plan_hdf_info = ras.plan_df[['plan_number', 'HDF_Results_Path']]\n",
    "display.display(plan_hdf_info)"
   ]
  },
  {
   "cell_type": "markdown",
   "metadata": {},
   "source": [
    "If the plan was computed successfully, we can examine the runtime data and volume accounting from the HDF results:"
   ]
  },
  {
   "cell_type": "code",
   "execution_count": null,
   "metadata": {},
   "outputs": [],
   "source": [
    "# Get computation runtime data from HDF\n",
    "print(\"Checking computation runtime data...\")\n",
    "runtime_df = HdfResultsPlan.get_runtime_data(new_plan_number)\n",
    "\n",
    "if runtime_df is not None and not runtime_df.empty:\n",
    "    print(\"\\nSimulation Runtime Statistics:\")\n",
    "    display.display(runtime_df)\n",
    "    \n",
    "    # Extract key metrics\n",
    "    sim_duration = runtime_df['Simulation Duration (s)'].iloc[0]\n",
    "    compute_time = runtime_df['Complete Process (hr)'].iloc[0]\n",
    "    compute_speed = runtime_df['Complete Process Speed (hr/hr)'].iloc[0]\n",
    "    \n",
    "    print(f\"\\nSimulation Duration: {sim_duration:.2f} seconds\")\n",
    "    print(f\"Computation Time: {compute_time:.5f} hours\")\n",
    "    print(f\"Computation Speed: {compute_speed:.2f} (simulation hours/compute hours)\")\n",
    "else:\n",
    "    print(\"No runtime data found. This may indicate the simulation didn't complete successfully.\")\n",
    "\n",
    "# Get volume accounting data\n",
    "print(\"\\nChecking volume accounting...\")\n",
    "volume_df = HdfResultsPlan.get_volume_accounting(new_plan_number)\n",
    "\n",
    "if volume_df is not None and not isinstance(volume_df, bool):\n",
    "    # Handle volume_df as a dictionary\n",
    "    if isinstance(volume_df, dict):\n",
    "        error_percent = volume_df.get('Error Percent')\n",
    "        if error_percent is not None:\n",
    "            print(f\"\\nFinal Volume Balance Error: {float(error_percent):.8f}%\")\n",
    "            \n",
    "        # Print other key statistics\n",
    "        print(\"\\nDetailed Volume Statistics:\")\n",
    "        print(f\"Volume Starting: {float(volume_df['Volume Starting']):.2f} {volume_df['Vol Accounting in'].decode()}\")\n",
    "        print(f\"Volume Ending: {float(volume_df['Volume Ending']):.2f} {volume_df['Vol Accounting in'].decode()}\")\n",
    "        print(f\"Total Inflow: {float(volume_df['Total Boundary Flux of Water In']):.2f} {volume_df['Vol Accounting in'].decode()}\")\n",
    "        print(f\"Total Outflow: {float(volume_df['Total Boundary Flux of Water Out']):.2f} {volume_df['Vol Accounting in'].decode()}\")\n",
    "else:\n",
    "    print(\"No volume accounting data found. This may indicate the simulation didn't complete successfully.\")"
   ]
  },
  {
   "cell_type": "markdown",
   "metadata": {},
   "source": [
    "## Working with Advanced HDF Data\n",
    "\n",
    "Let's explore how to access more detailed geometry data from the HDF files. When working with HEC-RAS, the geometric information is stored in HDF files (`.g*.hdf`) which can be accessed using the HDF classes in RAS Commander."
   ]
  },
  {
   "cell_type": "code",
   "execution_count": null,
   "metadata": {},
   "outputs": [],
   "source": [
    "# Refresh geometry information\n",
    "ras.geom_df = ras.get_geom_entries()\n",
    "\n",
    "# Get HDF path for the new geometry\n",
    "geom_info = ras.geom_df[ras.geom_df['geom_number'] == new_geom_number]\n",
    "if not geom_info.empty and 'hdf_path' in geom_info.columns:\n",
    "    geom_hdf_path = geom_info.iloc[0]['hdf_path']\n",
    "    print(f\"Geometry HDF path: {geom_hdf_path}\")\n",
    "    \n",
    "    # Check if the HDF file exists\n",
    "    geom_hdf_file = Path(geom_hdf_path)\n",
    "    if geom_hdf_file.exists():\n",
    "        print(f\"Geometry HDF file exists: {geom_hdf_file.exists()}\")\n",
    "        \n",
    "        # If it exists, try to extract some information from it\n",
    "        try:\n",
    "            # Get cross-sections if this is a 1D or combined 1D/2D model\n",
    "            xs_data = HdfXsec.get_cross_sections(geom_hdf_path)\n",
    "            if not xs_data.empty:\n",
    "                print(f\"\\nFound {len(xs_data)} cross-sections in the geometry:\")\n",
    "                display.display(xs_data.head())\n",
    "            else:\n",
    "                print(\"No cross-sections found in the geometry.\")\n",
    "                \n",
    "            # Get 2D flow areas if this is a 2D or combined 1D/2D model\n",
    "            mesh_areas = HdfMesh.get_mesh_areas(geom_hdf_path)\n",
    "            if not mesh_areas.empty:\n",
    "                print(f\"\\nFound {len(mesh_areas)} 2D flow areas in the geometry:\")\n",
    "                display.display(mesh_areas.head())\n",
    "            else:\n",
    "                print(\"No 2D flow areas found in the geometry.\")\n",
    "                \n",
    "            # Get structures if any exist\n",
    "            strucs = HdfStruc.get_structures(geom_hdf_path)\n",
    "            if not strucs.empty:\n",
    "                print(f\"\\nFound {len(strucs)} structures in the geometry:\")\n",
    "                display.display(strucs.head())\n",
    "            else:\n",
    "                print(\"No structures found in the geometry.\")\n",
    "                \n",
    "        except Exception as e:\n",
    "            print(f\"Error accessing geometry HDF data: {e}\")\n",
    "    else:\n",
    "        print(\"Geometry HDF file does not exist.\")\n",
    "else:\n",
    "    print(\"Could not find HDF path for the new geometry.\")"
   ]
  },
  {
   "cell_type": "markdown",
   "metadata": {},
   "source": [
    "## Summary of Plan and Geometry Operations\n",
    "\n",
    "In this notebook, we've covered a comprehensive range of operations on HEC-RAS plan and geometry files using the RAS Commander library:\n",
    "\n",
    "1. **Project Initialization**: We initialized a HEC-RAS project to work with\n",
    "2. **Plan Operations**:\n",
    "   - Created a new plan by cloning an existing one\n",
    "   - Updated simulation parameters (dates, intervals, etc.)\n",
    "   - Set run flags for different components\n",
    "   - Updated the plan description\n",
    "3. **Geometry Operations**:\n",
    "   - Created a new geometry by cloning an existing one\n",
    "   - Associated the new geometry with our plan\n",
    "   - Cleared geometry preprocessor files\n",
    "4. **Unsteady Flow Operations**:\n",
    "   - Created a new unsteady flow file by cloning an existing one\n",
    "   - Associated it with our plan\n",
    "5. **Computation and Verification**:\n",
    "   - Computed our plan with the specified settings\n",
    "   - Verified the results using HDF entries\n",
    "   - Analyzed runtime statistics and volume accounting\n",
    "6. **Advanced HDF Operations**:\n",
    "   - Accessed detailed geometry information from HDF files\n",
    "   - Explored cross-sections, mesh areas, and structures\n",
    "\n",
    "### Key Classes and Functions Used\n",
    "\n",
    "- `RasPlan`: For plan operations (cloning, setting components, and modifying parameters)\n",
    "- `RasGeo`: For geometry operations (cloning, clearing preprocessor files)\n",
    "- `RasCmdr`: For executing HEC-RAS simulations\n",
    "- `HdfResultsPlan`: For accessing plan-level results\n",
    "- `HdfXsec`, `HdfMesh`, `HdfStruc`: For accessing geometry details\n",
    "\n",
    "### Next Steps\n",
    "\n",
    "To further enhance your HEC-RAS automation, consider exploring:\n",
    "\n",
    "1. **Parameter Sweeps**: Create and run multiple plans with varying parameters\n",
    "2. **Parallel Computations**: Run multiple plans simultaneously using `RasCmdr.compute_parallel()`\n",
    "3. **Advanced Results Analysis**: Use the HDF classes to extract and analyze specific model results\n",
    "4. **Spatial Visualization**: Create maps and plots of simulation results\n",
    "5. **Model Calibration**: Automate comparison between model results and observations\n",
    "\n",
    "The RAS Commander library provides a powerful framework for automating and streamlining your HEC-RAS workflows, enabling more efficient hydraulic modeling and analyses."
   ]
  }
 ],
 "metadata": {
  "kernelspec": {
   "display_name": "cmdrpip4",
   "language": "python",
   "name": "python3"
  },
  "language_info": {
   "codemirror_mode": {
    "name": "ipython",
    "version": 3
   },
   "file_extension": ".py",
   "mimetype": "text/x-python",
   "name": "python",
   "nbconvert_exporter": "python",
   "pygments_lexer": "ipython3",
   "version": "3.12.9"
  }
 },
 "nbformat": 4,
 "nbformat_minor": 4
}
