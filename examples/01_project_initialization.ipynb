{
 "cells": [
  {
   "cell_type": "markdown",
   "metadata": {},
   "source": [
    "# RAS Commander Project Initialization\n",
    "\n",
    "This notebook demonstrates how to initialize and work with HEC-RAS projects using the `ras-commander` library. You'll learn how to:\n",
    "\n",
    "1. Set up and configure the RAS Commander environment\n",
    "2. Download and extract example HEC-RAS projects\n",
    "3. Initialize HEC-RAS projects using the global `ras` object\n",
    "4. Initialize multiple HEC-RAS projects using custom RAS objects\n",
    "5. Access various project components (plans, geometries, flows, boundaries)\n",
    "\n",
    "## Key Concepts\n",
    "\n",
    "- **RasPrj Objects**: Represent HEC-RAS projects with access to plans, geometries, flows, etc.\n",
    "- **Global `ras` object**: A singleton instance for simple, single-project scripts\n",
    "- **Custom RAS Objects**: Independent instances for multi-project workflows\n",
    "- **Project Initialization**: Process of connecting to HEC-RAS projects\n",
    "- **Project Components**: Structured access to plans, geometries, and flow files\n",
    "\n",
    "Let's start by importing the necessary libraries."
   ]
  },
  {
   "cell_type": "code",
   "execution_count": 1,
   "metadata": {},
   "outputs": [],
   "source": [
    "# 1 Import required Libraries and install if missing\n",
    "import subprocess\n",
    "import sys\n",
    "import os\n",
    "from pathlib import Path\n",
    "\n",
    "def install_module(module_name):\n",
    "    try:\n",
    "        if module_name.lower() == 'ipython':\n",
    "            # Try importing IPython instead of ipython\n",
    "            __import__('IPython') \n",
    "        else:\n",
    "            __import__(module_name)\n",
    "    except ImportError:\n",
    "        print(f\"{module_name} not found. Installing...\")\n",
    "        subprocess.check_call([sys.executable, \"-m\", \"pip\", \"install\", \"-U\", module_name])\n",
    "\n",
    "# List of modules to check and install if necessary\n",
    "modules = [\n",
    "    'h5py', 'numpy', 'pandas', 'requests', 'tqdm', 'scipy', 'xarray',\n",
    "    'geopandas', 'matplotlib', 'ipython', 'tqdm', 'psutil', 'shapely', \n",
    "    'fiona', 'pathlib', 'rtree', 'rasterstats'\n",
    "]\n",
    "for module in modules:\n",
    "    install_module(module)\n",
    "\n",
    "# Import the required libraries\n",
    "import h5py\n",
    "import numpy as np\n",
    "import pandas as pd\n",
    "import requests\n",
    "from tqdm import tqdm\n",
    "import scipy\n",
    "import xarray as xr\n",
    "import geopandas as gpd\n",
    "import matplotlib.pyplot as plt\n",
    "from IPython import display\n",
    "import psutil\n",
    "from shapely.geometry import Point, LineString, Polygon\n",
    "import fiona\n",
    "from pathlib import Path\n",
    "import rtree\n",
    "import rasterstats"
   ]
  },
  {
   "cell_type": "code",
   "execution_count": 2,
   "metadata": {},
   "outputs": [],
   "source": [
    "# 1. Install ras-commander from pip (uncomment to install if needed)\n",
    "#!pip install ras-commander\n",
    "# This installs ras-commander and all dependencies"
   ]
  },
  {
   "cell_type": "code",
   "execution_count": 3,
   "metadata": {},
   "outputs": [],
   "source": [
    "# 2. Import all required modules\n",
    "\n",
    "# Import all ras-commander modules\n",
    "from ras_commander import *\n",
    "\n",
    "# Import the required libraries for this notebook\n",
    "import os\n",
    "from pathlib import Path\n",
    "import pandas as pd\n",
    "from IPython import display"
   ]
  },
  {
   "cell_type": "markdown",
   "metadata": {},
   "source": [
    "## Setting Up the Environment\n",
    "\n",
    "Let's define our working directory and ensure we're in a consistent environment:"
   ]
  },
  {
   "cell_type": "markdown",
   "metadata": {},
   "source": [
    "## RAS Commander: Core Concepts\n",
    "\n",
    "RAS Commander is a Python library that provides tools for automating HEC-RAS tasks. It's built with several key design principles:\n",
    "\n",
    "1. **Project-Centric Architecture**: Everything revolves around HEC-RAS projects\n",
    "2. **Two RAS Object Approaches**:\n",
    "   - **Global `ras` Object**: A singleton for simple scripts\n",
    "   - **Custom RAS Objects**: Multiple ras project instances for complex workflows\n",
    "3. **Comprehensive Project Representation**: Each RAS object includes DataFrames for plans, geometries, flows, and boundaries\n",
    "4. **Logging**: Built-in logging to track operations and debug issues\n",
    "5. **HDF Support**: Specialized functions for HDF file access (plan results, geometry, etc.)\n",
    "\n",
    "Let's explore these concepts in practice."
   ]
  },
  {
   "cell_type": "markdown",
   "metadata": {},
   "source": [
    "## Downloading Example HEC-RAS Projects\n",
    "\n",
    "RAS Commander includes a utility to download and extract example HEC-RAS projects. These are useful for learning and testing:"
   ]
  },
  {
   "cell_type": "code",
   "execution_count": null,
   "metadata": {},
   "outputs": [],
   "source": [
    "# Extract specific projects we'll use in this tutorial\n",
    "# This will download them if not present and extract them to the example_projects folder\n",
    "extracted_paths = RasExamples.extract_project([\"Balde Eagle Creek\", \"BaldEagleCrkMulti2D\", \"Muncie\"])\n",
    "print(extracted_paths)"
   ]
  },
  {
   "cell_type": "markdown",
   "metadata": {},
   "source": [
    "# Get Paths for Extracted Example Projects"
   ]
  },
  {
   "cell_type": "code",
   "execution_count": null,
   "metadata": {},
   "outputs": [],
   "source": [
    "# Get the parent directory of the first extracted path as our examples directory\n",
    "examples_dir = extracted_paths[0].parent\n",
    "print(f\"Examples directory: {examples_dir}\")\n",
    "\n",
    "\n",
    "# Define paths to the extracted projects\n",
    "bald_eagle_path = examples_dir / \"Balde Eagle Creek\"\n",
    "multi_2d_path = examples_dir / \"BaldEagleCrkMulti2D\"\n",
    "muncie_path = examples_dir / \"Muncie\"\n",
    "\n",
    "# Verify the paths exist\n",
    "for path in [bald_eagle_path, multi_2d_path, muncie_path]:\n",
    "    print(f\"Path {path} exists: {path.exists()}\")"
   ]
  },
  {
   "cell_type": "markdown",
   "metadata": {},
   "source": [
    "## Utility Function to Print RAS Object Data\n",
    "\n",
    "Let's create a utility function to help us explore the contents of RAS objects:"
   ]
  },
  {
   "cell_type": "code",
   "execution_count": 6,
   "metadata": {},
   "outputs": [],
   "source": [
    "def print_ras_object_data(ras_obj, project_name):\n",
    "    \"\"\"Prints comprehensive information about a RAS object\"\"\"\n",
    "    print(f\"\\n{project_name} Data:\")\n",
    "    print(\"=\" * 50)\n",
    "    print(f\"Project Name: {ras_obj.get_project_name()}\")\n",
    "    print(f\"Project Folder: {ras_obj.project_folder}\")\n",
    "    print(f\"PRJ File: {ras_obj.prj_file}\")\n",
    "    print(f\"HEC-RAS Executable Path: {ras_obj.ras_exe_path}\")\n",
    "    \n",
    "    print(\"\\nPlan Files DataFrame:\")\n",
    "    display.display(ras_obj.plan_df)\n",
    "    \n",
    "    print(\"\\nFlow Files DataFrame:\")\n",
    "    display.display(ras_obj.flow_df)\n",
    "    \n",
    "    print(\"\\nUnsteady Flow Files DataFrame:\")\n",
    "    display.display(ras_obj.unsteady_df)\n",
    "    \n",
    "    print(\"\\nGeometry Files DataFrame:\")\n",
    "    display.display(ras_obj.geom_df)\n",
    "    \n",
    "    print(\"\\nHDF Entries DataFrame:\")\n",
    "    display.display(ras_obj.get_hdf_entries())\n",
    "    \n",
    "    print(\"\\nBoundary Conditions DataFrame:\")\n",
    "    display.display(ras_obj.boundaries_df)"
   ]
  },
  {
   "cell_type": "markdown",
   "metadata": {},
   "source": [
    "## Approach 1: Using the Global `ras` Object\n",
    "\n",
    "The global `ras` object is a singleton instance that persists throughout your script. It's ideal for simple scripts working with a single project.\n",
    "\n",
    "Key characteristics:\n",
    "- It's available as `ras` immediately after import\n",
    "- It's initialized via `init_ras_project()` without saving the return value\n",
    "- It provides access to all project data through the global `ras` variable\n",
    "- It's simple to use but can be problematic in complex scenarios\n",
    "\n",
    "Let's initialize it with the Bald Eagle Creek project:"
   ]
  },
  {
   "cell_type": "code",
   "execution_count": null,
   "metadata": {},
   "outputs": [],
   "source": [
    "# Initialize the global ras object with Bald Eagle Creek project\n",
    "# Note: This updates the global 'ras' object visible throughout the script\n",
    "# Parameters:\n",
    "#   - project_folder: Path to the HEC-RAS project folder (required)\n",
    "#   - ras_version: HEC-RAS version (e.g. \"6.5\") or path to Ras.exe (required first time)\n",
    "\n",
    "init_ras_project(bald_eagle_path, \"6.5\")\n",
    "print(f\"The global 'ras' object is now initialized with the {ras.project_name} project\")"
   ]
  },
  {
   "cell_type": "code",
   "execution_count": null,
   "metadata": {},
   "outputs": [],
   "source": [
    "# Explore the global ras object with our utility function\n",
    "print_ras_object_data(ras, \"Global RAS Object (Bald Eagle Creek)\")"
   ]
  },
  {
   "cell_type": "markdown",
   "metadata": {},
   "source": [
    "### Understanding the RAS Object Structure\n",
    "\n",
    "Each RAS object contains several important components:\n",
    "\n",
    "1. **Project Metadata**:\n",
    "   - `project_name`: Name of the HEC-RAS project\n",
    "   - `project_folder`: Directory containing project files\n",
    "   - `prj_file`: Path to the main .prj file\n",
    "   - `ras_exe_path`: Path to the HEC-RAS executable\n",
    "\n",
    "2. **Project DataFrames**:\n",
    "   - `plan_df`: Information about all plan files (.p*)\n",
    "   - `flow_df`: Information about all steady flow files (.f*)\n",
    "   - `unsteady_df`: Information about all unsteady flow files (.u*)\n",
    "   - `geom_df`: Information about all geometry files (.g*)\n",
    "   - `boundaries_df`: Information about all boundary conditions\n",
    "\n",
    "3. **Methods for Data Access**:\n",
    "   - `get_plan_entries()`: Get plan file information\n",
    "   - `get_flow_entries()`: Get flow file information\n",
    "   - `get_unsteady_entries()`: Get unsteady flow file information \n",
    "   - `get_geom_entries()`: Get geometry file information\n",
    "   - `get_hdf_entries()`: Get HDF file paths for result files\n",
    "   - `get_boundary_conditions()`: Get boundary condition details\n",
    "\n",
    "Let's see how to access specific information from these components:"
   ]
  },
  {
   "cell_type": "code",
   "execution_count": null,
   "metadata": {},
   "outputs": [],
   "source": [
    "# Get the first plan's details\n",
    "if not ras.plan_df.empty:\n",
    "    first_plan = ras.plan_df.iloc[0]\n",
    "    print(f\"First plan number: {first_plan['plan_number']}\")\n",
    "    print(f\"Plan path: {first_plan['full_path']}\")\n",
    "    \n",
    "    # Get the geometry file for this plan\n",
    "    geom_id = first_plan.get('Geom File', '').replace('g', '')\n",
    "    if geom_id:\n",
    "        geom_info = ras.geom_df[ras.geom_df['geom_number'] == geom_id]\n",
    "        if not geom_info.empty:\n",
    "            print(f\"Geometry file: {geom_info.iloc[0]['full_path']}\")\n",
    "    \n",
    "    # Get the HDF results file for this plan (if exists)\n",
    "    if 'HDF_Results_Path' in first_plan and first_plan['HDF_Results_Path']:\n",
    "        print(f\"Results file: {first_plan['HDF_Results_Path']}\")\n",
    "else:\n",
    "    print(\"No plans found in the project.\")"
   ]
  },
  {
   "cell_type": "markdown",
   "metadata": {},
   "source": [
    "### Working with Boundary Conditions\n",
    "\n",
    "Boundary conditions define the inputs and outputs of your model. Let's see how to access boundary condition information:"
   ]
  },
  {
   "cell_type": "code",
   "execution_count": null,
   "metadata": {},
   "outputs": [],
   "source": [
    "# View the boundary conditions DataFrame\n",
    "ras.boundaries_df "
   ]
  },
  {
   "cell_type": "markdown",
   "metadata": {},
   "source": [
    "## Approach 2: Using Custom RAS Objects\n",
    "\n",
    "For more complex scripts or when working with multiple projects, it's better to create and use separate RAS objects. This approach:\n",
    "\n",
    "- Creates independent RAS objects for each project\n",
    "- Avoids overwriting the global `ras` object\n",
    "- Provides clearer separation between projects\n",
    "- Allows working with multiple projects simultaneously\n",
    "- Requires saving the return value from `init_ras_project()`\n",
    "\n",
    "Let's initialize multiple projects with custom RAS objects:"
   ]
  },
  {
   "cell_type": "code",
   "execution_count": null,
   "metadata": {},
   "outputs": [],
   "source": [
    "# Initialize multiple project instances with custom RAS objects\n",
    "# Note: This also updates the global 'ras' object each time, but we'll use the custom instances\n",
    "# Parameters remain the same as before\n",
    "\n",
    "multi_2d_project = init_ras_project(multi_2d_path, \"6.5\")\n",
    "print(f\"\\nMulti2D project initialized with its own RAS object\")\n",
    "\n",
    "muncie_project = init_ras_project(muncie_path, \"6.5\")\n",
    "print(f\"\\nMuncie project initialized with its own RAS object\")\n",
    "\n",
    "# Note that the global 'ras' object now points to the Muncie project\n",
    "# The global 'ras' object gets overwritten every time a project is initialized ,\n",
    "print(f\"\\nGlobal 'ras' object now points to: {ras.project_name} since it was the last one initialized.  Avoid the global object when using multiple projects.\")"
   ]
  },
  {
   "cell_type": "markdown",
   "metadata": {},
   "source": [
    "### Exploring Multiple Projects\n",
    "\n",
    "Now we have three RAS objects:\n",
    "- `multi_2d_project`: Our custom object for the Multi2D project\n",
    "- `muncie_project`: Our custom object for the Muncie project\n",
    "- `ras`: The global object (which now points to Muncie)\n",
    "\n",
    "Let's examine the Multi2D project:"
   ]
  },
  {
   "cell_type": "code",
   "execution_count": null,
   "metadata": {},
   "outputs": [],
   "source": [
    "# Examine the Multi2D project\n",
    "print_ras_object_data(multi_2d_project, \"Multi2D Project\")"
   ]
  },
  {
   "cell_type": "code",
   "execution_count": null,
   "metadata": {},
   "outputs": [],
   "source": [
    "# Examine the Muncie project\n",
    "print_ras_object_data(muncie_project, \"Muncie Project\")"
   ]
  },
  {
   "cell_type": "markdown",
   "metadata": {},
   "source": [
    "### Comparing Projects\n",
    "\n",
    "Let's compare some key metrics of the two projects:"
   ]
  },
  {
   "cell_type": "code",
   "execution_count": null,
   "metadata": {},
   "outputs": [],
   "source": [
    "# Create a comparison table of the two projects\n",
    "comparison_data = {\n",
    "    'Project Name': [multi_2d_project.project_name, muncie_project.project_name],\n",
    "    'Number of Plans': [len(multi_2d_project.plan_df), len(muncie_project.plan_df)],\n",
    "    'Number of Geometries': [len(multi_2d_project.geom_df), len(muncie_project.geom_df)],\n",
    "    'Number of Flow Files': [len(multi_2d_project.flow_df), len(muncie_project.flow_df)],\n",
    "    'Number of Unsteady Files': [len(multi_2d_project.unsteady_df), len(muncie_project.unsteady_df)],\n",
    "    'Number of Boundary Conditions': [len(multi_2d_project.boundaries_df) if hasattr(multi_2d_project, 'boundaries_df') else 0, \n",
    "                                     len(muncie_project.boundaries_df) if hasattr(muncie_project, 'boundaries_df') else 0],\n",
    "    'HDF Results Available': [len(multi_2d_project.get_hdf_entries()) > 0, len(muncie_project.get_hdf_entries()) > 0]\n",
    "}\n",
    "\n",
    "comparison_df = pd.DataFrame(comparison_data)\n",
    "display.display(comparison_df)"
   ]
  },
  {
   "cell_type": "markdown",
   "metadata": {},
   "source": [
    "## RAS Commander: Best Practices\n",
    "\n",
    "After exploring both approaches, here are some best practices for using RAS Commander:\n",
    "\n",
    "1. **Choose Your Approach Based on Complexity**:\n",
    "   - **Simple Scripts** (one project): Use the global `ras` object\n",
    "   - **Complex Scripts** (multiple projects): Use custom RAS objects\n",
    "\n",
    "2. **Be Consistent**:\n",
    "   - Don't mix global and custom approaches in the same script\n",
    "   - Use descriptive names for custom RAS objects\n",
    "\n",
    "3. **Working with Project Files**:\n",
    "   - Access project files through the RAS object's DataFrames\n",
    "   - Use helper functions like `get_plan_path()` to resolve paths\n",
    "\n",
    "4. **Error Handling**:\n",
    "   - Always check for empty DataFrames before accessing their contents\n",
    "   - Use the built-in logging to track operations\n",
    "\n",
    "5. **Performance Considerations**:\n",
    "   - For large projects, consider using the HDF classes directly\n",
    "   - Cache results of expensive operations when possible\n",
    "\n",
    "## Summary of Key Functions\n",
    "\n",
    "- `init_ras_project(project_folder, ras_version)`: Initialize a RAS project\n",
    "- `RasExamples().extract_project(project_name)`: Extract example projects\n",
    "- `RasPrj.get_project_name()`: Get the name of the project\n",
    "- `RasPrj.get_plan_entries()`: Get plan file information\n",
    "- `RasPrj.get_flow_entries()`: Get flow file information\n",
    "- `RasPrj.get_unsteady_entries()`: Get unsteady flow file information\n",
    "- `RasPrj.get_geom_entries()`: Get geometry file information\n",
    "- `RasPrj.get_hdf_entries()`: Get HDF result file information\n",
    "- `RasPrj.get_boundary_conditions()`: Get boundary condition details\n",
    "- `RasPlan.get_plan_path(plan_number)`: Get the path to a plan file\n",
    "- `RasPlan.get_geom_path(geom_number)`: Get the path to a geometry file\n",
    "- `RasPlan.get_flow_path(flow_number)`: Get the path to a flow file\n",
    "- `RasPlan.get_unsteady_path(unsteady_number)`: Get the path to an unsteady flow file"
   ]
  },
  {
   "cell_type": "markdown",
   "metadata": {},
   "source": [
    "## Next Steps\n",
    "\n",
    "Now that you understand the basics of project initialization in RAS Commander, you can explore more advanced topics:\n",
    "\n",
    "1. Working with HDF files for result analysis\n",
    "2. Modifying plan, geometry, and flow files\n",
    "3. Running HEC-RAS simulations\n",
    "4. Extracting and visualizing results\n",
    "5. Automating model calibration\n",
    "\n",
    "These topics are covered in other examples and notebooks in the RAS Commander documentation."
   ]
  }
 ],
 "metadata": {
  "kernelspec": {
   "display_name": "cmdrpip4",
   "language": "python",
   "name": "python3"
  },
  "language_info": {
   "codemirror_mode": {
    "name": "ipython",
    "version": 3
   },
   "file_extension": ".py",
   "mimetype": "text/x-python",
   "name": "python",
   "nbconvert_exporter": "python",
   "pygments_lexer": "ipython3",
   "version": "3.12.9"
  }
 },
 "nbformat": 4,
 "nbformat_minor": 4
}
